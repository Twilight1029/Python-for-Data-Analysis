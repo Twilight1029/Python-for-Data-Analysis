{
  "nbformat": 4,
  "nbformat_minor": 0,
  "metadata": {
    "colab": {
      "name": "CH 12 Advanced Pandas.ipynb",
      "provenance": [],
      "collapsed_sections": [],
      "authorship_tag": "ABX9TyPjh3NiXOdWFxTeCtaKLkuF",
      "include_colab_link": true
    },
    "kernelspec": {
      "name": "python3",
      "display_name": "Python 3"
    }
  },
  "cells": [
    {
      "cell_type": "markdown",
      "metadata": {
        "id": "view-in-github",
        "colab_type": "text"
      },
      "source": [
        "<a href=\"https://colab.research.google.com/github/Twilight1029/Python-for-Data-Analysis/blob/main/CH_12_Advanced_Pandas.ipynb\" target=\"_parent\"><img src=\"https://colab.research.google.com/assets/colab-badge.svg\" alt=\"Open In Colab\"/></a>"
      ]
    },
    {
      "cell_type": "markdown",
      "metadata": {
        "id": "I-nc0F-NTF7_"
      },
      "source": [
        "# 12.1 Categorical Data"
      ]
    },
    {
      "cell_type": "markdown",
      "metadata": {
        "id": "-rAzGiVTTL1q"
      },
      "source": [
        "## Background and Motivation"
      ]
    },
    {
      "cell_type": "markdown",
      "metadata": {
        "id": "VB6aTALzTVe_"
      },
      "source": [
        "Frequently, a column in a table may contain repeated instances of a smaller set of dis‐ tinct values. We have already seen functions like **unique and value_counts**, which enable us to extract the distinct values from an array and compute their frequencies, respectively:"
      ]
    },
    {
      "cell_type": "code",
      "metadata": {
        "id": "vH3R2XzVS8lE"
      },
      "source": [
        "import numpy as np\n",
        "import pandas as pd"
      ],
      "execution_count": null,
      "outputs": []
    },
    {
      "cell_type": "code",
      "metadata": {
        "id": "3H6MngxdTYm6"
      },
      "source": [
        "values = pd.Series(['apple', 'orange', 'apple', 'apple'] * 2)"
      ],
      "execution_count": null,
      "outputs": []
    },
    {
      "cell_type": "code",
      "metadata": {
        "colab": {
          "base_uri": "https://localhost:8080/"
        },
        "id": "baA_W-5LTYpj",
        "outputId": "0be86b58-0262-4e89-df60-61f9341d2712"
      },
      "source": [
        "values"
      ],
      "execution_count": null,
      "outputs": [
        {
          "output_type": "execute_result",
          "data": {
            "text/plain": [
              "0     apple\n",
              "1    orange\n",
              "2     apple\n",
              "3     apple\n",
              "4     apple\n",
              "5    orange\n",
              "6     apple\n",
              "7     apple\n",
              "dtype: object"
            ]
          },
          "metadata": {
            "tags": []
          },
          "execution_count": 3
        }
      ]
    },
    {
      "cell_type": "code",
      "metadata": {
        "colab": {
          "base_uri": "https://localhost:8080/"
        },
        "id": "VQv3RSE6TYsE",
        "outputId": "9dd49039-0ffd-47f8-a2e8-54ee764c8d8e"
      },
      "source": [
        "pd.unique(values)"
      ],
      "execution_count": null,
      "outputs": [
        {
          "output_type": "execute_result",
          "data": {
            "text/plain": [
              "array(['apple', 'orange'], dtype=object)"
            ]
          },
          "metadata": {
            "tags": []
          },
          "execution_count": 4
        }
      ]
    },
    {
      "cell_type": "code",
      "metadata": {
        "colab": {
          "base_uri": "https://localhost:8080/"
        },
        "id": "pRuBRbr1TYux",
        "outputId": "0ddec86b-0de0-49c0-d08b-287bde8eb0d7"
      },
      "source": [
        "pd.value_counts(values)"
      ],
      "execution_count": null,
      "outputs": [
        {
          "output_type": "execute_result",
          "data": {
            "text/plain": [
              "apple     6\n",
              "orange    2\n",
              "dtype: int64"
            ]
          },
          "metadata": {
            "tags": []
          },
          "execution_count": 5
        }
      ]
    },
    {
      "cell_type": "markdown",
      "metadata": {
        "id": "hTbnQahITpXm"
      },
      "source": [
        "Use **dimension tables** containing the distinct values that storing the primary observations as integer keys referencing the dimension table"
      ]
    },
    {
      "cell_type": "code",
      "metadata": {
        "id": "HZhP68J_TYxe"
      },
      "source": [
        "values = pd.Series([0, 1, 0, 0] * 2)"
      ],
      "execution_count": null,
      "outputs": []
    },
    {
      "cell_type": "code",
      "metadata": {
        "id": "7dw7hnhXTY40"
      },
      "source": [
        "dim = pd.Series(['apple', 'orange'])"
      ],
      "execution_count": null,
      "outputs": []
    },
    {
      "cell_type": "code",
      "metadata": {
        "colab": {
          "base_uri": "https://localhost:8080/"
        },
        "id": "i9ooOPU8TY7f",
        "outputId": "1d9a0654-dd38-4d92-d5b4-a9ac747dbe0e"
      },
      "source": [
        "values"
      ],
      "execution_count": null,
      "outputs": [
        {
          "output_type": "execute_result",
          "data": {
            "text/plain": [
              "0    0\n",
              "1    1\n",
              "2    0\n",
              "3    0\n",
              "4    0\n",
              "5    1\n",
              "6    0\n",
              "7    0\n",
              "dtype: int64"
            ]
          },
          "metadata": {
            "tags": []
          },
          "execution_count": 8
        }
      ]
    },
    {
      "cell_type": "code",
      "metadata": {
        "colab": {
          "base_uri": "https://localhost:8080/"
        },
        "id": "P9-D7eLRTZBp",
        "outputId": "4abd99de-c7dd-4556-845c-a95f732d5c37"
      },
      "source": [
        "dim"
      ],
      "execution_count": null,
      "outputs": [
        {
          "output_type": "execute_result",
          "data": {
            "text/plain": [
              "0     apple\n",
              "1    orange\n",
              "dtype: object"
            ]
          },
          "metadata": {
            "tags": []
          },
          "execution_count": 9
        }
      ]
    },
    {
      "cell_type": "markdown",
      "metadata": {
        "id": "MiJ75AfbWk85"
      },
      "source": [
        "Use **take** method to restore the original Series of strings"
      ]
    },
    {
      "cell_type": "code",
      "metadata": {
        "colab": {
          "base_uri": "https://localhost:8080/"
        },
        "id": "VxmFL046TZGG",
        "outputId": "2d3a6bc7-fafb-4fbf-bba3-9b614272bc78"
      },
      "source": [
        "dim.take(values)"
      ],
      "execution_count": null,
      "outputs": [
        {
          "output_type": "execute_result",
          "data": {
            "text/plain": [
              "0     apple\n",
              "1    orange\n",
              "0     apple\n",
              "0     apple\n",
              "0     apple\n",
              "1    orange\n",
              "0     apple\n",
              "0     apple\n",
              "dtype: object"
            ]
          },
          "metadata": {
            "tags": []
          },
          "execution_count": 10
        }
      ]
    },
    {
      "cell_type": "markdown",
      "metadata": {
        "id": "j6a43fCHWxAW"
      },
      "source": [
        "This representation as integers is called **categorical or dictionary-encoded representation**. The array of distinct values can be called the **categories, dictionary, or levels of the data**. \n",
        "\n",
        "In this book we will use the terms **categorical and categories**. The integer values that reference the categories are called the **category codes or simply codes**."
      ]
    },
    {
      "cell_type": "markdown",
      "metadata": {
        "id": "gHmJRRUeW-Ln"
      },
      "source": [
        "The categorical representation can yield significant performance improvements when you are doing analytics. You can also perform transformations on the categories while leaving the codes unmodified. Some example transformations that can be made at relatively low cost are:\n",
        "* Renaming categories\n",
        "* Appending a new category without changing the order or position of the existing categories\n"
      ]
    },
    {
      "cell_type": "markdown",
      "metadata": {
        "id": "jPZ8N5ffXElS"
      },
      "source": [
        "## Categorical Type in pandas"
      ]
    },
    {
      "cell_type": "code",
      "metadata": {
        "id": "ihZXAo76TZV-"
      },
      "source": [
        "fruits = ['apple', 'orange', 'apple', 'apple'] * 2"
      ],
      "execution_count": null,
      "outputs": []
    },
    {
      "cell_type": "code",
      "metadata": {
        "id": "GnpNyltDTZZC"
      },
      "source": [
        "N = len(fruits)"
      ],
      "execution_count": null,
      "outputs": []
    },
    {
      "cell_type": "code",
      "metadata": {
        "id": "qZS-iyxyTZbx"
      },
      "source": [
        "df = pd.DataFrame({'fruit' : fruits,\n",
        "                   'basket_id' : np.arange(N),\n",
        "                   'count' : np.random.randint(3, 15, size = N),\n",
        "                   'weight' : np.random.uniform(0, 4, size = N)},\n",
        "                  columns = ['basket_id', 'fruit', 'count', 'weight'])"
      ],
      "execution_count": null,
      "outputs": []
    },
    {
      "cell_type": "code",
      "metadata": {
        "colab": {
          "base_uri": "https://localhost:8080/",
          "height": 297
        },
        "id": "-cTcP2TNTZeK",
        "outputId": "6eed1f9b-2f4f-4ee0-a4a9-849df91d92a5"
      },
      "source": [
        "df"
      ],
      "execution_count": null,
      "outputs": [
        {
          "output_type": "execute_result",
          "data": {
            "text/html": [
              "<div>\n",
              "<style scoped>\n",
              "    .dataframe tbody tr th:only-of-type {\n",
              "        vertical-align: middle;\n",
              "    }\n",
              "\n",
              "    .dataframe tbody tr th {\n",
              "        vertical-align: top;\n",
              "    }\n",
              "\n",
              "    .dataframe thead th {\n",
              "        text-align: right;\n",
              "    }\n",
              "</style>\n",
              "<table border=\"1\" class=\"dataframe\">\n",
              "  <thead>\n",
              "    <tr style=\"text-align: right;\">\n",
              "      <th></th>\n",
              "      <th>basket_id</th>\n",
              "      <th>fruit</th>\n",
              "      <th>count</th>\n",
              "      <th>weight</th>\n",
              "    </tr>\n",
              "  </thead>\n",
              "  <tbody>\n",
              "    <tr>\n",
              "      <th>0</th>\n",
              "      <td>0</td>\n",
              "      <td>apple</td>\n",
              "      <td>11</td>\n",
              "      <td>0.639480</td>\n",
              "    </tr>\n",
              "    <tr>\n",
              "      <th>1</th>\n",
              "      <td>1</td>\n",
              "      <td>orange</td>\n",
              "      <td>14</td>\n",
              "      <td>2.334785</td>\n",
              "    </tr>\n",
              "    <tr>\n",
              "      <th>2</th>\n",
              "      <td>2</td>\n",
              "      <td>apple</td>\n",
              "      <td>11</td>\n",
              "      <td>2.363651</td>\n",
              "    </tr>\n",
              "    <tr>\n",
              "      <th>3</th>\n",
              "      <td>3</td>\n",
              "      <td>apple</td>\n",
              "      <td>5</td>\n",
              "      <td>3.768436</td>\n",
              "    </tr>\n",
              "    <tr>\n",
              "      <th>4</th>\n",
              "      <td>4</td>\n",
              "      <td>apple</td>\n",
              "      <td>12</td>\n",
              "      <td>0.352024</td>\n",
              "    </tr>\n",
              "    <tr>\n",
              "      <th>5</th>\n",
              "      <td>5</td>\n",
              "      <td>orange</td>\n",
              "      <td>11</td>\n",
              "      <td>2.164150</td>\n",
              "    </tr>\n",
              "    <tr>\n",
              "      <th>6</th>\n",
              "      <td>6</td>\n",
              "      <td>apple</td>\n",
              "      <td>11</td>\n",
              "      <td>1.669961</td>\n",
              "    </tr>\n",
              "    <tr>\n",
              "      <th>7</th>\n",
              "      <td>7</td>\n",
              "      <td>apple</td>\n",
              "      <td>8</td>\n",
              "      <td>1.931560</td>\n",
              "    </tr>\n",
              "  </tbody>\n",
              "</table>\n",
              "</div>"
            ],
            "text/plain": [
              "   basket_id   fruit  count    weight\n",
              "0          0   apple     11  0.639480\n",
              "1          1  orange     14  2.334785\n",
              "2          2   apple     11  2.363651\n",
              "3          3   apple      5  3.768436\n",
              "4          4   apple     12  0.352024\n",
              "5          5  orange     11  2.164150\n",
              "6          6   apple     11  1.669961\n",
              "7          7   apple      8  1.931560"
            ]
          },
          "metadata": {
            "tags": []
          },
          "execution_count": 14
        }
      ]
    },
    {
      "cell_type": "code",
      "metadata": {
        "id": "g9-mPulkTZgy"
      },
      "source": [
        "# convert df.fruit to categorical by calling 'astype('category')'\n",
        "fruit_cat = df['fruit'].astype('category')"
      ],
      "execution_count": null,
      "outputs": []
    },
    {
      "cell_type": "code",
      "metadata": {
        "colab": {
          "base_uri": "https://localhost:8080/"
        },
        "id": "VCUNpvp6TZjV",
        "outputId": "d7f9368b-367e-4683-b638-aa2fd6702420"
      },
      "source": [
        "fruit_cat"
      ],
      "execution_count": null,
      "outputs": [
        {
          "output_type": "execute_result",
          "data": {
            "text/plain": [
              "0     apple\n",
              "1    orange\n",
              "2     apple\n",
              "3     apple\n",
              "4     apple\n",
              "5    orange\n",
              "6     apple\n",
              "7     apple\n",
              "Name: fruit, dtype: category\n",
              "Categories (2, object): ['apple', 'orange']"
            ]
          },
          "metadata": {
            "tags": []
          },
          "execution_count": 17
        }
      ]
    },
    {
      "cell_type": "code",
      "metadata": {
        "colab": {
          "base_uri": "https://localhost:8080/"
        },
        "id": "wGuTRQ-VTZmU",
        "outputId": "48919685-09d5-4e82-de7a-fb70b58a19ec"
      },
      "source": [
        "c = fruit_cat.values\n",
        "type(c)"
      ],
      "execution_count": null,
      "outputs": [
        {
          "output_type": "execute_result",
          "data": {
            "text/plain": [
              "pandas.core.arrays.categorical.Categorical"
            ]
          },
          "metadata": {
            "tags": []
          },
          "execution_count": 18
        }
      ]
    },
    {
      "cell_type": "code",
      "metadata": {
        "colab": {
          "base_uri": "https://localhost:8080/"
        },
        "id": "0OM-RUO8TZon",
        "outputId": "6b8bdb44-ce25-49dc-b163-386e59eb39ce"
      },
      "source": [
        "# Categorical object has categories and codes attributes\n",
        "c.categories"
      ],
      "execution_count": null,
      "outputs": [
        {
          "output_type": "execute_result",
          "data": {
            "text/plain": [
              "Index(['apple', 'orange'], dtype='object')"
            ]
          },
          "metadata": {
            "tags": []
          },
          "execution_count": 19
        }
      ]
    },
    {
      "cell_type": "code",
      "metadata": {
        "colab": {
          "base_uri": "https://localhost:8080/"
        },
        "id": "QvpouzSUTZrM",
        "outputId": "82bee6a2-4636-4f89-a5e5-a86c967545fe"
      },
      "source": [
        "c.codes"
      ],
      "execution_count": null,
      "outputs": [
        {
          "output_type": "execute_result",
          "data": {
            "text/plain": [
              "array([0, 1, 0, 0, 0, 1, 0, 0], dtype=int8)"
            ]
          },
          "metadata": {
            "tags": []
          },
          "execution_count": 20
        }
      ]
    },
    {
      "cell_type": "code",
      "metadata": {
        "id": "-3CTstWETZtm"
      },
      "source": [
        "# convert a DataFrame column to categorical by assigning the converted result\n",
        "df['fruit'] = df['fruit'].astype('category')"
      ],
      "execution_count": null,
      "outputs": []
    },
    {
      "cell_type": "code",
      "metadata": {
        "colab": {
          "base_uri": "https://localhost:8080/"
        },
        "id": "xmcFYJCsTZwB",
        "outputId": "81fe2349-98aa-49a4-887f-6d913454f5b8"
      },
      "source": [
        "df.fruit"
      ],
      "execution_count": null,
      "outputs": [
        {
          "output_type": "execute_result",
          "data": {
            "text/plain": [
              "0     apple\n",
              "1    orange\n",
              "2     apple\n",
              "3     apple\n",
              "4     apple\n",
              "5    orange\n",
              "6     apple\n",
              "7     apple\n",
              "Name: fruit, dtype: category\n",
              "Categories (2, object): ['apple', 'orange']"
            ]
          },
          "metadata": {
            "tags": []
          },
          "execution_count": 22
        }
      ]
    },
    {
      "cell_type": "markdown",
      "metadata": {
        "id": "noSibrpNYq3M"
      },
      "source": [
        "create **pandas.Categorical** directly from other types of Python sequences\n"
      ]
    },
    {
      "cell_type": "code",
      "metadata": {
        "id": "VpSO2paKTZyh"
      },
      "source": [
        "my_categories = pd.Categorical(['foo', 'bar', 'baz', 'foo', 'bar'])"
      ],
      "execution_count": null,
      "outputs": []
    },
    {
      "cell_type": "code",
      "metadata": {
        "colab": {
          "base_uri": "https://localhost:8080/"
        },
        "id": "c8WVD9i0TZ1B",
        "outputId": "389ac79e-a1a4-4f33-eced-fea9d556919e"
      },
      "source": [
        "my_categories"
      ],
      "execution_count": null,
      "outputs": [
        {
          "output_type": "execute_result",
          "data": {
            "text/plain": [
              "['foo', 'bar', 'baz', 'foo', 'bar']\n",
              "Categories (3, object): ['bar', 'baz', 'foo']"
            ]
          },
          "metadata": {
            "tags": []
          },
          "execution_count": 24
        }
      ]
    },
    {
      "cell_type": "markdown",
      "metadata": {
        "id": "fro647WeeQzs"
      },
      "source": [
        "Use **from_codes** constructor"
      ]
    },
    {
      "cell_type": "code",
      "metadata": {
        "id": "K8qdGMG4TZ3i"
      },
      "source": [
        "categories = ['foo', 'bar', 'baz'] "
      ],
      "execution_count": null,
      "outputs": []
    },
    {
      "cell_type": "code",
      "metadata": {
        "id": "Q8gs6diiTZ-N"
      },
      "source": [
        "codes = [0, 1, 2, 0, 0, 1]"
      ],
      "execution_count": null,
      "outputs": []
    },
    {
      "cell_type": "code",
      "metadata": {
        "id": "jAsPSIHjTaBU"
      },
      "source": [
        "my_cats_2 = pd.Categorical.from_codes(codes, categories)"
      ],
      "execution_count": null,
      "outputs": []
    },
    {
      "cell_type": "code",
      "metadata": {
        "colab": {
          "base_uri": "https://localhost:8080/"
        },
        "id": "X8VWvF3uTaEg",
        "outputId": "fe141683-a806-47cf-967f-bcd51a855336"
      },
      "source": [
        "my_cats_2"
      ],
      "execution_count": null,
      "outputs": [
        {
          "output_type": "execute_result",
          "data": {
            "text/plain": [
              "['foo', 'bar', 'baz', 'foo', 'foo', 'bar']\n",
              "Categories (3, object): ['foo', 'bar', 'baz']"
            ]
          },
          "metadata": {
            "tags": []
          },
          "execution_count": 28
        }
      ]
    },
    {
      "cell_type": "markdown",
      "metadata": {
        "id": "ezORplwkfDx3"
      },
      "source": [
        "Unless explicitly specified, categorical conversions **assume no specific ordering of the categories**. So the categories array may be in a different order depending on the ordering of the input data. When using from_codes or any of the other constructors, you can **indicate that the categories have a meaningful ordering**:\n"
      ]
    },
    {
      "cell_type": "code",
      "metadata": {
        "id": "IdtpziC9TaHK"
      },
      "source": [
        "ordered_cat = pd.Categorical.from_codes(codes, categories, \n",
        "                                        ordered = True)"
      ],
      "execution_count": null,
      "outputs": []
    },
    {
      "cell_type": "code",
      "metadata": {
        "colab": {
          "base_uri": "https://localhost:8080/"
        },
        "id": "ksMe287vTaJ-",
        "outputId": "1104c956-4dc8-4546-b4f5-961a48651f4d"
      },
      "source": [
        "ordered_cat \n",
        "# the output indicates that 'foo' precedes 'bar' in the ordering"
      ],
      "execution_count": null,
      "outputs": [
        {
          "output_type": "execute_result",
          "data": {
            "text/plain": [
              "['foo', 'bar', 'baz', 'foo', 'foo', 'bar']\n",
              "Categories (3, object): ['foo' < 'bar' < 'baz']"
            ]
          },
          "metadata": {
            "tags": []
          },
          "execution_count": 30
        }
      ]
    },
    {
      "cell_type": "markdown",
      "metadata": {
        "id": "EQ07bEaqgwGr"
      },
      "source": [
        "**as_ordered** can make an unordered categorical instance ordered"
      ]
    },
    {
      "cell_type": "code",
      "metadata": {
        "colab": {
          "base_uri": "https://localhost:8080/"
        },
        "id": "xye8zSi2TaM9",
        "outputId": "dd48a8ed-2114-4cb7-f981-1685f0211245"
      },
      "source": [
        "my_cats_2.as_ordered()"
      ],
      "execution_count": null,
      "outputs": [
        {
          "output_type": "execute_result",
          "data": {
            "text/plain": [
              "['foo', 'bar', 'baz', 'foo', 'foo', 'bar']\n",
              "Categories (3, object): ['foo' < 'bar' < 'baz']"
            ]
          },
          "metadata": {
            "tags": []
          },
          "execution_count": 31
        }
      ]
    },
    {
      "cell_type": "markdown",
      "metadata": {
        "id": "3Q2UNA52g9Mg"
      },
      "source": [
        "## Computations with Categiricals"
      ]
    },
    {
      "cell_type": "markdown",
      "metadata": {
        "id": "1sw_5HFMhDPW"
      },
      "source": [
        "Using Categorical in pandas compared with the non-encoded version (like an array of strings) generally behaves the same way. Some parts of pandas, like the groupby function, perform better when working with categoricals. There are also some func‐ tions that can utilize the ordered flag."
      ]
    },
    {
      "cell_type": "markdown",
      "metadata": {
        "id": "3f9l8cVrhJgs"
      },
      "source": [
        "Use **pandas.qcut** binning function to return pandas.Categorical."
      ]
    },
    {
      "cell_type": "code",
      "metadata": {
        "id": "3LYMYjlvTaQC"
      },
      "source": [
        "np.random.seed(12345)"
      ],
      "execution_count": null,
      "outputs": []
    },
    {
      "cell_type": "code",
      "metadata": {
        "id": "H4NE5Vh4hEZ6"
      },
      "source": [
        "draws = np.random.randn(1000)"
      ],
      "execution_count": null,
      "outputs": []
    },
    {
      "cell_type": "code",
      "metadata": {
        "colab": {
          "base_uri": "https://localhost:8080/"
        },
        "id": "DXkI5Gl0hEf1",
        "outputId": "b8dabaad-9dc2-487a-dbc3-9c385ba64db6"
      },
      "source": [
        "draws[:5]"
      ],
      "execution_count": null,
      "outputs": [
        {
          "output_type": "execute_result",
          "data": {
            "text/plain": [
              "array([-0.98350472,  0.93094376, -0.81167564, -1.83015626, -0.13873015])"
            ]
          },
          "metadata": {
            "tags": []
          },
          "execution_count": 36
        }
      ]
    },
    {
      "cell_type": "code",
      "metadata": {
        "id": "OVhA15c2hEj2"
      },
      "source": [
        "# compute a quartile binning of this data and extract some statistics\n",
        "bins = pd.qcut(draws, 4)"
      ],
      "execution_count": null,
      "outputs": []
    },
    {
      "cell_type": "code",
      "metadata": {
        "colab": {
          "base_uri": "https://localhost:8080/"
        },
        "id": "GOXRLH9_hEnH",
        "outputId": "f485d438-7d08-4789-8c11-b533e8de2638"
      },
      "source": [
        "bins"
      ],
      "execution_count": null,
      "outputs": [
        {
          "output_type": "execute_result",
          "data": {
            "text/plain": [
              "[(-3.746, -0.623], (0.677, 3.26], (-3.746, -0.623], (-3.746, -0.623], (-0.623, -0.0206], ..., (-3.746, -0.623], (-0.623, -0.0206], (-0.623, -0.0206], (-3.746, -0.623], (0.677, 3.26]]\n",
              "Length: 1000\n",
              "Categories (4, interval[float64]): [(-3.746, -0.623] < (-0.623, -0.0206] < (-0.0206, 0.677] <\n",
              "                                    (0.677, 3.26]]"
            ]
          },
          "metadata": {
            "tags": []
          },
          "execution_count": 38
        }
      ]
    },
    {
      "cell_type": "code",
      "metadata": {
        "id": "OfecATRmhEpq"
      },
      "source": [
        "# labels argument in qcut\n",
        "bins = pd.qcut(draws, 4, labels=['Q1', 'Q2', 'Q3', 'Q4'])"
      ],
      "execution_count": null,
      "outputs": []
    },
    {
      "cell_type": "code",
      "metadata": {
        "colab": {
          "base_uri": "https://localhost:8080/"
        },
        "id": "7XTyj55AhEyp",
        "outputId": "244c6041-441c-48bf-bfd7-1d3835384097"
      },
      "source": [
        "bins"
      ],
      "execution_count": null,
      "outputs": [
        {
          "output_type": "execute_result",
          "data": {
            "text/plain": [
              "['Q1', 'Q4', 'Q1', 'Q1', 'Q2', ..., 'Q1', 'Q2', 'Q2', 'Q1', 'Q4']\n",
              "Length: 1000\n",
              "Categories (4, object): ['Q1' < 'Q2' < 'Q3' < 'Q4']"
            ]
          },
          "metadata": {
            "tags": []
          },
          "execution_count": 46
        }
      ]
    },
    {
      "cell_type": "code",
      "metadata": {
        "colab": {
          "base_uri": "https://localhost:8080/"
        },
        "id": "brRzz9ohhE1f",
        "outputId": "568db551-e00f-499f-ee17-deb4a7039775"
      },
      "source": [
        "bins.codes[:10]"
      ],
      "execution_count": null,
      "outputs": [
        {
          "output_type": "execute_result",
          "data": {
            "text/plain": [
              "array([0, 3, 0, 0, 1, 2, 2, 1, 3, 2], dtype=int8)"
            ]
          },
          "metadata": {
            "tags": []
          },
          "execution_count": 47
        }
      ]
    },
    {
      "cell_type": "code",
      "metadata": {
        "id": "v9CHl0HdhE4k"
      },
      "source": [
        "# use groupby to extract some summary statistics\n",
        "bins = pd.Series(bins, name = 'quartile')"
      ],
      "execution_count": null,
      "outputs": []
    },
    {
      "cell_type": "code",
      "metadata": {
        "id": "SHvsoIwuhFBB"
      },
      "source": [
        "results = (pd.Series(draws)\\\n",
        "           .groupby(bins)\\\n",
        "           .agg(['count', 'min', 'max'])\\\n",
        "           .reset_index())"
      ],
      "execution_count": null,
      "outputs": []
    },
    {
      "cell_type": "code",
      "metadata": {
        "colab": {
          "base_uri": "https://localhost:8080/",
          "height": 173
        },
        "id": "rpJ408fmhFEP",
        "outputId": "40ba2ee5-d460-49c3-9170-c4ede9b89324"
      },
      "source": [
        "results"
      ],
      "execution_count": null,
      "outputs": [
        {
          "output_type": "execute_result",
          "data": {
            "text/html": [
              "<div>\n",
              "<style scoped>\n",
              "    .dataframe tbody tr th:only-of-type {\n",
              "        vertical-align: middle;\n",
              "    }\n",
              "\n",
              "    .dataframe tbody tr th {\n",
              "        vertical-align: top;\n",
              "    }\n",
              "\n",
              "    .dataframe thead th {\n",
              "        text-align: right;\n",
              "    }\n",
              "</style>\n",
              "<table border=\"1\" class=\"dataframe\">\n",
              "  <thead>\n",
              "    <tr style=\"text-align: right;\">\n",
              "      <th></th>\n",
              "      <th>quartile</th>\n",
              "      <th>count</th>\n",
              "      <th>min</th>\n",
              "      <th>max</th>\n",
              "    </tr>\n",
              "  </thead>\n",
              "  <tbody>\n",
              "    <tr>\n",
              "      <th>0</th>\n",
              "      <td>Q1</td>\n",
              "      <td>250</td>\n",
              "      <td>-3.745356</td>\n",
              "      <td>-0.627426</td>\n",
              "    </tr>\n",
              "    <tr>\n",
              "      <th>1</th>\n",
              "      <td>Q2</td>\n",
              "      <td>250</td>\n",
              "      <td>-0.621249</td>\n",
              "      <td>-0.021299</td>\n",
              "    </tr>\n",
              "    <tr>\n",
              "      <th>2</th>\n",
              "      <td>Q3</td>\n",
              "      <td>250</td>\n",
              "      <td>-0.019941</td>\n",
              "      <td>0.677246</td>\n",
              "    </tr>\n",
              "    <tr>\n",
              "      <th>3</th>\n",
              "      <td>Q4</td>\n",
              "      <td>250</td>\n",
              "      <td>0.677263</td>\n",
              "      <td>3.260383</td>\n",
              "    </tr>\n",
              "  </tbody>\n",
              "</table>\n",
              "</div>"
            ],
            "text/plain": [
              "  quartile  count       min       max\n",
              "0       Q1    250 -3.745356 -0.627426\n",
              "1       Q2    250 -0.621249 -0.021299\n",
              "2       Q3    250 -0.019941  0.677246\n",
              "3       Q4    250  0.677263  3.260383"
            ]
          },
          "metadata": {
            "tags": []
          },
          "execution_count": 54
        }
      ]
    },
    {
      "cell_type": "markdown",
      "metadata": {
        "id": "k0N8-h1ljXoH"
      },
      "source": [
        "## Better performance with categoricals"
      ]
    },
    {
      "cell_type": "markdown",
      "metadata": {
        "id": "67cDMqvPjdWw"
      },
      "source": [
        "If you do a lot of analytics on a particular dataset, converting to categorical can yield substantial overall performance gains. \n",
        "\n",
        "A categorical version of a DataFrame column will often use significantly less memory, too."
      ]
    },
    {
      "cell_type": "code",
      "metadata": {
        "id": "sLJZbHB9hFG4"
      },
      "source": [
        "N = 100000000"
      ],
      "execution_count": null,
      "outputs": []
    },
    {
      "cell_type": "code",
      "metadata": {
        "id": "--1dTH62hFM4"
      },
      "source": [
        "draws = pd.Series(np.random.randn(N))"
      ],
      "execution_count": null,
      "outputs": []
    },
    {
      "cell_type": "code",
      "metadata": {
        "id": "b_qw8Y10hFP6"
      },
      "source": [
        "labels = pd.Series(['foo', 'bar', 'baz', 'qux'] * (N // 4))"
      ],
      "execution_count": null,
      "outputs": []
    },
    {
      "cell_type": "code",
      "metadata": {
        "id": "VYEdGMewhFTY"
      },
      "source": [
        "# convert labels to categorical\n",
        "categories = labels.astype('category')"
      ],
      "execution_count": null,
      "outputs": []
    },
    {
      "cell_type": "markdown",
      "metadata": {
        "id": "ujrcbF35j3iQ"
      },
      "source": [
        "Series uses significantly more memory than categories"
      ]
    },
    {
      "cell_type": "code",
      "metadata": {
        "colab": {
          "base_uri": "https://localhost:8080/"
        },
        "id": "XdzHIJ_chFWH",
        "outputId": "b0f9836a-5b54-4f64-dc44-0be32cc94588"
      },
      "source": [
        "labels.memory_usage()"
      ],
      "execution_count": null,
      "outputs": [
        {
          "output_type": "execute_result",
          "data": {
            "text/plain": [
              "800000128"
            ]
          },
          "metadata": {
            "tags": []
          },
          "execution_count": 59
        }
      ]
    },
    {
      "cell_type": "code",
      "metadata": {
        "colab": {
          "base_uri": "https://localhost:8080/"
        },
        "id": "30d2qej7hFfd",
        "outputId": "f2a8ad86-7133-4165-a278-ba0747e1131e"
      },
      "source": [
        "categories.memory_usage()"
      ],
      "execution_count": null,
      "outputs": [
        {
          "output_type": "execute_result",
          "data": {
            "text/plain": [
              "100000320"
            ]
          },
          "metadata": {
            "tags": []
          },
          "execution_count": 60
        }
      ]
    },
    {
      "cell_type": "code",
      "metadata": {
        "colab": {
          "base_uri": "https://localhost:8080/"
        },
        "id": "Mqh_3699hFiv",
        "outputId": "fceccb5c-b3a6-406e-8712-c50903a11dba"
      },
      "source": [
        "# The conversion to category is not free, but it's a one-time cost\n",
        "%time_ = labels.astype('category')"
      ],
      "execution_count": null,
      "outputs": [
        {
          "output_type": "stream",
          "text": [
            "UsageError: Line magic function `%time_` not found.\n"
          ],
          "name": "stderr"
        }
      ]
    },
    {
      "cell_type": "markdown",
      "metadata": {
        "id": "jA0OwmlKkoki"
      },
      "source": [
        "## Categorical Methods"
      ]
    },
    {
      "cell_type": "markdown",
      "metadata": {
        "id": "gf0DZGh5kwLz"
      },
      "source": [
        "Series containing categorical data have several special methods similar to the Series.str specialized string methods. This also provides convenient access to the categories and codes"
      ]
    },
    {
      "cell_type": "code",
      "metadata": {
        "id": "gctFvMFshFl8"
      },
      "source": [
        "s = pd.Series(['a', 'b', 'c', 'd'] * 2)"
      ],
      "execution_count": null,
      "outputs": []
    },
    {
      "cell_type": "code",
      "metadata": {
        "id": "DJvIFnOJhFxi"
      },
      "source": [
        "cat_s = s.astype('category')"
      ],
      "execution_count": null,
      "outputs": []
    },
    {
      "cell_type": "code",
      "metadata": {
        "colab": {
          "base_uri": "https://localhost:8080/"
        },
        "id": "3-gcwNDJhF34",
        "outputId": "de4ffd3b-0361-4f9a-f322-4cdc6c814882"
      },
      "source": [
        "cat_s"
      ],
      "execution_count": null,
      "outputs": [
        {
          "output_type": "execute_result",
          "data": {
            "text/plain": [
              "0    a\n",
              "1    b\n",
              "2    c\n",
              "3    d\n",
              "4    a\n",
              "5    b\n",
              "6    c\n",
              "7    d\n",
              "dtype: category\n",
              "Categories (4, object): ['a', 'b', 'c', 'd']"
            ]
          },
          "metadata": {
            "tags": []
          },
          "execution_count": 69
        }
      ]
    },
    {
      "cell_type": "code",
      "metadata": {
        "colab": {
          "base_uri": "https://localhost:8080/"
        },
        "id": "bKdIRIXjhF77",
        "outputId": "535361ab-8c36-42fc-9692-1d312fbd649a"
      },
      "source": [
        "# special attribute cat provides access to categorical methods\n",
        "cat_s.cat.codes"
      ],
      "execution_count": null,
      "outputs": [
        {
          "output_type": "execute_result",
          "data": {
            "text/plain": [
              "0    0\n",
              "1    1\n",
              "2    2\n",
              "3    3\n",
              "4    0\n",
              "5    1\n",
              "6    2\n",
              "7    3\n",
              "dtype: int8"
            ]
          },
          "metadata": {
            "tags": []
          },
          "execution_count": 70
        }
      ]
    },
    {
      "cell_type": "markdown",
      "metadata": {
        "id": "jEmx2zrjliUc"
      },
      "source": [
        "Use **set_categories** method to change the set of categories"
      ]
    },
    {
      "cell_type": "code",
      "metadata": {
        "id": "JvVd3JwIhGCU"
      },
      "source": [
        "actual_categories = ['a', 'b', 'c', 'd', 'e']"
      ],
      "execution_count": null,
      "outputs": []
    },
    {
      "cell_type": "code",
      "metadata": {
        "id": "lGpPZajPhGGF"
      },
      "source": [
        "cat_s2 = cat_s.cat.set_categories(actual_categories)"
      ],
      "execution_count": null,
      "outputs": []
    },
    {
      "cell_type": "code",
      "metadata": {
        "colab": {
          "base_uri": "https://localhost:8080/"
        },
        "id": "FUPnhI2phGJr",
        "outputId": "4473afaa-c3d9-46da-9ff7-5bd85615f9ef"
      },
      "source": [
        "cat_s2"
      ],
      "execution_count": null,
      "outputs": [
        {
          "output_type": "execute_result",
          "data": {
            "text/plain": [
              "0    a\n",
              "1    b\n",
              "2    c\n",
              "3    d\n",
              "4    a\n",
              "5    b\n",
              "6    c\n",
              "7    d\n",
              "dtype: category\n",
              "Categories (5, object): ['a', 'b', 'c', 'd', 'e']"
            ]
          },
          "metadata": {
            "tags": []
          },
          "execution_count": 73
        }
      ]
    },
    {
      "cell_type": "markdown",
      "metadata": {
        "id": "VkGOFWudmBUk"
      },
      "source": [
        "**value_counts** to count the categories"
      ]
    },
    {
      "cell_type": "code",
      "metadata": {
        "colab": {
          "base_uri": "https://localhost:8080/"
        },
        "id": "wyKH_8e8hGSy",
        "outputId": "515a109d-831c-464f-b018-8d9efc9bc491"
      },
      "source": [
        "cat_s.value_counts()"
      ],
      "execution_count": null,
      "outputs": [
        {
          "output_type": "execute_result",
          "data": {
            "text/plain": [
              "d    2\n",
              "c    2\n",
              "b    2\n",
              "a    2\n",
              "dtype: int64"
            ]
          },
          "metadata": {
            "tags": []
          },
          "execution_count": 74
        }
      ]
    },
    {
      "cell_type": "code",
      "metadata": {
        "colab": {
          "base_uri": "https://localhost:8080/"
        },
        "id": "2MvqCjRDhGWG",
        "outputId": "744ed55b-bff9-4d54-f7d3-0bed4fae592b"
      },
      "source": [
        "cat_s2.value_counts()"
      ],
      "execution_count": null,
      "outputs": [
        {
          "output_type": "execute_result",
          "data": {
            "text/plain": [
              "d    2\n",
              "c    2\n",
              "b    2\n",
              "a    2\n",
              "e    0\n",
              "dtype: int64"
            ]
          },
          "metadata": {
            "tags": []
          },
          "execution_count": 75
        }
      ]
    },
    {
      "cell_type": "markdown",
      "metadata": {
        "id": "KgPhjniCmRhV"
      },
      "source": [
        "In large datasets, categoricals are often used as a convenient tool for memory savings and better performance. \n",
        "\n",
        "After you filter a large DataFrame or Series, many of the categories may not appear in the data. To help with this, we can **use the remove_unused_categories method to trim unobserved categories:**"
      ]
    },
    {
      "cell_type": "code",
      "metadata": {
        "id": "f-eY3cFJhGab"
      },
      "source": [
        "cat_s3 = cat_s[cat_s.isin(['a', 'b'])]"
      ],
      "execution_count": null,
      "outputs": []
    },
    {
      "cell_type": "code",
      "metadata": {
        "colab": {
          "base_uri": "https://localhost:8080/"
        },
        "id": "H7TTjWwThGc6",
        "outputId": "cfb7ed11-10af-4dbc-8bfe-0a5143931596"
      },
      "source": [
        "cat_s3"
      ],
      "execution_count": null,
      "outputs": [
        {
          "output_type": "execute_result",
          "data": {
            "text/plain": [
              "0    a\n",
              "1    b\n",
              "4    a\n",
              "5    b\n",
              "dtype: category\n",
              "Categories (4, object): ['a', 'b', 'c', 'd']"
            ]
          },
          "metadata": {
            "tags": []
          },
          "execution_count": 77
        }
      ]
    },
    {
      "cell_type": "code",
      "metadata": {
        "colab": {
          "base_uri": "https://localhost:8080/"
        },
        "id": "4ptMykrghGji",
        "outputId": "caee7bd5-a418-4486-8b40-abae3b00c36b"
      },
      "source": [
        "cat_s3.cat.remove_unused_categories()"
      ],
      "execution_count": null,
      "outputs": [
        {
          "output_type": "execute_result",
          "data": {
            "text/plain": [
              "0    a\n",
              "1    b\n",
              "4    a\n",
              "5    b\n",
              "dtype: category\n",
              "Categories (2, object): ['a', 'b']"
            ]
          },
          "metadata": {
            "tags": []
          },
          "execution_count": 78
        }
      ]
    },
    {
      "cell_type": "markdown",
      "metadata": {
        "id": "SBg-1Ag6nIYL"
      },
      "source": [
        "![image.png](data:image/png;base64,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)"
      ]
    },
    {
      "cell_type": "markdown",
      "metadata": {
        "id": "xM1A8qzLnMh9"
      },
      "source": [
        "## Creating dummy variables for modeling"
      ]
    },
    {
      "cell_type": "markdown",
      "metadata": {
        "id": "58nMvOUqniyt"
      },
      "source": [
        "When you’re using statistics or machine learning tools, you’ll often transform catego‐ rical data into dummy variables, also known as **one-hot encoding**. This involves creating a DataFrame with a column for each distinct category; these columns contain 1s for occurrences of a given category and 0 otherwise."
      ]
    },
    {
      "cell_type": "code",
      "metadata": {
        "id": "7m-cnArgnKUk"
      },
      "source": [
        "cat_s = pd.Series(['a', 'b', 'c', 'd'] * 2, dtype = 'category')"
      ],
      "execution_count": null,
      "outputs": []
    },
    {
      "cell_type": "markdown",
      "metadata": {
        "id": "4v7o_BVun1N6"
      },
      "source": [
        "**pandas.get_dummies** function converts the one-dimensional categorical data into a DataFrame containing the dummy variable"
      ]
    },
    {
      "cell_type": "code",
      "metadata": {
        "colab": {
          "base_uri": "https://localhost:8080/",
          "height": 297
        },
        "id": "NblUnW5dnKYC",
        "outputId": "93ee3bde-f1b0-448e-a5d4-42394fd909ec"
      },
      "source": [
        "pd.get_dummies(cat_s)"
      ],
      "execution_count": null,
      "outputs": [
        {
          "output_type": "execute_result",
          "data": {
            "text/html": [
              "<div>\n",
              "<style scoped>\n",
              "    .dataframe tbody tr th:only-of-type {\n",
              "        vertical-align: middle;\n",
              "    }\n",
              "\n",
              "    .dataframe tbody tr th {\n",
              "        vertical-align: top;\n",
              "    }\n",
              "\n",
              "    .dataframe thead th {\n",
              "        text-align: right;\n",
              "    }\n",
              "</style>\n",
              "<table border=\"1\" class=\"dataframe\">\n",
              "  <thead>\n",
              "    <tr style=\"text-align: right;\">\n",
              "      <th></th>\n",
              "      <th>a</th>\n",
              "      <th>b</th>\n",
              "      <th>c</th>\n",
              "      <th>d</th>\n",
              "    </tr>\n",
              "  </thead>\n",
              "  <tbody>\n",
              "    <tr>\n",
              "      <th>0</th>\n",
              "      <td>1</td>\n",
              "      <td>0</td>\n",
              "      <td>0</td>\n",
              "      <td>0</td>\n",
              "    </tr>\n",
              "    <tr>\n",
              "      <th>1</th>\n",
              "      <td>0</td>\n",
              "      <td>1</td>\n",
              "      <td>0</td>\n",
              "      <td>0</td>\n",
              "    </tr>\n",
              "    <tr>\n",
              "      <th>2</th>\n",
              "      <td>0</td>\n",
              "      <td>0</td>\n",
              "      <td>1</td>\n",
              "      <td>0</td>\n",
              "    </tr>\n",
              "    <tr>\n",
              "      <th>3</th>\n",
              "      <td>0</td>\n",
              "      <td>0</td>\n",
              "      <td>0</td>\n",
              "      <td>1</td>\n",
              "    </tr>\n",
              "    <tr>\n",
              "      <th>4</th>\n",
              "      <td>1</td>\n",
              "      <td>0</td>\n",
              "      <td>0</td>\n",
              "      <td>0</td>\n",
              "    </tr>\n",
              "    <tr>\n",
              "      <th>5</th>\n",
              "      <td>0</td>\n",
              "      <td>1</td>\n",
              "      <td>0</td>\n",
              "      <td>0</td>\n",
              "    </tr>\n",
              "    <tr>\n",
              "      <th>6</th>\n",
              "      <td>0</td>\n",
              "      <td>0</td>\n",
              "      <td>1</td>\n",
              "      <td>0</td>\n",
              "    </tr>\n",
              "    <tr>\n",
              "      <th>7</th>\n",
              "      <td>0</td>\n",
              "      <td>0</td>\n",
              "      <td>0</td>\n",
              "      <td>1</td>\n",
              "    </tr>\n",
              "  </tbody>\n",
              "</table>\n",
              "</div>"
            ],
            "text/plain": [
              "   a  b  c  d\n",
              "0  1  0  0  0\n",
              "1  0  1  0  0\n",
              "2  0  0  1  0\n",
              "3  0  0  0  1\n",
              "4  1  0  0  0\n",
              "5  0  1  0  0\n",
              "6  0  0  1  0\n",
              "7  0  0  0  1"
            ]
          },
          "metadata": {
            "tags": []
          },
          "execution_count": 80
        }
      ]
    },
    {
      "cell_type": "markdown",
      "metadata": {
        "id": "XzFWKb88oD86"
      },
      "source": [
        "# 12.2 Advanced GroupBy Use"
      ]
    },
    {
      "cell_type": "markdown",
      "metadata": {
        "id": "fyowKc3qoKX6"
      },
      "source": [
        "## Group Transforms and \"Unwrapped\" GroupBys"
      ]
    },
    {
      "cell_type": "markdown",
      "metadata": {
        "id": "2I2zRocloXUk"
      },
      "source": [
        "**transorm** method is similar to apply but imposes more constraints on the kind of funcion you can use:\n",
        "* It can produce a scalar value to be broadcast to the shape of the group\n",
        "* It can produce an object of the same shape as the input group\n",
        "* It must not mutate its input"
      ]
    },
    {
      "cell_type": "code",
      "metadata": {
        "id": "FMNX02_xnKaZ"
      },
      "source": [
        "df = pd.DataFrame({'key' : ['a', 'b', 'c'] * 4,\n",
        "                   'value' : np.arange(12.)})"
      ],
      "execution_count": null,
      "outputs": []
    },
    {
      "cell_type": "code",
      "metadata": {
        "colab": {
          "base_uri": "https://localhost:8080/",
          "height": 421
        },
        "id": "43_TqxbvnKcs",
        "outputId": "d186c908-0b3b-4e80-c3d8-33a1dcb7e23d"
      },
      "source": [
        "df"
      ],
      "execution_count": null,
      "outputs": [
        {
          "output_type": "execute_result",
          "data": {
            "text/html": [
              "<div>\n",
              "<style scoped>\n",
              "    .dataframe tbody tr th:only-of-type {\n",
              "        vertical-align: middle;\n",
              "    }\n",
              "\n",
              "    .dataframe tbody tr th {\n",
              "        vertical-align: top;\n",
              "    }\n",
              "\n",
              "    .dataframe thead th {\n",
              "        text-align: right;\n",
              "    }\n",
              "</style>\n",
              "<table border=\"1\" class=\"dataframe\">\n",
              "  <thead>\n",
              "    <tr style=\"text-align: right;\">\n",
              "      <th></th>\n",
              "      <th>key</th>\n",
              "      <th>value</th>\n",
              "    </tr>\n",
              "  </thead>\n",
              "  <tbody>\n",
              "    <tr>\n",
              "      <th>0</th>\n",
              "      <td>a</td>\n",
              "      <td>0.0</td>\n",
              "    </tr>\n",
              "    <tr>\n",
              "      <th>1</th>\n",
              "      <td>b</td>\n",
              "      <td>1.0</td>\n",
              "    </tr>\n",
              "    <tr>\n",
              "      <th>2</th>\n",
              "      <td>c</td>\n",
              "      <td>2.0</td>\n",
              "    </tr>\n",
              "    <tr>\n",
              "      <th>3</th>\n",
              "      <td>a</td>\n",
              "      <td>3.0</td>\n",
              "    </tr>\n",
              "    <tr>\n",
              "      <th>4</th>\n",
              "      <td>b</td>\n",
              "      <td>4.0</td>\n",
              "    </tr>\n",
              "    <tr>\n",
              "      <th>5</th>\n",
              "      <td>c</td>\n",
              "      <td>5.0</td>\n",
              "    </tr>\n",
              "    <tr>\n",
              "      <th>6</th>\n",
              "      <td>a</td>\n",
              "      <td>6.0</td>\n",
              "    </tr>\n",
              "    <tr>\n",
              "      <th>7</th>\n",
              "      <td>b</td>\n",
              "      <td>7.0</td>\n",
              "    </tr>\n",
              "    <tr>\n",
              "      <th>8</th>\n",
              "      <td>c</td>\n",
              "      <td>8.0</td>\n",
              "    </tr>\n",
              "    <tr>\n",
              "      <th>9</th>\n",
              "      <td>a</td>\n",
              "      <td>9.0</td>\n",
              "    </tr>\n",
              "    <tr>\n",
              "      <th>10</th>\n",
              "      <td>b</td>\n",
              "      <td>10.0</td>\n",
              "    </tr>\n",
              "    <tr>\n",
              "      <th>11</th>\n",
              "      <td>c</td>\n",
              "      <td>11.0</td>\n",
              "    </tr>\n",
              "  </tbody>\n",
              "</table>\n",
              "</div>"
            ],
            "text/plain": [
              "   key  value\n",
              "0    a    0.0\n",
              "1    b    1.0\n",
              "2    c    2.0\n",
              "3    a    3.0\n",
              "4    b    4.0\n",
              "5    c    5.0\n",
              "6    a    6.0\n",
              "7    b    7.0\n",
              "8    c    8.0\n",
              "9    a    9.0\n",
              "10   b   10.0\n",
              "11   c   11.0"
            ]
          },
          "metadata": {
            "tags": []
          },
          "execution_count": 82
        }
      ]
    },
    {
      "cell_type": "code",
      "metadata": {
        "id": "Sn0wD-aNnKf1"
      },
      "source": [
        "# get the group means by key\n",
        "g = df.groupby('key').value"
      ],
      "execution_count": null,
      "outputs": []
    },
    {
      "cell_type": "code",
      "metadata": {
        "colab": {
          "base_uri": "https://localhost:8080/"
        },
        "id": "cZmHSeoKnKj7",
        "outputId": "dc181747-6422-44b8-a932-098f0daf6ac0"
      },
      "source": [
        "g.mean()"
      ],
      "execution_count": null,
      "outputs": [
        {
          "output_type": "execute_result",
          "data": {
            "text/plain": [
              "key\n",
              "a    4.5\n",
              "b    5.5\n",
              "c    6.5\n",
              "Name: value, dtype: float64"
            ]
          },
          "metadata": {
            "tags": []
          },
          "execution_count": 84
        }
      ]
    },
    {
      "cell_type": "code",
      "metadata": {
        "colab": {
          "base_uri": "https://localhost:8080/"
        },
        "id": "CF5BpSZAnKv3",
        "outputId": "c383232e-1690-49db-888d-4e0aa83a3701"
      },
      "source": [
        "# we want to produce a Series of the same shape as df['value]\n",
        "# but with values replaced by the average gouped by 'key'\n",
        "g.transform(lambda x : x.mean()) # use lambda in transform, similar as apply"
      ],
      "execution_count": null,
      "outputs": [
        {
          "output_type": "execute_result",
          "data": {
            "text/plain": [
              "0     4.5\n",
              "1     5.5\n",
              "2     6.5\n",
              "3     4.5\n",
              "4     5.5\n",
              "5     6.5\n",
              "6     4.5\n",
              "7     5.5\n",
              "8     6.5\n",
              "9     4.5\n",
              "10    5.5\n",
              "11    6.5\n",
              "Name: value, dtype: float64"
            ]
          },
          "metadata": {
            "tags": []
          },
          "execution_count": 85
        }
      ]
    },
    {
      "cell_type": "code",
      "metadata": {
        "colab": {
          "base_uri": "https://localhost:8080/"
        },
        "id": "6GOgdH3ynK3a",
        "outputId": "d74597d3-d518-4972-c540-b04b0ac38d2b"
      },
      "source": [
        "# pass a string alias in the transform method\n",
        "# it's a built-in aggregation function\n",
        "g.transform('mean')"
      ],
      "execution_count": null,
      "outputs": [
        {
          "output_type": "execute_result",
          "data": {
            "text/plain": [
              "0     4.5\n",
              "1     5.5\n",
              "2     6.5\n",
              "3     4.5\n",
              "4     5.5\n",
              "5     6.5\n",
              "6     4.5\n",
              "7     5.5\n",
              "8     6.5\n",
              "9     4.5\n",
              "10    5.5\n",
              "11    6.5\n",
              "Name: value, dtype: float64"
            ]
          },
          "metadata": {
            "tags": []
          },
          "execution_count": 86
        }
      ]
    },
    {
      "cell_type": "markdown",
      "metadata": {
        "id": "ig2ytz8vqS6O"
      },
      "source": [
        "Like apply, transform works with functions that return Series, but the result must be the same size as the input"
      ]
    },
    {
      "cell_type": "code",
      "metadata": {
        "colab": {
          "base_uri": "https://localhost:8080/"
        },
        "id": "mIkXc3txnLC1",
        "outputId": "a9d92548-4a26-4755-da3f-139e66163869"
      },
      "source": [
        "g.transform(lambda x : x * 2)"
      ],
      "execution_count": null,
      "outputs": [
        {
          "output_type": "execute_result",
          "data": {
            "text/plain": [
              "0      0.0\n",
              "1      2.0\n",
              "2      4.0\n",
              "3      6.0\n",
              "4      8.0\n",
              "5     10.0\n",
              "6     12.0\n",
              "7     14.0\n",
              "8     16.0\n",
              "9     18.0\n",
              "10    20.0\n",
              "11    22.0\n",
              "Name: value, dtype: float64"
            ]
          },
          "metadata": {
            "tags": []
          },
          "execution_count": 87
        }
      ]
    },
    {
      "cell_type": "code",
      "metadata": {
        "colab": {
          "base_uri": "https://localhost:8080/"
        },
        "id": "XXHF0r3BnLKK",
        "outputId": "4ec8c2e5-4bb0-4b4c-bd3b-40af948d8d8d"
      },
      "source": [
        "# compute the ranks in descending order for each group\n",
        "g.transform(lambda x : x.rank(ascending = False))"
      ],
      "execution_count": null,
      "outputs": [
        {
          "output_type": "execute_result",
          "data": {
            "text/plain": [
              "0     4.0\n",
              "1     4.0\n",
              "2     4.0\n",
              "3     3.0\n",
              "4     3.0\n",
              "5     3.0\n",
              "6     2.0\n",
              "7     2.0\n",
              "8     2.0\n",
              "9     1.0\n",
              "10    1.0\n",
              "11    1.0\n",
              "Name: value, dtype: float64"
            ]
          },
          "metadata": {
            "tags": []
          },
          "execution_count": 88
        }
      ]
    },
    {
      "cell_type": "markdown",
      "metadata": {
        "id": "Jvqqk4J6q5Xd"
      },
      "source": [
        "Consider a group transformation function composed from simple aggregations"
      ]
    },
    {
      "cell_type": "code",
      "metadata": {
        "id": "-sHdHNP_nLM3"
      },
      "source": [
        "def normalize(x):\n",
        "  return (x - x.mean()) / x.std()"
      ],
      "execution_count": null,
      "outputs": []
    },
    {
      "cell_type": "code",
      "metadata": {
        "colab": {
          "base_uri": "https://localhost:8080/"
        },
        "id": "3j3tZakenLPn",
        "outputId": "5a75db4d-d275-4dbd-ee6b-e248bbe243b4"
      },
      "source": [
        "g.transform(normalize)"
      ],
      "execution_count": null,
      "outputs": [
        {
          "output_type": "execute_result",
          "data": {
            "text/plain": [
              "0    -1.161895\n",
              "1    -1.161895\n",
              "2    -1.161895\n",
              "3    -0.387298\n",
              "4    -0.387298\n",
              "5    -0.387298\n",
              "6     0.387298\n",
              "7     0.387298\n",
              "8     0.387298\n",
              "9     1.161895\n",
              "10    1.161895\n",
              "11    1.161895\n",
              "Name: value, dtype: float64"
            ]
          },
          "metadata": {
            "tags": []
          },
          "execution_count": 90
        }
      ]
    },
    {
      "cell_type": "code",
      "metadata": {
        "colab": {
          "base_uri": "https://localhost:8080/"
        },
        "id": "1Sqtx9MCnLSG",
        "outputId": "4d360971-bced-4189-c317-4ba129b77afb"
      },
      "source": [
        "g.apply(normalize)"
      ],
      "execution_count": null,
      "outputs": [
        {
          "output_type": "execute_result",
          "data": {
            "text/plain": [
              "0    -1.161895\n",
              "1    -1.161895\n",
              "2    -1.161895\n",
              "3    -0.387298\n",
              "4    -0.387298\n",
              "5    -0.387298\n",
              "6     0.387298\n",
              "7     0.387298\n",
              "8     0.387298\n",
              "9     1.161895\n",
              "10    1.161895\n",
              "11    1.161895\n",
              "Name: value, dtype: float64"
            ]
          },
          "metadata": {
            "tags": []
          },
          "execution_count": 91
        }
      ]
    },
    {
      "cell_type": "markdown",
      "metadata": {
        "id": "LkHk9k7MrMYb"
      },
      "source": [
        "Built-in aggregate functions like 'mean' or 'sum' are often much faster than a general apply function. These also have a **“fast past” when used with transform.**This allows us to perform a so-called unwrapped group operation:"
      ]
    },
    {
      "cell_type": "code",
      "metadata": {
        "colab": {
          "base_uri": "https://localhost:8080/"
        },
        "id": "qQbwp9p7nLVG",
        "outputId": "6f444eb4-6fde-4526-880d-a6e7952fbb29"
      },
      "source": [
        "g.transform('mean')"
      ],
      "execution_count": null,
      "outputs": [
        {
          "output_type": "execute_result",
          "data": {
            "text/plain": [
              "0     4.5\n",
              "1     5.5\n",
              "2     6.5\n",
              "3     4.5\n",
              "4     5.5\n",
              "5     6.5\n",
              "6     4.5\n",
              "7     5.5\n",
              "8     6.5\n",
              "9     4.5\n",
              "10    5.5\n",
              "11    6.5\n",
              "Name: value, dtype: float64"
            ]
          },
          "metadata": {
            "tags": []
          },
          "execution_count": 92
        }
      ]
    },
    {
      "cell_type": "code",
      "metadata": {
        "id": "gYuiSiA8nLXD"
      },
      "source": [
        "normalized = (df['value'] - g.transform('mean')) / g.transform('std')"
      ],
      "execution_count": null,
      "outputs": []
    },
    {
      "cell_type": "code",
      "metadata": {
        "colab": {
          "base_uri": "https://localhost:8080/"
        },
        "id": "GE6zrQbsnLY_",
        "outputId": "3e8c05bb-a319-4532-ed5f-a33a5725e5c7"
      },
      "source": [
        "normalized"
      ],
      "execution_count": null,
      "outputs": [
        {
          "output_type": "execute_result",
          "data": {
            "text/plain": [
              "0    -1.161895\n",
              "1    -1.161895\n",
              "2    -1.161895\n",
              "3    -0.387298\n",
              "4    -0.387298\n",
              "5    -0.387298\n",
              "6     0.387298\n",
              "7     0.387298\n",
              "8     0.387298\n",
              "9     1.161895\n",
              "10    1.161895\n",
              "11    1.161895\n",
              "Name: value, dtype: float64"
            ]
          },
          "metadata": {
            "tags": []
          },
          "execution_count": 95
        }
      ]
    },
    {
      "cell_type": "markdown",
      "metadata": {
        "id": "utQgeNF5rsSV"
      },
      "source": [
        "## Grouped Time Resampling"
      ]
    },
    {
      "cell_type": "markdown",
      "metadata": {
        "id": "y9FMDYKGrwZq"
      },
      "source": [
        "For time series data, the resample method is semantically a group operation based on a time intervalization."
      ]
    },
    {
      "cell_type": "code",
      "metadata": {
        "id": "1zGenXwanLb-"
      },
      "source": [
        "N = 15"
      ],
      "execution_count": null,
      "outputs": []
    },
    {
      "cell_type": "code",
      "metadata": {
        "id": "jDUFhtJVnLey"
      },
      "source": [
        "times = pd.date_range('2017-05-20 00:00', freq = '1min', periods = N)"
      ],
      "execution_count": null,
      "outputs": []
    },
    {
      "cell_type": "code",
      "metadata": {
        "id": "QqrNw5vjnLji"
      },
      "source": [
        "df = pd.DataFrame({'time' : times,\n",
        "                   'values' : np.arange(N)})"
      ],
      "execution_count": null,
      "outputs": []
    },
    {
      "cell_type": "code",
      "metadata": {
        "colab": {
          "base_uri": "https://localhost:8080/",
          "height": 514
        },
        "id": "PU5K_i_XhGp3",
        "outputId": "31644f72-7d94-4d6b-c6f8-b061924d6669"
      },
      "source": [
        "df"
      ],
      "execution_count": null,
      "outputs": [
        {
          "output_type": "execute_result",
          "data": {
            "text/html": [
              "<div>\n",
              "<style scoped>\n",
              "    .dataframe tbody tr th:only-of-type {\n",
              "        vertical-align: middle;\n",
              "    }\n",
              "\n",
              "    .dataframe tbody tr th {\n",
              "        vertical-align: top;\n",
              "    }\n",
              "\n",
              "    .dataframe thead th {\n",
              "        text-align: right;\n",
              "    }\n",
              "</style>\n",
              "<table border=\"1\" class=\"dataframe\">\n",
              "  <thead>\n",
              "    <tr style=\"text-align: right;\">\n",
              "      <th></th>\n",
              "      <th>time</th>\n",
              "      <th>values</th>\n",
              "    </tr>\n",
              "  </thead>\n",
              "  <tbody>\n",
              "    <tr>\n",
              "      <th>0</th>\n",
              "      <td>2017-05-20 00:00:00</td>\n",
              "      <td>0</td>\n",
              "    </tr>\n",
              "    <tr>\n",
              "      <th>1</th>\n",
              "      <td>2017-05-20 00:01:00</td>\n",
              "      <td>1</td>\n",
              "    </tr>\n",
              "    <tr>\n",
              "      <th>2</th>\n",
              "      <td>2017-05-20 00:02:00</td>\n",
              "      <td>2</td>\n",
              "    </tr>\n",
              "    <tr>\n",
              "      <th>3</th>\n",
              "      <td>2017-05-20 00:03:00</td>\n",
              "      <td>3</td>\n",
              "    </tr>\n",
              "    <tr>\n",
              "      <th>4</th>\n",
              "      <td>2017-05-20 00:04:00</td>\n",
              "      <td>4</td>\n",
              "    </tr>\n",
              "    <tr>\n",
              "      <th>5</th>\n",
              "      <td>2017-05-20 00:05:00</td>\n",
              "      <td>5</td>\n",
              "    </tr>\n",
              "    <tr>\n",
              "      <th>6</th>\n",
              "      <td>2017-05-20 00:06:00</td>\n",
              "      <td>6</td>\n",
              "    </tr>\n",
              "    <tr>\n",
              "      <th>7</th>\n",
              "      <td>2017-05-20 00:07:00</td>\n",
              "      <td>7</td>\n",
              "    </tr>\n",
              "    <tr>\n",
              "      <th>8</th>\n",
              "      <td>2017-05-20 00:08:00</td>\n",
              "      <td>8</td>\n",
              "    </tr>\n",
              "    <tr>\n",
              "      <th>9</th>\n",
              "      <td>2017-05-20 00:09:00</td>\n",
              "      <td>9</td>\n",
              "    </tr>\n",
              "    <tr>\n",
              "      <th>10</th>\n",
              "      <td>2017-05-20 00:10:00</td>\n",
              "      <td>10</td>\n",
              "    </tr>\n",
              "    <tr>\n",
              "      <th>11</th>\n",
              "      <td>2017-05-20 00:11:00</td>\n",
              "      <td>11</td>\n",
              "    </tr>\n",
              "    <tr>\n",
              "      <th>12</th>\n",
              "      <td>2017-05-20 00:12:00</td>\n",
              "      <td>12</td>\n",
              "    </tr>\n",
              "    <tr>\n",
              "      <th>13</th>\n",
              "      <td>2017-05-20 00:13:00</td>\n",
              "      <td>13</td>\n",
              "    </tr>\n",
              "    <tr>\n",
              "      <th>14</th>\n",
              "      <td>2017-05-20 00:14:00</td>\n",
              "      <td>14</td>\n",
              "    </tr>\n",
              "  </tbody>\n",
              "</table>\n",
              "</div>"
            ],
            "text/plain": [
              "                  time  values\n",
              "0  2017-05-20 00:00:00       0\n",
              "1  2017-05-20 00:01:00       1\n",
              "2  2017-05-20 00:02:00       2\n",
              "3  2017-05-20 00:03:00       3\n",
              "4  2017-05-20 00:04:00       4\n",
              "5  2017-05-20 00:05:00       5\n",
              "6  2017-05-20 00:06:00       6\n",
              "7  2017-05-20 00:07:00       7\n",
              "8  2017-05-20 00:08:00       8\n",
              "9  2017-05-20 00:09:00       9\n",
              "10 2017-05-20 00:10:00      10\n",
              "11 2017-05-20 00:11:00      11\n",
              "12 2017-05-20 00:12:00      12\n",
              "13 2017-05-20 00:13:00      13\n",
              "14 2017-05-20 00:14:00      14"
            ]
          },
          "metadata": {
            "tags": []
          },
          "execution_count": 99
        }
      ]
    },
    {
      "cell_type": "code",
      "metadata": {
        "colab": {
          "base_uri": "https://localhost:8080/",
          "height": 173
        },
        "id": "X2kL44TuhGtU",
        "outputId": "bcc644bb-b05b-4c3b-adad-24ca04046465"
      },
      "source": [
        "# index by 'time' and then resample\n",
        "df.set_index('time').resample('5min').count()"
      ],
      "execution_count": null,
      "outputs": [
        {
          "output_type": "execute_result",
          "data": {
            "text/html": [
              "<div>\n",
              "<style scoped>\n",
              "    .dataframe tbody tr th:only-of-type {\n",
              "        vertical-align: middle;\n",
              "    }\n",
              "\n",
              "    .dataframe tbody tr th {\n",
              "        vertical-align: top;\n",
              "    }\n",
              "\n",
              "    .dataframe thead th {\n",
              "        text-align: right;\n",
              "    }\n",
              "</style>\n",
              "<table border=\"1\" class=\"dataframe\">\n",
              "  <thead>\n",
              "    <tr style=\"text-align: right;\">\n",
              "      <th></th>\n",
              "      <th>values</th>\n",
              "    </tr>\n",
              "    <tr>\n",
              "      <th>time</th>\n",
              "      <th></th>\n",
              "    </tr>\n",
              "  </thead>\n",
              "  <tbody>\n",
              "    <tr>\n",
              "      <th>2017-05-20 00:00:00</th>\n",
              "      <td>5</td>\n",
              "    </tr>\n",
              "    <tr>\n",
              "      <th>2017-05-20 00:05:00</th>\n",
              "      <td>5</td>\n",
              "    </tr>\n",
              "    <tr>\n",
              "      <th>2017-05-20 00:10:00</th>\n",
              "      <td>5</td>\n",
              "    </tr>\n",
              "  </tbody>\n",
              "</table>\n",
              "</div>"
            ],
            "text/plain": [
              "                     values\n",
              "time                       \n",
              "2017-05-20 00:00:00       5\n",
              "2017-05-20 00:05:00       5\n",
              "2017-05-20 00:10:00       5"
            ]
          },
          "metadata": {
            "tags": []
          },
          "execution_count": 100
        }
      ]
    },
    {
      "cell_type": "markdown",
      "metadata": {
        "id": "IXyDYg4TshMy"
      },
      "source": [
        "Suppose that a DataFrame contains multiple time series, marked by an additional group key column:"
      ]
    },
    {
      "cell_type": "code",
      "metadata": {
        "id": "RvfcWh7LsTOr"
      },
      "source": [
        "df2 = pd.DataFrame({'time' : times.repeat(3),\n",
        "                    'key' : np.tile(['a', 'n', 'c'], N),\n",
        "                    'vlue' : np.arange(N * 3.)})"
      ],
      "execution_count": null,
      "outputs": []
    },
    {
      "cell_type": "code",
      "metadata": {
        "colab": {
          "base_uri": "https://localhost:8080/",
          "height": 266
        },
        "id": "LWI-duHNsTRl",
        "outputId": "1abdbb9f-f114-45fc-9861-4841fc80fbab"
      },
      "source": [
        "df2[:7]"
      ],
      "execution_count": null,
      "outputs": [
        {
          "output_type": "execute_result",
          "data": {
            "text/html": [
              "<div>\n",
              "<style scoped>\n",
              "    .dataframe tbody tr th:only-of-type {\n",
              "        vertical-align: middle;\n",
              "    }\n",
              "\n",
              "    .dataframe tbody tr th {\n",
              "        vertical-align: top;\n",
              "    }\n",
              "\n",
              "    .dataframe thead th {\n",
              "        text-align: right;\n",
              "    }\n",
              "</style>\n",
              "<table border=\"1\" class=\"dataframe\">\n",
              "  <thead>\n",
              "    <tr style=\"text-align: right;\">\n",
              "      <th></th>\n",
              "      <th>time</th>\n",
              "      <th>key</th>\n",
              "      <th>vlue</th>\n",
              "    </tr>\n",
              "  </thead>\n",
              "  <tbody>\n",
              "    <tr>\n",
              "      <th>0</th>\n",
              "      <td>2017-05-20 00:00:00</td>\n",
              "      <td>a</td>\n",
              "      <td>0.0</td>\n",
              "    </tr>\n",
              "    <tr>\n",
              "      <th>1</th>\n",
              "      <td>2017-05-20 00:00:00</td>\n",
              "      <td>n</td>\n",
              "      <td>1.0</td>\n",
              "    </tr>\n",
              "    <tr>\n",
              "      <th>2</th>\n",
              "      <td>2017-05-20 00:00:00</td>\n",
              "      <td>c</td>\n",
              "      <td>2.0</td>\n",
              "    </tr>\n",
              "    <tr>\n",
              "      <th>3</th>\n",
              "      <td>2017-05-20 00:01:00</td>\n",
              "      <td>a</td>\n",
              "      <td>3.0</td>\n",
              "    </tr>\n",
              "    <tr>\n",
              "      <th>4</th>\n",
              "      <td>2017-05-20 00:01:00</td>\n",
              "      <td>n</td>\n",
              "      <td>4.0</td>\n",
              "    </tr>\n",
              "    <tr>\n",
              "      <th>5</th>\n",
              "      <td>2017-05-20 00:01:00</td>\n",
              "      <td>c</td>\n",
              "      <td>5.0</td>\n",
              "    </tr>\n",
              "    <tr>\n",
              "      <th>6</th>\n",
              "      <td>2017-05-20 00:02:00</td>\n",
              "      <td>a</td>\n",
              "      <td>6.0</td>\n",
              "    </tr>\n",
              "  </tbody>\n",
              "</table>\n",
              "</div>"
            ],
            "text/plain": [
              "                 time key  vlue\n",
              "0 2017-05-20 00:00:00   a   0.0\n",
              "1 2017-05-20 00:00:00   n   1.0\n",
              "2 2017-05-20 00:00:00   c   2.0\n",
              "3 2017-05-20 00:01:00   a   3.0\n",
              "4 2017-05-20 00:01:00   n   4.0\n",
              "5 2017-05-20 00:01:00   c   5.0\n",
              "6 2017-05-20 00:02:00   a   6.0"
            ]
          },
          "metadata": {
            "tags": []
          },
          "execution_count": 102
        }
      ]
    },
    {
      "cell_type": "markdown",
      "metadata": {
        "id": "o90k4782s2tN"
      },
      "source": [
        "To do the same resampling for each value of 'key', we have the pandas.TimeGrouper object"
      ]
    },
    {
      "cell_type": "code",
      "metadata": {
        "id": "eDQTIT8MsTUB"
      },
      "source": [
        "time_key = pd.TimeGrouper('5min') # Pandas has no attribute timegrouper"
      ],
      "execution_count": null,
      "outputs": []
    },
    {
      "cell_type": "code",
      "metadata": {
        "id": "fU-Q8Mq2sTXJ"
      },
      "source": [
        "# set the time index, group by 'key' and time_key, then aggregate\n",
        "resampled = (df2.set_index('time')\\\n",
        "             .groupby(['key', time_key])\\\n",
        "             .sum())"
      ],
      "execution_count": null,
      "outputs": []
    },
    {
      "cell_type": "code",
      "metadata": {
        "id": "MQlq8aKrsTZo"
      },
      "source": [
        "resampled"
      ],
      "execution_count": null,
      "outputs": []
    },
    {
      "cell_type": "code",
      "metadata": {
        "id": "43MbEioCsTc6"
      },
      "source": [
        "resampled.reset_index()"
      ],
      "execution_count": null,
      "outputs": []
    },
    {
      "cell_type": "markdown",
      "metadata": {
        "id": "kiTwHT6Junvm"
      },
      "source": [
        "One constraint with using TimeGrouper is that **the time must be the index of the Series or DataFrame.**"
      ]
    },
    {
      "cell_type": "markdown",
      "metadata": {
        "id": "u8UySYcHusWM"
      },
      "source": [
        "# 12.3 Techniques for Method Chaining"
      ]
    },
    {
      "cell_type": "markdown",
      "metadata": {
        "id": "EiGM9pE6u0gG"
      },
      "source": [
        "When applying a sequence of transformations to a dataset, you may find yourself creating numerous temporary variables that are never used in your analysis. For example:"
      ]
    },
    {
      "cell_type": "code",
      "metadata": {
        "id": "ReX6DPfAsTfS"
      },
      "source": [
        "df = load_data()\n",
        "df2 = df[df['col2'] < 0]\n",
        "df2['col2_demeaned'] = df2['col1'] - df2['col1'].mean()\n",
        "result = df2.groupby('key').col1_demeaned.std()"
      ],
      "execution_count": null,
      "outputs": []
    },
    {
      "cell_type": "markdown",
      "metadata": {
        "id": "Sen8TPO1vYRF"
      },
      "source": [
        "**DataFrame.assign** method is a functional alternative to column assignments of the form df[k] = v. Rather than modifying the object in-place, it returns a new DataFrame with the indicated modifications. So these statements are equivalent:"
      ]
    },
    {
      "cell_type": "code",
      "metadata": {
        "id": "ykEhuS45sTh5"
      },
      "source": [
        "# Usual non-functional way\n",
        "df2  = df.copy()\n",
        "df2['k'] = v\n",
        "\n",
        "# Functional assign way\n",
        "df2 = df.assign(k = v)"
      ],
      "execution_count": null,
      "outputs": []
    },
    {
      "cell_type": "markdown",
      "metadata": {
        "id": "Y2EfbvUdvwer"
      },
      "source": [
        "Assigning in-place may execute faster than using assign, but assign enables easier method chaining:"
      ]
    },
    {
      "cell_type": "code",
      "metadata": {
        "id": "xPnK5TGbsTlc"
      },
      "source": [
        "result = (df2.assign(col1_demeaned = df2.col1 - df2.col2.mean())\\\n",
        "          .groupby('key')\\\n",
        "          .col1_demeaned.std())"
      ],
      "execution_count": null,
      "outputs": []
    },
    {
      "cell_type": "markdown",
      "metadata": {
        "id": "EB4MqSuXwMtm"
      },
      "source": [
        "One thing to keep in mind when doing method chaining is that you may need to refer to temporary objects. In the preceding example, we cannot refer to the result of load_data until it has been assigned to the temporary variable df. To help with this, assign and many other pandas functions accept function-like arguments, also known as callables.\n",
        "\n",
        "To show callables in action, consider a fragment of the example from before:"
      ]
    },
    {
      "cell_type": "code",
      "metadata": {
        "id": "cgT8fOtUsToe"
      },
      "source": [
        "df = load_data()\n",
        "df2 = df[df['col2'] < 0]\n",
        "\n",
        "# This can be rewritten as:\n",
        "df = (load_data()[lambda x : x ['col2'] < 0])"
      ],
      "execution_count": null,
      "outputs": []
    },
    {
      "cell_type": "markdown",
      "metadata": {
        "id": "XBMOoG-MwohR"
      },
      "source": [
        "Here, the result of load_data is not assigned to a variable, so the function passed into [] is then bound to the object at that stage of the method chain."
      ]
    },
    {
      "cell_type": "markdown",
      "metadata": {
        "id": "LDYIfXA0wt8X"
      },
      "source": [
        "We can continue, then, and write the entire sequence as a single chained expression:"
      ]
    },
    {
      "cell_type": "code",
      "metadata": {
        "id": "TYTsmvE0sTtV"
      },
      "source": [
        "result = (load_data()\\\n",
        "          [lambda x : x.col2 <0]\\\n",
        "          .assign(col1_demeanded = lambda x : x.col1 - x.col1.mean())\\\n",
        "          .groupby('key')\\\n",
        "          .col1_demeanded.std())"
      ],
      "execution_count": null,
      "outputs": []
    },
    {
      "cell_type": "markdown",
      "metadata": {
        "id": "e2WUkisnxKjg"
      },
      "source": [
        "## The pipe Method"
      ]
    },
    {
      "cell_type": "markdown",
      "metadata": {
        "id": "ZkpXVjIGxOsr"
      },
      "source": [
        "Use your own functions or functions from third-party libraries."
      ]
    },
    {
      "cell_type": "markdown",
      "metadata": {
        "id": "Fm97ZjZzxcf5"
      },
      "source": [
        "Consider a sequence of function calls:"
      ]
    },
    {
      "cell_type": "code",
      "metadata": {
        "id": "822LElLYsTyW"
      },
      "source": [
        "a = f(df, arg1 = v1)\n",
        "b = g(a, v2, arg3 = v3)\n",
        "c = h(b, arg4 = v4)"
      ],
      "execution_count": null,
      "outputs": []
    },
    {
      "cell_type": "markdown",
      "metadata": {
        "id": "8zumrzPhxoDq"
      },
      "source": [
        "When using functions that accept and return Series or DataFrame objects, you can rewrite this using calls to pipe:"
      ]
    },
    {
      "cell_type": "code",
      "metadata": {
        "id": "kS-JvERVsT1z"
      },
      "source": [
        "result = (df.pipe(f, arg1 = v1)\\\n",
        "          .pipe(g, v2, arg3 = v3)\\\n",
        "          .pipe(h, arg4 = v4))"
      ],
      "execution_count": null,
      "outputs": []
    },
    {
      "cell_type": "markdown",
      "metadata": {
        "id": "BBCO0MV8xzSw"
      },
      "source": [
        "The statement f(df) and df.pipe(f) are equivalent, but pipe makes chained invocation easier."
      ]
    },
    {
      "cell_type": "markdown",
      "metadata": {
        "id": "t_Ea6Od0x3lo"
      },
      "source": [
        "A potentially useful pattern for pipe is to **generalize sequences of operations into reusable functions**. As an example, let’s consider substracting group means from a column:"
      ]
    },
    {
      "cell_type": "code",
      "metadata": {
        "id": "nXJC5kg5sT43"
      },
      "source": [
        "g = df.groupby(['key1', 'key2'])\n",
        "df['col1'] = df['col1'] - g.transform('mean')"
      ],
      "execution_count": null,
      "outputs": []
    },
    {
      "cell_type": "markdown",
      "metadata": {
        "id": "LfiQW6k1yGbI"
      },
      "source": [
        "Suppose that you wanted to be able to demean more than one column and easily change the group keys. Additionally, you might want to perform this transformation in a method chain. Here is an example implementation:"
      ]
    },
    {
      "cell_type": "code",
      "metadata": {
        "id": "aaSY6QfFsT-a"
      },
      "source": [
        "def group_demean(df, by, cols):\n",
        "  result = df.copy()\n",
        "  g = df.groupby(by)\n",
        "  for c in cols:\n",
        "    result[c] = df[c] - g[c].transform('mean')\n",
        "  return result"
      ],
      "execution_count": null,
      "outputs": []
    },
    {
      "cell_type": "markdown",
      "metadata": {
        "id": "MyZKeKM9yZ5_"
      },
      "source": [
        "Then it is possible to write:"
      ]
    },
    {
      "cell_type": "code",
      "metadata": {
        "id": "9U48AbbzsUDk"
      },
      "source": [
        "result = (df[df.col1 < 0]\\\n",
        "          .pipe(groupe_demean, ['key1', 'key2'], ['col1']))"
      ],
      "execution_count": null,
      "outputs": []
    },
    {
      "cell_type": "code",
      "metadata": {
        "id": "bFzKv5kOsUG7"
      },
      "source": [
        ""
      ],
      "execution_count": null,
      "outputs": []
    },
    {
      "cell_type": "code",
      "metadata": {
        "id": "4EIPwa91TabG"
      },
      "source": [
        ""
      ],
      "execution_count": null,
      "outputs": []
    }
  ]
}