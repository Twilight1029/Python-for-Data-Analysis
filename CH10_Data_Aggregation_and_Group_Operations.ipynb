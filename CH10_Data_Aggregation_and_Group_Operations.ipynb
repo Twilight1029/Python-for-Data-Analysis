{
  "nbformat": 4,
  "nbformat_minor": 0,
  "metadata": {
    "colab": {
      "name": "CH10 Data Aggregation and Group Operations.ipynb",
      "provenance": [],
      "collapsed_sections": [],
      "authorship_tag": "ABX9TyMuIu95wkptmlW/1/acz8th",
      "include_colab_link": true
    },
    "kernelspec": {
      "name": "python3",
      "display_name": "Python 3"
    }
  },
  "cells": [
    {
      "cell_type": "markdown",
      "metadata": {
        "id": "view-in-github",
        "colab_type": "text"
      },
      "source": [
        "<a href=\"https://colab.research.google.com/github/Twilight1029/Python-for-Data-Analysis/blob/main/CH10_Data_Aggregation_and_Group_Operations.ipynb\" target=\"_parent\"><img src=\"https://colab.research.google.com/assets/colab-badge.svg\" alt=\"Open In Colab\"/></a>"
      ]
    },
    {
      "cell_type": "markdown",
      "metadata": {
        "id": "APzqMixfU0xZ"
      },
      "source": [
        "# CH10 Data Aggregation and Group Operations"
      ]
    },
    {
      "cell_type": "markdown",
      "metadata": {
        "id": "AI4tdR7ZVdj7"
      },
      "source": [
        "## Obejctive\r\n",
        "* Split a pandas object into pieces using one or more keys (in the form of functions, arrays, or DataFrame column names)\r\n",
        "* Calculate group summary statistics, like count, mean, or standard deviation, or a\r\n",
        "user-defined function\r\n",
        "* Apply within-group transformations or other manipulations, like normalization,\r\n",
        "linear regression, rank, or subset selection\r\n",
        "* Compute pivot tables and cross-tabulations\r\n",
        "* Perform quantile analysis and other statistical group analyses"
      ]
    },
    {
      "cell_type": "markdown",
      "metadata": {
        "id": "kWZnRTE4VxHw"
      },
      "source": [
        "## 10.1 GroupBy Mechanics"
      ]
    },
    {
      "cell_type": "markdown",
      "metadata": {
        "id": "MzgPRJAsVtqY"
      },
      "source": [
        "A DataFrame can be grouped on its rows (axis=0) or its columns (axis=1). Once this is done, a function is applied to each group, producing a new value.\r\n",
        "\r\n"
      ]
    },
    {
      "cell_type": "code",
      "metadata": {
        "id": "MHVqeQMpUP6c"
      },
      "source": [
        "import numpy as np\r\n",
        "import pandas as pd"
      ],
      "execution_count": null,
      "outputs": []
    },
    {
      "cell_type": "code",
      "metadata": {
        "id": "Ze-ryRkqU7Wx"
      },
      "source": [
        "df = pd.DataFrame({'key1' : ['a', 'b', 'b', 'b', 'a'],\r\n",
        "                   'key2' : ['one' , 'two', 'one', 'two', 'one'],\r\n",
        "                   'data1' : np.random.randn(5),\r\n",
        "                   'data2' : np.random.randn(5)})"
      ],
      "execution_count": null,
      "outputs": []
    },
    {
      "cell_type": "code",
      "metadata": {
        "colab": {
          "base_uri": "https://localhost:8080/",
          "height": 204
        },
        "id": "i5CVSqSNU7ZA",
        "outputId": "5da7a7b2-1721-419a-8fe8-8bde33f1d6d1"
      },
      "source": [
        "df"
      ],
      "execution_count": null,
      "outputs": [
        {
          "output_type": "execute_result",
          "data": {
            "text/html": [
              "<div>\n",
              "<style scoped>\n",
              "    .dataframe tbody tr th:only-of-type {\n",
              "        vertical-align: middle;\n",
              "    }\n",
              "\n",
              "    .dataframe tbody tr th {\n",
              "        vertical-align: top;\n",
              "    }\n",
              "\n",
              "    .dataframe thead th {\n",
              "        text-align: right;\n",
              "    }\n",
              "</style>\n",
              "<table border=\"1\" class=\"dataframe\">\n",
              "  <thead>\n",
              "    <tr style=\"text-align: right;\">\n",
              "      <th></th>\n",
              "      <th>key1</th>\n",
              "      <th>key2</th>\n",
              "      <th>data1</th>\n",
              "      <th>data2</th>\n",
              "    </tr>\n",
              "  </thead>\n",
              "  <tbody>\n",
              "    <tr>\n",
              "      <th>0</th>\n",
              "      <td>a</td>\n",
              "      <td>one</td>\n",
              "      <td>-0.289075</td>\n",
              "      <td>0.709497</td>\n",
              "    </tr>\n",
              "    <tr>\n",
              "      <th>1</th>\n",
              "      <td>b</td>\n",
              "      <td>two</td>\n",
              "      <td>0.157164</td>\n",
              "      <td>0.017929</td>\n",
              "    </tr>\n",
              "    <tr>\n",
              "      <th>2</th>\n",
              "      <td>b</td>\n",
              "      <td>one</td>\n",
              "      <td>1.114404</td>\n",
              "      <td>-1.197678</td>\n",
              "    </tr>\n",
              "    <tr>\n",
              "      <th>3</th>\n",
              "      <td>b</td>\n",
              "      <td>two</td>\n",
              "      <td>-0.191052</td>\n",
              "      <td>-0.785540</td>\n",
              "    </tr>\n",
              "    <tr>\n",
              "      <th>4</th>\n",
              "      <td>a</td>\n",
              "      <td>one</td>\n",
              "      <td>0.457486</td>\n",
              "      <td>-0.496527</td>\n",
              "    </tr>\n",
              "  </tbody>\n",
              "</table>\n",
              "</div>"
            ],
            "text/plain": [
              "  key1 key2     data1     data2\n",
              "0    a  one -0.289075  0.709497\n",
              "1    b  two  0.157164  0.017929\n",
              "2    b  one  1.114404 -1.197678\n",
              "3    b  two -0.191052 -0.785540\n",
              "4    a  one  0.457486 -0.496527"
            ]
          },
          "metadata": {
            "tags": []
          },
          "execution_count": 3
        }
      ]
    },
    {
      "cell_type": "code",
      "metadata": {
        "colab": {
          "base_uri": "https://localhost:8080/"
        },
        "id": "9PNCsAJlU7iH",
        "outputId": "f4158849-6e72-4ee3-b91c-4d10c20989d2"
      },
      "source": [
        "grouped = df['data1'].groupby(df['key1'])\r\n",
        "grouped"
      ],
      "execution_count": null,
      "outputs": [
        {
          "output_type": "execute_result",
          "data": {
            "text/plain": [
              "<pandas.core.groupby.generic.SeriesGroupBy object at 0x7f5be81f80b8>"
            ]
          },
          "metadata": {
            "tags": []
          },
          "execution_count": 6
        }
      ]
    },
    {
      "cell_type": "code",
      "metadata": {
        "colab": {
          "base_uri": "https://localhost:8080/"
        },
        "id": "oJi_aH0BU7k_",
        "outputId": "d3457981-f9e8-4089-f694-ca64d8001783"
      },
      "source": [
        "grouped.mean()"
      ],
      "execution_count": null,
      "outputs": [
        {
          "output_type": "execute_result",
          "data": {
            "text/plain": [
              "key1\n",
              "a    0.084206\n",
              "b    0.360172\n",
              "Name: data1, dtype: float64"
            ]
          },
          "metadata": {
            "tags": []
          },
          "execution_count": 7
        }
      ]
    },
    {
      "cell_type": "code",
      "metadata": {
        "colab": {
          "base_uri": "https://localhost:8080/",
          "height": 142
        },
        "id": "WsPZzt-TU7nn",
        "outputId": "f9f6c7f0-cd3a-43da-f18e-77ddf49fba7e"
      },
      "source": [
        "grouped.describe()"
      ],
      "execution_count": null,
      "outputs": [
        {
          "output_type": "execute_result",
          "data": {
            "text/html": [
              "<div>\n",
              "<style scoped>\n",
              "    .dataframe tbody tr th:only-of-type {\n",
              "        vertical-align: middle;\n",
              "    }\n",
              "\n",
              "    .dataframe tbody tr th {\n",
              "        vertical-align: top;\n",
              "    }\n",
              "\n",
              "    .dataframe thead th {\n",
              "        text-align: right;\n",
              "    }\n",
              "</style>\n",
              "<table border=\"1\" class=\"dataframe\">\n",
              "  <thead>\n",
              "    <tr style=\"text-align: right;\">\n",
              "      <th></th>\n",
              "      <th>count</th>\n",
              "      <th>mean</th>\n",
              "      <th>std</th>\n",
              "      <th>min</th>\n",
              "      <th>25%</th>\n",
              "      <th>50%</th>\n",
              "      <th>75%</th>\n",
              "      <th>max</th>\n",
              "    </tr>\n",
              "    <tr>\n",
              "      <th>key1</th>\n",
              "      <th></th>\n",
              "      <th></th>\n",
              "      <th></th>\n",
              "      <th></th>\n",
              "      <th></th>\n",
              "      <th></th>\n",
              "      <th></th>\n",
              "      <th></th>\n",
              "    </tr>\n",
              "  </thead>\n",
              "  <tbody>\n",
              "    <tr>\n",
              "      <th>a</th>\n",
              "      <td>2.0</td>\n",
              "      <td>0.084206</td>\n",
              "      <td>0.527898</td>\n",
              "      <td>-0.289075</td>\n",
              "      <td>-0.102434</td>\n",
              "      <td>0.084206</td>\n",
              "      <td>0.270846</td>\n",
              "      <td>0.457486</td>\n",
              "    </tr>\n",
              "    <tr>\n",
              "      <th>b</th>\n",
              "      <td>3.0</td>\n",
              "      <td>0.360172</td>\n",
              "      <td>0.675990</td>\n",
              "      <td>-0.191052</td>\n",
              "      <td>-0.016944</td>\n",
              "      <td>0.157164</td>\n",
              "      <td>0.635784</td>\n",
              "      <td>1.114404</td>\n",
              "    </tr>\n",
              "  </tbody>\n",
              "</table>\n",
              "</div>"
            ],
            "text/plain": [
              "      count      mean       std  ...       50%       75%       max\n",
              "key1                             ...                              \n",
              "a       2.0  0.084206  0.527898  ...  0.084206  0.270846  0.457486\n",
              "b       3.0  0.360172  0.675990  ...  0.157164  0.635784  1.114404\n",
              "\n",
              "[2 rows x 8 columns]"
            ]
          },
          "metadata": {
            "tags": []
          },
          "execution_count": 8
        }
      ]
    },
    {
      "cell_type": "markdown",
      "metadata": {
        "id": "0_MqyIi9X-JJ"
      },
      "source": [
        "**Multiple groupby, we'd get a hierarchical index**"
      ]
    },
    {
      "cell_type": "code",
      "metadata": {
        "colab": {
          "base_uri": "https://localhost:8080/"
        },
        "id": "chetXvyuU7p3",
        "outputId": "5caac8dd-f1d4-4324-aa37-7ed34294c2e8"
      },
      "source": [
        "means = df['data1'].groupby([df['key1'], df['key2']]).mean()\r\n",
        "means"
      ],
      "execution_count": null,
      "outputs": [
        {
          "output_type": "execute_result",
          "data": {
            "text/plain": [
              "key1  key2\n",
              "a     one     0.084206\n",
              "b     one     1.114404\n",
              "      two    -0.016944\n",
              "Name: data1, dtype: float64"
            ]
          },
          "metadata": {
            "tags": []
          },
          "execution_count": 10
        }
      ]
    },
    {
      "cell_type": "code",
      "metadata": {
        "colab": {
          "base_uri": "https://localhost:8080/",
          "height": 142
        },
        "id": "fre7AFwFZAzi",
        "outputId": "e31b7d5b-d749-4907-ee8b-d20a9dc8622d"
      },
      "source": [
        "means.unstack()"
      ],
      "execution_count": null,
      "outputs": [
        {
          "output_type": "execute_result",
          "data": {
            "text/html": [
              "<div>\n",
              "<style scoped>\n",
              "    .dataframe tbody tr th:only-of-type {\n",
              "        vertical-align: middle;\n",
              "    }\n",
              "\n",
              "    .dataframe tbody tr th {\n",
              "        vertical-align: top;\n",
              "    }\n",
              "\n",
              "    .dataframe thead th {\n",
              "        text-align: right;\n",
              "    }\n",
              "</style>\n",
              "<table border=\"1\" class=\"dataframe\">\n",
              "  <thead>\n",
              "    <tr style=\"text-align: right;\">\n",
              "      <th>key2</th>\n",
              "      <th>one</th>\n",
              "      <th>two</th>\n",
              "    </tr>\n",
              "    <tr>\n",
              "      <th>key1</th>\n",
              "      <th></th>\n",
              "      <th></th>\n",
              "    </tr>\n",
              "  </thead>\n",
              "  <tbody>\n",
              "    <tr>\n",
              "      <th>a</th>\n",
              "      <td>0.084206</td>\n",
              "      <td>NaN</td>\n",
              "    </tr>\n",
              "    <tr>\n",
              "      <th>b</th>\n",
              "      <td>1.114404</td>\n",
              "      <td>-0.016944</td>\n",
              "    </tr>\n",
              "  </tbody>\n",
              "</table>\n",
              "</div>"
            ],
            "text/plain": [
              "key2       one       two\n",
              "key1                    \n",
              "a     0.084206       NaN\n",
              "b     1.114404 -0.016944"
            ]
          },
          "metadata": {
            "tags": []
          },
          "execution_count": 12
        }
      ]
    },
    {
      "cell_type": "markdown",
      "metadata": {
        "id": "IychloGBZG6T"
      },
      "source": [
        "**Group keys can be any arrays of the right length**"
      ]
    },
    {
      "cell_type": "code",
      "metadata": {
        "colab": {
          "base_uri": "https://localhost:8080/"
        },
        "id": "wLQn9_BfZSzj",
        "outputId": "e549e1d3-0333-4d92-966e-70c7f3b50407"
      },
      "source": [
        "df['data1']"
      ],
      "execution_count": null,
      "outputs": [
        {
          "output_type": "execute_result",
          "data": {
            "text/plain": [
              "0   -0.289075\n",
              "1    0.157164\n",
              "2    1.114404\n",
              "3   -0.191052\n",
              "4    0.457486\n",
              "Name: data1, dtype: float64"
            ]
          },
          "metadata": {
            "tags": []
          },
          "execution_count": 13
        }
      ]
    },
    {
      "cell_type": "code",
      "metadata": {
        "colab": {
          "base_uri": "https://localhost:8080/"
        },
        "id": "2-VVa55UXvMP",
        "outputId": "54c51879-644d-40f1-9b90-0832a455e105"
      },
      "source": [
        "states = np.array(['Ohio', 'California', 'California', 'Ohio', 'Ohio'])\r\n",
        "years = np.array([2005, 2005, 2006, 2005, 2006])\r\n",
        "df['data1'].groupby([states, years]).mean()"
      ],
      "execution_count": null,
      "outputs": [
        {
          "output_type": "execute_result",
          "data": {
            "text/plain": [
              "California  2005    0.157164\n",
              "            2006    1.114404\n",
              "Ohio        2005   -0.240063\n",
              "            2006    0.457486\n",
              "Name: data1, dtype: float64"
            ]
          },
          "metadata": {
            "tags": []
          },
          "execution_count": 11
        }
      ]
    },
    {
      "cell_type": "markdown",
      "metadata": {
        "id": "7jEROnEQZrm-"
      },
      "source": [
        "**You can pass the column names as the group keys**"
      ]
    },
    {
      "cell_type": "markdown",
      "metadata": {
        "id": "od-dmHg9aXkS"
      },
      "source": [
        "* We don't have 'key2' in here, it's because key2 is not numeric data, it is said to be a **nuisance column**, which is therefore excluded from the result. By default, all of the numeric columns are aggretated."
      ]
    },
    {
      "cell_type": "code",
      "metadata": {
        "colab": {
          "base_uri": "https://localhost:8080/",
          "height": 142
        },
        "id": "UWoT_wLsYJZB",
        "outputId": "93710a66-d8a2-47c8-8300-19c9f2154644"
      },
      "source": [
        "df.groupby('key1').mean()"
      ],
      "execution_count": null,
      "outputs": [
        {
          "output_type": "execute_result",
          "data": {
            "text/html": [
              "<div>\n",
              "<style scoped>\n",
              "    .dataframe tbody tr th:only-of-type {\n",
              "        vertical-align: middle;\n",
              "    }\n",
              "\n",
              "    .dataframe tbody tr th {\n",
              "        vertical-align: top;\n",
              "    }\n",
              "\n",
              "    .dataframe thead th {\n",
              "        text-align: right;\n",
              "    }\n",
              "</style>\n",
              "<table border=\"1\" class=\"dataframe\">\n",
              "  <thead>\n",
              "    <tr style=\"text-align: right;\">\n",
              "      <th></th>\n",
              "      <th>data1</th>\n",
              "      <th>data2</th>\n",
              "    </tr>\n",
              "    <tr>\n",
              "      <th>key1</th>\n",
              "      <th></th>\n",
              "      <th></th>\n",
              "    </tr>\n",
              "  </thead>\n",
              "  <tbody>\n",
              "    <tr>\n",
              "      <th>a</th>\n",
              "      <td>0.084206</td>\n",
              "      <td>0.106485</td>\n",
              "    </tr>\n",
              "    <tr>\n",
              "      <th>b</th>\n",
              "      <td>0.360172</td>\n",
              "      <td>-0.655096</td>\n",
              "    </tr>\n",
              "  </tbody>\n",
              "</table>\n",
              "</div>"
            ],
            "text/plain": [
              "         data1     data2\n",
              "key1                    \n",
              "a     0.084206  0.106485\n",
              "b     0.360172 -0.655096"
            ]
          },
          "metadata": {
            "tags": []
          },
          "execution_count": 21
        }
      ]
    },
    {
      "cell_type": "code",
      "metadata": {
        "colab": {
          "base_uri": "https://localhost:8080/",
          "height": 173
        },
        "id": "iBbPUxwYYJfZ",
        "outputId": "552f038e-d873-48d6-df85-c2960e218c24"
      },
      "source": [
        "df.groupby(['key1', 'key2']).mean()"
      ],
      "execution_count": null,
      "outputs": [
        {
          "output_type": "execute_result",
          "data": {
            "text/html": [
              "<div>\n",
              "<style scoped>\n",
              "    .dataframe tbody tr th:only-of-type {\n",
              "        vertical-align: middle;\n",
              "    }\n",
              "\n",
              "    .dataframe tbody tr th {\n",
              "        vertical-align: top;\n",
              "    }\n",
              "\n",
              "    .dataframe thead th {\n",
              "        text-align: right;\n",
              "    }\n",
              "</style>\n",
              "<table border=\"1\" class=\"dataframe\">\n",
              "  <thead>\n",
              "    <tr style=\"text-align: right;\">\n",
              "      <th></th>\n",
              "      <th></th>\n",
              "      <th>data1</th>\n",
              "      <th>data2</th>\n",
              "    </tr>\n",
              "    <tr>\n",
              "      <th>key1</th>\n",
              "      <th>key2</th>\n",
              "      <th></th>\n",
              "      <th></th>\n",
              "    </tr>\n",
              "  </thead>\n",
              "  <tbody>\n",
              "    <tr>\n",
              "      <th>a</th>\n",
              "      <th>one</th>\n",
              "      <td>0.084206</td>\n",
              "      <td>0.106485</td>\n",
              "    </tr>\n",
              "    <tr>\n",
              "      <th rowspan=\"2\" valign=\"top\">b</th>\n",
              "      <th>one</th>\n",
              "      <td>1.114404</td>\n",
              "      <td>-1.197678</td>\n",
              "    </tr>\n",
              "    <tr>\n",
              "      <th>two</th>\n",
              "      <td>-0.016944</td>\n",
              "      <td>-0.383806</td>\n",
              "    </tr>\n",
              "  </tbody>\n",
              "</table>\n",
              "</div>"
            ],
            "text/plain": [
              "              data1     data2\n",
              "key1 key2                    \n",
              "a    one   0.084206  0.106485\n",
              "b    one   1.114404 -1.197678\n",
              "     two  -0.016944 -0.383806"
            ]
          },
          "metadata": {
            "tags": []
          },
          "execution_count": 22
        }
      ]
    },
    {
      "cell_type": "markdown",
      "metadata": {
        "id": "VeuPWkB3auRa"
      },
      "source": [
        "**size(), returns a Series containing group sizes**"
      ]
    },
    {
      "cell_type": "code",
      "metadata": {
        "colab": {
          "base_uri": "https://localhost:8080/"
        },
        "id": "9Sm8wxD-YJlh",
        "outputId": "ee823237-0969-466d-ba96-46a96230fd8c"
      },
      "source": [
        "df.groupby(['key1', 'key2']).size()"
      ],
      "execution_count": null,
      "outputs": [
        {
          "output_type": "execute_result",
          "data": {
            "text/plain": [
              "key1  key2\n",
              "a     one     2\n",
              "b     one     1\n",
              "      two     2\n",
              "dtype: int64"
            ]
          },
          "metadata": {
            "tags": []
          },
          "execution_count": 23
        }
      ]
    },
    {
      "cell_type": "markdown",
      "metadata": {
        "id": "2dRzNTPobBOd"
      },
      "source": [
        "Take note that any missing values in a group key will be excluded from the result."
      ]
    },
    {
      "cell_type": "markdown",
      "metadata": {
        "id": "4yGhU0OMbGc5"
      },
      "source": [
        "### Iterating Over Groups"
      ]
    },
    {
      "cell_type": "markdown",
      "metadata": {
        "id": "V6Gfk50lbMQM"
      },
      "source": [
        "The GroupBy object supports iteration, generating a sequence of 2-tuples containing the group name along with the chunk of data."
      ]
    },
    {
      "cell_type": "code",
      "metadata": {
        "colab": {
          "base_uri": "https://localhost:8080/"
        },
        "id": "WMm2dhqAYJoQ",
        "outputId": "529781d4-c8bf-4fe6-c27d-b8fe04e2bd96"
      },
      "source": [
        "# it is so cool! just like unstack\r\n",
        "for name, group in df.groupby('key1'):\r\n",
        "  print(name)\r\n",
        "  print(group)"
      ],
      "execution_count": null,
      "outputs": [
        {
          "output_type": "stream",
          "text": [
            "a\n",
            "  key1 key2     data1     data2\n",
            "0    a  one -0.289075  0.709497\n",
            "4    a  one  0.457486 -0.496527\n",
            "b\n",
            "  key1 key2     data1     data2\n",
            "1    b  two  0.157164  0.017929\n",
            "2    b  one  1.114404 -1.197678\n",
            "3    b  two -0.191052 -0.785540\n"
          ],
          "name": "stdout"
        }
      ]
    },
    {
      "cell_type": "markdown",
      "metadata": {
        "id": "KK1BwP3fbtKy"
      },
      "source": [
        "**If we have multiple keys, the first element in the tuple will be a tuple of key values**"
      ]
    },
    {
      "cell_type": "code",
      "metadata": {
        "colab": {
          "base_uri": "https://localhost:8080/"
        },
        "id": "_f_hueTwYJrK",
        "outputId": "c6d151f6-6f69-4c0e-fbd6-e4748af9eeae"
      },
      "source": [
        "for (k1, k2), group in df.groupby(['key1', 'key2']):\r\n",
        "  print((k1, k2))\r\n",
        "  print(group)"
      ],
      "execution_count": null,
      "outputs": [
        {
          "output_type": "stream",
          "text": [
            "('a', 'one')\n",
            "  key1 key2     data1     data2\n",
            "0    a  one -0.289075  0.709497\n",
            "4    a  one  0.457486 -0.496527\n",
            "('b', 'one')\n",
            "  key1 key2     data1     data2\n",
            "2    b  one  1.114404 -1.197678\n",
            "('b', 'two')\n",
            "  key1 key2     data1     data2\n",
            "1    b  two  0.157164  0.017929\n",
            "3    b  two -0.191052 -0.785540\n"
          ],
          "name": "stdout"
        }
      ]
    },
    {
      "cell_type": "markdown",
      "metadata": {
        "id": "ipl8a00QcE5s"
      },
      "source": [
        "**Computing a dict of the data pieces as a one-liner:**"
      ]
    },
    {
      "cell_type": "code",
      "metadata": {
        "id": "KCPZh3A0YJty"
      },
      "source": [
        "pieces = dict(list(df.groupby('key1')))"
      ],
      "execution_count": null,
      "outputs": []
    },
    {
      "cell_type": "code",
      "metadata": {
        "colab": {
          "base_uri": "https://localhost:8080/",
          "height": 142
        },
        "id": "DUYglHc3YJwP",
        "outputId": "73d38931-3d73-4eb5-c061-fba5b9509d14"
      },
      "source": [
        "pieces['b']"
      ],
      "execution_count": null,
      "outputs": [
        {
          "output_type": "execute_result",
          "data": {
            "text/html": [
              "<div>\n",
              "<style scoped>\n",
              "    .dataframe tbody tr th:only-of-type {\n",
              "        vertical-align: middle;\n",
              "    }\n",
              "\n",
              "    .dataframe tbody tr th {\n",
              "        vertical-align: top;\n",
              "    }\n",
              "\n",
              "    .dataframe thead th {\n",
              "        text-align: right;\n",
              "    }\n",
              "</style>\n",
              "<table border=\"1\" class=\"dataframe\">\n",
              "  <thead>\n",
              "    <tr style=\"text-align: right;\">\n",
              "      <th></th>\n",
              "      <th>key1</th>\n",
              "      <th>key2</th>\n",
              "      <th>data1</th>\n",
              "      <th>data2</th>\n",
              "    </tr>\n",
              "  </thead>\n",
              "  <tbody>\n",
              "    <tr>\n",
              "      <th>1</th>\n",
              "      <td>b</td>\n",
              "      <td>two</td>\n",
              "      <td>0.157164</td>\n",
              "      <td>0.017929</td>\n",
              "    </tr>\n",
              "    <tr>\n",
              "      <th>2</th>\n",
              "      <td>b</td>\n",
              "      <td>one</td>\n",
              "      <td>1.114404</td>\n",
              "      <td>-1.197678</td>\n",
              "    </tr>\n",
              "    <tr>\n",
              "      <th>3</th>\n",
              "      <td>b</td>\n",
              "      <td>two</td>\n",
              "      <td>-0.191052</td>\n",
              "      <td>-0.785540</td>\n",
              "    </tr>\n",
              "  </tbody>\n",
              "</table>\n",
              "</div>"
            ],
            "text/plain": [
              "  key1 key2     data1     data2\n",
              "1    b  two  0.157164  0.017929\n",
              "2    b  one  1.114404 -1.197678\n",
              "3    b  two -0.191052 -0.785540"
            ]
          },
          "metadata": {
            "tags": []
          },
          "execution_count": 35
        }
      ]
    },
    {
      "cell_type": "code",
      "metadata": {
        "colab": {
          "base_uri": "https://localhost:8080/"
        },
        "id": "5NVT-i9NYJyp",
        "outputId": "60acf3c2-a8a6-40f4-f97c-a373fced502e"
      },
      "source": [
        "pieces"
      ],
      "execution_count": null,
      "outputs": [
        {
          "output_type": "execute_result",
          "data": {
            "text/plain": [
              "{'a':   key1 key2     data1     data2\n",
              " 0    a  one -0.289075  0.709497\n",
              " 4    a  one  0.457486 -0.496527, 'b':   key1 key2     data1     data2\n",
              " 1    b  two  0.157164  0.017929\n",
              " 2    b  one  1.114404 -1.197678\n",
              " 3    b  two -0.191052 -0.785540}"
            ]
          },
          "metadata": {
            "tags": []
          },
          "execution_count": 29
        }
      ]
    },
    {
      "cell_type": "markdown",
      "metadata": {
        "id": "G5maU2o9dBb7"
      },
      "source": [
        "**By default groupby groups on axis = 0 (by rows), but you can change the default setting and group on any of the other axes**"
      ]
    },
    {
      "cell_type": "code",
      "metadata": {
        "colab": {
          "base_uri": "https://localhost:8080/"
        },
        "id": "gXuXxsD5YJ1B",
        "outputId": "aa34ad67-7e68-47c7-d339-44d97ed57330"
      },
      "source": [
        "df.dtypes"
      ],
      "execution_count": null,
      "outputs": [
        {
          "output_type": "execute_result",
          "data": {
            "text/plain": [
              "key1      object\n",
              "key2      object\n",
              "data1    float64\n",
              "data2    float64\n",
              "dtype: object"
            ]
          },
          "metadata": {
            "tags": []
          },
          "execution_count": 36
        }
      ]
    },
    {
      "cell_type": "code",
      "metadata": {
        "id": "_PoSVOMXYJ3-"
      },
      "source": [
        "# groupby dtypes\r\n",
        "grouped = df.groupby(df.dtypes, axis = 1)"
      ],
      "execution_count": null,
      "outputs": []
    },
    {
      "cell_type": "code",
      "metadata": {
        "colab": {
          "base_uri": "https://localhost:8080/"
        },
        "id": "NKGu1J4_YJ_A",
        "outputId": "da41ff1b-addb-4eda-c45f-1c9df46dc02d"
      },
      "source": [
        "for dtype, group in grouped:\r\n",
        "  print(dtype)\r\n",
        "  print(group)"
      ],
      "execution_count": null,
      "outputs": [
        {
          "output_type": "stream",
          "text": [
            "float64\n",
            "      data1     data2\n",
            "0 -0.289075  0.709497\n",
            "1  0.157164  0.017929\n",
            "2  1.114404 -1.197678\n",
            "3 -0.191052 -0.785540\n",
            "4  0.457486 -0.496527\n",
            "object\n",
            "  key1 key2\n",
            "0    a  one\n",
            "1    b  two\n",
            "2    b  one\n",
            "3    b  two\n",
            "4    a  one\n"
          ],
          "name": "stdout"
        }
      ]
    },
    {
      "cell_type": "markdown",
      "metadata": {
        "id": "3v-myEu9du3y"
      },
      "source": [
        "### Selecting a column or subset of columns"
      ]
    },
    {
      "cell_type": "markdown",
      "metadata": {
        "id": "d6uvw_QXd4RB"
      },
      "source": [
        "* Indexing a GroupBy object created from a DataFrame with a column name or array of column names has the effect of column subsetting for aggregation.**Below are the same**"
      ]
    },
    {
      "cell_type": "code",
      "metadata": {
        "colab": {
          "base_uri": "https://localhost:8080/",
          "height": 142
        },
        "id": "C2TCJEUuYKBn",
        "outputId": "c3f54db4-76a5-4b77-b810-8b80ac6a3769"
      },
      "source": [
        "# the same as below\r\n",
        "df.groupby('key1')[['data1']].mean()  #with 2 [[]], we get a dataframe instead of a series, cool!"
      ],
      "execution_count": null,
      "outputs": [
        {
          "output_type": "execute_result",
          "data": {
            "text/html": [
              "<div>\n",
              "<style scoped>\n",
              "    .dataframe tbody tr th:only-of-type {\n",
              "        vertical-align: middle;\n",
              "    }\n",
              "\n",
              "    .dataframe tbody tr th {\n",
              "        vertical-align: top;\n",
              "    }\n",
              "\n",
              "    .dataframe thead th {\n",
              "        text-align: right;\n",
              "    }\n",
              "</style>\n",
              "<table border=\"1\" class=\"dataframe\">\n",
              "  <thead>\n",
              "    <tr style=\"text-align: right;\">\n",
              "      <th></th>\n",
              "      <th>data1</th>\n",
              "    </tr>\n",
              "    <tr>\n",
              "      <th>key1</th>\n",
              "      <th></th>\n",
              "    </tr>\n",
              "  </thead>\n",
              "  <tbody>\n",
              "    <tr>\n",
              "      <th>a</th>\n",
              "      <td>0.084206</td>\n",
              "    </tr>\n",
              "    <tr>\n",
              "      <th>b</th>\n",
              "      <td>0.360172</td>\n",
              "    </tr>\n",
              "  </tbody>\n",
              "</table>\n",
              "</div>"
            ],
            "text/plain": [
              "         data1\n",
              "key1          \n",
              "a     0.084206\n",
              "b     0.360172"
            ]
          },
          "metadata": {
            "tags": []
          },
          "execution_count": 53
        }
      ]
    },
    {
      "cell_type": "code",
      "metadata": {
        "colab": {
          "base_uri": "https://localhost:8080/",
          "height": 142
        },
        "id": "pyt156QkYKEv",
        "outputId": "a5bd41d8-535c-4db5-fdf9-575c8b6478e5"
      },
      "source": [
        "# the same as above\r\n",
        "df[['data1']].groupby(df['key1']).mean()"
      ],
      "execution_count": null,
      "outputs": [
        {
          "output_type": "execute_result",
          "data": {
            "text/html": [
              "<div>\n",
              "<style scoped>\n",
              "    .dataframe tbody tr th:only-of-type {\n",
              "        vertical-align: middle;\n",
              "    }\n",
              "\n",
              "    .dataframe tbody tr th {\n",
              "        vertical-align: top;\n",
              "    }\n",
              "\n",
              "    .dataframe thead th {\n",
              "        text-align: right;\n",
              "    }\n",
              "</style>\n",
              "<table border=\"1\" class=\"dataframe\">\n",
              "  <thead>\n",
              "    <tr style=\"text-align: right;\">\n",
              "      <th></th>\n",
              "      <th>data1</th>\n",
              "    </tr>\n",
              "    <tr>\n",
              "      <th>key1</th>\n",
              "      <th></th>\n",
              "    </tr>\n",
              "  </thead>\n",
              "  <tbody>\n",
              "    <tr>\n",
              "      <th>a</th>\n",
              "      <td>0.084206</td>\n",
              "    </tr>\n",
              "    <tr>\n",
              "      <th>b</th>\n",
              "      <td>0.360172</td>\n",
              "    </tr>\n",
              "  </tbody>\n",
              "</table>\n",
              "</div>"
            ],
            "text/plain": [
              "         data1\n",
              "key1          \n",
              "a     0.084206\n",
              "b     0.360172"
            ]
          },
          "metadata": {
            "tags": []
          },
          "execution_count": 54
        }
      ]
    },
    {
      "cell_type": "code",
      "metadata": {
        "colab": {
          "base_uri": "https://localhost:8080/",
          "height": 173
        },
        "id": "g46zSLnfYKHW",
        "outputId": "0814e06c-8747-4efe-c825-195ec99f646d"
      },
      "source": [
        "# can use the first way to do filter in large datasets\r\n",
        "df.groupby(['key1', 'key2'])[['data2']].mean() # dataframe"
      ],
      "execution_count": null,
      "outputs": [
        {
          "output_type": "execute_result",
          "data": {
            "text/html": [
              "<div>\n",
              "<style scoped>\n",
              "    .dataframe tbody tr th:only-of-type {\n",
              "        vertical-align: middle;\n",
              "    }\n",
              "\n",
              "    .dataframe tbody tr th {\n",
              "        vertical-align: top;\n",
              "    }\n",
              "\n",
              "    .dataframe thead th {\n",
              "        text-align: right;\n",
              "    }\n",
              "</style>\n",
              "<table border=\"1\" class=\"dataframe\">\n",
              "  <thead>\n",
              "    <tr style=\"text-align: right;\">\n",
              "      <th></th>\n",
              "      <th></th>\n",
              "      <th>data2</th>\n",
              "    </tr>\n",
              "    <tr>\n",
              "      <th>key1</th>\n",
              "      <th>key2</th>\n",
              "      <th></th>\n",
              "    </tr>\n",
              "  </thead>\n",
              "  <tbody>\n",
              "    <tr>\n",
              "      <th>a</th>\n",
              "      <th>one</th>\n",
              "      <td>0.106485</td>\n",
              "    </tr>\n",
              "    <tr>\n",
              "      <th rowspan=\"2\" valign=\"top\">b</th>\n",
              "      <th>one</th>\n",
              "      <td>-1.197678</td>\n",
              "    </tr>\n",
              "    <tr>\n",
              "      <th>two</th>\n",
              "      <td>-0.383806</td>\n",
              "    </tr>\n",
              "  </tbody>\n",
              "</table>\n",
              "</div>"
            ],
            "text/plain": [
              "              data2\n",
              "key1 key2          \n",
              "a    one   0.106485\n",
              "b    one  -1.197678\n",
              "     two  -0.383806"
            ]
          },
          "metadata": {
            "tags": []
          },
          "execution_count": 55
        }
      ]
    },
    {
      "cell_type": "code",
      "metadata": {
        "colab": {
          "base_uri": "https://localhost:8080/"
        },
        "id": "Ee-P8BLafhol",
        "outputId": "ccb4e097-8586-43ce-d4db-74049f14a49a"
      },
      "source": [
        "df.groupby(['key1', 'key2'])['data2'].mean() # series"
      ],
      "execution_count": null,
      "outputs": [
        {
          "output_type": "execute_result",
          "data": {
            "text/plain": [
              "key1  key2\n",
              "a     one     0.106485\n",
              "b     one    -1.197678\n",
              "      two    -0.383806\n",
              "Name: data2, dtype: float64"
            ]
          },
          "metadata": {
            "tags": []
          },
          "execution_count": 56
        }
      ]
    },
    {
      "cell_type": "markdown",
      "metadata": {
        "id": "BXjCDxVkfnJB"
      },
      "source": [
        "### Grouping with Dicts and Series"
      ]
    },
    {
      "cell_type": "code",
      "metadata": {
        "id": "YFwtZsGNeoA6"
      },
      "source": [
        "people = pd.DataFrame(np.random.randn(5, 5),\r\n",
        "                      columns = ['a', 'b', 'c', 'd', 'e'],\r\n",
        "                      index = ['Joe', 'Steve', 'Wes', 'Jim', 'Travis'])"
      ],
      "execution_count": null,
      "outputs": []
    },
    {
      "cell_type": "code",
      "metadata": {
        "id": "mp2uOMQCfr95"
      },
      "source": [
        "people.iloc[2, [1, 2]] = np.nan # add some na values"
      ],
      "execution_count": null,
      "outputs": []
    },
    {
      "cell_type": "code",
      "metadata": {
        "colab": {
          "base_uri": "https://localhost:8080/",
          "height": 204
        },
        "id": "V4yCS2cIfsBS",
        "outputId": "3f1a3a0e-6ff6-46be-ece2-1907e390fbdc"
      },
      "source": [
        "people"
      ],
      "execution_count": null,
      "outputs": [
        {
          "output_type": "execute_result",
          "data": {
            "text/html": [
              "<div>\n",
              "<style scoped>\n",
              "    .dataframe tbody tr th:only-of-type {\n",
              "        vertical-align: middle;\n",
              "    }\n",
              "\n",
              "    .dataframe tbody tr th {\n",
              "        vertical-align: top;\n",
              "    }\n",
              "\n",
              "    .dataframe thead th {\n",
              "        text-align: right;\n",
              "    }\n",
              "</style>\n",
              "<table border=\"1\" class=\"dataframe\">\n",
              "  <thead>\n",
              "    <tr style=\"text-align: right;\">\n",
              "      <th></th>\n",
              "      <th>a</th>\n",
              "      <th>b</th>\n",
              "      <th>c</th>\n",
              "      <th>d</th>\n",
              "      <th>e</th>\n",
              "    </tr>\n",
              "  </thead>\n",
              "  <tbody>\n",
              "    <tr>\n",
              "      <th>Joe</th>\n",
              "      <td>-1.220087</td>\n",
              "      <td>-0.739541</td>\n",
              "      <td>0.112199</td>\n",
              "      <td>0.839161</td>\n",
              "      <td>0.179453</td>\n",
              "    </tr>\n",
              "    <tr>\n",
              "      <th>Steve</th>\n",
              "      <td>0.410231</td>\n",
              "      <td>0.637381</td>\n",
              "      <td>-0.456021</td>\n",
              "      <td>-0.877757</td>\n",
              "      <td>0.271822</td>\n",
              "    </tr>\n",
              "    <tr>\n",
              "      <th>Wes</th>\n",
              "      <td>0.712151</td>\n",
              "      <td>NaN</td>\n",
              "      <td>NaN</td>\n",
              "      <td>-2.659453</td>\n",
              "      <td>0.728497</td>\n",
              "    </tr>\n",
              "    <tr>\n",
              "      <th>Jim</th>\n",
              "      <td>-1.249887</td>\n",
              "      <td>0.253152</td>\n",
              "      <td>-1.112575</td>\n",
              "      <td>-0.267370</td>\n",
              "      <td>-0.539882</td>\n",
              "    </tr>\n",
              "    <tr>\n",
              "      <th>Travis</th>\n",
              "      <td>0.144704</td>\n",
              "      <td>-0.984614</td>\n",
              "      <td>0.983323</td>\n",
              "      <td>-1.276237</td>\n",
              "      <td>1.172254</td>\n",
              "    </tr>\n",
              "  </tbody>\n",
              "</table>\n",
              "</div>"
            ],
            "text/plain": [
              "               a         b         c         d         e\n",
              "Joe    -1.220087 -0.739541  0.112199  0.839161  0.179453\n",
              "Steve   0.410231  0.637381 -0.456021 -0.877757  0.271822\n",
              "Wes     0.712151       NaN       NaN -2.659453  0.728497\n",
              "Jim    -1.249887  0.253152 -1.112575 -0.267370 -0.539882\n",
              "Travis  0.144704 -0.984614  0.983323 -1.276237  1.172254"
            ]
          },
          "metadata": {
            "tags": []
          },
          "execution_count": 64
        }
      ]
    },
    {
      "cell_type": "code",
      "metadata": {
        "id": "UFUhX6MUfsEY"
      },
      "source": [
        "mapping = {'a' : 'red', 'b' : 'red', 'c' : 'blue',\r\n",
        "           'd' : 'blue', 'e' : 'red', 'f' : 'orange'}"
      ],
      "execution_count": null,
      "outputs": []
    },
    {
      "cell_type": "markdown",
      "metadata": {
        "id": "DPKD4LTLg3dL"
      },
      "source": [
        "We can pass the dict to groupby (unused gropuing keys such as 'f' are OK)"
      ]
    },
    {
      "cell_type": "code",
      "metadata": {
        "id": "saM81xfGfsHC"
      },
      "source": [
        "by_column = people.groupby(mapping, axis = 1)"
      ],
      "execution_count": null,
      "outputs": []
    },
    {
      "cell_type": "code",
      "metadata": {
        "colab": {
          "base_uri": "https://localhost:8080/",
          "height": 204
        },
        "id": "vS3vkfVDfsKJ",
        "outputId": "460b6b79-051d-48f2-b0f1-ec23cf03891c"
      },
      "source": [
        "by_column.sum()"
      ],
      "execution_count": null,
      "outputs": [
        {
          "output_type": "execute_result",
          "data": {
            "text/html": [
              "<div>\n",
              "<style scoped>\n",
              "    .dataframe tbody tr th:only-of-type {\n",
              "        vertical-align: middle;\n",
              "    }\n",
              "\n",
              "    .dataframe tbody tr th {\n",
              "        vertical-align: top;\n",
              "    }\n",
              "\n",
              "    .dataframe thead th {\n",
              "        text-align: right;\n",
              "    }\n",
              "</style>\n",
              "<table border=\"1\" class=\"dataframe\">\n",
              "  <thead>\n",
              "    <tr style=\"text-align: right;\">\n",
              "      <th></th>\n",
              "      <th>blue</th>\n",
              "      <th>red</th>\n",
              "    </tr>\n",
              "  </thead>\n",
              "  <tbody>\n",
              "    <tr>\n",
              "      <th>Joe</th>\n",
              "      <td>0.951360</td>\n",
              "      <td>-1.780176</td>\n",
              "    </tr>\n",
              "    <tr>\n",
              "      <th>Steve</th>\n",
              "      <td>-1.333778</td>\n",
              "      <td>1.319434</td>\n",
              "    </tr>\n",
              "    <tr>\n",
              "      <th>Wes</th>\n",
              "      <td>-2.659453</td>\n",
              "      <td>1.440647</td>\n",
              "    </tr>\n",
              "    <tr>\n",
              "      <th>Jim</th>\n",
              "      <td>-1.379944</td>\n",
              "      <td>-1.536618</td>\n",
              "    </tr>\n",
              "    <tr>\n",
              "      <th>Travis</th>\n",
              "      <td>-0.292914</td>\n",
              "      <td>0.332344</td>\n",
              "    </tr>\n",
              "  </tbody>\n",
              "</table>\n",
              "</div>"
            ],
            "text/plain": [
              "            blue       red\n",
              "Joe     0.951360 -1.780176\n",
              "Steve  -1.333778  1.319434\n",
              "Wes    -2.659453  1.440647\n",
              "Jim    -1.379944 -1.536618\n",
              "Travis -0.292914  0.332344"
            ]
          },
          "metadata": {
            "tags": []
          },
          "execution_count": 67
        }
      ]
    },
    {
      "cell_type": "markdown",
      "metadata": {
        "id": "IvDT5wkyhJyf"
      },
      "source": [
        "The same functionality holds for Series, which can be viewed as a fixed-size mapping"
      ]
    },
    {
      "cell_type": "code",
      "metadata": {
        "id": "-nRceQjtfsMH"
      },
      "source": [
        "map_series = pd.Series(mapping)"
      ],
      "execution_count": null,
      "outputs": []
    },
    {
      "cell_type": "code",
      "metadata": {
        "colab": {
          "base_uri": "https://localhost:8080/"
        },
        "id": "UQJ-zlNffsPZ",
        "outputId": "c6eef2d9-d7f0-4017-ff0f-45a0fec5b77c"
      },
      "source": [
        "map_series"
      ],
      "execution_count": null,
      "outputs": [
        {
          "output_type": "execute_result",
          "data": {
            "text/plain": [
              "a       red\n",
              "b       red\n",
              "c      blue\n",
              "d      blue\n",
              "e       red\n",
              "f    orange\n",
              "dtype: object"
            ]
          },
          "metadata": {
            "tags": []
          },
          "execution_count": 69
        }
      ]
    },
    {
      "cell_type": "code",
      "metadata": {
        "colab": {
          "base_uri": "https://localhost:8080/",
          "height": 204
        },
        "id": "RbQt0X9IfsRo",
        "outputId": "66fd5b2f-d711-450f-8ff7-f8ad52ed6035"
      },
      "source": [
        "people.groupby(map_series, axis=1).sum()"
      ],
      "execution_count": null,
      "outputs": [
        {
          "output_type": "execute_result",
          "data": {
            "text/html": [
              "<div>\n",
              "<style scoped>\n",
              "    .dataframe tbody tr th:only-of-type {\n",
              "        vertical-align: middle;\n",
              "    }\n",
              "\n",
              "    .dataframe tbody tr th {\n",
              "        vertical-align: top;\n",
              "    }\n",
              "\n",
              "    .dataframe thead th {\n",
              "        text-align: right;\n",
              "    }\n",
              "</style>\n",
              "<table border=\"1\" class=\"dataframe\">\n",
              "  <thead>\n",
              "    <tr style=\"text-align: right;\">\n",
              "      <th></th>\n",
              "      <th>blue</th>\n",
              "      <th>red</th>\n",
              "    </tr>\n",
              "  </thead>\n",
              "  <tbody>\n",
              "    <tr>\n",
              "      <th>Joe</th>\n",
              "      <td>0.951360</td>\n",
              "      <td>-1.780176</td>\n",
              "    </tr>\n",
              "    <tr>\n",
              "      <th>Steve</th>\n",
              "      <td>-1.333778</td>\n",
              "      <td>1.319434</td>\n",
              "    </tr>\n",
              "    <tr>\n",
              "      <th>Wes</th>\n",
              "      <td>-2.659453</td>\n",
              "      <td>1.440647</td>\n",
              "    </tr>\n",
              "    <tr>\n",
              "      <th>Jim</th>\n",
              "      <td>-1.379944</td>\n",
              "      <td>-1.536618</td>\n",
              "    </tr>\n",
              "    <tr>\n",
              "      <th>Travis</th>\n",
              "      <td>-0.292914</td>\n",
              "      <td>0.332344</td>\n",
              "    </tr>\n",
              "  </tbody>\n",
              "</table>\n",
              "</div>"
            ],
            "text/plain": [
              "            blue       red\n",
              "Joe     0.951360 -1.780176\n",
              "Steve  -1.333778  1.319434\n",
              "Wes    -2.659453  1.440647\n",
              "Jim    -1.379944 -1.536618\n",
              "Travis -0.292914  0.332344"
            ]
          },
          "metadata": {
            "tags": []
          },
          "execution_count": 71
        }
      ]
    },
    {
      "cell_type": "code",
      "metadata": {
        "colab": {
          "base_uri": "https://localhost:8080/",
          "height": 204
        },
        "id": "qV7Liod3fsUJ",
        "outputId": "33d53725-e1e6-4d44-f135-ff4f677718b0"
      },
      "source": [
        "people.groupby(map_series, axis=1).count()"
      ],
      "execution_count": null,
      "outputs": [
        {
          "output_type": "execute_result",
          "data": {
            "text/html": [
              "<div>\n",
              "<style scoped>\n",
              "    .dataframe tbody tr th:only-of-type {\n",
              "        vertical-align: middle;\n",
              "    }\n",
              "\n",
              "    .dataframe tbody tr th {\n",
              "        vertical-align: top;\n",
              "    }\n",
              "\n",
              "    .dataframe thead th {\n",
              "        text-align: right;\n",
              "    }\n",
              "</style>\n",
              "<table border=\"1\" class=\"dataframe\">\n",
              "  <thead>\n",
              "    <tr style=\"text-align: right;\">\n",
              "      <th></th>\n",
              "      <th>blue</th>\n",
              "      <th>red</th>\n",
              "    </tr>\n",
              "  </thead>\n",
              "  <tbody>\n",
              "    <tr>\n",
              "      <th>Joe</th>\n",
              "      <td>2</td>\n",
              "      <td>3</td>\n",
              "    </tr>\n",
              "    <tr>\n",
              "      <th>Steve</th>\n",
              "      <td>2</td>\n",
              "      <td>3</td>\n",
              "    </tr>\n",
              "    <tr>\n",
              "      <th>Wes</th>\n",
              "      <td>1</td>\n",
              "      <td>2</td>\n",
              "    </tr>\n",
              "    <tr>\n",
              "      <th>Jim</th>\n",
              "      <td>2</td>\n",
              "      <td>3</td>\n",
              "    </tr>\n",
              "    <tr>\n",
              "      <th>Travis</th>\n",
              "      <td>2</td>\n",
              "      <td>3</td>\n",
              "    </tr>\n",
              "  </tbody>\n",
              "</table>\n",
              "</div>"
            ],
            "text/plain": [
              "        blue  red\n",
              "Joe        2    3\n",
              "Steve      2    3\n",
              "Wes        1    2\n",
              "Jim        2    3\n",
              "Travis     2    3"
            ]
          },
          "metadata": {
            "tags": []
          },
          "execution_count": 72
        }
      ]
    },
    {
      "cell_type": "markdown",
      "metadata": {
        "id": "Rd2ABfKBhu5A"
      },
      "source": [
        "### Grouping with Functions"
      ]
    },
    {
      "cell_type": "markdown",
      "metadata": {
        "id": "OTLmMQEZhznI"
      },
      "source": [
        "**Group by len()**"
      ]
    },
    {
      "cell_type": "code",
      "metadata": {
        "colab": {
          "base_uri": "https://localhost:8080/",
          "height": 142
        },
        "id": "_aq1lOeTfsWy",
        "outputId": "58e33fa5-251e-4ce3-8ae4-43a6b8ecbb1a"
      },
      "source": [
        "# groupby the length of the names\r\n",
        "people.groupby(len).sum()"
      ],
      "execution_count": null,
      "outputs": [
        {
          "output_type": "execute_result",
          "data": {
            "text/html": [
              "<div>\n",
              "<style scoped>\n",
              "    .dataframe tbody tr th:only-of-type {\n",
              "        vertical-align: middle;\n",
              "    }\n",
              "\n",
              "    .dataframe tbody tr th {\n",
              "        vertical-align: top;\n",
              "    }\n",
              "\n",
              "    .dataframe thead th {\n",
              "        text-align: right;\n",
              "    }\n",
              "</style>\n",
              "<table border=\"1\" class=\"dataframe\">\n",
              "  <thead>\n",
              "    <tr style=\"text-align: right;\">\n",
              "      <th></th>\n",
              "      <th>a</th>\n",
              "      <th>b</th>\n",
              "      <th>c</th>\n",
              "      <th>d</th>\n",
              "      <th>e</th>\n",
              "    </tr>\n",
              "  </thead>\n",
              "  <tbody>\n",
              "    <tr>\n",
              "      <th>3</th>\n",
              "      <td>-1.757823</td>\n",
              "      <td>-0.486390</td>\n",
              "      <td>-1.000376</td>\n",
              "      <td>-2.087662</td>\n",
              "      <td>0.368067</td>\n",
              "    </tr>\n",
              "    <tr>\n",
              "      <th>5</th>\n",
              "      <td>0.410231</td>\n",
              "      <td>0.637381</td>\n",
              "      <td>-0.456021</td>\n",
              "      <td>-0.877757</td>\n",
              "      <td>0.271822</td>\n",
              "    </tr>\n",
              "    <tr>\n",
              "      <th>6</th>\n",
              "      <td>0.144704</td>\n",
              "      <td>-0.984614</td>\n",
              "      <td>0.983323</td>\n",
              "      <td>-1.276237</td>\n",
              "      <td>1.172254</td>\n",
              "    </tr>\n",
              "  </tbody>\n",
              "</table>\n",
              "</div>"
            ],
            "text/plain": [
              "          a         b         c         d         e\n",
              "3 -1.757823 -0.486390 -1.000376 -2.087662  0.368067\n",
              "5  0.410231  0.637381 -0.456021 -0.877757  0.271822\n",
              "6  0.144704 -0.984614  0.983323 -1.276237  1.172254"
            ]
          },
          "metadata": {
            "tags": []
          },
          "execution_count": 74
        }
      ]
    },
    {
      "cell_type": "markdown",
      "metadata": {
        "id": "sM2-0CJkiRa5"
      },
      "source": [
        "Mixing functions with arrays, dicts or series is Ok, since everything gets converted to arrays internally"
      ]
    },
    {
      "cell_type": "code",
      "metadata": {
        "colab": {
          "base_uri": "https://localhost:8080/",
          "height": 173
        },
        "id": "vkGXkoYefsZZ",
        "outputId": "f965718a-11c4-4f36-bdc5-df23b1c2e320"
      },
      "source": [
        "key_list = ['one', 'one', 'one', 'two', 'two']\r\n",
        "people.groupby([len, key_list]).min()"
      ],
      "execution_count": null,
      "outputs": [
        {
          "output_type": "execute_result",
          "data": {
            "text/html": [
              "<div>\n",
              "<style scoped>\n",
              "    .dataframe tbody tr th:only-of-type {\n",
              "        vertical-align: middle;\n",
              "    }\n",
              "\n",
              "    .dataframe tbody tr th {\n",
              "        vertical-align: top;\n",
              "    }\n",
              "\n",
              "    .dataframe thead th {\n",
              "        text-align: right;\n",
              "    }\n",
              "</style>\n",
              "<table border=\"1\" class=\"dataframe\">\n",
              "  <thead>\n",
              "    <tr style=\"text-align: right;\">\n",
              "      <th></th>\n",
              "      <th></th>\n",
              "      <th>a</th>\n",
              "      <th>b</th>\n",
              "      <th>c</th>\n",
              "      <th>d</th>\n",
              "      <th>e</th>\n",
              "    </tr>\n",
              "  </thead>\n",
              "  <tbody>\n",
              "    <tr>\n",
              "      <th rowspan=\"2\" valign=\"top\">3</th>\n",
              "      <th>one</th>\n",
              "      <td>-1.220087</td>\n",
              "      <td>-0.739541</td>\n",
              "      <td>0.112199</td>\n",
              "      <td>-2.659453</td>\n",
              "      <td>0.179453</td>\n",
              "    </tr>\n",
              "    <tr>\n",
              "      <th>two</th>\n",
              "      <td>-1.249887</td>\n",
              "      <td>0.253152</td>\n",
              "      <td>-1.112575</td>\n",
              "      <td>-0.267370</td>\n",
              "      <td>-0.539882</td>\n",
              "    </tr>\n",
              "    <tr>\n",
              "      <th>5</th>\n",
              "      <th>one</th>\n",
              "      <td>0.410231</td>\n",
              "      <td>0.637381</td>\n",
              "      <td>-0.456021</td>\n",
              "      <td>-0.877757</td>\n",
              "      <td>0.271822</td>\n",
              "    </tr>\n",
              "    <tr>\n",
              "      <th>6</th>\n",
              "      <th>two</th>\n",
              "      <td>0.144704</td>\n",
              "      <td>-0.984614</td>\n",
              "      <td>0.983323</td>\n",
              "      <td>-1.276237</td>\n",
              "      <td>1.172254</td>\n",
              "    </tr>\n",
              "  </tbody>\n",
              "</table>\n",
              "</div>"
            ],
            "text/plain": [
              "              a         b         c         d         e\n",
              "3 one -1.220087 -0.739541  0.112199 -2.659453  0.179453\n",
              "  two -1.249887  0.253152 -1.112575 -0.267370 -0.539882\n",
              "5 one  0.410231  0.637381 -0.456021 -0.877757  0.271822\n",
              "6 two  0.144704 -0.984614  0.983323 -1.276237  1.172254"
            ]
          },
          "metadata": {
            "tags": []
          },
          "execution_count": 75
        }
      ]
    },
    {
      "cell_type": "markdown",
      "metadata": {
        "id": "Cbjt0cF-idyZ"
      },
      "source": [
        "### Group by Index Levels"
      ]
    },
    {
      "cell_type": "markdown",
      "metadata": {
        "id": "CLyKZcmQig_4"
      },
      "source": [
        "For hierarchically indexed dataset, we can aggregate using levels of an axis index"
      ]
    },
    {
      "cell_type": "code",
      "metadata": {
        "id": "81jw7Svqfsfy"
      },
      "source": [
        "columns = pd.MultiIndex.from_arrays([['US', 'US', 'US', 'JP', 'JP'],\r\n",
        "                                     [1, 3, 5, 1, 3]],\r\n",
        "                                     names = ['cty', 'tenor'])"
      ],
      "execution_count": null,
      "outputs": []
    },
    {
      "cell_type": "code",
      "metadata": {
        "id": "0y7xXc_Ufsiv"
      },
      "source": [
        "hier_df = pd.DataFrame(np.random.randn(4, 5), columns = columns)"
      ],
      "execution_count": null,
      "outputs": []
    },
    {
      "cell_type": "code",
      "metadata": {
        "colab": {
          "base_uri": "https://localhost:8080/",
          "height": 204
        },
        "id": "SffmS_2Yfslh",
        "outputId": "233d72b7-14e3-4f07-9d0c-a2a0fd92bb3d"
      },
      "source": [
        "hier_df"
      ],
      "execution_count": null,
      "outputs": [
        {
          "output_type": "execute_result",
          "data": {
            "text/html": [
              "<div>\n",
              "<style scoped>\n",
              "    .dataframe tbody tr th:only-of-type {\n",
              "        vertical-align: middle;\n",
              "    }\n",
              "\n",
              "    .dataframe tbody tr th {\n",
              "        vertical-align: top;\n",
              "    }\n",
              "\n",
              "    .dataframe thead tr th {\n",
              "        text-align: left;\n",
              "    }\n",
              "</style>\n",
              "<table border=\"1\" class=\"dataframe\">\n",
              "  <thead>\n",
              "    <tr>\n",
              "      <th>cty</th>\n",
              "      <th colspan=\"3\" halign=\"left\">US</th>\n",
              "      <th colspan=\"2\" halign=\"left\">JP</th>\n",
              "    </tr>\n",
              "    <tr>\n",
              "      <th>tenor</th>\n",
              "      <th>1</th>\n",
              "      <th>3</th>\n",
              "      <th>5</th>\n",
              "      <th>1</th>\n",
              "      <th>3</th>\n",
              "    </tr>\n",
              "  </thead>\n",
              "  <tbody>\n",
              "    <tr>\n",
              "      <th>0</th>\n",
              "      <td>-0.720718</td>\n",
              "      <td>1.208200</td>\n",
              "      <td>-1.227432</td>\n",
              "      <td>0.485858</td>\n",
              "      <td>2.158476</td>\n",
              "    </tr>\n",
              "    <tr>\n",
              "      <th>1</th>\n",
              "      <td>-0.888651</td>\n",
              "      <td>-1.430336</td>\n",
              "      <td>-1.010734</td>\n",
              "      <td>1.031102</td>\n",
              "      <td>-0.111640</td>\n",
              "    </tr>\n",
              "    <tr>\n",
              "      <th>2</th>\n",
              "      <td>0.243350</td>\n",
              "      <td>0.618393</td>\n",
              "      <td>-0.168118</td>\n",
              "      <td>-0.385461</td>\n",
              "      <td>1.196724</td>\n",
              "    </tr>\n",
              "    <tr>\n",
              "      <th>3</th>\n",
              "      <td>-0.670196</td>\n",
              "      <td>0.506390</td>\n",
              "      <td>-1.491262</td>\n",
              "      <td>1.789055</td>\n",
              "      <td>-0.362902</td>\n",
              "    </tr>\n",
              "  </tbody>\n",
              "</table>\n",
              "</div>"
            ],
            "text/plain": [
              "cty          US                            JP          \n",
              "tenor         1         3         5         1         3\n",
              "0     -0.720718  1.208200 -1.227432  0.485858  2.158476\n",
              "1     -0.888651 -1.430336 -1.010734  1.031102 -0.111640\n",
              "2      0.243350  0.618393 -0.168118 -0.385461  1.196724\n",
              "3     -0.670196  0.506390 -1.491262  1.789055 -0.362902"
            ]
          },
          "metadata": {
            "tags": []
          },
          "execution_count": 79
        }
      ]
    },
    {
      "cell_type": "markdown",
      "metadata": {
        "id": "T0HHAMmAjI9A"
      },
      "source": [
        "To groupby level, pass the level number or name using the **level** keyword"
      ]
    },
    {
      "cell_type": "code",
      "metadata": {
        "colab": {
          "base_uri": "https://localhost:8080/",
          "height": 173
        },
        "id": "a0lLmu85fsoq",
        "outputId": "c3f30f3f-3b9e-4a9d-9850-347ff6458ef6"
      },
      "source": [
        "hier_df.groupby(level='cty', axis = 1).count()"
      ],
      "execution_count": null,
      "outputs": [
        {
          "output_type": "execute_result",
          "data": {
            "text/html": [
              "<div>\n",
              "<style scoped>\n",
              "    .dataframe tbody tr th:only-of-type {\n",
              "        vertical-align: middle;\n",
              "    }\n",
              "\n",
              "    .dataframe tbody tr th {\n",
              "        vertical-align: top;\n",
              "    }\n",
              "\n",
              "    .dataframe thead th {\n",
              "        text-align: right;\n",
              "    }\n",
              "</style>\n",
              "<table border=\"1\" class=\"dataframe\">\n",
              "  <thead>\n",
              "    <tr style=\"text-align: right;\">\n",
              "      <th>cty</th>\n",
              "      <th>JP</th>\n",
              "      <th>US</th>\n",
              "    </tr>\n",
              "  </thead>\n",
              "  <tbody>\n",
              "    <tr>\n",
              "      <th>0</th>\n",
              "      <td>2</td>\n",
              "      <td>3</td>\n",
              "    </tr>\n",
              "    <tr>\n",
              "      <th>1</th>\n",
              "      <td>2</td>\n",
              "      <td>3</td>\n",
              "    </tr>\n",
              "    <tr>\n",
              "      <th>2</th>\n",
              "      <td>2</td>\n",
              "      <td>3</td>\n",
              "    </tr>\n",
              "    <tr>\n",
              "      <th>3</th>\n",
              "      <td>2</td>\n",
              "      <td>3</td>\n",
              "    </tr>\n",
              "  </tbody>\n",
              "</table>\n",
              "</div>"
            ],
            "text/plain": [
              "cty  JP  US\n",
              "0     2   3\n",
              "1     2   3\n",
              "2     2   3\n",
              "3     2   3"
            ]
          },
          "metadata": {
            "tags": []
          },
          "execution_count": 84
        }
      ]
    },
    {
      "cell_type": "markdown",
      "metadata": {
        "id": "CnMKQYtUpWbu"
      },
      "source": [
        "## 10.2 Data Aggregation"
      ]
    },
    {
      "cell_type": "markdown",
      "metadata": {
        "id": "Bz7hrb6Pphp9"
      },
      "source": [
        "Aggreations refer to any data transformation that produces scalar values from arrays."
      ]
    },
    {
      "cell_type": "markdown",
      "metadata": {
        "id": "A3hFvxgopri9"
      },
      "source": [
        "![image.png](data:image/png;base64,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)"
      ]
    },
    {
      "cell_type": "code",
      "metadata": {
        "colab": {
          "base_uri": "https://localhost:8080/",
          "height": 202
        },
        "id": "BCLVy2pLeoDk",
        "outputId": "568ab35e-5099-4f78-c887-57c83f3b5ca1"
      },
      "source": [
        "df"
      ],
      "execution_count": null,
      "outputs": [
        {
          "output_type": "execute_result",
          "data": {
            "text/html": [
              "<div>\n",
              "<style scoped>\n",
              "    .dataframe tbody tr th:only-of-type {\n",
              "        vertical-align: middle;\n",
              "    }\n",
              "\n",
              "    .dataframe tbody tr th {\n",
              "        vertical-align: top;\n",
              "    }\n",
              "\n",
              "    .dataframe thead th {\n",
              "        text-align: right;\n",
              "    }\n",
              "</style>\n",
              "<table border=\"1\" class=\"dataframe\">\n",
              "  <thead>\n",
              "    <tr style=\"text-align: right;\">\n",
              "      <th></th>\n",
              "      <th>key1</th>\n",
              "      <th>key2</th>\n",
              "      <th>data1</th>\n",
              "      <th>data2</th>\n",
              "    </tr>\n",
              "  </thead>\n",
              "  <tbody>\n",
              "    <tr>\n",
              "      <th>0</th>\n",
              "      <td>a</td>\n",
              "      <td>one</td>\n",
              "      <td>-0.289075</td>\n",
              "      <td>0.709497</td>\n",
              "    </tr>\n",
              "    <tr>\n",
              "      <th>1</th>\n",
              "      <td>b</td>\n",
              "      <td>two</td>\n",
              "      <td>0.157164</td>\n",
              "      <td>0.017929</td>\n",
              "    </tr>\n",
              "    <tr>\n",
              "      <th>2</th>\n",
              "      <td>b</td>\n",
              "      <td>one</td>\n",
              "      <td>1.114404</td>\n",
              "      <td>-1.197678</td>\n",
              "    </tr>\n",
              "    <tr>\n",
              "      <th>3</th>\n",
              "      <td>b</td>\n",
              "      <td>two</td>\n",
              "      <td>-0.191052</td>\n",
              "      <td>-0.785540</td>\n",
              "    </tr>\n",
              "    <tr>\n",
              "      <th>4</th>\n",
              "      <td>a</td>\n",
              "      <td>one</td>\n",
              "      <td>0.457486</td>\n",
              "      <td>-0.496527</td>\n",
              "    </tr>\n",
              "  </tbody>\n",
              "</table>\n",
              "</div>"
            ],
            "text/plain": [
              "  key1 key2     data1     data2\n",
              "0    a  one -0.289075  0.709497\n",
              "1    b  two  0.157164  0.017929\n",
              "2    b  one  1.114404 -1.197678\n",
              "3    b  two -0.191052 -0.785540\n",
              "4    a  one  0.457486 -0.496527"
            ]
          },
          "metadata": {
            "tags": []
          },
          "execution_count": 85
        }
      ]
    },
    {
      "cell_type": "code",
      "metadata": {
        "id": "FkHGmvjHeoGh"
      },
      "source": [
        "grouped = df.groupby('key1')"
      ],
      "execution_count": null,
      "outputs": []
    },
    {
      "cell_type": "markdown",
      "metadata": {
        "id": "CKqYzhGtp6xW"
      },
      "source": [
        "groupby calls piece.quantile() for each piece, and then assembles those results together into the result object"
      ]
    },
    {
      "cell_type": "code",
      "metadata": {
        "colab": {
          "base_uri": "https://localhost:8080/"
        },
        "id": "6OMI7e21eoIr",
        "outputId": "8ff1c8f9-17df-449d-e92d-20944b7f0edf"
      },
      "source": [
        "grouped['data1'].quantile(0.9)"
      ],
      "execution_count": null,
      "outputs": [
        {
          "output_type": "execute_result",
          "data": {
            "text/plain": [
              "key1\n",
              "a    0.382830\n",
              "b    0.922956\n",
              "Name: data1, dtype: float64"
            ]
          },
          "metadata": {
            "tags": []
          },
          "execution_count": 87
        }
      ]
    },
    {
      "cell_type": "markdown",
      "metadata": {
        "id": "XYrJP8d_qf2w"
      },
      "source": [
        "To use your own aggregation functions, pass any function that aggregates an array to the aggregate or agg method"
      ]
    },
    {
      "cell_type": "code",
      "metadata": {
        "id": "2wyFIRNoeoRE"
      },
      "source": [
        "def peak_to_peak(arr):\r\n",
        "  return arr.max() - arr.min()"
      ],
      "execution_count": null,
      "outputs": []
    },
    {
      "cell_type": "code",
      "metadata": {
        "colab": {
          "base_uri": "https://localhost:8080/",
          "height": 141
        },
        "id": "59NhCvICeoT8",
        "outputId": "d8e0498d-d950-4df2-ef63-6d56951109e8"
      },
      "source": [
        "grouped.agg(peak_to_peak)"
      ],
      "execution_count": null,
      "outputs": [
        {
          "output_type": "execute_result",
          "data": {
            "text/html": [
              "<div>\n",
              "<style scoped>\n",
              "    .dataframe tbody tr th:only-of-type {\n",
              "        vertical-align: middle;\n",
              "    }\n",
              "\n",
              "    .dataframe tbody tr th {\n",
              "        vertical-align: top;\n",
              "    }\n",
              "\n",
              "    .dataframe thead th {\n",
              "        text-align: right;\n",
              "    }\n",
              "</style>\n",
              "<table border=\"1\" class=\"dataframe\">\n",
              "  <thead>\n",
              "    <tr style=\"text-align: right;\">\n",
              "      <th></th>\n",
              "      <th>data1</th>\n",
              "      <th>data2</th>\n",
              "    </tr>\n",
              "    <tr>\n",
              "      <th>key1</th>\n",
              "      <th></th>\n",
              "      <th></th>\n",
              "    </tr>\n",
              "  </thead>\n",
              "  <tbody>\n",
              "    <tr>\n",
              "      <th>a</th>\n",
              "      <td>0.746561</td>\n",
              "      <td>1.206024</td>\n",
              "    </tr>\n",
              "    <tr>\n",
              "      <th>b</th>\n",
              "      <td>1.305456</td>\n",
              "      <td>1.215606</td>\n",
              "    </tr>\n",
              "  </tbody>\n",
              "</table>\n",
              "</div>"
            ],
            "text/plain": [
              "         data1     data2\n",
              "key1                    \n",
              "a     0.746561  1.206024\n",
              "b     1.305456  1.215606"
            ]
          },
          "metadata": {
            "tags": []
          },
          "execution_count": 90
        }
      ]
    },
    {
      "cell_type": "code",
      "metadata": {
        "colab": {
          "base_uri": "https://localhost:8080/",
          "height": 191
        },
        "id": "jPeM8HPSqoN7",
        "outputId": "93ddf374-f475-4721-80fc-655b6383b35f"
      },
      "source": [
        "grouped.describe()"
      ],
      "execution_count": null,
      "outputs": [
        {
          "output_type": "execute_result",
          "data": {
            "text/html": [
              "<div>\n",
              "<style scoped>\n",
              "    .dataframe tbody tr th:only-of-type {\n",
              "        vertical-align: middle;\n",
              "    }\n",
              "\n",
              "    .dataframe tbody tr th {\n",
              "        vertical-align: top;\n",
              "    }\n",
              "\n",
              "    .dataframe thead tr th {\n",
              "        text-align: left;\n",
              "    }\n",
              "\n",
              "    .dataframe thead tr:last-of-type th {\n",
              "        text-align: right;\n",
              "    }\n",
              "</style>\n",
              "<table border=\"1\" class=\"dataframe\">\n",
              "  <thead>\n",
              "    <tr>\n",
              "      <th></th>\n",
              "      <th colspan=\"8\" halign=\"left\">data1</th>\n",
              "      <th colspan=\"8\" halign=\"left\">data2</th>\n",
              "    </tr>\n",
              "    <tr>\n",
              "      <th></th>\n",
              "      <th>count</th>\n",
              "      <th>mean</th>\n",
              "      <th>std</th>\n",
              "      <th>min</th>\n",
              "      <th>25%</th>\n",
              "      <th>50%</th>\n",
              "      <th>75%</th>\n",
              "      <th>max</th>\n",
              "      <th>count</th>\n",
              "      <th>mean</th>\n",
              "      <th>std</th>\n",
              "      <th>min</th>\n",
              "      <th>25%</th>\n",
              "      <th>50%</th>\n",
              "      <th>75%</th>\n",
              "      <th>max</th>\n",
              "    </tr>\n",
              "    <tr>\n",
              "      <th>key1</th>\n",
              "      <th></th>\n",
              "      <th></th>\n",
              "      <th></th>\n",
              "      <th></th>\n",
              "      <th></th>\n",
              "      <th></th>\n",
              "      <th></th>\n",
              "      <th></th>\n",
              "      <th></th>\n",
              "      <th></th>\n",
              "      <th></th>\n",
              "      <th></th>\n",
              "      <th></th>\n",
              "      <th></th>\n",
              "      <th></th>\n",
              "      <th></th>\n",
              "    </tr>\n",
              "  </thead>\n",
              "  <tbody>\n",
              "    <tr>\n",
              "      <th>a</th>\n",
              "      <td>2.0</td>\n",
              "      <td>0.084206</td>\n",
              "      <td>0.527898</td>\n",
              "      <td>-0.289075</td>\n",
              "      <td>-0.102434</td>\n",
              "      <td>0.084206</td>\n",
              "      <td>0.270846</td>\n",
              "      <td>0.457486</td>\n",
              "      <td>2.0</td>\n",
              "      <td>0.106485</td>\n",
              "      <td>0.852788</td>\n",
              "      <td>-0.496527</td>\n",
              "      <td>-0.195021</td>\n",
              "      <td>0.106485</td>\n",
              "      <td>0.407991</td>\n",
              "      <td>0.709497</td>\n",
              "    </tr>\n",
              "    <tr>\n",
              "      <th>b</th>\n",
              "      <td>3.0</td>\n",
              "      <td>0.360172</td>\n",
              "      <td>0.675990</td>\n",
              "      <td>-0.191052</td>\n",
              "      <td>-0.016944</td>\n",
              "      <td>0.157164</td>\n",
              "      <td>0.635784</td>\n",
              "      <td>1.114404</td>\n",
              "      <td>3.0</td>\n",
              "      <td>-0.655096</td>\n",
              "      <td>0.618212</td>\n",
              "      <td>-1.197678</td>\n",
              "      <td>-0.991609</td>\n",
              "      <td>-0.785540</td>\n",
              "      <td>-0.383806</td>\n",
              "      <td>0.017929</td>\n",
              "    </tr>\n",
              "  </tbody>\n",
              "</table>\n",
              "</div>"
            ],
            "text/plain": [
              "     data1                      ...     data2                    \n",
              "     count      mean       std  ...       50%       75%       max\n",
              "key1                            ...                              \n",
              "a      2.0  0.084206  0.527898  ...  0.106485  0.407991  0.709497\n",
              "b      3.0  0.360172  0.675990  ... -0.785540 -0.383806  0.017929\n",
              "\n",
              "[2 rows x 16 columns]"
            ]
          },
          "metadata": {
            "tags": []
          },
          "execution_count": 91
        }
      ]
    },
    {
      "cell_type": "markdown",
      "metadata": {
        "id": "M_RlrDAwq33N"
      },
      "source": [
        "### Column-Wise and Multiple Function Application"
      ]
    },
    {
      "cell_type": "code",
      "metadata": {
        "id": "ma24sb0YqoQx"
      },
      "source": [
        "tips = pd.read_csv('tips.csv')"
      ],
      "execution_count": null,
      "outputs": []
    },
    {
      "cell_type": "code",
      "metadata": {
        "id": "evsdZkdHqoWT"
      },
      "source": [
        "# add tip percentage of total bill\r\n",
        "tips['tip_pct'] = tips['tip'] / tips['total_bill']"
      ],
      "execution_count": null,
      "outputs": []
    },
    {
      "cell_type": "code",
      "metadata": {
        "colab": {
          "base_uri": "https://localhost:8080/",
          "height": 141
        },
        "id": "Uzrm_MlAqoZP",
        "outputId": "0f8763c5-a8c4-40c8-e2a4-fd671995ef8e"
      },
      "source": [
        "tips.head(3)"
      ],
      "execution_count": null,
      "outputs": [
        {
          "output_type": "execute_result",
          "data": {
            "text/html": [
              "<div>\n",
              "<style scoped>\n",
              "    .dataframe tbody tr th:only-of-type {\n",
              "        vertical-align: middle;\n",
              "    }\n",
              "\n",
              "    .dataframe tbody tr th {\n",
              "        vertical-align: top;\n",
              "    }\n",
              "\n",
              "    .dataframe thead th {\n",
              "        text-align: right;\n",
              "    }\n",
              "</style>\n",
              "<table border=\"1\" class=\"dataframe\">\n",
              "  <thead>\n",
              "    <tr style=\"text-align: right;\">\n",
              "      <th></th>\n",
              "      <th>total_bill</th>\n",
              "      <th>tip</th>\n",
              "      <th>sex</th>\n",
              "      <th>smoker</th>\n",
              "      <th>day</th>\n",
              "      <th>time</th>\n",
              "      <th>size</th>\n",
              "      <th>tip_pct</th>\n",
              "    </tr>\n",
              "  </thead>\n",
              "  <tbody>\n",
              "    <tr>\n",
              "      <th>0</th>\n",
              "      <td>16.99</td>\n",
              "      <td>1.01</td>\n",
              "      <td>Female</td>\n",
              "      <td>No</td>\n",
              "      <td>Sun</td>\n",
              "      <td>Dinner</td>\n",
              "      <td>2</td>\n",
              "      <td>0.059447</td>\n",
              "    </tr>\n",
              "    <tr>\n",
              "      <th>1</th>\n",
              "      <td>10.34</td>\n",
              "      <td>1.66</td>\n",
              "      <td>Male</td>\n",
              "      <td>No</td>\n",
              "      <td>Sun</td>\n",
              "      <td>Dinner</td>\n",
              "      <td>3</td>\n",
              "      <td>0.160542</td>\n",
              "    </tr>\n",
              "    <tr>\n",
              "      <th>2</th>\n",
              "      <td>21.01</td>\n",
              "      <td>3.50</td>\n",
              "      <td>Male</td>\n",
              "      <td>No</td>\n",
              "      <td>Sun</td>\n",
              "      <td>Dinner</td>\n",
              "      <td>3</td>\n",
              "      <td>0.166587</td>\n",
              "    </tr>\n",
              "  </tbody>\n",
              "</table>\n",
              "</div>"
            ],
            "text/plain": [
              "   total_bill   tip     sex smoker  day    time  size   tip_pct\n",
              "0       16.99  1.01  Female     No  Sun  Dinner     2  0.059447\n",
              "1       10.34  1.66    Male     No  Sun  Dinner     3  0.160542\n",
              "2       21.01  3.50    Male     No  Sun  Dinner     3  0.166587"
            ]
          },
          "metadata": {
            "tags": []
          },
          "execution_count": 96
        }
      ]
    },
    {
      "cell_type": "code",
      "metadata": {
        "id": "-0EYSRJFqoek"
      },
      "source": [
        "# group the tips by day and smoker\r\n",
        "grouped = tips.groupby(['day', 'smoker'])"
      ],
      "execution_count": null,
      "outputs": []
    },
    {
      "cell_type": "code",
      "metadata": {
        "id": "BfNncWn_qoiO"
      },
      "source": [
        "grouped_pct = grouped['tip_pct']"
      ],
      "execution_count": null,
      "outputs": []
    },
    {
      "cell_type": "code",
      "metadata": {
        "colab": {
          "base_uri": "https://localhost:8080/"
        },
        "id": "LDAhcHtJqolR",
        "outputId": "fb605fbf-9a3f-48b8-b4f4-e71a7ed88ce7"
      },
      "source": [
        "grouped_pct.agg('mean')"
      ],
      "execution_count": null,
      "outputs": [
        {
          "output_type": "execute_result",
          "data": {
            "text/plain": [
              "day   smoker\n",
              "Fri   No        0.151650\n",
              "      Yes       0.174783\n",
              "Sat   No        0.158048\n",
              "      Yes       0.147906\n",
              "Sun   No        0.160113\n",
              "      Yes       0.187250\n",
              "Thur  No        0.160298\n",
              "      Yes       0.163863\n",
              "Name: tip_pct, dtype: float64"
            ]
          },
          "metadata": {
            "tags": []
          },
          "execution_count": 99
        }
      ]
    },
    {
      "cell_type": "code",
      "metadata": {
        "colab": {
          "base_uri": "https://localhost:8080/",
          "height": 325
        },
        "id": "b3_TY8VHqooh",
        "outputId": "c88a36c7-fd51-46e5-e588-3be3115adcd4"
      },
      "source": [
        "grouped_pct.agg(['mean', 'std', peak_to_peak])"
      ],
      "execution_count": null,
      "outputs": [
        {
          "output_type": "execute_result",
          "data": {
            "text/html": [
              "<div>\n",
              "<style scoped>\n",
              "    .dataframe tbody tr th:only-of-type {\n",
              "        vertical-align: middle;\n",
              "    }\n",
              "\n",
              "    .dataframe tbody tr th {\n",
              "        vertical-align: top;\n",
              "    }\n",
              "\n",
              "    .dataframe thead th {\n",
              "        text-align: right;\n",
              "    }\n",
              "</style>\n",
              "<table border=\"1\" class=\"dataframe\">\n",
              "  <thead>\n",
              "    <tr style=\"text-align: right;\">\n",
              "      <th></th>\n",
              "      <th></th>\n",
              "      <th>mean</th>\n",
              "      <th>std</th>\n",
              "      <th>peak_to_peak</th>\n",
              "    </tr>\n",
              "    <tr>\n",
              "      <th>day</th>\n",
              "      <th>smoker</th>\n",
              "      <th></th>\n",
              "      <th></th>\n",
              "      <th></th>\n",
              "    </tr>\n",
              "  </thead>\n",
              "  <tbody>\n",
              "    <tr>\n",
              "      <th rowspan=\"2\" valign=\"top\">Fri</th>\n",
              "      <th>No</th>\n",
              "      <td>0.151650</td>\n",
              "      <td>0.028123</td>\n",
              "      <td>0.067349</td>\n",
              "    </tr>\n",
              "    <tr>\n",
              "      <th>Yes</th>\n",
              "      <td>0.174783</td>\n",
              "      <td>0.051293</td>\n",
              "      <td>0.159925</td>\n",
              "    </tr>\n",
              "    <tr>\n",
              "      <th rowspan=\"2\" valign=\"top\">Sat</th>\n",
              "      <th>No</th>\n",
              "      <td>0.158048</td>\n",
              "      <td>0.039767</td>\n",
              "      <td>0.235193</td>\n",
              "    </tr>\n",
              "    <tr>\n",
              "      <th>Yes</th>\n",
              "      <td>0.147906</td>\n",
              "      <td>0.061375</td>\n",
              "      <td>0.290095</td>\n",
              "    </tr>\n",
              "    <tr>\n",
              "      <th rowspan=\"2\" valign=\"top\">Sun</th>\n",
              "      <th>No</th>\n",
              "      <td>0.160113</td>\n",
              "      <td>0.042347</td>\n",
              "      <td>0.193226</td>\n",
              "    </tr>\n",
              "    <tr>\n",
              "      <th>Yes</th>\n",
              "      <td>0.187250</td>\n",
              "      <td>0.154134</td>\n",
              "      <td>0.644685</td>\n",
              "    </tr>\n",
              "    <tr>\n",
              "      <th rowspan=\"2\" valign=\"top\">Thur</th>\n",
              "      <th>No</th>\n",
              "      <td>0.160298</td>\n",
              "      <td>0.038774</td>\n",
              "      <td>0.193350</td>\n",
              "    </tr>\n",
              "    <tr>\n",
              "      <th>Yes</th>\n",
              "      <td>0.163863</td>\n",
              "      <td>0.039389</td>\n",
              "      <td>0.151240</td>\n",
              "    </tr>\n",
              "  </tbody>\n",
              "</table>\n",
              "</div>"
            ],
            "text/plain": [
              "                 mean       std  peak_to_peak\n",
              "day  smoker                                  \n",
              "Fri  No      0.151650  0.028123      0.067349\n",
              "     Yes     0.174783  0.051293      0.159925\n",
              "Sat  No      0.158048  0.039767      0.235193\n",
              "     Yes     0.147906  0.061375      0.290095\n",
              "Sun  No      0.160113  0.042347      0.193226\n",
              "     Yes     0.187250  0.154134      0.644685\n",
              "Thur No      0.160298  0.038774      0.193350\n",
              "     Yes     0.163863  0.039389      0.151240"
            ]
          },
          "metadata": {
            "tags": []
          },
          "execution_count": 101
        }
      ]
    },
    {
      "cell_type": "markdown",
      "metadata": {
        "id": "JbuH7Y5eteGh"
      },
      "source": [
        "**If you pass a list of (name, function) tuples to agg, the first element of each tuple will be used as the DataFrame column names( we can think of a list of 2-tuples as an ordered mapping)**"
      ]
    },
    {
      "cell_type": "code",
      "metadata": {
        "colab": {
          "base_uri": "https://localhost:8080/",
          "height": 325
        },
        "id": "gP9aMnQHqor-",
        "outputId": "431ccb33-e4d0-4cb4-edca-21903a821199"
      },
      "source": [
        "# 'foo' and 'bar' are used as column names, 'mean' and np.std are used as functions\r\n",
        "grouped_pct.agg([('foo', 'mean'), ('bar', np.std)])"
      ],
      "execution_count": null,
      "outputs": [
        {
          "output_type": "execute_result",
          "data": {
            "text/html": [
              "<div>\n",
              "<style scoped>\n",
              "    .dataframe tbody tr th:only-of-type {\n",
              "        vertical-align: middle;\n",
              "    }\n",
              "\n",
              "    .dataframe tbody tr th {\n",
              "        vertical-align: top;\n",
              "    }\n",
              "\n",
              "    .dataframe thead th {\n",
              "        text-align: right;\n",
              "    }\n",
              "</style>\n",
              "<table border=\"1\" class=\"dataframe\">\n",
              "  <thead>\n",
              "    <tr style=\"text-align: right;\">\n",
              "      <th></th>\n",
              "      <th></th>\n",
              "      <th>foo</th>\n",
              "      <th>bar</th>\n",
              "    </tr>\n",
              "    <tr>\n",
              "      <th>day</th>\n",
              "      <th>smoker</th>\n",
              "      <th></th>\n",
              "      <th></th>\n",
              "    </tr>\n",
              "  </thead>\n",
              "  <tbody>\n",
              "    <tr>\n",
              "      <th rowspan=\"2\" valign=\"top\">Fri</th>\n",
              "      <th>No</th>\n",
              "      <td>0.151650</td>\n",
              "      <td>0.028123</td>\n",
              "    </tr>\n",
              "    <tr>\n",
              "      <th>Yes</th>\n",
              "      <td>0.174783</td>\n",
              "      <td>0.051293</td>\n",
              "    </tr>\n",
              "    <tr>\n",
              "      <th rowspan=\"2\" valign=\"top\">Sat</th>\n",
              "      <th>No</th>\n",
              "      <td>0.158048</td>\n",
              "      <td>0.039767</td>\n",
              "    </tr>\n",
              "    <tr>\n",
              "      <th>Yes</th>\n",
              "      <td>0.147906</td>\n",
              "      <td>0.061375</td>\n",
              "    </tr>\n",
              "    <tr>\n",
              "      <th rowspan=\"2\" valign=\"top\">Sun</th>\n",
              "      <th>No</th>\n",
              "      <td>0.160113</td>\n",
              "      <td>0.042347</td>\n",
              "    </tr>\n",
              "    <tr>\n",
              "      <th>Yes</th>\n",
              "      <td>0.187250</td>\n",
              "      <td>0.154134</td>\n",
              "    </tr>\n",
              "    <tr>\n",
              "      <th rowspan=\"2\" valign=\"top\">Thur</th>\n",
              "      <th>No</th>\n",
              "      <td>0.160298</td>\n",
              "      <td>0.038774</td>\n",
              "    </tr>\n",
              "    <tr>\n",
              "      <th>Yes</th>\n",
              "      <td>0.163863</td>\n",
              "      <td>0.039389</td>\n",
              "    </tr>\n",
              "  </tbody>\n",
              "</table>\n",
              "</div>"
            ],
            "text/plain": [
              "                  foo       bar\n",
              "day  smoker                    \n",
              "Fri  No      0.151650  0.028123\n",
              "     Yes     0.174783  0.051293\n",
              "Sat  No      0.158048  0.039767\n",
              "     Yes     0.147906  0.061375\n",
              "Sun  No      0.160113  0.042347\n",
              "     Yes     0.187250  0.154134\n",
              "Thur No      0.160298  0.038774\n",
              "     Yes     0.163863  0.039389"
            ]
          },
          "metadata": {
            "tags": []
          },
          "execution_count": 102
        }
      ]
    },
    {
      "cell_type": "code",
      "metadata": {
        "colab": {
          "base_uri": "https://localhost:8080/",
          "height": 325
        },
        "id": "E_JIdTuSqou2",
        "outputId": "de75d8e7-8201-4b84-c396-2b092ad651c9"
      },
      "source": [
        "grouped_pct.agg([('foo', 'mean'), ('bar', 'std')])"
      ],
      "execution_count": null,
      "outputs": [
        {
          "output_type": "execute_result",
          "data": {
            "text/html": [
              "<div>\n",
              "<style scoped>\n",
              "    .dataframe tbody tr th:only-of-type {\n",
              "        vertical-align: middle;\n",
              "    }\n",
              "\n",
              "    .dataframe tbody tr th {\n",
              "        vertical-align: top;\n",
              "    }\n",
              "\n",
              "    .dataframe thead th {\n",
              "        text-align: right;\n",
              "    }\n",
              "</style>\n",
              "<table border=\"1\" class=\"dataframe\">\n",
              "  <thead>\n",
              "    <tr style=\"text-align: right;\">\n",
              "      <th></th>\n",
              "      <th></th>\n",
              "      <th>foo</th>\n",
              "      <th>bar</th>\n",
              "    </tr>\n",
              "    <tr>\n",
              "      <th>day</th>\n",
              "      <th>smoker</th>\n",
              "      <th></th>\n",
              "      <th></th>\n",
              "    </tr>\n",
              "  </thead>\n",
              "  <tbody>\n",
              "    <tr>\n",
              "      <th rowspan=\"2\" valign=\"top\">Fri</th>\n",
              "      <th>No</th>\n",
              "      <td>0.151650</td>\n",
              "      <td>0.028123</td>\n",
              "    </tr>\n",
              "    <tr>\n",
              "      <th>Yes</th>\n",
              "      <td>0.174783</td>\n",
              "      <td>0.051293</td>\n",
              "    </tr>\n",
              "    <tr>\n",
              "      <th rowspan=\"2\" valign=\"top\">Sat</th>\n",
              "      <th>No</th>\n",
              "      <td>0.158048</td>\n",
              "      <td>0.039767</td>\n",
              "    </tr>\n",
              "    <tr>\n",
              "      <th>Yes</th>\n",
              "      <td>0.147906</td>\n",
              "      <td>0.061375</td>\n",
              "    </tr>\n",
              "    <tr>\n",
              "      <th rowspan=\"2\" valign=\"top\">Sun</th>\n",
              "      <th>No</th>\n",
              "      <td>0.160113</td>\n",
              "      <td>0.042347</td>\n",
              "    </tr>\n",
              "    <tr>\n",
              "      <th>Yes</th>\n",
              "      <td>0.187250</td>\n",
              "      <td>0.154134</td>\n",
              "    </tr>\n",
              "    <tr>\n",
              "      <th rowspan=\"2\" valign=\"top\">Thur</th>\n",
              "      <th>No</th>\n",
              "      <td>0.160298</td>\n",
              "      <td>0.038774</td>\n",
              "    </tr>\n",
              "    <tr>\n",
              "      <th>Yes</th>\n",
              "      <td>0.163863</td>\n",
              "      <td>0.039389</td>\n",
              "    </tr>\n",
              "  </tbody>\n",
              "</table>\n",
              "</div>"
            ],
            "text/plain": [
              "                  foo       bar\n",
              "day  smoker                    \n",
              "Fri  No      0.151650  0.028123\n",
              "     Yes     0.174783  0.051293\n",
              "Sat  No      0.158048  0.039767\n",
              "     Yes     0.147906  0.061375\n",
              "Sun  No      0.160113  0.042347\n",
              "     Yes     0.187250  0.154134\n",
              "Thur No      0.160298  0.038774\n",
              "     Yes     0.163863  0.039389"
            ]
          },
          "metadata": {
            "tags": []
          },
          "execution_count": 103
        }
      ]
    },
    {
      "cell_type": "markdown",
      "metadata": {
        "id": "HtCOyWjguTYR"
      },
      "source": [
        "You can specify a list of functions to apply to all of the columns or different functions per column"
      ]
    },
    {
      "cell_type": "code",
      "metadata": {
        "id": "vJ3jc6RKqox_"
      },
      "source": [
        "functions = ['count', 'mean', 'max']"
      ],
      "execution_count": null,
      "outputs": []
    },
    {
      "cell_type": "code",
      "metadata": {
        "colab": {
          "base_uri": "https://localhost:8080/"
        },
        "id": "yMgGIJxwqo0T",
        "outputId": "1cc93191-187c-42d5-fab1-ed032cb95845"
      },
      "source": [
        "result = grouped['tip_pct', 'total_bill'].agg(functions)"
      ],
      "execution_count": null,
      "outputs": [
        {
          "output_type": "stream",
          "text": [
            "/usr/local/lib/python3.6/dist-packages/ipykernel_launcher.py:1: FutureWarning: Indexing with multiple keys (implicitly converted to a tuple of keys) will be deprecated, use a list instead.\n",
            "  \"\"\"Entry point for launching an IPython kernel.\n"
          ],
          "name": "stderr"
        }
      ]
    },
    {
      "cell_type": "code",
      "metadata": {
        "colab": {
          "base_uri": "https://localhost:8080/",
          "height": 355
        },
        "id": "QV4Ab0_5qo3T",
        "outputId": "f1db4af9-abd3-4145-b8c6-769a2277f557"
      },
      "source": [
        "result"
      ],
      "execution_count": null,
      "outputs": [
        {
          "output_type": "execute_result",
          "data": {
            "text/html": [
              "<div>\n",
              "<style scoped>\n",
              "    .dataframe tbody tr th:only-of-type {\n",
              "        vertical-align: middle;\n",
              "    }\n",
              "\n",
              "    .dataframe tbody tr th {\n",
              "        vertical-align: top;\n",
              "    }\n",
              "\n",
              "    .dataframe thead tr th {\n",
              "        text-align: left;\n",
              "    }\n",
              "\n",
              "    .dataframe thead tr:last-of-type th {\n",
              "        text-align: right;\n",
              "    }\n",
              "</style>\n",
              "<table border=\"1\" class=\"dataframe\">\n",
              "  <thead>\n",
              "    <tr>\n",
              "      <th></th>\n",
              "      <th></th>\n",
              "      <th colspan=\"3\" halign=\"left\">tip_pct</th>\n",
              "      <th colspan=\"3\" halign=\"left\">total_bill</th>\n",
              "    </tr>\n",
              "    <tr>\n",
              "      <th></th>\n",
              "      <th></th>\n",
              "      <th>count</th>\n",
              "      <th>mean</th>\n",
              "      <th>max</th>\n",
              "      <th>count</th>\n",
              "      <th>mean</th>\n",
              "      <th>max</th>\n",
              "    </tr>\n",
              "    <tr>\n",
              "      <th>day</th>\n",
              "      <th>smoker</th>\n",
              "      <th></th>\n",
              "      <th></th>\n",
              "      <th></th>\n",
              "      <th></th>\n",
              "      <th></th>\n",
              "      <th></th>\n",
              "    </tr>\n",
              "  </thead>\n",
              "  <tbody>\n",
              "    <tr>\n",
              "      <th rowspan=\"2\" valign=\"top\">Fri</th>\n",
              "      <th>No</th>\n",
              "      <td>4</td>\n",
              "      <td>0.151650</td>\n",
              "      <td>0.187735</td>\n",
              "      <td>4</td>\n",
              "      <td>18.420000</td>\n",
              "      <td>22.75</td>\n",
              "    </tr>\n",
              "    <tr>\n",
              "      <th>Yes</th>\n",
              "      <td>15</td>\n",
              "      <td>0.174783</td>\n",
              "      <td>0.263480</td>\n",
              "      <td>15</td>\n",
              "      <td>16.813333</td>\n",
              "      <td>40.17</td>\n",
              "    </tr>\n",
              "    <tr>\n",
              "      <th rowspan=\"2\" valign=\"top\">Sat</th>\n",
              "      <th>No</th>\n",
              "      <td>45</td>\n",
              "      <td>0.158048</td>\n",
              "      <td>0.291990</td>\n",
              "      <td>45</td>\n",
              "      <td>19.661778</td>\n",
              "      <td>48.33</td>\n",
              "    </tr>\n",
              "    <tr>\n",
              "      <th>Yes</th>\n",
              "      <td>42</td>\n",
              "      <td>0.147906</td>\n",
              "      <td>0.325733</td>\n",
              "      <td>42</td>\n",
              "      <td>21.276667</td>\n",
              "      <td>50.81</td>\n",
              "    </tr>\n",
              "    <tr>\n",
              "      <th rowspan=\"2\" valign=\"top\">Sun</th>\n",
              "      <th>No</th>\n",
              "      <td>57</td>\n",
              "      <td>0.160113</td>\n",
              "      <td>0.252672</td>\n",
              "      <td>57</td>\n",
              "      <td>20.506667</td>\n",
              "      <td>48.17</td>\n",
              "    </tr>\n",
              "    <tr>\n",
              "      <th>Yes</th>\n",
              "      <td>19</td>\n",
              "      <td>0.187250</td>\n",
              "      <td>0.710345</td>\n",
              "      <td>19</td>\n",
              "      <td>24.120000</td>\n",
              "      <td>45.35</td>\n",
              "    </tr>\n",
              "    <tr>\n",
              "      <th rowspan=\"2\" valign=\"top\">Thur</th>\n",
              "      <th>No</th>\n",
              "      <td>45</td>\n",
              "      <td>0.160298</td>\n",
              "      <td>0.266312</td>\n",
              "      <td>45</td>\n",
              "      <td>17.113111</td>\n",
              "      <td>41.19</td>\n",
              "    </tr>\n",
              "    <tr>\n",
              "      <th>Yes</th>\n",
              "      <td>17</td>\n",
              "      <td>0.163863</td>\n",
              "      <td>0.241255</td>\n",
              "      <td>17</td>\n",
              "      <td>19.190588</td>\n",
              "      <td>43.11</td>\n",
              "    </tr>\n",
              "  </tbody>\n",
              "</table>\n",
              "</div>"
            ],
            "text/plain": [
              "            tip_pct                     total_bill                  \n",
              "              count      mean       max      count       mean    max\n",
              "day  smoker                                                         \n",
              "Fri  No           4  0.151650  0.187735          4  18.420000  22.75\n",
              "     Yes         15  0.174783  0.263480         15  16.813333  40.17\n",
              "Sat  No          45  0.158048  0.291990         45  19.661778  48.33\n",
              "     Yes         42  0.147906  0.325733         42  21.276667  50.81\n",
              "Sun  No          57  0.160113  0.252672         57  20.506667  48.17\n",
              "     Yes         19  0.187250  0.710345         19  24.120000  45.35\n",
              "Thur No          45  0.160298  0.266312         45  17.113111  41.19\n",
              "     Yes         17  0.163863  0.241255         17  19.190588  43.11"
            ]
          },
          "metadata": {
            "tags": []
          },
          "execution_count": 106
        }
      ]
    },
    {
      "cell_type": "markdown",
      "metadata": {
        "id": "qQ39OtTrux_y"
      },
      "source": [
        "We get a hierarchical column, we can get the same result by aggregating each column separately and using concat to glue the results together. we can get them using the column names as the keys argument."
      ]
    },
    {
      "cell_type": "code",
      "metadata": {
        "colab": {
          "base_uri": "https://localhost:8080/",
          "height": 325
        },
        "id": "rUv6Myhmqo53",
        "outputId": "be5e7228-2d01-46cc-c9bf-7049b28fbf64"
      },
      "source": [
        "result['tip_pct']"
      ],
      "execution_count": null,
      "outputs": [
        {
          "output_type": "execute_result",
          "data": {
            "text/html": [
              "<div>\n",
              "<style scoped>\n",
              "    .dataframe tbody tr th:only-of-type {\n",
              "        vertical-align: middle;\n",
              "    }\n",
              "\n",
              "    .dataframe tbody tr th {\n",
              "        vertical-align: top;\n",
              "    }\n",
              "\n",
              "    .dataframe thead th {\n",
              "        text-align: right;\n",
              "    }\n",
              "</style>\n",
              "<table border=\"1\" class=\"dataframe\">\n",
              "  <thead>\n",
              "    <tr style=\"text-align: right;\">\n",
              "      <th></th>\n",
              "      <th></th>\n",
              "      <th>count</th>\n",
              "      <th>mean</th>\n",
              "      <th>max</th>\n",
              "    </tr>\n",
              "    <tr>\n",
              "      <th>day</th>\n",
              "      <th>smoker</th>\n",
              "      <th></th>\n",
              "      <th></th>\n",
              "      <th></th>\n",
              "    </tr>\n",
              "  </thead>\n",
              "  <tbody>\n",
              "    <tr>\n",
              "      <th rowspan=\"2\" valign=\"top\">Fri</th>\n",
              "      <th>No</th>\n",
              "      <td>4</td>\n",
              "      <td>0.151650</td>\n",
              "      <td>0.187735</td>\n",
              "    </tr>\n",
              "    <tr>\n",
              "      <th>Yes</th>\n",
              "      <td>15</td>\n",
              "      <td>0.174783</td>\n",
              "      <td>0.263480</td>\n",
              "    </tr>\n",
              "    <tr>\n",
              "      <th rowspan=\"2\" valign=\"top\">Sat</th>\n",
              "      <th>No</th>\n",
              "      <td>45</td>\n",
              "      <td>0.158048</td>\n",
              "      <td>0.291990</td>\n",
              "    </tr>\n",
              "    <tr>\n",
              "      <th>Yes</th>\n",
              "      <td>42</td>\n",
              "      <td>0.147906</td>\n",
              "      <td>0.325733</td>\n",
              "    </tr>\n",
              "    <tr>\n",
              "      <th rowspan=\"2\" valign=\"top\">Sun</th>\n",
              "      <th>No</th>\n",
              "      <td>57</td>\n",
              "      <td>0.160113</td>\n",
              "      <td>0.252672</td>\n",
              "    </tr>\n",
              "    <tr>\n",
              "      <th>Yes</th>\n",
              "      <td>19</td>\n",
              "      <td>0.187250</td>\n",
              "      <td>0.710345</td>\n",
              "    </tr>\n",
              "    <tr>\n",
              "      <th rowspan=\"2\" valign=\"top\">Thur</th>\n",
              "      <th>No</th>\n",
              "      <td>45</td>\n",
              "      <td>0.160298</td>\n",
              "      <td>0.266312</td>\n",
              "    </tr>\n",
              "    <tr>\n",
              "      <th>Yes</th>\n",
              "      <td>17</td>\n",
              "      <td>0.163863</td>\n",
              "      <td>0.241255</td>\n",
              "    </tr>\n",
              "  </tbody>\n",
              "</table>\n",
              "</div>"
            ],
            "text/plain": [
              "             count      mean       max\n",
              "day  smoker                           \n",
              "Fri  No          4  0.151650  0.187735\n",
              "     Yes        15  0.174783  0.263480\n",
              "Sat  No         45  0.158048  0.291990\n",
              "     Yes        42  0.147906  0.325733\n",
              "Sun  No         57  0.160113  0.252672\n",
              "     Yes        19  0.187250  0.710345\n",
              "Thur No         45  0.160298  0.266312\n",
              "     Yes        17  0.163863  0.241255"
            ]
          },
          "metadata": {
            "tags": []
          },
          "execution_count": 107
        }
      ]
    },
    {
      "cell_type": "code",
      "metadata": {
        "id": "Rm-dFuBSqo9e"
      },
      "source": [
        "ftuples = [('Durchschnitt', 'mean'), ('Abweichug', np.var)]"
      ],
      "execution_count": null,
      "outputs": []
    },
    {
      "cell_type": "code",
      "metadata": {
        "colab": {
          "base_uri": "https://localhost:8080/",
          "height": 410
        },
        "id": "ChCwkUPhqpD2",
        "outputId": "ae4469b6-5295-454d-d5f4-f8dd431577e7"
      },
      "source": [
        "grouped['tip_pct', 'total_bill'].agg(ftuples)"
      ],
      "execution_count": null,
      "outputs": [
        {
          "output_type": "stream",
          "text": [
            "/usr/local/lib/python3.6/dist-packages/ipykernel_launcher.py:1: FutureWarning: Indexing with multiple keys (implicitly converted to a tuple of keys) will be deprecated, use a list instead.\n",
            "  \"\"\"Entry point for launching an IPython kernel.\n"
          ],
          "name": "stderr"
        },
        {
          "output_type": "execute_result",
          "data": {
            "text/html": [
              "<div>\n",
              "<style scoped>\n",
              "    .dataframe tbody tr th:only-of-type {\n",
              "        vertical-align: middle;\n",
              "    }\n",
              "\n",
              "    .dataframe tbody tr th {\n",
              "        vertical-align: top;\n",
              "    }\n",
              "\n",
              "    .dataframe thead tr th {\n",
              "        text-align: left;\n",
              "    }\n",
              "\n",
              "    .dataframe thead tr:last-of-type th {\n",
              "        text-align: right;\n",
              "    }\n",
              "</style>\n",
              "<table border=\"1\" class=\"dataframe\">\n",
              "  <thead>\n",
              "    <tr>\n",
              "      <th></th>\n",
              "      <th></th>\n",
              "      <th colspan=\"2\" halign=\"left\">tip_pct</th>\n",
              "      <th colspan=\"2\" halign=\"left\">total_bill</th>\n",
              "    </tr>\n",
              "    <tr>\n",
              "      <th></th>\n",
              "      <th></th>\n",
              "      <th>Durchschnitt</th>\n",
              "      <th>Abweichug</th>\n",
              "      <th>Durchschnitt</th>\n",
              "      <th>Abweichug</th>\n",
              "    </tr>\n",
              "    <tr>\n",
              "      <th>day</th>\n",
              "      <th>smoker</th>\n",
              "      <th></th>\n",
              "      <th></th>\n",
              "      <th></th>\n",
              "      <th></th>\n",
              "    </tr>\n",
              "  </thead>\n",
              "  <tbody>\n",
              "    <tr>\n",
              "      <th rowspan=\"2\" valign=\"top\">Fri</th>\n",
              "      <th>No</th>\n",
              "      <td>0.151650</td>\n",
              "      <td>0.000791</td>\n",
              "      <td>18.420000</td>\n",
              "      <td>25.596333</td>\n",
              "    </tr>\n",
              "    <tr>\n",
              "      <th>Yes</th>\n",
              "      <td>0.174783</td>\n",
              "      <td>0.002631</td>\n",
              "      <td>16.813333</td>\n",
              "      <td>82.562438</td>\n",
              "    </tr>\n",
              "    <tr>\n",
              "      <th rowspan=\"2\" valign=\"top\">Sat</th>\n",
              "      <th>No</th>\n",
              "      <td>0.158048</td>\n",
              "      <td>0.001581</td>\n",
              "      <td>19.661778</td>\n",
              "      <td>79.908965</td>\n",
              "    </tr>\n",
              "    <tr>\n",
              "      <th>Yes</th>\n",
              "      <td>0.147906</td>\n",
              "      <td>0.003767</td>\n",
              "      <td>21.276667</td>\n",
              "      <td>101.387535</td>\n",
              "    </tr>\n",
              "    <tr>\n",
              "      <th rowspan=\"2\" valign=\"top\">Sun</th>\n",
              "      <th>No</th>\n",
              "      <td>0.160113</td>\n",
              "      <td>0.001793</td>\n",
              "      <td>20.506667</td>\n",
              "      <td>66.099980</td>\n",
              "    </tr>\n",
              "    <tr>\n",
              "      <th>Yes</th>\n",
              "      <td>0.187250</td>\n",
              "      <td>0.023757</td>\n",
              "      <td>24.120000</td>\n",
              "      <td>109.046044</td>\n",
              "    </tr>\n",
              "    <tr>\n",
              "      <th rowspan=\"2\" valign=\"top\">Thur</th>\n",
              "      <th>No</th>\n",
              "      <td>0.160298</td>\n",
              "      <td>0.001503</td>\n",
              "      <td>17.113111</td>\n",
              "      <td>59.625081</td>\n",
              "    </tr>\n",
              "    <tr>\n",
              "      <th>Yes</th>\n",
              "      <td>0.163863</td>\n",
              "      <td>0.001551</td>\n",
              "      <td>19.190588</td>\n",
              "      <td>69.808518</td>\n",
              "    </tr>\n",
              "  </tbody>\n",
              "</table>\n",
              "</div>"
            ],
            "text/plain": [
              "                 tip_pct             total_bill            \n",
              "            Durchschnitt Abweichug Durchschnitt   Abweichug\n",
              "day  smoker                                                \n",
              "Fri  No         0.151650  0.000791    18.420000   25.596333\n",
              "     Yes        0.174783  0.002631    16.813333   82.562438\n",
              "Sat  No         0.158048  0.001581    19.661778   79.908965\n",
              "     Yes        0.147906  0.003767    21.276667  101.387535\n",
              "Sun  No         0.160113  0.001793    20.506667   66.099980\n",
              "     Yes        0.187250  0.023757    24.120000  109.046044\n",
              "Thur No         0.160298  0.001503    17.113111   59.625081\n",
              "     Yes        0.163863  0.001551    19.190588   69.808518"
            ]
          },
          "metadata": {
            "tags": []
          },
          "execution_count": 109
        }
      ]
    },
    {
      "cell_type": "markdown",
      "metadata": {
        "id": "Vjcp9GkCv7lu"
      },
      "source": [
        "Apply different functions to one or more columns by passing a dict to agg taht contains a mapping of column names to any of the function specifications."
      ]
    },
    {
      "cell_type": "code",
      "metadata": {
        "colab": {
          "base_uri": "https://localhost:8080/",
          "height": 325
        },
        "id": "rxCBIyc0qpMc",
        "outputId": "17cc1dc5-0329-4843-8531-856d58d21c83"
      },
      "source": [
        "grouped.agg({'tip' : np.max, 'size' : 'sum'})"
      ],
      "execution_count": null,
      "outputs": [
        {
          "output_type": "execute_result",
          "data": {
            "text/html": [
              "<div>\n",
              "<style scoped>\n",
              "    .dataframe tbody tr th:only-of-type {\n",
              "        vertical-align: middle;\n",
              "    }\n",
              "\n",
              "    .dataframe tbody tr th {\n",
              "        vertical-align: top;\n",
              "    }\n",
              "\n",
              "    .dataframe thead th {\n",
              "        text-align: right;\n",
              "    }\n",
              "</style>\n",
              "<table border=\"1\" class=\"dataframe\">\n",
              "  <thead>\n",
              "    <tr style=\"text-align: right;\">\n",
              "      <th></th>\n",
              "      <th></th>\n",
              "      <th>tip</th>\n",
              "      <th>size</th>\n",
              "    </tr>\n",
              "    <tr>\n",
              "      <th>day</th>\n",
              "      <th>smoker</th>\n",
              "      <th></th>\n",
              "      <th></th>\n",
              "    </tr>\n",
              "  </thead>\n",
              "  <tbody>\n",
              "    <tr>\n",
              "      <th rowspan=\"2\" valign=\"top\">Fri</th>\n",
              "      <th>No</th>\n",
              "      <td>3.50</td>\n",
              "      <td>9</td>\n",
              "    </tr>\n",
              "    <tr>\n",
              "      <th>Yes</th>\n",
              "      <td>4.73</td>\n",
              "      <td>31</td>\n",
              "    </tr>\n",
              "    <tr>\n",
              "      <th rowspan=\"2\" valign=\"top\">Sat</th>\n",
              "      <th>No</th>\n",
              "      <td>9.00</td>\n",
              "      <td>115</td>\n",
              "    </tr>\n",
              "    <tr>\n",
              "      <th>Yes</th>\n",
              "      <td>10.00</td>\n",
              "      <td>104</td>\n",
              "    </tr>\n",
              "    <tr>\n",
              "      <th rowspan=\"2\" valign=\"top\">Sun</th>\n",
              "      <th>No</th>\n",
              "      <td>6.00</td>\n",
              "      <td>167</td>\n",
              "    </tr>\n",
              "    <tr>\n",
              "      <th>Yes</th>\n",
              "      <td>6.50</td>\n",
              "      <td>49</td>\n",
              "    </tr>\n",
              "    <tr>\n",
              "      <th rowspan=\"2\" valign=\"top\">Thur</th>\n",
              "      <th>No</th>\n",
              "      <td>6.70</td>\n",
              "      <td>112</td>\n",
              "    </tr>\n",
              "    <tr>\n",
              "      <th>Yes</th>\n",
              "      <td>5.00</td>\n",
              "      <td>40</td>\n",
              "    </tr>\n",
              "  </tbody>\n",
              "</table>\n",
              "</div>"
            ],
            "text/plain": [
              "               tip  size\n",
              "day  smoker             \n",
              "Fri  No       3.50     9\n",
              "     Yes      4.73    31\n",
              "Sat  No       9.00   115\n",
              "     Yes     10.00   104\n",
              "Sun  No       6.00   167\n",
              "     Yes      6.50    49\n",
              "Thur No       6.70   112\n",
              "     Yes      5.00    40"
            ]
          },
          "metadata": {
            "tags": []
          },
          "execution_count": 110
        }
      ]
    },
    {
      "cell_type": "code",
      "metadata": {
        "colab": {
          "base_uri": "https://localhost:8080/",
          "height": 355
        },
        "id": "36cl8s1pYKMT",
        "outputId": "ecbe8ae3-acfe-4551-b259-394fc0d0bb66"
      },
      "source": [
        "grouped.agg({'tip_pct' : ['min', 'max', 'mean', 'std'],\r\n",
        "             'size' : 'sum'})"
      ],
      "execution_count": null,
      "outputs": [
        {
          "output_type": "execute_result",
          "data": {
            "text/html": [
              "<div>\n",
              "<style scoped>\n",
              "    .dataframe tbody tr th:only-of-type {\n",
              "        vertical-align: middle;\n",
              "    }\n",
              "\n",
              "    .dataframe tbody tr th {\n",
              "        vertical-align: top;\n",
              "    }\n",
              "\n",
              "    .dataframe thead tr th {\n",
              "        text-align: left;\n",
              "    }\n",
              "\n",
              "    .dataframe thead tr:last-of-type th {\n",
              "        text-align: right;\n",
              "    }\n",
              "</style>\n",
              "<table border=\"1\" class=\"dataframe\">\n",
              "  <thead>\n",
              "    <tr>\n",
              "      <th></th>\n",
              "      <th></th>\n",
              "      <th colspan=\"4\" halign=\"left\">tip_pct</th>\n",
              "      <th>size</th>\n",
              "    </tr>\n",
              "    <tr>\n",
              "      <th></th>\n",
              "      <th></th>\n",
              "      <th>min</th>\n",
              "      <th>max</th>\n",
              "      <th>mean</th>\n",
              "      <th>std</th>\n",
              "      <th>sum</th>\n",
              "    </tr>\n",
              "    <tr>\n",
              "      <th>day</th>\n",
              "      <th>smoker</th>\n",
              "      <th></th>\n",
              "      <th></th>\n",
              "      <th></th>\n",
              "      <th></th>\n",
              "      <th></th>\n",
              "    </tr>\n",
              "  </thead>\n",
              "  <tbody>\n",
              "    <tr>\n",
              "      <th rowspan=\"2\" valign=\"top\">Fri</th>\n",
              "      <th>No</th>\n",
              "      <td>0.120385</td>\n",
              "      <td>0.187735</td>\n",
              "      <td>0.151650</td>\n",
              "      <td>0.028123</td>\n",
              "      <td>9</td>\n",
              "    </tr>\n",
              "    <tr>\n",
              "      <th>Yes</th>\n",
              "      <td>0.103555</td>\n",
              "      <td>0.263480</td>\n",
              "      <td>0.174783</td>\n",
              "      <td>0.051293</td>\n",
              "      <td>31</td>\n",
              "    </tr>\n",
              "    <tr>\n",
              "      <th rowspan=\"2\" valign=\"top\">Sat</th>\n",
              "      <th>No</th>\n",
              "      <td>0.056797</td>\n",
              "      <td>0.291990</td>\n",
              "      <td>0.158048</td>\n",
              "      <td>0.039767</td>\n",
              "      <td>115</td>\n",
              "    </tr>\n",
              "    <tr>\n",
              "      <th>Yes</th>\n",
              "      <td>0.035638</td>\n",
              "      <td>0.325733</td>\n",
              "      <td>0.147906</td>\n",
              "      <td>0.061375</td>\n",
              "      <td>104</td>\n",
              "    </tr>\n",
              "    <tr>\n",
              "      <th rowspan=\"2\" valign=\"top\">Sun</th>\n",
              "      <th>No</th>\n",
              "      <td>0.059447</td>\n",
              "      <td>0.252672</td>\n",
              "      <td>0.160113</td>\n",
              "      <td>0.042347</td>\n",
              "      <td>167</td>\n",
              "    </tr>\n",
              "    <tr>\n",
              "      <th>Yes</th>\n",
              "      <td>0.065660</td>\n",
              "      <td>0.710345</td>\n",
              "      <td>0.187250</td>\n",
              "      <td>0.154134</td>\n",
              "      <td>49</td>\n",
              "    </tr>\n",
              "    <tr>\n",
              "      <th rowspan=\"2\" valign=\"top\">Thur</th>\n",
              "      <th>No</th>\n",
              "      <td>0.072961</td>\n",
              "      <td>0.266312</td>\n",
              "      <td>0.160298</td>\n",
              "      <td>0.038774</td>\n",
              "      <td>112</td>\n",
              "    </tr>\n",
              "    <tr>\n",
              "      <th>Yes</th>\n",
              "      <td>0.090014</td>\n",
              "      <td>0.241255</td>\n",
              "      <td>0.163863</td>\n",
              "      <td>0.039389</td>\n",
              "      <td>40</td>\n",
              "    </tr>\n",
              "  </tbody>\n",
              "</table>\n",
              "</div>"
            ],
            "text/plain": [
              "              tip_pct                               size\n",
              "                  min       max      mean       std  sum\n",
              "day  smoker                                             \n",
              "Fri  No      0.120385  0.187735  0.151650  0.028123    9\n",
              "     Yes     0.103555  0.263480  0.174783  0.051293   31\n",
              "Sat  No      0.056797  0.291990  0.158048  0.039767  115\n",
              "     Yes     0.035638  0.325733  0.147906  0.061375  104\n",
              "Sun  No      0.059447  0.252672  0.160113  0.042347  167\n",
              "     Yes     0.065660  0.710345  0.187250  0.154134   49\n",
              "Thur No      0.072961  0.266312  0.160298  0.038774  112\n",
              "     Yes     0.090014  0.241255  0.163863  0.039389   40"
            ]
          },
          "metadata": {
            "tags": []
          },
          "execution_count": 111
        }
      ]
    },
    {
      "cell_type": "markdown",
      "metadata": {
        "id": "j_en0CQIwdoB"
      },
      "source": [
        "### Returning Aggregated Data without Row Indexes"
      ]
    },
    {
      "cell_type": "markdown",
      "metadata": {
        "id": "b0cd7gyNw3SD"
      },
      "source": [
        "By default, the aggreated data comes back with an index composed from the unique group key combinatons. But we can disable this behavior by passing **as_index = False**"
      ]
    },
    {
      "cell_type": "code",
      "metadata": {
        "colab": {
          "base_uri": "https://localhost:8080/",
          "height": 294
        },
        "id": "dtTUCbbGwWwp",
        "outputId": "941b85e1-656d-47ff-b628-06cc9149683b"
      },
      "source": [
        "tips.groupby(['day', 'smoker'], as_index = False).mean()"
      ],
      "execution_count": null,
      "outputs": [
        {
          "output_type": "execute_result",
          "data": {
            "text/html": [
              "<div>\n",
              "<style scoped>\n",
              "    .dataframe tbody tr th:only-of-type {\n",
              "        vertical-align: middle;\n",
              "    }\n",
              "\n",
              "    .dataframe tbody tr th {\n",
              "        vertical-align: top;\n",
              "    }\n",
              "\n",
              "    .dataframe thead th {\n",
              "        text-align: right;\n",
              "    }\n",
              "</style>\n",
              "<table border=\"1\" class=\"dataframe\">\n",
              "  <thead>\n",
              "    <tr style=\"text-align: right;\">\n",
              "      <th></th>\n",
              "      <th>day</th>\n",
              "      <th>smoker</th>\n",
              "      <th>total_bill</th>\n",
              "      <th>tip</th>\n",
              "      <th>size</th>\n",
              "      <th>tip_pct</th>\n",
              "    </tr>\n",
              "  </thead>\n",
              "  <tbody>\n",
              "    <tr>\n",
              "      <th>0</th>\n",
              "      <td>Fri</td>\n",
              "      <td>No</td>\n",
              "      <td>18.420000</td>\n",
              "      <td>2.812500</td>\n",
              "      <td>2.250000</td>\n",
              "      <td>0.151650</td>\n",
              "    </tr>\n",
              "    <tr>\n",
              "      <th>1</th>\n",
              "      <td>Fri</td>\n",
              "      <td>Yes</td>\n",
              "      <td>16.813333</td>\n",
              "      <td>2.714000</td>\n",
              "      <td>2.066667</td>\n",
              "      <td>0.174783</td>\n",
              "    </tr>\n",
              "    <tr>\n",
              "      <th>2</th>\n",
              "      <td>Sat</td>\n",
              "      <td>No</td>\n",
              "      <td>19.661778</td>\n",
              "      <td>3.102889</td>\n",
              "      <td>2.555556</td>\n",
              "      <td>0.158048</td>\n",
              "    </tr>\n",
              "    <tr>\n",
              "      <th>3</th>\n",
              "      <td>Sat</td>\n",
              "      <td>Yes</td>\n",
              "      <td>21.276667</td>\n",
              "      <td>2.875476</td>\n",
              "      <td>2.476190</td>\n",
              "      <td>0.147906</td>\n",
              "    </tr>\n",
              "    <tr>\n",
              "      <th>4</th>\n",
              "      <td>Sun</td>\n",
              "      <td>No</td>\n",
              "      <td>20.506667</td>\n",
              "      <td>3.167895</td>\n",
              "      <td>2.929825</td>\n",
              "      <td>0.160113</td>\n",
              "    </tr>\n",
              "    <tr>\n",
              "      <th>5</th>\n",
              "      <td>Sun</td>\n",
              "      <td>Yes</td>\n",
              "      <td>24.120000</td>\n",
              "      <td>3.516842</td>\n",
              "      <td>2.578947</td>\n",
              "      <td>0.187250</td>\n",
              "    </tr>\n",
              "    <tr>\n",
              "      <th>6</th>\n",
              "      <td>Thur</td>\n",
              "      <td>No</td>\n",
              "      <td>17.113111</td>\n",
              "      <td>2.673778</td>\n",
              "      <td>2.488889</td>\n",
              "      <td>0.160298</td>\n",
              "    </tr>\n",
              "    <tr>\n",
              "      <th>7</th>\n",
              "      <td>Thur</td>\n",
              "      <td>Yes</td>\n",
              "      <td>19.190588</td>\n",
              "      <td>3.030000</td>\n",
              "      <td>2.352941</td>\n",
              "      <td>0.163863</td>\n",
              "    </tr>\n",
              "  </tbody>\n",
              "</table>\n",
              "</div>"
            ],
            "text/plain": [
              "    day smoker  total_bill       tip      size   tip_pct\n",
              "0   Fri     No   18.420000  2.812500  2.250000  0.151650\n",
              "1   Fri    Yes   16.813333  2.714000  2.066667  0.174783\n",
              "2   Sat     No   19.661778  3.102889  2.555556  0.158048\n",
              "3   Sat    Yes   21.276667  2.875476  2.476190  0.147906\n",
              "4   Sun     No   20.506667  3.167895  2.929825  0.160113\n",
              "5   Sun    Yes   24.120000  3.516842  2.578947  0.187250\n",
              "6  Thur     No   17.113111  2.673778  2.488889  0.160298\n",
              "7  Thur    Yes   19.190588  3.030000  2.352941  0.163863"
            ]
          },
          "metadata": {
            "tags": []
          },
          "execution_count": 113
        }
      ]
    },
    {
      "cell_type": "markdown",
      "metadata": {
        "id": "boAeppp0xTjd"
      },
      "source": [
        "## 10.3 Apply: General split-apply-combine"
      ]
    },
    {
      "cell_type": "markdown",
      "metadata": {
        "id": "Wg-leCVlyPXQ"
      },
      "source": [
        "The most general-purpose GroupBy method is apply, apply splits the object being manipulated into pieces invokes the passed function on each piece, and then attempts to concatenate the pieces together"
      ]
    },
    {
      "cell_type": "markdown",
      "metadata": {
        "id": "Easv_pjmxbvZ"
      },
      "source": [
        "![image.png](data:image/png;base64,iVBORw0KGgoAAAANSUhEUgAABCEAAAKRCAYAAABqaLOxAAAgAElEQVR4AeydB9gURfb1lRwlqmQFJYoEFWGNi2H94yoiAoIJDCuK6JrFnAERDKAirAoGQHARBQkKiCJGco4SRVEkCIKAu9/9nlPuLXuGmXkndPd0z5x+nqbn7VBd9bvVRd/TVbcOES4kQAIkQAIkQAIkQAIkQAIkQAIkQAIk4AOBQ3y4B29BAiRAAiRAAiRAAiRAAiRAAiRAAiRAAkIRgpWABEiABEiABEiABEiABEiABEiABEjAFwIUIXzBzJuQAAmQAAmQAAmQAAmQAAmQAAmQAAlQhGAdIAESIAESIAESIAESIAESIAESIAES8IUARQhfMPMmJEACJEACJEACJEACJEACJEACJEACKYsQe/bskV27dnElA9YB1gHWAdYB1gHWAdYB1gHWAdYB1gHWAdaBPK8D//3vf1NSVlIWIRo2bCilS5eWMmXKcCUD1gHWAdYB1gHWAdYB1gHWAdYB1gHWAdYB1oE8rQOVK1eWiRMneitCHHPMMbJ69eqUbsKTSYAESIAESIAESIAESIAESIAESIAEcovA//3f/8mkSZNSKlTKPSEoQqTElyeTAAmQAAmQAAmQAAmQAAmQAAmQQE4SoAiRk2ZloUiABEiABEiABEiABEiABEiABEggeAQoQgTPJswRCZAACZAACZAACZAACZAACZAACeQkAYoQOWlWFooESIAESIAESIAESIAESIAESIAEgkeAIkTwbMIckQAJkAAJkAAJkAAJkAAJkAAJkEBOEqAIkZNmZaFIgARIgARIgARIgARIgARIgARIIHgEKEIEzybMEQmQAAmQAAmQAAmQAAmQAAmQAAnkJAGKEDlpVhaKBEiABEiABEiABEiABEiABEiABIJHgCJE8GzCHJEACZAACZAACZAACZAACZAACZBAThKgCJGTZmWhSIAESIAESIAESIAESIAESIAESCB4BChCBM8mzBEJkAAJkAAJkAAJkAAJkAAJkAAJ5CQBihA5aVYWigRIgARIgARIgARIgARIgARIgASCR4AiRPBswhyRAAmQAAmQAAmQAAmQAAmQAAmQQE4SoAiRk2ZloUiABBIR+H//7/8lOsxjaRAg0zSg8RISiEGAz1IMKBnuItMMAfJyEiABEnCZAEUIl4EyORIggeAT4Aup+zYiU/eZMsX8JMBnyX27k6n7TJkiCZAACWRCgCJEJvR4LQmQQCgJ8IXUfbORqftMmWJ+EuCz5L7dydR9pkyRBEiABDIhQBEiE3q8lgRIIJQE+ELqvtnI1H2muZjigQMHZNeuXXbdt2+fLSbq0G+//WZWuzMPf+Tqs/Sf//xHdu/ebW2/Z88e8ausft0nD6urK0X+9ddfbb1A+5Dsgjq0f//+ZE/neSRAAgEiQBEiQMZgVkiABPwhwBdS9zmTqftMs53ijh07ZPz48fLCCy/Iiy++KBMmTJCtW7dmlK0vv/xS2rdvb9fRo0fb9JYvXy7XXnutXHfddbJgwQK7P99+uPUs/f777wLekyZNsuvXX3+dNZwbN2409lX79+nTR+B8+rG4xdSPvHp1DwiAsP/w4cNl4MCBMnLkSFm9erVAHMr2csstt9g2oWPHjgVm57///a98+umncuWVV0r37t3lp59+KvAankACJBAsAhQhgmUP5oYESMAHAnwhdR8ymbrPNFspbtmyRe6//3458sgjpXjx4lKkSBGz4nfjxo1l06ZNaWdt7Nixcsghh9j1scceM2nt3btXOnfubPfj5WT79u1p3yfMF7r1LK1du1ZOPPFEY0PYDutf/vIX2bx5c1bwLF26VKpVq2ZtfNFFF8nOnTt9yYtbTH3JrMs3QW8BPHfHH3+8lCpVSooWLWqe52LFisk555wjeN6zvRx33HG2XiBfBS0//vijtGrVyl4DIQIiCxcSIIHwEKAIER5bMackQAIuEcjnF1KXEB6UDJkehCSUO9Bd/oorrjCOilMs0N8nn3yywAFId4knQvz888/SunVr61Q0aNBAvv/+e3sbfPlEt2s40O+++65vX9BtBnz84dazNHPmTCMkqe2wrVOnTtZ6mVCE8LES/e9WcMyffPJJKV++vH22nPUBwp9fvVESlT5VEQK9ao466ihbJjgzv/zyS6Jb8BgJkEDACFCECJhBmB0SIAHvCbj1ku99TsNzBzINj60S5fS1116zL/ZwVkqUKGF6P+CLetWqVeWaa67JKGZDPBECXcLRK6Jw4cJGAOnVq5egdwQWbIcNG2a+2uJLbu3atQPx9TYRx0yOufUsvfLKK1KoUKEIe4Lf+++/n0n20r6WIkTa6NK6EM/U4MGDI+x/6KGHmuf4hBNOkEaNGskTTzyRVtpuX5SqCAHBoVu3bqZ+o4fPkCFD3M4S0yMBEvCYAEUIjwEzeRIggeARcOslP3gly16OyDR77N26M3pB/O1vf7NOC76eImYDuvXjy+O8efNMjAH0Skh3iSdCID3EoED8AjjJzqEYGO996qmn2nxRhEiO/o033miZHXvssfZ33759k0vA5bMoQrgMtIDkFi5cKPXr17d2xzAM1In58+fLhg0bZM2aNYER81IVIfD/DXpKjRs3Tj788MOMhNECMPIwCZCARwQoQngElsmSAAkElwAdZvdtQ6buM/U7xZUrV0rDhg2t04JhGZitItUFYsJ3330XM2p9IhEi3n0oQsQjk3h/s2bNjC3R++GGG26wdr300ksTX/i/o+jKD2c1lW7umO0EopX2YnHeiCKEk4b3vx9++GFrc/SAuOSSS5K2JYZHYegTgpumsmBoB+wfHZ8B6SCWDALbxhIxY4kQOA/PvhtBJ5EW7o08JFMmtHsox7Zt21IpPs8lARJIgQBFiBRg8VQSIIHcIECH2X07kqn7TP1OcfHixVK3bl3ruJx//vlm2rx4+Zg1a5bAecDY7BYtWsjs2bPNkIpjjjnGdPk+5ZRT5KOPPopwSOKJEOj5AOcYaWFFzwd86cSQAvyNLtc6lh2BMmvWrGn29+zZM172QrvfjWcJwQgR4E/jQDz33HOWH3pFOBewxywD4IxeJjh32rRpctppp0mVKlVMHInHH388whmEs3nSSSeZa3AdZk556623BN38EdAUAUyff/75CBErlgiBew8YMMDcF+lgxf11GTVqlKmT2I969cknn+ihlLZuME3phlk+GUMxEIhSn5kKFSqY2SQScYDjDTv+9a9/lerVq5tnGEJWv379DpoVZ8SIEYJ6BLu0bdtWYFuIHvXq1bP2Hzp0qBGjpk+fbp5nDOdCurfddpt5tp15cYoQ6LGxaNEi6dKliwlkinugB4dTjIBAgvYFx7DiXO09hWEauh/1du7cuXL11VfbMqGtmjx58kFiBPID0e2f//ynLUetWrWMePPVV1/FFE+ybGbengRCTYAiRKjNx8yTAAmkQ8D58pPO9bzmYAJkejCTsO3BSz4CT6rjgi/omJ4z3pfDzz77TCpXrmzOL1u2rLRp0+aggJaYDcHpOMYTIfDlFc6P3htOBL5aPvPMMwfFNdBzsEVgvVxb3HiWPv74Y8HXbzBCwE84ghBv8DfiRIC3LujpcPHFF1v2mEEDDr+TMwQNOILOJXqmC9QB5zVwJl966SU7BWQsEQKzY2D4TZkyZey1zp4acGy1HKgTcE7TWdxgms59s3UNeiI57QEnH71UEi2DBg2SihUrWjuoLRGnBT1pnDOZvPnmm1KyZElzLgTBCy+80MRz0WuwLV26tDz00EMCR965H/Xw+uuvF6dNnCIE7A2hQO2u10IcgLiGBcPDnOmeddZZtk47Z9mBmAlhRNPQLcQ2iKbOBT3BzjzzzIPOxTXI35w5c5yn8zcJkECGBChCZAiQl5MACYSPgPPlJ3y5D2aOyTSYdkklV7DhU089FfESDoehffv2gvHl0WKEU4TQl3sEsoTzoX9ji2kAdVhHqiLEmDFj5PTTT5dy5crZNHEPOBdwrnWKz1TKGfRz3XiWMCOC2uCqq66SZcuWWWEBzh16OugSLULgOggViAniDGwJUerzzz/XyyKm20SaqCtOOyEdiBm4N5Z4IgS6vMMp1PwijgEW1Bl8wdb95513nv3abU5I4R83mKZwu6yfitgqeE6UXadOnRLm6dNPP42YQePoo48WzFCj9ocIBUFQF6cIofeAkBT97KNeYEVPDE0L52Ofc/YbpwiB46hL0TN6QPDUepusCKF5O+ywww4SSDGtpy7o2QMhQ89HLw+0e06h7YILLmBvCAXGLQm4QIAihAsQmQQJkEC4COTbC6kf1iFTPyh7fw98QcWXcDgJ+kKOLRxDOB5OISJahMCXUfSc+Pe//22cDr0eXfr1q2OqIgRiC+ALpbOHBr6ALl++3Hz53LVrl/dQfL5Dps8SnHd0Twd/2PGRRx4x06pCzFGbOIc8xBIh4HDBvvjCrdcgLcxaomP6nQ4avpajp8QHH3xg6o/zmuHDhxuC8UQIHES8Ar0GQgbqIXrmOKdtvf/+++29UzVJpkxTvV+2z8cwJvREUaYYAhFvgQPetWtXey6GTGBYBoYxOHvEYDYNDPPAEi1CoAcFnu3XX389QvyA8IBeFKhLzp5OyBfuoUu0CIEhFVOnTpW///3vEW3RfffdZy5JRYTAsCIEr8TQDAhpygTDibCgbiAv2nMEggnaMMS1QHum50PUQb3kQgIk4A4BihDucGQqJEACISKQby+kfpiGTP2g7M898OXa6fzpSzhEhldffdUKEdEiBGJIaBDDRx991L68wxl6+eWXTeZTFSFwEZxRzo6RvO3hoLVs2dLwRywNxGpAN3YEGlVbwsnT4IHRIgS+ZmuPBwx/cIoN5557ru327txfqVIl+2UbDp921cf9cF8siUQIOLWaN1yL4SPr16+PiFEyY8aM5CFEnZlv7dPAgQPt8BtwTSRCgDOGuij/du3a2Z5LN998s90PQQFxY7BEixAam+XHH380Qyk0LfRwQS8qLIgRofuxRawJXZwiBHpBYCgWFvTQcA4RgZCBJRUR4r333jPXQLB0zhID0QELhqk4A7eiR4TGl1i9enWEoIoeJlxIgATcIUARwh2OTIUESCBEBPLthdQP05CpH5T9u8e6desEDgi+CjodBzgV6JmAJVqEQNd5nRUBYoPzSyxECXxBpwhRsA0zfZbwBRvBIWE3OFoLFiww7O+++25rS4hMGugvWoRAAEF1NrVnjNaB5s2bGwcQpXCKELifLgga6ByWgXH2WBKJELifjvGHEwonesmSJVbMQNd8HdKj90llmynTVO4VhHMRiwMc1W6IpxBvgUjgHCpx55132lMhHmoa6AmDKTGxRIsQ6GWABbFGzjjjDHsNek9oe/HOO+/Y/UgTQ4Z0cYoQGPqhC4bqOAUStD9YkhUhkGfUI12cs/+gZwMW3MMZCwLxKBAQ9e233zY9ISCwKQNnDyJNk1sSIIH0CFCESI8bryIBEggxgXx7IfXDVGTqB2V/74Ev5fiKrs6hvogjbgSWRCIEAiM6v2AiEB2+OFKEKNiGmT5LcJ7UVhAh0LUcvRPwtRrDJnCsTp06RhRAbhKJEJhuFUMzND101V+xYoUpRDwRAgedjhvqD5ZEIgTug540eh98mcbQDv0bL6uZLJkyzeTe2bgWwT6dM8o4g31G52f8+PGWM3g746zAGVcbYIsZT7D4JULgXrF6L6QiQmhMEqQVS4SAaOYcduIsb/RvFVsMBP5DAiSQEQGKEBnh48UkQAJhJJBvL6R+2IhM/aDs/z0wBhzB4Jy9GhAgEAtFCG/skemzhK73TucJ4+Cx6pSdOAZ7Ysw9liCIEChznz597Ph/vJzee++9phz4mu3sup8O9UyZpnPPbF4zb968iPgHcL7j9SRBPARnfUkkQqgdsiVCQNjE4rYIgUCcTgbxfjuDc2bTvrw3CeQCAYoQuWBFloEESCAlAvn2QpoSnDRPJtM0wYXgMgSjdHaJRpBILIlECIyddk67+MADD5igduwJUbDBM3mWcK2zO3w8Zwr7EXQPSyIRAkM2zj77bOugNW7c2MRqwHXxekJg7L1zGE+rVq3MfRL1hMAJGEaiPTXQjR9iF/IJx1MFE5NQGv9kwjSN22X9EsQAOeKII6zdYA/EV4jFYf78+fY88EYAUF0QVFTrEMSgESNGmEN+iRD79+83vXY0D02aNDH3d1OE2LJlizRt2tSWE+0byhlr3bBhg6LhlgRIIEMCFCEyBMjLSYAEwkcg1otY+EoRrByTabDs4WZutm7dGjH1XseOHU3y0SIEunzv3r3bHMMXU3Uc3A5MCefXOb2fm2UNQlqZPEsIDKjxIMD/hBNOMNNcIl4HVue0jQhOiSVahIDDii/pWCAcOAUoBKZEfcDiFCEOP/xwE/wS++HsOmchSCYwpUlQxHaLh4CFWVVQBsShyHRWgkyYat7Ctr322mvtMwiOmCr3hx9+OKgYa9eujagzmKkEzj+W22+/3aaBuBEIVIrFSxEC7YW2I4hn4hRTMOsLFjdFiJ07d5pZOLS9wuxAudy+GID8hwQCQIAiRACMwCyQAAn4SyAfX0i9JkymXhP2Pn3EbHjiiSdMUDYEk8NXP8xS0KlTJ+uI4Gsogt5hiRYhatSoId98841xEJyB5uBE6GwL6fSEwJd159d4BNxDgDx8wYzXxdx7Wt7dIZNnCbE4DjvsMGsvzGbiXPAlWZ0tTFGIYKHRIgRsjC75CDKIrfZOwP477rjDzo7iFCEwowWmZ4RYAOcX5+I+2OrMKAX1hEA+EbdC86dbiFs6NaSzLKn8zoRpKvcJ0rkfffSRVK5c2fKEHTHlJWJtIPAsAlKuWrXKBGbUXidgjul458yZYxxxiFhqBzzfOqOKlyIExA7UGTzf6JWhQ8GwX3vvuClCoG4h1oPWcwho/fv3F8QpQaBdTGGKZwG9S7iQAAm4R4AihHssmRIJkEBICOTjC6nXpiFTrwl7nz4ck+OPP946Hep8OLfNmjWzX1OjRQich5kVooO84eu5igXpiBAoeffu3SPyhS/6iJSP8ey5tmTyLGHMus6KgKCU6JXgXJyCEnpMoOdEtAgBOyJ+BHogOONIQGj44osvbHJOEQLXQPyA+KTOHPahLixfvtxck4wIgSCazt4aSGPYsGH2nun+yIRpuvfM9nVwnm+99daI5wY8dYVA9PDDDxshasiQIRG2hviA6TC1LqEeDBgwwBbJSxEC+UNPGLRFen/sgziCOoTFTREC6UGMqVmzpmUDwQPDmq666ipBzy+0ewjKmY/1yBqdP0jAZQIUIVwGyuRIgASCT4AvEu7biEzdZ+p3il9//XXEi7g6K9jipRxOAXo04Os5lmgRAl8QcZ7zOogSTkc4XRECMQGcMSb0HqNHj/Ybk+f3S/dZwlfba665xvJH/AY4V84FjqSyA098LY8WIeD4RQsBmGkBvRScPRKcIgQc2tKlS9u0cQ+k8eKLL9qeE8mIEMgv4kFoHiF8rF+/3lmEtH6nyzStmwXoIkw/ieEVzuExyhZbiHuwKQQL9DjRXgfOcyAqXXbZZUaw0qJ5KUKccsopEYII8oK6hOkxEZ8Gi9siBNq0kSNHRgwxcjLA765du9q2TzlwSwIkkD4BihDps+OVJEACISWQry+kXpqLTL2k60/a+GJ94YUXChw/5ws4hIR77rlHnFPdIUfRIgSmcuzcubOZGhBiBL4eTpkyxXbhxjXpihBwPtBFGlNEOvNGEeLPuoEgknDglM/f/vY306X8zzNEMHWjCkVwONG9PVqEwPAZzEyhrMuXLy+PPPKIjQWh6TlFCJyD2S10WlbMNoCpXLX7Pq5JRoTA+eg5o2XAMBwMx8l0yef2afv27TJ06FBp2bJlRC8VCEc33XSTGXIAvoiDgACyakPYAM/+XXfdFSFA4Fw3RQiIZw0aNLA2RzBMtDfoyYM8YBjIk08+aXtT4f5uixBIE3UPU9mizkWLcKjPyJMKsDifCwmQQGYEKEJkxo9XkwAJhJBAPr+QemUuMvWKrH/pwoaIC4GgcBgvjvgOa9asMWOhnV/ANUfRIgQCH8KhxZdrDO2AcxFdLyAmIH1dNQAezsP5uh9fZqNf+JEHOKRLliyxeXM6uZqvsG+jmSVbHvDCuHVlmCz/aBECjifsjzHxEA6wjWV/pwiBoR04B2PncQ3yEH0N8ge7JsofAmLqcB4MAcAwgXR5OLm5kYYzvbD9BnsMicLwGzzXCPgIW+F5d7KBzWAj2HDx4sXmecYz6zwHZcdzp3bE1vkcO+sgfutznOjZd9YLpI1zUe/wrOOZT6UuoZzOvOn9kW/nfXBO9IJyggmeCTDCjC2ITYFyIF/RHKKv598kQALJE6AIkTwrnkkCJJAjBPgi4b4hydR9pkFPMZYIAceXS2YE/H6WYokQcEALWqJFiILOT3QcZYbzhyEB2lOjTp06gpkb3Fj8ZupGnpkGCZAACeQyAYoQuWxdlo0ESCAmAb6QxsSS0U4yzQhfKC+mCOGN2fx+loIgQiBuSNu2bW2XfAgRGH7j1uI3U7fyzXRIgARIIFcJUITIVcuyXCRAAnEJ8IU0Lpq0D5Bp2uhCeyFFCG9M5/ezFAQR4uKLL46Y1hPj8jHu363Fb6Zu5ZvpkAAJkECuEqAIkauWZblIgATiEuALaVw0aR8g07TRhfZCihDemM7vZykIIsSgQYNsLwjMwoJYAG4ufjN1M+9MiwRIgARykQBFiFy0KstEAiSQkABfSBPiSesgmaaFLdQXrV692kTO79Gjh2B94403bIC6UBcsy5n3+1lCID8EgFQ7YmaMzZs3F0gB5+k1mDkgkwWBMJs0aSKdOnUyAREzSSvWtX4zjZUH7iMBEiABEviTAEWIP1nwFwmQQJ4Q4Aup+4YmU/eZMsX8JJCPzxICms6ZM8dOF+m25fORqdsMmR4JkAAJuEmAIoSbNJkWCZBAKAjwhdR9M5Gp+0yZYn4S4LPkvt3J1H2mTJEESIAEMiFAESITeryWBEgglAT4Quq+2cjUfaZMMT8J8Fly3+5k6j5TpkgCJEACmRCgCJEJPV5LAiQQSgJ8IXXfbGTqPlOmmJ8E+Cy5b3cydZ8pUyQBEiCBTAhQhMiEHq8lAY8I7Nu3Tz7++GN56623zPruu+/Krl27PLpb/iWb6gvpf/7zH/nqq6+sPcaMGSM//PBD/oFLUOJUmSZIiodIIK8J8Fly3/xk6j5TpkgCJEACmRCgCJEJPV5LAh4R2L59u7Rp08ZOWVajRg1BJHou7hBI9YV0//790r17d2uPihUryvTp093JTI6kkirTHCk2i0ECrhPgs+Q6UiFT95kyRRIgARLIhABFiEzo8VoS8IgARQiPwP4v2VRfSL0SITA13tq1a3NiWsNUmXprYaZOAuElwGfJfduRqftMmSIJkAAJZEKAIkQm9HgtCXhEgCKER2D/l2yqL6RuihC494YNG+Rf//qXdOzYUdq3by8//vijtwX2IfVUmfqQpZy7BRhzDS4DtyocnyW3SP6ZDpn+yYK/SIAESCAIBChCBMEKzAMJRBGgCBEFxOU/U30hdVOE2LlzpxxzzDF2aMeJJ56YE/ElUmXqsklzOjmw5RouBplUSD5LmdCLfS2ZxubCvSRAAiSQLQIUIbJFnvclgQQEMhUh8MKFrv4IcMmXr4NBJ8sE4oOuycaE2Lt3r2D9/fffD76xiKQqQvz3v/816cGeCJAZ1CVZpkHNfxDzBaa6oh7EWlEnuPrPIJYtsE/tpdt06hWu5eIuATJ1lydTIwESIIFMCVCEyJQgrycBDwgkEiEQEPHhhx8266OPPiqffPKJcU40G2vWrJF+/frJP/7xDxNM8cUXX5T169dbMWLRokXyxBNP2DRGjRplj23evFn69+9vj3344YeabE5tC3ohPXDggGAGjJtuukluvvlmAYdEIsTu3btl4sSJ0rt3b7n66qula9euctttt8nYsWMFx3TBjCe9evWSChUq2J4QVatWlTvuuMMw/+CDD/RU2bJli4wcOVLuv/9+kx7Sve+++2TGjBlxBQ57cRZ+FMQ0C1kK9S3BU1enw6uCA0QurKirXP1noPzVHtiqndRuuk21IuI6Lu4SIFN3eTI1EiABEsiUAEWITAnyehLwgEA8EeLXX3+VJk2aWAe2evXqsnjxYuOs4CX4jTfekLp160rhwoXtOcWKFZPjjjtOID5g+fLLL6VKlSr2eIMGDayIAWdbHWSk8corr3hQuuwnmeiFFOyvv/56KV26tGV0xBFHCIZNHHLIIWZ1zo6B8//+97/LYYcdJoceeqg9B+eWKVNGLr74Yvn+++9NoR966KGI45qebnv06GHOW7FihcAupUqVOuh83PvOO+8MXDDLREyzb/Fw5QAssapTi2dbnV4IDto7Bz2dsKKXDFd/GYC72kFFINgonhiRSg3ks5QKreTOJdPkOPEsEiABEvCLAEUIv0jzPiSQAoF4IsS7774rJUqUsI7pI488YlPFV/bKlSvbY+rY6vaCCy6Qn3/+2XTtP/nkk+15xYsXN/uQ0GuvvSb4G9dAqJg1a5ZNP5d+JHohhfBStGhRy0f5ObdOEeKXX34RsHUej/6NHhJYkhUh0Jvl2GOPjZsmBCL0iAjSkohpkPIZ9LyAI1anAKHCgwoOGO6zZ88egSiJnja67tq1S7h6y0BZgz1sAFuoAARRArZyihFqz1Sej1TODXp9Dkr+yDQolmA+SIAESOAPAhQhWBNIIIAEYokQs2fPlrZt21rH9MwzzxQMn8CC2RXOPvtse+ySSy6RTZs2yfDhw83XeDjF+LL//vvvm/PRxd/pKKN3BL7gOZ3kv/zlL7J169YA0sk8S/FeSH/66SfTa0TZwNnv0qWLXH755VKoUCHLzClCwFkcOnSoGWbx6aefyrx582TYsGERvU3Qe+W7774zPSJmzpwpNWrUsGk1bNhQpk6daq7buHGjKRziRsBGAwcOND1XvvnmG8HQG2fPiLTJj4wAACAASURBVE6dOgWqN0Q8pplbK39SAEOsKkDAmYXIhWcZdQOzqqxbt06+/fZbgVC1evVqWbVqlaxcuTJiRU8aru4xiOb7ww8/CNroHTt2mBgvECYgSECM0B4SsYSIZGsyn6VkSSV/Hpkmz4pnkgAJkIAfBChC+EGZ9yCBFAnEEiGcggKcY8QsgLOCBT0W1EEtUqSIIG4EFrwYo1u/OtUPPPCA2Y/jTqca00Xiix4cbj0XMRBydYn3QorhKBAYlMEZZ5xhvjZDjGnatKnd7xQhlDNEHCzYwinp1q2bPR+iw9dff22OJxOYEmnAdsgnVjg0EDFOOukkm+Ypp5wSqFk14jE1heY/BRJQW+OZhv1hc4gMnTt3lpYtWwp6L+naokULwYr6EGvF0CGu7jGIZgybzJ0714i/EC63bdtmxAj0QlExQntEqKCk9i2wIoiYZz6Z83hO8gTYPiXPimeSAAmQgB8EKEL4QZn3IIEUCcQSIRB3QJ1j9IhwLk899ZQ9huEU+FKKr6dYW7dubY+1b9/eXIYeFM7YEgjAiC+u6P2g9xg3bpzzFjn1O94L6aBBg2xcB8R3GDx4sHEI0M06UWBKwEH3bASnRG+SSy+9VI466ijLsly5cqJBJ5MRIRQ2vrgicOjdd99t4k44BRL0oFi+fLmemvVtPKZZz1hIMgB+6rBChIATO2TIEFuH9Lnk9o+4LNnkAMH3hRdeML1TIA4iiCyESrTbKkRojwjYEnaFfXUtqEryWSqIUOrHyTR1ZryCBEiABLwkQBHCS7pMmwTSJBAtQiDooQZKRLyCl19+OSJlzMagL+VwnhGcUlftIYHjEBmwoNuw06n+29/+Zr66asBKBFTUYIoRN8qRP2K9kOLLM2auUI5ly5aVCRMmmBInEiHgZCxcuNDEhShfvry9XtPBNlURAvebPHmy+cqtdnemh98UIXKkMv6vGKiTzl4QqAMYjqN2hwB19NFHh25FUFcN2IpnKoxl0DxrPJ6SJUvKgAEDjAiI3iqYfQhiBIbFqRCBnmUQItIZlhGrfcqt2u5/acjUf+a8IwmQAAkkIkARIhEdHiOBLBGIFiHUEdHtX//614icYQYGPZZo26pVK3sd4hZoEEoMNcBXfL0WwxAwpCBXl1gvpPjy3LNnT8sAggKEACyJRAiM0YcgoOwg+sA+p556qt2XqggRPSwEAUcR/LJevXo2TYoQuVU7nSIE6iKEQqcIgaFUiAkRthW9iVQIhVgatvw783v66aeb5w8ixJNPPmmGZGDWIcTfQO8zCBEYnoH2G+0nhAjnsAzYOFbbE12Tkzkn+hr+nZgAmSbmw6MkQAIk4DcBihB+E+f9SCAJArFEiMMPP9w6oIgJgWCSujhjOSDWw7nnnhtz7dOnj15iAtvhKyWc50qVKsmDDz5ofuOr5b333mu+4NmTc+xHrBdSfLG86667LONke0I4r8H0ppilBF2yn3/+eZtWKiIEvp5CBFJRo1mzZsbJwcwmV155pd1PESJ3KiXqI1b0hEA9hOiF2ALPPfectTe+vIdxeeedd2xwXIh8YV7QYwzPJXpEYNgVgsx+9dVXMn/+fNMrYu3atSZYMIZmYHgbbKi9IVIZkhGrfQoztyDknUyDYAXmgQRIgAT+JEAR4k8W/EUCgSEQLULgy9uzzz4bETTxhhtuMC+4yLTTEUbvBjisySyYYQMv1RAezjnnHPMbzvfYsWOTuTy058R7IXU6fRBzXn31VeMcwpG4/vrrrUOogSkhNiBApAoGV111lZ2x4sUXX7T7E4kQJ5xwQsTQlyVLlki1atXstS+99JLhjK+qzmCXFCFCW/0OyjjqI1Y4qvhyjvqGGCN45rVuUYQ4CJvvO1SEQBt7zz33yJQpU8xUuRCEFyxYYGYoQc8JxIjAzBnoDYEeLbBpdGyIRJmP1z4luobHEhMg08R8eJQESIAE/CZAEcJv4rwfCSRBIFqEwOwK+NrWsWNH65QgfoPOuICpN3W2C2yffvpp6wwnup2zu7c6O3Xq1BF80cvlJd4L6aRJk8QZ1wE9SvBVGl81VbABJxUhEDfDOWvG1Vdfbc6HM9m7d29rK6cIgbScwzdq165tpudU3p999pk4e70gOCEWODQdOnSwaVKEUGLh36oAoQEp4bjC3s8884y1N0WI7NvZKUL885//NGIthrHNmDHDtMWLFy82wzIQ+BdCMERKihDZtxtyEK/ND0bumAsSIAESyD8CFCHyz+YscQgIxBIhVq1aJfgqjsCUcITRewFf47AgMJrTGcbwittuu03ee+89E1wRX/j79+9vvsY5i//555+boIkqQGDbpk2bnB6KgfLHeyHFbBSNGze2jh9Yo8cJxrIXK1bM7lcRAl+sneIEhCE4JJ988olAzFGuThECXbTVmcFxTKl62mmnSY8ePUyX7jVr1kitWrXstYjjsWzZMnnllVciBBKKEM6aHO7f0SIEer3AgYXwoHWIIkT2bazPLXpC3HjjjTJy5Eh599135aOPPjLTJEMoRju9ceNGM1sGBEfYEkIme0Jk137x2vzs5op3JwESIIH8JUARIn9tz5IHmEAsEQJR2DHlpsZxgHNSvXp105UfL7h4IdYAcOq4OLeYGSN6xgs43RpsTc/F19dcXxK9kPbt21cQc0N56BZsdb+KEOAUqzcJrkGPFJ0VwClCwFboJaE9VzR9bKdOnWrQO3u8OI/r/bGPIkTu1NJYIgQcWIoQwbKxihAQJK+77jp57bXXzBS6mEUHsWBmz55tBEOIwpgpA9PxUoQIhg0TtfnByCFzQQIkQAL5RYAiRH7Zm6UNCYF4IgSy73RQ8RX9qaeeMl/ZMO546NCh0qhRI9tbQh1YfNGHCIGvdM4FDjF6TOh5iAeBsc25viR6IYXzgNgLYAEuEAsw3SmCeuoUphiyga+fWNDtGucjbgfOh/AAoejuu+8WDLXAPjgto0aNslgxbhw9TnR2EuWvIsTSpUvNDBsqOiAPEB3uvPNOmy/0lpgzZ45NM9s/EjHNdt6CfH9wwxodlBIOLIZVad1gT4jsW9EpQuCZx8wfr7/+uowbN860B4gNgZguGM6GuBBox9HzCT0hEHDUGZwyUWn4LCWik94xMk2PG68iARIgAa8IUITwiizTJYEMCGAc8fjx42XQoEFmxXSaCHSGBV/bdD+2mM4RAgQWiAroMYHzMaXfLbfcIo899pj5G1Hc8VXOueDlGMMN1NFBg7Bt2zbnKTn5u6AXUgQFHDNmjPTq1cs4guhmje7xcDjAHM6HM24GnI033njDBAh99NFHZdq0aWZM/1tvvWVtBefEuWDcOK6BCAQ74Tp049YFX1PRywLHMZQG480xBSCEJuThX//610E9W/TabGwLYpqNPIXhnuCGlSJE8K3lFCGuuOIK8xwieC1mAMF0vhjehik7MV0neplRhAiOTdk+BccWzAkJkAAJgABFCNYDEshRAhAk9OtbvCIiEKMO70BviZdffjluvIR4aYRxfzIvpDgHDOEcJrOker6mCRvFsxPSjHdMrw/KNhmmQclrkPIBblijRQiIjuwJESRLiY3lgp5Nl112mZlCFaLg6NGjBQEqZ82aJQsXLjTTH0OEgKDLnhDBsCHbp2DYgbkgARIgASVAEUJJcEsCeUQAPScwC4MzCCOGHODLXT4sfCF138pkmh5TcMNKESI9fn5e5ewJ0blzZzN7CWavwVCrDz74wLSpGM6G3miIv0MRwk/rJL4X26fEfHiUBEiABPwmQBHCb+K8HwkEgMCLL74oJUqUsMMwSpcuLW+++WYAcuZPFvhC6j5nMk2PKbhhpQiRHj8/r4oWIRCnA73HVISYOXOmianjFCEwtIsxIfy0Uux7sX2KzYV7SYAESCBbBChCZIs870sCWSSAQGo6OwOCW95xxx2CaPz5svCF1H1Lk2l6TMENaywRol+/flYoZGDK9Pi6eZVThLj00ktNrBbEh4EIgRkyIEIgfgxFCDepu5MW2yd3ODIVEiABEnCLAEUIt0gyHRIIEQEEQMTwC0w72aNHD9m3b1+Icp95VvlCmjnD6BTINJpIcn+DG1aKEMnxyuZZ8UQITI9MESKblin43myfCmbEM0iABEjATwIUIfykzXuRQEAIYPYNzHE/ffp0M2NGvr2g5Vt5/ah2ZJoeZXDDmg0RAu0AAmDqit5QCMbq5oKZI8qUKWN6dPTs2dPNpH1PK1kRAlMha0wIDsfw3Uwxb8j2KSYW7iQBEiCBrBGgCJE19LwxCZBAtgjwhdR98mSaHlNww5oNEeLZZ5+VNm3a2PWqq64y00umV5LYV/khQkA4wRS2mCYTW8wo48XiFCE6depkh2NE94SgCOEF/czSZPuUGT9eTQIkQAJuE6AI4TZRpkcCJBB4Anwhdd9EZJoeU3DD6rcIgV4QzZs3tzEnDjnkEEGA2k8++SS9gsS5ymsRYsaMGXLWWWeZGDeIc4P1hBNOkKlTp8bJUfq7KUKkzy7bV7J9yrYFeH8SIAESiCRAESKSB/8iARLIAwJ8IXXfyGSaHlNww+q3CLFixQqpXbt2hAgBIQKBFt1cvBQh1q9fL0cdddRBZUA5atasaXpFuFkWihBu0vQ3LbZP/vLm3UiABEigIAIUIQoixOMkQAI5R4AvpO6blEzTYwpuWP0WId577z057LDDjANfsmRJ68hfe+216RUkzlVeiRC7d++Wyy+/3Oa7WLFi0rBhQ8EWIgTWLl26CM5za6EI4RZJ/9Nh++Q/c96RBEiABBIRoAiRiA6PkYAPBNQJyaWtD9gyukW8F9JcsoGzLBnBSvLieEyTvDxvT1M7+SlC4F59+/aVQw891DjrF1xwgRQuXNj8Pumkk1y1hVcixNdffy1HHHGEyTOGYCDo5Zo1a6Rbt262XIcffrh88803rpWHIoRrKH1PiO2T78h5QxIgARJISIAiREI8PEgC3hFQ5yPXt94RTD/l6BfSXLeBli99YgVfGc204Ct4BgiobfwUITAlL3oJaI+Bhx56SOCw4++KFSvK1q1bXTOOVyLEM888Y/OP2Te+/PJLk+exY8eKs2fH66+/7lpZKEK4htL3hNg++Y6cNyQBEiCBhAQoQiTEw4Mk4C4BdTicWzgfuiLKe1hXLYNunWUM2gtgdN7wt+Zbt2G1g+Zby4FtdHndrdV/pBY0G3tRRi/SVNvATpjVYf/+/bJnzx4zbWa/fv2soz1gwADXbo8hCscee6xJG70IJk6cKI0aNTJ/Izilm0EdvRIh2rVrZ9lAONm7d6/hs3LlSilXrpw9dv3117vGjSKEayh9T4jtk+/IeUMSIAESSEiAIkRCPDxIAu4RUGcDW6eDqE4jHBBdDxw4IGFZNc/Yalmw1TI6y+0ezcxScuZJ8+nMO35rucJiB+RT8xzPFiirlj0zggdfjXS5pE5A7QHbwG5+iBAI6KjDL6pUqSKLFi2SM8880zjuRYsWlZdeein1gsS5wisR4rjjjrNCQ5MmTezdd+3aJZUqVbLHzjvvPHss0x8UITIlmL3r2T5ljz3vTAIkQAKxCFCEiEWF+0jAZQLqaGDrdHrhdMB5hOOBFd2kMXUeVnzZC/qqeUW+saIM6gyrU+90fIPwIqg20C3yp6JDtC3UHkG3A/KXbVsEwbYuP7a+JAduWhf9EiFGjhxpnfS//vWvZvjFpZdeavf16NHDCCJuAPBChMBzWb16dZvf008/PSKrGisCw0uOP/74iGOZ/EERIhN62b2W7VN2+fPuJEACJBBNgCJENBH+TQIuE3A6GerwwulVh9fp6P76668mmju6S+OLXtBX5BMr8o0u5OoMo0xOMUKFF2XhMuKkk9P7a35UKIlnC7VH0O2A/MWyBezgly34kp90NYw40Vkn/RIhevXqZR34q6++2ghYiAuhMSLOP/982b59e0Q+0/3DCxFiw4YNNigl8pxIhIBY4dZCEcItkv6nw/bJf+a8IwmQAAkkIkARIhEdHiOBDAmog4GtChBwCtetWycYu7xixQpZtmyZLF261Mxpv3DhQsG6YMECmT9/vsybN8+szt+6L1tb5EXX1atXy7Zt28z49Z07dxrRRAUJlFN7RsDZR/mVR4ZY075c76+2+PHHH2XGjBlmDPxHH30kU6ZMkcmTJ8ukSZPkgw8+MOuECRNk/PjxEev7778vQVid+UKeN23aFGELCBMQhhLZAkzcWNxKx428hCkNZ530Q4TA83n22WcbwQHxIDBLBp6HYcOGWRGifv36giEbbixeiBDffvstRQg3jJNHabB9yiNjs6gkQAKhIEARIhRmYibDSsDpYMARx9dFfHnE17lq1apJ1apVY64Ypx2G9aijjpIXXnhBtmzZIj/99JMRJJxiBIYIBEWIiLYFej9ccsklZjaAChUqiHMtX768hG1F/rt3725t8fPPP5v6hl4S6KUCWzh7RThFITde0N1II6zPeSb5dtZLP0SI5cuXS4MGDYzgUKpUKXn11VcFz+zHH39sp7YsUqSIzJ49O5Ni2Wu9ECG+++47OfLII61okqgnBAJwurWwJ4RbJP1Ph+2T/8x5RxIgARJIRIAiRCI6PEYCGRLAiw+cPaxwMObOnStHH320fXnW7s9h3uLFHF9NN27cKN9//70RIyC2/PLLL2aYBpxfHZqhLLLxQui0hQ6HyTVbtGzZ0vSyUVugpwd6qqgt0CsCohDqotMWbtjDjTQyfNxCeTm4ad30Q4TAzBc6e0SxYsXklFNOkQsvvFBat24d0S4NHz7cFZ5eiBDIWM2aNW1+E4kQ55xzjivlQCIUIVxD6XtCbJ98R84bkgAJkEBCAhQhEuLhQRJIn4DTuVCnF3PZ68tz2bJl5Ywzzgjl2rRpU8HXUogniKqP4SQYWrJmzRojRvzwww+CL/H4wqpf4SFEZHNYhjp6agv0ClARAraAg4GeEWFb4TyWKFHC2KJFixayZMkSM9QHXdYxdh622Lp1q7EFuuJr7xQVIrSepl/T/7iSL/npEVT+KlRCJPJyis5BgwZZ5z2R+HnzzTenV6Coq7wSIRBQU/Nfp04de1cIcOgVpMfQO8ithSKEWyT9T4ftk//MeUcSIAESSESAIkQiOjxGAmkScDoWTufiiy++sCLEiSeeaJxDOIhhWxEvoWLFiuZF/7TTTjNdtxEnAmKEChEYooGv8BgO4PwCDxFA+aSJN+XL9H5OWyBPKkI0atTIiCgpJxyAC77++msztAdO1wknnCD4GzFFYAvE7FAhQntEaIwIt0UhvuSnVxli1U0vRYhu3bpZBx3TdJYuXdquOm0n6tKpp55qntP0SvXnVV6JELfccostB4ZOYTgYFgi9ZcqUsccwXMythSKEWyT9T4ftk//MeUcSIAESSESAIkQiOjxGAmkScDoWcHzh8OHL++eff25FiFatWqWZevYv++yzz6Ry5crmRR/lQHDHWbNmyZw5c8yXeDi/CJKI4QA7duyIGJbhFCH8eDFUW2CrIgRsAUcPMS3gcOWKCIEeKtOnTzf1DGP6Fy9ebIUI2ALDZLQ3BEWI7D9HyIHWT62bXveE0DqPeo8AlatWrbLrRRddZJ33unXrmuFVmVLySoR47733pGjRoia/xYsXlzfffNMMM+rdu7eomAKhFKKcWwtFCLdI+p+OH//X+F8q3pEESIAEwkuAIkR4bcecB5iA07HQ7v/oBg/nvUaNGtZ5D3AREmbNKUJgCAB6RmCsOfYj7gW+wmMGEMSIiO4NAR5wuJRRwhu5cFDvg3s6bYGZI9QhyxURonHjxoLZPKZNm2ZsAVEItsDQjM2bN5seNzpjBpxdN23Bl/z0KquzfnodEwLCIBx2CBBY77333ohMP/jgg/bYEUccYcSsiBPS+MMrEWLt2rWm54+WBUMyevbsaUVe7Ieo4tZUoyg6RYg0KkBALmH7FBBDMBskQAIk8D8CFCFYFUjAAwLxHItcFCGaN28uY8aMMVNWQojAkBMMzcAXVozPRjdpBEZEzwO3Hd9kTOe0hVOEwDCRXBMhGjZsKKNHjzbTiWLKUfS8gS0QrwO2QG8IjdOB3iAaF0JFoWR4xjuHL/nxyCTe76yfXosQmFZWewnAScffzmXs2LGCYJU4hi1mzsh08UqEwLP8yiuv2Bk9VIzQLfKPtsjNhSKEmzT9TYvtk7+8eTcSIAESKIgARYiCCPE4CaRBIJZjgW7wn376ac71hGjSpIkgkj6cX3yFx9CMb775RpYtW2Z6QyA2hA4DcDq+yigNvCldovfRnhDa3R3OeK6JEPXq1ZNhw4YZUQi2wLSL6I6OYJX4coyeKRgeg94QTltQhEipSrl6srN+eilCwMYPPPCA7emA4I0LFy6MKAtEUkwNrI783XffbYSqiJNS/MMrEQLZwLP88MMP2/g0mm8E/x0yZIjpcZVidhOeThEiIZ5AH8RzxoUESIAESCA4BChCBMcWzEkOEYjlWECE+OSTT3JOhMAQALzwY0z2u+++a4Zl4Ask4hEgSCUcX4gQ0Y6vMvLa7HqfaBECzniuiRAYx//yyy/LW2+9ZWzx4Ycfmt4QCFQJW2BIRixbUITwuhbGT99ZP70UIZD222+/Lb169TLrgAEDzAw2zpyh1xL26zkjR4408Wyc56T620sRAnlBuzplyhS59dZbpVOnTnLfffeZ+DSIeeL2QhHCbaL+pYfnjAsJkAAJkEBwCFCECI4tmJMcIqCOhXb/x1fnXBUhEE9h4MCBpms0nJzJkyfLzJkz7ZCM7777zjg7GP4ADm4HRCyo2jhtAUdMbQFnvFatWuarb67EhDjmmGPk+eefN93oR40aZWJ1wBaI04HhMYgJgKlTYQvEKIm2RUEsEx3nS34iOvGPaf2EEOSlCBE/B94e8VqE8Db3kalThIjkEaa/2D6FyVrMKwmQQD4QoAiRD1ZmGX0noI6FU4RATwAMVci1wJSIQ/DMM8+Y3hAjRowwji96fMybN09WrlwZ4fhShHC/Kjqn6ERwPnzJHjp0qOkNgTH/qHOYKQO2QFwIiBCI0UERwn1bpJOithUUIdKh5+81FCH85e3m3ShCuEmTaZEACZBA5gQoQmTOkCmQwEEE1LHIBxGiQYMG8vTTT8tLL71khmSMHz/exCLA13cERHR+fQ+SCIFZO3KtJwREiH79+sngwYONLTCNIabsRIyO5cuXy4YNG8wMGRQhDnpks7ZD2wqKEFkzQdI3pgiRNKrAnUgRInAmYYZIgATynABFiDyvACy+NwTUscgXEeKpp56SQYMGmQCV+PoOxxfTQ+qsDFu3bjVDAChCuF/fnD0hateuLX369JEXXnhBXn/9dRMXAtN14hyIEOvXr6cI4b4JMkpR2wqKEBlh9OViihC+YPbkJhQhPMHKREmABEggbQIUIdJGxwtJID4BdSzyRYTo27evFSH06ztECDi+GAIAEQJf34MiQmBoTC72hHCKEJixBFMuUoSI/5wG4Yi2FRQhgmCNxHmgCJGYT5CPUoQIsnWYNxIggXwkQBEiH63OMntOQB0LFSEw/h7BADFlYvXq1U0wxFatWnmeD69ugKn8KleubMpRv3598/Vde0JAhIDjizgEFCG8ssCf6Ub3hOjdu7cRhDBVJ0SIqVOnyldffWWmTHX2hNi7dy8DU/6JMWu/tK2gCJE1EyR9Y4oQSaMK3IkUIQJnEmaIBEggzwlQhMjzCsDie0NAHYt8EiEwQwa+vo8bN86KEMuWLWNPCG+qmE2VIoRFEcof2lZQhAi++ShCBN9G8XJIESIeGe4nARIggewQoAiRHe68a44TUMeCIgRFCK+rOkUIrwl7m762FRQhvOXsRuoUIdygmJ00KEJkhzvvSgIkQALxCFCEiEeG+0kgAwLqWPgtQmD2g8svv1z+8pe/2PXOO+/MoCSxL401HIM9ISJZIf7F/Pnz5YknnpAbb7xREDdj0aJFsn///sgTM/yLIkSGALN8ubYVFCGybIgkbk8RIglIAT2FIkRADcNskQAJ5C0BihB5a3oW3EsC6lj4LUJ8+umnUqFCBROr4ZBDDjHbE0880QSFdLO8FCES0zxw4IA89thjNm6G2uLwww838RoSX53aUYoQqfEK2tnaVlCECJplDs4PRYiDmYRlD0WIsFiK+SQBEsgXAhQh8sXSLKevBNSx8FuEQDDCQw89NEKEOOqoo8wXeTcBUISITxPO5MiRI6V48eIRdlAholy5ciZuhlsvxRQh4tsiDEe0raAIEXxrUYQIvo3i5dCt9jZe+txPAiRAAiSQGgGKEKnx4tkkkBQBdSz8FiFuuukm6/gWK1bM/IbTO2HChKTynexJFCHik9q0aZMZCqOiQ5UqVcwQmYoVK1rbtG3bVrZv3x4/kRSOUIRIAVYAT9W2giJEAI0TlSWKEFFAQvQnRYgQGYtZJQESyAsCFCHywswspN8E1LHwW4Ro1KiRcXSPPPJIOfXUU63T+/TTTwucHLcWihDxSY4ZM8b2gihZsqS88cYbZirMe+65x9qjVKlSZgrT+Kkkf4QiRPKsgnimthUFiRCI7bJ48eLQrQMGDBA8BxDlunTpErr8O5kj1g7KAYG3U6dO0r9/fxk8eLDp+QShd+bMmabX2apVq+T777+Xbdu2ya+//mriwPz++++mDVZ7J6qLdJgT0UnvGJmmx41XkQAJkIBXBChCeEWW6eY1AX3R9FOE2LJli5QpU8a8JDdp0kS6d+9unV4Eq8RLsFsLRYj4JG+44QbLvWrVqgKHBAuclEKFCtljr7/+evxEUjhCESIFWAE8VduKgkSIypUrS926dUO3oieQDhFDr6wwlkHzDPGQIkQAH6IkskQRIglIPIUESIAEfCRAEcJH2LxV/hBQx8JPEWLy5Mn2C/y5554rL774onV4GzduLJitwa2FIkR8ks2aNbPcGzZsaE9cvXq1FClSxB7r0aOHPZbJD4oQmdDL/rXaVhQkQujwHm7/CLibTQ7sCZH95ybVg6cI+QAAIABJREFUHFCESJUYzycBEiABbwlQhPCWL1PPUwLqWPglQuB+ffr0sV/ar7vuOtPdX79AFi1a1LUYBDApRYj4Fds5O8l5551nT8TUnE4Rol27dvZYJj8oQmRCL/vXaltRkAiBXjXHH3986NZatWrZdqlSpUqhy7+TufY0owiR/ecm1RxQhEiVGM8nARIgAW8JUITwli9Tz1MC6lj4JULs2bNHLrvsMvOVHcLD448/Lhs2bIiYIhLjld1aKELEJrljxw7RLtv4UnvhhRdGnAgxSL/gtmjRIuJYun9QhEiXXDCu07aiIBECsRXCuLzzzjt2mFjPnj3DWASbZwamtChC94MiROhMxgyTAAnkOAGKEDluYBYvOwTUsfBLhNi4caOccMIJxsHF1/YPPvhAtm7dKi1btrROL4ZnuLVQhIhNcuXKlTYIX0EiBIbIuLFQhHCDYvbS0LaCIkT2bJDsnSlCJEsqeOdRhAieTZgjEiCB/CZAESK/7c/Se0RAHQu/RIiFCxcKgr7B8UVX4RUrVsiuXbukQ4cOVoS45pprxK0XMYoQsSsORYjYXLg3PgFtKyhCxGcUlCMUIYJiidTz4db/fanfmVeQAAmQAAnEIkARIhYV7iOBDAmoY+GXCDFy5EgrNiCKPhbMhnHXXXfZ/aeffrr89NNPGZbsj8spQsTGiCn5kh2O0bp169iJpLiXPSFSBBaw07WtoAgRMMPEyA5FiBhQQrKLIkRIDMVskgAJ5A0BihB5Y2oW1E8C6lj4JULcfvvtVmwoWbKknHnmmWY96qij7P569erJkiVLXMFAESI+xvLly1vmbdq0sSceOHAgIjBl586d7bFMflCEyIRe9q/VtoIiRPZtUVAOKEIURCi4xylCBNc2zBkJkEB+EqAIkZ92Z6k9JqCOhV8iBHo5aMDDeFt8oZ86daorJacIER/jGWecYW3RqFEje+Ly5csjRIjevXvbY5n8oAiRCb3sX6ttBUWI7NuioBxQhCiIUHCPU4QIrm2YMxIggfwkQBEiP+3OUntMQB0LP0SIdevWSc2aNa3jiy/xNWrUMGuVKlXs9HgQJwYNGuRKySlCxMd45513WltUq1ZNVq9ebU7GLAGFChUyxwoXLixTpkyJn0gKRyhCpAArgKdqW0ERIoDGicoSRYgoICH6kyJEiIzFrJIACeQFAYoQeWFmFtJvAupY+CFCwJl1DgF47LHH5JtvvjErZslAjAjtHXHzzTe7goIiRHyM7777rpQoUcIwL168uDzzzDMmSGi3bt2sHTA0Zu3atfETSeEIRYgUYAXwVG0rKEIE0DhRWaIIEQUkRH9ShAiRsZhVEiCBvCBAESIvzMxC+k1AHQuvRQjcB04uvqxDaDjiiCMEAoEucGwwJEBFiGbNmumhjLYUIeLj27Jli5x99tmWedGiReXYY4+1NkJviPvvv1/2798fP5EUjlCESAFWAE/VtoIiRACNE5UlihBRQEL0J0WIEBmLWSUBEsgLAhQh8sLMLKTfBNSx8FqE+O233+S6666zDm/jxo1l1apVEcXt2LGjPV6hQgXZuXNnxPF0/qAIkZja5MmTpUyZMpa7ikDYHnfccQKhwq2FIoRbJLOTjrYVFCGywz+Vu1KESIVWsM6lCBEsezA3JEACJEARgnWABDwgoI6F1yLE9u3b5aSTTrLO7jnnnCN79uyJKNHjjz9uj2PmjM8//zzieDp/UIRITA0O5bhx4wQ9TzQOBIZotGvXTpYuXZr44hSPUoRIEVjATte2giJEwAwTIzsUIWJACckuihAhMRSzSQIkkDcEKELkjalZUD8JqGPhtQjxyy+/yMMPPyy9evUy69ixYw8q5oIFC+xxDAOYM2fOQeekuoMiRMHEYPv169fLRx99JCNHjpRZs2bJzz//XPCFKZ5BESJFYAE7XdsKihABM0yM7FCEiAElJLsoQoTEUMwmCZBA3hCgCJE3pmZB/SSgjoXXIoSfZXLeiyKEk0Z2f1OEyC7/TO+ubQVFiExJen89RQjvGXt1B4oQXpFluiRAAiSQHgGKEOlx41UkkJCAOhYUIZbJxo0bZevWrYJeG/v27ZMDBw4IuMDpUk4JYWZ4UO+Be/7+++8mD7t375Zt27ZJrVq1zFAVBO9csWJFhnfKzuUUIbLD3a27av3MhgiBnjmYpUXXTZs2mefTrbIhHUxNq/FRevbs6WbSvqdFEcJ35K7dEM8ZFxIgARIggeAQoAgRHFswJzlEQB0LihAUIbyu1hQhvCbsbfraVmRDhLjnnntM3BLELsEKJ3v58uWuFthrEWLatGkm/gpisESviH/j1iw0gEIRwtWq4WtiFCF8xc2bkQAJkECBBChCFIiIJ5BA6gTUsaAIQREi9dqT2hUUIVLjFbSzta3wW4T49ddfpWnTpjZoLWZuKV68uIlh4iYjr0UITIF76KGHxlzPO+88QfBetxaKEG6R9D8dihD+M+cdSYAESCARAYoQiejwGAmkSUAdC4oQFCHSrEJJX0YRImlUgTxR2wq/RYiFCxfa4UjOKWQHDRrkKicvRQhMdVu4cOEIIcVZFooQrpoy1IlRhAi1+Zh5EiCBHCRAESIHjcoiZZ+AOhYUIShCeF0bKUJ4Tdjb9LWt8FuEGDNmjJQuXdo48BUrVrSOfJcuXVwtsJcixNy5c+0UuMWKFZNq1apJzZo17XrFFVfIjh07XCsPe0K4htL3hChC+I6cNyQBEiCBhAQoQiTEw4MkkB4BdSwoQlCESK8GJX8VRYjkWQXxTG0r/BQh0C5hal8MY0DPgfbt20uRIkXM7+OOO84EjXWLlZciBGJAaBlatGghs2fPtkE2EWzzhx9+MEFw3SoLRQi3SPqfDkUI/5nzjiRAAiSQiABFiER0eIwE0iSgjgVFCIoQaVahpC+jCJE0qkCeqG2FnyIEZqnp0KGD7f3wxBNPSJUqVczf6BUB592txUsR4vnnn7cixMUXX2xm4HEr37HSoQgRi0o49lGECIedmEsSIIH8IUARIn9szZL6SEAdC4oQFCG8rnYUIbwm7G362lb4KULs2rVLqlevbkQH9ID45JNPbJDKUqVKyYQJE1wrtJcixN13322FlB49erja6yEWAIoQsaiEYx9FiHDYibkkARLIHwIUIfLH1iypjwTUsaAIQRHC62pHEcJrwt6mr22FnyLEypUrrfNeo0YNWbJkibRu3drsQ6DHAQMGuFZor0QIcOvWrZstR926deW6666TN998U37++WfxwumkCOFatfA9IS/qg++F4A1JgARIIIcIUITIIWOyKMEhoI4FRQiKEF7XSooQXhP2Nn1tK/wUIV555RXrvLdp08YEb+zatavd1717dzlw4IArBfdKhMDUm8i7czYM/V2nTh0ZPXq0K/l3JkIRwkkjXL8pQoTLXswtCZBA7hOgCJH7NmYJs0BAHQuKEBQhvK5+FCG8Juxt+tpW+CVC4H633HKLdd7Re+C3336Txx57zO47++yzZevWra4U3CsRAnEr2rZtK1WrVpXKlStL8eLFbf4hRmDf0qVLXSmDJkIRQkmEb0sRInw2Y45JgARymwBFiNy2L0uXJQLqWCQSIRo1aiQzZswI5Tpw4EApV66ceemvX7++9OnTR7Bv+PDhgoj106ZNM5Hqly0Lhwhx+OGHS8+ePc2MAZg1IEwrnMiyZcsaW9SuXVt69+4tgwYNkmHDhsnYsWNl6tSp8tVXXwlssX79euNc/vLLL7J3717ztRt1FA5wpi/pmV6fpUc167fVtsIvEQK2dw69QHBHLCNGjLBO/NFHHy3ffvutK2y8EiHQU2Pz5s2ybt0609YMGTJEMLOH9obAFnEiEITTrYUihFsk/U+H7ZP/zHlHEiABEkhEgCJEIjo8RgJpElDHIpEIgbHXFSpUCOVapkwZG5U+F0QIp+MS5t8UIdJ8YLN4mbYVfokQixYtkmOPPdY46whC+fLLL8uGDRtkypQp1oEvVKiQEa7cwOKVCBGdN/CbM2eO1KpVy5ajadOmrokpuB9FiGjq4fmbIkR4bMWckgAJ5AcBihD5YWeW0mcC6lgkEiHC7Ow6804R4hDr9Di5ZOM3RQifH3QXbqdthV8ixKRJk6RkyZKmzkIIrVevnpx44okH9SJ48cUXXSidiF8iBDKL3j1XXnmlfR6rVasm8+bNc6UcSIQihGsofU+IIoTvyHlDEiABEkhIgCJEQjw8SALpEVDHIpEIUbFiRenYsWMoV3TnLlasmHnZzwURAtMV9u/fX0aOHBm6FWP5y5cvb2xBESK95zWbV2lb4ZcI8dRTT1knPZFQds0117iCxU8RAgxvvfVWWz7M/DF//nxXyoFEKEK4htL3hChC+I6cNyQBEiCBhAQoQiTEw4MkkB4BdSwSiRCtWrVKL/EAXPXZZ5+ZwG9wYnJBhEB8jhUrVgSAbOpZYGDK1JkF6QptK/wSITp16mSd9CJFikQMBytatKg91rJlSxMrJFNWfooQiHdxySWX2DI0adJE1qxZk2kR7PUUISyK0P2gCBE6kzHDJEACOU6AIkSOG5jFyw4BdSwoQoQjMCVFCAamzE5LISYgKNoLv0QIzCahPSA6dOgQUexu3brZY5jmEkEfM128EiH27NkjEB10+f333+XNN9+U0qVL2zJgaAZm/nBroQjhFkn/06EI4T9z3pEESIAEEhGgCJGIDo+RQJoEKEKEa3YMihAUIdJ81DO+TNsKP0SIVatW2WFUECIwlMe5YGYVFSgwxSVm78l08UqEGD16tDRv3ly6d+8ujzzyiLRr104qVapk8w8xYtasWZlmP+J6ihAROEL1B0WIUJmLmSUBEsgDAhQh8sDILKL/BNSxYE8I9oTwuvZxOIbXhL1NX9sKP0SIUaNGCYJRqtAwefLkiMJhel0NWomhGZj2MtPFKxHitttus+XQ8ui2ePHicu+992aa9YOupwhxEJLQ7KAIERpTMaMkQAJ5QoAiRJ4YmsX0l4A6FhQhKEJ4XfMoQnhN2Nv0ta3wWoRAW3T77bdbx/3II4+UpUuXRhQOdQnBHNWZv/nmm+XAgQMR56T6h1ciRNeuXSN6PiDPZcuWFUzLOWLECFeHYWiZKUIoifBtKUKEz2bMMQmQQG4ToAiR2/Zl6bJEQB0LihAUIbyughQhvCbsbfraVvghQiCgLOImYB0/frzs3r07onA7d+6U999/354zc+ZMQRuWyeKVCLFp0yaZPn26/Otf/5JHH31UBg4cKBMnTpQNGza4ElAzVpkpQsSiEo59FCHCYSfmkgRIIH8IUITIH1uzpD4SUMeCIgRFCK+rHUUIrwl7m762FV6LEN6WIn7qXokQ8e/o3RGKEN6x9TplihBeE2b6JEACJJAaAYoQqfHi2SSQFAF1LChCUIRIqsJkcBJFiAzgBeBSbSsoQgTAGAVkgSJEAYACfJgiRICNw6yRAAnkJQGKEHlpdhbaawLqWFCEoAjhdV2jCOE1YW/T17aCIoS3nN1InSKEGxSzkwZFiOxw511JgARIIB4BihDxyHA/CWRAQB0LihAUITKoRkldShEiKUyBPUnbCooQgTWRzRhFCIsidD8oQoTOZMwwCZBAjhOgCJHjBmbxskNAHQuKEBQhvK6BFCG8Juxt+tpWUITwlrMbqVOEcINidtKgCJEd7rwrCZAACcQjQBEiHhnuJ4EMCKhjQRGCIkQG1SipSylCJIUpsCdpW0ERIrAmshmjCGFRhO4HRYjQmYwZJgESyHECFCFy3MAsXnYIqGNBEYIihNc1kCKE14S9TV/bCooQ3nJ2I3WKEG5QzE4aFCGyw513JQESIIF4BChCxCPD/SSQAQF1LPwQIX7//XfZuHGjfPPNNzJx4kQZN26cWSdMmCBz586VnTt3ZlCS2Jd+9tlnUrlyZTnkkEOkfv360qdPHxk4cKAMHz7c3HvatGkye/ZsWbaMIkRsgu7tpQjhHstspKRtBUWIbNBP7Z4UIVLjFaSzKUIEyRrMCwmQAAmIUIRgLSABDwioY+GHCLF582Y588wzpUaNGlKhQgU57LDDzFquXDmpWbOmnHzyyfL000/L9u3bXSspRYjEKPft2yc33XSTdOvWLeb6wgsvyN69exMnkuRRihBJggroadpWUIQIqIEc2aII4YARsp8UIUJmMGaXBEgg5wlQhMh5E7OA2SCgjoUfIsT69eulVq1aplcCeibEW6+99lrZtm2bKzgoQiTGuGvXrrh2gH06dOggOMeNhSKEGxSzl4a2FRQhsmeDZO9MESJZUsE7jyJE8GzCHJEACeQ3AYoQ+W1/lt4jAupYZEOEqFSpktxwww3SpUsXqVq1qnWGS5QoIW+++aYrJaYIkRjjvHnzLPdYohBFiMT88umothUUIYJvdYoQwbdRvBxShIhHhvtJgARIIDsEKEJkhzvvmuME1LHIhgjRvHlzQxexIl599VUpXbq0dYivueYaV8hThEiMcdKkSZY5RKHzzz9fLrroIrv27dtX9uzZkziRJI+yJ0SSoAJ6mrYVFCECaiBHtihCOGCE7CdFiJAZjNklARLIeQIUIXLexCxgNgioY5FNEQLl3r17d8RQjVatWrmCgyJEYoyDBw+2IsTf//532bFjh8DJdK5uvRRThEhsi6Af1baiIBHi8ssvlxEjRoRuveWWW6R48eLmeYATH8YyaJ6PP/54U45ixYpJp06dpH///oJnfeTIkYJAwDNnzpT58+fLqlWr5PvvvzfD33799VfZv3+/QBSGjdXeieqlW21Donvg2NKlS6VHjx5y9NFHC2IInX322TJ16lRzGdosxLRp3LixjBkzJiKpXr16mf1PPPGE3Q/hFefeeeedgp5gaPcQnwhxiR599FHzf9G3334rGBZYpkwZgTh7++23y5YtW2waXv7wi6mXZWDaJEACJJBLBChC5JI1WZbAENAXzWyLEPja7owXcfHFF7vCiCJEYoz33XefFSHw0v3bb78lviCDoxQhMoAXgEu1rShIhIg1rIf74sfA8ZJNLogQ69atk7POOksKFy4stWvXlhNOOMHMeKRD9hA/CAGPwXHIkCERT8oVV1xh9iP4ri4ff/yx2XfKKafI6aefboIkQ2goVKiQlCpVSgYMGCAXXnih2Y+ZlcCwaNGiAkHDD4HAj3soC25JgARIgAQKJkARomBGPIMEUiagjkU2RQg4Ne+//775GoUXySJFisjQoUNTLkusCyhCxKLy5z58tVYn6I477nAtIOifd/jzF0WIP1mE8Ze2FRQhsiMo6HOayjbsIgTqXL9+/YxAcMkll8jWrVvNo4Mgxz/99JP5na4Iceihh0qbNm1k7dq1Znro9u3bm7YQYseJJ55oel8gKC/EBzBHTwnM8OT1QhHCa8JMnwRIgARSI0ARIjVePJsEkiKgjkU2RIj69eubLsGvvPKKNGjQQPBSiLVt27ami3BSBSjgJIoQ8QGh1wNewtWpwbSpsAO6b3/44YeuxYLQHFCEUBLh3GpbUZAIgaEMjzzySOhW1Hs47XgeMF1wGMugeT7mmGNMOcIuQqCuITgueiJguuBYS7oiBNo7DE3Reo3fGOoB+7/++uv2Vj/88IO5P86fPn263e/VD4oQXpFluiRAAiSQHgGKEOlx41UkkJCAvoBlQ4RQ51e3JUuWlK5du8qmTZsS5jmVgxQh4tPCl8TTTjvNihBqB2zLly9vnLD4V6d+hCJE6syCdIW2FQWJEOjOHsblnXfeMTEAUP979uwZxiLYPOdKYErUNfyfgKES//znP2MOF0tXhMDQjtWrV1tmc+fOlaOOOsq0hytXrrT7MVQQsSjw/5NTnLAnuPyDIoTLQJkcCZAACWRIgCJEhgB5OQnEIqCORRBECPSCaNasmUyZMiXmy2as/Be0jyJEfEIQe7p37256Q0CMwAs4XvZVjEBQNtjCrYUihFsks5OOthUUIbLDP5W7+i1C7Ny50/QSWLRokRw4cCCVrCY8F3XuvffeMz0UEK/hgQceMMMwnI56uiLEscceKxs3brT3TyRC1K1blyKEJcUfJEACJJBfBChC5Je9WVqfCKhjkQ0RAl/b0QUaM2E4nd9q1aqZF083EFCESI4iIszjJRxDYVSEwPaqq64SRM13Y6EI4QbF7KWhbQVFiOzZINk7+y1CPPXUU8ZJr1Onjjz77LOC/0+cQkGy+Y51HtqfBx980PwfgdlL2rVrJwhWqelThIhFjftIgARIgATcIkARwi2STIcEHATUsciGCNG8eXOTE3w5e+ONN2xXaDi/6P6Kr2uZLhQhUiO4Zs0a0en9YAf83rBhQ2qJxDmbIkQcMCHZrW0FRYjgG8xvEQLTm6p4iR5tnTt3lmXLlrkGat++ffL8889L1apVzX3wfwemF8VCEcI1zEyIBEiABEggBgGKEDGgcBcJZEpAHYtsihAoA14yzz//fPsiW6JECfnoo48yLZ5QhEgNIQQh54wZNWrUsC/7qaV08NkUIQ5mEqY92lZQhAi+1fwWISBeYvYKDewJIaJJkyYm8CPadjeW/fv3m/8TGjVqZKbrvPfee02yFCHcoMs0SIAESIAE4hGgCBGPDPeTQAYE1LHItgiBImCKSP2ahmk6Bw4cmEHJ/riUIkRqCH///Xe54oorrB3q1atnprBLLZXYZ1OEiM0lLHu1raAIEXyL+S1CgAgCOD766KNSuXJl236ULl1aHnroITu1phvkRo0aZWarwJSZWChCuEGVaZAACZAACcQjQBEiHhnuJ4EMCKhjkW0RAvfHVGwqQuCLGl42M10oQqRGEGOtTzrpJGuHc845xzUHgiJEarYI2tnaVlCECJplDs5PNkQI5AK9FWbOnGmGcUFIRnuOtrx169Yyb948gciZ6bJ06VJBkMqyZcuapHbv3m3/77j11ltNPAocQA+Ms846y+Thpptusrf9+OOPzT4GprRI+IMESIAESCABAYoQCeDwEAmkS0Adi2yKEHBqvvzySznyyCOt84svaM5p0tItH0WI+OQwO8bChQvtCVu3bpV//OMfNkgogoU+/PDD9qXenpjmD4oQaYILyGXaVlCECIhBEmQjWyIEsoR6snbtWrnmmmtEhQiIEcccc4wMGTIkQa5jH8IQMfz/pAtmy4Cw0aJFC7MLwsZtt91m/u9ADJtdu3YJ6ihm9tFeGRQhlB63JEACJEACqRKgCJEqMZ5PAkkQUMciGyIEgow99thjJgYBZsrQXhAYT3zjjTfa6OdJFCPuKRQh4qIx3aTxMo/ZSPDyji+LYK92wL4ff/wxfgIpHqEIkSKwgJ2ubQVFiIAZJkZ2silCaHb27t1rAg5jekttU4oWLWrEidWrV+tpCbeoazfccIOZRWno0KHyyCOPSPXq1c2UnSNGjLDXfvrpp1ZwwDTPHTt2lEqVKkmDBg3MvSlCWFT8QQIkQAIkkCIBihApAuPpJJAMAXUssiFC6Iupc1u4cGHTdReBztxYKELEp4ip7pzs9TeECDgOkydPjn9xGkcoQqQBLUCXaFtBESJARomTlSCIEMga/l+ZNWuWadPRtqONQfvyl7/8RWbMmCHo5ZBoQV279NJLjehQsmRJMwwDoulLL71kYlDotRgGgkCVELMR1Piwww4zvboGDx4s6FV35ZVX6qkCwQL7EDgTvcF0mT9/vjRs2NAc05k3cAyxLpo2bWpEDqfwode5vcVzxoUESIAESCA4BChCBMcWzEkOEVDHItsiBLrNYtxw3759I14uM0VNESI+wbvvvltatmwphx9+uIk2X6FCBTnxxBOlR48e8t1338W/MM0jFCHSBBeQy7StoAgREIMkyEZQRAjNIkSCXr16GZFAxU70vOrdu7f8/PPPelrc7caNG42YsWDBAkEMiFgL/g9DTJtJkybJ8uXLzSmICwFBwSk2QFTAPpzrFEF+++03M4wEx5BfXVDfcS56b/zyyy+627MtRQjP0DJhEiABEkiLAEWItLDxIhJITEAdCz9ECLwQIgYBvoC9+eabpqvumDFj5IsvvpAlS5bITz/9FDH2N3HOkztKESI+J7x0b968WRDobe7cubJ48WLzsu7WlHrRd6YIEU0kXH9rW0ERIvh2C5oIAWIYnoHeVRgiob0i0LsBUzMj/o8bQSuDb5mCc0gRomBGPIMESIAE/CRAEcJP2rxX3hBQx8IPESIbUClCZIN67HtShIjNJSx7ta2gCBF8iwVRhAA11CH0NMA0wCpEoGcEZqp46623gg/WhxxShPABMm9BAiRAAikQoAiRAiyeSgLJElDHgiLEMkGXX8wQgS636A2gUdnhdCmnZLmmc57eA7bAV0HkAV2Pt23bJrVq1TLjqRs1aiQrVqxIJ/msX0MRIusmyCgDWj+zIUIsW7ZMpk6dalfEGYjXLT/dQr7zzjtSpkwZ85z17Nkz3WTSvg5cd+7cGTEUIN3EgipCaHnQxiJeQ82aNW1cGrBHAEkMfcjnBc8ZFxIgARIggeAQoAgRHFswJzlEQB0LihAUIbyu1hQhvCbsbfraVmRDhLjwwguts4ov5whOOGfOHFcL7KYIAeHwueeeMwERERQRK0TOWAu4oiyIxdKmTRvp0qWLvPDCCxmJEUEXIZTDRx99ZOLQaJwITAuM2ECzZ88202zqefm0pQiRT9ZmWUmABMJAgCJEGKzEPIaOgDoWFCEoQnhdeSlCeE3Y2/S1rfBbhMA0sZi1QB1V3f773/92tcBuiBAI6Pr000/LkUceeVB+Fy1adFB+0dvp+eefF0xdqeXSLYSEtWvXHnRNMjvCIkKgLGBw2223mRkttOylSpUyIg56huTbQhEi3yzO8pIACQSdAEWIoFuI+QslAXUsKEJQhPC6AlOE8Jqwt+lrW+G3CIHAtVWrVjVOOqZ3VEf14YcfdrXAmYoQyOdJJ50kxYsXt3nUvGIbS4RATwDMTqPnOeMk4PeNN96YVo+AMIkQMOKvv/4qo0aNkjp16gh6Q4AHhIgNibC3AAAgAElEQVQOHTrI999/73rAYlcrjsuJUYRwGSiTIwESIIEMCVCEyBAgLyeBWATUsaAIQREiVv1wcx9FCDdp+p+WthV+ixDDhg2TYsWKGce0Xr161mFv27atqxAyFSEw84P2aIAjrXlWgSGWCHHuuefa8hxxxBHy+OOPy2mnnWb3lS5d2gRyTLWgYRMhUD7UK0yt2bFjx4iglZhNA7Mo5ctCESJfLM1ykgAJhIUARYiwWIr5DBUBdSwoQlCE8LriUoTwmrC36Wtb4acIgQCtN998s3XK//GPf9jgkdWrV88obkI0rUxFCAwbQa8G9IZ444035KKLLrL5jtUTAtMVly9f3p7zwAMPGEf8ww8/jBAz+vfvH53VAv8OowihhUJw4H79+kUMaalUqZLce++9ZgphPS9XtxQhctWyLBcJkEBYCVCECKvlmO9AE1DHgiIERQivKypFCK8Je5u+thV+ihB79+41gQq1N8GQIUPsTDHlypWTpUuXulboTEUIZARf7CFGYOnatasVGGKJEAg+WaRIEXMOek1Mnz7dXLdmzRpx9vi4/PLLTdwEczDJf8IsQmgRJ06cKC1atLAMMTzlvPPOk/nz55vZivS8XNtShMg1i7I8JEACYSdAESLsFmT+A0lAHQuKEBQhvK6gFCG8Juxt+tpW+ClCYJaJww47zDiiiBGgcRfg1JcoUcLVbvpuiBBOBzKRCIH21tnDo0aNGrJgwQJjQMRAOPXUU63zffrpp5u4CKlYNxdECLD8+eef5eqrrxYITrA5YoJg2MrQoUNl165dqSAJzbnOOhSaTDOjJEACJJDDBChC5LBxWbTsEVDHgiIERQivayFFCK8Je5u+thV+ihBfffWVdcaPP/54+fbbb800luqQPvjgg659FXdDhHBaIJEIsXv3buncubMtW5MmTQQ9ILBgRgjEu0AZsTZv3lzWr1/vTLrA37kgQmghITagB4xzxpEyZcrIVVddJRi6kWtOe66VR+3ILQmQAAmElQBFiLBajvkONAF1LChCUITwuqJShPCasLfpa1vhpwgxYMAA64y3a9dO4LzfdNNNdt8VV1whe/bscaXgfooQ+MKvQgGEhmbNmtnpOH/55Re5+OKLbRkxM0isoJaJCq1pY5hHp06dBHElBg8eLCNHjpQJEybIzJkzzbCGVatWmV4W6HGCGSr2798viMMBG6u9E93HT4d52bJlcsEFF9jZM8CtadOm8v7775s8J8pnmI75yTRMXJhXEiABEsgWAYoQ2SLP++Y0AX3RpAgRDhECkeLRbRtj5cO2fvrpp3aqxdq1a0vv3r1l0KBBgtkPxo4dK1OnThV8+YazgS+/+MoJhwzlPHDggJmmT52jTB5KvuSnR0/bCr9ECLRJl112mXXG77zzTlMPELRQewmccsopsmXLlvQKFHWVnyIE8oy8azkoQkQZI86fP/zwgyCApzOgZ5UqVaRv376mvYhzWah2s30KlbmYWRIggTwgQBEiD4zMIvpPQB2LRCIEotCj23MYV3SJLlmypHnZr1+/vvTp00cGDhwow4cPl3Hjxsm0adNk9uzZxvHduHGjdXz37dt3kOPr9cuh0xb4Gok84MsvvlLWqlXLlAFjoxF1H12Rw7a2adPG2oIihP/PeqZ31PrplwiB2AgtW7Y09R5f9F9++WVTBMwegdgAcOArVKhgpnXMtGy4niJEsHtCOG0M0RLDVFTEwRa9RxYvXhz64Rle/z/j5MjfJEACJEACBROgCFEwI55BAikTUMcikQjhfNEL8+9cECHCzN+Zd4oQKT+qWb9A2wq/RAj0ioEAinqDGADoAYHeNBAQnXVpypQprrDxU4TYsWNHRNyHRD0hjjvuOBsvItmC5uJwDGfZUQfRW6pLly52ylYIU9WqVTNiEoaWhHWhCBFWyzHfJEACuUqAIkSuWpblyioBdSwoQoRjOIbT+Qrzb4oQWX3s07q5thV+iRDvvfeeFC1aNEJwiFXnn3766bTKE32RnyIEhhg5A1c2btxYVq9ebbKEnk/oNaRlxbCNzZs3R2c34d+5LkJo4RG0Ej3bKlasaHlhNhXMPAKOYVwoQoTRaswzCZBALhOgCJHL1mXZskZAHYtEIsSxxx4rb7/9dijXRx55RMqWLWteUHOhJ0SdOnUEzhniQoRtfeutt+Twww83tqAIkbVHPu0ba1vhlwhx1113WcdSHfJYW8wk4cbipwgBlg899JAdVlK5cmX55ptvTDEwLMw51KBDhw4maGQqZcwXEQJMUB/RFrZu3VqKFCli6gx6RZx88smCoTv4vy1MC0WIMFmLeSUBEsgHAhQh8sHKLKPvBNSxSCRCtGrVyvd8uXXDzz77TPCCD+clF0SIRo0ayYoVK9zC42s6nB3DV9yu30zbCr9ECDiVKjpghojrrrvOrhCx9BhmSPjtt98yLq+fIgQyO378eBsjpXDhwmYYAfYvXLjQtllwpp944omUy5ZPIoTC2bBhg9x2221SqlQpWzdq1Kghzz33nKDHRFgWihBhsRTzSQIkkC8EKELki6VZTl8JqGNBESIcwzEoQvwxdWAmDwlf8tOjp22FHyIEhiugW70KDddcc01Epnv06GGP1axZU5YuXRpxPJ0//BYhdu7cKXCStYwQXfBF/4477rD7EJAznbLlowihNh89erQgjoZyxbZz584m+HAYnv0w5FFZc0sCJEAC+UCAIkQ+WJll9J2AOhYUIShCeF352BPCa8Lepq9thR8ixNy5cwUOuDqSL730UkThBg8ebIcyQKzAEKVMF79FCOT3vvvuE/SCQDkLFSpkRAn9ko9eEO3btzfDDVItWz6LEJhZaNWqVWYWoRIlShi2YIxhhZMmTTJT/qbK08/zKUL4SZv3IgESIIGCCVCEKJgRzyCBlAmoY0ERgiJEypUnxQsoQqQILGCna1vhhwgxZMgQ45TDOYcDOXPmzAgaEydOtLMiwHl/5pln0nLWnYlmQ4T47rvvBC83KrY4twhWiZ4R6Sz5LEIoL8xA0rdvXylfvrzliwCW99xzj6AXSlAXihBBtQzzRQIkkK8EKELkq+VZbk8JqGNBEYIihKcVTUQoQnhN2Nv0ta3wWoRAW3T//febL9f4en3aaafJt99+G1G4ZcuWmUCEOI4V5+/fvz/inFT/cFuEQGBNzR+2sWK5gOnWrVvl8ssvNzFr4CQfffTRZvrOxYsXpy2sUIT4w/roFfH5559Ly5YtbY8TBK9EncJ+1LWgLRQhgmYR5ocESCDfCVCEyPcawPJ7QkAdC4oQFCE8qWCORClCOGCE8Ke2FX6IEOvWrZNFixaZFVNXHjhwIILYvn37ZOXKlfactWvXZuxQui1CYJYLLQO2iHMRb0F5IKxMnTpV5s2bl3EgRYoQkaTXrFkj119/vR3Cgx4nxxxzjLz22msH1a3IK/3/iyKE/8x5RxIgARJIRIAiRCI6PEYCaRJQx4IiBEWINKtQ0pdRhEgaVSBP1LbCaxEiW4V3W4TIVjlwX4oQsemPGDFC6tata4dnQIy48sorBUJXUBaKEEGxBPNBAiRAAn8QoAjBmkACHhBQx4IiBEUID6pXRJIUISJwhO4PbSsoQgTfdBQhYtsI/8+hp8m5555rA58i5kizZs1kxowZgh4p2V4oQmTbArw/CZAACUQSoAgRyYN/kYArBNSxoAhBEcKVCpUgEYoQCeCE4JC2FRQhgm8sihCJbYSglY8++mhE0Mpy5crJgw8+mPFQmMR3LvgoRYiCGfEMEiABEvCTAEUIP2nzXnlDQB0LihAUIbyu9BQhvCbsbfraVlCE8JazG6lThCiYIno9YMrO5s2b26CVmBYWL5vz589POyhowXdOfAZFiMR8eJQESIAE/CZAEcJv4rxfXhBQx4IiBEUIrys8RQivCXubvrYVFCG85exG6hQhkqeIgKDdunWLiBNRv359QfwI/L/o90IRwm/ivB8JkAAJJCZAESIxHx4lgbQIqGNBEYIiRFoVKIWLKEKkACuAp2pbQREigMaJyhJFiCggCf5EvUaviJdeeklq165txYiiRYtKz549BTNr+LlQhPCTNu9FAiRAAgUToAhRMCOeQQIpE1DHIggiBPKAed3h5Li1fPbZZ1K5cmXzYomvW3369JGBAwfK8OHDZdy4cTJt2jSZPXu2mR4PU+pt3bpVfvnlF/NSimkBkSfkRzm5la9Y6eg9lANejHfv3i3btm2TWrVqmTI0atRIVqxYEevywO+jCBF4EyXMoNZPihAJMQXioFOEuPTSS6V///4yePBgGTlypEyYMEFmzpxphhysWrVKvv/+e9PG/Prrr7J//37bBqu9ExUI5+TKgnZ31qxZ0qJFCylUqJBpb4sUKSKnnXaaoO3CcT+WXGLqBy/egwRIgAS8JkARwmvCTD8vCeiLJl6w4HT/9ttvJjDXxx9/LNWrVzcvYq1atfKMDe67ePFiefXVV6VXr15yyy23SN++fQX3d2OhCHEwRTgb3333nV1h90TL5s2bjVCzfv1646QkOjfRMYoQiegE/5i2FRQhgm8rihDp2wgi9F133RURtLJSpUpGwMYxrxeKEF4TZvokQAIkkBoBihCp8eLZJJAUAXUssiFCoNfBvffea7rA4osT5mzHeuihh0rbtm2Tyn9BJ1GE+JPQzz//LP/+97/lrLPOkgYNGpi1adOmsnbt2j9Pcvz64Ycf5IEHHpDGjRtLjRo1pF69enLhhRfK8uXL0/oqSBHCATeEP7WtoAgRfOMlK0KsXr2aPSFimHPPnj0yduxYqVu3ru0VUaJECencubOg94iXvSIoQsQwCHeRAAmQQBYJUITIInzeOncJqGPhtwiBr+sdOnSwwoMKELrFlyg3FooQYoaTjB8/3kR9L1y4cATzkiVLysqVKw9C/dNPP0nHjh0jzlXbHHfccTJnzpyDriloB0WIgggF+7i2FRQhgm0n5M4pQsBxHjBggLz88ssyatQo+eCDD8xwjAULFghFiMS2RNDKyy+/PKIdbNiwoYwePdrVYYPOXFCEcNLgbxIgARLIPgGKENm3AXOQgwTUsfBThED3/65du9pp0eDclilTRk466SRp3bq1nHzyyQKn2Y2FIoTIa6+9JqVLl454kVZBIZ4I8eSTT4r2TsH46COOOEIQqE2vQ0+VgoZxRNuPIkQ0kXD9rW1FLBHi6aeftnUDDm8Yl3feece0Q6jjCEgY5iVahHjmmWdkyJAhCUUIfP3P55gQ8ey9a9cu6devn+kNpu0f2lMMH9y0aVO8y9LeTxEibXS8kARIgAQ8IUARwhOsTDTfCahj4acIMWPGjAinuGzZsjJo0CATFBL22LFjhwnI6IZtKEKITJ061TqIGNtcsWJF+3csEQIBMTUeCF66ERPkk08+iegZUa5cOfnqq69SMhFFiJRwBe5kbStiiRBw0tRBowiRfdM5RYguXbrIs88+K0OHDpW3335bJk6cKGgX0RMCMz9oYEqKEPHthv8f0Y6iF5jWc/Qqg2iO4WluLhQh3KTJtEiABEggcwIUITJnyBRI4CAC6lj4JUJgtgdEa9cXOXxl7927t5l94qDMubCDIoSYQKN4eX7wwQdly5YtJq6D8o8lQiB6vkaHx3mII4EFEfW1RwWOY6aRVBaKEKnQCt652lYUJEKcffbZct9994Vubd++ve3tg15ZYSyD5lmnmixWrJgZTvD888/LK6+8ImPGjJFJkyaZWSAWLlxoRAjEftm+fbtQhEj8zKH+Y6aim2++WSDCahsKYRcieipBK5cuXWpmYIp1R4oQsahwHwmQAAlkjwBFiOyx551zmIA6Fn6JEPjyhgCH+gKHwF8Yd+vVQhHij5gQCKamwycwlEL5xxIh7r77bnscL9tLliwx5sEXP0xzqtdiSM3evXuTNh1FiKRRBfJEbSuiRYidO3eamANaL7j9I8BuEDhAhLjqqqvkhRdekGHDhplgix9++KF88cUXZlaib7/9VihCpPa4YXgGpjqtUqWKCaIMO5cqVUquvvpq06sEz0e8Bc8Q/r+DUIeeFbEEh1j74qXH/SRAAiRAAt4ToAjhPWPeIQ8JqGPhlwiBr+nO4IjoFZGKI5uqiShCHEwskQiBKVqdPVUwi8a6detMIhj/jKEZ6lydccYZggCWyS4UIZIlFczztK2Ak4X2AvED8OxChEAMlwoVKti6oXWE2+wKEuXLl5fbb7/dDMV466235P3335fp06cLnkV8jcez/eOPP5ohcNoTAraFjdXeiWpjPjvMGM7Srl27iDrfrFkz23MsFjc8LxdddJERL7p16/b/2XsPqCmK7H14DSASlCRBCSooiCCCARNm/xzTml1zQsFFTD8Da04IiiAIKioSVYyICYmugKh7BGFRyQaCgLACkgTdc776zlPs7benZ3qme7o6zTx1Tr89b8eq51bdrnrq1r3a+sR5XTlj6sSC/xMBIkAEkoAASYgkSIF5KDkEpKMZFQkxYsQIq9OGUJwI0RlmIgmRjW4+EgLmxp06dbJkBNIBa8aRcO60006zzqHDjSgnXhNJCK9IJfc66AshIWBZg0EVzNBRD0AwDhw4UMFJ5WOPPabuu+8+deedd2rz9a5du6rrrrtOz8oj2gD8FGBD5AZuZjG47LLL9BKMzp076xC7zz33nBo5cqReijF+/Hg1bdo09fXXX6uFCxeqZcuWaSIRRBJkCWKJJIT39ocw04888oh23CuEG4gfOPbF0jd7QnsZMGCA5fAXVmbffvut/RL9myREFiQ8QASIABGIFQGSELHCz5eXKgJRkxDosElnDX4F+vbtGyq0JCGy4c1HQixfvlxHJxEZ5SMhGjdubFlJZL8l+whJiGxM0nbESULAcgbm6b/++qsmq7DcCgMrOC3FjDv8i8APwahRo9SQIUPU888/r4kKDMYQsQEbHFlyC46B4AlsQQaBfIAzShC/CCkpVhBffvmlgj8IhOf8+eeftewgQ5AQGCiThPDXKv/73/+qsWPHqjZt2ljfNkQWOuOMMzTRI0+Dc99GjRpZ10DH3n777XLa2pOEsKDgDyJABIhAIhAgCZEIMTATpYZA1CQELB9kgEsSIrM22WWBji2iVMCRJywQmjRponFr1apVRsc28wne/stHQsA8u127dpaMSEJ4w7RcrspFQqCOwrEhzPoxs44Z9tmzZ6vPP/9cTZkyRX300Ufq3Xff1ZEZXnnlFT0oHjp0qHaUCGKCmzkM4HwS2ML/A4if119/XS8PABkEHwQzZszQVhDwS7B06VLLHwRkCEKJJERxLRnWQfCtgSUW4rwX3zlEGYI8fvzxxwy9Kt/A5s2bZ/lEIglRnAx4FxEgAkQgLARIQoSFLJ9b1gjYB77ogMrM5j//+U8rTCMGoqbSww8/bA1wsRwDptthJlpCZKNLEuL/ywaFRzwhIPoCgy4QZTDfhy8BmPPDGgIz63B2CGemMPkHEQFdgmUA8BuBGWNEW4F1BGbnETISA2VuwTEAltiA69tvv62JH2COaBiwSoEunDVrlpaNWEHApwtkt2XLFk16koTw1AxcL8LSJBBBdiICyy5A7NojDgkJAYsJWK6gPUkiCSFIcE8EiAARSAYCJCGSIQfmosQQkEFFVD4hsDZZOmDY//3vf8/ogJmGlyRENqL5SIgNGzZoM2KRUT5LiGOPPVbPfme/IfcRLsfIjUuajoq+sJMQIC4xk466g3XwcGCKZRmYbZ8zZ452gggyAuboGAxPmjRJIULDhAkT9AaCgpsZDIApsAXGsEIB5rB+QNsDKQRnlCAgsOwKsoKVlSzFAKEEYgmyFTkXGhAXOp+mum0qr8AElkDotIoezbdHOFVYEkkipoIE90SACBCBZCBAEiIZcmAuSgwBdHiwRUVCwCmafUYIThDREQ4rkYTIRjYfCYElIHBsJ53mgw8+WJtt4ylOfxFnn322HnhmvyH3EZIQuXFJ01HRFxiois5AnYE1BGaBYQ2BwS3qCiwisDQDPiIQSQCz8KgD8EmAEJEgJrBhkMzNDAbAE9gCY2A9c+ZMPSCGDBBiFzLBkhksHYCsYAUB2clSDCcJUahucsDsjhCsghAe1R4NSvSqcw9LIMFS9u5P5hkiQASIABGIEgGSEFGizXeVDQIyqJABRdjLMRYvXqww8yOdsDp16ugBSFiAk4TIRjYfCYGr7UtmEHYRs6dI2B9wwAGW7G699VY9c5r9htxHSELkxiVtR6EzQELYiQjoDZj0g4gAqQj/EIiYgQEvBr5o9yAkYB2BpRoYFMv2zTffKG5mMBBMgTGwBubAHjKADwjIBCSREBCQGWQnVhD4Dsg3wctg2Ms1aavfpvKLtgCSHcsO5XvntkfUISHjiakpCfA5RIAIEAEzCJCEMIMjn0IEMhCQDmdUJAQ6vVdffXVGp+ykk07Sa8kxqDGdSEJkI1qIhIAJt332Dt71kd577z1VuXJlLbsqVaqo0aNHZz88zxGSEHnASdEp6Aw7CSG+IYSIgHk/lmaIVQQGvliiAesIDITh/BQbnPXJhkEyt+IxEByxF3yBNTAH9gizC/IBISVh+o8BMnSxhOX06wtCqisHzIJE5h5tAZGg7HrUjYDA8Ro1amj9iqcQ00ws+R8RIAJEIG4ESELELQG+vyQRiJqEAIhYq7zbbrtZRAQ6avA9MGjQIO28Do69Fi1aZARvkhDZMBYiIdCBRvhN6TS3bt1aRzDo2LGjdQyh5uDUzk8iCeEHreReKzoDe7s1BGbTUXcwsIWPCJj6Y8ALMgKDX9QXWEhgw4AYG5YFcDOHgeAqOGMP7CEDyAIyAUkkSzAgMxAQzmUYXgfCXq9Lbm02nzNgAh8ndevWtfSl6NJ8+/PPP19nhpialwmfSASIABEIggBJiCDo8V4i4IIAOjzYorKEQDYwcLn55ptVpUqVMjpp8BUBb+HYDx482CXH/g6ThMjGqxAJgTuef/55VbVqVUs+dj8eIJD69++f/eACR0hCFAAoRadFbzgtIjCghY8IISMw2w5CAgNfzL5jw0CYW/gYCN7AHjKALEA+gCSCjIR8gO7HBlmKXL1WRVzPlIkArE4kpHI+0sF5DvoWDi2JaSae/I8IEAEiEDcCJCHilgDfX5IISKczShICQMJEu2vXrhkWEfZO2UMPPWQEb5IQ2TB6ISEwSLztttuyiCKQRNddd52eWc1+cv4jJCHy45Oms6I3ZC9kBGbUMbjFDDs2ISSElMAA2L5hUMzNHAZ2bOU3sMcGWYhc7ASEyE5k6ace4h6mCgRA/Nxwww0WeWv/phX6Dd8R8LMDOTERASJABIhAchAgCZEcWTAnJYSAdDyjJiEAId6JePbwIN6mTRsFE/+mTZsqhH589tlnjaBMEiIbxt69e6sLLrhAb5deeqkmhLKvUnrAMmTIEHXRRRfp5TLnnXeelkuxnWSSELlQTvcx0R+yx4AW7RpkhGwY8NqJCRkIc7+DqAkbB8FfiAfIBTJykg/FEArF3JPuGp8/91999ZW68MILVYcOHVSLFi3UXnvtlRENqhARgWVwcNLKRASIABEgAslBgCREcmTBnJQQAjJ4iIOEEBgxEwov+vDijhj2WCOOmTsTiSRENoqYIYWJtmwYjORLuA4mxpjlK3RtvueQhMiHTjrPif6w72VwC51i34SU4L6CoIkCC7sM8Fvkg71dbsXUQNzPVIEACCVYkUFfwkkoIpRgicW4cePUsGHD1KOPPqpuuukmdc4556hDDz1UExX77ruvql+/vkIkourVq6uePXtWPJC/iAARIAJEIHYESELELgJmoBQRkE4oOqeYKcPgH4POf/7zn2qfffbRZqVwGpnWRBIiOZIjCZEcWZjOieiRXHv7oJe/d4Q2jQuHXPLBsWJTkHuLfWcp3QdfHSDgoRsnTJigIw699dZbpVREloUIEAEikHoESEKkXoQsQBIRkE4pSYj5OpwdPMljxh9LDkDKyMyh4BSmDOUdeCdmSJEHdFIRP14cnbVq1UotXLgwzGyE9mySEKFBm5gHSx3mfofD36TjELTioHxMZhEgpmbx5NOIABEgAkERIAkRFEHeTwRyICCdZJIQJCFyVA+jh0hCGIUzdQ8TXcN9tARFmBWFA2bz6BJT85jyiUSACBCBIAiQhAiCHu8lAi4IyICAJARJCJcqYuwwSQhjUPJBRCARCHDAbF4MxNQ8pnwiESACRCAIAiQhgqDHe4mACwIkIaaomTNnagdiy5cvV1yO4VJRDBwmCWEAxBQ/QnQN97SESHE1Dj3r5UhCUCdEqxPKsY6F3nD5gpJGgCRESYuXhYsLAfn40xKClhBh10GSEGEjnKzni27hPvoBRiHMTdUUvIfJLAKljmmhusnz8eoLs7WZTyMCpYEASYjSkCNLkTAE5INPEoIkRNhVkyRE2AhnPx/tev369Tr8LfB/+umn1fDhw7MvNHRE9EmufVwRIcr9vblkYT8WRPR4DpNZBEoVU3udc/4u9zYaR/mdMnD+b7ZW82lEIN0IkIRIt/yY+4QiIB8ekhAkIcKuoiQhwkZ4x/MR1WXx4sVq1KhR6rbbblNnnHGG2n///VWlSpV0yN3BgweHkhHRJbJ3dqyhY7hFj4FTDiIf+77YCoFnMJlFoNQwtdcz+e2sk9QL8esFyETkY9+brd18GhFIJwIkIdIpN+Y64QjIx4YkBEmIsKsqSQizCKPtbtq0Sc2bN09NmjRJPfHEE+riiy9WTZs2VVWrVrVIh7/85S+afMC+fv366rvvvjOWEdEfspfBhQwqEGoWG4gRbvFiILKAbEROzoGH34oBuTOZRaBUMBWdgL3UN+qFeHVALh0segF7u26wy69U6qTZlsqnlRMCJCHKSdosa2QIyIcGHx98oLZt26YHNv/85z/VPvvsowcvRx11VGT5Mf2izz77TNWtW1eXo0WLFqp3795q4MCBasSIEWrs2LFqyhQ6pjSNudvzSEK4IeP9ONrpj9CB2UgAACAASURBVD/+qOvvHXfcoU499VSFel2tWjWLaLCTDs7fZ599ttqwYYP3F+a5UnQH9vZBhnRqoU/++OMPtX37dmuDfuEWLQaCP2QhgxAZcOQadOQRedYpDk6yIAl8oBQwdeoG1DNsqHdSB+26gTohWp0AvN30gugG0el2WQau3HwAEUgpAiQhUio4ZjvZCMgHBh0EkhCMjhFmbSUJERxdLLMAKegkF7z8v8suu6g+ffoEz4RSltmudFRlkGEnHtDR3bp1q9qyZYvavHmz3mC5sXHjRm4RYACssQF7yACy+P333zUJJISEfcAh3wLsvSY/13p9Zrlfl3ZMpR7ZdQPqmZAO0Auoh6iP1Avx6MJcukGICdENotMhR5Fp2utmuesWlr94BEhCFI8d7yQCrgjIxyUfCXHEEUfoDgM6DWnbJk+erOrUqVMylhAHHHCA+vTTTxXCiaZt++CDD/RyAAyY99tvP9WrVy81aNAg7ShxzJgxCrL617/+pcOlLl261AqXig4rBreoo9Ihcq3QHk6kuSOF8i9YsEAdeOCBvomI6tWrq9mzZ3tAqPAlojeQH8gFHdfVq1erH374QS1ZskT7pFi4cKGWJZaLYAnIt99+q7755hu9zZ07V3ELDwPBGfL49ddftfULyB8hJdCmMBMKuQUhItLclgrX8niuSDOmohewF90AAgz6XPTCokWLtA6bP3++1gvQDVJfsadeCE8vAFtgDMxXrVqlnRb/9ttvmhQGIYT+nZAR+Obm0g3xtAq+lQjEiwBJiHjx59tLFAHpNOQjIbCc4Yorrkjl9v/+3/9Tu+22W8mQELvuuqvae++99bp/rP1P09agQQO18847a1mQhCheoaDNwgcEMPRiASHXgEw0kURnyEADHVV0bk844QTVpEkTvTVu3FjJ1qhRI8UtHgywXGf69Onql19+UWvXrrUICZARGBxiwCFEBAaN2ES+XuoKrmUyi0CaMZW6IwQEBrKwvmrevDn1QoL0IL4d9957r1q5cqVas2aNJvwRRQlEpZARICmd5L/I12yN59OIQPIRIAmRfBkxhylEQD4q+UgIGcSkfV8KPiHSLgPJP0mIYMoC7XXq1KmqYcOGnomIBx98MNhL/3c3dIYMWEVvIOKGyJb7CkegcWMBB6XPPvusnomG5RSsVUBGrFu3Tg84ZOZTiAjIU74J2BdKXq4p9Ayez0QgzZgi70JAyBKM9u3bUzfYnAPHrRPk/SCJYSm1bNkyTUaAqBSrKZCUYi2Vi4jIrLH8jwiUPgIkIUpfxixhDAig04BNBhOYGcMHyO6YUj5aad+XAglRuXJlPQOOsqRtwyw5/BKgHpGECN7Y0TkcPny42mOPPQp28mvWrKk++eST4C/9nz8IISFkoIFlNaIf9tprr9TVTbQlWBjttNNOuhzAK23ty55fkA+Qx+6776769eunzd9hDg+zeJn9xMwndD2ICMx6FmN6neYBs5HGEMJD0oqp9CXsJATqVdu2bS3dIDqC+/iJSlgmYlkGlseAjFixYoUmKYWIEEspfGegGyBXkXEI1Z6PJAKJRoAkRKLFw8ylFQH5qOQjIQ455JCMNZv29ZtJ/40oGBhQoNODTnrao2McdNBBOiQj5JW27YsvvrBm7klCmNEYmNG+8MILC3byjz/+eD0DbuKt0Bky0EAHFcTlM888Y+XhqaeeSl3dRFt68803rSgj3bp1S2UZRCecdtppWh4gIXr27Klmzpyp/v3vf2syQgYcMMMGEQHza8x6ijWEfbABWedLhc7nu5fnciOQVkxFL6D+CDmJeoX+A76/WJL1zjvvpLIv8fbbb1vRwlq2bJnKMqCv9tprr6latWppedSrV0/7YIKfIPjrgdNjkJSwlvrPf/5jWUq5LcvIXXt5lAiUJgIkIUpTrixVzAig44ANnVcZUDgtIRiiM5oZALss0InDxx8DBAw0YUWAjlyrVq0UHP6lMTE6hlmpIdTmLbfcomAdU2hm8dZbb9XEQdAcSB11DjQGDBhg5QEz72lMGGjAeSew7N69exqLYOUZvnBQjipVqigsw4FfCDh9nTNnjiYiEOYVFhFBBxuoD0xmEUgjpna9IH0JfL9gZSMkRLNmzbTvGLNoRfM0EHj777+/blPt2rWL5qUhvAU6AOQDdAMs1mDx+vnnn2uSElYRICKwbAtLM/B9Qf8DJDOtIUIQBh+ZKgRIQqRKXMxsWhCQzoN0HHItxyAJQRLCRH0mCWECxR3PgOns1VdfrTuT6FDCYenhhx/uSkh8+eWXRl4u+gIkBDqmGGjAbLd///5WXkhCGIE60EOEhIBT3rvvvlt9/PHHejkOrJFARIDIxFpw+2CjmBnPNA6YAwEbwc1pxNSuF9CXgFWN9CXatGmjdQNJiAgqT4FX2EkIOBxHxCo4OZ42bZomImARAUupn3/+WfuHgKNKEEm5rKQKvIqniUBJIUASoqTEycIkBQHpPJCEmK9nAGRmsJgOeVCZ2mVBSwiG6MxVn1BHEFoNH0QQDyAgMHv/wAMPaFPa//u//1OVKlWyCAGc33fffXVHMtfz/B7D+0FA2PUFZstAPOBd2EhC+EXV/PV2EgLWMjCD/+ijj3R4X5CBMM3GYAPWEFgDLo7oQCxBtpCx6KN8ucM1TGYRSCOmUlfsFlIYvCL8I0kIs/UjyNPsJETt2rXV66+/rt577z01ceJENWPGDPX1119rghLLMrBcC9YQIJnRHxK/EKIbguSD9xKBtCFAEiJtEmN+U4GAdB7sgwoux9ioP7p+O+RBBW6XBUkIkhC56tP8+fMVwi7KgB8ExBNPPGGRDOgwXnDBBZaDRVzXtWtXPbDM9Ty/x1BHnSQE9AVJCL9Ihnu9nYS48cYb1auvvqrGjBmjBxufffaZwjpwOKSD6bUQr+IXgiREuLIp9HS0sbQl+XY5SQgMYklCJEeadhICviHg2Bi+cGARgaUZICixLAMEJXxDiM8YmZSBfElCJEeezEl0CJCEiA5rvqmMEJDOA0kIWkKEXe25HKN4hNE+YUaP9dUSwaFOnToKjlfRQZSE9gwT+8suu0wTFdWqVdOz4CYGNqIr7CQEBq4w2e3bt69FjNASQqQR315ICPgL6dy5s3r55ZfV6NGj1YcffqgHG1999ZV2cPvTTz9ZM55idk0SIj654c0m2mrUJRDdgLojBDoIUQxiSUJELQ3399lJCDjsfv7559XIkSMV/OGINQT8X8A3hN1KSvxC2HWD+1t4hgiUHgIkIUpPpixRAhCwdx4w8y/rOO0hOukTwptpclBx2mUhHTk6ptyoPfc7rVKCYJ22Tj7yC58OcEoqFhAIJwkCAvUkV8Lg8sgjj9T34LeJJPXTOdsJk2tExJC8kYQwgXawZ9hJCPgOGTx4sB5svPvuu3oNOOoTZjzhoBKkFQaLQkKgTslsZ6G2Uuh8sFKU591pxFR0Awap0o+Qb1fr1q21bqBPiPjrs52E2HPPPXVUIxCUWJYxbtw47RtCrKTgFwJWUrB0y0VCpLGexi8B5iCtCJCESKvkmO9EI5Cr88DlGFyOEUalpSWEf1QxIMQsFUgHGeQjvCmiHRRKcDz4wgsvFLrM83nRFSQhPEMW24V2EuKKK65QAwcOVEOHDtV1afz48dojPvxCfP/995bZNUmI2MSV8eI0Du5EN5CEyBBl4v5xkhCwYANB+corr1hLMmbNmqUj6MhSLfQHYfHmnAhIYz1NnECYodQgQBIiNaJiRtOEQK7OA0kIkhBh1GGSEP5QhUdyOBREKDUhINq3b6+mTp3q+UF4hqkkusJJQmDdNy0hTKFs5jl2EgJLcxBC9aWXXtLrvxEpA07o5s6dq0kIODpFGGCSEGawD/qUNA7uRDfYSQj0I+D0lJYQQWuEufudJMSTTz6pnnvuOW0lBQeVn3zyiY6SAd9DICHWrl1btNNac7nmk4hA/AiQhIhfBsxBCSLg1nngcoztkTP/dllwOQYdU6KDCOdhQkB06NBBRzWISw1J/SQJEZcEvL/XTkJceuml6umnn1YvvviiNrtGlAw4p8Tab1hCkITwjmsUV6KdpS2JbiAJkWzJOUmI3r17q0GDBumlfViqNXnyZCX+YkhCJFuWzF20CJCEiBZvvq1MEHDrPJCEIAlhugnQEsIbouLocffdd9cEBBxRdurUSQ8Y4xygiK7IRUL06dPHIkvoE8KbnMO8yk5CXHLJJTp6CZbmYO03SAgs5wEJsWTJEouEgCNBWM7QJ0SYkin87DjbeOHc5b5CdIOThIBPAVpC5MYsjqNOEqJXr156qRaiZDhJCCznQ5hOfI+4HCMOafGdSUKAJESSpMG8lAwCbp0HkhAkIUxXcpIQhRHFIPC2225TQkDsvPPO6vzzz1emnEsWzoH7FaIrSEK4Y5SUM3YS4m9/+5uOXoK13yAhECEDJASirZCESIrEKvJBEqICi6T8AmG3//77a6K1Xbt2ScmW73w4SYjHH39ckxDDhg3TJMSkSZN0mM558+YpkhC+4eUNJYwASYgSFi6LFh8CMrBwzmCQhCAJYbpWkoTIjyi8kV911VWqUqVKurMLIuKaa65RmKFOwsBEdAVJiPxyTMJZNxJCwnQKCYFQfLIcg5YQSZBc+kN0SnQM+ISgJUQy6pTkIhcJ8cwzzyiQEGPGjNGRc/CdJgkhiHFPBHYgQBKCNYEIhICADCyiJiHwXpj92jfkwXTC2ue6devqQV2LFi0U1kDCUzzCG44dO1ZNmTIlwxETOk0wP9y+nSSEaVmQhMiNKNoCwiTCgSAsH+ADYpdddlE9evTQjt1y3xX9UdEVUZEQCAuHMH8IAQrnl7JhcIP2ifyYTIhCUr16dY1/9+7dTT468meRhIgccmMvNF2vjWUsz4NENzj7EVGQEHinvR+B36YxLGVLCJIQeSo2TxGB/yFAEoJVgQiEgIBb5yFsSwh0TkAIoLMvm8lwggIVSQhBIvceHTasEUcUhlwbZk4ws2UikYTIjSJM4jt27Kjg+wEEBOK333///QqD/SQl0RVRkRA33HCDOuiggzQe4pxz1113VY0bN9ZLVDB7B5LCVAqbhEBUilxtDMegp0xGMrGTEBdffLG1HIOWEKZqS3jPMT2ADi+nFU8W3RAHCTFkyBCrD4G+BJYYIKqDyWSahAChumLFCr3BEinXBAz0LKKLyHXO/erVq32TLbSEMFkr+KxyQoAkRDlJm2WNDAG3zkPYJMTnn3+u6tWrpwddMsA46qijtAMkk4UnCZEfTQziatasqWrUqJFzu+KKK3SIrvxP8XaWJEQ2TrNnz1Ynn3yy1Q4gB5BxcASWtCS6IioSAmuvRTfk2mO5ypVXXqmdp5nAKmwSAhZZbu3s3HPPVevXrzdRDP0MkhDGoIz8QSQhvEMOx4lHHnlkhp5o0qSJtm70/pTCV5ogIaA3YfEGywNEOjrwwAP1dsopp2grL2cuMFED6zi5zrlHG/dLXJKEcKLM/4mANwRIQnjDiVcRAV8IyMDCOYMRNgnxxhtvWKbnMsBo3ry5WrBgga/8F7qYJER+hBCiT/DPtb/wwgtJQuSHsOizs2bNUlgiJLiDlBs1apTvjmXRGfB5o+iKOEiI3XbbTR177LHqmGOOsZZMADcsW8HyKhMpTBICgyXkVWTt3CP6CUkIE1JM/zNIQniX4ddff6323XffjHZVpUoVvdTS+1MKXxmUhNi6dateAgrywdn24fBy3bp1WZmAY8i2bdtmXS/3g5TAsjQ/iSSEH7R4LRGoQIAkRAUW/EUEjCEgA4uoSQhEAJCPqTjiw4w8lgaYTCQh8qM5bdo0Sw7ovDVt2lR7AUfHCFu3bt2MmbzTEmKHLNDWEA6tZcuWFvbAGlELcpnl5pdgdGdFV8RBQjRq1Eh999132j8EYtlXrlzZwu7oo4/Wa8KDIhEmCYFIFOLvA4QKZmuljWF/9dVX67IFLYPcT0sIQSJ9e5IQ3mWGNov2hL6E9CPw+5FHHvH+EA9XBiEhYK3wj3/8Q+H7Kn0e+x7tPxcJMX/+fLX33nvnvAf3k4TwIDheQgQMIUASwhCQfAwRsCMgA4uoSYjjjjtOf1yx/r1Vq1b6NzrpCCNnshNGEsIu7ezfr732mtXJOfzww/XadHS4ZENoSFMDY5IQSvt5GDduXEbnEgNsLE+Cf44kJ9EVcZAQGLQvXbrUgsdugn3AAQcorI8OmsIkIUAwCQlxyCGHaIe40saw/+GHH4zKnyRE0NoQ3/0mv39RlUJ0g7MfEbZjyocfftj6fsFKSgb3F110kdGio42CLMDziwnR2adPH8sSqn79+npZluTVjYSAlYedYBk5cqSyb3Cs7ffbTEsIo9WCDysjBEhClJGwWdToEHDrPIS5HAPRJ7A2Gh9hEBCdO3e2Og/XX3+90c44SYj8demhhx6ysL/22msVIhKElcqdhAC2WA8M4k06oCDj4BciDUl0RRJIiDPPPNPCEEta4MAtaAqThOjfv7/leBQDJJMONXOVmyRELlTScYwkhHc5nXrqqZYeePrpp63fIHZNpqAkxCeffKJOO+00NWDAAE2m2klUNxICVqHyncBSVROJJIQJFPmMckSAJEQ5Sp1lDh0BGVg4ZzDCJCGwBEBME+GUr1+/ftbH9rDDDvO9zjEfSCQh8qGj1I033mhhf9dddxnF3vnmciYh4GgSBEStWrU03pgVx/pgRMbAoD4NSXRF3CTEli1bVIMGDax6e/nllxuBL0wSAubYMqDo0qVLqGQfwCAJYaRKxPIQkhDeYIflWJ06dXS7wlJOWAZgj3YG/bpy5UpvD/JwVVASAhMvyA90J5xTeiEhhg4daumMk046yUMuC19CEqIwRryCCORCgCRELlR4jAgEREAGFlGSECAdxDQZA4ipU6daH9uqVasqfLBNJZIQ7khC5n/9618t7EEA3XnnnQpLNOBIz3QqVxIC9fm+++5TCC8pA1GETYRT0DQl0RVxkBBYG40lK19++aWOiCE4wrR5xowZRmAMi4RAO7vqqqss2bdp00bdfvvt6pVXXjE6ULKDQBLCjka6fpOE8Cavb775xrIuQpuCHkBIX+gGhDvGsjdTKSgJYc+HVxLi3nvvtXQG/N7Aj1BQx90kIeyS4G8i4B0BkhDeseKVRMAzAjKwiIqEgEk6nLBJR+HRRx/V5ol2E/WZM2d6zn+hC0lCuCMEE/bjjz/e6ujIwA5EENbXTpgwwf3mIs6UIwkBjOHcUyx/4FARYSURGz5tSXRFHCQEIkvss88+OqwvfmOQAV8QH3/8sfrzzz+NQBkWCbFhwwZlXz4i7QwhRuGHBYML04kkhGlEo3seSQhvWL/88svWtwtk+o8//qgQZUbaV+/evb09yMNVcZAQduISOg9LWBs3bqwwcTNv3jwPuc6+hCRENiY8QgS8IEASwgtKvIYI+ERABhZRkRCYBZCBLz6so0eP1rPucPYknQeYIZpKJCHckUSn7dBDD7VwF/xl36xZswxngO5P8nam3EgIEBAgHMTqB/X95ptvzukJ3RuC8V4luiIOEkLqpOyBKdaDo04hPyZSWCQEzLARXlTy7tzDmsO0VQxJCBM1Ip5nkITwhnv37t2tNvX3v/9dIQzmDTfcYB3DIB6RKUykOEgI+JBw6gr5/6ijjtLObP2WjSSEX8R4PRHYgQBJCNYEIhACAjKwiIqE+Pbbb1XdunX1xxWzwmD0Ya5+9tlnWx9czBybSiQh3JGEzIE9Zmph2jpo0CAd9ks6Ophtvvvuu43NNJcLCYE2tWjRIoWPlhAQ1apVU7D6MbnUyF2y4ZwRXREHCQFdgeVCbdu2VbDUkTpau3ZtNWrUKCMFDouEAF6bNm3S7Qxh9xABCObjUgbs4Ztl+/btRsqBh5CEMAZl5A8iCVEY8rVr1yr4k0LbwTI3fLuQoGNF53bs2NFI1Bw8Nw4SAj4uhg0bpp566imF5XviTwhlxrcZS7r8RlQiCVG4bvEKIpALAZIQuVDhMSIQEAEZWERFQtg9PsMcGbMXWKJxyy23WJ1yzACYGqyRhPBXQSCfevXqWbJARw7WKyZSOZAQaE8rVqxQJ554otUZrl69uurZs6fRQaYJefh9huiKOEgILMVAyDpY72AQD6sSGcQjws7ixYv9Fifr+rBIiKwXKaX94DRs2NAqA5ZlLFu2LNelRR0jCVEUbIm4iSREYTFg8kJCZoKU/OCDD3S4SvgzkrCWTZs21eR64acVviIOEsKeK1h0wEJ0r732snQGnPPC4bGfRBLCD1q8lghUIEASogIL/iICxhCQgUVUJARm1mXwgA8q2HxsMC+U4y1btlSYMTSRSEL4QxGhA88991xLFgh1ZmKAh1yUOgmBtoT6Zp/lRh0fPny47xkrf1KL5mrRFXGQEE2aNMlYGnTTTTdZdRQzn4g8EnTwFiUJgcEDluqIzsOAAiSLqUQSwhSS0T8naD2OPsdKtz3k29mP+M9//qNat26t6zmW982dO9dI9saPH28RkSAdEF4a/YjzzjvPcgAMotKUX6O4SQgB7dJLL7V0BnTHwoUL5ZSnPUkITzDxIiKQhQBJiCxIeIAIBEdABhbOzkMYIToxeDn99NMzPqLSCbfvEWYLYTxNJJIQ/lCEjNChE3lg8IcwkiZSKZMQMIudPXu2Qjx3wQ5OxDAzh7ZVCkl0RRJICBA7gjP2t956a+D131GSEMASgyYpA6J/oP6YSiQhTCEZ/XNQN9KWRDc4+xFhkRBYoiBtJ98ekbhMpKSQEHC2aS+vX51BEsJEbeAzyhEBkhDlKHWWOXQE3DoPYZAQ6JDst99+GR9R+wfV/huer00kkhD+UFy/fn0GUQQLFVORHEqZhMD6XViNSB1G5AaTIeL8STGcq0VXJIGEePbZZy2sgTksrPyuj3aiFCUJAR8RWOct9QW+LrDUxFQiCWEKyeifQxKiMOYXXHCB1XakDeXaw3LAREoKCdGjR4+Mcvv9NpOEMFEb+IxyRIAkRDlKnWUOHQEZWDhnMMIgIfBMOJKTzsKdd96pQ+whzB6cy9WpU8c6d9tttxkpO0kIdxix9AIRHCTBNwfIHzhRFBnB6ziOm0ilSELAmSBm5cWPBhyGHXLIIQqdPQzWSymJroibhACZaV++hfCn0B9BB29hkRBYegFHepI/tKe33npLh9yTdoawe/CPYyqRhDCFZPTPkXoS/ZuLf6PoBmc/IgxLCLQn+HuQtgMfUuhDyGaP+ARdbMISLWoSAjrWXg/wG86O7Uv9DjzwQN/fZpIQxddx3lneCJCEKG/5s/QhIeDWeQiDhHjuuedUpUqVdOcBMa8nTpxolQqDOXvHAuH3TCSSEO4oYuCGDtwdd9yhHn/8cXXZZZcpLIWRzh0cfs2YMcP9AT7PlCIJMWTIkAyv5UceeaRRs3qfEId6ueiKOEgIRNQB1tAhZ555plVHUVcPOugg7Qw0aOHDIiHee+897ckfxOoTTzyhfUHYHcyhDJ988knQ7GfcTxIiA45U/WMffKYl46IboiAh4DvF/p1CRAx7svtaQfhbv9YC9mfJ76hJCJQR32T4vkBEsffff187O0YkEOgLkN3333+/b4KFJIRIlHsi4A8BkhD+8OLVRMATAm6dB9MkBEgGzKrLABce7cHs25PdxHLPPfc0MjNIEsKOcOZve2cNnRqRDfYgiZ5++umM2ZjMu/3/V0okxJYtWxQseSRcJDqHJ510kg4Jl8ZBhBdpiq6Ig4RAnYQDSmc9RdQMzICawDwsEsIe+ceZf9SfRx55xEj+7TIkCWFHI12/TdTlqEssuiEKEmLEiBFWBAxMakyaNCmjuIieI98yRCZCxKegKWoSQiZs4FwT3xZ7NCCUDZMHq1ev9q03SEIErQm8v1wRIAlRrpJnuUNFwK3zYJqE2LBhgzr++OOtzgFCGP72228ZZfvHP/5hnUfn3IS3eJIQGRBn/INBM3CWDg72CJsKh4qvvPKKwrp1k6lUSAjg8vDDD1sdYQyO4ZV9+fLlJuFK3LNEV0RFQhxxxBGWp3sZVKBDDm/4ICkx0IYDW4SvM5HCIiEQbQbtTGYxUV+whAQECgZMTj1ooiwkIUygGM8zSEK44w6S46677rL6CXCcPGfOnIwbYD0gbQ37/v37+x6sZzxQKRUlCfHnn39qp7VOwhI6EHoDVqLITzGJJEQxqPEeIqAUSQjWAiIQAgIysHDOYIRBQlx33XXqoosu0tvAgQOzSjN16lTrPBxKff7551nX+D1AEsIdMazXxZIYeBCHYz943sas0bp169xvCnCmFEiIjRs36jqKgSQ6hRgQd+7cWYFkK/UkuiIqEuLNN99U0BMSxhd7hOJExBE4cYTOMpnCIiHQnqZMmaIti+BYrlevXgpLNOAnIqxEEiIsZMN/LkkId4zhN+XJJ5+0+gmYuMB3zJ6+//571aVLF+uaYcOGBdYVJkkIfCuQb+kLIdywnfCHg130W+655x71t7/9TR1zzDGqU6dOqmvXrlr3BfEdQxLCXlP4mwh4R4AkhHeseCUR8IyADCzCJiEwcIEjRNmwPMOZkAc5j72JGU6SEE6U4/s/7SQEOrfwmyEEBBx4IjQkiIlySKIroiIhosY0LBIi6nLgfSQh4kDdzDtJQrjjCN2DQbj0E+Ck0omX8xo4gnVe4/6G3GdMkhDO/GFpX6784Tqcw7ILEJkm+kMkIXLLl0eJQCEESEIUQojniUARCODjhy1sEqKIrBm5hSSEERiNPCTNJMSKFSv0OlxZFlC5cmXVp08fI35LjIAbwUNEV6BzjNk6dIoxIMDMHrAQbGBZk8ZEEmKLlilkCxmLvPPJEtcwmUUgjZhKXXH2I8KIjmEWbW9PM0lCeHtjOFeRhAgHVz619BEgCVH6MmYJY0DArfNgejlGDEXTryQJERfy2e9NKwmBfB922GGWU0SE4xwwYIDC2t1ySqIrSEIkX+qlaAkBk/V58+bp6DMrV67URBgkgYEvFiOQpAAAIABJREFUSMIlS5Zk+dfALDKOr1mzxhIafHDgGM4hYQ//Q999952eeZYL169fr49jABqltRNJCJFAcvYkIX7X3zu0Na8EZXKkx5wQgeAIkIQIjiGfQASyEJCBhXMGgyTE9sg/unZZYDYSS1ZgdgpTTDjgwkwzooosXLgwS45pOJA2EgLymDt3roKDRJnlhw8IzJiXGwGB+iX1kyRE8ltbKZEQqHfffPONQvSkAw88UDVq1EgdffTR6q233tKCAKlwzTXXqNatW1vHREJYe4/jPXv2lENq8uTJ+hgcHIKkhoNePLN58+YKYVRBdkDHwtksnIcidPS1115rJNSjlYk8P1DetCXRDc5+BC0hkiVJWkIkSx7MTXoQIAmRHlkxpylCwK3zQBKCJITpapwmEgKd6QkTJqhatWpZBAQGQHDciUF4OSbRFSQhki/9UiIhQEA0a9ZMRwZAaEL4ZTnyyCO1c09IAiTtCSecoNvpiy++mCGcK664Qh+H8z9J+LaBVDz44IPVAQccoA4//HB9v4RDhAPAtm3bqkMOOUQhihMiseB6vDeKRBIiCpT9vYOWELSE8FdjeHWpIUASotQkyvIkAgEZWDhnMEhCkIQwXUHTQkLACuXVV1/VAx8MPhAqbf/991effvpp2RIQqAuiK0hCmG4Z5p9XKiQE6hysGOAM9uqrr9YRRWCFhOUXskSiWBIC4RsRhQmRVrAkAxEV0NZh7YRw0osWLdLLOJ566ilNQiB0Ma4NO5GECBth/88nCUESwn+t4R2lhABJiFKSJsuSGARkYEESYr5avny5DveFzi2WQqCzC1ww6BKcwhScvAPv5HKMpZYs4AHdKYsgcsjXyYezxVGjRqmqVavqgQdICMy6Yja2XC0gBGupnyQhBJHk7kuFhEBdO+ecczQx8NJLL+UEvFgSom7dugpku6RJkyap2rVr63YPiydJeH6VKlXUHnvsoS2h5HhY+3z6Kax3Bn2u6AZnP4LLMYIia/Z+LscwiyefVj4IkIQoH1mzpBEi4NZ5oCUESQjT1TDplhAIh/boo49aSzAwK3rKKadovxCmsUjj80RXkIRIvvRKiYTo1q2btlCA1QIGtc5ULAkB6ya7ZcOsWbMs3zsLFiywXgO9gGt33313TVBaJ0L6QRIiJGADPJaWENkTAWmspwGqAG8tcwRIQpR5BWDxw0FABhbOGQySECQhTNe4JJMQiCX/+OOP64EGrB+wYf25eNA3jUUanye6giRE8qVXKiQE6ty4ceO0hQJIABASa9euzRBAsSQEHFHC+k0SImTACSXaPpZiSEIYWviOwPtHjhwph0Pbp3FwJ7rB2Y+gJURo1aSoB9MSoijYeBMRUCQhWAmIQAgIuHUeSEKQhDBd3ZJKQqCjDO/6cEyHAQjWn2Ow8/PPP5uGINXPE11BEiL5YiwVEgJIY2A7dOhQVbNmTd0227Rpo6ZNm2YtjyIJEX99FN1AEiJ+WeTLAUmIfOjwHBFwR4AkhDs2PEMEikbArfNAEoIkRNGVyuXGpJEQqPvr16/X4ffgjA4EROXKlTUhsWHDBpdSlO9h0RUkIZJfB0qJhADa8NUCK4R9991XL81A9AqEz0UiCRF/fRTdQBIiflnkywFJiHzo8BwRcEeAJIQ7NjxDBIpGwK3zQBKCJETRlcrlxqSREFgP3qlTJ00+gICAuXXv3r0VHGEyZSMguoIkRDY2STtSaiSE4Ltw4UJ19NFH6zZ7/fXX68MkIQSd+PaiG0hCxCcDL28mCeEFJV5DBLIRIAmRjQmPEIHACLh1HuwkRLt27dSyZctSub3zzjuWo8EWLVroQebAgQPViBEj1NixY9WUKVPUzJkz1fz56YiO0axZM/Xxxx8rOE5L2/bmm2+qvfbaSw8g9ttvP9WrVy81aNAgNXz4cDVmzBg1efJkhU4SZLF0aXjRMdBRnjdvnurYsaO1BKNWrVraJwSc0DHlRkB0RSES4u67705d3URbGjBggBUV5fLLL09lGUQnHHvssZZlz8UXX6z69u2rBg8erEaPHq0+/PBDNX36dDVnzhy1ePFitWrVKm1NgLoPiwNE5oGMRd65a8OOo7gmyoT3vf/++9piae+999avBglx0kkn6fI+++yzOt+Sp8suu0wfv+mmm+SQjogB0pE+ISxIAv+QupKPhGjSpImaMGFCKvsR48ePVwjRinpz8MEHp7IM6MO99957qk6dOroce+65p/7mPfPMM2rYsGH6G4wIMZgswPcR169Zs0aHws0VoSrqth+4kvIBRCAAAiQhAoDHW4mAGwJunQc7CQETdXQg0rjVq1dPryNG56EUSAiUoxS2OEkImHEfdthhFo7olL388stuTYTH/4eA6IpCJEQp1M9SKQN0dymREKiKIE6qVaumQ2bi/82bN+syQmbdu3fXJAqOw9ns8ccfr9s5SYj/NeKQdqIb8pEQ8LnToEGDVPYjkG/xGVSpUqVUlgH9t/r161v9IZIQITUGPrYkESAJUZJiZaHiRsCt82AnIUqlQ04SIjkERhwkBDrIsCLBDKjU6UaNGmmLmD///DPuppj494uuIAmRnHYk9dhtn3YSAnUOlhoSmnP79u0K1g4YCGLJCRLa9QMPPKAHVwiliVncX3/9VVt+YKAFbEhChKteRDfkIyHc6iiPx6NPSEKE2yb49NJCgCREacmTpUkIAm6dBzsJUaVKFdWyZctUbmD/ZQajFEiIGjVqqFNOOUWde+65qdswK4m6hE5nHCTEp59+aoXgQx5AQHzwwQcJaYnJz4boikIkBMyV01g/jzjiCEtXoH6msQySZ1n2lHYSAnWtS5cuWuf16NFDde7cWcG6rXbt2urtt9+2Gs0XX3yhj6Fdt2rVSp166qk6mkb79u1JQlgohfdDdEM+EgLEERyLprEvgXwj/6hfcGKcxjIgzwhBK/0hkhDhtQc+ufQQIAlRejJliRKAgFvnwU5CdOjQQa8RRocwbRtCuckayFIgIQ466CC9Vl3klqY9/D00bNgwFhICs6fw+4BO5E477aQOPfRQ9e9//ztj/XgCmmOisyB1rRAJAf8Dcm2a9m+99ZY280cdwcx5mvLuzOtpp52m63opkBB33nmnOvzww/UAFjocJOzEiRMz2i7KjzCeWGYFk3OE8ezXr5/2f4Hft99+u9W2sOYdx84880y1evVq6zgsKGBdgXM//fSTdRzr4XEt8gB/FGEnlCVtSepfPhICVirwQ5K2PgTyO3v2bE2cQzfg25HGMiDPIOuEoCQJkbZWxvzGiQBJiDjR57tLFgG3zoOdhDjqqKNSW/7PPvtM1a1bV3fIS4GEwCwfPMSnMcURHWPr1q3qhRde0LOi6EDuvPPOeqAya9Ys3ZFMI45x5Vl0BTqzcF4IJ4bAF+FM+/Tpo9sYMMbgL40JM+vVq1fX5YBvgTSnUoqOgXoGR7Xw5QLHm1hqkWugjiVVuA6OhpcsWaKXaYBA+P7779XKlSstcaLO4hiutS/DwlIPHMM5vFMS6juO//DDD2rTpk1yOLR9rrKF9jJDDxbdkI+EgFNlCatq6LWRPQaENUgU6Dc46k5rYnSMtEqO+Y4bAZIQcUuA7y9JBNw6DyQhGKLTdIWPmoTAAOOhhx7SoTfReYQFxBlnnKF+/vln00Uri+eJriAJkXxxlxIJkXy0zeaQJIRZPE08jSTE75qwA8kE/S/fAhPY8hlEIA0IkIRIg5SYx9QhIB8T5wwGSQiSEKYrc5QkBGZLb7nlFouAgFn6eeedpwkIdKKY/CMguoIkhH/sor6DJETUiJt7H0kIc1iaehJJCJIQpuoSn5NOBEhCpFNuzHXCEZCBBUmI+Wr58uXaC/vGjRsVTHMxkx4l82+XBczdkQeEn1u3bp0OCYbZfC7H2DELk69ZYXkA1vSLAy7gdv3111se9tPYyc9X3qjOSf0kCREV4sW/hyRE8djFfWca9ZPoBmc/AlFNWrdurZcxcDlG3DVLKS7HiF8GzEE6ESAJkU65MdcJR8Ct80BLCJIQpqtuFJYQK1asUPhYCAGBNf533HGH2rZtm1WcNHbyrczH+EN0BUmIGIXg8dUkITwClcDL0qifRDeQhEhghbJliSSEDQz+JAI+ECAJ4QMsXkoEvCLg1nkgCUESwmsd8npd2CTE4sWLdVhFWD5gAxEBnxBOZ3Jp7OR7xTjM60RXkIQIE2UzzyYJYQbHOJ6SRv0kuoEkRBw1xvs7SUJ4x4pXEgE7AiQh7GjwNxEwhIBb54EkBEkIQ1XMekyYJAQihiB8qRAQtWvXVqNGjdJRHKwM/O9HGjv5zjLI/1iyA1IgiiS6giREFGgHewdJiGD4xXl3GvWT6AaSEHHWnMLvJglRGCNeQQRyIUASIhcqPEYEAiLg1nkgCUESImDVyro9DBICA+JPP/1Uh00TAqJhw4bq5ZdfzgizZ89MGjv59vzbfyMc4a233qrgOM0ebtB+janfoitIQphCNLznkIQID9uwn5xG/SS6gSRE2LUj2PNJQgTDj3eXLwIkIcpX9ix5iAi4dR5IQpCEMF3tTJMQ6PCinu63336WBUSDBg3U5MmT81oHpLGT7yaLadOmqTp16ihYfjzyyCPauarbtUGPi64gCREUyfDvJwkRPsZhvSGN+kl0A0mIsGqFmeeShDCDI59SfgiQhCg/mbPEESDg1nkgCUESwnT1M0lCYNb/9ddfV/Xq1bMIiPbt2xckIFCmNHby3WQhJASsQHbddVfVvHlzNXToULV27Vq3W4o+LrqCJETREEZ2I0mIyKA2/qI06ifRDSQhjFcHow8kCWEUTj6sjBAgCVFGwmZRo0PArfNAEoIkhOlaaIqEQPjSF198UcHqQZZg7L///npJgpc8p7GT71YuOwkhWOy2227q9NNPVzgHrEwl0RUkIUwhGt5zSEKEh23YT06jfhLdQBIi7NoR7PkkIYLhx7vLFwGSEOUre5Y8RATcOg8kIUhCmK52JkiIzZs3q759+1ohODHwPvvss9XSpUs9WziksZPvJotcJISQEbCMuPrqq9WXX36Zd3mK27Odx0VXkIRwIpO8/0lCJE8mXnOURv0kuoEkhFcpx3MdSYh4cOdb048ASYj0y5AlSCACbp2HMEgIDF5+//13tXHjRrV+/Xq1bt06a0MYRXj6N90B++yzz1TdunX1jHmLFi1U79691cCBA9WIESPU2LFj1ZQpUxSc+82fP1+vp//Pf/6j84e8wOQfnSrkW3AKU4TyDrwTM9jIAwbdwKlJkya6DK1atVKIBBFlQr6ABXAIkoKSEFu3blW333672nPPPTUWCMHZqVMnhdCcfpLpOubn3aavzUdCCBmBugPiZtWqVYFkKPUzKhJC6v68efPUjBkz9IY69PPPP+uwqyatPCCXt99+W1WvXl3Xre7du5sWVcHnAV+UKWg7w4tIQhSEO7IL0O62bdvm+duWRv0kuiEqEsKtH4G+RRj9CDj+hbUddGq7du0iqzumX0QSwjSifF65IEASolwkzXJGioBb5yEMEuKXX35RF110kV63DpNxGSRhxrZly5bqyiuvVO+8844e+JsCgSREJpLopI0ZM0b1799fb4MGDdKEUOZVO/7DYAiEB0gbRGB48skn1YQJE3Jd6ulYEBJi9erV6qabblI777yzrjfYY5Yf5fGb0tjJdyujFxJC2tnBBx+sybcNGza4PS7vcdEVUZEQ+OhXqlTJ0hNSDuzbtGmj7rvvPrVixYq8efZz0iQJAeIQPkuknWGPAVquBFy///579fzzz+t21qtXLzVu3LhAS2lIQuRCOp5jl156qbr44os12e1WB+w5S6N+Et0QFQlx4YUXKkwqVKtWzdIP6Ec0bdpUAW9MMpiMFmSChICumjRpkho5cqRu6x999JFatmyZXfQ5f69Zs0Z9+OGHWpdAp+Cb7KUe5XoYSYhcqPAYESiMAEmIwhjxCiLgGwG3zkMYJARM5mVG3z6gsP/eY4891P3336+2bNniuyy5biAJscMR42+//abeffdddcIJJ6gaNWpYHbfdd99dLVq0KAs6zMi+9dZb6oADDrCWPuy00046CsNDDz2k8Dy/qVgSQsgrO3GFvCAqBmalynmzy8fejtx+Y6Yf/iKmTp2qrZL8yFB0RVQkBOTqVg4cx6DjtNNOUz/99JOfYrhea4KEAPnwxhtvqCOOOEJVrVo1I/+5BkVoZx9//LEeUKE8KBfqds2aNdUdd9yhraBcM5znBEmIPOBEfOr888/XcsW3D5ZcGIzmG0SShCgsoEaNGmW0LaeeQNvr1q1b0e3HmYMgJAT05auvvqpgxYhIRlWqVNFkOto4iGGQ/LDycybUkenTp2tdgmtRRpQLOh8hqGHx4TeRhPCLGK8nAjsQIAnBmkAEQkBABhbOGYwoSAgMiDCIOPLII62BLj60tWrV0jOBJopLEkJph43nnHNO1qAIWLuREOj87LPPPjk7eiADnnnmGd/iKZaEQF1E583Z0eT/fykaEyxpGTBggK/ZdtEVcZAQmPG87LLLtLUUZjvtsn/00Ud918VcNwQlIdBmsDwIgwx7/uR3LhLi66+/tsy85TrZV65cWYddzZXXQsdIQhRCKLrzQkKIXDHwfOGFF3IOPJErkhCFZWMnIWAthX7Escceq+xENdrhqFGjCj/MwxVBSAg83unHSOoC9lhWiIhGzjR37lxNONivld8gJaCvoIv9JJIQftDitUSgAgGSEBVY8BcRMIaADCziICEOOeQQ7fMA/iGefvrpjM57ly5djJSRJITSZuHSecEsKzo98r8bCXHGGWdY14AUuuSSS7Spq9zXrFkzBQsFP6lYEuKHH35QHTt21DPE8n7sYdGBdbrlvO29997WEhU7Nvl+YxD/wAMPKJj5+hnwiK6Ig4Ro3Lix9v2BtfXffvutJs+kjLCYKGZW0Fl3g5IQGGjIciG0MbQ1ySP2uUgIECtyDeozzPYx0ynH9tprL+3Lw5nXQv+ThCiEUHTnnSQEZIvBMnQaTPKdVn9+2mR0pcj/JtENzn4EfCy1bt1a12d8MzCwNpHsJAR8PsF/DJbmjR49OqMfceaZZ5p4nSbyg/iEGD9+vDrssMN0++7cubNq27at1cZRHzp06KCw5FASdMXll19uXQMLiOOOOy6DjD/00EO1bxy5x8ueJIQXlHgNEchGgCRENiY8QgQCI+DWeYjCEgKDB0n4ANtn3rFswEQiCaG00010dEAm9OjRQ5t3yiAnFwkB83b7bC7MwtG5xJp1uQ/nsT7VTyqWhIATMnReYc1hH9hhAI6ZLsxS4bzXze/1Xp8bx3XDhg2zHHWKbNz2GBhjkPvFF1/kNQd3k6noijhICJiyYzmXpBNPPNGqi82bN9fOKuVcsfugJAT8pcB6AVY7PXv21L5v7LJwkhDLly9XIBnkmuuuu05bpmAgJccgM5he+00kIfwiFt71uUgIkS9mtK+//nr1448/WoQgSYjCsrCTEPXq1bNuABkJXxGCL4gPEymoJcTatWvVkiVLLL0LZ7tCaiCv9evX10svJK9wlG3vD11zzTWaaHn44YetsuE+LKvzk0hC+EGL1xKBCgRIQlRgwV9EwBgCMrBwzmBETUKg82A3s4ZZs4lEEkLpgQ2igiCqANJf//pXqyOTi4SAVYoM9mHqCvIAac6cOQoz0tLBu+WWW6xOlb6gwJ8gJAQGcCAjHnnkkYzZIMyCDR8+XHufL/B663QaO/lW5h0/vDimxEAWH1BEggmSRFckgYSAfpB6CCeVxTgodWIRlIT49ddfVb9+/RT2SFhmJnnE3klCvPTSS5bjTfiDmDhxor4P0V7sA5Srrroq615n3p3/k4RwIhLf//lICKkfIK7uvfdeTbThW5y2JLrB2Y+IwhLCTkIAN/hjEVyx9MVECkpCOPPwxx9/qL///e9WPkFGCqEALLHcUXzEwE/W5MmT9SMWLFigiU4pH+qMn0QSwg9avJYIVCBAEqICC/4iAsYQcOs8RElCIA+YnZV1/zBpfuqpp4yUkSTEjjXG9o5tPhICA8wbbrjB6hzB2kAcV8KDP5bQSAcIz/HjoDIoCYEywIHXe++9p8kQIUrg3wDWGoj6gLpUKHm5ptAzknI+HwkB8gEzgejQYiYuaBJdEScJgTxgGQk65lIPu3btGrRo+v6gJAQeYm9n+UgIlOOuu+6yyoCB1KxZs3Q+QBba7z3llFN8yy9qEgIECwacqGfcMjHAkgCpq/n2GHRiAP3aa69pM/s06SnRDXGSEMgDrKXs1kVwBGoimSYhQJpiUCP1AcszxMEuJmRuvPFG65x9GQt0g30iAAQXCA2viSSEV6R4HRHIRIAkRCYe/I8IGEHArfMQBQmBWQp0GjADaF/zj7WTMF00kUhCZKOYj4RA5+jss8+2OkCHH364ZUGBwcVJJ51knYMjMAwIvSYTJAQGwNjQKUSUB+nEYX/uuefq44Xyk6bOfaGyuJEQsBDB0huY/JtKoiviICEwSEe0FkSesNdB+E/47rvvjBTRBAlhz4idSED9tFtCwA+A3R8E1s2LzgOZZm+D0IdeQvnZ3x01CYGBM8IsI2INt0wMnFFS7Dor12+QEWK5hOgpaUiiG+IgITB5gX4EHMOeddZZlhUfrIlgvWcimSQhEGITEabE0gF1ANaHkjZt2qTsxBW+wRKKGEQf/EdIvTn++OM1+Sf3FtqThCiEEM8TgdwIkITIjQuPEoFACLh1HqIgIWDqD1a/du3auuOAmdujjjpKffPNN769PruBQBIiG5l8JARIBft6e8hj1apV+iEIPwgv5NIBwmDDvk4/+02ZR0yREEIirFy5Ut18881WyFFY0GBQCkuJfI4K5f7M3KXzPycJAQsBOBGdOXNmXgyKKa3oijhICMgWPk0QUQf1D1Yw7du3135A7NYHxZRL7omShIAzXvtAA07m4BcACUTgeeedZ7Uz6Ei/REvUJAT8WYhe4L74qDWCHeo3SF604zQk0Q1xkBDQDWgjIF7xGxvCYWLAbYrEMUFCwM8DnEvC1wN8x0DWYsVnX04GEhKyl7pw9NFHW2Q/9Ib9+wy9AcfNXhNJCK9I8ToikIkASYhMPPgfETCCgFvnIQoSQj6ysofHcAygYPZvKpGEyEYyHwkBk1A4DBWZ5CMh0PETE9Lst2QfMU1C4A2IlgCHmXYTXHRG4QPDPvNsz02pkhDorCIePXxnhJFEV8RBQkh9lD0GGrA0AHHgxxw5Hy5RkhCILHPMMcdY7SwfCdGwYUNNzObLu/Nc1CTEp59+qsOTHnjggZoIBBnIbQcGCC8r9dbLHk5/sSTOL/HkrANR/i+6IQ4SwokpJjdA8MFRsKlkgoSAVUaDBg0y6gKI/A8++CBjGRcsDnFcypWPhADZAssKr4kkhFekeB0RyESAJEQmHvyPCBhBwK3zEAUJgc4ZGH8syxDTRMwAofOK95tIJCGyUSwlEgKlQ8d39uzZ2ooGg1N03tARxXpZMXG3o1BqJARmxvr376/XkYMgCCuJroiDhIADVQysTz311AzCCTOKTzzxREYnvtjyk4TYogkdzB5DxiLvfHhKW8L1IASxzIRbJgZ2fSsDy1x71HHorBkzZmgCVbDNh39SzkldiYOEgK5HPwIOau1RnTDgHzt2rBGITJAQcDiLugDiwJ5PTL4MGDDAstogCWFEZHwIETCKAEkIo3DyYURgBwJunYcoSAh0GvDBhcfnW2+91TJRRAcN7D86NEETSYhsBO2dYmd0DIRKxTpT6STns4TAOnaJuJH9luwjYVhC2N8CB5qIrY5lPZJ/hHpFp95el9LUubeXL9dvrBGGOa69fLmuM3FMdEUcJISE6Ny8ebP6+OOPrWUZkDPOgYQKmqIkIbC0CZ0aqaf5LCFgXSDOYb2WMWpLCK/5KsfrCkXHkOUDQ4cO9excN2k4im6Ig4SA5Rv6EbCgRGhc+wAfjpShI4MmEyQEyD1EzkFbRmhl+LmR9o8ww6LDcA36RnIunyUErBZlGZeXMtISwgtKvIYIZCNAEiIbEx4hAoERcOs8REFC4AMqCSbV9sEvOhJBQwri2SQhBOGKfT4SAk6x7OfhrV2IBqe/CDgI9NPBC5uEQAlRj7AUQyKtoCMHXwLo9GEAi1RKJESFVMP/JboiThJCSnnfffdZnXRYTz355JOB/chESUIgyssVV1xhlQGDDlmG5vQXASJQHNNJ+QvtSUIUQii68/lICDhPhJNC+AGQlEb9JLohDhLCGaLzoosustoVrAxGjhwp0Ba9N0FC2F8OHYqoReIbAt+pvn376kvgH0LaL47bSQgQFPArIQQFrOBAaHpNJCG8IsXriEAmAiQhMvHgf0TACAJunYeoSQgU5pZbbrE+rlieMXjw4MBlJAmRDaGdZHBaQqBzZA/RiVlmWdLgDNEJ7/4wvfaaoiAhkBc4pXz33Xe1t34MUNFhg8NGhHJEJw5lZPKPgOiKJJAQGFhIRxz77t27B/YNESUJAQztIToRCldmQkH62T3gI1KGn1C4kKwMYjDIufjii/UAB/p09OjR6sMPP9SRBLBGHSbicDyLgQzaMki8YpZj+K9N5XNHLhICJOk111yjo/k4fZqQhChcNxo1amS1fycJAUJSdAP0P0ieoMk0CYH8wKmw3RoCVnxIWNZkd/R60EEHaWtRnENbhdWElO/CCy+0lnHomwv8IQlRACCeJgIuCJCEcAGGh4lAEARkYOGcwYiDhOjcubP1ccU6z+HDhwcpmr6XJEQ2hPlICFwNqwEZvGMQ88UXX+iHfPXVV1anCUsesBbfT4qKhJA8wewVHw7xE4EywXrDpMMyeVc57EVXJIGEsA800CGHZUTQJSlRkhCoLwg3Kqbj0HdYZoKE5WkgJVAu1Nl77rnHd/UiCeEbstBusJMQkCdkM27cuJJynCu6wdmPgKUclu2hLjdr1syY7s1HQjz44INWPwK6v1evXoFlGwYJMX4ApBNeAAAgAElEQVT8eG2lJ4TCtddeq/MJLPv162ctK6xfv75eUoiTIA3tjk5h9ecnkYTwgxavJQIVCJCEqMCCv4iAMQTcOg9RkhAY1MATOKItyAe5Ro0aepYoaEFJQmQjWIiEWL58uYKFhMiiW7duCuEwH3jgAYucQGgxkBJ+UtQkBPKGKAQPP/xwhg8BdIYxI+ycgfRTlnK8VnRFnCQEBjlYA92yZUurfiJs5zvvvBNYJFGTEGhTGGBIO8NMKKwgYJYtJCDICfg08ZtIQvhFLLzrQUJgMIyQskOGDNEhWNGW3FK+c273xH1cdEOcJATygDbl1A0gfIKmICQEojRBZ8lyQOQF36Urr7zSauew/ESUJ0nTp0/XIUehG6ALQKzAQgIOiEVf4B6/32CSEIIw90TAHwIkIfzhxauJgCcE3DoPUZAQCEP13nvvqT59+ig4ZpMZa3xkTzvtNF9mhm6FJQmRjUwhEgJ3IMSZdHYwW4twgvCtIMeKkU8cJATKgk4gTNHtA76aNWtqPwJ+lpNkI1leR0RXxEFCgPT6xz/+oZdstW3b1qqHqI/wjA8/CkFT1CQE8gviQdoUBhVY/2030T788MOL0oMkIYLWBnP3Y9nFnXfeafn8KPRktLO0JdENcZAQ0A3oR2CADr9S9n4EiB/4WAiagpAQcJp53nnn6Q1E/r333qtOPvlky9IB7R/OZ+fPn29lE2GW7T6ysJwQvi722WcfS18gRDGWHvpJJCH8oMVriUAFAiQhKrDgLyJgDAG3zkMUJAQ+vugwyKyfdMYPO+ww9c033xgpI0mIbBi9kBDodMGzuMjEvkcI1ZkzZ2Y/uMCRuEgIZAv1HHUKZIp0UrGkBGQLTFwxsGbKj4DoijhICHv9k9/QG6ijfmcD3UoZBwmBJUMYTEiZ7PumTZvqdeNu+c13nCREPnSiPYeBOdoM2o+X5PU6L8+K6hrRDXGQEGgzufoRGNgXY0WUC7MgJASsIOyOku1tHL9r166tl2Y55T516tQM4tx+H8gInHfekyvv9mMkIexo8DcR8I4ASQjvWPFKIuAZAbfOQ1gkBLyB20MoYiCBGUCY/2MGEM4OMSNgalBIEiK7KmBGBetKsaFzhEG4MwF/YIeY5rgOZuFVq1ZVLVq0UJMnTy5qdjZOEgLlQ11ftmyZuvrqqxW8pkunDhFAPvnkk6LK5MStlP8XXREVCQGrANQ51D3Z8D+WamGAfvPNN+twdxj4mEimSQjMZEo7wx4WOc4ELDHAwbp5LCuRdoYlQ2PHjs15j/MZuf4nCZELlXQc8zuwTEKpRDdERULsu+++ut8gOhx79CNgtYdvGoj2WbNmGdPpQUgI9GfQt0EfR/o+yCt0Aiyd4EQ5l27AcsHXX39d3wu9gDJi37BhQzVixIiilhOShEhCa2Ee0ogASYg0So15TjwCbp2HMEgIhH8cNWqUXvMM89Q77rhDmyYOGjRIm1NiPafpRBIiG1F44Z84caLeQCjkW5IAmeEarFeFIy17KLnsJ+c/EjcJIblDeESUB/HlpROL5RkDBgxQMINlyo2A6IqoSAg4REWdg6xkw/pu1CO/Zsi5S5R51DQJgQ6/tDPsgZtbQhvEzCbKiegVfkLf5nomSYhcqKTjGEmIwnJCdByEuEQfAluPHj30/2+++aaCTyPTKQgJgXaPELsgG5566il1991366Uj+K56+d4gKtULL7ygy4m+EqJV5dMl+cpOEiIfOjxHBNwRIAnhjg3PEIGiEZCBhXMGIwwSouhMBriRJEQA8AzfmhQSAnUeM08Y0MIKQogIzLJ36dJFdxjTOBAwLK6sx4muiIqEyMpAyAdMkxAhZzfv40lC5IUn0SfTqHtENzj7EWFFx4hagEFIiKjzmu99JCHyocNzRMAdAZIQ7tjwDBEoGgG3zgNJiO16oIpOFQZdglPRQHu4Ud6Bd/73v//Vs73wqL1u3TrVpEkTPVjG8oiFCxd6eFryLkkSCSHoYFbp9NNPt/ySwFwWjg4RrYUpEwGpnyQhMnFJ4n8kIZIoFW95QjtLWxLdQBIi2ZIjCZFs+TB3yUWAJERyZcOcpRgBt84DSQiSEKardRJJCNT/3377TT322GMKSzLEKgKRW1566aWi1t2axi0pzxNdQRIiKRJxzwdJCHdskn4G7SxtSXQDSYhkS44kRLLlw9wlFwGSEMmVDXOWYgTcOg8kIUhCmK7WSSQhpIzwMQB/JXvvvbdFRCAs2uOPP65JCrmunPeiK0hCJL8WkIRIvozcckgSwg2Z+I5zOcbvkVuGxidtvpkIZCNAEiIbEx4hAoERkIGFcwaDJARJiMCVy/GAJJMQktU5c+YofGzsYWNPO+00tWDBAt/h0OSZpbIXXUESIvkSJQmRfBm55ZAkhBsy8R0nCUESIr7axzcnAQGSEEmQAvNQcgjIwIIkxHztVRuOtDZu3Kj9McB5IXDBoEtwCrMCyDvwTvqEWKojBEAW8CDulEUQOeTr5OPcqlWrtINKOKrE8gzEoIcvDoTxRNi0ck1SP0lCJL8GkIRIvozccphPP7ndE/dx0Q3OfgQdU8Ytmcz3czlGJh78jwh4RYAkhFekeB0R8IGAW+eBlhC0hPBRjTxdmgZLCCkIiI9hw4ap2rVrW8szatWqpXr37h1KeEh5b5L3oitIQiRZSjvyRhIi+TJyyyFJCDdk4jtOS4jsiYA01tP4ahDfnHYESEKkXYLMfyIRkIGFcwaDJARJCNMVNk0kBMqONoF20KFDB2t5RpUqVdR1112nFi9ebBqexD9PdAVJiMSLSpGESL6M3HKYxsGd6AZnP4KWEG5Sjuc4LSHiwZ1vTT8CJCHSL0OWIIEIuHUeSEKQhDBdXdNGQkj5ERL1vPPO08syZHkGwnjCf0Q5JdEVJCGSL3WSEMmXkVsOSUK4IRPfcVpC0BIivtrHNycBAZIQSZAC81ByCMjAwjmDQRKCJITpyp5WEgJtZMuWLapnz56qfv361vKMunXrqhdffFFt3brVNFSJfJ7oCpIQiRRPRqZIQmTAkap/SEIkT1wkIUhCJK9WMkdRIkASIkq0+a6yQUAGFiQh6Jgy7EqfVhJCcNm2bZv68MMPdRhPiZ5Ro0YNddddd6kNGzaUfPQM0RUkIaRGJHdPEiK5simUM5IQhRCK/jxJCJIQ0dc6vjFJCJCESJI0mJeSQUAGFiQhSEKEXanTTkIIPvPnz1fnnHOOZRGBJRqdOnVSs2fPlktKci+6giRE8sVLEiL5MnLLIUkIN2TiO04SgiREfLWPb04CAiQhkiAF5qHkEJCBRT4S4pBDDlHz5s1L5fbKK6+omjVr6gFjixYtdHSDgQMHqhEjRqixY8eqKVOmqJkzZyoMLJcvX26Fhdy+PZnLMfbaay9122236aUBWB6Qpu3GG29UsBzAoH2//fZTvXr1UoMGDVLDhw9XY8aMUZMnT1ZwnAVZLF0aT4hOrw189erV6pZbbrHKgzCeBxxwgBo3blzJRs8QXVGIhMDHOk31UvJ66aWXqsqVK+v6edRRR6WyDFKW5s2b63KgPBdffLHq27evGjx4sBo9erS25pk+fbr2aQIHqwhJu27dOr3kCCFoER4YMhZ552sTaRww5ytPEs6lEVOpK85+hN0xZePGjdW7776byn4Evk+NGjXSbaply5apLAP6cK+//roV8WnPPfdUjz/+uHrmmWd0JCiUcdKkSQqTBbh22bJlas2aNTpkea4w2Wmsp0lo38xDOhEgCZFOuTHXCUfArfNg9wmBQWMpbKVAQpSCHEqBhECzxvKMl156KcNPRJ06ddQjjzxSkn4iRFcUIiFKpY6WQjlIQiT8A5wje2kc3IluyEdClEJ7KqUykITI0fh4iAi4IEASwgUYHiYCQRBw6zyQhEimJUSpdILSbgkhbQ6dblhvIFrGrrvumjH7vGDBArmsJPaiK0hCpIeUJQmRvqZHEiI97SvN32OSEOnTDcxxfAiQhIgPe765hBGQgYVzBsNOQtSqVUuHKESYwrRtHTt2tEysS8ESYu+991ZPPPGEGjlyZOq2hx56yFoaUyokhKiGJUuWqCuuuCLDYuiYY47Rpq0YtJdCEl1RiITAsoY01s/u3bur3XbbTcvw1FNPTWUZBPfWrVtnEGJcjpGeFliqJETVqlXVSSedlLo+BPo8yDfyD9IBg/e09YMkvyeccILVHyIJkR6dwJzGjwBJiPhlwByUIAIysMhHQmB9dFrTZ599phBKEZ2HUiAhWrVqpRYuXJhKcZSKY0o38NGW+vXrp+rVq6frG+pctWrVdBjPzZs3u92WmuOiKwqREMAgjentt99W1atX17IDIZHmRMeU6ZVeqZIQzZo1U3Pnzk2lYOiYko4pU1lxmWljCJCEMAYlH0QEKhCQgQVJiHQ4piQJscNhXkUN9v8rzE4+HJp+/PHHav/991cSxhMzTl27dlW//fZbqsN4iq4gCeG/zkV9B0mIqBE3974w9ZO5XGY+SXSDsx9hd0xJEiITszj+w9JBIclpCRGHBPjOtCJAEiKtkmO+E42AW+fBvhyDlhDePMUHFbRdFvBQjwEtZtDhub5JkyZ6hpYkRLJJCKkDiDpw9tlnK0TNkHXDJ554ovYfIdekbS/1kyRE8iVHEiL5MnLLIdpZ2pLoBpIQyZYcSYhky4e5Sy4CJCGSKxvmLMUIuHUeSEIk0zElSYh0kBBQCQh9eP/99yv4VBEiAhYSb7zxho6skTa1IbqCJETyJUcSIvkycsshSQg3ZOI7zuUYXI4RX+3jm5OAAEmIJEiBeSg5BGRg4ZzBIAlBEsJ0ZS91nxC58Przzz91DHY4FBUiokaNGuqxxx7TVi657knqMdEVJCGSKqGKfJGEqMAibb9IQiRPYiQhSEIkr1YyR1EiQBIiSrT5rrJBQAYWJCHoEyLsSl+OJAQwRdtatGiROvroo60wngjnecYZZ+jjGNSnIYmuIAmRfGmRhEi+jNxySBLCDZn4jpOEIAkRX+3jm5OAAEmIJEiBeSg5BGRgQRKCJETYlbtcSQjgina2fPlydc0116hddtnFsoro0KGD+vTTT1UaiAjRFSQhwm4pwZ9PEiI4hnE9gSREXMi7v5ckBEkI99rBM+WAAEmIcpAyyxg5AjKwIAlBEiLsylfOJIRgC2ejzz//vGrQoIFFRCCM58CBA9WWLVvkskTuRVeQhEikeDIyRRIiA45U/UMSInniIglBEiJ5tZI5ihIBkhBRos13lQ0CMrAgCUESIuxKTxJiB8J//PGH+uijj1T79u0tIqJ69erqhhtu0M4skzoIEV1BEiLslhL8+SQhgmMY1xOS2v7z4SG6wdmPYIjOfKhFf47RMaLHnG8sDQRIQpSGHFmKhCHg1nmgY0o6pjRdVUlCZCL6448/qnPOOcfyEwHHlfAbAZySmERXkIRIonQy80QSIhOPNP1HEiJ50qIlBC0hklcrmaMoESAJESXafFfZICADC+cMBkkIkhCmGwFJiGxE169fr3r27JkVxnPIkCHq999/z74hxiOiK0hCxCgEj68mCeERqAReRhIieUIhCUESInm1kjmKEgGSEFGizXeVDQIysCAJweUYYVd6khC5Ef7vf/+rRo0apRo1amQtz4CfiEcffVT99ttvuW+K4ajoCpIQMYDv85UkIXwClqDLSUIkSBj/ywpJCJIQyauVzFGUCJCEiBJtvqtsEJCBBUkIkhBhV3qSEO4Iox0uWLBAYfAo0TN22mkndfLJJ6uFCxcmInqG6AqSEO5yTMoZkhBJkYT/fJCE8I9Z2HeQhCAJEXYd4/OTjQBJiGTLh7lLKQIysIiLhMD7YXb+66+/qq+//lpNnz5dff/992rz5s1GEP3ss89U3bp19QxzixYtVO/evXUkghEjRqixY8eqKVOmqJkzZ6r588uHhIBjxK1bt1obBpW50rZt26xr7NfjdzFLBUhC5EK54hjaws8//6y6dOmidtttN11nQUS0adNGjR8/XsFiIs4kuiIqEuLLL79Uw4cPV4899pj6v//7P7316NFDt9+vvvpKbdq0SYc+NYXJ22+/reAgFL45unfvHvixiIRibzfAL1dyXme/B7+LSSQhikEtGfe41ZNk5C53LkQ3OPsRUTqmxPdq3bp16ptvvtH9CJC3GzduzJ1hn0dJQpCE8FlleHmJIUASosQEyuIkAwG3zkMUPiEwmJk0aZK66KKLrM4/BgA777yzPmYCIZIQFShiEPvFF1+om266SXXq1ElvZ599tlqxYkXFRf/7hcHPHXfcYV0n18v+0ksvzbqn0AGSEIUQ2nEenelXXnlF1a9f31qesccee2jfEabIOW85ybxKdEVUJES7du2s8kMv2DfoiCOPPFJNnDhR/fnnn5kZLfI/UyQEBmIgNzt37pzRfnKRSCDzHnzwwYzrpI1hj/ZZTCIJUQxqybiHJIQ/OaC94dtyxRVXqDp16mToiY4dO/p7mMvVpkkI6Kz33ntP9evXT29Dhw5Va9euzXg7dAN0klzj3A8bNsw3Mc3oGBkQ8x8i4BkBkhCeoeKFRMA7AjKwcM5ghE1C4APbv39/y0rBPsDA7+uuu857IfJcSRJC6UHat99+q7p166YaNGigMLsueO++++5q0aJFWQiuXLlSHX744dZ1cr3s995776x7Ch0gCVEIoYrzGOhjIHvUUUdZ8qpSpYq6/vrr1eLFiysujPCX6Io4SAjU2apVqyrUV3v9bdy4sSbWTMAQlISARcOsWbPUNddcowdD9nyi3eQiSzDwOPHEE13bGcpbTCIJUQxqybiHJIR3OaDNgbBt2LBhhl6Q7xTagYlkmoSAlYadMGnWrJmaO3duRlbxDe7QoYOrbjjwwAMVyu8nkYTwgxavJQIVCJCEqMCCv4iAMQRkYBE1CTF48GCF2V3pLDj3L774opEykoRQ6qOPPlIgDZwY4383EmLevHkKnZxc9+AYSQgj1bPgQ5YtW6bOO+88K4wnBrbt27dXs2fPLniv6QtEV8RBQqDDPmjQIL0848ILL8yol1dddZWRogYlIbDEq169ehl5s7efXCQElp61bdvW9R6SEEZEm6qHkITwLq533nknYzBvb2/4/cADD3h/WJ4rTZIQsIi67bbbMtp8LhJiyZIlqnnz5hnX2ctHEiKPwHiKCBhGgCSEYUD5OCIABGRgESUJgZl3zFzIB7VSpUrqkksuUWDp16xZowdYWBtvIpGEUOr999+3sMZgrkaNGtb/biTE559/bskIZBEsU9Bxkg0m5H4TLSH8IrajfWJpDHyZ2Ae4aD8vvPCC9jlQ6KmrVq1Sd911l/ahUOjafOdFV8RBQjRp0kQtXbpU66sNGzZYdRM65OCDDzay9jsoCfH888/rpWTIE5bSoG2JjsM+FwmBwU3Tpk31dbB0gRWFtDHs77zzznwicT1HSwhXaBJ/giSENxEhvPG+++5rtbFdd91VnX766QpWnOhHgEjHQN5EMklCwNcN9JldN+QiIWC9KNYSIJ+POOKIjO2CCy5Q8O/kJ9ESwg9avJYIVCBAEqICC/4iAsYQkIFFVCQE3nPfffdlmE6eddZZCh2KMBJJCKXXmlauXFmdeeaZasKECeqUU06xOkBuJMS4ceMsPx2YccHAL2giCVE8gjC7xRpiu0ULlifAbwdk4zZwQYhPOLrEMhz4AwmSRFfESUJI/lGXpROPDvzy5cvlVNH7oCQElmLUrFlTnX/++Qp655BDDrHy6EZCzJgxw7IIA3EBx3omEkkIEyjG8wy3thxPbry9VXSDsx8RlmNKvO+5557LaF9HH320whKGMJIpEgL5vvXWW3X/B5Mv8G0D3ZCLhMD3UnQcJgJ++eWXjA3Y+q0rJCHCqB18ZjkgQBKiHKTMMkaOgFvnISyfEBgswJxcPq6IXIGPbViJJITS4R3RiUIHEemvf/2rhb8bCYF1tiIjrEs1kUhCBEcRVkQXX3yxJRvICD4FEOEF5IA9wewXFisS8hOERZAkuiIJJARmBaV+YvCRy8rAb1mDkhAgiuCZXxIcZ0oesc+VRyyVkmtA9plKJCFMIRn9c/wOLKPPYfYbRTdERUJgAH7qqadabQdWRHByHVYyRUIgAhi+uSAfoLclclcuEmLUqFFW+eCfyUQiCWECRT6jHBEgCVGOUmeZQ0fArfMQFgmBj7CEwUPnGx7gTc3+5QKLJEQ2Kl5IiMcff9zqAEFGiKABa5VcHv6z35D7CEmI3Lj4PYoOOCKcyLIamOpiAIsBrTgqA1GA/+1LOODE0emB3c+7RVfESUKgfFOnTlWw7IH+AMHSp08fP8VwvTYoCeF8sBcSAks4hIQAmQKSFvowF2HhfH6+/0lC5EMn2edIQhSWz3fffaf2228/q+0cdthhOrxx4TuLu8IECYFldddee63Oc+3atVWvXr205RTafy4S4sknn7TKB2tRhCQO8v1FyUlCFCd/3kUESEKwDhCBEBCQgYVzBiMsEgIdfel0Yw/TxDATSYhsdL2QEBjk2uWEmSYMkh577LGil2aQhMiWRbFH0BkdOXKkatSokSUnmOxiqRM6uwsWLFAtW7a0zkGWMP99+eWXi32l5T8mDhJizz331EtPunbtqpeWoDwgIOBLBqSMiRQHCQF52dvZbrvtpqPSwIIF69qLTSQhikUu/vtIQhSWwbRp0ywiEu0H4Tmh98JKJkgI5BnkA/KLENdvvvmmNSGTi4SATxjRDViqhSVo99xzjyYSiiUjSEKEVUP43FJHgCREqUuY5YsFgahJiKeeesr6sGIGF2x/mIkkRDa6XkiIc88915KTdISwh/Mv3F+M41CSENmyCHIExCF8Chx33HFW9AwQDRdddJE66aSTcsrvjDPOKNrySHRFHCSEvQ7itxAQqIemBm1xkBBwROksm7QzmJv/8MMPRVURkhBFwZaIm0zV5ygLI7rBOZkBgrB169a6jucaaBebx9dffz2j3WDAHiZuQUkIkAYgTNG2QURMnjy5IAmBqEhO3YA+01577aVgqYgw534TSQi/iPF6IrADAZIQrAlEIAQE3DoPYVlCgMmXDyvWRfbt2zeEUlU8kiREBRbyywsJ0a9fP22lcvXVV+voAyIz7CG3YsgjkhAiAbN7DFQRplKcnNll5fwNa4liHVSKrkgCCYFyoSw33nijQvQPEykOEgLLMWANBjPtQw891NKNKB8GHNCXxSSSEMWglox7whxMh1VC0Q1RkRBOp5RB/d0UwiUoCfHJJ59YDmjh02fz5s0FSQiEIj7ggAOsCBl2XQ4HuHBU7LeukIQoJGmeJwK5ESAJkRsXHiUCgRBw6zyERULcf//9VkebJESm6OyywMwJ1r+js4I14hLSq1WrVmrhwoWZN/r8zwsJgc6kdCgRYWHgwIGqWrVqluywHhd585NIQvhBy/u1qDcI1QYro1q1alkysnda7b8x+15MkvoZBwmBUHVPP/20Ji1h+SHlwUAdM4x+62Ku8sdBQtjbGcowZMiQDBli1hRrwf0mkhB+EUvO9WhnaUuiG+SbsW3bNl1vw7KEQHhi0QHYJ5mEQPQiieYDXzaIooNUaDkGMIS1w5YtW3TYcoQfhaWblLtjx46WDyCv9YUkhFekeB0RyESAJEQmHvyPCBhBwK3zEBYJMXjwYOsjio9pjx49fLP5fgpOS4hstLyQEM67MMiVgQ3khjX6X331lfOyvP+ThMgLT+CTmG2zh/CUzqpzDwKpGDN/0RVxkBAg4ZYuXaoxgvPGgw46yNIjmBUcP358YPziICGcmYZDSnv0Eww6sOTGb5K2ikEPngeLM+je0aNHqw8//FBNnz5dzZkzRy1evFhbkoDoxGAH7RwEKGQs8s73blzDZBaBNGIqdSUqEgJ12K7XOnfu7HtA7kdqQSwhsPQCETGQX1g7ff7559qvA5ZUyPF99tlHvfrqqzq6DsgHZwK+y5Ytywj7C93w66+/Oi/N+z9JiLzw8CQRcEWAJIQrNDxBBIpHwK3zEBYJ8cEHH2R0HrB+HZ3fsBJJiGxkiyEh8BS7Pw9EZkDnyk8iCeEHLX/Xrl69OqODau+gO3+j8/rMM89khfQs9EbRFXGTEMgnLHPs5XrggQesELSFyuF2PgkkBPIGawgpG3ywYMDlN5GE8ItYcq5HO0tbEt0QFQkBYq5q1apWOzn55JONOajNhX0QEuL666+38int2m3ftm3bvATxvffem/EsRBvzk0hC+EGL1xKBCgRIQlRgwV9EwBgCbp2HsEiIb7/91oqNjQ8xQgvCk39YiSRENrLFkhCPPvqo1QGiJUQ2rnEdQehUzARiaYJb59Z5/JhjjtEhV/3kWXRFEkiIESNGZJQV0Vwwix8kJYWEsBMsICFoCRFEqum7lyREYZktWrQowxoKy7Vmz55d+MYirwhCQsCvklP/uv1fiITo3bt3xrPQn/KTSEL4QYvXEoEKBEhCVGDBX0TAGAIysHDOYIRFQmCNKLy+2z/Cd955p7HyOB9EEsKJiNLRLQR/mIOiQ1coIfwZ1qDKfTAfxeDXT6IlhB+0vF+LjinM7kU2XvaILjF16lTvL1HKMs9PAgkBZ45STpAvTzzxhG/LDmfhk0BCYA34WWedZZWtevXqvk2uUS5aQjilm57/SUIUlhWsJ+3LlqAL4Osm11KGwk8rfEUQEgK66ZRTTsnaEDUEehh5RwjsI488Ut1www1q5cqVOTOEZVL2MuPb7TcsKUmInNDyIBEoiABJiIIQ8QIi4B+BqEkIDGCGDh1qhRTEBxgd7bvvvlvPZPz444/qu+++8z3AdSs5SYhsZApZQmDt/TvvvKPXjEMe6Lh06dLFcoqFQR/+95tIQvhFLP/1IA7Hjh2bYVkkA3Mve0TUgA8Cr0l0RRwkBEivuXPnKviDGDNmjIIfCCkjQtZNmzbNazFcr4uahFixYoUuC0yq0c7gsO7mm2+21omjnWHQUUwiCVEMasm4hySENzlMnDjRGusitLEAACAASURBVMRDF2Agj0E8fBWhPcHC8pdffvH2sAJXBSEhQCxu3Lgxaxs+fLjl7Bl+euArAs5poV/hzHLJkiX6HvwPwh+RdOCoVvQevuN+rb9IQhQQNE8TARcESEK4AMPDRCAIAjKwiMoSAnnFB/mwww6zPqbyUYXzOThu2n///dVbb70VpFjWvSQhLCisH4VICMRgx8x6w4YNtTwaNGiQISssoYFTO7+JJIRfxPJfj44qPoxeQnNKG7PvmzdvrvyY84quiIOEwADjhBNO0LOF8EdiLwfMnf12xnMhGzUJ8f7772sCtn79+rqdgWixl6tp06Z6YJIrr4WOkYQohFByz5OE8CYbWAY4rSrRfvC9Qj8C3ylE1DGRgpAQbu/PFx0D5HL79u11VI0rr7xSderUKcMHBsgIhuh0Q5bHiYB5BEhCmMeUTyQClol1lCQEYMesX4cOHTI63fYOODxHm0gkIbJRzEdCYICJcGd2WchvzMwiRCiiMBTTUSYJkS2LIEcgA8gLM20I2woLgQEDBujZ9HPPPVcde+yxWl4gk0SG9j3Ii549e3qWZZwkhD3f8hsWVF27djXmkC5KEgJye+SRR3ISSGhnGECBpCimnaFOkYQI0rLivbdYmceZa9ENzn5EWCE6paxYSogBuugE575bt25yaaB9lCQEMISjXWdZ5P899thDkyvF1BNaQgSqBry5jBEgCVHGwmfRw0PArfMQlk8IKQk64QgPd/nllyvMBGJ9I2bfsWFwYcpPBEkIQbxiDzN8YI5t3333Vd9//711EnLBYBYdu8aNG2vzz7p166o2bdqoBx98UM2bN8+61u8PkhB+ESv+ehATq1at0v4+QPiNGzdOvfjii+qee+5RF154oYIDNMgfRKDXzqzoCtQRzELC+gBrkmGR0adPH6vT3K9fv+IzbrsTs5zIY61atawN/4MI6969u/roo4/Upk2bbHcE+2mahECnBfmVzb70BVhCJvD/AAswzGyinaFsCFuMpSfAudhEEqJY5OK/z2t7jD+nFTkQ3RA1CYEc/PTTT1ofIDwxImbY+xGXXXZZRSYD/AqDhMB3FroB/R18X8Uqbfv27QpRMKAPcA7lQf8IzqDbtWunYEHh1xeEFJ0khCDBPRHwhwBJCH948Woi4AkBt85D2CSEPXNwxIQPMgZJL7/8ssK716xZY7+k6N8kIYqGToc8hH+IdevWFf8Q250kIWxgJOAnnLihA+910CO6IioSAhBhUAOSTDaQH2El0ySE13wC12XLlhmz6MB7SUJ4RT9513ltj0nKueiGOEgIwQH+H0BMoh/xwgsvaIu9n3/+WU4H2odBQiCsMqwKJ02apNBPcRKq0Ak4/9JLL2niAXkAQREkkYQIgh7vLWcESEKUs/RZ9tAQcOs8RElChFY4pfTHHTMKMGVs0aKFQiQBhMBDiD+su5wyZYqaOXOmmj9/vnZ6B/NR+KzAxx4zl+hUYdAlOIWZV3kH3onBFvIAR1UgATBbijJgphSm92lMJCHSKLWKPEv9jJKEqHh7+L/iIiHCKBlJiDBQjeaZaGdpS6Ib4iQhwsQsDBIizPy6PZskhBsyPE4E8iNAEiI/PjxLBIpCwK3zQBKCJERRFSrPTSQh8oCTglOiK0hCJF9YJCGSLyO3HJKEcEMmvuMkIX6PfFImPmnzzUQgGwGSENmY8AgRCIyADCycMxgkIUhCBK5cjgeQhHAAkrJ/RVeQhEi+4EhCJF9GbjkkCeGGTHzHSUKQhIiv9vHNSUCAJEQSpMA8lBwCMrAgCcHlGGFXbpIQYSMc7vNFV5CECBdnE08nCWECxXieQRIiHtzzvZUkBEmIfPWD50ofAZIQpS9jljAGBGRgQRKCJETY1Y8kRNgIh/t80RUkIcLF2cTTSUKYQDGeZ5CEiAf3fG8lCUESIl/94LnSR4AkROnLmCWMAQEZWJCEIAkRdvUjCRE2wuE+X3QFSYhwcTbxdJIQJlCM5xkkIeLBPd9bSUKQhMhXP3iu9BEgCVH6MmYJY0BABhYkIUhChF39SEKEjXC4zxddQRIiXJxNPN1OQvztb39Tffv2VYMHD1ajR49WH374oZo+fbqaM2eOWrx4sVq1apWOwLNlyxb1xx9/6Mg8kLHIO19+0jhgzleeJJxLI6ZSV5z9CESbat26tY7s1KxZMzV37twkQOw7DyQhSEL4rjS8oaQQIAlRUuJkYZKCgFvngY4p6ZjSdB0lCWEa0WifJ7qCJES0uBfzNpIQxaCWjHtIQiRDDvZckIQgCWGvD/xdfgiQhCg/mbPEESAgAwvnDAZJCJIQpqsfSQjTiEb7PNEVJCGixb2Yt3klIZYsWUJLiGIADvEekhAhglvko0lCkIQosurwthJBgCREiQiSxUgWAjKwIAnB5Rhh10ySEGEjHO7zRVeQhAgXZxNPd5IQ/fr108sxXn/9dWs5BgZWJCFMoG32GSQhzOJp4mmlTEIMHDhQDRs2TL377rtq0qRJ6quvvlLz5s1Ty5YtU2vWrFEbN25Uv/9OEsJEPeIz0osASYj0yo45TzACMrAgCUESIuxqShIibITDfb7oilwkxFNPPaXXff/lL39RGPCmMb399tuqevXquhzdu3dPYxGsPNtJiEsuuUTL5IUXXlAgIT766CPtE8JJQmzdupU+ISwE4/tRSiTEr7/+Sp8Q8VWlrDf/61//UvXq1dM6bs8991S9evVSICGGDx+uSYjJkydnkBBr165VmzZtIgmRhSQPlBsCJCHKTeIsbyQIyMCCJARJiLArHEmIsBEO9/miK0hChIuziafbSYhLL71U9e/fX7300kvqjTfeUOPGjVOfffaZAgnx/fffW8sxSEKYQD74M0hCBMfQ9BNK1RLiiSeeUM8++6waOXKkGjt2rJoyZYomIebP39EfIglhuibxeWlFgCREWiXHfCcaARlY5CMhGjVqpB599NFUbp07d1ZVq1bVzH+LFi1U7969NfM/YsQI66M7c+ZMJR9dePOG+eH27cn0CbHHHnuos846S1122WWp2zAwqlKlipbFfvvtp2dhBg0apGdhxowZozALg5kayGLp0qVKZJHLFDRIo0pjJz9IeU3dK7qiEAnRrl271NVNtKfjjjtO7brrrrp+Hnjggaksg+iFBg0a6HJUrlxZXX755Vrnvfzyy+qtt95S48ePVzNmzNCRCkBCrF69Wq1fv16RhDDVUoI9J436SXSDsx9ht4SoVauW6tatWyr7Ecg38g9LL7SttPaHunTpoqpVq6bLAUsIWLAhas4rr7yi3n//ffXJJ58oZ3+IlhDB2jPvLg0ESEKUhhxZioQh4NZ5sDumxIe3FLZSICFKQQ4oA0mIhCkCD9kRXeEkIX777TfdmS2VullK5QAJcdVVV6nnn39egXjFuu+JEyeqL774Qn377bfqhx9+UL/88gtJCA/1P6pLSoWE2Lx5sw79KiE6S6ldlUJZatasqS2khgwZokP3YpnW1KlT1ddff60WLlyoVqxYoScCQEJs27ZN/fnnnwokE/S/fAuiahN8DxGIGwGSEHFLgO8vSQTkY+KcwSAJkUxLiJ133lnBGgKzMmnbatSooXbaaSdNaJGESJ86EV3hJCFgOYQZtJYtWyrMrqF+Qtbwr4BZN1giYdt9993zbrCS4eYPg0KYNm3aVPXo0UNhoPHaa6+pDz74QMsKzudgcfTTTz9p53MbNmygJURCmmQpkRCwsDnzzDMtvV8Kg/dSKMMuu+yijj76aPXcc89pchL+cCZMmGAt01q8eLFauXKlgiULSYiEKAZmI1YESELECj9fXqoIyMAiHwnRrFkzba4Hk720bffff7/lbK4ULCGaNGmihg4dqr1Yw5N1mjY4wKpduzZJiBQrE+gLkBCiL7BUBp1UzKbDzwAcnMEB4tNPP62XPj300EN6EHz77bcrOHu88cYb1Q033KCwTOq6665T1157rbVdc801ips/DOz44TcwBbbXX3+9xvqBBx7Q8sCabyzF+Pjjj9W0adOs2U54wMe6b1izQJZ//PGHr9nONA6Yk9780oip9COEoMRyxi1btqj/n73zgLaiyL4+75FzxoCCAiJgZFTAhKDjuEBHRVEUmcHM/B2MMDKIo44JRVEJCmIADKgIiqCABBEE9QOUnCUKCCgZBAzrfGuXc5q+8d3Q8d7dazV9X98OVb9Tt+iz+9QpiFuIuunXr58g/8B///tfeeCBB6Rbt26mP8DwALTZTp06meFPSKLaoUMHueaaa7g6zODaa681bJEjBn3F008/LRiiNWLECBkzZozJB/HVV19ZEVKbN282kSyIaNFICNgXaxjbaNB/9yxfsAlQhAi2fVi6kBLQhwd1KvCfDZwKeyREixYtQlo7MY5RjRo1jOObCyJEkyZNTKhkGA3CxJRhtFpkmdFf2EUI9Bcado2HVoT3L1682OT2mDZtmkmCOGrUKHnrrbeMePbyyy+bt2/IBQJRCs7JCy+8wDVLBuCoK9jiDSdYY+o9CMd40zlu3DjTryPvysKFC01Syo0bN1pvO+PlXinK2Sjq+8jWw79SIRBGpigzVhUhIGYhxwjELYhcELtWrFgh3377rclHAvEcOQiQKBUCGSJ1kJsASRK1X2Df4Ey/qP0CuIIvhmYhSS2GZ0GAQEJKjYKYO3eueb5ATiYIyxCRICZBVPr111+NfSlCpPIr5jG5RoAiRK5ZlPUJBAF9eKAIwdkx3G6QFCHcJuz+9dXRsPcXECEQdo055fHwivHE8+bNM29AkW0dszEg8Simh4RDjIdfOMeI6MGbODggXLNjAI5YwRRsEZEC1nDywB7jvZH4FQkpMeZbh2IgKeX27duNkKRvO2FbdTRg72RLUd8nO5ffxScQRqYoM1YVKCFCQNTCUC2E9EPsQhJUCJQYCoRoHOQmgRABgQxDhd544w3TbtGG2Tdk1x/Y+1N734B+AaIPeCMySgUICMb4/xni5KpVq0w+CI2QgphkFyHU1vFbL/eSQG4SoAiRm3ZlrXwmoP+h2J0KRkIEd3YMRkJkHwqKNs8lMwLaX0S/8VRnA+OI16xZY5xcvPVEeC8ecPHmE2IEnA4kR0R0BJwPrHgY5uoMA/AEWwgPYA3meMsJG8yaNcsIEEuWLLGiINTRiH7bqXYu6rdS1PeZtbL8PiuMTLW9qAiBJIYaJQWBEm/VN2zYIMg1AEcXQgSGb0GkxGwtiNLBkAC0W+0b2Cc40yeAo/a14AvhAblhMDQLwuSMGTOMALFgwQIjICNqRcVJPAtmEiGV379g1j4XCVCEyEWrsk6+E9CHB4oQjIRwuzEyEsJtwu5fX/sLuwihzgZCdxENgazqeOuJt+2IiIDDAQcYmdeRwBIPvngLihUOMlfnGIApBB8whoMH5nD28NuDKAQBAm864RDCVoiCUEcDb6815FrtjG2ypajvk53L7+ITCCNTbS/oF7BChNBoCLQvRENguBYipTAsA0IEInIgUqJ9Yvgn2ivaLvsG5/oDe99q7xvAG9EoyNeBIRgqQEBAhp0wPTaG0mgUBGfGiP9b5d78IUARIn9szZp6SEAfHihCUIRwu9lRhHCbsDfXR59hf+OJUF08rMLZgFOrQgQeaOFwwPHFQy6cDsxBj3YA50NXPAhzzZ6B8kTOBzCG+APm8+fPN2HwsAVydkCA0DediGDJxtEIo8Psza8k87uElan2CypQajQEomzg0MKxVSECQtiyZctMEkQIlegX0F7RdrUdY8t+wbl+ATy1bwBviJIQg2AH2AMCESLZEB2F6BVNSKnipH2YVuatm2eSQDgJUIQIp91Y6oATwIMDVooQFCHcbqoUIdwm7M31EzkbcGbh1OIBFg+ycDjg8GIaSERGIBQb+SLw0Athgqs7DBCBAsZgDeZgDxsgzBo20QgI2AoOIiJZ4Gjg/wCs+n8CtkUtqRxT1DX4fSSBsDLVdqMCJaJq0K40UgpCBCIiMDQDOSLQHiGKwQGGQIY2i7bLfsGdfgFc4/UNEB9gD9gFQhEi2iBAYBiG5oKwCxBhbZ+RvzL+RQLpEaAIkR4vHk0CKRHQBweKEBQhUmowWRxEESILeAE6VfuMeM4GhAg8wOJBFg4HHF44vnjIxTANOB546MUKx5irOwzAF6whAoE9bKBOBkQiFSDgaMBRxFtr2BOr2jeVJkeHJBVK6R0TZqbadrRvQLuCI4t2hn4B7Q7RUhAp0R7x5h39Atqp9g3sE9zpE8DV3i+AO/oGREWpMAmhCHaKFx2Vbt+QXqvn0SQQbAIUIYJtH5YupAT0oYEiBEUIt5swRQi3CXt3fe031NnAW08Nv4bDgTfsGJ6Bh1o4vXA8IErA+cCKh16u7jEAY7zVxArusAGEIdjE7mTEC7VOxwlO51jvWme47xRmptovYGvvGyBEICJCRUqIEWiP2i+gnbJvcK8/sPe12jegXwB/2AH2QL+gkVGwF/pzjYCgABHuPoWlz54ARYjsGfIKJBBDQB8aKEJQhIhpHA7voAjhMFAfL6f9Bh5O7c4GnFp1OFSMwMMtnF886OoKcYKruwyUtQoPcDBgE6zqZEA8ysbRQDvg4iyBMDPVfgFbe78Ah1b7BrQ/iBFoj9F9A/sEd/sE8NV+AVvwxwp7wC46NAv2yrZvcPZXwauRgL8EKEL4y593z1EC+tBAEYIihNtNnCKE24S9vb72HepwwOnQiAh1OtTxwMMtVnWCuf1DDHCbg3KH6ABbYE3mYMCW6SzpHp/OtfP12FxgijpgjRYp0fbYN3jz20/Wt9j7Bbf6hnz9/bLeuUmAIkRu2pW18pmAPixQhKAI4XZTpAjhNmHvr6/9R7TDgf4EgoSu6nzoVh1ibv8QBpzmoJx1q3bAFrbRVZ1Eux3TaUU4j4uzBHKBqb09aRvTNse+wZ3ffKp9iPYJ2Nr7BXvfoDaz29HZVs6rkUC4CFCECJe9WNqQEND/ZPBggP+UoJAjfBfzSNeuXVuKFSsmLVq0CEltYouJOchr1Khh6nHiiSdK7969pX///jJs2DD58MMPzdzkmK4KWaORHAtjUxGmqOHK4IL/kJVT7B2c26P30Ic0lAGhkhi3WadOHVOHJk2amKz3zt3VuytRhPCOtVd30jZr3+oDrG7Rnrn6z0DtYd/a7ZZJm8H5XJwlkCtM7W0Ln+3tTj+zX/C/X4AN1B66jbadsy2cVyOB8BGgCBE+m7HEISCg/9ngPyKKEBQh3GyyFCHcpOvvtbUfsW/1gZbbP/JmBIGD3T72z5m2HlyDi7MEco2pvZ3p5yD8FliGyH5JbRO9dbZ182okEE4CFCHCaTeWOuAE9D8cr0UIRBuMGjVKBg8ebK1TpkxxnBYjISKRwt5ICIZs+ZoxH7ZPtCBEE9mzdQovjDPNdKEIkSm5cJ2nfQq3f4yLDyIHp1oU6sbFWQK5zDSIvwWWKbKfcrY182okkBsEKELkhh1Zi4AR0P+AvRYh5s6dK8cee6wZYoAhH1ibN29uEqc5iYgixGGaGNrx7rvvCjrT+vXrmxXDO1avXn34INsnTOX18MMPC4axFC9e3AwJueaaa2TJkiW2o1L/SBEidVY8kgTCQCCXHWa/+JOpX+R5XxIgARKIT4AiRHwu3EsCWRHwS4T44IMPjGOrAgS2cHbXrFmTVX2iT6YIISbyYdKkSUZ8qFixYoTwU7ZsWVmxYkU0NjNne4cOHaREiRIRx8NOZ5xxhkBESnehCJEuMR5PAsEmQIfZefuQqfNMeUUSIAESyIYARYhs6PFcEkhAwC8RolevXjHOLRJITp06NUFJM9tNEUJk5MiRUqZMmRjeEBQSiRDPPvuslCxZMu45OK9du3ZpG4QiRNrIeAIJBJoAHWbnzUOmzjPlFUmABEggGwIUIbKhx3NJIAEBv0SICy+80Di45cuXlxNOOMF8LiwsNPkhnHwIowghMnnyZItvgwYNpHr16pa4EE+EQN6Ho446yjrmggsukIULF8rf/vY3a1+VKlVkxowZCVpV/N0UIeJzycW92q9wGzneOig8nGpzTvbVTpUpTNdBckTMSGXnaP8cprqwrCRAAiSQqwQoQuSqZVkvXwnoQ7GXOSHw0FWzZk3j0DZs2FCuv/56y7m99957zXR+TkGhCCEmASWiTO677z4jJrRt29biHU+EwNANCEKIeMD61ltvGXNgP0Qj7EOOiD59+kQ8PBdlM4oQRREK9/fal0RvmYU+Mgu9nzyibaN/Z9rycD6X1AiAlf4/izw8yM+D/+8GDBggSACsC5kqCW5JgARIIBgEKEIEww4sRY4R0IdQfTiCQLBnzx757LPPpHbt2sbhbNGihaO1njNnjhkGAGf2vPPOk8cee8xyeM8//3xHk1NShBAzB/hPP/1k2fDyyy+3eMcTIbp37259X7lyZVm0aJE5d+nSpQLRSMWJzp07y/79+63rFvWBIkRRhML7vfYj2EY72ehbuPrPINoudpvhcyZLpudlcq8wnoOosmXLlsknn3xiRNvrrrtOjj76aCkoKDD9aLly5eS9996LqBqZRuDgHyRAAiTgOwGKEL6bgAXIRQL6IOqlCPHSSy9ZSSmR/HD8+PGWY1upUiXBLA5OLRQhYkkmEyEgQsEmKjQ0atRI1q5day7y/fffmxlM9LtWrVqZBJaxd4i/hyJEfC5h3qv9B7bq5NoFB7zhxfrLL7+Y9dChQ0Zk5NY7DmCvdsBW7aP2stsQn9NZ0j0+nWuH6ViwxNTHmMoYiX6HDx8uXbt2FQj4GG6I4Wvab9q39erVi5ltiEzDZHmWlQRIIB8IUITIByuzjp4T0AdQr0QIPBB36dLFeiD797//bZxcDfPHAxreHDm1UISIJZlMhNi5c6fYh2vgIXrz5s3mItu3b5eLL77Yst3pp58umzZtir1Bgj0UIRKACfFu7T/UoUU/Ei06HDx40Ix7h8CFN8NcvWMA5uCPFcKPikEqRqjd1I7pOsDpHh/iph636Lt27ZKxY8fKo48+asRbTHmcLKGvXYDA5yuvvDJiKAZuku9M44LmThIgARLwkQBFCB/h89a5S0AfPr0SIbZt2yaalBJ5BfDG6IcffhA8vOkD2ptvvukYcIoQsSiTiRDr16+XM88807JFMhGiTp06VpRE7F1i91CEiGUS1j3ab6gTaxcf4OzC6YXYgOE6eEOM6CasGOq1e/durh4wAGus4A4bwBawCYQJFSTsYoTaNB0nOJ1jw9rWk5UbfK+66iorsk//D0t1+8Ybb8RcPt+ZxgDhDhIgARLwmQBFCJ8NwNvnJgF98PRKhECoKpxXPKThjdHXX38tePuOH7g+uCEngVMLRYhYkslECAy9aNq0qWWLZCLEscceSxEiFm9e7NF+Q0UIOLP4HS9evNgkP12wYIHMmzdPvvnmG5k7d64gD8zs2bMFQpR9xe+fq3MM7Gzxed26dYIIph07dhj7wGmGIAExQqMj4gkRqTbifHeYUX+0dUSF6f9fqW4rVqwoq1atikGd70xjgHAHCZAACfhMgCKEzwbg7XOTgDoTXokQU6ZMsR7WMARDw4X/8Y9/WPsxHCCdhIfJLEMRIpZOMhEinUiI448/3jg5sXeIvwdOEZKy4SEd5z755JMmM/zQoUNl9OjRZipROKRIgAnn6ccffzRvzOEwIYwcbRROb7YP6dmeH792+bNX+wzYQiMg8DurW7eulC5dOmYtVaqUcPWHAfIRTJ06VbZs2WLyFSBBLcQiiBHoY+1RESooqX1TadH8Lf0xfAJ9lj2aLxUhol27dsYO0ZzJNJoI/yYBEiABfwlQhPCXP++eowT0gdMrEcI+EwamjXz99dfNaneMTzvtNPnuu+8cIU4RIhajnXX07BhwUv7yl79YgpA9EgLf/fnPf7a+a9asmRlKE3uH+HsoQsTnEra96DPUYcVbdAhESDabiuPFY/6Y9tYrDph9AVNAQtTbsGGDye+C5ImIjsCwGERFaEQE/g/Aqv8npOIMp3JM2Np3JuUFt88//1yOOeaYlH4HJUqUkGeffdb8jqLvR6bRRPg3CZAACfhLgCKEv/x59xwloA+cXokQdgc40YN49erVBeKBEwtFiFiKdhtEixBwSDCNnNrmpJNOsqIdomfHuPTSS81b1dg7xN9DESI+l7DtRZ9hFyHQZvr372+1mVNOOcWMk8dY+TCtzZs3t8b2Y9aCMJU9uqy1atUy9sDv+5lnnjHDZDAUbs2aNYLfMSIjVIhARARsGB1tlIoznMoxYWvf2ZR30qRJcuSRR1q/Be1Ho7c1a9a0pj6Ovh+ZRhPh3yRAAiTgLwGKEP7y591zlAAeeLB6IUJgXHLDhg2LfEArLCyUESNGOEKcIkQsxmQiBI5+5JFHLBtVq1bNODDYv2TJEjPdnD5Q33333cZxib1D/D0UIeJzCdNe7S90KAYcV4T09+vXz2ozTzzxhAkzR8h/mFYkCdRZem6//fZQlT2asyb/hQjx+OOPm5wc8+fPNzMPIcoMQgQiItAnI3ElhjwhWSUiW2BbtTO2yZaivk92bi5+h4gTZa/9ZLwtBC/wjreQaTwq3EcCJEAC/hGgCOEfe945hwnow6YXIgScULwB0oeya665Rnr37m3Wf/3rX4JEXfodpu50YqEIEUuxKBFi8uTJ1hth2OPdd981F/n444/NeH/sw9j/eJndY+92eA9FiMMswvpJ+ws4qnBY4UjhTfoLL7xg/Xb79u0byuq9//77UqFCBVOPrl27hrIOWmgdUlWmTBl58MEHzVCBL7/8Ur799luTc2X16tWyceNGwWxFGJah0RAUIZRg+lsIO4hIgYiu/48l2uL/vUQLRYhEZLifBEiABPwhQBHCH+68a44TUKfCCxEC+R/wUIwHMzzsT5gwwaKLh2AkK9SHtksuucT6LpsPFCFi6RUlQuDttt0WjRs3NoJDy5YtLfscd9xxJnFk7NUT76EIkZhNWL7R/gIiBNoJwviRV+D555+32gZFCP+txt71xgAAIABJREFUqSIExEIIvBAQkRR41qxZRohYtmyZGWaF6ZE1GgIRLekOyaDD/IetESWGCIiCggLzO6hcubIg8aRG1uj/a9hWrVrVzBSTqJWQaSIy3E8CJEAC/hCgCOEPd941xwmoU+G2CIE3bHgY1ocxOLGYws++2J3c2rVr27/K+DNFiFh0RYkQOKNPnz5mClW1l31bvHhxE+Ide+XkeyhCJOcThm/RX0QPxUA4/3PPPWf9tilC+G9Juwhx1113yahRo4wQMW3aNDNF6qJFi0zyX0RDIOEshnNQhMjMbgsXLhT7/12YCQaJWpFz48477xQkobT3n2effbZs2rQp4c0oQiREwy9IgARIwBcCFCF8wc6b5joBr0SIXbt2SevWra2HsQsuuMC8gbPz7dmzp/U9srpjDHO2C0WIWIKpiBB4u92jR4+Y0GIIEP/85z9jbBd7l9g9FCFimYRtT7QIgVwCcGAhPKijRRHCf6vaRYguXbrIm2++KRhuMnHiRJkxY4Z88803snz5csGUvBiSgf5Z80JAkLbnhUhWm3x2mMEJkSX2qDFMQYzphnXBcCWI73Yh4uGHH9av427zmWlcINxJAiRAAj4ToAjhswF4+9wk4JUIgQfdpk2bylFHHWXWO+64wzzo2qm+/fbb1veIlEAIcbYLRYhYgr169TKhwwgfRseKqfviLXBMBg8ebKblhN0gHCHsHuHbmSwUITKhFpxztK+w54OA44qcAphukCJEcGylIgTeyt9yyy3y6quvmmS/Y8eOlalTp5rhAEuXLpW1a9eaBJU7d+40eSHiJadMVqt8dZjxGxg3bpw0atTIavd169Y1+zCkxb7g/z7MOAQBF2IEhItkS74yTcaE35EACZCAnwQoQvhJn/fOWQLqWLg9HMMvgBQh/CIfe1+KELFMwrRH+wq7CIFcLhCrMA0kRYjgWNMuQnTu3NkMDxg2bJh88MEHgmkkv/rqKzNFJKbsxHSdEBZhS4oQRdsQjDC8BTMHaZtv0qSJzJw5M0ZY16vhN4KklXXq1Ek4K4YeSxFCSXBLAiRAAsEgQBEiGHZgKXKMgDoWFCGWmoiAH3/80bzZRcK9dJO0Zds07LZADg2UAePtMbYYD6944MXDLsKow7hQhAij1Q6XWdtntAiBt+gUIQ5zCsInuwjRqVMn6d+/v4mGwJAMJASGw7xgwQKTF0KTU1KEKNpy6JMHDRpkCRBIRHneeeeZ/Eb4XSRbVq1aJSNHjkx2iPmOIkSRiHgACZAACXhKgCKEp7h5s3whoI4FRQiKEG63eYoQbhN29/raV1CEcJezE1e3ixDXX3+9GUY1ZMgQM93uJ598EiNCQOikCJGcPIYeQWyrVKmSFQFx7rnnOi4KU4RIbgd+SwIkQAJeE6AI4TVx3i8vCKhjQRGCIoTbDZ4ihNuE3b2+9hUUIdzl7MTV7SIE8hEgWSjyu7zzzjsm1w6SUyLxL97Ob9682URbUYRITB7DVZA42Z5g8oYbbpDvv/8+8UkZfkMRIkNwPI0ESIAEXCJAEcIlsLxsfhNQx4IiBEUIt38JFCHcJuzu9bWviCdCYEpXHR/P2THctUMqV7eLEB06dDAiBIYRQIRAQsV4IgRmxGFOiFi6EGduu+02KVOmjGnjECKuvfZawTAWNxaKEG5Q5TVJgARIIHMCFCEyZ8czSSAhAXUsKEJQhEjYSBz6giKEQyB9uoz2FRQhfDJAGreNFiEwe0m0CDFv3ryISAiKELGA161bJxjOogIbZhvp1q2bydUTe7QzeyhCOMORVyEBEiABpwhQhHCKJK9DAjYC6lhQhKAIYWsWrnykCOEKVs8uqn0FRQjPkGd8o0QixIgRI6xICIgQK1eutIZjUIQ4jBttfdOmTXLRRReZqTUhQlSsWFEeffRRMxvM4SOd/0QRwnmmvCIJkAAJZEOAIkQ29HguCSQgoI4FRQiKEAmaiGO7KUI4htKXC2lfEQQRAmP0Mb0kEio6tWDmiAoVKpi33l27dnXqsr5chyJEdtgxc0jLli2tCIgqVarIU089JZi1yO2FIoTbhHl9EiABEkiPAEWI9HjxaBJIiYA6FhQhKEKk1GCyOIgiRBbwAnCq9hV+iBC4NxIoPv/882ZKxNq1a8sRRxwh2GJ8/q5du7Im5KQIgakcFy9eLNOnT7dWRBrEW1A3TA38xRdfyGuvvSaYvWLp0qUCzpkudhECfHQ4BiMhkhPF/4Pop0477TRLgKhRo4bJpQGberGgPXAhARIgARIIDgGKEMGxBUuSQwTUsaAIQRHC7WZNEcJtwu5eX/sKP0SIRYsWSatWrazQeB2jj+1JJ50kmD4x28UpEWLt2rVy9913S926dS1HFuVcuHBh3CIuW7ZM2rRpI2XLljXHFxYWyvHHHy9Dhw7N+M07RYi4qIvcCSHohBNOsOwGkWv48OFFnufkARQhnKTJa5EACZBA9gQoQmTPkFcggRgC6lhQhKAIEdM4HN5BEcJhoB5fTvsKL0UI3PObb76RE0880XIM7QIEPt90002OkMhWhEAOgV69epkIjegyJhIhVqxYIU2bNo1bt/Lly8vAgQMzqhtFiPSwoU2/+eabcswxxxhbFBQUSL169UxUhNeigNf3S48UjyYBEiCB/CNAESL/bM4ae0BAHQuKEBQh3G5uFCHcJuzu9bWv8FKEQITD1VdfLXAK1bE/6qij5Omnn5axY8eaMPkJEyY4UvFsRYgPP/xQMH2jltNe5kQiRI8ePay64dyGDRuaBIh6DbyV37t3b9r1owiROrJffvlF3n33XUHeB+X+pz/9SWbNmpXVkJjUSxB5JEWISB78iwRIgAT8JkARwm8L8P45SUAdC4oQ4RAh4JRMmzZNNmzYELoVTiPG8eNBH+HmTz75pAwYMMCEnY8ePVomT54sX3/9tRkPj6nxME5+9+7dJtQejgLaKBzgbB/Ssz0/JzuCFCqlfYWXIsSkSZMsxxDtpkGDBqaNuGHDbEUI5HEoXbq0Wa+88sqIvAIoe/RwDLTvI4880qrfVVddJWjngwcPtvYVL15ckMch3YUiRGrEwPuxxx6TatWqGeYYCnPuueeaPii1Kzh/lBtt2/lS8ookQAIkkD8EKELkj61ZUw8JqGORTIQoV66ceaBGsq6wrXBa8CAPJwAh3b1795b+/fvLsGHDBG8up0yZInPmzDEPnXDs1fFFErJox9fth0O7LZCFHWXAW1DMAFCnTh1Th5IlS5rP9evXl7CtCHVWW1CE8PBH7tCttH16JUKgT/r73/9uOeT4DSMxJfa7sWQrQuA3e8MNN5gIjZ07d8aUPVqEeO+996RMmTKW8ztq1ChTLSS0RLQH6ov1//7v/9KuM0WIolsIbPTEE08I/n8DZ/RNeNCEAIo27tfi9v8zftWL9yUBEiCBsBKgCBFWy7HcgSagjkUyEUIfhsO+zQURIuw20PJThAh0txC3cNpXeCVCfP/993LmmWdazjjeVkModGvJVoRAuSBc6tK5c2er7Gj30SIE8kfo7wF1w3AlLKgjhgPod3j4+emnn/SyKW0pQiTHtGfPHsE0rJoMFENnOnbsaASI5Ge6/y1FCPcZ8w4kQAIkkA4BihDp0OKxJJAiAXUskokQCDFGREEYV2Q3R4gtHuhzQYTAm9NTTjlFzjrrrNCtTZo0EURywBYUIVL8gQboMO0rvBIhMDQHv191xv/85z+b4TluIXFChLCXLZkIsX//fvnb3/5m1Q2/jZUrV5rTEfnUtm1b6zsIMevXr7dfusjPFCESI9q4caNJZqp9Ef5/u/nmm82wryAIAEEoQ2J6/IYESIAE8o8ARYj8szlr7AEBdSySiRCnnnqqeYuHN3lhWzHsQhOO5YIIgcR1SJi2ZcuW0K1IIMicEB78qF26hfYVXokQEydOlAoVKljOOIZmODEVZyI8XooQu3btknbt2ll1O/3002XNmjWmaMiDYv8OszRgGs90FooQ8Wlt3rxZOnToYAnTiIBARAqG4QVloQgRFEuwHCRAAiTwBwGKEGwJJOACAXUskokQLVq0cOHO3lwS877XqFHDPOznggiBN6bLly/3Bp7Dd+HsGA4D9fhy2ld4JUKMHDnSctIRDXHrrbeaPCluVdtLEQIi4jnnnGPVL5kIgfwQ0UM5imJAESKWEPpN/F+mkTUQp/v06RMxhCb2LO/3UITwnjnvSAIkQALJCFCESEaH35FAhgTUsaAIEY7ZMShCcHaMDH/qWZ+mfQVFiNRQJhuOQREiNYZOHIX2Om/ePDnvvPMiBIghQ4a4GlmTadkpQmRKjueRAAmQgDsEKEK4w5VXzXMC6lhQhKAI4fZPgZEQbhN29/raV3glQmD4Tvny5S3HEWH0yKXg1uJlJATC/5HjQt/KJ4uE4HCMzC2Otjp9+nRp1KiRxRqRJe+8807gIiC0lhQhlAS3JEACJBAMAhQhgmEHliLHCKhjQRGCIoTbTZsihNuE3b2+9hVeiRAzZ860cojAWUcyViRtdGvxUoTA1LvXXXed5Rgj787q1atN1TB15OWXX259x8SUmVkcM5VAyIKIo2IPkit/8sknaU95mlkJMjuLIkRm3HgWCZAACbhFgCKEW2R53bwmoI4FRQiKEG7/EChCuE3Y3etrX+GVCAGnHM65OpDlypWTFStWuFZJL0UI9Ld33nmnVbe6detaeR+QPPHcc8+1vrvkkks4RWeaVgff9957L2J2lfr16wuELXwX5IUiRJCtw7KRAAnkIwGKEPloddbZdQLqWFCEoAjhdmOjCOE2YXevr32FVyLEoUOH5Prrr7eccYgRXbp0cW1IhpciBCw1dOhQKVWqlKkfpt6dMmWKMSCm6jzuuOOset9zzz2SrmOaz4kp9+3bJ4MHD44YytOyZUuTFyJdju7+ouJfPQxljF9y7iUBEiCB3CRAESI37cpa+UxAHQuKEBQh3G6KFCHcJuzu9bWv8EqEQG3Gjh0rmEZRoyEwo8Gjjz4qGM5w4MABk1gQYoUTi9ciBGZrqFq1qlW3nj17CuqCWUFKlChh9mM7ZsyYtKuXryIEhmBgxotKlSoZfmg7rVq1kqVLl6bN0K8TKEL4RZ73JQESIIH4BChCxOfCvSSQFQF1LChCUITIqiGlcDJFiBQgBfgQ7Su8FCF+/vlnadOmTYQQAUEC4/wxTOH888+XJ554whFqXosQKPRll11miRClS5eWa6+9Vo4//nhrX8OGDY0wkW4F81GE2LFjh9x///1SWFho+GF7zTXXyMaNG9PF5+vxFCF8xc+bkwAJkEAMAYoQMUi4gwSyJ6COBUUIihDZt6bkV6AIkZxP0L/VvsJLEQL3RLtBbgh7RIRGRmDbsWNHR9D5IUJ8/vnngnwQ9vroZ0RJvPHGGxnVLZ9ECLQRCBB33HGHYFgL+CGC5Oabb5ZNmzZlxM/Pk1AfLiRAAiRAAsEhQBEiOLZgSXKIgDoWFCEoQrjdrClCuE3Y3etrX+GlCKE1WrBggbRv315KliwZ47AjGsKJxQ8RAv3u+PHjpUaNGhH1wnCCfv36mSEnmdQtn0SIrVu3ytVXXy3Fixc3DCFEQJDYvXt3Juh8P4cihO8mYAFIgARIIIIARYgIHPyDBJwhoI4FRQiKEM60qMRXoQiRmE0YvtG+wg8RAvdGwsFvv/1WBgwYYJzMrl27St++feXLL790BJ/TIsSkSZOkf//+1vrjjz/GLSd4rlq1SoYMGWLq9cwzz5gkishvkOmSDyIE2gRyPVx66aXWEIwKFSrI448/bnKGZMrO7/NQLy4kQAIkQALBIUARIji2YElyiIA6FhQhKEK43awpQrhN2N3ra1/hhwjhbs3+uLrTIoQXZU50j3wQITDUolmzZtYwnYoVK8rTTz+dUQ6NRBz92E8Rwg/qvCcJkAAJJCZAESIxG35DAhkTUMeCIgRFiIwbUYonUoRIEVRAD9O+giJEQA1kK1auixBTp06Vk08+2RrCctRRR5n8GbngwOdCHWxNkR9JgARIIPQEKEKE3oSsQBAJqGPhhQiBMboIOb7rrrvk8ssvl4svvtisbdu2lW7dusmHH34oGN/r5EPYF198YY23PvHEE6V3794mPHrYsGHmflOmTJE5c+aYsN4NGzYIQqZRzoMHDwrCocEFTpdyctOGeg/c89dffzVlwFSE27dvlzp16pgH7iZNmgim9stkwfVRrxUrVshnn31mViTG279/f8zlUOd58+ZZx+nxup05c2bMOUXtoAhRFKFgf6/tkyJEsO2E0uWqCIG+8euvv5YTTjghQoD44IMPTH8dfMsUXUL8zriQAAmQAAkEhwBFiODYgiXJIQLqWHghQqxbt85ypjUDfPS2UaNG8umnnxrn3wnMFCEOU4TY0qVLF6lcubL1AF+2bFkjShw+6o9PEGPOPvts67hoOx199NHRpxT5N0WIIhEF+gDtKyhCBNpMpnC5KkK88847gqgH7Y8gyk6cODH4BkmjhBQh0oDFQ0mABEjAAwIUITyAzFvkHwF1LPwQITCNGh4oq1evbo3rxcMlHizxFt6JhSKEyObNm+Wee+6RY489NoIzWCcSIVavXi2nnHKK9bCvD/26pQjhROsM1zW0r6AIEXy75ZoIgQiu4cOHC/od9EGFhYXSuHFjmT9/vmOCdVCsShEiKJZgOUiABEjgDwIUIdgSSMAFAupY+CFCNGzYUL766itBFvkrrrjCynCOh8xHHnnEkdpShBB55ZVXEooJiUQIiED16tVLeB5FCEeaZ6guon0FRYjgmy2XRAgMTRs4cKCUK1fO6o9atWplBIjgWyL9ElKESJ8ZzyABEiABNwlQhHCTLq+dtwTUsfBDhGjatKnhjjIsXrxYatWqZT1k4gfvxEIRQszDOoSdatWqyTXXXGPeIGpEQyIRArkyqlatauxx3HHHyZIlS0xuCuSnwLpjx460zcPhGGkjC9QJ2ldQhAiUWeIWJldECEzLiiguzHyBPqtkyZImjxBmxshVZz1X6xW3oXInCZAACYSAAEWIEBiJRQwfAXUs/BQhQA1vu+DsqnOMfAROLBQhRA4cOGDEh48//liQ6BJJQZVzIhFi1KhRguEyOA7DYw4dOpS1OShCZI3Q1wtoX0ERwlczpHTzXBAh9uzZIw899JAUL17c9EMFBQWmH8tlAQLGpQiRUhPnQSRAAiTgGQGKEJ6h5o3yiYA6Fn6LEGvWrIlIONa9e3dHzEARIhZjKiLESy+9ZAkVl1xySexFMthDESIDaAE6RfsKihABMkqCooRdhMAsSe3atbMEiFKlSknXrl1l586dCWqcO7spQuSOLVkTEiCB3CBAESI37MhaBIyAOhZ+iBCnnXaa/Pzzz7Jlyxb517/+ZUJt8eb9yCOPlGnTpjlCiiJELMZURIgHHnjAEiEQoXL33XfLe++9J5jGFE5oJgtFiEyoBecc7SsoQgTHJolKEmYRArModerUyRIgEK2FKZwRxZUPC0WIfLAy60gCJBAmAhQhwmQtljU0BNSx8EOEQI6Czp07yznnnGM9cFaqVMkkUvzll18cYUgRIhZjKiLEDTfcYIkQOnQD2/r168vo0aMlE/tQhIi1RZj2aF9BESL4VgurCLFq1Spp2bKl1fcgAmLAgAGCoRn5slCEyBdLs54kQAJhIUARIiyWYjlDRUAdCz9ECLtzi8/ly5eXBx980CQ+dAoiRYhYkqmIENddd53UqVNHjjjiCCtCRe2FSBUkrkx3oQiRLrFgHa99BUWIYNklXmnCJkKgTc2ePVvOPPNMa5Yk9DP9+/c3+YLi1TFX91GEyFXLsl4kQAJhJUARIqyWY7kDTUAdiyCIEHByS5cuLV26dJEffvjBEW4UIWIxpiJCYDaMuXPnyueffy7ID3HiiSdabydhp7/+9a+xFy5iD0WIIgAF/GvtK4oSIW6++WYZO3Zs6NYePXpImTJlTDu/9NJLQ1d+O/PTTz/d1AORBNdee608++yzMmjQIBkxYoSMGzdOZsyYIZiGd+XKlbJ582Yj/GImCiSgRZJg2FjtnaxZOuUwQ4A49dRTrT6mcuXKguS4mURcJStvGL5zimkY6soykgAJkEAYCFCECIOVWMbQEdAHTT9ECDi23377rXnYPO+886w3YMiCjmEaTiwUIWIppiJC2M9CG0EuiAYNGlhOQo0aNWT16tX2w4r8TBGiSESBPkD7iqJEiMLCQjOzCmZXCdOKcmu0D/qgMJU9uqwoP+oSdBECIgNEkerVq1vsGzduLOPHjxf8n5SPC0WIfLQ660wCJBBkAhQhgmwdli20BNSx8EOEaNq0qeGGMuCNXL169awHUeSGWLp0adZcKULEIkxXhNAr3HXXXZZ9KlasmHbyUIoQSjKcW+0rihIh1JHntpj1e/GLRZBFCERcjBkzRo499liLE4RpRF/l80IRIp+tz7qTAAkEkQBFiCBahWUKPQF1LPwUIRQihmHow3rJkiVl+PDh+lXGW4oQsegyFSH69etn2QcixGeffRZ78SR7KEIkgROCr7SvKEqEOP/8881sKphRJUxr27ZtrfwnmLknTGWPLivyuaAvDaoIcfDgQRk4cKCUK1fO6lOQoHjhwoUJfwnbtm0zwiciJ5YtW2YN1YCYsXjxYvnqq6/MTEv2CyDRJfZjCmhdMNQP+yB8Y8ExGMqCPDc7duzQw8wwlY8++shEZeDeXi0UIbwizfuQAAmQQGoEKEKkxolHkUBaBNSxCIIIceedd1oPpAgvRi6CbBeKELEEMxEh4Hjedtttln0wswke3tNZKEKkQyt4x2pfUZQI0bdv3+AVPoUSvf/++1KhQgXTxrt27ZrCGcE9JMiJKTHVZu/evQXRbhBKMHQE5V20aFFcoBAZIBL86U9/kpo1a0qVKlUE0wa/9tpr5ngIB+3atTNTO7/xxhsR1/jnP/9p9vfs2dPaP2nSJLPv1ltvlbfeeksaNmwoyEGBIWZXXHGFrF+/XnAM7of9VatWldatW8uCBQusa7j5gSKEm3R5bRIgARJInwBFiPSZ8QwSKJKAOhZ+ixD79++XZs2aWU4uEsRNnjy5yPIXdQBFiFhCRYkQSE5nfxCG0/n111+bB3eNVEEW+3STxlGEiLVFmPZoX0ERIvhWC6oIgT6jW7duUrZsWdPXIw/HZZddJlu3bk0IFX3PMcccY2ZPuummm+Thhx82iXEnTJhgztm+fbtccMEF5novv/xyxHU6depk9kOM0AURXOjHMPwPESNt2rSRjh07mhwgxYsXl/bt20ujRo2M8ICpiiF84HgIFF4s9r7Xi/vxHiRAAiRAAskJUIRIzoffkkBGBNSx8EOEaNKkiXz33XcmNPb22283ocPq5J500kmCN2bZLhQhYgkWJUJgTPZZZ50leHB/4YUXTAQEpupU22Aq1aFDh8ZeuIg9FCGKABTwr7WvoAgRcEOJmMgC/F6DNBxj06ZNcsstt1hDXlA2RCNgeEQixxtt7f777zdJiyFe/Pzzz2bmDszkoSJopiIEhvx1795ddu3aJRDBH3nkEYEIAWHk6quvNkMzcL/33nvP9H1HHXWUYNYgt5dELNy+L69PAiRAAiQQnwBFiPhcuJcEsiKgjoUfIgSiHTAtGx7u1MHFFuOEX3/99azqpSdThFASh7dFiRAYq63Z9e120c+YuWT37t2HL5jiJ4oQKYIK6GHaV1CECKiBbMUKUiQE2s2BAwfkuuuuswQICADIAVRUP4K2hggECBaIcojnoGcqQtSqVUvw/4MuiJDQqAfkh9Bl586dJgoDeXCQI8LtJV4d3b4nr08CJEACJJCYAEWIxGz4DQlkTEAdCz9ECHVqdYs3UAiDfffdd81c9RlXynYiRQgbjP99TCZC6JtHCERqF91i7PRjjz0mSCqXyUIRIhNqwTlH+wqKEMGxSaKSBEmEWL58uSBZqfYjyLOAfkQjGRLVAfvR1hCtgHMvvvhiM1Vw9PGZihCYchhTD+vyzTffSN26dc29VqxYobtNlMQJJ5xghpA4kSzZunCCDxQhEoDhbhIgARLwiQBFCJ/A87a5TUAdCy9EiC1btpixty1atDBjfGvXri3169eXVq1ayc0332xmw8DDHx48nVooQsSS/Pjjj01mekQ8DB48OCIjPNhv3LjR5OMYNGiQ3HvvvWYM9siRI01G+kwFCJSCIkSsLcK0R/sKihDBt1oQRAi0E8x2gaSOGlmFZJRIXIphDqksaHMzZ840+RsQPQEBFdfE/1e6UIRQEtySAAmQAAm4QYAihBtUec28J6COhRcihB+wKUL4QT3+PSlCxOcSlr3aV1CECL7FgiBCzJkzRxo3bmxFQBx55JEZT7uM2TE0Lw2SVI4aNcoSIihCBL89soQkQAIkEGYCFCHCbD2WPbAE1LGgCLHUhOb++OOPZpwy3vgjXBhc4HQpJzcNqffAPTEtHcqA5Jx4yEYWd4QkI5knwpvDuFCECKPVDpdZ2ydFiMNMgvrJTxEC7QO5E+wCBKLexowZk9IQjHhM0SdOnz5dWrZsaWaxwLAJ5HDAQhEiHjHuIwESIAEScIoARQinSPI6JGAjoI4FRQiKELZm4cpHihCuYPXsotpXUITwDHnGN/JThJg6dWrEdL7HH3+8YB/aTbbL+vXrBQ+DEGSvv/56czmKENlS5fkkQAIkQALJCFCESEaH35FAhgTUsaAIQREiwyaU8mkUIVJGFcgDta+gCBFI80QUyg8RAtFbmNK3WrVqRiRAHghM9YthGU4IEKgg2uCMGTMEiXNxHyw7duyQP//5z+aezz//fMQMGpiRA4IFphvWBREU2MfElEqEWxIgARIggWQEKEIko8PvSCBDAupYUISgCJFhE0r5NIoQKaMK5IHaV1CECKR5IgrltQiBRJOvvfaaVKlSxRIgmjZtKkuWLIkQBSIKmeEfy5YtM9M4V61a1Vxh3759JuExhIXbbrvNmllpz5490rx5c4oQGXLmaSRAAiRDKmZxAAAgAElEQVRAAn8QoAjBlkACLhBQx4IiBEUIF5pXxCUpQkTgCN0f2ldQhAi+6bwUIfbv3y89e/aU4sWLG4cfYsDVV18t69atyxoU2hxEh7Vr15pr4V7/+c9/zL3at29v9qE9Pvnkk2ZfrVq15PPPPxcM2+jVq5eZVpOREFmbgRcgARIggbwmQBEir83PyrtFQB0LihAUIdxqY3pdihBKIpxb7SsoQgTffl6JEEjk27VrVxOZAGe/VKlSctlll8nWrVsdgYS2ds0118iJJ54oV1xxhVxwwQVSsWJFadSokUybNs26x+LFi800nigDZuHA9xAk2rRpY4SRf/zjH9axHI5hoeAHEiABEiCBFAhQhEgBEg8hgXQJqGNBEYIiRLptJ93jKUKkSyxYx2tf4acIgRlr4HBiisZXX31V3n//fcdmi8G1KlSoYJxWONZhXrwQIX766Sfp0qWLFf0AAeDee++VnTt3OoYOba1fv37Stm1bOeWUU6RFixZy4403yuzZs2PugRk5IDogEWarVq3knXfeMTNotG7dWh588EHr+G+//Vawr1OnThFiyYoVKwQ5JPDdhg0brOMPHDhgjr3kkkvk008/tfa79QG/My4kQAIkQALBIUARIji2YElyiIA6FhQhKEK43awpQrhN2N3ra1/hhwhx6NAhM8MCEhDWqFFDypcvL6VLlzZv4Js1aybbtm3LuvJOiRDghOEAEEnuuusua920aVNMGSGqRB9nP6dbt24x56Syw20RYuPGjSYqoUSJEkaEqFSpkvTo0cNMb5xK+dI5Bv83Ib8Doi6QhBKiQDxHHe1y9+7dsmXLFiOEaDvdtWuXmepY74kEmtiHa+IYXXAfnI/v8FkX3AvHYj/aodtLvLq5fU9enwRIgARIIDEBihCJ2fAbEsiYAB54sFKEoAiRcSNK8USKECmCCuhh2leocweHDGP08ea7T58+1hvxvn37Ol6DoUOHmvB6vG2PXs855xwrGWE2N3ZChDh48KC8+eabcuaZZ4o66FrehQsXxhQP00vqzA56nH1btmzZmHNS2eGmCLF582aT80HLiXo+8cQTguSUXLInQBEie4a8AgmQAAk4SYAihJM0eS0S+B8BdSwoQlCEcPtHQRHCbcLuXl/7Ci9FCNzrrbfesmZdUMe3Zs2actJJJ8kJJ5xghgA4UfNsRQiE+WNGCExNqeW0b+OJEKtXr5bTTz897vE4N4gixNSpUy2BBXaA6ALxhYszBChCOMORVyEBEiABpwhQhHCKJK9DAjYC6lhQhKAIYWsWrnykCOEKVs8uqn2FlyIEwu+bNGliOemYgQH5Ab788kvBGH5MAakzJ2QLIlsR4sMPP7Sc85IlS1qfVYiIJ0IsWrRIGjRoYOqHiIKzzjpLWrZsaa2IkshkcTMSAryRHwHlRoSKfehCJmXlOZEEKEJE8uBfJEACJOA3AYoQfluA989JAupYJBMh8HYPibrCuCKBHeaThyOADOu9e/eW/v37y7BhwwROw5QpU2TOnDmydGk4RIjatWvLc889J++++27o1scff9x6o43kcZhWb8CAAcaRGT16tEyePFm+/vprYwtM74cx4BijjTBvjJ1HG4UDnO1Derbn52RHkEKltK/wUoR46aWXLAECv+GLLrpIfvjhhxRKm/4h2YoQyEuBXBUnn3yylUxRBQhs44kQs2bNsvonzOaAfAZOLG6KEPby8bdkp+HMZzJ1hiOvQgIkQAJOEaAI4RRJXocEbATUsUgmQiABXL169UK5Hn300VJYWJgzIgRCvRGiDWcnbGuZMmWsUHWKELYfYUg+al/hlQgB8QnTPaojjyiIcePGuUYrWxECBcPQBEQKgFHnzp2tsicSISZMmGD9Jo477riIRInZVJQiRDb0/D2XIoS//Hl3EiABEogmQBEimgj/JgEHCKhjkUyEUCcg7NtciIQIuw20/BQhHPjxenwJ7Su8EiFWrVplogq0zUAI3bp1q2u1dkKEsBcuFRECM2No/S644AL76Vl9pgiRFT5fT6YI4St+3pwESIAEYghQhIhBwh0kkD0BdSySiRAVKlSQ5s2bh3LFeHLNUp8LIkS1atXkxhtvlPvuuy906/XXX2+iN+B0UYTI/rfr9RW0r/BKhJg+fbqZjlOd9EsvvdRMlehWvf0QIR577DFLhEAeiWOPPVbat28vI0aMyKquFCHcaiXuX5cihPuMeQcSIAESSIcARYh0aPFYEkiRgDoWyUSIM844w7yBxFvIsK1jx44VOO5wZHJBhICosnz58hStG6zDmJgyWPZItzTaV3glQnz00UdSqlQpy0m/9dZbXZ2FwQ8R4vbbb7fqp2ILthhydeeddwoSc2ayUITIhFowzqEIEQw7sBQkQAIkoAQoQigJbknAQQLqWCQTIVq0aOHgHb291BdffGG9TaUI4S376LtRhIgmEq6/ta/wSoQYOXJkhIOeiyLEgw8+aGb7aN26tSAnhF2IQC6bp556KqNGQhEiI2yBOIkiRCDMwEKQAAmQgEWAIoSFgh9IwDkC6lhQhAjH7BiMhODsGM79+tO7kvYVXokQmNkGiVjVMb/lllvkwIED6RU6jaP9iITYu3ev7Ny500SYLViwQLp27SpI4Kp1Rh4MzAyT7kIRIl1iwTmeIkRwbMGSkAAJkAAIUIRgOyABFwioY0ERgiKEC80r4pKMhIjAEbo/tK/wSoTA9LlVqlSxHPIrrrhC4LS7tfghQkTXBTOC4GFHRQjkiZg9e3b0YUX+TRGiSESBPYAiRGBNw4KRAAnkKQGKEHlqeFbbXQLqWFCEoAjhbksToQjhNmF3r699hVcixNy5c6VOnTqWQ37CCSfIjz/+6FolgyBCoHL9+/e36oykuh9//HHadaYIkTaywJxAESIwpmBBSIAESMAQoAjBhkACLhBQx4IiBEUIF5pXxCUpQkTgCN0f2ld4JUJs3rxZmjVrZjnkxYsXl2nTprnGLSgixCuvvGLVGSLE1KlT064zRYi0kQXmBIoQgTEFC0ICJEAChgBFCDYEEnCBgDoWFCEoQrjQvCIuSREiAkfo/tC+wisRAvfr1q2b5ZBjiEKrVq1k/fr14oajFgQR4tChQ9KxY0erzuXKlZONGzem3VYoQqSNLDAnuNG2A1M5FoQESIAEQkiAIkQIjcYiB5+AOhYUIShCuN1aKUK4Tdjd62tf4ZUIgdogWSMccc2RgCk7L7zwQsGsNxiaAUFi9erVjlTcaxECCSlXrlxp8lwg4Sb+RhSETimMOp977rkZ1Y0iREbYAnESRYhAmIGFIAESIAGLAEUICwU/kIBzBNSxoAhBEcK5VhX/ShQh4nMJy17tK7wUITAzBKIhkKBRhYjo7V133eUIQq9FiPHjx0vlypWlfv360qZNG2ncuHFEHWvVqiUTJ07MqG4UITLCFoiTKEIEwgwsBAmQAAlYBChCWCj4gQScI6COBUUIihDOtar4V6IIEZ9LWPZqX+GlCAE2W7duNUMU7FNX2oWIq666yhGEXooQYNm3b19Bzgd7XfRz1apVpU+fPnLw4MGM6kYRIiNsgTiJIkQgzMBCkAAJkIBFgCKEhYIfSMA5AupYUISgCOFcq4p/JYoQ8bmEZa/2FV6LEOCzb98+GTRokElUiSEZ6qxje/nllzuC0EsRAgxfe+01OfnkkyOiPBAZ0a5dO/nkk08EfXKmC0WITMn5fx5FCP9twBKQAAmQgJ0ARQg7DX4mAYcIqGNBEYIihENNKuFlKEIkRBOKL7Sv8EOEACDcF3kT1q5dK1OmTDEzZeAz9jmxOC1C7NixQzZt2mStGFpiX5CEcvv27eb7GTNmyDfffCNbtmwxgku2jihFCDvpcH3O1vbhqi1LSwIkQALBJ0ARIvg2YglDSEAdC4oQFCHcbr4UIdwm7O71ta/wS4Rwt3YiTosQbpc32fUpQiSjE+zvKEIE2z4sHQmQQP4RoAiRfzZnjT0goI6FnyKEvuFcunSpzJ8/X9atWyd4S+jEgiz6NWrUMOHbJ554ovTu3Vv69+8vw4YNkw8//NC8UZ0zZ47g3hs2bDAZ93fv3m3GYuPNJbigfMrJiTIluobeA/f89ddfTRn27t1r3pbWqVPH1KFJkyayfPnyRJcI9H6KEIE2T5GF0/ZJEaJIVL4fQBHCdxNkXAD8zriQAAmQAAkEhwBFiODYgiXJIQLqWPghQsCZWbVqlTz00EPSokULadiwodSrV09OOeUUuffeex2hTBFCBGIKwsKRaf+RRx6Rrl27yn/+8x9Bdn5Mc5hoQZvAFIhDhgyRe+65R55//nmBkJCpQEQRIhHpcOzXvoIiRPDtRREi+DZKVEKKEInIcD8JkAAJ+EOAIoQ/3HnXHCegjoXXIgTuN3bsWDM9nT3JnH7u2LGjI+QpQoi88cYbcvTRR0ck8wPnwsJCOeuss2TWrFkxrGGfkSNHynHHHRdxHqZKRDTJnj17Ys4pagdFiKIIBft77SsoQgTbTigdRYjg2yhRCSlCJCLD/SRAAiTgDwGKEP5w511znIA6Fl6LEKNHj5batWvHOLgVK1YUZL9/9tlnHSFPEULkxRdfjOCsQo9umzdvLqtXr47gPX36dDn++OPjnle2bFl54YUXIo5P5Q+KEKlQCu4x2ldQhAiujbRkFCGURPi2FCHCZzOWmARIILcJUITIbfuydj4RUMfCSxFi69atctJJJ1kObkFBgTRt2lQGDhwoo0aNksGDB8uyZcscIUIRQmTRokVG2Dn77LPNUIzrrrtOqlWrZvGHGAH29uXKK6+0vq9QoYJ06NAhIpoC+TWSDeWwX0s/U4RQEuHcal9BESL49qMIEXwbJSohRYhEZLifBEiABPwhQBHCH+68a44TUMfCKxEC93nyySfNUAB9E9+yZUuTs0AfvrRMTqCnCCEmyeXMmTNl//79VsLLcePGCYZWqA3gtOiCqAhEo+h3PXv2NEkyX375ZSlevLjZX7p0aTPMQ89JZUsRIhVKwT1Gf5cUIYJrIy0ZRQglEb6t/j8YvpKzxCRAAiSQmwQoQuSmXVkrnwmoY+GVCLFt2za58MILLQcXof3IDeHWQhEiPlnMvoFoBhUaGjVqZB2ISBREp+A7bMEQC2YROeKII6xz7r//fjN7iHViER8oQhQBKOBfa19BESLghmJOiOAbKEkJKUIkgcOvSIAESMAHAhQhfIDOW+Y+AXUsvBIhFixYIFWqVLEc2YsuukggTLi1UIRITPb000+37IAZSbDAwbzxxhut/ZgaFDOYYEGEhP2cyy67THbu3Gm+S+UfihCpUAruMdpXUIQIro20ZIyEUBLh21KECJ/NWGISIIHcJkARIrfty9r5REAdC69EiI8++shycPGm/bbbbkvrbXq6mChCxCe2a9cuqVq1qmWLa6+91hy4e/duufzyy639Z5xxhnz//ffmO4hFrVq1sr7DtKpbtmyJf4M4eylCxIESol3aV1CECL7RKEIE30aJSkgRIhEZ7icBEiABfwhQhPCHO++a4wTUsfBKhOjXr5/lxCLUH9M9urlQhIhPF9NvlihRwrIFhmBggagQLTRs3rzZfLd9+3a5+OKLrXMaNGgg69evj3+DOHspQsSBEqJd2ldQhAi+0ShCBN9GiUpIESIRGe4nARIgAX8IUITwhzvvmuME1LHwSoR44IEHLCe2sLDQsak4E5mJIkQsGcxq0bZtW8sO9evXt2YjWbt2rZmpRHNFINohkQhx7LHHCo5PdaEIkSqpYB6nfQVFiGDax14qihB2GuH6TBEiXPZiaUmABHKfAEWI3Lcxa+gDAXUsvBIhMNOCOrgUISINbrcFEkcePHhQ9u7dK4hAQG4GcGvSpIksX7488sQ0/xo+fLiUK1fOXA/RKEgweejQIXMVihBpwsyjw7V9FiVCNG/eXG655ZbQrUiYq9FB+J2FsQ5a5tq1a5vfN2a5wVCrZ599VgYNGiQjRowQzIwzY8YMmTdvnqxcudKIjOhj9u3bZ/oB9D2wsdo7WRPHMVycJUCmzvLk1UiABEggWwIUIbIlyPNJIA4BfdD0SoQYMGCAJULAAX7ooYfilMq5XYyEiGS5ePFiOf744y0bNGzYUJAfQpcffvhBzj//fOv7ZJEQJ598smzcuFFPLXLLSIgiEQX6AO0rihIhVGTktpj1O/KLBUWIQP+k4haOIkRcLNxJAiRAAr4RoAjhG3reOJcJqGPhlQjx/vvvRzyYd+zY0bzxd4sxRYjDZDGTRYcOHQQRKHCKqlevLu+9997hA0SMIHHppZdaNmrWrJls2rTJHINhHJjNRB0qiBVbt26NOD/ZHxQhktEJ/nfaVxQlQpQsWdJE2iDaJkwrHHZt24iICFPZo8uqv3GKEMH/XUWXkCJENBH+TQIkQAL+EqAI4S9/3j1HCahj4ZUIgRDgChUqWA/7p556qqxZs8Y1uhQh/kCL4RaPPvqoxR3OVt++fQWh19HLP//5T+u4unXrWlN0fvfddwJ7qaPWuXNn+fnnn6NPT/g3RYiEaELxhfYVRYkQmPFm4sSJoVt79eolZcqUMe0bM8SEsQ5a5j/96U+mHhQhQvHTiigkRYgIHPyDBEiABHwnQBHCdxOwALlIQB0Lr0QIhPufd955liOLN46YMQOOjRsLRQgxY7vffvttE/kAAQHM//a3v5l8E/GYv/rqq4KhMjgWb7W//PJLcxhEhCOOOMLsL168uDz11FNp2Y0iRDza4dmnfUVRIgTErTAuiNJSgbRr165hrIJVZiamtFCE7gNFiNCZjAUmARLIcQIUIXLcwKyePwTUsfBKhMCb98cff9waEgBHt0aNGjJ06FA5cOCAgYBjUB4nFooQYhJZHn300Zbwg7ekn3/+uSCyQVdEo2hUAz5rgj7Y584775RffvnFiA74G2ulSpVk1qxZaZmIIkRauAJ3sPYVFCECZ5qYAlGEiEESmh0UIUJjKhaUBEggTwhQhMgTQ7Oa3hJQx8IrEQK1Q24BJERUhxbb0qVLS4MGDaRly5bSuHFj+eCDDxwBke8iBFhfccUVEawRol2lSpWIFckqZ86caZijTbRv396KhoBtMFtA+fLlreugQ443lCOZ0ShCJKMT/O+0r6AIEXxbUYQIvo0SlZAiRCIy3E8CJEAC/hCgCOEPd941xwmoY+GlCAGkCH2uVauW5dTaBQl8xpRyTiz5LkJgCj7MYhHNN/rvatWqyfTp0y3kiHKwz6JhP/6YY44xkRTWwSl+oAiRIqiAHqZ9BUWIgBrIViyKEDYYIftIESJkBmNxSYAEcp4ARYicNzEr6AcBdSy8FiFQ17lz50rr1q2tcdh2R/eee+5xBAdFiMxECMCfM2eOYHYM5IWAbTBEo2nTphkJELgeRQhHmrRvF9G+giKEbyZI+cYUIVJGFbgDKUIEziQsEAmQQJ4ToAiR5w2A1XeHgDoWfogQuPe2bdvMG/gnn3xS7r77bunWrZu88sorsmjRIkcqnO8ixP79+2X27Nkybdq0pCs4YQpP+wJnc8OGDTJ58mR56aWXZMKECbJ27Vr7IWl9pgiRFq7AHax9BUWIwJkmpkAUIWKQhGYHRYjQmIoFJQESyBMCFCHyxNCsprcE1LHwQ4Twoqb5LkJ4wTjVe1CESJVUMI/TvoIiRDDtYy8VRQg7jXB9pggRLnuxtCRAArlPgCJE7tuYNfSBgDoWFCGWmrf+SOS4e/duOXjwoJkRAlzgdCknN02k98A9kfQRZdi7d69s375d6tSpY4ZEIEHk8uXL3SyGa9emCOEaWk8urO2TIoQnuLO6CUWIrPD5ejJ+Z1xIgARIgASCQ4AiRHBswZLkEAF1LChCUIRwu1lThHCbsLvX176CIoS7nJ24OkUIJyj6cw2KEP5w511JgARIIBEBihCJyHA/CWRBQB0LihAUIbJoRimdShEiJUyBPUj7CooQgTWRVTCKEBaK0H2gCBE6k7HAJEACOU6AIkSOG5jV84eAOhYUIShCuN0CKUK4Tdjd62tfQRHCXc5OXJ0ihBMU/bkGRQh/uPOuJEACJJCIAEWIRGS4nwSyIKCOBUUIihBZNKOUTqUIkRKmwB6kfQVFiMCayCoYRQgLReg+UIQInclYYBIggRwnQBEixw3M6vlDQB0LihAUIdxugRQh3Cbs7vW1rwiCCHHo0CHB9LPYOrW8//77UqFCBZMAtmvXrk5d1pfrUITwBbsjN6UI4QhGXoQESIAEHCNAEcIxlLwQCRwmoI4FRQiKEIdbhTufKEK4w9Wrq2pf4acIsXjxYunXr5/83//9n9xwww3yj3/8Q4YOHSoHDhzIGoOTIsSuXbtk9erVsm3bNjO7TiqFw4w469evl3379qVyeNJjKEIkxRPoLylCBNo8LBwJkEAeEqAIkYdGZ5XdJ6CORb6LEMuWLeMUnS43N4oQLgN2+fLaV/ghQmDq3IcffliOOOIIKVmypIlWKFasmNmefPLJsnPnzqxrn60IAQGhb9++cvHFF8uRRx4pNWrUMOU977zzZMiQIQJhIt6CKXifffZZwfS7NWvWlGOPPVauuuoqWbhwYcoCRvR1KUJEEwnP3xQhwmMrlpQESCA/CFCEyA87s5YeE1DHIl9EiKeeekoGDBggw4YNkzFjxsiUKVNk7ty5QhHC/YZXlAgBW3z99deydOlSWbduncDx3L17t/z888/yyy+/CNooHOBsH9KzPd99UsG8g/YVXosQaAO33367FBYWRogPKkLg4cCJJVsR4rnnnktYxuLFi8u///1v05btZd27d6/cd999gu+1Pro97bTTZM6cOfbDU/5MESJlVIE7kP1T4EzCApEACeQ5AYoQed4AWH13CKhjoSLEwYMHBQ/G06ZNk2OOOcY8GLdo0cKdm3tw1S+++MK8kcSDfaNGjSRahJg6dSpFCA/sgFtEixC9e/eWgQMHGkFo9OjRRhDCMRCE7CIEQu0pQnhkpCS30b7CSxECQxR69OghJUqUsJz0UqVKyYUXXijXX3+9XH311fLiiy8mKXXqX2UrQkyfPl1QtoKCAhMBUblyZavM6H/KlSsno0aNiijQoEGDIgSI8uXLRwgZrVq1EjBId6EIkS6x4BxPESI4tmBJSIAESAAEKEKwHZCACwTUscgXEaJPnz7G8R0+fLh89NFHoiLE8uXLzXCMn376Sfbs2SMQY6IdX7cfDu22gOOBMmB8OMK169SpYxwahGyjrGFcokUICEJwIGGLDz74wNhCRQiEtmskBEWIYFhb26eXIsSqVaukatWqljNfsWJFeeKJJ0zbQDnwG0GkhBNLtiIEfquXXXaZEdVmz54tn3/+uRFK7BEcyGOhC/qXpk2bWnVr3LixEeJuvPFGa1+ZMmXkq6++0lNS3lKESBlV4A50+/+ZwFWYBSIBEiCBgBOgCBFwA7F44SSgjkUyEaJBgwYyYsSIUK4YRw7HBW8i8ZCPsdd4+/jmm2/KuHHjTMTHN998Yxz777//XoIoQuzYscMSIWrVqiXdu3eXp59+OnQrZhyoVKmSsUW9evXkmWeekcGDBxtbYGjMZ599JnDe7IIQHEyKEMHoW7Sv8FKEQBSEDk/AtkuXLo4koYxHNFsRAteMnq0D/QnautYBfakuiDZD5IN+h34JC34DOksHoioeeOABPSXlLUWIlFEF7kCKEIEzCQtEAiSQ5wQoQuR5A2D13SGgjkUyEQJv8vCwHMYVbxL1IR9RBMis/8orr8g777wj48ePF4RQz5s3T1auXCkbN24MvAihdQn7tn79+vL888/Lq6++asQtCEKwBfJzwBYbNmywbEERwp3ffrpX1b7CKxECEUAXXHCB9fvFUIf58+enW+yUj3dChIh3Mwwd0d8rklXqguFIGiUB0QFDx7CsXbtWkGxTz0GSSkRnpbNQhEiHVrCOpQgRLHuwNCRAAiRAEYJtgARcIKCOhV2EQFgxnEE4ivognAtb5LZA+D+m9IPD8emnn8rMmTNlwYIFgrDvTZs2maEPyIkRhOEYeKsKWyAS4owzzsgpW5x55plWPoiRI0fKhAkTjBMGQQi2QFQKnFC1BYanoI3CAc72IT3b8134GYbiktpXeCVC4Hdp74PQZtAm3FrcEiFQbu0/TzrpJFN8/LYR1aH7ES2B6UexbN26VVq3bm19h34LAmk6C0WIdGgF61j2T8GyB0tDAiRAAhQh2AZIwAUC8RwLdXxff/11k5X+pptukk6dOkmHDh1MIri//vWv0qZNGzMVHd7yIXlay5Yt5fzzz49ZMT2dV2u8+6NceJt6ySWXmCn+XnvtNfPmHeH/yAeB2RiWLFkia9askR9++ME4/HbHV51eLx4M7baAww1HZf/+/Wb6QYgl9957r9htgTeksAU6RzgdYbEFyozhJIiCQEQKbDF58mQz9h3TEq5evdoIQhBfom2h9sjmp+CFLbMpX1DPtbdPiEL29olcK+pQY5pKJxb8PqtUqWJd99prrzWinBPXjncNN0QIDC1C9IOyufXWW82tEdnQvn17az9mwkC7x4KpPK+88krrOwgX3333XbwiJ9xHESIhmsB/wf4p8CZiAUmABPKMAEWIPDM4q+sNgUSOBR6E8UYOYfF4kP7222/Nm+pJkyaZJIJvv/22wKHHOGZMeYnQejgfyLmAFeP9/Vq1DCgPytW/f39TTji9b731lmAmBrx5nzFjhmg+CMzGgPqi3nD84WDB0VKn14sHQ7stVITA9JQo07Zt20x0wIoVK8zwkVmzZgls8eGHHxpRBdEdaosXXnghFLZAXg7YQofFIPoGghBsAUFo586dxulEVIraQu2Rza/DC1tmU76gnmtvn16IEGgb9qkr4cCjLbi1OC1C4DeMvkhn9sD23XffNcXH79ke7XD66acbIRRfIg9Ku3btLBHiqKOOEohz6SwUIdKhFaxj2T8Fyx4sDQmQAAlQhGAbIAEXCNgdCzw0I2M7HF+8qUNSNQxRwBs6hAojYTOAktoAACAASURBVBrG7cOBx9trPFDDqYcDDAcfuRaGDBkiL7/8skk4iKSDfqy4P1aUBULJsGHDTDlRXjjtcHqRFA710TfvCHfW2RhQf4gQ4KFOrxcPhvFsgXwI0baAoz5nzhxji4kTJxpbwIGCLVBX1Bl1D5ot0EbQViA+wBaYEQNtCbZARApsgaEYsAWcNNRbBSEnbeGFLV34qfp+SXv79EKEwDAdjSDANmwiBKIXTjzxRKsOiMjavHmzseOWLVvknHPOsb6jCOF78w5MAdg/BcYULAgJkAAJGAIUIdgQSMAFAnbHQkUIOL4Ig0c4PB6WMV0ikgUiKRycRUw9h7fwY8eONY4kHGA4lQitxywaiJLwe0U5UB6UC+WD+IDkh8gDAacX095hzPmyZcusN+8a/h8vEaIXD4bp2AIOO6azhCgEW3zyySemjqNGjQqkLWAP2AKOJcQHtB0IKGhLX375pYnugC2QlA9REJoPAoKQ01OlemFLF36qvl/S3j69ECEgdJYsWdJy1DF1JX6bbi1ORkIgYuOuu+4SzG4BAQURHWj/EDWxIOoKw9RUZEkmQtSuXVsWLVqUVrUZCZEWrkAdzP4pUOZgYUiABEjADHvGC8x0lmLpHIxjkQQLb+K4kEC+ELA7FnhAhsOHB2i8gUZYMJxBvL1DiDyGZeBhGG/h4TjCgZwyZYpx7PFGGz9QrHCI/V61LCgXhAeUE+XFMAZEQECAwNAGOL2on0ZBoN4a/g9RRvl40R70XtjCFnD04tkCohDKDiECQxhgC4gRGEMPQQLOvdbfbzvg/loWuy0gBCHPBdqSikGwBSJvEIGjw2JQf4oQXrS+ou+h7VPbpts5IfB7rV69uuWoI+cJ2oVbi1MiBPhAdNN8FpgBA8Mr0J/ogr4VOV1SESEgUOC3kc5CESIdWsE6Fr8zLiRAAiRAAsEhwEiI4NiCJckhAnbHwu5caDQExuUjNB7OIR6EERGBoRmIioADicgIOMFwKDHFnK7It+DXqmXAFuVC+VBOlBflhpCiAgTqhfrZoyD8yAehTcpuD4gQcMDVFnDAIJaoKKS2wIwSECPUFhBa7Az8sgPuay9HtC1QbrQl2AKJQTEMA2+I0eYwFAP1dsMWfMjX1pbeNrptui1CYNhRw4YNLUf9iCOOMHlR0it16kc7JUKg3Mcff7xV7mbNmpmIK3u7A7vbb7/dOgb1RCQQFvRH9mk9kTsCEWnpLBQh0qEVrGPt7SRYJWNpSIAESCA/CVCEyE+7s9YeELA7FzokAw/JCIXXYRnq/CJRJRxGRAwtXbrUOJF4I4+32XDwg7aiXCgfnF2UF+VGjgtEEyDsH/WCAAGnV3NBOP3mPV0Twh4QhGALjYaItgXKjmksYQuIEXBgUEcILKhv0OyA8thtgfKi3Cg/2hSEFRWDNBeEG1EQsAUf8tNtkX8cb+8nvBiOAdENM+9otAC2mLHHrcUJEQJigT3CoVKlSiYKK16Zn3rqKSvxJqImICJiQdTZqaeeatX7hhtuMGJcvGsk2kcRIhGZ4O9n/xR8G7GEJEAC+UWAIkR+2Zu19ZCA3bnQaAgdlqHOLxwCDM3Am2o4wIgggPOIB2ZESMCZxAoHPyirlgnlQzlRXpQb5YfDi/qgXhBadBgG6g0HCxyw+vFAiHvq/VUUgkMebQvUAXVBBAEEiTDYAjaJtgXalA7BgC1QTxUgom3hhD2cuIaHP8/A3ArctG16IULgXi+++KLljEOEQIQBhvi4YcNsRQgw6dKli5UHAsIChmXYh2HYjYkIrYoVK1r1GzhwoPkaQ6vKli1r9mMoBxLMprtQhEiXWHCOd6NtB6d2LAkJkAAJhI8ARYjw2YwlDhEBPPhghfOrb+DtQsS+fftMjgiEysN5RwQBnEe8+YMjjBVvs4O4omwoJ8qLcqP8GvKvTq899B/1Vx5+mFDvrfZQh0+FCNgC0QJ2W0CQCLottJ3EswXGyKNeKkDoMAzYQsUg8HBiceo6TpQlTNfQdgl7aJuEeId22KdPH8uZxtS4Ti3oT+rWrWtdG4kejznmGLn33nvNDDjPPfecSTjrxP2yESHABIJD6dKlrbKi3Hfeead0797dWnv27GkNu0Bbb9SokXU8PiNxa/v27a19FSpUMCJjuvWjCJEuseAcz/4pOLZgSUiABEgABChCsB2QgIsE1MHAFg/UWOEAQoiAQwgnHQ4HHEU47nCC4TgikgArHJGgrlpGlBflRvnV4VXxQSMg3HB6MzGb2kNtAadPbWEXI8JmC7QR2CPaFmhb0bbQuiuLTDjGOwfX45I+AbUD7OKVCIF7YUrXypUrW465fXgGPt9yyy3pVybOGdmIEIhEat68ecIyapnLlStnEsfq7TGdrkY96DG6xYwaPXr00EPT2lKESAtXoA5m/xQoc7AwJEACJEARgm2ABNwmYHcy8PAPh9wuRMD5haOIFW/x4DiqMAGnPsirlhXlxoo6oD4QWBIJEH4+DKZrC7VHkG2gZYtnC9ghni3QDpWFU+3fT7s6VQc/rqN28FKEQD3RtjEkAZEFOuWlOurYtm3b1hEc2YgQGOp15plnpi1CQIy7//77pVSpUhHnlihRwkREYKhVJgtFiEyoBeMc9k/BsANLQQIkQAJKgJEQSoJbEnCRgDoa2MLZsIsR+jYeTru+lVfnEVs49UFb7eVTJ1fLj/qo0GJ3doPyEKg2UJuoLVDuXLeF3R5ON/eg2Nfperl9PXs7RPvD7wmCkpvDMbRO+J0isWmvXr3k4osvlnr16kmDBg1M4spHH31UD8tqm40IgaFed9xxhykbypdoveyyy8wUwfaCgmO/fv0E36FeF1xwgTz22GMmb439uHQ+U4RIh1awjmX/FCx7sDQkQAIkQBGCbYAEPCKgzga2cAbtqzrtulWHOAxbLTO29jrpZ3u9PUJd5G3sZYq2h70++BwGG2gZ7WVX/vatvd5FQkrzAFybS/oE1CawE+zopQihpcV9MQQJeV2wYngVyuHEko0IASYQZFC2olbUIXrB+YgU0jrFOyb6nGR/U4RIRifY37F/CrZ9WDoSIIH8I0ARIv9szhr7TECdDvvW7iiG+bO9TvbPPiOPuT3KhsVeRv0cZv72smt9orcxMBzagftwSZ+A2ge280uESL/UqZ+RjQiR+l28OZIihDec3bgL+yc3qPKaJEACJJA5AYoQmbPjmSSQNQF1QHJtmzUYly8Q74E012xgr4/LOM3l4zH14r5hv4faiSJE8C1JESL4NkpUQvZPichwPwmQAAn4Q4AihD/ceVcSSEpAHZOwbJNWJoBfpvNAGhYbaDn9wp0OU7/KGMT7qt0oQgTROpFloggRySNMf7F/CpO1WFYSIIF8IEARIh+szDqSAAlEEOADaQQOR/4g08wwUoTIjJsfZ1GE8IO6M/dk/+QMR16FBEiABJwiQBHCKZK8DgmQQGgI8IHUeVORaWZMKUJkxs2PsyhC+EHdmXuyf3KGI69CAiRAAk4RoAjhFElehwRIIDQE+EDqvKnINDOmFCEy4+bHWRQh/KDuzD3ZPznDkVchARIgAacIUIRwiiSvQwIkEBoCfCB13lRkmhlTihCZcfPjLLsI0aFDB3n22Wdl0KBBMmLECBk3bpzMmDFD5s2bJytXrpTNmzebqUExRSimO8XMJ8j7ofZOVn7+lpLRyew7Ms2MG88iARIgAbcIUIRwiyyvSwIkEFgCfCB13jRkmhlTcMPKxJSZ8fPyLIoQXtJ29l7sn5zlyauRAAmQQLYEKEJkS5DnkwAJhI4AH0idNxmZZsYU3LBShMiMn5dnJRIh3nnnnYhIiFWrVjESwkvDpHAv9k8pQOIhJEACJOAhAYoQHsLmrUiABIJBgA+kztuBTDNjCm5YKUJkxs/Ls+wixHXXXSd9+/aVwYMHC0SIjz/+2AzHmD9/vlCE8NIqqd2L/VNqnHgUCZAACXhFgCKEV6R5HxIggcAQ4AOp86Yg08yYghvWeCLEM888I8WKFTMrHN4wLu+//75UqFDB1KFr165hrIJV5mgR4rnnnpOXX37ZEiG++OILgQjx3XffWZEQ+/fvZ04Ii6B/H9g/+ceedyYBEiCBeAQoQsSjwn0kQAI5TYAPpM6bl0wzYwpuWOOJEH369LFEiMcff1x27twZunXYsGFSvnx5U4/bbrstdOW3M2/durWpR6lSpaRjx47ywgsvyJAhQ+S9996TTz75RChCZPYb8OIs9k9eUOY9SIAESCB1AhQhUmfFI0mABHKEAB9InTckmWbGFNywxhMh7JEQjRo1kjZt2oRubdq0qRQvXtw473Xr1g1d+e3Mq1evbokQnTp1kv79+8urr74qiPaYMGGCzJo1SxYuXGgiIX744QfZsWOHMBIis9+F02exf3KaKK9HAiRAAtkRoAiRHT+eTQIkEEICfCB13mhkmhlTcMMaLULs2rXLOLk6HIPbP4alBIEDIiE6d+4sL730kgwfPlw++OADmTRpknz11VeyaNEiWb16tWzZsoUiRGY/CVfOYv/kClZelARIgAQyJkARImN0PJEESCCsBPhA6rzlyDQzpuCGFSLEb7/9ZvIH/PzzzwIRYurUqdKwYUOpVKmSVKxY0eRWwNAGrOXKlZOyZctaa5kyZYSrNwwQ0fHQQw+ZKIgRI0aYmTE+++wzmT17tixZskTWrl0rW7duNUNPNBICtoWN1d7JWgt/S8noZPYdmWbGjWeRAAmQgFsEKEK4RZbXJQESCCwBPpA6bxoyzZwp2KkI8csvvwhEiD179siPP/4oK1eulClTphhHF7kHhg4dat7AI1Hlk08+KY888oj06tVLevToIf/617/M2q1bN+HqHIPu3bvL/fffbxiD9fPPP28SUr755psyatQomThxopkZ49tvv5Xly5fL+vXrZdu2bbJ7925jy0OHDhmBiSJE5r+RbM9k/5QtQZ5PAiRAAs4SoAjhLE9ejQRIIAQE+EDqvJHINHOm0SLEgQMHjAixfft2QW6BNWvWmDfseNP++eefy/jx42X06NHy9ttvG1ECyRExNGDgwIFmCEe/fv2Eq3MMkPsBbMEYs2G8/vrr8tZbbxkBAlNzTps2Tf7f//t/1lCMTZs2yU8//WRsCFtCWGIkROa/DyfOZP/kBEVegwRIgAScI0ARwjmWvBIJkEBICPCB1HlDkWnmTKNFiIMHD8q+fftMOD/C+vFmfcWKFWb6R+QdQOg/hIgxY8bIyJEjjRjxxhtvCGaiQKTEa6+9xtVBBhAdwBX5HyA+ICIFeSAwIwaiVL788ktBFMSyZcuMrZAPArNq7N27V2BLihCZ/zacOpP9k1MkeR0SIAEScIYARQhnOPIqJEACISLAB1LnjUWmmTMFO6wI1//1119NXgjkEkA4P6Ih8GYdeQbg5M6fP1++/vprE/4PBxhixLhx44wgAccYK6IkuDrHAEw//PBDw3js2LGGORJRTp8+3SSjnDdvnixdutQkpIStMIwGtoMNKUJk/rtw8kz2T07S5LVIgARIIHsCFCGyZ8grkAAJhIwAH0idNxiZZs4U7LDaRQiE8eNNOt6oIxpi48aNxslVIWLOnDnGAZ4xY4YZDgBBYvLkyWaWBjjIn376KVeHGIAn2IIxolDAHNEPsIEKEN999518//33xlaYmhO2Q24P5IOAsGTPB1HUb6Wo7zNvafl7Jpnmr+1ZcxIggWASoAgRTLuwVCRAAi4S4AOp83DJNDum4AdHFbkD4LTiDbomqIRTi0SHECIQEbFq1SoTFYHpIBEZ8c033xiHGDkjdEWOAq7OMFCmEB3AGsLDwoULTfQDEofCJipAIHIlmygItCL+lrL7LcU7m0zjUeE+EiABEvCPAEUI/9jzziRAAj4R4AOp8+DJNDum4AcRQoUI5BFANIQOy1AhYvPmzbJhwwbj+OLtO5xgzMiA4QBYMUUkV3cYgC9YgznYQ3xAvg7YBNEqECAwtSryecB2GgUBYQn21bWolsLfUlGE0v+eTNNnxjNIgARIwE0CFCHcpMtrkwAJBJIAH0idNwuZZscU/HSFEKG5IeDMwqnFlJ0YmgFHFw4vZs1A/gG8gYcoAWd43bp1ESucZK6ZM4jmCcZgDeaISoENYAvMhAGRCBEQ0QKECktq21RaCX9LqVBK7xgyTY8XjyYBEiABtwlQhHCbMK9PAiQQOAJ8IHXeJGSaHVPw01WjIVSI0KEZKkbgbTucXggScICRCBHDNXSFY8zVOQbKFVuwxgr2sAFsAYFIc0DAVvYICNhS7ZrqbyTV47Jrcfl1Npnml71ZWxIggeAToAgRfBuxhCRAAg4T4AOpw0A5jt0RoGiXWPXtOcL4sWJoBhxbFSMwRAOCBBxfOMBY8Raeq/sMlDfYwwawBXJ36PAL2AriEeyWiQCBhsT+yZGfU8RFyDQCB/8gARIgAd8JUITw3QQsAAmQgNcE+EDqPHEyzZ4pGNpXuxgBx9YuRkCQgOOLFU4wV28YKHNsYQOssItdfFABwi5CpNM6+FtKh1Zqx5Jpapx4FAmQAAl4RYAihFekeR8SIIHAEOADqfOmIFPnmIKlfYUzq1ERECNUkFDnl9s/RAA/OKg91D4qHNntl27L4G8pXWJFH0+mRTPiESRAAiTgJQGKEF7S5r1IgAQCQYAPpM6bgUydZQqe9lWd2+itOr/c/jF0xSsO0XbQv+02y/Q3kel5zrbA3LoameaWPVkbEiCB8BOgCBF+G7IGJEACaRLgA2mawFI4nExTgJTmIWCaaFWnl9s/pjX1k0MiG6Vpbutw/pYsFI59IFPHUPJCJEACJOAIAYoQjmDkRUiABMJEgA+kzluLTJ1nar8i+HINNgO7vbL5zN9SNvTin0um8blwLwmQAAn4RYAihF/keV8SIAHfCPCB1Hn0ZOo801SuCO5cvWeQim0yPYa/pUzJJT6PTBOz4TckQAIk4AcBihB+UOc9SYAEfCXAB1Ln8ZOp80x5xfwkwN+S83YnU+eZ8ookQAIkkA0BihDZ0OO5JEACJEACJEACJEACJEACJEACJEACKROgCJEyKh5IAiRAAiRAAiRAAiRAAiRAAiRAAiSQDQGKENnQ47kkQAIkQAIkQAIkQAIkQAIkQAIkQAIpE6AIkTIqHkgCJEACJEACJEACJEACJEACJEACJJANAYoQ2dDjuSRAAiRAAiRAAiRAAiRAAiRAAiRAAikToAiRMioeSAIkQAIkQAIkQAIkQAIkQAIkQAIkkA0BihDZ0OO5JEACJEACJEACJEACJEACJEACJEACKROgCJEyKh5IAiRAAiRAAiRAAiRAAiRAAiRAAiSQDQGKENnQ47kkQAIkQAIkQAIkQAIkQAIkQAIkQAIpE6AIkTIqHkgCJEACJEACJEACJEACJEACJEACJJANAYoQ2dDjuSRAAiRAAiRAAiRAAiRAAiRAAiRAAikToAiRMioeSAIkQAIkQAIkQAIkQAIkQAIkQAIkkA0BihDZ0OO5JEACJEACJEACJEACJEACJEACJEACKROgCJEyKh5IAiRAAiRAAiRAAiRAAiRAAiRAAiSQDQGKENnQ47kkQAIkQAIkQAIkQAIkQAIkQAIkQAIpE/BMhFi8eLEcOHCAKxmwDbANsA2wDbANsA2wDbANsA2wDbANsA2wDeRpG7jkkktk/PjxKYsWOLBYWkeLyGmnnSalS5eWMmXKcCUDtgG2AbYBtgG2AbYBtgG2AbYBtgG2AbYBtoE8bQNVqlSRTz/9NC1ZIW0RIq2r82ASIAESIAESIAESIAESIAESIAESIAES+B8BihBsCiRAAiRAAiRAAiRAAiRAAiRAAiRAAp4QoAjhCWbehARIgARIgARIgARIgARIgARIgARIgCIE2wAJkAAJkAAJkAAJkAAJkAAJkAAJkIAnBChCeIKZNyEBEiABEiABEiABEiABEiABEiABEqAIwTZAAiRAAiRAAiRAAiRAAiRAAiRAAiTgCQGKEJ5g5k1IgARIgARIgARIgARIgARIgARIgAQoQrANkAAJkAAJkAAJkAAJkAAJkAAJkAAJeEKAIoQnmHkTEiABEiABEiABEiABEiABEiABEiABihBsAyRAAiRAAiRAAiRAAiRAAiRAAiRAAp4QoAjhCWbehARIgARIgARIgARIgARIgARIgARIgCIE2wAJkAAJkAAJkAAJkAAJkAAJkAAJkIAnBChCeIKZNyEBEiABEiABEiABEiABEiABEiABEqAIwTYQagK/7Vgun42cIEsOxKnGbztk+WcjZULcL+Mcz115SOB32fPdDBk99BV5c/Jy2ZOHBFhlEiABEiABEiABEiABEvCSAEUIL2nzXg4Q+E1Wjesr/7n7JmnXsrHULFMgBRXbyVv/8x5/WzVO+v7nbrmpXUtpXLOMFBRUlHb6pQN35yVyh8BvW7+Q5zudLtVKFkixYsWkWEFFOfephblTQdaEBEiABEiABEiABEiABAJIICsR4vefpsnAHt2le/fU1/sffV+W/xZJ4rdda2T+gvWyN3I3/xKR336LglUUld8PyK6d+yXNs4q66uHvfz8gO7fvlUO/H97l2KdfF8pb//lXwvb071e+kn2yXxaNeVFeeLqnXHFCKSkoVkxKnvFfWfTrH6XYv2iMvPjC09LzihOkVEExKVbyDPmvfulYQXPwQr/tkjXzF8j6PPkRHlw+XDo1aiDt+n0pK5Z+JgM7nyQViteSK15bl4PGZZVIwGECedZfOEyPlyMBEiABEiCBvCeQnQixbbaMHPiE3Ht5I6kAh69YMSmscpq0u+M+y5Hsdt890vXWjnLJSdWkREExKXnqgzL3fw4j6P/+00dyW4PSUlBYTa4YujnvDQIAB7YskPEvPyidLzpZ/vxEKm9mD8r6KX3l5tZNpHaVilKudEkpe9QZcu3jk2STE2rE7ztlwYhecn3r0+W4KqWkoKBASlZpIC1v6ivTNjtxg/+Z/cAKmfjqC/LfOy+VhuX/93a6WKFUa9pBuj85UN6eudEmrhyQMX+vKYXFCuXoWz6Rg1Et58CYv0vNwmJSePQt8kn0l1HH5v2fv/8kH93WQEoXFEq1K4bKZjcEpiBB3jlV7jmprNS86o3Ddf19l3y3aA2HYwTJTixLMAnkW38RTCuwVCRAAiRAAiQQagJZiRBWzXe9LpeVhghRKEfeNE72W1/YPuz7TO5sUEJKXzJYttl2Hxx/q9QujlDoUnL2Uyts3+TXx9+3TZTHOlwkZ9SvJqUL/+eAF9aUv4+JS/MwnN+3yMTuZ0mVElXkrDvflLmbD8jv+5fLm39rICULysop930muw4fnf6nX1fL2zc2lvIFBVKifC2pU/cIqajh68UKpEzjO+STbU57rXvljSvLmSiHwipt5OX1ca7/22J59MySUqygjPxl0A8SecRvsvjRM6UkyveXQfJD5JfpM8jqjN9l2xcvyeszi7BjVvdI4eTft8kXL70ucYtxcLzcWru4FCtWIKXOfkpWOKgrpVAyjw/ZLzPuayQlix8lN43d5/G9eTsSCAeB37d9IS+9PjP+/+V51V+Ew14sJQmQAAmQAAmEjYAjIsRvq56Wc0pCSCgtFw7YFOUQKpJ9MvqGmlI76q3179unykNtm8m57Z+QaY47s3rvEGz3rJbZ06fJ1AnvykN/OUKKY4x6qZby3NpkHvQemfFgM6lcWEoa3zVFdtiq+fvmIdK2YoEUlG4mjy+2hZ7Yjin64x758qHmUr3uxfLvdxfI9v9d5uDGafL0ZceYyJZiBSXltAfnSqZ3iFuG39fJcy1LGae4zIUDZEM8BDuGy5UVC6RYyZOl5+zou++Q4VdWlIJiJeXknrP/f3vXARTF9f9v9+4ognBoRAHFXlAkIkaNmihYgxV7ixqxG/Ufo2kmWKJoEiv+sDfsKHaNjgWNiqIy2EBx7A6iMIIOyHA3dzuf/7zdK3u3e0jRSPQ547C7t/vK57333f1+3/f7+b7dtsk22N7FfKRuHAY/98b45YptG+098w6u56di4zA/uDf+BbLN4LJxKiIUzVv3xbzTWXbW7zto13soknu6AT08WLAe/bCjVNa599B4WiVF4F9AID91I4b5uaPxL1fkZedHJC/+BbhpFRQBigBFgCJAEfgoEXgrRoj8fV/jE1YBhaou/u+szg6QOlyY1hgtZt+U/7Cx89THd1mPqxFNoFYooKz5LeILCSXIOzMVjRwYqGqPw7GXNkgZbiOyhRoKhRqBEddsfizKKYencSPg5z8COx9IFWguawf6e7J8CI66ZaSE56MoNdi9x7zTpkKD6RcgN6O08d+iplIBtuJgxNluaGvj8W1NJRRsRQyW/Gi31rf+g/b0ZNRWMXxIyGG57B1vvUa5ArU4Pbk2VAwJWzmM99YMuab969c4PInuyHv1OLRdgkdyxq1/vU0fboWvrm9HzKkP26j1wY2e9jQm11aBYb0R/v6E1gcHK+0QRYAiQBGgCFAEKALWCLwFI4QeN2Y15ZVmxrUnYsTb8dZ1QZv1BM/y6Je/DSw2p3mIHaABq2BQrus6vLD51XyqT8bMIJL9wQmtFtwWcSWY7niJ9V0dBW+C0LWmi8X6m3ftIP6+bc8KkoVVnUj5CqjqTME/cpaCYtVmudmQNh8tec8aN4RtlduuNuDen635cAuHtoslyqTh3p9orVaAcWiLxe9N09TjWkQg30bX7hvsj6Ol2+/mSH8NEYEkbMUV3TfYnU3vpu6yViqXibWhLmAUKtSZ8o+scausNfm/2R4tbm0aBr/yn2DIHlsL4X+zRx9Lq/XXIhBIZKdrd3zs4uJjGXPaT4oARYAiQBGgCLwPBN6CEeIVtoQR13cF1E0icE26aV54v/Lv4+SGaOxNsb9Hq81IxsH1C/H77EhEbTqMa1miSl4/wo00sXKlx7PE7Vi8eB/SRLeJG8HlPcDpmI04mS41iBQ8PIW1S7biiln31SEjcTuiomJxNVt6PylXl30XCfvXPdHMhgAAIABJREFUY2HkX1h39HbpsnzoL+Nnf8GDofEMO+6wAF4d+Ibn0mBcv8JqWSbB14jpKRgJ1E1nirv/lo4tRghxdoq3UXhe7ABojJktZt2QG8Q87Oyv4ZXJuv93VqJM5u3szz+vqvt/kHPM0T9LxPbFi7HP/gTBg9Mx2Hgy3X538u7jzLZlmPf7X9hw8r40dpp7iugOTnxISMv5aTJGIlJ0AR6eWoslW69YeDt0GUjcHoWo2KuwM90AaPEs+TA2R/+JObPnI2p9LI6cT0F6rpTMgXsajQ5OJGylJebbpqUx9y4f909uQPTelDd6Sugzb+DY9lX4c85sLFgZh8sZhVif8u/j1IZl2HbZvJjMNSI3DcfW/4X5K+Mhswwt973xSI/MG8ewfRXBYgFWxl2G3SYVHMI3VVgoGGeErhXLjDdWIr1B+wzJhzcj+s85mD0/Cutjj+B8SjpkhkD6rMyVYsm4goc4tXYJtlqEFHQZidgeFYXYq9ny4TT6TNw4th2rSHsXrETc5QzJuhE3qzRrhHuyHCHODBh1M0yN3YMNSyMx89dfETFvCdYfTMazQqaMuA2FHhcbfy0ykg9i/cLfMTsyCpsOX4P1a+QG0l5I5XtxxuVdvzuK0xZr7IoqLzg8je4AJ0Ig3XJ+Id5tRZUXxVibAPLvn8KGZdsgLy6OYf1f87EyPl1+flt3mJ5RBCgCFAGKAEWAIlDGESi9EUKXgGn1VTwpZcUhe6TKGAD9zU34KcqW5KoAd+N+QAdfZ15RaxJxVRqmkZuCXTN6oFF1PwT3HYxeQV5QMwyUFfwREtoRXzarDy/PAITvfMDDzGWdx+KBjeCuZKBwaIelMoSGuvO/IUijAqvpi+1i3YjLwaWoAfBzY8GwnhhxgBhFcpG0rAeq8USMLCr23Wa9o513C7t/DoWfb100buiD8oRQknHFp9NOWZTK4k6ArLUILcdAwXpg4C47u4jcM6zr5gaGEC+GREGmmwAysbIT4VVQQO3/c3Fb8eb7C45hTDVCZqhErUmnJdkp3lyAvTv0uPxzI96zhq30NfbJ8TnqEvA9mXOMO3pLPCV0SPi+PlQKBu69t1qPA5eF84sHopG7EozCAe2WPpZ+0OrO47cgDVSsBn2tJoipvXm4sWk8Wnk7QWkmENWg1bwkXqnTpS5H16rl4eLiDDX/OwOVkwtcXFzg4loJbWZf4gvici4haoAf3FgGrOcICNMtCct6VIOaGGDYiui7zUZR5nJwddsMhAVUhqZSNdSoWhHlVEYSU8ZZRNCpQ+ryrqha3gUuzmqwpDxGBSfSBhcXuFZqg9mXhLlVcDcOP3TwhTNRPJpE4KqczYdksck6j+Wjg+FXNxBt27dBo8pk3TJgNUGYctCWB4bD8zOR6FGbkIsq4Tv+pGh+vML1mIloVUXNGy4VylqYdNqet40Jc7m/HLLOL8foYD/UDWyL9m0aobIzWX8sNEFTcPCpSaF8ifNzOwhYuDgaeUwYqE1jUr4a+myUmQdyVRIccq5i24wwBFTWoFK1GqhasZxQpkIBxrkTVhaXBbVYMo5DzqUoDPBzA8uw8BxxgDca5SYtQ49qAp5sxb6wmjZkzi8fjWC/ughs2x5tGlXmx5phNQiachBmmEz9Le0aybuLwz+2hjurAKN0QoWqdeHnVxs+7iSrDpmHLFz9hmPLXTsTzdQOO39Lgn9uyi7M6NEI1f2C0XdwLwR5qcEwSlTwD0Foxy/RrL4XPAPCsfOByIhXnHF51++O4rRFjFtR5YUuFcu7VkV5Fxc4q1l+XTIqJ0FmubiiUpvZMIoLFE1eFHVtGhvLPceZyB6oTd57Sl+MPymSB6+uI2ZiK1QxkiEra01CicSFGBd6TBGgCFAEKAIUAYrAe0eg1EYI7vkqdCI7rQo1Wv91X7rjy2Vgx8Bq8JuWYNl50z/C3knNUKViBbgQLgnGBd03ZFuBwWUcxuTA8nBqMBr7TXkmdbexKFjwumA9/BEa/hs2J+fwiuTr6yvRt15V+NUTSB3ZT4Zir0SBNeDW3Oa8i7xju6UW5d3wGHvGBaCily+qkL4ovRF+JB9Pdw9DTbUSSmLUYFSoOe6Y2csh79pK9K9XCZ+O3oE0vp4C3JzfBuUY4sraE5sKCUux6qjNifbkePiSbCHqz7HgruijWHxf1ib0chcw/2zuLSnm5F7DLcz9jHhUKKBuESl++i0cc3gROwhViKLh0hoLUu20s0Q1ZWHNV0TBVUD9xUKI9QJTcdyTKAQ7kt39Foi8bVM39wRRwY68YatFpChM5fV1rOxbD1X96qEywZf9BEOlEwSGW3PRnLgjO8oZsfKQGBmM6s2n4egTLfQ5N7Fj8mfQsAzce8WAzGBdejLiT57EsaW94a1UgHHriMjTiUi6loLb9zL4nXLD4z0YF1ARXr5V+F1HJUkjmv8Uu4fVhFqphJLMIVVNjDuWZ+oyDBknMSe0BioHjcG6i8/Ma0n3cClCeE+HIMy+aVLsdEhPjsfJk8ewtLc3lAoGbh0jcToxCddSbuNeRi4M0OPR3kloVqUiKrgQbg8GLt038H0wV8ofcHh+ei661nBFjbDluGLkHuGyz2FGC1d+nJTeQxFnXr5a3N44CPU8feDtRsoVkYNq72DHmEB41/sK474NRQ0VGYcqGHnIvheUdVuMZ9xznJ7bFTVcayBs+RUITeKQfW4GWriSdaGE99A4Y1/y8OASweIk9k1vAQeCrXMr/LDnJBKupuHJi3z59SOp2ICMk3MQWqMygsasw0Xzdr4OD5eGCLvHQbNhHgLJ89ILxZNxBjzeMw4BFb3gW4V42Cj51LT5T3djWE01lEpiWGOgqjkOpmnDPT+NuV1rwLVGGJZbBg7nZrQQUiorvTHUMnBAadaILh3xi4YhyMcHVT3J+mPhOWy/xSitfYLTf3RHNd5oxkLTdY084awUJuOVkuDPIePwZASWd0KD0fvN6Yp1txchmJDaKlh4+Ici/LfNSM4xGa2AYo3LO353FKstIuyKJS906UiOP4mTx5ait7cSCsYNHSNPIzHpGlJu30MG795TRHlRrLVJnLpuY+OgevD08YYb+RYQEQ1r7+zAmEBv1PtqHL4NrQEVSQFeZSSKKy5EsNBDigBFgCJAEaAIUATKCAKlNkJoj49FNT7FpiuajZyL+fPnC/8j5+H3mT9hXPeGcFe6iXasDXi4YjC6fL8LqTf/4GP3FermmCdWJg1piOrgAVZVC+OOid0VgKzVXQTFrepYHDdtmBhu4Y+wrxBx/AnuL24LB5JqUIYrALBkTbAwf3PIWNcPzQZGIynzlEBoqG6FyFOr0N23McbGPcCrR0exdF4MruYKo6a/sw69fNTw7LoK4g093T9TUEelAKvpj53Ge4s3zgbc/6uNQErpMxpHTf2zKSRv9yBUIB9sSh+MtneT9ihGG9MuOpWQE8KmWstp7hl819ABDOuGVnOT3ujCb3mwCEfak5hQXfCw8B13QrSDbnmWEKFWYhVQiueA6ef8ffi6EguFsirGWiYIbv0Rhq8ijuPJ/cVo62CfLyInphfKE68AmUwS+iu/oYmjA9oufmTxoOBycHFTNA4/NBkASEM4PFkWzCu8ErdmLgPr+jXDwOgkZJ4SyDXVrSJxalV3+DYei7gHr/Do6FLMi7kK0xTi0vdidMNycGo4EUdtMsjoEr5HPZUCymqi9WDCgnuCZcEOsiEhhocrMLjL99iVehN/tBbCf5rPExltjGXkXZyFzzUsHBpMwgkb8tNX+4bzhhbikRK21WgKeLoWg9p9i7i7t/EnKZdxR9/tuUD+dfyve03U7hWF5FyAexaNDg5E6WiCiGLFcOXh4qzPoWEd0GDSCaMBwtThV9g3nBhdFGDcw2BskvFHHS5Mb8ArMqqGPyKxWCEBHNL3jkbDck5oOPEorIeAeN7Ug0qhRLWxx2Xnq6l1Vn+LKeO4jHXo12wgopMycerbmlAq1GgVeQqruvui8dg4PHj1CEeXzkOMSUjlXcSszzVgHRpgknTgMJwom8RbKGyrsVmGUq0R7ukuRExfi/NPHmB5e8JV44DgZU8s64TUwj3F6q8EIzJTvhdibOaTFT5WJyXD35AWhQ4eLFS1xsH6NZKF1V0EQ05V2zEr1ri843dHsdpiAayk8oJ7sgzBDvKhW0WTF8Vdmxyerh2Edt/G4e5tI4+Pe18I4uJ/6F6zNnpFJSMXHJ5Fd4BDSUM+LdDQI4oARYAiQBGgCFAEyggCpTRCWJRmRl0F/l+2Rdu2wv8vv2iFz/yrwY3sfKmb4XeZ3fKX2/oYY/e/wzmRUpCzaxA8WQXUgVKOiYIDw/nfWI/BiBNvoPIbWXnYPagCWIUKfj8kmneLzVhrT2C8r5JX3sOPiB7W6/hQEC5zNbo4M1D69MH4Pn5ovyhFWoY+FYvauYN1DMIsK+XpNRJ+8IeacUbjaf+YPSbMdRfp4DXiBlfkSSmdOq6AvGe3JVyBceyAaPmbwGVEowPxFlCoQHgT3to/LhOHxtSDA+OA2l/vwCMbR4TS1mN4sBBf8KSUTui86rm1EsMXrkfSjADem6Vc6Fpk2VSoT5qBAOLJUC4Ua61+FHY6TQYcld8PMoqoFifG+0KpUPKpZEUzhLiWIPX3ZlCT34bGQSZ8XNSSfOwd+glYEoogY0jR64jBgkPm6i5wZpTw6TMeffzaY1GKaBGYStOnYml7D7Dqepgcb/GMEH7m8GhJWzgwDFy7b5R6MeTvxdBPiEHGF+NO2LFovdyGPhqGz2zznXgRkgpen8N0f0cwSh+M2C/VGLnnKwRDgkKNxjOSjC3mwBGo83ZjUAUWjENr/HnrJlb1rIuAUbtgSrSiPSF4/LAVh6A43IWvz02HvyNZoyMgbRKH5ysEZUWhbowZSWLDUA42dCfhIQxce222MV6YwJb/q09divYeLNT1JkM6BI+wpC0JNXBF941mdxD5gkRXiy/j9BCmTSZWd3Hmx6TP+D7wa78I0mnzGuem+8ORzK0R+6V95Z5jRQdjqFbjGaJWlXaNkMD+AxhOsuao6mHqedv5rMeNmQKJsULdGn/eK5rwKBn+Odg1yBOsMTuQeCYQLpYDw8lvLDwGx1kZUYs9Lu/w3VHstpCRLIW8yN87lM9ypfQdB3viAoXIixKtTY7jZbwglxk4tP4Tt26uQs+6ARi164ExRNMkl1mQkE87QYqieUwPKQIUAYoARYAiQBEo6wiU0ghhUrYUkFfq9Ehb0ApOVb6RcaHU4sQ4ovCxqDR0r+jD4gU2hxHSQdtYcgHK3M294MLYqU/3D59eTMFWwtcyZAKGlDloxjN/94CcvqA9MY4PhWAreKJWyCKkWn+58opjFh+GwMC5Q7SFUE/3GMdmdYSPY0U0n7IPjyXPFXEa6JPx66dkV1qF+tPkU1MCL7GRV6YUUPqMwt92dEvt0dE8cSUf6iLX2SI2yfq2fFxb3BGVlE6oO2Qz7tjqGNY3l+jM9CGsUDXA9AsyFXBGJUyhhpRHxKTY2+M30OEfkq6SzLmv91lcxU0tNaRgTjMhk0QPCWYcHi8NhiMfKuGDrkuSzJ4KpsfNf/VX8EtjUo4Luq234XUw32SZ/xU8ayFkUaqUEwUGPFodCg+WgVvnFZbwIXMZOdgS5s57OgTJpL7VX/kFjcl8d+kGe80wz/lKQ7HX6uvegIfRHeFG1podgk/kbkR3R4UwX79PMLeKHOjOT+U9NFT1RmH+t4Go12eDyGvIZNBh4Biy3LKOrEqQOTE8RHRHwoUiGNZkZgdyN3aHo4KkC66P7xNEd+guYHoDwl2jRsCMJBmsZeojlwyPsDrUAyzjhs4rZLgjcrYgjIRGqcXhMHbKMl8uhYzTnsA4YkhlK8CzVggWSYUUDA+j0dFNMCzJp0zOxcbuxsw29b83t0o4KM0aAfTJv+JTMufc+1hz7vCFk3C4z4RMSo5fYW1RbDYlxf/FZoQR45otxwDfjlxs7iVkSbE2Vpd8XMzr6K29O0rSltLICz2u/NKYN+66dFtvzX0kmiHmftrKi9KsTehwfirxJlKh3qj5+DawHvpsuGtZo4ZU/M7LZUeELKfElKLhoIcUAYoARYAiQBH4zyJQOiOE/jpmNiVKMwM3WxJAIyQF+76GT0iUVNEwpw4shy6rRTveugtGoks1mv2eahOvrcUZokQyajT6UerpYLg9Dy3IB7AsQVw+En5oLLjIy8Zum9I+KsA4BWFmskiBMQ0v9wTRHUkcPGlbCvKfJ2PPoonoXL8q6ncaj2Xx6VLPCdOzRfmbvQHdXAj/hDh8xeZBw10s+NzI9SDbD3K/ifuCcBt8iUUmYoWXJ7Fg5DB8/fXXkv/Dp22BOCLGplaiVuLOxv6o4aBB0OT9eFy0TUxpMYVeIWktmwhKilsYJJyT5Fnt3xhFwkxYTwzfb0v6ocXfo3x4w5bncFE8uqlOw23Ma0GMA2ISR9OPQH7CD2jMuyPLK5Rc1j6MqK4SCBVZdzQZvRW3rd0l+MIIT0pnQpKoDkTEdTsWKcM9IVyBkIsGzYTcdIP2PE/ASUgEwzbLGDNe7sUwL4JFZXxz0LYhHJ6v6iwQTgZGQL4ZljSi5bqsxnNhI1wAxHAb8z8noRzEK+Rvq91iE2Lc0+UIISEVJDTgj7umy/z8I2FFxENDWaESanwxG4lWThxZWNeVKIHFMwgYbs/H52R8lD4I/9u2v6R6Dk+Xh/Bu2wp1K/wh5lTJ2YDuhPiO0aDfDqvGiNotPdSe/x71VYSAMwzyQzAMXkoF2MrfQDIE0uKEK6WRccb0swrGCUEzk2XkjQG353/OyzmlTzjkYXqK5SFGT4hWf1i3slRrRGQEbBkpk11Bi1MTa/DhMqp61t5v1o2wnJUUf92FaahPOEfkvPC0Z3hjNaNuhB/FcTklHpd38O4oSVtKIy+451jVWSCJDoy4bjEAWIaCuFmY0w7byotSrU3DffzVhngTKVGhUg18MTvR2pMwax26kveiOsDGu8mqcfSEIkARoAhQBCgCFIH/EAKlM0K83IwwnuBLjaBZN2Q/XLhXj5D68KXErZ5LX472PKFec8y7JdJodecxtR7ZsVShga03QPY+DK+qhNK7H7Y+EWtMAuJZ67ryXhIkjMNW6cpL+BmBRDE0ErpJHQhyjWkflfAyk9rZjGTWenQn/WXUqFy7HmrUb40+U5bgYKq0fzZPFulUe1rgCCAfznNSRJiIn9YnYQbZZVco4BC8TJ7cjUtHdAche4H6s99hioTJ3toHHoRLguwUW/1nUWX4fusPP3Gd0OHu5sGo41oNXRcm4qUUequ7S36Sg009BbJDddAsyGXnNHuzOIZguW1uR7Mng50dM/PHrIxxIC8BPwcKhJg8UaR0gvDdyk1cgPaVjYYIRgWvzouRbOVBAGiPhMObJYrpCPuKae5O9Od3ar2syQFF4BUcG8PzrTDOHbFCkoa1AJcjgoRMBw7BWCZZD1ocCffmXc4rjzgoa0QAly7E7yvUaD7PmuDUQjjrgOAo+d1Hk7cDMQqMOio2CrzE1t7EQ0MB1rM71ti63RccxkgvFgrWG+GHxc+JOi85JEaVTjwfjMIhGFG2Y8/fb9pRFbyExE0iSmkDXin9TDY0TFIdf6EAx8ZU44k9nTuugHQILiMiSFhndteiXMGlkHG5xvSzSi8xGaioEqJMdiJ8B0Q+yBh/ya3m+pXwGXVU9DCAUq0RLf4OJ5wcSki4FkgtJgOHQonqVhlTrJtgOSs5/ua5qWqAaTYeVdn7hqOqUgnvflut5acZl+K+e97Bu6MEbSmVvNAeQbg3WZOVMcKeNc2uvCjd2sTLrejNEy2z8Oy+BlJxMRJeRJ56h6PI4sIyiegRRYAiQBGgCFAEKAJlEIFSGSFMpHj2Mg0U1t/c2AG8Qix19X6BrX0IrwMDdcBPSDTpKK+vYUWYL9TuzTD9eKbEqAHk49A3Vfg4fJ/RR60I4rinezDSzxueHiy/Cy7LNWD66GMrYFCcjVZp7Ig23mQkaIQpJ57L7EIW1uM3/WaK73+D8qq/idlBRiNEx5XIlDEIcKbsGYwLgpfcM3uTcNrXyH31Cq8k/3PxWidTEN/k17i+sjdqVfwUY2Lvv+U+22CiO4spdYgByk64BICcTT154khVg2mw0S3Ij+hJjEQyigepKf/QN3xGD6Ut6Sf3FHtG+sHb04Ofd86dV1l7Bdg0syBtG0Z/6gaWGHIYRwRGCOk5hdv0uDk7iHdrduoQLU2BaCzLpCSxFQZBfrqZCA9J6NF0XLRxzHl5ZjqC3IS0jNI1xOfFFeYJ44QO0bYpNI2NyI3FALImVHVh67avOzMZtYnSzmgwcLetxwl5nsPjZcG8UYD1HII4MX+s9hQm1CAeGhp0WfnAPP+MtUJ/ZYYlTMSKt8N0h9xfneAFRUgnNQMh36THWBZMFHAWnkPirNKz5mzozmeuYWVDw+TqI8p6Ar43GkT9pl+0mfsvcWZ6ENz41IH2w0PkSy6pjDMZWVhUGBQnCmET1aITdvmJd5pm4G5pyBEZucfLEEwMwKwnhlgNXCnXiEk2MeUQak3IwjfQkDoPLRwZME7N8buchVHUDf6wNPi/2Io+FYi8VyPgp0SzEe71tRUI81XDvdl0HJcIzxKOyzt5dxS3LaWTF/qbsxFEvAidOiBakrfVODB25UXp1qb21ATUIN5Emi5YafLaM88FPa7MsISJFFlcmJ+nBxQBigBFgCJAEaAIlEUESmGE4PBsZUdhZ1LdGn/dt7NzL9trLeJ5hncWnwyVEk0VJM5GS43wAVmlxSBMGD8Y7etXRtU247E+WUqQx1ehS8SPDVVQMOXRc5Mo2Dg/CQva1UCb3+ZjCNl9VTfGL1ekLvLcw8X4knfF/wILJR9CQifyt/cRUtsVK/5bFgCZi/nYP6wSrwQ7iNOHSu7Mxvquwo69Q9sleCSxHXB4vKIT3062Un/sKJxBUVK61QUuG+d+D4G3T3vMPftCxvBjJCG0eqjkJ1y6MfWmQo0vFkqVV0CL+IkkMwALTf+dEs8NbfxE1OQ/Zvtjp8TjXofEHxtCpWBQvucmEYljPpIWtEONNr9h/hAvnsjOkjnFfl+47NP46TOB6V/dzOJtAmRjYw/izWGHHJUvksPDxV8KoUF20pCCe46VnUiqQwUc2v/Pahdef28Devu1QfiQT3ljR/leMZBkhM3eiB4kXaXKDz+IXc5FXTIZ1Ug6W1tyyIL9w3iSOgXrJe+tQDIddCH9V6HOpNNWyq5ZoSnXBautYjxI5RzSl4fw3Brq5vPeEAIkaiwKsH8YIftUgPWS3xHlnq5GF94IVQeTTosNJzpcmFafH3vCQWFPxxLXxrf0+Up04sldHdD+fxmi+a/HvQ294dcmHEMIhwtTHr1iJCNgW5zVeYlkHPcQi78Usp3Irw8ABfsxjJCRKlh4hR82K9+Wyjk8Xd1FMOTVmQQrmFDKNZK9Ed3JnFMH4NdkWxmbi5MT6vChdHXH/S2dr5YGmo+4UuFfgMTZLaEhaYTVVdBi0ASMH9we9StXRZvx62HvNVKScXlX745itaWU8iJ7Yw/+nSHP7SQMiX15UZq1aTHa2oZ48LUS74sQIeWyXPYe82ShBxQBigBFgCJAEaAI/KcQKIURQoujfPw9cX22n05SFg3RjpnAB5GHzEyx9wGHl9d2YFq7ynCo8hn6T45EzNlHVoqObbnco6VoRxQGcQxw7hUs6VYH/uF78DA5AoFqBdhPBDZ+7uUdpGVYDCe5O/rxH6zKWpNw2o4rfn5sf56oT6H0xsjDYiXH2BruBc4u+wN7HkssA7bNlZ7rryKiCfFwUKLmt6etPDmsb9Yj+VeSHUIBtf8vkNhTdFcxM4jE17rhy7/kyA6tS7N7ZkjHoe8+g3fDYYiRIz4Ah+f7RyGoxyobwkQ9dHa9KuzWxv9QcFDwVLCbzcHMo6BG6z+Jh4cej86cwk1+KCxx2erWf/IuvfpHZ3BK+BHgHmFpO+Fj1sI1kosrS7qhjn849jxMRkSgGsSrZwjRyLmXuJOWYWywHi+fZ0nmX/6J8aiuZODUfrnFrVsbj4lGL4ABsYIlhMu8hPOp4vmSix39NLzXTq1JdsZaf8PIt6KAY9f15gwHhvQDmBjUGEO33cCmMELSqEbTmSQU6jVuJV5DtnHqEYOMsLs4AEIzOGReOg9LM6Qf/3mZmebddZJ6tyqferc8em81JQu1jJ8ueSaCnBiwlcOwySoUhEPGik4CF0WzOZBGFZEMNiQDjBJC37XIynwlUvAtdVgfaXF8bFUh/Wb53pA2SYfkmUFwYlhUDttkGQ++kGys70YyYxDC1wQbjwbrWsRn+hsz0ZRkalE4out6k/HTgPQDExHUeCi23diEMEIAqW6KmWRn//UtJF4TGUDFhUmOiy/jkLsD/YhxVlkLk+wJKe1xjK0qpN8s33urlDxVl4yZQU5g2MoI22SbQrM0awQwZzz55GvY8gLnXZiBIGcWLk1/xjnpdJKgQy6UGn/uJa7tmIZ2lR1Q5bP+mBwZg7OPxOtQrtrij8u7e3cUoy2lkhfEuEu4OlhoBsQKxl0uE5fOp4pkXmHyohRrk8vAik7EqK5GszkpEq8pPstORdGc12Yh81UJ3q9yQ02vUQQoAhQBigBFgCLw3hAouRFCn4zf+EwOCpAdTTGtw5t6YyHu88fPZ64iZlQQAiceNytAwCtcWtQNvk4e6LdD7Odtv+SCwyN5V3uFYzdseAVoHx7ED22qodGIrbir45C1NpR3xyZ8ERdvbsOYZgEI32dy7jQxwjNw7SHeJbeuT3dxOvyIi7oxTWOW6FtI/zQef/b1R72ui3CpaE22KpzLWIGOPGeFA4KX2SgHVncC+ss/w1/NgCnXEdFWsfEG3F/ZBR4sC/dW85Bkx5hiU5z0NO8qVvStA03tPlhy7AqSkpKs/l9OOIatcwfB360Ceqy3uPobHm3HCL/yUDnXwtBthfdBWqmJnV1ADG7zAAAPuUlEQVQBhUM7LLVSbI13F+zFUPJBynph5P6HiJ8XinpNxuMgn6a0AHuHEuWWhdfI/XgYPw+h9Zpg/MFngoJLeAiqkB1iR3QTJggO/tAG1RqNwNa7OnBZaxFKiAsJmeTFm9g2phkCwvfxJIv31ofBx8ETXaJuWu0sF5yaiJpqbwzcaayD7PMTbw5C1siniMzHs38Woq9/AEbGWXCCKYsL44oeYq8dMSiGNES2NBGQzkGKHihI24IRAX7ou/om8o3kegqmHHquu4F909qgQedl/H28t0FUME/QqG48A0n5z/DPwr7wDxiJOJMbgIiIzv/nM7gaMwpBgRNx3GgL5DJWoTMhgyN4Dt1jNoLwTTTcwbIQDViHOvhG3C/+R4uRQTbu35SlgnFElxU3cGRGO9QP21AE7wQOGas685wvZPyH7jEZBQTQDHeWIUTDwqHON5Y+mvDUJQhkt6wHTIYh00+F/TWkRaIlb4RQI2hOCvQoQNqWEQjw64vVN/OhNYasMOV6Yt2NfZjWpgE6L0sprEjRb8WXcbp/hBAZxrUH7E0bcBlY1ZmQfhKPkaGwhsmAO8tCoGEdUOebOCnmJV4jpFsGpEW24D1zbD25dGlrEeajhmvAeOx7YjH8isCQPSw1/q8uYVE3Xzh59EMRXyMo/rvnXb47ijFHSiMvuHREBROiUiHVbv6zf7Cwrz8CRormSKHyohRrk6Ty5Y0M1TH+pPSFpbswnedyYRy7YMWNI5jRrj7CNjyVnS/0IkWAIkARoAhQBCgC/x0ESmaE4HKRsrq3kAKSfOxW7o7/3SzKbqYAjCnNl4JRwcnZA41HbrbKMsA9W4lOJGaZ5HFvPgVxd960ewW83txTCA1hXVGzaVP4arwQPOu0kTPBEi/LqF3gqqmDfqtFCqXhjjHjhH2CTb7l2nM8aSb5wCfx7o17/x9mzp6BSQO/RA03Dd+PNOl31JtnQ8Ej7Bvjx7vnE0LOuqP2I92GA8CqEO4pdgz0gZJxRMD0s8bYdwOeHp6Cpm4sXAIm4pCERc+qBLsnhvTDmN6yAljGlrxSeq6sNQEnzUNjwJ0Fn/MeGiQevXyf7SKjkt3qjD9wyLu1Fn1I1guCrao+JhzNlOyKcenLBAVfwcDRuRw0n45B7AOj2zeXjmX8hzTJCOKMchrCYWHKMw8yQdDTOKdcazZFU18NvIJn4bQxLtzMb8Ko4eKqQZ1+q3GT5yMx7RIqwKgqofmwmVhz6BzOHViCrxv7oPkPJ6x4OfTXBY8bBeMAzxrV4O7RFBN2W3NpGO4swOdEuVUHYZbd2Pg8xA4gHBXCXPPv0AENvRth5I57wk7+izXowveHgUrthCrBc3HOHBGgx/WIQCHLiIMnalRzh0fTCdh9XzSpTKkeFQxUTs7waDwSm8UeL1wmdg0mmUZIthk/jNx+R9gVfZ2CjcMbwU0TiLE7jW0RD6/2NCbVUkLBuKLnJnODLHe8WItQ3tjGQK12xCetf0W82JpnuVNyxGXuwmB+jjBw9huJ7Ua58DplI4Y3coMmcCx23hP10VRC1hp85cyAcWiLJdL4JdNd0r95Rs4MIuM0/ujQoSG8G43EDmMdL9Z0EWQOo4LaqQqC554rUpgBqaj4Ms6yvuyRtgod4JC5a7AxPa8z/EZuhwDTa6RsHI5GbhoEjt0JOZhKvkZIzS+xlffMId5mX2D69stIz83BnSMLEFa3Aur3W4KE4oaGlQp/Ei5oJDJlPdB8SpwRB+kwi68Ue1ze4bujeG0phbzQXxe8wBQMHDxroJq7B5pO2A2xuMAb5EVJ16b29CTUUirAuPaEvLgI5b2qCLeH2vETtP41HkUUF+JhpccUAYoARYAiQBGgCJQxBIpphNDh3K+fo5rGUaKkMowa5Sv7YbT11ptsdwsOEa8FBupKzTFqTZI02wL3BLvDG/CeC0QpZVzroOuP23AtR+R6YFOy7uKPaEQ4HRQMnH1D8N3O26Jdax0SSEw4w8KtQW/MPy1KCUrKydmMMDcWao0/vpfZjbFUxSE7fhaCfUhctqCUM6wTvIIGYd7fDwsJobCUID7SJc5Fh/rVUMFJaS6PV8KJYuhSCdUbDcNmO8YELucCFobVgauyPGq3CUWnz6rDzdkHX0xYg0sl/UrTJyGiqcA3IbRDangwX2ec0DLSOoXqi50D4Umyb7AahCxNkxgRxH03Hb/cOxb+Ph5wYsnYWeoj88mtSkOM2yfy3X6xnk9hyqgro+XodUi28jh5gfXdXECeq9xyNNZZ/wjoLuLHRsK4Mc6+CPlup5XhS5dAUvoxYN0aoPf801bElFzGUfwS7CMonKSNDAvX2p0wdVuKhJeCe2r0IGAc4PPlJMRcs2ok3+2czWFwY9XQ+H+PwqZb7tHxqEOIDxklNE2GI/qihZdD8LhgwDhXR4ef9uGBle7N4anRa4Bx8MGXk2IgaUbBId4zhFFXQvNRa5Akk/KEy4rHrBAfwTjGsHCu6IVKGm8EDZiN/Wlm65NpKPm/+pQ5CFKrUL56L6y4I9315jJXowtvEPBCm8k7kGYinrUqxd4Jh6z4WQgxrj+GdUZFr0rQeAdhwOz9sNMkmLhC1J/+CglVgb2q+Ou5ODq+DtSMAoxSgybDo3HRrEhzSCfeJgwD5+od8NO+B0UO8+CLLraMy8HmMDewag38vz9ZuKzhshA/KwQ+RnnIOleEVyUNvIMGYPb+NJGLvU3nS7FGYCbENK1hBgzrgEqBAzBn7y1pWIhN1fKnpcOfe7Ib4Q1IGA5pEwPXOl3x47ZrKOQ1AhR3XN7lu6OYbSmxvOCeGr1nGDj4fIlJMdesSF35sXmjvCjJ2tQjZU4Q1KryqN5rBaTiwpTylYGDVxtM3pEmeqfLzxh6lSJAEaAIUAQoAhSB/wYCxTRCvKVOFdxDfNxR3MyWKinElfzFlY2Y2qUh6rUIRqCnkAGAfEQ6+ARjWtxdOx8iBXjwTxzijiUhXUwvYWyyIT0Bew9cwlM5T4XXd5GYcBc5tlxqdrrLvUzDP/u3Y2vsIZxNyy6Ssm2nqFJe1iPzZjz27diOPSeTcD/bShMtZdkleTwPaSdjsSv+rkQ5L0lp0mfycOv4Hpy4JZ8SNe/Wcew5cUtq1DIWVPDgH8TFHUOS/ARBwt4DuCQ7QUgBr/Ho0hHsij2I87cy7cxBcl8+7p05gONXM+wqe6/vJiLhbo5sSlvrPmvxOOEADl14gFzbpcJl4+qhvTj7QGay8824hzMHjuNqhryxACjAvfg4HL35pvmbjyeXjyB2yxbEHjqLWy8KXyTc85u4mJJViEL+CqnH9+PMXZFxybrTbz7Lf4LLR2KxZUssDp29hcKbZMCDhW2g5vkgLhTSLjvVah8j4cAhXHiQK1nnXPZVHNp7FvaGwE6JPDln8WXca9xNTMDdogopMhOfXMaR2C3YQuTUrRdFmG9ASdeI4cFCtOG9e1pgxt8nsXfrdhxKyijcWGIfIMsvJcWfe4ErG6eiS8N6aBEcCE8+iwkxIDrAJ3ga4u7KWb9K8O55Z++OErQFJZcX+ffO4MDxq7ArLooqL4q1Njk8v3kRKVmFvLdepeL4/jMojbiwTCZ6RBGgCFAEKAIUAYpAWUHg/Rgh7PU+9wY2T2wFb582mLozld8947KTETO1ParzrudkR9ITwXMTpDs19sqk1ykCFIGPGIFc7OzvAVbVCD9dKtyA8q+A9IHKuLzYAQKxr+94nJAz9P4r4AqV5N7YjImtvOHTZip2phJjF4fs5BhMbV/d6M3EQOkZjLkJIi+lsjQuZakt/+K40aooAhQBigBFgCJAEfh4ECgzRgjDoz0Y38Qdygoh+Oua7e4th5fJqzHU6FrLqBtg2vn3/KX78cwR2lOKwH8XAZKtpKYKjkGzcP092yA+XBlHOHeEFKjOX62x4kj5dyeOAY/2jEcTdyUqhPwF6WvkJZJXD0UDQkCrYKBuMA3kNVKWxqUsteXfHTtaG0WAIkARoAhQBCgCHxMCZcMIYbiNxe3c+bR9NSfG23XhNdxfgS4eJMOBA4Kj0ouQ1u9jGkraV4oARcAWAV3iD/BTe2PI7qz3Ky8+ZBnHPcGyYJL+VoVGP10qUtiH7Ti9jXPD7cVo507SOdbExHh7RmoD7q8gGYRIFp5gRD1OLTvvng95jryNAaZlUAQoAhQBigBFgCLwwSBQNowQuTHoyTPms/ik33b77Nf6y/jZXw3GpSXm2c0q8MGMDe0IRYAiUCoE8nFqYh1U+UqO9K5UBRf/4Q9ZxuUa0ywy5dF7Wym4PoqPqtUTuTE9hUwK7Cfot92+0cmU4til5TzcyClD754PeY5YjRQ9oQhQBCgCFAGKAEXgY0egbBghDPexorOQjpBReaPjnON4bLuRZcjE2ciOqOJcE33XpBRCDPixDyntP0Xg40Qg/+oSdGvcCuFLDyHpzm2cXx+OoMDR2P/Mfladfw2pD1bGccjaPQTeSpIVxwvhh+UIH/8dlImnXGfeU46Byrsj5hx/LPGqM2SeRWTHKnCu2RdrUgqAsjQuZakt/86Q0VooAhQBigBFgCJAEfhIESgbRghCHZZxAhGdfY05wVk4ewUguNdghE+YiNFDu+Pz2t6oEzIRqxMtaQo/0jGj3aYIUAQkCOhwZlItKE1pXhkW7p+ORez9Qpj3JWW82wsfmozLvROPLX+MQesqKnMazHK+LdFz6HisSHwfxggOGSci0NlXSDNMUrh6BQSj1+BwTJg4GkO7f47a3nUQMnE1Es2pVsvWu+dDmyPvdkXR0ikCFAGKAEWAIkAR+K8iUGaMEAKA+Xh4dgv++mUSRg7ogc5demHw6O8QsXATjqVmv7dY4//q4NJ2UwQ+JgS4rASsmNwPoaH9MWnREdy15bctE2B8KDJOj+QN0zFl6g/4JWI25v2xCMuiV2N9zDbE7v0bV9+n90n+Q5zd8hd+mTQSA3p0RpdegzH6uwgs3HQMqdn22EnL0riUpbaUiUVDG0ERoAhQBCgCFAGKwAeGQBkzQnxg6NLuUAQoAhQBigBFgCJAEaAIUAQoAhQBigBFgCJgRoAaIcxQ0AOKAEWAIkARoAhQBCgCFAGKAEWAIkARoAhQBN4lAtQI8S7RpWVTBCgCFAGKAEWAIkARoAhQBCgCFAGKAEWAImBGgBohzFDQA4oARYAiQBGgCFAEKAIUAYoARYAiQBGgCFAE3iUC1AjxLtGlZVMEKAIUAYoARYAiQBGgCFAEKAIUAYoARYAiYEaAGiHMUNADigBFgCJAEaAIUAQoAhQBigBFgCJAEaAIUATeJQLUCPEu0aVlUwQoAhQBigBFgCJAEaAIUAQoAhQBigBFgCJgRoAaIcxQ0AOKAEWAIkARoAhQBCgCFAGKAEWAIkARoAhQBN4lAv8Pzu6xCI6GJTEAAAAASUVORK5CYII=)"
      ]
    },
    {
      "cell_type": "code",
      "metadata": {
        "id": "H-4foDVYwWzR"
      },
      "source": [
        "# write a function to select the rows with the largest values in a particular column\r\n",
        "def top(df, n = 5, column = 'tip_pct'):\r\n",
        "  return df.sort_values(by = column)[-n:]"
      ],
      "execution_count": null,
      "outputs": []
    },
    {
      "cell_type": "code",
      "metadata": {
        "colab": {
          "base_uri": "https://localhost:8080/",
          "height": 233
        },
        "id": "vWiKblFrwW2A",
        "outputId": "21333dac-c6c1-4cd6-f89e-ead7a32e61f8"
      },
      "source": [
        "top(tips, n = 6)"
      ],
      "execution_count": null,
      "outputs": [
        {
          "output_type": "execute_result",
          "data": {
            "text/html": [
              "<div>\n",
              "<style scoped>\n",
              "    .dataframe tbody tr th:only-of-type {\n",
              "        vertical-align: middle;\n",
              "    }\n",
              "\n",
              "    .dataframe tbody tr th {\n",
              "        vertical-align: top;\n",
              "    }\n",
              "\n",
              "    .dataframe thead th {\n",
              "        text-align: right;\n",
              "    }\n",
              "</style>\n",
              "<table border=\"1\" class=\"dataframe\">\n",
              "  <thead>\n",
              "    <tr style=\"text-align: right;\">\n",
              "      <th></th>\n",
              "      <th>total_bill</th>\n",
              "      <th>tip</th>\n",
              "      <th>sex</th>\n",
              "      <th>smoker</th>\n",
              "      <th>day</th>\n",
              "      <th>time</th>\n",
              "      <th>size</th>\n",
              "      <th>tip_pct</th>\n",
              "    </tr>\n",
              "  </thead>\n",
              "  <tbody>\n",
              "    <tr>\n",
              "      <th>109</th>\n",
              "      <td>14.31</td>\n",
              "      <td>4.00</td>\n",
              "      <td>Female</td>\n",
              "      <td>Yes</td>\n",
              "      <td>Sat</td>\n",
              "      <td>Dinner</td>\n",
              "      <td>2</td>\n",
              "      <td>0.279525</td>\n",
              "    </tr>\n",
              "    <tr>\n",
              "      <th>183</th>\n",
              "      <td>23.17</td>\n",
              "      <td>6.50</td>\n",
              "      <td>Male</td>\n",
              "      <td>Yes</td>\n",
              "      <td>Sun</td>\n",
              "      <td>Dinner</td>\n",
              "      <td>4</td>\n",
              "      <td>0.280535</td>\n",
              "    </tr>\n",
              "    <tr>\n",
              "      <th>232</th>\n",
              "      <td>11.61</td>\n",
              "      <td>3.39</td>\n",
              "      <td>Male</td>\n",
              "      <td>No</td>\n",
              "      <td>Sat</td>\n",
              "      <td>Dinner</td>\n",
              "      <td>2</td>\n",
              "      <td>0.291990</td>\n",
              "    </tr>\n",
              "    <tr>\n",
              "      <th>67</th>\n",
              "      <td>3.07</td>\n",
              "      <td>1.00</td>\n",
              "      <td>Female</td>\n",
              "      <td>Yes</td>\n",
              "      <td>Sat</td>\n",
              "      <td>Dinner</td>\n",
              "      <td>1</td>\n",
              "      <td>0.325733</td>\n",
              "    </tr>\n",
              "    <tr>\n",
              "      <th>178</th>\n",
              "      <td>9.60</td>\n",
              "      <td>4.00</td>\n",
              "      <td>Female</td>\n",
              "      <td>Yes</td>\n",
              "      <td>Sun</td>\n",
              "      <td>Dinner</td>\n",
              "      <td>2</td>\n",
              "      <td>0.416667</td>\n",
              "    </tr>\n",
              "    <tr>\n",
              "      <th>172</th>\n",
              "      <td>7.25</td>\n",
              "      <td>5.15</td>\n",
              "      <td>Male</td>\n",
              "      <td>Yes</td>\n",
              "      <td>Sun</td>\n",
              "      <td>Dinner</td>\n",
              "      <td>2</td>\n",
              "      <td>0.710345</td>\n",
              "    </tr>\n",
              "  </tbody>\n",
              "</table>\n",
              "</div>"
            ],
            "text/plain": [
              "     total_bill   tip     sex smoker  day    time  size   tip_pct\n",
              "109       14.31  4.00  Female    Yes  Sat  Dinner     2  0.279525\n",
              "183       23.17  6.50    Male    Yes  Sun  Dinner     4  0.280535\n",
              "232       11.61  3.39    Male     No  Sat  Dinner     2  0.291990\n",
              "67         3.07  1.00  Female    Yes  Sat  Dinner     1  0.325733\n",
              "178        9.60  4.00  Female    Yes  Sun  Dinner     2  0.416667\n",
              "172        7.25  5.15    Male    Yes  Sun  Dinner     2  0.710345"
            ]
          },
          "metadata": {
            "tags": []
          },
          "execution_count": 115
        }
      ]
    },
    {
      "cell_type": "code",
      "metadata": {
        "colab": {
          "base_uri": "https://localhost:8080/",
          "height": 386
        },
        "id": "-HcOXtLCwW4n",
        "outputId": "fd2e315f-f753-4fc8-dd69-9cef0c74f050"
      },
      "source": [
        "tips.groupby('smoker').apply(top) # apply the top function into groupby"
      ],
      "execution_count": null,
      "outputs": [
        {
          "output_type": "execute_result",
          "data": {
            "text/html": [
              "<div>\n",
              "<style scoped>\n",
              "    .dataframe tbody tr th:only-of-type {\n",
              "        vertical-align: middle;\n",
              "    }\n",
              "\n",
              "    .dataframe tbody tr th {\n",
              "        vertical-align: top;\n",
              "    }\n",
              "\n",
              "    .dataframe thead th {\n",
              "        text-align: right;\n",
              "    }\n",
              "</style>\n",
              "<table border=\"1\" class=\"dataframe\">\n",
              "  <thead>\n",
              "    <tr style=\"text-align: right;\">\n",
              "      <th></th>\n",
              "      <th></th>\n",
              "      <th>total_bill</th>\n",
              "      <th>tip</th>\n",
              "      <th>sex</th>\n",
              "      <th>smoker</th>\n",
              "      <th>day</th>\n",
              "      <th>time</th>\n",
              "      <th>size</th>\n",
              "      <th>tip_pct</th>\n",
              "    </tr>\n",
              "    <tr>\n",
              "      <th>smoker</th>\n",
              "      <th></th>\n",
              "      <th></th>\n",
              "      <th></th>\n",
              "      <th></th>\n",
              "      <th></th>\n",
              "      <th></th>\n",
              "      <th></th>\n",
              "      <th></th>\n",
              "      <th></th>\n",
              "    </tr>\n",
              "  </thead>\n",
              "  <tbody>\n",
              "    <tr>\n",
              "      <th rowspan=\"5\" valign=\"top\">No</th>\n",
              "      <th>88</th>\n",
              "      <td>24.71</td>\n",
              "      <td>5.85</td>\n",
              "      <td>Male</td>\n",
              "      <td>No</td>\n",
              "      <td>Thur</td>\n",
              "      <td>Lunch</td>\n",
              "      <td>2</td>\n",
              "      <td>0.236746</td>\n",
              "    </tr>\n",
              "    <tr>\n",
              "      <th>185</th>\n",
              "      <td>20.69</td>\n",
              "      <td>5.00</td>\n",
              "      <td>Male</td>\n",
              "      <td>No</td>\n",
              "      <td>Sun</td>\n",
              "      <td>Dinner</td>\n",
              "      <td>5</td>\n",
              "      <td>0.241663</td>\n",
              "    </tr>\n",
              "    <tr>\n",
              "      <th>51</th>\n",
              "      <td>10.29</td>\n",
              "      <td>2.60</td>\n",
              "      <td>Female</td>\n",
              "      <td>No</td>\n",
              "      <td>Sun</td>\n",
              "      <td>Dinner</td>\n",
              "      <td>2</td>\n",
              "      <td>0.252672</td>\n",
              "    </tr>\n",
              "    <tr>\n",
              "      <th>149</th>\n",
              "      <td>7.51</td>\n",
              "      <td>2.00</td>\n",
              "      <td>Male</td>\n",
              "      <td>No</td>\n",
              "      <td>Thur</td>\n",
              "      <td>Lunch</td>\n",
              "      <td>2</td>\n",
              "      <td>0.266312</td>\n",
              "    </tr>\n",
              "    <tr>\n",
              "      <th>232</th>\n",
              "      <td>11.61</td>\n",
              "      <td>3.39</td>\n",
              "      <td>Male</td>\n",
              "      <td>No</td>\n",
              "      <td>Sat</td>\n",
              "      <td>Dinner</td>\n",
              "      <td>2</td>\n",
              "      <td>0.291990</td>\n",
              "    </tr>\n",
              "    <tr>\n",
              "      <th rowspan=\"5\" valign=\"top\">Yes</th>\n",
              "      <th>109</th>\n",
              "      <td>14.31</td>\n",
              "      <td>4.00</td>\n",
              "      <td>Female</td>\n",
              "      <td>Yes</td>\n",
              "      <td>Sat</td>\n",
              "      <td>Dinner</td>\n",
              "      <td>2</td>\n",
              "      <td>0.279525</td>\n",
              "    </tr>\n",
              "    <tr>\n",
              "      <th>183</th>\n",
              "      <td>23.17</td>\n",
              "      <td>6.50</td>\n",
              "      <td>Male</td>\n",
              "      <td>Yes</td>\n",
              "      <td>Sun</td>\n",
              "      <td>Dinner</td>\n",
              "      <td>4</td>\n",
              "      <td>0.280535</td>\n",
              "    </tr>\n",
              "    <tr>\n",
              "      <th>67</th>\n",
              "      <td>3.07</td>\n",
              "      <td>1.00</td>\n",
              "      <td>Female</td>\n",
              "      <td>Yes</td>\n",
              "      <td>Sat</td>\n",
              "      <td>Dinner</td>\n",
              "      <td>1</td>\n",
              "      <td>0.325733</td>\n",
              "    </tr>\n",
              "    <tr>\n",
              "      <th>178</th>\n",
              "      <td>9.60</td>\n",
              "      <td>4.00</td>\n",
              "      <td>Female</td>\n",
              "      <td>Yes</td>\n",
              "      <td>Sun</td>\n",
              "      <td>Dinner</td>\n",
              "      <td>2</td>\n",
              "      <td>0.416667</td>\n",
              "    </tr>\n",
              "    <tr>\n",
              "      <th>172</th>\n",
              "      <td>7.25</td>\n",
              "      <td>5.15</td>\n",
              "      <td>Male</td>\n",
              "      <td>Yes</td>\n",
              "      <td>Sun</td>\n",
              "      <td>Dinner</td>\n",
              "      <td>2</td>\n",
              "      <td>0.710345</td>\n",
              "    </tr>\n",
              "  </tbody>\n",
              "</table>\n",
              "</div>"
            ],
            "text/plain": [
              "            total_bill   tip     sex smoker   day    time  size   tip_pct\n",
              "smoker                                                                   \n",
              "No     88        24.71  5.85    Male     No  Thur   Lunch     2  0.236746\n",
              "       185       20.69  5.00    Male     No   Sun  Dinner     5  0.241663\n",
              "       51        10.29  2.60  Female     No   Sun  Dinner     2  0.252672\n",
              "       149        7.51  2.00    Male     No  Thur   Lunch     2  0.266312\n",
              "       232       11.61  3.39    Male     No   Sat  Dinner     2  0.291990\n",
              "Yes    109       14.31  4.00  Female    Yes   Sat  Dinner     2  0.279525\n",
              "       183       23.17  6.50    Male    Yes   Sun  Dinner     4  0.280535\n",
              "       67         3.07  1.00  Female    Yes   Sat  Dinner     1  0.325733\n",
              "       178        9.60  4.00  Female    Yes   Sun  Dinner     2  0.416667\n",
              "       172        7.25  5.15    Male    Yes   Sun  Dinner     2  0.710345"
            ]
          },
          "metadata": {
            "tags": []
          },
          "execution_count": 118
        }
      ]
    },
    {
      "cell_type": "code",
      "metadata": {
        "colab": {
          "base_uri": "https://localhost:8080/",
          "height": 141
        },
        "id": "xZG62qygzobi",
        "outputId": "e8f67e61-d03e-474b-d1cf-2016b84dc2af"
      },
      "source": [
        "# built-in function, we need to add ''\r\n",
        "# if it's self-defined function, we don't need to add '' to call it\r\n",
        "tips.groupby('smoker')[['total_bill']].agg(peak_to_peak) # equals to '.count()'"
      ],
      "execution_count": null,
      "outputs": [
        {
          "output_type": "execute_result",
          "data": {
            "text/html": [
              "<div>\n",
              "<style scoped>\n",
              "    .dataframe tbody tr th:only-of-type {\n",
              "        vertical-align: middle;\n",
              "    }\n",
              "\n",
              "    .dataframe tbody tr th {\n",
              "        vertical-align: top;\n",
              "    }\n",
              "\n",
              "    .dataframe thead th {\n",
              "        text-align: right;\n",
              "    }\n",
              "</style>\n",
              "<table border=\"1\" class=\"dataframe\">\n",
              "  <thead>\n",
              "    <tr style=\"text-align: right;\">\n",
              "      <th></th>\n",
              "      <th>total_bill</th>\n",
              "    </tr>\n",
              "    <tr>\n",
              "      <th>smoker</th>\n",
              "      <th></th>\n",
              "    </tr>\n",
              "  </thead>\n",
              "  <tbody>\n",
              "    <tr>\n",
              "      <th>No</th>\n",
              "      <td>41.08</td>\n",
              "    </tr>\n",
              "    <tr>\n",
              "      <th>Yes</th>\n",
              "      <td>47.74</td>\n",
              "    </tr>\n",
              "  </tbody>\n",
              "</table>\n",
              "</div>"
            ],
            "text/plain": [
              "        total_bill\n",
              "smoker            \n",
              "No           41.08\n",
              "Yes          47.74"
            ]
          },
          "metadata": {
            "tags": []
          },
          "execution_count": 139
        }
      ]
    },
    {
      "cell_type": "code",
      "metadata": {
        "colab": {
          "base_uri": "https://localhost:8080/"
        },
        "id": "WvN5zAfly5gp",
        "outputId": "762abcb6-e3cf-45d9-d290-9715987f1ad4"
      },
      "source": [
        "tips.groupby('smoker')['total_bill'].apply(peak_to_peak)"
      ],
      "execution_count": null,
      "outputs": [
        {
          "output_type": "execute_result",
          "data": {
            "text/plain": [
              "smoker\n",
              "No     41.08\n",
              "Yes    47.74\n",
              "Name: total_bill, dtype: float64"
            ]
          },
          "metadata": {
            "tags": []
          },
          "execution_count": 123
        }
      ]
    },
    {
      "cell_type": "markdown",
      "metadata": {
        "id": "pEyV9SSY2McX"
      },
      "source": [
        "If you pass a function to apply that takes other arguments or keywords, you can pass them in the () to specify the column you are going to apply to "
      ]
    },
    {
      "cell_type": "code",
      "metadata": {
        "colab": {
          "base_uri": "https://localhost:8080/",
          "height": 325
        },
        "id": "MiQReJxA0yn3",
        "outputId": "d8f29167-f48d-4e59-d2a8-6d226484aab5"
      },
      "source": [
        "tips.groupby(['smoker', 'day']).apply(top, n = 1, column = 'total_bill')"
      ],
      "execution_count": null,
      "outputs": [
        {
          "output_type": "execute_result",
          "data": {
            "text/html": [
              "<div>\n",
              "<style scoped>\n",
              "    .dataframe tbody tr th:only-of-type {\n",
              "        vertical-align: middle;\n",
              "    }\n",
              "\n",
              "    .dataframe tbody tr th {\n",
              "        vertical-align: top;\n",
              "    }\n",
              "\n",
              "    .dataframe thead th {\n",
              "        text-align: right;\n",
              "    }\n",
              "</style>\n",
              "<table border=\"1\" class=\"dataframe\">\n",
              "  <thead>\n",
              "    <tr style=\"text-align: right;\">\n",
              "      <th></th>\n",
              "      <th></th>\n",
              "      <th></th>\n",
              "      <th>total_bill</th>\n",
              "      <th>tip</th>\n",
              "      <th>sex</th>\n",
              "      <th>smoker</th>\n",
              "      <th>day</th>\n",
              "      <th>time</th>\n",
              "      <th>size</th>\n",
              "      <th>tip_pct</th>\n",
              "    </tr>\n",
              "    <tr>\n",
              "      <th>smoker</th>\n",
              "      <th>day</th>\n",
              "      <th></th>\n",
              "      <th></th>\n",
              "      <th></th>\n",
              "      <th></th>\n",
              "      <th></th>\n",
              "      <th></th>\n",
              "      <th></th>\n",
              "      <th></th>\n",
              "      <th></th>\n",
              "    </tr>\n",
              "  </thead>\n",
              "  <tbody>\n",
              "    <tr>\n",
              "      <th rowspan=\"4\" valign=\"top\">No</th>\n",
              "      <th>Fri</th>\n",
              "      <th>94</th>\n",
              "      <td>22.75</td>\n",
              "      <td>3.25</td>\n",
              "      <td>Female</td>\n",
              "      <td>No</td>\n",
              "      <td>Fri</td>\n",
              "      <td>Dinner</td>\n",
              "      <td>2</td>\n",
              "      <td>0.142857</td>\n",
              "    </tr>\n",
              "    <tr>\n",
              "      <th>Sat</th>\n",
              "      <th>212</th>\n",
              "      <td>48.33</td>\n",
              "      <td>9.00</td>\n",
              "      <td>Male</td>\n",
              "      <td>No</td>\n",
              "      <td>Sat</td>\n",
              "      <td>Dinner</td>\n",
              "      <td>4</td>\n",
              "      <td>0.186220</td>\n",
              "    </tr>\n",
              "    <tr>\n",
              "      <th>Sun</th>\n",
              "      <th>156</th>\n",
              "      <td>48.17</td>\n",
              "      <td>5.00</td>\n",
              "      <td>Male</td>\n",
              "      <td>No</td>\n",
              "      <td>Sun</td>\n",
              "      <td>Dinner</td>\n",
              "      <td>6</td>\n",
              "      <td>0.103799</td>\n",
              "    </tr>\n",
              "    <tr>\n",
              "      <th>Thur</th>\n",
              "      <th>142</th>\n",
              "      <td>41.19</td>\n",
              "      <td>5.00</td>\n",
              "      <td>Male</td>\n",
              "      <td>No</td>\n",
              "      <td>Thur</td>\n",
              "      <td>Lunch</td>\n",
              "      <td>5</td>\n",
              "      <td>0.121389</td>\n",
              "    </tr>\n",
              "    <tr>\n",
              "      <th rowspan=\"4\" valign=\"top\">Yes</th>\n",
              "      <th>Fri</th>\n",
              "      <th>95</th>\n",
              "      <td>40.17</td>\n",
              "      <td>4.73</td>\n",
              "      <td>Male</td>\n",
              "      <td>Yes</td>\n",
              "      <td>Fri</td>\n",
              "      <td>Dinner</td>\n",
              "      <td>4</td>\n",
              "      <td>0.117750</td>\n",
              "    </tr>\n",
              "    <tr>\n",
              "      <th>Sat</th>\n",
              "      <th>170</th>\n",
              "      <td>50.81</td>\n",
              "      <td>10.00</td>\n",
              "      <td>Male</td>\n",
              "      <td>Yes</td>\n",
              "      <td>Sat</td>\n",
              "      <td>Dinner</td>\n",
              "      <td>3</td>\n",
              "      <td>0.196812</td>\n",
              "    </tr>\n",
              "    <tr>\n",
              "      <th>Sun</th>\n",
              "      <th>182</th>\n",
              "      <td>45.35</td>\n",
              "      <td>3.50</td>\n",
              "      <td>Male</td>\n",
              "      <td>Yes</td>\n",
              "      <td>Sun</td>\n",
              "      <td>Dinner</td>\n",
              "      <td>3</td>\n",
              "      <td>0.077178</td>\n",
              "    </tr>\n",
              "    <tr>\n",
              "      <th>Thur</th>\n",
              "      <th>197</th>\n",
              "      <td>43.11</td>\n",
              "      <td>5.00</td>\n",
              "      <td>Female</td>\n",
              "      <td>Yes</td>\n",
              "      <td>Thur</td>\n",
              "      <td>Lunch</td>\n",
              "      <td>4</td>\n",
              "      <td>0.115982</td>\n",
              "    </tr>\n",
              "  </tbody>\n",
              "</table>\n",
              "</div>"
            ],
            "text/plain": [
              "                 total_bill    tip     sex smoker   day    time  size   tip_pct\n",
              "smoker day                                                                     \n",
              "No     Fri  94        22.75   3.25  Female     No   Fri  Dinner     2  0.142857\n",
              "       Sat  212       48.33   9.00    Male     No   Sat  Dinner     4  0.186220\n",
              "       Sun  156       48.17   5.00    Male     No   Sun  Dinner     6  0.103799\n",
              "       Thur 142       41.19   5.00    Male     No  Thur   Lunch     5  0.121389\n",
              "Yes    Fri  95        40.17   4.73    Male    Yes   Fri  Dinner     4  0.117750\n",
              "       Sat  170       50.81  10.00    Male    Yes   Sat  Dinner     3  0.196812\n",
              "       Sun  182       45.35   3.50    Male    Yes   Sun  Dinner     3  0.077178\n",
              "       Thur 197       43.11   5.00  Female    Yes  Thur   Lunch     4  0.115982"
            ]
          },
          "metadata": {
            "tags": []
          },
          "execution_count": 142
        }
      ]
    },
    {
      "cell_type": "code",
      "metadata": {
        "colab": {
          "base_uri": "https://localhost:8080/",
          "height": 110
        },
        "id": "dITz7muK2xhB",
        "outputId": "608f96b9-fa6f-46fe-f847-4b98ed84812e"
      },
      "source": [
        "tips.head(2)"
      ],
      "execution_count": null,
      "outputs": [
        {
          "output_type": "execute_result",
          "data": {
            "text/html": [
              "<div>\n",
              "<style scoped>\n",
              "    .dataframe tbody tr th:only-of-type {\n",
              "        vertical-align: middle;\n",
              "    }\n",
              "\n",
              "    .dataframe tbody tr th {\n",
              "        vertical-align: top;\n",
              "    }\n",
              "\n",
              "    .dataframe thead th {\n",
              "        text-align: right;\n",
              "    }\n",
              "</style>\n",
              "<table border=\"1\" class=\"dataframe\">\n",
              "  <thead>\n",
              "    <tr style=\"text-align: right;\">\n",
              "      <th></th>\n",
              "      <th>total_bill</th>\n",
              "      <th>tip</th>\n",
              "      <th>sex</th>\n",
              "      <th>smoker</th>\n",
              "      <th>day</th>\n",
              "      <th>time</th>\n",
              "      <th>size</th>\n",
              "      <th>tip_pct</th>\n",
              "    </tr>\n",
              "  </thead>\n",
              "  <tbody>\n",
              "    <tr>\n",
              "      <th>0</th>\n",
              "      <td>16.99</td>\n",
              "      <td>1.01</td>\n",
              "      <td>Female</td>\n",
              "      <td>No</td>\n",
              "      <td>Sun</td>\n",
              "      <td>Dinner</td>\n",
              "      <td>2</td>\n",
              "      <td>0.059447</td>\n",
              "    </tr>\n",
              "    <tr>\n",
              "      <th>1</th>\n",
              "      <td>10.34</td>\n",
              "      <td>1.66</td>\n",
              "      <td>Male</td>\n",
              "      <td>No</td>\n",
              "      <td>Sun</td>\n",
              "      <td>Dinner</td>\n",
              "      <td>3</td>\n",
              "      <td>0.160542</td>\n",
              "    </tr>\n",
              "  </tbody>\n",
              "</table>\n",
              "</div>"
            ],
            "text/plain": [
              "   total_bill   tip     sex smoker  day    time  size   tip_pct\n",
              "0       16.99  1.01  Female     No  Sun  Dinner     2  0.059447\n",
              "1       10.34  1.66    Male     No  Sun  Dinner     3  0.160542"
            ]
          },
          "metadata": {
            "tags": []
          },
          "execution_count": 150
        }
      ]
    },
    {
      "cell_type": "code",
      "metadata": {
        "id": "nqpy3nsawXAH"
      },
      "source": [
        "result = tips.groupby('smoker')['tip_pct'].describe()"
      ],
      "execution_count": null,
      "outputs": []
    },
    {
      "cell_type": "code",
      "metadata": {
        "colab": {
          "base_uri": "https://localhost:8080/",
          "height": 141
        },
        "id": "Q1yo6FyTwXDO",
        "outputId": "a9fb3c94-5293-4d97-b640-adb47576cc81"
      },
      "source": [
        "result"
      ],
      "execution_count": null,
      "outputs": [
        {
          "output_type": "execute_result",
          "data": {
            "text/html": [
              "<div>\n",
              "<style scoped>\n",
              "    .dataframe tbody tr th:only-of-type {\n",
              "        vertical-align: middle;\n",
              "    }\n",
              "\n",
              "    .dataframe tbody tr th {\n",
              "        vertical-align: top;\n",
              "    }\n",
              "\n",
              "    .dataframe thead th {\n",
              "        text-align: right;\n",
              "    }\n",
              "</style>\n",
              "<table border=\"1\" class=\"dataframe\">\n",
              "  <thead>\n",
              "    <tr style=\"text-align: right;\">\n",
              "      <th></th>\n",
              "      <th>count</th>\n",
              "      <th>mean</th>\n",
              "      <th>std</th>\n",
              "      <th>min</th>\n",
              "      <th>25%</th>\n",
              "      <th>50%</th>\n",
              "      <th>75%</th>\n",
              "      <th>max</th>\n",
              "    </tr>\n",
              "    <tr>\n",
              "      <th>smoker</th>\n",
              "      <th></th>\n",
              "      <th></th>\n",
              "      <th></th>\n",
              "      <th></th>\n",
              "      <th></th>\n",
              "      <th></th>\n",
              "      <th></th>\n",
              "      <th></th>\n",
              "    </tr>\n",
              "  </thead>\n",
              "  <tbody>\n",
              "    <tr>\n",
              "      <th>No</th>\n",
              "      <td>151.0</td>\n",
              "      <td>0.159328</td>\n",
              "      <td>0.039910</td>\n",
              "      <td>0.056797</td>\n",
              "      <td>0.136906</td>\n",
              "      <td>0.155625</td>\n",
              "      <td>0.185014</td>\n",
              "      <td>0.291990</td>\n",
              "    </tr>\n",
              "    <tr>\n",
              "      <th>Yes</th>\n",
              "      <td>93.0</td>\n",
              "      <td>0.163196</td>\n",
              "      <td>0.085119</td>\n",
              "      <td>0.035638</td>\n",
              "      <td>0.106771</td>\n",
              "      <td>0.153846</td>\n",
              "      <td>0.195059</td>\n",
              "      <td>0.710345</td>\n",
              "    </tr>\n",
              "  </tbody>\n",
              "</table>\n",
              "</div>"
            ],
            "text/plain": [
              "        count      mean       std  ...       50%       75%       max\n",
              "smoker                             ...                              \n",
              "No      151.0  0.159328  0.039910  ...  0.155625  0.185014  0.291990\n",
              "Yes      93.0  0.163196  0.085119  ...  0.153846  0.195059  0.710345\n",
              "\n",
              "[2 rows x 8 columns]"
            ]
          },
          "metadata": {
            "tags": []
          },
          "execution_count": 158
        }
      ]
    },
    {
      "cell_type": "code",
      "metadata": {
        "colab": {
          "base_uri": "https://localhost:8080/"
        },
        "id": "muHTaPeTwXF2",
        "outputId": "4f447288-ade5-4da6-ea72-ecb0abd8add7"
      },
      "source": [
        "result.unstack('smoker')"
      ],
      "execution_count": null,
      "outputs": [
        {
          "output_type": "execute_result",
          "data": {
            "text/plain": [
              "       smoker\n",
              "count  No        151.000000\n",
              "       Yes        93.000000\n",
              "mean   No          0.159328\n",
              "       Yes         0.163196\n",
              "std    No          0.039910\n",
              "       Yes         0.085119\n",
              "min    No          0.056797\n",
              "       Yes         0.035638\n",
              "25%    No          0.136906\n",
              "       Yes         0.106771\n",
              "50%    No          0.155625\n",
              "       Yes         0.153846\n",
              "75%    No          0.185014\n",
              "       Yes         0.195059\n",
              "max    No          0.291990\n",
              "       Yes         0.710345\n",
              "dtype: float64"
            ]
          },
          "metadata": {
            "tags": []
          },
          "execution_count": 159
        }
      ]
    },
    {
      "cell_type": "code",
      "metadata": {
        "id": "HjGe4llj3m-s"
      },
      "source": [
        "f = lambda x: x.describe()"
      ],
      "execution_count": null,
      "outputs": []
    },
    {
      "cell_type": "code",
      "metadata": {
        "id": "I7CxUu5V3mYP"
      },
      "source": [
        "result = tips.groupby('smoker')[['tip_pct']].apply(f)"
      ],
      "execution_count": null,
      "outputs": []
    },
    {
      "cell_type": "code",
      "metadata": {
        "colab": {
          "base_uri": "https://localhost:8080/",
          "height": 570
        },
        "id": "bSlUyMNN3sM4",
        "outputId": "acd1aa6f-7b3b-4dc3-a951-08b604ab73fe"
      },
      "source": [
        "result"
      ],
      "execution_count": null,
      "outputs": [
        {
          "output_type": "execute_result",
          "data": {
            "text/html": [
              "<div>\n",
              "<style scoped>\n",
              "    .dataframe tbody tr th:only-of-type {\n",
              "        vertical-align: middle;\n",
              "    }\n",
              "\n",
              "    .dataframe tbody tr th {\n",
              "        vertical-align: top;\n",
              "    }\n",
              "\n",
              "    .dataframe thead th {\n",
              "        text-align: right;\n",
              "    }\n",
              "</style>\n",
              "<table border=\"1\" class=\"dataframe\">\n",
              "  <thead>\n",
              "    <tr style=\"text-align: right;\">\n",
              "      <th></th>\n",
              "      <th></th>\n",
              "      <th>tip_pct</th>\n",
              "    </tr>\n",
              "    <tr>\n",
              "      <th>smoker</th>\n",
              "      <th></th>\n",
              "      <th></th>\n",
              "    </tr>\n",
              "  </thead>\n",
              "  <tbody>\n",
              "    <tr>\n",
              "      <th rowspan=\"8\" valign=\"top\">No</th>\n",
              "      <th>count</th>\n",
              "      <td>151.000000</td>\n",
              "    </tr>\n",
              "    <tr>\n",
              "      <th>mean</th>\n",
              "      <td>0.159328</td>\n",
              "    </tr>\n",
              "    <tr>\n",
              "      <th>std</th>\n",
              "      <td>0.039910</td>\n",
              "    </tr>\n",
              "    <tr>\n",
              "      <th>min</th>\n",
              "      <td>0.056797</td>\n",
              "    </tr>\n",
              "    <tr>\n",
              "      <th>25%</th>\n",
              "      <td>0.136906</td>\n",
              "    </tr>\n",
              "    <tr>\n",
              "      <th>50%</th>\n",
              "      <td>0.155625</td>\n",
              "    </tr>\n",
              "    <tr>\n",
              "      <th>75%</th>\n",
              "      <td>0.185014</td>\n",
              "    </tr>\n",
              "    <tr>\n",
              "      <th>max</th>\n",
              "      <td>0.291990</td>\n",
              "    </tr>\n",
              "    <tr>\n",
              "      <th rowspan=\"8\" valign=\"top\">Yes</th>\n",
              "      <th>count</th>\n",
              "      <td>93.000000</td>\n",
              "    </tr>\n",
              "    <tr>\n",
              "      <th>mean</th>\n",
              "      <td>0.163196</td>\n",
              "    </tr>\n",
              "    <tr>\n",
              "      <th>std</th>\n",
              "      <td>0.085119</td>\n",
              "    </tr>\n",
              "    <tr>\n",
              "      <th>min</th>\n",
              "      <td>0.035638</td>\n",
              "    </tr>\n",
              "    <tr>\n",
              "      <th>25%</th>\n",
              "      <td>0.106771</td>\n",
              "    </tr>\n",
              "    <tr>\n",
              "      <th>50%</th>\n",
              "      <td>0.153846</td>\n",
              "    </tr>\n",
              "    <tr>\n",
              "      <th>75%</th>\n",
              "      <td>0.195059</td>\n",
              "    </tr>\n",
              "    <tr>\n",
              "      <th>max</th>\n",
              "      <td>0.710345</td>\n",
              "    </tr>\n",
              "  </tbody>\n",
              "</table>\n",
              "</div>"
            ],
            "text/plain": [
              "                 tip_pct\n",
              "smoker                  \n",
              "No     count  151.000000\n",
              "       mean     0.159328\n",
              "       std      0.039910\n",
              "       min      0.056797\n",
              "       25%      0.136906\n",
              "       50%      0.155625\n",
              "       75%      0.185014\n",
              "       max      0.291990\n",
              "Yes    count   93.000000\n",
              "       mean     0.163196\n",
              "       std      0.085119\n",
              "       min      0.035638\n",
              "       25%      0.106771\n",
              "       50%      0.153846\n",
              "       75%      0.195059\n",
              "       max      0.710345"
            ]
          },
          "metadata": {
            "tags": []
          },
          "execution_count": 169
        }
      ]
    },
    {
      "cell_type": "markdown",
      "metadata": {
        "id": "_O0VYmWW3LGq"
      },
      "source": [
        "Using describe() is just like a short-cut for:\r\n",
        "\r\n",
        "f = lambda x : x.describe()\r\n",
        "\r\n",
        "grouped.apply(f)"
      ]
    },
    {
      "cell_type": "markdown",
      "metadata": {
        "id": "oNX9cpPI3awt"
      },
      "source": [
        "### Suppressing the Group Keys"
      ]
    },
    {
      "cell_type": "markdown",
      "metadata": {
        "id": "uzlsyX-04AzP"
      },
      "source": [
        "You can disable indexing by the group keys using **group_keys = False**"
      ]
    },
    {
      "cell_type": "code",
      "metadata": {
        "colab": {
          "base_uri": "https://localhost:8080/",
          "height": 355
        },
        "id": "AvcvdZGMwXIx",
        "outputId": "02abc948-62a0-46b1-84c9-b99147f6fb2e"
      },
      "source": [
        "tips.groupby('smoker', group_keys = False).apply(top)"
      ],
      "execution_count": null,
      "outputs": [
        {
          "output_type": "execute_result",
          "data": {
            "text/html": [
              "<div>\n",
              "<style scoped>\n",
              "    .dataframe tbody tr th:only-of-type {\n",
              "        vertical-align: middle;\n",
              "    }\n",
              "\n",
              "    .dataframe tbody tr th {\n",
              "        vertical-align: top;\n",
              "    }\n",
              "\n",
              "    .dataframe thead th {\n",
              "        text-align: right;\n",
              "    }\n",
              "</style>\n",
              "<table border=\"1\" class=\"dataframe\">\n",
              "  <thead>\n",
              "    <tr style=\"text-align: right;\">\n",
              "      <th></th>\n",
              "      <th>total_bill</th>\n",
              "      <th>tip</th>\n",
              "      <th>sex</th>\n",
              "      <th>smoker</th>\n",
              "      <th>day</th>\n",
              "      <th>time</th>\n",
              "      <th>size</th>\n",
              "      <th>tip_pct</th>\n",
              "    </tr>\n",
              "  </thead>\n",
              "  <tbody>\n",
              "    <tr>\n",
              "      <th>88</th>\n",
              "      <td>24.71</td>\n",
              "      <td>5.85</td>\n",
              "      <td>Male</td>\n",
              "      <td>No</td>\n",
              "      <td>Thur</td>\n",
              "      <td>Lunch</td>\n",
              "      <td>2</td>\n",
              "      <td>0.236746</td>\n",
              "    </tr>\n",
              "    <tr>\n",
              "      <th>185</th>\n",
              "      <td>20.69</td>\n",
              "      <td>5.00</td>\n",
              "      <td>Male</td>\n",
              "      <td>No</td>\n",
              "      <td>Sun</td>\n",
              "      <td>Dinner</td>\n",
              "      <td>5</td>\n",
              "      <td>0.241663</td>\n",
              "    </tr>\n",
              "    <tr>\n",
              "      <th>51</th>\n",
              "      <td>10.29</td>\n",
              "      <td>2.60</td>\n",
              "      <td>Female</td>\n",
              "      <td>No</td>\n",
              "      <td>Sun</td>\n",
              "      <td>Dinner</td>\n",
              "      <td>2</td>\n",
              "      <td>0.252672</td>\n",
              "    </tr>\n",
              "    <tr>\n",
              "      <th>149</th>\n",
              "      <td>7.51</td>\n",
              "      <td>2.00</td>\n",
              "      <td>Male</td>\n",
              "      <td>No</td>\n",
              "      <td>Thur</td>\n",
              "      <td>Lunch</td>\n",
              "      <td>2</td>\n",
              "      <td>0.266312</td>\n",
              "    </tr>\n",
              "    <tr>\n",
              "      <th>232</th>\n",
              "      <td>11.61</td>\n",
              "      <td>3.39</td>\n",
              "      <td>Male</td>\n",
              "      <td>No</td>\n",
              "      <td>Sat</td>\n",
              "      <td>Dinner</td>\n",
              "      <td>2</td>\n",
              "      <td>0.291990</td>\n",
              "    </tr>\n",
              "    <tr>\n",
              "      <th>109</th>\n",
              "      <td>14.31</td>\n",
              "      <td>4.00</td>\n",
              "      <td>Female</td>\n",
              "      <td>Yes</td>\n",
              "      <td>Sat</td>\n",
              "      <td>Dinner</td>\n",
              "      <td>2</td>\n",
              "      <td>0.279525</td>\n",
              "    </tr>\n",
              "    <tr>\n",
              "      <th>183</th>\n",
              "      <td>23.17</td>\n",
              "      <td>6.50</td>\n",
              "      <td>Male</td>\n",
              "      <td>Yes</td>\n",
              "      <td>Sun</td>\n",
              "      <td>Dinner</td>\n",
              "      <td>4</td>\n",
              "      <td>0.280535</td>\n",
              "    </tr>\n",
              "    <tr>\n",
              "      <th>67</th>\n",
              "      <td>3.07</td>\n",
              "      <td>1.00</td>\n",
              "      <td>Female</td>\n",
              "      <td>Yes</td>\n",
              "      <td>Sat</td>\n",
              "      <td>Dinner</td>\n",
              "      <td>1</td>\n",
              "      <td>0.325733</td>\n",
              "    </tr>\n",
              "    <tr>\n",
              "      <th>178</th>\n",
              "      <td>9.60</td>\n",
              "      <td>4.00</td>\n",
              "      <td>Female</td>\n",
              "      <td>Yes</td>\n",
              "      <td>Sun</td>\n",
              "      <td>Dinner</td>\n",
              "      <td>2</td>\n",
              "      <td>0.416667</td>\n",
              "    </tr>\n",
              "    <tr>\n",
              "      <th>172</th>\n",
              "      <td>7.25</td>\n",
              "      <td>5.15</td>\n",
              "      <td>Male</td>\n",
              "      <td>Yes</td>\n",
              "      <td>Sun</td>\n",
              "      <td>Dinner</td>\n",
              "      <td>2</td>\n",
              "      <td>0.710345</td>\n",
              "    </tr>\n",
              "  </tbody>\n",
              "</table>\n",
              "</div>"
            ],
            "text/plain": [
              "     total_bill   tip     sex smoker   day    time  size   tip_pct\n",
              "88        24.71  5.85    Male     No  Thur   Lunch     2  0.236746\n",
              "185       20.69  5.00    Male     No   Sun  Dinner     5  0.241663\n",
              "51        10.29  2.60  Female     No   Sun  Dinner     2  0.252672\n",
              "149        7.51  2.00    Male     No  Thur   Lunch     2  0.266312\n",
              "232       11.61  3.39    Male     No   Sat  Dinner     2  0.291990\n",
              "109       14.31  4.00  Female    Yes   Sat  Dinner     2  0.279525\n",
              "183       23.17  6.50    Male    Yes   Sun  Dinner     4  0.280535\n",
              "67         3.07  1.00  Female    Yes   Sat  Dinner     1  0.325733\n",
              "178        9.60  4.00  Female    Yes   Sun  Dinner     2  0.416667\n",
              "172        7.25  5.15    Male    Yes   Sun  Dinner     2  0.710345"
            ]
          },
          "metadata": {
            "tags": []
          },
          "execution_count": 170
        }
      ]
    },
    {
      "cell_type": "markdown",
      "metadata": {
        "id": "iwF0bWSS4VY_"
      },
      "source": [
        "### Quantile and Bucket Analysis"
      ]
    },
    {
      "cell_type": "markdown",
      "metadata": {
        "id": "krMfMk1K4aKj"
      },
      "source": [
        "We can combine the **cut and qcut** for slicing data with **groupby** to perform bucket or quantile analysis"
      ]
    },
    {
      "cell_type": "code",
      "metadata": {
        "id": "igT6osG8wXLV"
      },
      "source": [
        "frame = pd.DataFrame({'data1' : np.random.randn(1000),\r\n",
        "                      'data2' : np.random.randn(1000)})"
      ],
      "execution_count": null,
      "outputs": []
    },
    {
      "cell_type": "code",
      "metadata": {
        "colab": {
          "base_uri": "https://localhost:8080/",
          "height": 110
        },
        "id": "AL3WPXr-45XH",
        "outputId": "7456ce9d-89a1-44f4-8dee-8b151a3374f2"
      },
      "source": [
        "frame.head(2)"
      ],
      "execution_count": null,
      "outputs": [
        {
          "output_type": "execute_result",
          "data": {
            "text/html": [
              "<div>\n",
              "<style scoped>\n",
              "    .dataframe tbody tr th:only-of-type {\n",
              "        vertical-align: middle;\n",
              "    }\n",
              "\n",
              "    .dataframe tbody tr th {\n",
              "        vertical-align: top;\n",
              "    }\n",
              "\n",
              "    .dataframe thead th {\n",
              "        text-align: right;\n",
              "    }\n",
              "</style>\n",
              "<table border=\"1\" class=\"dataframe\">\n",
              "  <thead>\n",
              "    <tr style=\"text-align: right;\">\n",
              "      <th></th>\n",
              "      <th>data1</th>\n",
              "      <th>data2</th>\n",
              "    </tr>\n",
              "  </thead>\n",
              "  <tbody>\n",
              "    <tr>\n",
              "      <th>0</th>\n",
              "      <td>1.650542</td>\n",
              "      <td>0.097234</td>\n",
              "    </tr>\n",
              "    <tr>\n",
              "      <th>1</th>\n",
              "      <td>-0.476197</td>\n",
              "      <td>0.780843</td>\n",
              "    </tr>\n",
              "  </tbody>\n",
              "</table>\n",
              "</div>"
            ],
            "text/plain": [
              "      data1     data2\n",
              "0  1.650542  0.097234\n",
              "1 -0.476197  0.780843"
            ]
          },
          "metadata": {
            "tags": []
          },
          "execution_count": 176
        }
      ]
    },
    {
      "cell_type": "code",
      "metadata": {
        "id": "ZSiS_4DRwXN5"
      },
      "source": [
        "quartiles = pd.cut(frame.data1, 4)"
      ],
      "execution_count": null,
      "outputs": []
    },
    {
      "cell_type": "code",
      "metadata": {
        "colab": {
          "base_uri": "https://localhost:8080/"
        },
        "id": "_hdzNF0UwXQs",
        "outputId": "64250cf8-cba0-4020-ab17-490eb003a762"
      },
      "source": [
        "quartiles"
      ],
      "execution_count": null,
      "outputs": [
        {
          "output_type": "execute_result",
          "data": {
            "text/plain": [
              "0      (-1.728, -0.15]\n",
              "1      (-1.728, -0.15]\n",
              "2      (-1.728, -0.15]\n",
              "3      (-1.728, -0.15]\n",
              "4      (-1.728, -0.15]\n",
              "            ...       \n",
              "995     (1.427, 3.005]\n",
              "996     (-0.15, 1.427]\n",
              "997     (-0.15, 1.427]\n",
              "998     (-0.15, 1.427]\n",
              "999     (-0.15, 1.427]\n",
              "Name: data1, Length: 1000, dtype: category\n",
              "Categories (4, interval[float64]): [(-3.311, -1.728] < (-1.728, -0.15] < (-0.15, 1.427] <\n",
              "                                    (1.427, 3.005]]"
            ]
          },
          "metadata": {
            "tags": []
          },
          "execution_count": 177
        }
      ]
    },
    {
      "cell_type": "markdown",
      "metadata": {
        "id": "bPWaxBcu5cU0"
      },
      "source": [
        "The categorical object returned by cut can be passed directly to groupby"
      ]
    },
    {
      "cell_type": "code",
      "metadata": {
        "id": "LljTaLtywXTq"
      },
      "source": [
        "def get_stats(group):\r\n",
        "  return {'min' : group.min(), 'max' : group.max(),\r\n",
        "          'count' : group.count(), 'mean' : group.mean()}"
      ],
      "execution_count": null,
      "outputs": []
    },
    {
      "cell_type": "code",
      "metadata": {
        "id": "N7E0PXcIwXWD"
      },
      "source": [
        "grouped = frame.data2.groupby(quartiles)"
      ],
      "execution_count": null,
      "outputs": []
    },
    {
      "cell_type": "code",
      "metadata": {
        "colab": {
          "base_uri": "https://localhost:8080/"
        },
        "id": "TRcxhqdzwXZJ",
        "outputId": "e259d7c5-7de5-45d1-c571-a2e80e6d6e96"
      },
      "source": [
        "grouped.apply(get_stats)"
      ],
      "execution_count": null,
      "outputs": [
        {
          "output_type": "execute_result",
          "data": {
            "text/plain": [
              "data1                  \n",
              "(-3.311, -1.728]  min       -1.830666\n",
              "                  max        2.547062\n",
              "                  count     33.000000\n",
              "                  mean      -0.031481\n",
              "(-1.728, -0.15]   min       -2.817099\n",
              "                  max        3.446188\n",
              "                  count    393.000000\n",
              "                  mean       0.046276\n",
              "(-0.15, 1.427]    min       -2.965736\n",
              "                  max        3.799614\n",
              "                  count    490.000000\n",
              "                  mean      -0.056506\n",
              "(1.427, 3.005]    min       -3.557961\n",
              "                  max        1.978920\n",
              "                  count     84.000000\n",
              "                  mean      -0.192978\n",
              "Name: data2, dtype: float64"
            ]
          },
          "metadata": {
            "tags": []
          },
          "execution_count": 182
        }
      ]
    },
    {
      "cell_type": "code",
      "metadata": {
        "colab": {
          "base_uri": "https://localhost:8080/",
          "height": 202
        },
        "id": "14k4WdWUwXbw",
        "outputId": "c0061fbf-63c0-4654-c4ce-d5ace9e5d4da"
      },
      "source": [
        "grouped.apply(get_stats).unstack()"
      ],
      "execution_count": null,
      "outputs": [
        {
          "output_type": "execute_result",
          "data": {
            "text/html": [
              "<div>\n",
              "<style scoped>\n",
              "    .dataframe tbody tr th:only-of-type {\n",
              "        vertical-align: middle;\n",
              "    }\n",
              "\n",
              "    .dataframe tbody tr th {\n",
              "        vertical-align: top;\n",
              "    }\n",
              "\n",
              "    .dataframe thead th {\n",
              "        text-align: right;\n",
              "    }\n",
              "</style>\n",
              "<table border=\"1\" class=\"dataframe\">\n",
              "  <thead>\n",
              "    <tr style=\"text-align: right;\">\n",
              "      <th></th>\n",
              "      <th>min</th>\n",
              "      <th>max</th>\n",
              "      <th>count</th>\n",
              "      <th>mean</th>\n",
              "    </tr>\n",
              "    <tr>\n",
              "      <th>data1</th>\n",
              "      <th></th>\n",
              "      <th></th>\n",
              "      <th></th>\n",
              "      <th></th>\n",
              "    </tr>\n",
              "  </thead>\n",
              "  <tbody>\n",
              "    <tr>\n",
              "      <th>(-3.311, -1.728]</th>\n",
              "      <td>-1.830666</td>\n",
              "      <td>2.547062</td>\n",
              "      <td>33.0</td>\n",
              "      <td>-0.031481</td>\n",
              "    </tr>\n",
              "    <tr>\n",
              "      <th>(-1.728, -0.15]</th>\n",
              "      <td>-2.817099</td>\n",
              "      <td>3.446188</td>\n",
              "      <td>393.0</td>\n",
              "      <td>0.046276</td>\n",
              "    </tr>\n",
              "    <tr>\n",
              "      <th>(-0.15, 1.427]</th>\n",
              "      <td>-2.965736</td>\n",
              "      <td>3.799614</td>\n",
              "      <td>490.0</td>\n",
              "      <td>-0.056506</td>\n",
              "    </tr>\n",
              "    <tr>\n",
              "      <th>(1.427, 3.005]</th>\n",
              "      <td>-3.557961</td>\n",
              "      <td>1.978920</td>\n",
              "      <td>84.0</td>\n",
              "      <td>-0.192978</td>\n",
              "    </tr>\n",
              "  </tbody>\n",
              "</table>\n",
              "</div>"
            ],
            "text/plain": [
              "                       min       max  count      mean\n",
              "data1                                                \n",
              "(-3.311, -1.728] -1.830666  2.547062   33.0 -0.031481\n",
              "(-1.728, -0.15]  -2.817099  3.446188  393.0  0.046276\n",
              "(-0.15, 1.427]   -2.965736  3.799614  490.0 -0.056506\n",
              "(1.427, 3.005]   -3.557961  1.978920   84.0 -0.192978"
            ]
          },
          "metadata": {
            "tags": []
          },
          "execution_count": 183
        }
      ]
    },
    {
      "cell_type": "markdown",
      "metadata": {
        "id": "GjuS6lhh6JJx"
      },
      "source": [
        "**cut() --> to get equal-length buckets**\r\n",
        "\r\n",
        "**qcut() --> to get equal-size buckets**"
      ]
    },
    {
      "cell_type": "code",
      "metadata": {
        "id": "Rv6eo3z-wXeZ"
      },
      "source": [
        "# return quantile numbers\r\n",
        "grouping = pd.qcut(frame.data1, 10, labels = False)"
      ],
      "execution_count": null,
      "outputs": []
    },
    {
      "cell_type": "code",
      "metadata": {
        "colab": {
          "base_uri": "https://localhost:8080/"
        },
        "id": "Ln1sEah96lkz",
        "outputId": "5fc4e8ee-cf5b-480f-c35e-f403935eaa08"
      },
      "source": [
        "grouping[grouping == 9]"
      ],
      "execution_count": null,
      "outputs": [
        {
          "output_type": "execute_result",
          "data": {
            "text/plain": [
              "0      9\n",
              "9      9\n",
              "16     9\n",
              "26     9\n",
              "33     9\n",
              "      ..\n",
              "978    9\n",
              "980    9\n",
              "986    9\n",
              "988    9\n",
              "990    9\n",
              "Name: data1, Length: 100, dtype: int64"
            ]
          },
          "metadata": {
            "tags": []
          },
          "execution_count": 202
        }
      ]
    },
    {
      "cell_type": "code",
      "metadata": {
        "id": "OzLBrtjCwXhR"
      },
      "source": [
        "grouped = frame.data2.groupby(grouping)"
      ],
      "execution_count": null,
      "outputs": []
    },
    {
      "cell_type": "code",
      "metadata": {
        "colab": {
          "base_uri": "https://localhost:8080/",
          "height": 386
        },
        "id": "QIkHVMY0wXuI",
        "outputId": "f5a8bb2d-504d-43d9-eca4-c88d30a46f1f"
      },
      "source": [
        "grouped.apply(get_stats).unstack()"
      ],
      "execution_count": null,
      "outputs": [
        {
          "output_type": "execute_result",
          "data": {
            "text/html": [
              "<div>\n",
              "<style scoped>\n",
              "    .dataframe tbody tr th:only-of-type {\n",
              "        vertical-align: middle;\n",
              "    }\n",
              "\n",
              "    .dataframe tbody tr th {\n",
              "        vertical-align: top;\n",
              "    }\n",
              "\n",
              "    .dataframe thead th {\n",
              "        text-align: right;\n",
              "    }\n",
              "</style>\n",
              "<table border=\"1\" class=\"dataframe\">\n",
              "  <thead>\n",
              "    <tr style=\"text-align: right;\">\n",
              "      <th></th>\n",
              "      <th>min</th>\n",
              "      <th>max</th>\n",
              "      <th>count</th>\n",
              "      <th>mean</th>\n",
              "    </tr>\n",
              "    <tr>\n",
              "      <th>data1</th>\n",
              "      <th></th>\n",
              "      <th></th>\n",
              "      <th></th>\n",
              "      <th></th>\n",
              "    </tr>\n",
              "  </thead>\n",
              "  <tbody>\n",
              "    <tr>\n",
              "      <th>0</th>\n",
              "      <td>-2.965736</td>\n",
              "      <td>2.696524</td>\n",
              "      <td>100.0</td>\n",
              "      <td>-0.006074</td>\n",
              "    </tr>\n",
              "    <tr>\n",
              "      <th>1</th>\n",
              "      <td>-2.664578</td>\n",
              "      <td>2.541862</td>\n",
              "      <td>100.0</td>\n",
              "      <td>0.088237</td>\n",
              "    </tr>\n",
              "    <tr>\n",
              "      <th>2</th>\n",
              "      <td>-2.817099</td>\n",
              "      <td>3.006331</td>\n",
              "      <td>100.0</td>\n",
              "      <td>0.012014</td>\n",
              "    </tr>\n",
              "    <tr>\n",
              "      <th>3</th>\n",
              "      <td>-3.557961</td>\n",
              "      <td>1.949009</td>\n",
              "      <td>100.0</td>\n",
              "      <td>-0.106809</td>\n",
              "    </tr>\n",
              "    <tr>\n",
              "      <th>4</th>\n",
              "      <td>-1.896425</td>\n",
              "      <td>2.415790</td>\n",
              "      <td>100.0</td>\n",
              "      <td>-0.011352</td>\n",
              "    </tr>\n",
              "    <tr>\n",
              "      <th>5</th>\n",
              "      <td>-2.186929</td>\n",
              "      <td>2.272041</td>\n",
              "      <td>100.0</td>\n",
              "      <td>0.011501</td>\n",
              "    </tr>\n",
              "    <tr>\n",
              "      <th>6</th>\n",
              "      <td>-2.334985</td>\n",
              "      <td>3.799614</td>\n",
              "      <td>100.0</td>\n",
              "      <td>-0.173782</td>\n",
              "    </tr>\n",
              "    <tr>\n",
              "      <th>7</th>\n",
              "      <td>-2.540192</td>\n",
              "      <td>2.261530</td>\n",
              "      <td>100.0</td>\n",
              "      <td>-0.033825</td>\n",
              "    </tr>\n",
              "    <tr>\n",
              "      <th>8</th>\n",
              "      <td>-2.946897</td>\n",
              "      <td>2.640539</td>\n",
              "      <td>100.0</td>\n",
              "      <td>-0.026682</td>\n",
              "    </tr>\n",
              "    <tr>\n",
              "      <th>9</th>\n",
              "      <td>-2.883929</td>\n",
              "      <td>2.672375</td>\n",
              "      <td>100.0</td>\n",
              "      <td>-0.020729</td>\n",
              "    </tr>\n",
              "  </tbody>\n",
              "</table>\n",
              "</div>"
            ],
            "text/plain": [
              "            min       max  count      mean\n",
              "data1                                     \n",
              "0     -2.965736  2.696524  100.0 -0.006074\n",
              "1     -2.664578  2.541862  100.0  0.088237\n",
              "2     -2.817099  3.006331  100.0  0.012014\n",
              "3     -3.557961  1.949009  100.0 -0.106809\n",
              "4     -1.896425  2.415790  100.0 -0.011352\n",
              "5     -2.186929  2.272041  100.0  0.011501\n",
              "6     -2.334985  3.799614  100.0 -0.173782\n",
              "7     -2.540192  2.261530  100.0 -0.033825\n",
              "8     -2.946897  2.640539  100.0 -0.026682\n",
              "9     -2.883929  2.672375  100.0 -0.020729"
            ]
          },
          "metadata": {
            "tags": []
          },
          "execution_count": 205
        }
      ]
    },
    {
      "cell_type": "markdown",
      "metadata": {
        "id": "aggyI6iw7zop"
      },
      "source": [
        "### Example : Filling Missing Values with Group-specific Values"
      ]
    },
    {
      "cell_type": "markdown",
      "metadata": {
        "id": "oi81AIHzCltw"
      },
      "source": [
        "**Fill na using lambda and groupby**"
      ]
    },
    {
      "cell_type": "code",
      "metadata": {
        "id": "koA4GVSxYKPL"
      },
      "source": [
        "s = pd.Series(np.random.randn(6))"
      ],
      "execution_count": null,
      "outputs": []
    },
    {
      "cell_type": "code",
      "metadata": {
        "id": "r-hM3uMwwZ9_"
      },
      "source": [
        "s[::2] = np.nan"
      ],
      "execution_count": null,
      "outputs": []
    },
    {
      "cell_type": "code",
      "metadata": {
        "colab": {
          "base_uri": "https://localhost:8080/"
        },
        "id": "fQAIFAJdwaeu",
        "outputId": "2d8022df-72e5-4d09-d917-12a9a29d332c"
      },
      "source": [
        "s"
      ],
      "execution_count": null,
      "outputs": [
        {
          "output_type": "execute_result",
          "data": {
            "text/plain": [
              "0         NaN\n",
              "1    0.262962\n",
              "2         NaN\n",
              "3    0.660490\n",
              "4         NaN\n",
              "5   -0.747704\n",
              "dtype: float64"
            ]
          },
          "metadata": {
            "tags": []
          },
          "execution_count": 208
        }
      ]
    },
    {
      "cell_type": "code",
      "metadata": {
        "colab": {
          "base_uri": "https://localhost:8080/"
        },
        "id": "t4vZU77Cwahp",
        "outputId": "6084f54b-1040-4e06-d679-05c80307020a"
      },
      "source": [
        "s.fillna(s.mean())"
      ],
      "execution_count": null,
      "outputs": [
        {
          "output_type": "execute_result",
          "data": {
            "text/plain": [
              "0    0.058583\n",
              "1    0.262962\n",
              "2    0.058583\n",
              "3    0.660490\n",
              "4    0.058583\n",
              "5   -0.747704\n",
              "dtype: float64"
            ]
          },
          "metadata": {
            "tags": []
          },
          "execution_count": 209
        }
      ]
    },
    {
      "cell_type": "markdown",
      "metadata": {
        "id": "w8f3rSba8RHg"
      },
      "source": [
        "You can use **apply** with **fillna** to fill value to vary by group"
      ]
    },
    {
      "cell_type": "code",
      "metadata": {
        "id": "rm3dxeRx8P35"
      },
      "source": [
        "states = ['Ohio', 'New York', 'Vermont', 'Florida',\r\n",
        "          'Oregon', 'Nevada', 'California', 'Idaho']\r\n",
        "group_key = ['East'] * 4 + ['West'] * 4"
      ],
      "execution_count": null,
      "outputs": []
    },
    {
      "cell_type": "code",
      "metadata": {
        "id": "1nrY11-y8P6t"
      },
      "source": [
        "data = pd.Series(np.random.randn(8), index = states)"
      ],
      "execution_count": null,
      "outputs": []
    },
    {
      "cell_type": "code",
      "metadata": {
        "colab": {
          "base_uri": "https://localhost:8080/"
        },
        "id": "7LPu5dM88P9K",
        "outputId": "dc314da9-dcda-4113-fa84-03ce33b11e5c"
      },
      "source": [
        "data"
      ],
      "execution_count": null,
      "outputs": [
        {
          "output_type": "execute_result",
          "data": {
            "text/plain": [
              "Ohio          0.293639\n",
              "New York     -0.446015\n",
              "Vermont      -0.257568\n",
              "Florida      -1.736337\n",
              "Oregon        1.192243\n",
              "Nevada       -0.414103\n",
              "California   -0.626024\n",
              "Idaho        -0.198401\n",
              "dtype: float64"
            ]
          },
          "metadata": {
            "tags": []
          },
          "execution_count": 218
        }
      ]
    },
    {
      "cell_type": "code",
      "metadata": {
        "id": "ZQ_cJB--8P_h"
      },
      "source": [
        "data[['Vermont', 'Nevada', 'Idaho']] = np.nan"
      ],
      "execution_count": null,
      "outputs": []
    },
    {
      "cell_type": "code",
      "metadata": {
        "colab": {
          "base_uri": "https://localhost:8080/"
        },
        "id": "KjlmYsfy8QCE",
        "outputId": "1bea0c3b-bd0a-4cb0-a7d8-ef08de208e8f"
      },
      "source": [
        "data"
      ],
      "execution_count": null,
      "outputs": [
        {
          "output_type": "execute_result",
          "data": {
            "text/plain": [
              "Ohio          0.293639\n",
              "New York     -0.446015\n",
              "Vermont            NaN\n",
              "Florida      -1.736337\n",
              "Oregon        1.192243\n",
              "Nevada             NaN\n",
              "California   -0.626024\n",
              "Idaho              NaN\n",
              "dtype: float64"
            ]
          },
          "metadata": {
            "tags": []
          },
          "execution_count": 220
        }
      ]
    },
    {
      "cell_type": "code",
      "metadata": {
        "colab": {
          "base_uri": "https://localhost:8080/"
        },
        "id": "vpV_P5dE8QG_",
        "outputId": "123460c0-834e-456c-e7a8-ee42fb17289e"
      },
      "source": [
        "data.groupby(group_key).mean()"
      ],
      "execution_count": null,
      "outputs": [
        {
          "output_type": "execute_result",
          "data": {
            "text/plain": [
              "East   -0.629571\n",
              "West    0.283110\n",
              "dtype: float64"
            ]
          },
          "metadata": {
            "tags": []
          },
          "execution_count": 221
        }
      ]
    },
    {
      "cell_type": "code",
      "metadata": {
        "id": "TsbxgSKu8QJ0"
      },
      "source": [
        "# we can fill the NA values using the group means\r\n",
        "fill_mean = lambda g : g.fillna(g.mean())"
      ],
      "execution_count": null,
      "outputs": []
    },
    {
      "cell_type": "code",
      "metadata": {
        "colab": {
          "base_uri": "https://localhost:8080/"
        },
        "id": "LCD5SMjk8QMV",
        "outputId": "07547564-aef5-42fc-a165-2de4a9df327b"
      },
      "source": [
        "data.groupby(group_key).apply(fill_mean)"
      ],
      "execution_count": null,
      "outputs": [
        {
          "output_type": "execute_result",
          "data": {
            "text/plain": [
              "Ohio          0.293639\n",
              "New York     -0.446015\n",
              "Vermont      -0.629571\n",
              "Florida      -1.736337\n",
              "Oregon        1.192243\n",
              "Nevada        0.283110\n",
              "California   -0.626024\n",
              "Idaho         0.283110\n",
              "dtype: float64"
            ]
          },
          "metadata": {
            "tags": []
          },
          "execution_count": 225
        }
      ]
    },
    {
      "cell_type": "code",
      "metadata": {
        "id": "uT3TXLQu8QPc"
      },
      "source": [
        "fill_values = {'East' : 0.5, 'West' : -1}"
      ],
      "execution_count": null,
      "outputs": []
    },
    {
      "cell_type": "code",
      "metadata": {
        "id": "sjXimwcO8QRw"
      },
      "source": [
        "fill_func = lambda g : g.fillna(fill_values[g.name])"
      ],
      "execution_count": null,
      "outputs": []
    },
    {
      "cell_type": "code",
      "metadata": {
        "colab": {
          "base_uri": "https://localhost:8080/"
        },
        "id": "lE-1svk88Qil",
        "outputId": "ad37def8-c77c-404f-ca5c-20e19e7be581"
      },
      "source": [
        "data.groupby(group_key).apply(fill_func)"
      ],
      "execution_count": null,
      "outputs": [
        {
          "output_type": "execute_result",
          "data": {
            "text/plain": [
              "Ohio          0.293639\n",
              "New York     -0.446015\n",
              "Vermont       0.500000\n",
              "Florida      -1.736337\n",
              "Oregon        1.192243\n",
              "Nevada       -1.000000\n",
              "California   -0.626024\n",
              "Idaho        -1.000000\n",
              "dtype: float64"
            ]
          },
          "metadata": {
            "tags": []
          },
          "execution_count": 228
        }
      ]
    },
    {
      "cell_type": "markdown",
      "metadata": {
        "id": "hsTz6WW_CqmK"
      },
      "source": [
        "### Example : Random Sampling and Permutation"
      ]
    },
    {
      "cell_type": "markdown",
      "metadata": {
        "id": "IL0N8Bh9C5qU"
      },
      "source": [
        "Draw a random sample (with or without replacement) from a\r\n",
        "large dataset for Monte Carlo simulation purposes or some other application. There\r\n",
        "are a number of ways to perform the “draws”; here we use the sample method for\r\n",
        "Series."
      ]
    },
    {
      "cell_type": "code",
      "metadata": {
        "id": "HsUlsg5ICqHI"
      },
      "source": [
        "# Hearts, Spades, Clubs, Diamonds\r\n",
        "suits = ['H', 'S', 'C', 'D']\r\n",
        "card_val = (list(range(1, 11)) + [10] * 3) * 4\r\n",
        "base_names = ['A'] + list(range(2, 11)) + ['J', 'K', 'Q']\r\n",
        "cards = []\r\n",
        "for suit in ['H', 'S', 'C', 'D']:\r\n",
        "  cards.extend(str(num) + suit for num in base_names)\r\n",
        "\r\n",
        "deck = pd.Series(card_val, index = cards)"
      ],
      "execution_count": null,
      "outputs": []
    },
    {
      "cell_type": "code",
      "metadata": {
        "colab": {
          "base_uri": "https://localhost:8080/"
        },
        "id": "fUcLmqEWCqJk",
        "outputId": "5cdd615b-a888-493e-8bac-7c2213ad7d6e"
      },
      "source": [
        "deck[:13]"
      ],
      "execution_count": null,
      "outputs": [
        {
          "output_type": "execute_result",
          "data": {
            "text/plain": [
              "AH      1\n",
              "2H      2\n",
              "3H      3\n",
              "4H      4\n",
              "5H      5\n",
              "6H      6\n",
              "7H      7\n",
              "8H      8\n",
              "9H      9\n",
              "10H    10\n",
              "JH     10\n",
              "KH     10\n",
              "QH     10\n",
              "dtype: int64"
            ]
          },
          "metadata": {
            "tags": []
          },
          "execution_count": 230
        }
      ]
    },
    {
      "cell_type": "code",
      "metadata": {
        "colab": {
          "base_uri": "https://localhost:8080/"
        },
        "id": "o61U8AfVCqOt",
        "outputId": "ae9f95ad-6b54-46c9-a037-480b9344561a"
      },
      "source": [
        "# drawing a hand of five cards from the deck\r\n",
        "def draw(deck, n = 5):\r\n",
        "  return deck.sample(n)\r\n",
        "\r\n",
        "draw(deck)"
      ],
      "execution_count": null,
      "outputs": [
        {
          "output_type": "execute_result",
          "data": {
            "text/plain": [
              "7H     7\n",
              "4S     4\n",
              "AH     1\n",
              "8C     8\n",
              "JD    10\n",
              "dtype: int64"
            ]
          },
          "metadata": {
            "tags": []
          },
          "execution_count": 231
        }
      ]
    },
    {
      "cell_type": "code",
      "metadata": {
        "colab": {
          "base_uri": "https://localhost:8080/"
        },
        "id": "hMjH7p6wCqRB",
        "outputId": "cc2c931b-7451-4999-cd41-a067a21fa9e7"
      },
      "source": [
        "# you want 2 random cards from each suit, we can use apply\r\n",
        "get_suit = lambda card : card[-1] # last letter is suit\r\n",
        "\r\n",
        "deck.groupby(get_suit).apply(draw, n = 2)"
      ],
      "execution_count": null,
      "outputs": [
        {
          "output_type": "execute_result",
          "data": {
            "text/plain": [
              "C  8C      8\n",
              "   10C    10\n",
              "D  4D      4\n",
              "   QD     10\n",
              "H  QH     10\n",
              "   10H    10\n",
              "S  10S    10\n",
              "   7S      7\n",
              "dtype: int64"
            ]
          },
          "metadata": {
            "tags": []
          },
          "execution_count": 232
        }
      ]
    },
    {
      "cell_type": "code",
      "metadata": {
        "colab": {
          "base_uri": "https://localhost:8080/"
        },
        "id": "sm7dZ_HaCqTX",
        "outputId": "24721df8-06a0-43ba-c2cd-6bfb8be4293e"
      },
      "source": [
        "# alternatively, we could write\r\n",
        "deck.groupby(get_suit, group_keys=False).apply(draw, n = 2)"
      ],
      "execution_count": null,
      "outputs": [
        {
          "output_type": "execute_result",
          "data": {
            "text/plain": [
              "KC    10\n",
              "AC     1\n",
              "4D     4\n",
              "9D     9\n",
              "8H     8\n",
              "2H     2\n",
              "9S     9\n",
              "5S     5\n",
              "dtype: int64"
            ]
          },
          "metadata": {
            "tags": []
          },
          "execution_count": 233
        }
      ]
    },
    {
      "cell_type": "markdown",
      "metadata": {
        "id": "NHVYWy9uEgbl"
      },
      "source": [
        "### Example : Group Weighted Average and Correlation"
      ]
    },
    {
      "cell_type": "code",
      "metadata": {
        "id": "tiVueFn0CqV-"
      },
      "source": [
        "df = pd.DataFrame({'category' : ['a', 'a', 'a', 'a',\r\n",
        "                                 'b', 'b', 'b', 'b'],\r\n",
        "                   'data' : np.random.randn(8),\r\n",
        "                   'weights' :np.random.rand(8)\r\n",
        "                   })"
      ],
      "execution_count": null,
      "outputs": []
    },
    {
      "cell_type": "code",
      "metadata": {
        "colab": {
          "base_uri": "https://localhost:8080/",
          "height": 294
        },
        "id": "u2-j4GxJ8Qlk",
        "outputId": "228b5fe1-372b-4c4c-ca95-5c661f4ac8dd"
      },
      "source": [
        "df"
      ],
      "execution_count": null,
      "outputs": [
        {
          "output_type": "execute_result",
          "data": {
            "text/html": [
              "<div>\n",
              "<style scoped>\n",
              "    .dataframe tbody tr th:only-of-type {\n",
              "        vertical-align: middle;\n",
              "    }\n",
              "\n",
              "    .dataframe tbody tr th {\n",
              "        vertical-align: top;\n",
              "    }\n",
              "\n",
              "    .dataframe thead th {\n",
              "        text-align: right;\n",
              "    }\n",
              "</style>\n",
              "<table border=\"1\" class=\"dataframe\">\n",
              "  <thead>\n",
              "    <tr style=\"text-align: right;\">\n",
              "      <th></th>\n",
              "      <th>category</th>\n",
              "      <th>data</th>\n",
              "      <th>weights</th>\n",
              "    </tr>\n",
              "  </thead>\n",
              "  <tbody>\n",
              "    <tr>\n",
              "      <th>0</th>\n",
              "      <td>a</td>\n",
              "      <td>-0.909467</td>\n",
              "      <td>0.138920</td>\n",
              "    </tr>\n",
              "    <tr>\n",
              "      <th>1</th>\n",
              "      <td>a</td>\n",
              "      <td>-0.181832</td>\n",
              "      <td>0.027562</td>\n",
              "    </tr>\n",
              "    <tr>\n",
              "      <th>2</th>\n",
              "      <td>a</td>\n",
              "      <td>-0.010227</td>\n",
              "      <td>0.342048</td>\n",
              "    </tr>\n",
              "    <tr>\n",
              "      <th>3</th>\n",
              "      <td>a</td>\n",
              "      <td>0.958537</td>\n",
              "      <td>0.979741</td>\n",
              "    </tr>\n",
              "    <tr>\n",
              "      <th>4</th>\n",
              "      <td>b</td>\n",
              "      <td>1.814318</td>\n",
              "      <td>0.123795</td>\n",
              "    </tr>\n",
              "    <tr>\n",
              "      <th>5</th>\n",
              "      <td>b</td>\n",
              "      <td>0.246866</td>\n",
              "      <td>0.868362</td>\n",
              "    </tr>\n",
              "    <tr>\n",
              "      <th>6</th>\n",
              "      <td>b</td>\n",
              "      <td>-1.089615</td>\n",
              "      <td>0.502368</td>\n",
              "    </tr>\n",
              "    <tr>\n",
              "      <th>7</th>\n",
              "      <td>b</td>\n",
              "      <td>-0.274647</td>\n",
              "      <td>0.288526</td>\n",
              "    </tr>\n",
              "  </tbody>\n",
              "</table>\n",
              "</div>"
            ],
            "text/plain": [
              "  category      data   weights\n",
              "0        a -0.909467  0.138920\n",
              "1        a -0.181832  0.027562\n",
              "2        a -0.010227  0.342048\n",
              "3        a  0.958537  0.979741\n",
              "4        b  1.814318  0.123795\n",
              "5        b  0.246866  0.868362\n",
              "6        b -1.089615  0.502368\n",
              "7        b -0.274647  0.288526"
            ]
          },
          "metadata": {
            "tags": []
          },
          "execution_count": 235
        }
      ]
    },
    {
      "cell_type": "code",
      "metadata": {
        "id": "graAZVdy8QoD"
      },
      "source": [
        "grouped = df.groupby('category')"
      ],
      "execution_count": null,
      "outputs": []
    },
    {
      "cell_type": "code",
      "metadata": {
        "id": "JWPP1fpS8Qqs"
      },
      "source": [
        "get_wavg = lambda g : np.average(g['data'], weights = g['weights'])  # 这个lambda可以直接用在object上，很神奇呀！！"
      ],
      "execution_count": null,
      "outputs": []
    },
    {
      "cell_type": "code",
      "metadata": {
        "colab": {
          "base_uri": "https://localhost:8080/"
        },
        "id": "BlGiMjIG8Qte",
        "outputId": "aa0fd0e8-d4c5-4b82-d85c-db93c18ba382"
      },
      "source": [
        "grouped.apply(get_wavg)"
      ],
      "execution_count": null,
      "outputs": [
        {
          "output_type": "execute_result",
          "data": {
            "text/plain": [
              "category\n",
              "a    0.540403\n",
              "b   -0.105245\n",
              "dtype: float64"
            ]
          },
          "metadata": {
            "tags": []
          },
          "execution_count": 240
        }
      ]
    },
    {
      "cell_type": "markdown",
      "metadata": {
        "id": "vNuamw76FjxS"
      },
      "source": [
        "consider a financial dataset originally obtained from Yahoo! Finance containing stock price and S&P 500 index"
      ]
    },
    {
      "cell_type": "code",
      "metadata": {
        "id": "PGlMK7wf8LWK"
      },
      "source": [
        "close_px = pd.read_csv('stock_px.csv', parse_dates=True, index_col= 0)"
      ],
      "execution_count": null,
      "outputs": []
    },
    {
      "cell_type": "code",
      "metadata": {
        "colab": {
          "base_uri": "https://localhost:8080/"
        },
        "id": "qCRVRtJAFwse",
        "outputId": "d923eb65-ee7f-4772-bc07-2ba813cf4da1"
      },
      "source": [
        "close_px.info()"
      ],
      "execution_count": null,
      "outputs": [
        {
          "output_type": "stream",
          "text": [
            "<class 'pandas.core.frame.DataFrame'>\n",
            "DatetimeIndex: 2214 entries, 2003-01-02 to 2011-10-14\n",
            "Data columns (total 4 columns):\n",
            " #   Column  Non-Null Count  Dtype  \n",
            "---  ------  --------------  -----  \n",
            " 0   AAPL    2214 non-null   float64\n",
            " 1   MSFT    2214 non-null   float64\n",
            " 2   XOM     2214 non-null   float64\n",
            " 3   SPX     2214 non-null   float64\n",
            "dtypes: float64(4)\n",
            "memory usage: 86.5 KB\n"
          ],
          "name": "stdout"
        }
      ]
    },
    {
      "cell_type": "code",
      "metadata": {
        "colab": {
          "base_uri": "https://localhost:8080/",
          "height": 171
        },
        "id": "iaDe0lnFFwvJ",
        "outputId": "97418c95-b0b2-4422-c75a-48af10291f30"
      },
      "source": [
        "close_px[-4:]"
      ],
      "execution_count": null,
      "outputs": [
        {
          "output_type": "execute_result",
          "data": {
            "text/html": [
              "<div>\n",
              "<style scoped>\n",
              "    .dataframe tbody tr th:only-of-type {\n",
              "        vertical-align: middle;\n",
              "    }\n",
              "\n",
              "    .dataframe tbody tr th {\n",
              "        vertical-align: top;\n",
              "    }\n",
              "\n",
              "    .dataframe thead th {\n",
              "        text-align: right;\n",
              "    }\n",
              "</style>\n",
              "<table border=\"1\" class=\"dataframe\">\n",
              "  <thead>\n",
              "    <tr style=\"text-align: right;\">\n",
              "      <th></th>\n",
              "      <th>AAPL</th>\n",
              "      <th>MSFT</th>\n",
              "      <th>XOM</th>\n",
              "      <th>SPX</th>\n",
              "    </tr>\n",
              "  </thead>\n",
              "  <tbody>\n",
              "    <tr>\n",
              "      <th>2011-10-11</th>\n",
              "      <td>400.29</td>\n",
              "      <td>27.00</td>\n",
              "      <td>76.27</td>\n",
              "      <td>1195.54</td>\n",
              "    </tr>\n",
              "    <tr>\n",
              "      <th>2011-10-12</th>\n",
              "      <td>402.19</td>\n",
              "      <td>26.96</td>\n",
              "      <td>77.16</td>\n",
              "      <td>1207.25</td>\n",
              "    </tr>\n",
              "    <tr>\n",
              "      <th>2011-10-13</th>\n",
              "      <td>408.43</td>\n",
              "      <td>27.18</td>\n",
              "      <td>76.37</td>\n",
              "      <td>1203.66</td>\n",
              "    </tr>\n",
              "    <tr>\n",
              "      <th>2011-10-14</th>\n",
              "      <td>422.00</td>\n",
              "      <td>27.27</td>\n",
              "      <td>78.11</td>\n",
              "      <td>1224.58</td>\n",
              "    </tr>\n",
              "  </tbody>\n",
              "</table>\n",
              "</div>"
            ],
            "text/plain": [
              "              AAPL   MSFT    XOM      SPX\n",
              "2011-10-11  400.29  27.00  76.27  1195.54\n",
              "2011-10-12  402.19  26.96  77.16  1207.25\n",
              "2011-10-13  408.43  27.18  76.37  1203.66\n",
              "2011-10-14  422.00  27.27  78.11  1224.58"
            ]
          },
          "metadata": {
            "tags": []
          },
          "execution_count": 244
        }
      ]
    },
    {
      "cell_type": "markdown",
      "metadata": {
        "id": "nmLQuSqSGR4f"
      },
      "source": [
        "Compute a DataFrame consisting of the yearly correlations of daily returns with SPX, we can create a function that computes the pairwise correlation of each column with the 'SPX' column"
      ]
    },
    {
      "cell_type": "code",
      "metadata": {
        "id": "Xwt6WoXtFw0a"
      },
      "source": [
        "rets = close_px.pct_change().dropna()"
      ],
      "execution_count": null,
      "outputs": []
    },
    {
      "cell_type": "code",
      "metadata": {
        "colab": {
          "base_uri": "https://localhost:8080/",
          "height": 415
        },
        "id": "BV1qMGJoG-Ix",
        "outputId": "fb844219-1739-42fe-ae89-7700d0d5eec3"
      },
      "source": [
        "rets"
      ],
      "execution_count": null,
      "outputs": [
        {
          "output_type": "execute_result",
          "data": {
            "text/html": [
              "<div>\n",
              "<style scoped>\n",
              "    .dataframe tbody tr th:only-of-type {\n",
              "        vertical-align: middle;\n",
              "    }\n",
              "\n",
              "    .dataframe tbody tr th {\n",
              "        vertical-align: top;\n",
              "    }\n",
              "\n",
              "    .dataframe thead th {\n",
              "        text-align: right;\n",
              "    }\n",
              "</style>\n",
              "<table border=\"1\" class=\"dataframe\">\n",
              "  <thead>\n",
              "    <tr style=\"text-align: right;\">\n",
              "      <th></th>\n",
              "      <th>AAPL</th>\n",
              "      <th>MSFT</th>\n",
              "      <th>XOM</th>\n",
              "      <th>SPX</th>\n",
              "    </tr>\n",
              "  </thead>\n",
              "  <tbody>\n",
              "    <tr>\n",
              "      <th>2003-01-03</th>\n",
              "      <td>0.006757</td>\n",
              "      <td>0.001421</td>\n",
              "      <td>0.000684</td>\n",
              "      <td>-0.000484</td>\n",
              "    </tr>\n",
              "    <tr>\n",
              "      <th>2003-01-06</th>\n",
              "      <td>0.000000</td>\n",
              "      <td>0.017975</td>\n",
              "      <td>0.024624</td>\n",
              "      <td>0.022474</td>\n",
              "    </tr>\n",
              "    <tr>\n",
              "      <th>2003-01-07</th>\n",
              "      <td>-0.002685</td>\n",
              "      <td>0.019052</td>\n",
              "      <td>-0.033712</td>\n",
              "      <td>-0.006545</td>\n",
              "    </tr>\n",
              "    <tr>\n",
              "      <th>2003-01-08</th>\n",
              "      <td>-0.020188</td>\n",
              "      <td>-0.028272</td>\n",
              "      <td>-0.004145</td>\n",
              "      <td>-0.014086</td>\n",
              "    </tr>\n",
              "    <tr>\n",
              "      <th>2003-01-09</th>\n",
              "      <td>0.008242</td>\n",
              "      <td>0.029094</td>\n",
              "      <td>0.021159</td>\n",
              "      <td>0.019386</td>\n",
              "    </tr>\n",
              "    <tr>\n",
              "      <th>...</th>\n",
              "      <td>...</td>\n",
              "      <td>...</td>\n",
              "      <td>...</td>\n",
              "      <td>...</td>\n",
              "    </tr>\n",
              "    <tr>\n",
              "      <th>2011-10-10</th>\n",
              "      <td>0.051406</td>\n",
              "      <td>0.026286</td>\n",
              "      <td>0.036977</td>\n",
              "      <td>0.034125</td>\n",
              "    </tr>\n",
              "    <tr>\n",
              "      <th>2011-10-11</th>\n",
              "      <td>0.029526</td>\n",
              "      <td>0.002227</td>\n",
              "      <td>-0.000131</td>\n",
              "      <td>0.000544</td>\n",
              "    </tr>\n",
              "    <tr>\n",
              "      <th>2011-10-12</th>\n",
              "      <td>0.004747</td>\n",
              "      <td>-0.001481</td>\n",
              "      <td>0.011669</td>\n",
              "      <td>0.009795</td>\n",
              "    </tr>\n",
              "    <tr>\n",
              "      <th>2011-10-13</th>\n",
              "      <td>0.015515</td>\n",
              "      <td>0.008160</td>\n",
              "      <td>-0.010238</td>\n",
              "      <td>-0.002974</td>\n",
              "    </tr>\n",
              "    <tr>\n",
              "      <th>2011-10-14</th>\n",
              "      <td>0.033225</td>\n",
              "      <td>0.003311</td>\n",
              "      <td>0.022784</td>\n",
              "      <td>0.017380</td>\n",
              "    </tr>\n",
              "  </tbody>\n",
              "</table>\n",
              "<p>2213 rows × 4 columns</p>\n",
              "</div>"
            ],
            "text/plain": [
              "                AAPL      MSFT       XOM       SPX\n",
              "2003-01-03  0.006757  0.001421  0.000684 -0.000484\n",
              "2003-01-06  0.000000  0.017975  0.024624  0.022474\n",
              "2003-01-07 -0.002685  0.019052 -0.033712 -0.006545\n",
              "2003-01-08 -0.020188 -0.028272 -0.004145 -0.014086\n",
              "2003-01-09  0.008242  0.029094  0.021159  0.019386\n",
              "...              ...       ...       ...       ...\n",
              "2011-10-10  0.051406  0.026286  0.036977  0.034125\n",
              "2011-10-11  0.029526  0.002227 -0.000131  0.000544\n",
              "2011-10-12  0.004747 -0.001481  0.011669  0.009795\n",
              "2011-10-13  0.015515  0.008160 -0.010238 -0.002974\n",
              "2011-10-14  0.033225  0.003311  0.022784  0.017380\n",
              "\n",
              "[2213 rows x 4 columns]"
            ]
          },
          "metadata": {
            "tags": []
          },
          "execution_count": 250
        }
      ]
    },
    {
      "cell_type": "code",
      "metadata": {
        "colab": {
          "base_uri": "https://localhost:8080/"
        },
        "id": "5hKuFzLcJjnr",
        "outputId": "c723fb26-bd0a-4ff7-d27b-b27f009d5396"
      },
      "source": [
        "rets.index.year"
      ],
      "execution_count": null,
      "outputs": [
        {
          "output_type": "execute_result",
          "data": {
            "text/plain": [
              "Int64Index([2003, 2003, 2003, 2003, 2003, 2003, 2003, 2003, 2003, 2003,\n",
              "            ...\n",
              "            2011, 2011, 2011, 2011, 2011, 2011, 2011, 2011, 2011, 2011],\n",
              "           dtype='int64', length=2213)"
            ]
          },
          "metadata": {
            "tags": []
          },
          "execution_count": 256
        }
      ]
    },
    {
      "cell_type": "code",
      "metadata": {
        "id": "piAa64yyFw2Y"
      },
      "source": [
        "get_year = lambda x : x.year"
      ],
      "execution_count": null,
      "outputs": []
    },
    {
      "cell_type": "code",
      "metadata": {
        "id": "_XI_fWqLFw7M"
      },
      "source": [
        "by_year = rets.groupby(get_year)"
      ],
      "execution_count": null,
      "outputs": []
    },
    {
      "cell_type": "code",
      "metadata": {
        "id": "qbxkPwQuFwxm"
      },
      "source": [
        "spx_corr = lambda x : x.corrwith(x['SPX'])"
      ],
      "execution_count": null,
      "outputs": []
    },
    {
      "cell_type": "code",
      "metadata": {
        "colab": {
          "base_uri": "https://localhost:8080/",
          "height": 325
        },
        "id": "Bc-qzykEFw-c",
        "outputId": "029968a9-4831-437d-891e-9702cceb8c45"
      },
      "source": [
        "by_year.apply(spx_corr)"
      ],
      "execution_count": null,
      "outputs": [
        {
          "output_type": "execute_result",
          "data": {
            "text/html": [
              "<div>\n",
              "<style scoped>\n",
              "    .dataframe tbody tr th:only-of-type {\n",
              "        vertical-align: middle;\n",
              "    }\n",
              "\n",
              "    .dataframe tbody tr th {\n",
              "        vertical-align: top;\n",
              "    }\n",
              "\n",
              "    .dataframe thead th {\n",
              "        text-align: right;\n",
              "    }\n",
              "</style>\n",
              "<table border=\"1\" class=\"dataframe\">\n",
              "  <thead>\n",
              "    <tr style=\"text-align: right;\">\n",
              "      <th></th>\n",
              "      <th>AAPL</th>\n",
              "      <th>MSFT</th>\n",
              "      <th>XOM</th>\n",
              "      <th>SPX</th>\n",
              "    </tr>\n",
              "  </thead>\n",
              "  <tbody>\n",
              "    <tr>\n",
              "      <th>2003</th>\n",
              "      <td>0.541124</td>\n",
              "      <td>0.745174</td>\n",
              "      <td>0.661265</td>\n",
              "      <td>1.0</td>\n",
              "    </tr>\n",
              "    <tr>\n",
              "      <th>2004</th>\n",
              "      <td>0.374283</td>\n",
              "      <td>0.588531</td>\n",
              "      <td>0.557742</td>\n",
              "      <td>1.0</td>\n",
              "    </tr>\n",
              "    <tr>\n",
              "      <th>2005</th>\n",
              "      <td>0.467540</td>\n",
              "      <td>0.562374</td>\n",
              "      <td>0.631010</td>\n",
              "      <td>1.0</td>\n",
              "    </tr>\n",
              "    <tr>\n",
              "      <th>2006</th>\n",
              "      <td>0.428267</td>\n",
              "      <td>0.406126</td>\n",
              "      <td>0.518514</td>\n",
              "      <td>1.0</td>\n",
              "    </tr>\n",
              "    <tr>\n",
              "      <th>2007</th>\n",
              "      <td>0.508118</td>\n",
              "      <td>0.658770</td>\n",
              "      <td>0.786264</td>\n",
              "      <td>1.0</td>\n",
              "    </tr>\n",
              "    <tr>\n",
              "      <th>2008</th>\n",
              "      <td>0.681434</td>\n",
              "      <td>0.804626</td>\n",
              "      <td>0.828303</td>\n",
              "      <td>1.0</td>\n",
              "    </tr>\n",
              "    <tr>\n",
              "      <th>2009</th>\n",
              "      <td>0.707103</td>\n",
              "      <td>0.654902</td>\n",
              "      <td>0.797921</td>\n",
              "      <td>1.0</td>\n",
              "    </tr>\n",
              "    <tr>\n",
              "      <th>2010</th>\n",
              "      <td>0.710105</td>\n",
              "      <td>0.730118</td>\n",
              "      <td>0.839057</td>\n",
              "      <td>1.0</td>\n",
              "    </tr>\n",
              "    <tr>\n",
              "      <th>2011</th>\n",
              "      <td>0.691931</td>\n",
              "      <td>0.800996</td>\n",
              "      <td>0.859975</td>\n",
              "      <td>1.0</td>\n",
              "    </tr>\n",
              "  </tbody>\n",
              "</table>\n",
              "</div>"
            ],
            "text/plain": [
              "          AAPL      MSFT       XOM  SPX\n",
              "2003  0.541124  0.745174  0.661265  1.0\n",
              "2004  0.374283  0.588531  0.557742  1.0\n",
              "2005  0.467540  0.562374  0.631010  1.0\n",
              "2006  0.428267  0.406126  0.518514  1.0\n",
              "2007  0.508118  0.658770  0.786264  1.0\n",
              "2008  0.681434  0.804626  0.828303  1.0\n",
              "2009  0.707103  0.654902  0.797921  1.0\n",
              "2010  0.710105  0.730118  0.839057  1.0\n",
              "2011  0.691931  0.800996  0.859975  1.0"
            ]
          },
          "metadata": {
            "tags": []
          },
          "execution_count": 249
        }
      ]
    },
    {
      "cell_type": "markdown",
      "metadata": {
        "id": "3NuJuaLCHhow"
      },
      "source": [
        "We can also compute inter-column correlations"
      ]
    },
    {
      "cell_type": "code",
      "metadata": {
        "colab": {
          "base_uri": "https://localhost:8080/"
        },
        "id": "vlPc2VzYFxBv",
        "outputId": "c52d0337-d536-4090-e517-10594ce8f0e7"
      },
      "source": [
        "by_year.apply(lambda g : g['AAPL'].corr(g['MSFT']))"
      ],
      "execution_count": null,
      "outputs": [
        {
          "output_type": "execute_result",
          "data": {
            "text/plain": [
              "2003    0.480868\n",
              "2004    0.259024\n",
              "2005    0.300093\n",
              "2006    0.161735\n",
              "2007    0.417738\n",
              "2008    0.611901\n",
              "2009    0.432738\n",
              "2010    0.571946\n",
              "2011    0.581987\n",
              "dtype: float64"
            ]
          },
          "metadata": {
            "tags": []
          },
          "execution_count": 252
        }
      ]
    },
    {
      "cell_type": "markdown",
      "metadata": {
        "id": "TJTLD6RNJtcu"
      },
      "source": [
        "### Example : Group-Wise Linear Regression"
      ]
    },
    {
      "cell_type": "markdown",
      "metadata": {
        "id": "H9-7aX1DJ8o1"
      },
      "source": [
        "We can use groupby to perform more\r\n",
        "complex group-wise statistical analysis, as long as the function returns a pandas\r\n",
        "object or scalar value. For example, I can define the following regress function\r\n",
        "(using the statsmodels econometrics library), which executes an ordinary least\r\n",
        "squares (OLS) regression on each chunk of data:\r\n"
      ]
    },
    {
      "cell_type": "code",
      "metadata": {
        "id": "PoljF7xoJswf"
      },
      "source": [
        "import statsmodels.api as sm\r\n",
        "def regress(data, yvar, xvars):\r\n",
        "  Y = data[yvar]\r\n",
        "  X = data[xvars]\r\n",
        "  X['intercept'] = 1.\r\n",
        "  result = sm.OLS(Y, X).fit()\r\n",
        "  return result.params"
      ],
      "execution_count": null,
      "outputs": []
    },
    {
      "cell_type": "code",
      "metadata": {
        "colab": {
          "base_uri": "https://localhost:8080/",
          "height": 325
        },
        "id": "mVHZmX66Jsyx",
        "outputId": "9a052da0-8921-471e-9a39-5bd7c3f07362"
      },
      "source": [
        "# run a yearly linear regression of AAPL on SPX returns\r\n",
        "by_year.apply(regress, 'AAPL', ['SPX'])"
      ],
      "execution_count": null,
      "outputs": [
        {
          "output_type": "execute_result",
          "data": {
            "text/html": [
              "<div>\n",
              "<style scoped>\n",
              "    .dataframe tbody tr th:only-of-type {\n",
              "        vertical-align: middle;\n",
              "    }\n",
              "\n",
              "    .dataframe tbody tr th {\n",
              "        vertical-align: top;\n",
              "    }\n",
              "\n",
              "    .dataframe thead th {\n",
              "        text-align: right;\n",
              "    }\n",
              "</style>\n",
              "<table border=\"1\" class=\"dataframe\">\n",
              "  <thead>\n",
              "    <tr style=\"text-align: right;\">\n",
              "      <th></th>\n",
              "      <th>SPX</th>\n",
              "      <th>intercept</th>\n",
              "    </tr>\n",
              "  </thead>\n",
              "  <tbody>\n",
              "    <tr>\n",
              "      <th>2003</th>\n",
              "      <td>1.195406</td>\n",
              "      <td>0.000710</td>\n",
              "    </tr>\n",
              "    <tr>\n",
              "      <th>2004</th>\n",
              "      <td>1.363463</td>\n",
              "      <td>0.004201</td>\n",
              "    </tr>\n",
              "    <tr>\n",
              "      <th>2005</th>\n",
              "      <td>1.766415</td>\n",
              "      <td>0.003246</td>\n",
              "    </tr>\n",
              "    <tr>\n",
              "      <th>2006</th>\n",
              "      <td>1.645496</td>\n",
              "      <td>0.000080</td>\n",
              "    </tr>\n",
              "    <tr>\n",
              "      <th>2007</th>\n",
              "      <td>1.198761</td>\n",
              "      <td>0.003438</td>\n",
              "    </tr>\n",
              "    <tr>\n",
              "      <th>2008</th>\n",
              "      <td>0.968016</td>\n",
              "      <td>-0.001110</td>\n",
              "    </tr>\n",
              "    <tr>\n",
              "      <th>2009</th>\n",
              "      <td>0.879103</td>\n",
              "      <td>0.002954</td>\n",
              "    </tr>\n",
              "    <tr>\n",
              "      <th>2010</th>\n",
              "      <td>1.052608</td>\n",
              "      <td>0.001261</td>\n",
              "    </tr>\n",
              "    <tr>\n",
              "      <th>2011</th>\n",
              "      <td>0.806605</td>\n",
              "      <td>0.001514</td>\n",
              "    </tr>\n",
              "  </tbody>\n",
              "</table>\n",
              "</div>"
            ],
            "text/plain": [
              "           SPX  intercept\n",
              "2003  1.195406   0.000710\n",
              "2004  1.363463   0.004201\n",
              "2005  1.766415   0.003246\n",
              "2006  1.645496   0.000080\n",
              "2007  1.198761   0.003438\n",
              "2008  0.968016  -0.001110\n",
              "2009  0.879103   0.002954\n",
              "2010  1.052608   0.001261\n",
              "2011  0.806605   0.001514"
            ]
          },
          "metadata": {
            "tags": []
          },
          "execution_count": 262
        }
      ]
    },
    {
      "cell_type": "markdown",
      "metadata": {
        "id": "CSIXl3fEKl1v"
      },
      "source": [
        "## 10.4 Pivot Tables and Cross-Tabulation"
      ]
    },
    {
      "cell_type": "markdown",
      "metadata": {
        "id": "1Z3cd_cjKq8S"
      },
      "source": [
        "A pivot table is a data summarization tool frequently found in spreadsheet programs and other data analysis software. It **aggregates a table of data by one or more keys, arranging the dat in a rectangle with some of the group keys along the rows and some along the columns**"
      ]
    },
    {
      "cell_type": "markdown",
      "metadata": {
        "id": "zNJorBx7K_C5"
      },
      "source": [
        "We can combine the pivot table and groupby function with reshape operations utilizing hierarchical indexing"
      ]
    },
    {
      "cell_type": "code",
      "metadata": {
        "colab": {
          "base_uri": "https://localhost:8080/",
          "height": 325
        },
        "id": "lOn1Aa1ZJs1V",
        "outputId": "d5cc6051-629d-4cd5-e49a-f213987013f5"
      },
      "source": [
        "tips.pivot_table(index = ['day', 'smoker'])\r\n",
        "tips.pivot_table()"
      ],
      "execution_count": null,
      "outputs": [
        {
          "output_type": "execute_result",
          "data": {
            "text/html": [
              "<div>\n",
              "<style scoped>\n",
              "    .dataframe tbody tr th:only-of-type {\n",
              "        vertical-align: middle;\n",
              "    }\n",
              "\n",
              "    .dataframe tbody tr th {\n",
              "        vertical-align: top;\n",
              "    }\n",
              "\n",
              "    .dataframe thead th {\n",
              "        text-align: right;\n",
              "    }\n",
              "</style>\n",
              "<table border=\"1\" class=\"dataframe\">\n",
              "  <thead>\n",
              "    <tr style=\"text-align: right;\">\n",
              "      <th></th>\n",
              "      <th></th>\n",
              "      <th>size</th>\n",
              "      <th>tip</th>\n",
              "      <th>tip_pct</th>\n",
              "      <th>total_bill</th>\n",
              "    </tr>\n",
              "    <tr>\n",
              "      <th>day</th>\n",
              "      <th>smoker</th>\n",
              "      <th></th>\n",
              "      <th></th>\n",
              "      <th></th>\n",
              "      <th></th>\n",
              "    </tr>\n",
              "  </thead>\n",
              "  <tbody>\n",
              "    <tr>\n",
              "      <th rowspan=\"2\" valign=\"top\">Fri</th>\n",
              "      <th>No</th>\n",
              "      <td>2.250000</td>\n",
              "      <td>2.812500</td>\n",
              "      <td>0.151650</td>\n",
              "      <td>18.420000</td>\n",
              "    </tr>\n",
              "    <tr>\n",
              "      <th>Yes</th>\n",
              "      <td>2.066667</td>\n",
              "      <td>2.714000</td>\n",
              "      <td>0.174783</td>\n",
              "      <td>16.813333</td>\n",
              "    </tr>\n",
              "    <tr>\n",
              "      <th rowspan=\"2\" valign=\"top\">Sat</th>\n",
              "      <th>No</th>\n",
              "      <td>2.555556</td>\n",
              "      <td>3.102889</td>\n",
              "      <td>0.158048</td>\n",
              "      <td>19.661778</td>\n",
              "    </tr>\n",
              "    <tr>\n",
              "      <th>Yes</th>\n",
              "      <td>2.476190</td>\n",
              "      <td>2.875476</td>\n",
              "      <td>0.147906</td>\n",
              "      <td>21.276667</td>\n",
              "    </tr>\n",
              "    <tr>\n",
              "      <th rowspan=\"2\" valign=\"top\">Sun</th>\n",
              "      <th>No</th>\n",
              "      <td>2.929825</td>\n",
              "      <td>3.167895</td>\n",
              "      <td>0.160113</td>\n",
              "      <td>20.506667</td>\n",
              "    </tr>\n",
              "    <tr>\n",
              "      <th>Yes</th>\n",
              "      <td>2.578947</td>\n",
              "      <td>3.516842</td>\n",
              "      <td>0.187250</td>\n",
              "      <td>24.120000</td>\n",
              "    </tr>\n",
              "    <tr>\n",
              "      <th rowspan=\"2\" valign=\"top\">Thur</th>\n",
              "      <th>No</th>\n",
              "      <td>2.488889</td>\n",
              "      <td>2.673778</td>\n",
              "      <td>0.160298</td>\n",
              "      <td>17.113111</td>\n",
              "    </tr>\n",
              "    <tr>\n",
              "      <th>Yes</th>\n",
              "      <td>2.352941</td>\n",
              "      <td>3.030000</td>\n",
              "      <td>0.163863</td>\n",
              "      <td>19.190588</td>\n",
              "    </tr>\n",
              "  </tbody>\n",
              "</table>\n",
              "</div>"
            ],
            "text/plain": [
              "                 size       tip   tip_pct  total_bill\n",
              "day  smoker                                          \n",
              "Fri  No      2.250000  2.812500  0.151650   18.420000\n",
              "     Yes     2.066667  2.714000  0.174783   16.813333\n",
              "Sat  No      2.555556  3.102889  0.158048   19.661778\n",
              "     Yes     2.476190  2.875476  0.147906   21.276667\n",
              "Sun  No      2.929825  3.167895  0.160113   20.506667\n",
              "     Yes     2.578947  3.516842  0.187250   24.120000\n",
              "Thur No      2.488889  2.673778  0.160298   17.113111\n",
              "     Yes     2.352941  3.030000  0.163863   19.190588"
            ]
          },
          "metadata": {
            "tags": []
          },
          "execution_count": 263
        }
      ]
    },
    {
      "cell_type": "code",
      "metadata": {
        "id": "DkOHeEZnL_7D"
      },
      "source": [
        "days = ['Fri', 'Sat', 'Sun', 'Thur']\r\n",
        "smoke = ['Yes', 'No']\r\n",
        "df_ls = []\r\n",
        "for i in range(len(days)):\r\n",
        "  for j in range(len(smoke)):\r\n",
        "    df_ls.append(tips[(tips['day'] == days[i]) & (tips['smoker'] == smoke[j])])\r\n",
        "df_selected = pd.concat(df_ls)"
      ],
      "execution_count": null,
      "outputs": []
    },
    {
      "cell_type": "code",
      "metadata": {
        "colab": {
          "base_uri": "https://localhost:8080/",
          "height": 415
        },
        "id": "JLwuHMqnOZXi",
        "outputId": "a72996bc-e268-44ea-9c51-5cdde5422fa9"
      },
      "source": [
        "df_selected"
      ],
      "execution_count": null,
      "outputs": [
        {
          "output_type": "execute_result",
          "data": {
            "text/html": [
              "<div>\n",
              "<style scoped>\n",
              "    .dataframe tbody tr th:only-of-type {\n",
              "        vertical-align: middle;\n",
              "    }\n",
              "\n",
              "    .dataframe tbody tr th {\n",
              "        vertical-align: top;\n",
              "    }\n",
              "\n",
              "    .dataframe thead th {\n",
              "        text-align: right;\n",
              "    }\n",
              "</style>\n",
              "<table border=\"1\" class=\"dataframe\">\n",
              "  <thead>\n",
              "    <tr style=\"text-align: right;\">\n",
              "      <th></th>\n",
              "      <th>total_bill</th>\n",
              "      <th>tip</th>\n",
              "      <th>sex</th>\n",
              "      <th>smoker</th>\n",
              "      <th>day</th>\n",
              "      <th>time</th>\n",
              "      <th>size</th>\n",
              "      <th>tip_pct</th>\n",
              "    </tr>\n",
              "  </thead>\n",
              "  <tbody>\n",
              "    <tr>\n",
              "      <th>90</th>\n",
              "      <td>28.97</td>\n",
              "      <td>3.00</td>\n",
              "      <td>Male</td>\n",
              "      <td>Yes</td>\n",
              "      <td>Fri</td>\n",
              "      <td>Dinner</td>\n",
              "      <td>2</td>\n",
              "      <td>0.103555</td>\n",
              "    </tr>\n",
              "    <tr>\n",
              "      <th>92</th>\n",
              "      <td>5.75</td>\n",
              "      <td>1.00</td>\n",
              "      <td>Female</td>\n",
              "      <td>Yes</td>\n",
              "      <td>Fri</td>\n",
              "      <td>Dinner</td>\n",
              "      <td>2</td>\n",
              "      <td>0.173913</td>\n",
              "    </tr>\n",
              "    <tr>\n",
              "      <th>93</th>\n",
              "      <td>16.32</td>\n",
              "      <td>4.30</td>\n",
              "      <td>Female</td>\n",
              "      <td>Yes</td>\n",
              "      <td>Fri</td>\n",
              "      <td>Dinner</td>\n",
              "      <td>2</td>\n",
              "      <td>0.263480</td>\n",
              "    </tr>\n",
              "    <tr>\n",
              "      <th>95</th>\n",
              "      <td>40.17</td>\n",
              "      <td>4.73</td>\n",
              "      <td>Male</td>\n",
              "      <td>Yes</td>\n",
              "      <td>Fri</td>\n",
              "      <td>Dinner</td>\n",
              "      <td>4</td>\n",
              "      <td>0.117750</td>\n",
              "    </tr>\n",
              "    <tr>\n",
              "      <th>96</th>\n",
              "      <td>27.28</td>\n",
              "      <td>4.00</td>\n",
              "      <td>Male</td>\n",
              "      <td>Yes</td>\n",
              "      <td>Fri</td>\n",
              "      <td>Dinner</td>\n",
              "      <td>2</td>\n",
              "      <td>0.146628</td>\n",
              "    </tr>\n",
              "    <tr>\n",
              "      <th>...</th>\n",
              "      <td>...</td>\n",
              "      <td>...</td>\n",
              "      <td>...</td>\n",
              "      <td>...</td>\n",
              "      <td>...</td>\n",
              "      <td>...</td>\n",
              "      <td>...</td>\n",
              "      <td>...</td>\n",
              "    </tr>\n",
              "    <tr>\n",
              "      <th>147</th>\n",
              "      <td>11.87</td>\n",
              "      <td>1.63</td>\n",
              "      <td>Female</td>\n",
              "      <td>No</td>\n",
              "      <td>Thur</td>\n",
              "      <td>Lunch</td>\n",
              "      <td>2</td>\n",
              "      <td>0.137321</td>\n",
              "    </tr>\n",
              "    <tr>\n",
              "      <th>148</th>\n",
              "      <td>9.78</td>\n",
              "      <td>1.73</td>\n",
              "      <td>Male</td>\n",
              "      <td>No</td>\n",
              "      <td>Thur</td>\n",
              "      <td>Lunch</td>\n",
              "      <td>2</td>\n",
              "      <td>0.176892</td>\n",
              "    </tr>\n",
              "    <tr>\n",
              "      <th>149</th>\n",
              "      <td>7.51</td>\n",
              "      <td>2.00</td>\n",
              "      <td>Male</td>\n",
              "      <td>No</td>\n",
              "      <td>Thur</td>\n",
              "      <td>Lunch</td>\n",
              "      <td>2</td>\n",
              "      <td>0.266312</td>\n",
              "    </tr>\n",
              "    <tr>\n",
              "      <th>195</th>\n",
              "      <td>7.56</td>\n",
              "      <td>1.44</td>\n",
              "      <td>Male</td>\n",
              "      <td>No</td>\n",
              "      <td>Thur</td>\n",
              "      <td>Lunch</td>\n",
              "      <td>2</td>\n",
              "      <td>0.190476</td>\n",
              "    </tr>\n",
              "    <tr>\n",
              "      <th>243</th>\n",
              "      <td>18.78</td>\n",
              "      <td>3.00</td>\n",
              "      <td>Female</td>\n",
              "      <td>No</td>\n",
              "      <td>Thur</td>\n",
              "      <td>Dinner</td>\n",
              "      <td>2</td>\n",
              "      <td>0.159744</td>\n",
              "    </tr>\n",
              "  </tbody>\n",
              "</table>\n",
              "<p>244 rows × 8 columns</p>\n",
              "</div>"
            ],
            "text/plain": [
              "     total_bill   tip     sex smoker   day    time  size   tip_pct\n",
              "90        28.97  3.00    Male    Yes   Fri  Dinner     2  0.103555\n",
              "92         5.75  1.00  Female    Yes   Fri  Dinner     2  0.173913\n",
              "93        16.32  4.30  Female    Yes   Fri  Dinner     2  0.263480\n",
              "95        40.17  4.73    Male    Yes   Fri  Dinner     4  0.117750\n",
              "96        27.28  4.00    Male    Yes   Fri  Dinner     2  0.146628\n",
              "..          ...   ...     ...    ...   ...     ...   ...       ...\n",
              "147       11.87  1.63  Female     No  Thur   Lunch     2  0.137321\n",
              "148        9.78  1.73    Male     No  Thur   Lunch     2  0.176892\n",
              "149        7.51  2.00    Male     No  Thur   Lunch     2  0.266312\n",
              "195        7.56  1.44    Male     No  Thur   Lunch     2  0.190476\n",
              "243       18.78  3.00  Female     No  Thur  Dinner     2  0.159744\n",
              "\n",
              "[244 rows x 8 columns]"
            ]
          },
          "metadata": {
            "tags": []
          },
          "execution_count": 285
        }
      ]
    },
    {
      "cell_type": "code",
      "metadata": {
        "colab": {
          "base_uri": "https://localhost:8080/"
        },
        "id": "aImkahyJORyy",
        "outputId": "153e1773-7374-468b-d6d2-c75966388187"
      },
      "source": [
        "df_ls"
      ],
      "execution_count": null,
      "outputs": [
        {
          "output_type": "execute_result",
          "data": {
            "text/plain": [
              "[     total_bill   tip     sex smoker  day    time  size   tip_pct\n",
              " 90        28.97  3.00    Male    Yes  Fri  Dinner     2  0.103555\n",
              " 92         5.75  1.00  Female    Yes  Fri  Dinner     2  0.173913\n",
              " 93        16.32  4.30  Female    Yes  Fri  Dinner     2  0.263480\n",
              " 95        40.17  4.73    Male    Yes  Fri  Dinner     4  0.117750\n",
              " 96        27.28  4.00    Male    Yes  Fri  Dinner     2  0.146628\n",
              " 97        12.03  1.50    Male    Yes  Fri  Dinner     2  0.124688\n",
              " 98        21.01  3.00    Male    Yes  Fri  Dinner     2  0.142789\n",
              " 100       11.35  2.50  Female    Yes  Fri  Dinner     2  0.220264\n",
              " 101       15.38  3.00  Female    Yes  Fri  Dinner     2  0.195059\n",
              " 220       12.16  2.20    Male    Yes  Fri   Lunch     2  0.180921\n",
              " 221       13.42  3.48  Female    Yes  Fri   Lunch     2  0.259314\n",
              " 222        8.58  1.92    Male    Yes  Fri   Lunch     1  0.223776\n",
              " 224       13.42  1.58    Male    Yes  Fri   Lunch     2  0.117735\n",
              " 225       16.27  2.50  Female    Yes  Fri   Lunch     2  0.153657\n",
              " 226       10.09  2.00  Female    Yes  Fri   Lunch     2  0.198216,\n",
              "      total_bill   tip     sex smoker  day    time  size   tip_pct\n",
              " 91        22.49  3.50    Male     No  Fri  Dinner     2  0.155625\n",
              " 94        22.75  3.25  Female     No  Fri  Dinner     2  0.142857\n",
              " 99        12.46  1.50    Male     No  Fri  Dinner     2  0.120385\n",
              " 223       15.98  3.00  Female     No  Fri   Lunch     3  0.187735,\n",
              "      total_bill    tip     sex smoker  day    time  size   tip_pct\n",
              " 56        38.01   3.00    Male    Yes  Sat  Dinner     4  0.078927\n",
              " 58        11.24   1.76    Male    Yes  Sat  Dinner     2  0.156584\n",
              " 60        20.29   3.21    Male    Yes  Sat  Dinner     2  0.158206\n",
              " 61        13.81   2.00    Male    Yes  Sat  Dinner     2  0.144823\n",
              " 62        11.02   1.98    Male    Yes  Sat  Dinner     2  0.179673\n",
              " 63        18.29   3.76    Male    Yes  Sat  Dinner     4  0.205577\n",
              " 67         3.07   1.00  Female    Yes  Sat  Dinner     1  0.325733\n",
              " 69        15.01   2.09    Male    Yes  Sat  Dinner     2  0.139241\n",
              " 72        26.86   3.14  Female    Yes  Sat  Dinner     2  0.116902\n",
              " 73        25.28   5.00  Female    Yes  Sat  Dinner     2  0.197785\n",
              " 76        17.92   3.08    Male    Yes  Sat  Dinner     2  0.171875\n",
              " 102       44.30   2.50  Female    Yes  Sat  Dinner     3  0.056433\n",
              " 103       22.42   3.48  Female    Yes  Sat  Dinner     2  0.155219\n",
              " 105       15.36   1.64    Male    Yes  Sat  Dinner     2  0.106771\n",
              " 106       20.49   4.06    Male    Yes  Sat  Dinner     2  0.198145\n",
              " 107       25.21   4.29    Male    Yes  Sat  Dinner     2  0.170171\n",
              " 109       14.31   4.00  Female    Yes  Sat  Dinner     2  0.279525\n",
              " 168       10.59   1.61  Female    Yes  Sat  Dinner     2  0.152030\n",
              " 169       10.63   2.00  Female    Yes  Sat  Dinner     2  0.188147\n",
              " 170       50.81  10.00    Male    Yes  Sat  Dinner     3  0.196812\n",
              " 171       15.81   3.16    Male    Yes  Sat  Dinner     2  0.199873\n",
              " 206       26.59   3.41    Male    Yes  Sat  Dinner     3  0.128244\n",
              " 207       38.73   3.00    Male    Yes  Sat  Dinner     4  0.077459\n",
              " 208       24.27   2.03    Male    Yes  Sat  Dinner     2  0.083642\n",
              " 209       12.76   2.23  Female    Yes  Sat  Dinner     2  0.174765\n",
              " 210       30.06   2.00    Male    Yes  Sat  Dinner     3  0.066534\n",
              " 211       25.89   5.16    Male    Yes  Sat  Dinner     4  0.199305\n",
              " 213       13.27   2.50  Female    Yes  Sat  Dinner     2  0.188395\n",
              " 214       28.17   6.50  Female    Yes  Sat  Dinner     3  0.230742\n",
              " 215       12.90   1.10  Female    Yes  Sat  Dinner     2  0.085271\n",
              " 216       28.15   3.00    Male    Yes  Sat  Dinner     5  0.106572\n",
              " 217       11.59   1.50    Male    Yes  Sat  Dinner     2  0.129422\n",
              " 218        7.74   1.44    Male    Yes  Sat  Dinner     2  0.186047\n",
              " 219       30.14   3.09  Female    Yes  Sat  Dinner     4  0.102522\n",
              " 229       22.12   2.88  Female    Yes  Sat  Dinner     2  0.130199\n",
              " 230       24.01   2.00    Male    Yes  Sat  Dinner     4  0.083299\n",
              " 231       15.69   3.00    Male    Yes  Sat  Dinner     3  0.191205\n",
              " 234       15.53   3.00    Male    Yes  Sat  Dinner     2  0.193175\n",
              " 236       12.60   1.00    Male    Yes  Sat  Dinner     2  0.079365\n",
              " 237       32.83   1.17    Male    Yes  Sat  Dinner     2  0.035638\n",
              " 240       27.18   2.00  Female    Yes  Sat  Dinner     2  0.073584\n",
              " 241       22.67   2.00    Male    Yes  Sat  Dinner     2  0.088222,\n",
              "      total_bill   tip     sex smoker  day    time  size   tip_pct\n",
              " 19        20.65  3.35    Male     No  Sat  Dinner     3  0.162228\n",
              " 20        17.92  4.08    Male     No  Sat  Dinner     2  0.227679\n",
              " 21        20.29  2.75  Female     No  Sat  Dinner     2  0.135535\n",
              " 22        15.77  2.23  Female     No  Sat  Dinner     2  0.141408\n",
              " 23        39.42  7.58    Male     No  Sat  Dinner     4  0.192288\n",
              " 24        19.82  3.18    Male     No  Sat  Dinner     2  0.160444\n",
              " 25        17.81  2.34    Male     No  Sat  Dinner     4  0.131387\n",
              " 26        13.37  2.00    Male     No  Sat  Dinner     2  0.149589\n",
              " 27        12.69  2.00    Male     No  Sat  Dinner     2  0.157604\n",
              " 28        21.70  4.30    Male     No  Sat  Dinner     2  0.198157\n",
              " 29        19.65  3.00  Female     No  Sat  Dinner     2  0.152672\n",
              " 30         9.55  1.45    Male     No  Sat  Dinner     2  0.151832\n",
              " 31        18.35  2.50    Male     No  Sat  Dinner     4  0.136240\n",
              " 32        15.06  3.00  Female     No  Sat  Dinner     2  0.199203\n",
              " 33        20.69  2.45  Female     No  Sat  Dinner     4  0.118415\n",
              " 34        17.78  3.27    Male     No  Sat  Dinner     2  0.183915\n",
              " 35        24.06  3.60    Male     No  Sat  Dinner     3  0.149626\n",
              " 36        16.31  2.00    Male     No  Sat  Dinner     3  0.122624\n",
              " 37        16.93  3.07  Female     No  Sat  Dinner     3  0.181335\n",
              " 38        18.69  2.31    Male     No  Sat  Dinner     3  0.123596\n",
              " 39        31.27  5.00    Male     No  Sat  Dinner     3  0.159898\n",
              " 40        16.04  2.24    Male     No  Sat  Dinner     3  0.139651\n",
              " 57        26.41  1.50  Female     No  Sat  Dinner     2  0.056797\n",
              " 59        48.27  6.73    Male     No  Sat  Dinner     4  0.139424\n",
              " 64        17.59  2.64    Male     No  Sat  Dinner     3  0.150085\n",
              " 65        20.08  3.15    Male     No  Sat  Dinner     3  0.156873\n",
              " 66        16.45  2.47  Female     No  Sat  Dinner     2  0.150152\n",
              " 68        20.23  2.01    Male     No  Sat  Dinner     2  0.099357\n",
              " 70        12.02  1.97    Male     No  Sat  Dinner     2  0.163894\n",
              " 71        17.07  3.00  Female     No  Sat  Dinner     3  0.175747\n",
              " 74        14.73  2.20  Female     No  Sat  Dinner     2  0.149355\n",
              " 75        10.51  1.25    Male     No  Sat  Dinner     2  0.118934\n",
              " 104       20.92  4.08  Female     No  Sat  Dinner     2  0.195029\n",
              " 108       18.24  3.76    Male     No  Sat  Dinner     2  0.206140\n",
              " 110       14.00  3.00    Male     No  Sat  Dinner     2  0.214286\n",
              " 111        7.25  1.00  Female     No  Sat  Dinner     1  0.137931\n",
              " 212       48.33  9.00    Male     No  Sat  Dinner     4  0.186220\n",
              " 227       20.45  3.00    Male     No  Sat  Dinner     4  0.146699\n",
              " 228       13.28  2.72    Male     No  Sat  Dinner     2  0.204819\n",
              " 232       11.61  3.39    Male     No  Sat  Dinner     2  0.291990\n",
              " 233       10.77  1.47    Male     No  Sat  Dinner     2  0.136490\n",
              " 235       10.07  1.25    Male     No  Sat  Dinner     2  0.124131\n",
              " 238       35.83  4.67  Female     No  Sat  Dinner     3  0.130338\n",
              " 239       29.03  5.92    Male     No  Sat  Dinner     3  0.203927\n",
              " 242       17.82  1.75    Male     No  Sat  Dinner     2  0.098204,\n",
              "      total_bill   tip     sex smoker  day    time  size   tip_pct\n",
              " 164       17.51  3.00  Female    Yes  Sun  Dinner     2  0.171331\n",
              " 172        7.25  5.15    Male    Yes  Sun  Dinner     2  0.710345\n",
              " 173       31.85  3.18    Male    Yes  Sun  Dinner     2  0.099843\n",
              " 174       16.82  4.00    Male    Yes  Sun  Dinner     2  0.237812\n",
              " 175       32.90  3.11    Male    Yes  Sun  Dinner     2  0.094529\n",
              " 176       17.89  2.00    Male    Yes  Sun  Dinner     2  0.111794\n",
              " 177       14.48  2.00    Male    Yes  Sun  Dinner     2  0.138122\n",
              " 178        9.60  4.00  Female    Yes  Sun  Dinner     2  0.416667\n",
              " 179       34.63  3.55    Male    Yes  Sun  Dinner     2  0.102512\n",
              " 180       34.65  3.68    Male    Yes  Sun  Dinner     4  0.106205\n",
              " 181       23.33  5.65    Male    Yes  Sun  Dinner     2  0.242177\n",
              " 182       45.35  3.50    Male    Yes  Sun  Dinner     3  0.077178\n",
              " 183       23.17  6.50    Male    Yes  Sun  Dinner     4  0.280535\n",
              " 184       40.55  3.00    Male    Yes  Sun  Dinner     2  0.073983\n",
              " 186       20.90  3.50  Female    Yes  Sun  Dinner     3  0.167464\n",
              " 187       30.46  2.00    Male    Yes  Sun  Dinner     5  0.065660\n",
              " 188       18.15  3.50  Female    Yes  Sun  Dinner     3  0.192837\n",
              " 189       23.10  4.00    Male    Yes  Sun  Dinner     3  0.173160\n",
              " 190       15.69  1.50    Male    Yes  Sun  Dinner     2  0.095602,\n",
              "      total_bill   tip     sex smoker  day    time  size   tip_pct\n",
              " 0         16.99  1.01  Female     No  Sun  Dinner     2  0.059447\n",
              " 1         10.34  1.66    Male     No  Sun  Dinner     3  0.160542\n",
              " 2         21.01  3.50    Male     No  Sun  Dinner     3  0.166587\n",
              " 3         23.68  3.31    Male     No  Sun  Dinner     2  0.139780\n",
              " 4         24.59  3.61  Female     No  Sun  Dinner     4  0.146808\n",
              " 5         25.29  4.71    Male     No  Sun  Dinner     4  0.186240\n",
              " 6          8.77  2.00    Male     No  Sun  Dinner     2  0.228050\n",
              " 7         26.88  3.12    Male     No  Sun  Dinner     4  0.116071\n",
              " 8         15.04  1.96    Male     No  Sun  Dinner     2  0.130319\n",
              " 9         14.78  3.23    Male     No  Sun  Dinner     2  0.218539\n",
              " 10        10.27  1.71    Male     No  Sun  Dinner     2  0.166504\n",
              " 11        35.26  5.00  Female     No  Sun  Dinner     4  0.141804\n",
              " 12        15.42  1.57    Male     No  Sun  Dinner     2  0.101816\n",
              " 13        18.43  3.00    Male     No  Sun  Dinner     4  0.162778\n",
              " 14        14.83  3.02  Female     No  Sun  Dinner     2  0.203641\n",
              " 15        21.58  3.92    Male     No  Sun  Dinner     2  0.181650\n",
              " 16        10.33  1.67  Female     No  Sun  Dinner     3  0.161665\n",
              " 17        16.29  3.71    Male     No  Sun  Dinner     3  0.227747\n",
              " 18        16.97  3.50  Female     No  Sun  Dinner     3  0.206246\n",
              " 41        17.46  2.54    Male     No  Sun  Dinner     2  0.145475\n",
              " 42        13.94  3.06    Male     No  Sun  Dinner     2  0.219512\n",
              " 43         9.68  1.32    Male     No  Sun  Dinner     2  0.136364\n",
              " 44        30.40  5.60    Male     No  Sun  Dinner     4  0.184211\n",
              " 45        18.29  3.00    Male     No  Sun  Dinner     2  0.164024\n",
              " 46        22.23  5.00    Male     No  Sun  Dinner     2  0.224921\n",
              " 47        32.40  6.00    Male     No  Sun  Dinner     4  0.185185\n",
              " 48        28.55  2.05    Male     No  Sun  Dinner     3  0.071804\n",
              " 49        18.04  3.00    Male     No  Sun  Dinner     2  0.166297\n",
              " 50        12.54  2.50    Male     No  Sun  Dinner     2  0.199362\n",
              " 51        10.29  2.60  Female     No  Sun  Dinner     2  0.252672\n",
              " 52        34.81  5.20  Female     No  Sun  Dinner     4  0.149382\n",
              " 53         9.94  1.56    Male     No  Sun  Dinner     2  0.156942\n",
              " 54        25.56  4.34    Male     No  Sun  Dinner     4  0.169797\n",
              " 55        19.49  3.51    Male     No  Sun  Dinner     2  0.180092\n",
              " 112       38.07  4.00    Male     No  Sun  Dinner     3  0.105070\n",
              " 113       23.95  2.55    Male     No  Sun  Dinner     2  0.106472\n",
              " 114       25.71  4.00  Female     No  Sun  Dinner     3  0.155581\n",
              " 115       17.31  3.50  Female     No  Sun  Dinner     2  0.202195\n",
              " 116       29.93  5.07    Male     No  Sun  Dinner     4  0.169395\n",
              " 150       14.07  2.50    Male     No  Sun  Dinner     2  0.177683\n",
              " 151       13.13  2.00    Male     No  Sun  Dinner     2  0.152323\n",
              " 152       17.26  2.74    Male     No  Sun  Dinner     3  0.158749\n",
              " 153       24.55  2.00    Male     No  Sun  Dinner     4  0.081466\n",
              " 154       19.77  2.00    Male     No  Sun  Dinner     4  0.101163\n",
              " 155       29.85  5.14  Female     No  Sun  Dinner     5  0.172194\n",
              " 156       48.17  5.00    Male     No  Sun  Dinner     6  0.103799\n",
              " 157       25.00  3.75  Female     No  Sun  Dinner     4  0.150000\n",
              " 158       13.39  2.61  Female     No  Sun  Dinner     2  0.194922\n",
              " 159       16.49  2.00    Male     No  Sun  Dinner     4  0.121286\n",
              " 160       21.50  3.50    Male     No  Sun  Dinner     4  0.162791\n",
              " 161       12.66  2.50    Male     No  Sun  Dinner     2  0.197472\n",
              " 162       16.21  2.00  Female     No  Sun  Dinner     3  0.123381\n",
              " 163       13.81  2.00    Male     No  Sun  Dinner     2  0.144823\n",
              " 165       24.52  3.48    Male     No  Sun  Dinner     3  0.141925\n",
              " 166       20.76  2.24    Male     No  Sun  Dinner     2  0.107900\n",
              " 167       31.71  4.50    Male     No  Sun  Dinner     4  0.141911\n",
              " 185       20.69  5.00    Male     No  Sun  Dinner     5  0.241663,\n",
              "      total_bill   tip     sex smoker   day   time  size   tip_pct\n",
              " 80        19.44  3.00    Male    Yes  Thur  Lunch     2  0.154321\n",
              " 83        32.68  5.00    Male    Yes  Thur  Lunch     2  0.152999\n",
              " 138       16.00  2.00    Male    Yes  Thur  Lunch     2  0.125000\n",
              " 191       19.81  4.19  Female    Yes  Thur  Lunch     2  0.211509\n",
              " 192       28.44  2.56    Male    Yes  Thur  Lunch     2  0.090014\n",
              " 193       15.48  2.02    Male    Yes  Thur  Lunch     2  0.130491\n",
              " 194       16.58  4.00    Male    Yes  Thur  Lunch     2  0.241255\n",
              " 196       10.34  2.00    Male    Yes  Thur  Lunch     2  0.193424\n",
              " 197       43.11  5.00  Female    Yes  Thur  Lunch     4  0.115982\n",
              " 198       13.00  2.00  Female    Yes  Thur  Lunch     2  0.153846\n",
              " 199       13.51  2.00    Male    Yes  Thur  Lunch     2  0.148038\n",
              " 200       18.71  4.00    Male    Yes  Thur  Lunch     3  0.213789\n",
              " 201       12.74  2.01  Female    Yes  Thur  Lunch     2  0.157771\n",
              " 202       13.00  2.00  Female    Yes  Thur  Lunch     2  0.153846\n",
              " 203       16.40  2.50  Female    Yes  Thur  Lunch     2  0.152439\n",
              " 204       20.53  4.00    Male    Yes  Thur  Lunch     4  0.194837\n",
              " 205       16.47  3.23  Female    Yes  Thur  Lunch     3  0.196114,\n",
              "      total_bill   tip     sex smoker   day    time  size   tip_pct\n",
              " 77        27.20  4.00    Male     No  Thur   Lunch     4  0.147059\n",
              " 78        22.76  3.00    Male     No  Thur   Lunch     2  0.131810\n",
              " 79        17.29  2.71    Male     No  Thur   Lunch     2  0.156738\n",
              " 81        16.66  3.40    Male     No  Thur   Lunch     2  0.204082\n",
              " 82        10.07  1.83  Female     No  Thur   Lunch     1  0.181728\n",
              " 84        15.98  2.03    Male     No  Thur   Lunch     2  0.127034\n",
              " 85        34.83  5.17  Female     No  Thur   Lunch     4  0.148435\n",
              " 86        13.03  2.00    Male     No  Thur   Lunch     2  0.153492\n",
              " 87        18.28  4.00    Male     No  Thur   Lunch     2  0.218818\n",
              " 88        24.71  5.85    Male     No  Thur   Lunch     2  0.236746\n",
              " 89        21.16  3.00    Male     No  Thur   Lunch     2  0.141777\n",
              " 117       10.65  1.50  Female     No  Thur   Lunch     2  0.140845\n",
              " 118       12.43  1.80  Female     No  Thur   Lunch     2  0.144811\n",
              " 119       24.08  2.92  Female     No  Thur   Lunch     4  0.121262\n",
              " 120       11.69  2.31    Male     No  Thur   Lunch     2  0.197605\n",
              " 121       13.42  1.68  Female     No  Thur   Lunch     2  0.125186\n",
              " 122       14.26  2.50    Male     No  Thur   Lunch     2  0.175316\n",
              " 123       15.95  2.00    Male     No  Thur   Lunch     2  0.125392\n",
              " 124       12.48  2.52  Female     No  Thur   Lunch     2  0.201923\n",
              " 125       29.80  4.20  Female     No  Thur   Lunch     6  0.140940\n",
              " 126        8.52  1.48    Male     No  Thur   Lunch     2  0.173709\n",
              " 127       14.52  2.00  Female     No  Thur   Lunch     2  0.137741\n",
              " 128       11.38  2.00  Female     No  Thur   Lunch     2  0.175747\n",
              " 129       22.82  2.18    Male     No  Thur   Lunch     3  0.095530\n",
              " 130       19.08  1.50    Male     No  Thur   Lunch     2  0.078616\n",
              " 131       20.27  2.83  Female     No  Thur   Lunch     2  0.139615\n",
              " 132       11.17  1.50  Female     No  Thur   Lunch     2  0.134288\n",
              " 133       12.26  2.00  Female     No  Thur   Lunch     2  0.163132\n",
              " 134       18.26  3.25  Female     No  Thur   Lunch     2  0.177985\n",
              " 135        8.51  1.25  Female     No  Thur   Lunch     2  0.146886\n",
              " 136       10.33  2.00  Female     No  Thur   Lunch     2  0.193611\n",
              " 137       14.15  2.00  Female     No  Thur   Lunch     2  0.141343\n",
              " 139       13.16  2.75  Female     No  Thur   Lunch     2  0.208967\n",
              " 140       17.47  3.50  Female     No  Thur   Lunch     2  0.200343\n",
              " 141       34.30  6.70    Male     No  Thur   Lunch     6  0.195335\n",
              " 142       41.19  5.00    Male     No  Thur   Lunch     5  0.121389\n",
              " 143       27.05  5.00  Female     No  Thur   Lunch     6  0.184843\n",
              " 144       16.43  2.30  Female     No  Thur   Lunch     2  0.139988\n",
              " 145        8.35  1.50  Female     No  Thur   Lunch     2  0.179641\n",
              " 146       18.64  1.36  Female     No  Thur   Lunch     3  0.072961\n",
              " 147       11.87  1.63  Female     No  Thur   Lunch     2  0.137321\n",
              " 148        9.78  1.73    Male     No  Thur   Lunch     2  0.176892\n",
              " 149        7.51  2.00    Male     No  Thur   Lunch     2  0.266312\n",
              " 195        7.56  1.44    Male     No  Thur   Lunch     2  0.190476\n",
              " 243       18.78  3.00  Female     No  Thur  Dinner     2  0.159744]"
            ]
          },
          "metadata": {
            "tags": []
          },
          "execution_count": 283
        }
      ]
    },
    {
      "cell_type": "code",
      "metadata": {
        "colab": {
          "base_uri": "https://localhost:8080/",
          "height": 202
        },
        "id": "YvXzGEH6NtO-",
        "outputId": "bc458c5a-1e3c-467f-946c-6952e38d8627"
      },
      "source": [
        "df_selected.head()"
      ],
      "execution_count": null,
      "outputs": [
        {
          "output_type": "execute_result",
          "data": {
            "text/html": [
              "<div>\n",
              "<style scoped>\n",
              "    .dataframe tbody tr th:only-of-type {\n",
              "        vertical-align: middle;\n",
              "    }\n",
              "\n",
              "    .dataframe tbody tr th {\n",
              "        vertical-align: top;\n",
              "    }\n",
              "\n",
              "    .dataframe thead th {\n",
              "        text-align: right;\n",
              "    }\n",
              "</style>\n",
              "<table border=\"1\" class=\"dataframe\">\n",
              "  <thead>\n",
              "    <tr style=\"text-align: right;\">\n",
              "      <th></th>\n",
              "      <th>total_bill</th>\n",
              "      <th>tip</th>\n",
              "      <th>sex</th>\n",
              "      <th>smoker</th>\n",
              "      <th>day</th>\n",
              "      <th>time</th>\n",
              "      <th>size</th>\n",
              "      <th>tip_pct</th>\n",
              "    </tr>\n",
              "  </thead>\n",
              "  <tbody>\n",
              "    <tr>\n",
              "      <th>90</th>\n",
              "      <td>28.97</td>\n",
              "      <td>3.00</td>\n",
              "      <td>Male</td>\n",
              "      <td>Yes</td>\n",
              "      <td>Fri</td>\n",
              "      <td>Dinner</td>\n",
              "      <td>2</td>\n",
              "      <td>0.103555</td>\n",
              "    </tr>\n",
              "    <tr>\n",
              "      <th>92</th>\n",
              "      <td>5.75</td>\n",
              "      <td>1.00</td>\n",
              "      <td>Female</td>\n",
              "      <td>Yes</td>\n",
              "      <td>Fri</td>\n",
              "      <td>Dinner</td>\n",
              "      <td>2</td>\n",
              "      <td>0.173913</td>\n",
              "    </tr>\n",
              "    <tr>\n",
              "      <th>93</th>\n",
              "      <td>16.32</td>\n",
              "      <td>4.30</td>\n",
              "      <td>Female</td>\n",
              "      <td>Yes</td>\n",
              "      <td>Fri</td>\n",
              "      <td>Dinner</td>\n",
              "      <td>2</td>\n",
              "      <td>0.263480</td>\n",
              "    </tr>\n",
              "    <tr>\n",
              "      <th>95</th>\n",
              "      <td>40.17</td>\n",
              "      <td>4.73</td>\n",
              "      <td>Male</td>\n",
              "      <td>Yes</td>\n",
              "      <td>Fri</td>\n",
              "      <td>Dinner</td>\n",
              "      <td>4</td>\n",
              "      <td>0.117750</td>\n",
              "    </tr>\n",
              "    <tr>\n",
              "      <th>96</th>\n",
              "      <td>27.28</td>\n",
              "      <td>4.00</td>\n",
              "      <td>Male</td>\n",
              "      <td>Yes</td>\n",
              "      <td>Fri</td>\n",
              "      <td>Dinner</td>\n",
              "      <td>2</td>\n",
              "      <td>0.146628</td>\n",
              "    </tr>\n",
              "  </tbody>\n",
              "</table>\n",
              "</div>"
            ],
            "text/plain": [
              "    total_bill   tip     sex smoker  day    time  size   tip_pct\n",
              "90       28.97  3.00    Male    Yes  Fri  Dinner     2  0.103555\n",
              "92        5.75  1.00  Female    Yes  Fri  Dinner     2  0.173913\n",
              "93       16.32  4.30  Female    Yes  Fri  Dinner     2  0.263480\n",
              "95       40.17  4.73    Male    Yes  Fri  Dinner     4  0.117750\n",
              "96       27.28  4.00    Male    Yes  Fri  Dinner     2  0.146628"
            ]
          },
          "metadata": {
            "tags": []
          },
          "execution_count": 281
        }
      ]
    },
    {
      "cell_type": "code",
      "metadata": {
        "colab": {
          "base_uri": "https://localhost:8080/",
          "height": 325
        },
        "id": "QyQax6KSJs39",
        "outputId": "88c91da2-d0b4-4b44-d903-942aa6344bc9"
      },
      "source": [
        "tips.groupby(['day', 'smoker']).mean() # get the mean"
      ],
      "execution_count": null,
      "outputs": [
        {
          "output_type": "execute_result",
          "data": {
            "text/html": [
              "<div>\n",
              "<style scoped>\n",
              "    .dataframe tbody tr th:only-of-type {\n",
              "        vertical-align: middle;\n",
              "    }\n",
              "\n",
              "    .dataframe tbody tr th {\n",
              "        vertical-align: top;\n",
              "    }\n",
              "\n",
              "    .dataframe thead th {\n",
              "        text-align: right;\n",
              "    }\n",
              "</style>\n",
              "<table border=\"1\" class=\"dataframe\">\n",
              "  <thead>\n",
              "    <tr style=\"text-align: right;\">\n",
              "      <th></th>\n",
              "      <th></th>\n",
              "      <th>total_bill</th>\n",
              "      <th>tip</th>\n",
              "      <th>size</th>\n",
              "      <th>tip_pct</th>\n",
              "    </tr>\n",
              "    <tr>\n",
              "      <th>day</th>\n",
              "      <th>smoker</th>\n",
              "      <th></th>\n",
              "      <th></th>\n",
              "      <th></th>\n",
              "      <th></th>\n",
              "    </tr>\n",
              "  </thead>\n",
              "  <tbody>\n",
              "    <tr>\n",
              "      <th rowspan=\"2\" valign=\"top\">Fri</th>\n",
              "      <th>No</th>\n",
              "      <td>18.420000</td>\n",
              "      <td>2.812500</td>\n",
              "      <td>2.250000</td>\n",
              "      <td>0.151650</td>\n",
              "    </tr>\n",
              "    <tr>\n",
              "      <th>Yes</th>\n",
              "      <td>16.813333</td>\n",
              "      <td>2.714000</td>\n",
              "      <td>2.066667</td>\n",
              "      <td>0.174783</td>\n",
              "    </tr>\n",
              "    <tr>\n",
              "      <th rowspan=\"2\" valign=\"top\">Sat</th>\n",
              "      <th>No</th>\n",
              "      <td>19.661778</td>\n",
              "      <td>3.102889</td>\n",
              "      <td>2.555556</td>\n",
              "      <td>0.158048</td>\n",
              "    </tr>\n",
              "    <tr>\n",
              "      <th>Yes</th>\n",
              "      <td>21.276667</td>\n",
              "      <td>2.875476</td>\n",
              "      <td>2.476190</td>\n",
              "      <td>0.147906</td>\n",
              "    </tr>\n",
              "    <tr>\n",
              "      <th rowspan=\"2\" valign=\"top\">Sun</th>\n",
              "      <th>No</th>\n",
              "      <td>20.506667</td>\n",
              "      <td>3.167895</td>\n",
              "      <td>2.929825</td>\n",
              "      <td>0.160113</td>\n",
              "    </tr>\n",
              "    <tr>\n",
              "      <th>Yes</th>\n",
              "      <td>24.120000</td>\n",
              "      <td>3.516842</td>\n",
              "      <td>2.578947</td>\n",
              "      <td>0.187250</td>\n",
              "    </tr>\n",
              "    <tr>\n",
              "      <th rowspan=\"2\" valign=\"top\">Thur</th>\n",
              "      <th>No</th>\n",
              "      <td>17.113111</td>\n",
              "      <td>2.673778</td>\n",
              "      <td>2.488889</td>\n",
              "      <td>0.160298</td>\n",
              "    </tr>\n",
              "    <tr>\n",
              "      <th>Yes</th>\n",
              "      <td>19.190588</td>\n",
              "      <td>3.030000</td>\n",
              "      <td>2.352941</td>\n",
              "      <td>0.163863</td>\n",
              "    </tr>\n",
              "  </tbody>\n",
              "</table>\n",
              "</div>"
            ],
            "text/plain": [
              "             total_bill       tip      size   tip_pct\n",
              "day  smoker                                          \n",
              "Fri  No       18.420000  2.812500  2.250000  0.151650\n",
              "     Yes      16.813333  2.714000  2.066667  0.174783\n",
              "Sat  No       19.661778  3.102889  2.555556  0.158048\n",
              "     Yes      21.276667  2.875476  2.476190  0.147906\n",
              "Sun  No       20.506667  3.167895  2.929825  0.160113\n",
              "     Yes      24.120000  3.516842  2.578947  0.187250\n",
              "Thur No       17.113111  2.673778  2.488889  0.160298\n",
              "     Yes      19.190588  3.030000  2.352941  0.163863"
            ]
          },
          "metadata": {
            "tags": []
          },
          "execution_count": 279
        }
      ]
    },
    {
      "cell_type": "code",
      "metadata": {
        "colab": {
          "base_uri": "https://localhost:8080/",
          "height": 294
        },
        "id": "F9zYmnvmJs6H",
        "outputId": "8ad9793e-bb4c-41ae-a4c4-4fd49d350340"
      },
      "source": [
        "tips.pivot_table(['tip_pct', 'size'], index = ['time', 'day'],\r\n",
        "                 columns = 'smoker')     # vlaues, index, columns"
      ],
      "execution_count": null,
      "outputs": [
        {
          "output_type": "execute_result",
          "data": {
            "text/html": [
              "<div>\n",
              "<style scoped>\n",
              "    .dataframe tbody tr th:only-of-type {\n",
              "        vertical-align: middle;\n",
              "    }\n",
              "\n",
              "    .dataframe tbody tr th {\n",
              "        vertical-align: top;\n",
              "    }\n",
              "\n",
              "    .dataframe thead tr th {\n",
              "        text-align: left;\n",
              "    }\n",
              "\n",
              "    .dataframe thead tr:last-of-type th {\n",
              "        text-align: right;\n",
              "    }\n",
              "</style>\n",
              "<table border=\"1\" class=\"dataframe\">\n",
              "  <thead>\n",
              "    <tr>\n",
              "      <th></th>\n",
              "      <th></th>\n",
              "      <th colspan=\"2\" halign=\"left\">size</th>\n",
              "      <th colspan=\"2\" halign=\"left\">tip_pct</th>\n",
              "    </tr>\n",
              "    <tr>\n",
              "      <th></th>\n",
              "      <th>smoker</th>\n",
              "      <th>No</th>\n",
              "      <th>Yes</th>\n",
              "      <th>No</th>\n",
              "      <th>Yes</th>\n",
              "    </tr>\n",
              "    <tr>\n",
              "      <th>time</th>\n",
              "      <th>day</th>\n",
              "      <th></th>\n",
              "      <th></th>\n",
              "      <th></th>\n",
              "      <th></th>\n",
              "    </tr>\n",
              "  </thead>\n",
              "  <tbody>\n",
              "    <tr>\n",
              "      <th rowspan=\"4\" valign=\"top\">Dinner</th>\n",
              "      <th>Fri</th>\n",
              "      <td>2.000000</td>\n",
              "      <td>2.222222</td>\n",
              "      <td>0.139622</td>\n",
              "      <td>0.165347</td>\n",
              "    </tr>\n",
              "    <tr>\n",
              "      <th>Sat</th>\n",
              "      <td>2.555556</td>\n",
              "      <td>2.476190</td>\n",
              "      <td>0.158048</td>\n",
              "      <td>0.147906</td>\n",
              "    </tr>\n",
              "    <tr>\n",
              "      <th>Sun</th>\n",
              "      <td>2.929825</td>\n",
              "      <td>2.578947</td>\n",
              "      <td>0.160113</td>\n",
              "      <td>0.187250</td>\n",
              "    </tr>\n",
              "    <tr>\n",
              "      <th>Thur</th>\n",
              "      <td>2.000000</td>\n",
              "      <td>NaN</td>\n",
              "      <td>0.159744</td>\n",
              "      <td>NaN</td>\n",
              "    </tr>\n",
              "    <tr>\n",
              "      <th rowspan=\"2\" valign=\"top\">Lunch</th>\n",
              "      <th>Fri</th>\n",
              "      <td>3.000000</td>\n",
              "      <td>1.833333</td>\n",
              "      <td>0.187735</td>\n",
              "      <td>0.188937</td>\n",
              "    </tr>\n",
              "    <tr>\n",
              "      <th>Thur</th>\n",
              "      <td>2.500000</td>\n",
              "      <td>2.352941</td>\n",
              "      <td>0.160311</td>\n",
              "      <td>0.163863</td>\n",
              "    </tr>\n",
              "  </tbody>\n",
              "</table>\n",
              "</div>"
            ],
            "text/plain": [
              "                 size             tip_pct          \n",
              "smoker             No       Yes        No       Yes\n",
              "time   day                                         \n",
              "Dinner Fri   2.000000  2.222222  0.139622  0.165347\n",
              "       Sat   2.555556  2.476190  0.158048  0.147906\n",
              "       Sun   2.929825  2.578947  0.160113  0.187250\n",
              "       Thur  2.000000       NaN  0.159744       NaN\n",
              "Lunch  Fri   3.000000  1.833333  0.187735  0.188937\n",
              "       Thur  2.500000  2.352941  0.160311  0.163863"
            ]
          },
          "metadata": {
            "tags": []
          },
          "execution_count": 287
        }
      ]
    },
    {
      "cell_type": "markdown",
      "metadata": {
        "id": "wYgircNjPmkz"
      },
      "source": [
        "The All values are **means without taking into account smoker versus nonsmoker (the All columns) or any of the two levels of grouping on the rows**\r\n"
      ]
    },
    {
      "cell_type": "code",
      "metadata": {
        "colab": {
          "base_uri": "https://localhost:8080/",
          "height": 325
        },
        "id": "dCD7EOdTJs9O",
        "outputId": "ef8c2b3d-ea54-4c7f-d47e-585999574d68"
      },
      "source": [
        "tips.pivot_table(['tip_pct', 'size'], index = ['time', 'day'],\r\n",
        "                 columns = 'smoker', margins = True)  # add a All column to get the mean value"
      ],
      "execution_count": null,
      "outputs": [
        {
          "output_type": "execute_result",
          "data": {
            "text/html": [
              "<div>\n",
              "<style scoped>\n",
              "    .dataframe tbody tr th:only-of-type {\n",
              "        vertical-align: middle;\n",
              "    }\n",
              "\n",
              "    .dataframe tbody tr th {\n",
              "        vertical-align: top;\n",
              "    }\n",
              "\n",
              "    .dataframe thead tr th {\n",
              "        text-align: left;\n",
              "    }\n",
              "\n",
              "    .dataframe thead tr:last-of-type th {\n",
              "        text-align: right;\n",
              "    }\n",
              "</style>\n",
              "<table border=\"1\" class=\"dataframe\">\n",
              "  <thead>\n",
              "    <tr>\n",
              "      <th></th>\n",
              "      <th></th>\n",
              "      <th colspan=\"3\" halign=\"left\">size</th>\n",
              "      <th colspan=\"3\" halign=\"left\">tip_pct</th>\n",
              "    </tr>\n",
              "    <tr>\n",
              "      <th></th>\n",
              "      <th>smoker</th>\n",
              "      <th>No</th>\n",
              "      <th>Yes</th>\n",
              "      <th>All</th>\n",
              "      <th>No</th>\n",
              "      <th>Yes</th>\n",
              "      <th>All</th>\n",
              "    </tr>\n",
              "    <tr>\n",
              "      <th>time</th>\n",
              "      <th>day</th>\n",
              "      <th></th>\n",
              "      <th></th>\n",
              "      <th></th>\n",
              "      <th></th>\n",
              "      <th></th>\n",
              "      <th></th>\n",
              "    </tr>\n",
              "  </thead>\n",
              "  <tbody>\n",
              "    <tr>\n",
              "      <th rowspan=\"4\" valign=\"top\">Dinner</th>\n",
              "      <th>Fri</th>\n",
              "      <td>2.000000</td>\n",
              "      <td>2.222222</td>\n",
              "      <td>2.166667</td>\n",
              "      <td>0.139622</td>\n",
              "      <td>0.165347</td>\n",
              "      <td>0.158916</td>\n",
              "    </tr>\n",
              "    <tr>\n",
              "      <th>Sat</th>\n",
              "      <td>2.555556</td>\n",
              "      <td>2.476190</td>\n",
              "      <td>2.517241</td>\n",
              "      <td>0.158048</td>\n",
              "      <td>0.147906</td>\n",
              "      <td>0.153152</td>\n",
              "    </tr>\n",
              "    <tr>\n",
              "      <th>Sun</th>\n",
              "      <td>2.929825</td>\n",
              "      <td>2.578947</td>\n",
              "      <td>2.842105</td>\n",
              "      <td>0.160113</td>\n",
              "      <td>0.187250</td>\n",
              "      <td>0.166897</td>\n",
              "    </tr>\n",
              "    <tr>\n",
              "      <th>Thur</th>\n",
              "      <td>2.000000</td>\n",
              "      <td>NaN</td>\n",
              "      <td>2.000000</td>\n",
              "      <td>0.159744</td>\n",
              "      <td>NaN</td>\n",
              "      <td>0.159744</td>\n",
              "    </tr>\n",
              "    <tr>\n",
              "      <th rowspan=\"2\" valign=\"top\">Lunch</th>\n",
              "      <th>Fri</th>\n",
              "      <td>3.000000</td>\n",
              "      <td>1.833333</td>\n",
              "      <td>2.000000</td>\n",
              "      <td>0.187735</td>\n",
              "      <td>0.188937</td>\n",
              "      <td>0.188765</td>\n",
              "    </tr>\n",
              "    <tr>\n",
              "      <th>Thur</th>\n",
              "      <td>2.500000</td>\n",
              "      <td>2.352941</td>\n",
              "      <td>2.459016</td>\n",
              "      <td>0.160311</td>\n",
              "      <td>0.163863</td>\n",
              "      <td>0.161301</td>\n",
              "    </tr>\n",
              "    <tr>\n",
              "      <th>All</th>\n",
              "      <th></th>\n",
              "      <td>2.668874</td>\n",
              "      <td>2.408602</td>\n",
              "      <td>2.569672</td>\n",
              "      <td>0.159328</td>\n",
              "      <td>0.163196</td>\n",
              "      <td>0.160803</td>\n",
              "    </tr>\n",
              "  </tbody>\n",
              "</table>\n",
              "</div>"
            ],
            "text/plain": [
              "                 size                       tip_pct                    \n",
              "smoker             No       Yes       All        No       Yes       All\n",
              "time   day                                                             \n",
              "Dinner Fri   2.000000  2.222222  2.166667  0.139622  0.165347  0.158916\n",
              "       Sat   2.555556  2.476190  2.517241  0.158048  0.147906  0.153152\n",
              "       Sun   2.929825  2.578947  2.842105  0.160113  0.187250  0.166897\n",
              "       Thur  2.000000       NaN  2.000000  0.159744       NaN  0.159744\n",
              "Lunch  Fri   3.000000  1.833333  2.000000  0.187735  0.188937  0.188765\n",
              "       Thur  2.500000  2.352941  2.459016  0.160311  0.163863  0.161301\n",
              "All          2.668874  2.408602  2.569672  0.159328  0.163196  0.160803"
            ]
          },
          "metadata": {
            "tags": []
          },
          "execution_count": 289
        }
      ]
    },
    {
      "cell_type": "code",
      "metadata": {
        "colab": {
          "base_uri": "https://localhost:8080/",
          "height": 233
        },
        "id": "GOFUQ7CRJtBW",
        "outputId": "7fc02c0a-1c02-4f57-bcbd-ef30f08388af"
      },
      "source": [
        "tips.pivot_table('tip_pct', index = ['time', 'smoker'], \r\n",
        "                 columns = 'day', aggfunc = len, margins = True) # pass a different aggfunc(count/len)"
      ],
      "execution_count": null,
      "outputs": [
        {
          "output_type": "execute_result",
          "data": {
            "text/html": [
              "<div>\n",
              "<style scoped>\n",
              "    .dataframe tbody tr th:only-of-type {\n",
              "        vertical-align: middle;\n",
              "    }\n",
              "\n",
              "    .dataframe tbody tr th {\n",
              "        vertical-align: top;\n",
              "    }\n",
              "\n",
              "    .dataframe thead th {\n",
              "        text-align: right;\n",
              "    }\n",
              "</style>\n",
              "<table border=\"1\" class=\"dataframe\">\n",
              "  <thead>\n",
              "    <tr style=\"text-align: right;\">\n",
              "      <th></th>\n",
              "      <th>day</th>\n",
              "      <th>Fri</th>\n",
              "      <th>Sat</th>\n",
              "      <th>Sun</th>\n",
              "      <th>Thur</th>\n",
              "      <th>All</th>\n",
              "    </tr>\n",
              "    <tr>\n",
              "      <th>time</th>\n",
              "      <th>smoker</th>\n",
              "      <th></th>\n",
              "      <th></th>\n",
              "      <th></th>\n",
              "      <th></th>\n",
              "      <th></th>\n",
              "    </tr>\n",
              "  </thead>\n",
              "  <tbody>\n",
              "    <tr>\n",
              "      <th rowspan=\"2\" valign=\"top\">Dinner</th>\n",
              "      <th>No</th>\n",
              "      <td>3.0</td>\n",
              "      <td>45.0</td>\n",
              "      <td>57.0</td>\n",
              "      <td>1.0</td>\n",
              "      <td>106.0</td>\n",
              "    </tr>\n",
              "    <tr>\n",
              "      <th>Yes</th>\n",
              "      <td>9.0</td>\n",
              "      <td>42.0</td>\n",
              "      <td>19.0</td>\n",
              "      <td>NaN</td>\n",
              "      <td>70.0</td>\n",
              "    </tr>\n",
              "    <tr>\n",
              "      <th rowspan=\"2\" valign=\"top\">Lunch</th>\n",
              "      <th>No</th>\n",
              "      <td>1.0</td>\n",
              "      <td>NaN</td>\n",
              "      <td>NaN</td>\n",
              "      <td>44.0</td>\n",
              "      <td>45.0</td>\n",
              "    </tr>\n",
              "    <tr>\n",
              "      <th>Yes</th>\n",
              "      <td>6.0</td>\n",
              "      <td>NaN</td>\n",
              "      <td>NaN</td>\n",
              "      <td>17.0</td>\n",
              "      <td>23.0</td>\n",
              "    </tr>\n",
              "    <tr>\n",
              "      <th>All</th>\n",
              "      <th></th>\n",
              "      <td>19.0</td>\n",
              "      <td>87.0</td>\n",
              "      <td>76.0</td>\n",
              "      <td>62.0</td>\n",
              "      <td>244.0</td>\n",
              "    </tr>\n",
              "  </tbody>\n",
              "</table>\n",
              "</div>"
            ],
            "text/plain": [
              "day             Fri   Sat   Sun  Thur    All\n",
              "time   smoker                               \n",
              "Dinner No       3.0  45.0  57.0   1.0  106.0\n",
              "       Yes      9.0  42.0  19.0   NaN   70.0\n",
              "Lunch  No       1.0   NaN   NaN  44.0   45.0\n",
              "       Yes      6.0   NaN   NaN  17.0   23.0\n",
              "All            19.0  87.0  76.0  62.0  244.0"
            ]
          },
          "metadata": {
            "tags": []
          },
          "execution_count": 291
        }
      ]
    },
    {
      "cell_type": "code",
      "metadata": {
        "colab": {
          "base_uri": "https://localhost:8080/",
          "height": 723
        },
        "id": "cFrtE0TMJtD2",
        "outputId": "c823f63d-c6a3-4a39-b38e-3e01e697644a"
      },
      "source": [
        "tips.pivot_table('tip_pct', index = ['time', 'size', 'smoker'], \r\n",
        "                 columns = 'day', aggfunc = 'mean', fill_value = 0) # pass a fill_value to fill the NAs"
      ],
      "execution_count": null,
      "outputs": [
        {
          "output_type": "execute_result",
          "data": {
            "text/html": [
              "<div>\n",
              "<style scoped>\n",
              "    .dataframe tbody tr th:only-of-type {\n",
              "        vertical-align: middle;\n",
              "    }\n",
              "\n",
              "    .dataframe tbody tr th {\n",
              "        vertical-align: top;\n",
              "    }\n",
              "\n",
              "    .dataframe thead th {\n",
              "        text-align: right;\n",
              "    }\n",
              "</style>\n",
              "<table border=\"1\" class=\"dataframe\">\n",
              "  <thead>\n",
              "    <tr style=\"text-align: right;\">\n",
              "      <th></th>\n",
              "      <th></th>\n",
              "      <th>day</th>\n",
              "      <th>Fri</th>\n",
              "      <th>Sat</th>\n",
              "      <th>Sun</th>\n",
              "      <th>Thur</th>\n",
              "    </tr>\n",
              "    <tr>\n",
              "      <th>time</th>\n",
              "      <th>size</th>\n",
              "      <th>smoker</th>\n",
              "      <th></th>\n",
              "      <th></th>\n",
              "      <th></th>\n",
              "      <th></th>\n",
              "    </tr>\n",
              "  </thead>\n",
              "  <tbody>\n",
              "    <tr>\n",
              "      <th rowspan=\"11\" valign=\"top\">Dinner</th>\n",
              "      <th rowspan=\"2\" valign=\"top\">1</th>\n",
              "      <th>No</th>\n",
              "      <td>0.000000</td>\n",
              "      <td>0.137931</td>\n",
              "      <td>0.000000</td>\n",
              "      <td>0.000000</td>\n",
              "    </tr>\n",
              "    <tr>\n",
              "      <th>Yes</th>\n",
              "      <td>0.000000</td>\n",
              "      <td>0.325733</td>\n",
              "      <td>0.000000</td>\n",
              "      <td>0.000000</td>\n",
              "    </tr>\n",
              "    <tr>\n",
              "      <th rowspan=\"2\" valign=\"top\">2</th>\n",
              "      <th>No</th>\n",
              "      <td>0.139622</td>\n",
              "      <td>0.162705</td>\n",
              "      <td>0.168859</td>\n",
              "      <td>0.159744</td>\n",
              "    </tr>\n",
              "    <tr>\n",
              "      <th>Yes</th>\n",
              "      <td>0.171297</td>\n",
              "      <td>0.148668</td>\n",
              "      <td>0.207893</td>\n",
              "      <td>0.000000</td>\n",
              "    </tr>\n",
              "    <tr>\n",
              "      <th rowspan=\"2\" valign=\"top\">3</th>\n",
              "      <th>No</th>\n",
              "      <td>0.000000</td>\n",
              "      <td>0.154661</td>\n",
              "      <td>0.152663</td>\n",
              "      <td>0.000000</td>\n",
              "    </tr>\n",
              "    <tr>\n",
              "      <th>Yes</th>\n",
              "      <td>0.000000</td>\n",
              "      <td>0.144995</td>\n",
              "      <td>0.152660</td>\n",
              "      <td>0.000000</td>\n",
              "    </tr>\n",
              "    <tr>\n",
              "      <th rowspan=\"2\" valign=\"top\">4</th>\n",
              "      <th>No</th>\n",
              "      <td>0.000000</td>\n",
              "      <td>0.150096</td>\n",
              "      <td>0.148143</td>\n",
              "      <td>0.000000</td>\n",
              "    </tr>\n",
              "    <tr>\n",
              "      <th>Yes</th>\n",
              "      <td>0.117750</td>\n",
              "      <td>0.124515</td>\n",
              "      <td>0.193370</td>\n",
              "      <td>0.000000</td>\n",
              "    </tr>\n",
              "    <tr>\n",
              "      <th rowspan=\"2\" valign=\"top\">5</th>\n",
              "      <th>No</th>\n",
              "      <td>0.000000</td>\n",
              "      <td>0.000000</td>\n",
              "      <td>0.206928</td>\n",
              "      <td>0.000000</td>\n",
              "    </tr>\n",
              "    <tr>\n",
              "      <th>Yes</th>\n",
              "      <td>0.000000</td>\n",
              "      <td>0.106572</td>\n",
              "      <td>0.065660</td>\n",
              "      <td>0.000000</td>\n",
              "    </tr>\n",
              "    <tr>\n",
              "      <th>6</th>\n",
              "      <th>No</th>\n",
              "      <td>0.000000</td>\n",
              "      <td>0.000000</td>\n",
              "      <td>0.103799</td>\n",
              "      <td>0.000000</td>\n",
              "    </tr>\n",
              "    <tr>\n",
              "      <th rowspan=\"10\" valign=\"top\">Lunch</th>\n",
              "      <th rowspan=\"2\" valign=\"top\">1</th>\n",
              "      <th>No</th>\n",
              "      <td>0.000000</td>\n",
              "      <td>0.000000</td>\n",
              "      <td>0.000000</td>\n",
              "      <td>0.181728</td>\n",
              "    </tr>\n",
              "    <tr>\n",
              "      <th>Yes</th>\n",
              "      <td>0.223776</td>\n",
              "      <td>0.000000</td>\n",
              "      <td>0.000000</td>\n",
              "      <td>0.000000</td>\n",
              "    </tr>\n",
              "    <tr>\n",
              "      <th rowspan=\"2\" valign=\"top\">2</th>\n",
              "      <th>No</th>\n",
              "      <td>0.000000</td>\n",
              "      <td>0.000000</td>\n",
              "      <td>0.000000</td>\n",
              "      <td>0.166005</td>\n",
              "    </tr>\n",
              "    <tr>\n",
              "      <th>Yes</th>\n",
              "      <td>0.181969</td>\n",
              "      <td>0.000000</td>\n",
              "      <td>0.000000</td>\n",
              "      <td>0.158843</td>\n",
              "    </tr>\n",
              "    <tr>\n",
              "      <th rowspan=\"2\" valign=\"top\">3</th>\n",
              "      <th>No</th>\n",
              "      <td>0.187735</td>\n",
              "      <td>0.000000</td>\n",
              "      <td>0.000000</td>\n",
              "      <td>0.084246</td>\n",
              "    </tr>\n",
              "    <tr>\n",
              "      <th>Yes</th>\n",
              "      <td>0.000000</td>\n",
              "      <td>0.000000</td>\n",
              "      <td>0.000000</td>\n",
              "      <td>0.204952</td>\n",
              "    </tr>\n",
              "    <tr>\n",
              "      <th rowspan=\"2\" valign=\"top\">4</th>\n",
              "      <th>No</th>\n",
              "      <td>0.000000</td>\n",
              "      <td>0.000000</td>\n",
              "      <td>0.000000</td>\n",
              "      <td>0.138919</td>\n",
              "    </tr>\n",
              "    <tr>\n",
              "      <th>Yes</th>\n",
              "      <td>0.000000</td>\n",
              "      <td>0.000000</td>\n",
              "      <td>0.000000</td>\n",
              "      <td>0.155410</td>\n",
              "    </tr>\n",
              "    <tr>\n",
              "      <th>5</th>\n",
              "      <th>No</th>\n",
              "      <td>0.000000</td>\n",
              "      <td>0.000000</td>\n",
              "      <td>0.000000</td>\n",
              "      <td>0.121389</td>\n",
              "    </tr>\n",
              "    <tr>\n",
              "      <th>6</th>\n",
              "      <th>No</th>\n",
              "      <td>0.000000</td>\n",
              "      <td>0.000000</td>\n",
              "      <td>0.000000</td>\n",
              "      <td>0.173706</td>\n",
              "    </tr>\n",
              "  </tbody>\n",
              "</table>\n",
              "</div>"
            ],
            "text/plain": [
              "day                      Fri       Sat       Sun      Thur\n",
              "time   size smoker                                        \n",
              "Dinner 1    No      0.000000  0.137931  0.000000  0.000000\n",
              "            Yes     0.000000  0.325733  0.000000  0.000000\n",
              "       2    No      0.139622  0.162705  0.168859  0.159744\n",
              "            Yes     0.171297  0.148668  0.207893  0.000000\n",
              "       3    No      0.000000  0.154661  0.152663  0.000000\n",
              "            Yes     0.000000  0.144995  0.152660  0.000000\n",
              "       4    No      0.000000  0.150096  0.148143  0.000000\n",
              "            Yes     0.117750  0.124515  0.193370  0.000000\n",
              "       5    No      0.000000  0.000000  0.206928  0.000000\n",
              "            Yes     0.000000  0.106572  0.065660  0.000000\n",
              "       6    No      0.000000  0.000000  0.103799  0.000000\n",
              "Lunch  1    No      0.000000  0.000000  0.000000  0.181728\n",
              "            Yes     0.223776  0.000000  0.000000  0.000000\n",
              "       2    No      0.000000  0.000000  0.000000  0.166005\n",
              "            Yes     0.181969  0.000000  0.000000  0.158843\n",
              "       3    No      0.187735  0.000000  0.000000  0.084246\n",
              "            Yes     0.000000  0.000000  0.000000  0.204952\n",
              "       4    No      0.000000  0.000000  0.000000  0.138919\n",
              "            Yes     0.000000  0.000000  0.000000  0.155410\n",
              "       5    No      0.000000  0.000000  0.000000  0.121389\n",
              "       6    No      0.000000  0.000000  0.000000  0.173706"
            ]
          },
          "metadata": {
            "tags": []
          },
          "execution_count": 293
        }
      ]
    },
    {
      "cell_type": "markdown",
      "metadata": {
        "id": "npveo1o5QRxx"
      },
      "source": [
        "![image.png](data:image/png;base64,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)"
      ]
    },
    {
      "cell_type": "markdown",
      "metadata": {
        "id": "lSYbiYQbQR1E"
      },
      "source": [
        "### Cross-Tabulations: Crosstab"
      ]
    },
    {
      "cell_type": "markdown",
      "metadata": {
        "id": "yuewx0vWQZWa"
      },
      "source": [
        "**A cross-tabulation is a special case of a pivot table that computes group frequencies**"
      ]
    },
    {
      "cell_type": "code",
      "metadata": {
        "colab": {
          "base_uri": "https://localhost:8080/",
          "height": 294
        },
        "id": "uUjMOG8lFxFx",
        "outputId": "d387eec7-7ab8-4ae0-d2fb-2c96ed5c40bb"
      },
      "source": [
        "df"
      ],
      "execution_count": null,
      "outputs": [
        {
          "output_type": "execute_result",
          "data": {
            "text/html": [
              "<div>\n",
              "<style scoped>\n",
              "    .dataframe tbody tr th:only-of-type {\n",
              "        vertical-align: middle;\n",
              "    }\n",
              "\n",
              "    .dataframe tbody tr th {\n",
              "        vertical-align: top;\n",
              "    }\n",
              "\n",
              "    .dataframe thead th {\n",
              "        text-align: right;\n",
              "    }\n",
              "</style>\n",
              "<table border=\"1\" class=\"dataframe\">\n",
              "  <thead>\n",
              "    <tr style=\"text-align: right;\">\n",
              "      <th></th>\n",
              "      <th>category</th>\n",
              "      <th>data</th>\n",
              "      <th>weights</th>\n",
              "    </tr>\n",
              "  </thead>\n",
              "  <tbody>\n",
              "    <tr>\n",
              "      <th>0</th>\n",
              "      <td>a</td>\n",
              "      <td>-0.909467</td>\n",
              "      <td>0.138920</td>\n",
              "    </tr>\n",
              "    <tr>\n",
              "      <th>1</th>\n",
              "      <td>a</td>\n",
              "      <td>-0.181832</td>\n",
              "      <td>0.027562</td>\n",
              "    </tr>\n",
              "    <tr>\n",
              "      <th>2</th>\n",
              "      <td>a</td>\n",
              "      <td>-0.010227</td>\n",
              "      <td>0.342048</td>\n",
              "    </tr>\n",
              "    <tr>\n",
              "      <th>3</th>\n",
              "      <td>a</td>\n",
              "      <td>0.958537</td>\n",
              "      <td>0.979741</td>\n",
              "    </tr>\n",
              "    <tr>\n",
              "      <th>4</th>\n",
              "      <td>b</td>\n",
              "      <td>1.814318</td>\n",
              "      <td>0.123795</td>\n",
              "    </tr>\n",
              "    <tr>\n",
              "      <th>5</th>\n",
              "      <td>b</td>\n",
              "      <td>0.246866</td>\n",
              "      <td>0.868362</td>\n",
              "    </tr>\n",
              "    <tr>\n",
              "      <th>6</th>\n",
              "      <td>b</td>\n",
              "      <td>-1.089615</td>\n",
              "      <td>0.502368</td>\n",
              "    </tr>\n",
              "    <tr>\n",
              "      <th>7</th>\n",
              "      <td>b</td>\n",
              "      <td>-0.274647</td>\n",
              "      <td>0.288526</td>\n",
              "    </tr>\n",
              "  </tbody>\n",
              "</table>\n",
              "</div>"
            ],
            "text/plain": [
              "  category      data   weights\n",
              "0        a -0.909467  0.138920\n",
              "1        a -0.181832  0.027562\n",
              "2        a -0.010227  0.342048\n",
              "3        a  0.958537  0.979741\n",
              "4        b  1.814318  0.123795\n",
              "5        b  0.246866  0.868362\n",
              "6        b -1.089615  0.502368\n",
              "7        b -0.274647  0.288526"
            ]
          },
          "metadata": {
            "tags": []
          },
          "execution_count": 295
        }
      ]
    },
    {
      "cell_type": "code",
      "metadata": {
        "colab": {
          "base_uri": "https://localhost:8080/",
          "height": 191
        },
        "id": "dqgf6zPQFxIf",
        "outputId": "fab8476b-46cd-4fc2-bf8b-110f03c83c93"
      },
      "source": [
        "pd.crosstab(df.category, df.data, margins = True)"
      ],
      "execution_count": null,
      "outputs": [
        {
          "output_type": "execute_result",
          "data": {
            "text/html": [
              "<div>\n",
              "<style scoped>\n",
              "    .dataframe tbody tr th:only-of-type {\n",
              "        vertical-align: middle;\n",
              "    }\n",
              "\n",
              "    .dataframe tbody tr th {\n",
              "        vertical-align: top;\n",
              "    }\n",
              "\n",
              "    .dataframe thead th {\n",
              "        text-align: right;\n",
              "    }\n",
              "</style>\n",
              "<table border=\"1\" class=\"dataframe\">\n",
              "  <thead>\n",
              "    <tr style=\"text-align: right;\">\n",
              "      <th>data</th>\n",
              "      <th>-1.0896152486432813</th>\n",
              "      <th>-0.9094673947442082</th>\n",
              "      <th>-0.27464689741723164</th>\n",
              "      <th>-0.18183215242726355</th>\n",
              "      <th>-0.010227106545014821</th>\n",
              "      <th>0.24686636728670794</th>\n",
              "      <th>0.9585369454679208</th>\n",
              "      <th>1.8143175534064</th>\n",
              "      <th>All</th>\n",
              "    </tr>\n",
              "    <tr>\n",
              "      <th>category</th>\n",
              "      <th></th>\n",
              "      <th></th>\n",
              "      <th></th>\n",
              "      <th></th>\n",
              "      <th></th>\n",
              "      <th></th>\n",
              "      <th></th>\n",
              "      <th></th>\n",
              "      <th></th>\n",
              "    </tr>\n",
              "  </thead>\n",
              "  <tbody>\n",
              "    <tr>\n",
              "      <th>a</th>\n",
              "      <td>0</td>\n",
              "      <td>1</td>\n",
              "      <td>0</td>\n",
              "      <td>1</td>\n",
              "      <td>1</td>\n",
              "      <td>0</td>\n",
              "      <td>1</td>\n",
              "      <td>0</td>\n",
              "      <td>4</td>\n",
              "    </tr>\n",
              "    <tr>\n",
              "      <th>b</th>\n",
              "      <td>1</td>\n",
              "      <td>0</td>\n",
              "      <td>1</td>\n",
              "      <td>0</td>\n",
              "      <td>0</td>\n",
              "      <td>1</td>\n",
              "      <td>0</td>\n",
              "      <td>1</td>\n",
              "      <td>4</td>\n",
              "    </tr>\n",
              "    <tr>\n",
              "      <th>All</th>\n",
              "      <td>1</td>\n",
              "      <td>1</td>\n",
              "      <td>1</td>\n",
              "      <td>1</td>\n",
              "      <td>1</td>\n",
              "      <td>1</td>\n",
              "      <td>1</td>\n",
              "      <td>1</td>\n",
              "      <td>8</td>\n",
              "    </tr>\n",
              "  </tbody>\n",
              "</table>\n",
              "</div>"
            ],
            "text/plain": [
              "data      -1.0896152486432813  -0.9094673947442082  ...  1.8143175534064  All\n",
              "category                                            ...                      \n",
              "a                           0                    1  ...                0    4\n",
              "b                           1                    0  ...                1    4\n",
              "All                         1                    1  ...                1    8\n",
              "\n",
              "[3 rows x 9 columns]"
            ]
          },
          "metadata": {
            "tags": []
          },
          "execution_count": 296
        }
      ]
    },
    {
      "cell_type": "markdown",
      "metadata": {
        "id": "jvdM4-4jQ4mq"
      },
      "source": [
        "The first two arguments to crosstab can each either be **an array or Series or a list of\r\n",
        "arrays**. As in the tips data:"
      ]
    },
    {
      "cell_type": "code",
      "metadata": {
        "colab": {
          "base_uri": "https://localhost:8080/",
          "height": 294
        },
        "id": "PYPaaxvlQujX",
        "outputId": "d23479c2-226e-4b94-dbf3-9016c272f4c8"
      },
      "source": [
        "pd.crosstab([tips.time, tips.day], tips.smoker, margins = True)"
      ],
      "execution_count": null,
      "outputs": [
        {
          "output_type": "execute_result",
          "data": {
            "text/html": [
              "<div>\n",
              "<style scoped>\n",
              "    .dataframe tbody tr th:only-of-type {\n",
              "        vertical-align: middle;\n",
              "    }\n",
              "\n",
              "    .dataframe tbody tr th {\n",
              "        vertical-align: top;\n",
              "    }\n",
              "\n",
              "    .dataframe thead th {\n",
              "        text-align: right;\n",
              "    }\n",
              "</style>\n",
              "<table border=\"1\" class=\"dataframe\">\n",
              "  <thead>\n",
              "    <tr style=\"text-align: right;\">\n",
              "      <th></th>\n",
              "      <th>smoker</th>\n",
              "      <th>No</th>\n",
              "      <th>Yes</th>\n",
              "      <th>All</th>\n",
              "    </tr>\n",
              "    <tr>\n",
              "      <th>time</th>\n",
              "      <th>day</th>\n",
              "      <th></th>\n",
              "      <th></th>\n",
              "      <th></th>\n",
              "    </tr>\n",
              "  </thead>\n",
              "  <tbody>\n",
              "    <tr>\n",
              "      <th rowspan=\"4\" valign=\"top\">Dinner</th>\n",
              "      <th>Fri</th>\n",
              "      <td>3</td>\n",
              "      <td>9</td>\n",
              "      <td>12</td>\n",
              "    </tr>\n",
              "    <tr>\n",
              "      <th>Sat</th>\n",
              "      <td>45</td>\n",
              "      <td>42</td>\n",
              "      <td>87</td>\n",
              "    </tr>\n",
              "    <tr>\n",
              "      <th>Sun</th>\n",
              "      <td>57</td>\n",
              "      <td>19</td>\n",
              "      <td>76</td>\n",
              "    </tr>\n",
              "    <tr>\n",
              "      <th>Thur</th>\n",
              "      <td>1</td>\n",
              "      <td>0</td>\n",
              "      <td>1</td>\n",
              "    </tr>\n",
              "    <tr>\n",
              "      <th rowspan=\"2\" valign=\"top\">Lunch</th>\n",
              "      <th>Fri</th>\n",
              "      <td>1</td>\n",
              "      <td>6</td>\n",
              "      <td>7</td>\n",
              "    </tr>\n",
              "    <tr>\n",
              "      <th>Thur</th>\n",
              "      <td>44</td>\n",
              "      <td>17</td>\n",
              "      <td>61</td>\n",
              "    </tr>\n",
              "    <tr>\n",
              "      <th>All</th>\n",
              "      <th></th>\n",
              "      <td>151</td>\n",
              "      <td>93</td>\n",
              "      <td>244</td>\n",
              "    </tr>\n",
              "  </tbody>\n",
              "</table>\n",
              "</div>"
            ],
            "text/plain": [
              "smoker        No  Yes  All\n",
              "time   day                \n",
              "Dinner Fri     3    9   12\n",
              "       Sat    45   42   87\n",
              "       Sun    57   19   76\n",
              "       Thur    1    0    1\n",
              "Lunch  Fri     1    6    7\n",
              "       Thur   44   17   61\n",
              "All          151   93  244"
            ]
          },
          "metadata": {
            "tags": []
          },
          "execution_count": 297
        }
      ]
    },
    {
      "cell_type": "code",
      "metadata": {
        "id": "ol_BTudwRBVJ"
      },
      "source": [
        ""
      ],
      "execution_count": null,
      "outputs": []
    }
  ]
}