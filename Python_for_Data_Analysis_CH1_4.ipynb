{
  "nbformat": 4,
  "nbformat_minor": 0,
  "metadata": {
    "kernelspec": {
      "display_name": "Python 3",
      "language": "python",
      "name": "python3"
    },
    "language_info": {
      "codemirror_mode": {
        "name": "ipython",
        "version": 3
      },
      "file_extension": ".py",
      "mimetype": "text/x-python",
      "name": "python",
      "nbconvert_exporter": "python",
      "pygments_lexer": "ipython3",
      "version": "3.7.9"
    },
    "colab": {
      "name": "Python for Data Analysis-CH1-4.ipynb",
      "provenance": [],
      "include_colab_link": true
    }
  },
  "cells": [
    {
      "cell_type": "markdown",
      "metadata": {
        "id": "view-in-github",
        "colab_type": "text"
      },
      "source": [
        "<a href=\"https://colab.research.google.com/github/Twilight1029/Python-for-Data-Analysis/blob/main/Python_for_Data_Analysis_CH1_4.ipynb\" target=\"_parent\"><img src=\"https://colab.research.google.com/assets/colab-badge.svg\" alt=\"Open In Colab\"/></a>"
      ]
    },
    {
      "cell_type": "markdown",
      "metadata": {
        "id": "s4pKSpANv-gD"
      },
      "source": [
        "# CHAPTER 1 Preliminaries"
      ]
    },
    {
      "cell_type": "markdown",
      "metadata": {
        "id": "RhZf8rtmv-gE"
      },
      "source": [
        "* Python is called scripting language : can be used to quickly write small programs, or scripts to automate other tasks<br>\n",
        "* Python is also useful to GLUE together other computing languages<br>\n",
        "* Python is an interpreted programming language, will run slower than other compiled languages like Java or C++"
      ]
    },
    {
      "cell_type": "markdown",
      "metadata": {
        "id": "q91BUmHHv-gF"
      },
      "source": [
        "### Essential Python Libraries\n",
        "#### 1 Numpy (Numerical Python) <br>\n",
        "1) It provides the data structures, algorithms, and library glue needed for most scientific applications involving numerical data in Python<br>\n",
        "2) Serve as a CONTAINER for data to be passed between algorithms and libraries<br>\n",
        "3) Data manipulation\n",
        "#### 2 Pandas (Pannel Data)<br>\n",
        "1) It provides high-level data structures and functions designed to make working with structured or tabular data fast, easy, and expressive<br>\n",
        "2) Deal with DataFrame and Series<br>\n",
        "\n"
      ]
    },
    {
      "cell_type": "markdown",
      "metadata": {
        "id": "dY2EfuAmv-gF"
      },
      "source": [
        "\n",
        "#### 3 Matplotlib<br>\n",
        "1) The most popular Python library for producing plots and other twodimensional data visualizations<br>\n",
        "#### 4 IPython and Jupyter<br>\n",
        "1) Maximize your productivity in both interactive computing and software development<BR>\n",
        "2) It encourages an EXECUTE-EXPLORE workflow instead of the typical edit-compilerun workflow of many other programming languages<BR>\n",
        "3) It also provides easy access to your operating system’s shell and filesystem.<BR>\n",
        "4) The IPython system can now be used as a \"kernel\" (a programming language mode) for using Python with Jupyter."
      ]
    },
    {
      "cell_type": "markdown",
      "metadata": {
        "id": "Nyt2EjuNv-gG"
      },
      "source": [
        "#### 5 SciPy<br>\n",
        "1) A collection of packages addressing a number of different standard problem domains in scientific computing<br>\n",
        "2) eg.<br>\n",
        "* scipy.integrate<br>\n",
        "Numerical integration routines and differential equation solvers<br>\n",
        "* scipy.linalg<br>\n",
        "Linear algebra routines and matrix decompositions extending beyond those provided in numpy.linalg<br>\n",
        "* scipy.optimize<br>\n",
        "Function optimizers (minimizers) and root finding algorithms<br>\n",
        "* scipy.signal<br>\n",
        "Signal processing tools<br>\n",
        "* scipy.sparse<br>\n",
        "Sparse matrices and sparse linear system solvers<br>\n",
        "* scipy.special<br>\n",
        "Wrapper around SPECFUN, a Fortran library implementing many common mathematical functions, such as the gamma function<br>\n",
        "* scipy.stats<br>\n",
        "Standard continuous and discrete probability distributions (density functions, samplers, continuous distribution functions), various statistical tests, and more descriptive statistics<br>"
      ]
    },
    {
      "cell_type": "markdown",
      "metadata": {
        "id": "e_E5ULXQv-gG"
      },
      "source": [
        "#### 6 Scikit-learn<br>\n",
        "1) Machine learning toolkit<br>\n",
        "It includes submodules for such models as:<br>\n",
        "• Classification: SVM, nearest neighbors, random forest, logistic regression, etc.<br>\n",
        "• Regression: Lasso, ridge regression, etc.<br>\n",
        "• Clustering: k-means, spectral clustering, etc.<br>\n",
        "• Dimensionality reduction: PCA, feature selection, matrix factorization, etc.<br>\n",
        "• Model selection: Grid search, cross-validation, metrics<br>\n",
        "• Preprocessing: Feature extraction, normalization\n",
        "#### 7 Statsmodels<br>\n",
        "1) A statistical analysis package, contains algorithms for classical (primarily frequentist) statistics and econometrics<br>\n",
        "This includes such submodules as:<br>\n",
        "• Regression models: Linear regression, generalized linear models, robust linear models, linear mixed effects models, etc.<br>\n",
        "• Analysis of variance (ANOVA)<br>\n",
        "• Time series analysis: AR, ARMA, ARIMA, VAR, and other models<br>\n",
        "• Nonparametric methods: Kernel density estimation, kernel regression<br>\n",
        "• Visualization of statistical model results<br>\n",
        "2) More focused on statistical inference, providing uncertainty estimates and p-values for parameters. scikit-learn, by contrast, is more prediction-focused"
      ]
    },
    {
      "cell_type": "markdown",
      "metadata": {
        "id": "FT8U0St7v-gH"
      },
      "source": [
        "#### Munge/munging/wrangling\n",
        "Describes the overall process of manipulating unstructured and/or messy data into a structured or clean form.\n",
        "\n",
        "#### Pseudocode\n",
        "A description of an algorithm or process that takes a code-like form while likely not being actual valid source code.\n",
        "\n",
        "#### Syntactic sugar\n",
        "Programming syntax that does not add new features, but makes something more convenient or easier to type."
      ]
    },
    {
      "cell_type": "markdown",
      "metadata": {
        "id": "Dvd1rg0qv-gH"
      },
      "source": [
        "# CHAPTER 2 Python Language Basics, IPython, and Jupyter Notebooks"
      ]
    },
    {
      "cell_type": "code",
      "metadata": {
        "id": "StVpMKhrv-gI",
        "outputId": "0252f5e3-428b-45f1-e6c0-d91a11b97745"
      },
      "source": [
        "print(\"Hello World\")"
      ],
      "execution_count": null,
      "outputs": [
        {
          "output_type": "stream",
          "text": [
            "Hello World\n"
          ],
          "name": "stdout"
        }
      ]
    },
    {
      "cell_type": "code",
      "metadata": {
        "id": "sRRlziZAv-gI",
        "outputId": "c2bbba27-76ba-4123-a2ce-efdd7a470195"
      },
      "source": [
        "import numpy as np\n",
        "data = {i : np.random.randn() for i in range(7)}\n",
        "data"
      ],
      "execution_count": null,
      "outputs": [
        {
          "output_type": "execute_result",
          "data": {
            "text/plain": [
              "{0: -0.5469589911424149,\n",
              " 1: 0.7992847504963886,\n",
              " 2: 0.6901029799361941,\n",
              " 3: 0.07600745964162851,\n",
              " 4: 0.009587961315793042,\n",
              " 5: 1.6176154743292326,\n",
              " 6: -1.351213508257555}"
            ]
          },
          "metadata": {
            "tags": []
          },
          "execution_count": 29
        }
      ]
    },
    {
      "cell_type": "code",
      "metadata": {
        "id": "27vCNaWpv-gJ",
        "outputId": "62775cac-c13c-4da8-a5d1-03e7db9a84dc"
      },
      "source": [
        "from numpy.random import randn\n",
        "data = {i : randn() for i in range(7)}\n",
        "print(data)"
      ],
      "execution_count": null,
      "outputs": [
        {
          "output_type": "stream",
          "text": [
            "{0: -1.0759099513336992, 1: 0.590741643506278, 2: 0.6778040487498685, 3: -0.21230971223225895, 4: -0.21335652132731692, 5: 1.101118672856825, 6: 0.5465852443290042}\n"
          ],
          "name": "stdout"
        }
      ]
    },
    {
      "cell_type": "markdown",
      "metadata": {
        "id": "8pxTJ8Oav-gJ"
      },
      "source": [
        "#### Tab Completion\n",
        "Tab Completion, you can press <TAB> to see all possible output<Br>\n",
        "* eg. an<tab>, b.<tab><Br>\n",
        "\n",
        "Can be used in \"file path\", \"the completion of function keyword arguments\"<Br>\n",
        "\n",
        "NOW, the autocompletions show up in a drop-down box rather than as text output"
      ]
    },
    {
      "cell_type": "code",
      "metadata": {
        "id": "nro97X98v-gJ",
        "outputId": "d91885b9-3f8e-49c2-8d99-86fc00e689d9"
      },
      "source": [
        "an_apple  = 27\n",
        "an_example = 42\n",
        "\n",
        "b = [1, 2, 3]\n",
        "b.count\n",
        "\n",
        "import datetime\n",
        "datetime.time\n",
        "\n",
        "def func_with_keywords(abra=1, abbra=2, abbbra=3):\n",
        "    return abra, abbra, abbbra\n",
        "\n",
        "func_with_keywords(abra=5)"
      ],
      "execution_count": null,
      "outputs": [
        {
          "output_type": "execute_result",
          "data": {
            "text/plain": [
              "(5, 2, 3)"
            ]
          },
          "metadata": {
            "tags": []
          },
          "execution_count": 38
        }
      ]
    },
    {
      "cell_type": "markdown",
      "metadata": {
        "id": "VhHHy1M9v-gK"
      },
      "source": [
        "#### Introspection\n",
        "1 Using a question mark (?) before or after a variable will display some general information about the object<br>\n",
        "2 Using ? shows us the docstring<br>\n",
        "3 Using ?? will also show the function’s source code if possible <br>\n",
        "4 ? has a final usage, which is for searching the IPython namespace in a manner similar to the standard Unix or Windows command line."
      ]
    },
    {
      "cell_type": "code",
      "metadata": {
        "id": "yxW7QDnEv-gK",
        "outputId": "bcacec59-21e0-44ba-fa85-a3019e99d646"
      },
      "source": [
        "b = [1, 2, 3]\n",
        "b?"
      ],
      "execution_count": null,
      "outputs": [
        {
          "output_type": "stream",
          "text": [
            "\u001b[1;31mType:\u001b[0m        list\n",
            "\u001b[1;31mString form:\u001b[0m [1, 2, 3]\n",
            "\u001b[1;31mLength:\u001b[0m      3\n",
            "\u001b[1;31mDocstring:\u001b[0m  \n",
            "Built-in mutable sequence.\n",
            "\n",
            "If no argument is given, the constructor creates a new empty list.\n",
            "The argument must be an iterable if specified.\n"
          ],
          "name": "stdout"
        }
      ]
    },
    {
      "cell_type": "code",
      "metadata": {
        "id": "V6beCNpbv-gK",
        "outputId": "07e45217-2d99-4f13-a448-5e1faf1f1aff"
      },
      "source": [
        "print?"
      ],
      "execution_count": null,
      "outputs": [
        {
          "output_type": "stream",
          "text": [
            "\u001b[1;31mDocstring:\u001b[0m\n",
            "print(value, ..., sep=' ', end='\\n', file=sys.stdout, flush=False)\n",
            "\n",
            "Prints the values to a stream, or to sys.stdout by default.\n",
            "Optional keyword arguments:\n",
            "file:  a file-like object (stream); defaults to the current sys.stdout.\n",
            "sep:   string inserted between values, default a space.\n",
            "end:   string appended after the last value, default a newline.\n",
            "flush: whether to forcibly flush the stream.\n",
            "\u001b[1;31mType:\u001b[0m      builtin_function_or_method\n"
          ],
          "name": "stdout"
        }
      ]
    },
    {
      "cell_type": "code",
      "metadata": {
        "id": "cRl9JaNlv-gL",
        "outputId": "f1cbddf7-1899-408b-88ba-9b332eb166b8"
      },
      "source": [
        "def add_numbers(a, b):\n",
        "    \"\"\"\n",
        "    Add two numbers together\n",
        "\n",
        "    Returns\n",
        "    -------\n",
        "    the_sum : type of arguments\n",
        "    \"\"\"\n",
        "    return a + b\n",
        "\n",
        "# Using ? shows us the docstring\n",
        "\n",
        "add_numbers?"
      ],
      "execution_count": null,
      "outputs": [
        {
          "output_type": "stream",
          "text": [
            "\u001b[1;31mSignature:\u001b[0m \u001b[0madd_numbers\u001b[0m\u001b[1;33m(\u001b[0m\u001b[0ma\u001b[0m\u001b[1;33m,\u001b[0m \u001b[0mb\u001b[0m\u001b[1;33m)\u001b[0m\u001b[1;33m\u001b[0m\u001b[1;33m\u001b[0m\u001b[0m\n",
            "\u001b[1;31mDocstring:\u001b[0m\n",
            "Add two numbers together\n",
            "\n",
            "Returns\n",
            "-------\n",
            "the_sum : type of arguments\n",
            "\u001b[1;31mFile:\u001b[0m      c:\\users\\14248\\desktop\\python-learning\\<ipython-input-44-7d0b2f894b58>\n",
            "\u001b[1;31mType:\u001b[0m      function\n"
          ],
          "name": "stdout"
        }
      ]
    },
    {
      "cell_type": "code",
      "metadata": {
        "id": "G3su5tMLv-gL",
        "outputId": "eb3829a3-e7d1-44d8-fb8c-08a559f2995d"
      },
      "source": [
        "# Using ?? will also show the function’s source code if possible\n",
        "add_numbers??"
      ],
      "execution_count": null,
      "outputs": [
        {
          "output_type": "stream",
          "text": [
            "\u001b[1;31mSignature:\u001b[0m \u001b[0madd_numbers\u001b[0m\u001b[1;33m(\u001b[0m\u001b[0ma\u001b[0m\u001b[1;33m,\u001b[0m \u001b[0mb\u001b[0m\u001b[1;33m)\u001b[0m\u001b[1;33m\u001b[0m\u001b[1;33m\u001b[0m\u001b[0m\n",
            "\u001b[1;31mSource:\u001b[0m   \n",
            "\u001b[1;32mdef\u001b[0m \u001b[0madd_numbers\u001b[0m\u001b[1;33m(\u001b[0m\u001b[0ma\u001b[0m\u001b[1;33m,\u001b[0m \u001b[0mb\u001b[0m\u001b[1;33m)\u001b[0m\u001b[1;33m:\u001b[0m\u001b[1;33m\n",
            "\u001b[0m    \u001b[1;34m\"\"\"\n",
            "    Add two numbers together\n",
            "\n",
            "    Returns\n",
            "    -------\n",
            "    the_sum : type of arguments\n",
            "    \"\"\"\u001b[0m\u001b[1;33m\n",
            "\u001b[0m    \u001b[1;32mreturn\u001b[0m \u001b[0ma\u001b[0m \u001b[1;33m+\u001b[0m \u001b[0mb\u001b[0m\u001b[1;33m\u001b[0m\u001b[1;33m\u001b[0m\u001b[0m\n",
            "\u001b[1;31mFile:\u001b[0m      c:\\users\\14248\\desktop\\python-learning\\<ipython-input-44-7d0b2f894b58>\n",
            "\u001b[1;31mType:\u001b[0m      function\n"
          ],
          "name": "stdout"
        }
      ]
    },
    {
      "cell_type": "code",
      "metadata": {
        "id": "OJeVu3Nqv-gM",
        "outputId": "16d935ce-c670-428c-ade1-13658d479861"
      },
      "source": [
        "# ? has a final usage, which is for searching the IPython namespace\n",
        "# in a manner similar to the standard Unix or Windows command line.\n",
        "np.*load*?"
      ],
      "execution_count": null,
      "outputs": [
        {
          "output_type": "stream",
          "text": [
            "np.__loader__\n",
            "np.load\n",
            "np.loads\n",
            "np.loadtxt"
          ],
          "name": "stdout"
        }
      ]
    },
    {
      "cell_type": "markdown",
      "metadata": {
        "id": "3_edIEmsv-gM"
      },
      "source": [
        "#### The %run Command<Br>\n",
        "Run any file as a Python program inside the environment of your IPython session using the %run command.\n",
        "#### The %load magic function<br>\n",
        "Imports a script into a code cell:\n"
      ]
    },
    {
      "cell_type": "code",
      "metadata": {
        "id": "D5YKWfrsv-gM",
        "outputId": "91896de2-9e95-4e1d-e3cb-c4b8eebf3cce"
      },
      "source": [
        "def f(x, y, z):\n",
        "    return (x + y) / z\n",
        "\n",
        "a = 5\n",
        "b = 6\n",
        "c = 7.5\n",
        "\n",
        "result = f(a, b, c)\n",
        "result"
      ],
      "execution_count": null,
      "outputs": [
        {
          "output_type": "execute_result",
          "data": {
            "text/plain": [
              "1.4666666666666666"
            ]
          },
          "metadata": {
            "tags": []
          },
          "execution_count": 51
        }
      ]
    },
    {
      "cell_type": "code",
      "metadata": {
        "id": "jzhS5qswv-gN"
      },
      "source": [
        "%run ipython_script_test.py"
      ],
      "execution_count": null,
      "outputs": []
    },
    {
      "cell_type": "code",
      "metadata": {
        "id": "Hk_fG77Gv-gN"
      },
      "source": [
        "%load ipython_script_test.py"
      ],
      "execution_count": null,
      "outputs": []
    },
    {
      "cell_type": "markdown",
      "metadata": {
        "id": "1roJQYBcv-gN"
      },
      "source": [
        "#### Interrupting running code<br>\n",
        "Pressing Ctrl-C ---> KeyboardInterrupt"
      ]
    },
    {
      "cell_type": "markdown",
      "metadata": {
        "id": "elHJ0I1Av-gN"
      },
      "source": [
        "#### %paste\n",
        "Takes whatever text is in the clipboard and executes it as a single block in the shell\n",
        "\n",
        "#### %cpaste\n",
        "Similar as %paste, except that it gives you a special prompt for pasting code int"
      ]
    },
    {
      "cell_type": "code",
      "metadata": {
        "id": "M3OA8JW5v-gN",
        "outputId": "f7e28375-5065-4fd7-9b78-3a36b9ca6acc"
      },
      "source": [
        "\n",
        "%paste\n",
        "def f(x, y, z):\n",
        "    return (x + y) / z\n",
        "\n",
        "a = 5\n",
        "b = 6\n",
        "c = 7.5\n",
        "\n",
        "result = f(a, b, c)\n",
        "result\n",
        "## -- End pasted text--"
      ],
      "execution_count": null,
      "outputs": [
        {
          "output_type": "execute_result",
          "data": {
            "text/plain": [
              "1.4666666666666666"
            ]
          },
          "metadata": {
            "tags": []
          },
          "execution_count": 53
        }
      ]
    },
    {
      "cell_type": "code",
      "metadata": {
        "id": "c7f99WGAv-gO",
        "outputId": "3a8321eb-af39-47c4-a7b0-95f0d8703342"
      },
      "source": [
        "%cpaste\n",
        "Pasting code; enter '--' alone on the line to stop or use Ctrl-D.\n",
        "def f(x, y, z):\n",
        "    return (x + y) / z\n",
        "\n",
        "a = 5\n",
        "b = 6\n",
        "c = 7.5\n",
        "\n",
        "result = f(a, b, c)\n",
        "result\n",
        "--"
      ],
      "execution_count": null,
      "outputs": [
        {
          "output_type": "execute_result",
          "data": {
            "text/plain": [
              "1.4666666666666666"
            ]
          },
          "metadata": {
            "tags": []
          },
          "execution_count": 55
        }
      ]
    },
    {
      "cell_type": "markdown",
      "metadata": {
        "id": "a3ObqDkrv-gO"
      },
      "source": [
        "#### Terminl Keyboard Shortcuts\n",
        "![image.png](attachment:image.png)"
      ]
    },
    {
      "cell_type": "markdown",
      "metadata": {
        "id": "pu1UBxdhv-gO"
      },
      "source": [
        "#### Magic Commands\n",
        "Facilitate common tasks and enable you to easily control the behavior of the IPython system"
      ]
    },
    {
      "cell_type": "code",
      "metadata": {
        "id": "0y-cwJOov-gP",
        "outputId": "d6eb242a-009a-4ae0-dead-3baebd85c35b"
      },
      "source": [
        "a = np.random.randn(100, 100)\n",
        "%timeit np.dot(a, a)"
      ],
      "execution_count": null,
      "outputs": [
        {
          "output_type": "stream",
          "text": [
            "149 µs ± 10.4 µs per loop (mean ± std. dev. of 7 runs, 1000 loops each)\n"
          ],
          "name": "stdout"
        }
      ]
    },
    {
      "cell_type": "code",
      "metadata": {
        "id": "YIBrkQO4v-gP",
        "outputId": "faf186e6-63fb-4a26-9e9d-11caeac07ad0"
      },
      "source": [
        "%debug?"
      ],
      "execution_count": null,
      "outputs": [
        {
          "output_type": "stream",
          "text": [
            "\u001b[1;31mDocstring:\u001b[0m\n",
            "::\n",
            "\n",
            "  %debug [--breakpoint FILE:LINE] [statement ...]\n",
            "\n",
            "Activate the interactive debugger.\n",
            "\n",
            "This magic command support two ways of activating debugger.\n",
            "One is to activate debugger before executing code.  This way, you\n",
            "can set a break point, to step through the code from the point.\n",
            "You can use this mode by giving statements to execute and optionally\n",
            "a breakpoint.\n",
            "\n",
            "The other one is to activate debugger in post-mortem mode.  You can\n",
            "activate this mode simply running %debug without any argument.\n",
            "If an exception has just occurred, this lets you inspect its stack\n",
            "frames interactively.  Note that this will always work only on the last\n",
            "traceback that occurred, so you must call this quickly after an\n",
            "exception that you wish to inspect has fired, because if another one\n",
            "occurs, it clobbers the previous one.\n",
            "\n",
            "If you want IPython to automatically do this on every exception, see\n",
            "the %pdb magic for more details.\n",
            "\n",
            ".. versionchanged:: 7.3\n",
            "    When running code, user variables are no longer expanded,\n",
            "    the magic line is always left unmodified.\n",
            "\n",
            "positional arguments:\n",
            "  statement             Code to run in debugger. You can omit this in cell\n",
            "                        magic mode.\n",
            "\n",
            "optional arguments:\n",
            "  --breakpoint <FILE:LINE>, -b <FILE:LINE>\n",
            "                        Set break point at LINE in FILE.\n",
            "\u001b[1;31mFile:\u001b[0m      c:\\users\\14248\\appdata\\roaming\\python\\python39\\site-packages\\ipython\\core\\magics\\execution.py\n"
          ],
          "name": "stdout"
        }
      ]
    },
    {
      "cell_type": "code",
      "metadata": {
        "id": "C1R66C6ev-gP",
        "outputId": "8c0f10c7-5b38-47fa-b0ec-968ae8de652a"
      },
      "source": [
        "%pwd"
      ],
      "execution_count": null,
      "outputs": [
        {
          "output_type": "execute_result",
          "data": {
            "text/plain": [
              "'c:\\\\Users\\\\14248\\\\Desktop\\\\python-learning'"
            ]
          },
          "metadata": {
            "tags": []
          },
          "execution_count": 58
        }
      ]
    },
    {
      "cell_type": "code",
      "metadata": {
        "id": "nadytceTv-gP",
        "outputId": "8a700911-4006-470c-fdab-b7b99c37d2c0"
      },
      "source": [
        "%quickref"
      ],
      "execution_count": null,
      "outputs": [
        {
          "output_type": "stream",
          "text": [
            "\n",
            "IPython -- An enhanced Interactive Python - Quick Reference Card\n",
            "================================================================\n",
            "\n",
            "obj?, obj??      : Get help, or more help for object (also works as\n",
            "                   ?obj, ??obj).\n",
            "?foo.*abc*       : List names in 'foo' containing 'abc' in them.\n",
            "%magic           : Information about IPython's 'magic' % functions.\n",
            "\n",
            "Magic functions are prefixed by % or %%, and typically take their arguments\n",
            "without parentheses, quotes or even commas for convenience.  Line magics take a\n",
            "single % and cell magics are prefixed with two %%.\n",
            "\n",
            "Example magic function calls:\n",
            "\n",
            "%alias d ls -F   : 'd' is now an alias for 'ls -F'\n",
            "alias d ls -F    : Works if 'alias' not a python name\n",
            "alist = %alias   : Get list of aliases to 'alist'\n",
            "cd /usr/share    : Obvious. cd -<tab> to choose from visited dirs.\n",
            "%cd??            : See help AND source for magic %cd\n",
            "%timeit x=10     : time the 'x=10' statement with high precision.\n",
            "%%timeit x=2**100\n",
            "x**100           : time 'x**100' with a setup of 'x=2**100'; setup code is not\n",
            "                   counted.  This is an example of a cell magic.\n",
            "\n",
            "System commands:\n",
            "\n",
            "!cp a.txt b/     : System command escape, calls os.system()\n",
            "cp a.txt b/      : after %rehashx, most system commands work without !\n",
            "cp ${f}.txt $bar : Variable expansion in magics and system commands\n",
            "files = !ls /usr : Capture system command output\n",
            "files.s, files.l, files.n: \"a b c\", ['a','b','c'], 'a\\nb\\nc'\n",
            "\n",
            "History:\n",
            "\n",
            "_i, _ii, _iii    : Previous, next previous, next next previous input\n",
            "_i4, _ih[2:5]    : Input history line 4, lines 2-4\n",
            "exec _i81        : Execute input history line #81 again\n",
            "%rep 81          : Edit input history line #81\n",
            "_, __, ___       : previous, next previous, next next previous output\n",
            "_dh              : Directory history\n",
            "_oh              : Output history\n",
            "%hist            : Command history of current session.\n",
            "%hist -g foo     : Search command history of (almost) all sessions for 'foo'.\n",
            "%hist -g         : Command history of (almost) all sessions.\n",
            "%hist 1/2-8      : Command history containing lines 2-8 of session 1.\n",
            "%hist 1/ ~2/     : Command history of session 1 and 2 sessions before current.\n",
            "%hist ~8/1-~6/5  : Command history from line 1 of 8 sessions ago to\n",
            "                   line 5 of 6 sessions ago.\n",
            "%edit 0/         : Open editor to execute code with history of current session.\n",
            "\n",
            "Autocall:\n",
            "\n",
            "f 1,2            : f(1,2)  # Off by default, enable with %autocall magic.\n",
            "/f 1,2           : f(1,2) (forced autoparen)\n",
            ",f 1 2           : f(\"1\",\"2\")\n",
            ";f 1 2           : f(\"1 2\")\n",
            "\n",
            "Remember: TAB completion works in many contexts, not just file names\n",
            "or python names.\n",
            "\n",
            "The following magic functions are currently available:\n",
            "\n",
            "%alias:\n",
            "    Define an alias for a system command.\n",
            "%alias_magic:\n",
            "    ::\n",
            "%autoawait:\n",
            "    \n",
            "%autocall:\n",
            "    Make functions callable without having to type parentheses.\n",
            "%automagic:\n",
            "    Make magic functions callable without having to type the initial %.\n",
            "%autosave:\n",
            "    Set the autosave interval in the notebook (in seconds).\n",
            "%bookmark:\n",
            "    Manage IPython's bookmark system.\n",
            "%cd:\n",
            "    Change the current working directory.\n",
            "%clear:\n",
            "    Clear the terminal.\n",
            "%cls:\n",
            "    Clear the terminal.\n",
            "%colors:\n",
            "    Switch color scheme for prompts, info system and exception handlers.\n",
            "%conda:\n",
            "    Run the conda package manager within the current kernel.\n",
            "%config:\n",
            "    configure IPython\n",
            "%connect_info:\n",
            "    Print information for connecting other clients to this kernel\n",
            "%copy:\n",
            "    Alias for `!copy`\n",
            "%ddir:\n",
            "    Alias for `!dir /ad /on`\n",
            "%debug:\n",
            "    ::\n",
            "%dhist:\n",
            "    Print your history of visited directories.\n",
            "%dirs:\n",
            "    Return the current directory stack.\n",
            "%doctest_mode:\n",
            "    Toggle doctest mode on and off.\n",
            "%echo:\n",
            "    Alias for `!echo`\n",
            "%ed:\n",
            "    Alias for `%edit`.\n",
            "%edit:\n",
            "    Bring up an editor and execute the resulting code.\n",
            "%env:\n",
            "    Get, set, or list environment variables.\n",
            "%gui:\n",
            "    Enable or disable IPython GUI event loop integration.\n",
            "%hist:\n",
            "    Alias for `%history`.\n",
            "%history:\n",
            "    ::\n",
            "%killbgscripts:\n",
            "    Kill all BG processes started by %%script and its family.\n",
            "%ldir:\n",
            "    Alias for `!dir /ad /on`\n",
            "%less:\n",
            "    Show a file through the pager.\n",
            "%load:\n",
            "    Load code into the current frontend.\n",
            "%load_ext:\n",
            "    Load an IPython extension by its module name.\n",
            "%loadpy:\n",
            "    Alias of `%load`\n",
            "%logoff:\n",
            "    Temporarily stop logging.\n",
            "%logon:\n",
            "    Restart logging.\n",
            "%logstart:\n",
            "    Start logging anywhere in a session.\n",
            "%logstate:\n",
            "    Print the status of the logging system.\n",
            "%logstop:\n",
            "    Fully stop logging and close log file.\n",
            "%ls:\n",
            "    Alias for `!dir /on`\n",
            "%lsmagic:\n",
            "    List currently available magic functions.\n",
            "%macro:\n",
            "    Define a macro for future re-execution. It accepts ranges of history,\n",
            "%magic:\n",
            "    Print information about the magic function system.\n",
            "%matplotlib:\n",
            "    ::\n",
            "%mkdir:\n",
            "    Alias for `!mkdir`\n",
            "%more:\n",
            "    Show a file through the pager.\n",
            "%notebook:\n",
            "    ::\n",
            "%page:\n",
            "    Pretty print the object and display it through a pager.\n",
            "%pastebin:\n",
            "    Upload code to dpaste's paste bin, returning the URL.\n",
            "%pdb:\n",
            "    Control the automatic calling of the pdb interactive debugger.\n",
            "%pdef:\n",
            "    Print the call signature for any callable object.\n",
            "%pdoc:\n",
            "    Print the docstring for an object.\n",
            "%pfile:\n",
            "    Print (or run through pager) the file where an object is defined.\n",
            "%pinfo:\n",
            "    Provide detailed information about an object.\n",
            "%pinfo2:\n",
            "    Provide extra detailed information about an object.\n",
            "%pip:\n",
            "    Run the pip package manager within the current kernel.\n",
            "%popd:\n",
            "    Change to directory popped off the top of the stack.\n",
            "%pprint:\n",
            "    Toggle pretty printing on/off.\n",
            "%precision:\n",
            "    Set floating point precision for pretty printing.\n",
            "%prun:\n",
            "    Run a statement through the python code profiler.\n",
            "%psearch:\n",
            "    Search for object in namespaces by wildcard.\n",
            "%psource:\n",
            "    Print (or run through pager) the source code for an object.\n",
            "%pushd:\n",
            "    Place the current dir on stack and change directory.\n",
            "%pwd:\n",
            "    Return the current working directory path.\n",
            "%pycat:\n",
            "    Show a syntax-highlighted file through a pager.\n",
            "%pylab:\n",
            "    ::\n",
            "%qtconsole:\n",
            "    Open a qtconsole connected to this kernel.\n",
            "%quickref:\n",
            "    Show a quick reference sheet \n",
            "%recall:\n",
            "    Repeat a command, or get command to input line for editing.\n",
            "%rehashx:\n",
            "    Update the alias table with all executable files in $PATH.\n",
            "%reload_ext:\n",
            "    Reload an IPython extension by its module name.\n",
            "%ren:\n",
            "    Alias for `!ren`\n",
            "%rep:\n",
            "    Alias for `%recall`.\n",
            "%rerun:\n",
            "    Re-run previous input\n",
            "%reset:\n",
            "    Resets the namespace by removing all names defined by the user, if\n",
            "%reset_selective:\n",
            "    Resets the namespace by removing names defined by the user.\n",
            "%rmdir:\n",
            "    Alias for `!rmdir`\n",
            "%run:\n",
            "    Run the named file inside IPython as a program.\n",
            "%save:\n",
            "    Save a set of lines or a macro to a given filename.\n",
            "%sc:\n",
            "    Shell capture - run shell command and capture output (DEPRECATED use !).\n",
            "%set_env:\n",
            "    Set environment variables.  Assumptions are that either \"val\" is a\n",
            "%store:\n",
            "    Lightweight persistence for python variables.\n",
            "%sx:\n",
            "    Shell execute - run shell command and capture output (!! is short-hand).\n",
            "%system:\n",
            "    Shell execute - run shell command and capture output (!! is short-hand).\n",
            "%tb:\n",
            "    Print the last traceback.\n",
            "%time:\n",
            "    Time execution of a Python statement or expression.\n",
            "%timeit:\n",
            "    Time execution of a Python statement or expression\n",
            "%unalias:\n",
            "    Remove an alias\n",
            "%unload_ext:\n",
            "    Unload an IPython extension by its module name.\n",
            "%who:\n",
            "    Print all interactive variables, with some minimal formatting.\n",
            "%who_ls:\n",
            "    Return a sorted list of all interactive variables.\n",
            "%whos:\n",
            "    Like %who, but gives some extra information about each variable.\n",
            "%xdel:\n",
            "    Delete a variable, trying to clear it from anywhere that\n",
            "%xmode:\n",
            "    Switch modes for the exception handlers.\n",
            "%%!:\n",
            "    Shell execute - run shell command and capture output (!! is short-hand).\n",
            "%%HTML:\n",
            "    Alias for `%%html`.\n",
            "%%SVG:\n",
            "    Alias for `%%svg`.\n",
            "%%bash:\n",
            "    %%bash script magic\n",
            "%%capture:\n",
            "    ::\n",
            "%%cmd:\n",
            "    %%cmd script magic\n",
            "%%debug:\n",
            "    ::\n",
            "%%file:\n",
            "    Alias for `%%writefile`.\n",
            "%%html:\n",
            "    ::\n",
            "%%javascript:\n",
            "    Run the cell block of Javascript code\n",
            "%%js:\n",
            "    Run the cell block of Javascript code\n",
            "%%latex:\n",
            "    Render the cell as a block of latex\n",
            "%%markdown:\n",
            "    Render the cell as Markdown text block\n",
            "%%perl:\n",
            "    %%perl script magic\n",
            "%%prun:\n",
            "    Run a statement through the python code profiler.\n",
            "%%pypy:\n",
            "    %%pypy script magic\n",
            "%%python:\n",
            "    %%python script magic\n",
            "%%python2:\n",
            "    %%python2 script magic\n",
            "%%python3:\n",
            "    %%python3 script magic\n",
            "%%ruby:\n",
            "    %%ruby script magic\n",
            "%%script:\n",
            "    ::\n",
            "%%sh:\n",
            "    %%sh script magic\n",
            "%%svg:\n",
            "    Render the cell as an SVG literal\n",
            "%%sx:\n",
            "    Shell execute - run shell command and capture output (!! is short-hand).\n",
            "%%system:\n",
            "    Shell execute - run shell command and capture output (!! is short-hand).\n",
            "%%time:\n",
            "    Time execution of a Python statement or expression.\n",
            "%%timeit:\n",
            "    Time execution of a Python statement or expression\n",
            "%%writefile:\n",
            "    ::\n"
          ],
          "name": "stdout"
        }
      ]
    },
    {
      "cell_type": "code",
      "metadata": {
        "id": "QpWAEL_Ev-gQ",
        "outputId": "607cb191-a382-4354-bee4-451a98c0dd2a"
      },
      "source": [
        "%magic"
      ],
      "execution_count": null,
      "outputs": [
        {
          "output_type": "stream",
          "text": [
            "  \n",
            "    Notes:\n",
            "    \n",
            "    1) If an input line begins with '!!', then %sx is automatically\n",
            "    invoked.  That is, while::\n",
            "    \n",
            "      !ls\n",
            "    \n",
            "    causes ipython to simply issue system('ls'), typing::\n",
            "    \n",
            "      !!ls\n",
            "    \n",
            "    is a shorthand equivalent to::\n",
            "    \n",
            "      %sx ls\n",
            "    \n",
            "    2) %sx differs from %sc in that %sx automatically splits into a list,\n",
            "    like '%sc -l'.  The reason for this is to make it as easy as possible\n",
            "    to process line-oriented shell output via further python commands.\n",
            "    %sc is meant to provide much finer control, but requires more\n",
            "    typing.\n",
            "    \n",
            "    3) Just like %sc -l, this is a list with special attributes:\n",
            "    ::\n",
            "    \n",
            "      .l (or .list) : value as list.\n",
            "      .n (or .nlstr): value as newline-separated string.\n",
            "      .s (or .spstr): value as whitespace-separated string.\n",
            "    \n",
            "    This is very useful when trying to use such lists as arguments to\n",
            "    system commands.\n",
            "%%HTML:\n",
            "    Alias for `%%html`.\n",
            "%%SVG:\n",
            "    Alias for `%%svg`.\n",
            "%%bash:\n",
            "    %%bash script magic\n",
            "    \n",
            "    Run cells with bash in a subprocess.\n",
            "    \n",
            "    This is a shortcut for `%%script bash`\n",
            "%%capture:\n",
            "    ::\n",
            "    \n",
            "      %capture [--no-stderr] [--no-stdout] [--no-display] [output]\n",
            "    \n",
            "    run the cell, capturing stdout, stderr, and IPython's rich display() calls.\n",
            "    \n",
            "    positional arguments:\n",
            "      output        The name of the variable in which to store output. This is a\n",
            "                    utils.io.CapturedIO object with stdout/err attributes for the\n",
            "                    text of the captured output. CapturedOutput also has a show()\n",
            "                    method for displaying the output, and __call__ as well, so you\n",
            "                    can use that to quickly display the output. If unspecified,\n",
            "                    captured output is discarded.\n",
            "    \n",
            "    optional arguments:\n",
            "      --no-stderr   Don't capture stderr.\n",
            "      --no-stdout   Don't capture stdout.\n",
            "      --no-display  Don't capture IPython's rich display.\n",
            "%%cmd:\n",
            "    %%cmd script magic\n",
            "    \n",
            "    Run cells with cmd in a subprocess.\n",
            "    \n",
            "    This is a shortcut for `%%script cmd`\n",
            "%%debug:\n",
            "    ::\n",
            "    \n",
            "      %debug [--breakpoint FILE:LINE] [statement ...]\n",
            "    \n",
            "    Activate the interactive debugger.\n",
            "    \n",
            "    This magic command support two ways of activating debugger.\n",
            "    One is to activate debugger before executing code.  This way, you\n",
            "    can set a break point, to step through the code from the point.\n",
            "    You can use this mode by giving statements to execute and optionally\n",
            "    a breakpoint.\n",
            "    \n",
            "    The other one is to activate debugger in post-mortem mode.  You can\n",
            "    activate this mode simply running %debug without any argument.\n",
            "    If an exception has just occurred, this lets you inspect its stack\n",
            "    frames interactively.  Note that this will always work only on the last\n",
            "    traceback that occurred, so you must call this quickly after an\n",
            "    exception that you wish to inspect has fired, because if another one\n",
            "    occurs, it clobbers the previous one.\n",
            "    \n",
            "    If you want IPython to automatically do this on every exception, see\n",
            "    the %pdb magic for more details.\n",
            "    \n",
            "    .. versionchanged:: 7.3\n",
            "        When running code, user variables are no longer expanded,\n",
            "        the magic line is always left unmodified.\n",
            "    \n",
            "    positional arguments:\n",
            "      statement             Code to run in debugger. You can omit this in cell\n",
            "                            magic mode.\n",
            "    \n",
            "    optional arguments:\n",
            "      --breakpoint <FILE:LINE>, -b <FILE:LINE>\n",
            "                            Set break point at LINE in FILE.\n",
            "%%file:\n",
            "    Alias for `%%writefile`.\n",
            "%%html:\n",
            "    ::\n",
            "    \n",
            "      %html [--isolated]\n",
            "    \n",
            "    Render the cell as a block of HTML\n",
            "    \n",
            "    optional arguments:\n",
            "      --isolated  Annotate the cell as 'isolated'. Isolated cells are rendered\n",
            "                  inside their own <iframe> tag\n",
            "%%javascript:\n",
            "    Run the cell block of Javascript code\n",
            "%%js:\n",
            "    Run the cell block of Javascript code\n",
            "    \n",
            "    Alias of `%%javascript`\n",
            "%%latex:\n",
            "    Render the cell as a block of latex\n",
            "    \n",
            "    The subset of latex which is support depends on the implementation in\n",
            "    the client.  In the Jupyter Notebook, this magic only renders the subset\n",
            "    of latex defined by MathJax\n",
            "    [here](https://docs.mathjax.org/en/v2.5-latest/tex.html).\n",
            "%%markdown:\n",
            "    Render the cell as Markdown text block\n",
            "%%perl:\n",
            "    %%perl script magic\n",
            "    \n",
            "    Run cells with perl in a subprocess.\n",
            "    \n",
            "    This is a shortcut for `%%script perl`\n",
            "%%prun:\n",
            "    Run a statement through the python code profiler.\n",
            "    \n",
            "    Usage, in line mode:\n",
            "      %prun [options] statement\n",
            "    \n",
            "    Usage, in cell mode:\n",
            "      %%prun [options] [statement]\n",
            "      code...\n",
            "      code...\n",
            "    \n",
            "    In cell mode, the additional code lines are appended to the (possibly\n",
            "    empty) statement in the first line.  Cell mode allows you to easily\n",
            "    profile multiline blocks without having to put them in a separate\n",
            "    function.\n",
            "    \n",
            "    The given statement (which doesn't require quote marks) is run via the\n",
            "    python profiler in a manner similar to the profile.run() function.\n",
            "    Namespaces are internally managed to work correctly; profile.run\n",
            "    cannot be used in IPython because it makes certain assumptions about\n",
            "    namespaces which do not hold under IPython.\n",
            "    \n",
            "    Options:\n",
            "    \n",
            "    -l <limit>\n",
            "      you can place restrictions on what or how much of the\n",
            "      profile gets printed. The limit value can be:\n",
            "    \n",
            "         * A string: only information for function names containing this string\n",
            "           is printed.\n",
            "    \n",
            "         * An integer: only these many lines are printed.\n",
            "    \n",
            "         * A float (between 0 and 1): this fraction of the report is printed\n",
            "           (for example, use a limit of 0.4 to see the topmost 40% only).\n",
            "    \n",
            "      You can combine several limits with repeated use of the option. For\n",
            "      example, ``-l __init__ -l 5`` will print only the topmost 5 lines of\n",
            "      information about class constructors.\n",
            "    \n",
            "    -r\n",
            "      return the pstats.Stats object generated by the profiling. This\n",
            "      object has all the information about the profile in it, and you can\n",
            "      later use it for further analysis or in other functions.\n",
            "    \n",
            "    -s <key>\n",
            "      sort profile by given key. You can provide more than one key\n",
            "      by using the option several times: '-s key1 -s key2 -s key3...'. The\n",
            "      default sorting key is 'time'.\n",
            "    \n",
            "      The following is copied verbatim from the profile documentation\n",
            "      referenced below:\n",
            "    \n",
            "      When more than one key is provided, additional keys are used as\n",
            "      secondary criteria when the there is equality in all keys selected\n",
            "      before them.\n",
            "    \n",
            "      Abbreviations can be used for any key names, as long as the\n",
            "      abbreviation is unambiguous.  The following are the keys currently\n",
            "      defined:\n",
            "    \n",
            "      ============  =====================\n",
            "      Valid Arg     Meaning\n",
            "      ============  =====================\n",
            "      \"calls\"       call count\n",
            "      \"cumulative\"  cumulative time\n",
            "      \"file\"        file name\n",
            "      \"module\"      file name\n",
            "      \"pcalls\"      primitive call count\n",
            "      \"line\"        line number\n",
            "      \"name\"        function name\n",
            "      \"nfl\"         name/file/line\n",
            "      \"stdname\"     standard name\n",
            "      \"time\"        internal time\n",
            "      ============  =====================\n",
            "    \n",
            "      Note that all sorts on statistics are in descending order (placing\n",
            "      most time consuming items first), where as name, file, and line number\n",
            "      searches are in ascending order (i.e., alphabetical). The subtle\n",
            "      distinction between \"nfl\" and \"stdname\" is that the standard name is a\n",
            "      sort of the name as printed, which means that the embedded line\n",
            "      numbers get compared in an odd way.  For example, lines 3, 20, and 40\n",
            "      would (if the file names were the same) appear in the string order\n",
            "      \"20\" \"3\" and \"40\".  In contrast, \"nfl\" does a numeric compare of the\n",
            "      line numbers.  In fact, sort_stats(\"nfl\") is the same as\n",
            "      sort_stats(\"name\", \"file\", \"line\").\n",
            "    \n",
            "    -T <filename>\n",
            "      save profile results as shown on screen to a text\n",
            "      file. The profile is still shown on screen.\n",
            "    \n",
            "    -D <filename>\n",
            "      save (via dump_stats) profile statistics to given\n",
            "      filename. This data is in a format understood by the pstats module, and\n",
            "      is generated by a call to the dump_stats() method of profile\n",
            "      objects. The profile is still shown on screen.\n",
            "    \n",
            "    -q\n",
            "      suppress output to the pager.  Best used with -T and/or -D above.\n",
            "    \n",
            "    If you want to run complete programs under the profiler's control, use\n",
            "    ``%run -p [prof_opts] filename.py [args to program]`` where prof_opts\n",
            "    contains profiler specific options as described here.\n",
            "    \n",
            "    You can read the complete documentation for the profile module with::\n",
            "    \n",
            "      In [1]: import profile; profile.help()\n",
            "    \n",
            "    .. versionchanged:: 7.3\n",
            "        User variables are no longer expanded,\n",
            "        the magic line is always left unmodified.\n",
            "%%pypy:\n",
            "    %%pypy script magic\n",
            "    \n",
            "    Run cells with pypy in a subprocess.\n",
            "    \n",
            "    This is a shortcut for `%%script pypy`\n",
            "%%python:\n",
            "    %%python script magic\n",
            "    \n",
            "    Run cells with python in a subprocess.\n",
            "    \n",
            "    This is a shortcut for `%%script python`\n",
            "%%python2:\n",
            "    %%python2 script magic\n",
            "    \n",
            "    Run cells with python2 in a subprocess.\n",
            "    \n",
            "    This is a shortcut for `%%script python2`\n",
            "%%python3:\n",
            "    %%python3 script magic\n",
            "    \n",
            "    Run cells with python3 in a subprocess.\n",
            "    \n",
            "    This is a shortcut for `%%script python3`\n",
            "%%ruby:\n",
            "    %%ruby script magic\n",
            "    \n",
            "    Run cells with ruby in a subprocess.\n",
            "    \n",
            "    This is a shortcut for `%%script ruby`\n",
            "%%script:\n",
            "    ::\n",
            "    \n",
            "      %shebang [--no-raise-error] [--proc PROC] [--bg] [--err ERR] [--out OUT]\n",
            "    \n",
            "    Run a cell via a shell command\n",
            "    \n",
            "    The `%%script` line is like the #! line of script,\n",
            "    specifying a program (bash, perl, ruby, etc.) with which to run.\n",
            "    \n",
            "    The rest of the cell is run by that program.\n",
            "    \n",
            "    Examples\n",
            "    --------\n",
            "    ::\n",
            "    \n",
            "        In [1]: %%script bash\n",
            "           ...: for i in 1 2 3; do\n",
            "           ...:   echo $i\n",
            "           ...: done\n",
            "        1\n",
            "        2\n",
            "        3\n",
            "    \n",
            "    optional arguments:\n",
            "      --no-raise-error  Whether you should raise an error message in addition to a\n",
            "                        stream on stderr if you get a nonzero exit code.\n",
            "      --proc PROC       The variable in which to store Popen instance. This is\n",
            "                        used only when --bg option is given.\n",
            "      --bg              Whether to run the script in the background. If given, the\n",
            "                        only way to see the output of the command is with\n",
            "                        --out/err.\n",
            "      --err ERR         The variable in which to store stderr from the script. If\n",
            "                        the script is backgrounded, this will be the stderr\n",
            "                        *pipe*, instead of the stderr text itself and will not be\n",
            "                        autoclosed.\n",
            "      --out OUT         The variable in which to store stdout from the script. If\n",
            "                        the script is backgrounded, this will be the stdout\n",
            "                        *pipe*, instead of the stderr text itself and will not be\n",
            "                        auto closed.\n",
            "%%sh:\n",
            "    %%sh script magic\n",
            "    \n",
            "    Run cells with sh in a subprocess.\n",
            "    \n",
            "    This is a shortcut for `%%script sh`\n",
            "%%svg:\n",
            "    Render the cell as an SVG literal\n",
            "%%sx:\n",
            "    Shell execute - run shell command and capture output (!! is short-hand).\n",
            "    \n",
            "    %sx command\n",
            "    \n",
            "    IPython will run the given command using commands.getoutput(), and\n",
            "    return the result formatted as a list (split on '\\n').  Since the\n",
            "    output is _returned_, it will be stored in ipython's regular output\n",
            "    cache Out[N] and in the '_N' automatic variables.\n",
            "    \n",
            "    Notes:\n",
            "    \n",
            "    1) If an input line begins with '!!', then %sx is automatically\n",
            "    invoked.  That is, while::\n",
            "    \n",
            "      !ls\n",
            "    \n",
            "    causes ipython to simply issue system('ls'), typing::\n",
            "    \n",
            "      !!ls\n",
            "    \n",
            "    is a shorthand equivalent to::\n",
            "    \n",
            "      %sx ls\n",
            "    \n",
            "    2) %sx differs from %sc in that %sx automatically splits into a list,\n",
            "    like '%sc -l'.  The reason for this is to make it as easy as possible\n",
            "    to process line-oriented shell output via further python commands.\n",
            "    %sc is meant to provide much finer control, but requires more\n",
            "    typing.\n",
            "    \n",
            "    3) Just like %sc -l, this is a list with special attributes:\n",
            "    ::\n",
            "    \n",
            "      .l (or .list) : value as list.\n",
            "      .n (or .nlstr): value as newline-separated string.\n",
            "      .s (or .spstr): value as whitespace-separated string.\n",
            "    \n",
            "    This is very useful when trying to use such lists as arguments to\n",
            "    system commands.\n",
            "%%system:\n",
            "    Shell execute - run shell command and capture output (!! is short-hand).\n",
            "    \n",
            "    %sx command\n",
            "    \n",
            "    IPython will run the given command using commands.getoutput(), and\n",
            "    return the result formatted as a list (split on '\\n').  Since the\n",
            "    output is _returned_, it will be stored in ipython's regular output\n",
            "    cache Out[N] and in the '_N' automatic variables.\n",
            "    \n",
            "    Notes:\n",
            "    \n",
            "    1) If an input line begins with '!!', then %sx is automatically\n",
            "    invoked.  That is, while::\n",
            "    \n",
            "      !ls\n",
            "    \n",
            "    causes ipython to simply issue system('ls'), typing::\n",
            "    \n",
            "      !!ls\n",
            "    \n",
            "    is a shorthand equivalent to::\n",
            "    \n",
            "      %sx ls\n",
            "    \n",
            "    2) %sx differs from %sc in that %sx automatically splits into a list,\n",
            "    like '%sc -l'.  The reason for this is to make it as easy as possible\n",
            "    to process line-oriented shell output via further python commands.\n",
            "    %sc is meant to provide much finer control, but requires more\n",
            "    typing.\n",
            "    \n",
            "    3) Just like %sc -l, this is a list with special attributes:\n",
            "    ::\n",
            "    \n",
            "      .l (or .list) : value as list.\n",
            "      .n (or .nlstr): value as newline-separated string.\n",
            "      .s (or .spstr): value as whitespace-separated string.\n",
            "    \n",
            "    This is very useful when trying to use such lists as arguments to\n",
            "    system commands.\n",
            "%%time:\n",
            "    Time execution of a Python statement or expression.\n",
            "    \n",
            "    The CPU and wall clock times are printed, and the value of the\n",
            "    expression (if any) is returned.  Note that under Win32, system time\n",
            "    is always reported as 0, since it can not be measured.\n",
            "    \n",
            "    This function can be used both as a line and cell magic:\n",
            "    \n",
            "    - In line mode you can time a single-line statement (though multiple\n",
            "      ones can be chained with using semicolons).\n",
            "    \n",
            "    - In cell mode, you can time the cell body (a directly\n",
            "      following statement raises an error).\n",
            "    \n",
            "    This function provides very basic timing functionality.  Use the timeit\n",
            "    magic for more control over the measurement.\n",
            "    \n",
            "    .. versionchanged:: 7.3\n",
            "        User variables are no longer expanded,\n",
            "        the magic line is always left unmodified.\n",
            "    \n",
            "    Examples\n",
            "    --------\n",
            "    ::\n",
            "    \n",
            "      In [1]: %time 2**128\n",
            "      CPU times: user 0.00 s, sys: 0.00 s, total: 0.00 s\n",
            "      Wall time: 0.00\n",
            "      Out[1]: 340282366920938463463374607431768211456L\n",
            "    \n",
            "      In [2]: n = 1000000\n",
            "    \n",
            "      In [3]: %time sum(range(n))\n",
            "      CPU times: user 1.20 s, sys: 0.05 s, total: 1.25 s\n",
            "      Wall time: 1.37\n",
            "      Out[3]: 499999500000L\n",
            "    \n",
            "      In [4]: %time print 'hello world'\n",
            "      hello world\n",
            "      CPU times: user 0.00 s, sys: 0.00 s, total: 0.00 s\n",
            "      Wall time: 0.00\n",
            "    \n",
            "      Note that the time needed by Python to compile the given expression\n",
            "      will be reported if it is more than 0.1s.  In this example, the\n",
            "      actual exponentiation is done by Python at compilation time, so while\n",
            "      the expression can take a noticeable amount of time to compute, that\n",
            "      time is purely due to the compilation:\n",
            "    \n",
            "      In [5]: %time 3**9999;\n",
            "      CPU times: user 0.00 s, sys: 0.00 s, total: 0.00 s\n",
            "      Wall time: 0.00 s\n",
            "    \n",
            "      In [6]: %time 3**999999;\n",
            "      CPU times: user 0.00 s, sys: 0.00 s, total: 0.00 s\n",
            "      Wall time: 0.00 s\n",
            "      Compiler : 0.78 s\n",
            "%%timeit:\n",
            "    Time execution of a Python statement or expression\n",
            "    \n",
            "    Usage, in line mode:\n",
            "      %timeit [-n<N> -r<R> [-t|-c] -q -p<P> -o] statement\n",
            "    or in cell mode:\n",
            "      %%timeit [-n<N> -r<R> [-t|-c] -q -p<P> -o] setup_code\n",
            "      code\n",
            "      code...\n",
            "    \n",
            "    Time execution of a Python statement or expression using the timeit\n",
            "    module.  This function can be used both as a line and cell magic:\n",
            "    \n",
            "    - In line mode you can time a single-line statement (though multiple\n",
            "      ones can be chained with using semicolons).\n",
            "    \n",
            "    - In cell mode, the statement in the first line is used as setup code\n",
            "      (executed but not timed) and the body of the cell is timed.  The cell\n",
            "      body has access to any variables created in the setup code.\n",
            "    \n",
            "    Options:\n",
            "    -n<N>: execute the given statement <N> times in a loop. If <N> is not\n",
            "    provided, <N> is determined so as to get sufficient accuracy.\n",
            "    \n",
            "    -r<R>: number of repeats <R>, each consisting of <N> loops, and take the\n",
            "    best result.\n",
            "    Default: 7\n",
            "    \n",
            "    -t: use time.time to measure the time, which is the default on Unix.\n",
            "    This function measures wall time.\n",
            "    \n",
            "    -c: use time.clock to measure the time, which is the default on\n",
            "    Windows and measures wall time. On Unix, resource.getrusage is used\n",
            "    instead and returns the CPU user time.\n",
            "    \n",
            "    -p<P>: use a precision of <P> digits to display the timing result.\n",
            "    Default: 3\n",
            "    \n",
            "    -q: Quiet, do not print result.\n",
            "    \n",
            "    -o: return a TimeitResult that can be stored in a variable to inspect\n",
            "        the result in more details.\n",
            "    \n",
            "    .. versionchanged:: 7.3\n",
            "        User variables are no longer expanded,\n",
            "        the magic line is always left unmodified.\n",
            "    \n",
            "    Examples\n",
            "    --------\n",
            "    ::\n",
            "    \n",
            "      In [1]: %timeit pass\n",
            "      8.26 ns ± 0.12 ns per loop (mean ± std. dev. of 7 runs, 100000000 loops each)\n",
            "    \n",
            "      In [2]: u = None\n",
            "    \n",
            "      In [3]: %timeit u is None\n",
            "      29.9 ns ± 0.643 ns per loop (mean ± std. dev. of 7 runs, 10000000 loops each)\n",
            "    \n",
            "      In [4]: %timeit -r 4 u == None\n",
            "    \n",
            "      In [5]: import time\n",
            "    \n",
            "      In [6]: %timeit -n1 time.sleep(2)\n",
            "    \n",
            "    \n",
            "    The times reported by %timeit will be slightly higher than those\n",
            "    reported by the timeit.py script when variables are accessed. This is\n",
            "    due to the fact that %timeit executes the statement in the namespace\n",
            "    of the shell, compared with timeit.py, which uses a single setup\n",
            "    statement to import function or create variables. Generally, the bias\n",
            "    does not matter as long as results from timeit.py are not mixed with\n",
            "    those from %timeit.\n",
            "%%writefile:\n",
            "    ::\n",
            "    \n",
            "      %writefile [-a] filename\n",
            "    \n",
            "    Write the contents of the cell to a file.\n",
            "    \n",
            "    The file will be overwritten unless the -a (--append) flag is specified.\n",
            "    \n",
            "    positional arguments:\n",
            "      filename      file to write\n",
            "    \n",
            "    optional arguments:\n",
            "      -a, --append  Append contents of the cell to an existing file. The file will\n",
            "                    be created if it does not exist.\n",
            "\n",
            "Summary of magic functions (from %lsmagic):\n",
            "Available line magics:\n",
            "%alias  %alias_magic  %autoawait  %autocall  %automagic  %autosave  %bookmark  %cd  %clear  %cls  %colors  %conda  %config  %connect_info  %copy  %ddir  %debug  %dhist  %dirs  %doctest_mode  %echo  %ed  %edit  %env  %gui  %hist  %history  %killbgscripts  %ldir  %less  %load  %load_ext  %loadpy  %logoff  %logon  %logstart  %logstate  %logstop  %ls  %lsmagic  %macro  %magic  %matplotlib  %mkdir  %more  %notebook  %page  %pastebin  %pdb  %pdef  %pdoc  %pfile  %pinfo  %pinfo2  %pip  %popd  %pprint  %precision  %prun  %psearch  %psource  %pushd  %pwd  %pycat  %pylab  %qtconsole  %quickref  %recall  %rehashx  %reload_ext  %ren  %rep  %rerun  %reset  %reset_selective  %rmdir  %run  %save  %sc  %set_env  %store  %sx  %system  %tb  %time  %timeit  %unalias  %unload_ext  %who  %who_ls  %whos  %xdel  %xmode\n",
            "\n",
            "Available cell magics:\n",
            "%%!  %%HTML  %%SVG  %%bash  %%capture  %%cmd  %%debug  %%file  %%html  %%javascript  %%js  %%latex  %%markdown  %%perl  %%prun  %%pypy  %%python  %%python2  %%python3  %%ruby  %%script  %%sh  %%svg  %%sx  %%system  %%time  %%timeit  %%writefile\n",
            "\n",
            "Automagic is ON, % prefix IS NOT needed for line magics."
          ],
          "name": "stdout"
        }
      ]
    },
    {
      "cell_type": "markdown",
      "metadata": {
        "id": "SRKx11l8v-gQ"
      },
      "source": [
        "* Some frequently used IPython magic commands<br>\n",
        "Use %quickref or %magic to check<br>\n",
        "![image.png](attachment:image.png)"
      ]
    },
    {
      "cell_type": "markdown",
      "metadata": {
        "id": "xvcrbxbPv-gQ"
      },
      "source": [
        "#### Matplotlib integration\n",
        "Running %matplotlib sets up the integration so you can create multiple plot windows without interfering with the console session"
      ]
    },
    {
      "cell_type": "code",
      "metadata": {
        "id": "UXcX2LeJv-gQ",
        "outputId": "6dfc95b1-d2ee-4959-aa9f-a4f844beaf6c"
      },
      "source": [
        "%matplotlib"
      ],
      "execution_count": null,
      "outputs": [
        {
          "output_type": "stream",
          "text": [
            "Using matplotlib backend: TkAgg\n"
          ],
          "name": "stdout"
        }
      ]
    },
    {
      "cell_type": "code",
      "metadata": {
        "id": "6BAF-9DNv-gR",
        "outputId": "bdb7624a-1311-42aa-9057-3b49dd5e6b77"
      },
      "source": [
        "%matplotlib inline\n",
        "import matplotlib.pyplot as plt\n",
        "plt.plot(np.random.randn(50).cumsum())"
      ],
      "execution_count": null,
      "outputs": [
        {
          "output_type": "execute_result",
          "data": {
            "text/plain": [
              "[<matplotlib.lines.Line2D at 0x1f0537ec730>]"
            ]
          },
          "metadata": {
            "tags": []
          },
          "execution_count": 66
        },
        {
          "output_type": "display_data",
          "data": {
            "image/png": "[encoded data removed]",
            "image/svg+xml": "<?xml version=\"1.0\" encoding=\"utf-8\" standalone=\"no\"?>\r\n<!DOCTYPE svg PUBLIC \"-//W3C//DTD SVG 1.1//EN\"\r\n  \"http://www.w3.org/Graphics/SVG/1.1/DTD/svg11.dtd\">\r\n<!-- Created with matplotlib (https://matplotlib.org/) -->\r\n<svg height=\"251.389653pt\" version=\"1.1\" viewBox=\"0 0 362.5625 251.389653\" width=\"362.5625pt\" xmlns=\"http://www.w3.org/2000/svg\" xmlns:xlink=\"http://www.w3.org/1999/xlink\">\r\n <metadata>\r\n  <rdf:RDF xmlns:cc=\"http://creativecommons.org/ns#\" xmlns:dc=\"http://purl.org/dc/elements/1.1/\" xmlns:rdf=\"http://www.w3.org/1999/02/22-rdf-syntax-ns#\">\r\n   <cc:Work>\r\n    <dc:type rdf:resource=\"http://purl.org/dc/dcmitype/StillImage\"/>\r\n    <dc:date>2020-11-19T08:00:37.768155</dc:date>\r\n    <dc:format>image/svg+xml</dc:format>\r\n    <dc:creator>\r\n     <cc:Agent>\r\n      <dc:title>Matplotlib v3.3.3, https://matplotlib.org/</dc:title>\r\n     </cc:Agent>\r\n    </dc:creator>\r\n   </cc:Work>\r\n  </rdf:RDF>\r\n </metadata>\r\n <defs>\r\n  <style type=\"text/css\">*{stroke-linecap:butt;stroke-linejoin:round;}</style>\r\n </defs>\r\n <g id=\"figure_1\">\r\n  <g id=\"patch_1\">\r\n   <path d=\"M 0 251.389653 \r\nL 362.5625 251.389653 \r\nL 362.5625 0 \r\nL 0 0 \r\nz\r\n\" style=\"fill:none;\"/>\r\n  </g>\r\n  <g id=\"axes_1\">\r\n   <g id=\"patch_2\">\r\n    <path d=\"M 20.5625 227.511528 \r\nL 355.3625 227.511528 \r\nL 355.3625 10.071528 \r\nL 20.5625 10.071528 \r\nz\r\n\" style=\"fill:#ffffff;\"/>\r\n   </g>\r\n   <g id=\"matplotlib.axis_1\">\r\n    <g id=\"xtick_1\">\r\n     <g id=\"line2d_1\">\r\n      <defs>\r\n       <path d=\"M 0 0 \r\nL 0 3.5 \r\n\" id=\"m5c7a718688\" style=\"stroke:#000000;stroke-width:0.8;\"/>\r\n      </defs>\r\n      <g>\r\n       <use style=\"stroke:#000000;stroke-width:0.8;\" x=\"35.780682\" xlink:href=\"#m5c7a718688\" y=\"227.511528\"/>\r\n      </g>\r\n     </g>\r\n     <g id=\"text_1\">\r\n      <!-- 0 -->\r\n      <g transform=\"translate(32.599432 242.109965)scale(0.1 -0.1)\">\r\n       <defs>\r\n        <path d=\"M 31.78125 66.40625 \r\nQ 24.171875 66.40625 20.328125 58.90625 \r\nQ 16.5 51.421875 16.5 36.375 \r\nQ 16.5 21.390625 20.328125 13.890625 \r\nQ 24.171875 6.390625 31.78125 6.390625 \r\nQ 39.453125 6.390625 43.28125 13.890625 \r\nQ 47.125 21.390625 47.125 36.375 \r\nQ 47.125 51.421875 43.28125 58.90625 \r\nQ 39.453125 66.40625 31.78125 66.40625 \r\nz\r\nM 31.78125 74.21875 \r\nQ 44.046875 74.21875 50.515625 64.515625 \r\nQ 56.984375 54.828125 56.984375 36.375 \r\nQ 56.984375 17.96875 50.515625 8.265625 \r\nQ 44.046875 -1.421875 31.78125 -1.421875 \r\nQ 19.53125 -1.421875 13.0625 8.265625 \r\nQ 6.59375 17.96875 6.59375 36.375 \r\nQ 6.59375 54.828125 13.0625 64.515625 \r\nQ 19.53125 74.21875 31.78125 74.21875 \r\nz\r\n\" id=\"DejaVuSans-48\"/>\r\n       </defs>\r\n       <use xlink:href=\"#DejaVuSans-48\"/>\r\n      </g>\r\n     </g>\r\n    </g>\r\n    <g id=\"xtick_2\">\r\n     <g id=\"line2d_2\">\r\n      <g>\r\n       <use style=\"stroke:#000000;stroke-width:0.8;\" x=\"97.89571\" xlink:href=\"#m5c7a718688\" y=\"227.511528\"/>\r\n      </g>\r\n     </g>\r\n     <g id=\"text_2\">\r\n      <!-- 10 -->\r\n      <g transform=\"translate(91.53321 242.109965)scale(0.1 -0.1)\">\r\n       <defs>\r\n        <path d=\"M 12.40625 8.296875 \r\nL 28.515625 8.296875 \r\nL 28.515625 63.921875 \r\nL 10.984375 60.40625 \r\nL 10.984375 69.390625 \r\nL 28.421875 72.90625 \r\nL 38.28125 72.90625 \r\nL 38.28125 8.296875 \r\nL 54.390625 8.296875 \r\nL 54.390625 0 \r\nL 12.40625 0 \r\nz\r\n\" id=\"DejaVuSans-49\"/>\r\n       </defs>\r\n       <use xlink:href=\"#DejaVuSans-49\"/>\r\n       <use x=\"63.623047\" xlink:href=\"#DejaVuSans-48\"/>\r\n      </g>\r\n     </g>\r\n    </g>\r\n    <g id=\"xtick_3\">\r\n     <g id=\"line2d_3\">\r\n      <g>\r\n       <use style=\"stroke:#000000;stroke-width:0.8;\" x=\"160.010737\" xlink:href=\"#m5c7a718688\" y=\"227.511528\"/>\r\n      </g>\r\n     </g>\r\n     <g id=\"text_3\">\r\n      <!-- 20 -->\r\n      <g transform=\"translate(153.648237 242.109965)scale(0.1 -0.1)\">\r\n       <defs>\r\n        <path d=\"M 19.1875 8.296875 \r\nL 53.609375 8.296875 \r\nL 53.609375 0 \r\nL 7.328125 0 \r\nL 7.328125 8.296875 \r\nQ 12.9375 14.109375 22.625 23.890625 \r\nQ 32.328125 33.6875 34.8125 36.53125 \r\nQ 39.546875 41.84375 41.421875 45.53125 \r\nQ 43.3125 49.21875 43.3125 52.78125 \r\nQ 43.3125 58.59375 39.234375 62.25 \r\nQ 35.15625 65.921875 28.609375 65.921875 \r\nQ 23.96875 65.921875 18.8125 64.3125 \r\nQ 13.671875 62.703125 7.8125 59.421875 \r\nL 7.8125 69.390625 \r\nQ 13.765625 71.78125 18.9375 73 \r\nQ 24.125 74.21875 28.421875 74.21875 \r\nQ 39.75 74.21875 46.484375 68.546875 \r\nQ 53.21875 62.890625 53.21875 53.421875 \r\nQ 53.21875 48.921875 51.53125 44.890625 \r\nQ 49.859375 40.875 45.40625 35.40625 \r\nQ 44.1875 33.984375 37.640625 27.21875 \r\nQ 31.109375 20.453125 19.1875 8.296875 \r\nz\r\n\" id=\"DejaVuSans-50\"/>\r\n       </defs>\r\n       <use xlink:href=\"#DejaVuSans-50\"/>\r\n       <use x=\"63.623047\" xlink:href=\"#DejaVuSans-48\"/>\r\n      </g>\r\n     </g>\r\n    </g>\r\n    <g id=\"xtick_4\">\r\n     <g id=\"line2d_4\">\r\n      <g>\r\n       <use style=\"stroke:#000000;stroke-width:0.8;\" x=\"222.125765\" xlink:href=\"#m5c7a718688\" y=\"227.511528\"/>\r\n      </g>\r\n     </g>\r\n     <g id=\"text_4\">\r\n      <!-- 30 -->\r\n      <g transform=\"translate(215.763265 242.109965)scale(0.1 -0.1)\">\r\n       <defs>\r\n        <path d=\"M 40.578125 39.3125 \r\nQ 47.65625 37.796875 51.625 33 \r\nQ 55.609375 28.21875 55.609375 21.1875 \r\nQ 55.609375 10.40625 48.1875 4.484375 \r\nQ 40.765625 -1.421875 27.09375 -1.421875 \r\nQ 22.515625 -1.421875 17.65625 -0.515625 \r\nQ 12.796875 0.390625 7.625 2.203125 \r\nL 7.625 11.71875 \r\nQ 11.71875 9.328125 16.59375 8.109375 \r\nQ 21.484375 6.890625 26.8125 6.890625 \r\nQ 36.078125 6.890625 40.9375 10.546875 \r\nQ 45.796875 14.203125 45.796875 21.1875 \r\nQ 45.796875 27.640625 41.28125 31.265625 \r\nQ 36.765625 34.90625 28.71875 34.90625 \r\nL 20.21875 34.90625 \r\nL 20.21875 43.015625 \r\nL 29.109375 43.015625 \r\nQ 36.375 43.015625 40.234375 45.921875 \r\nQ 44.09375 48.828125 44.09375 54.296875 \r\nQ 44.09375 59.90625 40.109375 62.90625 \r\nQ 36.140625 65.921875 28.71875 65.921875 \r\nQ 24.65625 65.921875 20.015625 65.03125 \r\nQ 15.375 64.15625 9.8125 62.3125 \r\nL 9.8125 71.09375 \r\nQ 15.4375 72.65625 20.34375 73.4375 \r\nQ 25.25 74.21875 29.59375 74.21875 \r\nQ 40.828125 74.21875 47.359375 69.109375 \r\nQ 53.90625 64.015625 53.90625 55.328125 \r\nQ 53.90625 49.265625 50.4375 45.09375 \r\nQ 46.96875 40.921875 40.578125 39.3125 \r\nz\r\n\" id=\"DejaVuSans-51\"/>\r\n       </defs>\r\n       <use xlink:href=\"#DejaVuSans-51\"/>\r\n       <use x=\"63.623047\" xlink:href=\"#DejaVuSans-48\"/>\r\n      </g>\r\n     </g>\r\n    </g>\r\n    <g id=\"xtick_5\">\r\n     <g id=\"line2d_5\">\r\n      <g>\r\n       <use style=\"stroke:#000000;stroke-width:0.8;\" x=\"284.240793\" xlink:href=\"#m5c7a718688\" y=\"227.511528\"/>\r\n      </g>\r\n     </g>\r\n     <g id=\"text_5\">\r\n      <!-- 40 -->\r\n      <g transform=\"translate(277.878293 242.109965)scale(0.1 -0.1)\">\r\n       <defs>\r\n        <path d=\"M 37.796875 64.3125 \r\nL 12.890625 25.390625 \r\nL 37.796875 25.390625 \r\nz\r\nM 35.203125 72.90625 \r\nL 47.609375 72.90625 \r\nL 47.609375 25.390625 \r\nL 58.015625 25.390625 \r\nL 58.015625 17.1875 \r\nL 47.609375 17.1875 \r\nL 47.609375 0 \r\nL 37.796875 0 \r\nL 37.796875 17.1875 \r\nL 4.890625 17.1875 \r\nL 4.890625 26.703125 \r\nz\r\n\" id=\"DejaVuSans-52\"/>\r\n       </defs>\r\n       <use xlink:href=\"#DejaVuSans-52\"/>\r\n       <use x=\"63.623047\" xlink:href=\"#DejaVuSans-48\"/>\r\n      </g>\r\n     </g>\r\n    </g>\r\n    <g id=\"xtick_6\">\r\n     <g id=\"line2d_6\">\r\n      <g>\r\n       <use style=\"stroke:#000000;stroke-width:0.8;\" x=\"346.355821\" xlink:href=\"#m5c7a718688\" y=\"227.511528\"/>\r\n      </g>\r\n     </g>\r\n     <g id=\"text_6\">\r\n      <!-- 50 -->\r\n      <g transform=\"translate(339.993321 242.109965)scale(0.1 -0.1)\">\r\n       <defs>\r\n        <path d=\"M 10.796875 72.90625 \r\nL 49.515625 72.90625 \r\nL 49.515625 64.59375 \r\nL 19.828125 64.59375 \r\nL 19.828125 46.734375 \r\nQ 21.96875 47.46875 24.109375 47.828125 \r\nQ 26.265625 48.1875 28.421875 48.1875 \r\nQ 40.625 48.1875 47.75 41.5 \r\nQ 54.890625 34.8125 54.890625 23.390625 \r\nQ 54.890625 11.625 47.5625 5.09375 \r\nQ 40.234375 -1.421875 26.90625 -1.421875 \r\nQ 22.3125 -1.421875 17.546875 -0.640625 \r\nQ 12.796875 0.140625 7.71875 1.703125 \r\nL 7.71875 11.625 \r\nQ 12.109375 9.234375 16.796875 8.0625 \r\nQ 21.484375 6.890625 26.703125 6.890625 \r\nQ 35.15625 6.890625 40.078125 11.328125 \r\nQ 45.015625 15.765625 45.015625 23.390625 \r\nQ 45.015625 31 40.078125 35.4375 \r\nQ 35.15625 39.890625 26.703125 39.890625 \r\nQ 22.75 39.890625 18.8125 39.015625 \r\nQ 14.890625 38.140625 10.796875 36.28125 \r\nz\r\n\" id=\"DejaVuSans-53\"/>\r\n       </defs>\r\n       <use xlink:href=\"#DejaVuSans-53\"/>\r\n       <use x=\"63.623047\" xlink:href=\"#DejaVuSans-48\"/>\r\n      </g>\r\n     </g>\r\n    </g>\r\n   </g>\r\n   <g id=\"matplotlib.axis_2\">\r\n    <g id=\"ytick_1\">\r\n     <g id=\"line2d_7\">\r\n      <defs>\r\n       <path d=\"M 0 0 \r\nL -3.5 0 \r\n\" id=\"mfb3d210497\" style=\"stroke:#000000;stroke-width:0.8;\"/>\r\n      </defs>\r\n      <g>\r\n       <use style=\"stroke:#000000;stroke-width:0.8;\" x=\"20.5625\" xlink:href=\"#mfb3d210497\" y=\"203.388666\"/>\r\n      </g>\r\n     </g>\r\n     <g id=\"text_7\">\r\n      <!-- 1 -->\r\n      <g transform=\"translate(7.2 207.187885)scale(0.1 -0.1)\">\r\n       <use xlink:href=\"#DejaVuSans-49\"/>\r\n      </g>\r\n     </g>\r\n    </g>\r\n    <g id=\"ytick_2\">\r\n     <g id=\"line2d_8\">\r\n      <g>\r\n       <use style=\"stroke:#000000;stroke-width:0.8;\" x=\"20.5625\" xlink:href=\"#mfb3d210497\" y=\"171.323758\"/>\r\n      </g>\r\n     </g>\r\n     <g id=\"text_8\">\r\n      <!-- 2 -->\r\n      <g transform=\"translate(7.2 175.122977)scale(0.1 -0.1)\">\r\n       <use xlink:href=\"#DejaVuSans-50\"/>\r\n      </g>\r\n     </g>\r\n    </g>\r\n    <g id=\"ytick_3\">\r\n     <g id=\"line2d_9\">\r\n      <g>\r\n       <use style=\"stroke:#000000;stroke-width:0.8;\" x=\"20.5625\" xlink:href=\"#mfb3d210497\" y=\"139.25885\"/>\r\n      </g>\r\n     </g>\r\n     <g id=\"text_9\">\r\n      <!-- 3 -->\r\n      <g transform=\"translate(7.2 143.058069)scale(0.1 -0.1)\">\r\n       <use xlink:href=\"#DejaVuSans-51\"/>\r\n      </g>\r\n     </g>\r\n    </g>\r\n    <g id=\"ytick_4\">\r\n     <g id=\"line2d_10\">\r\n      <g>\r\n       <use style=\"stroke:#000000;stroke-width:0.8;\" x=\"20.5625\" xlink:href=\"#mfb3d210497\" y=\"107.193942\"/>\r\n      </g>\r\n     </g>\r\n     <g id=\"text_10\">\r\n      <!-- 4 -->\r\n      <g transform=\"translate(7.2 110.993161)scale(0.1 -0.1)\">\r\n       <use xlink:href=\"#DejaVuSans-52\"/>\r\n      </g>\r\n     </g>\r\n    </g>\r\n    <g id=\"ytick_5\">\r\n     <g id=\"line2d_11\">\r\n      <g>\r\n       <use style=\"stroke:#000000;stroke-width:0.8;\" x=\"20.5625\" xlink:href=\"#mfb3d210497\" y=\"75.129034\"/>\r\n      </g>\r\n     </g>\r\n     <g id=\"text_11\">\r\n      <!-- 5 -->\r\n      <g transform=\"translate(7.2 78.928253)scale(0.1 -0.1)\">\r\n       <use xlink:href=\"#DejaVuSans-53\"/>\r\n      </g>\r\n     </g>\r\n    </g>\r\n    <g id=\"ytick_6\">\r\n     <g id=\"line2d_12\">\r\n      <g>\r\n       <use style=\"stroke:#000000;stroke-width:0.8;\" x=\"20.5625\" xlink:href=\"#mfb3d210497\" y=\"43.064127\"/>\r\n      </g>\r\n     </g>\r\n     <g id=\"text_12\">\r\n      <!-- 6 -->\r\n      <g transform=\"translate(7.2 46.863345)scale(0.1 -0.1)\">\r\n       <defs>\r\n        <path d=\"M 33.015625 40.375 \r\nQ 26.375 40.375 22.484375 35.828125 \r\nQ 18.609375 31.296875 18.609375 23.390625 \r\nQ 18.609375 15.53125 22.484375 10.953125 \r\nQ 26.375 6.390625 33.015625 6.390625 \r\nQ 39.65625 6.390625 43.53125 10.953125 \r\nQ 47.40625 15.53125 47.40625 23.390625 \r\nQ 47.40625 31.296875 43.53125 35.828125 \r\nQ 39.65625 40.375 33.015625 40.375 \r\nz\r\nM 52.59375 71.296875 \r\nL 52.59375 62.3125 \r\nQ 48.875 64.0625 45.09375 64.984375 \r\nQ 41.3125 65.921875 37.59375 65.921875 \r\nQ 27.828125 65.921875 22.671875 59.328125 \r\nQ 17.53125 52.734375 16.796875 39.40625 \r\nQ 19.671875 43.65625 24.015625 45.921875 \r\nQ 28.375 48.1875 33.59375 48.1875 \r\nQ 44.578125 48.1875 50.953125 41.515625 \r\nQ 57.328125 34.859375 57.328125 23.390625 \r\nQ 57.328125 12.15625 50.6875 5.359375 \r\nQ 44.046875 -1.421875 33.015625 -1.421875 \r\nQ 20.359375 -1.421875 13.671875 8.265625 \r\nQ 6.984375 17.96875 6.984375 36.375 \r\nQ 6.984375 53.65625 15.1875 63.9375 \r\nQ 23.390625 74.21875 37.203125 74.21875 \r\nQ 40.921875 74.21875 44.703125 73.484375 \r\nQ 48.484375 72.75 52.59375 71.296875 \r\nz\r\n\" id=\"DejaVuSans-54\"/>\r\n       </defs>\r\n       <use xlink:href=\"#DejaVuSans-54\"/>\r\n      </g>\r\n     </g>\r\n    </g>\r\n    <g id=\"ytick_7\">\r\n     <g id=\"line2d_13\">\r\n      <g>\r\n       <use style=\"stroke:#000000;stroke-width:0.8;\" x=\"20.5625\" xlink:href=\"#mfb3d210497\" y=\"10.999219\"/>\r\n      </g>\r\n     </g>\r\n     <g id=\"text_13\">\r\n      <!-- 7 -->\r\n      <g transform=\"translate(7.2 14.798437)scale(0.1 -0.1)\">\r\n       <defs>\r\n        <path d=\"M 8.203125 72.90625 \r\nL 55.078125 72.90625 \r\nL 55.078125 68.703125 \r\nL 28.609375 0 \r\nL 18.3125 0 \r\nL 43.21875 64.59375 \r\nL 8.203125 64.59375 \r\nz\r\n\" id=\"DejaVuSans-55\"/>\r\n       </defs>\r\n       <use xlink:href=\"#DejaVuSans-55\"/>\r\n      </g>\r\n     </g>\r\n    </g>\r\n   </g>\r\n   <g id=\"line2d_14\">\r\n    <path clip-path=\"url(#p0689c4029e)\" d=\"M 35.780682 189.060564 \r\nL 41.992185 128.244821 \r\nL 48.203687 98.906093 \r\nL 54.41519 88.595215 \r\nL 60.626693 97.093612 \r\nL 66.838196 92.216567 \r\nL 73.049699 98.961197 \r\nL 79.261201 89.010557 \r\nL 85.472704 132.668383 \r\nL 91.684207 109.621848 \r\nL 97.89571 25.439731 \r\nL 104.107212 19.955164 \r\nL 110.318715 90.26214 \r\nL 116.530218 139.052412 \r\nL 122.741721 150.223191 \r\nL 128.953224 119.40096 \r\nL 135.164726 124.41184 \r\nL 141.376229 72.523174 \r\nL 147.587732 39.048752 \r\nL 153.799235 88.256732 \r\nL 160.010737 102.211333 \r\nL 166.22224 125.355152 \r\nL 172.433743 52.481067 \r\nL 178.645246 57.027073 \r\nL 184.856749 60.18959 \r\nL 191.068251 70.217267 \r\nL 197.279754 64.255139 \r\nL 203.491257 81.588055 \r\nL 209.70276 78.787836 \r\nL 215.914263 76.929267 \r\nL 222.125765 51.332684 \r\nL 228.337268 121.005308 \r\nL 234.548771 142.96547 \r\nL 240.760274 203.84379 \r\nL 246.971776 205.133472 \r\nL 253.183279 190.866577 \r\nL 259.394782 217.627892 \r\nL 265.606285 167.807441 \r\nL 271.817788 171.727893 \r\nL 278.02929 145.905469 \r\nL 284.240793 139.131286 \r\nL 290.452296 92.73507 \r\nL 296.663799 62.053843 \r\nL 302.875301 122.112245 \r\nL 309.086804 142.016333 \r\nL 315.298307 139.433062 \r\nL 321.50981 105.578232 \r\nL 327.721313 129.464884 \r\nL 333.932815 77.252635 \r\nL 340.144318 32.276309 \r\n\" style=\"fill:none;stroke:#1f77b4;stroke-linecap:square;stroke-width:1.5;\"/>\r\n   </g>\r\n   <g id=\"patch_3\">\r\n    <path d=\"M 20.5625 227.511528 \r\nL 20.5625 10.071528 \r\n\" style=\"fill:none;stroke:#000000;stroke-linecap:square;stroke-linejoin:miter;stroke-width:0.8;\"/>\r\n   </g>\r\n   <g id=\"patch_4\">\r\n    <path d=\"M 355.3625 227.511528 \r\nL 355.3625 10.071528 \r\n\" style=\"fill:none;stroke:#000000;stroke-linecap:square;stroke-linejoin:miter;stroke-width:0.8;\"/>\r\n   </g>\r\n   <g id=\"patch_5\">\r\n    <path d=\"M 20.5625 227.511528 \r\nL 355.3625 227.511528 \r\n\" style=\"fill:none;stroke:#000000;stroke-linecap:square;stroke-linejoin:miter;stroke-width:0.8;\"/>\r\n   </g>\r\n   <g id=\"patch_6\">\r\n    <path d=\"M 20.5625 10.071528 \r\nL 355.3625 10.071528 \r\n\" style=\"fill:none;stroke:#000000;stroke-linecap:square;stroke-linejoin:miter;stroke-width:0.8;\"/>\r\n   </g>\r\n  </g>\r\n </g>\r\n <defs>\r\n  <clipPath id=\"p0689c4029e\">\r\n   <rect height=\"217.44\" width=\"334.8\" x=\"20.5625\" y=\"10.071528\"/>\r\n  </clipPath>\r\n </defs>\r\n</svg>\r\n",
            "text/plain": [
              "<Figure size 432x288 with 1 Axes>"
            ]
          },
          "metadata": {
            "tags": [],
            "needs_background": "light"
          }
        }
      ]
    },
    {
      "cell_type": "markdown",
      "metadata": {
        "id": "An3hFVb_v-gR"
      },
      "source": [
        "#### Language Semantics\n",
        "Python language emphasis on \"readability, simplicity and explicitness\" --> executable pseudocode<br>\n",
        "\n",
        "1. Indentation, not braces<br>\n",
        "Python uses whitespace (tabs or spaces) to structure code instead of using braces as in many other languages like R, C++, Java, and Perl.<br>\n",
        "\" Recommend using 4 spaces as your default indentation and replacing tabs with 4 spaces --> what most Python programmers do\" <br>\n",
        "2. Everything is an object<br>\n",
        "Every number, string, data structure, function, class, module, and so on exists in the Python interpreter in its own “box,” which is referred to as a Python object.\n",
        "3. Comments<br>\n",
        "Any text preceded by the hash mark (pound sign) # is ignored by the Python interpreter. This is often used to add comments to code.\n",
        "4. Function and object method calls<br>\n",
        "You call functions using parentheses and passing zero or more arguments, optionally assigning the returned value to a variable. Functions can take both positional and keyword arguments\n",
        "5. Variables and argument passing<br>\n",
        "When assigning a variable (or name) in Python, you are creating a reference to the object on the righthand side of the equals sign.\n",
        "6. Dynamic references, strong types<br>\n",
        "Object references in Python have no type associated with them. Python is considered a strongly typed language, which means that every object has a specific type (or class), and implicit conversions will occur only in certain obvious circumstances.\n",
        "\n"
      ]
    },
    {
      "cell_type": "code",
      "metadata": {
        "id": "HccmhZL9v-gS",
        "outputId": "6635baa0-11c8-4161-a9ac-b8c05319e0a8"
      },
      "source": [
        "# check that an object is an instance of a particular type using the isinstance function\n",
        "a = 5\n",
        "isinstance(a, int)"
      ],
      "execution_count": null,
      "outputs": [
        {
          "output_type": "execute_result",
          "data": {
            "text/plain": [
              "True"
            ]
          },
          "metadata": {
            "tags": []
          },
          "execution_count": 70
        }
      ]
    },
    {
      "cell_type": "code",
      "metadata": {
        "id": "GZdLdSs7v-gS",
        "outputId": "50bdc0d8-00f0-48a9-a3a2-e40c674a17c4"
      },
      "source": [
        "# isinstance can also accept a tuple of types if you want to check that an object’s type is among those present in the tuple\n",
        "a = 5; b = 4.5\n",
        "isinstance(a, (int, float))\n",
        "\n",
        "isinstance(b, (int, float))"
      ],
      "execution_count": null,
      "outputs": [
        {
          "output_type": "execute_result",
          "data": {
            "text/plain": [
              "True"
            ]
          },
          "metadata": {
            "tags": []
          },
          "execution_count": 72
        }
      ]
    },
    {
      "cell_type": "markdown",
      "metadata": {
        "id": "srwlac84v-gS"
      },
      "source": [
        "7. Attributes and methods<br>\n",
        "Objects in Python typically have both attributes (other Python objects stored “inside” the object) and methods (functions associated with an object that can have access to the object’s internal data). Both of them are accessed via the syntax obj.attribute_name. Attributes and methods can also be accessed by name via the getattr function:\n"
      ]
    },
    {
      "cell_type": "code",
      "metadata": {
        "id": "huIV0Znxv-gS",
        "outputId": "d6966402-a201-4214-b568-b06b3a57fa4a"
      },
      "source": [
        "# Use obj.attribute_name to see\n",
        "a = 'hello'\n",
        "a.count\n",
        "\n",
        "# Attributes and methods can also be accessed by name via the getattr function\n",
        "getattr(a, 'split')"
      ],
      "execution_count": null,
      "outputs": [
        {
          "output_type": "execute_result",
          "data": {
            "text/plain": [
              "<function str.split(sep=None, maxsplit=-1)>"
            ]
          },
          "metadata": {
            "tags": []
          },
          "execution_count": 73
        }
      ]
    },
    {
      "cell_type": "markdown",
      "metadata": {
        "id": "Cr06islWv-gT"
      },
      "source": [
        "8. Duck typing<br>\n",
        "Often you may not care about the type of an object but rather only whether it has certain methods or behavior."
      ]
    },
    {
      "cell_type": "code",
      "metadata": {
        "id": "zUElLHcGv-gT",
        "outputId": "13ae7c94-691b-4de4-9b31-063f67538c28"
      },
      "source": [
        "def isiterable(obj):\n",
        "    try:\n",
        "        iter(obj)\n",
        "        return True\n",
        "    except TypeError: # not iterable\n",
        "        return False\n",
        "\n",
        "print(isiterable('a string'))\n",
        "\n",
        "print(isiterable([1, 2, 3]))\n",
        "\n",
        "print(isiterable(5))"
      ],
      "execution_count": null,
      "outputs": [
        {
          "output_type": "stream",
          "text": [
            "True\n",
            "True\n",
            "False\n"
          ],
          "name": "stdout"
        }
      ]
    },
    {
      "cell_type": "code",
      "metadata": {
        "id": "YWKXyP0_v-gT"
      },
      "source": [
        "x = ''\n",
        "if not isinstance(x, list) and isiterable(x):\n",
        "    x = list(x)"
      ],
      "execution_count": null,
      "outputs": []
    },
    {
      "cell_type": "markdown",
      "metadata": {
        "id": "jRBr6CUWv-gU"
      },
      "source": [
        "9. Imports<br>\n",
        "By using the as keyword you can give imports different variable names\n"
      ]
    },
    {
      "cell_type": "code",
      "metadata": {
        "id": "FysgOU_7v-gU"
      },
      "source": [
        "import pandas as py\n",
        "from pandas import pivot_table as pt, read_clipboard as rc"
      ],
      "execution_count": null,
      "outputs": []
    },
    {
      "cell_type": "markdown",
      "metadata": {
        "id": "e-7nzOOtv-gU"
      },
      "source": [
        "10. Binary operators and comparisons<br>\n",
        "To check if two references refer to the same object, use the is keyword. is not is also perfectly valid if you want to check that two objects are not the same\n",
        "![image.png](attachment:image.png)\n",
        "![image-2.png](attachment:image-2.png)"
      ]
    },
    {
      "cell_type": "code",
      "metadata": {
        "id": "fPTxnDnLv-gU",
        "outputId": "15a40382-0bdb-4fd0-9785-9897c6445422"
      },
      "source": [
        "12 + 21.5"
      ],
      "execution_count": null,
      "outputs": [
        {
          "output_type": "execute_result",
          "data": {
            "text/plain": [
              "33.5"
            ]
          },
          "metadata": {
            "tags": []
          },
          "execution_count": 83
        }
      ]
    },
    {
      "cell_type": "code",
      "metadata": {
        "id": "Us32AaUuv-gV",
        "outputId": "cdc4e4cb-f6d4-4196-d281-f0b9bbf979c2"
      },
      "source": [
        "5 <=2"
      ],
      "execution_count": null,
      "outputs": [
        {
          "output_type": "execute_result",
          "data": {
            "text/plain": [
              "False"
            ]
          },
          "metadata": {
            "tags": []
          },
          "execution_count": 84
        }
      ]
    },
    {
      "cell_type": "code",
      "metadata": {
        "id": "Zh55tzYov-gV",
        "outputId": "d698a6a9-e7fe-4903-a77e-33969499bc23"
      },
      "source": [
        "# Since list always creates a new Python list (i.e., a copy), \n",
        "# we can be sure that c is distinct from a. \n",
        "# Comparing with is is not the same as the == operator\n",
        "a = [1, 2, 3]\n",
        "b = a\n",
        "c = list(a)\n",
        "\n",
        "print(a is b)\n",
        "print(a is not c)\n",
        "\n",
        "# is \"not equal to\" ==\n",
        "print(a == c)"
      ],
      "execution_count": null,
      "outputs": [
        {
          "output_type": "stream",
          "text": [
            "True\n",
            "True\n",
            "True\n"
          ],
          "name": "stdout"
        }
      ]
    },
    {
      "cell_type": "code",
      "metadata": {
        "id": "DG0-3s2av-gW",
        "outputId": "d4abe12f-eb79-4488-a3cf-56a817bd3e68"
      },
      "source": [
        "# A very common use of is and is not is to check if a variable is None, \n",
        "# since there is only one instance of None\n",
        "a = None\n",
        "a is None"
      ],
      "execution_count": null,
      "outputs": [
        {
          "output_type": "execute_result",
          "data": {
            "text/plain": [
              "True"
            ]
          },
          "metadata": {
            "tags": []
          },
          "execution_count": 88
        }
      ]
    },
    {
      "cell_type": "markdown",
      "metadata": {
        "id": "D9JbYdJhv-gW"
      },
      "source": [
        "11. Mutable and immutable objects<br>\n",
        "Most objects in Python, such as lists, dicts, NumPy arrays, and most user-defined types (classes), are mutable. This means that the object or values that they contain can be modified.<br>\n",
        "Others, like STRINGS and TUPLES, are immutable."
      ]
    },
    {
      "cell_type": "code",
      "metadata": {
        "id": "esUV8mGSv-gW",
        "outputId": "34535869-8696-49f5-e861-94d12ac9f4fa"
      },
      "source": [
        "a_list = [\"ooo\", 2, [4, 5]]\n",
        "a_list[2] = (3, 4)\n",
        "a_list"
      ],
      "execution_count": null,
      "outputs": [
        {
          "output_type": "execute_result",
          "data": {
            "text/plain": [
              "['ooo', 2, (3, 4)]"
            ]
          },
          "metadata": {
            "tags": []
          },
          "execution_count": 89
        }
      ]
    },
    {
      "cell_type": "code",
      "metadata": {
        "id": "ZMT6tS-Iv-gW",
        "outputId": "b3452eb1-b60b-4cca-fe63-effb71f07ad0"
      },
      "source": [
        "a_tuple = (3, 4, (4, 5))\n",
        "a_tuple[1] = 'four'"
      ],
      "execution_count": null,
      "outputs": [
        {
          "output_type": "error",
          "ename": "TypeError",
          "evalue": "'tuple' object does not support item assignment",
          "traceback": [
            "\u001b[1;31m---------------------------------------------------------------------------\u001b[0m",
            "\u001b[1;31mTypeError\u001b[0m                                 Traceback (most recent call last)",
            "\u001b[1;32m<ipython-input-90-c804f46201b8>\u001b[0m in \u001b[0;36m<module>\u001b[1;34m\u001b[0m\n\u001b[0;32m      1\u001b[0m \u001b[0ma_tuple\u001b[0m \u001b[1;33m=\u001b[0m \u001b[1;33m(\u001b[0m\u001b[1;36m3\u001b[0m\u001b[1;33m,\u001b[0m \u001b[1;36m4\u001b[0m\u001b[1;33m,\u001b[0m \u001b[1;33m(\u001b[0m\u001b[1;36m4\u001b[0m\u001b[1;33m,\u001b[0m \u001b[1;36m5\u001b[0m\u001b[1;33m)\u001b[0m\u001b[1;33m)\u001b[0m\u001b[1;33m\u001b[0m\u001b[1;33m\u001b[0m\u001b[0m\n\u001b[1;32m----> 2\u001b[1;33m \u001b[0ma_tuple\u001b[0m\u001b[1;33m[\u001b[0m\u001b[1;36m1\u001b[0m\u001b[1;33m]\u001b[0m \u001b[1;33m=\u001b[0m \u001b[1;34m'four'\u001b[0m\u001b[1;33m\u001b[0m\u001b[1;33m\u001b[0m\u001b[0m\n\u001b[0m",
            "\u001b[1;31mTypeError\u001b[0m: 'tuple' object does not support item assignment"
          ]
        }
      ]
    },
    {
      "cell_type": "markdown",
      "metadata": {
        "id": "heCE3By-v-gX"
      },
      "source": [
        "#### Scalar Types\n",
        "Python along with its standard library has a small set of built-in types for handling numerical data, strings, boolean (True or False) values, and dates and time. These\n",
        "“single value” types are sometimes called scalar types\n",
        "![image.png](attachment:image.png)"
      ]
    },
    {
      "cell_type": "markdown",
      "metadata": {
        "id": "GN8nT-OFv-gX"
      },
      "source": [
        "1. Numeric Types<br>\n",
        "int float"
      ]
    },
    {
      "cell_type": "code",
      "metadata": {
        "id": "FUeXsEzyv-gX",
        "outputId": "0444f3e3-d69f-4541-95f5-cac08ce2195a"
      },
      "source": [
        "ival = 17239871\n",
        "\n",
        "ival ** 6"
      ],
      "execution_count": null,
      "outputs": [
        {
          "output_type": "execute_result",
          "data": {
            "text/plain": [
              "26254519291092456596965462913230729701102721"
            ]
          },
          "metadata": {
            "tags": []
          },
          "execution_count": 4
        }
      ]
    },
    {
      "cell_type": "code",
      "metadata": {
        "id": "ujog1La8v-gY",
        "outputId": "06c481fe-3985-4ba7-9805-d266d73dba1c"
      },
      "source": [
        "fval = 7.243\n",
        "\n",
        "fav2 = 6.78e-5\n",
        "\n",
        "3/2\n",
        "\n",
        "# To get C-style integer division (which drops the fractional part \n",
        "# if the result is not a whole number), \n",
        "# use the floor division operator //\n",
        "\n",
        "3//2\n"
      ],
      "execution_count": null,
      "outputs": [
        {
          "output_type": "execute_result",
          "data": {
            "text/plain": [
              "1"
            ]
          },
          "metadata": {
            "tags": []
          },
          "execution_count": 7
        }
      ]
    },
    {
      "cell_type": "markdown",
      "metadata": {
        "id": "E-G419g4v-gY"
      },
      "source": [
        "2. Strings<br>\n",
        "You can write string literals using either single quotes ' or double quotes \".<br>\n",
        "For multiline strings with line breaks, you can use triple quotes, either ''' or \"\"\".\n"
      ]
    },
    {
      "cell_type": "code",
      "metadata": {
        "id": "TjTvB-3vv-gY",
        "outputId": "5d625b5e-4c72-4a2e-e874-ed9da8ef8746"
      },
      "source": [
        "a = 'hello'\n",
        "b = \"yes\"\n",
        "\n",
        "# We can count the new line characters with the count method on c:\n",
        "# the line breaks after \"\"\" is included in the string\n",
        "c = '''\n",
        "\n",
        "A good day\n",
        "'''\n",
        "print(c.count(\"\\n\"))\n",
        "\n",
        "c = '''\n",
        "A good day\n",
        "'''\n",
        "print(c.count('\\n'))"
      ],
      "execution_count": null,
      "outputs": [
        {
          "output_type": "stream",
          "text": [
            "3\n",
            "2\n"
          ],
          "name": "stdout"
        }
      ]
    },
    {
      "cell_type": "code",
      "metadata": {
        "id": "TikQlwPUv-gZ",
        "outputId": "ec7be8be-fb3e-45ba-d458-6377a8eb82cc"
      },
      "source": [
        "# Python strings are immutable, you cannot modify a string\n",
        "a = \"i love coding\"\n",
        "a[3] = 'b'"
      ],
      "execution_count": null,
      "outputs": [
        {
          "output_type": "error",
          "ename": "TypeError",
          "evalue": "'str' object does not support item assignment",
          "traceback": [
            "\u001b[1;31m---------------------------------------------------------------------------\u001b[0m",
            "\u001b[1;31mTypeError\u001b[0m                                 Traceback (most recent call last)",
            "\u001b[1;32m<ipython-input-19-e1a7163dd0af>\u001b[0m in \u001b[0;36m<module>\u001b[1;34m\u001b[0m\n\u001b[0;32m      1\u001b[0m \u001b[1;31m# Python strings are immutable, you cannot modify a string\u001b[0m\u001b[1;33m\u001b[0m\u001b[1;33m\u001b[0m\u001b[1;33m\u001b[0m\u001b[0m\n\u001b[0;32m      2\u001b[0m \u001b[0ma\u001b[0m \u001b[1;33m=\u001b[0m \u001b[1;34m\"i love coding\"\u001b[0m\u001b[1;33m\u001b[0m\u001b[1;33m\u001b[0m\u001b[0m\n\u001b[1;32m----> 3\u001b[1;33m \u001b[0ma\u001b[0m\u001b[1;33m[\u001b[0m\u001b[1;36m3\u001b[0m\u001b[1;33m]\u001b[0m \u001b[1;33m=\u001b[0m \u001b[1;34m'b'\u001b[0m\u001b[1;33m\u001b[0m\u001b[1;33m\u001b[0m\u001b[0m\n\u001b[0m",
            "\u001b[1;31mTypeError\u001b[0m: 'str' object does not support item assignment"
          ]
        }
      ]
    },
    {
      "cell_type": "code",
      "metadata": {
        "id": "vit7qBPgv-gZ",
        "outputId": "f6371374-0b34-400a-e06e-54b67dbeaa73"
      },
      "source": [
        "b = a.replace('love', 'enjoy')\n",
        "\n",
        "print(b)\n",
        "\n",
        "# can see from here, b is UNMODIFIED\n",
        "print(a)"
      ],
      "execution_count": null,
      "outputs": [
        {
          "output_type": "stream",
          "text": [
            "i enjoy coding\n",
            "i love coding\n"
          ],
          "name": "stdout"
        }
      ]
    },
    {
      "cell_type": "code",
      "metadata": {
        "id": "2YpjCgaLv-gZ",
        "outputId": "999d18c3-0f2f-4ee6-92b0-210bdcde85b5"
      },
      "source": [
        "# Many Python objects can be converted to a string using the str function\n",
        "\n",
        "a = 5.6\n",
        "str(a)\n"
      ],
      "execution_count": null,
      "outputs": [
        {
          "output_type": "execute_result",
          "data": {
            "text/plain": [
              "'5.6'"
            ]
          },
          "metadata": {
            "tags": []
          },
          "execution_count": 18
        }
      ]
    },
    {
      "cell_type": "code",
      "metadata": {
        "id": "yfyeuc5Dv-gZ",
        "outputId": "e7882083-0e86-40f5-e632-05ad79e926d4"
      },
      "source": [
        "s = 'python'\n",
        "\n",
        "list(s)"
      ],
      "execution_count": null,
      "outputs": [
        {
          "output_type": "execute_result",
          "data": {
            "text/plain": [
              "['p', 'y', 't', 'h', 'o', 'n']"
            ]
          },
          "metadata": {
            "tags": []
          },
          "execution_count": 22
        }
      ]
    },
    {
      "cell_type": "code",
      "metadata": {
        "id": "Z9dkPG08v-ga",
        "outputId": "abb0c465-0b08-4188-eadf-e0ab3b763bb6"
      },
      "source": [
        "# slicing\n",
        "s[:3]"
      ],
      "execution_count": null,
      "outputs": [
        {
          "output_type": "execute_result",
          "data": {
            "text/plain": [
              "'pyt'"
            ]
          },
          "metadata": {
            "tags": []
          },
          "execution_count": 23
        }
      ]
    },
    {
      "cell_type": "code",
      "metadata": {
        "id": "AYQus-edv-ga",
        "outputId": "771c4284-95cd-4d8d-a12f-c8641879151a"
      },
      "source": [
        "# backslash character \\ is an escape character\n",
        "# meaning it is used to specify special characters like newline \\n or Unicode characters\n",
        "s = '12\\\\34'\n",
        "print(s)"
      ],
      "execution_count": null,
      "outputs": [
        {
          "output_type": "stream",
          "text": [
            "12\\34\n"
          ],
          "name": "stdout"
        }
      ]
    },
    {
      "cell_type": "code",
      "metadata": {
        "id": "OMcyvSKWv-ga",
        "outputId": "d859ef70-b701-4bd4-a091-5f78f4e10848"
      },
      "source": [
        "# you can preface the leading quote of the string with r\n",
        "# r stands for raw\n",
        "s = r'this\\is\\special'\n",
        "s"
      ],
      "execution_count": null,
      "outputs": [
        {
          "output_type": "execute_result",
          "data": {
            "text/plain": [
              "'this\\\\is\\\\special'"
            ]
          },
          "metadata": {
            "tags": []
          },
          "execution_count": 25
        }
      ]
    },
    {
      "cell_type": "code",
      "metadata": {
        "id": "o0rPmDwPv-gb",
        "outputId": "7fe9fcdb-aca0-43b4-dc21-09892c51026b"
      },
      "source": [
        "s = 'this\\\\is\\\\special'\n",
        "s"
      ],
      "execution_count": null,
      "outputs": [
        {
          "output_type": "execute_result",
          "data": {
            "text/plain": [
              "'this\\\\is\\\\special'"
            ]
          },
          "metadata": {
            "tags": []
          },
          "execution_count": 26
        }
      ]
    },
    {
      "cell_type": "code",
      "metadata": {
        "id": "sZ2E8jJlv-gb",
        "outputId": "e25a7790-08e0-4f77-c21a-1f03f1fe4194"
      },
      "source": [
        "# can add two strings together, concatenate them and produces a new string\n",
        "a = 'this is the first half, '\n",
        "b = 'and this is the second half'\n",
        "\n",
        "a + b"
      ],
      "execution_count": null,
      "outputs": [
        {
          "output_type": "execute_result",
          "data": {
            "text/plain": [
              "'this is the first half, and this is the second half'"
            ]
          },
          "metadata": {
            "tags": []
          },
          "execution_count": 29
        }
      ]
    },
    {
      "cell_type": "code",
      "metadata": {
        "id": "4pCyrhUDv-gb"
      },
      "source": [
        "# String objects have a format method that can be used to substitute formatted arguments into the string\n",
        "template = '{0:.2f} {1:s} are worth US${2:d}' \n",
        "\n",
        "# {0:.2f} means to format the first argument as a floating-point number with two decimal places\n",
        "# {1:s} means to format the second argument as a string\n",
        "# {2:d} means to format the third argument as an exact integer"
      ],
      "execution_count": null,
      "outputs": []
    },
    {
      "cell_type": "code",
      "metadata": {
        "id": "2bZ4ZXztv-gb",
        "outputId": "423bbdaa-a45c-4c5e-f50c-c0d7636e3530"
      },
      "source": [
        "template.format(4.5560, 'Apple', 1)"
      ],
      "execution_count": null,
      "outputs": [
        {
          "output_type": "execute_result",
          "data": {
            "text/plain": [
              "'4.556000 Apple are worth US$1'"
            ]
          },
          "metadata": {
            "tags": []
          },
          "execution_count": 32
        }
      ]
    },
    {
      "cell_type": "markdown",
      "metadata": {
        "id": "ee0LRoWwv-gc"
      },
      "source": [
        "3. Bytes and Unicode\n",
        "* Binary --> 0,1, means 2^n, for encoding for all computers\n",
        "* Bits and Bytes --> octonary number system, 8 digits, means 8^n\n",
        "\n",
        "*utf-8 --> min 8 bits*<br>\n",
        "*utf-16 --> min 16 bits*"
      ]
    },
    {
      "cell_type": "code",
      "metadata": {
        "id": "UGYZWwkMv-gc",
        "outputId": "a4df389a-a05e-4dd0-fbdf-6485a06bec26"
      },
      "source": [
        "val = 'espanol'\n",
        "val"
      ],
      "execution_count": null,
      "outputs": [
        {
          "output_type": "execute_result",
          "data": {
            "text/plain": [
              "'espanol'"
            ]
          },
          "metadata": {
            "tags": []
          },
          "execution_count": 38
        }
      ]
    },
    {
      "cell_type": "code",
      "metadata": {
        "id": "rYZcD7qyv-gc",
        "outputId": "ee29b2fd-9ea5-4aac-9ef4-5d8b09085ec7"
      },
      "source": [
        "val_utf8 = val.encode('utf-8')\n",
        "val_utf8"
      ],
      "execution_count": null,
      "outputs": [
        {
          "output_type": "execute_result",
          "data": {
            "text/plain": [
              "b'espanol'"
            ]
          },
          "metadata": {
            "tags": []
          },
          "execution_count": 36
        }
      ]
    },
    {
      "cell_type": "code",
      "metadata": {
        "id": "KmDOKMMDv-gc",
        "outputId": "e3b3604e-1647-4242-d7c8-39c8ca086ea3"
      },
      "source": [
        "type(val_utf8)"
      ],
      "execution_count": null,
      "outputs": [
        {
          "output_type": "execute_result",
          "data": {
            "text/plain": [
              "bytes"
            ]
          },
          "metadata": {
            "tags": []
          },
          "execution_count": 37
        }
      ]
    },
    {
      "cell_type": "code",
      "metadata": {
        "id": "tmKwsXpsv-gd",
        "outputId": "7614839d-6752-40db-a59f-53c8ca3600e6"
      },
      "source": [
        "val_utf8.decode('utf-8')"
      ],
      "execution_count": null,
      "outputs": [
        {
          "output_type": "execute_result",
          "data": {
            "text/plain": [
              "'espanol'"
            ]
          },
          "metadata": {
            "tags": []
          },
          "execution_count": 39
        }
      ]
    },
    {
      "cell_type": "code",
      "metadata": {
        "id": "hbO-cyZMv-gd",
        "outputId": "e74cf94f-f15c-4231-9b72-982d877e6be7"
      },
      "source": [
        "val.encode('latin1')"
      ],
      "execution_count": null,
      "outputs": [
        {
          "output_type": "execute_result",
          "data": {
            "text/plain": [
              "b'espanol'"
            ]
          },
          "metadata": {
            "tags": []
          },
          "execution_count": 40
        }
      ]
    },
    {
      "cell_type": "code",
      "metadata": {
        "id": "3UHctdihv-gf",
        "outputId": "28f570fb-dd83-4f71-9100-5db4f9d86300"
      },
      "source": [
        "val.encode('utf-16')"
      ],
      "execution_count": null,
      "outputs": [
        {
          "output_type": "execute_result",
          "data": {
            "text/plain": [
              "b'\\xff\\xfee\\x00s\\x00p\\x00a\\x00n\\x00o\\x00l\\x00'"
            ]
          },
          "metadata": {
            "tags": []
          },
          "execution_count": 41
        }
      ]
    },
    {
      "cell_type": "code",
      "metadata": {
        "id": "Aublfkqbv-gf",
        "outputId": "cf783f59-54d7-4db7-9109-ee01a4296fa4"
      },
      "source": [
        "# so, you can define your own byte literals by prefixing a string with b:\n",
        "bytes_val = b'this is bytes'\n",
        "bytes_val"
      ],
      "execution_count": null,
      "outputs": [
        {
          "output_type": "execute_result",
          "data": {
            "text/plain": [
              "b'this is bytes'"
            ]
          },
          "metadata": {
            "tags": []
          },
          "execution_count": 42
        }
      ]
    },
    {
      "cell_type": "code",
      "metadata": {
        "id": "zfxiluYZv-gg",
        "outputId": "13759011-96db-46bf-ff43-7b96f5daf57b"
      },
      "source": [
        "decoded = bytes_val.decode('utf8')\n",
        "decoded # this is str (Unicode) now"
      ],
      "execution_count": null,
      "outputs": [
        {
          "output_type": "execute_result",
          "data": {
            "text/plain": [
              "'this is bytes'"
            ]
          },
          "metadata": {
            "tags": []
          },
          "execution_count": 45
        }
      ]
    },
    {
      "cell_type": "markdown",
      "metadata": {
        "id": "qVoWUhJnv-gg"
      },
      "source": [
        "4. Booleans<br>\n",
        "The two boolean values in Python are written as True and False"
      ]
    },
    {
      "cell_type": "code",
      "metadata": {
        "id": "ktVRafGYv-gg",
        "outputId": "b88c56cd-f066-4576-b7a1-fde4230ecb03"
      },
      "source": [
        "True and True"
      ],
      "execution_count": null,
      "outputs": [
        {
          "output_type": "execute_result",
          "data": {
            "text/plain": [
              "True"
            ]
          },
          "metadata": {
            "tags": []
          },
          "execution_count": 1
        }
      ]
    },
    {
      "cell_type": "code",
      "metadata": {
        "id": "HjyKGNRUv-gg",
        "outputId": "dcb52063-7f80-4bc5-8957-0fd928a53b16"
      },
      "source": [
        "False or True"
      ],
      "execution_count": null,
      "outputs": [
        {
          "output_type": "execute_result",
          "data": {
            "text/plain": [
              "True"
            ]
          },
          "metadata": {
            "tags": []
          },
          "execution_count": 2
        }
      ]
    },
    {
      "cell_type": "markdown",
      "metadata": {
        "id": "pXiiWK0Xv-gh"
      },
      "source": [
        "5. Type casting<br>\n",
        "The str, bool, int, and float types are also functions that can be used to cast values to those types"
      ]
    },
    {
      "cell_type": "code",
      "metadata": {
        "id": "ZIIF9j5qv-gh",
        "outputId": "e33e7ef6-53ee-44f2-e3b2-d6193b95dc8f"
      },
      "source": [
        "s = '3.1415'\n",
        "fval = float(s)\n",
        "type(fval)"
      ],
      "execution_count": null,
      "outputs": [
        {
          "output_type": "execute_result",
          "data": {
            "text/plain": [
              "float"
            ]
          },
          "metadata": {
            "tags": []
          },
          "execution_count": 3
        }
      ]
    },
    {
      "cell_type": "code",
      "metadata": {
        "id": "9QriK7yHv-gh",
        "outputId": "fb471cfd-0fc6-4bcb-d945-ccc7b01593d2"
      },
      "source": [
        "int(fval)"
      ],
      "execution_count": null,
      "outputs": [
        {
          "output_type": "execute_result",
          "data": {
            "text/plain": [
              "3"
            ]
          },
          "metadata": {
            "tags": []
          },
          "execution_count": 4
        }
      ]
    },
    {
      "cell_type": "code",
      "metadata": {
        "id": "5KPFM_MJv-gh",
        "outputId": "c82cb6a6-ef0a-45fe-cec9-167f30b0588f"
      },
      "source": [
        "bool(fval)"
      ],
      "execution_count": null,
      "outputs": [
        {
          "output_type": "execute_result",
          "data": {
            "text/plain": [
              "True"
            ]
          },
          "metadata": {
            "tags": []
          },
          "execution_count": 6
        }
      ]
    },
    {
      "cell_type": "code",
      "metadata": {
        "id": "TgwiWGpAv-gi",
        "outputId": "e70ef542-fac1-4611-a1b3-0c3c57742165"
      },
      "source": [
        "bool(0)"
      ],
      "execution_count": null,
      "outputs": [
        {
          "output_type": "execute_result",
          "data": {
            "text/plain": [
              "False"
            ]
          },
          "metadata": {
            "tags": []
          },
          "execution_count": 8
        }
      ]
    },
    {
      "cell_type": "markdown",
      "metadata": {
        "id": "f_DUHTQpv-gi"
      },
      "source": [
        "6. None<br>\n",
        "None is the Python null value type. If a function does not explicitly return a value, it implicitly returns None:"
      ]
    },
    {
      "cell_type": "code",
      "metadata": {
        "id": "gSY9BWyav-gi",
        "outputId": "8e317561-16f6-4c52-bfaf-07c0625e79d5"
      },
      "source": [
        "a = None\n",
        "a is None"
      ],
      "execution_count": null,
      "outputs": [
        {
          "output_type": "execute_result",
          "data": {
            "text/plain": [
              "True"
            ]
          },
          "metadata": {
            "tags": []
          },
          "execution_count": 9
        }
      ]
    },
    {
      "cell_type": "code",
      "metadata": {
        "id": "I-mhh56nv-gi",
        "outputId": "a806bc82-76e3-4016-a8e1-43489e218b0b"
      },
      "source": [
        "b = 5\n",
        "b is not None"
      ],
      "execution_count": null,
      "outputs": [
        {
          "output_type": "execute_result",
          "data": {
            "text/plain": [
              "True"
            ]
          },
          "metadata": {
            "tags": []
          },
          "execution_count": 10
        }
      ]
    },
    {
      "cell_type": "code",
      "metadata": {
        "id": "9faTZDipv-gj"
      },
      "source": [
        "def add_and_maybe_multiply(a, b, c=None):\n",
        "    result = a + b\n",
        "    if c is not None:\n",
        "        result = result * c\n",
        "    return result"
      ],
      "execution_count": null,
      "outputs": []
    },
    {
      "cell_type": "code",
      "metadata": {
        "id": "Ppxw1fFnv-gj",
        "outputId": "0648d83b-2e95-4794-b675-464c62f54216"
      },
      "source": [
        "add_and_maybe_multiply(2, 4, None)"
      ],
      "execution_count": null,
      "outputs": [
        {
          "output_type": "execute_result",
          "data": {
            "text/plain": [
              "6"
            ]
          },
          "metadata": {
            "tags": []
          },
          "execution_count": 14
        }
      ]
    },
    {
      "cell_type": "code",
      "metadata": {
        "id": "VPs9UaiAv-gj",
        "outputId": "4929eaea-e9bc-4741-e1c1-de9bd574c087"
      },
      "source": [
        "add_and_maybe_multiply(2, 4, 8)"
      ],
      "execution_count": null,
      "outputs": [
        {
          "output_type": "execute_result",
          "data": {
            "text/plain": [
              "48"
            ]
          },
          "metadata": {
            "tags": []
          },
          "execution_count": 15
        }
      ]
    },
    {
      "cell_type": "code",
      "metadata": {
        "id": "8F3BxM8Cv-gj",
        "outputId": "7314df4d-1e4e-43a4-f335-33510afae642"
      },
      "source": [
        "# Nonetype\n",
        "type(None)"
      ],
      "execution_count": null,
      "outputs": [
        {
          "output_type": "execute_result",
          "data": {
            "text/plain": [
              "NoneType"
            ]
          },
          "metadata": {
            "tags": []
          },
          "execution_count": 16
        }
      ]
    },
    {
      "cell_type": "markdown",
      "metadata": {
        "id": "V9hKkjN3v-gj"
      },
      "source": [
        "7. Dates and times<br>\n",
        "Provides datetime, date, and time types"
      ]
    },
    {
      "cell_type": "code",
      "metadata": {
        "id": "AF1fg5Yjv-gk",
        "outputId": "cf5d13fe-b15e-4790-a8a2-7f9950b6cbe9"
      },
      "source": [
        "from datetime import datetime, date, time\n",
        "dt = datetime(2011, 10, 29, 20, 30, 21)\n",
        "dt.day"
      ],
      "execution_count": null,
      "outputs": [
        {
          "output_type": "execute_result",
          "data": {
            "text/plain": [
              "29"
            ]
          },
          "metadata": {
            "tags": []
          },
          "execution_count": 18
        }
      ]
    },
    {
      "cell_type": "code",
      "metadata": {
        "id": "o9gioFHNv-gk",
        "outputId": "b32b3e0c-e4f9-4ef7-b230-8b8ba0a686c2"
      },
      "source": [
        "dt.minute"
      ],
      "execution_count": null,
      "outputs": [
        {
          "output_type": "execute_result",
          "data": {
            "text/plain": [
              "30"
            ]
          },
          "metadata": {
            "tags": []
          },
          "execution_count": 19
        }
      ]
    },
    {
      "cell_type": "code",
      "metadata": {
        "id": "gge5jnQPv-gk",
        "outputId": "bac6bd00-7814-4077-83f5-5d4c9fcc938e"
      },
      "source": [
        "dt.date()"
      ],
      "execution_count": null,
      "outputs": [
        {
          "output_type": "execute_result",
          "data": {
            "text/plain": [
              "datetime.date(2011, 10, 29)"
            ]
          },
          "metadata": {
            "tags": []
          },
          "execution_count": 20
        }
      ]
    },
    {
      "cell_type": "code",
      "metadata": {
        "id": "dz_x_e-Ov-gk",
        "outputId": "5a29d3c7-9f9a-422c-f7f9-09b1a6d00316"
      },
      "source": [
        "dt.time()"
      ],
      "execution_count": null,
      "outputs": [
        {
          "output_type": "execute_result",
          "data": {
            "text/plain": [
              "datetime.time(20, 30, 21)"
            ]
          },
          "metadata": {
            "tags": []
          },
          "execution_count": 21
        }
      ]
    },
    {
      "cell_type": "code",
      "metadata": {
        "id": "TxV_fADEv-gl",
        "outputId": "76e53f46-6955-4811-afee-cc554377273c"
      },
      "source": [
        "dt.strftime('%m/%d/%y %h:%m')"
      ],
      "execution_count": null,
      "outputs": [
        {
          "output_type": "execute_result",
          "data": {
            "text/plain": [
              "'10/29/11 Oct:10'"
            ]
          },
          "metadata": {
            "tags": []
          },
          "execution_count": 22
        }
      ]
    },
    {
      "cell_type": "code",
      "metadata": {
        "id": "gPxu6iQ3v-gl",
        "outputId": "17f13cdb-5a47-4ac7-ede5-f56aba7853a0"
      },
      "source": [
        "dt.strftime('%M/%D/%Y %H:%M')"
      ],
      "execution_count": null,
      "outputs": [
        {
          "output_type": "execute_result",
          "data": {
            "text/plain": [
              "'30/10/29/11/2011 20:30'"
            ]
          },
          "metadata": {
            "tags": []
          },
          "execution_count": 25
        }
      ]
    },
    {
      "cell_type": "code",
      "metadata": {
        "id": "XSPSLptWv-gl",
        "outputId": "1c4d0f0a-5b33-4744-b842-178744a7b39c"
      },
      "source": [
        "# Case Sensitive, NOTICE!!!\n",
        "dt.strftime('%m/%d/%Y %H:%M')"
      ],
      "execution_count": null,
      "outputs": [
        {
          "output_type": "execute_result",
          "data": {
            "text/plain": [
              "'10/29/2011 20:30'"
            ]
          },
          "metadata": {
            "tags": []
          },
          "execution_count": 27
        }
      ]
    },
    {
      "cell_type": "code",
      "metadata": {
        "id": "ezi_Ujzav-gm",
        "outputId": "219aa03b-d1a0-41ae-8171-ad54c4d039f6"
      },
      "source": [
        "datetime.strptime('20091031', '%Y%m%d')"
      ],
      "execution_count": null,
      "outputs": [
        {
          "output_type": "execute_result",
          "data": {
            "text/plain": [
              "datetime.datetime(2009, 10, 31, 0, 0)"
            ]
          },
          "metadata": {
            "tags": []
          },
          "execution_count": 28
        }
      ]
    },
    {
      "cell_type": "code",
      "metadata": {
        "id": "LIL0fD1Sv-gm",
        "outputId": "06d99e55-ee13-44ec-df8b-ee1e792da518"
      },
      "source": [
        "dt.replace(minute = 0, second = 0)"
      ],
      "execution_count": null,
      "outputs": [
        {
          "output_type": "execute_result",
          "data": {
            "text/plain": [
              "datetime.datetime(2011, 10, 29, 20, 0)"
            ]
          },
          "metadata": {
            "tags": []
          },
          "execution_count": 29
        }
      ]
    },
    {
      "cell_type": "code",
      "metadata": {
        "id": "YzO0DJkbv-gm",
        "outputId": "092c6f90-020f-4069-b5b5-da1c7d47a2e0"
      },
      "source": [
        "# Get the difference\n",
        "dt2 = datetime(2011, 11, 15, 22, 30)\n",
        "delta = dt2 - dt\n",
        "delta"
      ],
      "execution_count": null,
      "outputs": [
        {
          "output_type": "execute_result",
          "data": {
            "text/plain": [
              "datetime.timedelta(days=17, seconds=7179)"
            ]
          },
          "metadata": {
            "tags": []
          },
          "execution_count": 31
        }
      ]
    },
    {
      "cell_type": "code",
      "metadata": {
        "id": "xA6F5HgXv-gm",
        "outputId": "79c848b6-211d-40b4-d544-c37ed5c0a1ad"
      },
      "source": [
        "type(delta)"
      ],
      "execution_count": null,
      "outputs": [
        {
          "output_type": "execute_result",
          "data": {
            "text/plain": [
              "datetime.timedelta"
            ]
          },
          "metadata": {
            "tags": []
          },
          "execution_count": 32
        }
      ]
    },
    {
      "cell_type": "code",
      "metadata": {
        "id": "aGwlNz3Bv-gn",
        "outputId": "7d3e724c-8147-483a-bfe4-82aa4fac77be"
      },
      "source": [
        "dt"
      ],
      "execution_count": null,
      "outputs": [
        {
          "output_type": "execute_result",
          "data": {
            "text/plain": [
              "datetime.datetime(2011, 10, 29, 20, 30, 21)"
            ]
          },
          "metadata": {
            "tags": []
          },
          "execution_count": 33
        }
      ]
    },
    {
      "cell_type": "code",
      "metadata": {
        "id": "IYPtilXRv-gn",
        "outputId": "30884e70-2810-4215-e97e-f80a657b3401"
      },
      "source": [
        "dt + delta"
      ],
      "execution_count": null,
      "outputs": [
        {
          "output_type": "execute_result",
          "data": {
            "text/plain": [
              "datetime.datetime(2011, 11, 15, 22, 30)"
            ]
          },
          "metadata": {
            "tags": []
          },
          "execution_count": 34
        }
      ]
    },
    {
      "cell_type": "markdown",
      "metadata": {
        "id": "2zk4m3mTv-gn"
      },
      "source": [
        "![image.png](attachment:image.png)\n",
        "![image-2.png](attachment:image-2.png)"
      ]
    },
    {
      "cell_type": "markdown",
      "metadata": {
        "id": "V8Di56Zev-gn"
      },
      "source": [
        "#### Control Flow<br>\n",
        "Python has several built-in keywords for conditional logic, loops, and other standard control flow concepts found in other programming languages."
      ]
    },
    {
      "cell_type": "markdown",
      "metadata": {
        "id": "Jcxu_0SOv-gn"
      },
      "source": [
        "1. if, elif, and else<br>\n",
        "The if statement is one of the most well-known control flow statement types."
      ]
    },
    {
      "cell_type": "code",
      "metadata": {
        "id": "B-uDeCm9v-go"
      },
      "source": [
        "x = 5\n",
        "if x < 0:\n",
        "    print('It\\'s negative')"
      ],
      "execution_count": null,
      "outputs": []
    },
    {
      "cell_type": "code",
      "metadata": {
        "id": "ZBAd_FPXv-go",
        "outputId": "5859d349-7ba9-4869-cd42-cb3468ea7966"
      },
      "source": [
        "if x < 0:\n",
        "    print('It\\'s negative')\n",
        "elif x == 0:\n",
        "    print('Equal to zero')\n",
        "elif 0 < x < 5:\n",
        "    print('Positive but smaller than 5')\n",
        "else:\n",
        "    print('Positive and larger than or equal to 5')"
      ],
      "execution_count": null,
      "outputs": [
        {
          "output_type": "stream",
          "text": [
            "Positive and larger than or equal to 5\n"
          ],
          "name": "stdout"
        }
      ]
    },
    {
      "cell_type": "code",
      "metadata": {
        "id": "nkYbyrVLv-go",
        "outputId": "d09598ef-b56c-428d-b5f5-f226d03a568a"
      },
      "source": [
        "a = 5; b = 7\n",
        "c = 8; d = 4\n",
        "if a < b or c > d:\n",
        "    print('Made it')"
      ],
      "execution_count": null,
      "outputs": [
        {
          "output_type": "stream",
          "text": [
            "Made it\n"
          ],
          "name": "stdout"
        }
      ]
    },
    {
      "cell_type": "code",
      "metadata": {
        "id": "PhELyxTWv-go",
        "outputId": "c60551a1-6154-424e-937c-c28663b65a1a"
      },
      "source": [
        " 4 > 3 > 2 > 1"
      ],
      "execution_count": null,
      "outputs": [
        {
          "output_type": "execute_result",
          "data": {
            "text/plain": [
              "True"
            ]
          },
          "metadata": {
            "tags": []
          },
          "execution_count": 46
        }
      ]
    },
    {
      "cell_type": "markdown",
      "metadata": {
        "id": "kyRPsnuRv-gp"
      },
      "source": [
        "2. For loops<br>\n",
        "Iterating over a collection (like a list or tuple) or an iterater"
      ]
    },
    {
      "cell_type": "code",
      "metadata": {
        "id": "BDkQgmniv-gp",
        "outputId": "289387ea-46f1-4f07-ceab-0eb3f46031cd"
      },
      "source": [
        "sequence = [1, 2, None, 4, None, 5]\n",
        "total = 0\n",
        "for value in sequence:\n",
        "    if value is None:\n",
        "        continue\n",
        "    total += value\n",
        "print(total)"
      ],
      "execution_count": null,
      "outputs": [
        {
          "output_type": "stream",
          "text": [
            "12\n"
          ],
          "name": "stdout"
        }
      ]
    },
    {
      "cell_type": "code",
      "metadata": {
        "id": "D-cr-Ikwv-gp",
        "outputId": "6bf6d4e9-42d0-486d-d1a6-a5e71a018b79"
      },
      "source": [
        "# A for loop can be exited altogether with the break keyword\n",
        "sequence = [1, 2, 0, 4, 6, 5, 2, 1]\n",
        "total_until_5 = 0\n",
        "for value in sequence:\n",
        "    if value == 5:\n",
        "        break\n",
        "    total_until_5 += value\n",
        "print(total_until_5)"
      ],
      "execution_count": null,
      "outputs": [
        {
          "output_type": "stream",
          "text": [
            "13\n"
          ],
          "name": "stdout"
        }
      ]
    },
    {
      "cell_type": "code",
      "metadata": {
        "id": "c9-0ozb9v-gp",
        "outputId": "06963158-4bc0-4d2b-8923-7f9dc418d8dd"
      },
      "source": [
        "for i in range(4):\n",
        "    for j in range(4):\n",
        "        if j > i:\n",
        "            break\n",
        "        print(i,j)"
      ],
      "execution_count": null,
      "outputs": [
        {
          "output_type": "stream",
          "text": [
            "0 0\n",
            "1 0\n",
            "1 1\n",
            "2 0\n",
            "2 1\n",
            "2 2\n",
            "3 0\n",
            "3 1\n",
            "3 2\n",
            "3 3\n"
          ],
          "name": "stdout"
        }
      ]
    },
    {
      "cell_type": "markdown",
      "metadata": {
        "id": "n11L7QDUv-gq"
      },
      "source": [
        "3. while loops<br>\n",
        "A while loop specifies a condition and a block of code that is to be executed until the condition evaluates to False or the loop is explicitly ended with break"
      ]
    },
    {
      "cell_type": "code",
      "metadata": {
        "id": "2ZM0fv61v-gq",
        "outputId": "8512f19d-83f4-4cbe-c8d6-7ed1807231e7"
      },
      "source": [
        "x = 256\n",
        "total = 0\n",
        "while x > 0:\n",
        "    if total > 500:\n",
        "        break\n",
        "    total += x\n",
        "    x = x // 2\n",
        "print(total)"
      ],
      "execution_count": null,
      "outputs": [
        {
          "output_type": "stream",
          "text": [
            "504\n"
          ],
          "name": "stdout"
        }
      ]
    },
    {
      "cell_type": "markdown",
      "metadata": {
        "id": "QtLG1zptv-gq"
      },
      "source": [
        "4. Pass<br>\n",
        "Pass is the “no-op” statement in Python. It can be used in blocks where no action is to be taken (or as placeholder for code not yet implemented); it is only required because Python uses whitespace to delimit blocks:"
      ]
    },
    {
      "cell_type": "code",
      "metadata": {
        "id": "v5uUpvfzv-gq",
        "outputId": "68e46aa0-1cbb-466c-b19a-88f6332e1352"
      },
      "source": [
        "if x < 0:\n",
        "    print('negative !')\n",
        "elif x == 0:\n",
        "    pass\n",
        "else:\n",
        "    print('positive !')"
      ],
      "execution_count": null,
      "outputs": [
        {
          "output_type": "stream",
          "text": [
            "positive !\n"
          ],
          "name": "stdout"
        }
      ]
    },
    {
      "cell_type": "markdown",
      "metadata": {
        "id": "G0HoG2z3v-gr"
      },
      "source": [
        "5. range<br>\n",
        "The range function returns an iterator that yields a sequence of evenly spaced integers."
      ]
    },
    {
      "cell_type": "code",
      "metadata": {
        "id": "mkIECq_Av-gr",
        "outputId": "7f209454-5f88-4622-85e9-dce1d48142b0"
      },
      "source": [
        "range(10)"
      ],
      "execution_count": null,
      "outputs": [
        {
          "output_type": "execute_result",
          "data": {
            "text/plain": [
              "range(0, 10)"
            ]
          },
          "metadata": {
            "tags": []
          },
          "execution_count": 60
        }
      ]
    },
    {
      "cell_type": "code",
      "metadata": {
        "id": "nCb3Q1sFv-gr",
        "outputId": "1c4f1626-191a-4cab-e2e2-1a5a348beee5"
      },
      "source": [
        "list(range(10))"
      ],
      "execution_count": null,
      "outputs": [
        {
          "output_type": "execute_result",
          "data": {
            "text/plain": [
              "[0, 1, 2, 3, 4, 5, 6, 7, 8, 9]"
            ]
          },
          "metadata": {
            "tags": []
          },
          "execution_count": 62
        }
      ]
    },
    {
      "cell_type": "code",
      "metadata": {
        "scrolled": true,
        "id": "w1PeEgY3v-gr",
        "outputId": "de4bd8a1-680e-451e-a7cf-08e6343cd86f"
      },
      "source": [
        "# range produces integers up to but NOT INCLUDING the ENDPOINT\n",
        "list(range(0, 20, 2))"
      ],
      "execution_count": null,
      "outputs": [
        {
          "output_type": "execute_result",
          "data": {
            "text/plain": [
              "[0, 2, 4, 6, 8, 10, 12, 14, 16, 18]"
            ]
          },
          "metadata": {
            "tags": []
          },
          "execution_count": 64
        }
      ]
    },
    {
      "cell_type": "code",
      "metadata": {
        "id": "fMLVvBpnv-gs",
        "outputId": "53234cef-ee97-45e3-9905-e58ee516470e"
      },
      "source": [
        "seq = [1, 2, 3, 4]\n",
        "for i in range(len(seq)):\n",
        "    val = seq[i]\n",
        "    print(val)"
      ],
      "execution_count": null,
      "outputs": [
        {
          "output_type": "stream",
          "text": [
            "1\n",
            "2\n",
            "3\n",
            "4\n"
          ],
          "name": "stdout"
        }
      ]
    },
    {
      "cell_type": "code",
      "metadata": {
        "id": "Ohw4nfBPv-gs",
        "outputId": "f1050fb9-f682-4a5d-8c20-24e34d1b8a1f"
      },
      "source": [
        "sum = []\n",
        "for i in range(100000):\n",
        "    # % is the modulo operator\n",
        "    if i % 3 == 0 or i % 5 == 0:\n",
        "        sum.append(i)\n",
        "print(sum)"
      ],
      "execution_count": null,
      "outputs": [
        {
          "output_type": "stream",
          "text": [
            "[0, 3, 5, 6, 9, 10, 12, 15, 18, 20, 21, 24, 25, 27, 30, 33, 35, 36, 39, 40, 42, 45, 48, 50, 51, 54, 55, 57, 60, 63, 65, 66, 69, 70, 72, 75, 78, 80, 81, 84, 85, 87, 90, 93, 95, 96, 99, 100, 102, 105, 108, 110, 111, 114, 115, 117, 120, 123, 125, 126, 129, 130, 132, 135, 138, 140, 141, 144, 145, 147, 150, 153, 155, 156, 159, 160, 162, 165, 168, 170, 171, 174, 175, 177, 180, 183, 185, 186, 189, 190, 192, 195, 198, 200, 201, 204, 205, 207, 210, 213, 215, 216, 219, 220, 222, 225, 228, 230, 231, 234, 235, 237, 240, 243, 245, 246, 249, 250, 252, 255, 258, 260, 261, 264, 265, 267, 270, 273, 275, 276, 279, 280, 282, 285, 288, 290, 291, 294, 295, 297, 300, 303, 305, 306, 309, 310, 312, 315, 318, 320, 321, 324, 325, 327, 330, 333, 335, 336, 339, 340, 342, 345, 348, 350, 351, 354, 355, 357, 360, 363, 365, 366, 369, 370, 372, 375, 378, 380, 381, 384, 385, 387, 390, 393, 395, 396, 399, 400, 402, 405, 408, 410, 411, 414, 415, 417, 420, 423, 425, 426, 429, 430, 432, 435, 438, 440, 441, 444, 445, 447, 450, 453, 455, 456, 459, 460, 462, 465, 468, 470, 471, 474, 475, 477, 480, 483, 485, 486, 489, 490, 492, 495, 498, 500, 501, 504, 505, 507, 510, 513, 515, 516, 519, 520, 522, 525, 528, 530, 531, 534, 535, 537, 540, 543, 545, 546, 549, 550, 552, 555, 558, 560, 561, 564, 565, 567, 570, 573, 575, 576, 579, 580, 582, 585, 588, 590, 591, 594, 595, 597, 600, 603, 605, 606, 609, 610, 612, 615, 618, 620, 621, 624, 625, 627, 630, 633, 635, 636, 639, 640, 642, 645, 648, 650, 651, 654, 655, 657, 660, 663, 665, 666, 669, 670, 672, 675, 678, 680, 681, 684, 685, 687, 690, 693, 695, 696, 699, 700, 702, 705, 708, 710, 711, 714, 715, 717, 720, 723, 725, 726, 729, 730, 732, 735, 738, 740, 741, 744, 745, 747, 750, 753, 755, 756, 759, 760, 762, 765, 768, 770, 771, 774, 775, 777, 780, 783, 785, 786, 789, 790, 792, 795, 798, 800, 801, 804, 805, 807, 810, 813, 815, 816, 819, 820, 822, 825, 828, 830, 831, 834, 835, 837, 840, 843, 845, 846, 849, 850, 852, 855, 858, 860, 861, 864, 865, 867, 870, 873, 875, 876, 879, 880, 882, 885, 888, 890, 891, 894, 895, 897, 900, 903, 905, 906, 909, 910, 912, 915, 918, 920, 921, 924, 925, 927, 930, 933, 935, 936, 939, 940, 942, 945, 948, 950, 951, 954, 955, 957, 960, 963, 965, 966, 969, 970, 972, 975, 978, 980, 981, 984, 985, 987, 990, 993, 995, 996, 999, 1000, 1002, 1005, 1008, 1010, 1011, 1014, 1015, 1017, 1020, 1023, 1025, 1026, 1029, 1030, 1032, 1035, 1038, 1040, 1041, 1044, 1045, 1047, 1050, 1053, 1055, 1056, 1059, 1060, 1062, 1065, 1068, 1070, 1071, 1074, 1075, 1077, 1080, 1083, 1085, 1086, 1089, 1090, 1092, 1095, 1098, 1100, 1101, 1104, 1105, 1107, 1110, 1113, 1115, 1116, 1119, 1120, 1122, 1125, 1128, 1130, 1131, 1134, 1135, 1137, 1140, 1143, 1145, 1146, 1149, 1150, 1152, 1155, 1158, 1160, 1161, 1164, 1165, 1167, 1170, 1173, 1175, 1176, 1179, 1180, 1182, 1185, 1188, 1190, 1191, 1194, 1195, 1197, 1200, 1203, 1205, 1206, 1209, 1210, 1212, 1215, 1218, 1220, 1221, 1224, 1225, 1227, 1230, 1233, 1235, 1236, 1239, 1240, 1242, 1245, 1248, 1250, 1251, 1254, 1255, 1257, 1260, 1263, 1265, 1266, 1269, 1270, 1272, 1275, 1278, 1280, 1281, 1284, 1285, 1287, 1290, 1293, 1295, 1296, 1299, 1300, 1302, 1305, 1308, 1310, 1311, 1314, 1315, 1317, 1320, 1323, 1325, 1326, 1329, 1330, 1332, 1335, 1338, 1340, 1341, 1344, 1345, 1347, 1350, 1353, 1355, 1356, 1359, 1360, 1362, 1365, 1368, 1370, 1371, 1374, 1375, 1377, 1380, 1383, 1385, 1386, 1389, 1390, 1392, 1395, 1398, 1400, 1401, 1404, 1405, 1407, 1410, 1413, 1415, 1416, 1419, 1420, 1422, 1425, 1428, 1430, 1431, 1434, 1435, 1437, 1440, 1443, 1445, 1446, 1449, 1450, 1452, 1455, 1458, 1460, 1461, 1464, 1465, 1467, 1470, 1473, 1475, 1476, 1479, 1480, 1482, 1485, 1488, 1490, 1491, 1494, 1495, 1497, 1500, 1503, 1505, 1506, 1509, 1510, 1512, 1515, 1518, 1520, 1521, 1524, 1525, 1527, 1530, 1533, 1535, 1536, 1539, 1540, 1542, 1545, 1548, 1550, 1551, 1554, 1555, 1557, 1560, 1563, 1565, 1566, 1569, 1570, 1572, 1575, 1578, 1580, 1581, 1584, 1585, 1587, 1590, 1593, 1595, 1596, 1599, 1600, 1602, 1605, 1608, 1610, 1611, 1614, 1615, 1617, 1620, 1623, 1625, 1626, 1629, 1630, 1632, 1635, 1638, 1640, 1641, 1644, 1645, 1647, 1650, 1653, 1655, 1656, 1659, 1660, 1662, 1665, 1668, 1670, 1671, 1674, 1675, 1677, 1680, 1683, 1685, 1686, 1689, 1690, 1692, 1695, 1698, 1700, 1701, 1704, 1705, 1707, 1710, 1713, 1715, 1716, 1719, 1720, 1722, 1725, 1728, 1730, 1731, 1734, 1735, 1737, 1740, 1743, 1745, 1746, 1749, 1750, 1752, 1755, 1758, 1760, 1761, 1764, 1765, 1767, 1770, 1773, 1775, 1776, 1779, 1780, 1782, 1785, 1788, 1790, 1791, 1794, 1795, 1797, 1800, 1803, 1805, 1806, 1809, 1810, 1812, 1815, 1818, 1820, 1821, 1824, 1825, 1827, 1830, 1833, 1835, 1836, 1839, 1840, 1842, 1845, 1848, 1850, 1851, 1854, 1855, 1857, 1860, 1863, 1865, 1866, 1869, 1870, 1872, 1875, 1878, 1880, 1881, 1884, 1885, 1887, 1890, 1893, 1895, 1896, 1899, 1900, 1902, 1905, 1908, 1910, 1911, 1914, 1915, 1917, 1920, 1923, 1925, 1926, 1929, 1930, 1932, 1935, 1938, 1940, 1941, 1944, 1945, 1947, 1950, 1953, 1955, 1956, 1959, 1960, 1962, 1965, 1968, 1970, 1971, 1974, 1975, 1977, 1980, 1983, 1985, 1986, 1989, 1990, 1992, 1995, 1998, 2000, 2001, 2004, 2005, 2007, 2010, 2013, 2015, 2016, 2019, 2020, 2022, 2025, 2028, 2030, 2031, 2034, 2035, 2037, 2040, 2043, 2045, 2046, 2049, 2050, 2052, 2055, 2058, 2060, 2061, 2064, 2065, 2067, 2070, 2073, 2075, 2076, 2079, 2080, 2082, 2085, 2088, 2090, 2091, 2094, 2095, 2097, 2100, 2103, 2105, 2106, 2109, 2110, 2112, 2115, 2118, 2120, 2121, 2124, 2125, 2127, 2130, 2133, 2135, 2136, 2139, 2140, 2142, 2145, 2148, 2150, 2151, 2154, 2155, 2157, 2160, 2163, 2165, 2166, 2169, 2170, 2172, 2175, 2178, 2180, 2181, 2184, 2185, 2187, 2190, 2193, 2195, 2196, 2199, 2200, 2202, 2205, 2208, 2210, 2211, 2214, 2215, 2217, 2220, 2223, 2225, 2226, 2229, 2230, 2232, 2235, 2238, 2240, 2241, 2244, 2245, 2247, 2250, 2253, 2255, 2256, 2259, 2260, 2262, 2265, 2268, 2270, 2271, 2274, 2275, 2277, 2280, 2283, 2285, 2286, 2289, 2290, 2292, 2295, 2298, 2300, 2301, 2304, 2305, 2307, 2310, 2313, 2315, 2316, 2319, 2320, 2322, 2325, 2328, 2330, 2331, 2334, 2335, 2337, 2340, 2343, 2345, 2346, 2349, 2350, 2352, 2355, 2358, 2360, 2361, 2364, 2365, 2367, 2370, 2373, 2375, 2376, 2379, 2380, 2382, 2385, 2388, 2390, 2391, 2394, 2395, 2397, 2400, 2403, 2405, 2406, 2409, 2410, 2412, 2415, 2418, 2420, 2421, 2424, 2425, 2427, 2430, 2433, 2435, 2436, 2439, 2440, 2442, 2445, 2448, 2450, 2451, 2454, 2455, 2457, 2460, 2463, 2465, 2466, 2469, 2470, 2472, 2475, 2478, 2480, 2481, 2484, 2485, 2487, 2490, 2493, 2495, 2496, 2499, 2500, 2502, 2505, 2508, 2510, 2511, 2514, 2515, 2517, 2520, 2523, 2525, 2526, 2529, 2530, 2532, 2535, 2538, 2540, 2541, 2544, 2545, 2547, 2550, 2553, 2555, 2556, 2559, 2560, 2562, 2565, 2568, 2570, 2571, 2574, 2575, 2577, 2580, 2583, 2585, 2586, 2589, 2590, 2592, 2595, 2598, 2600, 2601, 2604, 2605, 2607, 2610, 2613, 2615, 2616, 2619, 2620, 2622, 2625, 2628, 2630, 2631, 2634, 2635, 2637, 2640, 2643, 2645, 2646, 2649, 2650, 2652, 2655, 2658, 2660, 2661, 2664, 2665, 2667, 2670, 2673, 2675, 2676, 2679, 2680, 2682, 2685, 2688, 2690, 2691, 2694, 2695, 2697, 2700, 2703, 2705, 2706, 2709, 2710, 2712, 2715, 2718, 2720, 2721, 2724, 2725, 2727, 2730, 2733, 2735, 2736, 2739, 2740, 2742, 2745, 2748, 2750, 2751, 2754, 2755, 2757, 2760, 2763, 2765, 2766, 2769, 2770, 2772, 2775, 2778, 2780, 2781, 2784, 2785, 2787, 2790, 2793, 2795, 2796, 2799, 2800, 2802, 2805, 2808, 2810, 2811, 2814, 2815, 2817, 2820, 2823, 2825, 2826, 2829, 2830, 2832, 2835, 2838, 2840, 2841, 2844, 2845, 2847, 2850, 2853, 2855, 2856, 2859, 2860, 2862, 2865, 2868, 2870, 2871, 2874, 2875, 2877, 2880, 2883, 2885, 2886, 2889, 2890, 2892, 2895, 2898, 2900, 2901, 2904, 2905, 2907, 2910, 2913, 2915, 2916, 2919, 2920, 2922, 2925, 2928, 2930, 2931, 2934, 2935, 2937, 2940, 2943, 2945, 2946, 2949, 2950, 2952, 2955, 2958, 2960, 2961, 2964, 2965, 2967, 2970, 2973, 2975, 2976, 2979, 2980, 2982, 2985, 2988, 2990, 2991, 2994, 2995, 2997, 3000, 3003, 3005, 3006, 3009, 3010, 3012, 3015, 3018, 3020, 3021, 3024, 3025, 3027, 3030, 3033, 3035, 3036, 3039, 3040, 3042, 3045, 3048, 3050, 3051, 3054, 3055, 3057, 3060, 3063, 3065, 3066, 3069, 3070, 3072, 3075, 3078, 3080, 3081, 3084, 3085, 3087, 3090, 3093, 3095, 3096, 3099, 3100, 3102, 3105, 3108, 3110, 3111, 3114, 3115, 3117, 3120, 3123, 3125, 3126, 3129, 3130, 3132, 3135, 3138, 3140, 3141, 3144, 3145, 3147, 3150, 3153, 3155, 3156, 3159, 3160, 3162, 3165, 3168, 3170, 3171, 3174, 3175, 3177, 3180, 3183, 3185, 3186, 3189, 3190, 3192, 3195, 3198, 3200, 3201, 3204, 3205, 3207, 3210, 3213, 3215, 3216, 3219, 3220, 3222, 3225, 3228, 3230, 3231, 3234, 3235, 3237, 3240, 3243, 3245, 3246, 3249, 3250, 3252, 3255, 3258, 3260, 3261, 3264, 3265, 3267, 3270, 3273, 3275, 3276, 3279, 3280, 3282, 3285, 3288, 3290, 3291, 3294, 3295, 3297, 3300, 3303, 3305, 3306, 3309, 3310, 3312, 3315, 3318, 3320, 3321, 3324, 3325, 3327, 3330, 3333, 3335, 3336, 3339, 3340, 3342, 3345, 3348, 3350, 3351, 3354, 3355, 3357, 3360, 3363, 3365, 3366, 3369, 3370, 3372, 3375, 3378, 3380, 3381, 3384, 3385, 3387, 3390, 3393, 3395, 3396, 3399, 3400, 3402, 3405, 3408, 3410, 3411, 3414, 3415, 3417, 3420, 3423, 3425, 3426, 3429, 3430, 3432, 3435, 3438, 3440, 3441, 3444, 3445, 3447, 3450, 3453, 3455, 3456, 3459, 3460, 3462, 3465, 3468, 3470, 3471, 3474, 3475, 3477, 3480, 3483, 3485, 3486, 3489, 3490, 3492, 3495, 3498, 3500, 3501, 3504, 3505, 3507, 3510, 3513, 3515, 3516, 3519, 3520, 3522, 3525, 3528, 3530, 3531, 3534, 3535, 3537, 3540, 3543, 3545, 3546, 3549, 3550, 3552, 3555, 3558, 3560, 3561, 3564, 3565, 3567, 3570, 3573, 3575, 3576, 3579, 3580, 3582, 3585, 3588, 3590, 3591, 3594, 3595, 3597, 3600, 3603, 3605, 3606, 3609, 3610, 3612, 3615, 3618, 3620, 3621, 3624, 3625, 3627, 3630, 3633, 3635, 3636, 3639, 3640, 3642, 3645, 3648, 3650, 3651, 3654, 3655, 3657, 3660, 3663, 3665, 3666, 3669, 3670, 3672, 3675, 3678, 3680, 3681, 3684, 3685, 3687, 3690, 3693, 3695, 3696, 3699, 3700, 3702, 3705, 3708, 3710, 3711, 3714, 3715, 3717, 3720, 3723, 3725, 3726, 3729, 3730, 3732, 3735, 3738, 3740, 3741, 3744, 3745, 3747, 3750, 3753, 3755, 3756, 3759, 3760, 3762, 3765, 3768, 3770, 3771, 3774, 3775, 3777, 3780, 3783, 3785, 3786, 3789, 3790, 3792, 3795, 3798, 3800, 3801, 3804, 3805, 3807, 3810, 3813, 3815, 3816, 3819, 3820, 3822, 3825, 3828, 3830, 3831, 3834, 3835, 3837, 3840, 3843, 3845, 3846, 3849, 3850, 3852, 3855, 3858, 3860, 3861, 3864, 3865, 3867, 3870, 3873, 3875, 3876, 3879, 3880, 3882, 3885, 3888, 3890, 3891, 3894, 3895, 3897, 3900, 3903, 3905, 3906, 3909, 3910, 3912, 3915, 3918, 3920, 3921, 3924, 3925, 3927, 3930, 3933, 3935, 3936, 3939, 3940, 3942, 3945, 3948, 3950, 3951, 3954, 3955, 3957, 3960, 3963, 3965, 3966, 3969, 3970, 3972, 3975, 3978, 3980, 3981, 3984, 3985, 3987, 3990, 3993, 3995, 3996, 3999, 4000, 4002, 4005, 4008, 4010, 4011, 4014, 4015, 4017, 4020, 4023, 4025, 4026, 4029, 4030, 4032, 4035, 4038, 4040, 4041, 4044, 4045, 4047, 4050, 4053, 4055, 4056, 4059, 4060, 4062, 4065, 4068, 4070, 4071, 4074, 4075, 4077, 4080, 4083, 4085, 4086, 4089, 4090, 4092, 4095, 4098, 4100, 4101, 4104, 4105, 4107, 4110, 4113, 4115, 4116, 4119, 4120, 4122, 4125, 4128, 4130, 4131, 4134, 4135, 4137, 4140, 4143, 4145, 4146, 4149, 4150, 4152, 4155, 4158, 4160, 4161, 4164, 4165, 4167, 4170, 4173, 4175, 4176, 4179, 4180, 4182, 4185, 4188, 4190, 4191, 4194, 4195, 4197, 4200, 4203, 4205, 4206, 4209, 4210, 4212, 4215, 4218, 4220, 4221, 4224, 4225, 4227, 4230, 4233, 4235, 4236, 4239, 4240, 4242, 4245, 4248, 4250, 4251, 4254, 4255, 4257, 4260, 4263, 4265, 4266, 4269, 4270, 4272, 4275, 4278, 4280, 4281, 4284, 4285, 4287, 4290, 4293, 4295, 4296, 4299, 4300, 4302, 4305, 4308, 4310, 4311, 4314, 4315, 4317, 4320, 4323, 4325, 4326, 4329, 4330, 4332, 4335, 4338, 4340, 4341, 4344, 4345, 4347, 4350, 4353, 4355, 4356, 4359, 4360, 4362, 4365, 4368, 4370, 4371, 4374, 4375, 4377, 4380, 4383, 4385, 4386, 4389, 4390, 4392, 4395, 4398, 4400, 4401, 4404, 4405, 4407, 4410, 4413, 4415, 4416, 4419, 4420, 4422, 4425, 4428, 4430, 4431, 4434, 4435, 4437, 4440, 4443, 4445, 4446, 4449, 4450, 4452, 4455, 4458, 4460, 4461, 4464, 4465, 4467, 4470, 4473, 4475, 4476, 4479, 4480, 4482, 4485, 4488, 4490, 4491, 4494, 4495, 4497, 4500, 4503, 4505, 4506, 4509, 4510, 4512, 4515, 4518, 4520, 4521, 4524, 4525, 4527, 4530, 4533, 4535, 4536, 4539, 4540, 4542, 4545, 4548, 4550, 4551, 4554, 4555, 4557, 4560, 4563, 4565, 4566, 4569, 4570, 4572, 4575, 4578, 4580, 4581, 4584, 4585, 4587, 4590, 4593, 4595, 4596, 4599, 4600, 4602, 4605, 4608, 4610, 4611, 4614, 4615, 4617, 4620, 4623, 4625, 4626, 4629, 4630, 4632, 4635, 4638, 4640, 4641, 4644, 4645, 4647, 4650, 4653, 4655, 4656, 4659, 4660, 4662, 4665, 4668, 4670, 4671, 4674, 4675, 4677, 4680, 4683, 4685, 4686, 4689, 4690, 4692, 4695, 4698, 4700, 4701, 4704, 4705, 4707, 4710, 4713, 4715, 4716, 4719, 4720, 4722, 4725, 4728, 4730, 4731, 4734, 4735, 4737, 4740, 4743, 4745, 4746, 4749, 4750, 4752, 4755, 4758, 4760, 4761, 4764, 4765, 4767, 4770, 4773, 4775, 4776, 4779, 4780, 4782, 4785, 4788, 4790, 4791, 4794, 4795, 4797, 4800, 4803, 4805, 4806, 4809, 4810, 4812, 4815, 4818, 4820, 4821, 4824, 4825, 4827, 4830, 4833, 4835, 4836, 4839, 4840, 4842, 4845, 4848, 4850, 4851, 4854, 4855, 4857, 4860, 4863, 4865, 4866, 4869, 4870, 4872, 4875, 4878, 4880, 4881, 4884, 4885, 4887, 4890, 4893, 4895, 4896, 4899, 4900, 4902, 4905, 4908, 4910, 4911, 4914, 4915, 4917, 4920, 4923, 4925, 4926, 4929, 4930, 4932, 4935, 4938, 4940, 4941, 4944, 4945, 4947, 4950, 4953, 4955, 4956, 4959, 4960, 4962, 4965, 4968, 4970, 4971, 4974, 4975, 4977, 4980, 4983, 4985, 4986, 4989, 4990, 4992, 4995, 4998, 5000, 5001, 5004, 5005, 5007, 5010, 5013, 5015, 5016, 5019, 5020, 5022, 5025, 5028, 5030, 5031, 5034, 5035, 5037, 5040, 5043, 5045, 5046, 5049, 5050, 5052, 5055, 5058, 5060, 5061, 5064, 5065, 5067, 5070, 5073, 5075, 5076, 5079, 5080, 5082, 5085, 5088, 5090, 5091, 5094, 5095, 5097, 5100, 5103, 5105, 5106, 5109, 5110, 5112, 5115, 5118, 5120, 5121, 5124, 5125, 5127, 5130, 5133, 5135, 5136, 5139, 5140, 5142, 5145, 5148, 5150, 5151, 5154, 5155, 5157, 5160, 5163, 5165, 5166, 5169, 5170, 5172, 5175, 5178, 5180, 5181, 5184, 5185, 5187, 5190, 5193, 5195, 5196, 5199, 5200, 5202, 5205, 5208, 5210, 5211, 5214, 5215, 5217, 5220, 5223, 5225, 5226, 5229, 5230, 5232, 5235, 5238, 5240, 5241, 5244, 5245, 5247, 5250, 5253, 5255, 5256, 5259, 5260, 5262, 5265, 5268, 5270, 5271, 5274, 5275, 5277, 5280, 5283, 5285, 5286, 5289, 5290, 5292, 5295, 5298, 5300, 5301, 5304, 5305, 5307, 5310, 5313, 5315, 5316, 5319, 5320, 5322, 5325, 5328, 5330, 5331, 5334, 5335, 5337, 5340, 5343, 5345, 5346, 5349, 5350, 5352, 5355, 5358, 5360, 5361, 5364, 5365, 5367, 5370, 5373, 5375, 5376, 5379, 5380, 5382, 5385, 5388, 5390, 5391, 5394, 5395, 5397, 5400, 5403, 5405, 5406, 5409, 5410, 5412, 5415, 5418, 5420, 5421, 5424, 5425, 5427, 5430, 5433, 5435, 5436, 5439, 5440, 5442, 5445, 5448, 5450, 5451, 5454, 5455, 5457, 5460, 5463, 5465, 5466, 5469, 5470, 5472, 5475, 5478, 5480, 5481, 5484, 5485, 5487, 5490, 5493, 5495, 5496, 5499, 5500, 5502, 5505, 5508, 5510, 5511, 5514, 5515, 5517, 5520, 5523, 5525, 5526, 5529, 5530, 5532, 5535, 5538, 5540, 5541, 5544, 5545, 5547, 5550, 5553, 5555, 5556, 5559, 5560, 5562, 5565, 5568, 5570, 5571, 5574, 5575, 5577, 5580, 5583, 5585, 5586, 5589, 5590, 5592, 5595, 5598, 5600, 5601, 5604, 5605, 5607, 5610, 5613, 5615, 5616, 5619, 5620, 5622, 5625, 5628, 5630, 5631, 5634, 5635, 5637, 5640, 5643, 5645, 5646, 5649, 5650, 5652, 5655, 5658, 5660, 5661, 5664, 5665, 5667, 5670, 5673, 5675, 5676, 5679, 5680, 5682, 5685, 5688, 5690, 5691, 5694, 5695, 5697, 5700, 5703, 5705, 5706, 5709, 5710, 5712, 5715, 5718, 5720, 5721, 5724, 5725, 5727, 5730, 5733, 5735, 5736, 5739, 5740, 5742, 5745, 5748, 5750, 5751, 5754, 5755, 5757, 5760, 5763, 5765, 5766, 5769, 5770, 5772, 5775, 5778, 5780, 5781, 5784, 5785, 5787, 5790, 5793, 5795, 5796, 5799, 5800, 5802, 5805, 5808, 5810, 5811, 5814, 5815, 5817, 5820, 5823, 5825, 5826, 5829, 5830, 5832, 5835, 5838, 5840, 5841, 5844, 5845, 5847, 5850, 5853, 5855, 5856, 5859, 5860, 5862, 5865, 5868, 5870, 5871, 5874, 5875, 5877, 5880, 5883, 5885, 5886, 5889, 5890, 5892, 5895, 5898, 5900, 5901, 5904, 5905, 5907, 5910, 5913, 5915, 5916, 5919, 5920, 5922, 5925, 5928, 5930, 5931, 5934, 5935, 5937, 5940, 5943, 5945, 5946, 5949, 5950, 5952, 5955, 5958, 5960, 5961, 5964, 5965, 5967, 5970, 5973, 5975, 5976, 5979, 5980, 5982, 5985, 5988, 5990, 5991, 5994, 5995, 5997, 6000, 6003, 6005, 6006, 6009, 6010, 6012, 6015, 6018, 6020, 6021, 6024, 6025, 6027, 6030, 6033, 6035, 6036, 6039, 6040, 6042, 6045, 6048, 6050, 6051, 6054, 6055, 6057, 6060, 6063, 6065, 6066, 6069, 6070, 6072, 6075, 6078, 6080, 6081, 6084, 6085, 6087, 6090, 6093, 6095, 6096, 6099, 6100, 6102, 6105, 6108, 6110, 6111, 6114, 6115, 6117, 6120, 6123, 6125, 6126, 6129, 6130, 6132, 6135, 6138, 6140, 6141, 6144, 6145, 6147, 6150, 6153, 6155, 6156, 6159, 6160, 6162, 6165, 6168, 6170, 6171, 6174, 6175, 6177, 6180, 6183, 6185, 6186, 6189, 6190, 6192, 6195, 6198, 6200, 6201, 6204, 6205, 6207, 6210, 6213, 6215, 6216, 6219, 6220, 6222, 6225, 6228, 6230, 6231, 6234, 6235, 6237, 6240, 6243, 6245, 6246, 6249, 6250, 6252, 6255, 6258, 6260, 6261, 6264, 6265, 6267, 6270, 6273, 6275, 6276, 6279, 6280, 6282, 6285, 6288, 6290, 6291, 6294, 6295, 6297, 6300, 6303, 6305, 6306, 6309, 6310, 6312, 6315, 6318, 6320, 6321, 6324, 6325, 6327, 6330, 6333, 6335, 6336, 6339, 6340, 6342, 6345, 6348, 6350, 6351, 6354, 6355, 6357, 6360, 6363, 6365, 6366, 6369, 6370, 6372, 6375, 6378, 6380, 6381, 6384, 6385, 6387, 6390, 6393, 6395, 6396, 6399, 6400, 6402, 6405, 6408, 6410, 6411, 6414, 6415, 6417, 6420, 6423, 6425, 6426, 6429, 6430, 6432, 6435, 6438, 6440, 6441, 6444, 6445, 6447, 6450, 6453, 6455, 6456, 6459, 6460, 6462, 6465, 6468, 6470, 6471, 6474, 6475, 6477, 6480, 6483, 6485, 6486, 6489, 6490, 6492, 6495, 6498, 6500, 6501, 6504, 6505, 6507, 6510, 6513, 6515, 6516, 6519, 6520, 6522, 6525, 6528, 6530, 6531, 6534, 6535, 6537, 6540, 6543, 6545, 6546, 6549, 6550, 6552, 6555, 6558, 6560, 6561, 6564, 6565, 6567, 6570, 6573, 6575, 6576, 6579, 6580, 6582, 6585, 6588, 6590, 6591, 6594, 6595, 6597, 6600, 6603, 6605, 6606, 6609, 6610, 6612, 6615, 6618, 6620, 6621, 6624, 6625, 6627, 6630, 6633, 6635, 6636, 6639, 6640, 6642, 6645, 6648, 6650, 6651, 6654, 6655, 6657, 6660, 6663, 6665, 6666, 6669, 6670, 6672, 6675, 6678, 6680, 6681, 6684, 6685, 6687, 6690, 6693, 6695, 6696, 6699, 6700, 6702, 6705, 6708, 6710, 6711, 6714, 6715, 6717, 6720, 6723, 6725, 6726, 6729, 6730, 6732, 6735, 6738, 6740, 6741, 6744, 6745, 6747, 6750, 6753, 6755, 6756, 6759, 6760, 6762, 6765, 6768, 6770, 6771, 6774, 6775, 6777, 6780, 6783, 6785, 6786, 6789, 6790, 6792, 6795, 6798, 6800, 6801, 6804, 6805, 6807, 6810, 6813, 6815, 6816, 6819, 6820, 6822, 6825, 6828, 6830, 6831, 6834, 6835, 6837, 6840, 6843, 6845, 6846, 6849, 6850, 6852, 6855, 6858, 6860, 6861, 6864, 6865, 6867, 6870, 6873, 6875, 6876, 6879, 6880, 6882, 6885, 6888, 6890, 6891, 6894, 6895, 6897, 6900, 6903, 6905, 6906, 6909, 6910, 6912, 6915, 6918, 6920, 6921, 6924, 6925, 6927, 6930, 6933, 6935, 6936, 6939, 6940, 6942, 6945, 6948, 6950, 6951, 6954, 6955, 6957, 6960, 6963, 6965, 6966, 6969, 6970, 6972, 6975, 6978, 6980, 6981, 6984, 6985, 6987, 6990, 6993, 6995, 6996, 6999, 7000, 7002, 7005, 7008, 7010, 7011, 7014, 7015, 7017, 7020, 7023, 7025, 7026, 7029, 7030, 7032, 7035, 7038, 7040, 7041, 7044, 7045, 7047, 7050, 7053, 7055, 7056, 7059, 7060, 7062, 7065, 7068, 7070, 7071, 7074, 7075, 7077, 7080, 7083, 7085, 7086, 7089, 7090, 7092, 7095, 7098, 7100, 7101, 7104, 7105, 7107, 7110, 7113, 7115, 7116, 7119, 7120, 7122, 7125, 7128, 7130, 7131, 7134, 7135, 7137, 7140, 7143, 7145, 7146, 7149, 7150, 7152, 7155, 7158, 7160, 7161, 7164, 7165, 7167, 7170, 7173, 7175, 7176, 7179, 7180, 7182, 7185, 7188, 7190, 7191, 7194, 7195, 7197, 7200, 7203, 7205, 7206, 7209, 7210, 7212, 7215, 7218, 7220, 7221, 7224, 7225, 7227, 7230, 7233, 7235, 7236, 7239, 7240, 7242, 7245, 7248, 7250, 7251, 7254, 7255, 7257, 7260, 7263, 7265, 7266, 7269, 7270, 7272, 7275, 7278, 7280, 7281, 7284, 7285, 7287, 7290, 7293, 7295, 7296, 7299, 7300, 7302, 7305, 7308, 7310, 7311, 7314, 7315, 7317, 7320, 7323, 7325, 7326, 7329, 7330, 7332, 7335, 7338, 7340, 7341, 7344, 7345, 7347, 7350, 7353, 7355, 7356, 7359, 7360, 7362, 7365, 7368, 7370, 7371, 7374, 7375, 7377, 7380, 7383, 7385, 7386, 7389, 7390, 7392, 7395, 7398, 7400, 7401, 7404, 7405, 7407, 7410, 7413, 7415, 7416, 7419, 7420, 7422, 7425, 7428, 7430, 7431, 7434, 7435, 7437, 7440, 7443, 7445, 7446, 7449, 7450, 7452, 7455, 7458, 7460, 7461, 7464, 7465, 7467, 7470, 7473, 7475, 7476, 7479, 7480, 7482, 7485, 7488, 7490, 7491, 7494, 7495, 7497, 7500, 7503, 7505, 7506, 7509, 7510, 7512, 7515, 7518, 7520, 7521, 7524, 7525, 7527, 7530, 7533, 7535, 7536, 7539, 7540, 7542, 7545, 7548, 7550, 7551, 7554, 7555, 7557, 7560, 7563, 7565, 7566, 7569, 7570, 7572, 7575, 7578, 7580, 7581, 7584, 7585, 7587, 7590, 7593, 7595, 7596, 7599, 7600, 7602, 7605, 7608, 7610, 7611, 7614, 7615, 7617, 7620, 7623, 7625, 7626, 7629, 7630, 7632, 7635, 7638, 7640, 7641, 7644, 7645, 7647, 7650, 7653, 7655, 7656, 7659, 7660, 7662, 7665, 7668, 7670, 7671, 7674, 7675, 7677, 7680, 7683, 7685, 7686, 7689, 7690, 7692, 7695, 7698, 7700, 7701, 7704, 7705, 7707, 7710, 7713, 7715, 7716, 7719, 7720, 7722, 7725, 7728, 7730, 7731, 7734, 7735, 7737, 7740, 7743, 7745, 7746, 7749, 7750, 7752, 7755, 7758, 7760, 7761, 7764, 7765, 7767, 7770, 7773, 7775, 7776, 7779, 7780, 7782, 7785, 7788, 7790, 7791, 7794, 7795, 7797, 7800, 7803, 7805, 7806, 7809, 7810, 7812, 7815, 7818, 7820, 7821, 7824, 7825, 7827, 7830, 7833, 7835, 7836, 7839, 7840, 7842, 7845, 7848, 7850, 7851, 7854, 7855, 7857, 7860, 7863, 7865, 7866, 7869, 7870, 7872, 7875, 7878, 7880, 7881, 7884, 7885, 7887, 7890, 7893, 7895, 7896, 7899, 7900, 7902, 7905, 7908, 7910, 7911, 7914, 7915, 7917, 7920, 7923, 7925, 7926, 7929, 7930, 7932, 7935, 7938, 7940, 7941, 7944, 7945, 7947, 7950, 7953, 7955, 7956, 7959, 7960, 7962, 7965, 7968, 7970, 7971, 7974, 7975, 7977, 7980, 7983, 7985, 7986, 7989, 7990, 7992, 7995, 7998, 8000, 8001, 8004, 8005, 8007, 8010, 8013, 8015, 8016, 8019, 8020, 8022, 8025, 8028, 8030, 8031, 8034, 8035, 8037, 8040, 8043, 8045, 8046, 8049, 8050, 8052, 8055, 8058, 8060, 8061, 8064, 8065, 8067, 8070, 8073, 8075, 8076, 8079, 8080, 8082, 8085, 8088, 8090, 8091, 8094, 8095, 8097, 8100, 8103, 8105, 8106, 8109, 8110, 8112, 8115, 8118, 8120, 8121, 8124, 8125, 8127, 8130, 8133, 8135, 8136, 8139, 8140, 8142, 8145, 8148, 8150, 8151, 8154, 8155, 8157, 8160, 8163, 8165, 8166, 8169, 8170, 8172, 8175, 8178, 8180, 8181, 8184, 8185, 8187, 8190, 8193, 8195, 8196, 8199, 8200, 8202, 8205, 8208, 8210, 8211, 8214, 8215, 8217, 8220, 8223, 8225, 8226, 8229, 8230, 8232, 8235, 8238, 8240, 8241, 8244, 8245, 8247, 8250, 8253, 8255, 8256, 8259, 8260, 8262, 8265, 8268, 8270, 8271, 8274, 8275, 8277, 8280, 8283, 8285, 8286, 8289, 8290, 8292, 8295, 8298, 8300, 8301, 8304, 8305, 8307, 8310, 8313, 8315, 8316, 8319, 8320, 8322, 8325, 8328, 8330, 8331, 8334, 8335, 8337, 8340, 8343, 8345, 8346, 8349, 8350, 8352, 8355, 8358, 8360, 8361, 8364, 8365, 8367, 8370, 8373, 8375, 8376, 8379, 8380, 8382, 8385, 8388, 8390, 8391, 8394, 8395, 8397, 8400, 8403, 8405, 8406, 8409, 8410, 8412, 8415, 8418, 8420, 8421, 8424, 8425, 8427, 8430, 8433, 8435, 8436, 8439, 8440, 8442, 8445, 8448, 8450, 8451, 8454, 8455, 8457, 8460, 8463, 8465, 8466, 8469, 8470, 8472, 8475, 8478, 8480, 8481, 8484, 8485, 8487, 8490, 8493, 8495, 8496, 8499, 8500, 8502, 8505, 8508, 8510, 8511, 8514, 8515, 8517, 8520, 8523, 8525, 8526, 8529, 8530, 8532, 8535, 8538, 8540, 8541, 8544, 8545, 8547, 8550, 8553, 8555, 8556, 8559, 8560, 8562, 8565, 8568, 8570, 8571, 8574, 8575, 8577, 8580, 8583, 8585, 8586, 8589, 8590, 8592, 8595, 8598, 8600, 8601, 8604, 8605, 8607, 8610, 8613, 8615, 8616, 8619, 8620, 8622, 8625, 8628, 8630, 8631, 8634, 8635, 8637, 8640, 8643, 8645, 8646, 8649, 8650, 8652, 8655, 8658, 8660, 8661, 8664, 8665, 8667, 8670, 8673, 8675, 8676, 8679, 8680, 8682, 8685, 8688, 8690, 8691, 8694, 8695, 8697, 8700, 8703, 8705, 8706, 8709, 8710, 8712, 8715, 8718, 8720, 8721, 8724, 8725, 8727, 8730, 8733, 8735, 8736, 8739, 8740, 8742, 8745, 8748, 8750, 8751, 8754, 8755, 8757, 8760, 8763, 8765, 8766, 8769, 8770, 8772, 8775, 8778, 8780, 8781, 8784, 8785, 8787, 8790, 8793, 8795, 8796, 8799, 8800, 8802, 8805, 8808, 8810, 8811, 8814, 8815, 8817, 8820, 8823, 8825, 8826, 8829, 8830, 8832, 8835, 8838, 8840, 8841, 8844, 8845, 8847, 8850, 8853, 8855, 8856, 8859, 8860, 8862, 8865, 8868, 8870, 8871, 8874, 8875, 8877, 8880, 8883, 8885, 8886, 8889, 8890, 8892, 8895, 8898, 8900, 8901, 8904, 8905, 8907, 8910, 8913, 8915, 8916, 8919, 8920, 8922, 8925, 8928, 8930, 8931, 8934, 8935, 8937, 8940, 8943, 8945, 8946, 8949, 8950, 8952, 8955, 8958, 8960, 8961, 8964, 8965, 8967, 8970, 8973, 8975, 8976, 8979, 8980, 8982, 8985, 8988, 8990, 8991, 8994, 8995, 8997, 9000, 9003, 9005, 9006, 9009, 9010, 9012, 9015, 9018, 9020, 9021, 9024, 9025, 9027, 9030, 9033, 9035, 9036, 9039, 9040, 9042, 9045, 9048, 9050, 9051, 9054, 9055, 9057, 9060, 9063, 9065, 9066, 9069, 9070, 9072, 9075, 9078, 9080, 9081, 9084, 9085, 9087, 9090, 9093, 9095, 9096, 9099, 9100, 9102, 9105, 9108, 9110, 9111, 9114, 9115, 9117, 9120, 9123, 9125, 9126, 9129, 9130, 9132, 9135, 9138, 9140, 9141, 9144, 9145, 9147, 9150, 9153, 9155, 9156, 9159, 9160, 9162, 9165, 9168, 9170, 9171, 9174, 9175, 9177, 9180, 9183, 9185, 9186, 9189, 9190, 9192, 9195, 9198, 9200, 9201, 9204, 9205, 9207, 9210, 9213, 9215, 9216, 9219, 9220, 9222, 9225, 9228, 9230, 9231, 9234, 9235, 9237, 9240, 9243, 9245, 9246, 9249, 9250, 9252, 9255, 9258, 9260, 9261, 9264, 9265, 9267, 9270, 9273, 9275, 9276, 9279, 9280, 9282, 9285, 9288, 9290, 9291, 9294, 9295, 9297, 9300, 9303, 9305, 9306, 9309, 9310, 9312, 9315, 9318, 9320, 9321, 9324, 9325, 9327, 9330, 9333, 9335, 9336, 9339, 9340, 9342, 9345, 9348, 9350, 9351, 9354, 9355, 9357, 9360, 9363, 9365, 9366, 9369, 9370, 9372, 9375, 9378, 9380, 9381, 9384, 9385, 9387, 9390, 9393, 9395, 9396, 9399, 9400, 9402, 9405, 9408, 9410, 9411, 9414, 9415, 9417, 9420, 9423, 9425, 9426, 9429, 9430, 9432, 9435, 9438, 9440, 9441, 9444, 9445, 9447, 9450, 9453, 9455, 9456, 9459, 9460, 9462, 9465, 9468, 9470, 9471, 9474, 9475, 9477, 9480, 9483, 9485, 9486, 9489, 9490, 9492, 9495, 9498, 9500, 9501, 9504, 9505, 9507, 9510, 9513, 9515, 9516, 9519, 9520, 9522, 9525, 9528, 9530, 9531, 9534, 9535, 9537, 9540, 9543, 9545, 9546, 9549, 9550, 9552, 9555, 9558, 9560, 9561, 9564, 9565, 9567, 9570, 9573, 9575, 9576, 9579, 9580, 9582, 9585, 9588, 9590, 9591, 9594, 9595, 9597, 9600, 9603, 9605, 9606, 9609, 9610, 9612, 9615, 9618, 9620, 9621, 9624, 9625, 9627, 9630, 9633, 9635, 9636, 9639, 9640, 9642, 9645, 9648, 9650, 9651, 9654, 9655, 9657, 9660, 9663, 9665, 9666, 9669, 9670, 9672, 9675, 9678, 9680, 9681, 9684, 9685, 9687, 9690, 9693, 9695, 9696, 9699, 9700, 9702, 9705, 9708, 9710, 9711, 9714, 9715, 9717, 9720, 9723, 9725, 9726, 9729, 9730, 9732, 9735, 9738, 9740, 9741, 9744, 9745, 9747, 9750, 9753, 9755, 9756, 9759, 9760, 9762, 9765, 9768, 9770, 9771, 9774, 9775, 9777, 9780, 9783, 9785, 9786, 9789, 9790, 9792, 9795, 9798, 9800, 9801, 9804, 9805, 9807, 9810, 9813, 9815, 9816, 9819, 9820, 9822, 9825, 9828, 9830, 9831, 9834, 9835, 9837, 9840, 9843, 9845, 9846, 9849, 9850, 9852, 9855, 9858, 9860, 9861, 9864, 9865, 9867, 9870, 9873, 9875, 9876, 9879, 9880, 9882, 9885, 9888, 9890, 9891, 9894, 9895, 9897, 9900, 9903, 9905, 9906, 9909, 9910, 9912, 9915, 9918, 9920, 9921, 9924, 9925, 9927, 9930, 9933, 9935, 9936, 9939, 9940, 9942, 9945, 9948, 9950, 9951, 9954, 9955, 9957, 9960, 9963, 9965, 9966, 9969, 9970, 9972, 9975, 9978, 9980, 9981, 9984, 9985, 9987, 9990, 9993, 9995, 9996, 9999, 10000, 10002, 10005, 10008, 10010, 10011, 10014, 10015, 10017, 10020, 10023, 10025, 10026, 10029, 10030, 10032, 10035, 10038, 10040, 10041, 10044, 10045, 10047, 10050, 10053, 10055, 10056, 10059, 10060, 10062, 10065, 10068, 10070, 10071, 10074, 10075, 10077, 10080, 10083, 10085, 10086, 10089, 10090, 10092, 10095, 10098, 10100, 10101, 10104, 10105, 10107, 10110, 10113, 10115, 10116, 10119, 10120, 10122, 10125, 10128, 10130, 10131, 10134, 10135, 10137, 10140, 10143, 10145, 10146, 10149, 10150, 10152, 10155, 10158, 10160, 10161, 10164, 10165, 10167, 10170, 10173, 10175, 10176, 10179, 10180, 10182, 10185, 10188, 10190, 10191, 10194, 10195, 10197, 10200, 10203, 10205, 10206, 10209, 10210, 10212, 10215, 10218, 10220, 10221, 10224, 10225, 10227, 10230, 10233, 10235, 10236, 10239, 10240, 10242, 10245, 10248, 10250, 10251, 10254, 10255, 10257, 10260, 10263, 10265, 10266, 10269, 10270, 10272, 10275, 10278, 10280, 10281, 10284, 10285, 10287, 10290, 10293, 10295, 10296, 10299, 10300, 10302, 10305, 10308, 10310, 10311, 10314, 10315, 10317, 10320, 10323, 10325, 10326, 10329, 10330, 10332, 10335, 10338, 10340, 10341, 10344, 10345, 10347, 10350, 10353, 10355, 10356, 10359, 10360, 10362, 10365, 10368, 10370, 10371, 10374, 10375, 10377, 10380, 10383, 10385, 10386, 10389, 10390, 10392, 10395, 10398, 10400, 10401, 10404, 10405, 10407, 10410, 10413, 10415, 10416, 10419, 10420, 10422, 10425, 10428, 10430, 10431, 10434, 10435, 10437, 10440, 10443, 10445, 10446, 10449, 10450, 10452, 10455, 10458, 10460, 10461, 10464, 10465, 10467, 10470, 10473, 10475, 10476, 10479, 10480, 10482, 10485, 10488, 10490, 10491, 10494, 10495, 10497, 10500, 10503, 10505, 10506, 10509, 10510, 10512, 10515, 10518, 10520, 10521, 10524, 10525, 10527, 10530, 10533, 10535, 10536, 10539, 10540, 10542, 10545, 10548, 10550, 10551, 10554, 10555, 10557, 10560, 10563, 10565, 10566, 10569, 10570, 10572, 10575, 10578, 10580, 10581, 10584, 10585, 10587, 10590, 10593, 10595, 10596, 10599, 10600, 10602, 10605, 10608, 10610, 10611, 10614, 10615, 10617, 10620, 10623, 10625, 10626, 10629, 10630, 10632, 10635, 10638, 10640, 10641, 10644, 10645, 10647, 10650, 10653, 10655, 10656, 10659, 10660, 10662, 10665, 10668, 10670, 10671, 10674, 10675, 10677, 10680, 10683, 10685, 10686, 10689, 10690, 10692, 10695, 10698, 10700, 10701, 10704, 10705, 10707, 10710, 10713, 10715, 10716, 10719, 10720, 10722, 10725, 10728, 10730, 10731, 10734, 10735, 10737, 10740, 10743, 10745, 10746, 10749, 10750, 10752, 10755, 10758, 10760, 10761, 10764, 10765, 10767, 10770, 10773, 10775, 10776, 10779, 10780, 10782, 10785, 10788, 10790, 10791, 10794, 10795, 10797, 10800, 10803, 10805, 10806, 10809, 10810, 10812, 10815, 10818, 10820, 10821, 10824, 10825, 10827, 10830, 10833, 10835, 10836, 10839, 10840, 10842, 10845, 10848, 10850, 10851, 10854, 10855, 10857, 10860, 10863, 10865, 10866, 10869, 10870, 10872, 10875, 10878, 10880, 10881, 10884, 10885, 10887, 10890, 10893, 10895, 10896, 10899, 10900, 10902, 10905, 10908, 10910, 10911, 10914, 10915, 10917, 10920, 10923, 10925, 10926, 10929, 10930, 10932, 10935, 10938, 10940, 10941, 10944, 10945, 10947, 10950, 10953, 10955, 10956, 10959, 10960, 10962, 10965, 10968, 10970, 10971, 10974, 10975, 10977, 10980, 10983, 10985, 10986, 10989, 10990, 10992, 10995, 10998, 11000, 11001, 11004, 11005, 11007, 11010, 11013, 11015, 11016, 11019, 11020, 11022, 11025, 11028, 11030, 11031, 11034, 11035, 11037, 11040, 11043, 11045, 11046, 11049, 11050, 11052, 11055, 11058, 11060, 11061, 11064, 11065, 11067, 11070, 11073, 11075, 11076, 11079, 11080, 11082, 11085, 11088, 11090, 11091, 11094, 11095, 11097, 11100, 11103, 11105, 11106, 11109, 11110, 11112, 11115, 11118, 11120, 11121, 11124, 11125, 11127, 11130, 11133, 11135, 11136, 11139, 11140, 11142, 11145, 11148, 11150, 11151, 11154, 11155, 11157, 11160, 11163, 11165, 11166, 11169, 11170, 11172, 11175, 11178, 11180, 11181, 11184, 11185, 11187, 11190, 11193, 11195, 11196, 11199, 11200, 11202, 11205, 11208, 11210, 11211, 11214, 11215, 11217, 11220, 11223, 11225, 11226, 11229, 11230, 11232, 11235, 11238, 11240, 11241, 11244, 11245, 11247, 11250, 11253, 11255, 11256, 11259, 11260, 11262, 11265, 11268, 11270, 11271, 11274, 11275, 11277, 11280, 11283, 11285, 11286, 11289, 11290, 11292, 11295, 11298, 11300, 11301, 11304, 11305, 11307, 11310, 11313, 11315, 11316, 11319, 11320, 11322, 11325, 11328, 11330, 11331, 11334, 11335, 11337, 11340, 11343, 11345, 11346, 11349, 11350, 11352, 11355, 11358, 11360, 11361, 11364, 11365, 11367, 11370, 11373, 11375, 11376, 11379, 11380, 11382, 11385, 11388, 11390, 11391, 11394, 11395, 11397, 11400, 11403, 11405, 11406, 11409, 11410, 11412, 11415, 11418, 11420, 11421, 11424, 11425, 11427, 11430, 11433, 11435, 11436, 11439, 11440, 11442, 11445, 11448, 11450, 11451, 11454, 11455, 11457, 11460, 11463, 11465, 11466, 11469, 11470, 11472, 11475, 11478, 11480, 11481, 11484, 11485, 11487, 11490, 11493, 11495, 11496, 11499, 11500, 11502, 11505, 11508, 11510, 11511, 11514, 11515, 11517, 11520, 11523, 11525, 11526, 11529, 11530, 11532, 11535, 11538, 11540, 11541, 11544, 11545, 11547, 11550, 11553, 11555, 11556, 11559, 11560, 11562, 11565, 11568, 11570, 11571, 11574, 11575, 11577, 11580, 11583, 11585, 11586, 11589, 11590, 11592, 11595, 11598, 11600, 11601, 11604, 11605, 11607, 11610, 11613, 11615, 11616, 11619, 11620, 11622, 11625, 11628, 11630, 11631, 11634, 11635, 11637, 11640, 11643, 11645, 11646, 11649, 11650, 11652, 11655, 11658, 11660, 11661, 11664, 11665, 11667, 11670, 11673, 11675, 11676, 11679, 11680, 11682, 11685, 11688, 11690, 11691, 11694, 11695, 11697, 11700, 11703, 11705, 11706, 11709, 11710, 11712, 11715, 11718, 11720, 11721, 11724, 11725, 11727, 11730, 11733, 11735, 11736, 11739, 11740, 11742, 11745, 11748, 11750, 11751, 11754, 11755, 11757, 11760, 11763, 11765, 11766, 11769, 11770, 11772, 11775, 11778, 11780, 11781, 11784, 11785, 11787, 11790, 11793, 11795, 11796, 11799, 11800, 11802, 11805, 11808, 11810, 11811, 11814, 11815, 11817, 11820, 11823, 11825, 11826, 11829, 11830, 11832, 11835, 11838, 11840, 11841, 11844, 11845, 11847, 11850, 11853, 11855, 11856, 11859, 11860, 11862, 11865, 11868, 11870, 11871, 11874, 11875, 11877, 11880, 11883, 11885, 11886, 11889, 11890, 11892, 11895, 11898, 11900, 11901, 11904, 11905, 11907, 11910, 11913, 11915, 11916, 11919, 11920, 11922, 11925, 11928, 11930, 11931, 11934, 11935, 11937, 11940, 11943, 11945, 11946, 11949, 11950, 11952, 11955, 11958, 11960, 11961, 11964, 11965, 11967, 11970, 11973, 11975, 11976, 11979, 11980, 11982, 11985, 11988, 11990, 11991, 11994, 11995, 11997, 12000, 12003, 12005, 12006, 12009, 12010, 12012, 12015, 12018, 12020, 12021, 12024, 12025, 12027, 12030, 12033, 12035, 12036, 12039, 12040, 12042, 12045, 12048, 12050, 12051, 12054, 12055, 12057, 12060, 12063, 12065, 12066, 12069, 12070, 12072, 12075, 12078, 12080, 12081, 12084, 12085, 12087, 12090, 12093, 12095, 12096, 12099, 12100, 12102, 12105, 12108, 12110, 12111, 12114, 12115, 12117, 12120, 12123, 12125, 12126, 12129, 12130, 12132, 12135, 12138, 12140, 12141, 12144, 12145, 12147, 12150, 12153, 12155, 12156, 12159, 12160, 12162, 12165, 12168, 12170, 12171, 12174, 12175, 12177, 12180, 12183, 12185, 12186, 12189, 12190, 12192, 12195, 12198, 12200, 12201, 12204, 12205, 12207, 12210, 12213, 12215, 12216, 12219, 12220, 12222, 12225, 12228, 12230, 12231, 12234, 12235, 12237, 12240, 12243, 12245, 12246, 12249, 12250, 12252, 12255, 12258, 12260, 12261, 12264, 12265, 12267, 12270, 12273, 12275, 12276, 12279, 12280, 12282, 12285, 12288, 12290, 12291, 12294, 12295, 12297, 12300, 12303, 12305, 12306, 12309, 12310, 12312, 12315, 12318, 12320, 12321, 12324, 12325, 12327, 12330, 12333, 12335, 12336, 12339, 12340, 12342, 12345, 12348, 12350, 12351, 12354, 12355, 12357, 12360, 12363, 12365, 12366, 12369, 12370, 12372, 12375, 12378, 12380, 12381, 12384, 12385, 12387, 12390, 12393, 12395, 12396, 12399, 12400, 12402, 12405, 12408, 12410, 12411, 12414, 12415, 12417, 12420, 12423, 12425, 12426, 12429, 12430, 12432, 12435, 12438, 12440, 12441, 12444, 12445, 12447, 12450, 12453, 12455, 12456, 12459, 12460, 12462, 12465, 12468, 12470, 12471, 12474, 12475, 12477, 12480, 12483, 12485, 12486, 12489, 12490, 12492, 12495, 12498, 12500, 12501, 12504, 12505, 12507, 12510, 12513, 12515, 12516, 12519, 12520, 12522, 12525, 12528, 12530, 12531, 12534, 12535, 12537, 12540, 12543, 12545, 12546, 12549, 12550, 12552, 12555, 12558, 12560, 12561, 12564, 12565, 12567, 12570, 12573, 12575, 12576, 12579, 12580, 12582, 12585, 12588, 12590, 12591, 12594, 12595, 12597, 12600, 12603, 12605, 12606, 12609, 12610, 12612, 12615, 12618, 12620, 12621, 12624, 12625, 12627, 12630, 12633, 12635, 12636, 12639, 12640, 12642, 12645, 12648, 12650, 12651, 12654, 12655, 12657, 12660, 12663, 12665, 12666, 12669, 12670, 12672, 12675, 12678, 12680, 12681, 12684, 12685, 12687, 12690, 12693, 12695, 12696, 12699, 12700, 12702, 12705, 12708, 12710, 12711, 12714, 12715, 12717, 12720, 12723, 12725, 12726, 12729, 12730, 12732, 12735, 12738, 12740, 12741, 12744, 12745, 12747, 12750, 12753, 12755, 12756, 12759, 12760, 12762, 12765, 12768, 12770, 12771, 12774, 12775, 12777, 12780, 12783, 12785, 12786, 12789, 12790, 12792, 12795, 12798, 12800, 12801, 12804, 12805, 12807, 12810, 12813, 12815, 12816, 12819, 12820, 12822, 12825, 12828, 12830, 12831, 12834, 12835, 12837, 12840, 12843, 12845, 12846, 12849, 12850, 12852, 12855, 12858, 12860, 12861, 12864, 12865, 12867, 12870, 12873, 12875, 12876, 12879, 12880, 12882, 12885, 12888, 12890, 12891, 12894, 12895, 12897, 12900, 12903, 12905, 12906, 12909, 12910, 12912, 12915, 12918, 12920, 12921, 12924, 12925, 12927, 12930, 12933, 12935, 12936, 12939, 12940, 12942, 12945, 12948, 12950, 12951, 12954, 12955, 12957, 12960, 12963, 12965, 12966, 12969, 12970, 12972, 12975, 12978, 12980, 12981, 12984, 12985, 12987, 12990, 12993, 12995, 12996, 12999, 13000, 13002, 13005, 13008, 13010, 13011, 13014, 13015, 13017, 13020, 13023, 13025, 13026, 13029, 13030, 13032, 13035, 13038, 13040, 13041, 13044, 13045, 13047, 13050, 13053, 13055, 13056, 13059, 13060, 13062, 13065, 13068, 13070, 13071, 13074, 13075, 13077, 13080, 13083, 13085, 13086, 13089, 13090, 13092, 13095, 13098, 13100, 13101, 13104, 13105, 13107, 13110, 13113, 13115, 13116, 13119, 13120, 13122, 13125, 13128, 13130, 13131, 13134, 13135, 13137, 13140, 13143, 13145, 13146, 13149, 13150, 13152, 13155, 13158, 13160, 13161, 13164, 13165, 13167, 13170, 13173, 13175, 13176, 13179, 13180, 13182, 13185, 13188, 13190, 13191, 13194, 13195, 13197, 13200, 13203, 13205, 13206, 13209, 13210, 13212, 13215, 13218, 13220, 13221, 13224, 13225, 13227, 13230, 13233, 13235, 13236, 13239, 13240, 13242, 13245, 13248, 13250, 13251, 13254, 13255, 13257, 13260, 13263, 13265, 13266, 13269, 13270, 13272, 13275, 13278, 13280, 13281, 13284, 13285, 13287, 13290, 13293, 13295, 13296, 13299, 13300, 13302, 13305, 13308, 13310, 13311, 13314, 13315, 13317, 13320, 13323, 13325, 13326, 13329, 13330, 13332, 13335, 13338, 13340, 13341, 13344, 13345, 13347, 13350, 13353, 13355, 13356, 13359, 13360, 13362, 13365, 13368, 13370, 13371, 13374, 13375, 13377, 13380, 13383, 13385, 13386, 13389, 13390, 13392, 13395, 13398, 13400, 13401, 13404, 13405, 13407, 13410, 13413, 13415, 13416, 13419, 13420, 13422, 13425, 13428, 13430, 13431, 13434, 13435, 13437, 13440, 13443, 13445, 13446, 13449, 13450, 13452, 13455, 13458, 13460, 13461, 13464, 13465, 13467, 13470, 13473, 13475, 13476, 13479, 13480, 13482, 13485, 13488, 13490, 13491, 13494, 13495, 13497, 13500, 13503, 13505, 13506, 13509, 13510, 13512, 13515, 13518, 13520, 13521, 13524, 13525, 13527, 13530, 13533, 13535, 13536, 13539, 13540, 13542, 13545, 13548, 13550, 13551, 13554, 13555, 13557, 13560, 13563, 13565, 13566, 13569, 13570, 13572, 13575, 13578, 13580, 13581, 13584, 13585, 13587, 13590, 13593, 13595, 13596, 13599, 13600, 13602, 13605, 13608, 13610, 13611, 13614, 13615, 13617, 13620, 13623, 13625, 13626, 13629, 13630, 13632, 13635, 13638, 13640, 13641, 13644, 13645, 13647, 13650, 13653, 13655, 13656, 13659, 13660, 13662, 13665, 13668, 13670, 13671, 13674, 13675, 13677, 13680, 13683, 13685, 13686, 13689, 13690, 13692, 13695, 13698, 13700, 13701, 13704, 13705, 13707, 13710, 13713, 13715, 13716, 13719, 13720, 13722, 13725, 13728, 13730, 13731, 13734, 13735, 13737, 13740, 13743, 13745, 13746, 13749, 13750, 13752, 13755, 13758, 13760, 13761, 13764, 13765, 13767, 13770, 13773, 13775, 13776, 13779, 13780, 13782, 13785, 13788, 13790, 13791, 13794, 13795, 13797, 13800, 13803, 13805, 13806, 13809, 13810, 13812, 13815, 13818, 13820, 13821, 13824, 13825, 13827, 13830, 13833, 13835, 13836, 13839, 13840, 13842, 13845, 13848, 13850, 13851, 13854, 13855, 13857, 13860, 13863, 13865, 13866, 13869, 13870, 13872, 13875, 13878, 13880, 13881, 13884, 13885, 13887, 13890, 13893, 13895, 13896, 13899, 13900, 13902, 13905, 13908, 13910, 13911, 13914, 13915, 13917, 13920, 13923, 13925, 13926, 13929, 13930, 13932, 13935, 13938, 13940, 13941, 13944, 13945, 13947, 13950, 13953, 13955, 13956, 13959, 13960, 13962, 13965, 13968, 13970, 13971, 13974, 13975, 13977, 13980, 13983, 13985, 13986, 13989, 13990, 13992, 13995, 13998, 14000, 14001, 14004, 14005, 14007, 14010, 14013, 14015, 14016, 14019, 14020, 14022, 14025, 14028, 14030, 14031, 14034, 14035, 14037, 14040, 14043, 14045, 14046, 14049, 14050, 14052, 14055, 14058, 14060, 14061, 14064, 14065, 14067, 14070, 14073, 14075, 14076, 14079, 14080, 14082, 14085, 14088, 14090, 14091, 14094, 14095, 14097, 14100, 14103, 14105, 14106, 14109, 14110, 14112, 14115, 14118, 14120, 14121, 14124, 14125, 14127, 14130, 14133, 14135, 14136, 14139, 14140, 14142, 14145, 14148, 14150, 14151, 14154, 14155, 14157, 14160, 14163, 14165, 14166, 14169, 14170, 14172, 14175, 14178, 14180, 14181, 14184, 14185, 14187, 14190, 14193, 14195, 14196, 14199, 14200, 14202, 14205, 14208, 14210, 14211, 14214, 14215, 14217, 14220, 14223, 14225, 14226, 14229, 14230, 14232, 14235, 14238, 14240, 14241, 14244, 14245, 14247, 14250, 14253, 14255, 14256, 14259, 14260, 14262, 14265, 14268, 14270, 14271, 14274, 14275, 14277, 14280, 14283, 14285, 14286, 14289, 14290, 14292, 14295, 14298, 14300, 14301, 14304, 14305, 14307, 14310, 14313, 14315, 14316, 14319, 14320, 14322, 14325, 14328, 14330, 14331, 14334, 14335, 14337, 14340, 14343, 14345, 14346, 14349, 14350, 14352, 14355, 14358, 14360, 14361, 14364, 14365, 14367, 14370, 14373, 14375, 14376, 14379, 14380, 14382, 14385, 14388, 14390, 14391, 14394, 14395, 14397, 14400, 14403, 14405, 14406, 14409, 14410, 14412, 14415, 14418, 14420, 14421, 14424, 14425, 14427, 14430, 14433, 14435, 14436, 14439, 14440, 14442, 14445, 14448, 14450, 14451, 14454, 14455, 14457, 14460, 14463, 14465, 14466, 14469, 14470, 14472, 14475, 14478, 14480, 14481, 14484, 14485, 14487, 14490, 14493, 14495, 14496, 14499, 14500, 14502, 14505, 14508, 14510, 14511, 14514, 14515, 14517, 14520, 14523, 14525, 14526, 14529, 14530, 14532, 14535, 14538, 14540, 14541, 14544, 14545, 14547, 14550, 14553, 14555, 14556, 14559, 14560, 14562, 14565, 14568, 14570, 14571, 14574, 14575, 14577, 14580, 14583, 14585, 14586, 14589, 14590, 14592, 14595, 14598, 14600, 14601, 14604, 14605, 14607, 14610, 14613, 14615, 14616, 14619, 14620, 14622, 14625, 14628, 14630, 14631, 14634, 14635, 14637, 14640, 14643, 14645, 14646, 14649, 14650, 14652, 14655, 14658, 14660, 14661, 14664, 14665, 14667, 14670, 14673, 14675, 14676, 14679, 14680, 14682, 14685, 14688, 14690, 14691, 14694, 14695, 14697, 14700, 14703, 14705, 14706, 14709, 14710, 14712, 14715, 14718, 14720, 14721, 14724, 14725, 14727, 14730, 14733, 14735, 14736, 14739, 14740, 14742, 14745, 14748, 14750, 14751, 14754, 14755, 14757, 14760, 14763, 14765, 14766, 14769, 14770, 14772, 14775, 14778, 14780, 14781, 14784, 14785, 14787, 14790, 14793, 14795, 14796, 14799, 14800, 14802, 14805, 14808, 14810, 14811, 14814, 14815, 14817, 14820, 14823, 14825, 14826, 14829, 14830, 14832, 14835, 14838, 14840, 14841, 14844, 14845, 14847, 14850, 14853, 14855, 14856, 14859, 14860, 14862, 14865, 14868, 14870, 14871, 14874, 14875, 14877, 14880, 14883, 14885, 14886, 14889, 14890, 14892, 14895, 14898, 14900, 14901, 14904, 14905, 14907, 14910, 14913, 14915, 14916, 14919, 14920, 14922, 14925, 14928, 14930, 14931, 14934, 14935, 14937, 14940, 14943, 14945, 14946, 14949, 14950, 14952, 14955, 14958, 14960, 14961, 14964, 14965, 14967, 14970, 14973, 14975, 14976, 14979, 14980, 14982, 14985, 14988, 14990, 14991, 14994, 14995, 14997, 15000, 15003, 15005, 15006, 15009, 15010, 15012, 15015, 15018, 15020, 15021, 15024, 15025, 15027, 15030, 15033, 15035, 15036, 15039, 15040, 15042, 15045, 15048, 15050, 15051, 15054, 15055, 15057, 15060, 15063, 15065, 15066, 15069, 15070, 15072, 15075, 15078, 15080, 15081, 15084, 15085, 15087, 15090, 15093, 15095, 15096, 15099, 15100, 15102, 15105, 15108, 15110, 15111, 15114, 15115, 15117, 15120, 15123, 15125, 15126, 15129, 15130, 15132, 15135, 15138, 15140, 15141, 15144, 15145, 15147, 15150, 15153, 15155, 15156, 15159, 15160, 15162, 15165, 15168, 15170, 15171, 15174, 15175, 15177, 15180, 15183, 15185, 15186, 15189, 15190, 15192, 15195, 15198, 15200, 15201, 15204, 15205, 15207, 15210, 15213, 15215, 15216, 15219, 15220, 15222, 15225, 15228, 15230, 15231, 15234, 15235, 15237, 15240, 15243, 15245, 15246, 15249, 15250, 15252, 15255, 15258, 15260, 15261, 15264, 15265, 15267, 15270, 15273, 15275, 15276, 15279, 15280, 15282, 15285, 15288, 15290, 15291, 15294, 15295, 15297, 15300, 15303, 15305, 15306, 15309, 15310, 15312, 15315, 15318, 15320, 15321, 15324, 15325, 15327, 15330, 15333, 15335, 15336, 15339, 15340, 15342, 15345, 15348, 15350, 15351, 15354, 15355, 15357, 15360, 15363, 15365, 15366, 15369, 15370, 15372, 15375, 15378, 15380, 15381, 15384, 15385, 15387, 15390, 15393, 15395, 15396, 15399, 15400, 15402, 15405, 15408, 15410, 15411, 15414, 15415, 15417, 15420, 15423, 15425, 15426, 15429, 15430, 15432, 15435, 15438, 15440, 15441, 15444, 15445, 15447, 15450, 15453, 15455, 15456, 15459, 15460, 15462, 15465, 15468, 15470, 15471, 15474, 15475, 15477, 15480, 15483, 15485, 15486, 15489, 15490, 15492, 15495, 15498, 15500, 15501, 15504, 15505, 15507, 15510, 15513, 15515, 15516, 15519, 15520, 15522, 15525, 15528, 15530, 15531, 15534, 15535, 15537, 15540, 15543, 15545, 15546, 15549, 15550, 15552, 15555, 15558, 15560, 15561, 15564, 15565, 15567, 15570, 15573, 15575, 15576, 15579, 15580, 15582, 15585, 15588, 15590, 15591, 15594, 15595, 15597, 15600, 15603, 15605, 15606, 15609, 15610, 15612, 15615, 15618, 15620, 15621, 15624, 15625, 15627, 15630, 15633, 15635, 15636, 15639, 15640, 15642, 15645, 15648, 15650, 15651, 15654, 15655, 15657, 15660, 15663, 15665, 15666, 15669, 15670, 15672, 15675, 15678, 15680, 15681, 15684, 15685, 15687, 15690, 15693, 15695, 15696, 15699, 15700, 15702, 15705, 15708, 15710, 15711, 15714, 15715, 15717, 15720, 15723, 15725, 15726, 15729, 15730, 15732, 15735, 15738, 15740, 15741, 15744, 15745, 15747, 15750, 15753, 15755, 15756, 15759, 15760, 15762, 15765, 15768, 15770, 15771, 15774, 15775, 15777, 15780, 15783, 15785, 15786, 15789, 15790, 15792, 15795, 15798, 15800, 15801, 15804, 15805, 15807, 15810, 15813, 15815, 15816, 15819, 15820, 15822, 15825, 15828, 15830, 15831, 15834, 15835, 15837, 15840, 15843, 15845, 15846, 15849, 15850, 15852, 15855, 15858, 15860, 15861, 15864, 15865, 15867, 15870, 15873, 15875, 15876, 15879, 15880, 15882, 15885, 15888, 15890, 15891, 15894, 15895, 15897, 15900, 15903, 15905, 15906, 15909, 15910, 15912, 15915, 15918, 15920, 15921, 15924, 15925, 15927, 15930, 15933, 15935, 15936, 15939, 15940, 15942, 15945, 15948, 15950, 15951, 15954, 15955, 15957, 15960, 15963, 15965, 15966, 15969, 15970, 15972, 15975, 15978, 15980, 15981, 15984, 15985, 15987, 15990, 15993, 15995, 15996, 15999, 16000, 16002, 16005, 16008, 16010, 16011, 16014, 16015, 16017, 16020, 16023, 16025, 16026, 16029, 16030, 16032, 16035, 16038, 16040, 16041, 16044, 16045, 16047, 16050, 16053, 16055, 16056, 16059, 16060, 16062, 16065, 16068, 16070, 16071, 16074, 16075, 16077, 16080, 16083, 16085, 16086, 16089, 16090, 16092, 16095, 16098, 16100, 16101, 16104, 16105, 16107, 16110, 16113, 16115, 16116, 16119, 16120, 16122, 16125, 16128, 16130, 16131, 16134, 16135, 16137, 16140, 16143, 16145, 16146, 16149, 16150, 16152, 16155, 16158, 16160, 16161, 16164, 16165, 16167, 16170, 16173, 16175, 16176, 16179, 16180, 16182, 16185, 16188, 16190, 16191, 16194, 16195, 16197, 16200, 16203, 16205, 16206, 16209, 16210, 16212, 16215, 16218, 16220, 16221, 16224, 16225, 16227, 16230, 16233, 16235, 16236, 16239, 16240, 16242, 16245, 16248, 16250, 16251, 16254, 16255, 16257, 16260, 16263, 16265, 16266, 16269, 16270, 16272, 16275, 16278, 16280, 16281, 16284, 16285, 16287, 16290, 16293, 16295, 16296, 16299, 16300, 16302, 16305, 16308, 16310, 16311, 16314, 16315, 16317, 16320, 16323, 16325, 16326, 16329, 16330, 16332, 16335, 16338, 16340, 16341, 16344, 16345, 16347, 16350, 16353, 16355, 16356, 16359, 16360, 16362, 16365, 16368, 16370, 16371, 16374, 16375, 16377, 16380, 16383, 16385, 16386, 16389, 16390, 16392, 16395, 16398, 16400, 16401, 16404, 16405, 16407, 16410, 16413, 16415, 16416, 16419, 16420, 16422, 16425, 16428, 16430, 16431, 16434, 16435, 16437, 16440, 16443, 16445, 16446, 16449, 16450, 16452, 16455, 16458, 16460, 16461, 16464, 16465, 16467, 16470, 16473, 16475, 16476, 16479, 16480, 16482, 16485, 16488, 16490, 16491, 16494, 16495, 16497, 16500, 16503, 16505, 16506, 16509, 16510, 16512, 16515, 16518, 16520, 16521, 16524, 16525, 16527, 16530, 16533, 16535, 16536, 16539, 16540, 16542, 16545, 16548, 16550, 16551, 16554, 16555, 16557, 16560, 16563, 16565, 16566, 16569, 16570, 16572, 16575, 16578, 16580, 16581, 16584, 16585, 16587, 16590, 16593, 16595, 16596, 16599, 16600, 16602, 16605, 16608, 16610, 16611, 16614, 16615, 16617, 16620, 16623, 16625, 16626, 16629, 16630, 16632, 16635, 16638, 16640, 16641, 16644, 16645, 16647, 16650, 16653, 16655, 16656, 16659, 16660, 16662, 16665, 16668, 16670, 16671, 16674, 16675, 16677, 16680, 16683, 16685, 16686, 16689, 16690, 16692, 16695, 16698, 16700, 16701, 16704, 16705, 16707, 16710, 16713, 16715, 16716, 16719, 16720, 16722, 16725, 16728, 16730, 16731, 16734, 16735, 16737, 16740, 16743, 16745, 16746, 16749, 16750, 16752, 16755, 16758, 16760, 16761, 16764, 16765, 16767, 16770, 16773, 16775, 16776, 16779, 16780, 16782, 16785, 16788, 16790, 16791, 16794, 16795, 16797, 16800, 16803, 16805, 16806, 16809, 16810, 16812, 16815, 16818, 16820, 16821, 16824, 16825, 16827, 16830, 16833, 16835, 16836, 16839, 16840, 16842, 16845, 16848, 16850, 16851, 16854, 16855, 16857, 16860, 16863, 16865, 16866, 16869, 16870, 16872, 16875, 16878, 16880, 16881, 16884, 16885, 16887, 16890, 16893, 16895, 16896, 16899, 16900, 16902, 16905, 16908, 16910, 16911, 16914, 16915, 16917, 16920, 16923, 16925, 16926, 16929, 16930, 16932, 16935, 16938, 16940, 16941, 16944, 16945, 16947, 16950, 16953, 16955, 16956, 16959, 16960, 16962, 16965, 16968, 16970, 16971, 16974, 16975, 16977, 16980, 16983, 16985, 16986, 16989, 16990, 16992, 16995, 16998, 17000, 17001, 17004, 17005, 17007, 17010, 17013, 17015, 17016, 17019, 17020, 17022, 17025, 17028, 17030, 17031, 17034, 17035, 17037, 17040, 17043, 17045, 17046, 17049, 17050, 17052, 17055, 17058, 17060, 17061, 17064, 17065, 17067, 17070, 17073, 17075, 17076, 17079, 17080, 17082, 17085, 17088, 17090, 17091, 17094, 17095, 17097, 17100, 17103, 17105, 17106, 17109, 17110, 17112, 17115, 17118, 17120, 17121, 17124, 17125, 17127, 17130, 17133, 17135, 17136, 17139, 17140, 17142, 17145, 17148, 17150, 17151, 17154, 17155, 17157, 17160, 17163, 17165, 17166, 17169, 17170, 17172, 17175, 17178, 17180, 17181, 17184, 17185, 17187, 17190, 17193, 17195, 17196, 17199, 17200, 17202, 17205, 17208, 17210, 17211, 17214, 17215, 17217, 17220, 17223, 17225, 17226, 17229, 17230, 17232, 17235, 17238, 17240, 17241, 17244, 17245, 17247, 17250, 17253, 17255, 17256, 17259, 17260, 17262, 17265, 17268, 17270, 17271, 17274, 17275, 17277, 17280, 17283, 17285, 17286, 17289, 17290, 17292, 17295, 17298, 17300, 17301, 17304, 17305, 17307, 17310, 17313, 17315, 17316, 17319, 17320, 17322, 17325, 17328, 17330, 17331, 17334, 17335, 17337, 17340, 17343, 17345, 17346, 17349, 17350, 17352, 17355, 17358, 17360, 17361, 17364, 17365, 17367, 17370, 17373, 17375, 17376, 17379, 17380, 17382, 17385, 17388, 17390, 17391, 17394, 17395, 17397, 17400, 17403, 17405, 17406, 17409, 17410, 17412, 17415, 17418, 17420, 17421, 17424, 17425, 17427, 17430, 17433, 17435, 17436, 17439, 17440, 17442, 17445, 17448, 17450, 17451, 17454, 17455, 17457, 17460, 17463, 17465, 17466, 17469, 17470, 17472, 17475, 17478, 17480, 17481, 17484, 17485, 17487, 17490, 17493, 17495, 17496, 17499, 17500, 17502, 17505, 17508, 17510, 17511, 17514, 17515, 17517, 17520, 17523, 17525, 17526, 17529, 17530, 17532, 17535, 17538, 17540, 17541, 17544, 17545, 17547, 17550, 17553, 17555, 17556, 17559, 17560, 17562, 17565, 17568, 17570, 17571, 17574, 17575, 17577, 17580, 17583, 17585, 17586, 17589, 17590, 17592, 17595, 17598, 17600, 17601, 17604, 17605, 17607, 17610, 17613, 17615, 17616, 17619, 17620, 17622, 17625, 17628, 17630, 17631, 17634, 17635, 17637, 17640, 17643, 17645, 17646, 17649, 17650, 17652, 17655, 17658, 17660, 17661, 17664, 17665, 17667, 17670, 17673, 17675, 17676, 17679, 17680, 17682, 17685, 17688, 17690, 17691, 17694, 17695, 17697, 17700, 17703, 17705, 17706, 17709, 17710, 17712, 17715, 17718, 17720, 17721, 17724, 17725, 17727, 17730, 17733, 17735, 17736, 17739, 17740, 17742, 17745, 17748, 17750, 17751, 17754, 17755, 17757, 17760, 17763, 17765, 17766, 17769, 17770, 17772, 17775, 17778, 17780, 17781, 17784, 17785, 17787, 17790, 17793, 17795, 17796, 17799, 17800, 17802, 17805, 17808, 17810, 17811, 17814, 17815, 17817, 17820, 17823, 17825, 17826, 17829, 17830, 17832, 17835, 17838, 17840, 17841, 17844, 17845, 17847, 17850, 17853, 17855, 17856, 17859, 17860, 17862, 17865, 17868, 17870, 17871, 17874, 17875, 17877, 17880, 17883, 17885, 17886, 17889, 17890, 17892, 17895, 17898, 17900, 17901, 17904, 17905, 17907, 17910, 17913, 17915, 17916, 17919, 17920, 17922, 17925, 17928, 17930, 17931, 17934, 17935, 17937, 17940, 17943, 17945, 17946, 17949, 17950, 17952, 17955, 17958, 17960, 17961, 17964, 17965, 17967, 17970, 17973, 17975, 17976, 17979, 17980, 17982, 17985, 17988, 17990, 17991, 17994, 17995, 17997, 18000, 18003, 18005, 18006, 18009, 18010, 18012, 18015, 18018, 18020, 18021, 18024, 18025, 18027, 18030, 18033, 18035, 18036, 18039, 18040, 18042, 18045, 18048, 18050, 18051, 18054, 18055, 18057, 18060, 18063, 18065, 18066, 18069, 18070, 18072, 18075, 18078, 18080, 18081, 18084, 18085, 18087, 18090, 18093, 18095, 18096, 18099, 18100, 18102, 18105, 18108, 18110, 18111, 18114, 18115, 18117, 18120, 18123, 18125, 18126, 18129, 18130, 18132, 18135, 18138, 18140, 18141, 18144, 18145, 18147, 18150, 18153, 18155, 18156, 18159, 18160, 18162, 18165, 18168, 18170, 18171, 18174, 18175, 18177, 18180, 18183, 18185, 18186, 18189, 18190, 18192, 18195, 18198, 18200, 18201, 18204, 18205, 18207, 18210, 18213, 18215, 18216, 18219, 18220, 18222, 18225, 18228, 18230, 18231, 18234, 18235, 18237, 18240, 18243, 18245, 18246, 18249, 18250, 18252, 18255, 18258, 18260, 18261, 18264, 18265, 18267, 18270, 18273, 18275, 18276, 18279, 18280, 18282, 18285, 18288, 18290, 18291, 18294, 18295, 18297, 18300, 18303, 18305, 18306, 18309, 18310, 18312, 18315, 18318, 18320, 18321, 18324, 18325, 18327, 18330, 18333, 18335, 18336, 18339, 18340, 18342, 18345, 18348, 18350, 18351, 18354, 18355, 18357, 18360, 18363, 18365, 18366, 18369, 18370, 18372, 18375, 18378, 18380, 18381, 18384, 18385, 18387, 18390, 18393, 18395, 18396, 18399, 18400, 18402, 18405, 18408, 18410, 18411, 18414, 18415, 18417, 18420, 18423, 18425, 18426, 18429, 18430, 18432, 18435, 18438, 18440, 18441, 18444, 18445, 18447, 18450, 18453, 18455, 18456, 18459, 18460, 18462, 18465, 18468, 18470, 18471, 18474, 18475, 18477, 18480, 18483, 18485, 18486, 18489, 18490, 18492, 18495, 18498, 18500, 18501, 18504, 18505, 18507, 18510, 18513, 18515, 18516, 18519, 18520, 18522, 18525, 18528, 18530, 18531, 18534, 18535, 18537, 18540, 18543, 18545, 18546, 18549, 18550, 18552, 18555, 18558, 18560, 18561, 18564, 18565, 18567, 18570, 18573, 18575, 18576, 18579, 18580, 18582, 18585, 18588, 18590, 18591, 18594, 18595, 18597, 18600, 18603, 18605, 18606, 18609, 18610, 18612, 18615, 18618, 18620, 18621, 18624, 18625, 18627, 18630, 18633, 18635, 18636, 18639, 18640, 18642, 18645, 18648, 18650, 18651, 18654, 18655, 18657, 18660, 18663, 18665, 18666, 18669, 18670, 18672, 18675, 18678, 18680, 18681, 18684, 18685, 18687, 18690, 18693, 18695, 18696, 18699, 18700, 18702, 18705, 18708, 18710, 18711, 18714, 18715, 18717, 18720, 18723, 18725, 18726, 18729, 18730, 18732, 18735, 18738, 18740, 18741, 18744, 18745, 18747, 18750, 18753, 18755, 18756, 18759, 18760, 18762, 18765, 18768, 18770, 18771, 18774, 18775, 18777, 18780, 18783, 18785, 18786, 18789, 18790, 18792, 18795, 18798, 18800, 18801, 18804, 18805, 18807, 18810, 18813, 18815, 18816, 18819, 18820, 18822, 18825, 18828, 18830, 18831, 18834, 18835, 18837, 18840, 18843, 18845, 18846, 18849, 18850, 18852, 18855, 18858, 18860, 18861, 18864, 18865, 18867, 18870, 18873, 18875, 18876, 18879, 18880, 18882, 18885, 18888, 18890, 18891, 18894, 18895, 18897, 18900, 18903, 18905, 18906, 18909, 18910, 18912, 18915, 18918, 18920, 18921, 18924, 18925, 18927, 18930, 18933, 18935, 18936, 18939, 18940, 18942, 18945, 18948, 18950, 18951, 18954, 18955, 18957, 18960, 18963, 18965, 18966, 18969, 18970, 18972, 18975, 18978, 18980, 18981, 18984, 18985, 18987, 18990, 18993, 18995, 18996, 18999, 19000, 19002, 19005, 19008, 19010, 19011, 19014, 19015, 19017, 19020, 19023, 19025, 19026, 19029, 19030, 19032, 19035, 19038, 19040, 19041, 19044, 19045, 19047, 19050, 19053, 19055, 19056, 19059, 19060, 19062, 19065, 19068, 19070, 19071, 19074, 19075, 19077, 19080, 19083, 19085, 19086, 19089, 19090, 19092, 19095, 19098, 19100, 19101, 19104, 19105, 19107, 19110, 19113, 19115, 19116, 19119, 19120, 19122, 19125, 19128, 19130, 19131, 19134, 19135, 19137, 19140, 19143, 19145, 19146, 19149, 19150, 19152, 19155, 19158, 19160, 19161, 19164, 19165, 19167, 19170, 19173, 19175, 19176, 19179, 19180, 19182, 19185, 19188, 19190, 19191, 19194, 19195, 19197, 19200, 19203, 19205, 19206, 19209, 19210, 19212, 19215, 19218, 19220, 19221, 19224, 19225, 19227, 19230, 19233, 19235, 19236, 19239, 19240, 19242, 19245, 19248, 19250, 19251, 19254, 19255, 19257, 19260, 19263, 19265, 19266, 19269, 19270, 19272, 19275, 19278, 19280, 19281, 19284, 19285, 19287, 19290, 19293, 19295, 19296, 19299, 19300, 19302, 19305, 19308, 19310, 19311, 19314, 19315, 19317, 19320, 19323, 19325, 19326, 19329, 19330, 19332, 19335, 19338, 19340, 19341, 19344, 19345, 19347, 19350, 19353, 19355, 19356, 19359, 19360, 19362, 19365, 19368, 19370, 19371, 19374, 19375, 19377, 19380, 19383, 19385, 19386, 19389, 19390, 19392, 19395, 19398, 19400, 19401, 19404, 19405, 19407, 19410, 19413, 19415, 19416, 19419, 19420, 19422, 19425, 19428, 19430, 19431, 19434, 19435, 19437, 19440, 19443, 19445, 19446, 19449, 19450, 19452, 19455, 19458, 19460, 19461, 19464, 19465, 19467, 19470, 19473, 19475, 19476, 19479, 19480, 19482, 19485, 19488, 19490, 19491, 19494, 19495, 19497, 19500, 19503, 19505, 19506, 19509, 19510, 19512, 19515, 19518, 19520, 19521, 19524, 19525, 19527, 19530, 19533, 19535, 19536, 19539, 19540, 19542, 19545, 19548, 19550, 19551, 19554, 19555, 19557, 19560, 19563, 19565, 19566, 19569, 19570, 19572, 19575, 19578, 19580, 19581, 19584, 19585, 19587, 19590, 19593, 19595, 19596, 19599, 19600, 19602, 19605, 19608, 19610, 19611, 19614, 19615, 19617, 19620, 19623, 19625, 19626, 19629, 19630, 19632, 19635, 19638, 19640, 19641, 19644, 19645, 19647, 19650, 19653, 19655, 19656, 19659, 19660, 19662, 19665, 19668, 19670, 19671, 19674, 19675, 19677, 19680, 19683, 19685, 19686, 19689, 19690, 19692, 19695, 19698, 19700, 19701, 19704, 19705, 19707, 19710, 19713, 19715, 19716, 19719, 19720, 19722, 19725, 19728, 19730, 19731, 19734, 19735, 19737, 19740, 19743, 19745, 19746, 19749, 19750, 19752, 19755, 19758, 19760, 19761, 19764, 19765, 19767, 19770, 19773, 19775, 19776, 19779, 19780, 19782, 19785, 19788, 19790, 19791, 19794, 19795, 19797, 19800, 19803, 19805, 19806, 19809, 19810, 19812, 19815, 19818, 19820, 19821, 19824, 19825, 19827, 19830, 19833, 19835, 19836, 19839, 19840, 19842, 19845, 19848, 19850, 19851, 19854, 19855, 19857, 19860, 19863, 19865, 19866, 19869, 19870, 19872, 19875, 19878, 19880, 19881, 19884, 19885, 19887, 19890, 19893, 19895, 19896, 19899, 19900, 19902, 19905, 19908, 19910, 19911, 19914, 19915, 19917, 19920, 19923, 19925, 19926, 19929, 19930, 19932, 19935, 19938, 19940, 19941, 19944, 19945, 19947, 19950, 19953, 19955, 19956, 19959, 19960, 19962, 19965, 19968, 19970, 19971, 19974, 19975, 19977, 19980, 19983, 19985, 19986, 19989, 19990, 19992, 19995, 19998, 20000, 20001, 20004, 20005, 20007, 20010, 20013, 20015, 20016, 20019, 20020, 20022, 20025, 20028, 20030, 20031, 20034, 20035, 20037, 20040, 20043, 20045, 20046, 20049, 20050, 20052, 20055, 20058, 20060, 20061, 20064, 20065, 20067, 20070, 20073, 20075, 20076, 20079, 20080, 20082, 20085, 20088, 20090, 20091, 20094, 20095, 20097, 20100, 20103, 20105, 20106, 20109, 20110, 20112, 20115, 20118, 20120, 20121, 20124, 20125, 20127, 20130, 20133, 20135, 20136, 20139, 20140, 20142, 20145, 20148, 20150, 20151, 20154, 20155, 20157, 20160, 20163, 20165, 20166, 20169, 20170, 20172, 20175, 20178, 20180, 20181, 20184, 20185, 20187, 20190, 20193, 20195, 20196, 20199, 20200, 20202, 20205, 20208, 20210, 20211, 20214, 20215, 20217, 20220, 20223, 20225, 20226, 20229, 20230, 20232, 20235, 20238, 20240, 20241, 20244, 20245, 20247, 20250, 20253, 20255, 20256, 20259, 20260, 20262, 20265, 20268, 20270, 20271, 20274, 20275, 20277, 20280, 20283, 20285, 20286, 20289, 20290, 20292, 20295, 20298, 20300, 20301, 20304, 20305, 20307, 20310, 20313, 20315, 20316, 20319, 20320, 20322, 20325, 20328, 20330, 20331, 20334, 20335, 20337, 20340, 20343, 20345, 20346, 20349, 20350, 20352, 20355, 20358, 20360, 20361, 20364, 20365, 20367, 20370, 20373, 20375, 20376, 20379, 20380, 20382, 20385, 20388, 20390, 20391, 20394, 20395, 20397, 20400, 20403, 20405, 20406, 20409, 20410, 20412, 20415, 20418, 20420, 20421, 20424, 20425, 20427, 20430, 20433, 20435, 20436, 20439, 20440, 20442, 20445, 20448, 20450, 20451, 20454, 20455, 20457, 20460, 20463, 20465, 20466, 20469, 20470, 20472, 20475, 20478, 20480, 20481, 20484, 20485, 20487, 20490, 20493, 20495, 20496, 20499, 20500, 20502, 20505, 20508, 20510, 20511, 20514, 20515, 20517, 20520, 20523, 20525, 20526, 20529, 20530, 20532, 20535, 20538, 20540, 20541, 20544, 20545, 20547, 20550, 20553, 20555, 20556, 20559, 20560, 20562, 20565, 20568, 20570, 20571, 20574, 20575, 20577, 20580, 20583, 20585, 20586, 20589, 20590, 20592, 20595, 20598, 20600, 20601, 20604, 20605, 20607, 20610, 20613, 20615, 20616, 20619, 20620, 20622, 20625, 20628, 20630, 20631, 20634, 20635, 20637, 20640, 20643, 20645, 20646, 20649, 20650, 20652, 20655, 20658, 20660, 20661, 20664, 20665, 20667, 20670, 20673, 20675, 20676, 20679, 20680, 20682, 20685, 20688, 20690, 20691, 20694, 20695, 20697, 20700, 20703, 20705, 20706, 20709, 20710, 20712, 20715, 20718, 20720, 20721, 20724, 20725, 20727, 20730, 20733, 20735, 20736, 20739, 20740, 20742, 20745, 20748, 20750, 20751, 20754, 20755, 20757, 20760, 20763, 20765, 20766, 20769, 20770, 20772, 20775, 20778, 20780, 20781, 20784, 20785, 20787, 20790, 20793, 20795, 20796, 20799, 20800, 20802, 20805, 20808, 20810, 20811, 20814, 20815, 20817, 20820, 20823, 20825, 20826, 20829, 20830, 20832, 20835, 20838, 20840, 20841, 20844, 20845, 20847, 20850, 20853, 20855, 20856, 20859, 20860, 20862, 20865, 20868, 20870, 20871, 20874, 20875, 20877, 20880, 20883, 20885, 20886, 20889, 20890, 20892, 20895, 20898, 20900, 20901, 20904, 20905, 20907, 20910, 20913, 20915, 20916, 20919, 20920, 20922, 20925, 20928, 20930, 20931, 20934, 20935, 20937, 20940, 20943, 20945, 20946, 20949, 20950, 20952, 20955, 20958, 20960, 20961, 20964, 20965, 20967, 20970, 20973, 20975, 20976, 20979, 20980, 20982, 20985, 20988, 20990, 20991, 20994, 20995, 20997, 21000, 21003, 21005, 21006, 21009, 21010, 21012, 21015, 21018, 21020, 21021, 21024, 21025, 21027, 21030, 21033, 21035, 21036, 21039, 21040, 21042, 21045, 21048, 21050, 21051, 21054, 21055, 21057, 21060, 21063, 21065, 21066, 21069, 21070, 21072, 21075, 21078, 21080, 21081, 21084, 21085, 21087, 21090, 21093, 21095, 21096, 21099, 21100, 21102, 21105, 21108, 21110, 21111, 21114, 21115, 21117, 21120, 21123, 21125, 21126, 21129, 21130, 21132, 21135, 21138, 21140, 21141, 21144, 21145, 21147, 21150, 21153, 21155, 21156, 21159, 21160, 21162, 21165, 21168, 21170, 21171, 21174, 21175, 21177, 21180, 21183, 21185, 21186, 21189, 21190, 21192, 21195, 21198, 21200, 21201, 21204, 21205, 21207, 21210, 21213, 21215, 21216, 21219, 21220, 21222, 21225, 21228, 21230, 21231, 21234, 21235, 21237, 21240, 21243, 21245, 21246, 21249, 21250, 21252, 21255, 21258, 21260, 21261, 21264, 21265, 21267, 21270, 21273, 21275, 21276, 21279, 21280, 21282, 21285, 21288, 21290, 21291, 21294, 21295, 21297, 21300, 21303, 21305, 21306, 21309, 21310, 21312, 21315, 21318, 21320, 21321, 21324, 21325, 21327, 21330, 21333, 21335, 21336, 21339, 21340, 21342, 21345, 21348, 21350, 21351, 21354, 21355, 21357, 21360, 21363, 21365, 21366, 21369, 21370, 21372, 21375, 21378, 21380, 21381, 21384, 21385, 21387, 21390, 21393, 21395, 21396, 21399, 21400, 21402, 21405, 21408, 21410, 21411, 21414, 21415, 21417, 21420, 21423, 21425, 21426, 21429, 21430, 21432, 21435, 21438, 21440, 21441, 21444, 21445, 21447, 21450, 21453, 21455, 21456, 21459, 21460, 21462, 21465, 21468, 21470, 21471, 21474, 21475, 21477, 21480, 21483, 21485, 21486, 21489, 21490, 21492, 21495, 21498, 21500, 21501, 21504, 21505, 21507, 21510, 21513, 21515, 21516, 21519, 21520, 21522, 21525, 21528, 21530, 21531, 21534, 21535, 21537, 21540, 21543, 21545, 21546, 21549, 21550, 21552, 21555, 21558, 21560, 21561, 21564, 21565, 21567, 21570, 21573, 21575, 21576, 21579, 21580, 21582, 21585, 21588, 21590, 21591, 21594, 21595, 21597, 21600, 21603, 21605, 21606, 21609, 21610, 21612, 21615, 21618, 21620, 21621, 21624, 21625, 21627, 21630, 21633, 21635, 21636, 21639, 21640, 21642, 21645, 21648, 21650, 21651, 21654, 21655, 21657, 21660, 21663, 21665, 21666, 21669, 21670, 21672, 21675, 21678, 21680, 21681, 21684, 21685, 21687, 21690, 21693, 21695, 21696, 21699, 21700, 21702, 21705, 21708, 21710, 21711, 21714, 21715, 21717, 21720, 21723, 21725, 21726, 21729, 21730, 21732, 21735, 21738, 21740, 21741, 21744, 21745, 21747, 21750, 21753, 21755, 21756, 21759, 21760, 21762, 21765, 21768, 21770, 21771, 21774, 21775, 21777, 21780, 21783, 21785, 21786, 21789, 21790, 21792, 21795, 21798, 21800, 21801, 21804, 21805, 21807, 21810, 21813, 21815, 21816, 21819, 21820, 21822, 21825, 21828, 21830, 21831, 21834, 21835, 21837, 21840, 21843, 21845, 21846, 21849, 21850, 21852, 21855, 21858, 21860, 21861, 21864, 21865, 21867, 21870, 21873, 21875, 21876, 21879, 21880, 21882, 21885, 21888, 21890, 21891, 21894, 21895, 21897, 21900, 21903, 21905, 21906, 21909, 21910, 21912, 21915, 21918, 21920, 21921, 21924, 21925, 21927, 21930, 21933, 21935, 21936, 21939, 21940, 21942, 21945, 21948, 21950, 21951, 21954, 21955, 21957, 21960, 21963, 21965, 21966, 21969, 21970, 21972, 21975, 21978, 21980, 21981, 21984, 21985, 21987, 21990, 21993, 21995, 21996, 21999, 22000, 22002, 22005, 22008, 22010, 22011, 22014, 22015, 22017, 22020, 22023, 22025, 22026, 22029, 22030, 22032, 22035, 22038, 22040, 22041, 22044, 22045, 22047, 22050, 22053, 22055, 22056, 22059, 22060, 22062, 22065, 22068, 22070, 22071, 22074, 22075, 22077, 22080, 22083, 22085, 22086, 22089, 22090, 22092, 22095, 22098, 22100, 22101, 22104, 22105, 22107, 22110, 22113, 22115, 22116, 22119, 22120, 22122, 22125, 22128, 22130, 22131, 22134, 22135, 22137, 22140, 22143, 22145, 22146, 22149, 22150, 22152, 22155, 22158, 22160, 22161, 22164, 22165, 22167, 22170, 22173, 22175, 22176, 22179, 22180, 22182, 22185, 22188, 22190, 22191, 22194, 22195, 22197, 22200, 22203, 22205, 22206, 22209, 22210, 22212, 22215, 22218, 22220, 22221, 22224, 22225, 22227, 22230, 22233, 22235, 22236, 22239, 22240, 22242, 22245, 22248, 22250, 22251, 22254, 22255, 22257, 22260, 22263, 22265, 22266, 22269, 22270, 22272, 22275, 22278, 22280, 22281, 22284, 22285, 22287, 22290, 22293, 22295, 22296, 22299, 22300, 22302, 22305, 22308, 22310, 22311, 22314, 22315, 22317, 22320, 22323, 22325, 22326, 22329, 22330, 22332, 22335, 22338, 22340, 22341, 22344, 22345, 22347, 22350, 22353, 22355, 22356, 22359, 22360, 22362, 22365, 22368, 22370, 22371, 22374, 22375, 22377, 22380, 22383, 22385, 22386, 22389, 22390, 22392, 22395, 22398, 22400, 22401, 22404, 22405, 22407, 22410, 22413, 22415, 22416, 22419, 22420, 22422, 22425, 22428, 22430, 22431, 22434, 22435, 22437, 22440, 22443, 22445, 22446, 22449, 22450, 22452, 22455, 22458, 22460, 22461, 22464, 22465, 22467, 22470, 22473, 22475, 22476, 22479, 22480, 22482, 22485, 22488, 22490, 22491, 22494, 22495, 22497, 22500, 22503, 22505, 22506, 22509, 22510, 22512, 22515, 22518, 22520, 22521, 22524, 22525, 22527, 22530, 22533, 22535, 22536, 22539, 22540, 22542, 22545, 22548, 22550, 22551, 22554, 22555, 22557, 22560, 22563, 22565, 22566, 22569, 22570, 22572, 22575, 22578, 22580, 22581, 22584, 22585, 22587, 22590, 22593, 22595, 22596, 22599, 22600, 22602, 22605, 22608, 22610, 22611, 22614, 22615, 22617, 22620, 22623, 22625, 22626, 22629, 22630, 22632, 22635, 22638, 22640, 22641, 22644, 22645, 22647, 22650, 22653, 22655, 22656, 22659, 22660, 22662, 22665, 22668, 22670, 22671, 22674, 22675, 22677, 22680, 22683, 22685, 22686, 22689, 22690, 22692, 22695, 22698, 22700, 22701, 22704, 22705, 22707, 22710, 22713, 22715, 22716, 22719, 22720, 22722, 22725, 22728, 22730, 22731, 22734, 22735, 22737, 22740, 22743, 22745, 22746, 22749, 22750, 22752, 22755, 22758, 22760, 22761, 22764, 22765, 22767, 22770, 22773, 22775, 22776, 22779, 22780, 22782, 22785, 22788, 22790, 22791, 22794, 22795, 22797, 22800, 22803, 22805, 22806, 22809, 22810, 22812, 22815, 22818, 22820, 22821, 22824, 22825, 22827, 22830, 22833, 22835, 22836, 22839, 22840, 22842, 22845, 22848, 22850, 22851, 22854, 22855, 22857, 22860, 22863, 22865, 22866, 22869, 22870, 22872, 22875, 22878, 22880, 22881, 22884, 22885, 22887, 22890, 22893, 22895, 22896, 22899, 22900, 22902, 22905, 22908, 22910, 22911, 22914, 22915, 22917, 22920, 22923, 22925, 22926, 22929, 22930, 22932, 22935, 22938, 22940, 22941, 22944, 22945, 22947, 22950, 22953, 22955, 22956, 22959, 22960, 22962, 22965, 22968, 22970, 22971, 22974, 22975, 22977, 22980, 22983, 22985, 22986, 22989, 22990, 22992, 22995, 22998, 23000, 23001, 23004, 23005, 23007, 23010, 23013, 23015, 23016, 23019, 23020, 23022, 23025, 23028, 23030, 23031, 23034, 23035, 23037, 23040, 23043, 23045, 23046, 23049, 23050, 23052, 23055, 23058, 23060, 23061, 23064, 23065, 23067, 23070, 23073, 23075, 23076, 23079, 23080, 23082, 23085, 23088, 23090, 23091, 23094, 23095, 23097, 23100, 23103, 23105, 23106, 23109, 23110, 23112, 23115, 23118, 23120, 23121, 23124, 23125, 23127, 23130, 23133, 23135, 23136, 23139, 23140, 23142, 23145, 23148, 23150, 23151, 23154, 23155, 23157, 23160, 23163, 23165, 23166, 23169, 23170, 23172, 23175, 23178, 23180, 23181, 23184, 23185, 23187, 23190, 23193, 23195, 23196, 23199, 23200, 23202, 23205, 23208, 23210, 23211, 23214, 23215, 23217, 23220, 23223, 23225, 23226, 23229, 23230, 23232, 23235, 23238, 23240, 23241, 23244, 23245, 23247, 23250, 23253, 23255, 23256, 23259, 23260, 23262, 23265, 23268, 23270, 23271, 23274, 23275, 23277, 23280, 23283, 23285, 23286, 23289, 23290, 23292, 23295, 23298, 23300, 23301, 23304, 23305, 23307, 23310, 23313, 23315, 23316, 23319, 23320, 23322, 23325, 23328, 23330, 23331, 23334, 23335, 23337, 23340, 23343, 23345, 23346, 23349, 23350, 23352, 23355, 23358, 23360, 23361, 23364, 23365, 23367, 23370, 23373, 23375, 23376, 23379, 23380, 23382, 23385, 23388, 23390, 23391, 23394, 23395, 23397, 23400, 23403, 23405, 23406, 23409, 23410, 23412, 23415, 23418, 23420, 23421, 23424, 23425, 23427, 23430, 23433, 23435, 23436, 23439, 23440, 23442, 23445, 23448, 23450, 23451, 23454, 23455, 23457, 23460, 23463, 23465, 23466, 23469, 23470, 23472, 23475, 23478, 23480, 23481, 23484, 23485, 23487, 23490, 23493, 23495, 23496, 23499, 23500, 23502, 23505, 23508, 23510, 23511, 23514, 23515, 23517, 23520, 23523, 23525, 23526, 23529, 23530, 23532, 23535, 23538, 23540, 23541, 23544, 23545, 23547, 23550, 23553, 23555, 23556, 23559, 23560, 23562, 23565, 23568, 23570, 23571, 23574, 23575, 23577, 23580, 23583, 23585, 23586, 23589, 23590, 23592, 23595, 23598, 23600, 23601, 23604, 23605, 23607, 23610, 23613, 23615, 23616, 23619, 23620, 23622, 23625, 23628, 23630, 23631, 23634, 23635, 23637, 23640, 23643, 23645, 23646, 23649, 23650, 23652, 23655, 23658, 23660, 23661, 23664, 23665, 23667, 23670, 23673, 23675, 23676, 23679, 23680, 23682, 23685, 23688, 23690, 23691, 23694, 23695, 23697, 23700, 23703, 23705, 23706, 23709, 23710, 23712, 23715, 23718, 23720, 23721, 23724, 23725, 23727, 23730, 23733, 23735, 23736, 23739, 23740, 23742, 23745, 23748, 23750, 23751, 23754, 23755, 23757, 23760, 23763, 23765, 23766, 23769, 23770, 23772, 23775, 23778, 23780, 23781, 23784, 23785, 23787, 23790, 23793, 23795, 23796, 23799, 23800, 23802, 23805, 23808, 23810, 23811, 23814, 23815, 23817, 23820, 23823, 23825, 23826, 23829, 23830, 23832, 23835, 23838, 23840, 23841, 23844, 23845, 23847, 23850, 23853, 23855, 23856, 23859, 23860, 23862, 23865, 23868, 23870, 23871, 23874, 23875, 23877, 23880, 23883, 23885, 23886, 23889, 23890, 23892, 23895, 23898, 23900, 23901, 23904, 23905, 23907, 23910, 23913, 23915, 23916, 23919, 23920, 23922, 23925, 23928, 23930, 23931, 23934, 23935, 23937, 23940, 23943, 23945, 23946, 23949, 23950, 23952, 23955, 23958, 23960, 23961, 23964, 23965, 23967, 23970, 23973, 23975, 23976, 23979, 23980, 23982, 23985, 23988, 23990, 23991, 23994, 23995, 23997, 24000, 24003, 24005, 24006, 24009, 24010, 24012, 24015, 24018, 24020, 24021, 24024, 24025, 24027, 24030, 24033, 24035, 24036, 24039, 24040, 24042, 24045, 24048, 24050, 24051, 24054, 24055, 24057, 24060, 24063, 24065, 24066, 24069, 24070, 24072, 24075, 24078, 24080, 24081, 24084, 24085, 24087, 24090, 24093, 24095, 24096, 24099, 24100, 24102, 24105, 24108, 24110, 24111, 24114, 24115, 24117, 24120, 24123, 24125, 24126, 24129, 24130, 24132, 24135, 24138, 24140, 24141, 24144, 24145, 24147, 24150, 24153, 24155, 24156, 24159, 24160, 24162, 24165, 24168, 24170, 24171, 24174, 24175, 24177, 24180, 24183, 24185, 24186, 24189, 24190, 24192, 24195, 24198, 24200, 24201, 24204, 24205, 24207, 24210, 24213, 24215, 24216, 24219, 24220, 24222, 24225, 24228, 24230, 24231, 24234, 24235, 24237, 24240, 24243, 24245, 24246, 24249, 24250, 24252, 24255, 24258, 24260, 24261, 24264, 24265, 24267, 24270, 24273, 24275, 24276, 24279, 24280, 24282, 24285, 24288, 24290, 24291, 24294, 24295, 24297, 24300, 24303, 24305, 24306, 24309, 24310, 24312, 24315, 24318, 24320, 24321, 24324, 24325, 24327, 24330, 24333, 24335, 24336, 24339, 24340, 24342, 24345, 24348, 24350, 24351, 24354, 24355, 24357, 24360, 24363, 24365, 24366, 24369, 24370, 24372, 24375, 24378, 24380, 24381, 24384, 24385, 24387, 24390, 24393, 24395, 24396, 24399, 24400, 24402, 24405, 24408, 24410, 24411, 24414, 24415, 24417, 24420, 24423, 24425, 24426, 24429, 24430, 24432, 24435, 24438, 24440, 24441, 24444, 24445, 24447, 24450, 24453, 24455, 24456, 24459, 24460, 24462, 24465, 24468, 24470, 24471, 24474, 24475, 24477, 24480, 24483, 24485, 24486, 24489, 24490, 24492, 24495, 24498, 24500, 24501, 24504, 24505, 24507, 24510, 24513, 24515, 24516, 24519, 24520, 24522, 24525, 24528, 24530, 24531, 24534, 24535, 24537, 24540, 24543, 24545, 24546, 24549, 24550, 24552, 24555, 24558, 24560, 24561, 24564, 24565, 24567, 24570, 24573, 24575, 24576, 24579, 24580, 24582, 24585, 24588, 24590, 24591, 24594, 24595, 24597, 24600, 24603, 24605, 24606, 24609, 24610, 24612, 24615, 24618, 24620, 24621, 24624, 24625, 24627, 24630, 24633, 24635, 24636, 24639, 24640, 24642, 24645, 24648, 24650, 24651, 24654, 24655, 24657, 24660, 24663, 24665, 24666, 24669, 24670, 24672, 24675, 24678, 24680, 24681, 24684, 24685, 24687, 24690, 24693, 24695, 24696, 24699, 24700, 24702, 24705, 24708, 24710, 24711, 24714, 24715, 24717, 24720, 24723, 24725, 24726, 24729, 24730, 24732, 24735, 24738, 24740, 24741, 24744, 24745, 24747, 24750, 24753, 24755, 24756, 24759, 24760, 24762, 24765, 24768, 24770, 24771, 24774, 24775, 24777, 24780, 24783, 24785, 24786, 24789, 24790, 24792, 24795, 24798, 24800, 24801, 24804, 24805, 24807, 24810, 24813, 24815, 24816, 24819, 24820, 24822, 24825, 24828, 24830, 24831, 24834, 24835, 24837, 24840, 24843, 24845, 24846, 24849, 24850, 24852, 24855, 24858, 24860, 24861, 24864, 24865, 24867, 24870, 24873, 24875, 24876, 24879, 24880, 24882, 24885, 24888, 24890, 24891, 24894, 24895, 24897, 24900, 24903, 24905, 24906, 24909, 24910, 24912, 24915, 24918, 24920, 24921, 24924, 24925, 24927, 24930, 24933, 24935, 24936, 24939, 24940, 24942, 24945, 24948, 24950, 24951, 24954, 24955, 24957, 24960, 24963, 24965, 24966, 24969, 24970, 24972, 24975, 24978, 24980, 24981, 24984, 24985, 24987, 24990, 24993, 24995, 24996, 24999, 25000, 25002, 25005, 25008, 25010, 25011, 25014, 25015, 25017, 25020, 25023, 25025, 25026, 25029, 25030, 25032, 25035, 25038, 25040, 25041, 25044, 25045, 25047, 25050, 25053, 25055, 25056, 25059, 25060, 25062, 25065, 25068, 25070, 25071, 25074, 25075, 25077, 25080, 25083, 25085, 25086, 25089, 25090, 25092, 25095, 25098, 25100, 25101, 25104, 25105, 25107, 25110, 25113, 25115, 25116, 25119, 25120, 25122, 25125, 25128, 25130, 25131, 25134, 25135, 25137, 25140, 25143, 25145, 25146, 25149, 25150, 25152, 25155, 25158, 25160, 25161, 25164, 25165, 25167, 25170, 25173, 25175, 25176, 25179, 25180, 25182, 25185, 25188, 25190, 25191, 25194, 25195, 25197, 25200, 25203, 25205, 25206, 25209, 25210, 25212, 25215, 25218, 25220, 25221, 25224, 25225, 25227, 25230, 25233, 25235, 25236, 25239, 25240, 25242, 25245, 25248, 25250, 25251, 25254, 25255, 25257, 25260, 25263, 25265, 25266, 25269, 25270, 25272, 25275, 25278, 25280, 25281, 25284, 25285, 25287, 25290, 25293, 25295, 25296, 25299, 25300, 25302, 25305, 25308, 25310, 25311, 25314, 25315, 25317, 25320, 25323, 25325, 25326, 25329, 25330, 25332, 25335, 25338, 25340, 25341, 25344, 25345, 25347, 25350, 25353, 25355, 25356, 25359, 25360, 25362, 25365, 25368, 25370, 25371, 25374, 25375, 25377, 25380, 25383, 25385, 25386, 25389, 25390, 25392, 25395, 25398, 25400, 25401, 25404, 25405, 25407, 25410, 25413, 25415, 25416, 25419, 25420, 25422, 25425, 25428, 25430, 25431, 25434, 25435, 25437, 25440, 25443, 25445, 25446, 25449, 25450, 25452, 25455, 25458, 25460, 25461, 25464, 25465, 25467, 25470, 25473, 25475, 25476, 25479, 25480, 25482, 25485, 25488, 25490, 25491, 25494, 25495, 25497, 25500, 25503, 25505, 25506, 25509, 25510, 25512, 25515, 25518, 25520, 25521, 25524, 25525, 25527, 25530, 25533, 25535, 25536, 25539, 25540, 25542, 25545, 25548, 25550, 25551, 25554, 25555, 25557, 25560, 25563, 25565, 25566, 25569, 25570, 25572, 25575, 25578, 25580, 25581, 25584, 25585, 25587, 25590, 25593, 25595, 25596, 25599, 25600, 25602, 25605, 25608, 25610, 25611, 25614, 25615, 25617, 25620, 25623, 25625, 25626, 25629, 25630, 25632, 25635, 25638, 25640, 25641, 25644, 25645, 25647, 25650, 25653, 25655, 25656, 25659, 25660, 25662, 25665, 25668, 25670, 25671, 25674, 25675, 25677, 25680, 25683, 25685, 25686, 25689, 25690, 25692, 25695, 25698, 25700, 25701, 25704, 25705, 25707, 25710, 25713, 25715, 25716, 25719, 25720, 25722, 25725, 25728, 25730, 25731, 25734, 25735, 25737, 25740, 25743, 25745, 25746, 25749, 25750, 25752, 25755, 25758, 25760, 25761, 25764, 25765, 25767, 25770, 25773, 25775, 25776, 25779, 25780, 25782, 25785, 25788, 25790, 25791, 25794, 25795, 25797, 25800, 25803, 25805, 25806, 25809, 25810, 25812, 25815, 25818, 25820, 25821, 25824, 25825, 25827, 25830, 25833, 25835, 25836, 25839, 25840, 25842, 25845, 25848, 25850, 25851, 25854, 25855, 25857, 25860, 25863, 25865, 25866, 25869, 25870, 25872, 25875, 25878, 25880, 25881, 25884, 25885, 25887, 25890, 25893, 25895, 25896, 25899, 25900, 25902, 25905, 25908, 25910, 25911, 25914, 25915, 25917, 25920, 25923, 25925, 25926, 25929, 25930, 25932, 25935, 25938, 25940, 25941, 25944, 25945, 25947, 25950, 25953, 25955, 25956, 25959, 25960, 25962, 25965, 25968, 25970, 25971, 25974, 25975, 25977, 25980, 25983, 25985, 25986, 25989, 25990, 25992, 25995, 25998, 26000, 26001, 26004, 26005, 26007, 26010, 26013, 26015, 26016, 26019, 26020, 26022, 26025, 26028, 26030, 26031, 26034, 26035, 26037, 26040, 26043, 26045, 26046, 26049, 26050, 26052, 26055, 26058, 26060, 26061, 26064, 26065, 26067, 26070, 26073, 26075, 26076, 26079, 26080, 26082, 26085, 26088, 26090, 26091, 26094, 26095, 26097, 26100, 26103, 26105, 26106, 26109, 26110, 26112, 26115, 26118, 26120, 26121, 26124, 26125, 26127, 26130, 26133, 26135, 26136, 26139, 26140, 26142, 26145, 26148, 26150, 26151, 26154, 26155, 26157, 26160, 26163, 26165, 26166, 26169, 26170, 26172, 26175, 26178, 26180, 26181, 26184, 26185, 26187, 26190, 26193, 26195, 26196, 26199, 26200, 26202, 26205, 26208, 26210, 26211, 26214, 26215, 26217, 26220, 26223, 26225, 26226, 26229, 26230, 26232, 26235, 26238, 26240, 26241, 26244, 26245, 26247, 26250, 26253, 26255, 26256, 26259, 26260, 26262, 26265, 26268, 26270, 26271, 26274, 26275, 26277, 26280, 26283, 26285, 26286, 26289, 26290, 26292, 26295, 26298, 26300, 26301, 26304, 26305, 26307, 26310, 26313, 26315, 26316, 26319, 26320, 26322, 26325, 26328, 26330, 26331, 26334, 26335, 26337, 26340, 26343, 26345, 26346, 26349, 26350, 26352, 26355, 26358, 26360, 26361, 26364, 26365, 26367, 26370, 26373, 26375, 26376, 26379, 26380, 26382, 26385, 26388, 26390, 26391, 26394, 26395, 26397, 26400, 26403, 26405, 26406, 26409, 26410, 26412, 26415, 26418, 26420, 26421, 26424, 26425, 26427, 26430, 26433, 26435, 26436, 26439, 26440, 26442, 26445, 26448, 26450, 26451, 26454, 26455, 26457, 26460, 26463, 26465, 26466, 26469, 26470, 26472, 26475, 26478, 26480, 26481, 26484, 26485, 26487, 26490, 26493, 26495, 26496, 26499, 26500, 26502, 26505, 26508, 26510, 26511, 26514, 26515, 26517, 26520, 26523, 26525, 26526, 26529, 26530, 26532, 26535, 26538, 26540, 26541, 26544, 26545, 26547, 26550, 26553, 26555, 26556, 26559, 26560, 26562, 26565, 26568, 26570, 26571, 26574, 26575, 26577, 26580, 26583, 26585, 26586, 26589, 26590, 26592, 26595, 26598, 26600, 26601, 26604, 26605, 26607, 26610, 26613, 26615, 26616, 26619, 26620, 26622, 26625, 26628, 26630, 26631, 26634, 26635, 26637, 26640, 26643, 26645, 26646, 26649, 26650, 26652, 26655, 26658, 26660, 26661, 26664, 26665, 26667, 26670, 26673, 26675, 26676, 26679, 26680, 26682, 26685, 26688, 26690, 26691, 26694, 26695, 26697, 26700, 26703, 26705, 26706, 26709, 26710, 26712, 26715, 26718, 26720, 26721, 26724, 26725, 26727, 26730, 26733, 26735, 26736, 26739, 26740, 26742, 26745, 26748, 26750, 26751, 26754, 26755, 26757, 26760, 26763, 26765, 26766, 26769, 26770, 26772, 26775, 26778, 26780, 26781, 26784, 26785, 26787, 26790, 26793, 26795, 26796, 26799, 26800, 26802, 26805, 26808, 26810, 26811, 26814, 26815, 26817, 26820, 26823, 26825, 26826, 26829, 26830, 26832, 26835, 26838, 26840, 26841, 26844, 26845, 26847, 26850, 26853, 26855, 26856, 26859, 26860, 26862, 26865, 26868, 26870, 26871, 26874, 26875, 26877, 26880, 26883, 26885, 26886, 26889, 26890, 26892, 26895, 26898, 26900, 26901, 26904, 26905, 26907, 26910, 26913, 26915, 26916, 26919, 26920, 26922, 26925, 26928, 26930, 26931, 26934, 26935, 26937, 26940, 26943, 26945, 26946, 26949, 26950, 26952, 26955, 26958, 26960, 26961, 26964, 26965, 26967, 26970, 26973, 26975, 26976, 26979, 26980, 26982, 26985, 26988, 26990, 26991, 26994, 26995, 26997, 27000, 27003, 27005, 27006, 27009, 27010, 27012, 27015, 27018, 27020, 27021, 27024, 27025, 27027, 27030, 27033, 27035, 27036, 27039, 27040, 27042, 27045, 27048, 27050, 27051, 27054, 27055, 27057, 27060, 27063, 27065, 27066, 27069, 27070, 27072, 27075, 27078, 27080, 27081, 27084, 27085, 27087, 27090, 27093, 27095, 27096, 27099, 27100, 27102, 27105, 27108, 27110, 27111, 27114, 27115, 27117, 27120, 27123, 27125, 27126, 27129, 27130, 27132, 27135, 27138, 27140, 27141, 27144, 27145, 27147, 27150, 27153, 27155, 27156, 27159, 27160, 27162, 27165, 27168, 27170, 27171, 27174, 27175, 27177, 27180, 27183, 27185, 27186, 27189, 27190, 27192, 27195, 27198, 27200, 27201, 27204, 27205, 27207, 27210, 27213, 27215, 27216, 27219, 27220, 27222, 27225, 27228, 27230, 27231, 27234, 27235, 27237, 27240, 27243, 27245, 27246, 27249, 27250, 27252, 27255, 27258, 27260, 27261, 27264, 27265, 27267, 27270, 27273, 27275, 27276, 27279, 27280, 27282, 27285, 27288, 27290, 27291, 27294, 27295, 27297, 27300, 27303, 27305, 27306, 27309, 27310, 27312, 27315, 27318, 27320, 27321, 27324, 27325, 27327, 27330, 27333, 27335, 27336, 27339, 27340, 27342, 27345, 27348, 27350, 27351, 27354, 27355, 27357, 27360, 27363, 27365, 27366, 27369, 27370, 27372, 27375, 27378, 27380, 27381, 27384, 27385, 27387, 27390, 27393, 27395, 27396, 27399, 27400, 27402, 27405, 27408, 27410, 27411, 27414, 27415, 27417, 27420, 27423, 27425, 27426, 27429, 27430, 27432, 27435, 27438, 27440, 27441, 27444, 27445, 27447, 27450, 27453, 27455, 27456, 27459, 27460, 27462, 27465, 27468, 27470, 27471, 27474, 27475, 27477, 27480, 27483, 27485, 27486, 27489, 27490, 27492, 27495, 27498, 27500, 27501, 27504, 27505, 27507, 27510, 27513, 27515, 27516, 27519, 27520, 27522, 27525, 27528, 27530, 27531, 27534, 27535, 27537, 27540, 27543, 27545, 27546, 27549, 27550, 27552, 27555, 27558, 27560, 27561, 27564, 27565, 27567, 27570, 27573, 27575, 27576, 27579, 27580, 27582, 27585, 27588, 27590, 27591, 27594, 27595, 27597, 27600, 27603, 27605, 27606, 27609, 27610, 27612, 27615, 27618, 27620, 27621, 27624, 27625, 27627, 27630, 27633, 27635, 27636, 27639, 27640, 27642, 27645, 27648, 27650, 27651, 27654, 27655, 27657, 27660, 27663, 27665, 27666, 27669, 27670, 27672, 27675, 27678, 27680, 27681, 27684, 27685, 27687, 27690, 27693, 27695, 27696, 27699, 27700, 27702, 27705, 27708, 27710, 27711, 27714, 27715, 27717, 27720, 27723, 27725, 27726, 27729, 27730, 27732, 27735, 27738, 27740, 27741, 27744, 27745, 27747, 27750, 27753, 27755, 27756, 27759, 27760, 27762, 27765, 27768, 27770, 27771, 27774, 27775, 27777, 27780, 27783, 27785, 27786, 27789, 27790, 27792, 27795, 27798, 27800, 27801, 27804, 27805, 27807, 27810, 27813, 27815, 27816, 27819, 27820, 27822, 27825, 27828, 27830, 27831, 27834, 27835, 27837, 27840, 27843, 27845, 27846, 27849, 27850, 27852, 27855, 27858, 27860, 27861, 27864, 27865, 27867, 27870, 27873, 27875, 27876, 27879, 27880, 27882, 27885, 27888, 27890, 27891, 27894, 27895, 27897, 27900, 27903, 27905, 27906, 27909, 27910, 27912, 27915, 27918, 27920, 27921, 27924, 27925, 27927, 27930, 27933, 27935, 27936, 27939, 27940, 27942, 27945, 27948, 27950, 27951, 27954, 27955, 27957, 27960, 27963, 27965, 27966, 27969, 27970, 27972, 27975, 27978, 27980, 27981, 27984, 27985, 27987, 27990, 27993, 27995, 27996, 27999, 28000, 28002, 28005, 28008, 28010, 28011, 28014, 28015, 28017, 28020, 28023, 28025, 28026, 28029, 28030, 28032, 28035, 28038, 28040, 28041, 28044, 28045, 28047, 28050, 28053, 28055, 28056, 28059, 28060, 28062, 28065, 28068, 28070, 28071, 28074, 28075, 28077, 28080, 28083, 28085, 28086, 28089, 28090, 28092, 28095, 28098, 28100, 28101, 28104, 28105, 28107, 28110, 28113, 28115, 28116, 28119, 28120, 28122, 28125, 28128, 28130, 28131, 28134, 28135, 28137, 28140, 28143, 28145, 28146, 28149, 28150, 28152, 28155, 28158, 28160, 28161, 28164, 28165, 28167, 28170, 28173, 28175, 28176, 28179, 28180, 28182, 28185, 28188, 28190, 28191, 28194, 28195, 28197, 28200, 28203, 28205, 28206, 28209, 28210, 28212, 28215, 28218, 28220, 28221, 28224, 28225, 28227, 28230, 28233, 28235, 28236, 28239, 28240, 28242, 28245, 28248, 28250, 28251, 28254, 28255, 28257, 28260, 28263, 28265, 28266, 28269, 28270, 28272, 28275, 28278, 28280, 28281, 28284, 28285, 28287, 28290, 28293, 28295, 28296, 28299, 28300, 28302, 28305, 28308, 28310, 28311, 28314, 28315, 28317, 28320, 28323, 28325, 28326, 28329, 28330, 28332, 28335, 28338, 28340, 28341, 28344, 28345, 28347, 28350, 28353, 28355, 28356, 28359, 28360, 28362, 28365, 28368, 28370, 28371, 28374, 28375, 28377, 28380, 28383, 28385, 28386, 28389, 28390, 28392, 28395, 28398, 28400, 28401, 28404, 28405, 28407, 28410, 28413, 28415, 28416, 28419, 28420, 28422, 28425, 28428, 28430, 28431, 28434, 28435, 28437, 28440, 28443, 28445, 28446, 28449, 28450, 28452, 28455, 28458, 28460, 28461, 28464, 28465, 28467, 28470, 28473, 28475, 28476, 28479, 28480, 28482, 28485, 28488, 28490, 28491, 28494, 28495, 28497, 28500, 28503, 28505, 28506, 28509, 28510, 28512, 28515, 28518, 28520, 28521, 28524, 28525, 28527, 28530, 28533, 28535, 28536, 28539, 28540, 28542, 28545, 28548, 28550, 28551, 28554, 28555, 28557, 28560, 28563, 28565, 28566, 28569, 28570, 28572, 28575, 28578, 28580, 28581, 28584, 28585, 28587, 28590, 28593, 28595, 28596, 28599, 28600, 28602, 28605, 28608, 28610, 28611, 28614, 28615, 28617, 28620, 28623, 28625, 28626, 28629, 28630, 28632, 28635, 28638, 28640, 28641, 28644, 28645, 28647, 28650, 28653, 28655, 28656, 28659, 28660, 28662, 28665, 28668, 28670, 28671, 28674, 28675, 28677, 28680, 28683, 28685, 28686, 28689, 28690, 28692, 28695, 28698, 28700, 28701, 28704, 28705, 28707, 28710, 28713, 28715, 28716, 28719, 28720, 28722, 28725, 28728, 28730, 28731, 28734, 28735, 28737, 28740, 28743, 28745, 28746, 28749, 28750, 28752, 28755, 28758, 28760, 28761, 28764, 28765, 28767, 28770, 28773, 28775, 28776, 28779, 28780, 28782, 28785, 28788, 28790, 28791, 28794, 28795, 28797, 28800, 28803, 28805, 28806, 28809, 28810, 28812, 28815, 28818, 28820, 28821, 28824, 28825, 28827, 28830, 28833, 28835, 28836, 28839, 28840, 28842, 28845, 28848, 28850, 28851, 28854, 28855, 28857, 28860, 28863, 28865, 28866, 28869, 28870, 28872, 28875, 28878, 28880, 28881, 28884, 28885, 28887, 28890, 28893, 28895, 28896, 28899, 28900, 28902, 28905, 28908, 28910, 28911, 28914, 28915, 28917, 28920, 28923, 28925, 28926, 28929, 28930, 28932, 28935, 28938, 28940, 28941, 28944, 28945, 28947, 28950, 28953, 28955, 28956, 28959, 28960, 28962, 28965, 28968, 28970, 28971, 28974, 28975, 28977, 28980, 28983, 28985, 28986, 28989, 28990, 28992, 28995, 28998, 29000, 29001, 29004, 29005, 29007, 29010, 29013, 29015, 29016, 29019, 29020, 29022, 29025, 29028, 29030, 29031, 29034, 29035, 29037, 29040, 29043, 29045, 29046, 29049, 29050, 29052, 29055, 29058, 29060, 29061, 29064, 29065, 29067, 29070, 29073, 29075, 29076, 29079, 29080, 29082, 29085, 29088, 29090, 29091, 29094, 29095, 29097, 29100, 29103, 29105, 29106, 29109, 29110, 29112, 29115, 29118, 29120, 29121, 29124, 29125, 29127, 29130, 29133, 29135, 29136, 29139, 29140, 29142, 29145, 29148, 29150, 29151, 29154, 29155, 29157, 29160, 29163, 29165, 29166, 29169, 29170, 29172, 29175, 29178, 29180, 29181, 29184, 29185, 29187, 29190, 29193, 29195, 29196, 29199, 29200, 29202, 29205, 29208, 29210, 29211, 29214, 29215, 29217, 29220, 29223, 29225, 29226, 29229, 29230, 29232, 29235, 29238, 29240, 29241, 29244, 29245, 29247, 29250, 29253, 29255, 29256, 29259, 29260, 29262, 29265, 29268, 29270, 29271, 29274, 29275, 29277, 29280, 29283, 29285, 29286, 29289, 29290, 29292, 29295, 29298, 29300, 29301, 29304, 29305, 29307, 29310, 29313, 29315, 29316, 29319, 29320, 29322, 29325, 29328, 29330, 29331, 29334, 29335, 29337, 29340, 29343, 29345, 29346, 29349, 29350, 29352, 29355, 29358, 29360, 29361, 29364, 29365, 29367, 29370, 29373, 29375, 29376, 29379, 29380, 29382, 29385, 29388, 29390, 29391, 29394, 29395, 29397, 29400, 29403, 29405, 29406, 29409, 29410, 29412, 29415, 29418, 29420, 29421, 29424, 29425, 29427, 29430, 29433, 29435, 29436, 29439, 29440, 29442, 29445, 29448, 29450, 29451, 29454, 29455, 29457, 29460, 29463, 29465, 29466, 29469, 29470, 29472, 29475, 29478, 29480, 29481, 29484, 29485, 29487, 29490, 29493, 29495, 29496, 29499, 29500, 29502, 29505, 29508, 29510, 29511, 29514, 29515, 29517, 29520, 29523, 29525, 29526, 29529, 29530, 29532, 29535, 29538, 29540, 29541, 29544, 29545, 29547, 29550, 29553, 29555, 29556, 29559, 29560, 29562, 29565, 29568, 29570, 29571, 29574, 29575, 29577, 29580, 29583, 29585, 29586, 29589, 29590, 29592, 29595, 29598, 29600, 29601, 29604, 29605, 29607, 29610, 29613, 29615, 29616, 29619, 29620, 29622, 29625, 29628, 29630, 29631, 29634, 29635, 29637, 29640, 29643, 29645, 29646, 29649, 29650, 29652, 29655, 29658, 29660, 29661, 29664, 29665, 29667, 29670, 29673, 29675, 29676, 29679, 29680, 29682, 29685, 29688, 29690, 29691, 29694, 29695, 29697, 29700, 29703, 29705, 29706, 29709, 29710, 29712, 29715, 29718, 29720, 29721, 29724, 29725, 29727, 29730, 29733, 29735, 29736, 29739, 29740, 29742, 29745, 29748, 29750, 29751, 29754, 29755, 29757, 29760, 29763, 29765, 29766, 29769, 29770, 29772, 29775, 29778, 29780, 29781, 29784, 29785, 29787, 29790, 29793, 29795, 29796, 29799, 29800, 29802, 29805, 29808, 29810, 29811, 29814, 29815, 29817, 29820, 29823, 29825, 29826, 29829, 29830, 29832, 29835, 29838, 29840, 29841, 29844, 29845, 29847, 29850, 29853, 29855, 29856, 29859, 29860, 29862, 29865, 29868, 29870, 29871, 29874, 29875, 29877, 29880, 29883, 29885, 29886, 29889, 29890, 29892, 29895, 29898, 29900, 29901, 29904, 29905, 29907, 29910, 29913, 29915, 29916, 29919, 29920, 29922, 29925, 29928, 29930, 29931, 29934, 29935, 29937, 29940, 29943, 29945, 29946, 29949, 29950, 29952, 29955, 29958, 29960, 29961, 29964, 29965, 29967, 29970, 29973, 29975, 29976, 29979, 29980, 29982, 29985, 29988, 29990, 29991, 29994, 29995, 29997, 30000, 30003, 30005, 30006, 30009, 30010, 30012, 30015, 30018, 30020, 30021, 30024, 30025, 30027, 30030, 30033, 30035, 30036, 30039, 30040, 30042, 30045, 30048, 30050, 30051, 30054, 30055, 30057, 30060, 30063, 30065, 30066, 30069, 30070, 30072, 30075, 30078, 30080, 30081, 30084, 30085, 30087, 30090, 30093, 30095, 30096, 30099, 30100, 30102, 30105, 30108, 30110, 30111, 30114, 30115, 30117, 30120, 30123, 30125, 30126, 30129, 30130, 30132, 30135, 30138, 30140, 30141, 30144, 30145, 30147, 30150, 30153, 30155, 30156, 30159, 30160, 30162, 30165, 30168, 30170, 30171, 30174, 30175, 30177, 30180, 30183, 30185, 30186, 30189, 30190, 30192, 30195, 30198, 30200, 30201, 30204, 30205, 30207, 30210, 30213, 30215, 30216, 30219, 30220, 30222, 30225, 30228, 30230, 30231, 30234, 30235, 30237, 30240, 30243, 30245, 30246, 30249, 30250, 30252, 30255, 30258, 30260, 30261, 30264, 30265, 30267, 30270, 30273, 30275, 30276, 30279, 30280, 30282, 30285, 30288, 30290, 30291, 30294, 30295, 30297, 30300, 30303, 30305, 30306, 30309, 30310, 30312, 30315, 30318, 30320, 30321, 30324, 30325, 30327, 30330, 30333, 30335, 30336, 30339, 30340, 30342, 30345, 30348, 30350, 30351, 30354, 30355, 30357, 30360, 30363, 30365, 30366, 30369, 30370, 30372, 30375, 30378, 30380, 30381, 30384, 30385, 30387, 30390, 30393, 30395, 30396, 30399, 30400, 30402, 30405, 30408, 30410, 30411, 30414, 30415, 30417, 30420, 30423, 30425, 30426, 30429, 30430, 30432, 30435, 30438, 30440, 30441, 30444, 30445, 30447, 30450, 30453, 30455, 30456, 30459, 30460, 30462, 30465, 30468, 30470, 30471, 30474, 30475, 30477, 30480, 30483, 30485, 30486, 30489, 30490, 30492, 30495, 30498, 30500, 30501, 30504, 30505, 30507, 30510, 30513, 30515, 30516, 30519, 30520, 30522, 30525, 30528, 30530, 30531, 30534, 30535, 30537, 30540, 30543, 30545, 30546, 30549, 30550, 30552, 30555, 30558, 30560, 30561, 30564, 30565, 30567, 30570, 30573, 30575, 30576, 30579, 30580, 30582, 30585, 30588, 30590, 30591, 30594, 30595, 30597, 30600, 30603, 30605, 30606, 30609, 30610, 30612, 30615, 30618, 30620, 30621, 30624, 30625, 30627, 30630, 30633, 30635, 30636, 30639, 30640, 30642, 30645, 30648, 30650, 30651, 30654, 30655, 30657, 30660, 30663, 30665, 30666, 30669, 30670, 30672, 30675, 30678, 30680, 30681, 30684, 30685, 30687, 30690, 30693, 30695, 30696, 30699, 30700, 30702, 30705, 30708, 30710, 30711, 30714, 30715, 30717, 30720, 30723, 30725, 30726, 30729, 30730, 30732, 30735, 30738, 30740, 30741, 30744, 30745, 30747, 30750, 30753, 30755, 30756, 30759, 30760, 30762, 30765, 30768, 30770, 30771, 30774, 30775, 30777, 30780, 30783, 30785, 30786, 30789, 30790, 30792, 30795, 30798, 30800, 30801, 30804, 30805, 30807, 30810, 30813, 30815, 30816, 30819, 30820, 30822, 30825, 30828, 30830, 30831, 30834, 30835, 30837, 30840, 30843, 30845, 30846, 30849, 30850, 30852, 30855, 30858, 30860, 30861, 30864, 30865, 30867, 30870, 30873, 30875, 30876, 30879, 30880, 30882, 30885, 30888, 30890, 30891, 30894, 30895, 30897, 30900, 30903, 30905, 30906, 30909, 30910, 30912, 30915, 30918, 30920, 30921, 30924, 30925, 30927, 30930, 30933, 30935, 30936, 30939, 30940, 30942, 30945, 30948, 30950, 30951, 30954, 30955, 30957, 30960, 30963, 30965, 30966, 30969, 30970, 30972, 30975, 30978, 30980, 30981, 30984, 30985, 30987, 30990, 30993, 30995, 30996, 30999, 31000, 31002, 31005, 31008, 31010, 31011, 31014, 31015, 31017, 31020, 31023, 31025, 31026, 31029, 31030, 31032, 31035, 31038, 31040, 31041, 31044, 31045, 31047, 31050, 31053, 31055, 31056, 31059, 31060, 31062, 31065, 31068, 31070, 31071, 31074, 31075, 31077, 31080, 31083, 31085, 31086, 31089, 31090, 31092, 31095, 31098, 31100, 31101, 31104, 31105, 31107, 31110, 31113, 31115, 31116, 31119, 31120, 31122, 31125, 31128, 31130, 31131, 31134, 31135, 31137, 31140, 31143, 31145, 31146, 31149, 31150, 31152, 31155, 31158, 31160, 31161, 31164, 31165, 31167, 31170, 31173, 31175, 31176, 31179, 31180, 31182, 31185, 31188, 31190, 31191, 31194, 31195, 31197, 31200, 31203, 31205, 31206, 31209, 31210, 31212, 31215, 31218, 31220, 31221, 31224, 31225, 31227, 31230, 31233, 31235, 31236, 31239, 31240, 31242, 31245, 31248, 31250, 31251, 31254, 31255, 31257, 31260, 31263, 31265, 31266, 31269, 31270, 31272, 31275, 31278, 31280, 31281, 31284, 31285, 31287, 31290, 31293, 31295, 31296, 31299, 31300, 31302, 31305, 31308, 31310, 31311, 31314, 31315, 31317, 31320, 31323, 31325, 31326, 31329, 31330, 31332, 31335, 31338, 31340, 31341, 31344, 31345, 31347, 31350, 31353, 31355, 31356, 31359, 31360, 31362, 31365, 31368, 31370, 31371, 31374, 31375, 31377, 31380, 31383, 31385, 31386, 31389, 31390, 31392, 31395, 31398, 31400, 31401, 31404, 31405, 31407, 31410, 31413, 31415, 31416, 31419, 31420, 31422, 31425, 31428, 31430, 31431, 31434, 31435, 31437, 31440, 31443, 31445, 31446, 31449, 31450, 31452, 31455, 31458, 31460, 31461, 31464, 31465, 31467, 31470, 31473, 31475, 31476, 31479, 31480, 31482, 31485, 31488, 31490, 31491, 31494, 31495, 31497, 31500, 31503, 31505, 31506, 31509, 31510, 31512, 31515, 31518, 31520, 31521, 31524, 31525, 31527, 31530, 31533, 31535, 31536, 31539, 31540, 31542, 31545, 31548, 31550, 31551, 31554, 31555, 31557, 31560, 31563, 31565, 31566, 31569, 31570, 31572, 31575, 31578, 31580, 31581, 31584, 31585, 31587, 31590, 31593, 31595, 31596, 31599, 31600, 31602, 31605, 31608, 31610, 31611, 31614, 31615, 31617, 31620, 31623, 31625, 31626, 31629, 31630, 31632, 31635, 31638, 31640, 31641, 31644, 31645, 31647, 31650, 31653, 31655, 31656, 31659, 31660, 31662, 31665, 31668, 31670, 31671, 31674, 31675, 31677, 31680, 31683, 31685, 31686, 31689, 31690, 31692, 31695, 31698, 31700, 31701, 31704, 31705, 31707, 31710, 31713, 31715, 31716, 31719, 31720, 31722, 31725, 31728, 31730, 31731, 31734, 31735, 31737, 31740, 31743, 31745, 31746, 31749, 31750, 31752, 31755, 31758, 31760, 31761, 31764, 31765, 31767, 31770, 31773, 31775, 31776, 31779, 31780, 31782, 31785, 31788, 31790, 31791, 31794, 31795, 31797, 31800, 31803, 31805, 31806, 31809, 31810, 31812, 31815, 31818, 31820, 31821, 31824, 31825, 31827, 31830, 31833, 31835, 31836, 31839, 31840, 31842, 31845, 31848, 31850, 31851, 31854, 31855, 31857, 31860, 31863, 31865, 31866, 31869, 31870, 31872, 31875, 31878, 31880, 31881, 31884, 31885, 31887, 31890, 31893, 31895, 31896, 31899, 31900, 31902, 31905, 31908, 31910, 31911, 31914, 31915, 31917, 31920, 31923, 31925, 31926, 31929, 31930, 31932, 31935, 31938, 31940, 31941, 31944, 31945, 31947, 31950, 31953, 31955, 31956, 31959, 31960, 31962, 31965, 31968, 31970, 31971, 31974, 31975, 31977, 31980, 31983, 31985, 31986, 31989, 31990, 31992, 31995, 31998, 32000, 32001, 32004, 32005, 32007, 32010, 32013, 32015, 32016, 32019, 32020, 32022, 32025, 32028, 32030, 32031, 32034, 32035, 32037, 32040, 32043, 32045, 32046, 32049, 32050, 32052, 32055, 32058, 32060, 32061, 32064, 32065, 32067, 32070, 32073, 32075, 32076, 32079, 32080, 32082, 32085, 32088, 32090, 32091, 32094, 32095, 32097, 32100, 32103, 32105, 32106, 32109, 32110, 32112, 32115, 32118, 32120, 32121, 32124, 32125, 32127, 32130, 32133, 32135, 32136, 32139, 32140, 32142, 32145, 32148, 32150, 32151, 32154, 32155, 32157, 32160, 32163, 32165, 32166, 32169, 32170, 32172, 32175, 32178, 32180, 32181, 32184, 32185, 32187, 32190, 32193, 32195, 32196, 32199, 32200, 32202, 32205, 32208, 32210, 32211, 32214, 32215, 32217, 32220, 32223, 32225, 32226, 32229, 32230, 32232, 32235, 32238, 32240, 32241, 32244, 32245, 32247, 32250, 32253, 32255, 32256, 32259, 32260, 32262, 32265, 32268, 32270, 32271, 32274, 32275, 32277, 32280, 32283, 32285, 32286, 32289, 32290, 32292, 32295, 32298, 32300, 32301, 32304, 32305, 32307, 32310, 32313, 32315, 32316, 32319, 32320, 32322, 32325, 32328, 32330, 32331, 32334, 32335, 32337, 32340, 32343, 32345, 32346, 32349, 32350, 32352, 32355, 32358, 32360, 32361, 32364, 32365, 32367, 32370, 32373, 32375, 32376, 32379, 32380, 32382, 32385, 32388, 32390, 32391, 32394, 32395, 32397, 32400, 32403, 32405, 32406, 32409, 32410, 32412, 32415, 32418, 32420, 32421, 32424, 32425, 32427, 32430, 32433, 32435, 32436, 32439, 32440, 32442, 32445, 32448, 32450, 32451, 32454, 32455, 32457, 32460, 32463, 32465, 32466, 32469, 32470, 32472, 32475, 32478, 32480, 32481, 32484, 32485, 32487, 32490, 32493, 32495, 32496, 32499, 32500, 32502, 32505, 32508, 32510, 32511, 32514, 32515, 32517, 32520, 32523, 32525, 32526, 32529, 32530, 32532, 32535, 32538, 32540, 32541, 32544, 32545, 32547, 32550, 32553, 32555, 32556, 32559, 32560, 32562, 32565, 32568, 32570, 32571, 32574, 32575, 32577, 32580, 32583, 32585, 32586, 32589, 32590, 32592, 32595, 32598, 32600, 32601, 32604, 32605, 32607, 32610, 32613, 32615, 32616, 32619, 32620, 32622, 32625, 32628, 32630, 32631, 32634, 32635, 32637, 32640, 32643, 32645, 32646, 32649, 32650, 32652, 32655, 32658, 32660, 32661, 32664, 32665, 32667, 32670, 32673, 32675, 32676, 32679, 32680, 32682, 32685, 32688, 32690, 32691, 32694, 32695, 32697, 32700, 32703, 32705, 32706, 32709, 32710, 32712, 32715, 32718, 32720, 32721, 32724, 32725, 32727, 32730, 32733, 32735, 32736, 32739, 32740, 32742, 32745, 32748, 32750, 32751, 32754, 32755, 32757, 32760, 32763, 32765, 32766, 32769, 32770, 32772, 32775, 32778, 32780, 32781, 32784, 32785, 32787, 32790, 32793, 32795, 32796, 32799, 32800, 32802, 32805, 32808, 32810, 32811, 32814, 32815, 32817, 32820, 32823, 32825, 32826, 32829, 32830, 32832, 32835, 32838, 32840, 32841, 32844, 32845, 32847, 32850, 32853, 32855, 32856, 32859, 32860, 32862, 32865, 32868, 32870, 32871, 32874, 32875, 32877, 32880, 32883, 32885, 32886, 32889, 32890, 32892, 32895, 32898, 32900, 32901, 32904, 32905, 32907, 32910, 32913, 32915, 32916, 32919, 32920, 32922, 32925, 32928, 32930, 32931, 32934, 32935, 32937, 32940, 32943, 32945, 32946, 32949, 32950, 32952, 32955, 32958, 32960, 32961, 32964, 32965, 32967, 32970, 32973, 32975, 32976, 32979, 32980, 32982, 32985, 32988, 32990, 32991, 32994, 32995, 32997, 33000, 33003, 33005, 33006, 33009, 33010, 33012, 33015, 33018, 33020, 33021, 33024, 33025, 33027, 33030, 33033, 33035, 33036, 33039, 33040, 33042, 33045, 33048, 33050, 33051, 33054, 33055, 33057, 33060, 33063, 33065, 33066, 33069, 33070, 33072, 33075, 33078, 33080, 33081, 33084, 33085, 33087, 33090, 33093, 33095, 33096, 33099, 33100, 33102, 33105, 33108, 33110, 33111, 33114, 33115, 33117, 33120, 33123, 33125, 33126, 33129, 33130, 33132, 33135, 33138, 33140, 33141, 33144, 33145, 33147, 33150, 33153, 33155, 33156, 33159, 33160, 33162, 33165, 33168, 33170, 33171, 33174, 33175, 33177, 33180, 33183, 33185, 33186, 33189, 33190, 33192, 33195, 33198, 33200, 33201, 33204, 33205, 33207, 33210, 33213, 33215, 33216, 33219, 33220, 33222, 33225, 33228, 33230, 33231, 33234, 33235, 33237, 33240, 33243, 33245, 33246, 33249, 33250, 33252, 33255, 33258, 33260, 33261, 33264, 33265, 33267, 33270, 33273, 33275, 33276, 33279, 33280, 33282, 33285, 33288, 33290, 33291, 33294, 33295, 33297, 33300, 33303, 33305, 33306, 33309, 33310, 33312, 33315, 33318, 33320, 33321, 33324, 33325, 33327, 33330, 33333, 33335, 33336, 33339, 33340, 33342, 33345, 33348, 33350, 33351, 33354, 33355, 33357, 33360, 33363, 33365, 33366, 33369, 33370, 33372, 33375, 33378, 33380, 33381, 33384, 33385, 33387, 33390, 33393, 33395, 33396, 33399, 33400, 33402, 33405, 33408, 33410, 33411, 33414, 33415, 33417, 33420, 33423, 33425, 33426, 33429, 33430, 33432, 33435, 33438, 33440, 33441, 33444, 33445, 33447, 33450, 33453, 33455, 33456, 33459, 33460, 33462, 33465, 33468, 33470, 33471, 33474, 33475, 33477, 33480, 33483, 33485, 33486, 33489, 33490, 33492, 33495, 33498, 33500, 33501, 33504, 33505, 33507, 33510, 33513, 33515, 33516, 33519, 33520, 33522, 33525, 33528, 33530, 33531, 33534, 33535, 33537, 33540, 33543, 33545, 33546, 33549, 33550, 33552, 33555, 33558, 33560, 33561, 33564, 33565, 33567, 33570, 33573, 33575, 33576, 33579, 33580, 33582, 33585, 33588, 33590, 33591, 33594, 33595, 33597, 33600, 33603, 33605, 33606, 33609, 33610, 33612, 33615, 33618, 33620, 33621, 33624, 33625, 33627, 33630, 33633, 33635, 33636, 33639, 33640, 33642, 33645, 33648, 33650, 33651, 33654, 33655, 33657, 33660, 33663, 33665, 33666, 33669, 33670, 33672, 33675, 33678, 33680, 33681, 33684, 33685, 33687, 33690, 33693, 33695, 33696, 33699, 33700, 33702, 33705, 33708, 33710, 33711, 33714, 33715, 33717, 33720, 33723, 33725, 33726, 33729, 33730, 33732, 33735, 33738, 33740, 33741, 33744, 33745, 33747, 33750, 33753, 33755, 33756, 33759, 33760, 33762, 33765, 33768, 33770, 33771, 33774, 33775, 33777, 33780, 33783, 33785, 33786, 33789, 33790, 33792, 33795, 33798, 33800, 33801, 33804, 33805, 33807, 33810, 33813, 33815, 33816, 33819, 33820, 33822, 33825, 33828, 33830, 33831, 33834, 33835, 33837, 33840, 33843, 33845, 33846, 33849, 33850, 33852, 33855, 33858, 33860, 33861, 33864, 33865, 33867, 33870, 33873, 33875, 33876, 33879, 33880, 33882, 33885, 33888, 33890, 33891, 33894, 33895, 33897, 33900, 33903, 33905, 33906, 33909, 33910, 33912, 33915, 33918, 33920, 33921, 33924, 33925, 33927, 33930, 33933, 33935, 33936, 33939, 33940, 33942, 33945, 33948, 33950, 33951, 33954, 33955, 33957, 33960, 33963, 33965, 33966, 33969, 33970, 33972, 33975, 33978, 33980, 33981, 33984, 33985, 33987, 33990, 33993, 33995, 33996, 33999, 34000, 34002, 34005, 34008, 34010, 34011, 34014, 34015, 34017, 34020, 34023, 34025, 34026, 34029, 34030, 34032, 34035, 34038, 34040, 34041, 34044, 34045, 34047, 34050, 34053, 34055, 34056, 34059, 34060, 34062, 34065, 34068, 34070, 34071, 34074, 34075, 34077, 34080, 34083, 34085, 34086, 34089, 34090, 34092, 34095, 34098, 34100, 34101, 34104, 34105, 34107, 34110, 34113, 34115, 34116, 34119, 34120, 34122, 34125, 34128, 34130, 34131, 34134, 34135, 34137, 34140, 34143, 34145, 34146, 34149, 34150, 34152, 34155, 34158, 34160, 34161, 34164, 34165, 34167, 34170, 34173, 34175, 34176, 34179, 34180, 34182, 34185, 34188, 34190, 34191, 34194, 34195, 34197, 34200, 34203, 34205, 34206, 34209, 34210, 34212, 34215, 34218, 34220, 34221, 34224, 34225, 34227, 34230, 34233, 34235, 34236, 34239, 34240, 34242, 34245, 34248, 34250, 34251, 34254, 34255, 34257, 34260, 34263, 34265, 34266, 34269, 34270, 34272, 34275, 34278, 34280, 34281, 34284, 34285, 34287, 34290, 34293, 34295, 34296, 34299, 34300, 34302, 34305, 34308, 34310, 34311, 34314, 34315, 34317, 34320, 34323, 34325, 34326, 34329, 34330, 34332, 34335, 34338, 34340, 34341, 34344, 34345, 34347, 34350, 34353, 34355, 34356, 34359, 34360, 34362, 34365, 34368, 34370, 34371, 34374, 34375, 34377, 34380, 34383, 34385, 34386, 34389, 34390, 34392, 34395, 34398, 34400, 34401, 34404, 34405, 34407, 34410, 34413, 34415, 34416, 34419, 34420, 34422, 34425, 34428, 34430, 34431, 34434, 34435, 34437, 34440, 34443, 34445, 34446, 34449, 34450, 34452, 34455, 34458, 34460, 34461, 34464, 34465, 34467, 34470, 34473, 34475, 34476, 34479, 34480, 34482, 34485, 34488, 34490, 34491, 34494, 34495, 34497, 34500, 34503, 34505, 34506, 34509, 34510, 34512, 34515, 34518, 34520, 34521, 34524, 34525, 34527, 34530, 34533, 34535, 34536, 34539, 34540, 34542, 34545, 34548, 34550, 34551, 34554, 34555, 34557, 34560, 34563, 34565, 34566, 34569, 34570, 34572, 34575, 34578, 34580, 34581, 34584, 34585, 34587, 34590, 34593, 34595, 34596, 34599, 34600, 34602, 34605, 34608, 34610, 34611, 34614, 34615, 34617, 34620, 34623, 34625, 34626, 34629, 34630, 34632, 34635, 34638, 34640, 34641, 34644, 34645, 34647, 34650, 34653, 34655, 34656, 34659, 34660, 34662, 34665, 34668, 34670, 34671, 34674, 34675, 34677, 34680, 34683, 34685, 34686, 34689, 34690, 34692, 34695, 34698, 34700, 34701, 34704, 34705, 34707, 34710, 34713, 34715, 34716, 34719, 34720, 34722, 34725, 34728, 34730, 34731, 34734, 34735, 34737, 34740, 34743, 34745, 34746, 34749, 34750, 34752, 34755, 34758, 34760, 34761, 34764, 34765, 34767, 34770, 34773, 34775, 34776, 34779, 34780, 34782, 34785, 34788, 34790, 34791, 34794, 34795, 34797, 34800, 34803, 34805, 34806, 34809, 34810, 34812, 34815, 34818, 34820, 34821, 34824, 34825, 34827, 34830, 34833, 34835, 34836, 34839, 34840, 34842, 34845, 34848, 34850, 34851, 34854, 34855, 34857, 34860, 34863, 34865, 34866, 34869, 34870, 34872, 34875, 34878, 34880, 34881, 34884, 34885, 34887, 34890, 34893, 34895, 34896, 34899, 34900, 34902, 34905, 34908, 34910, 34911, 34914, 34915, 34917, 34920, 34923, 34925, 34926, 34929, 34930, 34932, 34935, 34938, 34940, 34941, 34944, 34945, 34947, 34950, 34953, 34955, 34956, 34959, 34960, 34962, 34965, 34968, 34970, 34971, 34974, 34975, 34977, 34980, 34983, 34985, 34986, 34989, 34990, 34992, 34995, 34998, 35000, 35001, 35004, 35005, 35007, 35010, 35013, 35015, 35016, 35019, 35020, 35022, 35025, 35028, 35030, 35031, 35034, 35035, 35037, 35040, 35043, 35045, 35046, 35049, 35050, 35052, 35055, 35058, 35060, 35061, 35064, 35065, 35067, 35070, 35073, 35075, 35076, 35079, 35080, 35082, 35085, 35088, 35090, 35091, 35094, 35095, 35097, 35100, 35103, 35105, 35106, 35109, 35110, 35112, 35115, 35118, 35120, 35121, 35124, 35125, 35127, 35130, 35133, 35135, 35136, 35139, 35140, 35142, 35145, 35148, 35150, 35151, 35154, 35155, 35157, 35160, 35163, 35165, 35166, 35169, 35170, 35172, 35175, 35178, 35180, 35181, 35184, 35185, 35187, 35190, 35193, 35195, 35196, 35199, 35200, 35202, 35205, 35208, 35210, 35211, 35214, 35215, 35217, 35220, 35223, 35225, 35226, 35229, 35230, 35232, 35235, 35238, 35240, 35241, 35244, 35245, 35247, 35250, 35253, 35255, 35256, 35259, 35260, 35262, 35265, 35268, 35270, 35271, 35274, 35275, 35277, 35280, 35283, 35285, 35286, 35289, 35290, 35292, 35295, 35298, 35300, 35301, 35304, 35305, 35307, 35310, 35313, 35315, 35316, 35319, 35320, 35322, 35325, 35328, 35330, 35331, 35334, 35335, 35337, 35340, 35343, 35345, 35346, 35349, 35350, 35352, 35355, 35358, 35360, 35361, 35364, 35365, 35367, 35370, 35373, 35375, 35376, 35379, 35380, 35382, 35385, 35388, 35390, 35391, 35394, 35395, 35397, 35400, 35403, 35405, 35406, 35409, 35410, 35412, 35415, 35418, 35420, 35421, 35424, 35425, 35427, 35430, 35433, 35435, 35436, 35439, 35440, 35442, 35445, 35448, 35450, 35451, 35454, 35455, 35457, 35460, 35463, 35465, 35466, 35469, 35470, 35472, 35475, 35478, 35480, 35481, 35484, 35485, 35487, 35490, 35493, 35495, 35496, 35499, 35500, 35502, 35505, 35508, 35510, 35511, 35514, 35515, 35517, 35520, 35523, 35525, 35526, 35529, 35530, 35532, 35535, 35538, 35540, 35541, 35544, 35545, 35547, 35550, 35553, 35555, 35556, 35559, 35560, 35562, 35565, 35568, 35570, 35571, 35574, 35575, 35577, 35580, 35583, 35585, 35586, 35589, 35590, 35592, 35595, 35598, 35600, 35601, 35604, 35605, 35607, 35610, 35613, 35615, 35616, 35619, 35620, 35622, 35625, 35628, 35630, 35631, 35634, 35635, 35637, 35640, 35643, 35645, 35646, 35649, 35650, 35652, 35655, 35658, 35660, 35661, 35664, 35665, 35667, 35670, 35673, 35675, 35676, 35679, 35680, 35682, 35685, 35688, 35690, 35691, 35694, 35695, 35697, 35700, 35703, 35705, 35706, 35709, 35710, 35712, 35715, 35718, 35720, 35721, 35724, 35725, 35727, 35730, 35733, 35735, 35736, 35739, 35740, 35742, 35745, 35748, 35750, 35751, 35754, 35755, 35757, 35760, 35763, 35765, 35766, 35769, 35770, 35772, 35775, 35778, 35780, 35781, 35784, 35785, 35787, 35790, 35793, 35795, 35796, 35799, 35800, 35802, 35805, 35808, 35810, 35811, 35814, 35815, 35817, 35820, 35823, 35825, 35826, 35829, 35830, 35832, 35835, 35838, 35840, 35841, 35844, 35845, 35847, 35850, 35853, 35855, 35856, 35859, 35860, 35862, 35865, 35868, 35870, 35871, 35874, 35875, 35877, 35880, 35883, 35885, 35886, 35889, 35890, 35892, 35895, 35898, 35900, 35901, 35904, 35905, 35907, 35910, 35913, 35915, 35916, 35919, 35920, 35922, 35925, 35928, 35930, 35931, 35934, 35935, 35937, 35940, 35943, 35945, 35946, 35949, 35950, 35952, 35955, 35958, 35960, 35961, 35964, 35965, 35967, 35970, 35973, 35975, 35976, 35979, 35980, 35982, 35985, 35988, 35990, 35991, 35994, 35995, 35997, 36000, 36003, 36005, 36006, 36009, 36010, 36012, 36015, 36018, 36020, 36021, 36024, 36025, 36027, 36030, 36033, 36035, 36036, 36039, 36040, 36042, 36045, 36048, 36050, 36051, 36054, 36055, 36057, 36060, 36063, 36065, 36066, 36069, 36070, 36072, 36075, 36078, 36080, 36081, 36084, 36085, 36087, 36090, 36093, 36095, 36096, 36099, 36100, 36102, 36105, 36108, 36110, 36111, 36114, 36115, 36117, 36120, 36123, 36125, 36126, 36129, 36130, 36132, 36135, 36138, 36140, 36141, 36144, 36145, 36147, 36150, 36153, 36155, 36156, 36159, 36160, 36162, 36165, 36168, 36170, 36171, 36174, 36175, 36177, 36180, 36183, 36185, 36186, 36189, 36190, 36192, 36195, 36198, 36200, 36201, 36204, 36205, 36207, 36210, 36213, 36215, 36216, 36219, 36220, 36222, 36225, 36228, 36230, 36231, 36234, 36235, 36237, 36240, 36243, 36245, 36246, 36249, 36250, 36252, 36255, 36258, 36260, 36261, 36264, 36265, 36267, 36270, 36273, 36275, 36276, 36279, 36280, 36282, 36285, 36288, 36290, 36291, 36294, 36295, 36297, 36300, 36303, 36305, 36306, 36309, 36310, 36312, 36315, 36318, 36320, 36321, 36324, 36325, 36327, 36330, 36333, 36335, 36336, 36339, 36340, 36342, 36345, 36348, 36350, 36351, 36354, 36355, 36357, 36360, 36363, 36365, 36366, 36369, 36370, 36372, 36375, 36378, 36380, 36381, 36384, 36385, 36387, 36390, 36393, 36395, 36396, 36399, 36400, 36402, 36405, 36408, 36410, 36411, 36414, 36415, 36417, 36420, 36423, 36425, 36426, 36429, 36430, 36432, 36435, 36438, 36440, 36441, 36444, 36445, 36447, 36450, 36453, 36455, 36456, 36459, 36460, 36462, 36465, 36468, 36470, 36471, 36474, 36475, 36477, 36480, 36483, 36485, 36486, 36489, 36490, 36492, 36495, 36498, 36500, 36501, 36504, 36505, 36507, 36510, 36513, 36515, 36516, 36519, 36520, 36522, 36525, 36528, 36530, 36531, 36534, 36535, 36537, 36540, 36543, 36545, 36546, 36549, 36550, 36552, 36555, 36558, 36560, 36561, 36564, 36565, 36567, 36570, 36573, 36575, 36576, 36579, 36580, 36582, 36585, 36588, 36590, 36591, 36594, 36595, 36597, 36600, 36603, 36605, 36606, 36609, 36610, 36612, 36615, 36618, 36620, 36621, 36624, 36625, 36627, 36630, 36633, 36635, 36636, 36639, 36640, 36642, 36645, 36648, 36650, 36651, 36654, 36655, 36657, 36660, 36663, 36665, 36666, 36669, 36670, 36672, 36675, 36678, 36680, 36681, 36684, 36685, 36687, 36690, 36693, 36695, 36696, 36699, 36700, 36702, 36705, 36708, 36710, 36711, 36714, 36715, 36717, 36720, 36723, 36725, 36726, 36729, 36730, 36732, 36735, 36738, 36740, 36741, 36744, 36745, 36747, 36750, 36753, 36755, 36756, 36759, 36760, 36762, 36765, 36768, 36770, 36771, 36774, 36775, 36777, 36780, 36783, 36785, 36786, 36789, 36790, 36792, 36795, 36798, 36800, 36801, 36804, 36805, 36807, 36810, 36813, 36815, 36816, 36819, 36820, 36822, 36825, 36828, 36830, 36831, 36834, 36835, 36837, 36840, 36843, 36845, 36846, 36849, 36850, 36852, 36855, 36858, 36860, 36861, 36864, 36865, 36867, 36870, 36873, 36875, 36876, 36879, 36880, 36882, 36885, 36888, 36890, 36891, 36894, 36895, 36897, 36900, 36903, 36905, 36906, 36909, 36910, 36912, 36915, 36918, 36920, 36921, 36924, 36925, 36927, 36930, 36933, 36935, 36936, 36939, 36940, 36942, 36945, 36948, 36950, 36951, 36954, 36955, 36957, 36960, 36963, 36965, 36966, 36969, 36970, 36972, 36975, 36978, 36980, 36981, 36984, 36985, 36987, 36990, 36993, 36995, 36996, 36999, 37000, 37002, 37005, 37008, 37010, 37011, 37014, 37015, 37017, 37020, 37023, 37025, 37026, 37029, 37030, 37032, 37035, 37038, 37040, 37041, 37044, 37045, 37047, 37050, 37053, 37055, 37056, 37059, 37060, 37062, 37065, 37068, 37070, 37071, 37074, 37075, 37077, 37080, 37083, 37085, 37086, 37089, 37090, 37092, 37095, 37098, 37100, 37101, 37104, 37105, 37107, 37110, 37113, 37115, 37116, 37119, 37120, 37122, 37125, 37128, 37130, 37131, 37134, 37135, 37137, 37140, 37143, 37145, 37146, 37149, 37150, 37152, 37155, 37158, 37160, 37161, 37164, 37165, 37167, 37170, 37173, 37175, 37176, 37179, 37180, 37182, 37185, 37188, 37190, 37191, 37194, 37195, 37197, 37200, 37203, 37205, 37206, 37209, 37210, 37212, 37215, 37218, 37220, 37221, 37224, 37225, 37227, 37230, 37233, 37235, 37236, 37239, 37240, 37242, 37245, 37248, 37250, 37251, 37254, 37255, 37257, 37260, 37263, 37265, 37266, 37269, 37270, 37272, 37275, 37278, 37280, 37281, 37284, 37285, 37287, 37290, 37293, 37295, 37296, 37299, 37300, 37302, 37305, 37308, 37310, 37311, 37314, 37315, 37317, 37320, 37323, 37325, 37326, 37329, 37330, 37332, 37335, 37338, 37340, 37341, 37344, 37345, 37347, 37350, 37353, 37355, 37356, 37359, 37360, 37362, 37365, 37368, 37370, 37371, 37374, 37375, 37377, 37380, 37383, 37385, 37386, 37389, 37390, 37392, 37395, 37398, 37400, 37401, 37404, 37405, 37407, 37410, 37413, 37415, 37416, 37419, 37420, 37422, 37425, 37428, 37430, 37431, 37434, 37435, 37437, 37440, 37443, 37445, 37446, 37449, 37450, 37452, 37455, 37458, 37460, 37461, 37464, 37465, 37467, 37470, 37473, 37475, 37476, 37479, 37480, 37482, 37485, 37488, 37490, 37491, 37494, 37495, 37497, 37500, 37503, 37505, 37506, 37509, 37510, 37512, 37515, 37518, 37520, 37521, 37524, 37525, 37527, 37530, 37533, 37535, 37536, 37539, 37540, 37542, 37545, 37548, 37550, 37551, 37554, 37555, 37557, 37560, 37563, 37565, 37566, 37569, 37570, 37572, 37575, 37578, 37580, 37581, 37584, 37585, 37587, 37590, 37593, 37595, 37596, 37599, 37600, 37602, 37605, 37608, 37610, 37611, 37614, 37615, 37617, 37620, 37623, 37625, 37626, 37629, 37630, 37632, 37635, 37638, 37640, 37641, 37644, 37645, 37647, 37650, 37653, 37655, 37656, 37659, 37660, 37662, 37665, 37668, 37670, 37671, 37674, 37675, 37677, 37680, 37683, 37685, 37686, 37689, 37690, 37692, 37695, 37698, 37700, 37701, 37704, 37705, 37707, 37710, 37713, 37715, 37716, 37719, 37720, 37722, 37725, 37728, 37730, 37731, 37734, 37735, 37737, 37740, 37743, 37745, 37746, 37749, 37750, 37752, 37755, 37758, 37760, 37761, 37764, 37765, 37767, 37770, 37773, 37775, 37776, 37779, 37780, 37782, 37785, 37788, 37790, 37791, 37794, 37795, 37797, 37800, 37803, 37805, 37806, 37809, 37810, 37812, 37815, 37818, 37820, 37821, 37824, 37825, 37827, 37830, 37833, 37835, 37836, 37839, 37840, 37842, 37845, 37848, 37850, 37851, 37854, 37855, 37857, 37860, 37863, 37865, 37866, 37869, 37870, 37872, 37875, 37878, 37880, 37881, 37884, 37885, 37887, 37890, 37893, 37895, 37896, 37899, 37900, 37902, 37905, 37908, 37910, 37911, 37914, 37915, 37917, 37920, 37923, 37925, 37926, 37929, 37930, 37932, 37935, 37938, 37940, 37941, 37944, 37945, 37947, 37950, 37953, 37955, 37956, 37959, 37960, 37962, 37965, 37968, 37970, 37971, 37974, 37975, 37977, 37980, 37983, 37985, 37986, 37989, 37990, 37992, 37995, 37998, 38000, 38001, 38004, 38005, 38007, 38010, 38013, 38015, 38016, 38019, 38020, 38022, 38025, 38028, 38030, 38031, 38034, 38035, 38037, 38040, 38043, 38045, 38046, 38049, 38050, 38052, 38055, 38058, 38060, 38061, 38064, 38065, 38067, 38070, 38073, 38075, 38076, 38079, 38080, 38082, 38085, 38088, 38090, 38091, 38094, 38095, 38097, 38100, 38103, 38105, 38106, 38109, 38110, 38112, 38115, 38118, 38120, 38121, 38124, 38125, 38127, 38130, 38133, 38135, 38136, 38139, 38140, 38142, 38145, 38148, 38150, 38151, 38154, 38155, 38157, 38160, 38163, 38165, 38166, 38169, 38170, 38172, 38175, 38178, 38180, 38181, 38184, 38185, 38187, 38190, 38193, 38195, 38196, 38199, 38200, 38202, 38205, 38208, 38210, 38211, 38214, 38215, 38217, 38220, 38223, 38225, 38226, 38229, 38230, 38232, 38235, 38238, 38240, 38241, 38244, 38245, 38247, 38250, 38253, 38255, 38256, 38259, 38260, 38262, 38265, 38268, 38270, 38271, 38274, 38275, 38277, 38280, 38283, 38285, 38286, 38289, 38290, 38292, 38295, 38298, 38300, 38301, 38304, 38305, 38307, 38310, 38313, 38315, 38316, 38319, 38320, 38322, 38325, 38328, 38330, 38331, 38334, 38335, 38337, 38340, 38343, 38345, 38346, 38349, 38350, 38352, 38355, 38358, 38360, 38361, 38364, 38365, 38367, 38370, 38373, 38375, 38376, 38379, 38380, 38382, 38385, 38388, 38390, 38391, 38394, 38395, 38397, 38400, 38403, 38405, 38406, 38409, 38410, 38412, 38415, 38418, 38420, 38421, 38424, 38425, 38427, 38430, 38433, 38435, 38436, 38439, 38440, 38442, 38445, 38448, 38450, 38451, 38454, 38455, 38457, 38460, 38463, 38465, 38466, 38469, 38470, 38472, 38475, 38478, 38480, 38481, 38484, 38485, 38487, 38490, 38493, 38495, 38496, 38499, 38500, 38502, 38505, 38508, 38510, 38511, 38514, 38515, 38517, 38520, 38523, 38525, 38526, 38529, 38530, 38532, 38535, 38538, 38540, 38541, 38544, 38545, 38547, 38550, 38553, 38555, 38556, 38559, 38560, 38562, 38565, 38568, 38570, 38571, 38574, 38575, 38577, 38580, 38583, 38585, 38586, 38589, 38590, 38592, 38595, 38598, 38600, 38601, 38604, 38605, 38607, 38610, 38613, 38615, 38616, 38619, 38620, 38622, 38625, 38628, 38630, 38631, 38634, 38635, 38637, 38640, 38643, 38645, 38646, 38649, 38650, 38652, 38655, 38658, 38660, 38661, 38664, 38665, 38667, 38670, 38673, 38675, 38676, 38679, 38680, 38682, 38685, 38688, 38690, 38691, 38694, 38695, 38697, 38700, 38703, 38705, 38706, 38709, 38710, 38712, 38715, 38718, 38720, 38721, 38724, 38725, 38727, 38730, 38733, 38735, 38736, 38739, 38740, 38742, 38745, 38748, 38750, 38751, 38754, 38755, 38757, 38760, 38763, 38765, 38766, 38769, 38770, 38772, 38775, 38778, 38780, 38781, 38784, 38785, 38787, 38790, 38793, 38795, 38796, 38799, 38800, 38802, 38805, 38808, 38810, 38811, 38814, 38815, 38817, 38820, 38823, 38825, 38826, 38829, 38830, 38832, 38835, 38838, 38840, 38841, 38844, 38845, 38847, 38850, 38853, 38855, 38856, 38859, 38860, 38862, 38865, 38868, 38870, 38871, 38874, 38875, 38877, 38880, 38883, 38885, 38886, 38889, 38890, 38892, 38895, 38898, 38900, 38901, 38904, 38905, 38907, 38910, 38913, 38915, 38916, 38919, 38920, 38922, 38925, 38928, 38930, 38931, 38934, 38935, 38937, 38940, 38943, 38945, 38946, 38949, 38950, 38952, 38955, 38958, 38960, 38961, 38964, 38965, 38967, 38970, 38973, 38975, 38976, 38979, 38980, 38982, 38985, 38988, 38990, 38991, 38994, 38995, 38997, 39000, 39003, 39005, 39006, 39009, 39010, 39012, 39015, 39018, 39020, 39021, 39024, 39025, 39027, 39030, 39033, 39035, 39036, 39039, 39040, 39042, 39045, 39048, 39050, 39051, 39054, 39055, 39057, 39060, 39063, 39065, 39066, 39069, 39070, 39072, 39075, 39078, 39080, 39081, 39084, 39085, 39087, 39090, 39093, 39095, 39096, 39099, 39100, 39102, 39105, 39108, 39110, 39111, 39114, 39115, 39117, 39120, 39123, 39125, 39126, 39129, 39130, 39132, 39135, 39138, 39140, 39141, 39144, 39145, 39147, 39150, 39153, 39155, 39156, 39159, 39160, 39162, 39165, 39168, 39170, 39171, 39174, 39175, 39177, 39180, 39183, 39185, 39186, 39189, 39190, 39192, 39195, 39198, 39200, 39201, 39204, 39205, 39207, 39210, 39213, 39215, 39216, 39219, 39220, 39222, 39225, 39228, 39230, 39231, 39234, 39235, 39237, 39240, 39243, 39245, 39246, 39249, 39250, 39252, 39255, 39258, 39260, 39261, 39264, 39265, 39267, 39270, 39273, 39275, 39276, 39279, 39280, 39282, 39285, 39288, 39290, 39291, 39294, 39295, 39297, 39300, 39303, 39305, 39306, 39309, 39310, 39312, 39315, 39318, 39320, 39321, 39324, 39325, 39327, 39330, 39333, 39335, 39336, 39339, 39340, 39342, 39345, 39348, 39350, 39351, 39354, 39355, 39357, 39360, 39363, 39365, 39366, 39369, 39370, 39372, 39375, 39378, 39380, 39381, 39384, 39385, 39387, 39390, 39393, 39395, 39396, 39399, 39400, 39402, 39405, 39408, 39410, 39411, 39414, 39415, 39417, 39420, 39423, 39425, 39426, 39429, 39430, 39432, 39435, 39438, 39440, 39441, 39444, 39445, 39447, 39450, 39453, 39455, 39456, 39459, 39460, 39462, 39465, 39468, 39470, 39471, 39474, 39475, 39477, 39480, 39483, 39485, 39486, 39489, 39490, 39492, 39495, 39498, 39500, 39501, 39504, 39505, 39507, 39510, 39513, 39515, 39516, 39519, 39520, 39522, 39525, 39528, 39530, 39531, 39534, 39535, 39537, 39540, 39543, 39545, 39546, 39549, 39550, 39552, 39555, 39558, 39560, 39561, 39564, 39565, 39567, 39570, 39573, 39575, 39576, 39579, 39580, 39582, 39585, 39588, 39590, 39591, 39594, 39595, 39597, 39600, 39603, 39605, 39606, 39609, 39610, 39612, 39615, 39618, 39620, 39621, 39624, 39625, 39627, 39630, 39633, 39635, 39636, 39639, 39640, 39642, 39645, 39648, 39650, 39651, 39654, 39655, 39657, 39660, 39663, 39665, 39666, 39669, 39670, 39672, 39675, 39678, 39680, 39681, 39684, 39685, 39687, 39690, 39693, 39695, 39696, 39699, 39700, 39702, 39705, 39708, 39710, 39711, 39714, 39715, 39717, 39720, 39723, 39725, 39726, 39729, 39730, 39732, 39735, 39738, 39740, 39741, 39744, 39745, 39747, 39750, 39753, 39755, 39756, 39759, 39760, 39762, 39765, 39768, 39770, 39771, 39774, 39775, 39777, 39780, 39783, 39785, 39786, 39789, 39790, 39792, 39795, 39798, 39800, 39801, 39804, 39805, 39807, 39810, 39813, 39815, 39816, 39819, 39820, 39822, 39825, 39828, 39830, 39831, 39834, 39835, 39837, 39840, 39843, 39845, 39846, 39849, 39850, 39852, 39855, 39858, 39860, 39861, 39864, 39865, 39867, 39870, 39873, 39875, 39876, 39879, 39880, 39882, 39885, 39888, 39890, 39891, 39894, 39895, 39897, 39900, 39903, 39905, 39906, 39909, 39910, 39912, 39915, 39918, 39920, 39921, 39924, 39925, 39927, 39930, 39933, 39935, 39936, 39939, 39940, 39942, 39945, 39948, 39950, 39951, 39954, 39955, 39957, 39960, 39963, 39965, 39966, 39969, 39970, 39972, 39975, 39978, 39980, 39981, 39984, 39985, 39987, 39990, 39993, 39995, 39996, 39999, 40000, 40002, 40005, 40008, 40010, 40011, 40014, 40015, 40017, 40020, 40023, 40025, 40026, 40029, 40030, 40032, 40035, 40038, 40040, 40041, 40044, 40045, 40047, 40050, 40053, 40055, 40056, 40059, 40060, 40062, 40065, 40068, 40070, 40071, 40074, 40075, 40077, 40080, 40083, 40085, 40086, 40089, 40090, 40092, 40095, 40098, 40100, 40101, 40104, 40105, 40107, 40110, 40113, 40115, 40116, 40119, 40120, 40122, 40125, 40128, 40130, 40131, 40134, 40135, 40137, 40140, 40143, 40145, 40146, 40149, 40150, 40152, 40155, 40158, 40160, 40161, 40164, 40165, 40167, 40170, 40173, 40175, 40176, 40179, 40180, 40182, 40185, 40188, 40190, 40191, 40194, 40195, 40197, 40200, 40203, 40205, 40206, 40209, 40210, 40212, 40215, 40218, 40220, 40221, 40224, 40225, 40227, 40230, 40233, 40235, 40236, 40239, 40240, 40242, 40245, 40248, 40250, 40251, 40254, 40255, 40257, 40260, 40263, 40265, 40266, 40269, 40270, 40272, 40275, 40278, 40280, 40281, 40284, 40285, 40287, 40290, 40293, 40295, 40296, 40299, 40300, 40302, 40305, 40308, 40310, 40311, 40314, 40315, 40317, 40320, 40323, 40325, 40326, 40329, 40330, 40332, 40335, 40338, 40340, 40341, 40344, 40345, 40347, 40350, 40353, 40355, 40356, 40359, 40360, 40362, 40365, 40368, 40370, 40371, 40374, 40375, 40377, 40380, 40383, 40385, 40386, 40389, 40390, 40392, 40395, 40398, 40400, 40401, 40404, 40405, 40407, 40410, 40413, 40415, 40416, 40419, 40420, 40422, 40425, 40428, 40430, 40431, 40434, 40435, 40437, 40440, 40443, 40445, 40446, 40449, 40450, 40452, 40455, 40458, 40460, 40461, 40464, 40465, 40467, 40470, 40473, 40475, 40476, 40479, 40480, 40482, 40485, 40488, 40490, 40491, 40494, 40495, 40497, 40500, 40503, 40505, 40506, 40509, 40510, 40512, 40515, 40518, 40520, 40521, 40524, 40525, 40527, 40530, 40533, 40535, 40536, 40539, 40540, 40542, 40545, 40548, 40550, 40551, 40554, 40555, 40557, 40560, 40563, 40565, 40566, 40569, 40570, 40572, 40575, 40578, 40580, 40581, 40584, 40585, 40587, 40590, 40593, 40595, 40596, 40599, 40600, 40602, 40605, 40608, 40610, 40611, 40614, 40615, 40617, 40620, 40623, 40625, 40626, 40629, 40630, 40632, 40635, 40638, 40640, 40641, 40644, 40645, 40647, 40650, 40653, 40655, 40656, 40659, 40660, 40662, 40665, 40668, 40670, 40671, 40674, 40675, 40677, 40680, 40683, 40685, 40686, 40689, 40690, 40692, 40695, 40698, 40700, 40701, 40704, 40705, 40707, 40710, 40713, 40715, 40716, 40719, 40720, 40722, 40725, 40728, 40730, 40731, 40734, 40735, 40737, 40740, 40743, 40745, 40746, 40749, 40750, 40752, 40755, 40758, 40760, 40761, 40764, 40765, 40767, 40770, 40773, 40775, 40776, 40779, 40780, 40782, 40785, 40788, 40790, 40791, 40794, 40795, 40797, 40800, 40803, 40805, 40806, 40809, 40810, 40812, 40815, 40818, 40820, 40821, 40824, 40825, 40827, 40830, 40833, 40835, 40836, 40839, 40840, 40842, 40845, 40848, 40850, 40851, 40854, 40855, 40857, 40860, 40863, 40865, 40866, 40869, 40870, 40872, 40875, 40878, 40880, 40881, 40884, 40885, 40887, 40890, 40893, 40895, 40896, 40899, 40900, 40902, 40905, 40908, 40910, 40911, 40914, 40915, 40917, 40920, 40923, 40925, 40926, 40929, 40930, 40932, 40935, 40938, 40940, 40941, 40944, 40945, 40947, 40950, 40953, 40955, 40956, 40959, 40960, 40962, 40965, 40968, 40970, 40971, 40974, 40975, 40977, 40980, 40983, 40985, 40986, 40989, 40990, 40992, 40995, 40998, 41000, 41001, 41004, 41005, 41007, 41010, 41013, 41015, 41016, 41019, 41020, 41022, 41025, 41028, 41030, 41031, 41034, 41035, 41037, 41040, 41043, 41045, 41046, 41049, 41050, 41052, 41055, 41058, 41060, 41061, 41064, 41065, 41067, 41070, 41073, 41075, 41076, 41079, 41080, 41082, 41085, 41088, 41090, 41091, 41094, 41095, 41097, 41100, 41103, 41105, 41106, 41109, 41110, 41112, 41115, 41118, 41120, 41121, 41124, 41125, 41127, 41130, 41133, 41135, 41136, 41139, 41140, 41142, 41145, 41148, 41150, 41151, 41154, 41155, 41157, 41160, 41163, 41165, 41166, 41169, 41170, 41172, 41175, 41178, 41180, 41181, 41184, 41185, 41187, 41190, 41193, 41195, 41196, 41199, 41200, 41202, 41205, 41208, 41210, 41211, 41214, 41215, 41217, 41220, 41223, 41225, 41226, 41229, 41230, 41232, 41235, 41238, 41240, 41241, 41244, 41245, 41247, 41250, 41253, 41255, 41256, 41259, 41260, 41262, 41265, 41268, 41270, 41271, 41274, 41275, 41277, 41280, 41283, 41285, 41286, 41289, 41290, 41292, 41295, 41298, 41300, 41301, 41304, 41305, 41307, 41310, 41313, 41315, 41316, 41319, 41320, 41322, 41325, 41328, 41330, 41331, 41334, 41335, 41337, 41340, 41343, 41345, 41346, 41349, 41350, 41352, 41355, 41358, 41360, 41361, 41364, 41365, 41367, 41370, 41373, 41375, 41376, 41379, 41380, 41382, 41385, 41388, 41390, 41391, 41394, 41395, 41397, 41400, 41403, 41405, 41406, 41409, 41410, 41412, 41415, 41418, 41420, 41421, 41424, 41425, 41427, 41430, 41433, 41435, 41436, 41439, 41440, 41442, 41445, 41448, 41450, 41451, 41454, 41455, 41457, 41460, 41463, 41465, 41466, 41469, 41470, 41472, 41475, 41478, 41480, 41481, 41484, 41485, 41487, 41490, 41493, 41495, 41496, 41499, 41500, 41502, 41505, 41508, 41510, 41511, 41514, 41515, 41517, 41520, 41523, 41525, 41526, 41529, 41530, 41532, 41535, 41538, 41540, 41541, 41544, 41545, 41547, 41550, 41553, 41555, 41556, 41559, 41560, 41562, 41565, 41568, 41570, 41571, 41574, 41575, 41577, 41580, 41583, 41585, 41586, 41589, 41590, 41592, 41595, 41598, 41600, 41601, 41604, 41605, 41607, 41610, 41613, 41615, 41616, 41619, 41620, 41622, 41625, 41628, 41630, 41631, 41634, 41635, 41637, 41640, 41643, 41645, 41646, 41649, 41650, 41652, 41655, 41658, 41660, 41661, 41664, 41665, 41667, 41670, 41673, 41675, 41676, 41679, 41680, 41682, 41685, 41688, 41690, 41691, 41694, 41695, 41697, 41700, 41703, 41705, 41706, 41709, 41710, 41712, 41715, 41718, 41720, 41721, 41724, 41725, 41727, 41730, 41733, 41735, 41736, 41739, 41740, 41742, 41745, 41748, 41750, 41751, 41754, 41755, 41757, 41760, 41763, 41765, 41766, 41769, 41770, 41772, 41775, 41778, 41780, 41781, 41784, 41785, 41787, 41790, 41793, 41795, 41796, 41799, 41800, 41802, 41805, 41808, 41810, 41811, 41814, 41815, 41817, 41820, 41823, 41825, 41826, 41829, 41830, 41832, 41835, 41838, 41840, 41841, 41844, 41845, 41847, 41850, 41853, 41855, 41856, 41859, 41860, 41862, 41865, 41868, 41870, 41871, 41874, 41875, 41877, 41880, 41883, 41885, 41886, 41889, 41890, 41892, 41895, 41898, 41900, 41901, 41904, 41905, 41907, 41910, 41913, 41915, 41916, 41919, 41920, 41922, 41925, 41928, 41930, 41931, 41934, 41935, 41937, 41940, 41943, 41945, 41946, 41949, 41950, 41952, 41955, 41958, 41960, 41961, 41964, 41965, 41967, 41970, 41973, 41975, 41976, 41979, 41980, 41982, 41985, 41988, 41990, 41991, 41994, 41995, 41997, 42000, 42003, 42005, 42006, 42009, 42010, 42012, 42015, 42018, 42020, 42021, 42024, 42025, 42027, 42030, 42033, 42035, 42036, 42039, 42040, 42042, 42045, 42048, 42050, 42051, 42054, 42055, 42057, 42060, 42063, 42065, 42066, 42069, 42070, 42072, 42075, 42078, 42080, 42081, 42084, 42085, 42087, 42090, 42093, 42095, 42096, 42099, 42100, 42102, 42105, 42108, 42110, 42111, 42114, 42115, 42117, 42120, 42123, 42125, 42126, 42129, 42130, 42132, 42135, 42138, 42140, 42141, 42144, 42145, 42147, 42150, 42153, 42155, 42156, 42159, 42160, 42162, 42165, 42168, 42170, 42171, 42174, 42175, 42177, 42180, 42183, 42185, 42186, 42189, 42190, 42192, 42195, 42198, 42200, 42201, 42204, 42205, 42207, 42210, 42213, 42215, 42216, 42219, 42220, 42222, 42225, 42228, 42230, 42231, 42234, 42235, 42237, 42240, 42243, 42245, 42246, 42249, 42250, 42252, 42255, 42258, 42260, 42261, 42264, 42265, 42267, 42270, 42273, 42275, 42276, 42279, 42280, 42282, 42285, 42288, 42290, 42291, 42294, 42295, 42297, 42300, 42303, 42305, 42306, 42309, 42310, 42312, 42315, 42318, 42320, 42321, 42324, 42325, 42327, 42330, 42333, 42335, 42336, 42339, 42340, 42342, 42345, 42348, 42350, 42351, 42354, 42355, 42357, 42360, 42363, 42365, 42366, 42369, 42370, 42372, 42375, 42378, 42380, 42381, 42384, 42385, 42387, 42390, 42393, 42395, 42396, 42399, 42400, 42402, 42405, 42408, 42410, 42411, 42414, 42415, 42417, 42420, 42423, 42425, 42426, 42429, 42430, 42432, 42435, 42438, 42440, 42441, 42444, 42445, 42447, 42450, 42453, 42455, 42456, 42459, 42460, 42462, 42465, 42468, 42470, 42471, 42474, 42475, 42477, 42480, 42483, 42485, 42486, 42489, 42490, 42492, 42495, 42498, 42500, 42501, 42504, 42505, 42507, 42510, 42513, 42515, 42516, 42519, 42520, 42522, 42525, 42528, 42530, 42531, 42534, 42535, 42537, 42540, 42543, 42545, 42546, 42549, 42550, 42552, 42555, 42558, 42560, 42561, 42564, 42565, 42567, 42570, 42573, 42575, 42576, 42579, 42580, 42582, 42585, 42588, 42590, 42591, 42594, 42595, 42597, 42600, 42603, 42605, 42606, 42609, 42610, 42612, 42615, 42618, 42620, 42621, 42624, 42625, 42627, 42630, 42633, 42635, 42636, 42639, 42640, 42642, 42645, 42648, 42650, 42651, 42654, 42655, 42657, 42660, 42663, 42665, 42666, 42669, 42670, 42672, 42675, 42678, 42680, 42681, 42684, 42685, 42687, 42690, 42693, 42695, 42696, 42699, 42700, 42702, 42705, 42708, 42710, 42711, 42714, 42715, 42717, 42720, 42723, 42725, 42726, 42729, 42730, 42732, 42735, 42738, 42740, 42741, 42744, 42745, 42747, 42750, 42753, 42755, 42756, 42759, 42760, 42762, 42765, 42768, 42770, 42771, 42774, 42775, 42777, 42780, 42783, 42785, 42786, 42789, 42790, 42792, 42795, 42798, 42800, 42801, 42804, 42805, 42807, 42810, 42813, 42815, 42816, 42819, 42820, 42822, 42825, 42828, 42830, 42831, 42834, 42835, 42837, 42840, 42843, 42845, 42846, 42849, 42850, 42852, 42855, 42858, 42860, 42861, 42864, 42865, 42867, 42870, 42873, 42875, 42876, 42879, 42880, 42882, 42885, 42888, 42890, 42891, 42894, 42895, 42897, 42900, 42903, 42905, 42906, 42909, 42910, 42912, 42915, 42918, 42920, 42921, 42924, 42925, 42927, 42930, 42933, 42935, 42936, 42939, 42940, 42942, 42945, 42948, 42950, 42951, 42954, 42955, 42957, 42960, 42963, 42965, 42966, 42969, 42970, 42972, 42975, 42978, 42980, 42981, 42984, 42985, 42987, 42990, 42993, 42995, 42996, 42999, 43000, 43002, 43005, 43008, 43010, 43011, 43014, 43015, 43017, 43020, 43023, 43025, 43026, 43029, 43030, 43032, 43035, 43038, 43040, 43041, 43044, 43045, 43047, 43050, 43053, 43055, 43056, 43059, 43060, 43062, 43065, 43068, 43070, 43071, 43074, 43075, 43077, 43080, 43083, 43085, 43086, 43089, 43090, 43092, 43095, 43098, 43100, 43101, 43104, 43105, 43107, 43110, 43113, 43115, 43116, 43119, 43120, 43122, 43125, 43128, 43130, 43131, 43134, 43135, 43137, 43140, 43143, 43145, 43146, 43149, 43150, 43152, 43155, 43158, 43160, 43161, 43164, 43165, 43167, 43170, 43173, 43175, 43176, 43179, 43180, 43182, 43185, 43188, 43190, 43191, 43194, 43195, 43197, 43200, 43203, 43205, 43206, 43209, 43210, 43212, 43215, 43218, 43220, 43221, 43224, 43225, 43227, 43230, 43233, 43235, 43236, 43239, 43240, 43242, 43245, 43248, 43250, 43251, 43254, 43255, 43257, 43260, 43263, 43265, 43266, 43269, 43270, 43272, 43275, 43278, 43280, 43281, 43284, 43285, 43287, 43290, 43293, 43295, 43296, 43299, 43300, 43302, 43305, 43308, 43310, 43311, 43314, 43315, 43317, 43320, 43323, 43325, 43326, 43329, 43330, 43332, 43335, 43338, 43340, 43341, 43344, 43345, 43347, 43350, 43353, 43355, 43356, 43359, 43360, 43362, 43365, 43368, 43370, 43371, 43374, 43375, 43377, 43380, 43383, 43385, 43386, 43389, 43390, 43392, 43395, 43398, 43400, 43401, 43404, 43405, 43407, 43410, 43413, 43415, 43416, 43419, 43420, 43422, 43425, 43428, 43430, 43431, 43434, 43435, 43437, 43440, 43443, 43445, 43446, 43449, 43450, 43452, 43455, 43458, 43460, 43461, 43464, 43465, 43467, 43470, 43473, 43475, 43476, 43479, 43480, 43482, 43485, 43488, 43490, 43491, 43494, 43495, 43497, 43500, 43503, 43505, 43506, 43509, 43510, 43512, 43515, 43518, 43520, 43521, 43524, 43525, 43527, 43530, 43533, 43535, 43536, 43539, 43540, 43542, 43545, 43548, 43550, 43551, 43554, 43555, 43557, 43560, 43563, 43565, 43566, 43569, 43570, 43572, 43575, 43578, 43580, 43581, 43584, 43585, 43587, 43590, 43593, 43595, 43596, 43599, 43600, 43602, 43605, 43608, 43610, 43611, 43614, 43615, 43617, 43620, 43623, 43625, 43626, 43629, 43630, 43632, 43635, 43638, 43640, 43641, 43644, 43645, 43647, 43650, 43653, 43655, 43656, 43659, 43660, 43662, 43665, 43668, 43670, 43671, 43674, 43675, 43677, 43680, 43683, 43685, 43686, 43689, 43690, 43692, 43695, 43698, 43700, 43701, 43704, 43705, 43707, 43710, 43713, 43715, 43716, 43719, 43720, 43722, 43725, 43728, 43730, 43731, 43734, 43735, 43737, 43740, 43743, 43745, 43746, 43749, 43750, 43752, 43755, 43758, 43760, 43761, 43764, 43765, 43767, 43770, 43773, 43775, 43776, 43779, 43780, 43782, 43785, 43788, 43790, 43791, 43794, 43795, 43797, 43800, 43803, 43805, 43806, 43809, 43810, 43812, 43815, 43818, 43820, 43821, 43824, 43825, 43827, 43830, 43833, 43835, 43836, 43839, 43840, 43842, 43845, 43848, 43850, 43851, 43854, 43855, 43857, 43860, 43863, 43865, 43866, 43869, 43870, 43872, 43875, 43878, 43880, 43881, 43884, 43885, 43887, 43890, 43893, 43895, 43896, 43899, 43900, 43902, 43905, 43908, 43910, 43911, 43914, 43915, 43917, 43920, 43923, 43925, 43926, 43929, 43930, 43932, 43935, 43938, 43940, 43941, 43944, 43945, 43947, 43950, 43953, 43955, 43956, 43959, 43960, 43962, 43965, 43968, 43970, 43971, 43974, 43975, 43977, 43980, 43983, 43985, 43986, 43989, 43990, 43992, 43995, 43998, 44000, 44001, 44004, 44005, 44007, 44010, 44013, 44015, 44016, 44019, 44020, 44022, 44025, 44028, 44030, 44031, 44034, 44035, 44037, 44040, 44043, 44045, 44046, 44049, 44050, 44052, 44055, 44058, 44060, 44061, 44064, 44065, 44067, 44070, 44073, 44075, 44076, 44079, 44080, 44082, 44085, 44088, 44090, 44091, 44094, 44095, 44097, 44100, 44103, 44105, 44106, 44109, 44110, 44112, 44115, 44118, 44120, 44121, 44124, 44125, 44127, 44130, 44133, 44135, 44136, 44139, 44140, 44142, 44145, 44148, 44150, 44151, 44154, 44155, 44157, 44160, 44163, 44165, 44166, 44169, 44170, 44172, 44175, 44178, 44180, 44181, 44184, 44185, 44187, 44190, 44193, 44195, 44196, 44199, 44200, 44202, 44205, 44208, 44210, 44211, 44214, 44215, 44217, 44220, 44223, 44225, 44226, 44229, 44230, 44232, 44235, 44238, 44240, 44241, 44244, 44245, 44247, 44250, 44253, 44255, 44256, 44259, 44260, 44262, 44265, 44268, 44270, 44271, 44274, 44275, 44277, 44280, 44283, 44285, 44286, 44289, 44290, 44292, 44295, 44298, 44300, 44301, 44304, 44305, 44307, 44310, 44313, 44315, 44316, 44319, 44320, 44322, 44325, 44328, 44330, 44331, 44334, 44335, 44337, 44340, 44343, 44345, 44346, 44349, 44350, 44352, 44355, 44358, 44360, 44361, 44364, 44365, 44367, 44370, 44373, 44375, 44376, 44379, 44380, 44382, 44385, 44388, 44390, 44391, 44394, 44395, 44397, 44400, 44403, 44405, 44406, 44409, 44410, 44412, 44415, 44418, 44420, 44421, 44424, 44425, 44427, 44430, 44433, 44435, 44436, 44439, 44440, 44442, 44445, 44448, 44450, 44451, 44454, 44455, 44457, 44460, 44463, 44465, 44466, 44469, 44470, 44472, 44475, 44478, 44480, 44481, 44484, 44485, 44487, 44490, 44493, 44495, 44496, 44499, 44500, 44502, 44505, 44508, 44510, 44511, 44514, 44515, 44517, 44520, 44523, 44525, 44526, 44529, 44530, 44532, 44535, 44538, 44540, 44541, 44544, 44545, 44547, 44550, 44553, 44555, 44556, 44559, 44560, 44562, 44565, 44568, 44570, 44571, 44574, 44575, 44577, 44580, 44583, 44585, 44586, 44589, 44590, 44592, 44595, 44598, 44600, 44601, 44604, 44605, 44607, 44610, 44613, 44615, 44616, 44619, 44620, 44622, 44625, 44628, 44630, 44631, 44634, 44635, 44637, 44640, 44643, 44645, 44646, 44649, 44650, 44652, 44655, 44658, 44660, 44661, 44664, 44665, 44667, 44670, 44673, 44675, 44676, 44679, 44680, 44682, 44685, 44688, 44690, 44691, 44694, 44695, 44697, 44700, 44703, 44705, 44706, 44709, 44710, 44712, 44715, 44718, 44720, 44721, 44724, 44725, 44727, 44730, 44733, 44735, 44736, 44739, 44740, 44742, 44745, 44748, 44750, 44751, 44754, 44755, 44757, 44760, 44763, 44765, 44766, 44769, 44770, 44772, 44775, 44778, 44780, 44781, 44784, 44785, 44787, 44790, 44793, 44795, 44796, 44799, 44800, 44802, 44805, 44808, 44810, 44811, 44814, 44815, 44817, 44820, 44823, 44825, 44826, 44829, 44830, 44832, 44835, 44838, 44840, 44841, 44844, 44845, 44847, 44850, 44853, 44855, 44856, 44859, 44860, 44862, 44865, 44868, 44870, 44871, 44874, 44875, 44877, 44880, 44883, 44885, 44886, 44889, 44890, 44892, 44895, 44898, 44900, 44901, 44904, 44905, 44907, 44910, 44913, 44915, 44916, 44919, 44920, 44922, 44925, 44928, 44930, 44931, 44934, 44935, 44937, 44940, 44943, 44945, 44946, 44949, 44950, 44952, 44955, 44958, 44960, 44961, 44964, 44965, 44967, 44970, 44973, 44975, 44976, 44979, 44980, 44982, 44985, 44988, 44990, 44991, 44994, 44995, 44997, 45000, 45003, 45005, 45006, 45009, 45010, 45012, 45015, 45018, 45020, 45021, 45024, 45025, 45027, 45030, 45033, 45035, 45036, 45039, 45040, 45042, 45045, 45048, 45050, 45051, 45054, 45055, 45057, 45060, 45063, 45065, 45066, 45069, 45070, 45072, 45075, 45078, 45080, 45081, 45084, 45085, 45087, 45090, 45093, 45095, 45096, 45099, 45100, 45102, 45105, 45108, 45110, 45111, 45114, 45115, 45117, 45120, 45123, 45125, 45126, 45129, 45130, 45132, 45135, 45138, 45140, 45141, 45144, 45145, 45147, 45150, 45153, 45155, 45156, 45159, 45160, 45162, 45165, 45168, 45170, 45171, 45174, 45175, 45177, 45180, 45183, 45185, 45186, 45189, 45190, 45192, 45195, 45198, 45200, 45201, 45204, 45205, 45207, 45210, 45213, 45215, 45216, 45219, 45220, 45222, 45225, 45228, 45230, 45231, 45234, 45235, 45237, 45240, 45243, 45245, 45246, 45249, 45250, 45252, 45255, 45258, 45260, 45261, 45264, 45265, 45267, 45270, 45273, 45275, 45276, 45279, 45280, 45282, 45285, 45288, 45290, 45291, 45294, 45295, 45297, 45300, 45303, 45305, 45306, 45309, 45310, 45312, 45315, 45318, 45320, 45321, 45324, 45325, 45327, 45330, 45333, 45335, 45336, 45339, 45340, 45342, 45345, 45348, 45350, 45351, 45354, 45355, 45357, 45360, 45363, 45365, 45366, 45369, 45370, 45372, 45375, 45378, 45380, 45381, 45384, 45385, 45387, 45390, 45393, 45395, 45396, 45399, 45400, 45402, 45405, 45408, 45410, 45411, 45414, 45415, 45417, 45420, 45423, 45425, 45426, 45429, 45430, 45432, 45435, 45438, 45440, 45441, 45444, 45445, 45447, 45450, 45453, 45455, 45456, 45459, 45460, 45462, 45465, 45468, 45470, 45471, 45474, 45475, 45477, 45480, 45483, 45485, 45486, 45489, 45490, 45492, 45495, 45498, 45500, 45501, 45504, 45505, 45507, 45510, 45513, 45515, 45516, 45519, 45520, 45522, 45525, 45528, 45530, 45531, 45534, 45535, 45537, 45540, 45543, 45545, 45546, 45549, 45550, 45552, 45555, 45558, 45560, 45561, 45564, 45565, 45567, 45570, 45573, 45575, 45576, 45579, 45580, 45582, 45585, 45588, 45590, 45591, 45594, 45595, 45597, 45600, 45603, 45605, 45606, 45609, 45610, 45612, 45615, 45618, 45620, 45621, 45624, 45625, 45627, 45630, 45633, 45635, 45636, 45639, 45640, 45642, 45645, 45648, 45650, 45651, 45654, 45655, 45657, 45660, 45663, 45665, 45666, 45669, 45670, 45672, 45675, 45678, 45680, 45681, 45684, 45685, 45687, 45690, 45693, 45695, 45696, 45699, 45700, 45702, 45705, 45708, 45710, 45711, 45714, 45715, 45717, 45720, 45723, 45725, 45726, 45729, 45730, 45732, 45735, 45738, 45740, 45741, 45744, 45745, 45747, 45750, 45753, 45755, 45756, 45759, 45760, 45762, 45765, 45768, 45770, 45771, 45774, 45775, 45777, 45780, 45783, 45785, 45786, 45789, 45790, 45792, 45795, 45798, 45800, 45801, 45804, 45805, 45807, 45810, 45813, 45815, 45816, 45819, 45820, 45822, 45825, 45828, 45830, 45831, 45834, 45835, 45837, 45840, 45843, 45845, 45846, 45849, 45850, 45852, 45855, 45858, 45860, 45861, 45864, 45865, 45867, 45870, 45873, 45875, 45876, 45879, 45880, 45882, 45885, 45888, 45890, 45891, 45894, 45895, 45897, 45900, 45903, 45905, 45906, 45909, 45910, 45912, 45915, 45918, 45920, 45921, 45924, 45925, 45927, 45930, 45933, 45935, 45936, 45939, 45940, 45942, 45945, 45948, 45950, 45951, 45954, 45955, 45957, 45960, 45963, 45965, 45966, 45969, 45970, 45972, 45975, 45978, 45980, 45981, 45984, 45985, 45987, 45990, 45993, 45995, 45996, 45999, 46000, 46002, 46005, 46008, 46010, 46011, 46014, 46015, 46017, 46020, 46023, 46025, 46026, 46029, 46030, 46032, 46035, 46038, 46040, 46041, 46044, 46045, 46047, 46050, 46053, 46055, 46056, 46059, 46060, 46062, 46065, 46068, 46070, 46071, 46074, 46075, 46077, 46080, 46083, 46085, 46086, 46089, 46090, 46092, 46095, 46098, 46100, 46101, 46104, 46105, 46107, 46110, 46113, 46115, 46116, 46119, 46120, 46122, 46125, 46128, 46130, 46131, 46134, 46135, 46137, 46140, 46143, 46145, 46146, 46149, 46150, 46152, 46155, 46158, 46160, 46161, 46164, 46165, 46167, 46170, 46173, 46175, 46176, 46179, 46180, 46182, 46185, 46188, 46190, 46191, 46194, 46195, 46197, 46200, 46203, 46205, 46206, 46209, 46210, 46212, 46215, 46218, 46220, 46221, 46224, 46225, 46227, 46230, 46233, 46235, 46236, 46239, 46240, 46242, 46245, 46248, 46250, 46251, 46254, 46255, 46257, 46260, 46263, 46265, 46266, 46269, 46270, 46272, 46275, 46278, 46280, 46281, 46284, 46285, 46287, 46290, 46293, 46295, 46296, 46299, 46300, 46302, 46305, 46308, 46310, 46311, 46314, 46315, 46317, 46320, 46323, 46325, 46326, 46329, 46330, 46332, 46335, 46338, 46340, 46341, 46344, 46345, 46347, 46350, 46353, 46355, 46356, 46359, 46360, 46362, 46365, 46368, 46370, 46371, 46374, 46375, 46377, 46380, 46383, 46385, 46386, 46389, 46390, 46392, 46395, 46398, 46400, 46401, 46404, 46405, 46407, 46410, 46413, 46415, 46416, 46419, 46420, 46422, 46425, 46428, 46430, 46431, 46434, 46435, 46437, 46440, 46443, 46445, 46446, 46449, 46450, 46452, 46455, 46458, 46460, 46461, 46464, 46465, 46467, 46470, 46473, 46475, 46476, 46479, 46480, 46482, 46485, 46488, 46490, 46491, 46494, 46495, 46497, 46500, 46503, 46505, 46506, 46509, 46510, 46512, 46515, 46518, 46520, 46521, 46524, 46525, 46527, 46530, 46533, 46535, 46536, 46539, 46540, 46542, 46545, 46548, 46550, 46551, 46554, 46555, 46557, 46560, 46563, 46565, 46566, 46569, 46570, 46572, 46575, 46578, 46580, 46581, 46584, 46585, 46587, 46590, 46593, 46595, 46596, 46599, 46600, 46602, 46605, 46608, 46610, 46611, 46614, 46615, 46617, 46620, 46623, 46625, 46626, 46629, 46630, 46632, 46635, 46638, 46640, 46641, 46644, 46645, 46647, 46650, 46653, 46655, 46656, 46659, 46660, 46662, 46665, 46668, 46670, 46671, 46674, 46675, 46677, 46680, 46683, 46685, 46686, 46689, 46690, 46692, 46695, 46698, 46700, 46701, 46704, 46705, 46707, 46710, 46713, 46715, 46716, 46719, 46720, 46722, 46725, 46728, 46730, 46731, 46734, 46735, 46737, 46740, 46743, 46745, 46746, 46749, 46750, 46752, 46755, 46758, 46760, 46761, 46764, 46765, 46767, 46770, 46773, 46775, 46776, 46779, 46780, 46782, 46785, 46788, 46790, 46791, 46794, 46795, 46797, 46800, 46803, 46805, 46806, 46809, 46810, 46812, 46815, 46818, 46820, 46821, 46824, 46825, 46827, 46830, 46833, 46835, 46836, 46839, 46840, 46842, 46845, 46848, 46850, 46851, 46854, 46855, 46857, 46860, 46863, 46865, 46866, 46869, 46870, 46872, 46875, 46878, 46880, 46881, 46884, 46885, 46887, 46890, 46893, 46895, 46896, 46899, 46900, 46902, 46905, 46908, 46910, 46911, 46914, 46915, 46917, 46920, 46923, 46925, 46926, 46929, 46930, 46932, 46935, 46938, 46940, 46941, 46944, 46945, 46947, 46950, 46953, 46955, 46956, 46959, 46960, 46962, 46965, 46968, 46970, 46971, 46974, 46975, 46977, 46980, 46983, 46985, 46986, 46989, 46990, 46992, 46995, 46998, 47000, 47001, 47004, 47005, 47007, 47010, 47013, 47015, 47016, 47019, 47020, 47022, 47025, 47028, 47030, 47031, 47034, 47035, 47037, 47040, 47043, 47045, 47046, 47049, 47050, 47052, 47055, 47058, 47060, 47061, 47064, 47065, 47067, 47070, 47073, 47075, 47076, 47079, 47080, 47082, 47085, 47088, 47090, 47091, 47094, 47095, 47097, 47100, 47103, 47105, 47106, 47109, 47110, 47112, 47115, 47118, 47120, 47121, 47124, 47125, 47127, 47130, 47133, 47135, 47136, 47139, 47140, 47142, 47145, 47148, 47150, 47151, 47154, 47155, 47157, 47160, 47163, 47165, 47166, 47169, 47170, 47172, 47175, 47178, 47180, 47181, 47184, 47185, 47187, 47190, 47193, 47195, 47196, 47199, 47200, 47202, 47205, 47208, 47210, 47211, 47214, 47215, 47217, 47220, 47223, 47225, 47226, 47229, 47230, 47232, 47235, 47238, 47240, 47241, 47244, 47245, 47247, 47250, 47253, 47255, 47256, 47259, 47260, 47262, 47265, 47268, 47270, 47271, 47274, 47275, 47277, 47280, 47283, 47285, 47286, 47289, 47290, 47292, 47295, 47298, 47300, 47301, 47304, 47305, 47307, 47310, 47313, 47315, 47316, 47319, 47320, 47322, 47325, 47328, 47330, 47331, 47334, 47335, 47337, 47340, 47343, 47345, 47346, 47349, 47350, 47352, 47355, 47358, 47360, 47361, 47364, 47365, 47367, 47370, 47373, 47375, 47376, 47379, 47380, 47382, 47385, 47388, 47390, 47391, 47394, 47395, 47397, 47400, 47403, 47405, 47406, 47409, 47410, 47412, 47415, 47418, 47420, 47421, 47424, 47425, 47427, 47430, 47433, 47435, 47436, 47439, 47440, 47442, 47445, 47448, 47450, 47451, 47454, 47455, 47457, 47460, 47463, 47465, 47466, 47469, 47470, 47472, 47475, 47478, 47480, 47481, 47484, 47485, 47487, 47490, 47493, 47495, 47496, 47499, 47500, 47502, 47505, 47508, 47510, 47511, 47514, 47515, 47517, 47520, 47523, 47525, 47526, 47529, 47530, 47532, 47535, 47538, 47540, 47541, 47544, 47545, 47547, 47550, 47553, 47555, 47556, 47559, 47560, 47562, 47565, 47568, 47570, 47571, 47574, 47575, 47577, 47580, 47583, 47585, 47586, 47589, 47590, 47592, 47595, 47598, 47600, 47601, 47604, 47605, 47607, 47610, 47613, 47615, 47616, 47619, 47620, 47622, 47625, 47628, 47630, 47631, 47634, 47635, 47637, 47640, 47643, 47645, 47646, 47649, 47650, 47652, 47655, 47658, 47660, 47661, 47664, 47665, 47667, 47670, 47673, 47675, 47676, 47679, 47680, 47682, 47685, 47688, 47690, 47691, 47694, 47695, 47697, 47700, 47703, 47705, 47706, 47709, 47710, 47712, 47715, 47718, 47720, 47721, 47724, 47725, 47727, 47730, 47733, 47735, 47736, 47739, 47740, 47742, 47745, 47748, 47750, 47751, 47754, 47755, 47757, 47760, 47763, 47765, 47766, 47769, 47770, 47772, 47775, 47778, 47780, 47781, 47784, 47785, 47787, 47790, 47793, 47795, 47796, 47799, 47800, 47802, 47805, 47808, 47810, 47811, 47814, 47815, 47817, 47820, 47823, 47825, 47826, 47829, 47830, 47832, 47835, 47838, 47840, 47841, 47844, 47845, 47847, 47850, 47853, 47855, 47856, 47859, 47860, 47862, 47865, 47868, 47870, 47871, 47874, 47875, 47877, 47880, 47883, 47885, 47886, 47889, 47890, 47892, 47895, 47898, 47900, 47901, 47904, 47905, 47907, 47910, 47913, 47915, 47916, 47919, 47920, 47922, 47925, 47928, 47930, 47931, 47934, 47935, 47937, 47940, 47943, 47945, 47946, 47949, 47950, 47952, 47955, 47958, 47960, 47961, 47964, 47965, 47967, 47970, 47973, 47975, 47976, 47979, 47980, 47982, 47985, 47988, 47990, 47991, 47994, 47995, 47997, 48000, 48003, 48005, 48006, 48009, 48010, 48012, 48015, 48018, 48020, 48021, 48024, 48025, 48027, 48030, 48033, 48035, 48036, 48039, 48040, 48042, 48045, 48048, 48050, 48051, 48054, 48055, 48057, 48060, 48063, 48065, 48066, 48069, 48070, 48072, 48075, 48078, 48080, 48081, 48084, 48085, 48087, 48090, 48093, 48095, 48096, 48099, 48100, 48102, 48105, 48108, 48110, 48111, 48114, 48115, 48117, 48120, 48123, 48125, 48126, 48129, 48130, 48132, 48135, 48138, 48140, 48141, 48144, 48145, 48147, 48150, 48153, 48155, 48156, 48159, 48160, 48162, 48165, 48168, 48170, 48171, 48174, 48175, 48177, 48180, 48183, 48185, 48186, 48189, 48190, 48192, 48195, 48198, 48200, 48201, 48204, 48205, 48207, 48210, 48213, 48215, 48216, 48219, 48220, 48222, 48225, 48228, 48230, 48231, 48234, 48235, 48237, 48240, 48243, 48245, 48246, 48249, 48250, 48252, 48255, 48258, 48260, 48261, 48264, 48265, 48267, 48270, 48273, 48275, 48276, 48279, 48280, 48282, 48285, 48288, 48290, 48291, 48294, 48295, 48297, 48300, 48303, 48305, 48306, 48309, 48310, 48312, 48315, 48318, 48320, 48321, 48324, 48325, 48327, 48330, 48333, 48335, 48336, 48339, 48340, 48342, 48345, 48348, 48350, 48351, 48354, 48355, 48357, 48360, 48363, 48365, 48366, 48369, 48370, 48372, 48375, 48378, 48380, 48381, 48384, 48385, 48387, 48390, 48393, 48395, 48396, 48399, 48400, 48402, 48405, 48408, 48410, 48411, 48414, 48415, 48417, 48420, 48423, 48425, 48426, 48429, 48430, 48432, 48435, 48438, 48440, 48441, 48444, 48445, 48447, 48450, 48453, 48455, 48456, 48459, 48460, 48462, 48465, 48468, 48470, 48471, 48474, 48475, 48477, 48480, 48483, 48485, 48486, 48489, 48490, 48492, 48495, 48498, 48500, 48501, 48504, 48505, 48507, 48510, 48513, 48515, 48516, 48519, 48520, 48522, 48525, 48528, 48530, 48531, 48534, 48535, 48537, 48540, 48543, 48545, 48546, 48549, 48550, 48552, 48555, 48558, 48560, 48561, 48564, 48565, 48567, 48570, 48573, 48575, 48576, 48579, 48580, 48582, 48585, 48588, 48590, 48591, 48594, 48595, 48597, 48600, 48603, 48605, 48606, 48609, 48610, 48612, 48615, 48618, 48620, 48621, 48624, 48625, 48627, 48630, 48633, 48635, 48636, 48639, 48640, 48642, 48645, 48648, 48650, 48651, 48654, 48655, 48657, 48660, 48663, 48665, 48666, 48669, 48670, 48672, 48675, 48678, 48680, 48681, 48684, 48685, 48687, 48690, 48693, 48695, 48696, 48699, 48700, 48702, 48705, 48708, 48710, 48711, 48714, 48715, 48717, 48720, 48723, 48725, 48726, 48729, 48730, 48732, 48735, 48738, 48740, 48741, 48744, 48745, 48747, 48750, 48753, 48755, 48756, 48759, 48760, 48762, 48765, 48768, 48770, 48771, 48774, 48775, 48777, 48780, 48783, 48785, 48786, 48789, 48790, 48792, 48795, 48798, 48800, 48801, 48804, 48805, 48807, 48810, 48813, 48815, 48816, 48819, 48820, 48822, 48825, 48828, 48830, 48831, 48834, 48835, 48837, 48840, 48843, 48845, 48846, 48849, 48850, 48852, 48855, 48858, 48860, 48861, 48864, 48865, 48867, 48870, 48873, 48875, 48876, 48879, 48880, 48882, 48885, 48888, 48890, 48891, 48894, 48895, 48897, 48900, 48903, 48905, 48906, 48909, 48910, 48912, 48915, 48918, 48920, 48921, 48924, 48925, 48927, 48930, 48933, 48935, 48936, 48939, 48940, 48942, 48945, 48948, 48950, 48951, 48954, 48955, 48957, 48960, 48963, 48965, 48966, 48969, 48970, 48972, 48975, 48978, 48980, 48981, 48984, 48985, 48987, 48990, 48993, 48995, 48996, 48999, 49000, 49002, 49005, 49008, 49010, 49011, 49014, 49015, 49017, 49020, 49023, 49025, 49026, 49029, 49030, 49032, 49035, 49038, 49040, 49041, 49044, 49045, 49047, 49050, 49053, 49055, 49056, 49059, 49060, 49062, 49065, 49068, 49070, 49071, 49074, 49075, 49077, 49080, 49083, 49085, 49086, 49089, 49090, 49092, 49095, 49098, 49100, 49101, 49104, 49105, 49107, 49110, 49113, 49115, 49116, 49119, 49120, 49122, 49125, 49128, 49130, 49131, 49134, 49135, 49137, 49140, 49143, 49145, 49146, 49149, 49150, 49152, 49155, 49158, 49160, 49161, 49164, 49165, 49167, 49170, 49173, 49175, 49176, 49179, 49180, 49182, 49185, 49188, 49190, 49191, 49194, 49195, 49197, 49200, 49203, 49205, 49206, 49209, 49210, 49212, 49215, 49218, 49220, 49221, 49224, 49225, 49227, 49230, 49233, 49235, 49236, 49239, 49240, 49242, 49245, 49248, 49250, 49251, 49254, 49255, 49257, 49260, 49263, 49265, 49266, 49269, 49270, 49272, 49275, 49278, 49280, 49281, 49284, 49285, 49287, 49290, 49293, 49295, 49296, 49299, 49300, 49302, 49305, 49308, 49310, 49311, 49314, 49315, 49317, 49320, 49323, 49325, 49326, 49329, 49330, 49332, 49335, 49338, 49340, 49341, 49344, 49345, 49347, 49350, 49353, 49355, 49356, 49359, 49360, 49362, 49365, 49368, 49370, 49371, 49374, 49375, 49377, 49380, 49383, 49385, 49386, 49389, 49390, 49392, 49395, 49398, 49400, 49401, 49404, 49405, 49407, 49410, 49413, 49415, 49416, 49419, 49420, 49422, 49425, 49428, 49430, 49431, 49434, 49435, 49437, 49440, 49443, 49445, 49446, 49449, 49450, 49452, 49455, 49458, 49460, 49461, 49464, 49465, 49467, 49470, 49473, 49475, 49476, 49479, 49480, 49482, 49485, 49488, 49490, 49491, 49494, 49495, 49497, 49500, 49503, 49505, 49506, 49509, 49510, 49512, 49515, 49518, 49520, 49521, 49524, 49525, 49527, 49530, 49533, 49535, 49536, 49539, 49540, 49542, 49545, 49548, 49550, 49551, 49554, 49555, 49557, 49560, 49563, 49565, 49566, 49569, 49570, 49572, 49575, 49578, 49580, 49581, 49584, 49585, 49587, 49590, 49593, 49595, 49596, 49599, 49600, 49602, 49605, 49608, 49610, 49611, 49614, 49615, 49617, 49620, 49623, 49625, 49626, 49629, 49630, 49632, 49635, 49638, 49640, 49641, 49644, 49645, 49647, 49650, 49653, 49655, 49656, 49659, 49660, 49662, 49665, 49668, 49670, 49671, 49674, 49675, 49677, 49680, 49683, 49685, 49686, 49689, 49690, 49692, 49695, 49698, 49700, 49701, 49704, 49705, 49707, 49710, 49713, 49715, 49716, 49719, 49720, 49722, 49725, 49728, 49730, 49731, 49734, 49735, 49737, 49740, 49743, 49745, 49746, 49749, 49750, 49752, 49755, 49758, 49760, 49761, 49764, 49765, 49767, 49770, 49773, 49775, 49776, 49779, 49780, 49782, 49785, 49788, 49790, 49791, 49794, 49795, 49797, 49800, 49803, 49805, 49806, 49809, 49810, 49812, 49815, 49818, 49820, 49821, 49824, 49825, 49827, 49830, 49833, 49835, 49836, 49839, 49840, 49842, 49845, 49848, 49850, 49851, 49854, 49855, 49857, 49860, 49863, 49865, 49866, 49869, 49870, 49872, 49875, 49878, 49880, 49881, 49884, 49885, 49887, 49890, 49893, 49895, 49896, 49899, 49900, 49902, 49905, 49908, 49910, 49911, 49914, 49915, 49917, 49920, 49923, 49925, 49926, 49929, 49930, 49932, 49935, 49938, 49940, 49941, 49944, 49945, 49947, 49950, 49953, 49955, 49956, 49959, 49960, 49962, 49965, 49968, 49970, 49971, 49974, 49975, 49977, 49980, 49983, 49985, 49986, 49989, 49990, 49992, 49995, 49998, 50000, 50001, 50004, 50005, 50007, 50010, 50013, 50015, 50016, 50019, 50020, 50022, 50025, 50028, 50030, 50031, 50034, 50035, 50037, 50040, 50043, 50045, 50046, 50049, 50050, 50052, 50055, 50058, 50060, 50061, 50064, 50065, 50067, 50070, 50073, 50075, 50076, 50079, 50080, 50082, 50085, 50088, 50090, 50091, 50094, 50095, 50097, 50100, 50103, 50105, 50106, 50109, 50110, 50112, 50115, 50118, 50120, 50121, 50124, 50125, 50127, 50130, 50133, 50135, 50136, 50139, 50140, 50142, 50145, 50148, 50150, 50151, 50154, 50155, 50157, 50160, 50163, 50165, 50166, 50169, 50170, 50172, 50175, 50178, 50180, 50181, 50184, 50185, 50187, 50190, 50193, 50195, 50196, 50199, 50200, 50202, 50205, 50208, 50210, 50211, 50214, 50215, 50217, 50220, 50223, 50225, 50226, 50229, 50230, 50232, 50235, 50238, 50240, 50241, 50244, 50245, 50247, 50250, 50253, 50255, 50256, 50259, 50260, 50262, 50265, 50268, 50270, 50271, 50274, 50275, 50277, 50280, 50283, 50285, 50286, 50289, 50290, 50292, 50295, 50298, 50300, 50301, 50304, 50305, 50307, 50310, 50313, 50315, 50316, 50319, 50320, 50322, 50325, 50328, 50330, 50331, 50334, 50335, 50337, 50340, 50343, 50345, 50346, 50349, 50350, 50352, 50355, 50358, 50360, 50361, 50364, 50365, 50367, 50370, 50373, 50375, 50376, 50379, 50380, 50382, 50385, 50388, 50390, 50391, 50394, 50395, 50397, 50400, 50403, 50405, 50406, 50409, 50410, 50412, 50415, 50418, 50420, 50421, 50424, 50425, 50427, 50430, 50433, 50435, 50436, 50439, 50440, 50442, 50445, 50448, 50450, 50451, 50454, 50455, 50457, 50460, 50463, 50465, 50466, 50469, 50470, 50472, 50475, 50478, 50480, 50481, 50484, 50485, 50487, 50490, 50493, 50495, 50496, 50499, 50500, 50502, 50505, 50508, 50510, 50511, 50514, 50515, 50517, 50520, 50523, 50525, 50526, 50529, 50530, 50532, 50535, 50538, 50540, 50541, 50544, 50545, 50547, 50550, 50553, 50555, 50556, 50559, 50560, 50562, 50565, 50568, 50570, 50571, 50574, 50575, 50577, 50580, 50583, 50585, 50586, 50589, 50590, 50592, 50595, 50598, 50600, 50601, 50604, 50605, 50607, 50610, 50613, 50615, 50616, 50619, 50620, 50622, 50625, 50628, 50630, 50631, 50634, 50635, 50637, 50640, 50643, 50645, 50646, 50649, 50650, 50652, 50655, 50658, 50660, 50661, 50664, 50665, 50667, 50670, 50673, 50675, 50676, 50679, 50680, 50682, 50685, 50688, 50690, 50691, 50694, 50695, 50697, 50700, 50703, 50705, 50706, 50709, 50710, 50712, 50715, 50718, 50720, 50721, 50724, 50725, 50727, 50730, 50733, 50735, 50736, 50739, 50740, 50742, 50745, 50748, 50750, 50751, 50754, 50755, 50757, 50760, 50763, 50765, 50766, 50769, 50770, 50772, 50775, 50778, 50780, 50781, 50784, 50785, 50787, 50790, 50793, 50795, 50796, 50799, 50800, 50802, 50805, 50808, 50810, 50811, 50814, 50815, 50817, 50820, 50823, 50825, 50826, 50829, 50830, 50832, 50835, 50838, 50840, 50841, 50844, 50845, 50847, 50850, 50853, 50855, 50856, 50859, 50860, 50862, 50865, 50868, 50870, 50871, 50874, 50875, 50877, 50880, 50883, 50885, 50886, 50889, 50890, 50892, 50895, 50898, 50900, 50901, 50904, 50905, 50907, 50910, 50913, 50915, 50916, 50919, 50920, 50922, 50925, 50928, 50930, 50931, 50934, 50935, 50937, 50940, 50943, 50945, 50946, 50949, 50950, 50952, 50955, 50958, 50960, 50961, 50964, 50965, 50967, 50970, 50973, 50975, 50976, 50979, 50980, 50982, 50985, 50988, 50990, 50991, 50994, 50995, 50997, 51000, 51003, 51005, 51006, 51009, 51010, 51012, 51015, 51018, 51020, 51021, 51024, 51025, 51027, 51030, 51033, 51035, 51036, 51039, 51040, 51042, 51045, 51048, 51050, 51051, 51054, 51055, 51057, 51060, 51063, 51065, 51066, 51069, 51070, 51072, 51075, 51078, 51080, 51081, 51084, 51085, 51087, 51090, 51093, 51095, 51096, 51099, 51100, 51102, 51105, 51108, 51110, 51111, 51114, 51115, 51117, 51120, 51123, 51125, 51126, 51129, 51130, 51132, 51135, 51138, 51140, 51141, 51144, 51145, 51147, 51150, 51153, 51155, 51156, 51159, 51160, 51162, 51165, 51168, 51170, 51171, 51174, 51175, 51177, 51180, 51183, 51185, 51186, 51189, 51190, 51192, 51195, 51198, 51200, 51201, 51204, 51205, 51207, 51210, 51213, 51215, 51216, 51219, 51220, 51222, 51225, 51228, 51230, 51231, 51234, 51235, 51237, 51240, 51243, 51245, 51246, 51249, 51250, 51252, 51255, 51258, 51260, 51261, 51264, 51265, 51267, 51270, 51273, 51275, 51276, 51279, 51280, 51282, 51285, 51288, 51290, 51291, 51294, 51295, 51297, 51300, 51303, 51305, 51306, 51309, 51310, 51312, 51315, 51318, 51320, 51321, 51324, 51325, 51327, 51330, 51333, 51335, 51336, 51339, 51340, 51342, 51345, 51348, 51350, 51351, 51354, 51355, 51357, 51360, 51363, 51365, 51366, 51369, 51370, 51372, 51375, 51378, 51380, 51381, 51384, 51385, 51387, 51390, 51393, 51395, 51396, 51399, 51400, 51402, 51405, 51408, 51410, 51411, 51414, 51415, 51417, 51420, 51423, 51425, 51426, 51429, 51430, 51432, 51435, 51438, 51440, 51441, 51444, 51445, 51447, 51450, 51453, 51455, 51456, 51459, 51460, 51462, 51465, 51468, 51470, 51471, 51474, 51475, 51477, 51480, 51483, 51485, 51486, 51489, 51490, 51492, 51495, 51498, 51500, 51501, 51504, 51505, 51507, 51510, 51513, 51515, 51516, 51519, 51520, 51522, 51525, 51528, 51530, 51531, 51534, 51535, 51537, 51540, 51543, 51545, 51546, 51549, 51550, 51552, 51555, 51558, 51560, 51561, 51564, 51565, 51567, 51570, 51573, 51575, 51576, 51579, 51580, 51582, 51585, 51588, 51590, 51591, 51594, 51595, 51597, 51600, 51603, 51605, 51606, 51609, 51610, 51612, 51615, 51618, 51620, 51621, 51624, 51625, 51627, 51630, 51633, 51635, 51636, 51639, 51640, 51642, 51645, 51648, 51650, 51651, 51654, 51655, 51657, 51660, 51663, 51665, 51666, 51669, 51670, 51672, 51675, 51678, 51680, 51681, 51684, 51685, 51687, 51690, 51693, 51695, 51696, 51699, 51700, 51702, 51705, 51708, 51710, 51711, 51714, 51715, 51717, 51720, 51723, 51725, 51726, 51729, 51730, 51732, 51735, 51738, 51740, 51741, 51744, 51745, 51747, 51750, 51753, 51755, 51756, 51759, 51760, 51762, 51765, 51768, 51770, 51771, 51774, 51775, 51777, 51780, 51783, 51785, 51786, 51789, 51790, 51792, 51795, 51798, 51800, 51801, 51804, 51805, 51807, 51810, 51813, 51815, 51816, 51819, 51820, 51822, 51825, 51828, 51830, 51831, 51834, 51835, 51837, 51840, 51843, 51845, 51846, 51849, 51850, 51852, 51855, 51858, 51860, 51861, 51864, 51865, 51867, 51870, 51873, 51875, 51876, 51879, 51880, 51882, 51885, 51888, 51890, 51891, 51894, 51895, 51897, 51900, 51903, 51905, 51906, 51909, 51910, 51912, 51915, 51918, 51920, 51921, 51924, 51925, 51927, 51930, 51933, 51935, 51936, 51939, 51940, 51942, 51945, 51948, 51950, 51951, 51954, 51955, 51957, 51960, 51963, 51965, 51966, 51969, 51970, 51972, 51975, 51978, 51980, 51981, 51984, 51985, 51987, 51990, 51993, 51995, 51996, 51999, 52000, 52002, 52005, 52008, 52010, 52011, 52014, 52015, 52017, 52020, 52023, 52025, 52026, 52029, 52030, 52032, 52035, 52038, 52040, 52041, 52044, 52045, 52047, 52050, 52053, 52055, 52056, 52059, 52060, 52062, 52065, 52068, 52070, 52071, 52074, 52075, 52077, 52080, 52083, 52085, 52086, 52089, 52090, 52092, 52095, 52098, 52100, 52101, 52104, 52105, 52107, 52110, 52113, 52115, 52116, 52119, 52120, 52122, 52125, 52128, 52130, 52131, 52134, 52135, 52137, 52140, 52143, 52145, 52146, 52149, 52150, 52152, 52155, 52158, 52160, 52161, 52164, 52165, 52167, 52170, 52173, 52175, 52176, 52179, 52180, 52182, 52185, 52188, 52190, 52191, 52194, 52195, 52197, 52200, 52203, 52205, 52206, 52209, 52210, 52212, 52215, 52218, 52220, 52221, 52224, 52225, 52227, 52230, 52233, 52235, 52236, 52239, 52240, 52242, 52245, 52248, 52250, 52251, 52254, 52255, 52257, 52260, 52263, 52265, 52266, 52269, 52270, 52272, 52275, 52278, 52280, 52281, 52284, 52285, 52287, 52290, 52293, 52295, 52296, 52299, 52300, 52302, 52305, 52308, 52310, 52311, 52314, 52315, 52317, 52320, 52323, 52325, 52326, 52329, 52330, 52332, 52335, 52338, 52340, 52341, 52344, 52345, 52347, 52350, 52353, 52355, 52356, 52359, 52360, 52362, 52365, 52368, 52370, 52371, 52374, 52375, 52377, 52380, 52383, 52385, 52386, 52389, 52390, 52392, 52395, 52398, 52400, 52401, 52404, 52405, 52407, 52410, 52413, 52415, 52416, 52419, 52420, 52422, 52425, 52428, 52430, 52431, 52434, 52435, 52437, 52440, 52443, 52445, 52446, 52449, 52450, 52452, 52455, 52458, 52460, 52461, 52464, 52465, 52467, 52470, 52473, 52475, 52476, 52479, 52480, 52482, 52485, 52488, 52490, 52491, 52494, 52495, 52497, 52500, 52503, 52505, 52506, 52509, 52510, 52512, 52515, 52518, 52520, 52521, 52524, 52525, 52527, 52530, 52533, 52535, 52536, 52539, 52540, 52542, 52545, 52548, 52550, 52551, 52554, 52555, 52557, 52560, 52563, 52565, 52566, 52569, 52570, 52572, 52575, 52578, 52580, 52581, 52584, 52585, 52587, 52590, 52593, 52595, 52596, 52599, 52600, 52602, 52605, 52608, 52610, 52611, 52614, 52615, 52617, 52620, 52623, 52625, 52626, 52629, 52630, 52632, 52635, 52638, 52640, 52641, 52644, 52645, 52647, 52650, 52653, 52655, 52656, 52659, 52660, 52662, 52665, 52668, 52670, 52671, 52674, 52675, 52677, 52680, 52683, 52685, 52686, 52689, 52690, 52692, 52695, 52698, 52700, 52701, 52704, 52705, 52707, 52710, 52713, 52715, 52716, 52719, 52720, 52722, 52725, 52728, 52730, 52731, 52734, 52735, 52737, 52740, 52743, 52745, 52746, 52749, 52750, 52752, 52755, 52758, 52760, 52761, 52764, 52765, 52767, 52770, 52773, 52775, 52776, 52779, 52780, 52782, 52785, 52788, 52790, 52791, 52794, 52795, 52797, 52800, 52803, 52805, 52806, 52809, 52810, 52812, 52815, 52818, 52820, 52821, 52824, 52825, 52827, 52830, 52833, 52835, 52836, 52839, 52840, 52842, 52845, 52848, 52850, 52851, 52854, 52855, 52857, 52860, 52863, 52865, 52866, 52869, 52870, 52872, 52875, 52878, 52880, 52881, 52884, 52885, 52887, 52890, 52893, 52895, 52896, 52899, 52900, 52902, 52905, 52908, 52910, 52911, 52914, 52915, 52917, 52920, 52923, 52925, 52926, 52929, 52930, 52932, 52935, 52938, 52940, 52941, 52944, 52945, 52947, 52950, 52953, 52955, 52956, 52959, 52960, 52962, 52965, 52968, 52970, 52971, 52974, 52975, 52977, 52980, 52983, 52985, 52986, 52989, 52990, 52992, 52995, 52998, 53000, 53001, 53004, 53005, 53007, 53010, 53013, 53015, 53016, 53019, 53020, 53022, 53025, 53028, 53030, 53031, 53034, 53035, 53037, 53040, 53043, 53045, 53046, 53049, 53050, 53052, 53055, 53058, 53060, 53061, 53064, 53065, 53067, 53070, 53073, 53075, 53076, 53079, 53080, 53082, 53085, 53088, 53090, 53091, 53094, 53095, 53097, 53100, 53103, 53105, 53106, 53109, 53110, 53112, 53115, 53118, 53120, 53121, 53124, 53125, 53127, 53130, 53133, 53135, 53136, 53139, 53140, 53142, 53145, 53148, 53150, 53151, 53154, 53155, 53157, 53160, 53163, 53165, 53166, 53169, 53170, 53172, 53175, 53178, 53180, 53181, 53184, 53185, 53187, 53190, 53193, 53195, 53196, 53199, 53200, 53202, 53205, 53208, 53210, 53211, 53214, 53215, 53217, 53220, 53223, 53225, 53226, 53229, 53230, 53232, 53235, 53238, 53240, 53241, 53244, 53245, 53247, 53250, 53253, 53255, 53256, 53259, 53260, 53262, 53265, 53268, 53270, 53271, 53274, 53275, 53277, 53280, 53283, 53285, 53286, 53289, 53290, 53292, 53295, 53298, 53300, 53301, 53304, 53305, 53307, 53310, 53313, 53315, 53316, 53319, 53320, 53322, 53325, 53328, 53330, 53331, 53334, 53335, 53337, 53340, 53343, 53345, 53346, 53349, 53350, 53352, 53355, 53358, 53360, 53361, 53364, 53365, 53367, 53370, 53373, 53375, 53376, 53379, 53380, 53382, 53385, 53388, 53390, 53391, 53394, 53395, 53397, 53400, 53403, 53405, 53406, 53409, 53410, 53412, 53415, 53418, 53420, 53421, 53424, 53425, 53427, 53430, 53433, 53435, 53436, 53439, 53440, 53442, 53445, 53448, 53450, 53451, 53454, 53455, 53457, 53460, 53463, 53465, 53466, 53469, 53470, 53472, 53475, 53478, 53480, 53481, 53484, 53485, 53487, 53490, 53493, 53495, 53496, 53499, 53500, 53502, 53505, 53508, 53510, 53511, 53514, 53515, 53517, 53520, 53523, 53525, 53526, 53529, 53530, 53532, 53535, 53538, 53540, 53541, 53544, 53545, 53547, 53550, 53553, 53555, 53556, 53559, 53560, 53562, 53565, 53568, 53570, 53571, 53574, 53575, 53577, 53580, 53583, 53585, 53586, 53589, 53590, 53592, 53595, 53598, 53600, 53601, 53604, 53605, 53607, 53610, 53613, 53615, 53616, 53619, 53620, 53622, 53625, 53628, 53630, 53631, 53634, 53635, 53637, 53640, 53643, 53645, 53646, 53649, 53650, 53652, 53655, 53658, 53660, 53661, 53664, 53665, 53667, 53670, 53673, 53675, 53676, 53679, 53680, 53682, 53685, 53688, 53690, 53691, 53694, 53695, 53697, 53700, 53703, 53705, 53706, 53709, 53710, 53712, 53715, 53718, 53720, 53721, 53724, 53725, 53727, 53730, 53733, 53735, 53736, 53739, 53740, 53742, 53745, 53748, 53750, 53751, 53754, 53755, 53757, 53760, 53763, 53765, 53766, 53769, 53770, 53772, 53775, 53778, 53780, 53781, 53784, 53785, 53787, 53790, 53793, 53795, 53796, 53799, 53800, 53802, 53805, 53808, 53810, 53811, 53814, 53815, 53817, 53820, 53823, 53825, 53826, 53829, 53830, 53832, 53835, 53838, 53840, 53841, 53844, 53845, 53847, 53850, 53853, 53855, 53856, 53859, 53860, 53862, 53865, 53868, 53870, 53871, 53874, 53875, 53877, 53880, 53883, 53885, 53886, 53889, 53890, 53892, 53895, 53898, 53900, 53901, 53904, 53905, 53907, 53910, 53913, 53915, 53916, 53919, 53920, 53922, 53925, 53928, 53930, 53931, 53934, 53935, 53937, 53940, 53943, 53945, 53946, 53949, 53950, 53952, 53955, 53958, 53960, 53961, 53964, 53965, 53967, 53970, 53973, 53975, 53976, 53979, 53980, 53982, 53985, 53988, 53990, 53991, 53994, 53995, 53997, 54000, 54003, 54005, 54006, 54009, 54010, 54012, 54015, 54018, 54020, 54021, 54024, 54025, 54027, 54030, 54033, 54035, 54036, 54039, 54040, 54042, 54045, 54048, 54050, 54051, 54054, 54055, 54057, 54060, 54063, 54065, 54066, 54069, 54070, 54072, 54075, 54078, 54080, 54081, 54084, 54085, 54087, 54090, 54093, 54095, 54096, 54099, 54100, 54102, 54105, 54108, 54110, 54111, 54114, 54115, 54117, 54120, 54123, 54125, 54126, 54129, 54130, 54132, 54135, 54138, 54140, 54141, 54144, 54145, 54147, 54150, 54153, 54155, 54156, 54159, 54160, 54162, 54165, 54168, 54170, 54171, 54174, 54175, 54177, 54180, 54183, 54185, 54186, 54189, 54190, 54192, 54195, 54198, 54200, 54201, 54204, 54205, 54207, 54210, 54213, 54215, 54216, 54219, 54220, 54222, 54225, 54228, 54230, 54231, 54234, 54235, 54237, 54240, 54243, 54245, 54246, 54249, 54250, 54252, 54255, 54258, 54260, 54261, 54264, 54265, 54267, 54270, 54273, 54275, 54276, 54279, 54280, 54282, 54285, 54288, 54290, 54291, 54294, 54295, 54297, 54300, 54303, 54305, 54306, 54309, 54310, 54312, 54315, 54318, 54320, 54321, 54324, 54325, 54327, 54330, 54333, 54335, 54336, 54339, 54340, 54342, 54345, 54348, 54350, 54351, 54354, 54355, 54357, 54360, 54363, 54365, 54366, 54369, 54370, 54372, 54375, 54378, 54380, 54381, 54384, 54385, 54387, 54390, 54393, 54395, 54396, 54399, 54400, 54402, 54405, 54408, 54410, 54411, 54414, 54415, 54417, 54420, 54423, 54425, 54426, 54429, 54430, 54432, 54435, 54438, 54440, 54441, 54444, 54445, 54447, 54450, 54453, 54455, 54456, 54459, 54460, 54462, 54465, 54468, 54470, 54471, 54474, 54475, 54477, 54480, 54483, 54485, 54486, 54489, 54490, 54492, 54495, 54498, 54500, 54501, 54504, 54505, 54507, 54510, 54513, 54515, 54516, 54519, 54520, 54522, 54525, 54528, 54530, 54531, 54534, 54535, 54537, 54540, 54543, 54545, 54546, 54549, 54550, 54552, 54555, 54558, 54560, 54561, 54564, 54565, 54567, 54570, 54573, 54575, 54576, 54579, 54580, 54582, 54585, 54588, 54590, 54591, 54594, 54595, 54597, 54600, 54603, 54605, 54606, 54609, 54610, 54612, 54615, 54618, 54620, 54621, 54624, 54625, 54627, 54630, 54633, 54635, 54636, 54639, 54640, 54642, 54645, 54648, 54650, 54651, 54654, 54655, 54657, 54660, 54663, 54665, 54666, 54669, 54670, 54672, 54675, 54678, 54680, 54681, 54684, 54685, 54687, 54690, 54693, 54695, 54696, 54699, 54700, 54702, 54705, 54708, 54710, 54711, 54714, 54715, 54717, 54720, 54723, 54725, 54726, 54729, 54730, 54732, 54735, 54738, 54740, 54741, 54744, 54745, 54747, 54750, 54753, 54755, 54756, 54759, 54760, 54762, 54765, 54768, 54770, 54771, 54774, 54775, 54777, 54780, 54783, 54785, 54786, 54789, 54790, 54792, 54795, 54798, 54800, 54801, 54804, 54805, 54807, 54810, 54813, 54815, 54816, 54819, 54820, 54822, 54825, 54828, 54830, 54831, 54834, 54835, 54837, 54840, 54843, 54845, 54846, 54849, 54850, 54852, 54855, 54858, 54860, 54861, 54864, 54865, 54867, 54870, 54873, 54875, 54876, 54879, 54880, 54882, 54885, 54888, 54890, 54891, 54894, 54895, 54897, 54900, 54903, 54905, 54906, 54909, 54910, 54912, 54915, 54918, 54920, 54921, 54924, 54925, 54927, 54930, 54933, 54935, 54936, 54939, 54940, 54942, 54945, 54948, 54950, 54951, 54954, 54955, 54957, 54960, 54963, 54965, 54966, 54969, 54970, 54972, 54975, 54978, 54980, 54981, 54984, 54985, 54987, 54990, 54993, 54995, 54996, 54999, 55000, 55002, 55005, 55008, 55010, 55011, 55014, 55015, 55017, 55020, 55023, 55025, 55026, 55029, 55030, 55032, 55035, 55038, 55040, 55041, 55044, 55045, 55047, 55050, 55053, 55055, 55056, 55059, 55060, 55062, 55065, 55068, 55070, 55071, 55074, 55075, 55077, 55080, 55083, 55085, 55086, 55089, 55090, 55092, 55095, 55098, 55100, 55101, 55104, 55105, 55107, 55110, 55113, 55115, 55116, 55119, 55120, 55122, 55125, 55128, 55130, 55131, 55134, 55135, 55137, 55140, 55143, 55145, 55146, 55149, 55150, 55152, 55155, 55158, 55160, 55161, 55164, 55165, 55167, 55170, 55173, 55175, 55176, 55179, 55180, 55182, 55185, 55188, 55190, 55191, 55194, 55195, 55197, 55200, 55203, 55205, 55206, 55209, 55210, 55212, 55215, 55218, 55220, 55221, 55224, 55225, 55227, 55230, 55233, 55235, 55236, 55239, 55240, 55242, 55245, 55248, 55250, 55251, 55254, 55255, 55257, 55260, 55263, 55265, 55266, 55269, 55270, 55272, 55275, 55278, 55280, 55281, 55284, 55285, 55287, 55290, 55293, 55295, 55296, 55299, 55300, 55302, 55305, 55308, 55310, 55311, 55314, 55315, 55317, 55320, 55323, 55325, 55326, 55329, 55330, 55332, 55335, 55338, 55340, 55341, 55344, 55345, 55347, 55350, 55353, 55355, 55356, 55359, 55360, 55362, 55365, 55368, 55370, 55371, 55374, 55375, 55377, 55380, 55383, 55385, 55386, 55389, 55390, 55392, 55395, 55398, 55400, 55401, 55404, 55405, 55407, 55410, 55413, 55415, 55416, 55419, 55420, 55422, 55425, 55428, 55430, 55431, 55434, 55435, 55437, 55440, 55443, 55445, 55446, 55449, 55450, 55452, 55455, 55458, 55460, 55461, 55464, 55465, 55467, 55470, 55473, 55475, 55476, 55479, 55480, 55482, 55485, 55488, 55490, 55491, 55494, 55495, 55497, 55500, 55503, 55505, 55506, 55509, 55510, 55512, 55515, 55518, 55520, 55521, 55524, 55525, 55527, 55530, 55533, 55535, 55536, 55539, 55540, 55542, 55545, 55548, 55550, 55551, 55554, 55555, 55557, 55560, 55563, 55565, 55566, 55569, 55570, 55572, 55575, 55578, 55580, 55581, 55584, 55585, 55587, 55590, 55593, 55595, 55596, 55599, 55600, 55602, 55605, 55608, 55610, 55611, 55614, 55615, 55617, 55620, 55623, 55625, 55626, 55629, 55630, 55632, 55635, 55638, 55640, 55641, 55644, 55645, 55647, 55650, 55653, 55655, 55656, 55659, 55660, 55662, 55665, 55668, 55670, 55671, 55674, 55675, 55677, 55680, 55683, 55685, 55686, 55689, 55690, 55692, 55695, 55698, 55700, 55701, 55704, 55705, 55707, 55710, 55713, 55715, 55716, 55719, 55720, 55722, 55725, 55728, 55730, 55731, 55734, 55735, 55737, 55740, 55743, 55745, 55746, 55749, 55750, 55752, 55755, 55758, 55760, 55761, 55764, 55765, 55767, 55770, 55773, 55775, 55776, 55779, 55780, 55782, 55785, 55788, 55790, 55791, 55794, 55795, 55797, 55800, 55803, 55805, 55806, 55809, 55810, 55812, 55815, 55818, 55820, 55821, 55824, 55825, 55827, 55830, 55833, 55835, 55836, 55839, 55840, 55842, 55845, 55848, 55850, 55851, 55854, 55855, 55857, 55860, 55863, 55865, 55866, 55869, 55870, 55872, 55875, 55878, 55880, 55881, 55884, 55885, 55887, 55890, 55893, 55895, 55896, 55899, 55900, 55902, 55905, 55908, 55910, 55911, 55914, 55915, 55917, 55920, 55923, 55925, 55926, 55929, 55930, 55932, 55935, 55938, 55940, 55941, 55944, 55945, 55947, 55950, 55953, 55955, 55956, 55959, 55960, 55962, 55965, 55968, 55970, 55971, 55974, 55975, 55977, 55980, 55983, 55985, 55986, 55989, 55990, 55992, 55995, 55998, 56000, 56001, 56004, 56005, 56007, 56010, 56013, 56015, 56016, 56019, 56020, 56022, 56025, 56028, 56030, 56031, 56034, 56035, 56037, 56040, 56043, 56045, 56046, 56049, 56050, 56052, 56055, 56058, 56060, 56061, 56064, 56065, 56067, 56070, 56073, 56075, 56076, 56079, 56080, 56082, 56085, 56088, 56090, 56091, 56094, 56095, 56097, 56100, 56103, 56105, 56106, 56109, 56110, 56112, 56115, 56118, 56120, 56121, 56124, 56125, 56127, 56130, 56133, 56135, 56136, 56139, 56140, 56142, 56145, 56148, 56150, 56151, 56154, 56155, 56157, 56160, 56163, 56165, 56166, 56169, 56170, 56172, 56175, 56178, 56180, 56181, 56184, 56185, 56187, 56190, 56193, 56195, 56196, 56199, 56200, 56202, 56205, 56208, 56210, 56211, 56214, 56215, 56217, 56220, 56223, 56225, 56226, 56229, 56230, 56232, 56235, 56238, 56240, 56241, 56244, 56245, 56247, 56250, 56253, 56255, 56256, 56259, 56260, 56262, 56265, 56268, 56270, 56271, 56274, 56275, 56277, 56280, 56283, 56285, 56286, 56289, 56290, 56292, 56295, 56298, 56300, 56301, 56304, 56305, 56307, 56310, 56313, 56315, 56316, 56319, 56320, 56322, 56325, 56328, 56330, 56331, 56334, 56335, 56337, 56340, 56343, 56345, 56346, 56349, 56350, 56352, 56355, 56358, 56360, 56361, 56364, 56365, 56367, 56370, 56373, 56375, 56376, 56379, 56380, 56382, 56385, 56388, 56390, 56391, 56394, 56395, 56397, 56400, 56403, 56405, 56406, 56409, 56410, 56412, 56415, 56418, 56420, 56421, 56424, 56425, 56427, 56430, 56433, 56435, 56436, 56439, 56440, 56442, 56445, 56448, 56450, 56451, 56454, 56455, 56457, 56460, 56463, 56465, 56466, 56469, 56470, 56472, 56475, 56478, 56480, 56481, 56484, 56485, 56487, 56490, 56493, 56495, 56496, 56499, 56500, 56502, 56505, 56508, 56510, 56511, 56514, 56515, 56517, 56520, 56523, 56525, 56526, 56529, 56530, 56532, 56535, 56538, 56540, 56541, 56544, 56545, 56547, 56550, 56553, 56555, 56556, 56559, 56560, 56562, 56565, 56568, 56570, 56571, 56574, 56575, 56577, 56580, 56583, 56585, 56586, 56589, 56590, 56592, 56595, 56598, 56600, 56601, 56604, 56605, 56607, 56610, 56613, 56615, 56616, 56619, 56620, 56622, 56625, 56628, 56630, 56631, 56634, 56635, 56637, 56640, 56643, 56645, 56646, 56649, 56650, 56652, 56655, 56658, 56660, 56661, 56664, 56665, 56667, 56670, 56673, 56675, 56676, 56679, 56680, 56682, 56685, 56688, 56690, 56691, 56694, 56695, 56697, 56700, 56703, 56705, 56706, 56709, 56710, 56712, 56715, 56718, 56720, 56721, 56724, 56725, 56727, 56730, 56733, 56735, 56736, 56739, 56740, 56742, 56745, 56748, 56750, 56751, 56754, 56755, 56757, 56760, 56763, 56765, 56766, 56769, 56770, 56772, 56775, 56778, 56780, 56781, 56784, 56785, 56787, 56790, 56793, 56795, 56796, 56799, 56800, 56802, 56805, 56808, 56810, 56811, 56814, 56815, 56817, 56820, 56823, 56825, 56826, 56829, 56830, 56832, 56835, 56838, 56840, 56841, 56844, 56845, 56847, 56850, 56853, 56855, 56856, 56859, 56860, 56862, 56865, 56868, 56870, 56871, 56874, 56875, 56877, 56880, 56883, 56885, 56886, 56889, 56890, 56892, 56895, 56898, 56900, 56901, 56904, 56905, 56907, 56910, 56913, 56915, 56916, 56919, 56920, 56922, 56925, 56928, 56930, 56931, 56934, 56935, 56937, 56940, 56943, 56945, 56946, 56949, 56950, 56952, 56955, 56958, 56960, 56961, 56964, 56965, 56967, 56970, 56973, 56975, 56976, 56979, 56980, 56982, 56985, 56988, 56990, 56991, 56994, 56995, 56997, 57000, 57003, 57005, 57006, 57009, 57010, 57012, 57015, 57018, 57020, 57021, 57024, 57025, 57027, 57030, 57033, 57035, 57036, 57039, 57040, 57042, 57045, 57048, 57050, 57051, 57054, 57055, 57057, 57060, 57063, 57065, 57066, 57069, 57070, 57072, 57075, 57078, 57080, 57081, 57084, 57085, 57087, 57090, 57093, 57095, 57096, 57099, 57100, 57102, 57105, 57108, 57110, 57111, 57114, 57115, 57117, 57120, 57123, 57125, 57126, 57129, 57130, 57132, 57135, 57138, 57140, 57141, 57144, 57145, 57147, 57150, 57153, 57155, 57156, 57159, 57160, 57162, 57165, 57168, 57170, 57171, 57174, 57175, 57177, 57180, 57183, 57185, 57186, 57189, 57190, 57192, 57195, 57198, 57200, 57201, 57204, 57205, 57207, 57210, 57213, 57215, 57216, 57219, 57220, 57222, 57225, 57228, 57230, 57231, 57234, 57235, 57237, 57240, 57243, 57245, 57246, 57249, 57250, 57252, 57255, 57258, 57260, 57261, 57264, 57265, 57267, 57270, 57273, 57275, 57276, 57279, 57280, 57282, 57285, 57288, 57290, 57291, 57294, 57295, 57297, 57300, 57303, 57305, 57306, 57309, 57310, 57312, 57315, 57318, 57320, 57321, 57324, 57325, 57327, 57330, 57333, 57335, 57336, 57339, 57340, 57342, 57345, 57348, 57350, 57351, 57354, 57355, 57357, 57360, 57363, 57365, 57366, 57369, 57370, 57372, 57375, 57378, 57380, 57381, 57384, 57385, 57387, 57390, 57393, 57395, 57396, 57399, 57400, 57402, 57405, 57408, 57410, 57411, 57414, 57415, 57417, 57420, 57423, 57425, 57426, 57429, 57430, 57432, 57435, 57438, 57440, 57441, 57444, 57445, 57447, 57450, 57453, 57455, 57456, 57459, 57460, 57462, 57465, 57468, 57470, 57471, 57474, 57475, 57477, 57480, 57483, 57485, 57486, 57489, 57490, 57492, 57495, 57498, 57500, 57501, 57504, 57505, 57507, 57510, 57513, 57515, 57516, 57519, 57520, 57522, 57525, 57528, 57530, 57531, 57534, 57535, 57537, 57540, 57543, 57545, 57546, 57549, 57550, 57552, 57555, 57558, 57560, 57561, 57564, 57565, 57567, 57570, 57573, 57575, 57576, 57579, 57580, 57582, 57585, 57588, 57590, 57591, 57594, 57595, 57597, 57600, 57603, 57605, 57606, 57609, 57610, 57612, 57615, 57618, 57620, 57621, 57624, 57625, 57627, 57630, 57633, 57635, 57636, 57639, 57640, 57642, 57645, 57648, 57650, 57651, 57654, 57655, 57657, 57660, 57663, 57665, 57666, 57669, 57670, 57672, 57675, 57678, 57680, 57681, 57684, 57685, 57687, 57690, 57693, 57695, 57696, 57699, 57700, 57702, 57705, 57708, 57710, 57711, 57714, 57715, 57717, 57720, 57723, 57725, 57726, 57729, 57730, 57732, 57735, 57738, 57740, 57741, 57744, 57745, 57747, 57750, 57753, 57755, 57756, 57759, 57760, 57762, 57765, 57768, 57770, 57771, 57774, 57775, 57777, 57780, 57783, 57785, 57786, 57789, 57790, 57792, 57795, 57798, 57800, 57801, 57804, 57805, 57807, 57810, 57813, 57815, 57816, 57819, 57820, 57822, 57825, 57828, 57830, 57831, 57834, 57835, 57837, 57840, 57843, 57845, 57846, 57849, 57850, 57852, 57855, 57858, 57860, 57861, 57864, 57865, 57867, 57870, 57873, 57875, 57876, 57879, 57880, 57882, 57885, 57888, 57890, 57891, 57894, 57895, 57897, 57900, 57903, 57905, 57906, 57909, 57910, 57912, 57915, 57918, 57920, 57921, 57924, 57925, 57927, 57930, 57933, 57935, 57936, 57939, 57940, 57942, 57945, 57948, 57950, 57951, 57954, 57955, 57957, 57960, 57963, 57965, 57966, 57969, 57970, 57972, 57975, 57978, 57980, 57981, 57984, 57985, 57987, 57990, 57993, 57995, 57996, 57999, 58000, 58002, 58005, 58008, 58010, 58011, 58014, 58015, 58017, 58020, 58023, 58025, 58026, 58029, 58030, 58032, 58035, 58038, 58040, 58041, 58044, 58045, 58047, 58050, 58053, 58055, 58056, 58059, 58060, 58062, 58065, 58068, 58070, 58071, 58074, 58075, 58077, 58080, 58083, 58085, 58086, 58089, 58090, 58092, 58095, 58098, 58100, 58101, 58104, 58105, 58107, 58110, 58113, 58115, 58116, 58119, 58120, 58122, 58125, 58128, 58130, 58131, 58134, 58135, 58137, 58140, 58143, 58145, 58146, 58149, 58150, 58152, 58155, 58158, 58160, 58161, 58164, 58165, 58167, 58170, 58173, 58175, 58176, 58179, 58180, 58182, 58185, 58188, 58190, 58191, 58194, 58195, 58197, 58200, 58203, 58205, 58206, 58209, 58210, 58212, 58215, 58218, 58220, 58221, 58224, 58225, 58227, 58230, 58233, 58235, 58236, 58239, 58240, 58242, 58245, 58248, 58250, 58251, 58254, 58255, 58257, 58260, 58263, 58265, 58266, 58269, 58270, 58272, 58275, 58278, 58280, 58281, 58284, 58285, 58287, 58290, 58293, 58295, 58296, 58299, 58300, 58302, 58305, 58308, 58310, 58311, 58314, 58315, 58317, 58320, 58323, 58325, 58326, 58329, 58330, 58332, 58335, 58338, 58340, 58341, 58344, 58345, 58347, 58350, 58353, 58355, 58356, 58359, 58360, 58362, 58365, 58368, 58370, 58371, 58374, 58375, 58377, 58380, 58383, 58385, 58386, 58389, 58390, 58392, 58395, 58398, 58400, 58401, 58404, 58405, 58407, 58410, 58413, 58415, 58416, 58419, 58420, 58422, 58425, 58428, 58430, 58431, 58434, 58435, 58437, 58440, 58443, 58445, 58446, 58449, 58450, 58452, 58455, 58458, 58460, 58461, 58464, 58465, 58467, 58470, 58473, 58475, 58476, 58479, 58480, 58482, 58485, 58488, 58490, 58491, 58494, 58495, 58497, 58500, 58503, 58505, 58506, 58509, 58510, 58512, 58515, 58518, 58520, 58521, 58524, 58525, 58527, 58530, 58533, 58535, 58536, 58539, 58540, 58542, 58545, 58548, 58550, 58551, 58554, 58555, 58557, 58560, 58563, 58565, 58566, 58569, 58570, 58572, 58575, 58578, 58580, 58581, 58584, 58585, 58587, 58590, 58593, 58595, 58596, 58599, 58600, 58602, 58605, 58608, 58610, 58611, 58614, 58615, 58617, 58620, 58623, 58625, 58626, 58629, 58630, 58632, 58635, 58638, 58640, 58641, 58644, 58645, 58647, 58650, 58653, 58655, 58656, 58659, 58660, 58662, 58665, 58668, 58670, 58671, 58674, 58675, 58677, 58680, 58683, 58685, 58686, 58689, 58690, 58692, 58695, 58698, 58700, 58701, 58704, 58705, 58707, 58710, 58713, 58715, 58716, 58719, 58720, 58722, 58725, 58728, 58730, 58731, 58734, 58735, 58737, 58740, 58743, 58745, 58746, 58749, 58750, 58752, 58755, 58758, 58760, 58761, 58764, 58765, 58767, 58770, 58773, 58775, 58776, 58779, 58780, 58782, 58785, 58788, 58790, 58791, 58794, 58795, 58797, 58800, 58803, 58805, 58806, 58809, 58810, 58812, 58815, 58818, 58820, 58821, 58824, 58825, 58827, 58830, 58833, 58835, 58836, 58839, 58840, 58842, 58845, 58848, 58850, 58851, 58854, 58855, 58857, 58860, 58863, 58865, 58866, 58869, 58870, 58872, 58875, 58878, 58880, 58881, 58884, 58885, 58887, 58890, 58893, 58895, 58896, 58899, 58900, 58902, 58905, 58908, 58910, 58911, 58914, 58915, 58917, 58920, 58923, 58925, 58926, 58929, 58930, 58932, 58935, 58938, 58940, 58941, 58944, 58945, 58947, 58950, 58953, 58955, 58956, 58959, 58960, 58962, 58965, 58968, 58970, 58971, 58974, 58975, 58977, 58980, 58983, 58985, 58986, 58989, 58990, 58992, 58995, 58998, 59000, 59001, 59004, 59005, 59007, 59010, 59013, 59015, 59016, 59019, 59020, 59022, 59025, 59028, 59030, 59031, 59034, 59035, 59037, 59040, 59043, 59045, 59046, 59049, 59050, 59052, 59055, 59058, 59060, 59061, 59064, 59065, 59067, 59070, 59073, 59075, 59076, 59079, 59080, 59082, 59085, 59088, 59090, 59091, 59094, 59095, 59097, 59100, 59103, 59105, 59106, 59109, 59110, 59112, 59115, 59118, 59120, 59121, 59124, 59125, 59127, 59130, 59133, 59135, 59136, 59139, 59140, 59142, 59145, 59148, 59150, 59151, 59154, 59155, 59157, 59160, 59163, 59165, 59166, 59169, 59170, 59172, 59175, 59178, 59180, 59181, 59184, 59185, 59187, 59190, 59193, 59195, 59196, 59199, 59200, 59202, 59205, 59208, 59210, 59211, 59214, 59215, 59217, 59220, 59223, 59225, 59226, 59229, 59230, 59232, 59235, 59238, 59240, 59241, 59244, 59245, 59247, 59250, 59253, 59255, 59256, 59259, 59260, 59262, 59265, 59268, 59270, 59271, 59274, 59275, 59277, 59280, 59283, 59285, 59286, 59289, 59290, 59292, 59295, 59298, 59300, 59301, 59304, 59305, 59307, 59310, 59313, 59315, 59316, 59319, 59320, 59322, 59325, 59328, 59330, 59331, 59334, 59335, 59337, 59340, 59343, 59345, 59346, 59349, 59350, 59352, 59355, 59358, 59360, 59361, 59364, 59365, 59367, 59370, 59373, 59375, 59376, 59379, 59380, 59382, 59385, 59388, 59390, 59391, 59394, 59395, 59397, 59400, 59403, 59405, 59406, 59409, 59410, 59412, 59415, 59418, 59420, 59421, 59424, 59425, 59427, 59430, 59433, 59435, 59436, 59439, 59440, 59442, 59445, 59448, 59450, 59451, 59454, 59455, 59457, 59460, 59463, 59465, 59466, 59469, 59470, 59472, 59475, 59478, 59480, 59481, 59484, 59485, 59487, 59490, 59493, 59495, 59496, 59499, 59500, 59502, 59505, 59508, 59510, 59511, 59514, 59515, 59517, 59520, 59523, 59525, 59526, 59529, 59530, 59532, 59535, 59538, 59540, 59541, 59544, 59545, 59547, 59550, 59553, 59555, 59556, 59559, 59560, 59562, 59565, 59568, 59570, 59571, 59574, 59575, 59577, 59580, 59583, 59585, 59586, 59589, 59590, 59592, 59595, 59598, 59600, 59601, 59604, 59605, 59607, 59610, 59613, 59615, 59616, 59619, 59620, 59622, 59625, 59628, 59630, 59631, 59634, 59635, 59637, 59640, 59643, 59645, 59646, 59649, 59650, 59652, 59655, 59658, 59660, 59661, 59664, 59665, 59667, 59670, 59673, 59675, 59676, 59679, 59680, 59682, 59685, 59688, 59690, 59691, 59694, 59695, 59697, 59700, 59703, 59705, 59706, 59709, 59710, 59712, 59715, 59718, 59720, 59721, 59724, 59725, 59727, 59730, 59733, 59735, 59736, 59739, 59740, 59742, 59745, 59748, 59750, 59751, 59754, 59755, 59757, 59760, 59763, 59765, 59766, 59769, 59770, 59772, 59775, 59778, 59780, 59781, 59784, 59785, 59787, 59790, 59793, 59795, 59796, 59799, 59800, 59802, 59805, 59808, 59810, 59811, 59814, 59815, 59817, 59820, 59823, 59825, 59826, 59829, 59830, 59832, 59835, 59838, 59840, 59841, 59844, 59845, 59847, 59850, 59853, 59855, 59856, 59859, 59860, 59862, 59865, 59868, 59870, 59871, 59874, 59875, 59877, 59880, 59883, 59885, 59886, 59889, 59890, 59892, 59895, 59898, 59900, 59901, 59904, 59905, 59907, 59910, 59913, 59915, 59916, 59919, 59920, 59922, 59925, 59928, 59930, 59931, 59934, 59935, 59937, 59940, 59943, 59945, 59946, 59949, 59950, 59952, 59955, 59958, 59960, 59961, 59964, 59965, 59967, 59970, 59973, 59975, 59976, 59979, 59980, 59982, 59985, 59988, 59990, 59991, 59994, 59995, 59997, 60000, 60003, 60005, 60006, 60009, 60010, 60012, 60015, 60018, 60020, 60021, 60024, 60025, 60027, 60030, 60033, 60035, 60036, 60039, 60040, 60042, 60045, 60048, 60050, 60051, 60054, 60055, 60057, 60060, 60063, 60065, 60066, 60069, 60070, 60072, 60075, 60078, 60080, 60081, 60084, 60085, 60087, 60090, 60093, 60095, 60096, 60099, 60100, 60102, 60105, 60108, 60110, 60111, 60114, 60115, 60117, 60120, 60123, 60125, 60126, 60129, 60130, 60132, 60135, 60138, 60140, 60141, 60144, 60145, 60147, 60150, 60153, 60155, 60156, 60159, 60160, 60162, 60165, 60168, 60170, 60171, 60174, 60175, 60177, 60180, 60183, 60185, 60186, 60189, 60190, 60192, 60195, 60198, 60200, 60201, 60204, 60205, 60207, 60210, 60213, 60215, 60216, 60219, 60220, 60222, 60225, 60228, 60230, 60231, 60234, 60235, 60237, 60240, 60243, 60245, 60246, 60249, 60250, 60252, 60255, 60258, 60260, 60261, 60264, 60265, 60267, 60270, 60273, 60275, 60276, 60279, 60280, 60282, 60285, 60288, 60290, 60291, 60294, 60295, 60297, 60300, 60303, 60305, 60306, 60309, 60310, 60312, 60315, 60318, 60320, 60321, 60324, 60325, 60327, 60330, 60333, 60335, 60336, 60339, 60340, 60342, 60345, 60348, 60350, 60351, 60354, 60355, 60357, 60360, 60363, 60365, 60366, 60369, 60370, 60372, 60375, 60378, 60380, 60381, 60384, 60385, 60387, 60390, 60393, 60395, 60396, 60399, 60400, 60402, 60405, 60408, 60410, 60411, 60414, 60415, 60417, 60420, 60423, 60425, 60426, 60429, 60430, 60432, 60435, 60438, 60440, 60441, 60444, 60445, 60447, 60450, 60453, 60455, 60456, 60459, 60460, 60462, 60465, 60468, 60470, 60471, 60474, 60475, 60477, 60480, 60483, 60485, 60486, 60489, 60490, 60492, 60495, 60498, 60500, 60501, 60504, 60505, 60507, 60510, 60513, 60515, 60516, 60519, 60520, 60522, 60525, 60528, 60530, 60531, 60534, 60535, 60537, 60540, 60543, 60545, 60546, 60549, 60550, 60552, 60555, 60558, 60560, 60561, 60564, 60565, 60567, 60570, 60573, 60575, 60576, 60579, 60580, 60582, 60585, 60588, 60590, 60591, 60594, 60595, 60597, 60600, 60603, 60605, 60606, 60609, 60610, 60612, 60615, 60618, 60620, 60621, 60624, 60625, 60627, 60630, 60633, 60635, 60636, 60639, 60640, 60642, 60645, 60648, 60650, 60651, 60654, 60655, 60657, 60660, 60663, 60665, 60666, 60669, 60670, 60672, 60675, 60678, 60680, 60681, 60684, 60685, 60687, 60690, 60693, 60695, 60696, 60699, 60700, 60702, 60705, 60708, 60710, 60711, 60714, 60715, 60717, 60720, 60723, 60725, 60726, 60729, 60730, 60732, 60735, 60738, 60740, 60741, 60744, 60745, 60747, 60750, 60753, 60755, 60756, 60759, 60760, 60762, 60765, 60768, 60770, 60771, 60774, 60775, 60777, 60780, 60783, 60785, 60786, 60789, 60790, 60792, 60795, 60798, 60800, 60801, 60804, 60805, 60807, 60810, 60813, 60815, 60816, 60819, 60820, 60822, 60825, 60828, 60830, 60831, 60834, 60835, 60837, 60840, 60843, 60845, 60846, 60849, 60850, 60852, 60855, 60858, 60860, 60861, 60864, 60865, 60867, 60870, 60873, 60875, 60876, 60879, 60880, 60882, 60885, 60888, 60890, 60891, 60894, 60895, 60897, 60900, 60903, 60905, 60906, 60909, 60910, 60912, 60915, 60918, 60920, 60921, 60924, 60925, 60927, 60930, 60933, 60935, 60936, 60939, 60940, 60942, 60945, 60948, 60950, 60951, 60954, 60955, 60957, 60960, 60963, 60965, 60966, 60969, 60970, 60972, 60975, 60978, 60980, 60981, 60984, 60985, 60987, 60990, 60993, 60995, 60996, 60999, 61000, 61002, 61005, 61008, 61010, 61011, 61014, 61015, 61017, 61020, 61023, 61025, 61026, 61029, 61030, 61032, 61035, 61038, 61040, 61041, 61044, 61045, 61047, 61050, 61053, 61055, 61056, 61059, 61060, 61062, 61065, 61068, 61070, 61071, 61074, 61075, 61077, 61080, 61083, 61085, 61086, 61089, 61090, 61092, 61095, 61098, 61100, 61101, 61104, 61105, 61107, 61110, 61113, 61115, 61116, 61119, 61120, 61122, 61125, 61128, 61130, 61131, 61134, 61135, 61137, 61140, 61143, 61145, 61146, 61149, 61150, 61152, 61155, 61158, 61160, 61161, 61164, 61165, 61167, 61170, 61173, 61175, 61176, 61179, 61180, 61182, 61185, 61188, 61190, 61191, 61194, 61195, 61197, 61200, 61203, 61205, 61206, 61209, 61210, 61212, 61215, 61218, 61220, 61221, 61224, 61225, 61227, 61230, 61233, 61235, 61236, 61239, 61240, 61242, 61245, 61248, 61250, 61251, 61254, 61255, 61257, 61260, 61263, 61265, 61266, 61269, 61270, 61272, 61275, 61278, 61280, 61281, 61284, 61285, 61287, 61290, 61293, 61295, 61296, 61299, 61300, 61302, 61305, 61308, 61310, 61311, 61314, 61315, 61317, 61320, 61323, 61325, 61326, 61329, 61330, 61332, 61335, 61338, 61340, 61341, 61344, 61345, 61347, 61350, 61353, 61355, 61356, 61359, 61360, 61362, 61365, 61368, 61370, 61371, 61374, 61375, 61377, 61380, 61383, 61385, 61386, 61389, 61390, 61392, 61395, 61398, 61400, 61401, 61404, 61405, 61407, 61410, 61413, 61415, 61416, 61419, 61420, 61422, 61425, 61428, 61430, 61431, 61434, 61435, 61437, 61440, 61443, 61445, 61446, 61449, 61450, 61452, 61455, 61458, 61460, 61461, 61464, 61465, 61467, 61470, 61473, 61475, 61476, 61479, 61480, 61482, 61485, 61488, 61490, 61491, 61494, 61495, 61497, 61500, 61503, 61505, 61506, 61509, 61510, 61512, 61515, 61518, 61520, 61521, 61524, 61525, 61527, 61530, 61533, 61535, 61536, 61539, 61540, 61542, 61545, 61548, 61550, 61551, 61554, 61555, 61557, 61560, 61563, 61565, 61566, 61569, 61570, 61572, 61575, 61578, 61580, 61581, 61584, 61585, 61587, 61590, 61593, 61595, 61596, 61599, 61600, 61602, 61605, 61608, 61610, 61611, 61614, 61615, 61617, 61620, 61623, 61625, 61626, 61629, 61630, 61632, 61635, 61638, 61640, 61641, 61644, 61645, 61647, 61650, 61653, 61655, 61656, 61659, 61660, 61662, 61665, 61668, 61670, 61671, 61674, 61675, 61677, 61680, 61683, 61685, 61686, 61689, 61690, 61692, 61695, 61698, 61700, 61701, 61704, 61705, 61707, 61710, 61713, 61715, 61716, 61719, 61720, 61722, 61725, 61728, 61730, 61731, 61734, 61735, 61737, 61740, 61743, 61745, 61746, 61749, 61750, 61752, 61755, 61758, 61760, 61761, 61764, 61765, 61767, 61770, 61773, 61775, 61776, 61779, 61780, 61782, 61785, 61788, 61790, 61791, 61794, 61795, 61797, 61800, 61803, 61805, 61806, 61809, 61810, 61812, 61815, 61818, 61820, 61821, 61824, 61825, 61827, 61830, 61833, 61835, 61836, 61839, 61840, 61842, 61845, 61848, 61850, 61851, 61854, 61855, 61857, 61860, 61863, 61865, 61866, 61869, 61870, 61872, 61875, 61878, 61880, 61881, 61884, 61885, 61887, 61890, 61893, 61895, 61896, 61899, 61900, 61902, 61905, 61908, 61910, 61911, 61914, 61915, 61917, 61920, 61923, 61925, 61926, 61929, 61930, 61932, 61935, 61938, 61940, 61941, 61944, 61945, 61947, 61950, 61953, 61955, 61956, 61959, 61960, 61962, 61965, 61968, 61970, 61971, 61974, 61975, 61977, 61980, 61983, 61985, 61986, 61989, 61990, 61992, 61995, 61998, 62000, 62001, 62004, 62005, 62007, 62010, 62013, 62015, 62016, 62019, 62020, 62022, 62025, 62028, 62030, 62031, 62034, 62035, 62037, 62040, 62043, 62045, 62046, 62049, 62050, 62052, 62055, 62058, 62060, 62061, 62064, 62065, 62067, 62070, 62073, 62075, 62076, 62079, 62080, 62082, 62085, 62088, 62090, 62091, 62094, 62095, 62097, 62100, 62103, 62105, 62106, 62109, 62110, 62112, 62115, 62118, 62120, 62121, 62124, 62125, 62127, 62130, 62133, 62135, 62136, 62139, 62140, 62142, 62145, 62148, 62150, 62151, 62154, 62155, 62157, 62160, 62163, 62165, 62166, 62169, 62170, 62172, 62175, 62178, 62180, 62181, 62184, 62185, 62187, 62190, 62193, 62195, 62196, 62199, 62200, 62202, 62205, 62208, 62210, 62211, 62214, 62215, 62217, 62220, 62223, 62225, 62226, 62229, 62230, 62232, 62235, 62238, 62240, 62241, 62244, 62245, 62247, 62250, 62253, 62255, 62256, 62259, 62260, 62262, 62265, 62268, 62270, 62271, 62274, 62275, 62277, 62280, 62283, 62285, 62286, 62289, 62290, 62292, 62295, 62298, 62300, 62301, 62304, 62305, 62307, 62310, 62313, 62315, 62316, 62319, 62320, 62322, 62325, 62328, 62330, 62331, 62334, 62335, 62337, 62340, 62343, 62345, 62346, 62349, 62350, 62352, 62355, 62358, 62360, 62361, 62364, 62365, 62367, 62370, 62373, 62375, 62376, 62379, 62380, 62382, 62385, 62388, 62390, 62391, 62394, 62395, 62397, 62400, 62403, 62405, 62406, 62409, 62410, 62412, 62415, 62418, 62420, 62421, 62424, 62425, 62427, 62430, 62433, 62435, 62436, 62439, 62440, 62442, 62445, 62448, 62450, 62451, 62454, 62455, 62457, 62460, 62463, 62465, 62466, 62469, 62470, 62472, 62475, 62478, 62480, 62481, 62484, 62485, 62487, 62490, 62493, 62495, 62496, 62499, 62500, 62502, 62505, 62508, 62510, 62511, 62514, 62515, 62517, 62520, 62523, 62525, 62526, 62529, 62530, 62532, 62535, 62538, 62540, 62541, 62544, 62545, 62547, 62550, 62553, 62555, 62556, 62559, 62560, 62562, 62565, 62568, 62570, 62571, 62574, 62575, 62577, 62580, 62583, 62585, 62586, 62589, 62590, 62592, 62595, 62598, 62600, 62601, 62604, 62605, 62607, 62610, 62613, 62615, 62616, 62619, 62620, 62622, 62625, 62628, 62630, 62631, 62634, 62635, 62637, 62640, 62643, 62645, 62646, 62649, 62650, 62652, 62655, 62658, 62660, 62661, 62664, 62665, 62667, 62670, 62673, 62675, 62676, 62679, 62680, 62682, 62685, 62688, 62690, 62691, 62694, 62695, 62697, 62700, 62703, 62705, 62706, 62709, 62710, 62712, 62715, 62718, 62720, 62721, 62724, 62725, 62727, 62730, 62733, 62735, 62736, 62739, 62740, 62742, 62745, 62748, 62750, 62751, 62754, 62755, 62757, 62760, 62763, 62765, 62766, 62769, 62770, 62772, 62775, 62778, 62780, 62781, 62784, 62785, 62787, 62790, 62793, 62795, 62796, 62799, 62800, 62802, 62805, 62808, 62810, 62811, 62814, 62815, 62817, 62820, 62823, 62825, 62826, 62829, 62830, 62832, 62835, 62838, 62840, 62841, 62844, 62845, 62847, 62850, 62853, 62855, 62856, 62859, 62860, 62862, 62865, 62868, 62870, 62871, 62874, 62875, 62877, 62880, 62883, 62885, 62886, 62889, 62890, 62892, 62895, 62898, 62900, 62901, 62904, 62905, 62907, 62910, 62913, 62915, 62916, 62919, 62920, 62922, 62925, 62928, 62930, 62931, 62934, 62935, 62937, 62940, 62943, 62945, 62946, 62949, 62950, 62952, 62955, 62958, 62960, 62961, 62964, 62965, 62967, 62970, 62973, 62975, 62976, 62979, 62980, 62982, 62985, 62988, 62990, 62991, 62994, 62995, 62997, 63000, 63003, 63005, 63006, 63009, 63010, 63012, 63015, 63018, 63020, 63021, 63024, 63025, 63027, 63030, 63033, 63035, 63036, 63039, 63040, 63042, 63045, 63048, 63050, 63051, 63054, 63055, 63057, 63060, 63063, 63065, 63066, 63069, 63070, 63072, 63075, 63078, 63080, 63081, 63084, 63085, 63087, 63090, 63093, 63095, 63096, 63099, 63100, 63102, 63105, 63108, 63110, 63111, 63114, 63115, 63117, 63120, 63123, 63125, 63126, 63129, 63130, 63132, 63135, 63138, 63140, 63141, 63144, 63145, 63147, 63150, 63153, 63155, 63156, 63159, 63160, 63162, 63165, 63168, 63170, 63171, 63174, 63175, 63177, 63180, 63183, 63185, 63186, 63189, 63190, 63192, 63195, 63198, 63200, 63201, 63204, 63205, 63207, 63210, 63213, 63215, 63216, 63219, 63220, 63222, 63225, 63228, 63230, 63231, 63234, 63235, 63237, 63240, 63243, 63245, 63246, 63249, 63250, 63252, 63255, 63258, 63260, 63261, 63264, 63265, 63267, 63270, 63273, 63275, 63276, 63279, 63280, 63282, 63285, 63288, 63290, 63291, 63294, 63295, 63297, 63300, 63303, 63305, 63306, 63309, 63310, 63312, 63315, 63318, 63320, 63321, 63324, 63325, 63327, 63330, 63333, 63335, 63336, 63339, 63340, 63342, 63345, 63348, 63350, 63351, 63354, 63355, 63357, 63360, 63363, 63365, 63366, 63369, 63370, 63372, 63375, 63378, 63380, 63381, 63384, 63385, 63387, 63390, 63393, 63395, 63396, 63399, 63400, 63402, 63405, 63408, 63410, 63411, 63414, 63415, 63417, 63420, 63423, 63425, 63426, 63429, 63430, 63432, 63435, 63438, 63440, 63441, 63444, 63445, 63447, 63450, 63453, 63455, 63456, 63459, 63460, 63462, 63465, 63468, 63470, 63471, 63474, 63475, 63477, 63480, 63483, 63485, 63486, 63489, 63490, 63492, 63495, 63498, 63500, 63501, 63504, 63505, 63507, 63510, 63513, 63515, 63516, 63519, 63520, 63522, 63525, 63528, 63530, 63531, 63534, 63535, 63537, 63540, 63543, 63545, 63546, 63549, 63550, 63552, 63555, 63558, 63560, 63561, 63564, 63565, 63567, 63570, 63573, 63575, 63576, 63579, 63580, 63582, 63585, 63588, 63590, 63591, 63594, 63595, 63597, 63600, 63603, 63605, 63606, 63609, 63610, 63612, 63615, 63618, 63620, 63621, 63624, 63625, 63627, 63630, 63633, 63635, 63636, 63639, 63640, 63642, 63645, 63648, 63650, 63651, 63654, 63655, 63657, 63660, 63663, 63665, 63666, 63669, 63670, 63672, 63675, 63678, 63680, 63681, 63684, 63685, 63687, 63690, 63693, 63695, 63696, 63699, 63700, 63702, 63705, 63708, 63710, 63711, 63714, 63715, 63717, 63720, 63723, 63725, 63726, 63729, 63730, 63732, 63735, 63738, 63740, 63741, 63744, 63745, 63747, 63750, 63753, 63755, 63756, 63759, 63760, 63762, 63765, 63768, 63770, 63771, 63774, 63775, 63777, 63780, 63783, 63785, 63786, 63789, 63790, 63792, 63795, 63798, 63800, 63801, 63804, 63805, 63807, 63810, 63813, 63815, 63816, 63819, 63820, 63822, 63825, 63828, 63830, 63831, 63834, 63835, 63837, 63840, 63843, 63845, 63846, 63849, 63850, 63852, 63855, 63858, 63860, 63861, 63864, 63865, 63867, 63870, 63873, 63875, 63876, 63879, 63880, 63882, 63885, 63888, 63890, 63891, 63894, 63895, 63897, 63900, 63903, 63905, 63906, 63909, 63910, 63912, 63915, 63918, 63920, 63921, 63924, 63925, 63927, 63930, 63933, 63935, 63936, 63939, 63940, 63942, 63945, 63948, 63950, 63951, 63954, 63955, 63957, 63960, 63963, 63965, 63966, 63969, 63970, 63972, 63975, 63978, 63980, 63981, 63984, 63985, 63987, 63990, 63993, 63995, 63996, 63999, 64000, 64002, 64005, 64008, 64010, 64011, 64014, 64015, 64017, 64020, 64023, 64025, 64026, 64029, 64030, 64032, 64035, 64038, 64040, 64041, 64044, 64045, 64047, 64050, 64053, 64055, 64056, 64059, 64060, 64062, 64065, 64068, 64070, 64071, 64074, 64075, 64077, 64080, 64083, 64085, 64086, 64089, 64090, 64092, 64095, 64098, 64100, 64101, 64104, 64105, 64107, 64110, 64113, 64115, 64116, 64119, 64120, 64122, 64125, 64128, 64130, 64131, 64134, 64135, 64137, 64140, 64143, 64145, 64146, 64149, 64150, 64152, 64155, 64158, 64160, 64161, 64164, 64165, 64167, 64170, 64173, 64175, 64176, 64179, 64180, 64182, 64185, 64188, 64190, 64191, 64194, 64195, 64197, 64200, 64203, 64205, 64206, 64209, 64210, 64212, 64215, 64218, 64220, 64221, 64224, 64225, 64227, 64230, 64233, 64235, 64236, 64239, 64240, 64242, 64245, 64248, 64250, 64251, 64254, 64255, 64257, 64260, 64263, 64265, 64266, 64269, 64270, 64272, 64275, 64278, 64280, 64281, 64284, 64285, 64287, 64290, 64293, 64295, 64296, 64299, 64300, 64302, 64305, 64308, 64310, 64311, 64314, 64315, 64317, 64320, 64323, 64325, 64326, 64329, 64330, 64332, 64335, 64338, 64340, 64341, 64344, 64345, 64347, 64350, 64353, 64355, 64356, 64359, 64360, 64362, 64365, 64368, 64370, 64371, 64374, 64375, 64377, 64380, 64383, 64385, 64386, 64389, 64390, 64392, 64395, 64398, 64400, 64401, 64404, 64405, 64407, 64410, 64413, 64415, 64416, 64419, 64420, 64422, 64425, 64428, 64430, 64431, 64434, 64435, 64437, 64440, 64443, 64445, 64446, 64449, 64450, 64452, 64455, 64458, 64460, 64461, 64464, 64465, 64467, 64470, 64473, 64475, 64476, 64479, 64480, 64482, 64485, 64488, 64490, 64491, 64494, 64495, 64497, 64500, 64503, 64505, 64506, 64509, 64510, 64512, 64515, 64518, 64520, 64521, 64524, 64525, 64527, 64530, 64533, 64535, 64536, 64539, 64540, 64542, 64545, 64548, 64550, 64551, 64554, 64555, 64557, 64560, 64563, 64565, 64566, 64569, 64570, 64572, 64575, 64578, 64580, 64581, 64584, 64585, 64587, 64590, 64593, 64595, 64596, 64599, 64600, 64602, 64605, 64608, 64610, 64611, 64614, 64615, 64617, 64620, 64623, 64625, 64626, 64629, 64630, 64632, 64635, 64638, 64640, 64641, 64644, 64645, 64647, 64650, 64653, 64655, 64656, 64659, 64660, 64662, 64665, 64668, 64670, 64671, 64674, 64675, 64677, 64680, 64683, 64685, 64686, 64689, 64690, 64692, 64695, 64698, 64700, 64701, 64704, 64705, 64707, 64710, 64713, 64715, 64716, 64719, 64720, 64722, 64725, 64728, 64730, 64731, 64734, 64735, 64737, 64740, 64743, 64745, 64746, 64749, 64750, 64752, 64755, 64758, 64760, 64761, 64764, 64765, 64767, 64770, 64773, 64775, 64776, 64779, 64780, 64782, 64785, 64788, 64790, 64791, 64794, 64795, 64797, 64800, 64803, 64805, 64806, 64809, 64810, 64812, 64815, 64818, 64820, 64821, 64824, 64825, 64827, 64830, 64833, 64835, 64836, 64839, 64840, 64842, 64845, 64848, 64850, 64851, 64854, 64855, 64857, 64860, 64863, 64865, 64866, 64869, 64870, 64872, 64875, 64878, 64880, 64881, 64884, 64885, 64887, 64890, 64893, 64895, 64896, 64899, 64900, 64902, 64905, 64908, 64910, 64911, 64914, 64915, 64917, 64920, 64923, 64925, 64926, 64929, 64930, 64932, 64935, 64938, 64940, 64941, 64944, 64945, 64947, 64950, 64953, 64955, 64956, 64959, 64960, 64962, 64965, 64968, 64970, 64971, 64974, 64975, 64977, 64980, 64983, 64985, 64986, 64989, 64990, 64992, 64995, 64998, 65000, 65001, 65004, 65005, 65007, 65010, 65013, 65015, 65016, 65019, 65020, 65022, 65025, 65028, 65030, 65031, 65034, 65035, 65037, 65040, 65043, 65045, 65046, 65049, 65050, 65052, 65055, 65058, 65060, 65061, 65064, 65065, 65067, 65070, 65073, 65075, 65076, 65079, 65080, 65082, 65085, 65088, 65090, 65091, 65094, 65095, 65097, 65100, 65103, 65105, 65106, 65109, 65110, 65112, 65115, 65118, 65120, 65121, 65124, 65125, 65127, 65130, 65133, 65135, 65136, 65139, 65140, 65142, 65145, 65148, 65150, 65151, 65154, 65155, 65157, 65160, 65163, 65165, 65166, 65169, 65170, 65172, 65175, 65178, 65180, 65181, 65184, 65185, 65187, 65190, 65193, 65195, 65196, 65199, 65200, 65202, 65205, 65208, 65210, 65211, 65214, 65215, 65217, 65220, 65223, 65225, 65226, 65229, 65230, 65232, 65235, 65238, 65240, 65241, 65244, 65245, 65247, 65250, 65253, 65255, 65256, 65259, 65260, 65262, 65265, 65268, 65270, 65271, 65274, 65275, 65277, 65280, 65283, 65285, 65286, 65289, 65290, 65292, 65295, 65298, 65300, 65301, 65304, 65305, 65307, 65310, 65313, 65315, 65316, 65319, 65320, 65322, 65325, 65328, 65330, 65331, 65334, 65335, 65337, 65340, 65343, 65345, 65346, 65349, 65350, 65352, 65355, 65358, 65360, 65361, 65364, 65365, 65367, 65370, 65373, 65375, 65376, 65379, 65380, 65382, 65385, 65388, 65390, 65391, 65394, 65395, 65397, 65400, 65403, 65405, 65406, 65409, 65410, 65412, 65415, 65418, 65420, 65421, 65424, 65425, 65427, 65430, 65433, 65435, 65436, 65439, 65440, 65442, 65445, 65448, 65450, 65451, 65454, 65455, 65457, 65460, 65463, 65465, 65466, 65469, 65470, 65472, 65475, 65478, 65480, 65481, 65484, 65485, 65487, 65490, 65493, 65495, 65496, 65499, 65500, 65502, 65505, 65508, 65510, 65511, 65514, 65515, 65517, 65520, 65523, 65525, 65526, 65529, 65530, 65532, 65535, 65538, 65540, 65541, 65544, 65545, 65547, 65550, 65553, 65555, 65556, 65559, 65560, 65562, 65565, 65568, 65570, 65571, 65574, 65575, 65577, 65580, 65583, 65585, 65586, 65589, 65590, 65592, 65595, 65598, 65600, 65601, 65604, 65605, 65607, 65610, 65613, 65615, 65616, 65619, 65620, 65622, 65625, 65628, 65630, 65631, 65634, 65635, 65637, 65640, 65643, 65645, 65646, 65649, 65650, 65652, 65655, 65658, 65660, 65661, 65664, 65665, 65667, 65670, 65673, 65675, 65676, 65679, 65680, 65682, 65685, 65688, 65690, 65691, 65694, 65695, 65697, 65700, 65703, 65705, 65706, 65709, 65710, 65712, 65715, 65718, 65720, 65721, 65724, 65725, 65727, 65730, 65733, 65735, 65736, 65739, 65740, 65742, 65745, 65748, 65750, 65751, 65754, 65755, 65757, 65760, 65763, 65765, 65766, 65769, 65770, 65772, 65775, 65778, 65780, 65781, 65784, 65785, 65787, 65790, 65793, 65795, 65796, 65799, 65800, 65802, 65805, 65808, 65810, 65811, 65814, 65815, 65817, 65820, 65823, 65825, 65826, 65829, 65830, 65832, 65835, 65838, 65840, 65841, 65844, 65845, 65847, 65850, 65853, 65855, 65856, 65859, 65860, 65862, 65865, 65868, 65870, 65871, 65874, 65875, 65877, 65880, 65883, 65885, 65886, 65889, 65890, 65892, 65895, 65898, 65900, 65901, 65904, 65905, 65907, 65910, 65913, 65915, 65916, 65919, 65920, 65922, 65925, 65928, 65930, 65931, 65934, 65935, 65937, 65940, 65943, 65945, 65946, 65949, 65950, 65952, 65955, 65958, 65960, 65961, 65964, 65965, 65967, 65970, 65973, 65975, 65976, 65979, 65980, 65982, 65985, 65988, 65990, 65991, 65994, 65995, 65997, 66000, 66003, 66005, 66006, 66009, 66010, 66012, 66015, 66018, 66020, 66021, 66024, 66025, 66027, 66030, 66033, 66035, 66036, 66039, 66040, 66042, 66045, 66048, 66050, 66051, 66054, 66055, 66057, 66060, 66063, 66065, 66066, 66069, 66070, 66072, 66075, 66078, 66080, 66081, 66084, 66085, 66087, 66090, 66093, 66095, 66096, 66099, 66100, 66102, 66105, 66108, 66110, 66111, 66114, 66115, 66117, 66120, 66123, 66125, 66126, 66129, 66130, 66132, 66135, 66138, 66140, 66141, 66144, 66145, 66147, 66150, 66153, 66155, 66156, 66159, 66160, 66162, 66165, 66168, 66170, 66171, 66174, 66175, 66177, 66180, 66183, 66185, 66186, 66189, 66190, 66192, 66195, 66198, 66200, 66201, 66204, 66205, 66207, 66210, 66213, 66215, 66216, 66219, 66220, 66222, 66225, 66228, 66230, 66231, 66234, 66235, 66237, 66240, 66243, 66245, 66246, 66249, 66250, 66252, 66255, 66258, 66260, 66261, 66264, 66265, 66267, 66270, 66273, 66275, 66276, 66279, 66280, 66282, 66285, 66288, 66290, 66291, 66294, 66295, 66297, 66300, 66303, 66305, 66306, 66309, 66310, 66312, 66315, 66318, 66320, 66321, 66324, 66325, 66327, 66330, 66333, 66335, 66336, 66339, 66340, 66342, 66345, 66348, 66350, 66351, 66354, 66355, 66357, 66360, 66363, 66365, 66366, 66369, 66370, 66372, 66375, 66378, 66380, 66381, 66384, 66385, 66387, 66390, 66393, 66395, 66396, 66399, 66400, 66402, 66405, 66408, 66410, 66411, 66414, 66415, 66417, 66420, 66423, 66425, 66426, 66429, 66430, 66432, 66435, 66438, 66440, 66441, 66444, 66445, 66447, 66450, 66453, 66455, 66456, 66459, 66460, 66462, 66465, 66468, 66470, 66471, 66474, 66475, 66477, 66480, 66483, 66485, 66486, 66489, 66490, 66492, 66495, 66498, 66500, 66501, 66504, 66505, 66507, 66510, 66513, 66515, 66516, 66519, 66520, 66522, 66525, 66528, 66530, 66531, 66534, 66535, 66537, 66540, 66543, 66545, 66546, 66549, 66550, 66552, 66555, 66558, 66560, 66561, 66564, 66565, 66567, 66570, 66573, 66575, 66576, 66579, 66580, 66582, 66585, 66588, 66590, 66591, 66594, 66595, 66597, 66600, 66603, 66605, 66606, 66609, 66610, 66612, 66615, 66618, 66620, 66621, 66624, 66625, 66627, 66630, 66633, 66635, 66636, 66639, 66640, 66642, 66645, 66648, 66650, 66651, 66654, 66655, 66657, 66660, 66663, 66665, 66666, 66669, 66670, 66672, 66675, 66678, 66680, 66681, 66684, 66685, 66687, 66690, 66693, 66695, 66696, 66699, 66700, 66702, 66705, 66708, 66710, 66711, 66714, 66715, 66717, 66720, 66723, 66725, 66726, 66729, 66730, 66732, 66735, 66738, 66740, 66741, 66744, 66745, 66747, 66750, 66753, 66755, 66756, 66759, 66760, 66762, 66765, 66768, 66770, 66771, 66774, 66775, 66777, 66780, 66783, 66785, 66786, 66789, 66790, 66792, 66795, 66798, 66800, 66801, 66804, 66805, 66807, 66810, 66813, 66815, 66816, 66819, 66820, 66822, 66825, 66828, 66830, 66831, 66834, 66835, 66837, 66840, 66843, 66845, 66846, 66849, 66850, 66852, 66855, 66858, 66860, 66861, 66864, 66865, 66867, 66870, 66873, 66875, 66876, 66879, 66880, 66882, 66885, 66888, 66890, 66891, 66894, 66895, 66897, 66900, 66903, 66905, 66906, 66909, 66910, 66912, 66915, 66918, 66920, 66921, 66924, 66925, 66927, 66930, 66933, 66935, 66936, 66939, 66940, 66942, 66945, 66948, 66950, 66951, 66954, 66955, 66957, 66960, 66963, 66965, 66966, 66969, 66970, 66972, 66975, 66978, 66980, 66981, 66984, 66985, 66987, 66990, 66993, 66995, 66996, 66999, 67000, 67002, 67005, 67008, 67010, 67011, 67014, 67015, 67017, 67020, 67023, 67025, 67026, 67029, 67030, 67032, 67035, 67038, 67040, 67041, 67044, 67045, 67047, 67050, 67053, 67055, 67056, 67059, 67060, 67062, 67065, 67068, 67070, 67071, 67074, 67075, 67077, 67080, 67083, 67085, 67086, 67089, 67090, 67092, 67095, 67098, 67100, 67101, 67104, 67105, 67107, 67110, 67113, 67115, 67116, 67119, 67120, 67122, 67125, 67128, 67130, 67131, 67134, 67135, 67137, 67140, 67143, 67145, 67146, 67149, 67150, 67152, 67155, 67158, 67160, 67161, 67164, 67165, 67167, 67170, 67173, 67175, 67176, 67179, 67180, 67182, 67185, 67188, 67190, 67191, 67194, 67195, 67197, 67200, 67203, 67205, 67206, 67209, 67210, 67212, 67215, 67218, 67220, 67221, 67224, 67225, 67227, 67230, 67233, 67235, 67236, 67239, 67240, 67242, 67245, 67248, 67250, 67251, 67254, 67255, 67257, 67260, 67263, 67265, 67266, 67269, 67270, 67272, 67275, 67278, 67280, 67281, 67284, 67285, 67287, 67290, 67293, 67295, 67296, 67299, 67300, 67302, 67305, 67308, 67310, 67311, 67314, 67315, 67317, 67320, 67323, 67325, 67326, 67329, 67330, 67332, 67335, 67338, 67340, 67341, 67344, 67345, 67347, 67350, 67353, 67355, 67356, 67359, 67360, 67362, 67365, 67368, 67370, 67371, 67374, 67375, 67377, 67380, 67383, 67385, 67386, 67389, 67390, 67392, 67395, 67398, 67400, 67401, 67404, 67405, 67407, 67410, 67413, 67415, 67416, 67419, 67420, 67422, 67425, 67428, 67430, 67431, 67434, 67435, 67437, 67440, 67443, 67445, 67446, 67449, 67450, 67452, 67455, 67458, 67460, 67461, 67464, 67465, 67467, 67470, 67473, 67475, 67476, 67479, 67480, 67482, 67485, 67488, 67490, 67491, 67494, 67495, 67497, 67500, 67503, 67505, 67506, 67509, 67510, 67512, 67515, 67518, 67520, 67521, 67524, 67525, 67527, 67530, 67533, 67535, 67536, 67539, 67540, 67542, 67545, 67548, 67550, 67551, 67554, 67555, 67557, 67560, 67563, 67565, 67566, 67569, 67570, 67572, 67575, 67578, 67580, 67581, 67584, 67585, 67587, 67590, 67593, 67595, 67596, 67599, 67600, 67602, 67605, 67608, 67610, 67611, 67614, 67615, 67617, 67620, 67623, 67625, 67626, 67629, 67630, 67632, 67635, 67638, 67640, 67641, 67644, 67645, 67647, 67650, 67653, 67655, 67656, 67659, 67660, 67662, 67665, 67668, 67670, 67671, 67674, 67675, 67677, 67680, 67683, 67685, 67686, 67689, 67690, 67692, 67695, 67698, 67700, 67701, 67704, 67705, 67707, 67710, 67713, 67715, 67716, 67719, 67720, 67722, 67725, 67728, 67730, 67731, 67734, 67735, 67737, 67740, 67743, 67745, 67746, 67749, 67750, 67752, 67755, 67758, 67760, 67761, 67764, 67765, 67767, 67770, 67773, 67775, 67776, 67779, 67780, 67782, 67785, 67788, 67790, 67791, 67794, 67795, 67797, 67800, 67803, 67805, 67806, 67809, 67810, 67812, 67815, 67818, 67820, 67821, 67824, 67825, 67827, 67830, 67833, 67835, 67836, 67839, 67840, 67842, 67845, 67848, 67850, 67851, 67854, 67855, 67857, 67860, 67863, 67865, 67866, 67869, 67870, 67872, 67875, 67878, 67880, 67881, 67884, 67885, 67887, 67890, 67893, 67895, 67896, 67899, 67900, 67902, 67905, 67908, 67910, 67911, 67914, 67915, 67917, 67920, 67923, 67925, 67926, 67929, 67930, 67932, 67935, 67938, 67940, 67941, 67944, 67945, 67947, 67950, 67953, 67955, 67956, 67959, 67960, 67962, 67965, 67968, 67970, 67971, 67974, 67975, 67977, 67980, 67983, 67985, 67986, 67989, 67990, 67992, 67995, 67998, 68000, 68001, 68004, 68005, 68007, 68010, 68013, 68015, 68016, 68019, 68020, 68022, 68025, 68028, 68030, 68031, 68034, 68035, 68037, 68040, 68043, 68045, 68046, 68049, 68050, 68052, 68055, 68058, 68060, 68061, 68064, 68065, 68067, 68070, 68073, 68075, 68076, 68079, 68080, 68082, 68085, 68088, 68090, 68091, 68094, 68095, 68097, 68100, 68103, 68105, 68106, 68109, 68110, 68112, 68115, 68118, 68120, 68121, 68124, 68125, 68127, 68130, 68133, 68135, 68136, 68139, 68140, 68142, 68145, 68148, 68150, 68151, 68154, 68155, 68157, 68160, 68163, 68165, 68166, 68169, 68170, 68172, 68175, 68178, 68180, 68181, 68184, 68185, 68187, 68190, 68193, 68195, 68196, 68199, 68200, 68202, 68205, 68208, 68210, 68211, 68214, 68215, 68217, 68220, 68223, 68225, 68226, 68229, 68230, 68232, 68235, 68238, 68240, 68241, 68244, 68245, 68247, 68250, 68253, 68255, 68256, 68259, 68260, 68262, 68265, 68268, 68270, 68271, 68274, 68275, 68277, 68280, 68283, 68285, 68286, 68289, 68290, 68292, 68295, 68298, 68300, 68301, 68304, 68305, 68307, 68310, 68313, 68315, 68316, 68319, 68320, 68322, 68325, 68328, 68330, 68331, 68334, 68335, 68337, 68340, 68343, 68345, 68346, 68349, 68350, 68352, 68355, 68358, 68360, 68361, 68364, 68365, 68367, 68370, 68373, 68375, 68376, 68379, 68380, 68382, 68385, 68388, 68390, 68391, 68394, 68395, 68397, 68400, 68403, 68405, 68406, 68409, 68410, 68412, 68415, 68418, 68420, 68421, 68424, 68425, 68427, 68430, 68433, 68435, 68436, 68439, 68440, 68442, 68445, 68448, 68450, 68451, 68454, 68455, 68457, 68460, 68463, 68465, 68466, 68469, 68470, 68472, 68475, 68478, 68480, 68481, 68484, 68485, 68487, 68490, 68493, 68495, 68496, 68499, 68500, 68502, 68505, 68508, 68510, 68511, 68514, 68515, 68517, 68520, 68523, 68525, 68526, 68529, 68530, 68532, 68535, 68538, 68540, 68541, 68544, 68545, 68547, 68550, 68553, 68555, 68556, 68559, 68560, 68562, 68565, 68568, 68570, 68571, 68574, 68575, 68577, 68580, 68583, 68585, 68586, 68589, 68590, 68592, 68595, 68598, 68600, 68601, 68604, 68605, 68607, 68610, 68613, 68615, 68616, 68619, 68620, 68622, 68625, 68628, 68630, 68631, 68634, 68635, 68637, 68640, 68643, 68645, 68646, 68649, 68650, 68652, 68655, 68658, 68660, 68661, 68664, 68665, 68667, 68670, 68673, 68675, 68676, 68679, 68680, 68682, 68685, 68688, 68690, 68691, 68694, 68695, 68697, 68700, 68703, 68705, 68706, 68709, 68710, 68712, 68715, 68718, 68720, 68721, 68724, 68725, 68727, 68730, 68733, 68735, 68736, 68739, 68740, 68742, 68745, 68748, 68750, 68751, 68754, 68755, 68757, 68760, 68763, 68765, 68766, 68769, 68770, 68772, 68775, 68778, 68780, 68781, 68784, 68785, 68787, 68790, 68793, 68795, 68796, 68799, 68800, 68802, 68805, 68808, 68810, 68811, 68814, 68815, 68817, 68820, 68823, 68825, 68826, 68829, 68830, 68832, 68835, 68838, 68840, 68841, 68844, 68845, 68847, 68850, 68853, 68855, 68856, 68859, 68860, 68862, 68865, 68868, 68870, 68871, 68874, 68875, 68877, 68880, 68883, 68885, 68886, 68889, 68890, 68892, 68895, 68898, 68900, 68901, 68904, 68905, 68907, 68910, 68913, 68915, 68916, 68919, 68920, 68922, 68925, 68928, 68930, 68931, 68934, 68935, 68937, 68940, 68943, 68945, 68946, 68949, 68950, 68952, 68955, 68958, 68960, 68961, 68964, 68965, 68967, 68970, 68973, 68975, 68976, 68979, 68980, 68982, 68985, 68988, 68990, 68991, 68994, 68995, 68997, 69000, 69003, 69005, 69006, 69009, 69010, 69012, 69015, 69018, 69020, 69021, 69024, 69025, 69027, 69030, 69033, 69035, 69036, 69039, 69040, 69042, 69045, 69048, 69050, 69051, 69054, 69055, 69057, 69060, 69063, 69065, 69066, 69069, 69070, 69072, 69075, 69078, 69080, 69081, 69084, 69085, 69087, 69090, 69093, 69095, 69096, 69099, 69100, 69102, 69105, 69108, 69110, 69111, 69114, 69115, 69117, 69120, 69123, 69125, 69126, 69129, 69130, 69132, 69135, 69138, 69140, 69141, 69144, 69145, 69147, 69150, 69153, 69155, 69156, 69159, 69160, 69162, 69165, 69168, 69170, 69171, 69174, 69175, 69177, 69180, 69183, 69185, 69186, 69189, 69190, 69192, 69195, 69198, 69200, 69201, 69204, 69205, 69207, 69210, 69213, 69215, 69216, 69219, 69220, 69222, 69225, 69228, 69230, 69231, 69234, 69235, 69237, 69240, 69243, 69245, 69246, 69249, 69250, 69252, 69255, 69258, 69260, 69261, 69264, 69265, 69267, 69270, 69273, 69275, 69276, 69279, 69280, 69282, 69285, 69288, 69290, 69291, 69294, 69295, 69297, 69300, 69303, 69305, 69306, 69309, 69310, 69312, 69315, 69318, 69320, 69321, 69324, 69325, 69327, 69330, 69333, 69335, 69336, 69339, 69340, 69342, 69345, 69348, 69350, 69351, 69354, 69355, 69357, 69360, 69363, 69365, 69366, 69369, 69370, 69372, 69375, 69378, 69380, 69381, 69384, 69385, 69387, 69390, 69393, 69395, 69396, 69399, 69400, 69402, 69405, 69408, 69410, 69411, 69414, 69415, 69417, 69420, 69423, 69425, 69426, 69429, 69430, 69432, 69435, 69438, 69440, 69441, 69444, 69445, 69447, 69450, 69453, 69455, 69456, 69459, 69460, 69462, 69465, 69468, 69470, 69471, 69474, 69475, 69477, 69480, 69483, 69485, 69486, 69489, 69490, 69492, 69495, 69498, 69500, 69501, 69504, 69505, 69507, 69510, 69513, 69515, 69516, 69519, 69520, 69522, 69525, 69528, 69530, 69531, 69534, 69535, 69537, 69540, 69543, 69545, 69546, 69549, 69550, 69552, 69555, 69558, 69560, 69561, 69564, 69565, 69567, 69570, 69573, 69575, 69576, 69579, 69580, 69582, 69585, 69588, 69590, 69591, 69594, 69595, 69597, 69600, 69603, 69605, 69606, 69609, 69610, 69612, 69615, 69618, 69620, 69621, 69624, 69625, 69627, 69630, 69633, 69635, 69636, 69639, 69640, 69642, 69645, 69648, 69650, 69651, 69654, 69655, 69657, 69660, 69663, 69665, 69666, 69669, 69670, 69672, 69675, 69678, 69680, 69681, 69684, 69685, 69687, 69690, 69693, 69695, 69696, 69699, 69700, 69702, 69705, 69708, 69710, 69711, 69714, 69715, 69717, 69720, 69723, 69725, 69726, 69729, 69730, 69732, 69735, 69738, 69740, 69741, 69744, 69745, 69747, 69750, 69753, 69755, 69756, 69759, 69760, 69762, 69765, 69768, 69770, 69771, 69774, 69775, 69777, 69780, 69783, 69785, 69786, 69789, 69790, 69792, 69795, 69798, 69800, 69801, 69804, 69805, 69807, 69810, 69813, 69815, 69816, 69819, 69820, 69822, 69825, 69828, 69830, 69831, 69834, 69835, 69837, 69840, 69843, 69845, 69846, 69849, 69850, 69852, 69855, 69858, 69860, 69861, 69864, 69865, 69867, 69870, 69873, 69875, 69876, 69879, 69880, 69882, 69885, 69888, 69890, 69891, 69894, 69895, 69897, 69900, 69903, 69905, 69906, 69909, 69910, 69912, 69915, 69918, 69920, 69921, 69924, 69925, 69927, 69930, 69933, 69935, 69936, 69939, 69940, 69942, 69945, 69948, 69950, 69951, 69954, 69955, 69957, 69960, 69963, 69965, 69966, 69969, 69970, 69972, 69975, 69978, 69980, 69981, 69984, 69985, 69987, 69990, 69993, 69995, 69996, 69999, 70000, 70002, 70005, 70008, 70010, 70011, 70014, 70015, 70017, 70020, 70023, 70025, 70026, 70029, 70030, 70032, 70035, 70038, 70040, 70041, 70044, 70045, 70047, 70050, 70053, 70055, 70056, 70059, 70060, 70062, 70065, 70068, 70070, 70071, 70074, 70075, 70077, 70080, 70083, 70085, 70086, 70089, 70090, 70092, 70095, 70098, 70100, 70101, 70104, 70105, 70107, 70110, 70113, 70115, 70116, 70119, 70120, 70122, 70125, 70128, 70130, 70131, 70134, 70135, 70137, 70140, 70143, 70145, 70146, 70149, 70150, 70152, 70155, 70158, 70160, 70161, 70164, 70165, 70167, 70170, 70173, 70175, 70176, 70179, 70180, 70182, 70185, 70188, 70190, 70191, 70194, 70195, 70197, 70200, 70203, 70205, 70206, 70209, 70210, 70212, 70215, 70218, 70220, 70221, 70224, 70225, 70227, 70230, 70233, 70235, 70236, 70239, 70240, 70242, 70245, 70248, 70250, 70251, 70254, 70255, 70257, 70260, 70263, 70265, 70266, 70269, 70270, 70272, 70275, 70278, 70280, 70281, 70284, 70285, 70287, 70290, 70293, 70295, 70296, 70299, 70300, 70302, 70305, 70308, 70310, 70311, 70314, 70315, 70317, 70320, 70323, 70325, 70326, 70329, 70330, 70332, 70335, 70338, 70340, 70341, 70344, 70345, 70347, 70350, 70353, 70355, 70356, 70359, 70360, 70362, 70365, 70368, 70370, 70371, 70374, 70375, 70377, 70380, 70383, 70385, 70386, 70389, 70390, 70392, 70395, 70398, 70400, 70401, 70404, 70405, 70407, 70410, 70413, 70415, 70416, 70419, 70420, 70422, 70425, 70428, 70430, 70431, 70434, 70435, 70437, 70440, 70443, 70445, 70446, 70449, 70450, 70452, 70455, 70458, 70460, 70461, 70464, 70465, 70467, 70470, 70473, 70475, 70476, 70479, 70480, 70482, 70485, 70488, 70490, 70491, 70494, 70495, 70497, 70500, 70503, 70505, 70506, 70509, 70510, 70512, 70515, 70518, 70520, 70521, 70524, 70525, 70527, 70530, 70533, 70535, 70536, 70539, 70540, 70542, 70545, 70548, 70550, 70551, 70554, 70555, 70557, 70560, 70563, 70565, 70566, 70569, 70570, 70572, 70575, 70578, 70580, 70581, 70584, 70585, 70587, 70590, 70593, 70595, 70596, 70599, 70600, 70602, 70605, 70608, 70610, 70611, 70614, 70615, 70617, 70620, 70623, 70625, 70626, 70629, 70630, 70632, 70635, 70638, 70640, 70641, 70644, 70645, 70647, 70650, 70653, 70655, 70656, 70659, 70660, 70662, 70665, 70668, 70670, 70671, 70674, 70675, 70677, 70680, 70683, 70685, 70686, 70689, 70690, 70692, 70695, 70698, 70700, 70701, 70704, 70705, 70707, 70710, 70713, 70715, 70716, 70719, 70720, 70722, 70725, 70728, 70730, 70731, 70734, 70735, 70737, 70740, 70743, 70745, 70746, 70749, 70750, 70752, 70755, 70758, 70760, 70761, 70764, 70765, 70767, 70770, 70773, 70775, 70776, 70779, 70780, 70782, 70785, 70788, 70790, 70791, 70794, 70795, 70797, 70800, 70803, 70805, 70806, 70809, 70810, 70812, 70815, 70818, 70820, 70821, 70824, 70825, 70827, 70830, 70833, 70835, 70836, 70839, 70840, 70842, 70845, 70848, 70850, 70851, 70854, 70855, 70857, 70860, 70863, 70865, 70866, 70869, 70870, 70872, 70875, 70878, 70880, 70881, 70884, 70885, 70887, 70890, 70893, 70895, 70896, 70899, 70900, 70902, 70905, 70908, 70910, 70911, 70914, 70915, 70917, 70920, 70923, 70925, 70926, 70929, 70930, 70932, 70935, 70938, 70940, 70941, 70944, 70945, 70947, 70950, 70953, 70955, 70956, 70959, 70960, 70962, 70965, 70968, 70970, 70971, 70974, 70975, 70977, 70980, 70983, 70985, 70986, 70989, 70990, 70992, 70995, 70998, 71000, 71001, 71004, 71005, 71007, 71010, 71013, 71015, 71016, 71019, 71020, 71022, 71025, 71028, 71030, 71031, 71034, 71035, 71037, 71040, 71043, 71045, 71046, 71049, 71050, 71052, 71055, 71058, 71060, 71061, 71064, 71065, 71067, 71070, 71073, 71075, 71076, 71079, 71080, 71082, 71085, 71088, 71090, 71091, 71094, 71095, 71097, 71100, 71103, 71105, 71106, 71109, 71110, 71112, 71115, 71118, 71120, 71121, 71124, 71125, 71127, 71130, 71133, 71135, 71136, 71139, 71140, 71142, 71145, 71148, 71150, 71151, 71154, 71155, 71157, 71160, 71163, 71165, 71166, 71169, 71170, 71172, 71175, 71178, 71180, 71181, 71184, 71185, 71187, 71190, 71193, 71195, 71196, 71199, 71200, 71202, 71205, 71208, 71210, 71211, 71214, 71215, 71217, 71220, 71223, 71225, 71226, 71229, 71230, 71232, 71235, 71238, 71240, 71241, 71244, 71245, 71247, 71250, 71253, 71255, 71256, 71259, 71260, 71262, 71265, 71268, 71270, 71271, 71274, 71275, 71277, 71280, 71283, 71285, 71286, 71289, 71290, 71292, 71295, 71298, 71300, 71301, 71304, 71305, 71307, 71310, 71313, 71315, 71316, 71319, 71320, 71322, 71325, 71328, 71330, 71331, 71334, 71335, 71337, 71340, 71343, 71345, 71346, 71349, 71350, 71352, 71355, 71358, 71360, 71361, 71364, 71365, 71367, 71370, 71373, 71375, 71376, 71379, 71380, 71382, 71385, 71388, 71390, 71391, 71394, 71395, 71397, 71400, 71403, 71405, 71406, 71409, 71410, 71412, 71415, 71418, 71420, 71421, 71424, 71425, 71427, 71430, 71433, 71435, 71436, 71439, 71440, 71442, 71445, 71448, 71450, 71451, 71454, 71455, 71457, 71460, 71463, 71465, 71466, 71469, 71470, 71472, 71475, 71478, 71480, 71481, 71484, 71485, 71487, 71490, 71493, 71495, 71496, 71499, 71500, 71502, 71505, 71508, 71510, 71511, 71514, 71515, 71517, 71520, 71523, 71525, 71526, 71529, 71530, 71532, 71535, 71538, 71540, 71541, 71544, 71545, 71547, 71550, 71553, 71555, 71556, 71559, 71560, 71562, 71565, 71568, 71570, 71571, 71574, 71575, 71577, 71580, 71583, 71585, 71586, 71589, 71590, 71592, 71595, 71598, 71600, 71601, 71604, 71605, 71607, 71610, 71613, 71615, 71616, 71619, 71620, 71622, 71625, 71628, 71630, 71631, 71634, 71635, 71637, 71640, 71643, 71645, 71646, 71649, 71650, 71652, 71655, 71658, 71660, 71661, 71664, 71665, 71667, 71670, 71673, 71675, 71676, 71679, 71680, 71682, 71685, 71688, 71690, 71691, 71694, 71695, 71697, 71700, 71703, 71705, 71706, 71709, 71710, 71712, 71715, 71718, 71720, 71721, 71724, 71725, 71727, 71730, 71733, 71735, 71736, 71739, 71740, 71742, 71745, 71748, 71750, 71751, 71754, 71755, 71757, 71760, 71763, 71765, 71766, 71769, 71770, 71772, 71775, 71778, 71780, 71781, 71784, 71785, 71787, 71790, 71793, 71795, 71796, 71799, 71800, 71802, 71805, 71808, 71810, 71811, 71814, 71815, 71817, 71820, 71823, 71825, 71826, 71829, 71830, 71832, 71835, 71838, 71840, 71841, 71844, 71845, 71847, 71850, 71853, 71855, 71856, 71859, 71860, 71862, 71865, 71868, 71870, 71871, 71874, 71875, 71877, 71880, 71883, 71885, 71886, 71889, 71890, 71892, 71895, 71898, 71900, 71901, 71904, 71905, 71907, 71910, 71913, 71915, 71916, 71919, 71920, 71922, 71925, 71928, 71930, 71931, 71934, 71935, 71937, 71940, 71943, 71945, 71946, 71949, 71950, 71952, 71955, 71958, 71960, 71961, 71964, 71965, 71967, 71970, 71973, 71975, 71976, 71979, 71980, 71982, 71985, 71988, 71990, 71991, 71994, 71995, 71997, 72000, 72003, 72005, 72006, 72009, 72010, 72012, 72015, 72018, 72020, 72021, 72024, 72025, 72027, 72030, 72033, 72035, 72036, 72039, 72040, 72042, 72045, 72048, 72050, 72051, 72054, 72055, 72057, 72060, 72063, 72065, 72066, 72069, 72070, 72072, 72075, 72078, 72080, 72081, 72084, 72085, 72087, 72090, 72093, 72095, 72096, 72099, 72100, 72102, 72105, 72108, 72110, 72111, 72114, 72115, 72117, 72120, 72123, 72125, 72126, 72129, 72130, 72132, 72135, 72138, 72140, 72141, 72144, 72145, 72147, 72150, 72153, 72155, 72156, 72159, 72160, 72162, 72165, 72168, 72170, 72171, 72174, 72175, 72177, 72180, 72183, 72185, 72186, 72189, 72190, 72192, 72195, 72198, 72200, 72201, 72204, 72205, 72207, 72210, 72213, 72215, 72216, 72219, 72220, 72222, 72225, 72228, 72230, 72231, 72234, 72235, 72237, 72240, 72243, 72245, 72246, 72249, 72250, 72252, 72255, 72258, 72260, 72261, 72264, 72265, 72267, 72270, 72273, 72275, 72276, 72279, 72280, 72282, 72285, 72288, 72290, 72291, 72294, 72295, 72297, 72300, 72303, 72305, 72306, 72309, 72310, 72312, 72315, 72318, 72320, 72321, 72324, 72325, 72327, 72330, 72333, 72335, 72336, 72339, 72340, 72342, 72345, 72348, 72350, 72351, 72354, 72355, 72357, 72360, 72363, 72365, 72366, 72369, 72370, 72372, 72375, 72378, 72380, 72381, 72384, 72385, 72387, 72390, 72393, 72395, 72396, 72399, 72400, 72402, 72405, 72408, 72410, 72411, 72414, 72415, 72417, 72420, 72423, 72425, 72426, 72429, 72430, 72432, 72435, 72438, 72440, 72441, 72444, 72445, 72447, 72450, 72453, 72455, 72456, 72459, 72460, 72462, 72465, 72468, 72470, 72471, 72474, 72475, 72477, 72480, 72483, 72485, 72486, 72489, 72490, 72492, 72495, 72498, 72500, 72501, 72504, 72505, 72507, 72510, 72513, 72515, 72516, 72519, 72520, 72522, 72525, 72528, 72530, 72531, 72534, 72535, 72537, 72540, 72543, 72545, 72546, 72549, 72550, 72552, 72555, 72558, 72560, 72561, 72564, 72565, 72567, 72570, 72573, 72575, 72576, 72579, 72580, 72582, 72585, 72588, 72590, 72591, 72594, 72595, 72597, 72600, 72603, 72605, 72606, 72609, 72610, 72612, 72615, 72618, 72620, 72621, 72624, 72625, 72627, 72630, 72633, 72635, 72636, 72639, 72640, 72642, 72645, 72648, 72650, 72651, 72654, 72655, 72657, 72660, 72663, 72665, 72666, 72669, 72670, 72672, 72675, 72678, 72680, 72681, 72684, 72685, 72687, 72690, 72693, 72695, 72696, 72699, 72700, 72702, 72705, 72708, 72710, 72711, 72714, 72715, 72717, 72720, 72723, 72725, 72726, 72729, 72730, 72732, 72735, 72738, 72740, 72741, 72744, 72745, 72747, 72750, 72753, 72755, 72756, 72759, 72760, 72762, 72765, 72768, 72770, 72771, 72774, 72775, 72777, 72780, 72783, 72785, 72786, 72789, 72790, 72792, 72795, 72798, 72800, 72801, 72804, 72805, 72807, 72810, 72813, 72815, 72816, 72819, 72820, 72822, 72825, 72828, 72830, 72831, 72834, 72835, 72837, 72840, 72843, 72845, 72846, 72849, 72850, 72852, 72855, 72858, 72860, 72861, 72864, 72865, 72867, 72870, 72873, 72875, 72876, 72879, 72880, 72882, 72885, 72888, 72890, 72891, 72894, 72895, 72897, 72900, 72903, 72905, 72906, 72909, 72910, 72912, 72915, 72918, 72920, 72921, 72924, 72925, 72927, 72930, 72933, 72935, 72936, 72939, 72940, 72942, 72945, 72948, 72950, 72951, 72954, 72955, 72957, 72960, 72963, 72965, 72966, 72969, 72970, 72972, 72975, 72978, 72980, 72981, 72984, 72985, 72987, 72990, 72993, 72995, 72996, 72999, 73000, 73002, 73005, 73008, 73010, 73011, 73014, 73015, 73017, 73020, 73023, 73025, 73026, 73029, 73030, 73032, 73035, 73038, 73040, 73041, 73044, 73045, 73047, 73050, 73053, 73055, 73056, 73059, 73060, 73062, 73065, 73068, 73070, 73071, 73074, 73075, 73077, 73080, 73083, 73085, 73086, 73089, 73090, 73092, 73095, 73098, 73100, 73101, 73104, 73105, 73107, 73110, 73113, 73115, 73116, 73119, 73120, 73122, 73125, 73128, 73130, 73131, 73134, 73135, 73137, 73140, 73143, 73145, 73146, 73149, 73150, 73152, 73155, 73158, 73160, 73161, 73164, 73165, 73167, 73170, 73173, 73175, 73176, 73179, 73180, 73182, 73185, 73188, 73190, 73191, 73194, 73195, 73197, 73200, 73203, 73205, 73206, 73209, 73210, 73212, 73215, 73218, 73220, 73221, 73224, 73225, 73227, 73230, 73233, 73235, 73236, 73239, 73240, 73242, 73245, 73248, 73250, 73251, 73254, 73255, 73257, 73260, 73263, 73265, 73266, 73269, 73270, 73272, 73275, 73278, 73280, 73281, 73284, 73285, 73287, 73290, 73293, 73295, 73296, 73299, 73300, 73302, 73305, 73308, 73310, 73311, 73314, 73315, 73317, 73320, 73323, 73325, 73326, 73329, 73330, 73332, 73335, 73338, 73340, 73341, 73344, 73345, 73347, 73350, 73353, 73355, 73356, 73359, 73360, 73362, 73365, 73368, 73370, 73371, 73374, 73375, 73377, 73380, 73383, 73385, 73386, 73389, 73390, 73392, 73395, 73398, 73400, 73401, 73404, 73405, 73407, 73410, 73413, 73415, 73416, 73419, 73420, 73422, 73425, 73428, 73430, 73431, 73434, 73435, 73437, 73440, 73443, 73445, 73446, 73449, 73450, 73452, 73455, 73458, 73460, 73461, 73464, 73465, 73467, 73470, 73473, 73475, 73476, 73479, 73480, 73482, 73485, 73488, 73490, 73491, 73494, 73495, 73497, 73500, 73503, 73505, 73506, 73509, 73510, 73512, 73515, 73518, 73520, 73521, 73524, 73525, 73527, 73530, 73533, 73535, 73536, 73539, 73540, 73542, 73545, 73548, 73550, 73551, 73554, 73555, 73557, 73560, 73563, 73565, 73566, 73569, 73570, 73572, 73575, 73578, 73580, 73581, 73584, 73585, 73587, 73590, 73593, 73595, 73596, 73599, 73600, 73602, 73605, 73608, 73610, 73611, 73614, 73615, 73617, 73620, 73623, 73625, 73626, 73629, 73630, 73632, 73635, 73638, 73640, 73641, 73644, 73645, 73647, 73650, 73653, 73655, 73656, 73659, 73660, 73662, 73665, 73668, 73670, 73671, 73674, 73675, 73677, 73680, 73683, 73685, 73686, 73689, 73690, 73692, 73695, 73698, 73700, 73701, 73704, 73705, 73707, 73710, 73713, 73715, 73716, 73719, 73720, 73722, 73725, 73728, 73730, 73731, 73734, 73735, 73737, 73740, 73743, 73745, 73746, 73749, 73750, 73752, 73755, 73758, 73760, 73761, 73764, 73765, 73767, 73770, 73773, 73775, 73776, 73779, 73780, 73782, 73785, 73788, 73790, 73791, 73794, 73795, 73797, 73800, 73803, 73805, 73806, 73809, 73810, 73812, 73815, 73818, 73820, 73821, 73824, 73825, 73827, 73830, 73833, 73835, 73836, 73839, 73840, 73842, 73845, 73848, 73850, 73851, 73854, 73855, 73857, 73860, 73863, 73865, 73866, 73869, 73870, 73872, 73875, 73878, 73880, 73881, 73884, 73885, 73887, 73890, 73893, 73895, 73896, 73899, 73900, 73902, 73905, 73908, 73910, 73911, 73914, 73915, 73917, 73920, 73923, 73925, 73926, 73929, 73930, 73932, 73935, 73938, 73940, 73941, 73944, 73945, 73947, 73950, 73953, 73955, 73956, 73959, 73960, 73962, 73965, 73968, 73970, 73971, 73974, 73975, 73977, 73980, 73983, 73985, 73986, 73989, 73990, 73992, 73995, 73998, 74000, 74001, 74004, 74005, 74007, 74010, 74013, 74015, 74016, 74019, 74020, 74022, 74025, 74028, 74030, 74031, 74034, 74035, 74037, 74040, 74043, 74045, 74046, 74049, 74050, 74052, 74055, 74058, 74060, 74061, 74064, 74065, 74067, 74070, 74073, 74075, 74076, 74079, 74080, 74082, 74085, 74088, 74090, 74091, 74094, 74095, 74097, 74100, 74103, 74105, 74106, 74109, 74110, 74112, 74115, 74118, 74120, 74121, 74124, 74125, 74127, 74130, 74133, 74135, 74136, 74139, 74140, 74142, 74145, 74148, 74150, 74151, 74154, 74155, 74157, 74160, 74163, 74165, 74166, 74169, 74170, 74172, 74175, 74178, 74180, 74181, 74184, 74185, 74187, 74190, 74193, 74195, 74196, 74199, 74200, 74202, 74205, 74208, 74210, 74211, 74214, 74215, 74217, 74220, 74223, 74225, 74226, 74229, 74230, 74232, 74235, 74238, 74240, 74241, 74244, 74245, 74247, 74250, 74253, 74255, 74256, 74259, 74260, 74262, 74265, 74268, 74270, 74271, 74274, 74275, 74277, 74280, 74283, 74285, 74286, 74289, 74290, 74292, 74295, 74298, 74300, 74301, 74304, 74305, 74307, 74310, 74313, 74315, 74316, 74319, 74320, 74322, 74325, 74328, 74330, 74331, 74334, 74335, 74337, 74340, 74343, 74345, 74346, 74349, 74350, 74352, 74355, 74358, 74360, 74361, 74364, 74365, 74367, 74370, 74373, 74375, 74376, 74379, 74380, 74382, 74385, 74388, 74390, 74391, 74394, 74395, 74397, 74400, 74403, 74405, 74406, 74409, 74410, 74412, 74415, 74418, 74420, 74421, 74424, 74425, 74427, 74430, 74433, 74435, 74436, 74439, 74440, 74442, 74445, 74448, 74450, 74451, 74454, 74455, 74457, 74460, 74463, 74465, 74466, 74469, 74470, 74472, 74475, 74478, 74480, 74481, 74484, 74485, 74487, 74490, 74493, 74495, 74496, 74499, 74500, 74502, 74505, 74508, 74510, 74511, 74514, 74515, 74517, 74520, 74523, 74525, 74526, 74529, 74530, 74532, 74535, 74538, 74540, 74541, 74544, 74545, 74547, 74550, 74553, 74555, 74556, 74559, 74560, 74562, 74565, 74568, 74570, 74571, 74574, 74575, 74577, 74580, 74583, 74585, 74586, 74589, 74590, 74592, 74595, 74598, 74600, 74601, 74604, 74605, 74607, 74610, 74613, 74615, 74616, 74619, 74620, 74622, 74625, 74628, 74630, 74631, 74634, 74635, 74637, 74640, 74643, 74645, 74646, 74649, 74650, 74652, 74655, 74658, 74660, 74661, 74664, 74665, 74667, 74670, 74673, 74675, 74676, 74679, 74680, 74682, 74685, 74688, 74690, 74691, 74694, 74695, 74697, 74700, 74703, 74705, 74706, 74709, 74710, 74712, 74715, 74718, 74720, 74721, 74724, 74725, 74727, 74730, 74733, 74735, 74736, 74739, 74740, 74742, 74745, 74748, 74750, 74751, 74754, 74755, 74757, 74760, 74763, 74765, 74766, 74769, 74770, 74772, 74775, 74778, 74780, 74781, 74784, 74785, 74787, 74790, 74793, 74795, 74796, 74799, 74800, 74802, 74805, 74808, 74810, 74811, 74814, 74815, 74817, 74820, 74823, 74825, 74826, 74829, 74830, 74832, 74835, 74838, 74840, 74841, 74844, 74845, 74847, 74850, 74853, 74855, 74856, 74859, 74860, 74862, 74865, 74868, 74870, 74871, 74874, 74875, 74877, 74880, 74883, 74885, 74886, 74889, 74890, 74892, 74895, 74898, 74900, 74901, 74904, 74905, 74907, 74910, 74913, 74915, 74916, 74919, 74920, 74922, 74925, 74928, 74930, 74931, 74934, 74935, 74937, 74940, 74943, 74945, 74946, 74949, 74950, 74952, 74955, 74958, 74960, 74961, 74964, 74965, 74967, 74970, 74973, 74975, 74976, 74979, 74980, 74982, 74985, 74988, 74990, 74991, 74994, 74995, 74997, 75000, 75003, 75005, 75006, 75009, 75010, 75012, 75015, 75018, 75020, 75021, 75024, 75025, 75027, 75030, 75033, 75035, 75036, 75039, 75040, 75042, 75045, 75048, 75050, 75051, 75054, 75055, 75057, 75060, 75063, 75065, 75066, 75069, 75070, 75072, 75075, 75078, 75080, 75081, 75084, 75085, 75087, 75090, 75093, 75095, 75096, 75099, 75100, 75102, 75105, 75108, 75110, 75111, 75114, 75115, 75117, 75120, 75123, 75125, 75126, 75129, 75130, 75132, 75135, 75138, 75140, 75141, 75144, 75145, 75147, 75150, 75153, 75155, 75156, 75159, 75160, 75162, 75165, 75168, 75170, 75171, 75174, 75175, 75177, 75180, 75183, 75185, 75186, 75189, 75190, 75192, 75195, 75198, 75200, 75201, 75204, 75205, 75207, 75210, 75213, 75215, 75216, 75219, 75220, 75222, 75225, 75228, 75230, 75231, 75234, 75235, 75237, 75240, 75243, 75245, 75246, 75249, 75250, 75252, 75255, 75258, 75260, 75261, 75264, 75265, 75267, 75270, 75273, 75275, 75276, 75279, 75280, 75282, 75285, 75288, 75290, 75291, 75294, 75295, 75297, 75300, 75303, 75305, 75306, 75309, 75310, 75312, 75315, 75318, 75320, 75321, 75324, 75325, 75327, 75330, 75333, 75335, 75336, 75339, 75340, 75342, 75345, 75348, 75350, 75351, 75354, 75355, 75357, 75360, 75363, 75365, 75366, 75369, 75370, 75372, 75375, 75378, 75380, 75381, 75384, 75385, 75387, 75390, 75393, 75395, 75396, 75399, 75400, 75402, 75405, 75408, 75410, 75411, 75414, 75415, 75417, 75420, 75423, 75425, 75426, 75429, 75430, 75432, 75435, 75438, 75440, 75441, 75444, 75445, 75447, 75450, 75453, 75455, 75456, 75459, 75460, 75462, 75465, 75468, 75470, 75471, 75474, 75475, 75477, 75480, 75483, 75485, 75486, 75489, 75490, 75492, 75495, 75498, 75500, 75501, 75504, 75505, 75507, 75510, 75513, 75515, 75516, 75519, 75520, 75522, 75525, 75528, 75530, 75531, 75534, 75535, 75537, 75540, 75543, 75545, 75546, 75549, 75550, 75552, 75555, 75558, 75560, 75561, 75564, 75565, 75567, 75570, 75573, 75575, 75576, 75579, 75580, 75582, 75585, 75588, 75590, 75591, 75594, 75595, 75597, 75600, 75603, 75605, 75606, 75609, 75610, 75612, 75615, 75618, 75620, 75621, 75624, 75625, 75627, 75630, 75633, 75635, 75636, 75639, 75640, 75642, 75645, 75648, 75650, 75651, 75654, 75655, 75657, 75660, 75663, 75665, 75666, 75669, 75670, 75672, 75675, 75678, 75680, 75681, 75684, 75685, 75687, 75690, 75693, 75695, 75696, 75699, 75700, 75702, 75705, 75708, 75710, 75711, 75714, 75715, 75717, 75720, 75723, 75725, 75726, 75729, 75730, 75732, 75735, 75738, 75740, 75741, 75744, 75745, 75747, 75750, 75753, 75755, 75756, 75759, 75760, 75762, 75765, 75768, 75770, 75771, 75774, 75775, 75777, 75780, 75783, 75785, 75786, 75789, 75790, 75792, 75795, 75798, 75800, 75801, 75804, 75805, 75807, 75810, 75813, 75815, 75816, 75819, 75820, 75822, 75825, 75828, 75830, 75831, 75834, 75835, 75837, 75840, 75843, 75845, 75846, 75849, 75850, 75852, 75855, 75858, 75860, 75861, 75864, 75865, 75867, 75870, 75873, 75875, 75876, 75879, 75880, 75882, 75885, 75888, 75890, 75891, 75894, 75895, 75897, 75900, 75903, 75905, 75906, 75909, 75910, 75912, 75915, 75918, 75920, 75921, 75924, 75925, 75927, 75930, 75933, 75935, 75936, 75939, 75940, 75942, 75945, 75948, 75950, 75951, 75954, 75955, 75957, 75960, 75963, 75965, 75966, 75969, 75970, 75972, 75975, 75978, 75980, 75981, 75984, 75985, 75987, 75990, 75993, 75995, 75996, 75999, 76000, 76002, 76005, 76008, 76010, 76011, 76014, 76015, 76017, 76020, 76023, 76025, 76026, 76029, 76030, 76032, 76035, 76038, 76040, 76041, 76044, 76045, 76047, 76050, 76053, 76055, 76056, 76059, 76060, 76062, 76065, 76068, 76070, 76071, 76074, 76075, 76077, 76080, 76083, 76085, 76086, 76089, 76090, 76092, 76095, 76098, 76100, 76101, 76104, 76105, 76107, 76110, 76113, 76115, 76116, 76119, 76120, 76122, 76125, 76128, 76130, 76131, 76134, 76135, 76137, 76140, 76143, 76145, 76146, 76149, 76150, 76152, 76155, 76158, 76160, 76161, 76164, 76165, 76167, 76170, 76173, 76175, 76176, 76179, 76180, 76182, 76185, 76188, 76190, 76191, 76194, 76195, 76197, 76200, 76203, 76205, 76206, 76209, 76210, 76212, 76215, 76218, 76220, 76221, 76224, 76225, 76227, 76230, 76233, 76235, 76236, 76239, 76240, 76242, 76245, 76248, 76250, 76251, 76254, 76255, 76257, 76260, 76263, 76265, 76266, 76269, 76270, 76272, 76275, 76278, 76280, 76281, 76284, 76285, 76287, 76290, 76293, 76295, 76296, 76299, 76300, 76302, 76305, 76308, 76310, 76311, 76314, 76315, 76317, 76320, 76323, 76325, 76326, 76329, 76330, 76332, 76335, 76338, 76340, 76341, 76344, 76345, 76347, 76350, 76353, 76355, 76356, 76359, 76360, 76362, 76365, 76368, 76370, 76371, 76374, 76375, 76377, 76380, 76383, 76385, 76386, 76389, 76390, 76392, 76395, 76398, 76400, 76401, 76404, 76405, 76407, 76410, 76413, 76415, 76416, 76419, 76420, 76422, 76425, 76428, 76430, 76431, 76434, 76435, 76437, 76440, 76443, 76445, 76446, 76449, 76450, 76452, 76455, 76458, 76460, 76461, 76464, 76465, 76467, 76470, 76473, 76475, 76476, 76479, 76480, 76482, 76485, 76488, 76490, 76491, 76494, 76495, 76497, 76500, 76503, 76505, 76506, 76509, 76510, 76512, 76515, 76518, 76520, 76521, 76524, 76525, 76527, 76530, 76533, 76535, 76536, 76539, 76540, 76542, 76545, 76548, 76550, 76551, 76554, 76555, 76557, 76560, 76563, 76565, 76566, 76569, 76570, 76572, 76575, 76578, 76580, 76581, 76584, 76585, 76587, 76590, 76593, 76595, 76596, 76599, 76600, 76602, 76605, 76608, 76610, 76611, 76614, 76615, 76617, 76620, 76623, 76625, 76626, 76629, 76630, 76632, 76635, 76638, 76640, 76641, 76644, 76645, 76647, 76650, 76653, 76655, 76656, 76659, 76660, 76662, 76665, 76668, 76670, 76671, 76674, 76675, 76677, 76680, 76683, 76685, 76686, 76689, 76690, 76692, 76695, 76698, 76700, 76701, 76704, 76705, 76707, 76710, 76713, 76715, 76716, 76719, 76720, 76722, 76725, 76728, 76730, 76731, 76734, 76735, 76737, 76740, 76743, 76745, 76746, 76749, 76750, 76752, 76755, 76758, 76760, 76761, 76764, 76765, 76767, 76770, 76773, 76775, 76776, 76779, 76780, 76782, 76785, 76788, 76790, 76791, 76794, 76795, 76797, 76800, 76803, 76805, 76806, 76809, 76810, 76812, 76815, 76818, 76820, 76821, 76824, 76825, 76827, 76830, 76833, 76835, 76836, 76839, 76840, 76842, 76845, 76848, 76850, 76851, 76854, 76855, 76857, 76860, 76863, 76865, 76866, 76869, 76870, 76872, 76875, 76878, 76880, 76881, 76884, 76885, 76887, 76890, 76893, 76895, 76896, 76899, 76900, 76902, 76905, 76908, 76910, 76911, 76914, 76915, 76917, 76920, 76923, 76925, 76926, 76929, 76930, 76932, 76935, 76938, 76940, 76941, 76944, 76945, 76947, 76950, 76953, 76955, 76956, 76959, 76960, 76962, 76965, 76968, 76970, 76971, 76974, 76975, 76977, 76980, 76983, 76985, 76986, 76989, 76990, 76992, 76995, 76998, 77000, 77001, 77004, 77005, 77007, 77010, 77013, 77015, 77016, 77019, 77020, 77022, 77025, 77028, 77030, 77031, 77034, 77035, 77037, 77040, 77043, 77045, 77046, 77049, 77050, 77052, 77055, 77058, 77060, 77061, 77064, 77065, 77067, 77070, 77073, 77075, 77076, 77079, 77080, 77082, 77085, 77088, 77090, 77091, 77094, 77095, 77097, 77100, 77103, 77105, 77106, 77109, 77110, 77112, 77115, 77118, 77120, 77121, 77124, 77125, 77127, 77130, 77133, 77135, 77136, 77139, 77140, 77142, 77145, 77148, 77150, 77151, 77154, 77155, 77157, 77160, 77163, 77165, 77166, 77169, 77170, 77172, 77175, 77178, 77180, 77181, 77184, 77185, 77187, 77190, 77193, 77195, 77196, 77199, 77200, 77202, 77205, 77208, 77210, 77211, 77214, 77215, 77217, 77220, 77223, 77225, 77226, 77229, 77230, 77232, 77235, 77238, 77240, 77241, 77244, 77245, 77247, 77250, 77253, 77255, 77256, 77259, 77260, 77262, 77265, 77268, 77270, 77271, 77274, 77275, 77277, 77280, 77283, 77285, 77286, 77289, 77290, 77292, 77295, 77298, 77300, 77301, 77304, 77305, 77307, 77310, 77313, 77315, 77316, 77319, 77320, 77322, 77325, 77328, 77330, 77331, 77334, 77335, 77337, 77340, 77343, 77345, 77346, 77349, 77350, 77352, 77355, 77358, 77360, 77361, 77364, 77365, 77367, 77370, 77373, 77375, 77376, 77379, 77380, 77382, 77385, 77388, 77390, 77391, 77394, 77395, 77397, 77400, 77403, 77405, 77406, 77409, 77410, 77412, 77415, 77418, 77420, 77421, 77424, 77425, 77427, 77430, 77433, 77435, 77436, 77439, 77440, 77442, 77445, 77448, 77450, 77451, 77454, 77455, 77457, 77460, 77463, 77465, 77466, 77469, 77470, 77472, 77475, 77478, 77480, 77481, 77484, 77485, 77487, 77490, 77493, 77495, 77496, 77499, 77500, 77502, 77505, 77508, 77510, 77511, 77514, 77515, 77517, 77520, 77523, 77525, 77526, 77529, 77530, 77532, 77535, 77538, 77540, 77541, 77544, 77545, 77547, 77550, 77553, 77555, 77556, 77559, 77560, 77562, 77565, 77568, 77570, 77571, 77574, 77575, 77577, 77580, 77583, 77585, 77586, 77589, 77590, 77592, 77595, 77598, 77600, 77601, 77604, 77605, 77607, 77610, 77613, 77615, 77616, 77619, 77620, 77622, 77625, 77628, 77630, 77631, 77634, 77635, 77637, 77640, 77643, 77645, 77646, 77649, 77650, 77652, 77655, 77658, 77660, 77661, 77664, 77665, 77667, 77670, 77673, 77675, 77676, 77679, 77680, 77682, 77685, 77688, 77690, 77691, 77694, 77695, 77697, 77700, 77703, 77705, 77706, 77709, 77710, 77712, 77715, 77718, 77720, 77721, 77724, 77725, 77727, 77730, 77733, 77735, 77736, 77739, 77740, 77742, 77745, 77748, 77750, 77751, 77754, 77755, 77757, 77760, 77763, 77765, 77766, 77769, 77770, 77772, 77775, 77778, 77780, 77781, 77784, 77785, 77787, 77790, 77793, 77795, 77796, 77799, 77800, 77802, 77805, 77808, 77810, 77811, 77814, 77815, 77817, 77820, 77823, 77825, 77826, 77829, 77830, 77832, 77835, 77838, 77840, 77841, 77844, 77845, 77847, 77850, 77853, 77855, 77856, 77859, 77860, 77862, 77865, 77868, 77870, 77871, 77874, 77875, 77877, 77880, 77883, 77885, 77886, 77889, 77890, 77892, 77895, 77898, 77900, 77901, 77904, 77905, 77907, 77910, 77913, 77915, 77916, 77919, 77920, 77922, 77925, 77928, 77930, 77931, 77934, 77935, 77937, 77940, 77943, 77945, 77946, 77949, 77950, 77952, 77955, 77958, 77960, 77961, 77964, 77965, 77967, 77970, 77973, 77975, 77976, 77979, 77980, 77982, 77985, 77988, 77990, 77991, 77994, 77995, 77997, 78000, 78003, 78005, 78006, 78009, 78010, 78012, 78015, 78018, 78020, 78021, 78024, 78025, 78027, 78030, 78033, 78035, 78036, 78039, 78040, 78042, 78045, 78048, 78050, 78051, 78054, 78055, 78057, 78060, 78063, 78065, 78066, 78069, 78070, 78072, 78075, 78078, 78080, 78081, 78084, 78085, 78087, 78090, 78093, 78095, 78096, 78099, 78100, 78102, 78105, 78108, 78110, 78111, 78114, 78115, 78117, 78120, 78123, 78125, 78126, 78129, 78130, 78132, 78135, 78138, 78140, 78141, 78144, 78145, 78147, 78150, 78153, 78155, 78156, 78159, 78160, 78162, 78165, 78168, 78170, 78171, 78174, 78175, 78177, 78180, 78183, 78185, 78186, 78189, 78190, 78192, 78195, 78198, 78200, 78201, 78204, 78205, 78207, 78210, 78213, 78215, 78216, 78219, 78220, 78222, 78225, 78228, 78230, 78231, 78234, 78235, 78237, 78240, 78243, 78245, 78246, 78249, 78250, 78252, 78255, 78258, 78260, 78261, 78264, 78265, 78267, 78270, 78273, 78275, 78276, 78279, 78280, 78282, 78285, 78288, 78290, 78291, 78294, 78295, 78297, 78300, 78303, 78305, 78306, 78309, 78310, 78312, 78315, 78318, 78320, 78321, 78324, 78325, 78327, 78330, 78333, 78335, 78336, 78339, 78340, 78342, 78345, 78348, 78350, 78351, 78354, 78355, 78357, 78360, 78363, 78365, 78366, 78369, 78370, 78372, 78375, 78378, 78380, 78381, 78384, 78385, 78387, 78390, 78393, 78395, 78396, 78399, 78400, 78402, 78405, 78408, 78410, 78411, 78414, 78415, 78417, 78420, 78423, 78425, 78426, 78429, 78430, 78432, 78435, 78438, 78440, 78441, 78444, 78445, 78447, 78450, 78453, 78455, 78456, 78459, 78460, 78462, 78465, 78468, 78470, 78471, 78474, 78475, 78477, 78480, 78483, 78485, 78486, 78489, 78490, 78492, 78495, 78498, 78500, 78501, 78504, 78505, 78507, 78510, 78513, 78515, 78516, 78519, 78520, 78522, 78525, 78528, 78530, 78531, 78534, 78535, 78537, 78540, 78543, 78545, 78546, 78549, 78550, 78552, 78555, 78558, 78560, 78561, 78564, 78565, 78567, 78570, 78573, 78575, 78576, 78579, 78580, 78582, 78585, 78588, 78590, 78591, 78594, 78595, 78597, 78600, 78603, 78605, 78606, 78609, 78610, 78612, 78615, 78618, 78620, 78621, 78624, 78625, 78627, 78630, 78633, 78635, 78636, 78639, 78640, 78642, 78645, 78648, 78650, 78651, 78654, 78655, 78657, 78660, 78663, 78665, 78666, 78669, 78670, 78672, 78675, 78678, 78680, 78681, 78684, 78685, 78687, 78690, 78693, 78695, 78696, 78699, 78700, 78702, 78705, 78708, 78710, 78711, 78714, 78715, 78717, 78720, 78723, 78725, 78726, 78729, 78730, 78732, 78735, 78738, 78740, 78741, 78744, 78745, 78747, 78750, 78753, 78755, 78756, 78759, 78760, 78762, 78765, 78768, 78770, 78771, 78774, 78775, 78777, 78780, 78783, 78785, 78786, 78789, 78790, 78792, 78795, 78798, 78800, 78801, 78804, 78805, 78807, 78810, 78813, 78815, 78816, 78819, 78820, 78822, 78825, 78828, 78830, 78831, 78834, 78835, 78837, 78840, 78843, 78845, 78846, 78849, 78850, 78852, 78855, 78858, 78860, 78861, 78864, 78865, 78867, 78870, 78873, 78875, 78876, 78879, 78880, 78882, 78885, 78888, 78890, 78891, 78894, 78895, 78897, 78900, 78903, 78905, 78906, 78909, 78910, 78912, 78915, 78918, 78920, 78921, 78924, 78925, 78927, 78930, 78933, 78935, 78936, 78939, 78940, 78942, 78945, 78948, 78950, 78951, 78954, 78955, 78957, 78960, 78963, 78965, 78966, 78969, 78970, 78972, 78975, 78978, 78980, 78981, 78984, 78985, 78987, 78990, 78993, 78995, 78996, 78999, 79000, 79002, 79005, 79008, 79010, 79011, 79014, 79015, 79017, 79020, 79023, 79025, 79026, 79029, 79030, 79032, 79035, 79038, 79040, 79041, 79044, 79045, 79047, 79050, 79053, 79055, 79056, 79059, 79060, 79062, 79065, 79068, 79070, 79071, 79074, 79075, 79077, 79080, 79083, 79085, 79086, 79089, 79090, 79092, 79095, 79098, 79100, 79101, 79104, 79105, 79107, 79110, 79113, 79115, 79116, 79119, 79120, 79122, 79125, 79128, 79130, 79131, 79134, 79135, 79137, 79140, 79143, 79145, 79146, 79149, 79150, 79152, 79155, 79158, 79160, 79161, 79164, 79165, 79167, 79170, 79173, 79175, 79176, 79179, 79180, 79182, 79185, 79188, 79190, 79191, 79194, 79195, 79197, 79200, 79203, 79205, 79206, 79209, 79210, 79212, 79215, 79218, 79220, 79221, 79224, 79225, 79227, 79230, 79233, 79235, 79236, 79239, 79240, 79242, 79245, 79248, 79250, 79251, 79254, 79255, 79257, 79260, 79263, 79265, 79266, 79269, 79270, 79272, 79275, 79278, 79280, 79281, 79284, 79285, 79287, 79290, 79293, 79295, 79296, 79299, 79300, 79302, 79305, 79308, 79310, 79311, 79314, 79315, 79317, 79320, 79323, 79325, 79326, 79329, 79330, 79332, 79335, 79338, 79340, 79341, 79344, 79345, 79347, 79350, 79353, 79355, 79356, 79359, 79360, 79362, 79365, 79368, 79370, 79371, 79374, 79375, 79377, 79380, 79383, 79385, 79386, 79389, 79390, 79392, 79395, 79398, 79400, 79401, 79404, 79405, 79407, 79410, 79413, 79415, 79416, 79419, 79420, 79422, 79425, 79428, 79430, 79431, 79434, 79435, 79437, 79440, 79443, 79445, 79446, 79449, 79450, 79452, 79455, 79458, 79460, 79461, 79464, 79465, 79467, 79470, 79473, 79475, 79476, 79479, 79480, 79482, 79485, 79488, 79490, 79491, 79494, 79495, 79497, 79500, 79503, 79505, 79506, 79509, 79510, 79512, 79515, 79518, 79520, 79521, 79524, 79525, 79527, 79530, 79533, 79535, 79536, 79539, 79540, 79542, 79545, 79548, 79550, 79551, 79554, 79555, 79557, 79560, 79563, 79565, 79566, 79569, 79570, 79572, 79575, 79578, 79580, 79581, 79584, 79585, 79587, 79590, 79593, 79595, 79596, 79599, 79600, 79602, 79605, 79608, 79610, 79611, 79614, 79615, 79617, 79620, 79623, 79625, 79626, 79629, 79630, 79632, 79635, 79638, 79640, 79641, 79644, 79645, 79647, 79650, 79653, 79655, 79656, 79659, 79660, 79662, 79665, 79668, 79670, 79671, 79674, 79675, 79677, 79680, 79683, 79685, 79686, 79689, 79690, 79692, 79695, 79698, 79700, 79701, 79704, 79705, 79707, 79710, 79713, 79715, 79716, 79719, 79720, 79722, 79725, 79728, 79730, 79731, 79734, 79735, 79737, 79740, 79743, 79745, 79746, 79749, 79750, 79752, 79755, 79758, 79760, 79761, 79764, 79765, 79767, 79770, 79773, 79775, 79776, 79779, 79780, 79782, 79785, 79788, 79790, 79791, 79794, 79795, 79797, 79800, 79803, 79805, 79806, 79809, 79810, 79812, 79815, 79818, 79820, 79821, 79824, 79825, 79827, 79830, 79833, 79835, 79836, 79839, 79840, 79842, 79845, 79848, 79850, 79851, 79854, 79855, 79857, 79860, 79863, 79865, 79866, 79869, 79870, 79872, 79875, 79878, 79880, 79881, 79884, 79885, 79887, 79890, 79893, 79895, 79896, 79899, 79900, 79902, 79905, 79908, 79910, 79911, 79914, 79915, 79917, 79920, 79923, 79925, 79926, 79929, 79930, 79932, 79935, 79938, 79940, 79941, 79944, 79945, 79947, 79950, 79953, 79955, 79956, 79959, 79960, 79962, 79965, 79968, 79970, 79971, 79974, 79975, 79977, 79980, 79983, 79985, 79986, 79989, 79990, 79992, 79995, 79998, 80000, 80001, 80004, 80005, 80007, 80010, 80013, 80015, 80016, 80019, 80020, 80022, 80025, 80028, 80030, 80031, 80034, 80035, 80037, 80040, 80043, 80045, 80046, 80049, 80050, 80052, 80055, 80058, 80060, 80061, 80064, 80065, 80067, 80070, 80073, 80075, 80076, 80079, 80080, 80082, 80085, 80088, 80090, 80091, 80094, 80095, 80097, 80100, 80103, 80105, 80106, 80109, 80110, 80112, 80115, 80118, 80120, 80121, 80124, 80125, 80127, 80130, 80133, 80135, 80136, 80139, 80140, 80142, 80145, 80148, 80150, 80151, 80154, 80155, 80157, 80160, 80163, 80165, 80166, 80169, 80170, 80172, 80175, 80178, 80180, 80181, 80184, 80185, 80187, 80190, 80193, 80195, 80196, 80199, 80200, 80202, 80205, 80208, 80210, 80211, 80214, 80215, 80217, 80220, 80223, 80225, 80226, 80229, 80230, 80232, 80235, 80238, 80240, 80241, 80244, 80245, 80247, 80250, 80253, 80255, 80256, 80259, 80260, 80262, 80265, 80268, 80270, 80271, 80274, 80275, 80277, 80280, 80283, 80285, 80286, 80289, 80290, 80292, 80295, 80298, 80300, 80301, 80304, 80305, 80307, 80310, 80313, 80315, 80316, 80319, 80320, 80322, 80325, 80328, 80330, 80331, 80334, 80335, 80337, 80340, 80343, 80345, 80346, 80349, 80350, 80352, 80355, 80358, 80360, 80361, 80364, 80365, 80367, 80370, 80373, 80375, 80376, 80379, 80380, 80382, 80385, 80388, 80390, 80391, 80394, 80395, 80397, 80400, 80403, 80405, 80406, 80409, 80410, 80412, 80415, 80418, 80420, 80421, 80424, 80425, 80427, 80430, 80433, 80435, 80436, 80439, 80440, 80442, 80445, 80448, 80450, 80451, 80454, 80455, 80457, 80460, 80463, 80465, 80466, 80469, 80470, 80472, 80475, 80478, 80480, 80481, 80484, 80485, 80487, 80490, 80493, 80495, 80496, 80499, 80500, 80502, 80505, 80508, 80510, 80511, 80514, 80515, 80517, 80520, 80523, 80525, 80526, 80529, 80530, 80532, 80535, 80538, 80540, 80541, 80544, 80545, 80547, 80550, 80553, 80555, 80556, 80559, 80560, 80562, 80565, 80568, 80570, 80571, 80574, 80575, 80577, 80580, 80583, 80585, 80586, 80589, 80590, 80592, 80595, 80598, 80600, 80601, 80604, 80605, 80607, 80610, 80613, 80615, 80616, 80619, 80620, 80622, 80625, 80628, 80630, 80631, 80634, 80635, 80637, 80640, 80643, 80645, 80646, 80649, 80650, 80652, 80655, 80658, 80660, 80661, 80664, 80665, 80667, 80670, 80673, 80675, 80676, 80679, 80680, 80682, 80685, 80688, 80690, 80691, 80694, 80695, 80697, 80700, 80703, 80705, 80706, 80709, 80710, 80712, 80715, 80718, 80720, 80721, 80724, 80725, 80727, 80730, 80733, 80735, 80736, 80739, 80740, 80742, 80745, 80748, 80750, 80751, 80754, 80755, 80757, 80760, 80763, 80765, 80766, 80769, 80770, 80772, 80775, 80778, 80780, 80781, 80784, 80785, 80787, 80790, 80793, 80795, 80796, 80799, 80800, 80802, 80805, 80808, 80810, 80811, 80814, 80815, 80817, 80820, 80823, 80825, 80826, 80829, 80830, 80832, 80835, 80838, 80840, 80841, 80844, 80845, 80847, 80850, 80853, 80855, 80856, 80859, 80860, 80862, 80865, 80868, 80870, 80871, 80874, 80875, 80877, 80880, 80883, 80885, 80886, 80889, 80890, 80892, 80895, 80898, 80900, 80901, 80904, 80905, 80907, 80910, 80913, 80915, 80916, 80919, 80920, 80922, 80925, 80928, 80930, 80931, 80934, 80935, 80937, 80940, 80943, 80945, 80946, 80949, 80950, 80952, 80955, 80958, 80960, 80961, 80964, 80965, 80967, 80970, 80973, 80975, 80976, 80979, 80980, 80982, 80985, 80988, 80990, 80991, 80994, 80995, 80997, 81000, 81003, 81005, 81006, 81009, 81010, 81012, 81015, 81018, 81020, 81021, 81024, 81025, 81027, 81030, 81033, 81035, 81036, 81039, 81040, 81042, 81045, 81048, 81050, 81051, 81054, 81055, 81057, 81060, 81063, 81065, 81066, 81069, 81070, 81072, 81075, 81078, 81080, 81081, 81084, 81085, 81087, 81090, 81093, 81095, 81096, 81099, 81100, 81102, 81105, 81108, 81110, 81111, 81114, 81115, 81117, 81120, 81123, 81125, 81126, 81129, 81130, 81132, 81135, 81138, 81140, 81141, 81144, 81145, 81147, 81150, 81153, 81155, 81156, 81159, 81160, 81162, 81165, 81168, 81170, 81171, 81174, 81175, 81177, 81180, 81183, 81185, 81186, 81189, 81190, 81192, 81195, 81198, 81200, 81201, 81204, 81205, 81207, 81210, 81213, 81215, 81216, 81219, 81220, 81222, 81225, 81228, 81230, 81231, 81234, 81235, 81237, 81240, 81243, 81245, 81246, 81249, 81250, 81252, 81255, 81258, 81260, 81261, 81264, 81265, 81267, 81270, 81273, 81275, 81276, 81279, 81280, 81282, 81285, 81288, 81290, 81291, 81294, 81295, 81297, 81300, 81303, 81305, 81306, 81309, 81310, 81312, 81315, 81318, 81320, 81321, 81324, 81325, 81327, 81330, 81333, 81335, 81336, 81339, 81340, 81342, 81345, 81348, 81350, 81351, 81354, 81355, 81357, 81360, 81363, 81365, 81366, 81369, 81370, 81372, 81375, 81378, 81380, 81381, 81384, 81385, 81387, 81390, 81393, 81395, 81396, 81399, 81400, 81402, 81405, 81408, 81410, 81411, 81414, 81415, 81417, 81420, 81423, 81425, 81426, 81429, 81430, 81432, 81435, 81438, 81440, 81441, 81444, 81445, 81447, 81450, 81453, 81455, 81456, 81459, 81460, 81462, 81465, 81468, 81470, 81471, 81474, 81475, 81477, 81480, 81483, 81485, 81486, 81489, 81490, 81492, 81495, 81498, 81500, 81501, 81504, 81505, 81507, 81510, 81513, 81515, 81516, 81519, 81520, 81522, 81525, 81528, 81530, 81531, 81534, 81535, 81537, 81540, 81543, 81545, 81546, 81549, 81550, 81552, 81555, 81558, 81560, 81561, 81564, 81565, 81567, 81570, 81573, 81575, 81576, 81579, 81580, 81582, 81585, 81588, 81590, 81591, 81594, 81595, 81597, 81600, 81603, 81605, 81606, 81609, 81610, 81612, 81615, 81618, 81620, 81621, 81624, 81625, 81627, 81630, 81633, 81635, 81636, 81639, 81640, 81642, 81645, 81648, 81650, 81651, 81654, 81655, 81657, 81660, 81663, 81665, 81666, 81669, 81670, 81672, 81675, 81678, 81680, 81681, 81684, 81685, 81687, 81690, 81693, 81695, 81696, 81699, 81700, 81702, 81705, 81708, 81710, 81711, 81714, 81715, 81717, 81720, 81723, 81725, 81726, 81729, 81730, 81732, 81735, 81738, 81740, 81741, 81744, 81745, 81747, 81750, 81753, 81755, 81756, 81759, 81760, 81762, 81765, 81768, 81770, 81771, 81774, 81775, 81777, 81780, 81783, 81785, 81786, 81789, 81790, 81792, 81795, 81798, 81800, 81801, 81804, 81805, 81807, 81810, 81813, 81815, 81816, 81819, 81820, 81822, 81825, 81828, 81830, 81831, 81834, 81835, 81837, 81840, 81843, 81845, 81846, 81849, 81850, 81852, 81855, 81858, 81860, 81861, 81864, 81865, 81867, 81870, 81873, 81875, 81876, 81879, 81880, 81882, 81885, 81888, 81890, 81891, 81894, 81895, 81897, 81900, 81903, 81905, 81906, 81909, 81910, 81912, 81915, 81918, 81920, 81921, 81924, 81925, 81927, 81930, 81933, 81935, 81936, 81939, 81940, 81942, 81945, 81948, 81950, 81951, 81954, 81955, 81957, 81960, 81963, 81965, 81966, 81969, 81970, 81972, 81975, 81978, 81980, 81981, 81984, 81985, 81987, 81990, 81993, 81995, 81996, 81999, 82000, 82002, 82005, 82008, 82010, 82011, 82014, 82015, 82017, 82020, 82023, 82025, 82026, 82029, 82030, 82032, 82035, 82038, 82040, 82041, 82044, 82045, 82047, 82050, 82053, 82055, 82056, 82059, 82060, 82062, 82065, 82068, 82070, 82071, 82074, 82075, 82077, 82080, 82083, 82085, 82086, 82089, 82090, 82092, 82095, 82098, 82100, 82101, 82104, 82105, 82107, 82110, 82113, 82115, 82116, 82119, 82120, 82122, 82125, 82128, 82130, 82131, 82134, 82135, 82137, 82140, 82143, 82145, 82146, 82149, 82150, 82152, 82155, 82158, 82160, 82161, 82164, 82165, 82167, 82170, 82173, 82175, 82176, 82179, 82180, 82182, 82185, 82188, 82190, 82191, 82194, 82195, 82197, 82200, 82203, 82205, 82206, 82209, 82210, 82212, 82215, 82218, 82220, 82221, 82224, 82225, 82227, 82230, 82233, 82235, 82236, 82239, 82240, 82242, 82245, 82248, 82250, 82251, 82254, 82255, 82257, 82260, 82263, 82265, 82266, 82269, 82270, 82272, 82275, 82278, 82280, 82281, 82284, 82285, 82287, 82290, 82293, 82295, 82296, 82299, 82300, 82302, 82305, 82308, 82310, 82311, 82314, 82315, 82317, 82320, 82323, 82325, 82326, 82329, 82330, 82332, 82335, 82338, 82340, 82341, 82344, 82345, 82347, 82350, 82353, 82355, 82356, 82359, 82360, 82362, 82365, 82368, 82370, 82371, 82374, 82375, 82377, 82380, 82383, 82385, 82386, 82389, 82390, 82392, 82395, 82398, 82400, 82401, 82404, 82405, 82407, 82410, 82413, 82415, 82416, 82419, 82420, 82422, 82425, 82428, 82430, 82431, 82434, 82435, 82437, 82440, 82443, 82445, 82446, 82449, 82450, 82452, 82455, 82458, 82460, 82461, 82464, 82465, 82467, 82470, 82473, 82475, 82476, 82479, 82480, 82482, 82485, 82488, 82490, 82491, 82494, 82495, 82497, 82500, 82503, 82505, 82506, 82509, 82510, 82512, 82515, 82518, 82520, 82521, 82524, 82525, 82527, 82530, 82533, 82535, 82536, 82539, 82540, 82542, 82545, 82548, 82550, 82551, 82554, 82555, 82557, 82560, 82563, 82565, 82566, 82569, 82570, 82572, 82575, 82578, 82580, 82581, 82584, 82585, 82587, 82590, 82593, 82595, 82596, 82599, 82600, 82602, 82605, 82608, 82610, 82611, 82614, 82615, 82617, 82620, 82623, 82625, 82626, 82629, 82630, 82632, 82635, 82638, 82640, 82641, 82644, 82645, 82647, 82650, 82653, 82655, 82656, 82659, 82660, 82662, 82665, 82668, 82670, 82671, 82674, 82675, 82677, 82680, 82683, 82685, 82686, 82689, 82690, 82692, 82695, 82698, 82700, 82701, 82704, 82705, 82707, 82710, 82713, 82715, 82716, 82719, 82720, 82722, 82725, 82728, 82730, 82731, 82734, 82735, 82737, 82740, 82743, 82745, 82746, 82749, 82750, 82752, 82755, 82758, 82760, 82761, 82764, 82765, 82767, 82770, 82773, 82775, 82776, 82779, 82780, 82782, 82785, 82788, 82790, 82791, 82794, 82795, 82797, 82800, 82803, 82805, 82806, 82809, 82810, 82812, 82815, 82818, 82820, 82821, 82824, 82825, 82827, 82830, 82833, 82835, 82836, 82839, 82840, 82842, 82845, 82848, 82850, 82851, 82854, 82855, 82857, 82860, 82863, 82865, 82866, 82869, 82870, 82872, 82875, 82878, 82880, 82881, 82884, 82885, 82887, 82890, 82893, 82895, 82896, 82899, 82900, 82902, 82905, 82908, 82910, 82911, 82914, 82915, 82917, 82920, 82923, 82925, 82926, 82929, 82930, 82932, 82935, 82938, 82940, 82941, 82944, 82945, 82947, 82950, 82953, 82955, 82956, 82959, 82960, 82962, 82965, 82968, 82970, 82971, 82974, 82975, 82977, 82980, 82983, 82985, 82986, 82989, 82990, 82992, 82995, 82998, 83000, 83001, 83004, 83005, 83007, 83010, 83013, 83015, 83016, 83019, 83020, 83022, 83025, 83028, 83030, 83031, 83034, 83035, 83037, 83040, 83043, 83045, 83046, 83049, 83050, 83052, 83055, 83058, 83060, 83061, 83064, 83065, 83067, 83070, 83073, 83075, 83076, 83079, 83080, 83082, 83085, 83088, 83090, 83091, 83094, 83095, 83097, 83100, 83103, 83105, 83106, 83109, 83110, 83112, 83115, 83118, 83120, 83121, 83124, 83125, 83127, 83130, 83133, 83135, 83136, 83139, 83140, 83142, 83145, 83148, 83150, 83151, 83154, 83155, 83157, 83160, 83163, 83165, 83166, 83169, 83170, 83172, 83175, 83178, 83180, 83181, 83184, 83185, 83187, 83190, 83193, 83195, 83196, 83199, 83200, 83202, 83205, 83208, 83210, 83211, 83214, 83215, 83217, 83220, 83223, 83225, 83226, 83229, 83230, 83232, 83235, 83238, 83240, 83241, 83244, 83245, 83247, 83250, 83253, 83255, 83256, 83259, 83260, 83262, 83265, 83268, 83270, 83271, 83274, 83275, 83277, 83280, 83283, 83285, 83286, 83289, 83290, 83292, 83295, 83298, 83300, 83301, 83304, 83305, 83307, 83310, 83313, 83315, 83316, 83319, 83320, 83322, 83325, 83328, 83330, 83331, 83334, 83335, 83337, 83340, 83343, 83345, 83346, 83349, 83350, 83352, 83355, 83358, 83360, 83361, 83364, 83365, 83367, 83370, 83373, 83375, 83376, 83379, 83380, 83382, 83385, 83388, 83390, 83391, 83394, 83395, 83397, 83400, 83403, 83405, 83406, 83409, 83410, 83412, 83415, 83418, 83420, 83421, 83424, 83425, 83427, 83430, 83433, 83435, 83436, 83439, 83440, 83442, 83445, 83448, 83450, 83451, 83454, 83455, 83457, 83460, 83463, 83465, 83466, 83469, 83470, 83472, 83475, 83478, 83480, 83481, 83484, 83485, 83487, 83490, 83493, 83495, 83496, 83499, 83500, 83502, 83505, 83508, 83510, 83511, 83514, 83515, 83517, 83520, 83523, 83525, 83526, 83529, 83530, 83532, 83535, 83538, 83540, 83541, 83544, 83545, 83547, 83550, 83553, 83555, 83556, 83559, 83560, 83562, 83565, 83568, 83570, 83571, 83574, 83575, 83577, 83580, 83583, 83585, 83586, 83589, 83590, 83592, 83595, 83598, 83600, 83601, 83604, 83605, 83607, 83610, 83613, 83615, 83616, 83619, 83620, 83622, 83625, 83628, 83630, 83631, 83634, 83635, 83637, 83640, 83643, 83645, 83646, 83649, 83650, 83652, 83655, 83658, 83660, 83661, 83664, 83665, 83667, 83670, 83673, 83675, 83676, 83679, 83680, 83682, 83685, 83688, 83690, 83691, 83694, 83695, 83697, 83700, 83703, 83705, 83706, 83709, 83710, 83712, 83715, 83718, 83720, 83721, 83724, 83725, 83727, 83730, 83733, 83735, 83736, 83739, 83740, 83742, 83745, 83748, 83750, 83751, 83754, 83755, 83757, 83760, 83763, 83765, 83766, 83769, 83770, 83772, 83775, 83778, 83780, 83781, 83784, 83785, 83787, 83790, 83793, 83795, 83796, 83799, 83800, 83802, 83805, 83808, 83810, 83811, 83814, 83815, 83817, 83820, 83823, 83825, 83826, 83829, 83830, 83832, 83835, 83838, 83840, 83841, 83844, 83845, 83847, 83850, 83853, 83855, 83856, 83859, 83860, 83862, 83865, 83868, 83870, 83871, 83874, 83875, 83877, 83880, 83883, 83885, 83886, 83889, 83890, 83892, 83895, 83898, 83900, 83901, 83904, 83905, 83907, 83910, 83913, 83915, 83916, 83919, 83920, 83922, 83925, 83928, 83930, 83931, 83934, 83935, 83937, 83940, 83943, 83945, 83946, 83949, 83950, 83952, 83955, 83958, 83960, 83961, 83964, 83965, 83967, 83970, 83973, 83975, 83976, 83979, 83980, 83982, 83985, 83988, 83990, 83991, 83994, 83995, 83997, 84000, 84003, 84005, 84006, 84009, 84010, 84012, 84015, 84018, 84020, 84021, 84024, 84025, 84027, 84030, 84033, 84035, 84036, 84039, 84040, 84042, 84045, 84048, 84050, 84051, 84054, 84055, 84057, 84060, 84063, 84065, 84066, 84069, 84070, 84072, 84075, 84078, 84080, 84081, 84084, 84085, 84087, 84090, 84093, 84095, 84096, 84099, 84100, 84102, 84105, 84108, 84110, 84111, 84114, 84115, 84117, 84120, 84123, 84125, 84126, 84129, 84130, 84132, 84135, 84138, 84140, 84141, 84144, 84145, 84147, 84150, 84153, 84155, 84156, 84159, 84160, 84162, 84165, 84168, 84170, 84171, 84174, 84175, 84177, 84180, 84183, 84185, 84186, 84189, 84190, 84192, 84195, 84198, 84200, 84201, 84204, 84205, 84207, 84210, 84213, 84215, 84216, 84219, 84220, 84222, 84225, 84228, 84230, 84231, 84234, 84235, 84237, 84240, 84243, 84245, 84246, 84249, 84250, 84252, 84255, 84258, 84260, 84261, 84264, 84265, 84267, 84270, 84273, 84275, 84276, 84279, 84280, 84282, 84285, 84288, 84290, 84291, 84294, 84295, 84297, 84300, 84303, 84305, 84306, 84309, 84310, 84312, 84315, 84318, 84320, 84321, 84324, 84325, 84327, 84330, 84333, 84335, 84336, 84339, 84340, 84342, 84345, 84348, 84350, 84351, 84354, 84355, 84357, 84360, 84363, 84365, 84366, 84369, 84370, 84372, 84375, 84378, 84380, 84381, 84384, 84385, 84387, 84390, 84393, 84395, 84396, 84399, 84400, 84402, 84405, 84408, 84410, 84411, 84414, 84415, 84417, 84420, 84423, 84425, 84426, 84429, 84430, 84432, 84435, 84438, 84440, 84441, 84444, 84445, 84447, 84450, 84453, 84455, 84456, 84459, 84460, 84462, 84465, 84468, 84470, 84471, 84474, 84475, 84477, 84480, 84483, 84485, 84486, 84489, 84490, 84492, 84495, 84498, 84500, 84501, 84504, 84505, 84507, 84510, 84513, 84515, 84516, 84519, 84520, 84522, 84525, 84528, 84530, 84531, 84534, 84535, 84537, 84540, 84543, 84545, 84546, 84549, 84550, 84552, 84555, 84558, 84560, 84561, 84564, 84565, 84567, 84570, 84573, 84575, 84576, 84579, 84580, 84582, 84585, 84588, 84590, 84591, 84594, 84595, 84597, 84600, 84603, 84605, 84606, 84609, 84610, 84612, 84615, 84618, 84620, 84621, 84624, 84625, 84627, 84630, 84633, 84635, 84636, 84639, 84640, 84642, 84645, 84648, 84650, 84651, 84654, 84655, 84657, 84660, 84663, 84665, 84666, 84669, 84670, 84672, 84675, 84678, 84680, 84681, 84684, 84685, 84687, 84690, 84693, 84695, 84696, 84699, 84700, 84702, 84705, 84708, 84710, 84711, 84714, 84715, 84717, 84720, 84723, 84725, 84726, 84729, 84730, 84732, 84735, 84738, 84740, 84741, 84744, 84745, 84747, 84750, 84753, 84755, 84756, 84759, 84760, 84762, 84765, 84768, 84770, 84771, 84774, 84775, 84777, 84780, 84783, 84785, 84786, 84789, 84790, 84792, 84795, 84798, 84800, 84801, 84804, 84805, 84807, 84810, 84813, 84815, 84816, 84819, 84820, 84822, 84825, 84828, 84830, 84831, 84834, 84835, 84837, 84840, 84843, 84845, 84846, 84849, 84850, 84852, 84855, 84858, 84860, 84861, 84864, 84865, 84867, 84870, 84873, 84875, 84876, 84879, 84880, 84882, 84885, 84888, 84890, 84891, 84894, 84895, 84897, 84900, 84903, 84905, 84906, 84909, 84910, 84912, 84915, 84918, 84920, 84921, 84924, 84925, 84927, 84930, 84933, 84935, 84936, 84939, 84940, 84942, 84945, 84948, 84950, 84951, 84954, 84955, 84957, 84960, 84963, 84965, 84966, 84969, 84970, 84972, 84975, 84978, 84980, 84981, 84984, 84985, 84987, 84990, 84993, 84995, 84996, 84999, 85000, 85002, 85005, 85008, 85010, 85011, 85014, 85015, 85017, 85020, 85023, 85025, 85026, 85029, 85030, 85032, 85035, 85038, 85040, 85041, 85044, 85045, 85047, 85050, 85053, 85055, 85056, 85059, 85060, 85062, 85065, 85068, 85070, 85071, 85074, 85075, 85077, 85080, 85083, 85085, 85086, 85089, 85090, 85092, 85095, 85098, 85100, 85101, 85104, 85105, 85107, 85110, 85113, 85115, 85116, 85119, 85120, 85122, 85125, 85128, 85130, 85131, 85134, 85135, 85137, 85140, 85143, 85145, 85146, 85149, 85150, 85152, 85155, 85158, 85160, 85161, 85164, 85165, 85167, 85170, 85173, 85175, 85176, 85179, 85180, 85182, 85185, 85188, 85190, 85191, 85194, 85195, 85197, 85200, 85203, 85205, 85206, 85209, 85210, 85212, 85215, 85218, 85220, 85221, 85224, 85225, 85227, 85230, 85233, 85235, 85236, 85239, 85240, 85242, 85245, 85248, 85250, 85251, 85254, 85255, 85257, 85260, 85263, 85265, 85266, 85269, 85270, 85272, 85275, 85278, 85280, 85281, 85284, 85285, 85287, 85290, 85293, 85295, 85296, 85299, 85300, 85302, 85305, 85308, 85310, 85311, 85314, 85315, 85317, 85320, 85323, 85325, 85326, 85329, 85330, 85332, 85335, 85338, 85340, 85341, 85344, 85345, 85347, 85350, 85353, 85355, 85356, 85359, 85360, 85362, 85365, 85368, 85370, 85371, 85374, 85375, 85377, 85380, 85383, 85385, 85386, 85389, 85390, 85392, 85395, 85398, 85400, 85401, 85404, 85405, 85407, 85410, 85413, 85415, 85416, 85419, 85420, 85422, 85425, 85428, 85430, 85431, 85434, 85435, 85437, 85440, 85443, 85445, 85446, 85449, 85450, 85452, 85455, 85458, 85460, 85461, 85464, 85465, 85467, 85470, 85473, 85475, 85476, 85479, 85480, 85482, 85485, 85488, 85490, 85491, 85494, 85495, 85497, 85500, 85503, 85505, 85506, 85509, 85510, 85512, 85515, 85518, 85520, 85521, 85524, 85525, 85527, 85530, 85533, 85535, 85536, 85539, 85540, 85542, 85545, 85548, 85550, 85551, 85554, 85555, 85557, 85560, 85563, 85565, 85566, 85569, 85570, 85572, 85575, 85578, 85580, 85581, 85584, 85585, 85587, 85590, 85593, 85595, 85596, 85599, 85600, 85602, 85605, 85608, 85610, 85611, 85614, 85615, 85617, 85620, 85623, 85625, 85626, 85629, 85630, 85632, 85635, 85638, 85640, 85641, 85644, 85645, 85647, 85650, 85653, 85655, 85656, 85659, 85660, 85662, 85665, 85668, 85670, 85671, 85674, 85675, 85677, 85680, 85683, 85685, 85686, 85689, 85690, 85692, 85695, 85698, 85700, 85701, 85704, 85705, 85707, 85710, 85713, 85715, 85716, 85719, 85720, 85722, 85725, 85728, 85730, 85731, 85734, 85735, 85737, 85740, 85743, 85745, 85746, 85749, 85750, 85752, 85755, 85758, 85760, 85761, 85764, 85765, 85767, 85770, 85773, 85775, 85776, 85779, 85780, 85782, 85785, 85788, 85790, 85791, 85794, 85795, 85797, 85800, 85803, 85805, 85806, 85809, 85810, 85812, 85815, 85818, 85820, 85821, 85824, 85825, 85827, 85830, 85833, 85835, 85836, 85839, 85840, 85842, 85845, 85848, 85850, 85851, 85854, 85855, 85857, 85860, 85863, 85865, 85866, 85869, 85870, 85872, 85875, 85878, 85880, 85881, 85884, 85885, 85887, 85890, 85893, 85895, 85896, 85899, 85900, 85902, 85905, 85908, 85910, 85911, 85914, 85915, 85917, 85920, 85923, 85925, 85926, 85929, 85930, 85932, 85935, 85938, 85940, 85941, 85944, 85945, 85947, 85950, 85953, 85955, 85956, 85959, 85960, 85962, 85965, 85968, 85970, 85971, 85974, 85975, 85977, 85980, 85983, 85985, 85986, 85989, 85990, 85992, 85995, 85998, 86000, 86001, 86004, 86005, 86007, 86010, 86013, 86015, 86016, 86019, 86020, 86022, 86025, 86028, 86030, 86031, 86034, 86035, 86037, 86040, 86043, 86045, 86046, 86049, 86050, 86052, 86055, 86058, 86060, 86061, 86064, 86065, 86067, 86070, 86073, 86075, 86076, 86079, 86080, 86082, 86085, 86088, 86090, 86091, 86094, 86095, 86097, 86100, 86103, 86105, 86106, 86109, 86110, 86112, 86115, 86118, 86120, 86121, 86124, 86125, 86127, 86130, 86133, 86135, 86136, 86139, 86140, 86142, 86145, 86148, 86150, 86151, 86154, 86155, 86157, 86160, 86163, 86165, 86166, 86169, 86170, 86172, 86175, 86178, 86180, 86181, 86184, 86185, 86187, 86190, 86193, 86195, 86196, 86199, 86200, 86202, 86205, 86208, 86210, 86211, 86214, 86215, 86217, 86220, 86223, 86225, 86226, 86229, 86230, 86232, 86235, 86238, 86240, 86241, 86244, 86245, 86247, 86250, 86253, 86255, 86256, 86259, 86260, 86262, 86265, 86268, 86270, 86271, 86274, 86275, 86277, 86280, 86283, 86285, 86286, 86289, 86290, 86292, 86295, 86298, 86300, 86301, 86304, 86305, 86307, 86310, 86313, 86315, 86316, 86319, 86320, 86322, 86325, 86328, 86330, 86331, 86334, 86335, 86337, 86340, 86343, 86345, 86346, 86349, 86350, 86352, 86355, 86358, 86360, 86361, 86364, 86365, 86367, 86370, 86373, 86375, 86376, 86379, 86380, 86382, 86385, 86388, 86390, 86391, 86394, 86395, 86397, 86400, 86403, 86405, 86406, 86409, 86410, 86412, 86415, 86418, 86420, 86421, 86424, 86425, 86427, 86430, 86433, 86435, 86436, 86439, 86440, 86442, 86445, 86448, 86450, 86451, 86454, 86455, 86457, 86460, 86463, 86465, 86466, 86469, 86470, 86472, 86475, 86478, 86480, 86481, 86484, 86485, 86487, 86490, 86493, 86495, 86496, 86499, 86500, 86502, 86505, 86508, 86510, 86511, 86514, 86515, 86517, 86520, 86523, 86525, 86526, 86529, 86530, 86532, 86535, 86538, 86540, 86541, 86544, 86545, 86547, 86550, 86553, 86555, 86556, 86559, 86560, 86562, 86565, 86568, 86570, 86571, 86574, 86575, 86577, 86580, 86583, 86585, 86586, 86589, 86590, 86592, 86595, 86598, 86600, 86601, 86604, 86605, 86607, 86610, 86613, 86615, 86616, 86619, 86620, 86622, 86625, 86628, 86630, 86631, 86634, 86635, 86637, 86640, 86643, 86645, 86646, 86649, 86650, 86652, 86655, 86658, 86660, 86661, 86664, 86665, 86667, 86670, 86673, 86675, 86676, 86679, 86680, 86682, 86685, 86688, 86690, 86691, 86694, 86695, 86697, 86700, 86703, 86705, 86706, 86709, 86710, 86712, 86715, 86718, 86720, 86721, 86724, 86725, 86727, 86730, 86733, 86735, 86736, 86739, 86740, 86742, 86745, 86748, 86750, 86751, 86754, 86755, 86757, 86760, 86763, 86765, 86766, 86769, 86770, 86772, 86775, 86778, 86780, 86781, 86784, 86785, 86787, 86790, 86793, 86795, 86796, 86799, 86800, 86802, 86805, 86808, 86810, 86811, 86814, 86815, 86817, 86820, 86823, 86825, 86826, 86829, 86830, 86832, 86835, 86838, 86840, 86841, 86844, 86845, 86847, 86850, 86853, 86855, 86856, 86859, 86860, 86862, 86865, 86868, 86870, 86871, 86874, 86875, 86877, 86880, 86883, 86885, 86886, 86889, 86890, 86892, 86895, 86898, 86900, 86901, 86904, 86905, 86907, 86910, 86913, 86915, 86916, 86919, 86920, 86922, 86925, 86928, 86930, 86931, 86934, 86935, 86937, 86940, 86943, 86945, 86946, 86949, 86950, 86952, 86955, 86958, 86960, 86961, 86964, 86965, 86967, 86970, 86973, 86975, 86976, 86979, 86980, 86982, 86985, 86988, 86990, 86991, 86994, 86995, 86997, 87000, 87003, 87005, 87006, 87009, 87010, 87012, 87015, 87018, 87020, 87021, 87024, 87025, 87027, 87030, 87033, 87035, 87036, 87039, 87040, 87042, 87045, 87048, 87050, 87051, 87054, 87055, 87057, 87060, 87063, 87065, 87066, 87069, 87070, 87072, 87075, 87078, 87080, 87081, 87084, 87085, 87087, 87090, 87093, 87095, 87096, 87099, 87100, 87102, 87105, 87108, 87110, 87111, 87114, 87115, 87117, 87120, 87123, 87125, 87126, 87129, 87130, 87132, 87135, 87138, 87140, 87141, 87144, 87145, 87147, 87150, 87153, 87155, 87156, 87159, 87160, 87162, 87165, 87168, 87170, 87171, 87174, 87175, 87177, 87180, 87183, 87185, 87186, 87189, 87190, 87192, 87195, 87198, 87200, 87201, 87204, 87205, 87207, 87210, 87213, 87215, 87216, 87219, 87220, 87222, 87225, 87228, 87230, 87231, 87234, 87235, 87237, 87240, 87243, 87245, 87246, 87249, 87250, 87252, 87255, 87258, 87260, 87261, 87264, 87265, 87267, 87270, 87273, 87275, 87276, 87279, 87280, 87282, 87285, 87288, 87290, 87291, 87294, 87295, 87297, 87300, 87303, 87305, 87306, 87309, 87310, 87312, 87315, 87318, 87320, 87321, 87324, 87325, 87327, 87330, 87333, 87335, 87336, 87339, 87340, 87342, 87345, 87348, 87350, 87351, 87354, 87355, 87357, 87360, 87363, 87365, 87366, 87369, 87370, 87372, 87375, 87378, 87380, 87381, 87384, 87385, 87387, 87390, 87393, 87395, 87396, 87399, 87400, 87402, 87405, 87408, 87410, 87411, 87414, 87415, 87417, 87420, 87423, 87425, 87426, 87429, 87430, 87432, 87435, 87438, 87440, 87441, 87444, 87445, 87447, 87450, 87453, 87455, 87456, 87459, 87460, 87462, 87465, 87468, 87470, 87471, 87474, 87475, 87477, 87480, 87483, 87485, 87486, 87489, 87490, 87492, 87495, 87498, 87500, 87501, 87504, 87505, 87507, 87510, 87513, 87515, 87516, 87519, 87520, 87522, 87525, 87528, 87530, 87531, 87534, 87535, 87537, 87540, 87543, 87545, 87546, 87549, 87550, 87552, 87555, 87558, 87560, 87561, 87564, 87565, 87567, 87570, 87573, 87575, 87576, 87579, 87580, 87582, 87585, 87588, 87590, 87591, 87594, 87595, 87597, 87600, 87603, 87605, 87606, 87609, 87610, 87612, 87615, 87618, 87620, 87621, 87624, 87625, 87627, 87630, 87633, 87635, 87636, 87639, 87640, 87642, 87645, 87648, 87650, 87651, 87654, 87655, 87657, 87660, 87663, 87665, 87666, 87669, 87670, 87672, 87675, 87678, 87680, 87681, 87684, 87685, 87687, 87690, 87693, 87695, 87696, 87699, 87700, 87702, 87705, 87708, 87710, 87711, 87714, 87715, 87717, 87720, 87723, 87725, 87726, 87729, 87730, 87732, 87735, 87738, 87740, 87741, 87744, 87745, 87747, 87750, 87753, 87755, 87756, 87759, 87760, 87762, 87765, 87768, 87770, 87771, 87774, 87775, 87777, 87780, 87783, 87785, 87786, 87789, 87790, 87792, 87795, 87798, 87800, 87801, 87804, 87805, 87807, 87810, 87813, 87815, 87816, 87819, 87820, 87822, 87825, 87828, 87830, 87831, 87834, 87835, 87837, 87840, 87843, 87845, 87846, 87849, 87850, 87852, 87855, 87858, 87860, 87861, 87864, 87865, 87867, 87870, 87873, 87875, 87876, 87879, 87880, 87882, 87885, 87888, 87890, 87891, 87894, 87895, 87897, 87900, 87903, 87905, 87906, 87909, 87910, 87912, 87915, 87918, 87920, 87921, 87924, 87925, 87927, 87930, 87933, 87935, 87936, 87939, 87940, 87942, 87945, 87948, 87950, 87951, 87954, 87955, 87957, 87960, 87963, 87965, 87966, 87969, 87970, 87972, 87975, 87978, 87980, 87981, 87984, 87985, 87987, 87990, 87993, 87995, 87996, 87999, 88000, 88002, 88005, 88008, 88010, 88011, 88014, 88015, 88017, 88020, 88023, 88025, 88026, 88029, 88030, 88032, 88035, 88038, 88040, 88041, 88044, 88045, 88047, 88050, 88053, 88055, 88056, 88059, 88060, 88062, 88065, 88068, 88070, 88071, 88074, 88075, 88077, 88080, 88083, 88085, 88086, 88089, 88090, 88092, 88095, 88098, 88100, 88101, 88104, 88105, 88107, 88110, 88113, 88115, 88116, 88119, 88120, 88122, 88125, 88128, 88130, 88131, 88134, 88135, 88137, 88140, 88143, 88145, 88146, 88149, 88150, 88152, 88155, 88158, 88160, 88161, 88164, 88165, 88167, 88170, 88173, 88175, 88176, 88179, 88180, 88182, 88185, 88188, 88190, 88191, 88194, 88195, 88197, 88200, 88203, 88205, 88206, 88209, 88210, 88212, 88215, 88218, 88220, 88221, 88224, 88225, 88227, 88230, 88233, 88235, 88236, 88239, 88240, 88242, 88245, 88248, 88250, 88251, 88254, 88255, 88257, 88260, 88263, 88265, 88266, 88269, 88270, 88272, 88275, 88278, 88280, 88281, 88284, 88285, 88287, 88290, 88293, 88295, 88296, 88299, 88300, 88302, 88305, 88308, 88310, 88311, 88314, 88315, 88317, 88320, 88323, 88325, 88326, 88329, 88330, 88332, 88335, 88338, 88340, 88341, 88344, 88345, 88347, 88350, 88353, 88355, 88356, 88359, 88360, 88362, 88365, 88368, 88370, 88371, 88374, 88375, 88377, 88380, 88383, 88385, 88386, 88389, 88390, 88392, 88395, 88398, 88400, 88401, 88404, 88405, 88407, 88410, 88413, 88415, 88416, 88419, 88420, 88422, 88425, 88428, 88430, 88431, 88434, 88435, 88437, 88440, 88443, 88445, 88446, 88449, 88450, 88452, 88455, 88458, 88460, 88461, 88464, 88465, 88467, 88470, 88473, 88475, 88476, 88479, 88480, 88482, 88485, 88488, 88490, 88491, 88494, 88495, 88497, 88500, 88503, 88505, 88506, 88509, 88510, 88512, 88515, 88518, 88520, 88521, 88524, 88525, 88527, 88530, 88533, 88535, 88536, 88539, 88540, 88542, 88545, 88548, 88550, 88551, 88554, 88555, 88557, 88560, 88563, 88565, 88566, 88569, 88570, 88572, 88575, 88578, 88580, 88581, 88584, 88585, 88587, 88590, 88593, 88595, 88596, 88599, 88600, 88602, 88605, 88608, 88610, 88611, 88614, 88615, 88617, 88620, 88623, 88625, 88626, 88629, 88630, 88632, 88635, 88638, 88640, 88641, 88644, 88645, 88647, 88650, 88653, 88655, 88656, 88659, 88660, 88662, 88665, 88668, 88670, 88671, 88674, 88675, 88677, 88680, 88683, 88685, 88686, 88689, 88690, 88692, 88695, 88698, 88700, 88701, 88704, 88705, 88707, 88710, 88713, 88715, 88716, 88719, 88720, 88722, 88725, 88728, 88730, 88731, 88734, 88735, 88737, 88740, 88743, 88745, 88746, 88749, 88750, 88752, 88755, 88758, 88760, 88761, 88764, 88765, 88767, 88770, 88773, 88775, 88776, 88779, 88780, 88782, 88785, 88788, 88790, 88791, 88794, 88795, 88797, 88800, 88803, 88805, 88806, 88809, 88810, 88812, 88815, 88818, 88820, 88821, 88824, 88825, 88827, 88830, 88833, 88835, 88836, 88839, 88840, 88842, 88845, 88848, 88850, 88851, 88854, 88855, 88857, 88860, 88863, 88865, 88866, 88869, 88870, 88872, 88875, 88878, 88880, 88881, 88884, 88885, 88887, 88890, 88893, 88895, 88896, 88899, 88900, 88902, 88905, 88908, 88910, 88911, 88914, 88915, 88917, 88920, 88923, 88925, 88926, 88929, 88930, 88932, 88935, 88938, 88940, 88941, 88944, 88945, 88947, 88950, 88953, 88955, 88956, 88959, 88960, 88962, 88965, 88968, 88970, 88971, 88974, 88975, 88977, 88980, 88983, 88985, 88986, 88989, 88990, 88992, 88995, 88998, 89000, 89001, 89004, 89005, 89007, 89010, 89013, 89015, 89016, 89019, 89020, 89022, 89025, 89028, 89030, 89031, 89034, 89035, 89037, 89040, 89043, 89045, 89046, 89049, 89050, 89052, 89055, 89058, 89060, 89061, 89064, 89065, 89067, 89070, 89073, 89075, 89076, 89079, 89080, 89082, 89085, 89088, 89090, 89091, 89094, 89095, 89097, 89100, 89103, 89105, 89106, 89109, 89110, 89112, 89115, 89118, 89120, 89121, 89124, 89125, 89127, 89130, 89133, 89135, 89136, 89139, 89140, 89142, 89145, 89148, 89150, 89151, 89154, 89155, 89157, 89160, 89163, 89165, 89166, 89169, 89170, 89172, 89175, 89178, 89180, 89181, 89184, 89185, 89187, 89190, 89193, 89195, 89196, 89199, 89200, 89202, 89205, 89208, 89210, 89211, 89214, 89215, 89217, 89220, 89223, 89225, 89226, 89229, 89230, 89232, 89235, 89238, 89240, 89241, 89244, 89245, 89247, 89250, 89253, 89255, 89256, 89259, 89260, 89262, 89265, 89268, 89270, 89271, 89274, 89275, 89277, 89280, 89283, 89285, 89286, 89289, 89290, 89292, 89295, 89298, 89300, 89301, 89304, 89305, 89307, 89310, 89313, 89315, 89316, 89319, 89320, 89322, 89325, 89328, 89330, 89331, 89334, 89335, 89337, 89340, 89343, 89345, 89346, 89349, 89350, 89352, 89355, 89358, 89360, 89361, 89364, 89365, 89367, 89370, 89373, 89375, 89376, 89379, 89380, 89382, 89385, 89388, 89390, 89391, 89394, 89395, 89397, 89400, 89403, 89405, 89406, 89409, 89410, 89412, 89415, 89418, 89420, 89421, 89424, 89425, 89427, 89430, 89433, 89435, 89436, 89439, 89440, 89442, 89445, 89448, 89450, 89451, 89454, 89455, 89457, 89460, 89463, 89465, 89466, 89469, 89470, 89472, 89475, 89478, 89480, 89481, 89484, 89485, 89487, 89490, 89493, 89495, 89496, 89499, 89500, 89502, 89505, 89508, 89510, 89511, 89514, 89515, 89517, 89520, 89523, 89525, 89526, 89529, 89530, 89532, 89535, 89538, 89540, 89541, 89544, 89545, 89547, 89550, 89553, 89555, 89556, 89559, 89560, 89562, 89565, 89568, 89570, 89571, 89574, 89575, 89577, 89580, 89583, 89585, 89586, 89589, 89590, 89592, 89595, 89598, 89600, 89601, 89604, 89605, 89607, 89610, 89613, 89615, 89616, 89619, 89620, 89622, 89625, 89628, 89630, 89631, 89634, 89635, 89637, 89640, 89643, 89645, 89646, 89649, 89650, 89652, 89655, 89658, 89660, 89661, 89664, 89665, 89667, 89670, 89673, 89675, 89676, 89679, 89680, 89682, 89685, 89688, 89690, 89691, 89694, 89695, 89697, 89700, 89703, 89705, 89706, 89709, 89710, 89712, 89715, 89718, 89720, 89721, 89724, 89725, 89727, 89730, 89733, 89735, 89736, 89739, 89740, 89742, 89745, 89748, 89750, 89751, 89754, 89755, 89757, 89760, 89763, 89765, 89766, 89769, 89770, 89772, 89775, 89778, 89780, 89781, 89784, 89785, 89787, 89790, 89793, 89795, 89796, 89799, 89800, 89802, 89805, 89808, 89810, 89811, 89814, 89815, 89817, 89820, 89823, 89825, 89826, 89829, 89830, 89832, 89835, 89838, 89840, 89841, 89844, 89845, 89847, 89850, 89853, 89855, 89856, 89859, 89860, 89862, 89865, 89868, 89870, 89871, 89874, 89875, 89877, 89880, 89883, 89885, 89886, 89889, 89890, 89892, 89895, 89898, 89900, 89901, 89904, 89905, 89907, 89910, 89913, 89915, 89916, 89919, 89920, 89922, 89925, 89928, 89930, 89931, 89934, 89935, 89937, 89940, 89943, 89945, 89946, 89949, 89950, 89952, 89955, 89958, 89960, 89961, 89964, 89965, 89967, 89970, 89973, 89975, 89976, 89979, 89980, 89982, 89985, 89988, 89990, 89991, 89994, 89995, 89997, 90000, 90003, 90005, 90006, 90009, 90010, 90012, 90015, 90018, 90020, 90021, 90024, 90025, 90027, 90030, 90033, 90035, 90036, 90039, 90040, 90042, 90045, 90048, 90050, 90051, 90054, 90055, 90057, 90060, 90063, 90065, 90066, 90069, 90070, 90072, 90075, 90078, 90080, 90081, 90084, 90085, 90087, 90090, 90093, 90095, 90096, 90099, 90100, 90102, 90105, 90108, 90110, 90111, 90114, 90115, 90117, 90120, 90123, 90125, 90126, 90129, 90130, 90132, 90135, 90138, 90140, 90141, 90144, 90145, 90147, 90150, 90153, 90155, 90156, 90159, 90160, 90162, 90165, 90168, 90170, 90171, 90174, 90175, 90177, 90180, 90183, 90185, 90186, 90189, 90190, 90192, 90195, 90198, 90200, 90201, 90204, 90205, 90207, 90210, 90213, 90215, 90216, 90219, 90220, 90222, 90225, 90228, 90230, 90231, 90234, 90235, 90237, 90240, 90243, 90245, 90246, 90249, 90250, 90252, 90255, 90258, 90260, 90261, 90264, 90265, 90267, 90270, 90273, 90275, 90276, 90279, 90280, 90282, 90285, 90288, 90290, 90291, 90294, 90295, 90297, 90300, 90303, 90305, 90306, 90309, 90310, 90312, 90315, 90318, 90320, 90321, 90324, 90325, 90327, 90330, 90333, 90335, 90336, 90339, 90340, 90342, 90345, 90348, 90350, 90351, 90354, 90355, 90357, 90360, 90363, 90365, 90366, 90369, 90370, 90372, 90375, 90378, 90380, 90381, 90384, 90385, 90387, 90390, 90393, 90395, 90396, 90399, 90400, 90402, 90405, 90408, 90410, 90411, 90414, 90415, 90417, 90420, 90423, 90425, 90426, 90429, 90430, 90432, 90435, 90438, 90440, 90441, 90444, 90445, 90447, 90450, 90453, 90455, 90456, 90459, 90460, 90462, 90465, 90468, 90470, 90471, 90474, 90475, 90477, 90480, 90483, 90485, 90486, 90489, 90490, 90492, 90495, 90498, 90500, 90501, 90504, 90505, 90507, 90510, 90513, 90515, 90516, 90519, 90520, 90522, 90525, 90528, 90530, 90531, 90534, 90535, 90537, 90540, 90543, 90545, 90546, 90549, 90550, 90552, 90555, 90558, 90560, 90561, 90564, 90565, 90567, 90570, 90573, 90575, 90576, 90579, 90580, 90582, 90585, 90588, 90590, 90591, 90594, 90595, 90597, 90600, 90603, 90605, 90606, 90609, 90610, 90612, 90615, 90618, 90620, 90621, 90624, 90625, 90627, 90630, 90633, 90635, 90636, 90639, 90640, 90642, 90645, 90648, 90650, 90651, 90654, 90655, 90657, 90660, 90663, 90665, 90666, 90669, 90670, 90672, 90675, 90678, 90680, 90681, 90684, 90685, 90687, 90690, 90693, 90695, 90696, 90699, 90700, 90702, 90705, 90708, 90710, 90711, 90714, 90715, 90717, 90720, 90723, 90725, 90726, 90729, 90730, 90732, 90735, 90738, 90740, 90741, 90744, 90745, 90747, 90750, 90753, 90755, 90756, 90759, 90760, 90762, 90765, 90768, 90770, 90771, 90774, 90775, 90777, 90780, 90783, 90785, 90786, 90789, 90790, 90792, 90795, 90798, 90800, 90801, 90804, 90805, 90807, 90810, 90813, 90815, 90816, 90819, 90820, 90822, 90825, 90828, 90830, 90831, 90834, 90835, 90837, 90840, 90843, 90845, 90846, 90849, 90850, 90852, 90855, 90858, 90860, 90861, 90864, 90865, 90867, 90870, 90873, 90875, 90876, 90879, 90880, 90882, 90885, 90888, 90890, 90891, 90894, 90895, 90897, 90900, 90903, 90905, 90906, 90909, 90910, 90912, 90915, 90918, 90920, 90921, 90924, 90925, 90927, 90930, 90933, 90935, 90936, 90939, 90940, 90942, 90945, 90948, 90950, 90951, 90954, 90955, 90957, 90960, 90963, 90965, 90966, 90969, 90970, 90972, 90975, 90978, 90980, 90981, 90984, 90985, 90987, 90990, 90993, 90995, 90996, 90999, 91000, 91002, 91005, 91008, 91010, 91011, 91014, 91015, 91017, 91020, 91023, 91025, 91026, 91029, 91030, 91032, 91035, 91038, 91040, 91041, 91044, 91045, 91047, 91050, 91053, 91055, 91056, 91059, 91060, 91062, 91065, 91068, 91070, 91071, 91074, 91075, 91077, 91080, 91083, 91085, 91086, 91089, 91090, 91092, 91095, 91098, 91100, 91101, 91104, 91105, 91107, 91110, 91113, 91115, 91116, 91119, 91120, 91122, 91125, 91128, 91130, 91131, 91134, 91135, 91137, 91140, 91143, 91145, 91146, 91149, 91150, 91152, 91155, 91158, 91160, 91161, 91164, 91165, 91167, 91170, 91173, 91175, 91176, 91179, 91180, 91182, 91185, 91188, 91190, 91191, 91194, 91195, 91197, 91200, 91203, 91205, 91206, 91209, 91210, 91212, 91215, 91218, 91220, 91221, 91224, 91225, 91227, 91230, 91233, 91235, 91236, 91239, 91240, 91242, 91245, 91248, 91250, 91251, 91254, 91255, 91257, 91260, 91263, 91265, 91266, 91269, 91270, 91272, 91275, 91278, 91280, 91281, 91284, 91285, 91287, 91290, 91293, 91295, 91296, 91299, 91300, 91302, 91305, 91308, 91310, 91311, 91314, 91315, 91317, 91320, 91323, 91325, 91326, 91329, 91330, 91332, 91335, 91338, 91340, 91341, 91344, 91345, 91347, 91350, 91353, 91355, 91356, 91359, 91360, 91362, 91365, 91368, 91370, 91371, 91374, 91375, 91377, 91380, 91383, 91385, 91386, 91389, 91390, 91392, 91395, 91398, 91400, 91401, 91404, 91405, 91407, 91410, 91413, 91415, 91416, 91419, 91420, 91422, 91425, 91428, 91430, 91431, 91434, 91435, 91437, 91440, 91443, 91445, 91446, 91449, 91450, 91452, 91455, 91458, 91460, 91461, 91464, 91465, 91467, 91470, 91473, 91475, 91476, 91479, 91480, 91482, 91485, 91488, 91490, 91491, 91494, 91495, 91497, 91500, 91503, 91505, 91506, 91509, 91510, 91512, 91515, 91518, 91520, 91521, 91524, 91525, 91527, 91530, 91533, 91535, 91536, 91539, 91540, 91542, 91545, 91548, 91550, 91551, 91554, 91555, 91557, 91560, 91563, 91565, 91566, 91569, 91570, 91572, 91575, 91578, 91580, 91581, 91584, 91585, 91587, 91590, 91593, 91595, 91596, 91599, 91600, 91602, 91605, 91608, 91610, 91611, 91614, 91615, 91617, 91620, 91623, 91625, 91626, 91629, 91630, 91632, 91635, 91638, 91640, 91641, 91644, 91645, 91647, 91650, 91653, 91655, 91656, 91659, 91660, 91662, 91665, 91668, 91670, 91671, 91674, 91675, 91677, 91680, 91683, 91685, 91686, 91689, 91690, 91692, 91695, 91698, 91700, 91701, 91704, 91705, 91707, 91710, 91713, 91715, 91716, 91719, 91720, 91722, 91725, 91728, 91730, 91731, 91734, 91735, 91737, 91740, 91743, 91745, 91746, 91749, 91750, 91752, 91755, 91758, 91760, 91761, 91764, 91765, 91767, 91770, 91773, 91775, 91776, 91779, 91780, 91782, 91785, 91788, 91790, 91791, 91794, 91795, 91797, 91800, 91803, 91805, 91806, 91809, 91810, 91812, 91815, 91818, 91820, 91821, 91824, 91825, 91827, 91830, 91833, 91835, 91836, 91839, 91840, 91842, 91845, 91848, 91850, 91851, 91854, 91855, 91857, 91860, 91863, 91865, 91866, 91869, 91870, 91872, 91875, 91878, 91880, 91881, 91884, 91885, 91887, 91890, 91893, 91895, 91896, 91899, 91900, 91902, 91905, 91908, 91910, 91911, 91914, 91915, 91917, 91920, 91923, 91925, 91926, 91929, 91930, 91932, 91935, 91938, 91940, 91941, 91944, 91945, 91947, 91950, 91953, 91955, 91956, 91959, 91960, 91962, 91965, 91968, 91970, 91971, 91974, 91975, 91977, 91980, 91983, 91985, 91986, 91989, 91990, 91992, 91995, 91998, 92000, 92001, 92004, 92005, 92007, 92010, 92013, 92015, 92016, 92019, 92020, 92022, 92025, 92028, 92030, 92031, 92034, 92035, 92037, 92040, 92043, 92045, 92046, 92049, 92050, 92052, 92055, 92058, 92060, 92061, 92064, 92065, 92067, 92070, 92073, 92075, 92076, 92079, 92080, 92082, 92085, 92088, 92090, 92091, 92094, 92095, 92097, 92100, 92103, 92105, 92106, 92109, 92110, 92112, 92115, 92118, 92120, 92121, 92124, 92125, 92127, 92130, 92133, 92135, 92136, 92139, 92140, 92142, 92145, 92148, 92150, 92151, 92154, 92155, 92157, 92160, 92163, 92165, 92166, 92169, 92170, 92172, 92175, 92178, 92180, 92181, 92184, 92185, 92187, 92190, 92193, 92195, 92196, 92199, 92200, 92202, 92205, 92208, 92210, 92211, 92214, 92215, 92217, 92220, 92223, 92225, 92226, 92229, 92230, 92232, 92235, 92238, 92240, 92241, 92244, 92245, 92247, 92250, 92253, 92255, 92256, 92259, 92260, 92262, 92265, 92268, 92270, 92271, 92274, 92275, 92277, 92280, 92283, 92285, 92286, 92289, 92290, 92292, 92295, 92298, 92300, 92301, 92304, 92305, 92307, 92310, 92313, 92315, 92316, 92319, 92320, 92322, 92325, 92328, 92330, 92331, 92334, 92335, 92337, 92340, 92343, 92345, 92346, 92349, 92350, 92352, 92355, 92358, 92360, 92361, 92364, 92365, 92367, 92370, 92373, 92375, 92376, 92379, 92380, 92382, 92385, 92388, 92390, 92391, 92394, 92395, 92397, 92400, 92403, 92405, 92406, 92409, 92410, 92412, 92415, 92418, 92420, 92421, 92424, 92425, 92427, 92430, 92433, 92435, 92436, 92439, 92440, 92442, 92445, 92448, 92450, 92451, 92454, 92455, 92457, 92460, 92463, 92465, 92466, 92469, 92470, 92472, 92475, 92478, 92480, 92481, 92484, 92485, 92487, 92490, 92493, 92495, 92496, 92499, 92500, 92502, 92505, 92508, 92510, 92511, 92514, 92515, 92517, 92520, 92523, 92525, 92526, 92529, 92530, 92532, 92535, 92538, 92540, 92541, 92544, 92545, 92547, 92550, 92553, 92555, 92556, 92559, 92560, 92562, 92565, 92568, 92570, 92571, 92574, 92575, 92577, 92580, 92583, 92585, 92586, 92589, 92590, 92592, 92595, 92598, 92600, 92601, 92604, 92605, 92607, 92610, 92613, 92615, 92616, 92619, 92620, 92622, 92625, 92628, 92630, 92631, 92634, 92635, 92637, 92640, 92643, 92645, 92646, 92649, 92650, 92652, 92655, 92658, 92660, 92661, 92664, 92665, 92667, 92670, 92673, 92675, 92676, 92679, 92680, 92682, 92685, 92688, 92690, 92691, 92694, 92695, 92697, 92700, 92703, 92705, 92706, 92709, 92710, 92712, 92715, 92718, 92720, 92721, 92724, 92725, 92727, 92730, 92733, 92735, 92736, 92739, 92740, 92742, 92745, 92748, 92750, 92751, 92754, 92755, 92757, 92760, 92763, 92765, 92766, 92769, 92770, 92772, 92775, 92778, 92780, 92781, 92784, 92785, 92787, 92790, 92793, 92795, 92796, 92799, 92800, 92802, 92805, 92808, 92810, 92811, 92814, 92815, 92817, 92820, 92823, 92825, 92826, 92829, 92830, 92832, 92835, 92838, 92840, 92841, 92844, 92845, 92847, 92850, 92853, 92855, 92856, 92859, 92860, 92862, 92865, 92868, 92870, 92871, 92874, 92875, 92877, 92880, 92883, 92885, 92886, 92889, 92890, 92892, 92895, 92898, 92900, 92901, 92904, 92905, 92907, 92910, 92913, 92915, 92916, 92919, 92920, 92922, 92925, 92928, 92930, 92931, 92934, 92935, 92937, 92940, 92943, 92945, 92946, 92949, 92950, 92952, 92955, 92958, 92960, 92961, 92964, 92965, 92967, 92970, 92973, 92975, 92976, 92979, 92980, 92982, 92985, 92988, 92990, 92991, 92994, 92995, 92997, 93000, 93003, 93005, 93006, 93009, 93010, 93012, 93015, 93018, 93020, 93021, 93024, 93025, 93027, 93030, 93033, 93035, 93036, 93039, 93040, 93042, 93045, 93048, 93050, 93051, 93054, 93055, 93057, 93060, 93063, 93065, 93066, 93069, 93070, 93072, 93075, 93078, 93080, 93081, 93084, 93085, 93087, 93090, 93093, 93095, 93096, 93099, 93100, 93102, 93105, 93108, 93110, 93111, 93114, 93115, 93117, 93120, 93123, 93125, 93126, 93129, 93130, 93132, 93135, 93138, 93140, 93141, 93144, 93145, 93147, 93150, 93153, 93155, 93156, 93159, 93160, 93162, 93165, 93168, 93170, 93171, 93174, 93175, 93177, 93180, 93183, 93185, 93186, 93189, 93190, 93192, 93195, 93198, 93200, 93201, 93204, 93205, 93207, 93210, 93213, 93215, 93216, 93219, 93220, 93222, 93225, 93228, 93230, 93231, 93234, 93235, 93237, 93240, 93243, 93245, 93246, 93249, 93250, 93252, 93255, 93258, 93260, 93261, 93264, 93265, 93267, 93270, 93273, 93275, 93276, 93279, 93280, 93282, 93285, 93288, 93290, 93291, 93294, 93295, 93297, 93300, 93303, 93305, 93306, 93309, 93310, 93312, 93315, 93318, 93320, 93321, 93324, 93325, 93327, 93330, 93333, 93335, 93336, 93339, 93340, 93342, 93345, 93348, 93350, 93351, 93354, 93355, 93357, 93360, 93363, 93365, 93366, 93369, 93370, 93372, 93375, 93378, 93380, 93381, 93384, 93385, 93387, 93390, 93393, 93395, 93396, 93399, 93400, 93402, 93405, 93408, 93410, 93411, 93414, 93415, 93417, 93420, 93423, 93425, 93426, 93429, 93430, 93432, 93435, 93438, 93440, 93441, 93444, 93445, 93447, 93450, 93453, 93455, 93456, 93459, 93460, 93462, 93465, 93468, 93470, 93471, 93474, 93475, 93477, 93480, 93483, 93485, 93486, 93489, 93490, 93492, 93495, 93498, 93500, 93501, 93504, 93505, 93507, 93510, 93513, 93515, 93516, 93519, 93520, 93522, 93525, 93528, 93530, 93531, 93534, 93535, 93537, 93540, 93543, 93545, 93546, 93549, 93550, 93552, 93555, 93558, 93560, 93561, 93564, 93565, 93567, 93570, 93573, 93575, 93576, 93579, 93580, 93582, 93585, 93588, 93590, 93591, 93594, 93595, 93597, 93600, 93603, 93605, 93606, 93609, 93610, 93612, 93615, 93618, 93620, 93621, 93624, 93625, 93627, 93630, 93633, 93635, 93636, 93639, 93640, 93642, 93645, 93648, 93650, 93651, 93654, 93655, 93657, 93660, 93663, 93665, 93666, 93669, 93670, 93672, 93675, 93678, 93680, 93681, 93684, 93685, 93687, 93690, 93693, 93695, 93696, 93699, 93700, 93702, 93705, 93708, 93710, 93711, 93714, 93715, 93717, 93720, 93723, 93725, 93726, 93729, 93730, 93732, 93735, 93738, 93740, 93741, 93744, 93745, 93747, 93750, 93753, 93755, 93756, 93759, 93760, 93762, 93765, 93768, 93770, 93771, 93774, 93775, 93777, 93780, 93783, 93785, 93786, 93789, 93790, 93792, 93795, 93798, 93800, 93801, 93804, 93805, 93807, 93810, 93813, 93815, 93816, 93819, 93820, 93822, 93825, 93828, 93830, 93831, 93834, 93835, 93837, 93840, 93843, 93845, 93846, 93849, 93850, 93852, 93855, 93858, 93860, 93861, 93864, 93865, 93867, 93870, 93873, 93875, 93876, 93879, 93880, 93882, 93885, 93888, 93890, 93891, 93894, 93895, 93897, 93900, 93903, 93905, 93906, 93909, 93910, 93912, 93915, 93918, 93920, 93921, 93924, 93925, 93927, 93930, 93933, 93935, 93936, 93939, 93940, 93942, 93945, 93948, 93950, 93951, 93954, 93955, 93957, 93960, 93963, 93965, 93966, 93969, 93970, 93972, 93975, 93978, 93980, 93981, 93984, 93985, 93987, 93990, 93993, 93995, 93996, 93999, 94000, 94002, 94005, 94008, 94010, 94011, 94014, 94015, 94017, 94020, 94023, 94025, 94026, 94029, 94030, 94032, 94035, 94038, 94040, 94041, 94044, 94045, 94047, 94050, 94053, 94055, 94056, 94059, 94060, 94062, 94065, 94068, 94070, 94071, 94074, 94075, 94077, 94080, 94083, 94085, 94086, 94089, 94090, 94092, 94095, 94098, 94100, 94101, 94104, 94105, 94107, 94110, 94113, 94115, 94116, 94119, 94120, 94122, 94125, 94128, 94130, 94131, 94134, 94135, 94137, 94140, 94143, 94145, 94146, 94149, 94150, 94152, 94155, 94158, 94160, 94161, 94164, 94165, 94167, 94170, 94173, 94175, 94176, 94179, 94180, 94182, 94185, 94188, 94190, 94191, 94194, 94195, 94197, 94200, 94203, 94205, 94206, 94209, 94210, 94212, 94215, 94218, 94220, 94221, 94224, 94225, 94227, 94230, 94233, 94235, 94236, 94239, 94240, 94242, 94245, 94248, 94250, 94251, 94254, 94255, 94257, 94260, 94263, 94265, 94266, 94269, 94270, 94272, 94275, 94278, 94280, 94281, 94284, 94285, 94287, 94290, 94293, 94295, 94296, 94299, 94300, 94302, 94305, 94308, 94310, 94311, 94314, 94315, 94317, 94320, 94323, 94325, 94326, 94329, 94330, 94332, 94335, 94338, 94340, 94341, 94344, 94345, 94347, 94350, 94353, 94355, 94356, 94359, 94360, 94362, 94365, 94368, 94370, 94371, 94374, 94375, 94377, 94380, 94383, 94385, 94386, 94389, 94390, 94392, 94395, 94398, 94400, 94401, 94404, 94405, 94407, 94410, 94413, 94415, 94416, 94419, 94420, 94422, 94425, 94428, 94430, 94431, 94434, 94435, 94437, 94440, 94443, 94445, 94446, 94449, 94450, 94452, 94455, 94458, 94460, 94461, 94464, 94465, 94467, 94470, 94473, 94475, 94476, 94479, 94480, 94482, 94485, 94488, 94490, 94491, 94494, 94495, 94497, 94500, 94503, 94505, 94506, 94509, 94510, 94512, 94515, 94518, 94520, 94521, 94524, 94525, 94527, 94530, 94533, 94535, 94536, 94539, 94540, 94542, 94545, 94548, 94550, 94551, 94554, 94555, 94557, 94560, 94563, 94565, 94566, 94569, 94570, 94572, 94575, 94578, 94580, 94581, 94584, 94585, 94587, 94590, 94593, 94595, 94596, 94599, 94600, 94602, 94605, 94608, 94610, 94611, 94614, 94615, 94617, 94620, 94623, 94625, 94626, 94629, 94630, 94632, 94635, 94638, 94640, 94641, 94644, 94645, 94647, 94650, 94653, 94655, 94656, 94659, 94660, 94662, 94665, 94668, 94670, 94671, 94674, 94675, 94677, 94680, 94683, 94685, 94686, 94689, 94690, 94692, 94695, 94698, 94700, 94701, 94704, 94705, 94707, 94710, 94713, 94715, 94716, 94719, 94720, 94722, 94725, 94728, 94730, 94731, 94734, 94735, 94737, 94740, 94743, 94745, 94746, 94749, 94750, 94752, 94755, 94758, 94760, 94761, 94764, 94765, 94767, 94770, 94773, 94775, 94776, 94779, 94780, 94782, 94785, 94788, 94790, 94791, 94794, 94795, 94797, 94800, 94803, 94805, 94806, 94809, 94810, 94812, 94815, 94818, 94820, 94821, 94824, 94825, 94827, 94830, 94833, 94835, 94836, 94839, 94840, 94842, 94845, 94848, 94850, 94851, 94854, 94855, 94857, 94860, 94863, 94865, 94866, 94869, 94870, 94872, 94875, 94878, 94880, 94881, 94884, 94885, 94887, 94890, 94893, 94895, 94896, 94899, 94900, 94902, 94905, 94908, 94910, 94911, 94914, 94915, 94917, 94920, 94923, 94925, 94926, 94929, 94930, 94932, 94935, 94938, 94940, 94941, 94944, 94945, 94947, 94950, 94953, 94955, 94956, 94959, 94960, 94962, 94965, 94968, 94970, 94971, 94974, 94975, 94977, 94980, 94983, 94985, 94986, 94989, 94990, 94992, 94995, 94998, 95000, 95001, 95004, 95005, 95007, 95010, 95013, 95015, 95016, 95019, 95020, 95022, 95025, 95028, 95030, 95031, 95034, 95035, 95037, 95040, 95043, 95045, 95046, 95049, 95050, 95052, 95055, 95058, 95060, 95061, 95064, 95065, 95067, 95070, 95073, 95075, 95076, 95079, 95080, 95082, 95085, 95088, 95090, 95091, 95094, 95095, 95097, 95100, 95103, 95105, 95106, 95109, 95110, 95112, 95115, 95118, 95120, 95121, 95124, 95125, 95127, 95130, 95133, 95135, 95136, 95139, 95140, 95142, 95145, 95148, 95150, 95151, 95154, 95155, 95157, 95160, 95163, 95165, 95166, 95169, 95170, 95172, 95175, 95178, 95180, 95181, 95184, 95185, 95187, 95190, 95193, 95195, 95196, 95199, 95200, 95202, 95205, 95208, 95210, 95211, 95214, 95215, 95217, 95220, 95223, 95225, 95226, 95229, 95230, 95232, 95235, 95238, 95240, 95241, 95244, 95245, 95247, 95250, 95253, 95255, 95256, 95259, 95260, 95262, 95265, 95268, 95270, 95271, 95274, 95275, 95277, 95280, 95283, 95285, 95286, 95289, 95290, 95292, 95295, 95298, 95300, 95301, 95304, 95305, 95307, 95310, 95313, 95315, 95316, 95319, 95320, 95322, 95325, 95328, 95330, 95331, 95334, 95335, 95337, 95340, 95343, 95345, 95346, 95349, 95350, 95352, 95355, 95358, 95360, 95361, 95364, 95365, 95367, 95370, 95373, 95375, 95376, 95379, 95380, 95382, 95385, 95388, 95390, 95391, 95394, 95395, 95397, 95400, 95403, 95405, 95406, 95409, 95410, 95412, 95415, 95418, 95420, 95421, 95424, 95425, 95427, 95430, 95433, 95435, 95436, 95439, 95440, 95442, 95445, 95448, 95450, 95451, 95454, 95455, 95457, 95460, 95463, 95465, 95466, 95469, 95470, 95472, 95475, 95478, 95480, 95481, 95484, 95485, 95487, 95490, 95493, 95495, 95496, 95499, 95500, 95502, 95505, 95508, 95510, 95511, 95514, 95515, 95517, 95520, 95523, 95525, 95526, 95529, 95530, 95532, 95535, 95538, 95540, 95541, 95544, 95545, 95547, 95550, 95553, 95555, 95556, 95559, 95560, 95562, 95565, 95568, 95570, 95571, 95574, 95575, 95577, 95580, 95583, 95585, 95586, 95589, 95590, 95592, 95595, 95598, 95600, 95601, 95604, 95605, 95607, 95610, 95613, 95615, 95616, 95619, 95620, 95622, 95625, 95628, 95630, 95631, 95634, 95635, 95637, 95640, 95643, 95645, 95646, 95649, 95650, 95652, 95655, 95658, 95660, 95661, 95664, 95665, 95667, 95670, 95673, 95675, 95676, 95679, 95680, 95682, 95685, 95688, 95690, 95691, 95694, 95695, 95697, 95700, 95703, 95705, 95706, 95709, 95710, 95712, 95715, 95718, 95720, 95721, 95724, 95725, 95727, 95730, 95733, 95735, 95736, 95739, 95740, 95742, 95745, 95748, 95750, 95751, 95754, 95755, 95757, 95760, 95763, 95765, 95766, 95769, 95770, 95772, 95775, 95778, 95780, 95781, 95784, 95785, 95787, 95790, 95793, 95795, 95796, 95799, 95800, 95802, 95805, 95808, 95810, 95811, 95814, 95815, 95817, 95820, 95823, 95825, 95826, 95829, 95830, 95832, 95835, 95838, 95840, 95841, 95844, 95845, 95847, 95850, 95853, 95855, 95856, 95859, 95860, 95862, 95865, 95868, 95870, 95871, 95874, 95875, 95877, 95880, 95883, 95885, 95886, 95889, 95890, 95892, 95895, 95898, 95900, 95901, 95904, 95905, 95907, 95910, 95913, 95915, 95916, 95919, 95920, 95922, 95925, 95928, 95930, 95931, 95934, 95935, 95937, 95940, 95943, 95945, 95946, 95949, 95950, 95952, 95955, 95958, 95960, 95961, 95964, 95965, 95967, 95970, 95973, 95975, 95976, 95979, 95980, 95982, 95985, 95988, 95990, 95991, 95994, 95995, 95997, 96000, 96003, 96005, 96006, 96009, 96010, 96012, 96015, 96018, 96020, 96021, 96024, 96025, 96027, 96030, 96033, 96035, 96036, 96039, 96040, 96042, 96045, 96048, 96050, 96051, 96054, 96055, 96057, 96060, 96063, 96065, 96066, 96069, 96070, 96072, 96075, 96078, 96080, 96081, 96084, 96085, 96087, 96090, 96093, 96095, 96096, 96099, 96100, 96102, 96105, 96108, 96110, 96111, 96114, 96115, 96117, 96120, 96123, 96125, 96126, 96129, 96130, 96132, 96135, 96138, 96140, 96141, 96144, 96145, 96147, 96150, 96153, 96155, 96156, 96159, 96160, 96162, 96165, 96168, 96170, 96171, 96174, 96175, 96177, 96180, 96183, 96185, 96186, 96189, 96190, 96192, 96195, 96198, 96200, 96201, 96204, 96205, 96207, 96210, 96213, 96215, 96216, 96219, 96220, 96222, 96225, 96228, 96230, 96231, 96234, 96235, 96237, 96240, 96243, 96245, 96246, 96249, 96250, 96252, 96255, 96258, 96260, 96261, 96264, 96265, 96267, 96270, 96273, 96275, 96276, 96279, 96280, 96282, 96285, 96288, 96290, 96291, 96294, 96295, 96297, 96300, 96303, 96305, 96306, 96309, 96310, 96312, 96315, 96318, 96320, 96321, 96324, 96325, 96327, 96330, 96333, 96335, 96336, 96339, 96340, 96342, 96345, 96348, 96350, 96351, 96354, 96355, 96357, 96360, 96363, 96365, 96366, 96369, 96370, 96372, 96375, 96378, 96380, 96381, 96384, 96385, 96387, 96390, 96393, 96395, 96396, 96399, 96400, 96402, 96405, 96408, 96410, 96411, 96414, 96415, 96417, 96420, 96423, 96425, 96426, 96429, 96430, 96432, 96435, 96438, 96440, 96441, 96444, 96445, 96447, 96450, 96453, 96455, 96456, 96459, 96460, 96462, 96465, 96468, 96470, 96471, 96474, 96475, 96477, 96480, 96483, 96485, 96486, 96489, 96490, 96492, 96495, 96498, 96500, 96501, 96504, 96505, 96507, 96510, 96513, 96515, 96516, 96519, 96520, 96522, 96525, 96528, 96530, 96531, 96534, 96535, 96537, 96540, 96543, 96545, 96546, 96549, 96550, 96552, 96555, 96558, 96560, 96561, 96564, 96565, 96567, 96570, 96573, 96575, 96576, 96579, 96580, 96582, 96585, 96588, 96590, 96591, 96594, 96595, 96597, 96600, 96603, 96605, 96606, 96609, 96610, 96612, 96615, 96618, 96620, 96621, 96624, 96625, 96627, 96630, 96633, 96635, 96636, 96639, 96640, 96642, 96645, 96648, 96650, 96651, 96654, 96655, 96657, 96660, 96663, 96665, 96666, 96669, 96670, 96672, 96675, 96678, 96680, 96681, 96684, 96685, 96687, 96690, 96693, 96695, 96696, 96699, 96700, 96702, 96705, 96708, 96710, 96711, 96714, 96715, 96717, 96720, 96723, 96725, 96726, 96729, 96730, 96732, 96735, 96738, 96740, 96741, 96744, 96745, 96747, 96750, 96753, 96755, 96756, 96759, 96760, 96762, 96765, 96768, 96770, 96771, 96774, 96775, 96777, 96780, 96783, 96785, 96786, 96789, 96790, 96792, 96795, 96798, 96800, 96801, 96804, 96805, 96807, 96810, 96813, 96815, 96816, 96819, 96820, 96822, 96825, 96828, 96830, 96831, 96834, 96835, 96837, 96840, 96843, 96845, 96846, 96849, 96850, 96852, 96855, 96858, 96860, 96861, 96864, 96865, 96867, 96870, 96873, 96875, 96876, 96879, 96880, 96882, 96885, 96888, 96890, 96891, 96894, 96895, 96897, 96900, 96903, 96905, 96906, 96909, 96910, 96912, 96915, 96918, 96920, 96921, 96924, 96925, 96927, 96930, 96933, 96935, 96936, 96939, 96940, 96942, 96945, 96948, 96950, 96951, 96954, 96955, 96957, 96960, 96963, 96965, 96966, 96969, 96970, 96972, 96975, 96978, 96980, 96981, 96984, 96985, 96987, 96990, 96993, 96995, 96996, 96999, 97000, 97002, 97005, 97008, 97010, 97011, 97014, 97015, 97017, 97020, 97023, 97025, 97026, 97029, 97030, 97032, 97035, 97038, 97040, 97041, 97044, 97045, 97047, 97050, 97053, 97055, 97056, 97059, 97060, 97062, 97065, 97068, 97070, 97071, 97074, 97075, 97077, 97080, 97083, 97085, 97086, 97089, 97090, 97092, 97095, 97098, 97100, 97101, 97104, 97105, 97107, 97110, 97113, 97115, 97116, 97119, 97120, 97122, 97125, 97128, 97130, 97131, 97134, 97135, 97137, 97140, 97143, 97145, 97146, 97149, 97150, 97152, 97155, 97158, 97160, 97161, 97164, 97165, 97167, 97170, 97173, 97175, 97176, 97179, 97180, 97182, 97185, 97188, 97190, 97191, 97194, 97195, 97197, 97200, 97203, 97205, 97206, 97209, 97210, 97212, 97215, 97218, 97220, 97221, 97224, 97225, 97227, 97230, 97233, 97235, 97236, 97239, 97240, 97242, 97245, 97248, 97250, 97251, 97254, 97255, 97257, 97260, 97263, 97265, 97266, 97269, 97270, 97272, 97275, 97278, 97280, 97281, 97284, 97285, 97287, 97290, 97293, 97295, 97296, 97299, 97300, 97302, 97305, 97308, 97310, 97311, 97314, 97315, 97317, 97320, 97323, 97325, 97326, 97329, 97330, 97332, 97335, 97338, 97340, 97341, 97344, 97345, 97347, 97350, 97353, 97355, 97356, 97359, 97360, 97362, 97365, 97368, 97370, 97371, 97374, 97375, 97377, 97380, 97383, 97385, 97386, 97389, 97390, 97392, 97395, 97398, 97400, 97401, 97404, 97405, 97407, 97410, 97413, 97415, 97416, 97419, 97420, 97422, 97425, 97428, 97430, 97431, 97434, 97435, 97437, 97440, 97443, 97445, 97446, 97449, 97450, 97452, 97455, 97458, 97460, 97461, 97464, 97465, 97467, 97470, 97473, 97475, 97476, 97479, 97480, 97482, 97485, 97488, 97490, 97491, 97494, 97495, 97497, 97500, 97503, 97505, 97506, 97509, 97510, 97512, 97515, 97518, 97520, 97521, 97524, 97525, 97527, 97530, 97533, 97535, 97536, 97539, 97540, 97542, 97545, 97548, 97550, 97551, 97554, 97555, 97557, 97560, 97563, 97565, 97566, 97569, 97570, 97572, 97575, 97578, 97580, 97581, 97584, 97585, 97587, 97590, 97593, 97595, 97596, 97599, 97600, 97602, 97605, 97608, 97610, 97611, 97614, 97615, 97617, 97620, 97623, 97625, 97626, 97629, 97630, 97632, 97635, 97638, 97640, 97641, 97644, 97645, 97647, 97650, 97653, 97655, 97656, 97659, 97660, 97662, 97665, 97668, 97670, 97671, 97674, 97675, 97677, 97680, 97683, 97685, 97686, 97689, 97690, 97692, 97695, 97698, 97700, 97701, 97704, 97705, 97707, 97710, 97713, 97715, 97716, 97719, 97720, 97722, 97725, 97728, 97730, 97731, 97734, 97735, 97737, 97740, 97743, 97745, 97746, 97749, 97750, 97752, 97755, 97758, 97760, 97761, 97764, 97765, 97767, 97770, 97773, 97775, 97776, 97779, 97780, 97782, 97785, 97788, 97790, 97791, 97794, 97795, 97797, 97800, 97803, 97805, 97806, 97809, 97810, 97812, 97815, 97818, 97820, 97821, 97824, 97825, 97827, 97830, 97833, 97835, 97836, 97839, 97840, 97842, 97845, 97848, 97850, 97851, 97854, 97855, 97857, 97860, 97863, 97865, 97866, 97869, 97870, 97872, 97875, 97878, 97880, 97881, 97884, 97885, 97887, 97890, 97893, 97895, 97896, 97899, 97900, 97902, 97905, 97908, 97910, 97911, 97914, 97915, 97917, 97920, 97923, 97925, 97926, 97929, 97930, 97932, 97935, 97938, 97940, 97941, 97944, 97945, 97947, 97950, 97953, 97955, 97956, 97959, 97960, 97962, 97965, 97968, 97970, 97971, 97974, 97975, 97977, 97980, 97983, 97985, 97986, 97989, 97990, 97992, 97995, 97998, 98000, 98001, 98004, 98005, 98007, 98010, 98013, 98015, 98016, 98019, 98020, 98022, 98025, 98028, 98030, 98031, 98034, 98035, 98037, 98040, 98043, 98045, 98046, 98049, 98050, 98052, 98055, 98058, 98060, 98061, 98064, 98065, 98067, 98070, 98073, 98075, 98076, 98079, 98080, 98082, 98085, 98088, 98090, 98091, 98094, 98095, 98097, 98100, 98103, 98105, 98106, 98109, 98110, 98112, 98115, 98118, 98120, 98121, 98124, 98125, 98127, 98130, 98133, 98135, 98136, 98139, 98140, 98142, 98145, 98148, 98150, 98151, 98154, 98155, 98157, 98160, 98163, 98165, 98166, 98169, 98170, 98172, 98175, 98178, 98180, 98181, 98184, 98185, 98187, 98190, 98193, 98195, 98196, 98199, 98200, 98202, 98205, 98208, 98210, 98211, 98214, 98215, 98217, 98220, 98223, 98225, 98226, 98229, 98230, 98232, 98235, 98238, 98240, 98241, 98244, 98245, 98247, 98250, 98253, 98255, 98256, 98259, 98260, 98262, 98265, 98268, 98270, 98271, 98274, 98275, 98277, 98280, 98283, 98285, 98286, 98289, 98290, 98292, 98295, 98298, 98300, 98301, 98304, 98305, 98307, 98310, 98313, 98315, 98316, 98319, 98320, 98322, 98325, 98328, 98330, 98331, 98334, 98335, 98337, 98340, 98343, 98345, 98346, 98349, 98350, 98352, 98355, 98358, 98360, 98361, 98364, 98365, 98367, 98370, 98373, 98375, 98376, 98379, 98380, 98382, 98385, 98388, 98390, 98391, 98394, 98395, 98397, 98400, 98403, 98405, 98406, 98409, 98410, 98412, 98415, 98418, 98420, 98421, 98424, 98425, 98427, 98430, 98433, 98435, 98436, 98439, 98440, 98442, 98445, 98448, 98450, 98451, 98454, 98455, 98457, 98460, 98463, 98465, 98466, 98469, 98470, 98472, 98475, 98478, 98480, 98481, 98484, 98485, 98487, 98490, 98493, 98495, 98496, 98499, 98500, 98502, 98505, 98508, 98510, 98511, 98514, 98515, 98517, 98520, 98523, 98525, 98526, 98529, 98530, 98532, 98535, 98538, 98540, 98541, 98544, 98545, 98547, 98550, 98553, 98555, 98556, 98559, 98560, 98562, 98565, 98568, 98570, 98571, 98574, 98575, 98577, 98580, 98583, 98585, 98586, 98589, 98590, 98592, 98595, 98598, 98600, 98601, 98604, 98605, 98607, 98610, 98613, 98615, 98616, 98619, 98620, 98622, 98625, 98628, 98630, 98631, 98634, 98635, 98637, 98640, 98643, 98645, 98646, 98649, 98650, 98652, 98655, 98658, 98660, 98661, 98664, 98665, 98667, 98670, 98673, 98675, 98676, 98679, 98680, 98682, 98685, 98688, 98690, 98691, 98694, 98695, 98697, 98700, 98703, 98705, 98706, 98709, 98710, 98712, 98715, 98718, 98720, 98721, 98724, 98725, 98727, 98730, 98733, 98735, 98736, 98739, 98740, 98742, 98745, 98748, 98750, 98751, 98754, 98755, 98757, 98760, 98763, 98765, 98766, 98769, 98770, 98772, 98775, 98778, 98780, 98781, 98784, 98785, 98787, 98790, 98793, 98795, 98796, 98799, 98800, 98802, 98805, 98808, 98810, 98811, 98814, 98815, 98817, 98820, 98823, 98825, 98826, 98829, 98830, 98832, 98835, 98838, 98840, 98841, 98844, 98845, 98847, 98850, 98853, 98855, 98856, 98859, 98860, 98862, 98865, 98868, 98870, 98871, 98874, 98875, 98877, 98880, 98883, 98885, 98886, 98889, 98890, 98892, 98895, 98898, 98900, 98901, 98904, 98905, 98907, 98910, 98913, 98915, 98916, 98919, 98920, 98922, 98925, 98928, 98930, 98931, 98934, 98935, 98937, 98940, 98943, 98945, 98946, 98949, 98950, 98952, 98955, 98958, 98960, 98961, 98964, 98965, 98967, 98970, 98973, 98975, 98976, 98979, 98980, 98982, 98985, 98988, 98990, 98991, 98994, 98995, 98997, 99000, 99003, 99005, 99006, 99009, 99010, 99012, 99015, 99018, 99020, 99021, 99024, 99025, 99027, 99030, 99033, 99035, 99036, 99039, 99040, 99042, 99045, 99048, 99050, 99051, 99054, 99055, 99057, 99060, 99063, 99065, 99066, 99069, 99070, 99072, 99075, 99078, 99080, 99081, 99084, 99085, 99087, 99090, 99093, 99095, 99096, 99099, 99100, 99102, 99105, 99108, 99110, 99111, 99114, 99115, 99117, 99120, 99123, 99125, 99126, 99129, 99130, 99132, 99135, 99138, 99140, 99141, 99144, 99145, 99147, 99150, 99153, 99155, 99156, 99159, 99160, 99162, 99165, 99168, 99170, 99171, 99174, 99175, 99177, 99180, 99183, 99185, 99186, 99189, 99190, 99192, 99195, 99198, 99200, 99201, 99204, 99205, 99207, 99210, 99213, 99215, 99216, 99219, 99220, 99222, 99225, 99228, 99230, 99231, 99234, 99235, 99237, 99240, 99243, 99245, 99246, 99249, 99250, 99252, 99255, 99258, 99260, 99261, 99264, 99265, 99267, 99270, 99273, 99275, 99276, 99279, 99280, 99282, 99285, 99288, 99290, 99291, 99294, 99295, 99297, 99300, 99303, 99305, 99306, 99309, 99310, 99312, 99315, 99318, 99320, 99321, 99324, 99325, 99327, 99330, 99333, 99335, 99336, 99339, 99340, 99342, 99345, 99348, 99350, 99351, 99354, 99355, 99357, 99360, 99363, 99365, 99366, 99369, 99370, 99372, 99375, 99378, 99380, 99381, 99384, 99385, 99387, 99390, 99393, 99395, 99396, 99399, 99400, 99402, 99405, 99408, 99410, 99411, 99414, 99415, 99417, 99420, 99423, 99425, 99426, 99429, 99430, 99432, 99435, 99438, 99440, 99441, 99444, 99445, 99447, 99450, 99453, 99455, 99456, 99459, 99460, 99462, 99465, 99468, 99470, 99471, 99474, 99475, 99477, 99480, 99483, 99485, 99486, 99489, 99490, 99492, 99495, 99498, 99500, 99501, 99504, 99505, 99507, 99510, 99513, 99515, 99516, 99519, 99520, 99522, 99525, 99528, 99530, 99531, 99534, 99535, 99537, 99540, 99543, 99545, 99546, 99549, 99550, 99552, 99555, 99558, 99560, 99561, 99564, 99565, 99567, 99570, 99573, 99575, 99576, 99579, 99580, 99582, 99585, 99588, 99590, 99591, 99594, 99595, 99597, 99600, 99603, 99605, 99606, 99609, 99610, 99612, 99615, 99618, 99620, 99621, 99624, 99625, 99627, 99630, 99633, 99635, 99636, 99639, 99640, 99642, 99645, 99648, 99650, 99651, 99654, 99655, 99657, 99660, 99663, 99665, 99666, 99669, 99670, 99672, 99675, 99678, 99680, 99681, 99684, 99685, 99687, 99690, 99693, 99695, 99696, 99699, 99700, 99702, 99705, 99708, 99710, 99711, 99714, 99715, 99717, 99720, 99723, 99725, 99726, 99729, 99730, 99732, 99735, 99738, 99740, 99741, 99744, 99745, 99747, 99750, 99753, 99755, 99756, 99759, 99760, 99762, 99765, 99768, 99770, 99771, 99774, 99775, 99777, 99780, 99783, 99785, 99786, 99789, 99790, 99792, 99795, 99798, 99800, 99801, 99804, 99805, 99807, 99810, 99813, 99815, 99816, 99819, 99820, 99822, 99825, 99828, 99830, 99831, 99834, 99835, 99837, 99840, 99843, 99845, 99846, 99849, 99850, 99852, 99855, 99858, 99860, 99861, 99864, 99865, 99867, 99870, 99873, 99875, 99876, 99879, 99880, 99882, 99885, 99888, 99890, 99891, 99894, 99895, 99897, 99900, 99903, 99905, 99906, 99909, 99910, 99912, 99915, 99918, 99920, 99921, 99924, 99925, 99927, 99930, 99933, 99935, 99936, 99939, 99940, 99942, 99945, 99948, 99950, 99951, 99954, 99955, 99957, 99960, 99963, 99965, 99966, 99969, 99970, 99972, 99975, 99978, 99980, 99981, 99984, 99985, 99987, 99990, 99993, 99995, 99996, 99999]\n"
          ],
          "name": "stdout"
        }
      ]
    },
    {
      "cell_type": "markdown",
      "metadata": {
        "id": "mlkWerpFv-gs"
      },
      "source": [
        "6. Tenary expressions<br>\n",
        "A ternary expression in Python allows you to combine an if-else block that produces a value into a single line or expression."
      ]
    },
    {
      "cell_type": "code",
      "metadata": {
        "id": "a0y1QPe9v-gs"
      },
      "source": [
        "value = true-expr if condition else false-expr\n",
        "\n",
        "# # Equal to below\n",
        "\n",
        "if condition:\n",
        "    value = true-expr\n",
        "else:\n",
        "    value = false-expr"
      ],
      "execution_count": null,
      "outputs": []
    },
    {
      "cell_type": "code",
      "metadata": {
        "id": "N5I-VNhVv-gs",
        "outputId": "3453b46f-a631-4958-cf61-874a3f7e4d49"
      },
      "source": [
        "x = 5\n",
        "'Non-negative' if x >= 0 else 'Negative'"
      ],
      "execution_count": null,
      "outputs": [
        {
          "output_type": "execute_result",
          "data": {
            "text/plain": [
              "'Non-negative'"
            ]
          },
          "metadata": {
            "tags": []
          },
          "execution_count": 76
        }
      ]
    },
    {
      "cell_type": "markdown",
      "metadata": {
        "id": "7JwAPKSZv-gt"
      },
      "source": [
        "# CHAPTER 3 Built-in Data Structures, Functions, and Files"
      ]
    },
    {
      "cell_type": "markdown",
      "metadata": {
        "id": "S0Xka2QMv-gt"
      },
      "source": [
        "1. Tuple<br>\n",
        "A tuple is a fixed-length, immutable sequence of Python objects"
      ]
    },
    {
      "cell_type": "code",
      "metadata": {
        "id": "Xxu5NDv8v-gt",
        "outputId": "3879d8d4-487c-4266-83d9-a6c406d2d356"
      },
      "source": [
        "tup = 4, 5, 6\n",
        "tup"
      ],
      "execution_count": null,
      "outputs": [
        {
          "output_type": "execute_result",
          "data": {
            "text/plain": [
              "(4, 5, 6)"
            ]
          },
          "metadata": {
            "tags": []
          },
          "execution_count": 79
        }
      ]
    },
    {
      "cell_type": "code",
      "metadata": {
        "id": "S7Kw0jLmv-gt",
        "outputId": "4d883bce-8f8a-47f0-a725-6a8335979efe"
      },
      "source": [
        "nested_tup = (4, 5, 6), (7, 8)\n",
        "nested_tup"
      ],
      "execution_count": null,
      "outputs": [
        {
          "output_type": "execute_result",
          "data": {
            "text/plain": [
              "((4, 5, 6), (7, 8))"
            ]
          },
          "metadata": {
            "tags": []
          },
          "execution_count": 80
        }
      ]
    },
    {
      "cell_type": "code",
      "metadata": {
        "id": "FhI_uKHqv-gu",
        "outputId": "f1e17c7f-66a0-44c9-8263-d5d6a86d4b41"
      },
      "source": [
        "# can convert any sequence or iterator to a tuple\n",
        "tuple([4, 0, 2])"
      ],
      "execution_count": null,
      "outputs": [
        {
          "output_type": "execute_result",
          "data": {
            "text/plain": [
              "(4, 0, 2)"
            ]
          },
          "metadata": {
            "tags": []
          },
          "execution_count": 81
        }
      ]
    },
    {
      "cell_type": "code",
      "metadata": {
        "id": "zKZ_NN3cv-gu",
        "outputId": "38e194d8-5cfb-4ed1-fb73-21f22efdf9b2"
      },
      "source": [
        "tuple('string')"
      ],
      "execution_count": null,
      "outputs": [
        {
          "output_type": "execute_result",
          "data": {
            "text/plain": [
              "('s', 't', 'r', 'i', 'n', 'g')"
            ]
          },
          "metadata": {
            "tags": []
          },
          "execution_count": 82
        }
      ]
    },
    {
      "cell_type": "code",
      "metadata": {
        "id": "4CnrV6nAv-gu",
        "outputId": "7c415eea-839a-417b-896b-31dd27c3149a"
      },
      "source": [
        "# If an object inside a tuple is mutable, such as a list, you can modify it in-place:\n",
        "tup = tuple(['foo', [1, 2], True])\n",
        "tup[1].append(3)\n",
        "tup"
      ],
      "execution_count": null,
      "outputs": [
        {
          "output_type": "execute_result",
          "data": {
            "text/plain": [
              "('foo', [1, 2, 3], True)"
            ]
          },
          "metadata": {
            "tags": []
          },
          "execution_count": 89
        }
      ]
    },
    {
      "cell_type": "code",
      "metadata": {
        "id": "tu332qf8v-gu",
        "outputId": "7dead1fc-53f6-4496-d9bf-5cfe659b1f72"
      },
      "source": [
        "# You can concatenate tuples using the + operator to produce longer tuples:\n",
        "(4, None, 'foo') + (6, 0)"
      ],
      "execution_count": null,
      "outputs": [
        {
          "output_type": "execute_result",
          "data": {
            "text/plain": [
              "(4, None, 'foo', 6, 0)"
            ]
          },
          "metadata": {
            "tags": []
          },
          "execution_count": 91
        }
      ]
    },
    {
      "cell_type": "code",
      "metadata": {
        "id": "SEXAy6dBv-gv",
        "outputId": "1a1d3660-cc91-4454-fef8-38ec98425da6"
      },
      "source": [
        "# Multiplying a tuple by an integer, just like concatenating together that many copies of the tuple:\n",
        "(6, 'foo') * 4"
      ],
      "execution_count": null,
      "outputs": [
        {
          "output_type": "execute_result",
          "data": {
            "text/plain": [
              "(6, 'foo', 6, 'foo', 6, 'foo', 6, 'foo')"
            ]
          },
          "metadata": {
            "tags": []
          },
          "execution_count": 93
        }
      ]
    },
    {
      "cell_type": "code",
      "metadata": {
        "id": "dL3vlgIbv-gv",
        "outputId": "deac9768-40c3-40f2-8a34-c2180a2c6b27"
      },
      "source": [
        "# unpacking tuples\n",
        "tup = (4, 5, 6)\n",
        "a, b, c = tup\n",
        "b"
      ],
      "execution_count": null,
      "outputs": [
        {
          "output_type": "execute_result",
          "data": {
            "text/plain": [
              "5"
            ]
          },
          "metadata": {
            "tags": []
          },
          "execution_count": 95
        }
      ]
    },
    {
      "cell_type": "code",
      "metadata": {
        "id": "dhONok4Tv-gv",
        "outputId": "21d10216-3771-43de-a4ca-634d148b7c63"
      },
      "source": [
        "# Even sequences with nested tuples can be unpacked\n",
        "tup = 4, 5, (6, 7)\n",
        "a, b, (c, d) = tup\n",
        "d"
      ],
      "execution_count": null,
      "outputs": [
        {
          "output_type": "execute_result",
          "data": {
            "text/plain": [
              "7"
            ]
          },
          "metadata": {
            "tags": []
          },
          "execution_count": 96
        }
      ]
    },
    {
      "cell_type": "code",
      "metadata": {
        "id": "tT9z59IFv-gv",
        "outputId": "b418e743-d86a-415f-d66e-b6e1a54b5b75"
      },
      "source": [
        "# use this functionality you can easily swap variable names\n",
        "tmp = a\n",
        "a = b\n",
        "b = tmp\n",
        "print(b)"
      ],
      "execution_count": null,
      "outputs": [
        {
          "output_type": "stream",
          "text": [
            "5\n"
          ],
          "name": "stdout"
        }
      ]
    },
    {
      "cell_type": "code",
      "metadata": {
        "id": "H788JZawv-gw",
        "outputId": "f8e6cec8-e1d5-4dea-d371-2c386d21bdd5"
      },
      "source": [
        "# a more easier way to do it\n",
        "a, b = 1, 2\n",
        "a"
      ],
      "execution_count": null,
      "outputs": [
        {
          "output_type": "execute_result",
          "data": {
            "text/plain": [
              "1"
            ]
          },
          "metadata": {
            "tags": []
          },
          "execution_count": 103
        }
      ]
    },
    {
      "cell_type": "code",
      "metadata": {
        "id": "J2R1k4oyv-gw",
        "outputId": "4bb28c49-fe10-4984-b529-d2c88259ae28"
      },
      "source": [
        "b, a = a, b\n",
        "a"
      ],
      "execution_count": null,
      "outputs": [
        {
          "output_type": "execute_result",
          "data": {
            "text/plain": [
              "2"
            ]
          },
          "metadata": {
            "tags": []
          },
          "execution_count": 104
        }
      ]
    },
    {
      "cell_type": "code",
      "metadata": {
        "id": "Axypv3Z8v-gw",
        "outputId": "31ef94de-1d17-4ecb-90e0-a17e7981b845"
      },
      "source": [
        "seq =  [(1, 2, 3), (4, 5, 6), (7, 8, 9)]\n",
        "for a, b, c in seq:\n",
        "    print('a={0}, b={1}, c={2}'.format(a, b, c))"
      ],
      "execution_count": null,
      "outputs": [
        {
          "output_type": "stream",
          "text": [
            "a=1, b=2, c=3\n",
            "a=4, b=5, c=6\n",
            "a=7, b=8, c=9\n"
          ],
          "name": "stdout"
        }
      ]
    },
    {
      "cell_type": "markdown",
      "metadata": {
        "id": "V3EeoprEv-gx"
      },
      "source": [
        "* Use of *rest<br>\n",
        "To“pluck” a few elements from the beginning of\n",
        "a tuple."
      ]
    },
    {
      "cell_type": "code",
      "metadata": {
        "id": "NTtZos20v-gx",
        "outputId": "d8eb59fc-8f07-4ccd-c243-883e902ab96b"
      },
      "source": [
        "# This uses the special syntax *rest, which is also used in function signatures to capture an arbitrarily long list of positional arguments:\n",
        "values = 1, 2, 3, 4, 5\n",
        "a, b, *rest = values\n",
        "a, b"
      ],
      "execution_count": null,
      "outputs": [
        {
          "output_type": "execute_result",
          "data": {
            "text/plain": [
              "(1, 2)"
            ]
          },
          "metadata": {
            "tags": []
          },
          "execution_count": 108
        }
      ]
    },
    {
      "cell_type": "code",
      "metadata": {
        "id": "jJo7OPEiv-gx",
        "outputId": "6632fd98-21e0-462a-a002-376594255677"
      },
      "source": [
        "rest"
      ],
      "execution_count": null,
      "outputs": [
        {
          "output_type": "execute_result",
          "data": {
            "text/plain": [
              "[3, 4, 5]"
            ]
          },
          "metadata": {
            "tags": []
          },
          "execution_count": 107
        }
      ]
    },
    {
      "cell_type": "code",
      "metadata": {
        "id": "fa7ScYjhv-gx"
      },
      "source": [
        "a, b, *_ = values"
      ],
      "execution_count": null,
      "outputs": []
    },
    {
      "cell_type": "code",
      "metadata": {
        "id": "TIbbMxVmv-gx",
        "outputId": "c6762727-b853-4928-aae3-c70d3847e88b"
      },
      "source": [
        "# tuple methods\n",
        "a = (1, 2, 2, 2, 3, 4, 2)\n",
        "a.count(2)"
      ],
      "execution_count": null,
      "outputs": [
        {
          "output_type": "execute_result",
          "data": {
            "text/plain": [
              "4"
            ]
          },
          "metadata": {
            "tags": []
          },
          "execution_count": 110
        }
      ]
    },
    {
      "cell_type": "code",
      "metadata": {
        "id": "_0d-bCYyv-gy",
        "outputId": "4be8791a-98e5-4f76-ea8d-2028cf1c6141"
      },
      "source": [
        "# List\n",
        "a_list = [2, 3, 7, None]\n",
        "tup = ('foo', 'bar', 'baz')\n",
        "b_list = list(tup)\n",
        "b_list"
      ],
      "execution_count": null,
      "outputs": [
        {
          "output_type": "execute_result",
          "data": {
            "text/plain": [
              "['foo', 'bar', 'baz']"
            ]
          },
          "metadata": {
            "tags": []
          },
          "execution_count": 166
        }
      ]
    },
    {
      "cell_type": "code",
      "metadata": {
        "id": "ysedq2-Fv-gy",
        "outputId": "c8c42650-3096-48d1-bb2b-1284468ff362"
      },
      "source": [
        "b_list[1] = 'peekaboo'\n",
        "b_list"
      ],
      "execution_count": null,
      "outputs": [
        {
          "output_type": "execute_result",
          "data": {
            "text/plain": [
              "['foo', 'peekaboo', 'baz']"
            ]
          },
          "metadata": {
            "tags": []
          },
          "execution_count": 167
        }
      ]
    },
    {
      "cell_type": "code",
      "metadata": {
        "id": "49pdELZiv-gy",
        "outputId": "5111ef8e-d91c-4f75-9940-ca4d084861fb"
      },
      "source": [
        "gen = range(10)\n",
        "gen"
      ],
      "execution_count": null,
      "outputs": [
        {
          "output_type": "execute_result",
          "data": {
            "text/plain": [
              "range(0, 10)"
            ]
          },
          "metadata": {
            "tags": []
          },
          "execution_count": 168
        }
      ]
    },
    {
      "cell_type": "code",
      "metadata": {
        "id": "Q1MMKm0Nv-gz",
        "outputId": "8a907a8c-1f30-4886-9751-7aa9463c7a3a"
      },
      "source": [
        "range(0, 10)\n",
        "list(gen)"
      ],
      "execution_count": null,
      "outputs": [
        {
          "output_type": "execute_result",
          "data": {
            "text/plain": [
              "[0, 1, 2, 3, 4, 5, 6, 7, 8, 9]"
            ]
          },
          "metadata": {
            "tags": []
          },
          "execution_count": 169
        }
      ]
    },
    {
      "cell_type": "markdown",
      "metadata": {
        "id": "O8tALsEAv-gz"
      },
      "source": [
        "2. Adding and removing elements<br>\n",
        "Elements can be appended to the end of the list with the append method"
      ]
    },
    {
      "cell_type": "code",
      "metadata": {
        "id": "5hYp2HqRv-gz",
        "outputId": "fc01780f-2ba6-4d47-d241-917eb590fadb"
      },
      "source": [
        "b_list.append('dwarf')\n",
        "b_list"
      ],
      "execution_count": null,
      "outputs": [
        {
          "output_type": "execute_result",
          "data": {
            "text/plain": [
              "['foo', 'baz', 'dwarf', 'dwarf']"
            ]
          },
          "metadata": {
            "tags": []
          },
          "execution_count": 179
        }
      ]
    },
    {
      "cell_type": "code",
      "metadata": {
        "id": "QCfCUX2Gv-gz",
        "outputId": "a48f8e79-cca9-421c-ab9a-9af93880d108"
      },
      "source": [
        "# insert is computationally expensive compared with append\n",
        "b_list.insert(1, 'red')\n",
        "b_list"
      ],
      "execution_count": null,
      "outputs": [
        {
          "output_type": "execute_result",
          "data": {
            "text/plain": [
              "['foo', 'red', 'baz', 'dwarf', 'dwarf']"
            ]
          },
          "metadata": {
            "tags": []
          },
          "execution_count": 180
        }
      ]
    },
    {
      "cell_type": "code",
      "metadata": {
        "id": "6OH8G8P7v-g0",
        "outputId": "85713192-8c55-42f7-8eee-098fb4b61e50"
      },
      "source": [
        "b_list.append('dwarf')\n",
        "b_list"
      ],
      "execution_count": null,
      "outputs": [
        {
          "output_type": "execute_result",
          "data": {
            "text/plain": [
              "['foo', 'red', 'baz', 'dwarf', 'dwarf', 'dwarf']"
            ]
          },
          "metadata": {
            "tags": []
          },
          "execution_count": 181
        }
      ]
    },
    {
      "cell_type": "code",
      "metadata": {
        "id": "IvIzNYeuv-g0",
        "outputId": "37bdd99d-b0ce-41b6-f807-c8cd5fdc8971"
      },
      "source": [
        "# Pop can only work with \"INDEX\"\n",
        "b_list.pop(2)"
      ],
      "execution_count": null,
      "outputs": [
        {
          "output_type": "execute_result",
          "data": {
            "text/plain": [
              "'baz'"
            ]
          },
          "metadata": {
            "tags": []
          },
          "execution_count": 182
        }
      ]
    },
    {
      "cell_type": "code",
      "metadata": {
        "id": "tbgkH_IZv-g0",
        "outputId": "85fdd16b-1b91-45de-cec2-2b518048622e"
      },
      "source": [
        "b_list"
      ],
      "execution_count": null,
      "outputs": [
        {
          "output_type": "execute_result",
          "data": {
            "text/plain": [
              "['foo', 'red', 'dwarf', 'dwarf', 'dwarf']"
            ]
          },
          "metadata": {
            "tags": []
          },
          "execution_count": 183
        }
      ]
    },
    {
      "cell_type": "code",
      "metadata": {
        "id": "LDp6U8MTv-g0"
      },
      "source": [
        "# Remove can only work with \"VALUE\"\n",
        "b_list.remove('red')"
      ],
      "execution_count": null,
      "outputs": []
    },
    {
      "cell_type": "code",
      "metadata": {
        "id": "GiNt02OEv-g1",
        "outputId": "14b20472-f359-401b-d87e-d7a668b2e854"
      },
      "source": [
        "b_list"
      ],
      "execution_count": null,
      "outputs": [
        {
          "output_type": "execute_result",
          "data": {
            "text/plain": [
              "['foo', 'dwarf', 'dwarf', 'dwarf']"
            ]
          },
          "metadata": {
            "tags": []
          },
          "execution_count": 185
        }
      ]
    },
    {
      "cell_type": "code",
      "metadata": {
        "id": "dEbcO3d1v-g1",
        "outputId": "b5672633-486a-4db5-a3d7-bc30dfc46ed9"
      },
      "source": [
        "'foo' in b_list"
      ],
      "execution_count": null,
      "outputs": [
        {
          "output_type": "execute_result",
          "data": {
            "text/plain": [
              "True"
            ]
          },
          "metadata": {
            "tags": []
          },
          "execution_count": 186
        }
      ]
    },
    {
      "cell_type": "markdown",
      "metadata": {
        "id": "6l9f7juHv-g1"
      },
      "source": [
        "3. Concatenating and combining lists<br>\n",
        "Add two lists together with + concatenates<br>\n",
        "You can append multiple elements to it using the extend method"
      ]
    },
    {
      "cell_type": "code",
      "metadata": {
        "id": "xcTiY_gyv-g1",
        "outputId": "2d874806-6907-4d2d-c8b3-029e2946adc7"
      },
      "source": [
        "x = [4, None, 'foo'] + [8, 0, [3, 5]]\n",
        "x"
      ],
      "execution_count": null,
      "outputs": [
        {
          "output_type": "execute_result",
          "data": {
            "text/plain": [
              "[4, None, 'foo', 8, 0, [3, 5]]"
            ]
          },
          "metadata": {
            "tags": []
          },
          "execution_count": 198
        }
      ]
    },
    {
      "cell_type": "code",
      "metadata": {
        "id": "Virz4MVJv-g2",
        "outputId": "89f5b007-0e39-48ae-d884-17e289dd270f"
      },
      "source": [
        "# You can append multiple elements to it using the extend method\n",
        "# Only \"LIST\"\n",
        "x.extend(['extend', 6, (5, 2)])\n",
        "x"
      ],
      "execution_count": null,
      "outputs": [
        {
          "output_type": "execute_result",
          "data": {
            "text/plain": [
              "[4, None, 'foo', 8, 0, [3, 5], 'extend', 6, (5, 2)]"
            ]
          },
          "metadata": {
            "tags": []
          },
          "execution_count": 199
        }
      ]
    },
    {
      "cell_type": "code",
      "metadata": {
        "id": "pn-Xvrpjv-g2",
        "outputId": "15c16db9-127b-48bf-d37a-9175f1fdbe26"
      },
      "source": [
        "everything = []\n",
        "list_of_lists = ['extend', 'list']\n",
        "for x in list_of_lists:\n",
        "    print(x)\n",
        "    everything.extend(x)\n",
        "everything"
      ],
      "execution_count": null,
      "outputs": [
        {
          "output_type": "stream",
          "text": [
            "extend\n",
            "list\n"
          ],
          "name": "stdout"
        },
        {
          "output_type": "execute_result",
          "data": {
            "text/plain": [
              "['e', 'x', 't', 'e', 'n', 'd', 'l', 'i', 's', 't']"
            ]
          },
          "metadata": {
            "tags": []
          },
          "execution_count": 235
        }
      ]
    },
    {
      "cell_type": "code",
      "metadata": {
        "id": "qeJHji6kv-g2",
        "outputId": "178d9ced-3ee8-4c3f-caf6-bebd1e8dc3a7"
      },
      "source": [
        "list = [\"apple\", 2, 4, (5, 6)]\n",
        "for i in list:\n",
        "    print(i)"
      ],
      "execution_count": null,
      "outputs": [
        {
          "output_type": "stream",
          "text": [
            "apple\n",
            "2\n",
            "4\n",
            "(5, 6)\n"
          ],
          "name": "stdout"
        }
      ]
    },
    {
      "cell_type": "markdown",
      "metadata": {
        "id": "TbBbU6DNv-g2"
      },
      "source": [
        "4. Sorting"
      ]
    },
    {
      "cell_type": "code",
      "metadata": {
        "id": "2hLLSVAKv-g3",
        "outputId": "f8c479e0-8ed3-4978-814e-f44d07de4804"
      },
      "source": [
        "a = [7, 2, 4, 5, 1, 3]\n",
        "a.sort()\n",
        "a"
      ],
      "execution_count": null,
      "outputs": [
        {
          "output_type": "execute_result",
          "data": {
            "text/plain": [
              "[1, 2, 3, 4, 5, 7]"
            ]
          },
          "metadata": {
            "tags": []
          },
          "execution_count": 2
        }
      ]
    },
    {
      "cell_type": "code",
      "metadata": {
        "id": "VRpv2MbFv-g3",
        "outputId": "538d01c6-b638-4c76-bc06-5c267383dc1e"
      },
      "source": [
        "# pass a secondary sort key\n",
        "b = ['saw', 'small', 'he', 'foxes', 'six', 'beautiful']\n",
        "b.sort(key = len)\n",
        "b"
      ],
      "execution_count": null,
      "outputs": [
        {
          "output_type": "execute_result",
          "data": {
            "text/plain": [
              "['he', 'saw', 'six', 'small', 'foxes', 'beautiful']"
            ]
          },
          "metadata": {
            "tags": []
          },
          "execution_count": 3
        }
      ]
    },
    {
      "cell_type": "markdown",
      "metadata": {
        "id": "paQuFYaFv-g3"
      },
      "source": [
        "5. Binary search and maintaining a sorted list<br>\n",
        "bisect finds the location where an element should be inserted to keep it sorted, while bisect.insort actually inserts the element into that location"
      ]
    },
    {
      "cell_type": "code",
      "metadata": {
        "id": "opeWp2Xav-g3"
      },
      "source": [
        "import bisect"
      ],
      "execution_count": null,
      "outputs": []
    },
    {
      "cell_type": "code",
      "metadata": {
        "id": "Ia08XYjkv-g4",
        "outputId": "f88c22f9-f6d6-4e35-d115-62e2b39071be"
      },
      "source": [
        "c = [1, 2, 2, 2, 3, 4, 7]\n",
        "bisect.bisect(c, 2)"
      ],
      "execution_count": null,
      "outputs": [
        {
          "output_type": "execute_result",
          "data": {
            "text/plain": [
              "4"
            ]
          },
          "metadata": {
            "tags": []
          },
          "execution_count": 5
        }
      ]
    },
    {
      "cell_type": "code",
      "metadata": {
        "id": "hOFU1QKhv-g4",
        "outputId": "5e007827-2b9f-4394-a071-86682c4a468a"
      },
      "source": [
        "bisect.bisect(c, 5)"
      ],
      "execution_count": null,
      "outputs": [
        {
          "output_type": "execute_result",
          "data": {
            "text/plain": [
              "6"
            ]
          },
          "metadata": {
            "tags": []
          },
          "execution_count": 6
        }
      ]
    },
    {
      "cell_type": "code",
      "metadata": {
        "id": "mL9yWm3Uv-g4",
        "outputId": "bdf9b0be-d45c-403f-da45-665644e2fb64"
      },
      "source": [
        "# sort and insert\n",
        "bisect.insort(c, 6)\n",
        "c"
      ],
      "execution_count": null,
      "outputs": [
        {
          "output_type": "execute_result",
          "data": {
            "text/plain": [
              "[1, 2, 2, 2, 3, 4, 6, 6, 6, 7]"
            ]
          },
          "metadata": {
            "tags": []
          },
          "execution_count": 9
        }
      ]
    },
    {
      "cell_type": "markdown",
      "metadata": {
        "id": "7aPW3Zkwv-g4"
      },
      "source": [
        "6. Slicing<br>\n",
        "You can select sections of most sequence types by using slice notation, which in its basic form consists of start:stop passed to the indexing operator []: <br>\n",
        "the element at the start index is included, the stop index is not included,"
      ]
    },
    {
      "cell_type": "code",
      "metadata": {
        "id": "qvP3i2MAv-g5",
        "outputId": "86e574cf-e608-41cd-deca-c4a931af2f6b"
      },
      "source": [
        "seq = [7, 2, 3, 7, 5, 6, 0, 1]\n",
        "seq[1:5]"
      ],
      "execution_count": null,
      "outputs": [
        {
          "output_type": "execute_result",
          "data": {
            "text/plain": [
              "[2, 3, 7, 5]"
            ]
          },
          "metadata": {
            "tags": []
          },
          "execution_count": 10
        }
      ]
    },
    {
      "cell_type": "code",
      "metadata": {
        "id": "eeAkkjckv-g5",
        "outputId": "99da83e1-a5cf-40c5-b39b-8b1117e10290"
      },
      "source": [
        "seq[3:4] = [6, 3]\n",
        "seq"
      ],
      "execution_count": null,
      "outputs": [
        {
          "output_type": "execute_result",
          "data": {
            "text/plain": [
              "[7, 2, 3, 6, 3, 5, 6, 0, 1]"
            ]
          },
          "metadata": {
            "tags": []
          },
          "execution_count": 11
        }
      ]
    },
    {
      "cell_type": "code",
      "metadata": {
        "id": "99qH382iv-g5",
        "outputId": "f1259afc-f22a-469a-d4d3-5103530ff3f8"
      },
      "source": [
        "seq[:5]"
      ],
      "execution_count": null,
      "outputs": [
        {
          "output_type": "execute_result",
          "data": {
            "text/plain": [
              "[7, 2, 3, 6, 3]"
            ]
          },
          "metadata": {
            "tags": []
          },
          "execution_count": 12
        }
      ]
    },
    {
      "cell_type": "code",
      "metadata": {
        "id": "anch5tEWv-g5",
        "outputId": "3db18802-30a2-4d4c-9a3e-8b80710b6224"
      },
      "source": [
        "seq[3:]"
      ],
      "execution_count": null,
      "outputs": [
        {
          "output_type": "execute_result",
          "data": {
            "text/plain": [
              "[6, 3, 5, 6, 0, 1]"
            ]
          },
          "metadata": {
            "tags": []
          },
          "execution_count": 13
        }
      ]
    },
    {
      "cell_type": "code",
      "metadata": {
        "id": "D2f3j_zjv-g6",
        "outputId": "f92f4860-bd1e-4e56-8257-2539395f06ca"
      },
      "source": [
        "# Negative indices slice the sequence relative to the end\n",
        "seq[-4:]"
      ],
      "execution_count": null,
      "outputs": [
        {
          "output_type": "execute_result",
          "data": {
            "text/plain": [
              "[5, 6, 0, 1]"
            ]
          },
          "metadata": {
            "tags": []
          },
          "execution_count": 16
        }
      ]
    },
    {
      "cell_type": "code",
      "metadata": {
        "id": "U4G2ju9iv-g6",
        "outputId": "52da9a97-e345-4a18-8909-a545b7851c4d"
      },
      "source": [
        "seq[-6:-2]"
      ],
      "execution_count": null,
      "outputs": [
        {
          "output_type": "execute_result",
          "data": {
            "text/plain": [
              "[6, 3, 5, 6]"
            ]
          },
          "metadata": {
            "tags": []
          },
          "execution_count": 17
        }
      ]
    },
    {
      "cell_type": "code",
      "metadata": {
        "id": "P8uB64D-v-g6",
        "outputId": "94e7e5bf-5ab4-451e-8060-b69e25cf48a8"
      },
      "source": [
        "# Step can be used to take every other element\n",
        "seq[::2]"
      ],
      "execution_count": null,
      "outputs": [
        {
          "output_type": "execute_result",
          "data": {
            "text/plain": [
              "[7, 3, 3, 6, 1]"
            ]
          },
          "metadata": {
            "tags": []
          },
          "execution_count": 19
        }
      ]
    },
    {
      "cell_type": "code",
      "metadata": {
        "id": "xKvcLsL9v-g6",
        "outputId": "e39b9cfa-3915-46de-f3e0-ec1363b5f6be"
      },
      "source": [
        "# Use -1 to get the reverse list/ tuple,  sooo clever !!!\n",
        "seq[::-1]"
      ],
      "execution_count": null,
      "outputs": [
        {
          "output_type": "execute_result",
          "data": {
            "text/plain": [
              "[1, 0, 6, 5, 3, 6, 3, 2, 7]"
            ]
          },
          "metadata": {
            "tags": []
          },
          "execution_count": 20
        }
      ]
    },
    {
      "cell_type": "markdown",
      "metadata": {
        "id": "7Jfdv97-v-g7"
      },
      "source": [
        "* Built-in Sequence Functions"
      ]
    },
    {
      "cell_type": "markdown",
      "metadata": {
        "id": "7gitpmx5v-g7"
      },
      "source": [
        "1. enumerate<br>\n",
        "It’s common when iterating over a sequence to want to keep track of the index of the current item. <br>\n",
        "Enumerate returns a sequence of (i, value) tuples:"
      ]
    },
    {
      "cell_type": "code",
      "metadata": {
        "id": "za5V7iOvv-g7",
        "outputId": "27c3c639-1b39-42c2-eff9-bb8e87218556"
      },
      "source": [
        "some_list = ['food', 'bar', 'drink']\n",
        "mapping = {}\n",
        "for i , v in enumerate(some_list):\n",
        "    mapping[v] = i\n",
        "    \n",
        "mapping"
      ],
      "execution_count": null,
      "outputs": [
        {
          "output_type": "execute_result",
          "data": {
            "text/plain": [
              "{'food': 0, 'bar': 1, 'drink': 2}"
            ]
          },
          "metadata": {
            "tags": []
          },
          "execution_count": 56
        }
      ]
    },
    {
      "cell_type": "markdown",
      "metadata": {
        "id": "a5rFVyfkv-g8"
      },
      "source": [
        "2. sorted<br>\n",
        "returns a new sorted list from the elements of any sequence"
      ]
    },
    {
      "cell_type": "code",
      "metadata": {
        "id": "j0VMC4iXv-g8",
        "outputId": "6c6e5dfc-763a-49d3-9ebc-7fefb1d9a732"
      },
      "source": [
        "sorted([7, 1, 2, 6, 0, 3, 2])"
      ],
      "execution_count": null,
      "outputs": [
        {
          "output_type": "execute_result",
          "data": {
            "text/plain": [
              "[0, 1, 2, 2, 3, 6, 7]"
            ]
          },
          "metadata": {
            "tags": []
          },
          "execution_count": 57
        }
      ]
    },
    {
      "cell_type": "code",
      "metadata": {
        "id": "QEevBYuEv-g8",
        "outputId": "b06b9538-20c1-4f2c-fc37-8330affc92c9"
      },
      "source": [
        "sorted('horse race')"
      ],
      "execution_count": null,
      "outputs": [
        {
          "output_type": "execute_result",
          "data": {
            "text/plain": [
              "[' ', 'a', 'c', 'e', 'e', 'h', 'o', 'r', 'r', 's']"
            ]
          },
          "metadata": {
            "tags": []
          },
          "execution_count": 60
        }
      ]
    },
    {
      "cell_type": "markdown",
      "metadata": {
        "id": "u6-vSf0vv-g8"
      },
      "source": [
        "3. zip<br>\n",
        "zip “pairs” up the elements of a number of lists, tuples, or other sequences to create a list of tuples:"
      ]
    },
    {
      "cell_type": "code",
      "metadata": {
        "id": "52PC9TJDv-g9",
        "outputId": "98b25294-818d-4b40-b444-59cb78bc7c50"
      },
      "source": [
        "seq1 = ['foo', 'bar', 'baz']\n",
        "seq2 = ['one', 'two', 'three']\n",
        "zipped = zip(seq1, seq2)\n",
        "zipped"
      ],
      "execution_count": null,
      "outputs": [
        {
          "output_type": "execute_result",
          "data": {
            "text/plain": [
              "<zip at 0x2739ce30a88>"
            ]
          },
          "metadata": {
            "tags": []
          },
          "execution_count": 1
        }
      ]
    },
    {
      "cell_type": "code",
      "metadata": {
        "id": "ymF0aogTv-g9",
        "outputId": "a5a2495f-39c1-4232-964a-342e337355a9"
      },
      "source": [
        "list(zipped)"
      ],
      "execution_count": null,
      "outputs": [
        {
          "output_type": "execute_result",
          "data": {
            "text/plain": [
              "[('foo', 'one'), ('bar', 'two'), ('baz', 'three')]"
            ]
          },
          "metadata": {
            "tags": []
          },
          "execution_count": 2
        }
      ]
    },
    {
      "cell_type": "code",
      "metadata": {
        "id": "970q4qjZv-g9",
        "outputId": "313e1a20-44e4-4287-8ef4-039d3cd72a5a"
      },
      "source": [
        "# zip can take an arbitrary number of sequences, and the number of \n",
        "# elements it producesis determined by the shortest sequence:\n",
        "\n",
        "seq3 = [False, True]\n",
        "list(zip(seq1, seq2, seq3))"
      ],
      "execution_count": null,
      "outputs": [
        {
          "output_type": "execute_result",
          "data": {
            "text/plain": [
              "[('foo', 'one', False), ('bar', 'two', True)]"
            ]
          },
          "metadata": {
            "tags": []
          },
          "execution_count": 3
        }
      ]
    },
    {
      "cell_type": "code",
      "metadata": {
        "id": "ZifX9MWtv-g9",
        "outputId": "b63d9738-ad70-47c0-942b-dfc1f2bc8363"
      },
      "source": [
        "# A very common use of zip is simultaneously iterating over multiple sequences, \n",
        "# possibly also combined with enumerate:\n",
        "\n",
        "for i, (a, b) in enumerate(zip(seq1, seq2)):\n",
        "    print('{0}:{1},{2}'.format(i, a, b))"
      ],
      "execution_count": null,
      "outputs": [
        {
          "output_type": "stream",
          "text": [
            "0:foo,one\n",
            "1:bar,two\n",
            "2:baz,three\n"
          ],
          "name": "stdout"
        }
      ]
    },
    {
      "cell_type": "code",
      "metadata": {
        "id": "j8W5gRHjv-g-",
        "outputId": "6c8375ee-1cdd-48db-98c3-cafb6fc2fa45"
      },
      "source": [
        "# zip can be applied in a clever way to “unzip” the sequence. \n",
        "# This is also converting a list of rows into a list of columns.\n",
        "# use * to unzip\n",
        "\n",
        "pitchers = [('Nolan', 'Ryan'), ('Roger', 'Clemens'), \n",
        "           ('Schilling', 'Curt')]\n",
        "first_names, last_names = zip(*pitchers)\n",
        "first_names"
      ],
      "execution_count": null,
      "outputs": [
        {
          "output_type": "execute_result",
          "data": {
            "text/plain": [
              "('Nolan', 'Roger', 'Schilling')"
            ]
          },
          "metadata": {
            "tags": []
          },
          "execution_count": 5
        }
      ]
    },
    {
      "cell_type": "code",
      "metadata": {
        "id": "sLhqEbCUv-g-",
        "outputId": "c9f9139c-1390-4772-bf38-6d64cbd54a33"
      },
      "source": [
        "last_names"
      ],
      "execution_count": null,
      "outputs": [
        {
          "output_type": "execute_result",
          "data": {
            "text/plain": [
              "('Ryan', 'Clemens', 'Curt')"
            ]
          },
          "metadata": {
            "tags": []
          },
          "execution_count": 6
        }
      ]
    },
    {
      "cell_type": "markdown",
      "metadata": {
        "id": "RSJtaYYzv-g-"
      },
      "source": [
        "4. reversed<br>\n",
        "reversed iterates over the elements of a sequence in reverse order<br>\n",
        "reversed is a generator (to be discussed in some more detail later),\n",
        "so it does not create the reversed sequence until materialized (e.g., with list or a for loop)."
      ]
    },
    {
      "cell_type": "code",
      "metadata": {
        "id": "eJLXswjXv-g-",
        "outputId": "f226a543-e99e-46f5-99d7-3703f67c8568"
      },
      "source": [
        "list(reversed(range(10)))"
      ],
      "execution_count": null,
      "outputs": [
        {
          "output_type": "execute_result",
          "data": {
            "text/plain": [
              "[9, 8, 7, 6, 5, 4, 3, 2, 1, 0]"
            ]
          },
          "metadata": {
            "tags": []
          },
          "execution_count": 7
        }
      ]
    },
    {
      "cell_type": "markdown",
      "metadata": {
        "id": "G9y4q0w2v-g_"
      },
      "source": [
        "5. dict<br>\n",
        "dict is likely the most important built-in Python data structure. A more common name for it is hash map or associative array. <Br>\n",
        "It is a flexibly sized collection of key-value pairs, where key and value are Python objects. <br>\n",
        "One approach for creating one is to use curly braces {} and colons to separate keys and values:"
      ]
    },
    {
      "cell_type": "code",
      "metadata": {
        "id": "R18qrdoMv-g_",
        "outputId": "6f570542-dfb2-420f-be5c-11afb40db3fe"
      },
      "source": [
        "empty_dict = {}\n",
        "d1 = {'a' : 'some value', 'b' : [1, 2, 3, 4]}\n",
        "d1"
      ],
      "execution_count": null,
      "outputs": [
        {
          "output_type": "execute_result",
          "data": {
            "text/plain": [
              "{'a': 'some value', 'b': [1, 2, 3, 4]}"
            ]
          },
          "metadata": {
            "tags": []
          },
          "execution_count": 14
        }
      ]
    },
    {
      "cell_type": "code",
      "metadata": {
        "id": "myywIT3Iv-g_",
        "outputId": "420d9cc0-6ad7-490a-c944-79b2d956758f"
      },
      "source": [
        "# add an dict, by key- value pairs\n",
        "d1[7] = 'an integer'\n",
        "d1"
      ],
      "execution_count": null,
      "outputs": [
        {
          "output_type": "execute_result",
          "data": {
            "text/plain": [
              "{'a': 'some value', 'b': [1, 2, 3, 4], 7: 'an integer'}"
            ]
          },
          "metadata": {
            "tags": []
          },
          "execution_count": 15
        }
      ]
    },
    {
      "cell_type": "code",
      "metadata": {
        "id": "kLbx-hU_v-hA",
        "outputId": "c6083357-0ee3-4633-c608-f6c9c53e671d"
      },
      "source": [
        "d1['d'] = 'dog'\n",
        "d1"
      ],
      "execution_count": null,
      "outputs": [
        {
          "output_type": "execute_result",
          "data": {
            "text/plain": [
              "{'a': 'some value', 'b': [1, 2, 3, 4], 7: 'an integer', 'd': 'dog'}"
            ]
          },
          "metadata": {
            "tags": []
          },
          "execution_count": 17
        }
      ]
    },
    {
      "cell_type": "code",
      "metadata": {
        "id": "78f4p9WWv-hA",
        "outputId": "533f6875-68db-493c-e409-329685a84605"
      },
      "source": [
        "d1['b']"
      ],
      "execution_count": null,
      "outputs": [
        {
          "output_type": "execute_result",
          "data": {
            "text/plain": [
              "[1, 2, 3, 4]"
            ]
          },
          "metadata": {
            "tags": []
          },
          "execution_count": 18
        }
      ]
    },
    {
      "cell_type": "code",
      "metadata": {
        "id": "x0qOTNJ8v-hB",
        "outputId": "0764e009-faf4-4071-ae4d-0855c938913d"
      },
      "source": [
        "'b' in d1"
      ],
      "execution_count": null,
      "outputs": [
        {
          "output_type": "execute_result",
          "data": {
            "text/plain": [
              "True"
            ]
          },
          "metadata": {
            "tags": []
          },
          "execution_count": 19
        }
      ]
    },
    {
      "cell_type": "code",
      "metadata": {
        "id": "1U9sS0Yvv-hB",
        "outputId": "7078fa6a-6182-4574-b1d3-f89a4d889869"
      },
      "source": [
        "d1[5] = 'yogurt'\n",
        "d1"
      ],
      "execution_count": null,
      "outputs": [
        {
          "output_type": "execute_result",
          "data": {
            "text/plain": [
              "{'a': 'some value',\n",
              " 'b': [1, 2, 3, 4],\n",
              " 7: 'an integer',\n",
              " 'd': 'dog',\n",
              " 5: 'yogurt'}"
            ]
          },
          "metadata": {
            "tags": []
          },
          "execution_count": 21
        }
      ]
    },
    {
      "cell_type": "code",
      "metadata": {
        "id": "dHZhEljBv-hB",
        "outputId": "034d6b19-a57d-4e14-a693-1746aa3c4861"
      },
      "source": [
        "d1['dummy'] = 'another value'\n",
        "d1"
      ],
      "execution_count": null,
      "outputs": [
        {
          "output_type": "execute_result",
          "data": {
            "text/plain": [
              "{'a': 'some value',\n",
              " 'b': [1, 2, 3, 4],\n",
              " 7: 'an integer',\n",
              " 'd': 'dog',\n",
              " 5: 'yogurt',\n",
              " 'dummy': 'another value'}"
            ]
          },
          "metadata": {
            "tags": []
          },
          "execution_count": 22
        }
      ]
    },
    {
      "cell_type": "code",
      "metadata": {
        "id": "ZZHc37_4v-hC",
        "outputId": "ef6cd679-d715-46f2-86ed-ac339e3e3a34"
      },
      "source": [
        "# can delete values using del keyword\n",
        "del d1[5]\n",
        "d1"
      ],
      "execution_count": null,
      "outputs": [
        {
          "output_type": "execute_result",
          "data": {
            "text/plain": [
              "{'a': 'some value',\n",
              " 'b': [1, 2, 3, 4],\n",
              " 7: 'an integer',\n",
              " 'd': 'dog',\n",
              " 'dummy': 'another value'}"
            ]
          },
          "metadata": {
            "tags": []
          },
          "execution_count": 23
        }
      ]
    },
    {
      "cell_type": "code",
      "metadata": {
        "id": "HtjKcT6Qv-hC",
        "outputId": "551fbbba-bb36-4586-8378-2bce003c682d"
      },
      "source": [
        "# can delete values using pop keyword\n",
        "rest = d1.pop('dummy')\n",
        "rest"
      ],
      "execution_count": null,
      "outputs": [
        {
          "output_type": "execute_result",
          "data": {
            "text/plain": [
              "'another value'"
            ]
          },
          "metadata": {
            "tags": []
          },
          "execution_count": 25
        }
      ]
    },
    {
      "cell_type": "code",
      "metadata": {
        "id": "3ZODegTvv-hC",
        "outputId": "cbe78187-a728-422f-f989-ad2f7b6c4196"
      },
      "source": [
        "d1"
      ],
      "execution_count": null,
      "outputs": [
        {
          "output_type": "execute_result",
          "data": {
            "text/plain": [
              "{'a': 'some value', 'b': [1, 2, 3, 4], 7: 'an integer', 'd': 'dog'}"
            ]
          },
          "metadata": {
            "tags": []
          },
          "execution_count": 26
        }
      ]
    },
    {
      "cell_type": "code",
      "metadata": {
        "id": "5gQ2RyvAv-hD",
        "outputId": "4b718546-909c-4510-993c-3d46b3cc6e0e"
      },
      "source": [
        "d1.keys()"
      ],
      "execution_count": null,
      "outputs": [
        {
          "output_type": "execute_result",
          "data": {
            "text/plain": [
              "dict_keys(['a', 'b', 7, 'd'])"
            ]
          },
          "metadata": {
            "tags": []
          },
          "execution_count": 27
        }
      ]
    },
    {
      "cell_type": "code",
      "metadata": {
        "id": "EXinLrNav-hD",
        "outputId": "77779d8e-5a1a-4598-8c38-4fb8b7f8a963"
      },
      "source": [
        "list(d1.keys())"
      ],
      "execution_count": null,
      "outputs": [
        {
          "output_type": "execute_result",
          "data": {
            "text/plain": [
              "['a', 'b', 7, 'd']"
            ]
          },
          "metadata": {
            "tags": []
          },
          "execution_count": 28
        }
      ]
    },
    {
      "cell_type": "code",
      "metadata": {
        "id": "vitidpu7v-hD",
        "outputId": "443a07ba-e225-4b1b-9d74-fe4655c12067"
      },
      "source": [
        "list(d1.values())"
      ],
      "execution_count": null,
      "outputs": [
        {
          "output_type": "execute_result",
          "data": {
            "text/plain": [
              "['some value', [1, 2, 3, 4], 'an integer', 'dog']"
            ]
          },
          "metadata": {
            "tags": []
          },
          "execution_count": 29
        }
      ]
    },
    {
      "cell_type": "code",
      "metadata": {
        "id": "koQ2H39ov-hD"
      },
      "source": [
        "# You can merge one dict into another using the update method:\n",
        "# This is 覆盖式的\n",
        "d1.update({'6':'foo', 'c' : 12})"
      ],
      "execution_count": null,
      "outputs": []
    },
    {
      "cell_type": "code",
      "metadata": {
        "id": "tKbQbNcKv-hE",
        "outputId": "e2a41433-21f1-4ed9-c00c-b1afe15e5774"
      },
      "source": [
        "d1"
      ],
      "execution_count": null,
      "outputs": [
        {
          "output_type": "execute_result",
          "data": {
            "text/plain": [
              "{'a': 'some value',\n",
              " 'b': [1, 2, 3, 4],\n",
              " 7: 'an integer',\n",
              " 'd': 'dog',\n",
              " '6': 'foo',\n",
              " 'c': 12}"
            ]
          },
          "metadata": {
            "tags": []
          },
          "execution_count": 37
        }
      ]
    },
    {
      "cell_type": "code",
      "metadata": {
        "id": "eX-s4KELv-hE",
        "outputId": "c5e95272-8500-4341-dd97-e2da45085100"
      },
      "source": [
        "# creating dicts from sequences\n",
        "# pair up two sequences element-wise\n",
        "\n",
        "mapping = dict(zip(range(5), reversed(range(5))))\n",
        "mapping"
      ],
      "execution_count": null,
      "outputs": [
        {
          "output_type": "execute_result",
          "data": {
            "text/plain": [
              "{0: 4, 1: 3, 2: 2, 3: 1, 4: 0}"
            ]
          },
          "metadata": {
            "tags": []
          },
          "execution_count": 40
        }
      ]
    },
    {
      "cell_type": "code",
      "metadata": {
        "id": "4GbHwBgTv-hE",
        "outputId": "4ac22e02-02c0-403c-86d4-0c8b7003b9d2"
      },
      "source": [
        "# default values\n",
        "# the dict methods GET and POP can take a default value to be returned\n",
        "\n",
        "words = ['apple', 'banana', 'atom', 'book']\n",
        "by_letter = {}\n",
        "\n",
        "for word in words:\n",
        "    letter = word[0]\n",
        "    if letter not in by_letter:\n",
        "        by_letter[letter] = [word]\n",
        "    else:\n",
        "        by_letter[letter].append(word)\n",
        "\n",
        "by_letter"
      ],
      "execution_count": null,
      "outputs": [
        {
          "output_type": "execute_result",
          "data": {
            "text/plain": [
              "{'a': ['apple', 'atom'], 'b': ['banana', 'book']}"
            ]
          },
          "metadata": {
            "tags": []
          },
          "execution_count": 50
        }
      ]
    },
    {
      "cell_type": "markdown",
      "metadata": {
        "id": "NuESlfMqv-hE"
      },
      "source": [
        "* get by default will return None if the key is not present<br>\n",
        "* while pop will raise an exception.<br>\n",
        "* the for loop below can be rewrite using get<br>\n",
        "\n",
        "if key in some_dict:<br>\n",
        "value = some_dict[key]<br>\n",
        "else:<br>\n",
        "value = default_value<br>\n",
        "\n",
        "value = some_dict.get(key, default_value)<br>"
      ]
    },
    {
      "cell_type": "code",
      "metadata": {
        "id": "sniwtp74v-hF",
        "outputId": "e1286462-2f3a-4c97-f9b4-90a4169e74c7"
      },
      "source": [
        "words = ['apple', 'banana', 'atom', 'book']\n",
        "by_letter = {}\n",
        "\n",
        "for word in words:\n",
        "    letter = word[0]\n",
        "    by_letter.get(letter, []).append(word)\n",
        "\n",
        "by_letter"
      ],
      "execution_count": null,
      "outputs": [
        {
          "output_type": "execute_result",
          "data": {
            "text/plain": [
              "{}"
            ]
          },
          "metadata": {
            "tags": []
          },
          "execution_count": 57
        }
      ]
    },
    {
      "cell_type": "code",
      "metadata": {
        "id": "SwZjqMskv-hF",
        "outputId": "f5d92b19-d6df-43cb-aeda-87f7e610b338"
      },
      "source": [
        "words = ['apple', 'banana', 'atom', 'book']\n",
        "by_letter = {}\n",
        "\n",
        "for word in words:\n",
        "    letter = word[0]\n",
        "    by_letter.pop(letter, []).append(word)\n",
        "\n",
        "by_letter"
      ],
      "execution_count": null,
      "outputs": [
        {
          "output_type": "execute_result",
          "data": {
            "text/plain": [
              "{}"
            ]
          },
          "metadata": {
            "tags": []
          },
          "execution_count": 58
        }
      ]
    },
    {
      "cell_type": "code",
      "metadata": {
        "id": "s-LNiBxRv-hF",
        "outputId": "4479b35a-7d97-4a2e-d5b2-cd3aee1f10b0"
      },
      "source": [
        "#The setdefault dict method is for precisely this purpose\n",
        "\n",
        "words = ['apple', 'banana', 'atom', 'book']\n",
        "by_letter = {}\n",
        "\n",
        "for word in words:\n",
        "    letter = word[0]\n",
        "    by_letter.setdefault(letter, []).append(word)\n",
        "\n",
        "by_letter"
      ],
      "execution_count": null,
      "outputs": [
        {
          "output_type": "execute_result",
          "data": {
            "text/plain": [
              "{'a': ['apple', 'atom'], 'b': ['banana', 'book']}"
            ]
          },
          "metadata": {
            "tags": []
          },
          "execution_count": 60
        }
      ]
    },
    {
      "cell_type": "code",
      "metadata": {
        "id": "z3qm0_D1v-hF",
        "outputId": "85ba3b8a-5b66-4987-d5e9-cb9db44cbe46"
      },
      "source": [
        "# The built-in collections module has a useful class, defaultdict, \n",
        "# which makes this even easier. To create one, you pass a type or function \n",
        "# for generating the default value for each slot in the dict\n",
        "\n",
        "words = ['apple', 'banana', 'atom', 'book']\n",
        "by_letter = {}\n",
        "\n",
        "from collections import defaultdict\n",
        "by_letter = defaultdict(list)\n",
        "for word in words:\n",
        "    by_letter[word[0]].append(word)\n",
        "\n",
        "by_letter"
      ],
      "execution_count": null,
      "outputs": [
        {
          "output_type": "execute_result",
          "data": {
            "text/plain": [
              "defaultdict(list, {'a': ['apple', 'atom'], 'b': ['banana', 'book']})"
            ]
          },
          "metadata": {
            "tags": []
          },
          "execution_count": 65
        }
      ]
    },
    {
      "cell_type": "markdown",
      "metadata": {
        "id": "GPHKYOhcv-hG"
      },
      "source": [
        "* valid dict key types<br>\n",
        "the keys generally have to be **immutable** objects like scalar types (int, float, string) or tuples (all the objects in the\n",
        "tuple need to be immutable, too). <br>\n",
        "The technical term here is **hashability**.<br>\n",
        "You can check whether an object is hashable (can be used as a key in a dict) with the **hash** function:<br>"
      ]
    },
    {
      "cell_type": "code",
      "metadata": {
        "id": "3b8IZ-VRv-hG",
        "outputId": "74ac084c-c639-46a7-ae85-7473e7a7bb53"
      },
      "source": [
        "hash('string')"
      ],
      "execution_count": null,
      "outputs": [
        {
          "output_type": "execute_result",
          "data": {
            "text/plain": [
              "-7331576832382142290"
            ]
          },
          "metadata": {
            "tags": []
          },
          "execution_count": 66
        }
      ]
    },
    {
      "cell_type": "code",
      "metadata": {
        "id": "vsvEBjm-v-hG",
        "outputId": "99cf7416-deca-41de-e08e-11868d81a116"
      },
      "source": [
        "hash((1, 2, (2, 3)))"
      ],
      "execution_count": null,
      "outputs": [
        {
          "output_type": "execute_result",
          "data": {
            "text/plain": [
              "1097636502276347782"
            ]
          },
          "metadata": {
            "tags": []
          },
          "execution_count": 67
        }
      ]
    },
    {
      "cell_type": "code",
      "metadata": {
        "id": "DyAFW-usv-hG",
        "outputId": "f5190bd1-505e-48e1-c6ce-e72cde8d331d"
      },
      "source": [
        "hash((1, 2, [2, 3])) # fails bcz lists are mutable"
      ],
      "execution_count": null,
      "outputs": [
        {
          "output_type": "error",
          "ename": "TypeError",
          "evalue": "unhashable type: 'list'",
          "traceback": [
            "\u001b[1;31m---------------------------------------------------------------------------\u001b[0m",
            "\u001b[1;31mTypeError\u001b[0m                                 Traceback (most recent call last)",
            "\u001b[1;32m<ipython-input-69-14f02349ba46>\u001b[0m in \u001b[0;36m<module>\u001b[1;34m\u001b[0m\n\u001b[1;32m----> 1\u001b[1;33m \u001b[0mhash\u001b[0m\u001b[1;33m(\u001b[0m\u001b[1;33m(\u001b[0m\u001b[1;36m1\u001b[0m\u001b[1;33m,\u001b[0m \u001b[1;36m2\u001b[0m\u001b[1;33m,\u001b[0m \u001b[1;33m[\u001b[0m\u001b[1;36m2\u001b[0m\u001b[1;33m,\u001b[0m \u001b[1;36m3\u001b[0m\u001b[1;33m]\u001b[0m\u001b[1;33m)\u001b[0m\u001b[1;33m)\u001b[0m \u001b[1;31m# fails bcz lists are mutable\u001b[0m\u001b[1;33m\u001b[0m\u001b[1;33m\u001b[0m\u001b[0m\n\u001b[0m",
            "\u001b[1;31mTypeError\u001b[0m: unhashable type: 'list'"
          ]
        }
      ]
    },
    {
      "cell_type": "code",
      "metadata": {
        "id": "rszn2DACv-hG",
        "outputId": "48458a85-9a5f-4bb3-9e38-d2e51c92fe14"
      },
      "source": [
        "# can convert a list into a tuple, then hash this element\n",
        "\n",
        "d = {}\n",
        "d[tuple([1, 2, 3])] = 5\n",
        "\n",
        "d"
      ],
      "execution_count": null,
      "outputs": [
        {
          "output_type": "execute_result",
          "data": {
            "text/plain": [
              "{(1, 2, 3): 5}"
            ]
          },
          "metadata": {
            "tags": []
          },
          "execution_count": 73
        }
      ]
    },
    {
      "cell_type": "code",
      "metadata": {
        "id": "nFRXRQoDv-hH",
        "outputId": "f8b01144-ce5e-438c-ad45-452c1419a626"
      },
      "source": [
        "hash(d[(1, 2, 3)])"
      ],
      "execution_count": null,
      "outputs": [
        {
          "output_type": "execute_result",
          "data": {
            "text/plain": [
              "5"
            ]
          },
          "metadata": {
            "tags": []
          },
          "execution_count": 79
        }
      ]
    },
    {
      "cell_type": "markdown",
      "metadata": {
        "id": "dYKE1o6bv-hH"
      },
      "source": [
        "6. set<br>\n",
        "A set is an unordered collection of unique elements.<br>\n",
        "A set can be created in two ways: via the **set** function or via a set literal with **curly braces**<br>\n",
        "Sets support mathematical set operations like *union, intersection, difference, and symmetric difference*"
      ]
    },
    {
      "cell_type": "code",
      "metadata": {
        "id": "QgO3oXlGv-hH",
        "outputId": "c95682cd-bb10-461e-b317-b2a9c00b294e"
      },
      "source": [
        "set([2, 2, 3, 1, 3, 3])"
      ],
      "execution_count": null,
      "outputs": [
        {
          "output_type": "execute_result",
          "data": {
            "text/plain": [
              "{1, 2, 3}"
            ]
          },
          "metadata": {
            "tags": []
          },
          "execution_count": 80
        }
      ]
    },
    {
      "cell_type": "code",
      "metadata": {
        "id": "e4oW9I0Sv-hH",
        "outputId": "7e445c40-02bb-4b1a-e1ce-154c6d2028ad"
      },
      "source": [
        "{2, 2, 3, 1, 3, 3}"
      ],
      "execution_count": null,
      "outputs": [
        {
          "output_type": "execute_result",
          "data": {
            "text/plain": [
              "{1, 2, 3}"
            ]
          },
          "metadata": {
            "tags": []
          },
          "execution_count": 81
        }
      ]
    },
    {
      "cell_type": "code",
      "metadata": {
        "id": "qSUOHT5Iv-hI",
        "outputId": "828d85db-ce48-44ac-82a0-11aeb674291f"
      },
      "source": [
        "# union\n",
        "a = {1, 2, 3, 4, 5}\n",
        "b = {3, 4, 5, 6, 7, 8}\n",
        "\n",
        "a.union(b)"
      ],
      "execution_count": null,
      "outputs": [
        {
          "output_type": "execute_result",
          "data": {
            "text/plain": [
              "{1, 2, 3, 4, 5, 6, 7, 8}"
            ]
          },
          "metadata": {
            "tags": []
          },
          "execution_count": 82
        }
      ]
    },
    {
      "cell_type": "code",
      "metadata": {
        "id": "b6er2taev-hI",
        "outputId": "34052e76-935c-4e96-f9e6-b0dc8867031b"
      },
      "source": [
        "# union的符号|\n",
        "a | b"
      ],
      "execution_count": null,
      "outputs": [
        {
          "output_type": "execute_result",
          "data": {
            "text/plain": [
              "{1, 2, 3, 4, 5, 6, 7, 8}"
            ]
          },
          "metadata": {
            "tags": []
          },
          "execution_count": 85
        }
      ]
    },
    {
      "cell_type": "code",
      "metadata": {
        "id": "xcZjO9Swv-hI",
        "outputId": "9aeac098-d388-481c-9bfd-2c8230dab08c"
      },
      "source": [
        "# intersection\n",
        "a.intersection(b)"
      ],
      "execution_count": null,
      "outputs": [
        {
          "output_type": "execute_result",
          "data": {
            "text/plain": [
              "{3, 4, 5}"
            ]
          },
          "metadata": {
            "tags": []
          },
          "execution_count": 86
        }
      ]
    },
    {
      "cell_type": "code",
      "metadata": {
        "id": "StPX_PZ_v-hI",
        "outputId": "965e9f2f-a0f4-464c-e990-192a74736ddd"
      },
      "source": [
        "# intersection的符号&\n",
        "a & b"
      ],
      "execution_count": null,
      "outputs": [
        {
          "output_type": "execute_result",
          "data": {
            "text/plain": [
              "{3, 4, 5}"
            ]
          },
          "metadata": {
            "tags": []
          },
          "execution_count": 88
        }
      ]
    },
    {
      "cell_type": "markdown",
      "metadata": {
        "id": "ake_Erpqv-hJ"
      },
      "source": [
        "* commonly used set methods\n",
        "![image.png](attachment:image.png)"
      ]
    },
    {
      "cell_type": "code",
      "metadata": {
        "id": "RI14qGUfv-hJ",
        "outputId": "e05e4c99-6785-43f3-a085-420357c43bf5"
      },
      "source": [
        "c = a.copy()\n",
        "c |= b\n",
        "c"
      ],
      "execution_count": null,
      "outputs": [
        {
          "output_type": "execute_result",
          "data": {
            "text/plain": [
              "{1, 2, 3, 4, 5, 6, 7, 8}"
            ]
          },
          "metadata": {
            "tags": []
          },
          "execution_count": 89
        }
      ]
    },
    {
      "cell_type": "code",
      "metadata": {
        "id": "TiK0RM-qv-hJ",
        "outputId": "d3376f18-8f44-475d-be5d-6d694f8cc910"
      },
      "source": [
        "d = a.copy()\n",
        "d &= b\n",
        "d"
      ],
      "execution_count": null,
      "outputs": [
        {
          "output_type": "execute_result",
          "data": {
            "text/plain": [
              "{3, 4, 5}"
            ]
          },
          "metadata": {
            "tags": []
          },
          "execution_count": 91
        }
      ]
    },
    {
      "cell_type": "code",
      "metadata": {
        "id": "qXsDfkxdv-hJ",
        "outputId": "8a3f57a0-a2d2-4b56-c749-712ac3cc2675"
      },
      "source": [
        "# set elements generally must be immutable\n",
        "# To have list-like elements, you must convert it to a tuple\n",
        "\n",
        "my_data = [1, 2, 3, 4]\n",
        "my_set = {tuple(my_data)}\n",
        "my_set"
      ],
      "execution_count": null,
      "outputs": [
        {
          "output_type": "execute_result",
          "data": {
            "text/plain": [
              "{(1, 2, 3, 4)}"
            ]
          },
          "metadata": {
            "tags": []
          },
          "execution_count": 92
        }
      ]
    },
    {
      "cell_type": "code",
      "metadata": {
        "id": "ykZCrpu8v-hJ",
        "outputId": "11e59c3a-6111-479e-c87f-8840368dddc7"
      },
      "source": [
        "# You can also check if a set is a subset of (is contained in) \n",
        "# or a superset of (contains all elements of) another set\n",
        "# use issubset or issuperset\n",
        "\n",
        "a_set = {1, 2, 3, 4, 5}\n",
        "\n",
        "{1, 2, 3}.issubset(a_set)"
      ],
      "execution_count": null,
      "outputs": [
        {
          "output_type": "execute_result",
          "data": {
            "text/plain": [
              "True"
            ]
          },
          "metadata": {
            "tags": []
          },
          "execution_count": 98
        }
      ]
    },
    {
      "cell_type": "code",
      "metadata": {
        "id": "-qmOe-EOv-hK",
        "outputId": "64c9b259-bc65-42dd-ed51-ed91cf39bf51"
      },
      "source": [
        "a_set.issuperset({1, 2, 3})"
      ],
      "execution_count": null,
      "outputs": [
        {
          "output_type": "execute_result",
          "data": {
            "text/plain": [
              "True"
            ]
          },
          "metadata": {
            "tags": []
          },
          "execution_count": 99
        }
      ]
    },
    {
      "cell_type": "code",
      "metadata": {
        "id": "qK5xNt7Xv-hK",
        "outputId": "5a4778b9-68de-4e46-fa30-9fd892504973"
      },
      "source": [
        "# sets are equal if and only if their contents are equal\n",
        "{1, 2, 3} == {3, 2, 1}"
      ],
      "execution_count": null,
      "outputs": [
        {
          "output_type": "execute_result",
          "data": {
            "text/plain": [
              "True"
            ]
          },
          "metadata": {
            "tags": []
          },
          "execution_count": 100
        }
      ]
    },
    {
      "cell_type": "markdown",
      "metadata": {
        "id": "r25YOG40v-hK"
      },
      "source": [
        "7. List, Set, and Dict Comprehensions<br>\n",
        "basic form for comprehension:<br>\n",
        "**[ expr for val in collection if condition ]**"
      ]
    },
    {
      "cell_type": "code",
      "metadata": {
        "id": "Jfr13pZZv-hK",
        "outputId": "5c70e914-09c9-4848-b8f9-77f6ec45d380"
      },
      "source": [
        "strings = ['a', 'as', 'bat', 'car', 'dove', 'python']\n",
        "\n",
        "[x.upper() for x in strings if len(x) > 2]"
      ],
      "execution_count": null,
      "outputs": [
        {
          "output_type": "execute_result",
          "data": {
            "text/plain": [
              "['BAT', 'CAR', 'DOVE', 'PYTHON']"
            ]
          },
          "metadata": {
            "tags": []
          },
          "execution_count": 102
        }
      ]
    },
    {
      "cell_type": "markdown",
      "metadata": {
        "id": "6biHtHrmv-hL"
      },
      "source": [
        "A dict comprehension<Br>\n",
        "**dict_comp = {key-expr : value-expr for value in collection if condition}**"
      ]
    },
    {
      "cell_type": "markdown",
      "metadata": {
        "id": "STwzR6rzv-hL"
      },
      "source": [
        "A set comprehension<br>\n",
        "**set_comp = {expr for value in collection if condition}**"
      ]
    },
    {
      "cell_type": "code",
      "metadata": {
        "id": "snjwr92Ev-hL",
        "outputId": "b0b9d400-5cd5-41b9-a1cc-31ace73be709"
      },
      "source": [
        "unique_lengths = {len(x) for x in strings}\n",
        "unique_lengths"
      ],
      "execution_count": null,
      "outputs": [
        {
          "output_type": "execute_result",
          "data": {
            "text/plain": [
              "{1, 2, 3, 4, 6}"
            ]
          },
          "metadata": {
            "tags": []
          },
          "execution_count": 105
        }
      ]
    },
    {
      "cell_type": "code",
      "metadata": {
        "id": "MvG08_xov-hL",
        "outputId": "d2a85b05-e55f-4825-de5c-e24142b3d571"
      },
      "source": [
        "# can also use the map function\n",
        "set(map(len, strings))"
      ],
      "execution_count": null,
      "outputs": [
        {
          "output_type": "execute_result",
          "data": {
            "text/plain": [
              "{1, 2, 3, 4, 6}"
            ]
          },
          "metadata": {
            "tags": []
          },
          "execution_count": 108
        }
      ]
    },
    {
      "cell_type": "code",
      "metadata": {
        "id": "oURsE7HOv-hL",
        "outputId": "32beb062-a138-4fcd-b8c0-1c6c81f21237"
      },
      "source": [
        "loc_mapping = {val : index for index, val in enumerate(strings)}\n",
        "loc_mapping"
      ],
      "execution_count": null,
      "outputs": [
        {
          "output_type": "execute_result",
          "data": {
            "text/plain": [
              "{'a': 0, 'as': 1, 'bat': 2, 'car': 3, 'dove': 4, 'python': 5}"
            ]
          },
          "metadata": {
            "tags": []
          },
          "execution_count": 109
        }
      ]
    },
    {
      "cell_type": "markdown",
      "metadata": {
        "id": "5taCNPqvv-hM"
      },
      "source": [
        "* nested list comprehensions"
      ]
    },
    {
      "cell_type": "code",
      "metadata": {
        "id": "G6f9UQtFv-hM"
      },
      "source": [
        "all_data = [['John', 'Emily', 'Michael', 'Mary', 'Steven'], \n",
        "           ['Maria', 'Juan', 'Javier', 'Natalia', 'Pilar']]"
      ],
      "execution_count": null,
      "outputs": []
    },
    {
      "cell_type": "code",
      "metadata": {
        "id": "1o98WH3-v-hM",
        "outputId": "b39e704b-4ddd-46dd-8ed1-1c0e5cdc9d77"
      },
      "source": [
        "result = [name for names in all_data for name in names\n",
        "         if name.count('e') >= 2]\n",
        "result"
      ],
      "execution_count": null,
      "outputs": [
        {
          "output_type": "execute_result",
          "data": {
            "text/plain": [
              "['Steven']"
            ]
          },
          "metadata": {
            "tags": []
          },
          "execution_count": 115
        }
      ]
    },
    {
      "cell_type": "code",
      "metadata": {
        "id": "pB-_z33Iv-hM",
        "outputId": "49c6909c-eeec-4ffe-87f2-51f2d4410ac8"
      },
      "source": [
        "some_tuples =  [(1, 2, 3), (4, 5, 6), (7, 8, 9)]\n",
        "flattened = [x for tup in some_tuples for x in tup]\n",
        "flattened"
      ],
      "execution_count": null,
      "outputs": [
        {
          "output_type": "execute_result",
          "data": {
            "text/plain": [
              "[1, 2, 3, 4, 5, 6, 7, 8, 9]"
            ]
          },
          "metadata": {
            "tags": []
          },
          "execution_count": 116
        }
      ]
    },
    {
      "cell_type": "code",
      "metadata": {
        "id": "QPmPlMoQv-hN",
        "outputId": "89a16230-b911-40f1-a877-b36ec5e0cb20"
      },
      "source": [
        "# many levels of nesting\n",
        "[[x for x in tup] for tup in some_tuples]"
      ],
      "execution_count": null,
      "outputs": [
        {
          "output_type": "execute_result",
          "data": {
            "text/plain": [
              "[[1, 2, 3], [4, 5, 6], [7, 8, 9]]"
            ]
          },
          "metadata": {
            "tags": []
          },
          "execution_count": 118
        }
      ]
    },
    {
      "cell_type": "markdown",
      "metadata": {
        "id": "Z_8mndQrv-hN"
      },
      "source": [
        "### 3.2 Functions<br>\n",
        "if you anticipate needing to repeat the same or very similar code more than once, it may be worth writing a reusable function. <br>\n",
        "Functionsvcan also help make your code more readable by giving a name to a group of Python statements.<br>\n",
        "Functions are declared with the *def* keyword and returned from with the *return* keyword<br>\n",
        "The keyword arguments must follow the positional arguments"
      ]
    },
    {
      "cell_type": "code",
      "metadata": {
        "id": "5ePaZx6Xv-hN"
      },
      "source": [
        "def my_function(x, y, z = 1.5):\n",
        "    if z > 1:\n",
        "        return z * (x + y)\n",
        "    else:\n",
        "        return z / (x + y)"
      ],
      "execution_count": null,
      "outputs": []
    },
    {
      "cell_type": "code",
      "metadata": {
        "id": "wu23deKRv-hN",
        "outputId": "a5cddb78-fef5-4c35-ecf9-72511e40246d"
      },
      "source": [
        "my_function(5, 6, z=0.7)"
      ],
      "execution_count": null,
      "outputs": [
        {
          "output_type": "execute_result",
          "data": {
            "text/plain": [
              "0.06363636363636363"
            ]
          },
          "metadata": {
            "tags": []
          },
          "execution_count": 121
        }
      ]
    },
    {
      "cell_type": "code",
      "metadata": {
        "id": "CtNNBS7Pv-hN",
        "outputId": "61158629-1600-4972-9f66-a614b621e6c2"
      },
      "source": [
        "my_function(3.14, 7, 3.5)"
      ],
      "execution_count": null,
      "outputs": [
        {
          "output_type": "execute_result",
          "data": {
            "text/plain": [
              "35.49"
            ]
          },
          "metadata": {
            "tags": []
          },
          "execution_count": 122
        }
      ]
    },
    {
      "cell_type": "code",
      "metadata": {
        "id": "gxthDw1Dv-hO",
        "outputId": "df300197-2654-40e5-dbfb-2c19ce738e95"
      },
      "source": [
        "my_function(10, 20)"
      ],
      "execution_count": null,
      "outputs": [
        {
          "output_type": "execute_result",
          "data": {
            "text/plain": [
              "45.0"
            ]
          },
          "metadata": {
            "tags": []
          },
          "execution_count": 123
        }
      ]
    },
    {
      "cell_type": "markdown",
      "metadata": {
        "id": "AlfLfqayv-hO"
      },
      "source": [
        "1. Namespaces, Scope, and Local Functions<br>\n",
        "Functions can access variables in two different scopes: global and local. <br>\n",
        "An alternative and more descriptive name describing a variable scope in Python is a namespace.<br> \n",
        "Any variables that are assigned within a function by default are assigned to the local namespace. <br>\n",
        "The local namespace is created when the function is called and immediately populated by the function’s arguments. After the function is finished, the local namespace is destroyed"
      ]
    },
    {
      "cell_type": "code",
      "metadata": {
        "id": "N61eYJXyv-hO"
      },
      "source": [
        "def func():\n",
        "    a = []\n",
        "    for i in range(5):\n",
        "        a.append(i)"
      ],
      "execution_count": null,
      "outputs": []
    },
    {
      "cell_type": "code",
      "metadata": {
        "id": "4GZsdE9_v-hO"
      },
      "source": [
        "a = []\n",
        "def func():\n",
        "    for i in range(5):\n",
        "        a.append(i)"
      ],
      "execution_count": null,
      "outputs": []
    },
    {
      "cell_type": "code",
      "metadata": {
        "id": "HoRXr9yJv-hO",
        "outputId": "751dc931-59ba-4891-8617-f8b5e514572a"
      },
      "source": [
        "# Assigning variables outside of the function’s scope is possible, \n",
        "# but those variables must be declared as global via the global keyword:\n",
        "a = None\n",
        "\n",
        "def bind_a_variable():\n",
        "    global a\n",
        "    a = []\n",
        "bind_a_variable()\n",
        "\n",
        "print(a)"
      ],
      "execution_count": null,
      "outputs": [
        {
          "output_type": "stream",
          "text": [
            "[]\n"
          ],
          "name": "stdout"
        }
      ]
    },
    {
      "cell_type": "markdown",
      "metadata": {
        "id": "c3qDC6KPv-hP"
      },
      "source": [
        "2. Returning Multiple Values<br>\n",
        "function can return multiple values"
      ]
    },
    {
      "cell_type": "code",
      "metadata": {
        "id": "T664qVtOv-hP",
        "outputId": "696009c5-be05-4301-c19e-3c78fd29b20b"
      },
      "source": [
        "def f():\n",
        "    a = 5\n",
        "    b = 6\n",
        "    c = 7\n",
        "    return {'a' : a, 'b' : b, 'c' : c}\n",
        "\n",
        "f()"
      ],
      "execution_count": null,
      "outputs": [
        {
          "output_type": "execute_result",
          "data": {
            "text/plain": [
              "{'a': 5, 'b': 6, 'c': 7}"
            ]
          },
          "metadata": {
            "tags": []
          },
          "execution_count": 133
        }
      ]
    },
    {
      "cell_type": "markdown",
      "metadata": {
        "id": "ecQklvlnv-hP"
      },
      "source": [
        "3. Functions are objects"
      ]
    },
    {
      "cell_type": "code",
      "metadata": {
        "id": "_xdppVGdv-hP"
      },
      "source": [
        "states = [' Alabma', ' Georgia!', ' Georgia', 'georgia', 'FlOrIda',\n",
        "          'south carolina##', 'West virginia?']"
      ],
      "execution_count": null,
      "outputs": []
    },
    {
      "cell_type": "code",
      "metadata": {
        "id": "gdKb7Zlkv-hP"
      },
      "source": [
        "# use built-in string methods along with the re standard library module\n",
        "# for regular expressions, to deal with messy results\n",
        "# re.sub(pattern, repl, string, count)\n",
        "# it replace something in the string\n",
        "\n",
        "import re\n",
        "\n",
        "def clean_strings(strings):\n",
        "    result = []\n",
        "    for value in strings:\n",
        "        value = value.strip()\n",
        "        value = re.sub('[!#?]', '', value)\n",
        "        value = value.title()\n",
        "        result.append(value)\n",
        "    return result"
      ],
      "execution_count": null,
      "outputs": []
    },
    {
      "cell_type": "code",
      "metadata": {
        "id": "eIb0vHDnv-hQ",
        "outputId": "8d693b89-b32e-4b6e-b0ab-4884955af438"
      },
      "source": [
        "clean_strings(states)"
      ],
      "execution_count": null,
      "outputs": [
        {
          "output_type": "execute_result",
          "data": {
            "text/plain": [
              "['Alabma',\n",
              " 'Georgia',\n",
              " 'Georgia',\n",
              " 'Georgia',\n",
              " 'Florida',\n",
              " 'South Carolina',\n",
              " 'West Virginia']"
            ]
          },
          "metadata": {
            "tags": []
          },
          "execution_count": 152
        }
      ]
    },
    {
      "cell_type": "code",
      "metadata": {
        "id": "BNfaH9sBv-hQ"
      },
      "source": [
        "def remove_punctuation(value):\n",
        "    return re.sub('[!#?]', '', value)\n",
        "\n",
        "clean_ops = [str.strip, remove_punctuation, str.title]"
      ],
      "execution_count": null,
      "outputs": []
    },
    {
      "cell_type": "code",
      "metadata": {
        "id": "uwFi3wEmv-hQ"
      },
      "source": [
        "def clean_strings(strings, ops):\n",
        "    result = []\n",
        "    for value in strings:\n",
        "        for function in ops:\n",
        "            value = function(value)\n",
        "        result.append(value)\n",
        "    return result"
      ],
      "execution_count": null,
      "outputs": []
    },
    {
      "cell_type": "code",
      "metadata": {
        "id": "ioohvqjmv-hQ",
        "outputId": "2df9ffae-9816-4592-d0ad-a86b5a954d9e"
      },
      "source": [
        "clean_strings(states, clean_ops)"
      ],
      "execution_count": null,
      "outputs": [
        {
          "output_type": "execute_result",
          "data": {
            "text/plain": [
              "['Alabma',\n",
              " 'Georgia',\n",
              " 'Georgia',\n",
              " 'Georgia',\n",
              " 'Florida',\n",
              " 'South Carolina',\n",
              " 'West Virginia']"
            ]
          },
          "metadata": {
            "tags": []
          },
          "execution_count": 155
        }
      ]
    },
    {
      "cell_type": "code",
      "metadata": {
        "id": "herB4aAzv-hR",
        "outputId": "bb51c914-e146-4cb8-f7eb-026f9801c23b"
      },
      "source": [
        "# map function applies a function to a sequence of some kind:\n",
        "for x in map(remove_punctuation, states):\n",
        "    print(x)"
      ],
      "execution_count": null,
      "outputs": [
        {
          "output_type": "stream",
          "text": [
            " Alabma\n",
            " Georgia\n",
            " Georgia\n",
            "georgia\n",
            "FlOrIda\n",
            "south carolina\n",
            "West virginia\n"
          ],
          "name": "stdout"
        }
      ]
    },
    {
      "cell_type": "markdown",
      "metadata": {
        "id": "iz5K9tqJv-hR"
      },
      "source": [
        "4. Anonymous(Lambda) Functions"
      ]
    },
    {
      "cell_type": "code",
      "metadata": {
        "id": "i9X0gj0qv-hR"
      },
      "source": [
        "def short_function(x):\n",
        "    return x * 2\n",
        "\n",
        "equiv_anon = lambda x : x * 2"
      ],
      "execution_count": null,
      "outputs": []
    },
    {
      "cell_type": "code",
      "metadata": {
        "id": "bdCUPu_Kv-hR",
        "outputId": "8f0e0178-b215-4639-de83-13d4b0d42cd9"
      },
      "source": [
        "def apply_to_list(some_list, f):\n",
        "    return [f(x) for x in some_list]\n",
        "\n",
        "ints = [4, 0, 1, 5, 6]\n",
        "apply_to_list(ints, lambda x : x * 2)"
      ],
      "execution_count": null,
      "outputs": [
        {
          "output_type": "execute_result",
          "data": {
            "text/plain": [
              "[8, 0, 2, 10, 12]"
            ]
          },
          "metadata": {
            "tags": []
          },
          "execution_count": 160
        }
      ]
    },
    {
      "cell_type": "code",
      "metadata": {
        "id": "1GTbSXo4v-hR",
        "outputId": "9873ff6c-0395-4ce7-f933-d6d14b48c62b"
      },
      "source": [
        "strings = ['foo', 'card', 'bar', 'aaaa', 'abab']\n",
        "strings.sort(key = lambda x : len(set(list(x))))\n",
        "strings"
      ],
      "execution_count": null,
      "outputs": [
        {
          "output_type": "execute_result",
          "data": {
            "text/plain": [
              "['aaaa', 'foo', 'abab', 'bar', 'card']"
            ]
          },
          "metadata": {
            "tags": []
          },
          "execution_count": 1
        }
      ]
    },
    {
      "cell_type": "code",
      "metadata": {
        "id": "nMmHQiz0v-hS",
        "outputId": "a8b7d8ac-457d-4760-d1d2-cbf74e93a690"
      },
      "source": [
        "strings = ['foo', 'card', 'bar', 'aaaa', 'abab']\n",
        "list(strings)"
      ],
      "execution_count": null,
      "outputs": [
        {
          "output_type": "execute_result",
          "data": {
            "text/plain": [
              "['foo', 'card', 'bar', 'aaaa', 'abab']"
            ]
          },
          "metadata": {
            "tags": []
          },
          "execution_count": 2
        }
      ]
    },
    {
      "cell_type": "code",
      "metadata": {
        "id": "g6_hSptRv-hS",
        "outputId": "db8b94b3-bb37-43fd-a4f4-a7c9a7f655b6"
      },
      "source": [
        "set(list(strings))"
      ],
      "execution_count": null,
      "outputs": [
        {
          "output_type": "execute_result",
          "data": {
            "text/plain": [
              "{'aaaa', 'abab', 'bar', 'card', 'foo'}"
            ]
          },
          "metadata": {
            "tags": []
          },
          "execution_count": 3
        }
      ]
    },
    {
      "cell_type": "code",
      "metadata": {
        "id": "NME0_d35v-hS",
        "outputId": "faa9b741-e1b0-4c82-ca7d-144e5372f28b"
      },
      "source": [
        "len(set(list(strings)))"
      ],
      "execution_count": null,
      "outputs": [
        {
          "output_type": "execute_result",
          "data": {
            "text/plain": [
              "5"
            ]
          },
          "metadata": {
            "tags": []
          },
          "execution_count": 198
        }
      ]
    },
    {
      "cell_type": "code",
      "metadata": {
        "id": "Dhyu4jLov-hS",
        "outputId": "aa5f2c6c-89b7-4b5d-9475-b8cd497effc9"
      },
      "source": [
        "[len(set(list(x))) for x in strings]"
      ],
      "execution_count": null,
      "outputs": [
        {
          "output_type": "execute_result",
          "data": {
            "text/plain": [
              "[2, 4, 3, 1, 2]"
            ]
          },
          "metadata": {
            "tags": []
          },
          "execution_count": 188
        }
      ]
    },
    {
      "cell_type": "code",
      "metadata": {
        "id": "ekqVuRz5v-hT",
        "outputId": "4a9a992a-799e-4158-f550-d6533def0291"
      },
      "source": [
        "strings = ['foo', 'card', 'bar', 'aaaa', 'abab']\n",
        "strings.sort()\n",
        "strings"
      ],
      "execution_count": null,
      "outputs": [
        {
          "output_type": "execute_result",
          "data": {
            "text/plain": [
              "['aaaa', 'abab', 'bar', 'card', 'foo']"
            ]
          },
          "metadata": {
            "tags": []
          },
          "execution_count": 189
        }
      ]
    },
    {
      "cell_type": "code",
      "metadata": {
        "id": "yYKbt5Ccv-hT",
        "outputId": "561e3664-73d8-40a5-a977-6189f4982fd0"
      },
      "source": [
        "len('aaaab')"
      ],
      "execution_count": null,
      "outputs": [
        {
          "output_type": "execute_result",
          "data": {
            "text/plain": [
              "5"
            ]
          },
          "metadata": {
            "tags": []
          },
          "execution_count": 201
        }
      ]
    },
    {
      "cell_type": "code",
      "metadata": {
        "id": "qTlUMuPJv-hT",
        "outputId": "8a56f3fc-fd44-4d80-8bd7-314b2e80a65a"
      },
      "source": [
        "set(list('aaaab'))"
      ],
      "execution_count": null,
      "outputs": [
        {
          "output_type": "execute_result",
          "data": {
            "text/plain": [
              "{'a', 'b'}"
            ]
          },
          "metadata": {
            "tags": []
          },
          "execution_count": 205
        }
      ]
    },
    {
      "cell_type": "code",
      "metadata": {
        "id": "I_XioFngv-hT",
        "outputId": "64735d8d-816a-43b4-d02a-c56db531c9c0"
      },
      "source": [
        "len(set(list('aaaab')))"
      ],
      "execution_count": null,
      "outputs": [
        {
          "output_type": "execute_result",
          "data": {
            "text/plain": [
              "2"
            ]
          },
          "metadata": {
            "tags": []
          },
          "execution_count": 206
        }
      ]
    },
    {
      "cell_type": "code",
      "metadata": {
        "id": "ONZ4MT1Wv-hU",
        "outputId": "f9e1a81a-3182-463a-92d8-080aa2d55c1f"
      },
      "source": [
        "trysort = ['apple', 'abnormal', 'agg', 'aim']\n",
        "trysort.sort()\n",
        "trysort"
      ],
      "execution_count": null,
      "outputs": [
        {
          "output_type": "execute_result",
          "data": {
            "text/plain": [
              "['abnormal', 'agg', 'aim', 'apple']"
            ]
          },
          "metadata": {
            "tags": []
          },
          "execution_count": 212
        }
      ]
    },
    {
      "cell_type": "code",
      "metadata": {
        "id": "m--oPF5kv-hU",
        "outputId": "b2d80ed8-38b6-4f72-d61a-55c4a00c6fb6"
      },
      "source": [
        "trysort = ['apple', 'abnormal', 'agg', 'aim']\n",
        "set(trysort)"
      ],
      "execution_count": null,
      "outputs": [
        {
          "output_type": "execute_result",
          "data": {
            "text/plain": [
              "{'abnormal', 'agg', 'aim', 'apple'}"
            ]
          },
          "metadata": {
            "tags": []
          },
          "execution_count": 214
        }
      ]
    },
    {
      "cell_type": "code",
      "metadata": {
        "id": "f3bquwkNv-hU",
        "outputId": "07abe5da-4b93-4f4c-808f-07f8c76d22e6"
      },
      "source": [
        "num = [2, 4, 3, 1, 2]\n",
        "num.sort()\n",
        "num"
      ],
      "execution_count": null,
      "outputs": [
        {
          "output_type": "execute_result",
          "data": {
            "text/plain": [
              "[1, 2, 2, 3, 4]"
            ]
          },
          "metadata": {
            "tags": []
          },
          "execution_count": 215
        }
      ]
    },
    {
      "cell_type": "markdown",
      "metadata": {
        "id": "_NuEAwR1v-hU"
      },
      "source": [
        "5. Currying : Partial Argument Appilcation<br>\n",
        "Currying is computer science jargon (named after the mathematician Haskell Curry) that means deriving new functions from existing ones by partial argument application."
      ]
    },
    {
      "cell_type": "code",
      "metadata": {
        "id": "vtyZd_rHv-hV"
      },
      "source": [
        "def add_numbers(x, y):\n",
        "    return x + y"
      ],
      "execution_count": null,
      "outputs": []
    },
    {
      "cell_type": "code",
      "metadata": {
        "id": "7GBJy3AIv-hV"
      },
      "source": [
        "add_five = lambda y : add_numbers(5, y)"
      ],
      "execution_count": null,
      "outputs": []
    },
    {
      "cell_type": "code",
      "metadata": {
        "id": "smMwpwtzv-hV"
      },
      "source": [
        "# we define a new function that calls an existing function\n",
        "# The built-in functools module can simplify this process using the partial function\n",
        "from functools import partial\n",
        "add_five = partial(add_numbers, 5)"
      ],
      "execution_count": null,
      "outputs": []
    },
    {
      "cell_type": "markdown",
      "metadata": {
        "id": "0EIA1Pkov-hV"
      },
      "source": [
        "6. Generators<br>\n",
        "make objects iterable."
      ]
    },
    {
      "cell_type": "code",
      "metadata": {
        "id": "OF5pLLjWv-hV",
        "outputId": "f71a95bf-943a-4ada-d5ca-12494d6255de"
      },
      "source": [
        "some_dict = {'a' : 1, 'b' : 2, 'c' : 3}\n",
        "\n",
        "for key in some_dict:\n",
        "    print(key)"
      ],
      "execution_count": null,
      "outputs": [
        {
          "output_type": "stream",
          "text": [
            "a\n",
            "b\n",
            "c\n"
          ],
          "name": "stdout"
        }
      ]
    },
    {
      "cell_type": "code",
      "metadata": {
        "id": "2abgvtjcv-hV",
        "outputId": "3dee2417-ac65-4021-dc73-6be1062dda4b"
      },
      "source": [
        "dict_iterator = iter(some_dict)\n",
        "dict_iterator"
      ],
      "execution_count": null,
      "outputs": [
        {
          "output_type": "execute_result",
          "data": {
            "text/plain": [
              "<dict_keyiterator at 0x2739cf53048>"
            ]
          },
          "metadata": {
            "tags": []
          },
          "execution_count": 226
        }
      ]
    },
    {
      "cell_type": "code",
      "metadata": {
        "id": "2lrffGVav-hW",
        "outputId": "c09b77cb-5765-4fad-a8af-a72afcc46cc9"
      },
      "source": [
        "# An iterator is any object that will yield objects to the Python interpreter \n",
        "# when used in a context like a for loop\n",
        "list(dict_iterator)"
      ],
      "execution_count": null,
      "outputs": [
        {
          "output_type": "execute_result",
          "data": {
            "text/plain": [
              "['a', 'b', 'c']"
            ]
          },
          "metadata": {
            "tags": []
          },
          "execution_count": 227
        }
      ]
    },
    {
      "cell_type": "code",
      "metadata": {
        "id": "ie97iCIiv-hW",
        "outputId": "297e630f-a3ea-485d-f8b0-bc0b750d19f9"
      },
      "source": [
        "def squares(n = 10):\n",
        "    print('Generating squares from 1 to {0}'.format(n ** 2))\n",
        "    for i in range(1, n + 1):\n",
        "        yield i ** 2\n",
        "\n",
        "gen = squares()\n",
        "gen"
      ],
      "execution_count": null,
      "outputs": [
        {
          "output_type": "execute_result",
          "data": {
            "text/plain": [
              "<generator object squares at 0x000002739CFAC0C8>"
            ]
          },
          "metadata": {
            "tags": []
          },
          "execution_count": 228
        }
      ]
    },
    {
      "cell_type": "code",
      "metadata": {
        "id": "2bybnesvv-hW",
        "outputId": "e5415351-b49f-4c90-bc50-6f2dafa0e08a"
      },
      "source": [
        "for x in gen:\n",
        "    print(x, end='')\n",
        "    "
      ],
      "execution_count": null,
      "outputs": [
        {
          "output_type": "stream",
          "text": [
            "Generating squares from 1 to 100\n",
            "149162536496481100"
          ],
          "name": "stdout"
        }
      ]
    },
    {
      "cell_type": "markdown",
      "metadata": {
        "id": "b_K7jB6Sv-hW"
      },
      "source": [
        "7. Generator expressions<br>\n",
        "This is a generator analogue to list, dict, and set comprehensions; <BR>\n",
        "To create one, enclose what would otherwise be a list comprehension within parentheses instead of brackets"
      ]
    },
    {
      "cell_type": "code",
      "metadata": {
        "id": "JR9e1MViv-hX",
        "outputId": "49f7d34b-eda8-4a56-f477-594436350d1f"
      },
      "source": [
        "gen = (x ** 2 for x in range(100))\n",
        "gen"
      ],
      "execution_count": null,
      "outputs": [
        {
          "output_type": "execute_result",
          "data": {
            "text/plain": [
              "<generator object <genexpr> at 0x000002739CFAC748>"
            ]
          },
          "metadata": {
            "tags": []
          },
          "execution_count": 230
        }
      ]
    },
    {
      "cell_type": "code",
      "metadata": {
        "id": "q9ziGQjJv-hX"
      },
      "source": [
        "def _make_gen():\n",
        "    for x in range(100):\n",
        "        yield x ** 2\n",
        "\n",
        "gen = _make_gen()"
      ],
      "execution_count": null,
      "outputs": []
    },
    {
      "cell_type": "code",
      "metadata": {
        "id": "EdLsaD3jv-hX",
        "outputId": "feaf42fb-149a-4f6a-8b12-8efcd37160aa"
      },
      "source": [
        "sum(x ** 2 for x in range(100))"
      ],
      "execution_count": null,
      "outputs": [
        {
          "output_type": "execute_result",
          "data": {
            "text/plain": [
              "328350"
            ]
          },
          "metadata": {
            "tags": []
          },
          "execution_count": 4
        }
      ]
    },
    {
      "cell_type": "code",
      "metadata": {
        "id": "HaDstlNYv-hX",
        "outputId": "f2240aa5-63b7-4c16-ada9-1c7737c27ebc"
      },
      "source": [
        "dict((i, i ** 2) for i in range(5))"
      ],
      "execution_count": null,
      "outputs": [
        {
          "output_type": "execute_result",
          "data": {
            "text/plain": [
              "{0: 0, 1: 1, 2: 4, 3: 9, 4: 16}"
            ]
          },
          "metadata": {
            "tags": []
          },
          "execution_count": 6
        }
      ]
    },
    {
      "cell_type": "markdown",
      "metadata": {
        "id": "_hcfR7_Qv-hY"
      },
      "source": [
        "8. itertools module<br>\n",
        "itertools module has a collection of generators for many common data algorithms<br>\n",
        "groupby takes any sequence and a function, grouping consecutive elements in the sequence by return value of the function."
      ]
    },
    {
      "cell_type": "code",
      "metadata": {
        "id": "-l6IJvaLv-hY"
      },
      "source": [
        "import itertools\n",
        "first_letter = lambda x: x[0]\n",
        "names = ['Alan', 'Adam','Wes', 'Will', 'Albert', 'Steven']"
      ],
      "execution_count": null,
      "outputs": []
    },
    {
      "cell_type": "code",
      "metadata": {
        "id": "JN2ipXmJv-hY",
        "outputId": "9f70ed5b-cd45-42d6-f41c-59b5b59c2cf5"
      },
      "source": [
        "for letter, names in itertools.groupby(names, first_letter):\n",
        "    print(letter, list(names)) # names is a generator"
      ],
      "execution_count": null,
      "outputs": [
        {
          "output_type": "stream",
          "text": [
            "A ['Alan', 'Adam']\n",
            "W ['Wes', 'Will']\n",
            "A ['Albert']\n",
            "S ['Steven']\n"
          ],
          "name": "stdout"
        }
      ]
    },
    {
      "cell_type": "markdown",
      "metadata": {
        "id": "Fx--CxlWv-hY"
      },
      "source": [
        "![image.png](attachment:image.png)"
      ]
    },
    {
      "cell_type": "markdown",
      "metadata": {
        "id": "yCXgjIMFv-hY"
      },
      "source": [
        "9. Errors and Exception Handling<Br>\n",
        "In data analysis applications, many functions only work on certain kinds of input.<br>\n",
        "As an example, Python’s float function is capable of casting a string to a floating-point number, but fails with ValueError on improper inputs."
      ]
    },
    {
      "cell_type": "code",
      "metadata": {
        "id": "xt628uByv-hZ",
        "outputId": "67617309-2315-4981-a5ab-0e3777244743"
      },
      "source": [
        "float('1.2345')"
      ],
      "execution_count": null,
      "outputs": [
        {
          "output_type": "execute_result",
          "data": {
            "text/plain": [
              "1.2345"
            ]
          },
          "metadata": {
            "tags": []
          },
          "execution_count": 10
        }
      ]
    },
    {
      "cell_type": "code",
      "metadata": {
        "id": "9grCO8AWv-ha",
        "outputId": "7acb1bdf-4412-4250-f8f4-5f4f9f6737a0"
      },
      "source": [
        "float('something')"
      ],
      "execution_count": null,
      "outputs": [
        {
          "output_type": "error",
          "ename": "ValueError",
          "evalue": "could not convert string to float: 'something'",
          "traceback": [
            "\u001b[1;31m---------------------------------------------------------------------------\u001b[0m",
            "\u001b[1;31mValueError\u001b[0m                                Traceback (most recent call last)",
            "\u001b[1;32m<ipython-input-11-2649e4ade0e6>\u001b[0m in \u001b[0;36m<module>\u001b[1;34m\u001b[0m\n\u001b[1;32m----> 1\u001b[1;33m \u001b[0mfloat\u001b[0m\u001b[1;33m(\u001b[0m\u001b[1;34m'something'\u001b[0m\u001b[1;33m)\u001b[0m\u001b[1;33m\u001b[0m\u001b[1;33m\u001b[0m\u001b[0m\n\u001b[0m",
            "\u001b[1;31mValueError\u001b[0m: could not convert string to float: 'something'"
          ]
        }
      ]
    },
    {
      "cell_type": "code",
      "metadata": {
        "id": "VlXg1isYv-ha"
      },
      "source": [
        "# try/ except block\n",
        "\n",
        "def attempt_float(x):\n",
        "    try:\n",
        "        return float(x)\n",
        "    except:\n",
        "        return x"
      ],
      "execution_count": null,
      "outputs": []
    },
    {
      "cell_type": "code",
      "metadata": {
        "id": "xJ1WTtCWv-hb",
        "outputId": "aeaf41ce-745e-4ac4-be10-1d4b2a64335c"
      },
      "source": [
        "attempt_float('1.2345')"
      ],
      "execution_count": null,
      "outputs": [
        {
          "output_type": "execute_result",
          "data": {
            "text/plain": [
              "1.2345"
            ]
          },
          "metadata": {
            "tags": []
          },
          "execution_count": 13
        }
      ]
    },
    {
      "cell_type": "code",
      "metadata": {
        "id": "78ahiobmv-hb",
        "outputId": "02cb5559-275d-4b38-f2e7-9b2a3299beca"
      },
      "source": [
        "attempt_float('something')"
      ],
      "execution_count": null,
      "outputs": [
        {
          "output_type": "execute_result",
          "data": {
            "text/plain": [
              "'something'"
            ]
          },
          "metadata": {
            "tags": []
          },
          "execution_count": 14
        }
      ]
    },
    {
      "cell_type": "code",
      "metadata": {
        "id": "7tScp2qcv-hb",
        "outputId": "6125bc76-8782-44e0-ae51-81a0ca02f2f0"
      },
      "source": [
        "float((1, 2))"
      ],
      "execution_count": null,
      "outputs": [
        {
          "output_type": "error",
          "ename": "TypeError",
          "evalue": "float() argument must be a string or a number, not 'tuple'",
          "traceback": [
            "\u001b[1;31m---------------------------------------------------------------------------\u001b[0m",
            "\u001b[1;31mTypeError\u001b[0m                                 Traceback (most recent call last)",
            "\u001b[1;32m<ipython-input-15-82f777b0e564>\u001b[0m in \u001b[0;36m<module>\u001b[1;34m\u001b[0m\n\u001b[1;32m----> 1\u001b[1;33m \u001b[0mfloat\u001b[0m\u001b[1;33m(\u001b[0m\u001b[1;33m(\u001b[0m\u001b[1;36m1\u001b[0m\u001b[1;33m,\u001b[0m \u001b[1;36m2\u001b[0m\u001b[1;33m)\u001b[0m\u001b[1;33m)\u001b[0m\u001b[1;33m\u001b[0m\u001b[1;33m\u001b[0m\u001b[0m\n\u001b[0m",
            "\u001b[1;31mTypeError\u001b[0m: float() argument must be a string or a number, not 'tuple'"
          ]
        }
      ]
    },
    {
      "cell_type": "code",
      "metadata": {
        "id": "6Nv8amSRv-hb"
      },
      "source": [
        "# You can catch multiple exception types by writing a tuple of exception types instead (the parentheses are required):\n",
        "def attempt_float(x):\n",
        "    try:\n",
        "        return float(x)\n",
        "    except (ValueError, TypeError):\n",
        "        return x"
      ],
      "execution_count": null,
      "outputs": []
    },
    {
      "cell_type": "code",
      "metadata": {
        "id": "uisqX4k2v-hb",
        "outputId": "54abb2b5-c625-4291-8441-a47545a71967"
      },
      "source": [
        "attempt_float((1, 2))"
      ],
      "execution_count": null,
      "outputs": [
        {
          "output_type": "execute_result",
          "data": {
            "text/plain": [
              "(1, 2)"
            ]
          },
          "metadata": {
            "tags": []
          },
          "execution_count": 20
        }
      ]
    },
    {
      "cell_type": "code",
      "metadata": {
        "id": "FAxxRSypv-hc"
      },
      "source": [
        "# use finallly, the code to be executed regardless of whether in the try block succeeds or not\n",
        "\n",
        "f = open(path, 'w')\n",
        "\n",
        "try:\n",
        "    write_to_file(f)\n",
        "finally:\n",
        "    f.close()"
      ],
      "execution_count": null,
      "outputs": []
    },
    {
      "cell_type": "code",
      "metadata": {
        "id": "7gn-rtCRv-hc"
      },
      "source": [
        "f = open(path, 'w')\n",
        "\n",
        "try:\n",
        "    write_to_file(f)\n",
        "except:\n",
        "    print('Failed')\n",
        "else:\n",
        "    print('Succeeded')\n",
        "finally:\n",
        "    f.close()"
      ],
      "execution_count": null,
      "outputs": []
    },
    {
      "cell_type": "markdown",
      "metadata": {
        "id": "zkJRcn_9v-hc"
      },
      "source": [
        "10. Exceptions in IPython<br>\n",
        "If an exception is raised while you are %run-ing a script or executing any statement, IPython will by default print a full call stack trace (traceback) with a few lines of context around the position at each point in the stack:\n"
      ]
    },
    {
      "cell_type": "markdown",
      "metadata": {
        "id": "7j5Wr8Q9v-hc"
      },
      "source": [
        "![image.png](attachment:image.png)"
      ]
    },
    {
      "cell_type": "markdown",
      "metadata": {
        "id": "5fWG7LBDv-hd"
      },
      "source": [
        "### 3.3 Files and the Operating System"
      ]
    },
    {
      "cell_type": "code",
      "metadata": {
        "id": "Byk8GGQ1v-hd"
      },
      "source": [
        "# open a file for reading or writing\n",
        "# By default, the file is opened in read-only mode 'r'\n",
        "path = 'C:\\\\Users\\\\14248\\\\Desktop\\\\python-learning\\\\pathtest.txt'\n",
        "f = open(path)"
      ],
      "execution_count": null,
      "outputs": []
    },
    {
      "cell_type": "code",
      "metadata": {
        "id": "gINX_ZWvv-hd"
      },
      "source": [
        "for line in f:\n",
        "    pass"
      ],
      "execution_count": null,
      "outputs": []
    },
    {
      "cell_type": "code",
      "metadata": {
        "id": "ainVOFUVv-hd",
        "outputId": "2efd4af2-33b5-4ea0-91ea-51b8e762a3ea"
      },
      "source": [
        "lines = [x.rstrip() for x in open(path)]\n",
        "lines"
      ],
      "execution_count": null,
      "outputs": [
        {
          "output_type": "execute_result",
          "data": {
            "text/plain": [
              "['Be brave', 'Be couragous', 'Be kind', 'And love']"
            ]
          },
          "metadata": {
            "tags": []
          },
          "execution_count": 28
        }
      ]
    },
    {
      "cell_type": "code",
      "metadata": {
        "id": "uGwU_WCKv-he"
      },
      "source": [
        "f.close()"
      ],
      "execution_count": null,
      "outputs": []
    },
    {
      "cell_type": "code",
      "metadata": {
        "id": "z2sWu3cAv-he"
      },
      "source": [
        "# a more easier way to clean up open files --> with open\n",
        "# This will automatically close the file f when exiting the with block.\n",
        "\n",
        "with open(path) as f:\n",
        "    lines = [x.rstrip() for x in f]"
      ],
      "execution_count": null,
      "outputs": []
    },
    {
      "cell_type": "code",
      "metadata": {
        "id": "d_7xV4Luv-he",
        "outputId": "a9606e92-8528-4aa2-c97f-39d6e6559cbd"
      },
      "source": [
        "# READ\n",
        "# Read returns a certain number of characters from the file.\n",
        "# The read method advances the file handle’s position by the number of bytes read.\n",
        "\n",
        "f = open(path)\n",
        "\n",
        "f.read(10)"
      ],
      "execution_count": null,
      "outputs": [
        {
          "output_type": "execute_result",
          "data": {
            "text/plain": [
              "'Be brave\\nB'"
            ]
          },
          "metadata": {
            "tags": []
          },
          "execution_count": 38
        }
      ]
    },
    {
      "cell_type": "code",
      "metadata": {
        "id": "ZmhsaXq4v-he",
        "outputId": "8b755255-11ac-4140-cc1b-9a59aaf12058"
      },
      "source": [
        "# What constitutes a “character” is determined by the file’s encoding (e.g., UTF-8) \n",
        "# or simply raw bytes if the file is opened in binary mode.\n",
        "f2 = open(path, 'rb') # Binary mode\n",
        "f2.read(10)"
      ],
      "execution_count": null,
      "outputs": [
        {
          "output_type": "execute_result",
          "data": {
            "text/plain": [
              "b'Be brave\\r\\n'"
            ]
          },
          "metadata": {
            "tags": []
          },
          "execution_count": 39
        }
      ]
    },
    {
      "cell_type": "code",
      "metadata": {
        "id": "lh5ZvPh-v-hf",
        "outputId": "7bedbf67-4235-4d7c-b326-fb0c62609f9b"
      },
      "source": [
        "# TELL\n",
        "# Tell gives you the current position.\n",
        "f.tell()"
      ],
      "execution_count": null,
      "outputs": [
        {
          "output_type": "execute_result",
          "data": {
            "text/plain": [
              "11"
            ]
          },
          "metadata": {
            "tags": []
          },
          "execution_count": 41
        }
      ]
    },
    {
      "cell_type": "code",
      "metadata": {
        "id": "zUphyUJuv-hf",
        "outputId": "255f2c74-7585-4aaf-e40f-4e11359be916"
      },
      "source": [
        "f2.tell()"
      ],
      "execution_count": null,
      "outputs": [
        {
          "output_type": "execute_result",
          "data": {
            "text/plain": [
              "10"
            ]
          },
          "metadata": {
            "tags": []
          },
          "execution_count": 42
        }
      ]
    },
    {
      "cell_type": "code",
      "metadata": {
        "id": "p9Gr1FFbv-hf",
        "outputId": "7dbdbfcc-5b07-42c1-e158-138257250eb5"
      },
      "source": [
        "# check the default encoding in the sys module.\n",
        "import sys\n",
        "\n",
        "sys.getdefaultencoding()"
      ],
      "execution_count": null,
      "outputs": [
        {
          "output_type": "execute_result",
          "data": {
            "text/plain": [
              "'utf-8'"
            ]
          },
          "metadata": {
            "tags": []
          },
          "execution_count": 44
        }
      ]
    },
    {
      "cell_type": "code",
      "metadata": {
        "id": "aGWLxaIBv-hf",
        "outputId": "ac30cb6c-efe6-49d9-e039-9b17e8540665"
      },
      "source": [
        "# seek changes the file position to the indicated byte in the file.\n",
        "\n",
        "f.seek(3)"
      ],
      "execution_count": null,
      "outputs": [
        {
          "output_type": "execute_result",
          "data": {
            "text/plain": [
              "3"
            ]
          },
          "metadata": {
            "tags": []
          },
          "execution_count": 45
        }
      ]
    },
    {
      "cell_type": "code",
      "metadata": {
        "id": "GhVR3hh-v-hg",
        "outputId": "43e3390c-c992-4fd0-97ad-b0db6b066995"
      },
      "source": [
        "f.read(1)"
      ],
      "execution_count": null,
      "outputs": [
        {
          "output_type": "execute_result",
          "data": {
            "text/plain": [
              "'b'"
            ]
          },
          "metadata": {
            "tags": []
          },
          "execution_count": 46
        }
      ]
    },
    {
      "cell_type": "code",
      "metadata": {
        "id": "mGzgrp5uv-hg"
      },
      "source": [
        "f.close()"
      ],
      "execution_count": null,
      "outputs": []
    },
    {
      "cell_type": "code",
      "metadata": {
        "id": "Qb0UdNNmv-hg"
      },
      "source": [
        "f2.close()"
      ],
      "execution_count": null,
      "outputs": []
    },
    {
      "cell_type": "markdown",
      "metadata": {
        "id": "yLFZ-JqGv-hg"
      },
      "source": [
        "![image.png](attachment:image.png)"
      ]
    },
    {
      "cell_type": "code",
      "metadata": {
        "id": "1BH1aR7Yv-hg"
      },
      "source": [
        "# To write text to a file, you can use the file’s write or writelines methods\n",
        "\n",
        "with open('tmp.txt', 'w') as handle:\n",
        "    handle.writelines(x for x in open(path) if len(x) > 1)"
      ],
      "execution_count": null,
      "outputs": []
    },
    {
      "cell_type": "code",
      "metadata": {
        "id": "hSveCBqZv-hh"
      },
      "source": [
        "with open('tmp.txt') as f:\n",
        "    lines = f.readlines()"
      ],
      "execution_count": null,
      "outputs": []
    },
    {
      "cell_type": "code",
      "metadata": {
        "id": "ttkEuRu7v-hh",
        "outputId": "f8f570b6-b8ba-4a67-c961-411cd08907c5"
      },
      "source": [
        "lines"
      ],
      "execution_count": null,
      "outputs": [
        {
          "output_type": "execute_result",
          "data": {
            "text/plain": [
              "['Be brave\\n', 'Be couragous\\n', 'Be kind\\n', 'And love\\n']"
            ]
          },
          "metadata": {
            "tags": []
          },
          "execution_count": 51
        }
      ]
    },
    {
      "cell_type": "markdown",
      "metadata": {
        "id": "H3QvXik0v-hi"
      },
      "source": [
        "![image.png](attachment:image.png)\n",
        "![image-2.png](attachment:image-2.png)"
      ]
    },
    {
      "cell_type": "markdown",
      "metadata": {
        "id": "dsVYAdy1v-hi"
      },
      "source": [
        "* Bytes and Unicode with Files<br>\n",
        "The default behavior for Python files (whether readable or writable) is **text mode**.<br>\n",
        "But you can obtain **binary mode** by appending b onto the file mode."
      ]
    },
    {
      "cell_type": "code",
      "metadata": {
        "id": "lliqwTTRv-hi",
        "outputId": "9410786d-bbba-4935-ea2d-b82301ad9418"
      },
      "source": [
        "with open(path) as f:\n",
        "    chars = f.read(10)\n",
        "chars"
      ],
      "execution_count": null,
      "outputs": [
        {
          "output_type": "execute_result",
          "data": {
            "text/plain": [
              "'Be brave\\nB'"
            ]
          },
          "metadata": {
            "tags": []
          },
          "execution_count": 53
        }
      ]
    },
    {
      "cell_type": "code",
      "metadata": {
        "id": "VtxnT1-pv-hj",
        "outputId": "b03cc7c2-aae3-412e-a3b1-cc813a978fd3"
      },
      "source": [
        "# If I open the file in 'rb' mode instead, read requests exact numbers of bytes:\n",
        "\n",
        "with open(path, 'rb') as f:\n",
        "    data = f.read(10)\n",
        "\n",
        "data"
      ],
      "execution_count": null,
      "outputs": [
        {
          "output_type": "execute_result",
          "data": {
            "text/plain": [
              "b'Be brave\\r\\n'"
            ]
          },
          "metadata": {
            "tags": []
          },
          "execution_count": 55
        }
      ]
    },
    {
      "cell_type": "code",
      "metadata": {
        "id": "jxeeisQ-v-hj",
        "outputId": "988c1552-207d-4321-daf3-f3518ddb81b0"
      },
      "source": [
        "data.decode('utf8')"
      ],
      "execution_count": null,
      "outputs": [
        {
          "output_type": "execute_result",
          "data": {
            "text/plain": [
              "'Be brave\\r\\n'"
            ]
          },
          "metadata": {
            "tags": []
          },
          "execution_count": 56
        }
      ]
    },
    {
      "cell_type": "code",
      "metadata": {
        "id": "tsvd-4uEv-hj",
        "outputId": "c58a02e5-580e-4f75-a44d-55d3a98b15f3"
      },
      "source": [
        "data[:4].decode('utf8')"
      ],
      "execution_count": null,
      "outputs": [
        {
          "output_type": "execute_result",
          "data": {
            "text/plain": [
              "'Be b'"
            ]
          },
          "metadata": {
            "tags": []
          },
          "execution_count": 57
        }
      ]
    },
    {
      "cell_type": "code",
      "metadata": {
        "id": "wcs6llNOv-hj"
      },
      "source": [
        "# Text mode, combined with the encoding option of open, provides \n",
        "# a convenient way to convert from one Unicode encoding to another\n",
        "\n",
        "sink_path = 'sink.txt'"
      ],
      "execution_count": null,
      "outputs": []
    },
    {
      "cell_type": "code",
      "metadata": {
        "id": "MPtlCDi3v-hj"
      },
      "source": [
        "with open(path) as source:\n",
        "    with open(sink_path, 'xt', encoding = 'iso-8859-1') as sink:\n",
        "        sink.write(source.read())"
      ],
      "execution_count": null,
      "outputs": []
    },
    {
      "cell_type": "code",
      "metadata": {
        "id": "-4OGiGcCv-hk",
        "outputId": "7114117c-9689-4d68-b6c3-1f9ebfde3e60"
      },
      "source": [
        "with open(sink_path, encoding = 'iso-8859-1') as f:\n",
        "    print(f.read(10))"
      ],
      "execution_count": null,
      "outputs": [
        {
          "output_type": "stream",
          "text": [
            "Be brave\n",
            "B\n"
          ],
          "name": "stdout"
        }
      ]
    },
    {
      "cell_type": "code",
      "metadata": {
        "id": "3elWAjEjv-hk"
      },
      "source": [
        ""
      ],
      "execution_count": null,
      "outputs": []
    },
    {
      "cell_type": "code",
      "metadata": {
        "id": "mSmUzMElv-hk"
      },
      "source": [
        ""
      ],
      "execution_count": null,
      "outputs": []
    },
    {
      "cell_type": "code",
      "metadata": {
        "id": "GDhHgFo1v-hk"
      },
      "source": [
        ""
      ],
      "execution_count": null,
      "outputs": []
    },
    {
      "cell_type": "markdown",
      "metadata": {
        "id": "k7TSaplLv-hk"
      },
      "source": [
        "# Numpy -- In Class Notes"
      ]
    },
    {
      "cell_type": "markdown",
      "metadata": {
        "id": "yLlsYcdWv-hl"
      },
      "source": [
        "* Array"
      ]
    },
    {
      "cell_type": "code",
      "metadata": {
        "id": "lP8M54iIv-hl"
      },
      "source": [
        "import numpy as np"
      ],
      "execution_count": null,
      "outputs": []
    },
    {
      "cell_type": "code",
      "metadata": {
        "id": "outAyu_cv-hl",
        "outputId": "a2eb2722-e748-45e4-d993-4f6db924b3e7"
      },
      "source": [
        "data = np.random.randn(2,3)\n",
        "data"
      ],
      "execution_count": null,
      "outputs": [
        {
          "output_type": "execute_result",
          "data": {
            "text/plain": [
              "array([[ 0.19251906,  0.41024624,  0.60926412],\n",
              "       [ 0.47763148, -0.7696344 , -0.29070313]])"
            ]
          },
          "metadata": {
            "tags": []
          },
          "execution_count": 238
        }
      ]
    },
    {
      "cell_type": "code",
      "metadata": {
        "id": "1kugRJ18v-hl",
        "outputId": "f65c6731-31cc-4a41-8c9d-af3e014605fc"
      },
      "source": [
        "data = np.random.randn(2, 3, 4)\n",
        "data"
      ],
      "execution_count": null,
      "outputs": [
        {
          "output_type": "execute_result",
          "data": {
            "text/plain": [
              "array([[[ 1.40902562, -0.1172771 ,  0.53656542, -0.47320561],\n",
              "        [ 0.02844361,  0.22138905,  0.94221505, -0.81626968],\n",
              "        [-1.56613172, -0.20049306, -0.08271469,  1.36042129]],\n",
              "\n",
              "       [[ 0.24289325, -1.44535143,  1.3383169 ,  2.08586706],\n",
              "        [-1.0927835 ,  0.02304767,  0.17880706, -1.25775972],\n",
              "        [ 0.62317896, -0.51076939,  1.68032893,  0.05242329]]])"
            ]
          },
          "metadata": {
            "tags": []
          },
          "execution_count": 241
        }
      ]
    },
    {
      "cell_type": "code",
      "metadata": {
        "id": "A7DVK_Ugv-hl",
        "outputId": "6ec165d3-4b62-45b5-9999-af42e36d0dbe"
      },
      "source": [
        "data * 10"
      ],
      "execution_count": null,
      "outputs": [
        {
          "output_type": "execute_result",
          "data": {
            "text/plain": [
              "array([[ 1.92519059,  4.10246245,  6.09264125],\n",
              "       [ 4.77631483, -7.69634395, -2.90703128]])"
            ]
          },
          "metadata": {
            "tags": []
          },
          "execution_count": 239
        }
      ]
    },
    {
      "cell_type": "code",
      "metadata": {
        "id": "ggRVWHOhv-hm",
        "outputId": "70569ad7-34ff-42f2-c59f-d1cb1db27b5d"
      },
      "source": [
        "data.shape"
      ],
      "execution_count": null,
      "outputs": [
        {
          "output_type": "execute_result",
          "data": {
            "text/plain": [
              "(2, 3, 4)"
            ]
          },
          "metadata": {
            "tags": []
          },
          "execution_count": 242
        }
      ]
    },
    {
      "cell_type": "code",
      "metadata": {
        "id": "kBNcDemcv-hm"
      },
      "source": [
        "class Test:\n",
        "    def __init__(self):\n",
        "        self.number = 10\n",
        "    def calculate(self):\n",
        "        pass"
      ],
      "execution_count": null,
      "outputs": []
    },
    {
      "cell_type": "code",
      "metadata": {
        "id": "PVt8Bt4lv-hm",
        "outputId": "4629c757-7c8f-4eef-aae4-fcb637e7e2f0"
      },
      "source": [
        "t = Test()\n",
        "t.number"
      ],
      "execution_count": null,
      "outputs": [
        {
          "output_type": "execute_result",
          "data": {
            "text/plain": [
              "10"
            ]
          },
          "metadata": {
            "tags": []
          },
          "execution_count": 244
        }
      ]
    },
    {
      "cell_type": "code",
      "metadata": {
        "id": "cth3cwPIv-hm",
        "outputId": "50d7e41d-e8f8-46ef-b89e-e2ab5b1e2598"
      },
      "source": [
        "data.dtype"
      ],
      "execution_count": null,
      "outputs": [
        {
          "output_type": "execute_result",
          "data": {
            "text/plain": [
              "dtype('float64')"
            ]
          },
          "metadata": {
            "tags": []
          },
          "execution_count": 245
        }
      ]
    },
    {
      "cell_type": "markdown",
      "metadata": {
        "id": "LmRa-68Rv-hm"
      },
      "source": [
        "* Creating ndarrays"
      ]
    },
    {
      "cell_type": "code",
      "metadata": {
        "id": "OHVWc0G1v-hn"
      },
      "source": [
        "data1 = [6, 5, 3, 5, 6]"
      ],
      "execution_count": null,
      "outputs": []
    },
    {
      "cell_type": "code",
      "metadata": {
        "id": "G38nXUiIv-hn"
      },
      "source": [
        "arr1 = np.array(data1)"
      ],
      "execution_count": null,
      "outputs": []
    },
    {
      "cell_type": "code",
      "metadata": {
        "id": "aC9_ZtTsv-hn",
        "outputId": "a951f00a-fef3-46d8-bdad-cc9bd8aebef5"
      },
      "source": [
        "arr1"
      ],
      "execution_count": null,
      "outputs": [
        {
          "output_type": "execute_result",
          "data": {
            "text/plain": [
              "array([6, 5, 3, 5, 6])"
            ]
          },
          "metadata": {
            "tags": []
          },
          "execution_count": 250
        }
      ]
    },
    {
      "cell_type": "code",
      "metadata": {
        "id": "CNlOXJj2v-hn",
        "outputId": "72c4e2a5-8fc1-4445-8dd7-97033e2247b8"
      },
      "source": [
        "arr1.shape"
      ],
      "execution_count": null,
      "outputs": [
        {
          "output_type": "execute_result",
          "data": {
            "text/plain": [
              "(5,)"
            ]
          },
          "metadata": {
            "tags": []
          },
          "execution_count": 252
        }
      ]
    },
    {
      "cell_type": "code",
      "metadata": {
        "id": "tqrfYuyWv-hn",
        "outputId": "889c29a5-3e32-4fa2-96bf-0353370d9cbe"
      },
      "source": [
        "# n dimensional\n",
        "arr1.ndim"
      ],
      "execution_count": null,
      "outputs": [
        {
          "output_type": "execute_result",
          "data": {
            "text/plain": [
              "1"
            ]
          },
          "metadata": {
            "tags": []
          },
          "execution_count": 254
        }
      ]
    },
    {
      "cell_type": "code",
      "metadata": {
        "id": "5K2FbSYIv-ho",
        "outputId": "283a8037-588d-4e19-cec4-5c9823c883e8"
      },
      "source": [
        "arr1.dtype"
      ],
      "execution_count": null,
      "outputs": [
        {
          "output_type": "execute_result",
          "data": {
            "text/plain": [
              "dtype('int32')"
            ]
          },
          "metadata": {
            "tags": []
          },
          "execution_count": 255
        }
      ]
    },
    {
      "cell_type": "markdown",
      "metadata": {
        "id": "BB2OYAFTv-ho"
      },
      "source": [
        "* Factory methods in creating new arrays"
      ]
    },
    {
      "cell_type": "code",
      "metadata": {
        "id": "yPRX42cxv-ho",
        "outputId": "2d575b52-794b-4dd8-f160-b58eecf0760d"
      },
      "source": [
        "# by default, the type is float\n",
        "np.zeros(10)"
      ],
      "execution_count": null,
      "outputs": [
        {
          "output_type": "execute_result",
          "data": {
            "text/plain": [
              "array([0., 0., 0., 0., 0., 0., 0., 0., 0., 0.])"
            ]
          },
          "metadata": {
            "tags": []
          },
          "execution_count": 257
        }
      ]
    },
    {
      "cell_type": "code",
      "metadata": {
        "id": "ceHwFyfov-ho",
        "outputId": "e38e0c6b-17bb-472a-99bf-b258262f037d"
      },
      "source": [
        "np.zeros((3, 6))"
      ],
      "execution_count": null,
      "outputs": [
        {
          "output_type": "execute_result",
          "data": {
            "text/plain": [
              "array([[0., 0., 0., 0., 0., 0.],\n",
              "       [0., 0., 0., 0., 0., 0.],\n",
              "       [0., 0., 0., 0., 0., 0.]])"
            ]
          },
          "metadata": {
            "tags": []
          },
          "execution_count": 260
        }
      ]
    },
    {
      "cell_type": "code",
      "metadata": {
        "id": "eBJMtSVqv-ho",
        "outputId": "6752c1f5-c5f0-4440-fe2d-7968c28905cb"
      },
      "source": [
        "np.empty((2, 3, 2))"
      ],
      "execution_count": null,
      "outputs": [
        {
          "output_type": "execute_result",
          "data": {
            "text/plain": [
              "array([[[0., 0.],\n",
              "        [0., 0.],\n",
              "        [0., 0.]],\n",
              "\n",
              "       [[0., 0.],\n",
              "        [0., 0.],\n",
              "        [0., 0.]]])"
            ]
          },
          "metadata": {
            "tags": []
          },
          "execution_count": 261
        }
      ]
    },
    {
      "cell_type": "markdown",
      "metadata": {
        "id": "feIUvhjwv-hp"
      },
      "source": [
        "* arange is an array-valued version of the built-in python range function"
      ]
    },
    {
      "cell_type": "code",
      "metadata": {
        "id": "ZR0kxTMEv-hp",
        "outputId": "05607658-5fb0-4803-ca15-50d83adccf14"
      },
      "source": [
        "np.arange(15)"
      ],
      "execution_count": null,
      "outputs": [
        {
          "output_type": "execute_result",
          "data": {
            "text/plain": [
              "array([ 0,  1,  2,  3,  4,  5,  6,  7,  8,  9, 10, 11, 12, 13, 14])"
            ]
          },
          "metadata": {
            "tags": []
          },
          "execution_count": 263
        }
      ]
    },
    {
      "cell_type": "markdown",
      "metadata": {
        "id": "YoXMn0Kfv-hp"
      },
      "source": [
        "* data types for ndarrays"
      ]
    },
    {
      "cell_type": "code",
      "metadata": {
        "id": "EWIxzFKcv-hp",
        "outputId": "5eaf1380-5980-4c95-85b3-38a652573aa5"
      },
      "source": [
        "arr1 = np.array([1, 2, 3], dtype = np.float64)\n",
        "arr1"
      ],
      "execution_count": null,
      "outputs": [
        {
          "output_type": "execute_result",
          "data": {
            "text/plain": [
              "array([1., 2., 3.])"
            ]
          },
          "metadata": {
            "tags": []
          },
          "execution_count": 267
        }
      ]
    },
    {
      "cell_type": "code",
      "metadata": {
        "id": "rqcrv5lcv-hq",
        "outputId": "7a168d75-97bf-43cf-9c76-3af45ce18c78"
      },
      "source": [
        "arr2 = np.array([1, 2, 3], dtype = np.int32)\n",
        "arr2"
      ],
      "execution_count": null,
      "outputs": [
        {
          "output_type": "execute_result",
          "data": {
            "text/plain": [
              "array([1, 2, 3])"
            ]
          },
          "metadata": {
            "tags": []
          },
          "execution_count": 268
        }
      ]
    },
    {
      "cell_type": "markdown",
      "metadata": {
        "id": "raRnhQbHv-hs"
      },
      "source": [
        "* explicitly casting<br>\n",
        "By intention, to cast the type of arrays\n",
        "* implicit casting<br>\n",
        "By default, the function itself will chooose the most suitable one --> to prevent information loss"
      ]
    },
    {
      "cell_type": "code",
      "metadata": {
        "id": "FmPJWlLVv-ht",
        "outputId": "d93f9b9e-ad60-4a15-a669-b67898c8a067"
      },
      "source": [
        "float_arr2 = arr2.astype(np.float64)\n",
        "float_arr2"
      ],
      "execution_count": null,
      "outputs": [
        {
          "output_type": "execute_result",
          "data": {
            "text/plain": [
              "array([1., 2., 3.])"
            ]
          },
          "metadata": {
            "tags": []
          },
          "execution_count": 270
        }
      ]
    },
    {
      "cell_type": "markdown",
      "metadata": {
        "id": "C-CP7I4lv-ht"
      },
      "source": [
        "* Vectorization: Any arithmetic operation between equal-size arrays applies the operation element wise<br>给arry里的value做运算-->就是vectorization"
      ]
    },
    {
      "cell_type": "code",
      "metadata": {
        "id": "l_Mrfyj0v-ht",
        "outputId": "4c962787-83df-4155-fa10-6761caaa8214"
      },
      "source": [
        "arr = np.array([[1, 2, 3], [4, 5, 6]])\n",
        "arr"
      ],
      "execution_count": null,
      "outputs": [
        {
          "output_type": "execute_result",
          "data": {
            "text/plain": [
              "array([[1, 2, 3],\n",
              "       [4, 5, 6]])"
            ]
          },
          "metadata": {
            "tags": []
          },
          "execution_count": 272
        }
      ]
    },
    {
      "cell_type": "code",
      "metadata": {
        "id": "ntzBl_TXv-ht",
        "outputId": "160f3223-d9dd-44c1-d0dd-5f13c60dcefe"
      },
      "source": [
        "arr * arr"
      ],
      "execution_count": null,
      "outputs": [
        {
          "output_type": "execute_result",
          "data": {
            "text/plain": [
              "array([[ 1,  4,  9],\n",
              "       [16, 25, 36]])"
            ]
          },
          "metadata": {
            "tags": []
          },
          "execution_count": 273
        }
      ]
    },
    {
      "cell_type": "code",
      "metadata": {
        "id": "-UgvUFOQv-hu",
        "outputId": "c6454b47-ff33-40dd-e21b-798aa214a747"
      },
      "source": [
        "arr - arr"
      ],
      "execution_count": null,
      "outputs": [
        {
          "output_type": "execute_result",
          "data": {
            "text/plain": [
              "array([[0, 0, 0],\n",
              "       [0, 0, 0]])"
            ]
          },
          "metadata": {
            "tags": []
          },
          "execution_count": 274
        }
      ]
    },
    {
      "cell_type": "code",
      "metadata": {
        "id": "o0w9ZC2Sv-hu",
        "outputId": "401717e0-1311-4d70-a1dc-632ac039a79d"
      },
      "source": [
        "1 / arr "
      ],
      "execution_count": null,
      "outputs": [
        {
          "output_type": "execute_result",
          "data": {
            "text/plain": [
              "array([[1.        , 0.5       , 0.33333333],\n",
              "       [0.25      , 0.2       , 0.16666667]])"
            ]
          },
          "metadata": {
            "tags": []
          },
          "execution_count": 275
        }
      ]
    },
    {
      "cell_type": "code",
      "metadata": {
        "id": "cOkyj_N1v-hu",
        "outputId": "d83cccaf-98ec-4c9a-a062-42156abfad7b"
      },
      "source": [
        "arr ** 0.5"
      ],
      "execution_count": null,
      "outputs": [
        {
          "output_type": "execute_result",
          "data": {
            "text/plain": [
              "array([[1.        , 1.41421356, 1.73205081],\n",
              "       [2.        , 2.23606798, 2.44948974]])"
            ]
          },
          "metadata": {
            "tags": []
          },
          "execution_count": 276
        }
      ]
    },
    {
      "cell_type": "code",
      "metadata": {
        "id": "ssmrrEbDv-hu",
        "outputId": "22178af3-057b-48cf-a521-db4e58810136"
      },
      "source": [
        "arr > 0"
      ],
      "execution_count": null,
      "outputs": [
        {
          "output_type": "execute_result",
          "data": {
            "text/plain": [
              "array([[ True,  True,  True],\n",
              "       [ True,  True,  True]])"
            ]
          },
          "metadata": {
            "tags": []
          },
          "execution_count": 277
        }
      ]
    },
    {
      "cell_type": "code",
      "metadata": {
        "id": "7zSHAvRmv-hu",
        "outputId": "3aaeba65-3f15-4d1b-dea9-3024bd9fe08e"
      },
      "source": [
        "arr == 0"
      ],
      "execution_count": null,
      "outputs": [
        {
          "output_type": "execute_result",
          "data": {
            "text/plain": [
              "array([[False, False, False],\n",
              "       [False, False, False]])"
            ]
          },
          "metadata": {
            "tags": []
          },
          "execution_count": 278
        }
      ]
    },
    {
      "cell_type": "markdown",
      "metadata": {
        "id": "8WC7aVfEv-hv"
      },
      "source": [
        "* Basic indexing and slicing"
      ]
    },
    {
      "cell_type": "code",
      "metadata": {
        "id": "Cw1RM9YRv-hv"
      },
      "source": [
        "arr = np.arange(10)"
      ],
      "execution_count": null,
      "outputs": []
    },
    {
      "cell_type": "code",
      "metadata": {
        "id": "gOHU_IhTv-hv",
        "outputId": "265100c6-0f01-4823-96fd-a605e255ca81"
      },
      "source": [
        "arr"
      ],
      "execution_count": null,
      "outputs": [
        {
          "output_type": "execute_result",
          "data": {
            "text/plain": [
              "array([0, 1, 2, 3, 4, 5, 6, 7, 8, 9])"
            ]
          },
          "metadata": {
            "tags": []
          },
          "execution_count": 282
        }
      ]
    },
    {
      "cell_type": "code",
      "metadata": {
        "id": "fTjms8fvv-hv",
        "outputId": "7efcdc41-3619-473c-f208-9a5600667c60"
      },
      "source": [
        "arr[5]"
      ],
      "execution_count": null,
      "outputs": [
        {
          "output_type": "execute_result",
          "data": {
            "text/plain": [
              "5"
            ]
          },
          "metadata": {
            "tags": []
          },
          "execution_count": 283
        }
      ]
    },
    {
      "cell_type": "code",
      "metadata": {
        "id": "Oq8lSYk1v-hv",
        "outputId": "653cc5c8-d572-4c0e-fccd-edc8bc14292c"
      },
      "source": [
        "arr[5 : 8]"
      ],
      "execution_count": null,
      "outputs": [
        {
          "output_type": "execute_result",
          "data": {
            "text/plain": [
              "array([5, 6, 7])"
            ]
          },
          "metadata": {
            "tags": []
          },
          "execution_count": 284
        }
      ]
    },
    {
      "cell_type": "code",
      "metadata": {
        "id": "nX3S7pDIv-hw"
      },
      "source": [
        "# slicing\n",
        "arr[5 : 8] = 12"
      ],
      "execution_count": null,
      "outputs": []
    },
    {
      "cell_type": "code",
      "metadata": {
        "id": "kUB7BswOv-hw",
        "outputId": "356d7a62-f84d-4930-ea14-70793052c1a1"
      },
      "source": [
        "arr"
      ],
      "execution_count": null,
      "outputs": [
        {
          "output_type": "execute_result",
          "data": {
            "text/plain": [
              "array([ 0,  1,  2,  3,  4, 12, 12, 12,  8,  9])"
            ]
          },
          "metadata": {
            "tags": []
          },
          "execution_count": 286
        }
      ]
    },
    {
      "cell_type": "code",
      "metadata": {
        "id": "JAkbrYVSv-hw"
      },
      "source": [
        "# a pointer which point to the arr\n",
        "arr_slice = arr[5 : 8]"
      ],
      "execution_count": null,
      "outputs": []
    },
    {
      "cell_type": "code",
      "metadata": {
        "id": "1KStgBWxv-hw",
        "outputId": "05d55f8e-0aea-478c-d8ad-5bdc65705e2c"
      },
      "source": [
        "arr_slice"
      ],
      "execution_count": null,
      "outputs": [
        {
          "output_type": "execute_result",
          "data": {
            "text/plain": [
              "array([12, 12, 12])"
            ]
          },
          "metadata": {
            "tags": []
          },
          "execution_count": 289
        }
      ]
    },
    {
      "cell_type": "code",
      "metadata": {
        "id": "6J6ZSzTlv-hw",
        "outputId": "fd80f5ba-5f5e-40fe-8e79-c16270a8e2bc"
      },
      "source": [
        "arr_slice[1]"
      ],
      "execution_count": null,
      "outputs": [
        {
          "output_type": "execute_result",
          "data": {
            "text/plain": [
              "12"
            ]
          },
          "metadata": {
            "tags": []
          },
          "execution_count": 290
        }
      ]
    },
    {
      "cell_type": "code",
      "metadata": {
        "id": "8utUpxAmv-hx",
        "outputId": "39ee643e-d250-47ca-f0dc-736675b72b3d"
      },
      "source": [
        "arr"
      ],
      "execution_count": null,
      "outputs": [
        {
          "output_type": "execute_result",
          "data": {
            "text/plain": [
              "array([ 0,  1,  2,  3,  4, 12, 12, 12,  8,  9])"
            ]
          },
          "metadata": {
            "tags": []
          },
          "execution_count": 291
        }
      ]
    },
    {
      "cell_type": "code",
      "metadata": {
        "id": "Azgd4PfWv-hx",
        "outputId": "398715c0-05b8-4424-c74c-0caa623873a9"
      },
      "source": [
        "arr_slice[ : ]"
      ],
      "execution_count": null,
      "outputs": [
        {
          "output_type": "execute_result",
          "data": {
            "text/plain": [
              "array([12, 12, 12])"
            ]
          },
          "metadata": {
            "tags": []
          },
          "execution_count": 293
        }
      ]
    },
    {
      "cell_type": "markdown",
      "metadata": {
        "id": "UBc_TEcEv-hx"
      },
      "source": [
        "* use copy(), to prevent chaning the original array"
      ]
    },
    {
      "cell_type": "code",
      "metadata": {
        "id": "4eyPK_tpv-hx",
        "outputId": "58fc3cd0-fe12-499f-b8e0-36c257df6e3b"
      },
      "source": [
        "arr[5 : 8].copy()"
      ],
      "execution_count": null,
      "outputs": [
        {
          "output_type": "execute_result",
          "data": {
            "text/plain": [
              "array([12, 12, 12])"
            ]
          },
          "metadata": {
            "tags": []
          },
          "execution_count": 295
        }
      ]
    },
    {
      "cell_type": "code",
      "metadata": {
        "id": "XYE4E1nvv-hy",
        "outputId": "11721e03-f032-44c4-ebbc-b876a1b9dc58"
      },
      "source": [
        "arr2d = np.array([[1, 2, 3], [1, 2, 3], [1, 2, 3]])\n",
        "arr2d[2]"
      ],
      "execution_count": null,
      "outputs": [
        {
          "output_type": "execute_result",
          "data": {
            "text/plain": [
              "array([1, 2, 3])"
            ]
          },
          "metadata": {
            "tags": []
          },
          "execution_count": 297
        }
      ]
    },
    {
      "cell_type": "code",
      "metadata": {
        "id": "u3XCuEwpv-hy",
        "outputId": "4a692ac1-623c-4eb1-b52d-d09326f19a47"
      },
      "source": [
        "# can use these two methods to get access to the element\n",
        "arr2d[0][2]"
      ],
      "execution_count": null,
      "outputs": [
        {
          "output_type": "execute_result",
          "data": {
            "text/plain": [
              "3"
            ]
          },
          "metadata": {
            "tags": []
          },
          "execution_count": 298
        }
      ]
    },
    {
      "cell_type": "code",
      "metadata": {
        "id": "rVMkj5Iwv-hy",
        "outputId": "31cbfdc8-0f57-4091-939c-f86b2cafdb99"
      },
      "source": [
        "arr2d[0, 2]"
      ],
      "execution_count": null,
      "outputs": [
        {
          "output_type": "execute_result",
          "data": {
            "text/plain": [
              "3"
            ]
          },
          "metadata": {
            "tags": []
          },
          "execution_count": 299
        }
      ]
    },
    {
      "cell_type": "code",
      "metadata": {
        "id": "rgQ0X-vZv-hy",
        "outputId": "4738685b-503e-4473-9dc6-4c3e420cc914"
      },
      "source": [
        "np.arange(6).reshape(2, 3)"
      ],
      "execution_count": null,
      "outputs": [
        {
          "output_type": "execute_result",
          "data": {
            "text/plain": [
              "array([[0, 1, 2],\n",
              "       [3, 4, 5]])"
            ]
          },
          "metadata": {
            "tags": []
          },
          "execution_count": 300
        }
      ]
    },
    {
      "cell_type": "code",
      "metadata": {
        "id": "qZrAYYFev-hy"
      },
      "source": [
        "arr3d = np.array([1+np.arange(6).reshape(2,3), 7+np.arange(6).reshape(2,3)])"
      ],
      "execution_count": null,
      "outputs": []
    },
    {
      "cell_type": "code",
      "metadata": {
        "id": "6M8OmTJXv-hz",
        "outputId": "23f34628-c42c-49a6-8c3e-bb18c68801c9"
      },
      "source": [
        "arr3d"
      ],
      "execution_count": null,
      "outputs": [
        {
          "output_type": "execute_result",
          "data": {
            "text/plain": [
              "array([[[ 1,  2,  3],\n",
              "        [ 4,  5,  6]],\n",
              "\n",
              "       [[ 7,  8,  9],\n",
              "        [10, 11, 12]]])"
            ]
          },
          "metadata": {
            "tags": []
          },
          "execution_count": 303
        }
      ]
    },
    {
      "cell_type": "code",
      "metadata": {
        "id": "dakl_GFlv-hz",
        "outputId": "5fe6f47e-91b8-4a81-d6b1-9bbb9b3acb42"
      },
      "source": [
        "arr3d.shape"
      ],
      "execution_count": null,
      "outputs": [
        {
          "output_type": "execute_result",
          "data": {
            "text/plain": [
              "(2, 2, 3)"
            ]
          },
          "metadata": {
            "tags": []
          },
          "execution_count": 304
        }
      ]
    },
    {
      "cell_type": "code",
      "metadata": {
        "id": "jAovNoLXv-hz",
        "outputId": "4467b5e3-25ed-464e-8484-3c8bee669a50"
      },
      "source": [
        "arr3d[0]"
      ],
      "execution_count": null,
      "outputs": [
        {
          "output_type": "execute_result",
          "data": {
            "text/plain": [
              "array([[1, 2, 3],\n",
              "       [4, 5, 6]])"
            ]
          },
          "metadata": {
            "tags": []
          },
          "execution_count": 305
        }
      ]
    },
    {
      "cell_type": "markdown",
      "metadata": {
        "id": "ZffYVaj2v-hz"
      },
      "source": [
        "* slicing"
      ]
    },
    {
      "cell_type": "code",
      "metadata": {
        "id": "7L7Fcxs9v-hz"
      },
      "source": [
        "arr2d = np.arange(9).reshape(3, 3) + 1"
      ],
      "execution_count": null,
      "outputs": []
    },
    {
      "cell_type": "code",
      "metadata": {
        "id": "4aCES4wEv-h0",
        "outputId": "f76c23f1-c604-4eab-f0d1-cdf8d079477a"
      },
      "source": [
        "arr2d"
      ],
      "execution_count": null,
      "outputs": [
        {
          "output_type": "execute_result",
          "data": {
            "text/plain": [
              "array([[1, 2, 3],\n",
              "       [4, 5, 6],\n",
              "       [7, 8, 9]])"
            ]
          },
          "metadata": {
            "tags": []
          },
          "execution_count": 310
        }
      ]
    },
    {
      "cell_type": "code",
      "metadata": {
        "id": "tVdfEEwcv-h0",
        "outputId": "f4d7f8e8-243b-43ab-96ee-a4a4fd6a479c"
      },
      "source": [
        "arr2d[:2]"
      ],
      "execution_count": null,
      "outputs": [
        {
          "output_type": "execute_result",
          "data": {
            "text/plain": [
              "array([[1, 2, 3],\n",
              "       [4, 5, 6]])"
            ]
          },
          "metadata": {
            "tags": []
          },
          "execution_count": 311
        }
      ]
    },
    {
      "cell_type": "code",
      "metadata": {
        "id": "DXMBQggFv-h0",
        "outputId": "3301e85d-a8bc-4cb8-8209-20d9b03aa140"
      },
      "source": [
        "arr2d[:2][1:]"
      ],
      "execution_count": null,
      "outputs": [
        {
          "output_type": "execute_result",
          "data": {
            "text/plain": [
              "array([[4, 5, 6]])"
            ]
          },
          "metadata": {
            "tags": []
          },
          "execution_count": 312
        }
      ]
    },
    {
      "cell_type": "markdown",
      "metadata": {
        "id": "8KZJ5i8Ev-h0"
      },
      "source": [
        "* boolean indexing"
      ]
    },
    {
      "cell_type": "code",
      "metadata": {
        "id": "MIEjlNgsv-h0",
        "outputId": "ddc3f25b-27b5-4574-85f3-5ca0bb6d6fc0"
      },
      "source": [
        "True + True"
      ],
      "execution_count": null,
      "outputs": [
        {
          "output_type": "execute_result",
          "data": {
            "text/plain": [
              "2"
            ]
          },
          "metadata": {
            "tags": []
          },
          "execution_count": 313
        }
      ]
    },
    {
      "cell_type": "code",
      "metadata": {
        "id": "F-qNRNgNv-h1",
        "outputId": "3a212df8-923a-42b1-e67b-30e9e1a9a51a"
      },
      "source": [
        "# True eqauls to 1, false eqauls to 0\n",
        "data = np.arange(16).reshape(4, 4)\n",
        "data"
      ],
      "execution_count": null,
      "outputs": [
        {
          "output_type": "execute_result",
          "data": {
            "text/plain": [
              "array([[ 0,  1,  2,  3],\n",
              "       [ 4,  5,  6,  7],\n",
              "       [ 8,  9, 10, 11],\n",
              "       [12, 13, 14, 15]])"
            ]
          },
          "metadata": {
            "tags": []
          },
          "execution_count": 315
        }
      ]
    },
    {
      "cell_type": "code",
      "metadata": {
        "id": "9re_gBvvv-h1"
      },
      "source": [
        "# ~ equals to !="
      ],
      "execution_count": null,
      "outputs": []
    },
    {
      "cell_type": "code",
      "metadata": {
        "id": "4MFssespv-h1"
      },
      "source": [
        "# in numpy , we don't have and / or, we only use | represents for or"
      ],
      "execution_count": null,
      "outputs": []
    },
    {
      "cell_type": "code",
      "metadata": {
        "id": "Bllyabj5v-h1"
      },
      "source": [
        "x = np.random.randn(8)"
      ],
      "execution_count": null,
      "outputs": []
    },
    {
      "cell_type": "code",
      "metadata": {
        "id": "5iPo3Gahv-h1"
      },
      "source": [
        "y = np.random.randn(8)"
      ],
      "execution_count": null,
      "outputs": []
    },
    {
      "cell_type": "code",
      "metadata": {
        "id": "0AuYHyLxv-h1",
        "outputId": "f5dca56a-1772-4dca-8495-19d754239f68"
      },
      "source": [
        "np.maximum(x, y)"
      ],
      "execution_count": null,
      "outputs": [
        {
          "output_type": "execute_result",
          "data": {
            "text/plain": [
              "array([-0.17155461, -0.15144703, -0.04995741,  0.22165916,  0.63259769,\n",
              "        0.4366324 ,  0.15394223,  0.94515136])"
            ]
          },
          "metadata": {
            "tags": []
          },
          "execution_count": 320
        }
      ]
    },
    {
      "cell_type": "code",
      "metadata": {
        "id": "M7QckPOWv-h2",
        "outputId": "2854ecfa-f6c4-43c5-9784-3b1bc670ab9f"
      },
      "source": [
        "np.random.randint(0,8, size = 1000)"
      ],
      "execution_count": null,
      "outputs": [
        {
          "output_type": "execute_result",
          "data": {
            "text/plain": [
              "array([5, 7, 5, 0, 7, 6, 6, 0, 6, 5, 2, 5, 2, 3, 1, 4, 6, 3, 6, 1, 2, 0,\n",
              "       7, 6, 7, 7, 7, 2, 0, 4, 1, 5, 5, 3, 2, 1, 0, 1, 5, 4, 0, 6, 1, 6,\n",
              "       6, 4, 2, 5, 0, 2, 5, 0, 1, 1, 4, 5, 6, 6, 1, 0, 7, 3, 1, 0, 6, 6,\n",
              "       2, 0, 5, 4, 4, 7, 0, 0, 4, 6, 1, 3, 1, 1, 4, 4, 3, 7, 7, 1, 7, 7,\n",
              "       5, 0, 1, 7, 1, 3, 5, 5, 4, 1, 2, 6, 5, 3, 2, 1, 2, 0, 5, 3, 7, 6,\n",
              "       4, 3, 0, 3, 5, 6, 7, 2, 0, 7, 5, 1, 3, 5, 2, 6, 6, 0, 4, 5, 3, 6,\n",
              "       7, 4, 1, 7, 2, 2, 1, 6, 3, 5, 1, 3, 5, 6, 6, 6, 1, 2, 6, 6, 7, 6,\n",
              "       6, 1, 2, 6, 1, 4, 1, 7, 6, 0, 4, 6, 3, 3, 4, 4, 0, 7, 2, 2, 1, 4,\n",
              "       2, 7, 6, 0, 4, 1, 1, 0, 0, 5, 6, 1, 5, 7, 2, 6, 4, 3, 6, 6, 2, 3,\n",
              "       0, 7, 2, 3, 5, 5, 0, 1, 2, 0, 7, 4, 6, 1, 7, 4, 3, 3, 6, 7, 5, 0,\n",
              "       1, 7, 6, 0, 0, 3, 6, 3, 0, 4, 2, 1, 7, 6, 6, 5, 7, 7, 0, 2, 4, 0,\n",
              "       7, 6, 7, 1, 1, 2, 0, 2, 6, 4, 7, 0, 3, 3, 3, 1, 2, 0, 4, 4, 4, 3,\n",
              "       0, 6, 0, 1, 2, 2, 5, 1, 7, 6, 6, 0, 6, 7, 1, 3, 2, 6, 7, 2, 0, 6,\n",
              "       2, 1, 7, 6, 1, 2, 5, 3, 2, 6, 3, 7, 4, 2, 6, 5, 5, 1, 4, 5, 0, 3,\n",
              "       4, 0, 2, 4, 2, 1, 5, 6, 1, 4, 1, 5, 0, 2, 7, 1, 0, 5, 4, 2, 1, 3,\n",
              "       0, 2, 7, 0, 2, 1, 2, 0, 2, 6, 0, 6, 1, 2, 7, 2, 6, 3, 5, 5, 1, 6,\n",
              "       2, 3, 7, 3, 0, 0, 6, 7, 3, 2, 4, 1, 5, 1, 1, 6, 3, 7, 7, 5, 6, 7,\n",
              "       3, 0, 4, 6, 5, 4, 0, 0, 5, 3, 2, 6, 0, 2, 2, 7, 6, 7, 3, 6, 7, 6,\n",
              "       0, 6, 0, 3, 0, 4, 7, 4, 5, 4, 0, 0, 3, 3, 7, 2, 0, 2, 5, 0, 1, 0,\n",
              "       6, 1, 1, 0, 5, 1, 4, 6, 6, 7, 7, 2, 1, 4, 6, 3, 5, 6, 6, 4, 3, 5,\n",
              "       0, 6, 2, 0, 1, 4, 5, 1, 6, 4, 5, 6, 0, 2, 6, 2, 2, 2, 6, 0, 0, 0,\n",
              "       3, 1, 0, 5, 5, 1, 4, 6, 1, 4, 4, 5, 2, 4, 5, 0, 3, 1, 4, 3, 3, 3,\n",
              "       0, 5, 6, 5, 6, 3, 1, 3, 0, 3, 3, 0, 4, 0, 2, 0, 7, 4, 0, 5, 6, 0,\n",
              "       3, 7, 0, 0, 6, 0, 5, 5, 4, 2, 3, 5, 3, 4, 4, 7, 4, 2, 2, 3, 3, 4,\n",
              "       4, 6, 2, 5, 2, 7, 6, 7, 0, 6, 5, 6, 0, 5, 6, 5, 7, 0, 0, 1, 6, 5,\n",
              "       6, 3, 4, 5, 6, 7, 4, 1, 0, 4, 7, 1, 7, 1, 1, 1, 2, 0, 6, 1, 2, 1,\n",
              "       4, 1, 1, 3, 6, 6, 6, 2, 5, 2, 2, 4, 6, 2, 1, 2, 7, 3, 3, 5, 6, 2,\n",
              "       6, 1, 6, 6, 5, 2, 5, 7, 2, 3, 3, 4, 7, 2, 1, 1, 2, 6, 2, 6, 7, 4,\n",
              "       1, 6, 5, 3, 3, 4, 1, 1, 1, 4, 2, 3, 1, 0, 2, 3, 7, 3, 4, 0, 0, 2,\n",
              "       2, 0, 7, 1, 0, 3, 3, 0, 4, 2, 7, 0, 3, 5, 4, 0, 5, 7, 2, 7, 5, 2,\n",
              "       3, 3, 2, 3, 6, 4, 7, 7, 1, 3, 1, 0, 3, 2, 1, 6, 7, 7, 5, 4, 4, 5,\n",
              "       2, 4, 5, 6, 4, 4, 5, 4, 1, 5, 3, 1, 5, 6, 2, 5, 4, 6, 2, 5, 7, 7,\n",
              "       6, 2, 7, 3, 2, 3, 7, 6, 1, 3, 1, 5, 3, 0, 1, 4, 2, 5, 2, 5, 6, 3,\n",
              "       1, 2, 6, 5, 7, 4, 1, 4, 3, 3, 0, 2, 4, 1, 4, 1, 5, 3, 0, 1, 1, 6,\n",
              "       5, 0, 7, 6, 2, 7, 6, 2, 5, 0, 7, 7, 6, 1, 0, 2, 6, 2, 5, 5, 3, 5,\n",
              "       4, 7, 2, 4, 3, 7, 6, 0, 7, 2, 0, 7, 2, 6, 0, 0, 0, 1, 5, 4, 1, 6,\n",
              "       1, 1, 2, 1, 5, 3, 6, 1, 1, 7, 0, 7, 2, 4, 2, 2, 1, 6, 5, 2, 0, 0,\n",
              "       4, 7, 4, 5, 1, 3, 1, 4, 2, 2, 7, 6, 6, 4, 5, 7, 1, 4, 5, 4, 2, 0,\n",
              "       4, 2, 2, 4, 1, 3, 3, 4, 7, 7, 5, 5, 1, 2, 0, 1, 1, 2, 1, 6, 2, 3,\n",
              "       6, 4, 2, 2, 7, 3, 3, 4, 4, 7, 0, 0, 4, 0, 1, 2, 1, 0, 7, 0, 3, 5,\n",
              "       7, 5, 6, 3, 7, 2, 5, 4, 4, 0, 6, 2, 7, 7, 1, 5, 0, 3, 0, 2, 1, 0,\n",
              "       1, 1, 7, 5, 1, 4, 3, 7, 3, 7, 4, 4, 2, 2, 0, 4, 7, 4, 6, 3, 3, 3,\n",
              "       4, 4, 5, 1, 4, 6, 5, 3, 2, 1, 6, 4, 7, 1, 3, 7, 0, 6, 3, 2, 6, 3,\n",
              "       6, 4, 2, 5, 4, 7, 3, 7, 5, 7, 7, 6, 7, 5, 0, 2, 0, 5, 7, 4, 4, 6,\n",
              "       0, 5, 7, 2, 6, 4, 6, 0, 1, 4, 3, 3, 2, 0, 2, 1, 2, 6, 0, 0, 6, 1,\n",
              "       4, 1, 5, 4, 5, 1, 6, 6, 4, 7])"
            ]
          },
          "metadata": {
            "tags": []
          },
          "execution_count": 324
        }
      ]
    },
    {
      "cell_type": "code",
      "metadata": {
        "id": "7Cdn9gqDv-h2"
      },
      "source": [
        ""
      ],
      "execution_count": null,
      "outputs": []
    },
    {
      "cell_type": "markdown",
      "metadata": {
        "id": "tENB6jhHv-h2"
      },
      "source": [
        "# Chapter 4 NumPy Basics: Arrays and Vectorized Computation"
      ]
    },
    {
      "cell_type": "markdown",
      "metadata": {
        "id": "HemaHdqUv-h2"
      },
      "source": [
        "**Features in NumPy:**<br>\n",
        "* **ndarray: An efficient multidimensional array providing fast array-oriented arithmetic operations and flexible boradcasting capabilities**\n",
        "* **Mathematical function for fast operation on entire arrays of data wihout having to write loops**\n",
        "* **Tools for reading/writing array data to disk working memory-mapped files**\n",
        "* **Linear algebra, random number generation, and Fourier transform capabilities**\n",
        "* **A C API fro conecting NumPy with libraties written C,C++, or FORTRAN**"
      ]
    },
    {
      "cell_type": "markdown",
      "metadata": {
        "id": "oRQ9Fmq5v-h2"
      },
      "source": [
        "**NumPy is designed for efficiency on large arrays of data**<br>\n",
        "* **NumPy internally stores data in a contiguous block of memory, independent of other built-in Python objects**\n",
        "* **NumPy does not need type checking or other overhead**\n",
        "* **NumPy operations perform complex computations on entire array wihout the need for Python for loops**"
      ]
    },
    {
      "cell_type": "code",
      "metadata": {
        "id": "GmXabLfav-h3"
      },
      "source": [
        "import numpy as np"
      ],
      "execution_count": null,
      "outputs": []
    },
    {
      "cell_type": "code",
      "metadata": {
        "id": "G6BLBqmfv-h3"
      },
      "source": [
        "my_arr=np.arange(1000000)"
      ],
      "execution_count": null,
      "outputs": []
    },
    {
      "cell_type": "code",
      "metadata": {
        "id": "8Fi3jipvv-h3"
      },
      "source": [
        "my_list=list(range(1000000))"
      ],
      "execution_count": null,
      "outputs": []
    },
    {
      "cell_type": "code",
      "metadata": {
        "id": "OvItAHL1v-h3",
        "outputId": "a7499643-969d-4b40-ca07-1e277cf702ac"
      },
      "source": [
        "%time for _ in range(10):my_arr2=my_arr*2"
      ],
      "execution_count": null,
      "outputs": [
        {
          "output_type": "stream",
          "text": [
            "CPU times: user 13.9 ms, sys: 6 ms, total: 19.9 ms\n",
            "Wall time: 18.9 ms\n"
          ],
          "name": "stdout"
        }
      ]
    },
    {
      "cell_type": "code",
      "metadata": {
        "id": "BOBfujs_v-h3",
        "outputId": "1d85a7a4-f197-467f-e0e4-875a74915b6e"
      },
      "source": [
        "%time for _ in range(10): my_list2=[x*2 for x in my_list]"
      ],
      "execution_count": null,
      "outputs": [
        {
          "output_type": "stream",
          "text": [
            "CPU times: user 635 ms, sys: 166 ms, total: 801 ms\n",
            "Wall time: 803 ms\n"
          ],
          "name": "stdout"
        }
      ]
    },
    {
      "cell_type": "markdown",
      "metadata": {
        "id": "OHW7CDPnv-h3"
      },
      "source": [
        "## 4.1 The NumPy ndarray: A Multidimensional Array Object"
      ]
    },
    {
      "cell_type": "markdown",
      "metadata": {
        "id": "_TTXm2MTv-h4"
      },
      "source": [
        "**ndarray: A fast, flexible container for large datasets in Python**"
      ]
    },
    {
      "cell_type": "code",
      "metadata": {
        "id": "vj1i4LY9v-h4"
      },
      "source": [
        "import numpy as np"
      ],
      "execution_count": null,
      "outputs": []
    },
    {
      "cell_type": "code",
      "metadata": {
        "id": "4X5pcGEtv-h4"
      },
      "source": [
        "data=np.random.randn(2,3)"
      ],
      "execution_count": null,
      "outputs": []
    },
    {
      "cell_type": "code",
      "metadata": {
        "id": "Grqgmcr8v-h4",
        "outputId": "a861bbbb-9582-4dd8-e1aa-0c76d2ccb85f"
      },
      "source": [
        "data"
      ],
      "execution_count": null,
      "outputs": [
        {
          "output_type": "execute_result",
          "data": {
            "text/plain": [
              "array([[ 0.17118316,  1.10459098, -0.18862186],\n",
              "       [ 0.77343494,  0.3792762 , -0.90378826]])"
            ]
          },
          "metadata": {
            "tags": []
          },
          "execution_count": 9
        }
      ]
    },
    {
      "cell_type": "code",
      "metadata": {
        "id": "nA_p5IsEv-h4",
        "outputId": "df05ff52-23de-411a-f77b-015917424ebb"
      },
      "source": [
        "data*10"
      ],
      "execution_count": null,
      "outputs": [
        {
          "output_type": "execute_result",
          "data": {
            "text/plain": [
              "array([[ 1.71183155, 11.04590978, -1.88621861],\n",
              "       [ 7.73434939,  3.79276204, -9.03788258]])"
            ]
          },
          "metadata": {
            "tags": []
          },
          "execution_count": 8
        }
      ]
    },
    {
      "cell_type": "markdown",
      "metadata": {
        "id": "5Bu4OKFdv-h5"
      },
      "source": [
        "* **An ndarray is a generic multidimensional container for homogeneous data**\n",
        "* **Every arrau has a** shape **, a tuple indicsting the** size **of each dimension, and a** dtype **, an object describing the** datatype **of this array**"
      ]
    },
    {
      "cell_type": "code",
      "metadata": {
        "id": "03N7PtDrv-h5",
        "outputId": "19cef6bf-df2d-43e3-f7b4-f5bf3c8ede28"
      },
      "source": [
        "data.shape"
      ],
      "execution_count": null,
      "outputs": [
        {
          "output_type": "execute_result",
          "data": {
            "text/plain": [
              "(2, 3)"
            ]
          },
          "metadata": {
            "tags": []
          },
          "execution_count": 10
        }
      ]
    },
    {
      "cell_type": "code",
      "metadata": {
        "id": "TJHuUPDVv-h5",
        "outputId": "bb03b7d0-4d3a-4cf7-8849-3eebfdcdfaf7"
      },
      "source": [
        "data.dtype"
      ],
      "execution_count": null,
      "outputs": [
        {
          "output_type": "execute_result",
          "data": {
            "text/plain": [
              "dtype('float64')"
            ]
          },
          "metadata": {
            "tags": []
          },
          "execution_count": 11
        }
      ]
    },
    {
      "cell_type": "markdown",
      "metadata": {
        "id": "GRErHkPSv-h5"
      },
      "source": [
        "### Creating ndarrays"
      ]
    },
    {
      "cell_type": "markdown",
      "metadata": {
        "id": "xyPSurMHv-h5"
      },
      "source": [
        "**Use the** array **function, accepts any sequence-like object(including other arrays) and produces a new NumPy array containing the passed data**"
      ]
    },
    {
      "cell_type": "code",
      "metadata": {
        "id": "jMMH1CD7v-h6"
      },
      "source": [
        "data1=[6,7.5,8,0,1]"
      ],
      "execution_count": null,
      "outputs": []
    },
    {
      "cell_type": "code",
      "metadata": {
        "id": "3GWDI_Y4v-h6"
      },
      "source": [
        "arr1=np.array(data1)"
      ],
      "execution_count": null,
      "outputs": []
    },
    {
      "cell_type": "code",
      "metadata": {
        "id": "wg-FmLumv-h6",
        "outputId": "d556628a-a338-413e-b7ba-d81765428f18"
      },
      "source": [
        "arr1"
      ],
      "execution_count": null,
      "outputs": [
        {
          "output_type": "execute_result",
          "data": {
            "text/plain": [
              "array([6. , 7.5, 8. , 0. , 1. ])"
            ]
          },
          "metadata": {
            "tags": []
          },
          "execution_count": 14
        }
      ]
    },
    {
      "cell_type": "markdown",
      "metadata": {
        "id": "qF5Ud5fiv-h6"
      },
      "source": [
        "**Nested sequences will be converted into a multidimensional array**"
      ]
    },
    {
      "cell_type": "code",
      "metadata": {
        "id": "1j3UmzXxv-h6"
      },
      "source": [
        "data2=[[1,2,3,4],[5,6,7,8]]"
      ],
      "execution_count": null,
      "outputs": []
    },
    {
      "cell_type": "code",
      "metadata": {
        "id": "Wk4_KGByv-h-"
      },
      "source": [
        "arr2=np.array(data2)"
      ],
      "execution_count": null,
      "outputs": []
    },
    {
      "cell_type": "code",
      "metadata": {
        "id": "8nxNtZS-v-h-",
        "outputId": "936f1cbe-f33e-450e-b096-0e456575cfa2"
      },
      "source": [
        "arr2"
      ],
      "execution_count": null,
      "outputs": [
        {
          "output_type": "execute_result",
          "data": {
            "text/plain": [
              "array([[1, 2, 3, 4],\n",
              "       [5, 6, 7, 8]])"
            ]
          },
          "metadata": {
            "tags": []
          },
          "execution_count": 17
        }
      ]
    },
    {
      "cell_type": "code",
      "metadata": {
        "id": "9wMMk6zFv-h-",
        "outputId": "43dc91f5-1c75-436e-e81f-338a2f83224a"
      },
      "source": [
        "arr2.shape"
      ],
      "execution_count": null,
      "outputs": [
        {
          "output_type": "execute_result",
          "data": {
            "text/plain": [
              "(2, 4)"
            ]
          },
          "metadata": {
            "tags": []
          },
          "execution_count": 18
        }
      ]
    },
    {
      "cell_type": "code",
      "metadata": {
        "id": "hTYomE-Jv-h-",
        "outputId": "10f0fd66-00d3-452b-a8b1-caaf224053c8"
      },
      "source": [
        "arr2.ndim"
      ],
      "execution_count": null,
      "outputs": [
        {
          "output_type": "execute_result",
          "data": {
            "text/plain": [
              "2"
            ]
          },
          "metadata": {
            "tags": []
          },
          "execution_count": 19
        }
      ]
    },
    {
      "cell_type": "markdown",
      "metadata": {
        "id": "3SX0MTPsv-h_"
      },
      "source": [
        "np.array **tries to infer a good data type for the array it creates, data type is stored in a special** dtype **metadata object**"
      ]
    },
    {
      "cell_type": "code",
      "metadata": {
        "id": "QCUdNSuWv-h_",
        "outputId": "32995c40-2fe3-459f-8f47-bb32cc854786"
      },
      "source": [
        "arr1.dtype"
      ],
      "execution_count": null,
      "outputs": [
        {
          "output_type": "execute_result",
          "data": {
            "text/plain": [
              "dtype('float64')"
            ]
          },
          "metadata": {
            "tags": []
          },
          "execution_count": 20
        }
      ]
    },
    {
      "cell_type": "code",
      "metadata": {
        "id": "JHcpfUTsv-h_",
        "outputId": "465996aa-b990-4b46-9580-958ab7821ff1"
      },
      "source": [
        "arr2.dtype"
      ],
      "execution_count": null,
      "outputs": [
        {
          "output_type": "execute_result",
          "data": {
            "text/plain": [
              "dtype('int64')"
            ]
          },
          "metadata": {
            "tags": []
          },
          "execution_count": 21
        }
      ]
    },
    {
      "cell_type": "markdown",
      "metadata": {
        "id": "nYt8fCtzv-h_"
      },
      "source": [
        "**Factory methods in creating new arrays**"
      ]
    },
    {
      "cell_type": "code",
      "metadata": {
        "id": "d03ONu7kv-h_",
        "outputId": "ff2de3e8-30be-4379-cec0-a1339d14485b"
      },
      "source": [
        "np.zeros(10)#argument specifies lenghth and shape"
      ],
      "execution_count": null,
      "outputs": [
        {
          "output_type": "execute_result",
          "data": {
            "text/plain": [
              "array([0., 0., 0., 0., 0., 0., 0., 0., 0., 0.])"
            ]
          },
          "metadata": {
            "tags": []
          },
          "execution_count": 24
        }
      ]
    },
    {
      "cell_type": "code",
      "metadata": {
        "id": "xXQXp17ev-iA",
        "outputId": "445e9f05-8eb3-401a-9fa2-b1c364526984"
      },
      "source": [
        "np.zeros((3,6))"
      ],
      "execution_count": null,
      "outputs": [
        {
          "output_type": "execute_result",
          "data": {
            "text/plain": [
              "array([[0., 0., 0., 0., 0., 0.],\n",
              "       [0., 0., 0., 0., 0., 0.],\n",
              "       [0., 0., 0., 0., 0., 0.]])"
            ]
          },
          "metadata": {
            "tags": []
          },
          "execution_count": 25
        }
      ]
    },
    {
      "cell_type": "code",
      "metadata": {
        "id": "5uenzw1uv-iA",
        "outputId": "057af4b3-6c1e-4b32-ce9e-379e9941eaf5"
      },
      "source": [
        "np.empty((2,3,2))"
      ],
      "execution_count": null,
      "outputs": [
        {
          "output_type": "execute_result",
          "data": {
            "text/plain": [
              "array([[[ 1.28822975e-231, -4.33452428e-311],\n",
              "        [ 6.93523876e-310,  6.93524923e-310],\n",
              "        [ 6.93524923e-310,  6.93524682e-310]],\n",
              "\n",
              "       [[ 6.93524923e-310,  6.93525004e-310],\n",
              "        [ 6.93523877e-310,  6.93525004e-310],\n",
              "        [ 6.93525004e-310,  8.34402697e-309]]])"
            ]
          },
          "metadata": {
            "tags": []
          },
          "execution_count": 26
        }
      ]
    },
    {
      "cell_type": "markdown",
      "metadata": {
        "id": "SGQzGPF7v-iA"
      },
      "source": [
        "arange **is an array-valued version of the built-in Python** range **function**"
      ]
    },
    {
      "cell_type": "code",
      "metadata": {
        "id": "ak8gZNrCv-iA",
        "outputId": "1344ad3b-042d-49e0-cdf9-7b86f56340e8"
      },
      "source": [
        "np.arange(15)"
      ],
      "execution_count": null,
      "outputs": [
        {
          "output_type": "execute_result",
          "data": {
            "text/plain": [
              "array([ 0,  1,  2,  3,  4,  5,  6,  7,  8,  9, 10, 11, 12, 13, 14])"
            ]
          },
          "metadata": {
            "tags": []
          },
          "execution_count": 28
        }
      ]
    },
    {
      "cell_type": "markdown",
      "metadata": {
        "id": "YG-V7wiSv-iB"
      },
      "source": [
        "### Data Types for ndarrays"
      ]
    },
    {
      "cell_type": "markdown",
      "metadata": {
        "id": "Wb8IsDEcv-iB"
      },
      "source": [
        "data type **or** dtype **is a special object containing the information the ndarray needs to interpret a chunk of memory as a particular type of data**"
      ]
    },
    {
      "cell_type": "code",
      "metadata": {
        "id": "YfEWUGqDv-iB"
      },
      "source": [
        "arr1=np.array([1,2,3],dtype=np.float64)"
      ],
      "execution_count": null,
      "outputs": []
    },
    {
      "cell_type": "code",
      "metadata": {
        "id": "ZC_dSOkiv-iB"
      },
      "source": [
        "arr2=np.array([1,2,3],dtype=np.int32)"
      ],
      "execution_count": null,
      "outputs": []
    },
    {
      "cell_type": "code",
      "metadata": {
        "id": "4WmYVfvBv-iB",
        "outputId": "c8419386-784e-420b-ed11-901807d74f27"
      },
      "source": [
        "arr1"
      ],
      "execution_count": null,
      "outputs": [
        {
          "output_type": "execute_result",
          "data": {
            "text/plain": [
              "array([1., 2., 3.])"
            ]
          },
          "metadata": {
            "tags": []
          },
          "execution_count": 32
        }
      ]
    },
    {
      "cell_type": "code",
      "metadata": {
        "id": "u4nuLyCTv-iB",
        "outputId": "cf4fdfbb-de26-494b-b3ca-f4dd251fc5f6"
      },
      "source": [
        "arr2"
      ],
      "execution_count": null,
      "outputs": [
        {
          "output_type": "execute_result",
          "data": {
            "text/plain": [
              "array([1, 2, 3], dtype=int32)"
            ]
          },
          "metadata": {
            "tags": []
          },
          "execution_count": 33
        }
      ]
    },
    {
      "cell_type": "markdown",
      "metadata": {
        "id": "HGHYSE5Rv-iC"
      },
      "source": [
        "* **Explicitly castting an array from one dtype to another using** astype **method**\n",
        "* **Calling** astype **always creates a new array(a copy of the data), even if the new** dtype **is the same as the old** dtype"
      ]
    },
    {
      "cell_type": "code",
      "metadata": {
        "id": "COD4-96Hv-iC"
      },
      "source": [
        "arr=np.array([1,2,3,4,5])"
      ],
      "execution_count": null,
      "outputs": []
    },
    {
      "cell_type": "code",
      "metadata": {
        "id": "Tn1gUgBiv-iC",
        "outputId": "43a5d9c9-1059-4736-cdcf-9041a7ba9a10"
      },
      "source": [
        "arr.dtype"
      ],
      "execution_count": null,
      "outputs": [
        {
          "output_type": "execute_result",
          "data": {
            "text/plain": [
              "dtype('int64')"
            ]
          },
          "metadata": {
            "tags": []
          },
          "execution_count": 35
        }
      ]
    },
    {
      "cell_type": "code",
      "metadata": {
        "id": "vXelK8uNv-iC"
      },
      "source": [
        "float_arr=arr.astype(np.float64)"
      ],
      "execution_count": null,
      "outputs": []
    },
    {
      "cell_type": "code",
      "metadata": {
        "id": "Ygak08Rev-iC",
        "outputId": "8f7e7109-a471-464c-ca5c-b17b54beea5b"
      },
      "source": [
        "float_arr.dtype"
      ],
      "execution_count": null,
      "outputs": [
        {
          "output_type": "execute_result",
          "data": {
            "text/plain": [
              "dtype('float64')"
            ]
          },
          "metadata": {
            "tags": []
          },
          "execution_count": 38
        }
      ]
    },
    {
      "cell_type": "code",
      "metadata": {
        "id": "t_CpdybUv-iD"
      },
      "source": [
        "numeric_string=np.array(['1.25','-9.6','42'],dtype=np.string_)"
      ],
      "execution_count": null,
      "outputs": []
    },
    {
      "cell_type": "code",
      "metadata": {
        "scrolled": true,
        "id": "kxnbYdfAv-iD",
        "outputId": "c0fe708e-8615-4654-bd9d-0ee833eb5e2c"
      },
      "source": [
        "numeric_string.astype(np.float64)#if casting we to fail, a ValueError will be raised"
      ],
      "execution_count": null,
      "outputs": [
        {
          "output_type": "execute_result",
          "data": {
            "text/plain": [
              "array([ 1.25, -9.6 , 42.  ])"
            ]
          },
          "metadata": {
            "tags": []
          },
          "execution_count": 42
        }
      ]
    },
    {
      "cell_type": "markdown",
      "metadata": {
        "id": "rOlg_n6Tv-iD"
      },
      "source": [
        "**Use another array's dtype attribute**"
      ]
    },
    {
      "cell_type": "code",
      "metadata": {
        "id": "vbdKl5yWv-iD"
      },
      "source": [
        "int_array=np.arange(10)"
      ],
      "execution_count": null,
      "outputs": []
    },
    {
      "cell_type": "code",
      "metadata": {
        "id": "BVHmPzAHv-iD"
      },
      "source": [
        "calibers=np.array([2.,42.,3.,5.],dtype=np.float64)"
      ],
      "execution_count": null,
      "outputs": []
    },
    {
      "cell_type": "code",
      "metadata": {
        "id": "ORQnJv4Fv-iD",
        "outputId": "1ac0191a-d904-491a-eea1-a0f25b8218e2"
      },
      "source": [
        "int_array.astype(calibers.dtype)"
      ],
      "execution_count": null,
      "outputs": [
        {
          "output_type": "execute_result",
          "data": {
            "text/plain": [
              "array([0., 1., 2., 3., 4., 5., 6., 7., 8., 9.])"
            ]
          },
          "metadata": {
            "tags": []
          },
          "execution_count": 45
        }
      ]
    },
    {
      "cell_type": "markdown",
      "metadata": {
        "id": "XA5dv0dJv-iE"
      },
      "source": [
        "### Arithmeyiv with NumPy Arrays"
      ]
    },
    {
      "cell_type": "markdown",
      "metadata": {
        "id": "GtsDSaaYv-iE"
      },
      "source": [
        "***vectorization*: Any arithmetic operation between equal-size arrays applies the operation element wise**"
      ]
    },
    {
      "cell_type": "code",
      "metadata": {
        "id": "6MsI288cv-iE"
      },
      "source": [
        "arr=np.array([[1.,2.,3.],[4.,5.,6.]])"
      ],
      "execution_count": null,
      "outputs": []
    },
    {
      "cell_type": "code",
      "metadata": {
        "id": "Rzpys_GBv-iE",
        "outputId": "9543b3cf-8f43-4a3d-f69e-b02519d0abae"
      },
      "source": [
        "arr"
      ],
      "execution_count": null,
      "outputs": [
        {
          "output_type": "execute_result",
          "data": {
            "text/plain": [
              "array([[1., 2., 3.],\n",
              "       [4., 5., 6.]])"
            ]
          },
          "metadata": {
            "tags": []
          },
          "execution_count": 51
        }
      ]
    },
    {
      "cell_type": "code",
      "metadata": {
        "id": "Z-OwQSiev-iE",
        "outputId": "4a6fd3c6-3d46-4dbe-dab9-d25ef4a9cfa5"
      },
      "source": [
        "arr*arr"
      ],
      "execution_count": null,
      "outputs": [
        {
          "output_type": "execute_result",
          "data": {
            "text/plain": [
              "array([[ 1.,  4.,  9.],\n",
              "       [16., 25., 36.]])"
            ]
          },
          "metadata": {
            "tags": []
          },
          "execution_count": 52
        }
      ]
    },
    {
      "cell_type": "code",
      "metadata": {
        "id": "j_Wtz8I7v-iF",
        "outputId": "79ec0de9-5091-4e8a-aa9a-32173f60b65c"
      },
      "source": [
        "arr-arr"
      ],
      "execution_count": null,
      "outputs": [
        {
          "output_type": "execute_result",
          "data": {
            "text/plain": [
              "array([[0., 0., 0.],\n",
              "       [0., 0., 0.]])"
            ]
          },
          "metadata": {
            "tags": []
          },
          "execution_count": 53
        }
      ]
    },
    {
      "cell_type": "markdown",
      "metadata": {
        "id": "pfmoPbyfv-iF"
      },
      "source": [
        "**Arithmetic operations with scalars propagate the scalar argument to each element in the array**"
      ]
    },
    {
      "cell_type": "code",
      "metadata": {
        "id": "yAe71uoyv-iF",
        "outputId": "fd13e3a9-fe33-4a5a-c8ee-be821c4413ca"
      },
      "source": [
        "1/arr"
      ],
      "execution_count": null,
      "outputs": [
        {
          "output_type": "execute_result",
          "data": {
            "text/plain": [
              "array([[1.        , 0.5       , 0.33333333],\n",
              "       [0.25      , 0.2       , 0.16666667]])"
            ]
          },
          "metadata": {
            "tags": []
          },
          "execution_count": 54
        }
      ]
    },
    {
      "cell_type": "code",
      "metadata": {
        "id": "J8lARsm7v-iG",
        "outputId": "32b6dc7f-c54f-43d3-c2b5-278aa92278f9"
      },
      "source": [
        "arr**0.5"
      ],
      "execution_count": null,
      "outputs": [
        {
          "output_type": "execute_result",
          "data": {
            "text/plain": [
              "array([[1.        , 1.41421356, 1.73205081],\n",
              "       [2.        , 2.23606798, 2.44948974]])"
            ]
          },
          "metadata": {
            "tags": []
          },
          "execution_count": 55
        }
      ]
    },
    {
      "cell_type": "markdown",
      "metadata": {
        "id": "8mdl6sMTv-iG"
      },
      "source": [
        "**Comparison between arrays of the same size yield boolean arrays**"
      ]
    },
    {
      "cell_type": "code",
      "metadata": {
        "id": "D4ZfAPrQv-iG"
      },
      "source": [
        "arr2=np.array([[0.,4.,1.],[7.,2.,12.]])"
      ],
      "execution_count": null,
      "outputs": []
    },
    {
      "cell_type": "code",
      "metadata": {
        "id": "fvvEwJfSv-iG",
        "outputId": "495ed192-ce21-403d-ccf1-4973e40257a3"
      },
      "source": [
        "arr2"
      ],
      "execution_count": null,
      "outputs": [
        {
          "output_type": "execute_result",
          "data": {
            "text/plain": [
              "array([[ 0.,  4.,  1.],\n",
              "       [ 7.,  2., 12.]])"
            ]
          },
          "metadata": {
            "tags": []
          },
          "execution_count": 57
        }
      ]
    },
    {
      "cell_type": "code",
      "metadata": {
        "id": "CghIXsR9v-iG",
        "outputId": "1903f699-0a50-44ef-c614-232770c565ba"
      },
      "source": [
        "arr2>arr"
      ],
      "execution_count": null,
      "outputs": [
        {
          "output_type": "execute_result",
          "data": {
            "text/plain": [
              "array([[False,  True, False],\n",
              "       [ True, False,  True]])"
            ]
          },
          "metadata": {
            "tags": []
          },
          "execution_count": 58
        }
      ]
    },
    {
      "cell_type": "markdown",
      "metadata": {
        "id": "DDFRaRjBv-iH"
      },
      "source": [
        "### Basic Indexing and Slicing"
      ]
    },
    {
      "cell_type": "markdown",
      "metadata": {
        "id": "AvO9BCpuv-iH"
      },
      "source": [
        "**One-dimensional arrays act similarly to Python lists**"
      ]
    },
    {
      "cell_type": "code",
      "metadata": {
        "id": "m0hIEZsEv-iH"
      },
      "source": [
        "arr=np.arange(10)"
      ],
      "execution_count": null,
      "outputs": []
    },
    {
      "cell_type": "code",
      "metadata": {
        "id": "rYgSrtOgv-iH",
        "outputId": "87b06bee-c262-4eb7-ccc9-81710a211db3"
      },
      "source": [
        "arr"
      ],
      "execution_count": null,
      "outputs": [
        {
          "output_type": "execute_result",
          "data": {
            "text/plain": [
              "array([0, 1, 2, 3, 4, 5, 6, 7, 8, 9])"
            ]
          },
          "metadata": {
            "tags": []
          },
          "execution_count": 60
        }
      ]
    },
    {
      "cell_type": "code",
      "metadata": {
        "id": "--xCnjfUv-iH",
        "outputId": "e1b163e8-1796-40f2-fb18-6d6b5c37b1fb"
      },
      "source": [
        "arr[5]"
      ],
      "execution_count": null,
      "outputs": [
        {
          "output_type": "execute_result",
          "data": {
            "text/plain": [
              "5"
            ]
          },
          "metadata": {
            "tags": []
          },
          "execution_count": 61
        }
      ]
    },
    {
      "cell_type": "code",
      "metadata": {
        "id": "C4qv465-v-iI",
        "outputId": "2e4b20f5-9d57-4089-c234-69da81f47288"
      },
      "source": [
        "arr[5:8]"
      ],
      "execution_count": null,
      "outputs": [
        {
          "output_type": "execute_result",
          "data": {
            "text/plain": [
              "array([5, 6, 7])"
            ]
          },
          "metadata": {
            "tags": []
          },
          "execution_count": 62
        }
      ]
    },
    {
      "cell_type": "code",
      "metadata": {
        "id": "UW_EpIaqv-iI"
      },
      "source": [
        "arr[5:8]=12"
      ],
      "execution_count": null,
      "outputs": []
    },
    {
      "cell_type": "code",
      "metadata": {
        "id": "mQdB5o0Bv-iI",
        "outputId": "f4f70a3e-4ddf-409f-c137-1967f18a9637"
      },
      "source": [
        "arr"
      ],
      "execution_count": null,
      "outputs": [
        {
          "output_type": "execute_result",
          "data": {
            "text/plain": [
              "array([ 0,  1,  2,  3,  4, 12, 12, 12,  8,  9])"
            ]
          },
          "metadata": {
            "tags": []
          },
          "execution_count": 64
        }
      ]
    },
    {
      "cell_type": "markdown",
      "metadata": {
        "id": "Y9_Ss5JIv-iI"
      },
      "source": [
        "**array slices are** *views* **on the original array. This means that the data is not copied, and any modifications to the view will be reflected in the source array**<br>\n",
        "**Example**"
      ]
    },
    {
      "cell_type": "code",
      "metadata": {
        "id": "f56tEoVhv-iI"
      },
      "source": [
        "arr_slice=arr[5:8]"
      ],
      "execution_count": null,
      "outputs": []
    },
    {
      "cell_type": "code",
      "metadata": {
        "id": "JsPQK_Rdv-iJ",
        "outputId": "8af0161f-0c8b-416d-d968-694a3753ec46"
      },
      "source": [
        "arr_slice"
      ],
      "execution_count": null,
      "outputs": [
        {
          "output_type": "execute_result",
          "data": {
            "text/plain": [
              "array([12, 12, 12])"
            ]
          },
          "metadata": {
            "tags": []
          },
          "execution_count": 66
        }
      ]
    },
    {
      "cell_type": "code",
      "metadata": {
        "id": "6lGSmTt9v-iJ"
      },
      "source": [
        "arr_slice[1]=12345"
      ],
      "execution_count": null,
      "outputs": []
    },
    {
      "cell_type": "code",
      "metadata": {
        "id": "wa-h_45av-iJ",
        "outputId": "8e3fae9c-8a2f-4987-c857-1e3377aced7d"
      },
      "source": [
        "arr"
      ],
      "execution_count": null,
      "outputs": [
        {
          "output_type": "execute_result",
          "data": {
            "text/plain": [
              "array([    0,     1,     2,     3,     4,    12, 12345,    12,     8,\n",
              "           9])"
            ]
          },
          "metadata": {
            "tags": []
          },
          "execution_count": 68
        }
      ]
    },
    {
      "cell_type": "markdown",
      "metadata": {
        "id": "E0AP3EX8v-iJ"
      },
      "source": [
        "**bare slice** "
      ]
    },
    {
      "cell_type": "code",
      "metadata": {
        "id": "cGrxncZnv-iJ"
      },
      "source": [
        "arr_slice[:]=64"
      ],
      "execution_count": null,
      "outputs": []
    },
    {
      "cell_type": "code",
      "metadata": {
        "id": "3w1wmXTxv-iK",
        "outputId": "c1d65460-9e1f-41df-84bb-efcf6e6602cf"
      },
      "source": [
        "arr"
      ],
      "execution_count": null,
      "outputs": [
        {
          "output_type": "execute_result",
          "data": {
            "text/plain": [
              "array([ 0,  1,  2,  3,  4, 64, 64, 64,  8,  9])"
            ]
          },
          "metadata": {
            "tags": []
          },
          "execution_count": 70
        }
      ]
    },
    {
      "cell_type": "markdown",
      "metadata": {
        "id": "zYp2UR-Jv-iK"
      },
      "source": [
        "**If you want a copu of a slice of an ndarray instead of views, you will need to explicitly copy the array**"
      ]
    },
    {
      "cell_type": "code",
      "metadata": {
        "id": "ex-j92fIv-iK",
        "outputId": "a4db4feb-abaa-4bd5-b04f-af2969dadb86"
      },
      "source": [
        "arr[5:8].copy()"
      ],
      "execution_count": null,
      "outputs": [
        {
          "output_type": "execute_result",
          "data": {
            "text/plain": [
              "array([64, 64, 64])"
            ]
          },
          "metadata": {
            "tags": []
          },
          "execution_count": 71
        }
      ]
    },
    {
      "cell_type": "markdown",
      "metadata": {
        "id": "SUftsXmWv-iK"
      },
      "source": [
        "**In a two-dimensional array, the elements at each index are no longer scalars but rather one-dimensional arrays**"
      ]
    },
    {
      "cell_type": "code",
      "metadata": {
        "id": "kRLZd-EOv-iK"
      },
      "source": [
        "arr2d=np.array([[1,2,3],[4,5,6],[7,8,9]])"
      ],
      "execution_count": null,
      "outputs": []
    },
    {
      "cell_type": "code",
      "metadata": {
        "id": "vCzimWuav-iK",
        "outputId": "69dcc7c5-6f8f-4e67-a11e-1cae5cd81eb1"
      },
      "source": [
        "arr2d[2]"
      ],
      "execution_count": null,
      "outputs": [
        {
          "output_type": "execute_result",
          "data": {
            "text/plain": [
              "array([7, 8, 9])"
            ]
          },
          "metadata": {
            "tags": []
          },
          "execution_count": 75
        }
      ]
    },
    {
      "cell_type": "markdown",
      "metadata": {
        "id": "YtkqOeWov-iL"
      },
      "source": [
        "* **Each individual elements can be accessed recursively, or pass a comma-separated list of indices to select individal elements**<br>\n",
        "* **axis=0 is the rows and axis=1 is the columns**"
      ]
    },
    {
      "cell_type": "code",
      "metadata": {
        "id": "GUP104Civ-iL",
        "outputId": "3a506e44-63e2-4fda-8449-dc4a21d5208c"
      },
      "source": [
        "arr2d[0][2]"
      ],
      "execution_count": null,
      "outputs": [
        {
          "output_type": "execute_result",
          "data": {
            "text/plain": [
              "3"
            ]
          },
          "metadata": {
            "tags": []
          },
          "execution_count": 76
        }
      ]
    },
    {
      "cell_type": "code",
      "metadata": {
        "id": "-8BUIcEkv-iL",
        "outputId": "c16d256e-a7b7-4434-8b67-ac9c13ad515c"
      },
      "source": [
        "arr2d[0,2]"
      ],
      "execution_count": null,
      "outputs": [
        {
          "output_type": "execute_result",
          "data": {
            "text/plain": [
              "3"
            ]
          },
          "metadata": {
            "tags": []
          },
          "execution_count": 77
        }
      ]
    },
    {
      "cell_type": "markdown",
      "metadata": {
        "id": "J9CovHhpv-iL"
      },
      "source": [
        "**In multidimensional arrays, if you omit later indices, the returned object will be a lower dimensional ndarray consisting of all the data along the higher dimensions.**"
      ]
    },
    {
      "cell_type": "code",
      "metadata": {
        "id": "BRYHffmDv-iL"
      },
      "source": [
        "arr3d=np.array([1+np.arange(6).reshape(2,3),7+np.arange(6).reshape(2,3)])"
      ],
      "execution_count": null,
      "outputs": []
    },
    {
      "cell_type": "code",
      "metadata": {
        "id": "6MkOxAsov-iM",
        "outputId": "37ab74c8-6234-48d3-a5f8-29aa6977bd54"
      },
      "source": [
        "arr3d"
      ],
      "execution_count": null,
      "outputs": [
        {
          "output_type": "execute_result",
          "data": {
            "text/plain": [
              "array([[[ 1,  2,  3],\n",
              "        [ 4,  5,  6]],\n",
              "\n",
              "       [[ 7,  8,  9],\n",
              "        [10, 11, 12]]])"
            ]
          },
          "metadata": {
            "tags": []
          },
          "execution_count": 84
        }
      ]
    },
    {
      "cell_type": "code",
      "metadata": {
        "id": "lEwRuzM6v-iM",
        "outputId": "0ec0dc5e-5161-4d75-b8c9-1eb1cbd053f7"
      },
      "source": [
        "arr3d[0]"
      ],
      "execution_count": null,
      "outputs": [
        {
          "output_type": "execute_result",
          "data": {
            "text/plain": [
              "array([[1, 2, 3],\n",
              "       [4, 5, 6]])"
            ]
          },
          "metadata": {
            "tags": []
          },
          "execution_count": 86
        }
      ]
    },
    {
      "cell_type": "code",
      "metadata": {
        "id": "0SmJGpdbv-iM",
        "outputId": "98100a8f-3d66-4c0e-d025-8687e7587e23"
      },
      "source": [
        "arr3d[1,0]#gives all of the values whose indices start with (1,0)"
      ],
      "execution_count": null,
      "outputs": [
        {
          "output_type": "execute_result",
          "data": {
            "text/plain": [
              "array([7, 8, 9])"
            ]
          },
          "metadata": {
            "tags": []
          },
          "execution_count": 91
        }
      ]
    },
    {
      "cell_type": "code",
      "metadata": {
        "id": "Do6LkYmMv-iM"
      },
      "source": [
        "x=arr3d[1]"
      ],
      "execution_count": null,
      "outputs": []
    },
    {
      "cell_type": "code",
      "metadata": {
        "id": "pE2PzY2nv-iM",
        "outputId": "1fc6cec4-9014-49d9-b8f8-ccca57653c72"
      },
      "source": [
        "x"
      ],
      "execution_count": null,
      "outputs": [
        {
          "output_type": "execute_result",
          "data": {
            "text/plain": [
              "array([[ 7,  8,  9],\n",
              "       [10, 11, 12]])"
            ]
          },
          "metadata": {
            "tags": []
          },
          "execution_count": 93
        }
      ]
    },
    {
      "cell_type": "code",
      "metadata": {
        "id": "Lh--hYUbv-iN",
        "outputId": "edae0c63-3f7b-4140-daea-85a68f91e036"
      },
      "source": [
        "x[0]"
      ],
      "execution_count": null,
      "outputs": [
        {
          "output_type": "execute_result",
          "data": {
            "text/plain": [
              "array([7, 8, 9])"
            ]
          },
          "metadata": {
            "tags": []
          },
          "execution_count": 94
        }
      ]
    },
    {
      "cell_type": "markdown",
      "metadata": {
        "id": "QG8VfpbSv-iN"
      },
      "source": [
        "### Indexing with Slices"
      ]
    },
    {
      "cell_type": "markdown",
      "metadata": {
        "id": "jpYakwmev-iN"
      },
      "source": [
        "**slicing in one-dimensional objects**"
      ]
    },
    {
      "cell_type": "code",
      "metadata": {
        "id": "wtJD7HvKv-iN",
        "outputId": "6473ab6c-01be-4c32-88b9-6cb38417177a"
      },
      "source": [
        "arr"
      ],
      "execution_count": null,
      "outputs": [
        {
          "output_type": "execute_result",
          "data": {
            "text/plain": [
              "array([ 0,  1,  2,  3,  4, 64, 64, 64,  8,  9])"
            ]
          },
          "metadata": {
            "tags": []
          },
          "execution_count": 95
        }
      ]
    },
    {
      "cell_type": "code",
      "metadata": {
        "id": "M9yMXgA8v-iN",
        "outputId": "6847ede3-de0e-4f05-806f-c697093980f3"
      },
      "source": [
        "arr[1:6]"
      ],
      "execution_count": null,
      "outputs": [
        {
          "output_type": "execute_result",
          "data": {
            "text/plain": [
              "array([ 1,  2,  3,  4, 64])"
            ]
          },
          "metadata": {
            "tags": []
          },
          "execution_count": 96
        }
      ]
    },
    {
      "cell_type": "markdown",
      "metadata": {
        "id": "felGxS0Sv-iO"
      },
      "source": [
        "**slicing in two-dimensional array**"
      ]
    },
    {
      "cell_type": "code",
      "metadata": {
        "id": "HvIrYwutv-iO",
        "outputId": "3e98b704-4576-47a7-e972-9b1599490dd4"
      },
      "source": [
        "arr2d"
      ],
      "execution_count": null,
      "outputs": [
        {
          "output_type": "execute_result",
          "data": {
            "text/plain": [
              "array([[1, 2, 3],\n",
              "       [4, 5, 6],\n",
              "       [7, 8, 9]])"
            ]
          },
          "metadata": {
            "tags": []
          },
          "execution_count": 97
        }
      ]
    },
    {
      "cell_type": "code",
      "metadata": {
        "id": "ydDCp4U-v-iO",
        "outputId": "ada06143-6ba6-4fa4-8f0f-e520257524a1"
      },
      "source": [
        "arr2d[:2]"
      ],
      "execution_count": null,
      "outputs": [
        {
          "output_type": "execute_result",
          "data": {
            "text/plain": [
              "array([[1, 2, 3],\n",
              "       [4, 5, 6]])"
            ]
          },
          "metadata": {
            "tags": []
          },
          "execution_count": 98
        }
      ]
    },
    {
      "cell_type": "markdown",
      "metadata": {
        "id": "8LgJb-8nv-iO"
      },
      "source": [
        "**We can pass multiple slices just like you pass multiple indexes**"
      ]
    },
    {
      "cell_type": "code",
      "metadata": {
        "id": "3nMaBRYQv-iO",
        "outputId": "ecc5dc30-c7c5-45e4-ea1d-acec9d2784b0"
      },
      "source": [
        "arr2d[:2,1:]#Always obtain array views of the same number of dimensions"
      ],
      "execution_count": null,
      "outputs": [
        {
          "output_type": "execute_result",
          "data": {
            "text/plain": [
              "array([[2, 3],\n",
              "       [5, 6]])"
            ]
          },
          "metadata": {
            "tags": []
          },
          "execution_count": 100
        }
      ]
    },
    {
      "cell_type": "markdown",
      "metadata": {
        "id": "EuLbJNiDv-iP"
      },
      "source": [
        "**To get a lower dimension slice, mixing integer indexes with slices**"
      ]
    },
    {
      "cell_type": "code",
      "metadata": {
        "id": "ywWtvIiHv-iP",
        "outputId": "9e095ced-9d58-4f5d-f733-cddb6a18601a"
      },
      "source": [
        "arr2d[1,:2]"
      ],
      "execution_count": null,
      "outputs": [
        {
          "output_type": "execute_result",
          "data": {
            "text/plain": [
              "array([4, 5])"
            ]
          },
          "metadata": {
            "tags": []
          },
          "execution_count": 101
        }
      ]
    },
    {
      "cell_type": "markdown",
      "metadata": {
        "id": "hVFCCHLZv-iP"
      },
      "source": [
        "**Assigining to a slice expression assigns to the whole selection**"
      ]
    },
    {
      "cell_type": "code",
      "metadata": {
        "id": "uG23vkbYv-iP"
      },
      "source": [
        "arr2d[:2,1:]=0"
      ],
      "execution_count": null,
      "outputs": []
    },
    {
      "cell_type": "code",
      "metadata": {
        "id": "GDnnC_tKv-iP",
        "outputId": "87c0dd95-f571-4599-cbc1-fb3fc86546a8"
      },
      "source": [
        "arr2d"
      ],
      "execution_count": null,
      "outputs": [
        {
          "output_type": "execute_result",
          "data": {
            "text/plain": [
              "array([[1, 0, 0],\n",
              "       [4, 0, 0],\n",
              "       [7, 8, 9]])"
            ]
          },
          "metadata": {
            "tags": []
          },
          "execution_count": 103
        }
      ]
    },
    {
      "cell_type": "markdown",
      "metadata": {
        "id": "5ef3rWQov-iQ"
      },
      "source": [
        "**Boolean Indexing**"
      ]
    },
    {
      "cell_type": "code",
      "metadata": {
        "id": "r7VyPdXwv-iQ"
      },
      "source": [
        "names=np.array(['Bob','Joe','Will','Bob','Will','Joe','Joe'])"
      ],
      "execution_count": null,
      "outputs": []
    },
    {
      "cell_type": "code",
      "metadata": {
        "id": "20shn5zJv-iQ"
      },
      "source": [
        "data=np.random.randn(7,4)"
      ],
      "execution_count": null,
      "outputs": []
    },
    {
      "cell_type": "code",
      "metadata": {
        "id": "CvwrUa0pv-iQ",
        "outputId": "b5eb9e8f-6b86-48b4-84e7-4bfadf06dc01"
      },
      "source": [
        "names"
      ],
      "execution_count": null,
      "outputs": [
        {
          "output_type": "execute_result",
          "data": {
            "text/plain": [
              "array(['Bob', 'Joe', 'Will', 'Bob', 'Will', 'Joe', 'Joe'], dtype='<U4')"
            ]
          },
          "metadata": {
            "tags": []
          },
          "execution_count": 108
        }
      ]
    },
    {
      "cell_type": "code",
      "metadata": {
        "id": "22C-wn6av-iQ",
        "outputId": "9b370423-7ac5-4040-86a6-4e730452100f"
      },
      "source": [
        "data"
      ],
      "execution_count": null,
      "outputs": [
        {
          "output_type": "execute_result",
          "data": {
            "text/plain": [
              "array([[ 0.52138286,  0.51065617, -2.09752948,  0.13440715],\n",
              "       [ 0.7855915 , -1.09993167, -0.84872114, -1.25324891],\n",
              "       [ 1.29879249,  0.27530926,  0.97451638,  1.6509953 ],\n",
              "       [ 0.40606911, -0.27819469,  0.37207993, -0.06874534],\n",
              "       [-0.01917684,  2.37339229,  2.01872452, -0.2771647 ],\n",
              "       [ 0.17753857, -0.34598372, -0.34875004, -1.47906288],\n",
              "       [-0.21609354, -1.64721845, -1.71232362,  0.5704265 ]])"
            ]
          },
          "metadata": {
            "tags": []
          },
          "execution_count": 109
        }
      ]
    },
    {
      "cell_type": "code",
      "metadata": {
        "id": "Ahb0Lwvyv-iR",
        "outputId": "7eca9bf6-7de8-4962-853b-b244372b4bdd"
      },
      "source": [
        "names=='Bob'"
      ],
      "execution_count": null,
      "outputs": [
        {
          "output_type": "execute_result",
          "data": {
            "text/plain": [
              "array([ True, False, False,  True, False, False, False])"
            ]
          },
          "metadata": {
            "tags": []
          },
          "execution_count": 110
        }
      ]
    },
    {
      "cell_type": "markdown",
      "metadata": {
        "id": "Y1tX_taMv-iR"
      },
      "source": [
        "**Boolean array must be of the same length as the array's axis it's indexing**"
      ]
    },
    {
      "cell_type": "code",
      "metadata": {
        "id": "8QlDit08v-iR",
        "outputId": "47cf8826-4184-4a8a-b4fe-49af23ec5862"
      },
      "source": [
        "data[names=='Bob']"
      ],
      "execution_count": null,
      "outputs": [
        {
          "output_type": "execute_result",
          "data": {
            "text/plain": [
              "array([[ 0.52138286,  0.51065617, -2.09752948,  0.13440715],\n",
              "       [ 0.40606911, -0.27819469,  0.37207993, -0.06874534]])"
            ]
          },
          "metadata": {
            "tags": []
          },
          "execution_count": 112
        }
      ]
    },
    {
      "cell_type": "markdown",
      "metadata": {
        "id": "R4TFiQMcv-iR"
      },
      "source": [
        "**You can mix and match boolean arrays with slices or integers**"
      ]
    },
    {
      "cell_type": "code",
      "metadata": {
        "id": "Xg5cYsM_v-iR",
        "outputId": "c01ddac9-0883-4c45-ad9f-88ec10874885"
      },
      "source": [
        "data[names=='Bob',2:]"
      ],
      "execution_count": null,
      "outputs": [
        {
          "output_type": "execute_result",
          "data": {
            "text/plain": [
              "array([[-2.09752948,  0.13440715],\n",
              "       [ 0.37207993, -0.06874534]])"
            ]
          },
          "metadata": {
            "tags": []
          },
          "execution_count": 113
        }
      ]
    },
    {
      "cell_type": "code",
      "metadata": {
        "id": "ptk_MBZfv-iS",
        "outputId": "4263a9e2-71fa-4815-dff1-75f075e5799e"
      },
      "source": [
        "data[names=='Bob',3]"
      ],
      "execution_count": null,
      "outputs": [
        {
          "output_type": "execute_result",
          "data": {
            "text/plain": [
              "array([ 0.13440715, -0.06874534])"
            ]
          },
          "metadata": {
            "tags": []
          },
          "execution_count": 114
        }
      ]
    },
    {
      "cell_type": "markdown",
      "metadata": {
        "id": "dSh7FdAdv-iS"
      },
      "source": [
        "**Select everything but** 'Bob'"
      ]
    },
    {
      "cell_type": "code",
      "metadata": {
        "id": "m4SBIPhQv-iS",
        "outputId": "cab67229-9c4c-4a08-d60c-e6e62a5563f8"
      },
      "source": [
        "names!='Bob'"
      ],
      "execution_count": null,
      "outputs": [
        {
          "output_type": "execute_result",
          "data": {
            "text/plain": [
              "array([False,  True,  True, False,  True,  True,  True])"
            ]
          },
          "metadata": {
            "tags": []
          },
          "execution_count": 115
        }
      ]
    },
    {
      "cell_type": "code",
      "metadata": {
        "id": "PQ97UvFkv-iS",
        "outputId": "2718f2f9-9a51-4ee5-dcc8-2b177ae2e62b"
      },
      "source": [
        "data[~(names=='Bob')]"
      ],
      "execution_count": null,
      "outputs": [
        {
          "output_type": "execute_result",
          "data": {
            "text/plain": [
              "array([[ 0.7855915 , -1.09993167, -0.84872114, -1.25324891],\n",
              "       [ 1.29879249,  0.27530926,  0.97451638,  1.6509953 ],\n",
              "       [-0.01917684,  2.37339229,  2.01872452, -0.2771647 ],\n",
              "       [ 0.17753857, -0.34598372, -0.34875004, -1.47906288],\n",
              "       [-0.21609354, -1.64721845, -1.71232362,  0.5704265 ]])"
            ]
          },
          "metadata": {
            "tags": []
          },
          "execution_count": 119
        }
      ]
    },
    {
      "cell_type": "markdown",
      "metadata": {
        "id": "CAdqP7EAv-iS"
      },
      "source": [
        "~ **operator can be useful when you want to invert a general condition**"
      ]
    },
    {
      "cell_type": "code",
      "metadata": {
        "id": "VqU8Z5lIv-iT"
      },
      "source": [
        "cond=names=='Bob'"
      ],
      "execution_count": null,
      "outputs": []
    },
    {
      "cell_type": "code",
      "metadata": {
        "id": "zzj7HUMBv-iT",
        "outputId": "0378bf61-c543-43fe-eab0-3e0e356527ac"
      },
      "source": [
        "data[~cond]"
      ],
      "execution_count": null,
      "outputs": [
        {
          "output_type": "execute_result",
          "data": {
            "text/plain": [
              "array([[ 0.7855915 , -1.09993167, -0.84872114, -1.25324891],\n",
              "       [ 1.29879249,  0.27530926,  0.97451638,  1.6509953 ],\n",
              "       [-0.01917684,  2.37339229,  2.01872452, -0.2771647 ],\n",
              "       [ 0.17753857, -0.34598372, -0.34875004, -1.47906288],\n",
              "       [-0.21609354, -1.64721845, -1.71232362,  0.5704265 ]])"
            ]
          },
          "metadata": {
            "tags": []
          },
          "execution_count": 121
        }
      ]
    },
    {
      "cell_type": "markdown",
      "metadata": {
        "id": "wOVnqLsXv-iT"
      },
      "source": [
        "**To combine multiple boolean conditions, use boolean arithmetic operators like & for and | for or**<br>\n",
        "**Python keywords** and **and** or **do not work with boolean arrays**"
      ]
    },
    {
      "cell_type": "code",
      "metadata": {
        "id": "6sj0Oh9bv-iU"
      },
      "source": [
        "mask=(names=='Bob')|(names=='will')"
      ],
      "execution_count": null,
      "outputs": []
    },
    {
      "cell_type": "code",
      "metadata": {
        "id": "wZQD8aGev-iU",
        "outputId": "8ee72215-3f72-4ccd-b859-dbb85a8fd3b5"
      },
      "source": [
        "mask"
      ],
      "execution_count": null,
      "outputs": [
        {
          "output_type": "execute_result",
          "data": {
            "text/plain": [
              "array([ True, False, False,  True, False, False, False])"
            ]
          },
          "metadata": {
            "tags": []
          },
          "execution_count": 123
        }
      ]
    },
    {
      "cell_type": "code",
      "metadata": {
        "id": "ZO2sgAVxv-iV",
        "outputId": "deb00d04-1084-498d-f14e-ca640bf8f4c9"
      },
      "source": [
        "data[mask]"
      ],
      "execution_count": null,
      "outputs": [
        {
          "output_type": "execute_result",
          "data": {
            "text/plain": [
              "array([[ 0.52138286,  0.51065617, -2.09752948,  0.13440715],\n",
              "       [ 0.40606911, -0.27819469,  0.37207993, -0.06874534]])"
            ]
          },
          "metadata": {
            "tags": []
          },
          "execution_count": 125
        }
      ]
    },
    {
      "cell_type": "markdown",
      "metadata": {
        "id": "u918UrMsv-iV"
      },
      "source": [
        "* **Selecting data from an array by boolean indexing always creates a copy of the data, even if the array is unchanged**\n",
        "* **Setting values with boolean indexing**"
      ]
    },
    {
      "cell_type": "code",
      "metadata": {
        "id": "P_dRQKKwv-iW"
      },
      "source": [
        "data[data<0]=0"
      ],
      "execution_count": null,
      "outputs": []
    },
    {
      "cell_type": "code",
      "metadata": {
        "id": "omSaFNs1v-iW"
      },
      "source": [
        "data[names!='Joe']=7"
      ],
      "execution_count": null,
      "outputs": []
    },
    {
      "cell_type": "markdown",
      "metadata": {
        "id": "AueqmdkUv-iW"
      },
      "source": [
        "**Fancy Indexing**"
      ]
    },
    {
      "cell_type": "markdown",
      "metadata": {
        "id": "ZEjnkBhBv-iW"
      },
      "source": [
        "*Fancy indexing* **: a term adopted by NumPy to describe indexing using integer arrays**"
      ]
    },
    {
      "cell_type": "code",
      "metadata": {
        "id": "ESv9J54Rv-iX"
      },
      "source": [
        "arr=np.empty((8,4),dtype=np.int)"
      ],
      "execution_count": null,
      "outputs": []
    },
    {
      "cell_type": "code",
      "metadata": {
        "id": "qm_yFJRPv-iX"
      },
      "source": [
        "for i in range(8):\n",
        "    arr[i]=i"
      ],
      "execution_count": null,
      "outputs": []
    },
    {
      "cell_type": "code",
      "metadata": {
        "id": "GsJ73pfvv-iX",
        "outputId": "86c9f614-b2ed-4fa5-b7ab-6a7ccfe27728"
      },
      "source": [
        "arr"
      ],
      "execution_count": null,
      "outputs": [
        {
          "output_type": "execute_result",
          "data": {
            "text/plain": [
              "array([[0, 0, 0, 0],\n",
              "       [1, 1, 1, 1],\n",
              "       [2, 2, 2, 2],\n",
              "       [3, 3, 3, 3],\n",
              "       [4, 4, 4, 4],\n",
              "       [5, 5, 5, 5],\n",
              "       [6, 6, 6, 6],\n",
              "       [7, 7, 7, 7]])"
            ]
          },
          "metadata": {
            "tags": []
          },
          "execution_count": 132
        }
      ]
    },
    {
      "cell_type": "markdown",
      "metadata": {
        "id": "g9ssSD9ov-iX"
      },
      "source": [
        "**To select a subset of the rows in a particular order, you can simply pass a list of ndarray of integers specifying the desired order**"
      ]
    },
    {
      "cell_type": "code",
      "metadata": {
        "id": "AbHIOcVVv-iX",
        "outputId": "6c2172ac-63ff-4bed-9a14-c940e586268d"
      },
      "source": [
        "arr[[4,3,0,6]]"
      ],
      "execution_count": null,
      "outputs": [
        {
          "output_type": "execute_result",
          "data": {
            "text/plain": [
              "array([[4, 4, 4, 4],\n",
              "       [3, 3, 3, 3],\n",
              "       [0, 0, 0, 0],\n",
              "       [6, 6, 6, 6]])"
            ]
          },
          "metadata": {
            "tags": []
          },
          "execution_count": 133
        }
      ]
    },
    {
      "cell_type": "markdown",
      "metadata": {
        "id": "mTcgzdB4v-iY"
      },
      "source": [
        "**Using negative indices selects rows from the end**"
      ]
    },
    {
      "cell_type": "code",
      "metadata": {
        "id": "EptVs19lv-iY",
        "outputId": "27d1bc25-6074-4697-b057-67034b9d3d3c"
      },
      "source": [
        "arr[[-3,-5,-7]]"
      ],
      "execution_count": null,
      "outputs": [
        {
          "output_type": "execute_result",
          "data": {
            "text/plain": [
              "array([[5, 5, 5, 5],\n",
              "       [3, 3, 3, 3],\n",
              "       [1, 1, 1, 1]])"
            ]
          },
          "metadata": {
            "tags": []
          },
          "execution_count": 135
        }
      ]
    },
    {
      "cell_type": "markdown",
      "metadata": {
        "id": "fwylQz3pv-iY"
      },
      "source": [
        "**Passing multiple index arrays selects one-dimensional array of elements corresponding to each tuple or indices**"
      ]
    },
    {
      "cell_type": "code",
      "metadata": {
        "id": "R8tVDBRBv-iY"
      },
      "source": [
        "arr=np.arange(32).reshape(8,4)"
      ],
      "execution_count": null,
      "outputs": []
    },
    {
      "cell_type": "code",
      "metadata": {
        "id": "kIToyUWTv-iZ",
        "outputId": "cb637f16-f221-429d-e89c-d390f7a217e2"
      },
      "source": [
        "arr"
      ],
      "execution_count": null,
      "outputs": [
        {
          "output_type": "execute_result",
          "data": {
            "text/plain": [
              "array([[ 0,  1,  2,  3],\n",
              "       [ 4,  5,  6,  7],\n",
              "       [ 8,  9, 10, 11],\n",
              "       [12, 13, 14, 15],\n",
              "       [16, 17, 18, 19],\n",
              "       [20, 21, 22, 23],\n",
              "       [24, 25, 26, 27],\n",
              "       [28, 29, 30, 31]])"
            ]
          },
          "metadata": {
            "tags": []
          },
          "execution_count": 141
        }
      ]
    },
    {
      "cell_type": "code",
      "metadata": {
        "id": "FHbHer4qv-iZ",
        "outputId": "e205b971-1577-4887-9095-1342794245c7"
      },
      "source": [
        "arr[[1,5,7,2],[0,3,1,2]]"
      ],
      "execution_count": null,
      "outputs": [
        {
          "output_type": "execute_result",
          "data": {
            "text/plain": [
              "array([ 4, 23, 29, 10])"
            ]
          },
          "metadata": {
            "tags": []
          },
          "execution_count": 144
        }
      ]
    },
    {
      "cell_type": "markdown",
      "metadata": {
        "id": "gleXftiAv-iZ"
      },
      "source": [
        "**Regardless of how many dimensions the array has, the result of fancy indexing with multiple integers arrays is always one-dimensional**"
      ]
    },
    {
      "cell_type": "code",
      "metadata": {
        "id": "aedqjtOdv-iZ",
        "outputId": "24eb3621-e113-455b-b0d9-f1fcbec3cf20"
      },
      "source": [
        "arr[[1,5,7,2]]"
      ],
      "execution_count": null,
      "outputs": [
        {
          "output_type": "execute_result",
          "data": {
            "text/plain": [
              "array([[ 4,  5,  6,  7],\n",
              "       [20, 21, 22, 23],\n",
              "       [28, 29, 30, 31],\n",
              "       [ 8,  9, 10, 11]])"
            ]
          },
          "metadata": {
            "tags": []
          },
          "execution_count": 145
        }
      ]
    },
    {
      "cell_type": "code",
      "metadata": {
        "id": "FY97vSA2v-iZ",
        "outputId": "caac1797-aa89-4a66-bf71-04f779c4f937"
      },
      "source": [
        "arr[[1,5,7,2]][:,[0,3,1,2]]"
      ],
      "execution_count": null,
      "outputs": [
        {
          "output_type": "execute_result",
          "data": {
            "text/plain": [
              "array([[ 4,  7,  5,  6],\n",
              "       [20, 23, 21, 22],\n",
              "       [28, 31, 29, 30],\n",
              "       [ 8, 11,  9, 10]])"
            ]
          },
          "metadata": {
            "tags": []
          },
          "execution_count": 147
        }
      ]
    },
    {
      "cell_type": "markdown",
      "metadata": {
        "id": "kjrOAJSkv-ia"
      },
      "source": [
        "**Fancy indexing always copies the data into a new array**"
      ]
    },
    {
      "cell_type": "markdown",
      "metadata": {
        "id": "WA_V6N34v-ia"
      },
      "source": [
        "### Tranposing Arrays and Swapping Axes"
      ]
    },
    {
      "cell_type": "markdown",
      "metadata": {
        "id": "OFkUc-qev-ia"
      },
      "source": [
        "**Use** transpose **method**"
      ]
    },
    {
      "cell_type": "code",
      "metadata": {
        "id": "7EtfeYTKv-ia"
      },
      "source": [
        "arr=np.arange(15).reshape(3,5)"
      ],
      "execution_count": null,
      "outputs": []
    },
    {
      "cell_type": "code",
      "metadata": {
        "id": "Ebm4pFLmv-ia",
        "outputId": "d07eb86a-3b0c-4566-f303-c119b5fa8082"
      },
      "source": [
        "arr"
      ],
      "execution_count": null,
      "outputs": [
        {
          "output_type": "execute_result",
          "data": {
            "text/plain": [
              "array([[ 0,  1,  2,  3,  4],\n",
              "       [ 5,  6,  7,  8,  9],\n",
              "       [10, 11, 12, 13, 14]])"
            ]
          },
          "metadata": {
            "tags": []
          },
          "execution_count": 150
        }
      ]
    },
    {
      "cell_type": "code",
      "metadata": {
        "id": "U3gZivYSv-ib",
        "outputId": "82288f58-75c9-4823-ccaf-53342c507f71"
      },
      "source": [
        "arr.transpose()"
      ],
      "execution_count": null,
      "outputs": [
        {
          "output_type": "execute_result",
          "data": {
            "text/plain": [
              "array([[ 0,  5, 10],\n",
              "       [ 1,  6, 11],\n",
              "       [ 2,  7, 12],\n",
              "       [ 3,  8, 13],\n",
              "       [ 4,  9, 14]])"
            ]
          },
          "metadata": {
            "tags": []
          },
          "execution_count": 151
        }
      ]
    },
    {
      "cell_type": "code",
      "metadata": {
        "id": "zNA_rFjNv-ib",
        "outputId": "80355105-5e6c-4bce-a35c-ab7e6574e972"
      },
      "source": [
        "arr.T#T attribute of the tanspose() method"
      ],
      "execution_count": null,
      "outputs": [
        {
          "output_type": "execute_result",
          "data": {
            "text/plain": [
              "array([[ 0,  5, 10],\n",
              "       [ 1,  6, 11],\n",
              "       [ 2,  7, 12],\n",
              "       [ 3,  8, 13],\n",
              "       [ 4,  9, 14]])"
            ]
          },
          "metadata": {
            "tags": []
          },
          "execution_count": 153
        }
      ]
    },
    {
      "cell_type": "code",
      "metadata": {
        "id": "yWz9dYZ3v-ib"
      },
      "source": [
        "arr=np.random.randn(6,3)"
      ],
      "execution_count": null,
      "outputs": []
    },
    {
      "cell_type": "code",
      "metadata": {
        "id": "tDk7eqPev-ib",
        "outputId": "128f9db1-69a2-4dcc-ad24-c09e3ea7ceca"
      },
      "source": [
        "arr"
      ],
      "execution_count": null,
      "outputs": [
        {
          "output_type": "execute_result",
          "data": {
            "text/plain": [
              "array([[-0.87137084,  0.03004117, -0.72786197],\n",
              "       [ 0.46762112, -0.38906464,  0.80374052],\n",
              "       [ 0.39920609,  1.34355045,  0.48575659],\n",
              "       [-0.34984499,  0.21497862, -0.50976634],\n",
              "       [ 1.51986686,  1.12194977,  1.22878972],\n",
              "       [-1.14758241,  0.09647818, -0.58732983]])"
            ]
          },
          "metadata": {
            "tags": []
          },
          "execution_count": 155
        }
      ]
    },
    {
      "cell_type": "markdown",
      "metadata": {
        "id": "Par6eWw0v-ib"
      },
      "source": [
        "np.dot **:computing tyhe inner matrix product**"
      ]
    },
    {
      "cell_type": "code",
      "metadata": {
        "id": "SeBjSLlkv-ic",
        "outputId": "929bfa9b-7d71-4226-8d44-09a94e82d01f"
      },
      "source": [
        "np.dot(arr.T,arr)"
      ],
      "execution_count": null,
      "outputs": [
        {
          "output_type": "execute_result",
          "data": {
            "text/plain": [
              "array([[4.88665432, 1.8475301 , 3.92394608],\n",
              "       [1.8475301 , 3.2716967 , 1.53045262],\n",
              "       [3.92394608, 1.53045262, 3.52648358]])"
            ]
          },
          "metadata": {
            "tags": []
          },
          "execution_count": 156
        }
      ]
    },
    {
      "cell_type": "markdown",
      "metadata": {
        "id": "kurTu35Lv-ic"
      },
      "source": [
        "**For higher dimensional arrays,** transpose **will accept a tuple of axis numbers to permute the axis**"
      ]
    },
    {
      "cell_type": "code",
      "metadata": {
        "id": "MbIuA-xlv-ic"
      },
      "source": [
        "arr=np.arange(16).reshape((2,2,4))"
      ],
      "execution_count": null,
      "outputs": []
    },
    {
      "cell_type": "code",
      "metadata": {
        "id": "NmzdNcm8v-ic",
        "outputId": "6a3f4919-44af-4763-82a3-1b784f248384"
      },
      "source": [
        "arr"
      ],
      "execution_count": null,
      "outputs": [
        {
          "output_type": "execute_result",
          "data": {
            "text/plain": [
              "array([[[ 0,  1,  2,  3],\n",
              "        [ 4,  5,  6,  7]],\n",
              "\n",
              "       [[ 8,  9, 10, 11],\n",
              "        [12, 13, 14, 15]]])"
            ]
          },
          "metadata": {
            "tags": []
          },
          "execution_count": 158
        }
      ]
    },
    {
      "cell_type": "code",
      "metadata": {
        "id": "FxigOQ7xv-ic",
        "outputId": "e098de25-320f-4de4-d3ae-af61c712d427"
      },
      "source": [
        "arr.transpose(1,0,2)#axis have been reordered with the secodn first, the first axis second, \n",
        "#and the last axis unchanged"
      ],
      "execution_count": null,
      "outputs": [
        {
          "output_type": "execute_result",
          "data": {
            "text/plain": [
              "array([[[ 0,  1,  2,  3],\n",
              "        [ 8,  9, 10, 11]],\n",
              "\n",
              "       [[ 4,  5,  6,  7],\n",
              "        [12, 13, 14, 15]]])"
            ]
          },
          "metadata": {
            "tags": []
          },
          "execution_count": 159
        }
      ]
    },
    {
      "cell_type": "markdown",
      "metadata": {
        "id": "05gtFRkXv-ie"
      },
      "source": [
        "swapaxe **: takes a pair of axis numbers and switches the indicated axes to rearrange the data.**"
      ]
    },
    {
      "cell_type": "code",
      "metadata": {
        "id": "_lgxoMR3v-ie",
        "outputId": "71aee6e9-78df-41ac-a4aa-5c1d3482e37f"
      },
      "source": [
        "arr"
      ],
      "execution_count": null,
      "outputs": [
        {
          "output_type": "execute_result",
          "data": {
            "text/plain": [
              "array([[[ 0,  1,  2,  3],\n",
              "        [ 4,  5,  6,  7]],\n",
              "\n",
              "       [[ 8,  9, 10, 11],\n",
              "        [12, 13, 14, 15]]])"
            ]
          },
          "metadata": {
            "tags": []
          },
          "execution_count": 160
        }
      ]
    },
    {
      "cell_type": "code",
      "metadata": {
        "id": "DvXpOqkUv-ie",
        "outputId": "b3618cad-b3f7-470b-9a93-f8924806fd2a"
      },
      "source": [
        "arr.swapaxes(1,2)#takes a pair of axis numbers and switches the indicated axes to rearrange the data"
      ],
      "execution_count": null,
      "outputs": [
        {
          "output_type": "execute_result",
          "data": {
            "text/plain": [
              "array([[[ 0,  4],\n",
              "        [ 1,  5],\n",
              "        [ 2,  6],\n",
              "        [ 3,  7]],\n",
              "\n",
              "       [[ 8, 12],\n",
              "        [ 9, 13],\n",
              "        [10, 14],\n",
              "        [11, 15]]])"
            ]
          },
          "metadata": {
            "tags": []
          },
          "execution_count": 161
        }
      ]
    },
    {
      "cell_type": "markdown",
      "metadata": {
        "id": "fU3w1uTBv-if"
      },
      "source": [
        "## 4.2 Universal Functions: Fast Element-Wise Array Functions"
      ]
    },
    {
      "cell_type": "markdown",
      "metadata": {
        "id": "jnxy2zTiv-if"
      },
      "source": [
        "ufunc **:Universal function that performs element-wise operations on data in ndarrays**"
      ]
    },
    {
      "cell_type": "code",
      "metadata": {
        "id": "zLdFWf7Uv-if"
      },
      "source": [
        "arr=np.arange(10)"
      ],
      "execution_count": null,
      "outputs": []
    },
    {
      "cell_type": "code",
      "metadata": {
        "id": "Meiye8EMv-if",
        "outputId": "b3b2aa13-46ea-4946-e7d8-4a745190fbc4"
      },
      "source": [
        "arr"
      ],
      "execution_count": null,
      "outputs": [
        {
          "output_type": "execute_result",
          "data": {
            "text/plain": [
              "array([0, 1, 2, 3, 4, 5, 6, 7, 8, 9])"
            ]
          },
          "metadata": {
            "tags": []
          },
          "execution_count": 164
        }
      ]
    },
    {
      "cell_type": "markdown",
      "metadata": {
        "id": "euoCIzYFv-if"
      },
      "source": [
        "**Unary functions**"
      ]
    },
    {
      "cell_type": "code",
      "metadata": {
        "id": "6bDj5Univ-ig",
        "outputId": "7908e5f1-3b8f-472c-8359-039fd7786678"
      },
      "source": [
        "np.sqrt(arr)"
      ],
      "execution_count": null,
      "outputs": [
        {
          "output_type": "execute_result",
          "data": {
            "text/plain": [
              "array([0.        , 1.        , 1.41421356, 1.73205081, 2.        ,\n",
              "       2.23606798, 2.44948974, 2.64575131, 2.82842712, 3.        ])"
            ]
          },
          "metadata": {
            "tags": []
          },
          "execution_count": 165
        }
      ]
    },
    {
      "cell_type": "code",
      "metadata": {
        "id": "zUToqLFmv-ig",
        "outputId": "d1dda373-7606-4d13-d940-3553346b191f"
      },
      "source": [
        "np.exp(arr)"
      ],
      "execution_count": null,
      "outputs": [
        {
          "output_type": "execute_result",
          "data": {
            "text/plain": [
              "array([1.00000000e+00, 2.71828183e+00, 7.38905610e+00, 2.00855369e+01,\n",
              "       5.45981500e+01, 1.48413159e+02, 4.03428793e+02, 1.09663316e+03,\n",
              "       2.98095799e+03, 8.10308393e+03])"
            ]
          },
          "metadata": {
            "tags": []
          },
          "execution_count": 166
        }
      ]
    },
    {
      "cell_type": "markdown",
      "metadata": {
        "id": "H_ci8Hzsv-ig"
      },
      "source": [
        "**binary functions**"
      ]
    },
    {
      "cell_type": "code",
      "metadata": {
        "id": "g9U20_k_v-ig"
      },
      "source": [
        "x=np.random.randn(8)"
      ],
      "execution_count": null,
      "outputs": []
    },
    {
      "cell_type": "code",
      "metadata": {
        "id": "WRHW6rQEv-ig"
      },
      "source": [
        "y=np.random.randn(8)"
      ],
      "execution_count": null,
      "outputs": []
    },
    {
      "cell_type": "code",
      "metadata": {
        "id": "8YqunTdNv-ig",
        "outputId": "487ff142-d6b0-4d74-dfbe-010ea744e4be"
      },
      "source": [
        "np.maximum(x,y)"
      ],
      "execution_count": null,
      "outputs": [
        {
          "output_type": "execute_result",
          "data": {
            "text/plain": [
              "array([-0.16592182, -0.22955619, -0.31862158,  1.08792161, -0.61100622,\n",
              "       -1.01752929, -1.26770186,  0.75448123])"
            ]
          },
          "metadata": {
            "tags": []
          },
          "execution_count": 169
        }
      ]
    },
    {
      "cell_type": "markdown",
      "metadata": {
        "id": "BZPtBItvv-ih"
      },
      "source": [
        "ufunc **can return multiple arrays**"
      ]
    },
    {
      "cell_type": "code",
      "metadata": {
        "id": "W-M6fr0Zv-ih"
      },
      "source": [
        "arr=np.random.rand(7)*5"
      ],
      "execution_count": null,
      "outputs": []
    },
    {
      "cell_type": "code",
      "metadata": {
        "id": "pO70Rmiwv-ih",
        "outputId": "19e2291c-6604-438f-f634-3a0fa92dc0df"
      },
      "source": [
        "arr"
      ],
      "execution_count": null,
      "outputs": [
        {
          "output_type": "execute_result",
          "data": {
            "text/plain": [
              "array([4.34155678, 1.58861367, 2.5781691 , 4.95860517, 2.86544991,\n",
              "       0.26995426, 2.64121536])"
            ]
          },
          "metadata": {
            "tags": []
          },
          "execution_count": 171
        }
      ]
    },
    {
      "cell_type": "code",
      "metadata": {
        "id": "Nlg7xvgdv-ih"
      },
      "source": [
        "remainder,whole_part=np.modf(arr)#returns fraction and integral art of a floating array"
      ],
      "execution_count": null,
      "outputs": []
    },
    {
      "cell_type": "code",
      "metadata": {
        "id": "472bhQowv-ih",
        "outputId": "97dff2d4-70fa-4913-94c9-1abea3434ff0"
      },
      "source": [
        "remainder"
      ],
      "execution_count": null,
      "outputs": [
        {
          "output_type": "execute_result",
          "data": {
            "text/plain": [
              "array([0.34155678, 0.58861367, 0.5781691 , 0.95860517, 0.86544991,\n",
              "       0.26995426, 0.64121536])"
            ]
          },
          "metadata": {
            "tags": []
          },
          "execution_count": 174
        }
      ]
    },
    {
      "cell_type": "code",
      "metadata": {
        "id": "KLn354tAv-ii",
        "outputId": "a0f36291-083b-436d-e41f-432b820c0547"
      },
      "source": [
        "whole_part"
      ],
      "execution_count": null,
      "outputs": [
        {
          "output_type": "execute_result",
          "data": {
            "text/plain": [
              "array([4., 1., 2., 4., 2., 0., 2.])"
            ]
          },
          "metadata": {
            "tags": []
          },
          "execution_count": 175
        }
      ]
    },
    {
      "cell_type": "markdown",
      "metadata": {
        "id": "0APbQ0yuv-ii"
      },
      "source": [
        "ufuncs **accept an optional** out **argument that allows them to operate in-place on arrays**"
      ]
    },
    {
      "cell_type": "code",
      "metadata": {
        "id": "hRWYtP3pv-ii",
        "outputId": "d7c496b9-7aed-4edd-da9d-d19f62df18e2"
      },
      "source": [
        "arr"
      ],
      "execution_count": null,
      "outputs": [
        {
          "output_type": "execute_result",
          "data": {
            "text/plain": [
              "array([4.34155678, 1.58861367, 2.5781691 , 4.95860517, 2.86544991,\n",
              "       0.26995426, 2.64121536])"
            ]
          },
          "metadata": {
            "tags": []
          },
          "execution_count": 176
        }
      ]
    },
    {
      "cell_type": "code",
      "metadata": {
        "id": "84ZXa57Zv-ii",
        "outputId": "9a47aa1e-ba7c-4079-f940-32ed59588d58"
      },
      "source": [
        "np.sqrt(arr)"
      ],
      "execution_count": null,
      "outputs": [
        {
          "output_type": "execute_result",
          "data": {
            "text/plain": [
              "array([2.08364027, 1.26040218, 1.6056678 , 2.22679257, 1.69276398,\n",
              "       0.51957123, 1.62518164])"
            ]
          },
          "metadata": {
            "tags": []
          },
          "execution_count": 178
        }
      ]
    },
    {
      "cell_type": "code",
      "metadata": {
        "id": "jGPWzjh6v-ii",
        "outputId": "c71bb76a-9664-46ff-cd71-acb76c51ffc7"
      },
      "source": [
        "np.sqrt(arr,arr)"
      ],
      "execution_count": null,
      "outputs": [
        {
          "output_type": "execute_result",
          "data": {
            "text/plain": [
              "array([2.08364027, 1.26040218, 1.6056678 , 2.22679257, 1.69276398,\n",
              "       0.51957123, 1.62518164])"
            ]
          },
          "metadata": {
            "tags": []
          },
          "execution_count": 179
        }
      ]
    },
    {
      "cell_type": "code",
      "metadata": {
        "id": "_8WlvaKRv-ij",
        "outputId": "f8128ff5-9ba4-4a90-a4b1-53532bd98dd2"
      },
      "source": [
        "arr"
      ],
      "execution_count": null,
      "outputs": [
        {
          "output_type": "execute_result",
          "data": {
            "text/plain": [
              "array([2.08364027, 1.26040218, 1.6056678 , 2.22679257, 1.69276398,\n",
              "       0.51957123, 1.62518164])"
            ]
          },
          "metadata": {
            "tags": []
          },
          "execution_count": 180
        }
      ]
    },
    {
      "cell_type": "markdown",
      "metadata": {
        "id": "vQ0oVXpnv-ij"
      },
      "source": [
        "## 4.3 Array-Oriented Programming with Arrays"
      ]
    },
    {
      "cell_type": "markdown",
      "metadata": {
        "id": "6lryWGWEv-ij"
      },
      "source": [
        "**Example**"
      ]
    },
    {
      "cell_type": "code",
      "metadata": {
        "id": "5BsdGfh0v-ij"
      },
      "source": [
        "points=np.arange(-5,5,0.01)#1000 equally spaced points"
      ],
      "execution_count": null,
      "outputs": []
    },
    {
      "cell_type": "code",
      "metadata": {
        "id": "p3VMACYTv-ij"
      },
      "source": [
        "xs,ys=np.meshgrid(points,points)"
      ],
      "execution_count": null,
      "outputs": []
    },
    {
      "cell_type": "code",
      "metadata": {
        "id": "vFcVYcOrv-ij",
        "outputId": "33f0e953-ac81-4b42-cd91-44d93098e3c1"
      },
      "source": [
        "xs"
      ],
      "execution_count": null,
      "outputs": [
        {
          "output_type": "execute_result",
          "data": {
            "text/plain": [
              "array([[-5.  , -4.99, -4.98, ...,  4.97,  4.98,  4.99],\n",
              "       [-5.  , -4.99, -4.98, ...,  4.97,  4.98,  4.99],\n",
              "       [-5.  , -4.99, -4.98, ...,  4.97,  4.98,  4.99],\n",
              "       ...,\n",
              "       [-5.  , -4.99, -4.98, ...,  4.97,  4.98,  4.99],\n",
              "       [-5.  , -4.99, -4.98, ...,  4.97,  4.98,  4.99],\n",
              "       [-5.  , -4.99, -4.98, ...,  4.97,  4.98,  4.99]])"
            ]
          },
          "metadata": {
            "tags": []
          },
          "execution_count": 183
        }
      ]
    },
    {
      "cell_type": "code",
      "metadata": {
        "id": "kkQjXWqjv-ik",
        "outputId": "5784093d-84c1-4e99-8443-e2d1386e5c2b"
      },
      "source": [
        "ys"
      ],
      "execution_count": null,
      "outputs": [
        {
          "output_type": "execute_result",
          "data": {
            "text/plain": [
              "array([[-5.  , -5.  , -5.  , ..., -5.  , -5.  , -5.  ],\n",
              "       [-4.99, -4.99, -4.99, ..., -4.99, -4.99, -4.99],\n",
              "       [-4.98, -4.98, -4.98, ..., -4.98, -4.98, -4.98],\n",
              "       ...,\n",
              "       [ 4.97,  4.97,  4.97, ...,  4.97,  4.97,  4.97],\n",
              "       [ 4.98,  4.98,  4.98, ...,  4.98,  4.98,  4.98],\n",
              "       [ 4.99,  4.99,  4.99, ...,  4.99,  4.99,  4.99]])"
            ]
          },
          "metadata": {
            "tags": []
          },
          "execution_count": 184
        }
      ]
    },
    {
      "cell_type": "code",
      "metadata": {
        "id": "ShP6J0Ewv-ik"
      },
      "source": [
        "z=np.sqrt(xs**2+ys**2)"
      ],
      "execution_count": null,
      "outputs": []
    },
    {
      "cell_type": "code",
      "metadata": {
        "id": "Psw2Xzl1v-ik"
      },
      "source": [
        "import matplotlib.pyplot as plt"
      ],
      "execution_count": null,
      "outputs": []
    },
    {
      "cell_type": "code",
      "metadata": {
        "id": "3Yf8ZH7hv-ik",
        "outputId": "88b30dce-31c7-4536-b93f-d274175e9e72"
      },
      "source": [
        "plt.imshow(z,cmap=plt.cm.gray);plt.colorbar()"
      ],
      "execution_count": null,
      "outputs": [
        {
          "output_type": "execute_result",
          "data": {
            "text/plain": [
              "<matplotlib.colorbar.Colorbar at 0x7faa93ec32b0>"
            ]
          },
          "metadata": {
            "tags": []
          },
          "execution_count": 187
        },
        {
          "output_type": "display_data",
          "data": {
            "image/png": "[encoded data removed]",
            "text/plain": [
              "<Figure size 432x288 with 2 Axes>"
            ]
          },
          "metadata": {
            "tags": [],
            "needs_background": "light"
          }
        }
      ]
    },
    {
      "cell_type": "markdown",
      "metadata": {
        "id": "99RBtD5Gv-il"
      },
      "source": [
        "### Expressing Conditional Logic as Array Operations"
      ]
    },
    {
      "cell_type": "code",
      "metadata": {
        "id": "svrTfjsXv-il"
      },
      "source": [
        "xarr=np.array([1.1,1.2,1.3,1.4,1.5])"
      ],
      "execution_count": null,
      "outputs": []
    },
    {
      "cell_type": "code",
      "metadata": {
        "id": "qJW6MORGv-il"
      },
      "source": [
        "yarr=np.array([2.1,2.2,2.3,2.4,2.5])"
      ],
      "execution_count": null,
      "outputs": []
    },
    {
      "cell_type": "code",
      "metadata": {
        "id": "aIvuJW3Yv-il"
      },
      "source": [
        "cond=np.array([True,False,True,True,False])"
      ],
      "execution_count": null,
      "outputs": []
    },
    {
      "cell_type": "markdown",
      "metadata": {
        "id": "Qa-GPkknv-il"
      },
      "source": [
        "**Use** np.where"
      ]
    },
    {
      "cell_type": "code",
      "metadata": {
        "id": "lNSURDfxv-il",
        "outputId": "163e4a6f-2e66-4c40-b0b4-d76ed2af9dc1"
      },
      "source": [
        "np.where(cond,xarr,yarr)"
      ],
      "execution_count": null,
      "outputs": [
        {
          "output_type": "execute_result",
          "data": {
            "text/plain": [
              "array([1.1, 2.2, 1.3, 1.4, 2.5])"
            ]
          },
          "metadata": {
            "tags": []
          },
          "execution_count": 191
        }
      ]
    },
    {
      "cell_type": "markdown",
      "metadata": {
        "id": "_AazcIMcv-im"
      },
      "source": [
        "**Replace all positive value with 2 and all negative value with -2**"
      ]
    },
    {
      "cell_type": "code",
      "metadata": {
        "id": "HmHjpuGhv-im"
      },
      "source": [
        "arr=np.random.randn(4,4)"
      ],
      "execution_count": null,
      "outputs": []
    },
    {
      "cell_type": "code",
      "metadata": {
        "id": "2zLxph9Jv-im"
      },
      "source": [
        "cond=arr>0"
      ],
      "execution_count": null,
      "outputs": []
    },
    {
      "cell_type": "code",
      "metadata": {
        "id": "nhhLH1dJv-im",
        "outputId": "226ce574-ae0d-4c59-d8fc-a697484f6c0f"
      },
      "source": [
        "np.where(cond,2,-2)"
      ],
      "execution_count": null,
      "outputs": [
        {
          "output_type": "execute_result",
          "data": {
            "text/plain": [
              "array([[-2, -2, -2,  2],\n",
              "       [ 2,  2, -2, -2],\n",
              "       [ 2,  2,  2, -2],\n",
              "       [-2,  2,  2,  2]])"
            ]
          },
          "metadata": {
            "tags": []
          },
          "execution_count": 194
        }
      ]
    },
    {
      "cell_type": "markdown",
      "metadata": {
        "id": "loxls5_Ov-im"
      },
      "source": [
        "**Combine scalars and arrays: replace all positive values in** arr **constant 2**"
      ]
    },
    {
      "cell_type": "code",
      "metadata": {
        "id": "3cdHCHhev-im",
        "outputId": "50749134-c244-45ed-c3fc-029ad8722afa"
      },
      "source": [
        "np.where(cond,2,arr)"
      ],
      "execution_count": null,
      "outputs": [
        {
          "output_type": "execute_result",
          "data": {
            "text/plain": [
              "array([[-0.07735888, -0.80134169, -0.14182896,  2.        ],\n",
              "       [ 2.        ,  2.        , -1.28253617, -0.06239607],\n",
              "       [ 2.        ,  2.        ,  2.        , -1.75477315],\n",
              "       [-0.51868273,  2.        ,  2.        ,  2.        ]])"
            ]
          },
          "metadata": {
            "tags": []
          },
          "execution_count": 195
        }
      ]
    },
    {
      "cell_type": "markdown",
      "metadata": {
        "id": "yLffgfdAv-in"
      },
      "source": [
        "### Mathematical and Statistical Methods"
      ]
    },
    {
      "cell_type": "markdown",
      "metadata": {
        "id": "EWEhvg4kv-in"
      },
      "source": [
        "**Aggregations(reductions) like** sum,mean **and,** std **:can be called by array instance method or using the top-level NumPy function**"
      ]
    },
    {
      "cell_type": "code",
      "metadata": {
        "id": "hTuHFeA7v-in"
      },
      "source": [
        "arr=np.random.randn(5,4)"
      ],
      "execution_count": null,
      "outputs": []
    },
    {
      "cell_type": "code",
      "metadata": {
        "id": "1TVQgrfwv-in",
        "outputId": "e5740239-4a7d-40db-d020-25c37d7625e5"
      },
      "source": [
        "arr"
      ],
      "execution_count": null,
      "outputs": [
        {
          "output_type": "execute_result",
          "data": {
            "text/plain": [
              "array([[ 0.75626208, -0.41806364,  0.77225486,  0.91843535],\n",
              "       [-0.02648337, -0.44459356,  0.32111149, -0.52202456],\n",
              "       [-0.10748278, -0.99137169, -0.66811897, -0.75633232],\n",
              "       [-0.46229395,  0.86887586,  0.66395896,  1.72996086],\n",
              "       [-2.1263843 , -1.46282232,  1.24673815, -0.47736858]])"
            ]
          },
          "metadata": {
            "tags": []
          },
          "execution_count": 197
        }
      ]
    },
    {
      "cell_type": "code",
      "metadata": {
        "id": "7fyBp3HUv-in",
        "outputId": "ff829de7-340f-45d6-acc6-25961ba4564a"
      },
      "source": [
        "arr.mean()"
      ],
      "execution_count": null,
      "outputs": [
        {
          "output_type": "execute_result",
          "data": {
            "text/plain": [
              "-0.05928712112797256"
            ]
          },
          "metadata": {
            "tags": []
          },
          "execution_count": 198
        }
      ]
    },
    {
      "cell_type": "code",
      "metadata": {
        "id": "64N4BtvPv-in",
        "outputId": "e9527537-d0e2-44c8-f0bc-2eaec826d7a7"
      },
      "source": [
        "np.mean(arr)"
      ],
      "execution_count": null,
      "outputs": [
        {
          "output_type": "execute_result",
          "data": {
            "text/plain": [
              "-0.05928712112797256"
            ]
          },
          "metadata": {
            "tags": []
          },
          "execution_count": 199
        }
      ]
    },
    {
      "cell_type": "code",
      "metadata": {
        "id": "qD3FGQHHv-io",
        "outputId": "e1949e81-574c-4c48-f15a-1ef28e309953"
      },
      "source": [
        "arr.sum()"
      ],
      "execution_count": null,
      "outputs": [
        {
          "output_type": "execute_result",
          "data": {
            "text/plain": [
              "-1.1857424225594513"
            ]
          },
          "metadata": {
            "tags": []
          },
          "execution_count": 200
        }
      ]
    },
    {
      "cell_type": "markdown",
      "metadata": {
        "id": "JwOn0OvDv-io"
      },
      "source": [
        "**Functions like** mean **and** sum **take an optional argument that computes the statistic over the given axis, resulting in an array with one fewer dimension**"
      ]
    },
    {
      "cell_type": "code",
      "metadata": {
        "id": "uGCxnJ3gv-io",
        "outputId": "57dd2e16-1d18-4b73-9d33-ff04456afda5"
      },
      "source": [
        "arr.mean(axis=1)#compute across columns"
      ],
      "execution_count": null,
      "outputs": [
        {
          "output_type": "execute_result",
          "data": {
            "text/plain": [
              "array([ 0.50722216, -0.1679975 , -0.63082644,  0.70012543, -0.70495926])"
            ]
          },
          "metadata": {
            "tags": []
          },
          "execution_count": 201
        }
      ]
    },
    {
      "cell_type": "code",
      "metadata": {
        "id": "8i6BgsFav-io",
        "outputId": "9428d6d6-f823-40ec-f3a2-512dee15b52c"
      },
      "source": [
        "arr.sum(axis=0)#compute across the rows"
      ],
      "execution_count": null,
      "outputs": [
        {
          "output_type": "execute_result",
          "data": {
            "text/plain": [
              "array([-1.96638232, -2.44797534,  2.33594449,  0.89267075])"
            ]
          },
          "metadata": {
            "tags": []
          },
          "execution_count": 203
        }
      ]
    },
    {
      "cell_type": "markdown",
      "metadata": {
        "id": "Vxo_YZkpv-io"
      },
      "source": [
        "cumsum **and** cumprod **produce an array of intermediate results**"
      ]
    },
    {
      "cell_type": "code",
      "metadata": {
        "id": "f-iuRKOBv-ip"
      },
      "source": [
        "arr=np.array([0,1,2,3,4,5,6,7])"
      ],
      "execution_count": null,
      "outputs": []
    },
    {
      "cell_type": "code",
      "metadata": {
        "id": "qr4IG9Akv-ip",
        "outputId": "af33b83c-7fc7-480d-c96d-cbccdd82f0c5"
      },
      "source": [
        "arr.cumsum()"
      ],
      "execution_count": null,
      "outputs": [
        {
          "output_type": "execute_result",
          "data": {
            "text/plain": [
              "array([ 0,  1,  3,  6, 10, 15, 21, 28])"
            ]
          },
          "metadata": {
            "tags": []
          },
          "execution_count": 205
        }
      ]
    },
    {
      "cell_type": "markdown",
      "metadata": {
        "id": "1txfrozZv-ip"
      },
      "source": [
        "**In multidimensional arrays, accumulation functions like** cumsum **return an array of the same size, but with the partial aggregates computed along the indicated axis according to each lower dimensional slice**"
      ]
    },
    {
      "cell_type": "code",
      "metadata": {
        "id": "d3KWuL-Hv-ip"
      },
      "source": [
        "arr=np.arange(3*3).reshape(3,3)"
      ],
      "execution_count": null,
      "outputs": []
    },
    {
      "cell_type": "code",
      "metadata": {
        "id": "n4T7czw5v-ip",
        "outputId": "68ff7360-bc03-4a26-efe9-8b49d1f5408d"
      },
      "source": [
        "arr"
      ],
      "execution_count": null,
      "outputs": [
        {
          "output_type": "execute_result",
          "data": {
            "text/plain": [
              "array([[0, 1, 2],\n",
              "       [3, 4, 5],\n",
              "       [6, 7, 8]])"
            ]
          },
          "metadata": {
            "tags": []
          },
          "execution_count": 210
        }
      ]
    },
    {
      "cell_type": "code",
      "metadata": {
        "id": "KLgBFMSYv-ip",
        "outputId": "4d81787d-4244-4f5e-95fb-30ee66d0d1ad"
      },
      "source": [
        "arr.cumsum(axis=0)"
      ],
      "execution_count": null,
      "outputs": [
        {
          "output_type": "execute_result",
          "data": {
            "text/plain": [
              "array([[ 0,  1,  2],\n",
              "       [ 3,  5,  7],\n",
              "       [ 9, 12, 15]])"
            ]
          },
          "metadata": {
            "tags": []
          },
          "execution_count": 211
        }
      ]
    },
    {
      "cell_type": "code",
      "metadata": {
        "id": "tzYeHeaCv-iq",
        "outputId": "7b079353-708b-4ac6-cc1c-5c6cc1509a76"
      },
      "source": [
        "arr.cumprod(axis=1)"
      ],
      "execution_count": null,
      "outputs": [
        {
          "output_type": "execute_result",
          "data": {
            "text/plain": [
              "array([[  0,   0,   0],\n",
              "       [  3,  12,  60],\n",
              "       [  6,  42, 336]])"
            ]
          },
          "metadata": {
            "tags": []
          },
          "execution_count": 213
        }
      ]
    },
    {
      "cell_type": "markdown",
      "metadata": {
        "id": "TQteTMdjv-iq"
      },
      "source": [
        "### Methods for Boolean Arrays"
      ]
    },
    {
      "cell_type": "markdown",
      "metadata": {
        "id": "ywAEBwTzv-iq"
      },
      "source": [
        "**Boolean values are coerced to 1(True) and 0(False)**<br>\n",
        "sum **is often used as a means of counting** True **values in a boolean array**"
      ]
    },
    {
      "cell_type": "code",
      "metadata": {
        "id": "rmg7eT_8v-iq"
      },
      "source": [
        "arr=np.random.randn(100)"
      ],
      "execution_count": null,
      "outputs": []
    },
    {
      "cell_type": "code",
      "metadata": {
        "id": "knFdMvVxv-iq",
        "outputId": "08f4c39b-181b-48e4-d570-217dcad2db6f"
      },
      "source": [
        "(arr>0).sum()#Number of positive values"
      ],
      "execution_count": null,
      "outputs": [
        {
          "output_type": "execute_result",
          "data": {
            "text/plain": [
              "52"
            ]
          },
          "metadata": {
            "tags": []
          },
          "execution_count": 216
        }
      ]
    },
    {
      "cell_type": "markdown",
      "metadata": {
        "id": "BoBMjNXwv-ir"
      },
      "source": [
        "any **tests whether one or more values in an array is True**<br>\n",
        "all **checks if every value is** True"
      ]
    },
    {
      "cell_type": "code",
      "metadata": {
        "id": "bVa-NaoHv-ir"
      },
      "source": [
        "bools=np.array([False,False,True,False])"
      ],
      "execution_count": null,
      "outputs": []
    },
    {
      "cell_type": "code",
      "metadata": {
        "id": "afpkyD6-v-ir",
        "outputId": "7f783985-f466-4077-e652-45a97431515d"
      },
      "source": [
        "bools.any()"
      ],
      "execution_count": null,
      "outputs": [
        {
          "output_type": "execute_result",
          "data": {
            "text/plain": [
              "True"
            ]
          },
          "metadata": {
            "tags": []
          },
          "execution_count": 218
        }
      ]
    },
    {
      "cell_type": "code",
      "metadata": {
        "id": "3k_FIn3tv-ir",
        "outputId": "c40dd06e-1247-4010-fc29-f2f022de675e"
      },
      "source": [
        "bools.all()"
      ],
      "execution_count": null,
      "outputs": [
        {
          "output_type": "execute_result",
          "data": {
            "text/plain": [
              "False"
            ]
          },
          "metadata": {
            "tags": []
          },
          "execution_count": 219
        }
      ]
    },
    {
      "cell_type": "markdown",
      "metadata": {
        "id": "t3dy4upLv-ir"
      },
      "source": [
        "### Sorting "
      ]
    },
    {
      "cell_type": "markdown",
      "metadata": {
        "id": "AxjhyumQv-ir"
      },
      "source": [
        "**Use** sort"
      ]
    },
    {
      "cell_type": "code",
      "metadata": {
        "id": "UrXYbQ42v-is"
      },
      "source": [
        "arr=np.random.randn(6)"
      ],
      "execution_count": null,
      "outputs": []
    },
    {
      "cell_type": "code",
      "metadata": {
        "id": "2QlUM_yXv-is",
        "outputId": "1946102f-887e-4452-a8bf-b0f4a80a6ae6"
      },
      "source": [
        "arr"
      ],
      "execution_count": null,
      "outputs": [
        {
          "output_type": "execute_result",
          "data": {
            "text/plain": [
              "array([ 0.325421  , -0.53815205,  0.7750739 , -0.41993256,  0.3309375 ,\n",
              "        0.07488842])"
            ]
          },
          "metadata": {
            "tags": []
          },
          "execution_count": 221
        }
      ]
    },
    {
      "cell_type": "code",
      "metadata": {
        "id": "pcN1R_eQv-is"
      },
      "source": [
        "arr.sort()"
      ],
      "execution_count": null,
      "outputs": []
    },
    {
      "cell_type": "code",
      "metadata": {
        "id": "s-9-weFCv-is",
        "outputId": "b3322d11-16b4-4439-f52a-eb1c257705bf"
      },
      "source": [
        "arr"
      ],
      "execution_count": null,
      "outputs": [
        {
          "output_type": "execute_result",
          "data": {
            "text/plain": [
              "array([-0.53815205, -0.41993256,  0.07488842,  0.325421  ,  0.3309375 ,\n",
              "        0.7750739 ])"
            ]
          },
          "metadata": {
            "tags": []
          },
          "execution_count": 223
        }
      ]
    },
    {
      "cell_type": "markdown",
      "metadata": {
        "id": "7RLzWs4Rv-is"
      },
      "source": [
        "**You can sort each one-dimensional section of values in a multidimensional array in-place along an axis by passing the axis number to** sort"
      ]
    },
    {
      "cell_type": "code",
      "metadata": {
        "id": "t2xavuS-v-is"
      },
      "source": [
        "arr=np.random.randn(5,3)"
      ],
      "execution_count": null,
      "outputs": []
    },
    {
      "cell_type": "code",
      "metadata": {
        "id": "B5eJmpY-v-it",
        "outputId": "b6d77818-b51d-4985-9b23-ba9bc299e608"
      },
      "source": [
        "arr"
      ],
      "execution_count": null,
      "outputs": [
        {
          "output_type": "execute_result",
          "data": {
            "text/plain": [
              "array([[-0.7364916 ,  0.32728938,  0.22578854],\n",
              "       [-0.32103373, -1.70195604,  0.38786564],\n",
              "       [ 1.19758156, -0.57963186, -0.85835722],\n",
              "       [ 0.25945043,  1.43854684,  0.44249955],\n",
              "       [ 2.02397093,  0.75060741,  0.46935374]])"
            ]
          },
          "metadata": {
            "tags": []
          },
          "execution_count": 225
        }
      ]
    },
    {
      "cell_type": "code",
      "metadata": {
        "id": "a4WNrE0mv-it"
      },
      "source": [
        "arr.sort(1)"
      ],
      "execution_count": null,
      "outputs": []
    },
    {
      "cell_type": "code",
      "metadata": {
        "id": "ct5STsn7v-it",
        "outputId": "44db9d52-6d74-4cc8-ee3a-c768b91694cd"
      },
      "source": [
        "arr"
      ],
      "execution_count": null,
      "outputs": [
        {
          "output_type": "execute_result",
          "data": {
            "text/plain": [
              "array([[-0.7364916 ,  0.22578854,  0.32728938],\n",
              "       [-1.70195604, -0.32103373,  0.38786564],\n",
              "       [-0.85835722, -0.57963186,  1.19758156],\n",
              "       [ 0.25945043,  0.44249955,  1.43854684],\n",
              "       [ 0.46935374,  0.75060741,  2.02397093]])"
            ]
          },
          "metadata": {
            "tags": []
          },
          "execution_count": 227
        }
      ]
    },
    {
      "cell_type": "markdown",
      "metadata": {
        "id": "Ccfttwy6v-it"
      },
      "source": [
        "**Compute the quantiles of an array**"
      ]
    },
    {
      "cell_type": "code",
      "metadata": {
        "id": "LI0_dLN1v-it"
      },
      "source": [
        "large_arr=np.random.rand(1000)"
      ],
      "execution_count": null,
      "outputs": []
    },
    {
      "cell_type": "code",
      "metadata": {
        "id": "Rb-a6-U8v-it"
      },
      "source": [
        "large_arr.sort()"
      ],
      "execution_count": null,
      "outputs": []
    },
    {
      "cell_type": "code",
      "metadata": {
        "id": "vST6v_uMv-iu",
        "outputId": "e6fc7963-1b5c-40c2-8bc8-fcd5e46b4935"
      },
      "source": [
        "large_arr[int(len(large_arr)*0.05)]"
      ],
      "execution_count": null,
      "outputs": [
        {
          "output_type": "execute_result",
          "data": {
            "text/plain": [
              "0.049771051134220534"
            ]
          },
          "metadata": {
            "tags": []
          },
          "execution_count": 231
        }
      ]
    },
    {
      "cell_type": "markdown",
      "metadata": {
        "id": "Im1uq53av-iu"
      },
      "source": [
        "### Unique and Other Set Logic"
      ]
    },
    {
      "cell_type": "markdown",
      "metadata": {
        "id": "rmIvlADQv-iu"
      },
      "source": [
        "np.unique **returns the sorted unique values in an array**"
      ]
    },
    {
      "cell_type": "code",
      "metadata": {
        "id": "C-juSji6v-iu"
      },
      "source": [
        "names=np.array(['Bob','Joe','Will','Bob','Will','Joe','Joe'])"
      ],
      "execution_count": null,
      "outputs": []
    },
    {
      "cell_type": "code",
      "metadata": {
        "id": "l-gw3O0iv-iu",
        "outputId": "c451077a-f366-4e23-ed5f-83d9abadcc88"
      },
      "source": [
        "np.unique(names)"
      ],
      "execution_count": null,
      "outputs": [
        {
          "output_type": "execute_result",
          "data": {
            "text/plain": [
              "array(['Bob', 'Joe', 'Will'], dtype='<U4')"
            ]
          },
          "metadata": {
            "tags": []
          },
          "execution_count": 233
        }
      ]
    },
    {
      "cell_type": "markdown",
      "metadata": {
        "id": "SPS6Pi_Ov-iu"
      },
      "source": [
        "np.in1d **tests membership of the values in one array in another, returning a** boolean **array**"
      ]
    },
    {
      "cell_type": "code",
      "metadata": {
        "id": "Sd4CPP4iv-iv"
      },
      "source": [
        "values=np.array([6,0,0,3,2,5,6])"
      ],
      "execution_count": null,
      "outputs": []
    },
    {
      "cell_type": "code",
      "metadata": {
        "id": "Ho0SKqsIv-iv",
        "outputId": "bd9bf7ef-00d4-4409-a311-2008eb981a70"
      },
      "source": [
        "np.in1d(values,[2,3,6])"
      ],
      "execution_count": null,
      "outputs": [
        {
          "output_type": "execute_result",
          "data": {
            "text/plain": [
              "array([ True, False, False,  True,  True, False,  True])"
            ]
          },
          "metadata": {
            "tags": []
          },
          "execution_count": 236
        }
      ]
    },
    {
      "cell_type": "markdown",
      "metadata": {
        "id": "7ue9byRtv-iv"
      },
      "source": [
        "## 4.4 File Input and Output with Arrays\n",
        "* np.save() **and** np.load() **for efficiently saving and loading array on disk**\n",
        "* **Save multiple arrays in an uncompressed archive using** np.savez **and passing the arrays as keyword arguments**"
      ]
    },
    {
      "cell_type": "markdown",
      "metadata": {
        "id": "oLvxhkTfv-iv"
      },
      "source": [
        "## 4.5 Linear Algebra\n",
        "* **multiplyimg two-dimensinal arrays with \\* is an element-wise product instead of a matrix product**\n",
        "* **function \\*, both an array method and a function in the** numpy **namespace, for matrix multiplication**"
      ]
    },
    {
      "cell_type": "code",
      "metadata": {
        "id": "vhN2Awwcv-iv"
      },
      "source": [
        "x=np.array([[1.,2.,3.],[4.,5,6.]])"
      ],
      "execution_count": null,
      "outputs": []
    },
    {
      "cell_type": "code",
      "metadata": {
        "id": "ZzQ9T__gv-iv"
      },
      "source": [
        "y=np.array([[6.,23.],[-1,7],[8,9]])"
      ],
      "execution_count": null,
      "outputs": []
    },
    {
      "cell_type": "code",
      "metadata": {
        "id": "OZJLnO5sv-iw",
        "outputId": "b00d56f4-df04-4439-fe14-47017087fd50"
      },
      "source": [
        "x"
      ],
      "execution_count": null,
      "outputs": [
        {
          "output_type": "execute_result",
          "data": {
            "text/plain": [
              "array([[1., 2., 3.],\n",
              "       [4., 5., 6.]])"
            ]
          },
          "metadata": {
            "tags": []
          },
          "execution_count": 239
        }
      ]
    },
    {
      "cell_type": "code",
      "metadata": {
        "id": "AzUehjfzv-iw",
        "outputId": "a9e54d4c-aab6-4842-a447-77d1d741514f"
      },
      "source": [
        "y"
      ],
      "execution_count": null,
      "outputs": [
        {
          "output_type": "execute_result",
          "data": {
            "text/plain": [
              "array([[ 6., 23.],\n",
              "       [-1.,  7.],\n",
              "       [ 8.,  9.]])"
            ]
          },
          "metadata": {
            "tags": []
          },
          "execution_count": 240
        }
      ]
    },
    {
      "cell_type": "code",
      "metadata": {
        "id": "EXnSyd0xv-iw",
        "outputId": "c2d306bb-5668-4961-f3c4-bae6a06e5ce2"
      },
      "source": [
        "x.dot(y)"
      ],
      "execution_count": null,
      "outputs": [
        {
          "output_type": "execute_result",
          "data": {
            "text/plain": [
              "array([[ 28.,  64.],\n",
              "       [ 67., 181.]])"
            ]
          },
          "metadata": {
            "tags": []
          },
          "execution_count": 241
        }
      ]
    },
    {
      "cell_type": "markdown",
      "metadata": {
        "id": "77HdNXr3v-iw"
      },
      "source": [
        "**A matrix product between a two-dimensional array and a suitably sized one-dimensional array results in a one-dimensional array**"
      ]
    },
    {
      "cell_type": "code",
      "metadata": {
        "id": "pUd7_Mnnv-iw",
        "outputId": "6d42ddb4-5cd7-41f9-be21-aee75a084b4d"
      },
      "source": [
        "np.dot(x,np.ones(3))"
      ],
      "execution_count": null,
      "outputs": [
        {
          "output_type": "execute_result",
          "data": {
            "text/plain": [
              "array([ 6., 15.])"
            ]
          },
          "metadata": {
            "tags": []
          },
          "execution_count": 242
        }
      ]
    },
    {
      "cell_type": "markdown",
      "metadata": {
        "id": "0wM0rPsHv-ix"
      },
      "source": [
        "**The @ sybmbol also works for matrix multiplication**"
      ]
    },
    {
      "cell_type": "code",
      "metadata": {
        "id": "DdktSqb6v-ix",
        "outputId": "f3e6ef6c-8dfe-400d-fbb6-513bab09bb53"
      },
      "source": [
        "x @ np.ones(3)"
      ],
      "execution_count": null,
      "outputs": [
        {
          "output_type": "execute_result",
          "data": {
            "text/plain": [
              "array([ 6., 15.])"
            ]
          },
          "metadata": {
            "tags": []
          },
          "execution_count": 243
        }
      ]
    },
    {
      "cell_type": "markdown",
      "metadata": {
        "id": "1GF45YK5v-ix"
      },
      "source": [
        "## 4.6 Pseudorandom Number Generation"
      ]
    },
    {
      "cell_type": "markdown",
      "metadata": {
        "id": "sTRxAoGrv-ix"
      },
      "source": [
        "numpy.random **is used for generating whole arrays of sample values from many kinds of probability distributions**"
      ]
    },
    {
      "cell_type": "code",
      "metadata": {
        "id": "1oPPOZB-v-iy"
      },
      "source": [
        "samples=np.random.normal(size=(4,4))"
      ],
      "execution_count": null,
      "outputs": []
    },
    {
      "cell_type": "code",
      "metadata": {
        "id": "byBaNSfdv-iy",
        "outputId": "fb29860e-d944-4a27-ed10-ae1f35fb0873"
      },
      "source": [
        "samples"
      ],
      "execution_count": null,
      "outputs": [
        {
          "output_type": "execute_result",
          "data": {
            "text/plain": [
              "array([[-1.03857537,  0.31828025, -1.30799145,  1.33995405],\n",
              "       [-2.25643496, -0.99576463, -1.65951137,  1.32802336],\n",
              "       [-1.12197289,  0.0195745 , -0.82514698, -0.34956775],\n",
              "       [ 0.13714739, -0.01575841,  0.42791394,  1.76162322]])"
            ]
          },
          "metadata": {
            "tags": []
          },
          "execution_count": 246
        }
      ]
    },
    {
      "cell_type": "markdown",
      "metadata": {
        "id": "SRgsxNg6v-iz"
      },
      "source": [
        "## 4.7 Example: Random Walks"
      ]
    },
    {
      "cell_type": "markdown",
      "metadata": {
        "id": "JVghng9Vv-iz"
      },
      "source": [
        "**Consider a simple random walk starting at 0 with steps of 1 and -1 occuring with equal probability**"
      ]
    },
    {
      "cell_type": "code",
      "metadata": {
        "id": "XbOYaHDTv-iz"
      },
      "source": [
        "import random\n",
        "position=0\n",
        "walk=[position]\n",
        "steps=1000\n",
        "for i in range(steps):\n",
        "    step=1 if random.randint(0,1) else -1\n",
        "    position+=step\n",
        "    walk.append(position)"
      ],
      "execution_count": null,
      "outputs": []
    },
    {
      "cell_type": "code",
      "metadata": {
        "id": "zPLAIEvUv-iz",
        "outputId": "ff16a2a9-1fb7-4c0c-c189-f902cb3ca2ab"
      },
      "source": [
        "plt.plot(walk[:100])"
      ],
      "execution_count": null,
      "outputs": [
        {
          "output_type": "execute_result",
          "data": {
            "text/plain": [
              "[<matplotlib.lines.Line2D at 0x7faa934068b0>]"
            ]
          },
          "metadata": {
            "tags": []
          },
          "execution_count": 250
        },
        {
          "output_type": "display_data",
          "data": {
            "image/png": "[encoded data removed]",
            "text/plain": [
              "<Figure size 432x288 with 1 Axes>"
            ]
          },
          "metadata": {
            "tags": [],
            "needs_background": "light"
          }
        }
      ]
    },
    {
      "cell_type": "markdown",
      "metadata": {
        "id": "L3-3TRwlv-iz"
      },
      "source": [
        "**Using NumPy to generate random walks**"
      ]
    },
    {
      "cell_type": "code",
      "metadata": {
        "id": "O0ekMK-Dv-i0"
      },
      "source": [
        "nsteps=1000\n",
        "draw=np.random.randint(0,2,size=nsteps)\n",
        "steps=np.where(draw>0,1,-1)\n",
        "walk=np.cumsum(steps)"
      ],
      "execution_count": null,
      "outputs": []
    },
    {
      "cell_type": "code",
      "metadata": {
        "id": "88rGq-4_v-i0",
        "outputId": "d5604873-95e1-425d-8e7b-1e7405fa1bdf"
      },
      "source": [
        "walk.min()"
      ],
      "execution_count": null,
      "outputs": [
        {
          "output_type": "execute_result",
          "data": {
            "text/plain": [
              "-4"
            ]
          },
          "metadata": {
            "tags": []
          },
          "execution_count": 258
        }
      ]
    },
    {
      "cell_type": "code",
      "metadata": {
        "id": "-k9Pzn_7v-i0",
        "outputId": "7dc5154e-b0ff-48fa-c0bc-a82ecfe8c256"
      },
      "source": [
        "walk.max()"
      ],
      "execution_count": null,
      "outputs": [
        {
          "output_type": "execute_result",
          "data": {
            "text/plain": [
              "53"
            ]
          },
          "metadata": {
            "tags": []
          },
          "execution_count": 259
        }
      ]
    },
    {
      "cell_type": "markdown",
      "metadata": {
        "id": "X9AML7WVv-i0"
      },
      "source": [
        "**Calculate the first crossing time**"
      ]
    },
    {
      "cell_type": "code",
      "metadata": {
        "id": "haE5IX5zv-i0",
        "outputId": "4291a20a-7fb0-4fa0-ff59-731888262ad6"
      },
      "source": [
        "(np.abs(walk)>=10).argmax()#argmax returns the first index of the maximum value in the boolean arrays(True is 1)"
      ],
      "execution_count": null,
      "outputs": [
        {
          "output_type": "execute_result",
          "data": {
            "text/plain": [
              "77"
            ]
          },
          "metadata": {
            "tags": []
          },
          "execution_count": 260
        }
      ]
    },
    {
      "cell_type": "markdown",
      "metadata": {
        "id": "jiE0X_hzv-i1"
      },
      "source": [
        "**Simiulating Many Random Walks at Once**"
      ]
    },
    {
      "cell_type": "code",
      "metadata": {
        "id": "wNatSNf8v-i1"
      },
      "source": [
        "nwalks=5000\n",
        "nsteps=1000\n",
        "draws=np.random.randint(0,2,size=(nwalks,nsteps))\n",
        "steps=np.where(draws>0,1,-1)\n",
        "walks=steps.cumsum(1)"
      ],
      "execution_count": null,
      "outputs": []
    },
    {
      "cell_type": "code",
      "metadata": {
        "id": "I8kX8nCev-i1",
        "outputId": "fedba075-d04d-456b-94f1-12718f2e333e"
      },
      "source": [
        "walks"
      ],
      "execution_count": null,
      "outputs": [
        {
          "output_type": "execute_result",
          "data": {
            "text/plain": [
              "array([[ -1,   0,   1, ...,  24,  25,  26],\n",
              "       [ -1,  -2,  -3, ..., -16, -15, -14],\n",
              "       [ -1,  -2,  -1, ...,  32,  33,  34],\n",
              "       ...,\n",
              "       [  1,   2,   1, ..., -44, -45, -44],\n",
              "       [ -1,   0,   1, ...,  58,  57,  58],\n",
              "       [  1,   0,  -1, ...,   8,   9,  10]])"
            ]
          },
          "metadata": {
            "tags": []
          },
          "execution_count": 269
        }
      ]
    },
    {
      "cell_type": "markdown",
      "metadata": {
        "id": "q_Wdhuptv-i1"
      },
      "source": [
        "**Compute the minimum crossing time for 30 or -30**"
      ]
    },
    {
      "cell_type": "code",
      "metadata": {
        "id": "Mt4WEqkiv-i1"
      },
      "source": [
        "hits30=(np.abs(walks)>=30).any(1)"
      ],
      "execution_count": null,
      "outputs": []
    },
    {
      "cell_type": "code",
      "metadata": {
        "id": "a-I8a1Cav-i2",
        "outputId": "a224370a-0a47-43cf-d942-43b66ff6669f"
      },
      "source": [
        "hits30"
      ],
      "execution_count": null,
      "outputs": [
        {
          "output_type": "execute_result",
          "data": {
            "text/plain": [
              "array([ True,  True,  True, ...,  True,  True, False])"
            ]
          },
          "metadata": {
            "tags": []
          },
          "execution_count": 271
        }
      ]
    },
    {
      "cell_type": "code",
      "metadata": {
        "id": "uaL9Fqd4v-i2",
        "outputId": "8ce43d82-12d7-423c-9395-0a05b58fe4a7"
      },
      "source": [
        "hits30.sum()"
      ],
      "execution_count": null,
      "outputs": [
        {
          "output_type": "execute_result",
          "data": {
            "text/plain": [
              "3428"
            ]
          },
          "metadata": {
            "tags": []
          },
          "execution_count": 272
        }
      ]
    },
    {
      "cell_type": "code",
      "metadata": {
        "id": "S2v3GxRKv-i2"
      },
      "source": [
        "crossing_times=(np.abs(walks[hits30])>=30).argmax(1)"
      ],
      "execution_count": null,
      "outputs": []
    },
    {
      "cell_type": "code",
      "metadata": {
        "id": "sXKtupuPv-i2",
        "outputId": "6a3c9112-5363-4eaf-829d-0feb31defba3"
      },
      "source": [
        "crossing_times"
      ],
      "execution_count": null,
      "outputs": [
        {
          "output_type": "execute_result",
          "data": {
            "text/plain": [
              "array([759, 715, 849, ..., 917, 881, 721])"
            ]
          },
          "metadata": {
            "tags": []
          },
          "execution_count": 274
        }
      ]
    },
    {
      "cell_type": "code",
      "metadata": {
        "id": "dVQhhHewv-i2",
        "outputId": "6fae115b-40ba-434a-be1a-c079a6ec1624"
      },
      "source": [
        "crossing_times.mean()"
      ],
      "execution_count": null,
      "outputs": [
        {
          "output_type": "execute_result",
          "data": {
            "text/plain": [
              "498.72812135355895"
            ]
          },
          "metadata": {
            "tags": []
          },
          "execution_count": 275
        }
      ]
    },
    {
      "cell_type": "code",
      "metadata": {
        "id": "rxe_4W9Dv-i3"
      },
      "source": [
        ""
      ],
      "execution_count": null,
      "outputs": []
    },
    {
      "cell_type": "code",
      "metadata": {
        "id": "0UxMB9Rtv-i3"
      },
      "source": [
        ""
      ],
      "execution_count": null,
      "outputs": []
    },
    {
      "cell_type": "code",
      "metadata": {
        "id": "05YOpMXdv-i3"
      },
      "source": [
        ""
      ],
      "execution_count": null,
      "outputs": []
    },
    {
      "cell_type": "code",
      "metadata": {
        "id": "yrn7e_frv-i3"
      },
      "source": [
        ""
      ],
      "execution_count": null,
      "outputs": []
    },
    {
      "cell_type": "code",
      "metadata": {
        "id": "5gM1R3S6v-i3"
      },
      "source": [
        ""
      ],
      "execution_count": null,
      "outputs": []
    }
  ]
}