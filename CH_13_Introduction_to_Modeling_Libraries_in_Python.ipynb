{
  "nbformat": 4,
  "nbformat_minor": 0,
  "metadata": {
    "colab": {
      "name": "CH 13 Introduction to Modeling Libraries in Python.ipynb",
      "provenance": [],
      "collapsed_sections": [],
      "authorship_tag": "ABX9TyOxjYs60QrB9YaRQGkd/Npm",
      "include_colab_link": true
    },
    "kernelspec": {
      "name": "python3",
      "display_name": "Python 3"
    }
  },
  "cells": [
    {
      "cell_type": "markdown",
      "metadata": {
        "id": "view-in-github",
        "colab_type": "text"
      },
      "source": [
        "<a href=\"https://colab.research.google.com/github/Twilight1029/Python-for-Data-Analysis/blob/main/CH_13_Introduction_to_Modeling_Libraries_in_Python.ipynb\" target=\"_parent\"><img src=\"https://colab.research.google.com/assets/colab-badge.svg\" alt=\"Open In Colab\"/></a>"
      ]
    },
    {
      "cell_type": "markdown",
      "metadata": {
        "id": "eD0A9FwiWmYi"
      },
      "source": [
        "# 13.1 Interfacing Between pandas and Model Code"
      ]
    },
    {
      "cell_type": "markdown",
      "metadata": {
        "id": "GCJpsjf4XFl6"
      },
      "source": [
        "A common workflow for model development is to **use pandas for data loading and cleaning before switching over to a modeling library to build the model itself**. An important part of the model development process is called **feature engineering** in machine learning."
      ]
    },
    {
      "cell_type": "markdown",
      "metadata": {
        "id": "Cg8w00a3Xp-Q"
      },
      "source": [
        "How to make switching between data manipulation with pandas and modeling"
      ]
    },
    {
      "cell_type": "markdown",
      "metadata": {
        "id": "aIyOu-r8XxF9"
      },
      "source": [
        "The point of contact between pandas and other analysis libraries is usually NumPy arrays. To turn a DataFrame into a NumPy array, use the .values property:"
      ]
    },
    {
      "cell_type": "code",
      "metadata": {
        "id": "oiwyo5FmX47k"
      },
      "source": [
        "import pandas as pd\n",
        "import numpy as np"
      ],
      "execution_count": null,
      "outputs": []
    },
    {
      "cell_type": "code",
      "metadata": {
        "id": "UF2YxPDoX4-b"
      },
      "source": [
        "data = pd.DataFrame({'x0' : [1, 2, 3, 4, 5],\n",
        "                     'x1' : [0.01, -0.01, 0.25, -4.1, 0.],\n",
        "                     'y' : [-1.5, 0., 3.6, 1.3, -2.]})"
      ],
      "execution_count": null,
      "outputs": []
    },
    {
      "cell_type": "code",
      "metadata": {
        "colab": {
          "base_uri": "https://localhost:8080/",
          "height": 204
        },
        "id": "x582G75pX5CB",
        "outputId": "68c630e3-682e-4a0f-fe32-c97694ac66b3"
      },
      "source": [
        "data"
      ],
      "execution_count": null,
      "outputs": [
        {
          "output_type": "execute_result",
          "data": {
            "text/html": [
              "<div>\n",
              "<style scoped>\n",
              "    .dataframe tbody tr th:only-of-type {\n",
              "        vertical-align: middle;\n",
              "    }\n",
              "\n",
              "    .dataframe tbody tr th {\n",
              "        vertical-align: top;\n",
              "    }\n",
              "\n",
              "    .dataframe thead th {\n",
              "        text-align: right;\n",
              "    }\n",
              "</style>\n",
              "<table border=\"1\" class=\"dataframe\">\n",
              "  <thead>\n",
              "    <tr style=\"text-align: right;\">\n",
              "      <th></th>\n",
              "      <th>x0</th>\n",
              "      <th>x1</th>\n",
              "      <th>y</th>\n",
              "    </tr>\n",
              "  </thead>\n",
              "  <tbody>\n",
              "    <tr>\n",
              "      <th>0</th>\n",
              "      <td>1</td>\n",
              "      <td>0.01</td>\n",
              "      <td>-1.5</td>\n",
              "    </tr>\n",
              "    <tr>\n",
              "      <th>1</th>\n",
              "      <td>2</td>\n",
              "      <td>-0.01</td>\n",
              "      <td>0.0</td>\n",
              "    </tr>\n",
              "    <tr>\n",
              "      <th>2</th>\n",
              "      <td>3</td>\n",
              "      <td>0.25</td>\n",
              "      <td>3.6</td>\n",
              "    </tr>\n",
              "    <tr>\n",
              "      <th>3</th>\n",
              "      <td>4</td>\n",
              "      <td>-4.10</td>\n",
              "      <td>1.3</td>\n",
              "    </tr>\n",
              "    <tr>\n",
              "      <th>4</th>\n",
              "      <td>5</td>\n",
              "      <td>0.00</td>\n",
              "      <td>-2.0</td>\n",
              "    </tr>\n",
              "  </tbody>\n",
              "</table>\n",
              "</div>"
            ],
            "text/plain": [
              "   x0    x1    y\n",
              "0   1  0.01 -1.5\n",
              "1   2 -0.01  0.0\n",
              "2   3  0.25  3.6\n",
              "3   4 -4.10  1.3\n",
              "4   5  0.00 -2.0"
            ]
          },
          "metadata": {
            "tags": []
          },
          "execution_count": 3
        }
      ]
    },
    {
      "cell_type": "code",
      "metadata": {
        "colab": {
          "base_uri": "https://localhost:8080/"
        },
        "id": "GmefT6FEX5E3",
        "outputId": "7c734a28-60f6-4fa1-d085-2f6bc5138527"
      },
      "source": [
        "data.columns"
      ],
      "execution_count": null,
      "outputs": [
        {
          "output_type": "execute_result",
          "data": {
            "text/plain": [
              "Index(['x0', 'x1', 'y'], dtype='object')"
            ]
          },
          "metadata": {
            "tags": []
          },
          "execution_count": 4
        }
      ]
    },
    {
      "cell_type": "code",
      "metadata": {
        "colab": {
          "base_uri": "https://localhost:8080/"
        },
        "id": "zodVwEcXX5He",
        "outputId": "054ed039-fc65-4ad4-e934-b9ed0a33eb04"
      },
      "source": [
        "# Use df.values to turn a df into array\n",
        "data.values"
      ],
      "execution_count": null,
      "outputs": [
        {
          "output_type": "execute_result",
          "data": {
            "text/plain": [
              "array([[ 1.  ,  0.01, -1.5 ],\n",
              "       [ 2.  , -0.01,  0.  ],\n",
              "       [ 3.  ,  0.25,  3.6 ],\n",
              "       [ 4.  , -4.1 ,  1.3 ],\n",
              "       [ 5.  ,  0.  , -2.  ]])"
            ]
          },
          "metadata": {
            "tags": []
          },
          "execution_count": 6
        }
      ]
    },
    {
      "cell_type": "code",
      "metadata": {
        "id": "Ca7izjRqX5J2"
      },
      "source": [
        "# convert array back to df\n",
        "# pass a two-dimensional ndarray with optional column names\n",
        "df2 = pd.DataFrame(data.values, columns = ['one', 'two', 'three'])"
      ],
      "execution_count": null,
      "outputs": []
    },
    {
      "cell_type": "code",
      "metadata": {
        "colab": {
          "base_uri": "https://localhost:8080/",
          "height": 204
        },
        "id": "WowP2GTTX5MJ",
        "outputId": "ad4eca9d-9a44-46da-b719-ad10b4581396"
      },
      "source": [
        "df2"
      ],
      "execution_count": null,
      "outputs": [
        {
          "output_type": "execute_result",
          "data": {
            "text/html": [
              "<div>\n",
              "<style scoped>\n",
              "    .dataframe tbody tr th:only-of-type {\n",
              "        vertical-align: middle;\n",
              "    }\n",
              "\n",
              "    .dataframe tbody tr th {\n",
              "        vertical-align: top;\n",
              "    }\n",
              "\n",
              "    .dataframe thead th {\n",
              "        text-align: right;\n",
              "    }\n",
              "</style>\n",
              "<table border=\"1\" class=\"dataframe\">\n",
              "  <thead>\n",
              "    <tr style=\"text-align: right;\">\n",
              "      <th></th>\n",
              "      <th>one</th>\n",
              "      <th>two</th>\n",
              "      <th>three</th>\n",
              "    </tr>\n",
              "  </thead>\n",
              "  <tbody>\n",
              "    <tr>\n",
              "      <th>0</th>\n",
              "      <td>1.0</td>\n",
              "      <td>0.01</td>\n",
              "      <td>-1.5</td>\n",
              "    </tr>\n",
              "    <tr>\n",
              "      <th>1</th>\n",
              "      <td>2.0</td>\n",
              "      <td>-0.01</td>\n",
              "      <td>0.0</td>\n",
              "    </tr>\n",
              "    <tr>\n",
              "      <th>2</th>\n",
              "      <td>3.0</td>\n",
              "      <td>0.25</td>\n",
              "      <td>3.6</td>\n",
              "    </tr>\n",
              "    <tr>\n",
              "      <th>3</th>\n",
              "      <td>4.0</td>\n",
              "      <td>-4.10</td>\n",
              "      <td>1.3</td>\n",
              "    </tr>\n",
              "    <tr>\n",
              "      <th>4</th>\n",
              "      <td>5.0</td>\n",
              "      <td>0.00</td>\n",
              "      <td>-2.0</td>\n",
              "    </tr>\n",
              "  </tbody>\n",
              "</table>\n",
              "</div>"
            ],
            "text/plain": [
              "   one   two  three\n",
              "0  1.0  0.01   -1.5\n",
              "1  2.0 -0.01    0.0\n",
              "2  3.0  0.25    3.6\n",
              "3  4.0 -4.10    1.3\n",
              "4  5.0  0.00   -2.0"
            ]
          },
          "metadata": {
            "tags": []
          },
          "execution_count": 8
        }
      ]
    },
    {
      "cell_type": "markdown",
      "metadata": {
        "id": "7M4AUpQRYwLy"
      },
      "source": [
        "The .values attribute is intended to be used when your data is **homogeneous**—for example, all numeric types. If you have heterogeneous data, the result will be an ndarray of Python objects:"
      ]
    },
    {
      "cell_type": "code",
      "metadata": {
        "id": "pKB3JuYBYq8I"
      },
      "source": [
        "df3 = data.copy()"
      ],
      "execution_count": null,
      "outputs": []
    },
    {
      "cell_type": "code",
      "metadata": {
        "id": "YOazW2OIYq-z"
      },
      "source": [
        "df3['strings'] = ['a', 'b', 'c', 'd', 'e']"
      ],
      "execution_count": null,
      "outputs": []
    },
    {
      "cell_type": "code",
      "metadata": {
        "colab": {
          "base_uri": "https://localhost:8080/",
          "height": 204
        },
        "id": "lcohIbZ9YrBx",
        "outputId": "ab25969e-0d37-4c6f-c3ee-bd8da15924fc"
      },
      "source": [
        "df3"
      ],
      "execution_count": null,
      "outputs": [
        {
          "output_type": "execute_result",
          "data": {
            "text/html": [
              "<div>\n",
              "<style scoped>\n",
              "    .dataframe tbody tr th:only-of-type {\n",
              "        vertical-align: middle;\n",
              "    }\n",
              "\n",
              "    .dataframe tbody tr th {\n",
              "        vertical-align: top;\n",
              "    }\n",
              "\n",
              "    .dataframe thead th {\n",
              "        text-align: right;\n",
              "    }\n",
              "</style>\n",
              "<table border=\"1\" class=\"dataframe\">\n",
              "  <thead>\n",
              "    <tr style=\"text-align: right;\">\n",
              "      <th></th>\n",
              "      <th>x0</th>\n",
              "      <th>x1</th>\n",
              "      <th>y</th>\n",
              "      <th>strings</th>\n",
              "    </tr>\n",
              "  </thead>\n",
              "  <tbody>\n",
              "    <tr>\n",
              "      <th>0</th>\n",
              "      <td>1</td>\n",
              "      <td>0.01</td>\n",
              "      <td>-1.5</td>\n",
              "      <td>a</td>\n",
              "    </tr>\n",
              "    <tr>\n",
              "      <th>1</th>\n",
              "      <td>2</td>\n",
              "      <td>-0.01</td>\n",
              "      <td>0.0</td>\n",
              "      <td>b</td>\n",
              "    </tr>\n",
              "    <tr>\n",
              "      <th>2</th>\n",
              "      <td>3</td>\n",
              "      <td>0.25</td>\n",
              "      <td>3.6</td>\n",
              "      <td>c</td>\n",
              "    </tr>\n",
              "    <tr>\n",
              "      <th>3</th>\n",
              "      <td>4</td>\n",
              "      <td>-4.10</td>\n",
              "      <td>1.3</td>\n",
              "      <td>d</td>\n",
              "    </tr>\n",
              "    <tr>\n",
              "      <th>4</th>\n",
              "      <td>5</td>\n",
              "      <td>0.00</td>\n",
              "      <td>-2.0</td>\n",
              "      <td>e</td>\n",
              "    </tr>\n",
              "  </tbody>\n",
              "</table>\n",
              "</div>"
            ],
            "text/plain": [
              "   x0    x1    y strings\n",
              "0   1  0.01 -1.5       a\n",
              "1   2 -0.01  0.0       b\n",
              "2   3  0.25  3.6       c\n",
              "3   4 -4.10  1.3       d\n",
              "4   5  0.00 -2.0       e"
            ]
          },
          "metadata": {
            "tags": []
          },
          "execution_count": 11
        }
      ]
    },
    {
      "cell_type": "code",
      "metadata": {
        "colab": {
          "base_uri": "https://localhost:8080/"
        },
        "id": "6HciR3deYrFM",
        "outputId": "49819ceb-d59c-4fd6-aac6-63e06d1aa147"
      },
      "source": [
        "df3.values # different type of data in df, result in object not array"
      ],
      "execution_count": null,
      "outputs": [
        {
          "output_type": "execute_result",
          "data": {
            "text/plain": [
              "array([[1, 0.01, -1.5, 'a'],\n",
              "       [2, -0.01, 0.0, 'b'],\n",
              "       [3, 0.25, 3.6, 'c'],\n",
              "       [4, -4.1, 1.3, 'd'],\n",
              "       [5, 0.0, -2.0, 'e']], dtype=object)"
            ]
          },
          "metadata": {
            "tags": []
          },
          "execution_count": 13
        }
      ]
    },
    {
      "cell_type": "markdown",
      "metadata": {
        "id": "IyDwD13yZHh6"
      },
      "source": [
        "Use **loc** indexing with values to filter or select a subset of the columns"
      ]
    },
    {
      "cell_type": "code",
      "metadata": {
        "id": "ahU3g-_vYrIU"
      },
      "source": [
        "model_cols = ['x0', 'x1']"
      ],
      "execution_count": null,
      "outputs": []
    },
    {
      "cell_type": "code",
      "metadata": {
        "colab": {
          "base_uri": "https://localhost:8080/"
        },
        "id": "2BUhVEU3ZGXw",
        "outputId": "d2978f87-44c9-452f-af8f-acffd0afa87c"
      },
      "source": [
        "data.loc[:, model_cols].values"
      ],
      "execution_count": null,
      "outputs": [
        {
          "output_type": "execute_result",
          "data": {
            "text/plain": [
              "array([[ 1.  ,  0.01],\n",
              "       [ 2.  , -0.01],\n",
              "       [ 3.  ,  0.25],\n",
              "       [ 4.  , -4.1 ],\n",
              "       [ 5.  ,  0.  ]])"
            ]
          },
          "metadata": {
            "tags": []
          },
          "execution_count": 15
        }
      ]
    },
    {
      "cell_type": "markdown",
      "metadata": {
        "id": "JIHg6C04Zcum"
      },
      "source": [
        "Categorical type and pandas.get_dummies function"
      ]
    },
    {
      "cell_type": "code",
      "metadata": {
        "id": "v69XxD6GZGbM"
      },
      "source": [
        "data['category'] = pd.Categorical(['a', 'b', 'a', 'a', 'b'],\n",
        "                                  categories = ['a', 'b'])"
      ],
      "execution_count": null,
      "outputs": []
    },
    {
      "cell_type": "code",
      "metadata": {
        "colab": {
          "base_uri": "https://localhost:8080/",
          "height": 204
        },
        "id": "IEZA2DhxZo6Q",
        "outputId": "e780f885-15cc-42e0-dbb4-f9947ec5c8ed"
      },
      "source": [
        "data"
      ],
      "execution_count": null,
      "outputs": [
        {
          "output_type": "execute_result",
          "data": {
            "text/html": [
              "<div>\n",
              "<style scoped>\n",
              "    .dataframe tbody tr th:only-of-type {\n",
              "        vertical-align: middle;\n",
              "    }\n",
              "\n",
              "    .dataframe tbody tr th {\n",
              "        vertical-align: top;\n",
              "    }\n",
              "\n",
              "    .dataframe thead th {\n",
              "        text-align: right;\n",
              "    }\n",
              "</style>\n",
              "<table border=\"1\" class=\"dataframe\">\n",
              "  <thead>\n",
              "    <tr style=\"text-align: right;\">\n",
              "      <th></th>\n",
              "      <th>x0</th>\n",
              "      <th>x1</th>\n",
              "      <th>y</th>\n",
              "      <th>category</th>\n",
              "    </tr>\n",
              "  </thead>\n",
              "  <tbody>\n",
              "    <tr>\n",
              "      <th>0</th>\n",
              "      <td>1</td>\n",
              "      <td>0.01</td>\n",
              "      <td>-1.5</td>\n",
              "      <td>a</td>\n",
              "    </tr>\n",
              "    <tr>\n",
              "      <th>1</th>\n",
              "      <td>2</td>\n",
              "      <td>-0.01</td>\n",
              "      <td>0.0</td>\n",
              "      <td>b</td>\n",
              "    </tr>\n",
              "    <tr>\n",
              "      <th>2</th>\n",
              "      <td>3</td>\n",
              "      <td>0.25</td>\n",
              "      <td>3.6</td>\n",
              "      <td>a</td>\n",
              "    </tr>\n",
              "    <tr>\n",
              "      <th>3</th>\n",
              "      <td>4</td>\n",
              "      <td>-4.10</td>\n",
              "      <td>1.3</td>\n",
              "      <td>a</td>\n",
              "    </tr>\n",
              "    <tr>\n",
              "      <th>4</th>\n",
              "      <td>5</td>\n",
              "      <td>0.00</td>\n",
              "      <td>-2.0</td>\n",
              "      <td>b</td>\n",
              "    </tr>\n",
              "  </tbody>\n",
              "</table>\n",
              "</div>"
            ],
            "text/plain": [
              "   x0    x1    y category\n",
              "0   1  0.01 -1.5        a\n",
              "1   2 -0.01  0.0        b\n",
              "2   3  0.25  3.6        a\n",
              "3   4 -4.10  1.3        a\n",
              "4   5  0.00 -2.0        b"
            ]
          },
          "metadata": {
            "tags": []
          },
          "execution_count": 17
        }
      ]
    },
    {
      "cell_type": "markdown",
      "metadata": {
        "id": "x6jgH9ITZ6CI"
      },
      "source": [
        "If we wanted to replace the 'category' column with dummy variables, we create dummy variables, drop the 'category' column, and then join the result:"
      ]
    },
    {
      "cell_type": "code",
      "metadata": {
        "id": "7juHGHMCZGe7"
      },
      "source": [
        "dummies = pd.get_dummies(data.category, prefix = 'category')"
      ],
      "execution_count": null,
      "outputs": []
    },
    {
      "cell_type": "code",
      "metadata": {
        "id": "aLuuyKdWZGiF"
      },
      "source": [
        "data_with_dummies = data.drop('category', axis = 1).join(dummies)"
      ],
      "execution_count": null,
      "outputs": []
    },
    {
      "cell_type": "code",
      "metadata": {
        "colab": {
          "base_uri": "https://localhost:8080/",
          "height": 204
        },
        "id": "Ls3wGgohZGl4",
        "outputId": "91c9fa2f-5407-4e89-f48e-20244c652ccd"
      },
      "source": [
        "data_with_dummies"
      ],
      "execution_count": null,
      "outputs": [
        {
          "output_type": "execute_result",
          "data": {
            "text/html": [
              "<div>\n",
              "<style scoped>\n",
              "    .dataframe tbody tr th:only-of-type {\n",
              "        vertical-align: middle;\n",
              "    }\n",
              "\n",
              "    .dataframe tbody tr th {\n",
              "        vertical-align: top;\n",
              "    }\n",
              "\n",
              "    .dataframe thead th {\n",
              "        text-align: right;\n",
              "    }\n",
              "</style>\n",
              "<table border=\"1\" class=\"dataframe\">\n",
              "  <thead>\n",
              "    <tr style=\"text-align: right;\">\n",
              "      <th></th>\n",
              "      <th>x0</th>\n",
              "      <th>x1</th>\n",
              "      <th>y</th>\n",
              "      <th>category_a</th>\n",
              "      <th>category_b</th>\n",
              "    </tr>\n",
              "  </thead>\n",
              "  <tbody>\n",
              "    <tr>\n",
              "      <th>0</th>\n",
              "      <td>1</td>\n",
              "      <td>0.01</td>\n",
              "      <td>-1.5</td>\n",
              "      <td>1</td>\n",
              "      <td>0</td>\n",
              "    </tr>\n",
              "    <tr>\n",
              "      <th>1</th>\n",
              "      <td>2</td>\n",
              "      <td>-0.01</td>\n",
              "      <td>0.0</td>\n",
              "      <td>0</td>\n",
              "      <td>1</td>\n",
              "    </tr>\n",
              "    <tr>\n",
              "      <th>2</th>\n",
              "      <td>3</td>\n",
              "      <td>0.25</td>\n",
              "      <td>3.6</td>\n",
              "      <td>1</td>\n",
              "      <td>0</td>\n",
              "    </tr>\n",
              "    <tr>\n",
              "      <th>3</th>\n",
              "      <td>4</td>\n",
              "      <td>-4.10</td>\n",
              "      <td>1.3</td>\n",
              "      <td>1</td>\n",
              "      <td>0</td>\n",
              "    </tr>\n",
              "    <tr>\n",
              "      <th>4</th>\n",
              "      <td>5</td>\n",
              "      <td>0.00</td>\n",
              "      <td>-2.0</td>\n",
              "      <td>0</td>\n",
              "      <td>1</td>\n",
              "    </tr>\n",
              "  </tbody>\n",
              "</table>\n",
              "</div>"
            ],
            "text/plain": [
              "   x0    x1    y  category_a  category_b\n",
              "0   1  0.01 -1.5           1           0\n",
              "1   2 -0.01  0.0           0           1\n",
              "2   3  0.25  3.6           1           0\n",
              "3   4 -4.10  1.3           1           0\n",
              "4   5  0.00 -2.0           0           1"
            ]
          },
          "metadata": {
            "tags": []
          },
          "execution_count": 21
        }
      ]
    },
    {
      "cell_type": "markdown",
      "metadata": {
        "id": "RWeAVAdYaQuY"
      },
      "source": [
        "# 13.2 Creating Model Descriptions with Patsy"
      ]
    },
    {
      "cell_type": "markdown",
      "metadata": {
        "id": "njD6AdjvaVu0"
      },
      "source": [
        "**Patsy** is a Python library for **describing statistical models (especially linear models) with a small string-based “formula syntax,”** which is inspired by (but not exactly the same as) the formula syntax used by the R and S statistical programming languages.\n"
      ]
    },
    {
      "cell_type": "markdown",
      "metadata": {
        "id": "wEkgPy8kaoWJ"
      },
      "source": [
        "Patsy is well supported for specifying linear models in statsmodels. Pasty's formulas are a special string syntax that looks like:\n",
        " $$ y \\sim x_0 + x_1 $$"
      ]
    },
    {
      "cell_type": "markdown",
      "metadata": {
        "id": "1yBADARdeA7E"
      },
      "source": [
        "The syntax a + b does not mean to add a to b, but rather that these are **terms in the design matrix created for the model**. The patsy.dmatrices function takes a formula string along with a dataset (which can be a DataFrame or a dict of arrays) and produces design matrices for a linear model:"
      ]
    },
    {
      "cell_type": "code",
      "metadata": {
        "id": "TgiUiijIeBPp"
      },
      "source": [
        "data = pd.DataFrame({'x0' : [1, 2, 3, 4, 5],\n",
        "                     'x1' : [0.01, -0.01, 0.25, -4.1, 0.],\n",
        "                     'y' : [-1.5, 0., 3.6, 1.3, -2.]})"
      ],
      "execution_count": null,
      "outputs": []
    },
    {
      "cell_type": "code",
      "metadata": {
        "colab": {
          "base_uri": "https://localhost:8080/",
          "height": 204
        },
        "id": "N4zsZ8EueBSk",
        "outputId": "761194a8-9ece-4e13-8908-6915dc58ef0c"
      },
      "source": [
        "data"
      ],
      "execution_count": null,
      "outputs": [
        {
          "output_type": "execute_result",
          "data": {
            "text/html": [
              "<div>\n",
              "<style scoped>\n",
              "    .dataframe tbody tr th:only-of-type {\n",
              "        vertical-align: middle;\n",
              "    }\n",
              "\n",
              "    .dataframe tbody tr th {\n",
              "        vertical-align: top;\n",
              "    }\n",
              "\n",
              "    .dataframe thead th {\n",
              "        text-align: right;\n",
              "    }\n",
              "</style>\n",
              "<table border=\"1\" class=\"dataframe\">\n",
              "  <thead>\n",
              "    <tr style=\"text-align: right;\">\n",
              "      <th></th>\n",
              "      <th>x0</th>\n",
              "      <th>x1</th>\n",
              "      <th>y</th>\n",
              "    </tr>\n",
              "  </thead>\n",
              "  <tbody>\n",
              "    <tr>\n",
              "      <th>0</th>\n",
              "      <td>1</td>\n",
              "      <td>0.01</td>\n",
              "      <td>-1.5</td>\n",
              "    </tr>\n",
              "    <tr>\n",
              "      <th>1</th>\n",
              "      <td>2</td>\n",
              "      <td>-0.01</td>\n",
              "      <td>0.0</td>\n",
              "    </tr>\n",
              "    <tr>\n",
              "      <th>2</th>\n",
              "      <td>3</td>\n",
              "      <td>0.25</td>\n",
              "      <td>3.6</td>\n",
              "    </tr>\n",
              "    <tr>\n",
              "      <th>3</th>\n",
              "      <td>4</td>\n",
              "      <td>-4.10</td>\n",
              "      <td>1.3</td>\n",
              "    </tr>\n",
              "    <tr>\n",
              "      <th>4</th>\n",
              "      <td>5</td>\n",
              "      <td>0.00</td>\n",
              "      <td>-2.0</td>\n",
              "    </tr>\n",
              "  </tbody>\n",
              "</table>\n",
              "</div>"
            ],
            "text/plain": [
              "   x0    x1    y\n",
              "0   1  0.01 -1.5\n",
              "1   2 -0.01  0.0\n",
              "2   3  0.25  3.6\n",
              "3   4 -4.10  1.3\n",
              "4   5  0.00 -2.0"
            ]
          },
          "metadata": {
            "tags": []
          },
          "execution_count": 23
        }
      ]
    },
    {
      "cell_type": "code",
      "metadata": {
        "id": "iq0UOf1MeBVj"
      },
      "source": [
        "import patsy"
      ],
      "execution_count": null,
      "outputs": []
    },
    {
      "cell_type": "code",
      "metadata": {
        "id": "sDbDQw2feBbE"
      },
      "source": [
        "y, X = patsy.dmatrices('y ~ x0 + x1', data)"
      ],
      "execution_count": null,
      "outputs": []
    },
    {
      "cell_type": "code",
      "metadata": {
        "colab": {
          "base_uri": "https://localhost:8080/"
        },
        "id": "WJfJBJ1GeBd4",
        "outputId": "d792af5c-5010-4d4c-922b-1df7a4a639d4"
      },
      "source": [
        "y"
      ],
      "execution_count": null,
      "outputs": [
        {
          "output_type": "execute_result",
          "data": {
            "text/plain": [
              "DesignMatrix with shape (5, 1)\n",
              "     y\n",
              "  -1.5\n",
              "   0.0\n",
              "   3.6\n",
              "   1.3\n",
              "  -2.0\n",
              "  Terms:\n",
              "    'y' (column 0)"
            ]
          },
          "metadata": {
            "tags": []
          },
          "execution_count": 26
        }
      ]
    },
    {
      "cell_type": "code",
      "metadata": {
        "colab": {
          "base_uri": "https://localhost:8080/"
        },
        "id": "R7TosFFkZGqv",
        "outputId": "b0f3dc22-487d-4921-bfc5-21b23c2a210b"
      },
      "source": [
        "X"
      ],
      "execution_count": null,
      "outputs": [
        {
          "output_type": "execute_result",
          "data": {
            "text/plain": [
              "DesignMatrix with shape (5, 3)\n",
              "  Intercept  x0     x1\n",
              "          1   1   0.01\n",
              "          1   2  -0.01\n",
              "          1   3   0.25\n",
              "          1   4  -4.10\n",
              "          1   5   0.00\n",
              "  Terms:\n",
              "    'Intercept' (column 0)\n",
              "    'x0' (column 1)\n",
              "    'x1' (column 2)"
            ]
          },
          "metadata": {
            "tags": []
          },
          "execution_count": 28
        }
      ]
    },
    {
      "cell_type": "markdown",
      "metadata": {
        "id": "4FwCfEzoekUw"
      },
      "source": [
        "These Patsy DesignMatrix instances are NumPy ndarrays with additional metadata:"
      ]
    },
    {
      "cell_type": "code",
      "metadata": {
        "colab": {
          "base_uri": "https://localhost:8080/"
        },
        "id": "YDzZemBUZGtk",
        "outputId": "dd0cd383-0554-415d-9b4c-d8b48ffb21eb"
      },
      "source": [
        "np.asarray(y)"
      ],
      "execution_count": null,
      "outputs": [
        {
          "output_type": "execute_result",
          "data": {
            "text/plain": [
              "array([[-1.5],\n",
              "       [ 0. ],\n",
              "       [ 3.6],\n",
              "       [ 1.3],\n",
              "       [-2. ]])"
            ]
          },
          "metadata": {
            "tags": []
          },
          "execution_count": 30
        }
      ]
    },
    {
      "cell_type": "code",
      "metadata": {
        "colab": {
          "base_uri": "https://localhost:8080/"
        },
        "id": "nkHL7EKUYrRd",
        "outputId": "1ceddde4-20ac-4df5-ea4a-3a7dd479a927"
      },
      "source": [
        "np.asarray(X)"
      ],
      "execution_count": null,
      "outputs": [
        {
          "output_type": "execute_result",
          "data": {
            "text/plain": [
              "array([[ 1.  ,  1.  ,  0.01],\n",
              "       [ 1.  ,  2.  , -0.01],\n",
              "       [ 1.  ,  3.  ,  0.25],\n",
              "       [ 1.  ,  4.  , -4.1 ],\n",
              "       [ 1.  ,  5.  ,  0.  ]])"
            ]
          },
          "metadata": {
            "tags": []
          },
          "execution_count": 31
        }
      ]
    },
    {
      "cell_type": "markdown",
      "metadata": {
        "id": "jwdiwQZIe0HN"
      },
      "source": [
        "**Intercept term came fro the convention for linear models like ordinary least squares (OLS) regression**. You can suppress the intercept by adding the **term + 0** to the model:"
      ]
    },
    {
      "cell_type": "code",
      "metadata": {
        "colab": {
          "base_uri": "https://localhost:8080/"
        },
        "id": "14Anb22SYrUB",
        "outputId": "655c391b-b96f-4dd9-a2ad-248f1307446c"
      },
      "source": [
        "patsy.dmatrices('y ~ x0 + x1 + 0', data)"
      ],
      "execution_count": null,
      "outputs": [
        {
          "output_type": "execute_result",
          "data": {
            "text/plain": [
              "(DesignMatrix with shape (5, 1)\n",
              "      y\n",
              "   -1.5\n",
              "    0.0\n",
              "    3.6\n",
              "    1.3\n",
              "   -2.0\n",
              "   Terms:\n",
              "     'y' (column 0),\n",
              " DesignMatrix with shape (5, 2)\n",
              "   x0     x1\n",
              "    1   0.01\n",
              "    2  -0.01\n",
              "    3   0.25\n",
              "    4  -4.10\n",
              "    5   0.00\n",
              "   Terms:\n",
              "     'x0' (column 0)\n",
              "     'x1' (column 1))"
            ]
          },
          "metadata": {
            "tags": []
          },
          "execution_count": 32
        }
      ]
    },
    {
      "cell_type": "markdown",
      "metadata": {
        "id": "iu3g8xmAfFta"
      },
      "source": [
        "The Patsy objects can be passed directly into algorithms like **numpy.linalg.lstsq, which performs an ordinary least squares regression:**"
      ]
    },
    {
      "cell_type": "code",
      "metadata": {
        "colab": {
          "base_uri": "https://localhost:8080/"
        },
        "id": "fLcqWYtNYrW4",
        "outputId": "8a487f5b-1238-488d-84e2-7eedbbbbc821"
      },
      "source": [
        "# Return the least-squares solution to a linear matrix equation.\n",
        "coef, resid, _, _ = np.linalg.lstsq(X, y) # what does _ means here"
      ],
      "execution_count": null,
      "outputs": [
        {
          "output_type": "stream",
          "text": [
            "/usr/local/lib/python3.6/dist-packages/ipykernel_launcher.py:2: FutureWarning: `rcond` parameter will change to the default of machine precision times ``max(M, N)`` where M and N are the input matrix dimensions.\n",
            "To use the future default and silence this warning we advise to pass `rcond=None`, to keep using the old, explicitly pass `rcond=-1`.\n",
            "  \n"
          ],
          "name": "stderr"
        }
      ]
    },
    {
      "cell_type": "code",
      "metadata": {
        "colab": {
          "base_uri": "https://localhost:8080/"
        },
        "id": "KyoTh0VhYrZe",
        "outputId": "96528e5e-4fb0-4061-fa96-8b8b9087bef4"
      },
      "source": [
        "coef"
      ],
      "execution_count": null,
      "outputs": [
        {
          "output_type": "execute_result",
          "data": {
            "text/plain": [
              "array([[ 0.31290976],\n",
              "       [-0.07910564],\n",
              "       [-0.26546384]])"
            ]
          },
          "metadata": {
            "tags": []
          },
          "execution_count": 38
        }
      ]
    },
    {
      "cell_type": "code",
      "metadata": {
        "id": "iT3osScYYrce"
      },
      "source": [
        "# a.squeeze()->remove single-dimensional entries from the shape of 'a'\n",
        "coef = pd.Series(coef.squeeze(), index = X.design_info.column_names)"
      ],
      "execution_count": null,
      "outputs": []
    },
    {
      "cell_type": "code",
      "metadata": {
        "colab": {
          "base_uri": "https://localhost:8080/"
        },
        "id": "Ypd8y4dxYrfW",
        "outputId": "5b482ab0-693c-49b3-e657-e9cea5ed7fea"
      },
      "source": [
        "coef"
      ],
      "execution_count": null,
      "outputs": [
        {
          "output_type": "execute_result",
          "data": {
            "text/plain": [
              "Intercept    0.312910\n",
              "x0          -0.079106\n",
              "x1          -0.265464\n",
              "dtype: float64"
            ]
          },
          "metadata": {
            "tags": []
          },
          "execution_count": 40
        }
      ]
    },
    {
      "cell_type": "markdown",
      "metadata": {
        "id": "_lYv7OeOkvs7"
      },
      "source": [
        "## Data Transformations in Patsy Formulas"
      ]
    },
    {
      "cell_type": "markdown",
      "metadata": {
        "id": "Jz-pwAxEk3Aj"
      },
      "source": [
        "We can mix python code into Patsy formulas, when evaluating the formula the library will try to find the functions you use in the enclosing scope"
      ]
    },
    {
      "cell_type": "code",
      "metadata": {
        "id": "jk2hqGQCYriK"
      },
      "source": [
        "y, X = patsy.dmatrices('y ~ x0 + np.log(np.abs(x1) + 1)', data)"
      ],
      "execution_count": null,
      "outputs": []
    },
    {
      "cell_type": "code",
      "metadata": {
        "colab": {
          "base_uri": "https://localhost:8080/"
        },
        "id": "TETKcZDCYrkW",
        "outputId": "30083d3e-3c3b-41ca-f2ac-508d7526ee6d"
      },
      "source": [
        "X"
      ],
      "execution_count": null,
      "outputs": [
        {
          "output_type": "execute_result",
          "data": {
            "text/plain": [
              "DesignMatrix with shape (5, 3)\n",
              "  Intercept  x0  np.log(np.abs(x1) + 1)\n",
              "          1   1                 0.00995\n",
              "          1   2                 0.00995\n",
              "          1   3                 0.22314\n",
              "          1   4                 1.62924\n",
              "          1   5                 0.00000\n",
              "  Terms:\n",
              "    'Intercept' (column 0)\n",
              "    'x0' (column 1)\n",
              "    'np.log(np.abs(x1) + 1)' (column 2)"
            ]
          },
          "metadata": {
            "tags": []
          },
          "execution_count": 42
        }
      ]
    },
    {
      "cell_type": "markdown",
      "metadata": {
        "id": "L-oQuyidlRNE"
      },
      "source": [
        "Some commonly used variable transformations include **standardizing (to mean 0 and variance 1) and centering (subtracting the mean)**. Patsy has built-in functions for this purpose:"
      ]
    },
    {
      "cell_type": "code",
      "metadata": {
        "id": "NIVxnFdxYrmp"
      },
      "source": [
        "y, X = patsy.dmatrices('y ~ standardize(x0) + center(x1)', data)"
      ],
      "execution_count": null,
      "outputs": []
    },
    {
      "cell_type": "code",
      "metadata": {
        "colab": {
          "base_uri": "https://localhost:8080/"
        },
        "id": "b-TFKatHYrpY",
        "outputId": "3fda04e6-0e22-4598-a575-5729e56d50f1"
      },
      "source": [
        "X"
      ],
      "execution_count": null,
      "outputs": [
        {
          "output_type": "execute_result",
          "data": {
            "text/plain": [
              "DesignMatrix with shape (5, 3)\n",
              "  Intercept  standardize(x0)  center(x1)\n",
              "          1         -1.41421        0.78\n",
              "          1         -0.70711        0.76\n",
              "          1          0.00000        1.02\n",
              "          1          0.70711       -3.33\n",
              "          1          1.41421        0.77\n",
              "  Terms:\n",
              "    'Intercept' (column 0)\n",
              "    'standardize(x0)' (column 1)\n",
              "    'center(x1)' (column 2)"
            ]
          },
          "metadata": {
            "tags": []
          },
          "execution_count": 44
        }
      ]
    },
    {
      "cell_type": "markdown",
      "metadata": {
        "id": "mt8COeYBlq1X"
      },
      "source": [
        "The **patsy.build_design_matrices** function can **apply transformations to new out-of-sample data using the saved information from the original in-sample dataset:**"
      ]
    },
    {
      "cell_type": "code",
      "metadata": {
        "id": "Ol90jv05Yrrt"
      },
      "source": [
        "new_data = pd.DataFrame({\n",
        "    'x0' : [6, 7,8, 9],\n",
        "    'x1' : [3.1, -0.5, 0, 2.3],\n",
        "    'y' : [1, 2, 3, 4]\n",
        "})"
      ],
      "execution_count": null,
      "outputs": []
    },
    {
      "cell_type": "code",
      "metadata": {
        "id": "4zdWPS_jYrub"
      },
      "source": [
        "# pass the deisgn_info of X to new_X\n",
        "new_X = patsy.build_design_matrices([X.design_info], new_data)"
      ],
      "execution_count": null,
      "outputs": []
    },
    {
      "cell_type": "code",
      "metadata": {
        "colab": {
          "base_uri": "https://localhost:8080/"
        },
        "id": "WRSbx6aOYrxl",
        "outputId": "b3bba988-328f-4c54-f405-be1e158a249f"
      },
      "source": [
        "new_X"
      ],
      "execution_count": null,
      "outputs": [
        {
          "output_type": "execute_result",
          "data": {
            "text/plain": [
              "[DesignMatrix with shape (4, 3)\n",
              "   Intercept  standardize(x0)  center(x1)\n",
              "           1          2.12132        3.87\n",
              "           1          2.82843        0.27\n",
              "           1          3.53553        0.77\n",
              "           1          4.24264        3.07\n",
              "   Terms:\n",
              "     'Intercept' (column 0)\n",
              "     'standardize(x0)' (column 1)\n",
              "     'center(x1)' (column 2)]"
            ]
          },
          "metadata": {
            "tags": []
          },
          "execution_count": 49
        }
      ]
    },
    {
      "cell_type": "markdown",
      "metadata": {
        "id": "B465QAr0mm5h"
      },
      "source": [
        "Because the plus symbol (+) in the context of Patsy formulas does not mean addition, when you want to add columns from a dataset by name, you must wrap them in the special I function:"
      ]
    },
    {
      "cell_type": "code",
      "metadata": {
        "id": "0zbsC1iOYrz5"
      },
      "source": [
        "y, X = patsy.dmatrices('y ~ I(x0 + x1)', data)"
      ],
      "execution_count": null,
      "outputs": []
    },
    {
      "cell_type": "code",
      "metadata": {
        "colab": {
          "base_uri": "https://localhost:8080/"
        },
        "id": "rrq1I-r5Yr2t",
        "outputId": "ed63b41c-bada-41b6-fc64-536beea23bef"
      },
      "source": [
        "X"
      ],
      "execution_count": null,
      "outputs": [
        {
          "output_type": "execute_result",
          "data": {
            "text/plain": [
              "DesignMatrix with shape (5, 2)\n",
              "  Intercept  I(x0 + x1)\n",
              "          1        1.01\n",
              "          1        1.99\n",
              "          1        3.25\n",
              "          1       -0.10\n",
              "          1        5.00\n",
              "  Terms:\n",
              "    'Intercept' (column 0)\n",
              "    'I(x0 + x1)' (column 1)"
            ]
          },
          "metadata": {
            "tags": []
          },
          "execution_count": 51
        }
      ]
    },
    {
      "cell_type": "markdown",
      "metadata": {
        "id": "3sPwNNxSm2xd"
      },
      "source": [
        "Patsy has several other built-in transforms in the **patsy.builtins** module. See the online documentation for more."
      ]
    },
    {
      "cell_type": "markdown",
      "metadata": {
        "id": "UuzOrZgFm6hF"
      },
      "source": [
        "## Categorical Data and Patsy"
      ]
    },
    {
      "cell_type": "markdown",
      "metadata": {
        "id": "XvejtHo2m04g"
      },
      "source": [
        "When you use non-numeric terms in a Patsy formula, they are converted to dummy variables by default. If there is an intercept, one of the levels will be left out to avoid collinearity:"
      ]
    },
    {
      "cell_type": "code",
      "metadata": {
        "id": "7cWBZ_nOm4z7"
      },
      "source": [
        "data = pd.DataFrame({\n",
        "    'key1' : ['a', 'a', 'b', 'b', 'a', 'b', 'a', 'b'],\n",
        "    'key2' : [0, 1, 0, 1, 0, 1, 0, 0],\n",
        "    'v1' : [1, 2, 3, 4, 5, 6, 7, 8],\n",
        "    'v2' : [-1, 0, 2.5, -0.5, 4.0, -1.2, 0.2, -1.7]\n",
        "})"
      ],
      "execution_count": null,
      "outputs": []
    },
    {
      "cell_type": "code",
      "metadata": {
        "id": "Y4zoG4NLm43A"
      },
      "source": [
        "y, X = patsy.dmatrices('v2 ~ key1', data)"
      ],
      "execution_count": null,
      "outputs": []
    },
    {
      "cell_type": "code",
      "metadata": {
        "id": "HKlCs9yVm45Y",
        "colab": {
          "base_uri": "https://localhost:8080/"
        },
        "outputId": "29ea5ecb-1f73-49da-bdfc-b51f1f72093a"
      },
      "source": [
        "X # only 1 level in key 1, because we have intercept here"
      ],
      "execution_count": null,
      "outputs": [
        {
          "output_type": "execute_result",
          "data": {
            "text/plain": [
              "DesignMatrix with shape (8, 2)\n",
              "  Intercept  key1[T.b]\n",
              "          1          0\n",
              "          1          0\n",
              "          1          1\n",
              "          1          1\n",
              "          1          0\n",
              "          1          1\n",
              "          1          0\n",
              "          1          1\n",
              "  Terms:\n",
              "    'Intercept' (column 0)\n",
              "    'key1' (column 1)"
            ]
          },
          "metadata": {
            "tags": []
          },
          "execution_count": 56
        }
      ]
    },
    {
      "cell_type": "markdown",
      "metadata": {
        "id": "rBiCWJFOohh3"
      },
      "source": [
        "If you omit the intercept from the model, then columns for each category value will be included in the model design matrix:"
      ]
    },
    {
      "cell_type": "code",
      "metadata": {
        "id": "d3ImdVLGqNvf"
      },
      "source": [
        "y, X = patsy.dmatrices('v2 ~ key1 + 0', data)"
      ],
      "execution_count": null,
      "outputs": []
    },
    {
      "cell_type": "code",
      "metadata": {
        "colab": {
          "base_uri": "https://localhost:8080/"
        },
        "id": "EHBHp2PdqbWO",
        "outputId": "1115ad7c-3db6-4982-b101-7b02dc6c3f25"
      },
      "source": [
        "X # we have 2 dummies now because we don't have intercept here"
      ],
      "execution_count": null,
      "outputs": [
        {
          "output_type": "execute_result",
          "data": {
            "text/plain": [
              "DesignMatrix with shape (8, 2)\n",
              "  key1[a]  key1[b]\n",
              "        1        0\n",
              "        1        0\n",
              "        0        1\n",
              "        0        1\n",
              "        1        0\n",
              "        0        1\n",
              "        1        0\n",
              "        0        1\n",
              "  Terms:\n",
              "    'key1' (columns 0:2)"
            ]
          },
          "metadata": {
            "tags": []
          },
          "execution_count": 59
        }
      ]
    },
    {
      "cell_type": "markdown",
      "metadata": {
        "id": "lb3hh4Qqqteh"
      },
      "source": [
        "Numeric columns can be interpreted as categorical with C function"
      ]
    },
    {
      "cell_type": "code",
      "metadata": {
        "id": "jYRBdJOCqbda"
      },
      "source": [
        "y, X = patsy.dmatrices('v2 ~ C(key2)', data)"
      ],
      "execution_count": null,
      "outputs": []
    },
    {
      "cell_type": "code",
      "metadata": {
        "colab": {
          "base_uri": "https://localhost:8080/"
        },
        "id": "-6yu80NvqShi",
        "outputId": "aad3daa7-d3fa-45c0-f65f-bd5355dc09ab"
      },
      "source": [
        "X"
      ],
      "execution_count": null,
      "outputs": [
        {
          "output_type": "execute_result",
          "data": {
            "text/plain": [
              "DesignMatrix with shape (8, 2)\n",
              "  Intercept  C(key2)[T.1]\n",
              "          1             0\n",
              "          1             1\n",
              "          1             0\n",
              "          1             1\n",
              "          1             0\n",
              "          1             1\n",
              "          1             0\n",
              "          1             0\n",
              "  Terms:\n",
              "    'Intercept' (column 0)\n",
              "    'C(key2)' (column 1)"
            ]
          },
          "metadata": {
            "tags": []
          },
          "execution_count": 61
        }
      ]
    },
    {
      "cell_type": "markdown",
      "metadata": {
        "id": "BW2esQodq_MM"
      },
      "source": [
        "When you’re using multiple categorical terms in a model, things can be more complicated, as you can **include interaction terms of the form key1:key2**, which can be used, for example, **in analysis of variance (ANOVA) models**:"
      ]
    },
    {
      "cell_type": "code",
      "metadata": {
        "id": "7JpMUhUPqRZK"
      },
      "source": [
        "data['key2'] = data['key2'].map({0: 'zero', 1: 'one'})"
      ],
      "execution_count": null,
      "outputs": []
    },
    {
      "cell_type": "code",
      "metadata": {
        "colab": {
          "base_uri": "https://localhost:8080/",
          "height": 297
        },
        "id": "i7UTzggLqNx5",
        "outputId": "8de88cc0-ca42-482c-f10c-af68d4b62e99"
      },
      "source": [
        "data"
      ],
      "execution_count": null,
      "outputs": [
        {
          "output_type": "execute_result",
          "data": {
            "text/html": [
              "<div>\n",
              "<style scoped>\n",
              "    .dataframe tbody tr th:only-of-type {\n",
              "        vertical-align: middle;\n",
              "    }\n",
              "\n",
              "    .dataframe tbody tr th {\n",
              "        vertical-align: top;\n",
              "    }\n",
              "\n",
              "    .dataframe thead th {\n",
              "        text-align: right;\n",
              "    }\n",
              "</style>\n",
              "<table border=\"1\" class=\"dataframe\">\n",
              "  <thead>\n",
              "    <tr style=\"text-align: right;\">\n",
              "      <th></th>\n",
              "      <th>key1</th>\n",
              "      <th>key2</th>\n",
              "      <th>v1</th>\n",
              "      <th>v2</th>\n",
              "    </tr>\n",
              "  </thead>\n",
              "  <tbody>\n",
              "    <tr>\n",
              "      <th>0</th>\n",
              "      <td>a</td>\n",
              "      <td>zero</td>\n",
              "      <td>1</td>\n",
              "      <td>-1.0</td>\n",
              "    </tr>\n",
              "    <tr>\n",
              "      <th>1</th>\n",
              "      <td>a</td>\n",
              "      <td>one</td>\n",
              "      <td>2</td>\n",
              "      <td>0.0</td>\n",
              "    </tr>\n",
              "    <tr>\n",
              "      <th>2</th>\n",
              "      <td>b</td>\n",
              "      <td>zero</td>\n",
              "      <td>3</td>\n",
              "      <td>2.5</td>\n",
              "    </tr>\n",
              "    <tr>\n",
              "      <th>3</th>\n",
              "      <td>b</td>\n",
              "      <td>one</td>\n",
              "      <td>4</td>\n",
              "      <td>-0.5</td>\n",
              "    </tr>\n",
              "    <tr>\n",
              "      <th>4</th>\n",
              "      <td>a</td>\n",
              "      <td>zero</td>\n",
              "      <td>5</td>\n",
              "      <td>4.0</td>\n",
              "    </tr>\n",
              "    <tr>\n",
              "      <th>5</th>\n",
              "      <td>b</td>\n",
              "      <td>one</td>\n",
              "      <td>6</td>\n",
              "      <td>-1.2</td>\n",
              "    </tr>\n",
              "    <tr>\n",
              "      <th>6</th>\n",
              "      <td>a</td>\n",
              "      <td>zero</td>\n",
              "      <td>7</td>\n",
              "      <td>0.2</td>\n",
              "    </tr>\n",
              "    <tr>\n",
              "      <th>7</th>\n",
              "      <td>b</td>\n",
              "      <td>zero</td>\n",
              "      <td>8</td>\n",
              "      <td>-1.7</td>\n",
              "    </tr>\n",
              "  </tbody>\n",
              "</table>\n",
              "</div>"
            ],
            "text/plain": [
              "  key1  key2  v1   v2\n",
              "0    a  zero   1 -1.0\n",
              "1    a   one   2  0.0\n",
              "2    b  zero   3  2.5\n",
              "3    b   one   4 -0.5\n",
              "4    a  zero   5  4.0\n",
              "5    b   one   6 -1.2\n",
              "6    a  zero   7  0.2\n",
              "7    b  zero   8 -1.7"
            ]
          },
          "metadata": {
            "tags": []
          },
          "execution_count": 63
        }
      ]
    },
    {
      "cell_type": "code",
      "metadata": {
        "id": "5kpvfIljqN0i"
      },
      "source": [
        "y, X = patsy.dmatrices('v2 ~ key1 + key2', data)"
      ],
      "execution_count": null,
      "outputs": []
    },
    {
      "cell_type": "code",
      "metadata": {
        "colab": {
          "base_uri": "https://localhost:8080/"
        },
        "id": "FSh-gtJQqN2n",
        "outputId": "9ccb0266-77a9-4e94-bfaa-92287349a34b"
      },
      "source": [
        "X"
      ],
      "execution_count": null,
      "outputs": [
        {
          "output_type": "execute_result",
          "data": {
            "text/plain": [
              "DesignMatrix with shape (8, 3)\n",
              "  Intercept  key1[T.b]  key2[T.zero]\n",
              "          1          0             1\n",
              "          1          0             0\n",
              "          1          1             1\n",
              "          1          1             0\n",
              "          1          0             1\n",
              "          1          1             0\n",
              "          1          0             1\n",
              "          1          1             1\n",
              "  Terms:\n",
              "    'Intercept' (column 0)\n",
              "    'key1' (column 1)\n",
              "    'key2' (column 2)"
            ]
          },
          "metadata": {
            "tags": []
          },
          "execution_count": 65
        }
      ]
    },
    {
      "cell_type": "code",
      "metadata": {
        "id": "UVyEDY8OqN5-"
      },
      "source": [
        "y, X = patsy.dmatrices('v2 ~ key1 + key2 + key1:key2', data)"
      ],
      "execution_count": null,
      "outputs": []
    },
    {
      "cell_type": "code",
      "metadata": {
        "colab": {
          "base_uri": "https://localhost:8080/"
        },
        "id": "xMhxuD42qN9l",
        "outputId": "6c850b3f-7901-425e-f5a4-c807c0d8edd2"
      },
      "source": [
        "X"
      ],
      "execution_count": null,
      "outputs": [
        {
          "output_type": "execute_result",
          "data": {
            "text/plain": [
              "DesignMatrix with shape (8, 4)\n",
              "  Intercept  key1[T.b]  key2[T.zero]  key1[T.b]:key2[T.zero]\n",
              "          1          0             1                       0\n",
              "          1          0             0                       0\n",
              "          1          1             1                       1\n",
              "          1          1             0                       0\n",
              "          1          0             1                       0\n",
              "          1          1             0                       0\n",
              "          1          0             1                       0\n",
              "          1          1             1                       1\n",
              "  Terms:\n",
              "    'Intercept' (column 0)\n",
              "    'key1' (column 1)\n",
              "    'key2' (column 2)\n",
              "    'key1:key2' (column 3)"
            ]
          },
          "metadata": {
            "tags": []
          },
          "execution_count": 67
        }
      ]
    },
    {
      "cell_type": "markdown",
      "metadata": {
        "id": "c215EEhBrnY8"
      },
      "source": [
        "# 13.3 Introduction to statsmodels"
      ]
    },
    {
      "cell_type": "markdown",
      "metadata": {
        "id": "JMpbTGxlr5Dl"
      },
      "source": [
        "**statsmodels** is a Python library for **fitting many kinds of statistical models, performing statistical tests, and data exploration and visualization**. \n",
        "\n",
        "Statsmodels contains more “classical” frequentist statistical methods, while Bayesian methods and machine learning models are found in other libraries.\n",
        "Some kinds of models found in statsmodels include:\n",
        "* Linear models, generalized linear models, and robust linear models\n",
        "* Linear mixed effects models\n",
        "* Analysis of variance (ANOVA) methods\n",
        "* Time series processes and state space models\n",
        "* Generalized method of moments"
      ]
    },
    {
      "cell_type": "markdown",
      "metadata": {
        "id": "iEE9-e5DsM0u"
      },
      "source": [
        "## Estimating Linear Models"
      ]
    },
    {
      "cell_type": "markdown",
      "metadata": {
        "id": "MfmMGLabsvya"
      },
      "source": [
        "Linear models in statsmodels have two different main interfaces: **array-based and formula-based.** These are accessed through these API module imports:"
      ]
    },
    {
      "cell_type": "code",
      "metadata": {
        "id": "q_nH73wuqN-7"
      },
      "source": [
        "import statsmodels.api as sm\n",
        "import statsmodels.formula.api as smf"
      ],
      "execution_count": null,
      "outputs": []
    },
    {
      "cell_type": "code",
      "metadata": {
        "id": "c0oQInCOqN_3"
      },
      "source": [
        "# generate a linear model from some random data\n",
        "def dnorm(mean, variance, size = 1):\n",
        "  if isinstance(size, int):\n",
        "    size = size,\n",
        "  return mean + np.sqrt(variance) * np.random.randn(*size)"
      ],
      "execution_count": null,
      "outputs": []
    },
    {
      "cell_type": "code",
      "metadata": {
        "id": "GXQR3GYrphrk"
      },
      "source": [
        "np.random.seed(12345)"
      ],
      "execution_count": null,
      "outputs": []
    },
    {
      "cell_type": "code",
      "metadata": {
        "id": "I3iUWl2hphvA"
      },
      "source": [
        "N = 100\n",
        "X = np.c_[dnorm(0, 0.4, size = N),\n",
        "          dnorm(0, 0.6, size = N),\n",
        "          dnorm(0, 0.2, size = N)]\n",
        "eps = dnorm(0, 0.1, size = N)\n",
        "beta = [0.1, 0.3, 0.5]"
      ],
      "execution_count": null,
      "outputs": []
    },
    {
      "cell_type": "code",
      "metadata": {
        "id": "1uM6QNtTphy2"
      },
      "source": [
        "y = np.dot(X, beta) + eps"
      ],
      "execution_count": null,
      "outputs": []
    },
    {
      "cell_type": "code",
      "metadata": {
        "colab": {
          "base_uri": "https://localhost:8080/"
        },
        "id": "fJUGZwdCph2A",
        "outputId": "9be28668-4ed6-4288-ea3b-ed40d2b536f8"
      },
      "source": [
        "X[:5]"
      ],
      "execution_count": null,
      "outputs": [
        {
          "output_type": "execute_result",
          "data": {
            "text/plain": [
              "array([[-0.12946849, -1.21275292,  0.50422488],\n",
              "       [ 0.30291036, -0.43574176, -0.25417986],\n",
              "       [-0.32852189, -0.02530153,  0.13835097],\n",
              "       [-0.35147471, -0.71960511, -0.25821463],\n",
              "       [ 1.2432688 , -0.37379916, -0.52262905]])"
            ]
          },
          "metadata": {
            "tags": []
          },
          "execution_count": 75
        }
      ]
    },
    {
      "cell_type": "code",
      "metadata": {
        "colab": {
          "base_uri": "https://localhost:8080/"
        },
        "id": "sHTV6hjWph57",
        "outputId": "45e29d13-c421-4a27-b9bc-d76371b7fddb"
      },
      "source": [
        "y[:5]"
      ],
      "execution_count": null,
      "outputs": [
        {
          "output_type": "execute_result",
          "data": {
            "text/plain": [
              "array([ 0.42786349, -0.67348041, -0.09087764, -0.48949442, -0.12894109])"
            ]
          },
          "metadata": {
            "tags": []
          },
          "execution_count": 76
        }
      ]
    },
    {
      "cell_type": "markdown",
      "metadata": {
        "id": "2ojnWj2NtzVF"
      },
      "source": [
        "A linear model is generally fitted with an intercept term as we saw before with Patsy. The **sm.add_constant** function can add an intercept column to an existing matrix:"
      ]
    },
    {
      "cell_type": "code",
      "metadata": {
        "id": "0K59jNNLph7K"
      },
      "source": [
        "X_model = sm.add_constant(X)"
      ],
      "execution_count": null,
      "outputs": []
    },
    {
      "cell_type": "code",
      "metadata": {
        "colab": {
          "base_uri": "https://localhost:8080/"
        },
        "id": "ltH0Yik7ph-P",
        "outputId": "47be6066-7cfd-4fca-cfda-9d03fe9766da"
      },
      "source": [
        "X_model[:5]"
      ],
      "execution_count": null,
      "outputs": [
        {
          "output_type": "execute_result",
          "data": {
            "text/plain": [
              "array([[ 1.        , -0.12946849, -1.21275292,  0.50422488],\n",
              "       [ 1.        ,  0.30291036, -0.43574176, -0.25417986],\n",
              "       [ 1.        , -0.32852189, -0.02530153,  0.13835097],\n",
              "       [ 1.        , -0.35147471, -0.71960511, -0.25821463],\n",
              "       [ 1.        ,  1.2432688 , -0.37379916, -0.52262905]])"
            ]
          },
          "metadata": {
            "tags": []
          },
          "execution_count": 78
        }
      ]
    },
    {
      "cell_type": "markdown",
      "metadata": {
        "id": "mV_KnbsTt_Y6"
      },
      "source": [
        "The **sm.OLS** can fit an ordinary least squares linear regression:"
      ]
    },
    {
      "cell_type": "code",
      "metadata": {
        "id": "tpuQS2eXpiC6"
      },
      "source": [
        "model = sm.OLS(y, X)"
      ],
      "execution_count": null,
      "outputs": []
    },
    {
      "cell_type": "markdown",
      "metadata": {
        "id": "-bd29KBsuIfQ"
      },
      "source": [
        "The model’s fit method returns a regression results object containing estimated model parameters and other diagnostics:"
      ]
    },
    {
      "cell_type": "code",
      "metadata": {
        "id": "OcU-tatOpiF5"
      },
      "source": [
        "results = model.fit()"
      ],
      "execution_count": null,
      "outputs": []
    },
    {
      "cell_type": "code",
      "metadata": {
        "colab": {
          "base_uri": "https://localhost:8080/"
        },
        "id": "4QRW_pLfpiIN",
        "outputId": "f5fbd3e4-cd8b-4fd1-bcce-c0c359e349b7"
      },
      "source": [
        "results.params"
      ],
      "execution_count": null,
      "outputs": [
        {
          "output_type": "execute_result",
          "data": {
            "text/plain": [
              "array([0.17826108, 0.22303962, 0.50095093])"
            ]
          },
          "metadata": {
            "tags": []
          },
          "execution_count": 81
        }
      ]
    },
    {
      "cell_type": "code",
      "metadata": {
        "colab": {
          "base_uri": "https://localhost:8080/"
        },
        "id": "EKlthPhypiKf",
        "outputId": "9458d610-7313-49d9-8ff0-2d26aef83ea8"
      },
      "source": [
        "print(results.summary())"
      ],
      "execution_count": null,
      "outputs": [
        {
          "output_type": "stream",
          "text": [
            "                                 OLS Regression Results                                \n",
            "=======================================================================================\n",
            "Dep. Variable:                      y   R-squared (uncentered):                   0.430\n",
            "Model:                            OLS   Adj. R-squared (uncentered):              0.413\n",
            "Method:                 Least Squares   F-statistic:                              24.42\n",
            "Date:                Mon, 18 Jan 2021   Prob (F-statistic):                    7.44e-12\n",
            "Time:                        13:39:50   Log-Likelihood:                         -34.305\n",
            "No. Observations:                 100   AIC:                                      74.61\n",
            "Df Residuals:                      97   BIC:                                      82.42\n",
            "Df Model:                           3                                                  \n",
            "Covariance Type:            nonrobust                                                  \n",
            "==============================================================================\n",
            "                 coef    std err          t      P>|t|      [0.025      0.975]\n",
            "------------------------------------------------------------------------------\n",
            "x1             0.1783      0.053      3.364      0.001       0.073       0.283\n",
            "x2             0.2230      0.046      4.818      0.000       0.131       0.315\n",
            "x3             0.5010      0.080      6.237      0.000       0.342       0.660\n",
            "==============================================================================\n",
            "Omnibus:                        4.662   Durbin-Watson:                   2.201\n",
            "Prob(Omnibus):                  0.097   Jarque-Bera (JB):                4.098\n",
            "Skew:                           0.481   Prob(JB):                        0.129\n",
            "Kurtosis:                       3.243   Cond. No.                         1.74\n",
            "==============================================================================\n",
            "\n",
            "Warnings:\n",
            "[1] Standard Errors assume that the covariance matrix of the errors is correctly specified.\n"
          ],
          "name": "stdout"
        }
      ]
    },
    {
      "cell_type": "markdown",
      "metadata": {
        "id": "8gIZ_z1hulF9"
      },
      "source": [
        "Suppose all of the model parameters are in a DataFrame:"
      ]
    },
    {
      "cell_type": "code",
      "metadata": {
        "id": "FahhHxG0piMn"
      },
      "source": [
        "data = pd.DataFrame(X, columns = ['col0', 'col1', 'col2'])"
      ],
      "execution_count": null,
      "outputs": []
    },
    {
      "cell_type": "code",
      "metadata": {
        "id": "3JdW-Y1CpiRT"
      },
      "source": [
        "data['y'] = y"
      ],
      "execution_count": null,
      "outputs": []
    },
    {
      "cell_type": "code",
      "metadata": {
        "colab": {
          "base_uri": "https://localhost:8080/",
          "height": 204
        },
        "id": "zhD6nugypiSZ",
        "outputId": "8f818725-6233-43f0-b9eb-21ce0d83979e"
      },
      "source": [
        "data[:5]"
      ],
      "execution_count": null,
      "outputs": [
        {
          "output_type": "execute_result",
          "data": {
            "text/html": [
              "<div>\n",
              "<style scoped>\n",
              "    .dataframe tbody tr th:only-of-type {\n",
              "        vertical-align: middle;\n",
              "    }\n",
              "\n",
              "    .dataframe tbody tr th {\n",
              "        vertical-align: top;\n",
              "    }\n",
              "\n",
              "    .dataframe thead th {\n",
              "        text-align: right;\n",
              "    }\n",
              "</style>\n",
              "<table border=\"1\" class=\"dataframe\">\n",
              "  <thead>\n",
              "    <tr style=\"text-align: right;\">\n",
              "      <th></th>\n",
              "      <th>col0</th>\n",
              "      <th>col1</th>\n",
              "      <th>col2</th>\n",
              "      <th>y</th>\n",
              "    </tr>\n",
              "  </thead>\n",
              "  <tbody>\n",
              "    <tr>\n",
              "      <th>0</th>\n",
              "      <td>-0.129468</td>\n",
              "      <td>-1.212753</td>\n",
              "      <td>0.504225</td>\n",
              "      <td>0.427863</td>\n",
              "    </tr>\n",
              "    <tr>\n",
              "      <th>1</th>\n",
              "      <td>0.302910</td>\n",
              "      <td>-0.435742</td>\n",
              "      <td>-0.254180</td>\n",
              "      <td>-0.673480</td>\n",
              "    </tr>\n",
              "    <tr>\n",
              "      <th>2</th>\n",
              "      <td>-0.328522</td>\n",
              "      <td>-0.025302</td>\n",
              "      <td>0.138351</td>\n",
              "      <td>-0.090878</td>\n",
              "    </tr>\n",
              "    <tr>\n",
              "      <th>3</th>\n",
              "      <td>-0.351475</td>\n",
              "      <td>-0.719605</td>\n",
              "      <td>-0.258215</td>\n",
              "      <td>-0.489494</td>\n",
              "    </tr>\n",
              "    <tr>\n",
              "      <th>4</th>\n",
              "      <td>1.243269</td>\n",
              "      <td>-0.373799</td>\n",
              "      <td>-0.522629</td>\n",
              "      <td>-0.128941</td>\n",
              "    </tr>\n",
              "  </tbody>\n",
              "</table>\n",
              "</div>"
            ],
            "text/plain": [
              "       col0      col1      col2         y\n",
              "0 -0.129468 -1.212753  0.504225  0.427863\n",
              "1  0.302910 -0.435742 -0.254180 -0.673480\n",
              "2 -0.328522 -0.025302  0.138351 -0.090878\n",
              "3 -0.351475 -0.719605 -0.258215 -0.489494\n",
              "4  1.243269 -0.373799 -0.522629 -0.128941"
            ]
          },
          "metadata": {
            "tags": []
          },
          "execution_count": 85
        }
      ]
    },
    {
      "cell_type": "code",
      "metadata": {
        "id": "oKg7qVvepiUa"
      },
      "source": [
        "# Create a Model from a formula and dataframe.\n",
        "results = smf.ols('y ~ col0 + col1 + col2', data).fit()"
      ],
      "execution_count": null,
      "outputs": []
    },
    {
      "cell_type": "code",
      "metadata": {
        "colab": {
          "base_uri": "https://localhost:8080/"
        },
        "id": "bjPNAOXwpicB",
        "outputId": "013affd4-4514-486f-86da-366dc250ae17"
      },
      "source": [
        "results.params"
      ],
      "execution_count": null,
      "outputs": [
        {
          "output_type": "execute_result",
          "data": {
            "text/plain": [
              "Intercept    0.033559\n",
              "col0         0.176149\n",
              "col1         0.224826\n",
              "col2         0.514808\n",
              "dtype: float64"
            ]
          },
          "metadata": {
            "tags": []
          },
          "execution_count": 87
        }
      ]
    },
    {
      "cell_type": "code",
      "metadata": {
        "colab": {
          "base_uri": "https://localhost:8080/"
        },
        "id": "IgnJ1XXWpigZ",
        "outputId": "f2a3aebc-0010-49a2-96a1-13a8e25b99b4"
      },
      "source": [
        "results.tvalues"
      ],
      "execution_count": null,
      "outputs": [
        {
          "output_type": "execute_result",
          "data": {
            "text/plain": [
              "Intercept    0.952188\n",
              "col0         3.319754\n",
              "col1         4.850730\n",
              "col2         6.303971\n",
              "dtype: float64"
            ]
          },
          "metadata": {
            "tags": []
          },
          "execution_count": 88
        }
      ]
    },
    {
      "cell_type": "markdown",
      "metadata": {
        "id": "7pF3e0cMvLBh"
      },
      "source": [
        "Observe how statsmodels has returned results as Series with the DataFrame column names attached. We also do not need to use add_constant when using formulas and pandas objects. The sm/smf function will automatically generate intercept values."
      ]
    },
    {
      "cell_type": "markdown",
      "metadata": {
        "id": "JzmtSM-fvNxB"
      },
      "source": [
        "Given new out-of-sample data, you can compute predicted values given the estimated model parameters:"
      ]
    },
    {
      "cell_type": "code",
      "metadata": {
        "colab": {
          "base_uri": "https://localhost:8080/"
        },
        "id": "YrGKywFjpihX",
        "outputId": "6ed18024-3d86-4a08-d15d-69f4e1dc1df1"
      },
      "source": [
        "results.predict(data[:5])"
      ],
      "execution_count": null,
      "outputs": [
        {
          "output_type": "execute_result",
          "data": {
            "text/plain": [
              "0   -0.002327\n",
              "1   -0.141904\n",
              "2    0.041226\n",
              "3   -0.323070\n",
              "4   -0.100535\n",
              "dtype: float64"
            ]
          },
          "metadata": {
            "tags": []
          },
          "execution_count": 90
        }
      ]
    },
    {
      "cell_type": "markdown",
      "metadata": {
        "id": "may0ewOnvg42"
      },
      "source": [
        "## Estimating Time Series Processes"
      ]
    },
    {
      "cell_type": "markdown",
      "metadata": {
        "id": "mhJ4aRXMvpzZ"
      },
      "source": [
        "Let's simulate some time series data with an autoregressive structure and noise:"
      ]
    },
    {
      "cell_type": "code",
      "metadata": {
        "id": "pffwCVrDpiiY"
      },
      "source": [
        "init_x = 4"
      ],
      "execution_count": null,
      "outputs": []
    },
    {
      "cell_type": "code",
      "metadata": {
        "id": "FnjO8qr3m4-K"
      },
      "source": [
        "import random\n",
        "values = [init_x, init_x]\n",
        "N = 1000"
      ],
      "execution_count": null,
      "outputs": []
    },
    {
      "cell_type": "code",
      "metadata": {
        "id": "VpDl4RFrm5UY"
      },
      "source": [
        "b0 = 0.8\n",
        "b1 = -0.4\n",
        "noise = dnorm(0, 0.1, N)\n",
        "for i in range(N):\n",
        "  new_x = values[-1] * b0 + values[-2] * b1 + noise[i]\n",
        "  values.append(new_x)"
      ],
      "execution_count": null,
      "outputs": []
    },
    {
      "cell_type": "markdown",
      "metadata": {
        "id": "p_M_pMYKwTkY"
      },
      "source": [
        "This data has an AR(2) structure (two lags) with parameters 0.8 and –0.4. When you fit an AR model, you may not know the number of lagged terms to include, so you can fit the model with some larger number of lags:"
      ]
    },
    {
      "cell_type": "code",
      "metadata": {
        "id": "yzs5gvn_m5XH"
      },
      "source": [
        "MAXLAGS = 5"
      ],
      "execution_count": null,
      "outputs": []
    },
    {
      "cell_type": "code",
      "metadata": {
        "id": "VHf-1E8Ym5aD"
      },
      "source": [
        "model = sm.tsa.AR(values)"
      ],
      "execution_count": null,
      "outputs": []
    },
    {
      "cell_type": "code",
      "metadata": {
        "id": "DG0wimN4m5cX"
      },
      "source": [
        "results = model.fit(MAXLAGS)"
      ],
      "execution_count": null,
      "outputs": []
    },
    {
      "cell_type": "markdown",
      "metadata": {
        "id": "QUidi3bPwgKG"
      },
      "source": [
        "The estimated parameters in the results have the intercept first and the estimates for the first two lags next:"
      ]
    },
    {
      "cell_type": "code",
      "metadata": {
        "colab": {
          "base_uri": "https://localhost:8080/"
        },
        "id": "J-kx8yYXwi51",
        "outputId": "48269124-cc4d-4db6-d855-b10543ea2f5a"
      },
      "source": [
        "results.params"
      ],
      "execution_count": null,
      "outputs": [
        {
          "output_type": "execute_result",
          "data": {
            "text/plain": [
              "array([-0.00616093,  0.78446347, -0.40847891, -0.01364148,  0.01496872,\n",
              "        0.01429462])"
            ]
          },
          "metadata": {
            "tags": []
          },
          "execution_count": 97
        }
      ]
    },
    {
      "cell_type": "markdown",
      "metadata": {
        "id": "5E8_9mQZwi9J"
      },
      "source": [
        "# 13.4 Introduction to scikit-learn"
      ]
    },
    {
      "cell_type": "markdown",
      "metadata": {
        "id": "wTrP18h-w7zq"
      },
      "source": [
        "scikit-learn is one of the most widely used and trusted general-purpose Python machine learning toolkits. It contains a broad selection of **standard supervised and unsupervised machine learning methods with tools for model selection and evaluation, data transformation, data loading, and model persistence. These models can be used for classification, clustering, prediction, and other common tasks.**"
      ]
    },
    {
      "cell_type": "markdown",
      "metadata": {
        "id": "oKp5VTaexN-X"
      },
      "source": [
        "Use a now-classic dataset from a Kaggle competition about passenger survival rates on the Titanic, which sank in 1912. We load the test and training dataset using pandas:"
      ]
    },
    {
      "cell_type": "code",
      "metadata": {
        "id": "bBt9MG68wjAm"
      },
      "source": [
        "train = pd.read_csv('train.csv')"
      ],
      "execution_count": null,
      "outputs": []
    },
    {
      "cell_type": "code",
      "metadata": {
        "id": "sZvPbNkZwjDy"
      },
      "source": [
        "test = pd.read_csv('test.csv')"
      ],
      "execution_count": null,
      "outputs": []
    },
    {
      "cell_type": "code",
      "metadata": {
        "colab": {
          "base_uri": "https://localhost:8080/",
          "height": 431
        },
        "id": "NZwFQPVLwjG6",
        "outputId": "2a616dea-17cf-4d52-a022-1c8e1d5785a3"
      },
      "source": [
        "train[:4]"
      ],
      "execution_count": null,
      "outputs": [
        {
          "output_type": "execute_result",
          "data": {
            "text/html": [
              "<div>\n",
              "<style scoped>\n",
              "    .dataframe tbody tr th:only-of-type {\n",
              "        vertical-align: middle;\n",
              "    }\n",
              "\n",
              "    .dataframe tbody tr th {\n",
              "        vertical-align: top;\n",
              "    }\n",
              "\n",
              "    .dataframe thead th {\n",
              "        text-align: right;\n",
              "    }\n",
              "</style>\n",
              "<table border=\"1\" class=\"dataframe\">\n",
              "  <thead>\n",
              "    <tr style=\"text-align: right;\">\n",
              "      <th></th>\n",
              "      <th>PassengerId</th>\n",
              "      <th>Survived</th>\n",
              "      <th>Pclass</th>\n",
              "      <th>Name</th>\n",
              "      <th>Sex</th>\n",
              "      <th>Age</th>\n",
              "      <th>SibSp</th>\n",
              "      <th>Parch</th>\n",
              "      <th>Ticket</th>\n",
              "      <th>Fare</th>\n",
              "      <th>Cabin</th>\n",
              "      <th>Embarked</th>\n",
              "    </tr>\n",
              "  </thead>\n",
              "  <tbody>\n",
              "    <tr>\n",
              "      <th>0</th>\n",
              "      <td>1</td>\n",
              "      <td>0</td>\n",
              "      <td>3</td>\n",
              "      <td>Braund, Mr. Owen Harris</td>\n",
              "      <td>male</td>\n",
              "      <td>22.0</td>\n",
              "      <td>1</td>\n",
              "      <td>0</td>\n",
              "      <td>A/5 21171</td>\n",
              "      <td>7.2500</td>\n",
              "      <td>NaN</td>\n",
              "      <td>S</td>\n",
              "    </tr>\n",
              "    <tr>\n",
              "      <th>1</th>\n",
              "      <td>2</td>\n",
              "      <td>1</td>\n",
              "      <td>1</td>\n",
              "      <td>Cumings, Mrs. John Bradley (Florence Briggs Th...</td>\n",
              "      <td>female</td>\n",
              "      <td>38.0</td>\n",
              "      <td>1</td>\n",
              "      <td>0</td>\n",
              "      <td>PC 17599</td>\n",
              "      <td>71.2833</td>\n",
              "      <td>C85</td>\n",
              "      <td>C</td>\n",
              "    </tr>\n",
              "    <tr>\n",
              "      <th>2</th>\n",
              "      <td>3</td>\n",
              "      <td>1</td>\n",
              "      <td>3</td>\n",
              "      <td>Heikkinen, Miss. Laina</td>\n",
              "      <td>female</td>\n",
              "      <td>26.0</td>\n",
              "      <td>0</td>\n",
              "      <td>0</td>\n",
              "      <td>STON/O2. 3101282</td>\n",
              "      <td>7.9250</td>\n",
              "      <td>NaN</td>\n",
              "      <td>S</td>\n",
              "    </tr>\n",
              "    <tr>\n",
              "      <th>3</th>\n",
              "      <td>4</td>\n",
              "      <td>1</td>\n",
              "      <td>1</td>\n",
              "      <td>Futrelle, Mrs. Jacques Heath (Lily May Peel)</td>\n",
              "      <td>female</td>\n",
              "      <td>35.0</td>\n",
              "      <td>1</td>\n",
              "      <td>0</td>\n",
              "      <td>113803</td>\n",
              "      <td>53.1000</td>\n",
              "      <td>C123</td>\n",
              "      <td>S</td>\n",
              "    </tr>\n",
              "  </tbody>\n",
              "</table>\n",
              "</div>"
            ],
            "text/plain": [
              "   PassengerId  Survived  Pclass  ...     Fare Cabin  Embarked\n",
              "0            1         0       3  ...   7.2500   NaN         S\n",
              "1            2         1       1  ...  71.2833   C85         C\n",
              "2            3         1       3  ...   7.9250   NaN         S\n",
              "3            4         1       1  ...  53.1000  C123         S\n",
              "\n",
              "[4 rows x 12 columns]"
            ]
          },
          "metadata": {
            "tags": []
          },
          "execution_count": 102
        }
      ]
    },
    {
      "cell_type": "code",
      "metadata": {
        "colab": {
          "base_uri": "https://localhost:8080/"
        },
        "id": "C7R0AnyJwjJZ",
        "outputId": "cec0d67c-47a7-44ce-8cfb-c4ba23c13cb5"
      },
      "source": [
        "# look at the columns to check for missing data\n",
        "train.isnull().sum()"
      ],
      "execution_count": null,
      "outputs": [
        {
          "output_type": "execute_result",
          "data": {
            "text/plain": [
              "PassengerId      0\n",
              "Survived         0\n",
              "Pclass           0\n",
              "Name             0\n",
              "Sex              0\n",
              "Age            177\n",
              "SibSp            0\n",
              "Parch            0\n",
              "Ticket           0\n",
              "Fare             0\n",
              "Cabin          687\n",
              "Embarked         2\n",
              "dtype: int64"
            ]
          },
          "metadata": {
            "tags": []
          },
          "execution_count": 103
        }
      ]
    },
    {
      "cell_type": "code",
      "metadata": {
        "colab": {
          "base_uri": "https://localhost:8080/"
        },
        "id": "h5m_6L1owjLq",
        "outputId": "6caaf99e-f60d-40a4-a990-c477707c470d"
      },
      "source": [
        "test.isnull().sum()"
      ],
      "execution_count": null,
      "outputs": [
        {
          "output_type": "execute_result",
          "data": {
            "text/plain": [
              "PassengerId      0\n",
              "Pclass           0\n",
              "Name             0\n",
              "Sex              0\n",
              "Age             86\n",
              "SibSp            0\n",
              "Parch            0\n",
              "Ticket           0\n",
              "Fare             1\n",
              "Cabin          327\n",
              "Embarked         0\n",
              "dtype: int64"
            ]
          },
          "metadata": {
            "tags": []
          },
          "execution_count": 104
        }
      ]
    },
    {
      "cell_type": "markdown",
      "metadata": {
        "id": "eCQXmmkSyeDU"
      },
      "source": [
        "In statistics and machine learning examples like this one, a typical task is to predict whether a passenger would survive based on features in the data. A model is fitted on a training dataset and then evaluated on an out-of-sample testing dataset."
      ]
    },
    {
      "cell_type": "markdown",
      "metadata": {
        "id": "Eqo2X4-yyiU7"
      },
      "source": [
        "Use Age as a predictor, but we need to first deal with missing values. There are a number of ways to do missing data imputation, but I will do a simple one and use the median of the training dataset to fill the nulls in both tables:"
      ]
    },
    {
      "cell_type": "code",
      "metadata": {
        "id": "1hCuovnxwjOH"
      },
      "source": [
        "impute_value = train['Age'].median()"
      ],
      "execution_count": null,
      "outputs": []
    },
    {
      "cell_type": "code",
      "metadata": {
        "id": "MsZWk3SrwjQp"
      },
      "source": [
        "train['Age'] = train['Age'].fillna(impute_value)"
      ],
      "execution_count": null,
      "outputs": []
    },
    {
      "cell_type": "code",
      "metadata": {
        "id": "W2eWs6XPm07U"
      },
      "source": [
        "test['Age'] = test['Age'].fillna(impute_value)"
      ],
      "execution_count": null,
      "outputs": []
    },
    {
      "cell_type": "markdown",
      "metadata": {
        "id": "m1tPpaxhy3y_"
      },
      "source": [
        "Now we need to specify our models. Add a column IsFemale as an encoded version of Sex column"
      ]
    },
    {
      "cell_type": "code",
      "metadata": {
        "id": "m3F57tSAm09d"
      },
      "source": [
        "train['IsFemale'] = (train['Sex'] == 'female').astype(int)"
      ],
      "execution_count": null,
      "outputs": []
    },
    {
      "cell_type": "code",
      "metadata": {
        "id": "viMDW1YOm1A_"
      },
      "source": [
        "test['IsFemale'] = (test['Sex'] == 'female').astype(int)"
      ],
      "execution_count": null,
      "outputs": []
    },
    {
      "cell_type": "markdown",
      "metadata": {
        "id": "-yo3sdqbzLlf"
      },
      "source": [
        "Then we decide on some model variables and create Numpy arrays"
      ]
    },
    {
      "cell_type": "code",
      "metadata": {
        "id": "AccNRCs6Yr6H"
      },
      "source": [
        "predictors = ['Pclass', 'IsFemale', 'Age']"
      ],
      "execution_count": null,
      "outputs": []
    },
    {
      "cell_type": "code",
      "metadata": {
        "id": "Mf0T6xjpy8PG"
      },
      "source": [
        "X_train = train[predictors].values"
      ],
      "execution_count": null,
      "outputs": []
    },
    {
      "cell_type": "code",
      "metadata": {
        "id": "__q4G9x3zWm8"
      },
      "source": [
        "X_test = test[predictors].values"
      ],
      "execution_count": null,
      "outputs": []
    },
    {
      "cell_type": "code",
      "metadata": {
        "id": "wqiMF9DRzf12"
      },
      "source": [
        "y_train = train['Survived'].values"
      ],
      "execution_count": null,
      "outputs": []
    },
    {
      "cell_type": "code",
      "metadata": {
        "colab": {
          "base_uri": "https://localhost:8080/"
        },
        "id": "vEXFeRFxzf5d",
        "outputId": "52d7c353-3d3f-4a7e-a8f6-877780076130"
      },
      "source": [
        "X_train[:2]"
      ],
      "execution_count": null,
      "outputs": [
        {
          "output_type": "execute_result",
          "data": {
            "text/plain": [
              "array([[ 3.,  0., 22.],\n",
              "       [ 1.,  1., 38.]])"
            ]
          },
          "metadata": {
            "tags": []
          },
          "execution_count": 113
        }
      ]
    },
    {
      "cell_type": "code",
      "metadata": {
        "colab": {
          "base_uri": "https://localhost:8080/"
        },
        "id": "hnfZP_Xizf8_",
        "outputId": "29a3ddc1-127e-4871-cae5-658e49248b95"
      },
      "source": [
        "y_train[:2]"
      ],
      "execution_count": null,
      "outputs": [
        {
          "output_type": "execute_result",
          "data": {
            "text/plain": [
              "array([0, 1])"
            ]
          },
          "metadata": {
            "tags": []
          },
          "execution_count": 114
        }
      ]
    },
    {
      "cell_type": "markdown",
      "metadata": {
        "id": "-I5GU7j8zp2y"
      },
      "source": [
        "We use the LogisticRegression model from scikit-learn and create a model instance:"
      ]
    },
    {
      "cell_type": "code",
      "metadata": {
        "id": "nE_nCirAzf_Y"
      },
      "source": [
        "from sklearn.linear_model import LogisticRegression"
      ],
      "execution_count": null,
      "outputs": []
    },
    {
      "cell_type": "code",
      "metadata": {
        "id": "tZ5pOuH3zgCT"
      },
      "source": [
        "model = LogisticRegression()"
      ],
      "execution_count": null,
      "outputs": []
    },
    {
      "cell_type": "code",
      "metadata": {
        "colab": {
          "base_uri": "https://localhost:8080/"
        },
        "id": "_okWbV0izgEP",
        "outputId": "6d9f0edd-1df0-4ff2-e115-3b28e304d23a"
      },
      "source": [
        "model.fit(X_train, y_train)"
      ],
      "execution_count": null,
      "outputs": [
        {
          "output_type": "execute_result",
          "data": {
            "text/plain": [
              "LogisticRegression(C=1.0, class_weight=None, dual=False, fit_intercept=True,\n",
              "                   intercept_scaling=1, l1_ratio=None, max_iter=100,\n",
              "                   multi_class='auto', n_jobs=None, penalty='l2',\n",
              "                   random_state=None, solver='lbfgs', tol=0.0001, verbose=0,\n",
              "                   warm_start=False)"
            ]
          },
          "metadata": {
            "tags": []
          },
          "execution_count": 117
        }
      ]
    },
    {
      "cell_type": "code",
      "metadata": {
        "id": "bHLbpE9QzgHm"
      },
      "source": [
        "y_predict = model.predict(X_test)"
      ],
      "execution_count": null,
      "outputs": []
    },
    {
      "cell_type": "code",
      "metadata": {
        "colab": {
          "base_uri": "https://localhost:8080/"
        },
        "id": "htbuVAylzgMw",
        "outputId": "a6debefe-1fe5-48f5-8965-5b8c8ab43a0e"
      },
      "source": [
        "y_predict[: 10]"
      ],
      "execution_count": null,
      "outputs": [
        {
          "output_type": "execute_result",
          "data": {
            "text/plain": [
              "array([0, 0, 0, 0, 1, 0, 1, 0, 1, 0])"
            ]
          },
          "metadata": {
            "tags": []
          },
          "execution_count": 121
        }
      ]
    },
    {
      "cell_type": "markdown",
      "metadata": {
        "id": "bOAk_DXaz_nJ"
      },
      "source": [
        "Compute an accuracy per‐ centage or some other error metric:"
      ]
    },
    {
      "cell_type": "markdown",
      "metadata": {
        "id": "k4U258y60LXS"
      },
      "source": [
        "Many models have parameters that can be tuned, and there are techniques such as cross-validation that can be used for parameter tuning to avoid overfitting to the training data. This can often yield better predictive performance or robustness on new data.\n",
        "\n",
        "Cross-validation works by splitting the training data to simulate out-of-sample pre‐ diction. Based on a model accuracy score like mean squared error, one can perform a grid search on model parameters. Some models, like logistic regression, have estima‐ tor classes with built-in cross-validation. For example, the LogisticRegressionCV class can be used with a parameter indicating how fine-grained of a grid search to do on the model regularization parameter C:"
      ]
    },
    {
      "cell_type": "code",
      "metadata": {
        "id": "i9vmou-wz9dz"
      },
      "source": [
        "from sklearn.linear_model import LogisticRegressionCV"
      ],
      "execution_count": null,
      "outputs": []
    },
    {
      "cell_type": "code",
      "metadata": {
        "id": "eEO4-74Iz9mS"
      },
      "source": [
        "model_cv = LogisticRegressionCV(10)"
      ],
      "execution_count": null,
      "outputs": []
    },
    {
      "cell_type": "code",
      "metadata": {
        "colab": {
          "base_uri": "https://localhost:8080/"
        },
        "id": "ayrgGjcA0UOB",
        "outputId": "27f4cb0a-ac5b-4f24-a4e9-c0afdbe7f41b"
      },
      "source": [
        "model_cv.fit(X_train, y_train)"
      ],
      "execution_count": null,
      "outputs": [
        {
          "output_type": "execute_result",
          "data": {
            "text/plain": [
              "LogisticRegressionCV(Cs=10, class_weight=None, cv=None, dual=False,\n",
              "                     fit_intercept=True, intercept_scaling=1.0, l1_ratios=None,\n",
              "                     max_iter=100, multi_class='auto', n_jobs=None,\n",
              "                     penalty='l2', random_state=None, refit=True, scoring=None,\n",
              "                     solver='lbfgs', tol=0.0001, verbose=0)"
            ]
          },
          "metadata": {
            "tags": []
          },
          "execution_count": 125
        }
      ]
    },
    {
      "cell_type": "markdown",
      "metadata": {
        "id": "ShawwTQb0qTG"
      },
      "source": [
        "To do cross-validation by hand, you can use the cross_val_score helper function, which handles the data splitting process. For example, to cross-validate our model with four non-overlapping splits of the training data, we can do:"
      ]
    },
    {
      "cell_type": "code",
      "metadata": {
        "id": "MWl1wDdW0X7f"
      },
      "source": [
        "from sklearn.model_selection import cross_val_score"
      ],
      "execution_count": null,
      "outputs": []
    },
    {
      "cell_type": "code",
      "metadata": {
        "id": "j8Bvfkaf0cmh"
      },
      "source": [
        "model = LogisticRegression(C = 10)"
      ],
      "execution_count": null,
      "outputs": []
    },
    {
      "cell_type": "code",
      "metadata": {
        "id": "DOYTpu0Q0gUZ"
      },
      "source": [
        "scores = cross_val_score(model, X_train, y_train, cv = 4)"
      ],
      "execution_count": null,
      "outputs": []
    },
    {
      "cell_type": "code",
      "metadata": {
        "colab": {
          "base_uri": "https://localhost:8080/"
        },
        "id": "z2M63dT_0lkr",
        "outputId": "1aba110a-17ef-4e3b-904d-fb05a38574ec"
      },
      "source": [
        "scores"
      ],
      "execution_count": null,
      "outputs": [
        {
          "output_type": "execute_result",
          "data": {
            "text/plain": [
              "array([0.77578475, 0.79820628, 0.77578475, 0.78828829])"
            ]
          },
          "metadata": {
            "tags": []
          },
          "execution_count": 129
        }
      ]
    },
    {
      "cell_type": "code",
      "metadata": {
        "id": "jm0s8Xsa0mD8"
      },
      "source": [
        ""
      ],
      "execution_count": null,
      "outputs": []
    }
  ]
}